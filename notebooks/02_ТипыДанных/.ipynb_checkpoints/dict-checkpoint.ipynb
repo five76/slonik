{
 "cells": [
  {
   "cell_type": "code",
   "execution_count": null,
   "id": "4c606189-cb44-4e60-8097-1e9d837e295d",
   "metadata": {},
   "outputs": [],
   "source": []
  }
 ],
 "metadata": {
  "kernelspec": {
   "display_name": "",
   "name": ""
  },
  "language_info": {
   "name": ""
  }
 },
 "nbformat": 4,
 "nbformat_minor": 5
}
