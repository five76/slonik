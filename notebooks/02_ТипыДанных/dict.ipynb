{
 "cells": [
  {
   "cell_type": "code",
   "execution_count": 1,
   "id": "4c606189-cb44-4e60-8097-1e9d837e295d",
   "metadata": {},
   "outputs": [],
   "source": [
    "client_dict = {'cl1_01': 'Pr01', 'cl2_01':'Pr02', 'cl3_01':'Pr03','cl4_01':'Pr02','cl1_02':'Pr03', 'cl5_01':'Pr02','cl1_03':'Pr02'}"
   ]
  },
  {
   "cell_type": "code",
   "execution_count": 5,
   "id": "1afce6d1-8ce4-4428-b516-2496037603de",
   "metadata": {},
   "outputs": [],
   "source": [
    "a = list(client_dict.values())"
   ]
  },
  {
   "cell_type": "code",
   "execution_count": 6,
   "id": "469b9a09-f993-41ed-8d75-5373b02a2fb5",
   "metadata": {},
   "outputs": [
    {
     "data": {
      "text/plain": [
       "['Tur1', 'Tur1', 'Tur3', 'Tur2', 'Tur3']"
      ]
     },
     "execution_count": 6,
     "metadata": {},
     "output_type": "execute_result"
    }
   ],
   "source": [
    "a"
   ]
  },
  {
   "cell_type": "code",
   "execution_count": 7,
   "id": "d31342bf-efb5-483a-bbcb-c35e5bc5f635",
   "metadata": {},
   "outputs": [
    {
     "data": {
      "text/plain": [
       "2"
      ]
     },
     "execution_count": 7,
     "metadata": {},
     "output_type": "execute_result"
    }
   ],
   "source": [
    "a.count('Tur1')"
   ]
  },
  {
   "cell_type": "code",
   "execution_count": null,
   "id": "7f8328fd-0e64-40ec-b0d8-da074335590d",
   "metadata": {},
   "outputs": [],
   "source": []
  }
 ],
 "metadata": {
  "kernelspec": {
   "display_name": "Python 3 (ipykernel)",
   "language": "python",
   "name": "python3"
  },
  "language_info": {
   "codemirror_mode": {
    "name": "ipython",
    "version": 3
   },
   "file_extension": ".py",
   "mimetype": "text/x-python",
   "name": "python",
   "nbconvert_exporter": "python",
   "pygments_lexer": "ipython3",
   "version": "3.11.6"
  }
 },
 "nbformat": 4,
 "nbformat_minor": 5
}
