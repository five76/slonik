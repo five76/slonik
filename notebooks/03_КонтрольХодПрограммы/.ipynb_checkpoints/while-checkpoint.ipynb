{
 "cells": [
  {
   "cell_type": "markdown",
   "id": "55d5e219",
   "metadata": {},
   "source": [
    "<div class=\"alert alert-success\">\n",
    "\n",
    "    \n",
    "## Цикл while\n",
    "\n",
    "\n",
    "Очень часто одно и то же действие надо выполнить для набора однотипных данных. Например, преобразовать все строки в списке в верхний регистр. Для выполнения таких действий в Python используется цикл for.\n",
    "\n",
    "Цикл **while** используется в случаях, когда количество итераций цикла неопределено (при неправильном подходе может оказаться и бесконечным)\n",
    "    \n",
    "Синтаксис:\n",
    "\n",
    "    while <условие>:\n",
    "        тело цикла\n",
    "    \n",
    "    \n",
    "</div>"
   ]
  },
  {
   "cell_type": "markdown",
   "id": "43b0cd5e",
   "metadata": {},
   "source": [
    "*Печатать значения, пока их значения меньше 6*"
   ]
  },
  {
   "cell_type": "code",
   "execution_count": 58,
   "id": "c2e0a05a",
   "metadata": {},
   "outputs": [
    {
     "name": "stdout",
     "output_type": "stream",
     "text": [
      "1\n",
      "2\n",
      "3\n",
      "4\n",
      "5\n"
     ]
    }
   ],
   "source": [
    "i = 1\n",
    "while i < 6:\n",
    "  print(i)\n",
    "  i += 1"
   ]
  },
  {
   "cell_type": "markdown",
   "id": "e94ec8d5",
   "metadata": {},
   "source": [
    "*Заполнять с клавиатуры список строками, пока не будет введена пустая строка*"
   ]
  },
  {
   "cell_type": "code",
   "execution_count": 61,
   "id": "f0959737",
   "metadata": {},
   "outputs": [
    {
     "name": "stdout",
     "output_type": "stream",
     "text": [
      "Введите строку:Visual Studio Code\n",
      "Введите строку:PyCharm\n",
      "Введите строку:Jupyter Notebook\n",
      "Введите строку:\n",
      "['Visual Studio Code', 'PyCharm', 'Jupyter Notebook']\n"
     ]
    }
   ],
   "source": [
    "my_list = []\n",
    "input_string = input('Введите строку:')\n",
    "while input_string:\n",
    "    my_list.append(input_string)\n",
    "    input_string = input('Введите строку:')\n",
    "print(my_list)"
   ]
  },
  {
   "cell_type": "markdown",
   "id": "130c772f",
   "metadata": {},
   "source": [
    "2 способ:"
   ]
  },
  {
   "cell_type": "code",
   "execution_count": 67,
   "id": "86d460b7",
   "metadata": {},
   "outputs": [
    {
     "name": "stdout",
     "output_type": "stream",
     "text": [
      "Введите строку:Роза\n",
      "Введите строку:Астра\n",
      "Введите строку:\n",
      "['Роза', 'Астра']\n"
     ]
    }
   ],
   "source": [
    "my_list = []\n",
    "while True:\n",
    "    # Запрос и чтение строки\n",
    "    input_string = input('Введите строку:')\n",
    "    # Если введена пустая строка, то input_string - это False \n",
    "    # => not input_string - это True\n",
    "    if not input_string:\n",
    "        break\n",
    "    my_list.append(input_string)\n",
    "    \n",
    "print(my_list)"
   ]
  },
  {
   "cell_type": "markdown",
   "id": "74456a97",
   "metadata": {},
   "source": [
    "Операции **continue**, **break**, **else** применяются аналогично for"
   ]
  },
  {
   "cell_type": "code",
   "execution_count": 75,
   "id": "d96e9cc0",
   "metadata": {},
   "outputs": [
    {
     "name": "stdout",
     "output_type": "stream",
     "text": [
      "2380958381552\n",
      "2381070687408\n",
      "2380958381552\n"
     ]
    },
    {
     "data": {
      "text/plain": [
       "'test'"
      ]
     },
     "execution_count": 75,
     "metadata": {},
     "output_type": "execute_result"
    }
   ],
   "source": [
    "def mutate_string(s):\n",
    "    print(id(s))\n",
    "    s = s + ' mutated'\n",
    "    print(id(s))\n",
    "    \n",
    "s = 'test'\n",
    "mutate_string(s)\n",
    "print(id(s))\n",
    "s\n",
    "'test'\n"
   ]
  },
  {
   "cell_type": "markdown",
   "id": "f6f33f5f",
   "metadata": {},
   "source": [
    "### Примеры решения задач"
   ]
  },
  {
   "cell_type": "markdown",
   "id": "c9c51aca",
   "metadata": {},
   "source": [
    "#### Число-перевертыш"
   ]
  },
  {
   "cell_type": "markdown",
   "id": "838b3a06",
   "metadata": {},
   "source": [
    "Дано целое число n, записать его в обратном порядке"
   ]
  },
  {
   "cell_type": "code",
   "execution_count": null,
   "id": "1b3721ba",
   "metadata": {},
   "outputs": [],
   "source": []
  },
  {
   "cell_type": "markdown",
   "id": "2f6f3ae6",
   "metadata": {},
   "source": [
    "#### Тайный агент"
   ]
  },
  {
   "cell_type": "markdown",
   "id": "f4cc1ece",
   "metadata": {},
   "source": [
    "Начальник отдела Яков, с детства читавший книжки про шпионов,  решил пускать на свою страничку в Интернете только тех сотрудников, чьи никнеймы есть в его секретном списке. Каждому он придумал секретное имя.\n",
    "\n",
    "Список такой: Ладор, Фенйог, Древосан, Боронос, Симпано, Змезнай.\n",
    "\n",
    "По мере увеличения штата сотрудников список дополняется.\n",
    "\n",
    "Задача сотрудника Змезная, (а это Вы) такова: написать код, который будет спрашивать у сотрудника его ник и \n",
    "либо пускать на страницу \"Пробонд\" (Просто Бонд) с выводом сообщение «Заходи, {НИК_ПОСЕТИТЕЛЯ}, хвоcта нет?!», \n",
    "либо нет (в этом случае будет такой текст: «Ушел на базу»). \n",
    "Ну что же, у каждого свои странности.\n",
    "\n",
    "Для проверки тайных имен сотрудников использовать встроенную функцию input()."
   ]
  },
  {
   "cell_type": "markdown",
   "id": "4ce8c9f0",
   "metadata": {},
   "source": []
  },
  {
   "cell_type": "code",
   "execution_count": null,
   "id": "202201ff",
   "metadata": {},
   "outputs": [],
   "source": []
  },
  {
   "cell_type": "code",
   "execution_count": null,
   "id": "f58e1514",
   "metadata": {},
   "outputs": [],
   "source": []
  }
 ],
 "metadata": {
  "kernelspec": {
   "display_name": "Python 3 (ipykernel)",
   "language": "python",
   "name": "python3"
  },
  "language_info": {
   "codemirror_mode": {
    "name": "ipython",
    "version": 3
   },
   "file_extension": ".py",
   "mimetype": "text/x-python",
   "name": "python",
   "nbconvert_exporter": "python",
   "pygments_lexer": "ipython3",
   "version": "3.9.13"
  },
  "toc": {
   "base_numbering": 1,
   "nav_menu": {},
   "number_sections": true,
   "sideBar": true,
   "skip_h1_title": false,
   "title_cell": "Table of Contents",
   "title_sidebar": "Contents",
   "toc_cell": false,
   "toc_position": {},
   "toc_section_display": true,
   "toc_window_display": false
  }
 },
 "nbformat": 4,
 "nbformat_minor": 5
}
