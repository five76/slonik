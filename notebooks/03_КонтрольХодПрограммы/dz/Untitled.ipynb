{
 "cells": [
  {
   "cell_type": "code",
   "execution_count": 34,
   "id": "e1605dfc",
   "metadata": {},
   "outputs": [
    {
     "name": "stdout",
     "output_type": "stream",
     "text": [
      "Глуховская В. Б. - 1983\n",
      "Солопов Г. А. - 1972\n",
      "[['Глуховская', '1983'], ['Солопов', '1972']]\n",
      "[['Солопов', '1972'], ['Глуховская', '1983']]\n"
     ]
    }
   ],
   "source": [
    "dict_empl = {'gvb': 'Глуховская Виталия Брониславовна, 21.01.1983',\n",
    "     'nvf': 'Наумов Валентин Филатович, 12.05.2000',\n",
    "     'sga': 'Солопов Григорий Анатольевич, 11.11.1972',\n",
    "     'mla':'Моисеева Лера Абрамовна, 05.06.2001'\n",
    "    }\n",
    "lst_emp = []\n",
    "for id, empl_string in  dict_empl.items():\n",
    "    fio, bd = empl_string.split(',')\n",
    "    ln, fn, mn = fio.split()\n",
    "    d, m, y = bd.split('.')\n",
    "    if int(y) < 2000:\n",
    "        print(f'{ln} {fn[0]}. {mn[0]}. - {y}')\n",
    "        lst_emp.append([ln, y])\n",
    "print(lst_emp)\n",
    "\n",
    "\n",
    "\n",
    "lst_emp.sort(key = lambda x: x[1])\n",
    "\n",
    "print(lst_emp)\n",
    "\n",
    "    #elif int(y) == max_year:\n",
    "        #max_year=int(y)\n",
    "       # print(f'{ln} {fn[0]}. {mn[0]}. - {y}')"
   ]
  },
  {
   "cell_type": "code",
   "execution_count": 30,
   "id": "fc608183",
   "metadata": {},
   "outputs": [],
   "source": [
    "prisoners = ['Алкоголик_1', 'Тунеядец_1','Хулиган_1',\n",
    "             'Алкоголик_2', 'Тунеядец_2','Хулиган_2',\n",
    "            'Алкоголик_3', 'Тунеядец_3','Хулиган_3',\n",
    "            'Алкоголик_4', 'Тунеядец_4','Хулиган_4'\n",
    "            ]"
   ]
  },
  {
   "cell_type": "code",
   "execution_count": 31,
   "id": "eafa16a6",
   "metadata": {},
   "outputs": [],
   "source": [
    "work_orders = {'Песчаный карьер': 2, \n",
    "               'Цементный завод': 3,\n",
    "               'Погрузка угля':2,\n",
    "               'Уборка конюшен':1,\n",
    "               'Мясокомбинат': 0\n",
    "              }"
   ]
  },
  {
   "cell_type": "code",
   "execution_count": 32,
   "id": "e9e3ec9e",
   "metadata": {
    "scrolled": true
   },
   "outputs": [
    {
     "name": "stdout",
     "output_type": "stream",
     "text": [
      "{'Песчаный карьер': 'Алкоголик_1'}\n",
      "{'Песчаный карьер': 'Хулиган_4'}\n",
      "{'Цементный завод': 'Алкоголик_4'}\n",
      "{'Цементный завод': 'Хулиган_3'}\n",
      "{'Цементный завод': 'Тунеядец_2'}\n",
      "{'Погрузка угля': 'Хулиган_1'}\n",
      "{'Погрузка угля': 'Тунеядец_1'}\n",
      "{'Уборка конюшен': 'Алкоголик_3'}\n",
      "{'Уборка улиц': 'Тунеядец_4'}\n",
      "{'Уборка улиц': 'Тунеядец_3'}\n",
      "{'Уборка улиц': 'Хулиган_2'}\n",
      "{'Уборка улиц': 'Алкоголик_2'}\n"
     ]
    }
   ],
   "source": [
    "#Создаем список заключенных\n",
    "prisoners_pile = set(prisoners)\n",
    "\n",
    "#Создаем список работомест\n",
    "jobs = []\n",
    "for work, qt in work_orders.items():\n",
    "    for i in range(1,qt+1):\n",
    "        jobs.append(work)\n",
    "        \n",
    "#Добавляем рабочие места для остальных заключенных\n",
    "for i in range(1,(len(prisoners_pile)-len(jobs))+1):\n",
    "\n",
    "    jobs.append(\"Уборка улиц\")\n",
    "               \n",
    "#Создаем список с заключенными и работами\n",
    "works_for_prisoners = []\n",
    "for j in jobs:\n",
    "    my_tuple = dict()\n",
    "    #Достаем случайного заключенного\n",
    "    next_prisoner =  prisoners_pile.pop()\n",
    "    my_tuple[j] = next_prisoner\n",
    "    print(my_tuple)\n",
    "\n"
   ]
  },
  {
   "cell_type": "code",
   "execution_count": null,
   "id": "59e808a9",
   "metadata": {},
   "outputs": [],
   "source": []
  }
 ],
 "metadata": {
  "kernelspec": {
   "display_name": "Python 3 (ipykernel)",
   "language": "python",
   "name": "python3"
  },
  "language_info": {
   "codemirror_mode": {
    "name": "ipython",
    "version": 3
   },
   "file_extension": ".py",
   "mimetype": "text/x-python",
   "name": "python",
   "nbconvert_exporter": "python",
   "pygments_lexer": "ipython3",
   "version": "3.9.13"
  },
  "toc": {
   "base_numbering": 1,
   "nav_menu": {},
   "number_sections": true,
   "sideBar": true,
   "skip_h1_title": false,
   "title_cell": "Table of Contents",
   "title_sidebar": "Contents",
   "toc_cell": false,
   "toc_position": {},
   "toc_section_display": true,
   "toc_window_display": false
  }
 },
 "nbformat": 4,
 "nbformat_minor": 5
}
