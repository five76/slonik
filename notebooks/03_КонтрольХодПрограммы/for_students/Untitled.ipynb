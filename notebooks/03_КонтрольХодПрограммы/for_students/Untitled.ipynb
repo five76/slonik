{
 "cells": [
  {
   "cell_type": "code",
   "execution_count": 4,
   "id": "fbed0998",
   "metadata": {},
   "outputs": [
    {
     "name": "stdout",
     "output_type": "stream",
     "text": [
      "Введите сторону треугольника а: 4\n",
      "Введите сторону треугольника b: 5\n",
      "Введите сторону треугольника c: 10\n",
      "Такого треугольника не существует, проверьте правильность ввода сторон треугольника\n"
     ]
    }
   ],
   "source": [
    "import math\n",
    "a = int(input('Введите сторону треугольника а: '))\n",
    "b = int(input('Введите сторону треугольника b: '))\n",
    "c = int(input('Введите сторону треугольника c: '))\n",
    "if (a < b + c) and (b < a + c) and (c < a + b):\n",
    "    p = (a + b + c) / 2\n",
    "    s = math.sqrt(p * (p - a) * (p - b) * (p - c))\n",
    "    print(f'Площадь треугольника равна  {s}, округленное до целого значение равно {round(s)}')\n",
    "else:\n",
    "    print('Такого треугольника не существует, проверьте правильность ввода сторон треугольника')"
   ]
  },
  {
   "cell_type": "code",
   "execution_count": 3,
   "id": "281f3c5b",
   "metadata": {},
   "outputs": [
    {
     "name": "stdout",
     "output_type": "stream",
     "text": [
      "введите a:4\n",
      "введите b:5\n",
      "введите c:10\n",
      "abc не треугольник\n"
     ]
    }
   ],
   "source": [
    "import math\n",
    "a = float(input ('введите a:'))\n",
    "b = float(input ('введите b:'))\n",
    "c = float(input ('введите c:'))\n",
    "if a + b > c and a + c > b and b + c > a:\n",
    "    p = (a + b + c) / 2\n",
    "    s = math.sqrt(p * (p-a) * (p-b) * (p-c))\n",
    "    print (f'площадь треугольника {s}')\n",
    "else:\n",
    "    print (f'abc не треугольник')"
   ]
  },
  {
   "cell_type": "code",
   "execution_count": 6,
   "id": "e24678e6",
   "metadata": {},
   "outputs": [
    {
     "name": "stdout",
     "output_type": "stream",
     "text": [
      "Введите сторону трегуольника A:4\n",
      "Введите сторону трегуольника B:5\n",
      "Введите сторону трегуольника C:10\n"
     ]
    },
    {
     "ename": "ValueError",
     "evalue": "math domain error",
     "output_type": "error",
     "traceback": [
      "\u001b[1;31m---------------------------------------------------------------------------\u001b[0m",
      "\u001b[1;31mValueError\u001b[0m                                Traceback (most recent call last)",
      "Cell \u001b[1;32mIn[6], line 7\u001b[0m\n\u001b[0;32m      5\u001b[0m p \u001b[38;5;241m=\u001b[39m (a \u001b[38;5;241m+\u001b[39m b \u001b[38;5;241m+\u001b[39m c)\u001b[38;5;241m/\u001b[39m\u001b[38;5;241m2\u001b[39m\n\u001b[0;32m      6\u001b[0m \u001b[38;5;28;01mimport\u001b[39;00m \u001b[38;5;21;01mmath\u001b[39;00m\n\u001b[1;32m----> 7\u001b[0m s \u001b[38;5;241m=\u001b[39m \u001b[43mmath\u001b[49m\u001b[38;5;241;43m.\u001b[39;49m\u001b[43msqrt\u001b[49m\u001b[43m(\u001b[49m\u001b[43mp\u001b[49m\u001b[38;5;241;43m*\u001b[39;49m\u001b[43m(\u001b[49m\u001b[43mp\u001b[49m\u001b[38;5;241;43m-\u001b[39;49m\u001b[43ma\u001b[49m\u001b[43m)\u001b[49m\u001b[38;5;241;43m*\u001b[39;49m\u001b[43m(\u001b[49m\u001b[43mp\u001b[49m\u001b[38;5;241;43m-\u001b[39;49m\u001b[43mb\u001b[49m\u001b[43m)\u001b[49m\u001b[38;5;241;43m*\u001b[39;49m\u001b[43m(\u001b[49m\u001b[43mp\u001b[49m\u001b[38;5;241;43m-\u001b[39;49m\u001b[43mc\u001b[49m\u001b[43m)\u001b[49m\u001b[43m)\u001b[49m\n\u001b[0;32m      8\u001b[0m \u001b[38;5;28mprint\u001b[39m(\u001b[38;5;124m'\u001b[39m\u001b[38;5;124mплощадь треугольника =\u001b[39m\u001b[38;5;124m'\u001b[39m,s)\n",
      "\u001b[1;31mValueError\u001b[0m: math domain error"
     ]
    }
   ],
   "source": [
    "a = int(input('Введите сторону трегуольника A:'))\n",
    "b = int(input('Введите сторону трегуольника B:'))\n",
    "c = int(input('Введите сторону трегуольника C:'))\n",
    "# найдем p\n",
    "p = (a + b + c)/2\n",
    "import math\n",
    "s = math.sqrt(p*(p-a)*(p-b)*(p-c))\n",
    "print('площадь треугольника =',s)"
   ]
  },
  {
   "cell_type": "code",
   "execution_count": 7,
   "id": "a75e3091",
   "metadata": {},
   "outputs": [
    {
     "name": "stdout",
     "output_type": "stream",
     "text": [
      "Введите парольasdgdf\n",
      "Access denied!\n"
     ]
    }
   ],
   "source": [
    "password = input('Введите пароль')\n",
    "if password == 'P@ssw0rd':\n",
    "        print('Successful')\n",
    "else:\n",
    "        print('Access denied!')"
   ]
  },
  {
   "cell_type": "code",
   "execution_count": 10,
   "id": "8251214d",
   "metadata": {},
   "outputs": [
    {
     "name": "stdout",
     "output_type": "stream",
     "text": [
      "Введите имя пользователя: Admin\n",
      "Неправильное имя пользователя. Доступ запрещен!\n"
     ]
    }
   ],
   "source": [
    "list_users = {'admin': 'admin_password', \n",
    "              'manager': 'manager_password', \n",
    "              'anykey': 'anykey_password'\n",
    "             }\n",
    "\n",
    "user = list(list_users.keys())\n",
    "password = list(list_users.values())\n",
    "user_name = input('Введите имя пользователя: ')\n",
    "\n",
    "if user_name in user:\n",
    "    user_password = input('Введите пароль: ')\n",
    "    right_password = list_users.get(user_name)\n",
    "    if user_password == right_password:\n",
    "        print('Доступ разрешен!')\n",
    "    else:\n",
    "        print('Неправильный пароль. Доступ запрещен!')\n",
    "else:    \n",
    "    print('Неправильное имя пользователя. Доступ запрещен!')"
   ]
  },
  {
   "cell_type": "code",
   "execution_count": 14,
   "id": "f6b93c5b",
   "metadata": {},
   "outputs": [
    {
     "name": "stdout",
     "output_type": "stream",
     "text": [
      "Введите парольsfsd\n",
      "Bad PASSWORD!\n"
     ]
    }
   ],
   "source": [
    "import string\n",
    "password = input('Введите пароль')\n",
    "pass_1 = set(password)\n",
    "pass_symb = ['*','-','#']\n",
    "pass_num = ['0','1','2','3','4','5','6','7','8','9']\n",
    "\n",
    "pass_lit = list(string.ascii_lowercase)\n",
    "pass_lit_upp = list(string.ascii_lowercase.upper())\n",
    "# объединение всех символов в пароле\n",
    "pass_final1 = pass_1.intersection(pass_lit_upp)\n",
    "pass_final2 = pass_1.intersection(pass_lit)\n",
    "pass_final3 = pass_1.intersection(pass_num)\n",
    "pass_final4 = pass_1.intersection(pass_symb)\n",
    "# длина пароля\n",
    "len1 = len(password)\n",
    "if len1 != 8:\n",
    "    print('Bad PASSWORD!')\n",
    "elif pass_final1 == None:\n",
    "    print('Bad PASSWORD!')\n",
    "elif pass_final2 == None:\n",
    "    print('Bad PASSWORD!')\n",
    "elif pass_final3 == None:\n",
    "    print('Bad PASSWORD!')\n",
    "elif pass_final4 == None:\n",
    "    print('Bad PASSWORD!')\n",
    "else:\n",
    "    print('GOOD!')"
   ]
  },
  {
   "cell_type": "code",
   "execution_count": 15,
   "id": "6067d6fb",
   "metadata": {},
   "outputs": [
    {
     "name": "stdout",
     "output_type": "stream",
     "text": [
      "Анатолий введи пароль: PAssw780_ert\n",
      "Пароль слишком длинный, ты его забудешь!\n",
      "Пароль должен содержать спец. символы\n",
      "Пароль не должен содержать следующие символы ['_']\n",
      "Пароль не соответствует всем требованиям\n"
     ]
    }
   ],
   "source": [
    "result = True\n",
    "password = input('Анатолий введи пароль: ')\n",
    "\n",
    "# проверка пароля по длине\n",
    "len_pass = len(password)\n",
    "if len_pass > 8:\n",
    "    print('Пароль слишком длинный, ты его забудешь!')\n",
    "    result = False\n",
    "elif len_pass < 8:\n",
    "    print('Пароль слишком короткий, его быстро подберут!')\n",
    "    result = False\n",
    "\n",
    "# символы\n",
    "#import string\n",
    "#alphabet = string.ascii_uppercase\n",
    "alphabet = 'abcdefghijklmnopqrstuvwxyz'\n",
    "digits = '0123456789'\n",
    "special = '*-#'\n",
    "up_set = set(alphabet.upper())\n",
    "down_set = set(alphabet.lower())\n",
    "digit_set = set(digits)\n",
    "special_set = set(special)\n",
    "password_set = set(password)\n",
    "\n",
    "# Проверки\n",
    "# Цифры\n",
    "result_set = password_set & digit_set\n",
    "if not len(list(result_set)):\n",
    "    result = False\n",
    "    print('Пароль должен содержать цифры')\n",
    "\n",
    "# Спец. символы \n",
    "result_set = password_set & special_set\n",
    "if not len(list(result_set)):\n",
    "    result = False\n",
    "    print('Пароль должен содержать спец. символы')\n",
    "\n",
    "# Заглавные буквы\n",
    "result_set = password_set & up_set\n",
    "if not len(list(result_set)):\n",
    "    result = False\n",
    "    print('Пароль должен содержать буквы в верхнем регистре')\n",
    "\n",
    "# Строчные буквы\n",
    "result_set = password_set & down_set\n",
    "if not len(list(result_set)):\n",
    "    result = False\n",
    "    print('Пароль должен содержать буквы в нижнем регистре')\n",
    "\n",
    "# Проверка на наличие символов, которых не должно быть\n",
    "result_set = password_set - digit_set - down_set - up_set - special_set\n",
    "if len(list(result_set)):\n",
    "    result = False\n",
    "    print(f'Пароль не должен содержать следующие символы {list(result_set)}')\n",
    "\n",
    "# результат\n",
    "if result:\n",
    "    print('Пароль соответствует всем требованиям')\n",
    "else:\n",
    "    print('Пароль не соответствует всем требованиям')"
   ]
  },
  {
   "cell_type": "code",
   "execution_count": null,
   "id": "61fa62ae",
   "metadata": {},
   "outputs": [],
   "source": []
  }
 ],
 "metadata": {
  "kernelspec": {
   "display_name": "Python 3 (ipykernel)",
   "language": "python",
   "name": "python3"
  },
  "language_info": {
   "codemirror_mode": {
    "name": "ipython",
    "version": 3
   },
   "file_extension": ".py",
   "mimetype": "text/x-python",
   "name": "python",
   "nbconvert_exporter": "python",
   "pygments_lexer": "ipython3",
   "version": "3.9.13"
  },
  "toc": {
   "base_numbering": 1,
   "nav_menu": {},
   "number_sections": true,
   "sideBar": true,
   "skip_h1_title": false,
   "title_cell": "Table of Contents",
   "title_sidebar": "Contents",
   "toc_cell": false,
   "toc_position": {},
   "toc_section_display": true,
   "toc_window_display": false
  }
 },
 "nbformat": 4,
 "nbformat_minor": 5
}
