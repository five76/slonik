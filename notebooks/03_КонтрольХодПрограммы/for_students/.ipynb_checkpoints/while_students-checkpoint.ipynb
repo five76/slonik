{
 "cells": [
  {
   "cell_type": "markdown",
   "id": "55d5e219",
   "metadata": {},
   "source": [
    "<div class=\"alert alert-success\">\n",
    "\n",
    "    \n",
    "## Цикл while\n",
    "\n",
    "\n",
    "Очень часто одно и то же действие надо выполнить для набора однотипных данных. Например, преобразовать все строки в списке в верхний регистр. Для выполнения таких действий в Python используется цикл for.\n",
    "\n",
    "Цикл **while** используется в случаях, когда количество итераций цикла неопределено (при неправильном подходе может оказаться и бесконечным)\n",
    "    \n",
    "Синтаксис:\n",
    "\n",
    "    while <условие>:\n",
    "        тело цикла\n",
    "    \n",
    "    \n",
    "</div>"
   ]
  },
  {
   "cell_type": "markdown",
   "id": "43b0cd5e",
   "metadata": {},
   "source": [
    "*Печатать значения, пока их значения меньше 100*"
   ]
  },
  {
   "cell_type": "code",
   "execution_count": 12,
   "id": "c2e0a05a",
   "metadata": {},
   "outputs": [
    {
     "name": "stdout",
     "output_type": "stream",
     "text": [
      "1 2 3 4 5 6 7 8 9 10 11 12 13 14 15 16 17 18 19 20 21 22 23 24 25 26 27 28 29 30 31 32 33 34 35 36 37 38 39 40 41 42 43 44 45 46 47 48 49 50 51 52 53 54 55 56 57 58 59 60 61 62 63 64 65 66 67 68 69 70 71 72 73 74 75 76 77 78 79 80 81 82 83 84 85 86 87 88 89 90 91 92 93 94 95 96 97 98 99 "
     ]
    }
   ],
   "source": [
    "i = 1\n",
    "while i < 100:\n",
    "    print(i, end=' ')\n",
    "    i += 1"
   ]
  },
  {
   "cell_type": "code",
   "execution_count": 11,
   "id": "654a144c",
   "metadata": {},
   "outputs": [
    {
     "name": "stdout",
     "output_type": "stream",
     "text": [
      "1 2 3 4 5 6 7 8 9 10 11 12 13 14 15 16 17 18 19 20 21 22 23 24 25 26 27 28 29 30 31 32 33 34 35 36 37 38 39 40 41 42 43 44 45 46 47 48 49 50 51 52 53 54 55 56 57 58 59 60 61 62 63 64 65 66 67 68 69 70 71 72 73 74 75 76 77 78 79 80 81 82 83 84 85 86 87 88 89 90 91 92 93 94 95 96 97 98 99 "
     ]
    }
   ],
   "source": [
    "for i in range(1,100):\n",
    "    print(i, end=' ')"
   ]
  },
  {
   "cell_type": "markdown",
   "id": "e94ec8d5",
   "metadata": {},
   "source": [
    "*Заполнять с клавиатуры список строками, пока не будет введена пустая строка*"
   ]
  },
  {
   "cell_type": "code",
   "execution_count": 14,
   "id": "f0959737",
   "metadata": {
    "scrolled": true
   },
   "outputs": [
    {
     "name": "stdout",
     "output_type": "stream",
     "text": [
      "ыва\n",
      "парпа\n",
      "\n",
      "['ыва', 'парпа']\n"
     ]
    }
   ],
   "source": [
    "my_list = []\n",
    "while True:\n",
    "    my_str = input()\n",
    "    if not(my_str):\n",
    "        break\n",
    "    my_list.append(my_str)\n",
    "print(my_list)\n"
   ]
  },
  {
   "cell_type": "markdown",
   "id": "033f2c12",
   "metadata": {},
   "source": [
    "Сумма чисел из строки\n",
    "\n",
    "С клаватуры вводится последовательность чисел. Окончание ввода - ввод пустого значения. Найти сумму этих чисел."
   ]
  },
  {
   "cell_type": "markdown",
   "id": "74456a97",
   "metadata": {},
   "source": [
    "Операции **continue**, **break**, **else** применяются аналогично for"
   ]
  },
  {
   "cell_type": "code",
   "execution_count": 15,
   "id": "5433ca94",
   "metadata": {},
   "outputs": [
    {
     "name": "stdout",
     "output_type": "stream",
     "text": [
      "12\n",
      "123\n",
      "-45\n",
      "\n",
      "90\n"
     ]
    }
   ],
   "source": [
    "my_list = []\n",
    "while True:\n",
    "    num = input()\n",
    "    if not(num):\n",
    "        break\n",
    "    my_list.append(int(num))\n",
    "print(sum(my_list))"
   ]
  },
  {
   "cell_type": "markdown",
   "id": "f6f33f5f",
   "metadata": {},
   "source": [
    "### Примеры решения задач"
   ]
  },
  {
   "cell_type": "markdown",
   "id": "c9c51aca",
   "metadata": {},
   "source": [
    "#### Число-перевертыш"
   ]
  },
  {
   "cell_type": "markdown",
   "id": "838b3a06",
   "metadata": {},
   "source": [
    "Дано целое число n, записать его в обратном порядке"
   ]
  },
  {
   "cell_type": "code",
   "execution_count": null,
   "id": "0330791e",
   "metadata": {},
   "outputs": [],
   "source": []
  },
  {
   "cell_type": "code",
   "execution_count": null,
   "id": "95328da0",
   "metadata": {},
   "outputs": [],
   "source": []
  },
  {
   "cell_type": "code",
   "execution_count": null,
   "id": "a0376b44",
   "metadata": {},
   "outputs": [],
   "source": []
  }
 ],
 "metadata": {
  "kernelspec": {
   "display_name": "Python 3 (ipykernel)",
   "language": "python",
   "name": "python3"
  },
  "language_info": {
   "codemirror_mode": {
    "name": "ipython",
    "version": 3
   },
   "file_extension": ".py",
   "mimetype": "text/x-python",
   "name": "python",
   "nbconvert_exporter": "python",
   "pygments_lexer": "ipython3",
   "version": "3.8.10"
  },
  "toc": {
   "base_numbering": 1,
   "nav_menu": {},
   "number_sections": true,
   "sideBar": true,
   "skip_h1_title": false,
   "title_cell": "Table of Contents",
   "title_sidebar": "Contents",
   "toc_cell": false,
   "toc_position": {},
   "toc_section_display": true,
   "toc_window_display": false
  }
 },
 "nbformat": 4,
 "nbformat_minor": 5
}
