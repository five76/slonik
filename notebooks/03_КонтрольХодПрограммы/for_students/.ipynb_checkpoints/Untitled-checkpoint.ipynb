{
 "cells": [
  {
   "cell_type": "code",
   "execution_count": 4,
   "id": "20b42301",
   "metadata": {},
   "outputs": [
    {
     "name": "stdout",
     "output_type": "stream",
     "text": [
      "Введите сторону треугольника а: 4\n",
      "Введите сторону треугольника b: 5\n",
      "Введите сторону треугольника c: 10\n",
      "Такого треугольника не существует, проверьте правильность ввода сторон треугольника\n"
     ]
    }
   ],
   "source": [
    "import math\n",
    "a = int(input('Введите сторону треугольника а: '))\n",
    "b = int(input('Введите сторону треугольника b: '))\n",
    "c = int(input('Введите сторону треугольника c: '))\n",
    "if (a < b + c) and (b < a + c) and (c < a + b):\n",
    "    p = (a + b + c) / 2\n",
    "    s = math.sqrt(p * (p - a) * (p - b) * (p - c))\n",
    "    print(f'Площадь треугольника равна  {s}, округленное до целого значение равно {round(s)}')\n",
    "else:\n",
    "    print('Такого треугольника не существует, проверьте правильность ввода сторон треугольника')"
   ]
  },
  {
   "cell_type": "code",
   "execution_count": 3,
   "id": "16538a3c",
   "metadata": {},
   "outputs": [
    {
     "name": "stdout",
     "output_type": "stream",
     "text": [
      "введите a:4\n",
      "введите b:5\n",
      "введите c:10\n",
      "abc не треугольник\n"
     ]
    }
   ],
   "source": [
    "import math\n",
    "a = float(input ('введите a:'))\n",
    "b = float(input ('введите b:'))\n",
    "c = float(input ('введите c:'))\n",
    "if a + b > c and a + c > b and b + c > a:\n",
    "    p = (a + b + c) / 2\n",
    "    s = math.sqrt(p * (p-a) * (p-b) * (p-c))\n",
    "    print (f'площадь треугольника {s}')\n",
    "else:\n",
    "    print (f'abc не треугольник')"
   ]
  },
  {
   "cell_type": "code",
   "execution_count": 6,
   "id": "04ecfbdb",
   "metadata": {},
   "outputs": [
    {
     "name": "stdout",
     "output_type": "stream",
     "text": [
      "Введите сторону трегуольника A:4\n",
      "Введите сторону трегуольника B:5\n",
      "Введите сторону трегуольника C:10\n"
     ]
    },
    {
     "ename": "ValueError",
     "evalue": "math domain error",
     "output_type": "error",
     "traceback": [
      "\u001b[1;31m---------------------------------------------------------------------------\u001b[0m",
      "\u001b[1;31mValueError\u001b[0m                                Traceback (most recent call last)",
      "Cell \u001b[1;32mIn[6], line 7\u001b[0m\n\u001b[0;32m      5\u001b[0m p \u001b[38;5;241m=\u001b[39m (a \u001b[38;5;241m+\u001b[39m b \u001b[38;5;241m+\u001b[39m c)\u001b[38;5;241m/\u001b[39m\u001b[38;5;241m2\u001b[39m\n\u001b[0;32m      6\u001b[0m \u001b[38;5;28;01mimport\u001b[39;00m \u001b[38;5;21;01mmath\u001b[39;00m\n\u001b[1;32m----> 7\u001b[0m s \u001b[38;5;241m=\u001b[39m \u001b[43mmath\u001b[49m\u001b[38;5;241;43m.\u001b[39;49m\u001b[43msqrt\u001b[49m\u001b[43m(\u001b[49m\u001b[43mp\u001b[49m\u001b[38;5;241;43m*\u001b[39;49m\u001b[43m(\u001b[49m\u001b[43mp\u001b[49m\u001b[38;5;241;43m-\u001b[39;49m\u001b[43ma\u001b[49m\u001b[43m)\u001b[49m\u001b[38;5;241;43m*\u001b[39;49m\u001b[43m(\u001b[49m\u001b[43mp\u001b[49m\u001b[38;5;241;43m-\u001b[39;49m\u001b[43mb\u001b[49m\u001b[43m)\u001b[49m\u001b[38;5;241;43m*\u001b[39;49m\u001b[43m(\u001b[49m\u001b[43mp\u001b[49m\u001b[38;5;241;43m-\u001b[39;49m\u001b[43mc\u001b[49m\u001b[43m)\u001b[49m\u001b[43m)\u001b[49m\n\u001b[0;32m      8\u001b[0m \u001b[38;5;28mprint\u001b[39m(\u001b[38;5;124m'\u001b[39m\u001b[38;5;124mплощадь треугольника =\u001b[39m\u001b[38;5;124m'\u001b[39m,s)\n",
      "\u001b[1;31mValueError\u001b[0m: math domain error"
     ]
    }
   ],
   "source": [
    "a = int(input('Введите сторону трегуольника A:'))\n",
    "b = int(input('Введите сторону трегуольника B:'))\n",
    "c = int(input('Введите сторону трегуольника C:'))\n",
    "# найдем p\n",
    "p = (a + b + c)/2\n",
    "import math\n",
    "s = math.sqrt(p*(p-a)*(p-b)*(p-c))\n",
    "print('площадь треугольника =',s)"
   ]
  },
  {
   "cell_type": "code",
   "execution_count": 7,
   "id": "afa9ae86",
   "metadata": {},
   "outputs": [
    {
     "name": "stdout",
     "output_type": "stream",
     "text": [
      "Введите парольasdgdf\n",
      "Access denied!\n"
     ]
    }
   ],
   "source": [
    "password = input('Введите пароль')\n",
    "if password == 'P@ssw0rd':\n",
    "        print('Successful')\n",
    "else:\n",
    "        print('Access denied!')"
   ]
  },
  {
   "cell_type": "code",
   "execution_count": 10,
   "id": "b075a162",
   "metadata": {},
   "outputs": [
    {
     "name": "stdout",
     "output_type": "stream",
     "text": [
      "Введите имя пользователя: Admin\n",
      "Неправильное имя пользователя. Доступ запрещен!\n"
     ]
    }
   ],
   "source": [
    "list_users = {'admin': 'admin_password', \n",
    "              'manager': 'manager_password', \n",
    "              'anykey': 'anykey_password'\n",
    "             }\n",
    "\n",
    "user = list(list_users.keys())\n",
    "password = list(list_users.values())\n",
    "user_name = input('Введите имя пользователя: ')\n",
    "\n",
    "if user_name in user:\n",
    "    user_password = input('Введите пароль: ')\n",
    "    right_password = list_users.get(user_name)\n",
    "    if user_password == right_password:\n",
    "        print('Доступ разрешен!')\n",
    "    else:\n",
    "        print('Неправильный пароль. Доступ запрещен!')\n",
    "else:    \n",
    "    print('Неправильное имя пользователя. Доступ запрещен!')"
   ]
  },
  {
   "cell_type": "code",
   "execution_count": null,
   "id": "b2e416f8",
   "metadata": {},
   "outputs": [],
   "source": []
  }
 ],
 "metadata": {
  "kernelspec": {
   "display_name": "Python 3 (ipykernel)",
   "language": "python",
   "name": "python3"
  },
  "language_info": {
   "codemirror_mode": {
    "name": "ipython",
    "version": 3
   },
   "file_extension": ".py",
   "mimetype": "text/x-python",
   "name": "python",
   "nbconvert_exporter": "python",
   "pygments_lexer": "ipython3",
   "version": "3.9.13"
  },
  "toc": {
   "base_numbering": 1,
   "nav_menu": {},
   "number_sections": true,
   "sideBar": true,
   "skip_h1_title": false,
   "title_cell": "Table of Contents",
   "title_sidebar": "Contents",
   "toc_cell": false,
   "toc_position": {},
   "toc_section_display": true,
   "toc_window_display": false
  }
 },
 "nbformat": 4,
 "nbformat_minor": 5
}
