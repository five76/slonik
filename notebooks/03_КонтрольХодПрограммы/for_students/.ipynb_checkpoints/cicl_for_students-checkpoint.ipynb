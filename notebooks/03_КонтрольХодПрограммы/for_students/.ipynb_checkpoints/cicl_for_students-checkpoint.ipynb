{
 "cells": [
  {
   "cell_type": "markdown",
   "id": "55d5e219",
   "metadata": {},
   "source": [
    "<div class=\"alert alert-success\">\n",
    "\n",
    "    \n",
    "## Цикл for\n",
    "\n",
    "\n",
    "Очень часто одно и то же действие надо выполнить для набора однотипных данных. Например, преобразовать все строки в списке в верхний регистр. Для выполнения таких действий в Python используется цикл for.\n",
    "\n",
    "Цикл for перебирает по одному элементы указанной последовательности и выполняет действия, которые указаны в блоке for, для каждого элемента.\n",
    "\n",
    "Примеры последовательностей элементов, по которым может проходиться цикл for:\n",
    "\n",
    "- строка\n",
    "- список\n",
    "- словарь\n",
    "- Функция range\n",
    "- любой итерируемый объект\n",
    "\n",
    "   <div class=\"alert alert-danger\"> \n",
    "    Для понимания может помочь проект <a href='https://pythontutor.com'> pythontutor </a>. Там имеется визуализация кода, позволяющая увидеть, что происходит на каждом этапе выполнения кода. На сайте pythontutor можно загружать свой код.\n",
    "</div>\n",
    "       \n",
    "Цикл for может работать с любой последовательностью элементов. Например, выше использовался список и цикл перебирал элементы списка. Аналогичным образом for работает с кортежами.\n",
    "    \n",
    "</div>"
   ]
  },
  {
   "cell_type": "markdown",
   "id": "3a0c7ba5",
   "metadata": {},
   "source": [
    "for x in <послед>:\n",
    "\n",
    "    тело_цикла"
   ]
  },
  {
   "cell_type": "markdown",
   "id": "43b0cd5e",
   "metadata": {},
   "source": [
    "*Напечатать элементы списка*"
   ]
  },
  {
   "cell_type": "markdown",
   "id": "a0030a64",
   "metadata": {},
   "source": [
    "Без цикла:"
   ]
  },
  {
   "cell_type": "code",
   "execution_count": 3,
   "id": "c2e0a05a",
   "metadata": {},
   "outputs": [
    {
     "name": "stdout",
     "output_type": "stream",
     "text": [
      "apple\n",
      "banana\n",
      "cherry\n"
     ]
    }
   ],
   "source": [
    "fruits = [\"apple\", \"banana\", \"cherry\"]\n",
    "print(fruits[0])\n",
    "print(fruits[1])\n",
    "print(fruits[2])"
   ]
  },
  {
   "cell_type": "markdown",
   "id": "56549bfc",
   "metadata": {},
   "source": [
    "Можно копировать и вставлять, но если строк будет 1000, 10000, 1000000 ..."
   ]
  },
  {
   "cell_type": "markdown",
   "id": "1ee93d80",
   "metadata": {},
   "source": [
    "С использованием цикла:"
   ]
  },
  {
   "cell_type": "code",
   "execution_count": 10,
   "id": "9c522ac5",
   "metadata": {
    "scrolled": true
   },
   "outputs": [
    {
     "name": "stdout",
     "output_type": "stream",
     "text": [
      "apple\n",
      "banana\n",
      "cherry\n"
     ]
    }
   ],
   "source": [
    "fruits = [\"apple\", \"banana\", \"cherry\"]\n",
    "for x in fruits:\n",
    "    print(x)"
   ]
  },
  {
   "cell_type": "markdown",
   "id": "1e14afc5",
   "metadata": {},
   "source": [
    "Можно прочитать это следующим образом: \"Для каждого элемента **x** списка **fruits** применить операцию **print(x)**\".\n",
    "\n",
    "Сначала x принимает значение apple, потом banana и так далее."
   ]
  },
  {
   "cell_type": "code",
   "execution_count": 4,
   "id": "dbb2feda",
   "metadata": {},
   "outputs": [
    {
     "name": "stdout",
     "output_type": "stream",
     "text": [
      "Введите строку: Jupyter\n",
      "Введите строку: Notebook\n",
      "Введите строку: Python\n",
      "['Jupyter', 'Notebook', 'Python']\n"
     ]
    }
   ],
   "source": [
    "my_list = []\n",
    "\n",
    "for line in range(3):\n",
    "    my_list.append(input('Введите строку: '))\n",
    "\n",
    "print(my_list)\n",
    "\n"
   ]
  },
  {
   "cell_type": "code",
   "execution_count": 5,
   "id": "214f9e39",
   "metadata": {},
   "outputs": [
    {
     "name": "stdout",
     "output_type": "stream",
     "text": [
      "JUPYTER\n",
      "NOTEBOOK\n",
      "PYTHON\n"
     ]
    }
   ],
   "source": [
    "for el in my_list:\n",
    "    print(el.upper())"
   ]
  },
  {
   "cell_type": "markdown",
   "id": "bc847bdc",
   "metadata": {},
   "source": [
    "*Напечатать каждый символ строки отдельно*"
   ]
  },
  {
   "cell_type": "code",
   "execution_count": 9,
   "id": "d3047910",
   "metadata": {},
   "outputs": [
    {
     "name": "stdout",
     "output_type": "stream",
     "text": [
      "b-a-n-a-n-a-"
     ]
    }
   ],
   "source": [
    "for x in \"banana\":\n",
    "    print(x, end='-')"
   ]
  },
  {
   "cell_type": "code",
   "execution_count": 10,
   "id": "66a5651e",
   "metadata": {},
   "outputs": [
    {
     "name": "stdout",
     "output_type": "stream",
     "text": [
      "b*a*n*a*n*a*"
     ]
    }
   ],
   "source": [
    "simv = '*'\n",
    "for x in \"banana\":\n",
    "  # вывод каждого символа строки с разделителем +\n",
    "  print(x, end=simv)"
   ]
  },
  {
   "cell_type": "markdown",
   "id": "8e684213",
   "metadata": {},
   "source": [
    "*Преобразовать первый символ каждой строки в верхний регистр. Преобразованный список сохранить отдельно*"
   ]
  },
  {
   "cell_type": "code",
   "execution_count": 13,
   "id": "167bb148",
   "metadata": {},
   "outputs": [
    {
     "name": "stdout",
     "output_type": "stream",
     "text": [
      "['Иванов', 'Петров', 'Сидоров', 'Новиков']\n"
     ]
    }
   ],
   "source": [
    "# исходный список\n",
    "words = ['иванов','петров','сидоров','новиков']\n",
    "# новый список\n",
    "new_words = []\n",
    "for fam in words:\n",
    "    new_words.append(fam.capitalize())\n",
    "print(new_words)"
   ]
  },
  {
   "cell_type": "markdown",
   "id": "538751f5",
   "metadata": {},
   "source": [
    "*Вывести список каждого отдела организации*"
   ]
  },
  {
   "cell_type": "code",
   "execution_count": 15,
   "id": "f227fcb2",
   "metadata": {},
   "outputs": [],
   "source": [
    "# Словарь с фамилиями сотрудников отделов\n",
    "dict_staff = {'Отдел сбыта': ['Ильина', \n",
    "                              'Куликов',\n",
    "                              'Сергиенко',\n",
    "                              'Корепин', \n",
    "                              'Климов', \n",
    "                              'Попкова'],\n",
    "              'Вице-президенты':['Гладких'],\n",
    "              'Начальники отделов':['Новиков'],\n",
    "              'Координаторы':['Ожогина']\n",
    "             }"
   ]
  },
  {
   "cell_type": "code",
   "execution_count": 17,
   "id": "dd8993ad",
   "metadata": {},
   "outputs": [
    {
     "name": "stdout",
     "output_type": "stream",
     "text": [
      "Отдел сбыта\n",
      "----------\n",
      "['Ильина', 'Куликов', 'Сергиенко', 'Корепин', 'Климов', 'Попкова']\n",
      "\n",
      "Вице-президенты\n",
      "----------\n",
      "['Гладких']\n",
      "\n",
      "Начальники отделов\n",
      "----------\n",
      "['Новиков']\n",
      "\n",
      "Координаторы\n",
      "----------\n",
      "['Ожогина']\n",
      "\n"
     ]
    }
   ],
   "source": [
    "for otdel in dict_staff.keys():\n",
    "    print(otdel)\n",
    "    print('-' * 10)\n",
    "    print(dict_staff[otdel])\n",
    "    print()"
   ]
  },
  {
   "cell_type": "code",
   "execution_count": 21,
   "id": "4895c842",
   "metadata": {},
   "outputs": [
    {
     "name": "stdout",
     "output_type": "stream",
     "text": [
      "Отдел сбыта\n",
      "-----------\n",
      "Ильина\n",
      "Куликов\n",
      "Сергиенко\n",
      "Корепин\n",
      "Климов\n",
      "Попкова\n",
      "\n",
      "Вице-президенты\n",
      "---------------\n",
      "Гладких\n",
      "\n",
      "Начальники отделов\n",
      "------------------\n",
      "Новиков\n",
      "\n",
      "Координаторы\n",
      "------------\n",
      "Ожогина\n",
      "\n"
     ]
    }
   ],
   "source": [
    "for otdel in dict_staff.keys():\n",
    "    print(otdel)\n",
    "    print('-' * len(otdel))\n",
    "    for s in dict_staff[otdel]:\n",
    "        print(s)\n",
    "    print()"
   ]
  },
  {
   "cell_type": "code",
   "execution_count": null,
   "id": "f1085c89",
   "metadata": {},
   "outputs": [],
   "source": []
  },
  {
   "cell_type": "code",
   "execution_count": null,
   "id": "2a77e501",
   "metadata": {},
   "outputs": [],
   "source": []
  },
  {
   "cell_type": "markdown",
   "id": "3bccbd5f",
   "metadata": {},
   "source": [
    "Метод items позволяет проходиться в цикле сразу по паре ключ-значение:"
   ]
  },
  {
   "cell_type": "code",
   "execution_count": 12,
   "id": "a775edae",
   "metadata": {},
   "outputs": [],
   "source": [
    "# Словарь с фамилиями сотрудников отделов\n",
    "dict_staff = {'Отдел сбыта': ['Ильина', \n",
    "                              'Куликов',\n",
    "                              'Сергиенко',\n",
    "                              'Корепин', \n",
    "                              'Климов', \n",
    "                              'Попкова'],\n",
    "             'Вице-президенты':['Гладких'],\n",
    "             'Начальники отделов':['Новиков'],\n",
    "             'Координаторы':['Ожогина']}\n"
   ]
  },
  {
   "cell_type": "code",
   "execution_count": 24,
   "id": "363a4b2f",
   "metadata": {},
   "outputs": [
    {
     "name": "stdout",
     "output_type": "stream",
     "text": [
      "Отдел сбыта\n",
      "-----------\n",
      "Ильина\n",
      "Куликов\n",
      "Сергиенко\n",
      "Корепин\n",
      "Климов\n",
      "Попкова\n",
      "\n",
      "Вице-президенты\n",
      "---------------\n",
      "Гладких\n",
      "\n",
      "Начальники отделов\n",
      "------------------\n",
      "Новиков\n",
      "\n",
      "Координаторы\n",
      "------------\n",
      "Ожогина\n",
      "\n"
     ]
    }
   ],
   "source": [
    "for otdel, staffs in dict_staff.items():\n",
    "    print(otdel)\n",
    "    print('-' * len(otdel))\n",
    "    for s in staffs:\n",
    "        print(s)\n",
    "    print()"
   ]
  },
  {
   "cell_type": "code",
   "execution_count": null,
   "id": "6050b827",
   "metadata": {},
   "outputs": [],
   "source": []
  },
  {
   "cell_type": "code",
   "execution_count": null,
   "id": "1e5731b3",
   "metadata": {},
   "outputs": [],
   "source": []
  },
  {
   "cell_type": "code",
   "execution_count": null,
   "id": "24890bcb",
   "metadata": {},
   "outputs": [],
   "source": []
  },
  {
   "cell_type": "code",
   "execution_count": null,
   "id": "a8051f56",
   "metadata": {},
   "outputs": [],
   "source": []
  },
  {
   "cell_type": "markdown",
   "id": "acf430be",
   "metadata": {},
   "source": [
    "## Функция range"
   ]
  },
  {
   "cell_type": "markdown",
   "id": "ae5606c3",
   "metadata": {},
   "source": [
    "Возвращает числовой диапазон\n",
    "     \n",
    "Синтаксис:\n",
    "\n",
    "**range(start,end,step)**\n",
    "\n",
    "**start** - начальное значение диапазона\n",
    "\n",
    "**end** - конечное значение диапазона. **В диапазон не включается**\n",
    "\n",
    "**step** - шаг изменнения (по-умолчанию 1)\n",
    "\n",
    "Формируется диапазон от значения **start** до значения **end-1**.\n",
    "\n",
    "\n",
    "Используется, когда необходимо цикл for применить к числовому промежутку. \n",
    "\n"
   ]
  },
  {
   "cell_type": "code",
   "execution_count": 25,
   "id": "4f2b091f",
   "metadata": {},
   "outputs": [
    {
     "data": {
      "text/plain": [
       "range(0, 9)"
      ]
     },
     "execution_count": 25,
     "metadata": {},
     "output_type": "execute_result"
    }
   ],
   "source": [
    "range(9)"
   ]
  },
  {
   "cell_type": "code",
   "execution_count": 27,
   "id": "1f2315a1",
   "metadata": {},
   "outputs": [
    {
     "data": {
      "text/plain": [
       "[1, 2, 3, 4, 5, 6, 7, 8, 9, 10]"
      ]
     },
     "execution_count": 27,
     "metadata": {},
     "output_type": "execute_result"
    }
   ],
   "source": [
    "list(range(1,11))"
   ]
  },
  {
   "cell_type": "code",
   "execution_count": 29,
   "id": "6ac5c4d5",
   "metadata": {},
   "outputs": [
    {
     "name": "stdout",
     "output_type": "stream",
     "text": [
      "0 1 2 3 4 5 6 7 8 9 "
     ]
    }
   ],
   "source": [
    "# За начальное значение диапазона берется 0\n",
    "for i in range(10):\n",
    "    print(i, end=' ')\n"
   ]
  },
  {
   "cell_type": "code",
   "execution_count": 30,
   "id": "e9823ca4",
   "metadata": {},
   "outputs": [
    {
     "name": "stdout",
     "output_type": "stream",
     "text": [
      "23\n",
      "24\n",
      "25\n"
     ]
    }
   ],
   "source": [
    "for i in range(23, 26):\n",
    "    print(i)"
   ]
  },
  {
   "cell_type": "code",
   "execution_count": 33,
   "id": "b221ad52",
   "metadata": {},
   "outputs": [
    {
     "name": "stdout",
     "output_type": "stream",
     "text": [
      "1 3 5 7 9 11 13 15 17 19 21 23 25 27 29 31 33 35 37 39 41 43 45 47 49 51 53 55 57 59 61 63 65 67 69 71 73 75 77 79 81 83 85 87 89 91 93 95 97 99 "
     ]
    }
   ],
   "source": [
    "# Печать диапазона с шагом 2\n",
    "for i in range(1, 100, 2):\n",
    "    print(i, end=' ')"
   ]
  },
  {
   "cell_type": "code",
   "execution_count": 34,
   "id": "d31f5457",
   "metadata": {},
   "outputs": [
    {
     "name": "stdout",
     "output_type": "stream",
     "text": [
      "Новый год!\n",
      "Новый год!\n",
      "Новый год!\n",
      "Новый год!\n",
      "Новый год!\n",
      "Новый год!\n",
      "Новый год!\n",
      "Новый год!\n",
      "Новый год!\n",
      "Новый год!\n"
     ]
    }
   ],
   "source": [
    "for i in range(10):\n",
    "    print('Новый год!')"
   ]
  },
  {
   "cell_type": "code",
   "execution_count": 35,
   "id": "dbd60887",
   "metadata": {},
   "outputs": [
    {
     "name": "stdout",
     "output_type": "stream",
     "text": [
      "Новый год!\n",
      "Новый год!\n",
      "Новый год!\n",
      "Новый год!\n",
      "Новый год!\n",
      "Новый год!\n",
      "Новый год!\n",
      "Новый год!\n",
      "Новый год!\n",
      "Новый год!\n"
     ]
    }
   ],
   "source": [
    "for _ in range(10):\n",
    "    print('Новый год!')"
   ]
  },
  {
   "cell_type": "code",
   "execution_count": null,
   "id": "89f0a849",
   "metadata": {},
   "outputs": [],
   "source": []
  },
  {
   "cell_type": "markdown",
   "id": "a21d4738",
   "metadata": {},
   "source": [
    "### Примеры использования range"
   ]
  },
  {
   "cell_type": "markdown",
   "id": "4bd4363d",
   "metadata": {},
   "source": [
    "При использовании оператора **in**  в цикле мы можем работать только с тем экземпляром итерируемого объекта, на который он указывает. А если необходимо использовать индексы, то нужно брать range."
   ]
  },
  {
   "cell_type": "markdown",
   "id": "f405babd",
   "metadata": {},
   "source": [
    "*Напечатать индексы четных элементов*"
   ]
  },
  {
   "cell_type": "code",
   "execution_count": 38,
   "id": "89235db1",
   "metadata": {},
   "outputs": [
    {
     "name": "stdout",
     "output_type": "stream",
     "text": [
      "[1, 5, 6, 7]\n"
     ]
    }
   ],
   "source": [
    "# Исходный список\n",
    "df = [1, 4, 5, 7, 9, 8, 2, 4]\n",
    "eval_list = []\n",
    "for index in range(len(df)):\n",
    "    if not(df[index] % 2):\n",
    "        eval_list.append(index)\n",
    "print(eval_list)"
   ]
  },
  {
   "cell_type": "markdown",
   "id": "be682f9b",
   "metadata": {},
   "source": [
    "*Из заданной строки сформировать новую, где каждый символ есть максимальный символ среди соседей символа в исходной строке.*\n",
    "\n",
    "Вход: ромашка\n",
    "\n",
    "Выход: ррошшшк"
   ]
  },
  {
   "cell_type": "code",
   "execution_count": 43,
   "id": "1b773c93",
   "metadata": {
    "scrolled": false
   },
   "outputs": [
    {
     "name": "stdout",
     "output_type": "stream",
     "text": [
      "Введите строку: python\n",
      "yyytoo\n"
     ]
    }
   ],
   "source": [
    "input_string = input('Введите строку: ')\n",
    "# Длина строки\n",
    "count_chars = len(input_string)\n",
    "output_string = ''\n",
    "\n",
    "# Цикл для диапазона индексов от 0 до длина строки-1\n",
    "for index in range(0,count_chars):\n",
    "    # Если индекс от 1 до предпоследнего\n",
    "    if index > 0 and index < count_chars-1:\n",
    "        # Вычислить максимальный среди окружающих\n",
    "        s = max(input_string[index],input_string[index-1],input_string[index+1])\n",
    "        output_string += s\n",
    "    # Если индекс равен 0, то сравниваем с соседом справа\n",
    "    elif index == 0:\n",
    "        s = max(input_string[index],input_string[index+1])\n",
    "        output_string += s\n",
    "    else:\n",
    "        # Иначе сравниваем с соседом слева\n",
    "        s = max(input_string[index],input_string[index-1])\n",
    "        output_string += s\n",
    "        \n",
    "print(output_string)"
   ]
  },
  {
   "cell_type": "markdown",
   "id": "66357614",
   "metadata": {},
   "source": [
    "## Вложенные циклы"
   ]
  },
  {
   "cell_type": "markdown",
   "id": "7c27d348",
   "metadata": {},
   "source": [
    "Вложенный цикл - это цикл внутри цикла.\n",
    "\n",
    "\"Внутренний цикл\" будет выполняться один раз для каждой итерации \"внешнего цикла\".:"
   ]
  },
  {
   "cell_type": "code",
   "execution_count": 12,
   "id": "fcc19b38",
   "metadata": {},
   "outputs": [
    {
     "name": "stdout",
     "output_type": "stream",
     "text": [
      "красный   яблоко\n",
      "красный   банан\n",
      "красный   вишня\n",
      "красный   киви\n",
      "большой   яблоко\n",
      "большой   банан\n",
      "большой   вишня\n",
      "большой   киви\n",
      "вкусный   яблоко\n",
      "вкусный   банан\n",
      "вкусный   вишня\n",
      "вкусный   киви\n",
      "зрелый   яблоко\n",
      "зрелый   банан\n",
      "зрелый   вишня\n",
      "зрелый   киви\n"
     ]
    }
   ],
   "source": [
    "adj = [\"красный\", \"большой\", \"вкусный\", \"зрелый\"]\n",
    "fruits = [\"яблоко\", \"банан\", \"вишня\", \"киви\"]\n",
    "\n",
    "for a in adj:\n",
    "    for f in fruits:\n",
    "        print(a,' ', f)\n"
   ]
  },
  {
   "cell_type": "markdown",
   "id": "cfd89d69",
   "metadata": {},
   "source": [
    "*Напечатать таблицу умножения для чисел от 2 до 5*"
   ]
  },
  {
   "cell_type": "code",
   "execution_count": 46,
   "id": "d17af7fa",
   "metadata": {},
   "outputs": [
    {
     "name": "stdout",
     "output_type": "stream",
     "text": [
      "2*1 = 2\n",
      "2*2 = 4\n",
      "2*3 = 6\n",
      "2*4 = 8\n",
      "2*5 = 10\n",
      "2*6 = 12\n",
      "2*7 = 14\n",
      "2*8 = 16\n",
      "2*9 = 18\n",
      "----------\n",
      "3*1 = 3\n",
      "3*2 = 6\n",
      "3*3 = 9\n",
      "3*4 = 12\n",
      "3*5 = 15\n",
      "3*6 = 18\n",
      "3*7 = 21\n",
      "3*8 = 24\n",
      "3*9 = 27\n",
      "----------\n",
      "4*1 = 4\n",
      "4*2 = 8\n",
      "4*3 = 12\n",
      "4*4 = 16\n",
      "4*5 = 20\n",
      "4*6 = 24\n",
      "4*7 = 28\n",
      "4*8 = 32\n",
      "4*9 = 36\n",
      "----------\n",
      "5*1 = 5\n",
      "5*2 = 10\n",
      "5*3 = 15\n",
      "5*4 = 20\n",
      "5*5 = 25\n",
      "5*6 = 30\n",
      "5*7 = 35\n",
      "5*8 = 40\n",
      "5*9 = 45\n",
      "----------\n",
      "6*1 = 6\n",
      "6*2 = 12\n",
      "6*3 = 18\n",
      "6*4 = 24\n",
      "6*5 = 30\n",
      "6*6 = 36\n",
      "6*7 = 42\n",
      "6*8 = 48\n",
      "6*9 = 54\n",
      "----------\n",
      "7*1 = 7\n",
      "7*2 = 14\n",
      "7*3 = 21\n",
      "7*4 = 28\n",
      "7*5 = 35\n",
      "7*6 = 42\n",
      "7*7 = 49\n",
      "7*8 = 56\n",
      "7*9 = 63\n",
      "----------\n",
      "8*1 = 8\n",
      "8*2 = 16\n",
      "8*3 = 24\n",
      "8*4 = 32\n",
      "8*5 = 40\n",
      "8*6 = 48\n",
      "8*7 = 56\n",
      "8*8 = 64\n",
      "8*9 = 72\n",
      "----------\n",
      "9*1 = 9\n",
      "9*2 = 18\n",
      "9*3 = 27\n",
      "9*4 = 36\n",
      "9*5 = 45\n",
      "9*6 = 54\n",
      "9*7 = 63\n",
      "9*8 = 72\n",
      "9*9 = 81\n",
      "----------\n"
     ]
    }
   ],
   "source": [
    "for x in range(2,10):\n",
    "    for y in range(1,10):\n",
    "        print(f'{x}*{y} = {x*y}')\n",
    "    print('-' * 10)"
   ]
  },
  {
   "cell_type": "markdown",
   "id": "fbfd1336",
   "metadata": {},
   "source": [
    "### Прерывание цикла: break"
   ]
  },
  {
   "cell_type": "markdown",
   "id": "9fe61827",
   "metadata": {},
   "source": [
    "Используется в случае принудительного выхода из цикла"
   ]
  },
  {
   "cell_type": "code",
   "execution_count": 48,
   "id": "0a6d05a5",
   "metadata": {},
   "outputs": [
    {
     "name": "stdout",
     "output_type": "stream",
     "text": [
      "apple\n",
      "Game over\n"
     ]
    }
   ],
   "source": [
    "fruits = [\"apple\", \"banana\", \"cherry\"]\n",
    "for x in fruits:\n",
    "    #Если элемент равен 'banana', то прервать цикл\n",
    "    if x == \"banana\":\n",
    "        break\n",
    "    print(x)  \n",
    "print('Game over')"
   ]
  },
  {
   "cell_type": "markdown",
   "id": "c776c449",
   "metadata": {},
   "source": [
    "### Пропуск части цикла: continue"
   ]
  },
  {
   "cell_type": "markdown",
   "id": "d03c6e85",
   "metadata": {},
   "source": [
    "Используется в случае необходимости принудительно начать следующий шаг цикла, пропустив часть строк в его теле. "
   ]
  },
  {
   "cell_type": "code",
   "execution_count": 49,
   "id": "de578455",
   "metadata": {},
   "outputs": [
    {
     "name": "stdout",
     "output_type": "stream",
     "text": [
      "apple\n",
      "cherry\n"
     ]
    }
   ],
   "source": [
    "fruits = [\"apple\", \"banana\", \"cherry\"]\n",
    "for x in fruits:\n",
    "    # Если элемент равен 'banana', то не выполнять дальнейшие инструкции цикла, \n",
    "    # а перейти к обработке следующего элемента\n",
    "    if x == \"banana\":\n",
    "        continue\n",
    "    print(x)"
   ]
  },
  {
   "cell_type": "markdown",
   "id": "c13b9fc1",
   "metadata": {},
   "source": [
    "*Из диапазона от 1 до 10 включительно вывести только те числа, которые не делятся ни на 2, ни на 3.*\n",
    "\n",
    "Пояснение: В данном примере надо пропускать числа, которые делятся на 2 или 3"
   ]
  },
  {
   "cell_type": "code",
   "execution_count": 54,
   "id": "1ac5bef4",
   "metadata": {},
   "outputs": [
    {
     "name": "stdout",
     "output_type": "stream",
     "text": [
      "1\n",
      "5\n",
      "7\n"
     ]
    }
   ],
   "source": [
    "for num in range(1,11):\n",
    "    if num % 2 == 0 or num % 3 == 0:\n",
    "        continue\n",
    "    print(num) "
   ]
  },
  {
   "cell_type": "code",
   "execution_count": null,
   "id": "e419225f",
   "metadata": {},
   "outputs": [],
   "source": []
  },
  {
   "cell_type": "code",
   "execution_count": null,
   "id": "23333bb6",
   "metadata": {},
   "outputs": [],
   "source": []
  },
  {
   "cell_type": "code",
   "execution_count": null,
   "id": "68ecb087",
   "metadata": {},
   "outputs": [],
   "source": []
  },
  {
   "cell_type": "markdown",
   "id": "f74e6f25",
   "metadata": {},
   "source": [
    "## else в цикле"
   ]
  },
  {
   "cell_type": "markdown",
   "id": "d8a9a905",
   "metadata": {},
   "source": [
    "else-код выполнится после того, как пройдут все витки цикла"
   ]
  },
  {
   "cell_type": "code",
   "execution_count": 55,
   "id": "388bbef3",
   "metadata": {},
   "outputs": [
    {
     "name": "stdout",
     "output_type": "stream",
     "text": [
      "apple\n",
      "cherry\n",
      "Программа окончена\n"
     ]
    }
   ],
   "source": [
    "fruits = [\"apple\", \"cherry\",\"banana\",\"orange\"]\n",
    "for x in fruits:\n",
    "    # Если элемент равен 'banana', то прервать цикл\n",
    "    if x == \"banana\":\n",
    "        break\n",
    "    print(x)\n",
    "else:\n",
    "    print('Успешное окончание цикла. Все итерации выполнены')\n",
    "print('Программа окончена')"
   ]
  },
  {
   "cell_type": "markdown",
   "id": "d1af33c0",
   "metadata": {},
   "source": [
    "В данном примере **break** не выполнился, поэтому ветка **else** выполнилась. В случае срабатывания **break**, else не выполняется.\n"
   ]
  },
  {
   "cell_type": "code",
   "execution_count": 57,
   "id": "b3497df2",
   "metadata": {},
   "outputs": [
    {
     "name": "stdout",
     "output_type": "stream",
     "text": [
      "apple\n",
      "cherry\n",
      "orange\n",
      "Успешное окончание цикла. Все итерации выполнены\n",
      "Программа окончена\n"
     ]
    }
   ],
   "source": [
    "fruits = [\"apple\", \"cherry\", \"banana\", \"orange\"]\n",
    "for x in fruits:\n",
    "    # Если элемент равен 'banana', то прервать цикл\n",
    "    if x == \"banana\":\n",
    "        continue\n",
    "    print(x)\n",
    "else:\n",
    "    print('Успешное окончание цикла. Все итерации выполнены')\n",
    "print('Программа окончена')"
   ]
  },
  {
   "cell_type": "markdown",
   "id": "c9f0723e",
   "metadata": {},
   "source": [
    "## Примеры решения задач"
   ]
  },
  {
   "cell_type": "markdown",
   "id": "b2f407ec",
   "metadata": {},
   "source": [
    "### Cписок целых чисел"
   ]
  },
  {
   "cell_type": "markdown",
   "id": "8f04adc0",
   "metadata": {},
   "source": [
    "Имеется список из целых чисел. \n",
    "Необходимо создать новый список, в котором содержатся только те числа, которые больше 5 по модулю."
   ]
  },
  {
   "cell_type": "code",
   "execution_count": 58,
   "id": "41b48ca8",
   "metadata": {},
   "outputs": [
    {
     "name": "stdout",
     "output_type": "stream",
     "text": [
      "[23, -9, 7, -12]\n"
     ]
    }
   ],
   "source": [
    "my_list = [23, 4, -9, 7, -12, -3]\n",
    "new_list = []\n",
    "\n",
    "for num in my_list:\n",
    "    if abs(num) > 5:\n",
    "        new_list.append(num)\n",
    "print(new_list)"
   ]
  },
  {
   "cell_type": "code",
   "execution_count": 62,
   "id": "9796f388",
   "metadata": {},
   "outputs": [
    {
     "data": {
      "text/plain": [
       "[23, -9, 7, -12]"
      ]
     },
     "execution_count": 62,
     "metadata": {},
     "output_type": "execute_result"
    }
   ],
   "source": [
    "[x for x in my_list if abs(x)>5]"
   ]
  },
  {
   "cell_type": "code",
   "execution_count": null,
   "id": "b4ac9a54",
   "metadata": {},
   "outputs": [],
   "source": []
  },
  {
   "cell_type": "markdown",
   "id": "85311fb9",
   "metadata": {},
   "source": [
    "### Верхний регистр"
   ]
  },
  {
   "cell_type": "markdown",
   "id": "930bbebd",
   "metadata": {},
   "source": [
    "В заданной строке все символы английского алфвита перевести в верхний регистр\n",
    "\n",
    " "
   ]
  },
  {
   "cell_type": "markdown",
   "id": "02771290",
   "metadata": {},
   "source": [
    "Ввод: Сетевая карта устройства имеет mac-адрес aa12:456d:fe43"
   ]
  },
  {
   "cell_type": "markdown",
   "id": "9287f4f3",
   "metadata": {},
   "source": [
    "Вывод: Сетевая карта устройства имеет MAC-адрес AA12:456D:FE43"
   ]
  },
  {
   "cell_type": "code",
   "execution_count": 59,
   "id": "c65bb8f6",
   "metadata": {},
   "outputs": [
    {
     "data": {
      "text/plain": [
       "97"
      ]
     },
     "execution_count": 59,
     "metadata": {},
     "output_type": "execute_result"
    }
   ],
   "source": [
    "ord('a')"
   ]
  },
  {
   "cell_type": "code",
   "execution_count": 60,
   "id": "e33b091f",
   "metadata": {},
   "outputs": [
    {
     "data": {
      "text/plain": [
       "122"
      ]
     },
     "execution_count": 60,
     "metadata": {},
     "output_type": "execute_result"
    }
   ],
   "source": [
    "ord('z')"
   ]
  },
  {
   "cell_type": "code",
   "execution_count": 64,
   "id": "7229cf59",
   "metadata": {},
   "outputs": [
    {
     "name": "stdout",
     "output_type": "stream",
     "text": [
      "Сетевая карта устройства имеет MAC-адрес AA12:456D:FE43\n"
     ]
    }
   ],
   "source": [
    "mac = 'Сетевая карта устройства имеет mac-адрес aa12:456d:fe43'\n",
    "result = \"\"\n",
    "\n",
    "for index in range(len(mac)):\n",
    "    if ord(mac[index]) in range(97,123):\n",
    "        result += mac[index].upper()\n",
    "    else:\n",
    "        result += mac[index]\n",
    "print(result)"
   ]
  },
  {
   "cell_type": "code",
   "execution_count": 67,
   "id": "7be5be9f",
   "metadata": {},
   "outputs": [
    {
     "name": "stdout",
     "output_type": "stream",
     "text": [
      "Сетевая карта устройства имеет MAC-адрес AA12:456D:FE43\n"
     ]
    }
   ],
   "source": [
    "mac = 'Сетевая карта устройства имеет mac-адрес aa12:456d:fe43'\n",
    "result = \"\"\n",
    "\n",
    "for el in mac:\n",
    "    #if ord(el) in range(97,123):\n",
    "    if 97 <= ord(el) <= 122: # ord(el) >= 97 and ord(el) <= 122\n",
    "        result += el.upper()\n",
    "    else:\n",
    "        result += el\n",
    "print(result)"
   ]
  },
  {
   "cell_type": "markdown",
   "id": "5a60e930",
   "metadata": {},
   "source": [
    "### Список сотрудников"
   ]
  },
  {
   "cell_type": "markdown",
   "id": "4bf90e2f",
   "metadata": {},
   "source": [
    "Вывести Фамилию, инициалы и год рождения сотрудников, которые родились в 20 веке"
   ]
  },
  {
   "cell_type": "markdown",
   "id": "66820e69",
   "metadata": {},
   "source": [
    "Ввод: Глуховская Виталия Брониславовна, 21.01.1983 \n",
    "\n",
    "Вывод: Глуховская В. Б. - 1983"
   ]
  },
  {
   "cell_type": "code",
   "execution_count": 85,
   "id": "5bec8bf7",
   "metadata": {},
   "outputs": [
    {
     "name": "stdout",
     "output_type": "stream",
     "text": [
      "Глуховская В.Б. - 1983\n",
      "Наумов В.Ф. - 2000\n",
      "Солопов Г.А. - 1972\n"
     ]
    }
   ],
   "source": [
    "dict_empl = {'gvb': 'Глуховская Виталия Брониславовна, 21.01.1983',\n",
    "             'nvf': 'Наумов Валентин Филатович, 12.05.2000', \n",
    "             'sga': 'Солопов Григорий Анатольевич, 11.11.1972',\n",
    "             'mla': 'Моисеева Лера Абрамовна, 05.06.2001'\n",
    "            }\n",
    "\n",
    "my_empl = list(dict_empl.values())\n",
    "for line in my_empl:\n",
    "    pers, dr = line.split(',')\n",
    "    f, i, o = pers.split()\n",
    "    year = int(dr.split('.')[2])\n",
    "    if year <= 2000:\n",
    "        print(f'{f} {i[0]}.{o[0]}. - {year}')"
   ]
  },
  {
   "cell_type": "markdown",
   "id": "e50a0a1b",
   "metadata": {},
   "source": [
    "### Операция \"Ы\""
   ]
  },
  {
   "cell_type": "markdown",
   "id": "449bf160",
   "metadata": {},
   "source": [
    "Случайным образом распределить арестованных на 15 суток граждан по требуемым видам работ. Нераспределенные граждане отправляются на уборку территории."
   ]
  },
  {
   "cell_type": "code",
   "execution_count": 10,
   "id": "59b8fb58",
   "metadata": {},
   "outputs": [
    {
     "name": "stdout",
     "output_type": "stream",
     "text": [
      "['Тунеядец_2', 'Хулиган_4', 'Хулиган_3', 'Алкоголик_3', 'Тунеядец_3', 'Тунеядец_4', 'Алкоголик_4', 'Алкоголик_2', 'Хулиган_1', 'Хулиган_2', 'Тунеядец_1', 'Алкоголик_1']\n",
      "--------------------------------------------------\n",
      "{'Мясокомбинат': [],\n",
      " 'Песчаный карьер': ['Алкоголик_1', 'Тунеядец_1'],\n",
      " 'Погрузка угля': ['Алкоголик_4', 'Тунеядец_4'],\n",
      " 'Уборка конюшен': ['Тунеядец_3'],\n",
      " 'Уборка территории': ['Тунеядец_2', 'Хулиган_4', 'Хулиган_3', 'Алкоголик_3'],\n",
      " 'Цементный завод': ['Хулиган_2', 'Хулиган_1', 'Алкоголик_2']}\n",
      "--------------------------------------------------\n",
      "\n",
      "Песчаный карьер:\n",
      "++++++++++++++++++++\n",
      "Алкоголик_1\n",
      "Тунеядец_1\n",
      "\n",
      "Цементный завод:\n",
      "++++++++++++++++++++\n",
      "Хулиган_2\n",
      "Хулиган_1\n",
      "Алкоголик_2\n",
      "\n",
      "Погрузка угля:\n",
      "++++++++++++++++++++\n",
      "Алкоголик_4\n",
      "Тунеядец_4\n",
      "\n",
      "Уборка конюшен:\n",
      "++++++++++++++++++++\n",
      "Тунеядец_3\n",
      "\n",
      "Уборка территории:\n",
      "++++++++++++++++++++\n",
      "Тунеядец_2\n",
      "Хулиган_4\n",
      "Хулиган_3\n",
      "Алкоголик_3\n"
     ]
    }
   ],
   "source": [
    "prisoners = ['Алкоголик_1', 'Тунеядец_1','Хулиган_1',\n",
    "             'Алкоголик_2', 'Тунеядец_2','Хулиган_2',\n",
    "            'Алкоголик_3', 'Тунеядец_3','Хулиган_3',\n",
    "            'Алкоголик_4', 'Тунеядец_4','Хулиган_4'\n",
    "            ]\n",
    "\n",
    "work_orders = {'Песчаный карьер': 2, \n",
    "               'Цементный завод': 3,\n",
    "               'Погрузка угля':2,\n",
    "               'Уборка конюшен':1,\n",
    "               'Мясокомбинат': 0\n",
    "              }\n",
    "\n",
    "# pprint в Python — это модуль, предназначенный для вывода сложных структур данных в более читабельном виде. \n",
    "from pprint import pprint\n",
    "import random\n",
    "\n",
    "#Перемешиваем список\n",
    "random.shuffle(prisoners)\n",
    "print(prisoners)\n",
    "\n",
    "# Итоговый словарь с видами работ и гражданами\n",
    "result = {}\n",
    "\n",
    "# Для каждой пары ключ-значение (ключ запишется в wo,  значение -  np)\n",
    "for wo, np in work_orders.items():\n",
    "    # создать список с гражданами\n",
    "    pr_lst = []\n",
    "    # Для каждого значения из np (количество человек)\n",
    "    for index in range(np):\n",
    "        # Взять случайным образом гражданина из множеста, удалив из него\n",
    "        pr = prisoners.pop()\n",
    "        # Довабить гражданина в список на вид работ\n",
    "        pr_lst.append(pr) \n",
    "    \n",
    "    # Сформированный список граждан занести в итоговый словарь\n",
    "    result[wo] = pr_lst\n",
    "    \n",
    "# Занести нераспределенных граждан в словарь\n",
    "result['Уборка территории'] = prisoners\n",
    "print('-' * 50)\n",
    "pprint(result)\n",
    "print('-' * 50)\n",
    "\n",
    "# Вывод итогового списка\n",
    "for wo, pr in result.items():\n",
    "    # Если словаре виду работ назначен пустой список, то перейти к следующей итерации (виду работ)\n",
    "    if not(result[wo]): \n",
    "        # result['мясокомбинат'] - пустой список [], поэтому переход далее\n",
    "        continue\n",
    "    print(f'\\n{wo}:')\n",
    "    print('+' * 20)\n",
    "    for gr in pr:\n",
    "        print(gr)"
   ]
  },
  {
   "cell_type": "markdown",
   "id": "b55b04a0",
   "metadata": {},
   "source": [
    "### \"Переводчик\""
   ]
  },
  {
   "cell_type": "markdown",
   "id": "90c31c1a",
   "metadata": {},
   "source": [
    "Сотрудники часто забывают переключать клавиатуру с ангийской раскладки на русскую. А так как не все владеют \"слепым\" методом печати, то обнаруживается это, когда набрана половина страницы текста. Поэтому они попросили сотрудника **<ваше_имя>**, разбирающегося в программировании, создать скрипт, восстанавливающий русский текст. Очень накладно все время перепечатывать."
   ]
  },
  {
   "cell_type": "code",
   "execution_count": 2,
   "id": "ccc7f64d",
   "metadata": {},
   "outputs": [
    {
     "name": "stdout",
     "output_type": "stream",
     "text": [
      "Текст: Qwerty\n",
      "Транслитерация:  Йцукен\n"
     ]
    }
   ],
   "source": [
    "en2ru = {'q':'й',\n",
    "         'Q':'Й',\n",
    "         'w':'ц', \n",
    "         'e':'у', \n",
    "         'r':'к', 't':'е', 'y':'н', 'u':'г', 'i':'ш', 'o':'щ', 'p':'з', \\\n",
    "             'a':'ф', 's':'ы', 'd':'в', 'f':'а', 'g':'п', 'h':'р', 'j':'о', 'k':'л', 'l':'д', \\\n",
    "             'z':'я', 'x':'ч', 'c':'с', 'v':'м', 'b':'и', 'n':'т', 'm':'ь'}\n",
    "key = en2ru.keys()\n",
    "\n",
    "# s = 'в окне ujhbn cdtn'\n",
    "s = input('Текст: ')\n",
    "for k in key:\n",
    "    s = s.replace(k, en2ru.get(k))\n",
    "print('Транслитерация: ', s)"
   ]
  },
  {
   "cell_type": "code",
   "execution_count": null,
   "id": "88cb8c61",
   "metadata": {},
   "outputs": [],
   "source": []
  },
  {
   "cell_type": "code",
   "execution_count": null,
   "id": "48b424b4",
   "metadata": {},
   "outputs": [],
   "source": []
  },
  {
   "cell_type": "code",
   "execution_count": null,
   "id": "32cbbdee",
   "metadata": {},
   "outputs": [],
   "source": []
  },
  {
   "cell_type": "code",
   "execution_count": null,
   "id": "9c85ceaf",
   "metadata": {},
   "outputs": [],
   "source": []
  },
  {
   "cell_type": "markdown",
   "id": "6cc38eee",
   "metadata": {},
   "source": [
    "### Делители *"
   ]
  },
  {
   "cell_type": "markdown",
   "id": "4c576d65",
   "metadata": {},
   "source": [
    "Работники аналитического отдела в свободное время не курят, а решают на спор разные математические задачи.\n",
    "Сегодня на спор искали все делители случайных чисел. Для простых примеров решения находились быстро (для числа 6 это: 1, 2, 3, 6; а для числа 16 это: 1, 2, 4, 8, 16). Но когда начались примеры посерьезнее, то опять без сотудника, разбирающегося в программировании <ваше имя> не обошлось.\n",
    "\n",
    "Варианты посложнее были, например такие: 23456, 150194200, 25604557902344\n",
    "\n",
    "Вручную решить сложновато. Составьте скрипт для решения. Результат представьте в виде списка, отсортированного по возрастанию."
   ]
  }
 ],
 "metadata": {
  "kernelspec": {
   "display_name": "Python 3 (ipykernel)",
   "language": "python",
   "name": "python3"
  },
  "language_info": {
   "codemirror_mode": {
    "name": "ipython",
    "version": 3
   },
   "file_extension": ".py",
   "mimetype": "text/x-python",
   "name": "python",
   "nbconvert_exporter": "python",
   "pygments_lexer": "ipython3",
   "version": "3.8.10"
  },
  "toc": {
   "base_numbering": 1,
   "nav_menu": {},
   "number_sections": true,
   "sideBar": true,
   "skip_h1_title": false,
   "title_cell": "Table of Contents",
   "title_sidebar": "Contents",
   "toc_cell": false,
   "toc_position": {},
   "toc_section_display": true,
   "toc_window_display": false
  }
 },
 "nbformat": 4,
 "nbformat_minor": 5
}
