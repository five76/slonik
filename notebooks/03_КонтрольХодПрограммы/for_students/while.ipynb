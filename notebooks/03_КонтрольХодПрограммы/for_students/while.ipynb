{
 "cells": [
  {
   "cell_type": "markdown",
   "id": "55d5e219",
   "metadata": {},
   "source": [
    "<div class=\"alert alert-success\">\n",
    "\n",
    "    \n",
    "## Цикл while\n",
    "\n",
    "\n",
    "Очень часто одно и то же действие надо выполнить для набора однотипных данных. Например, преобразовать все строки в списке в верхний регистр. Для выполнения таких действий в Python используется цикл for.\n",
    "\n",
    "Цикл **while** используется в случаях, когда количество итераций цикла неопределено (при неправильном подходе может оказаться и бесконечным)\n",
    "    \n",
    "Синтаксис:\n",
    "\n",
    "    while <условие>:\n",
    "        тело цикла\n",
    "    \n",
    "    \n",
    "</div>"
   ]
  },
  {
   "cell_type": "markdown",
   "id": "43b0cd5e",
   "metadata": {},
   "source": [
    "*Печатать значения, пока их значения меньше 10*"
   ]
  },
  {
   "cell_type": "code",
   "execution_count": 2,
   "id": "c2e0a05a",
   "metadata": {},
   "outputs": [
    {
     "name": "stdout",
     "output_type": "stream",
     "text": [
      "1 2 3 4 5 6 7 8 9 10 11 12 13 14 15 16 17 18 19 20 21 22 23 24 25 26 27 28 29 30 31 32 33 34 35 36 37 38 39 40 41 42 43 44 45 46 47 48 49 50 51 52 53 54 55 56 57 58 59 60 61 62 63 64 65 66 67 68 69 70 71 72 73 74 75 76 77 78 79 80 81 82 83 84 85 86 87 88 89 90 91 92 93 94 95 96 97 98 99 "
     ]
    }
   ],
   "source": [
    "i = 1\n",
    "while i < 100:\n",
    "    print(i, end=' ')\n",
    "    i += 1"
   ]
  },
  {
   "cell_type": "markdown",
   "id": "e94ec8d5",
   "metadata": {},
   "source": [
    "*Заполнять с клавиатуры список строками, пока не будет введена пустая строка*"
   ]
  },
  {
   "cell_type": "code",
   "execution_count": 3,
   "id": "f0959737",
   "metadata": {},
   "outputs": [
    {
     "name": "stdout",
     "output_type": "stream",
     "text": [
      "Введите строку:dfg\n",
      "Введите строку:dfgh\n",
      "Введите строку:ert\n",
      "Введите строку:uyi\n",
      "Введите строку:\n",
      "['dfg', 'dfgh', 'ert', 'uyi']\n"
     ]
    }
   ],
   "source": [
    "my_list = []\n",
    "input_string = input('Введите строку:')\n",
    "while input_string:\n",
    "    my_list.append(input_string)\n",
    "    input_string = input('Введите строку:')\n",
    "print(my_list)"
   ]
  },
  {
   "cell_type": "markdown",
   "id": "130c772f",
   "metadata": {},
   "source": [
    "2 способ:"
   ]
  },
  {
   "cell_type": "code",
   "execution_count": 4,
   "id": "86d460b7",
   "metadata": {},
   "outputs": [
    {
     "name": "stdout",
     "output_type": "stream",
     "text": [
      "Введите строку:sdfs\n",
      "Введите строку:fdg\n",
      "Введите строку:\n",
      "['sdfs', 'fdg']\n"
     ]
    }
   ],
   "source": [
    "my_list = []\n",
    "while True:\n",
    "    # Зап|рос и чтение строки\n",
    "    input_string = input('Введите строку:')\n",
    "    # Если введена пустая строка, то input_string - это False \n",
    "    # => not input_string - это True\n",
    "    if not input_string:\n",
    "        break\n",
    "    my_list.append(input_string)\n",
    "    \n",
    "print(my_list)"
   ]
  },
  {
   "cell_type": "markdown",
   "id": "033f2c12",
   "metadata": {},
   "source": [
    "Сумма чисел из строки\n",
    "\n",
    "С клаватуры вводится последовательность чисел. Окончание ввода - ввод пустого значения. Найти сумму этих чисел."
   ]
  },
  {
   "cell_type": "code",
   "execution_count": 6,
   "id": "e59acf27",
   "metadata": {},
   "outputs": [
    {
     "name": "stdout",
     "output_type": "stream",
     "text": [
      "Введите число:4\n",
      "Введите число:5\n",
      "Введите число:6\n",
      "Введите число:7\n",
      "Введите число:8\n",
      "Введите число:0\n",
      "[4, 5, 6, 7, 8]\n",
      "30\n"
     ]
    }
   ],
   "source": [
    "my_list = []\n",
    "num = int(input('Введите число:'))\n",
    "while num:\n",
    "    my_list.append(num)\n",
    "    num = int(input('Введите число:'))\n",
    "print(my_list)\n",
    "print(sum(my_list))"
   ]
  },
  {
   "cell_type": "code",
   "execution_count": null,
   "id": "1409d206",
   "metadata": {},
   "outputs": [],
   "source": []
  },
  {
   "cell_type": "code",
   "execution_count": null,
   "id": "c02e063e",
   "metadata": {},
   "outputs": [],
   "source": []
  },
  {
   "cell_type": "code",
   "execution_count": null,
   "id": "3bc8c248",
   "metadata": {},
   "outputs": [],
   "source": []
  },
  {
   "cell_type": "code",
   "execution_count": null,
   "id": "b4050051",
   "metadata": {},
   "outputs": [],
   "source": []
  },
  {
   "cell_type": "code",
   "execution_count": null,
   "id": "a07a7944",
   "metadata": {},
   "outputs": [],
   "source": []
  },
  {
   "cell_type": "code",
   "execution_count": null,
   "id": "531d4890",
   "metadata": {},
   "outputs": [],
   "source": []
  },
  {
   "cell_type": "markdown",
   "id": "74456a97",
   "metadata": {},
   "source": [
    "Операции **continue**, **break**, **else** применяются аналогично for"
   ]
  },
  {
   "cell_type": "code",
   "execution_count": null,
   "id": "45e9417c",
   "metadata": {},
   "outputs": [],
   "source": []
  },
  {
   "cell_type": "code",
   "execution_count": null,
   "id": "5433ca94",
   "metadata": {},
   "outputs": [],
   "source": []
  },
  {
   "cell_type": "markdown",
   "id": "f6f33f5f",
   "metadata": {},
   "source": [
    "### Примеры решения задач"
   ]
  },
  {
   "cell_type": "markdown",
   "id": "c9c51aca",
   "metadata": {},
   "source": [
    "#### Число-перевертыш"
   ]
  },
  {
   "cell_type": "markdown",
   "id": "838b3a06",
   "metadata": {},
   "source": [
    "Дано целое число n, записать его в обратном порядке"
   ]
  },
  {
   "cell_type": "code",
   "execution_count": 8,
   "id": "9e60ee8b",
   "metadata": {},
   "outputs": [
    {
     "name": "stdout",
     "output_type": "stream",
     "text": [
      "Введите число789456\n",
      "['6', '5', '4', '9', '8', '7']\n",
      "654987\n"
     ]
    }
   ],
   "source": [
    "num = int(input('Введите число'))\n",
    "m = []\n",
    "while num:\n",
    "    c = num % 10\n",
    "    m.append(str(c))\n",
    "    num = num // 10\n",
    "print(m)\n",
    "print(int(''.join(m)))"
   ]
  },
  {
   "cell_type": "code",
   "execution_count": null,
   "id": "0330791e",
   "metadata": {},
   "outputs": [],
   "source": []
  },
  {
   "cell_type": "code",
   "execution_count": null,
   "id": "95328da0",
   "metadata": {},
   "outputs": [],
   "source": []
  },
  {
   "cell_type": "code",
   "execution_count": null,
   "id": "7edacd54",
   "metadata": {},
   "outputs": [],
   "source": []
  },
  {
   "cell_type": "markdown",
   "id": "2f6f3ae6",
   "metadata": {},
   "source": [
    "#### Тайный агент"
   ]
  },
  {
   "cell_type": "markdown",
   "id": "f4cc1ece",
   "metadata": {},
   "source": [
    "Начальник отдела Яков, с детства читавший книжки про шпионов,  решил пускать на свою страничку в Интернете только тех сотрудников, чьи никнеймы есть в его секретном списке. Каждому он придумал секретное имя.\n",
    "\n",
    "Список такой: Ладор, Фенйог, Древосан, Боронос, Симпано, Змезнай.\n",
    "\n",
    "По мере увеличения штата сотрудников список дополняется.\n",
    "\n",
    "Задача сотрудника Змезная, (а это Вы) такова: написать код, который будет спрашивать у сотрудника его ник и \n",
    "либо пускать на страницу \"Пробонд\" (Просто Бонд) с выводом сообщение «Заходи, {НИК_ПОСЕТИТЕЛЯ}, хвоcта нет?!», \n",
    "либо нет (в этом случае будет такой текст: «Ушел на базу»). \n",
    "Ну что же, у каждого свои странности.\n",
    "\n",
    "Для проверки тайных имен сотрудников использовать встроенную функцию input()."
   ]
  },
  {
   "cell_type": "code",
   "execution_count": null,
   "id": "202201ff",
   "metadata": {},
   "outputs": [],
   "source": []
  },
  {
   "cell_type": "code",
   "execution_count": null,
   "id": "f58e1514",
   "metadata": {},
   "outputs": [],
   "source": []
  }
 ],
 "metadata": {
  "kernelspec": {
   "display_name": "Python 3 (ipykernel)",
   "language": "python",
   "name": "python3"
  },
  "language_info": {
   "codemirror_mode": {
    "name": "ipython",
    "version": 3
   },
   "file_extension": ".py",
   "mimetype": "text/x-python",
   "name": "python",
   "nbconvert_exporter": "python",
   "pygments_lexer": "ipython3",
   "version": "3.8.10"
  },
  "toc": {
   "base_numbering": 1,
   "nav_menu": {},
   "number_sections": true,
   "sideBar": true,
   "skip_h1_title": false,
   "title_cell": "Table of Contents",
   "title_sidebar": "Contents",
   "toc_cell": false,
   "toc_position": {},
   "toc_section_display": true,
   "toc_window_display": false
  }
 },
 "nbformat": 4,
 "nbformat_minor": 5
}
