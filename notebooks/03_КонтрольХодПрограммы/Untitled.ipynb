{
 "cells": [
  {
   "cell_type": "code",
   "execution_count": 2,
   "id": "97617e20",
   "metadata": {},
   "outputs": [],
   "source": [
    "a = ['Глуховская 4.79', 'Сазонов 4.21', \n",
    "     'Солопов 4.07', 'Моисеева 4.0', 'Шатыренок 4.0', \n",
    "     'Дубова 3.86', 'Наумов 3.86', 'Скоробогатов 3.86', \n",
    "     'Зиновьева 3.71', 'Шахмагонова 3.57']"
   ]
  },
  {
   "cell_type": "code",
   "execution_count": 6,
   "id": "5d6087e4",
   "metadata": {},
   "outputs": [
    {
     "name": "stdout",
     "output_type": "stream",
     "text": [
      "['Глуховская 4.79', 'Сазонов 4.21', 'Солопов 4.07', 'Моисеева 4.0', 'Шатыренок 4.0']\n"
     ]
    }
   ],
   "source": [
    "print(list(filter(lambda x: float(x.split()[-1]) >= 4.0, a)))"
   ]
  },
  {
   "cell_type": "code",
   "execution_count": null,
   "id": "3c137f3b",
   "metadata": {},
   "outputs": [],
   "source": []
  }
 ],
 "metadata": {
  "kernelspec": {
   "display_name": "Python 3 (ipykernel)",
   "language": "python",
   "name": "python3"
  },
  "language_info": {
   "codemirror_mode": {
    "name": "ipython",
    "version": 3
   },
   "file_extension": ".py",
   "mimetype": "text/x-python",
   "name": "python",
   "nbconvert_exporter": "python",
   "pygments_lexer": "ipython3",
   "version": "3.8.10"
  },
  "toc": {
   "base_numbering": 1,
   "nav_menu": {},
   "number_sections": true,
   "sideBar": true,
   "skip_h1_title": false,
   "title_cell": "Table of Contents",
   "title_sidebar": "Contents",
   "toc_cell": false,
   "toc_position": {},
   "toc_section_display": true,
   "toc_window_display": false
  }
 },
 "nbformat": 4,
 "nbformat_minor": 5
}
