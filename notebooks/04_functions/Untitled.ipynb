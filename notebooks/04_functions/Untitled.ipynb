{
 "cells": [
  {
   "cell_type": "code",
   "execution_count": 2,
   "id": "bb84b584",
   "metadata": {},
   "outputs": [
    {
     "name": "stdout",
     "output_type": "stream",
     "text": [
      "[4.0, 3.86, 3.71, 4.0, 3.86, 4.21, 3.86, 4.07, 4.0, 3.57]\n"
     ]
    }
   ],
   "source": [
    "import csv\n",
    "from pprint import pprint\n",
    "# Создание пустых списков для:\n",
    "# фамилий\n",
    "person_lst=[]\n",
    "# оценок\n",
    "marks_lst = []\n",
    "# Открытие контекста для файла\n",
    "with open ('marks.csv') as f:\n",
    "        # Для каждой считанной из фала строки повторять\n",
    "        for line in f:\n",
    "                # Разбить строку по разделителю \";\"\n",
    "                s = line.split(';')\n",
    "                # p - фамилия из полученного списка\n",
    "                # m - все оценки\n",
    "                p, m = s[0],s[1:]\n",
    "                # Добавить фамилию в список person_lst\n",
    "                person_lst.append(p)\n",
    "                # Добавить оценки в список marks_lst, предварительно приведя к типу int\n",
    "                marks_lst.append(list(map(int,m)))\n",
    "\n",
    "# Расчет среднего балла для каждого студента\n",
    "average_scores = list(map(lambda x : round(sum(x) / len(x),2), marks_lst))\n",
    "\n",
    "print(average_scores)\n",
    "\n"
   ]
  },
  {
   "cell_type": "code",
   "execution_count": null,
   "id": "88fd70ea",
   "metadata": {},
   "outputs": [],
   "source": []
  }
 ],
 "metadata": {
  "kernelspec": {
   "display_name": "Python 3 (ipykernel)",
   "language": "python",
   "name": "python3"
  },
  "language_info": {
   "codemirror_mode": {
    "name": "ipython",
    "version": 3
   },
   "file_extension": ".py",
   "mimetype": "text/x-python",
   "name": "python",
   "nbconvert_exporter": "python",
   "pygments_lexer": "ipython3",
   "version": "3.11.5"
  }
 },
 "nbformat": 4,
 "nbformat_minor": 5
}
