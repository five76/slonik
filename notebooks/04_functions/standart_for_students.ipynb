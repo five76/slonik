{
 "cells": [
  {
   "cell_type": "markdown",
   "id": "38f16672",
   "metadata": {},
   "source": [
    "# Функции стандартной библиотеки"
   ]
  },
  {
   "cell_type": "markdown",
   "id": "ea476843",
   "metadata": {},
   "source": [
    "Стандартная библиотека Python очень обширна и предлагает широкий спектр возможностей. Библиотека содержит встроенные модули (написанные на C), которые обеспечивают доступ к системным функциям, таким как файловый ввод-вывод, которые в противном случае были бы недоступны программистам на Python, а также модули, написанные на Python, которые предоставляют стандартизированные решения для многих проблем, возникающих в повседневном программировании. Некоторые из этих модулей специально разработаны для поощрения и повышения переносимости программ на Python путем абстрагирования от специфики платформы и создания независимых от платформы. \n",
    "\n",
    "Установщики Python для платформы Windows обычно включают в себя всю стандартную библиотеку и часто также включают множество дополнительных компонентов. Для Unix-подобных операционных систем Python обычно предоставляется в виде набора пакетов, поэтому для получения некоторых или всех дополнительных компонентов может потребоваться использование средств упаковки, поставляемых вместе с операционной системой.\n",
    "\n",
    "В дополнение к стандартной библиотеке существует активная коллекция из сотен тысяч компонентов (от отдельных программ и модулей до пакетов и целых платформ разработки приложений), доступная из Python Package Index."
   ]
  },
  {
   "cell_type": "markdown",
   "id": "84441afa",
   "metadata": {},
   "source": [
    "## Встроенные функции (Built-in Functions)"
   ]
  },
  {
   "cell_type": "markdown",
   "id": "a940f804",
   "metadata": {},
   "source": [
    "Список функций и документацию по ним можно посмотреть на официальном сайте:\n",
    "\n",
    "https://docs.python.org/3/library/functions.html"
   ]
  },
  {
   "cell_type": "markdown",
   "id": "954d9945",
   "metadata": {},
   "source": [
    "В стандартную библиотеку Python входит множество встроенных функций и классов. Все встроенные объекты можно посмотреть следующим образом:"
   ]
  },
  {
   "cell_type": "code",
   "execution_count": 1,
   "id": "d019532e",
   "metadata": {},
   "outputs": [
    {
     "name": "stdout",
     "output_type": "stream",
     "text": [
      "__name__\n",
      "__doc__\n",
      "__package__\n",
      "__loader__\n",
      "__spec__\n",
      "__build_class__\n",
      "__import__\n",
      "abs\n",
      "all\n",
      "any\n",
      "ascii\n",
      "bin\n",
      "breakpoint\n",
      "callable\n",
      "chr\n",
      "compile\n",
      "delattr\n",
      "dir\n",
      "divmod\n",
      "eval\n",
      "exec\n",
      "format\n",
      "getattr\n",
      "globals\n",
      "hasattr\n",
      "hash\n",
      "hex\n",
      "id\n",
      "input\n",
      "isinstance\n",
      "issubclass\n",
      "iter\n",
      "len\n",
      "locals\n",
      "max\n",
      "min\n",
      "next\n",
      "oct\n",
      "ord\n",
      "pow\n",
      "print\n",
      "repr\n",
      "round\n",
      "setattr\n",
      "sorted\n",
      "sum\n",
      "vars\n",
      "None\n",
      "Ellipsis\n",
      "NotImplemented\n",
      "False\n",
      "True\n",
      "bool\n",
      "memoryview\n",
      "bytearray\n",
      "bytes\n",
      "classmethod\n",
      "complex\n",
      "dict\n",
      "enumerate\n",
      "filter\n",
      "float\n",
      "frozenset\n",
      "property\n",
      "int\n",
      "list\n",
      "map\n",
      "object\n",
      "range\n",
      "reversed\n",
      "set\n",
      "slice\n",
      "staticmethod\n",
      "str\n",
      "super\n",
      "tuple\n",
      "type\n",
      "zip\n",
      "__debug__\n",
      "BaseException\n",
      "Exception\n",
      "TypeError\n",
      "StopAsyncIteration\n",
      "StopIteration\n",
      "GeneratorExit\n",
      "SystemExit\n",
      "KeyboardInterrupt\n",
      "ImportError\n",
      "ModuleNotFoundError\n",
      "OSError\n",
      "EnvironmentError\n",
      "IOError\n",
      "WindowsError\n",
      "EOFError\n",
      "RuntimeError\n",
      "RecursionError\n",
      "NotImplementedError\n",
      "NameError\n",
      "UnboundLocalError\n",
      "AttributeError\n",
      "SyntaxError\n",
      "IndentationError\n",
      "TabError\n",
      "LookupError\n",
      "IndexError\n",
      "KeyError\n",
      "ValueError\n",
      "UnicodeError\n",
      "UnicodeEncodeError\n",
      "UnicodeDecodeError\n",
      "UnicodeTranslateError\n",
      "AssertionError\n",
      "ArithmeticError\n",
      "FloatingPointError\n",
      "OverflowError\n",
      "ZeroDivisionError\n",
      "SystemError\n",
      "ReferenceError\n",
      "MemoryError\n",
      "BufferError\n",
      "Warning\n",
      "UserWarning\n",
      "DeprecationWarning\n",
      "PendingDeprecationWarning\n",
      "SyntaxWarning\n",
      "RuntimeWarning\n",
      "FutureWarning\n",
      "ImportWarning\n",
      "UnicodeWarning\n",
      "BytesWarning\n",
      "ResourceWarning\n",
      "ConnectionError\n",
      "BlockingIOError\n",
      "BrokenPipeError\n",
      "ChildProcessError\n",
      "ConnectionAbortedError\n",
      "ConnectionRefusedError\n",
      "ConnectionResetError\n",
      "FileExistsError\n",
      "FileNotFoundError\n",
      "IsADirectoryError\n",
      "NotADirectoryError\n",
      "InterruptedError\n",
      "PermissionError\n",
      "ProcessLookupError\n",
      "TimeoutError\n",
      "open\n",
      "copyright\n",
      "credits\n",
      "license\n",
      "help\n",
      "execfile\n",
      "runfile\n",
      "__IPYTHON__\n",
      "display\n",
      "get_ipython\n"
     ]
    }
   ],
   "source": [
    "for e in __builtins__.__dict__:\n",
    "    print(e)"
   ]
  },
  {
   "cell_type": "markdown",
   "id": "ad2933d9",
   "metadata": {},
   "source": [
    "Получить справку можно, введя имя функции и знак вопроса"
   ]
  },
  {
   "cell_type": "code",
   "execution_count": 2,
   "id": "98aeae76",
   "metadata": {},
   "outputs": [],
   "source": [
    "filter?"
   ]
  },
  {
   "cell_type": "code",
   "execution_count": 3,
   "id": "92c90ef3",
   "metadata": {},
   "outputs": [
    {
     "data": {
      "text/plain": [
       "'filter(function or None, iterable) --> filter object\\n\\nReturn an iterator yielding those items of iterable for which function(item)\\nis true. If function is None, return the items that are true.'"
      ]
     },
     "execution_count": 3,
     "metadata": {},
     "output_type": "execute_result"
    }
   ],
   "source": [
    "filter.__doc__"
   ]
  },
  {
   "cell_type": "markdown",
   "id": "cb0ca6f4",
   "metadata": {},
   "source": [
    "Ранее было рассмотрено несколько встроенных функций:"
   ]
  },
  {
   "cell_type": "markdown",
   "id": "6901bb3a",
   "metadata": {},
   "source": [
    "### Общие функции"
   ]
  },
  {
   "cell_type": "markdown",
   "id": "d8d3f2cb",
   "metadata": {},
   "source": [
    "- print — функция вывода (например в консоль);\n",
    "- range — возврат последовательность чисел, с 0 до N (с шагом на 1 по умолчанию);\n",
    "- input - возврат введенной пользователем строки;\n",
    "- open - открытие файла и возврат его объекта"
   ]
  },
  {
   "cell_type": "markdown",
   "id": "0f9f476f",
   "metadata": {},
   "source": [
    "### Преобразование типов"
   ]
  },
  {
   "cell_type": "markdown",
   "id": "b40ebd0c",
   "metadata": {},
   "source": [
    "- type — вернет тип объекта;\n",
    "- str — преобразование в строку;\n",
    "- int — преобразование в число;\n",
    "- float — преобразование в число с плавающей точкой;\n",
    "- bool — преобразование к булевому типу;\n",
    "- tuple — преобразование к кортежу;\n",
    "- dict — преобразование к словарю;\n",
    "- frozenset — приведение к неизменяемому множеству;\n",
    "- list — приведение к списку;\n",
    "- set — преобразование к множеству;"
   ]
  },
  {
   "cell_type": "markdown",
   "id": "0a3b157c",
   "metadata": {},
   "source": [
    "### Математические функции"
   ]
  },
  {
   "cell_type": "markdown",
   "id": "4ecad86e",
   "metadata": {},
   "source": [
    "- pow — возведение числа в степень;\n",
    "- abs — возврат модуля числа;\n",
    "- round — округление до указанного количества знаков после запятой."
   ]
  },
  {
   "cell_type": "code",
   "execution_count": 3,
   "id": "69cc8de2",
   "metadata": {},
   "outputs": [
    {
     "data": {
      "text/plain": [
       "2.57"
      ]
     },
     "execution_count": 3,
     "metadata": {},
     "output_type": "execute_result"
    }
   ],
   "source": [
    "round(2.567,2)"
   ]
  },
  {
   "cell_type": "code",
   "execution_count": 4,
   "id": "dc9914b9",
   "metadata": {},
   "outputs": [
    {
     "data": {
      "text/plain": [
       "-3.1"
      ]
     },
     "execution_count": 4,
     "metadata": {},
     "output_type": "execute_result"
    }
   ],
   "source": [
    "round(-3.13,1)"
   ]
  },
  {
   "cell_type": "markdown",
   "id": "4171d605",
   "metadata": {},
   "source": [
    "### Итерируемые объекты"
   ]
  },
  {
   "cell_type": "markdown",
   "id": "071ddbc9",
   "metadata": {},
   "source": [
    "- min — возврат минимального элемента последовательности;\n",
    "- max — возврат максимального элемента последовательности;"
   ]
  },
  {
   "cell_type": "code",
   "execution_count": 5,
   "id": "597b5ae0",
   "metadata": {},
   "outputs": [],
   "source": [
    "my_list = [1,4,6]"
   ]
  },
  {
   "cell_type": "code",
   "execution_count": 6,
   "id": "3d371769",
   "metadata": {},
   "outputs": [
    {
     "data": {
      "text/plain": [
       "1"
      ]
     },
     "execution_count": 6,
     "metadata": {},
     "output_type": "execute_result"
    }
   ],
   "source": [
    "min(my_list)"
   ]
  },
  {
   "cell_type": "code",
   "execution_count": 7,
   "id": "aa7fe5d5",
   "metadata": {},
   "outputs": [
    {
     "data": {
      "text/plain": [
       "6"
      ]
     },
     "execution_count": 7,
     "metadata": {},
     "output_type": "execute_result"
    }
   ],
   "source": [
    "max(my_list)"
   ]
  },
  {
   "cell_type": "markdown",
   "id": "a0b57dde",
   "metadata": {},
   "source": [
    "### Функция map"
   ]
  },
  {
   "cell_type": "markdown",
   "id": "7d168df2",
   "metadata": {},
   "source": [
    "Возвращает итератор, который применяет указанную функцию к каждому элементу итерируемого объекта, выдавая результаты."
   ]
  },
  {
   "cell_type": "markdown",
   "id": "f016b157",
   "metadata": {},
   "source": [
    "Возвращает объект типа **map**. Для последующей обработки необходимо привести к нужному типу (list, tuple) "
   ]
  },
  {
   "cell_type": "markdown",
   "id": "1c162523",
   "metadata": {},
   "source": [
    "#### Примеры:"
   ]
  },
  {
   "cell_type": "markdown",
   "id": "5195a36c",
   "metadata": {},
   "source": [
    "##### Округлить все числа представленного списка"
   ]
  },
  {
   "cell_type": "code",
   "execution_count": 4,
   "id": "b0b3ea18",
   "metadata": {},
   "outputs": [],
   "source": [
    "my_map = map(round,[3.14,45.67,65.2356,-9658.12])"
   ]
  },
  {
   "cell_type": "code",
   "execution_count": 6,
   "id": "3f9bc4b1",
   "metadata": {},
   "outputs": [
    {
     "data": {
      "text/plain": [
       "map"
      ]
     },
     "execution_count": 6,
     "metadata": {},
     "output_type": "execute_result"
    }
   ],
   "source": [
    "type(my_map)"
   ]
  },
  {
   "cell_type": "code",
   "execution_count": 7,
   "id": "807a70b5",
   "metadata": {},
   "outputs": [
    {
     "name": "stdout",
     "output_type": "stream",
     "text": [
      "<map object at 0x000001871E78CE50>\n"
     ]
    }
   ],
   "source": [
    "print(my_map)"
   ]
  },
  {
   "cell_type": "code",
   "execution_count": 8,
   "id": "a4be5b95",
   "metadata": {},
   "outputs": [
    {
     "name": "stdout",
     "output_type": "stream",
     "text": [
      "[3, 46, 65, -9658]\n"
     ]
    }
   ],
   "source": [
    "# приведение к типу list\n",
    "print(list(my_map))"
   ]
  },
  {
   "cell_type": "markdown",
   "id": "c480823c",
   "metadata": {},
   "source": [
    "Из примера видно, что округление происходит до целого числа. Использовать функцию round для округления до одного знака при такой записи не получится. Потребуется второй итерируемый объект, каждый элеемент которого будет являться для функции round вторым аргументом, то есть количеством знаков после запятой. "
   ]
  },
  {
   "cell_type": "code",
   "execution_count": 13,
   "id": "47513189",
   "metadata": {},
   "outputs": [],
   "source": [
    "my_map = map(round,[3.14,45.6789],[1,1])"
   ]
  },
  {
   "cell_type": "code",
   "execution_count": 14,
   "id": "17df1ad8",
   "metadata": {},
   "outputs": [
    {
     "name": "stdout",
     "output_type": "stream",
     "text": [
      "[3.1, 45.7]\n"
     ]
    }
   ],
   "source": [
    "print(list(my_map))"
   ]
  },
  {
   "cell_type": "code",
   "execution_count": 17,
   "id": "e6974365",
   "metadata": {},
   "outputs": [],
   "source": [
    "my_map = list(map(round,[3.14,45.6789],[1,3]))"
   ]
  },
  {
   "cell_type": "code",
   "execution_count": 18,
   "id": "e3222ab8",
   "metadata": {},
   "outputs": [
    {
     "name": "stdout",
     "output_type": "stream",
     "text": [
      "[3.1, 45.679]\n"
     ]
    }
   ],
   "source": [
    "print(my_map)"
   ]
  },
  {
   "cell_type": "markdown",
   "id": "e785b223",
   "metadata": {},
   "source": [
    "Эту же задачу можно решить с помощью <b>lambda-функции</b>, в которой указывается, что должно произойти с аргументом, который будет взят из итерируемого объекта"
   ]
  },
  {
   "cell_type": "code",
   "execution_count": 20,
   "id": "e8c67a44",
   "metadata": {},
   "outputs": [],
   "source": [
    "my_list = [3.14,45.673,12.81212]"
   ]
  },
  {
   "cell_type": "code",
   "execution_count": 21,
   "id": "051c199c",
   "metadata": {},
   "outputs": [],
   "source": [
    "my_map1 = list(map(lambda x: round(x,1),my_list))"
   ]
  },
  {
   "cell_type": "code",
   "execution_count": 22,
   "id": "5752353b",
   "metadata": {},
   "outputs": [
    {
     "name": "stdout",
     "output_type": "stream",
     "text": [
      "[3.1, 45.7, 12.8]\n"
     ]
    }
   ],
   "source": [
    "print(my_map1)"
   ]
  },
  {
   "cell_type": "code",
   "execution_count": null,
   "id": "4d4b1178",
   "metadata": {},
   "outputs": [],
   "source": []
  },
  {
   "cell_type": "code",
   "execution_count": 23,
   "id": "31d708a5",
   "metadata": {},
   "outputs": [
    {
     "name": "stdout",
     "output_type": "stream",
     "text": [
      "[3, 4, 2]\n"
     ]
    }
   ],
   "source": [
    "my_int = list(map(int, ['3','4','2']))\n",
    "print(my_int)"
   ]
  },
  {
   "cell_type": "code",
   "execution_count": 24,
   "id": "b00e82d8",
   "metadata": {},
   "outputs": [
    {
     "name": "stdout",
     "output_type": "stream",
     "text": [
      "[3, 4, 2]\n"
     ]
    }
   ],
   "source": [
    "print(list(map(int,['3','4','2'])))"
   ]
  },
  {
   "cell_type": "code",
   "execution_count": 25,
   "id": "9098cc0e",
   "metadata": {},
   "outputs": [
    {
     "name": "stdout",
     "output_type": "stream",
     "text": [
      "[3, 4, 2]\n"
     ]
    }
   ],
   "source": [
    "my_list = ['3','4','2']\n",
    "my_int = []\n",
    "for x in my_list:\n",
    "    my_int.append(int(x))\n",
    "print(my_int)"
   ]
  },
  {
   "cell_type": "code",
   "execution_count": 26,
   "id": "68b55d02",
   "metadata": {},
   "outputs": [
    {
     "name": "stdout",
     "output_type": "stream",
     "text": [
      "[3.14, 12.56, 28.259999999999998, 50.24, 78.5]\n"
     ]
    }
   ],
   "source": [
    "my_circle = map(lambda r: 3.14 * r * r,[1,2,3,4,5])\n",
    "\n",
    "print(list(my_circle))"
   ]
  },
  {
   "cell_type": "markdown",
   "id": "e08d4ed9",
   "metadata": {},
   "source": [
    "##### Записать числа, введенные с клавиатуры через пробел в список"
   ]
  },
  {
   "cell_type": "markdown",
   "id": "074cf9d3",
   "metadata": {},
   "source": [
    "При вводе данных с клавиатуры (**input()**) они считываются в виде строки. Если необходимо работать с числами, то их необходимо привести к числовому типу с помощью функции **int**. В случае, если требуется ввести не одно, а последовательность чисел, то писать для каждого команду input будет долго. Выходом может стать цикл while, но можно поступить еще лаконичнее:"
   ]
  },
  {
   "cell_type": "markdown",
   "id": "c0c42b35",
   "metadata": {},
   "source": [
    "После этого можно выполнить что-нибудь полезное. Например, найти сумму этих чисел:"
   ]
  },
  {
   "cell_type": "markdown",
   "id": "55e58cef",
   "metadata": {},
   "source": [
    "Можно все записать в одну строку:"
   ]
  },
  {
   "cell_type": "code",
   "execution_count": 29,
   "id": "4db4c6e8",
   "metadata": {
    "scrolled": true
   },
   "outputs": [
    {
     "name": "stdout",
     "output_type": "stream",
     "text": [
      "Введите числа через пробел1 2 3 4 5 6 67\n",
      "[1, 2, 3, 4, 5, 6, 67]\n",
      "88\n"
     ]
    }
   ],
   "source": [
    "input_string = input('Введите числа через пробел')\n",
    "my_numbers = list(map(int,input_string.split()))\n",
    "print(my_numbers)\n",
    "print(sum(my_numbers))"
   ]
  },
  {
   "cell_type": "markdown",
   "id": "5eafd010",
   "metadata": {},
   "source": [
    "*Рейтинг обучающихся*"
   ]
  },
  {
   "cell_type": "markdown",
   "id": "a9868b47",
   "metadata": {},
   "source": [
    "В файл *marks.csv* выгружены данные обучающихся с текущей успеваемостью. Составить рейтинг обучающихся на основе среднего балла и упорядочить данные по убыванию среднего балла."
   ]
  },
  {
   "cell_type": "markdown",
   "id": "c2121822",
   "metadata": {},
   "source": [
    "**Примечание** Файл marks.csv предоставляется преподавателем"
   ]
  },
  {
   "cell_type": "code",
   "execution_count": 37,
   "id": "570848ca",
   "metadata": {
    "scrolled": true
   },
   "outputs": [
    {
     "name": "stdout",
     "output_type": "stream",
     "text": [
      "['Глуховская', 'Дубова', 'Зиновьева', 'Моисеева', 'Наумов', 'Сазонов', 'Скоробогатов', 'Солопов', 'Шатыренок', 'Шахмагонова']\n",
      "[[5, 5, 2, 5, 5, 5, 5, 5, 5, 5, 5, 5, 5, 5], [5, 3, 4, 4, 4, 3, 5, 3, 5, 3, 4, 5, 3, 3], [3, 3, 4, 3, 3, 5, 4, 5, 4, 3, 3, 4, 5, 3], [5, 4, 3, 3, 4, 4, 5, 3, 4, 5, 5, 3, 3, 5], [5, 3, 3, 3, 4, 3, 3, 3, 3, 5, 5, 5, 4, 5], [5, 5, 5, 5, 4, 4, 4, 5, 5, 4, 3, 4, 3, 3], [4, 4, 4, 3, 3, 4, 4, 3, 3, 5, 4, 4, 4, 5], [3, 5, 4, 3, 5, 3, 5, 5, 4, 5, 4, 3, 3, 5], [3, 5, 5, 3, 3, 3, 5, 5, 5, 3, 5, 4, 3, 4], [4, 3, 3, 5, 3, 3, 4, 5, 4, 3, 3, 3, 3, 4]]\n"
     ]
    }
   ],
   "source": [
    "person_lst=[]\n",
    "marks_lst = []\n",
    "with open('marks.csv') as f:\n",
    "    for line in f:\n",
    "        temp = line[:-1].split(',')\n",
    "        fam = temp[0]\n",
    "        marks = temp[1:]\n",
    "        person_lst.append(fam)\n",
    "        marks_lst.append(list(map(int,marks)))\n",
    "print(person_lst)\n",
    "print(marks_lst)\n",
    "        "
   ]
  },
  {
   "cell_type": "code",
   "execution_count": 39,
   "id": "0a6c235d",
   "metadata": {},
   "outputs": [
    {
     "name": "stdout",
     "output_type": "stream",
     "text": [
      "[4.79, 3.86, 3.71, 4.0, 3.86, 4.21, 3.86, 4.07, 4.0, 3.57]\n"
     ]
    }
   ],
   "source": [
    "average_scores = list(map(lambda x: round(sum(x) / len(x), 2), marks_lst))\n",
    "print(average_scores)"
   ]
  },
  {
   "cell_type": "markdown",
   "id": "a94e4e9e",
   "metadata": {},
   "source": [
    "### Функция zip"
   ]
  },
  {
   "cell_type": "markdown",
   "id": "7ede01cc",
   "metadata": {},
   "source": [
    "Выполняет параллельную итерацию по нескольким итерационным элементам, создавая кортежи с элементом из каждого из них.\n",
    "\n",
    "- на вход функции передаются последовательности (списки, кортежи)\n",
    "\n",
    "- zip возвращает итератор с кортежами, в котором n-ый кортеж состоит из n-ых элементов последовательностей, которые были переданы как аргументы\n",
    "\n",
    "например, десятый кортеж будет содержать десятый элемент каждой из переданных последовательностей\n",
    "\n",
    "- если на вход были переданы последовательности разной длины, то все они будут отрезаны по самой короткой последовательности\n",
    "\n",
    "- порядок элементов соблюдается"
   ]
  },
  {
   "cell_type": "markdown",
   "id": "c11f067e",
   "metadata": {},
   "source": [
    "#### Примеры"
   ]
  },
  {
   "cell_type": "markdown",
   "id": "c5c15af1",
   "metadata": {},
   "source": [
    "Списки одинаковой длины"
   ]
  },
  {
   "cell_type": "code",
   "execution_count": 41,
   "id": "7f32b00f",
   "metadata": {},
   "outputs": [
    {
     "name": "stdout",
     "output_type": "stream",
     "text": [
      "<zip object at 0x000001872011B340>\n",
      "[(1, 100, 120), (2, 200, 400), (3, 300, 341)]\n"
     ]
    }
   ],
   "source": [
    "# Последовательность кортежей из \"одноиндесных\" элементов двух последовательностей\n",
    "a = [1, 2, 3]\n",
    "b = [100, 200, 300]\n",
    "x = [120,400,341]\n",
    "c = zip(a, b, x)\n",
    "print(c)\n",
    "print(list(c))\n"
   ]
  },
  {
   "cell_type": "code",
   "execution_count": 43,
   "id": "106b45a1",
   "metadata": {},
   "outputs": [
    {
     "data": {
      "text/plain": [
       "[221, 602, 644]"
      ]
     },
     "execution_count": 43,
     "metadata": {},
     "output_type": "execute_result"
    }
   ],
   "source": [
    "# Вычисление суммы элементов для каждого кортежа\n",
    "list(map(sum,list(zip(a, b, x))))"
   ]
  },
  {
   "cell_type": "markdown",
   "id": "516b34e2",
   "metadata": {},
   "source": [
    "Списки разной длины"
   ]
  },
  {
   "cell_type": "code",
   "execution_count": 44,
   "id": "c6405e20",
   "metadata": {},
   "outputs": [
    {
     "data": {
      "text/plain": [
       "[(1, 'Петров'), (2, 'Васечкин'), (3, 'Сыроежкин')]"
      ]
     },
     "execution_count": 44,
     "metadata": {},
     "output_type": "execute_result"
    }
   ],
   "source": [
    "seq = [1, 2, 3]\n",
    "empl_lst = ['Петров', 'Васечкин', 'Сыроежкин', 'Гусев']\n",
    "\n",
    "list(zip(seq, empl_lst))"
   ]
  },
  {
   "cell_type": "markdown",
   "id": "333a2c7b",
   "metadata": {},
   "source": [
    "##### Создание словаря"
   ]
  },
  {
   "cell_type": "code",
   "execution_count": 46,
   "id": "f6f6a474",
   "metadata": {},
   "outputs": [],
   "source": [
    "d_keys = ['name', 'location', 'model']\n",
    "d_values = ['Brados', 'Russia', 'flash']"
   ]
  },
  {
   "cell_type": "code",
   "execution_count": 47,
   "id": "de185424",
   "metadata": {},
   "outputs": [],
   "source": [
    "my_dict = dict(zip(d_keys,d_values))"
   ]
  },
  {
   "cell_type": "code",
   "execution_count": 48,
   "id": "c1df82fa",
   "metadata": {},
   "outputs": [
    {
     "data": {
      "text/plain": [
       "{'name': 'Brados', 'location': 'Russia', 'model': 'flash'}"
      ]
     },
     "execution_count": 48,
     "metadata": {},
     "output_type": "execute_result"
    }
   ],
   "source": [
    "my_dict"
   ]
  },
  {
   "cell_type": "markdown",
   "id": "65a4114f",
   "metadata": {},
   "source": [
    "Можно создать более сложный словарь:"
   ]
  },
  {
   "cell_type": "code",
   "execution_count": 49,
   "id": "c445b85a",
   "metadata": {},
   "outputs": [],
   "source": [
    "d_keys = ['name', 'location', 'model']\n",
    "ski_dict = {'Brados':['Brados', 'Russia', 'flash'], \n",
    "            'Fisher':['Fisher', 'Austria', 'Speedmax 3d'],\n",
    "            'Atomic':['Atomic', 'Austria', 'Redster S9']}"
   ]
  },
  {
   "cell_type": "code",
   "execution_count": 50,
   "id": "1d84a58d",
   "metadata": {},
   "outputs": [],
   "source": [
    "my_ski = dict()\n",
    "for key, value in ski_dict.items():\n",
    "    my_ski[key] = (dict((zip(d_keys,value))))"
   ]
  },
  {
   "cell_type": "code",
   "execution_count": 51,
   "id": "36131398",
   "metadata": {
    "scrolled": true
   },
   "outputs": [
    {
     "data": {
      "text/plain": [
       "{'Brados': {'name': 'Brados', 'location': 'Russia', 'model': 'flash'},\n",
       " 'Fisher': {'name': 'Fisher', 'location': 'Austria', 'model': 'Speedmax 3d'},\n",
       " 'Atomic': {'name': 'Atomic', 'location': 'Austria', 'model': 'Redster S9'}}"
      ]
     },
     "execution_count": 51,
     "metadata": {},
     "output_type": "execute_result"
    }
   ],
   "source": [
    "my_ski"
   ]
  },
  {
   "cell_type": "markdown",
   "id": "deb2e552",
   "metadata": {},
   "source": [
    "После этого словарь можно использовать в дальнейшей обработке"
   ]
  },
  {
   "cell_type": "markdown",
   "id": "b2241488",
   "metadata": {},
   "source": [
    "#### Средний балл"
   ]
  },
  {
   "cell_type": "markdown",
   "id": "0ba27e2f",
   "metadata": {},
   "source": [
    "В файле marks.csv находятся текущие оценки студентов. Создать скрипт для расчета рейтинга студентов. "
   ]
  },
  {
   "cell_type": "code",
   "execution_count": 85,
   "id": "332b0ff2",
   "metadata": {},
   "outputs": [
    {
     "name": "stdout",
     "output_type": "stream",
     "text": [
      "Глуховская           4.79\n",
      "Сазонов              4.21\n",
      "Солопов              4.07\n",
      "Моисеева             4.00\n",
      "Шатыренок            4.00\n",
      "Дубова               3.86\n",
      "Наумов               3.86\n",
      "Скоробогатов         3.86\n",
      "Зиновьева            3.71\n",
      "Шахмагонова          3.57\n"
     ]
    }
   ],
   "source": [
    "from pprint import pprint\n",
    "person_lst=[]\n",
    "marks_lst = []\n",
    "with open('marks.csv') as f:\n",
    "    for line in f:\n",
    "        temp = line[:-1].split(',')\n",
    "        fam = temp[0]\n",
    "        marks = temp[1:]\n",
    "        person_lst.append(fam)\n",
    "        marks_lst.append(list(map(int,marks)))\n",
    "\n",
    "# Средний балл\n",
    "average_scores = list(map(lambda x: round(sum(x) / len(x), 4), marks_lst))\n",
    "\n",
    "#print(person_lst)\n",
    "#print(average_scores)\n",
    "\n",
    "result = list(zip(person_lst, average_scores))\n",
    "#pprint(result)\n",
    "\n",
    "result.sort(key=lambda x: x[1], reverse=True)\n",
    "#pprint(result)\n",
    "\n",
    "for el in result:\n",
    "    print(f'{el[0]:<20} {el[1]:>.2f}')\n",
    "\n",
    "with open('raiting.txt','w', encoding='utf-8') as f:\n",
    "    for el in result:\n",
    "        f.write(f'{el[0]:<15} {el[1]:>.2f}\\n')\n"
   ]
  },
  {
   "cell_type": "code",
   "execution_count": 58,
   "id": "8a1b9ee0",
   "metadata": {},
   "outputs": [],
   "source": [
    "result.sort(reverse=True)"
   ]
  },
  {
   "cell_type": "code",
   "execution_count": 59,
   "id": "fb10f092",
   "metadata": {},
   "outputs": [
    {
     "name": "stdout",
     "output_type": "stream",
     "text": [
      "[('Шахмагонова', 3.57),\n",
      " ('Шатыренок', 4.0),\n",
      " ('Солопов', 4.07),\n",
      " ('Скоробогатов', 3.86),\n",
      " ('Сазонов', 4.21),\n",
      " ('Наумов', 3.86),\n",
      " ('Моисеева', 4.0),\n",
      " ('Зиновьева', 3.71),\n",
      " ('Дубова', 3.86),\n",
      " ('Глуховская', 4.79)]\n"
     ]
    }
   ],
   "source": [
    "pprint(result)"
   ]
  },
  {
   "cell_type": "code",
   "execution_count": 65,
   "id": "bba3ccae",
   "metadata": {},
   "outputs": [],
   "source": [
    "result.sort(key=lambda x: x[1], reverse=True)"
   ]
  },
  {
   "cell_type": "code",
   "execution_count": 66,
   "id": "4774b087",
   "metadata": {},
   "outputs": [
    {
     "name": "stdout",
     "output_type": "stream",
     "text": [
      "[('Глуховская', 4.79),\n",
      " ('Сазонов', 4.21),\n",
      " ('Солопов', 4.07),\n",
      " ('Моисеева', 4.0),\n",
      " ('Шатыренок', 4.0),\n",
      " ('Дубова', 3.86),\n",
      " ('Наумов', 3.86),\n",
      " ('Скоробогатов', 3.86),\n",
      " ('Зиновьева', 3.71),\n",
      " ('Шахмагонова', 3.57)]\n"
     ]
    }
   ],
   "source": [
    "pprint(result)"
   ]
  },
  {
   "cell_type": "code",
   "execution_count": null,
   "id": "8d92ac49",
   "metadata": {},
   "outputs": [],
   "source": []
  },
  {
   "cell_type": "code",
   "execution_count": null,
   "id": "e169f15d",
   "metadata": {},
   "outputs": [],
   "source": []
  },
  {
   "cell_type": "markdown",
   "id": "865e18ff",
   "metadata": {},
   "source": [
    "### Функция filter"
   ]
  },
  {
   "cell_type": "markdown",
   "id": "b23b39e7",
   "metadata": {},
   "source": [
    "Функция filter применяет функцию ко всем элементам последовательности и возвращает итератор с теми объектами, для которых функция вернула True. \n",
    "\n",
    "Первым аргументом указывается функция, возвращающая результат типа bool (True или False)\n",
    "\n",
    "Например, вернуть только те строки, в которых находятся числа:"
   ]
  },
  {
   "cell_type": "code",
   "execution_count": 87,
   "id": "b055e573",
   "metadata": {},
   "outputs": [
    {
     "data": {
      "text/plain": [
       "False"
      ]
     },
     "execution_count": 87,
     "metadata": {},
     "output_type": "execute_result"
    }
   ],
   "source": [
    "str.isdigit('a100')"
   ]
  },
  {
   "cell_type": "code",
   "execution_count": 88,
   "id": "b6c6eec4",
   "metadata": {},
   "outputs": [
    {
     "data": {
      "text/plain": [
       "True"
      ]
     },
     "execution_count": 88,
     "metadata": {},
     "output_type": "execute_result"
    }
   ],
   "source": [
    "str.isdigit('4')"
   ]
  },
  {
   "cell_type": "code",
   "execution_count": 90,
   "id": "3f3bcb97",
   "metadata": {},
   "outputs": [
    {
     "name": "stdout",
     "output_type": "stream",
     "text": [
      "<filter object at 0x000001871F6D4310>\n",
      "<class 'filter'>\n"
     ]
    }
   ],
   "source": [
    "list_of_strings = ['one', 'two', 'list', '', 'dict', '100', '1', '50']\n",
    "print(filter(str.isdigit, list_of_strings))\n",
    "print(type(filter(str.isdigit, list_of_strings)))"
   ]
  },
  {
   "cell_type": "raw",
   "id": "9e03f4ca",
   "metadata": {},
   "source": [
    "Функция возвращает объект класса filter. Для вывода результата необходимо его привести к нужному типу:"
   ]
  },
  {
   "cell_type": "code",
   "execution_count": 92,
   "id": "3726e7f1",
   "metadata": {},
   "outputs": [
    {
     "name": "stdout",
     "output_type": "stream",
     "text": [
      "['100', '1', '50']\n"
     ]
    }
   ],
   "source": [
    "list_of_strings = ['one', 'two', 'list', '', 'dict', '100', '1', '50']\n",
    "my_filter = list(filter(str.isdigit, list_of_strings))\n",
    "print(my_filter)"
   ]
  },
  {
   "cell_type": "code",
   "execution_count": 93,
   "id": "d85070f5",
   "metadata": {},
   "outputs": [],
   "source": [
    "my_list = list(map(int, my_filter))"
   ]
  },
  {
   "cell_type": "code",
   "execution_count": 94,
   "id": "8fe845bd",
   "metadata": {},
   "outputs": [
    {
     "data": {
      "text/plain": [
       "151"
      ]
     },
     "execution_count": 94,
     "metadata": {},
     "output_type": "execute_result"
    }
   ],
   "source": [
    "sum(my_list)"
   ]
  },
  {
   "cell_type": "code",
   "execution_count": 95,
   "id": "58030e27",
   "metadata": {},
   "outputs": [
    {
     "name": "stdout",
     "output_type": "stream",
     "text": [
      "['100', '1', '50']\n",
      "151\n"
     ]
    }
   ],
   "source": [
    "list_of_strings = ['one', 'two', 'list', '', 'dict', '100', '1', '50']\n",
    "my_filter = list(filter(str.isdigit, list_of_strings))\n",
    "print(my_filter)\n",
    "my_list = list(map(int, my_filter))\n",
    "print(sum(my_list))"
   ]
  },
  {
   "cell_type": "code",
   "execution_count": 102,
   "id": "ecdf04c7",
   "metadata": {},
   "outputs": [
    {
     "data": {
      "text/plain": [
       "151"
      ]
     },
     "execution_count": 102,
     "metadata": {},
     "output_type": "execute_result"
    }
   ],
   "source": [
    "sum(map(int,filter(str.isdigit, list_of_strings)))"
   ]
  },
  {
   "cell_type": "markdown",
   "id": "f2f55385",
   "metadata": {},
   "source": [
    "#### Примеры"
   ]
  },
  {
   "cell_type": "markdown",
   "id": "52545121",
   "metadata": {},
   "source": [
    "##### `Фильтрация нечетных чисел"
   ]
  },
  {
   "cell_type": "markdown",
   "id": "797c017f",
   "metadata": {},
   "source": [
    "1. Напишите скрипт, который отфильтровывает нечетные числа из списка целых чисел, используя функцию filter"
   ]
  },
  {
   "cell_type": "code",
   "execution_count": 100,
   "id": "469f08a8",
   "metadata": {},
   "outputs": [],
   "source": [
    "list_num = [3,5,6,7,4,6,8,13]"
   ]
  },
  {
   "cell_type": "code",
   "execution_count": 101,
   "id": "49720c23",
   "metadata": {},
   "outputs": [],
   "source": [
    "my_filter = list(filter(lambda x: x % 2, list_num))"
   ]
  },
  {
   "cell_type": "code",
   "execution_count": 102,
   "id": "3f52e226",
   "metadata": {},
   "outputs": [
    {
     "data": {
      "text/plain": [
       "[3, 5, 7, 13]"
      ]
     },
     "execution_count": 102,
     "metadata": {},
     "output_type": "execute_result"
    }
   ],
   "source": [
    "my_filter "
   ]
  },
  {
   "cell_type": "markdown",
   "id": "5d585780",
   "metadata": {},
   "source": [
    "<b>lambda x: x % 2</b> работает следующим образом: <br>для каждого аргумента возвращается остаток от деления на 2. Для нечетных чисел это будет целое число, не равное 0. А такое число Python принимает за True. Следовательно, данный аргумент попадает в filter."
   ]
  },
  {
   "cell_type": "markdown",
   "id": "88332112",
   "metadata": {},
   "source": [
    "Для четных чисел код будет выглядеть так:"
   ]
  },
  {
   "cell_type": "code",
   "execution_count": 103,
   "id": "8ddfb8e1",
   "metadata": {},
   "outputs": [
    {
     "name": "stdout",
     "output_type": "stream",
     "text": [
      "[6, 4, 6, 8]\n"
     ]
    }
   ],
   "source": [
    "list_num = [3,5,6,7,4,6,8,13]\n",
    "my_filter = list(filter(lambda x: not(x % 2) , list_num))\n",
    "print(my_filter)      "
   ]
  },
  {
   "cell_type": "markdown",
   "id": "21489ec6",
   "metadata": {},
   "source": [
    "##### Список студентов с заданным рейтингом"
   ]
  },
  {
   "cell_type": "markdown",
   "id": "bae75182",
   "metadata": {},
   "source": [
    "Из файла raiting1.txt, сфорированного ранее, вывести студентов, чей рейтинг больше или равен 4 баллов"
   ]
  },
  {
   "cell_type": "code",
   "execution_count": null,
   "id": "9da7acce",
   "metadata": {},
   "outputs": [],
   "source": [
    "def "
   ]
  },
  {
   "cell_type": "code",
   "execution_count": 105,
   "id": "66b4b008",
   "metadata": {},
   "outputs": [
    {
     "name": "stdout",
     "output_type": "stream",
     "text": [
      "Глуховская           4.79\n",
      "Сазонов              4.21\n",
      "Солопов              4.07\n",
      "Моисеева             4.00\n",
      "Шатыренок            4.00\n",
      "Дубова               3.86\n",
      "Наумов               3.86\n",
      "Скоробогатов         3.86\n",
      "Зиновьева            3.71\n",
      "Шахмагонова          3.57\n",
      "[('Глуховская', 4.7857), ('Сазонов', 4.2143), ('Солопов', 4.0714), ('Моисеева', 4.0), ('Шатыренок', 4.0)]\n"
     ]
    }
   ],
   "source": [
    "from pprint import pprint\n",
    "person_lst=[]\n",
    "marks_lst = []\n",
    "with open('marks.csv') as f:\n",
    "    for line in f:\n",
    "        temp = line[:-1].split(',')\n",
    "        fam = temp[0]\n",
    "        marks = temp[1:]\n",
    "        person_lst.append(fam)\n",
    "        marks_lst.append(list(map(int,marks)))\n",
    "\n",
    "# Средний балл\n",
    "average_scores = list(map(lambda x: round(sum(x) / len(x), 4), marks_lst))\n",
    "\n",
    "result = list(zip(person_lst, average_scores))\n",
    "result.sort(key=lambda x: x[1], reverse=True)\n",
    "\n",
    "for el in result:\n",
    "    print(f'{el[0]:<20} {el[1]:>.2f}')\n",
    "\n",
    "with open('raiting.txt','w', encoding='utf-8') as f:\n",
    "    for el in result:\n",
    "        f.write(f'{el[0]:<15} {el[1]:>.2f}\\n')\n",
    "        \n",
    "res4 = list(filter(lambda x: x[1] >= 4, result))\n",
    "print(res4)"
   ]
  },
  {
   "cell_type": "markdown",
   "id": "21d8b706",
   "metadata": {},
   "source": [
    "**lambda x: float(x[1])>=4.0** - каждый аргумент списка full_lst является списком (вложенный). Средний балл - это элемент с индексом 1 (x[1]). Он преобразовывется в вещественное число (float) и сравнивается с 4.0. Если результат True, то и весь элемент попадает в итоговый набор."
   ]
  },
  {
   "cell_type": "markdown",
   "id": "9431a063",
   "metadata": {},
   "source": [
    "##### Список строк, содержащих заданную строку"
   ]
  },
  {
   "cell_type": "code",
   "execution_count": 106,
   "id": "c2eede21",
   "metadata": {},
   "outputs": [],
   "source": [
    "a = ['папа', 'мыла', 'раму']"
   ]
  },
  {
   "cell_type": "code",
   "execution_count": 107,
   "id": "f10b30bc",
   "metadata": {},
   "outputs": [],
   "source": [
    "def my_func(fw,*args):\n",
    "    return list(filter(lambda x: fw in x,args))"
   ]
  },
  {
   "cell_type": "code",
   "execution_count": 110,
   "id": "d5361a32",
   "metadata": {
    "scrolled": true
   },
   "outputs": [
    {
     "data": {
      "text/plain": [
       "['мыла', 'раму']"
      ]
     },
     "execution_count": 110,
     "metadata": {},
     "output_type": "execute_result"
    }
   ],
   "source": [
    "my_func('м',*a)"
   ]
  },
  {
   "cell_type": "markdown",
   "id": "705e6e1f",
   "metadata": {},
   "source": [
    "### Функция reduce()"
   ]
  },
  {
   "cell_type": "markdown",
   "id": "18d2f697",
   "metadata": {},
   "source": [
    "Функция **reduce()** модуля **functools** кумулятивно применяет функцию function к элементам итерируемой iterable последовательности, сводя её к единственному значению.\n",
    "\n",
    "Функция functools.reduce() может быть полезна в различных сценариях, когда необходимо агрегировать данные или преобразовывать их кумулятивным (накопительным) способом."
   ]
  },
  {
   "cell_type": "code",
   "execution_count": 85,
   "id": "9c8f4e7b",
   "metadata": {},
   "outputs": [],
   "source": [
    "from functools import reduce"
   ]
  },
  {
   "cell_type": "markdown",
   "id": "a659bbf1",
   "metadata": {},
   "source": [
    "Синтаксис:\n",
    "\n",
    "reduce(function, iterable[, initializer])\n",
    "\n",
    "Параметры:\n",
    "- function - пользовательская функция, принимающая 2 аргумента,\n",
    "- iterable - итерируемая последовательность,\n",
    "- initializer - начальное значение.\n",
    "\n",
    "\n",
    "Аргумент function это функция которую требуется применить к элементам последовательности. Должна принимать два аргумента, где первый аргумент - аккумулированное ранее значение, а второй аргумент следующий элемент последовательности.\n",
    "\n",
    "Аргумент iterable представляет собой последовательность, элементы которой требуется свести к единственному значению. Если последовательность пуста и не задан аргумент initializer, то возбуждается исключение TypeError.\n",
    "\n"
   ]
  },
  {
   "cell_type": "code",
   "execution_count": 86,
   "id": "9653dc5a",
   "metadata": {},
   "outputs": [
    {
     "data": {
      "text/plain": [
       "15"
      ]
     },
     "execution_count": 86,
     "metadata": {},
     "output_type": "execute_result"
    }
   ],
   "source": [
    "reduce(lambda x, y: x+y, [1, 2, 3, 4, 5])"
   ]
  },
  {
   "cell_type": "markdown",
   "id": "4da0374b",
   "metadata": {},
   "source": [
    "Вычисляет ((((1 + 2) +3) +4) +5). \n",
    "\n",
    "Левый аргумент x - это накопленное значение, а правый аргумент y - это следующий элемент iterable (в данном случае - списка)\n",
    "\n",
    "Если присутствует необязательный initializer, он помещается перед элементами iterable в вычислении. Другими словами это базовое значение, с которого требуется начать отсчёт. Аргумент initializer, так же служит значением по умолчанию, когда iterable является пустым."
   ]
  },
  {
   "cell_type": "markdown",
   "id": "481b9deb",
   "metadata": {},
   "source": [
    "#### Примеры:"
   ]
  },
  {
   "cell_type": "markdown",
   "id": "12656085",
   "metadata": {},
   "source": [
    "##### Вычисление суммы всех элементов списка при помощи reduce() и lambda-функции:"
   ]
  },
  {
   "cell_type": "code",
   "execution_count": 111,
   "id": "b053fdb9",
   "metadata": {},
   "outputs": [
    {
     "data": {
      "text/plain": [
       "150"
      ]
     },
     "execution_count": 111,
     "metadata": {},
     "output_type": "execute_result"
    }
   ],
   "source": [
    "from functools import reduce\n",
    "items = [10, 20, 30, 40, 50]\n",
    "reduce(lambda x,y: x + y, items)"
   ]
  },
  {
   "cell_type": "markdown",
   "id": "9f09b4b7",
   "metadata": {},
   "source": [
    "##### Нахождение наибольшего элемента в списке"
   ]
  },
  {
   "cell_type": "code",
   "execution_count": 136,
   "id": "82ce2d18",
   "metadata": {},
   "outputs": [
    {
     "data": {
      "text/plain": [
       "32"
      ]
     },
     "execution_count": 136,
     "metadata": {},
     "output_type": "execute_result"
    }
   ],
   "source": [
    "items = [1, 24, 17, 14, 9, 32, 2]\n",
    "reduce(lambda a,b: a if (a > b) else b, items)\n"
   ]
  },
  {
   "cell_type": "code",
   "execution_count": 112,
   "id": "5b98c0fd",
   "metadata": {},
   "outputs": [
    {
     "data": {
      "text/plain": [
       "(1, 2, 4, 5, 7, 8)"
      ]
     },
     "execution_count": 112,
     "metadata": {},
     "output_type": "execute_result"
    }
   ],
   "source": [
    "s = ((1,2),(4,5), (7,8))\n",
    "reduce(lambda a, b: a + b, s)"
   ]
  },
  {
   "cell_type": "code",
   "execution_count": 114,
   "id": "63a9ec52",
   "metadata": {},
   "outputs": [
    {
     "name": "stdout",
     "output_type": "stream",
     "text": [
      "['а', 'б', 'в', 'г', 'д', 'ж', 'з']\n"
     ]
    },
    {
     "data": {
      "text/plain": [
       "'абвгджз'"
      ]
     },
     "execution_count": 114,
     "metadata": {},
     "output_type": "execute_result"
    }
   ],
   "source": [
    "s1 = list('абвгджз')\n",
    "print(s1)\n",
    "reduce(lambda a, b: a + b, s1)"
   ]
  },
  {
   "cell_type": "markdown",
   "id": "d789271d",
   "metadata": {},
   "source": [
    "## Задания для выполнения"
   ]
  },
  {
   "cell_type": "markdown",
   "id": "987a9594",
   "metadata": {},
   "source": [
    "### map"
   ]
  },
  {
   "cell_type": "markdown",
   "id": "92e31cb9",
   "metadata": {},
   "source": [
    "1. Напишите программу на Python, чтобы утроить все числа в заданном списке целых чисел. Используйте Python map"
   ]
  },
  {
   "cell_type": "code",
   "execution_count": 2,
   "id": "4f0ae27e",
   "metadata": {},
   "outputs": [],
   "source": [
    "lst = list(range(21))"
   ]
  },
  {
   "cell_type": "code",
   "execution_count": 3,
   "id": "04cc4e46",
   "metadata": {},
   "outputs": [],
   "source": [
    "lst3 = list(map(lambda x: x * 3, lst))"
   ]
  },
  {
   "cell_type": "code",
   "execution_count": 6,
   "id": "bae7e4bd",
   "metadata": {},
   "outputs": [
    {
     "name": "stdout",
     "output_type": "stream",
     "text": [
      "[0, 1, 2, 3, 4, 5, 6, 7, 8, 9, 10, 11, 12, 13, 14, 15, 16, 17, 18, 19, 20]\n"
     ]
    }
   ],
   "source": [
    "print(lst)"
   ]
  },
  {
   "cell_type": "code",
   "execution_count": 5,
   "id": "808be4f3",
   "metadata": {},
   "outputs": [
    {
     "name": "stdout",
     "output_type": "stream",
     "text": [
      "[0, 3, 6, 9, 12, 15, 18, 21, 24, 27, 30, 33, 36, 39, 42, 45, 48, 51, 54, 57, 60]\n"
     ]
    }
   ],
   "source": [
    "print(lst3)"
   ]
  },
  {
   "cell_type": "code",
   "execution_count": 8,
   "id": "527083ea",
   "metadata": {},
   "outputs": [
    {
     "name": "stdout",
     "output_type": "stream",
     "text": [
      "Результат:  [6, 9, 15, 21, 33, 9]\n"
     ]
    }
   ],
   "source": [
    "numbs1 = [2, 3, 5, 7, 11, 3]\n",
    "\n",
    "def mult_three(num1):\n",
    "    return num1 * 3\n",
    "\n",
    "pnumbs1 = list(map(mult_three, numbs1))\n",
    "print(\"Результат: \", pnumbs1)"
   ]
  },
  {
   "cell_type": "markdown",
   "id": "f304f560",
   "metadata": {},
   "source": [
    "2. Напишите программу на Python для создания списка, состоящего из элементов, возведеных в степень своего индекса, используя Python map"
   ]
  },
  {
   "cell_type": "code",
   "execution_count": 11,
   "id": "fbd1196d",
   "metadata": {},
   "outputs": [
    {
     "name": "stdout",
     "output_type": "stream",
     "text": [
      "[1, 1, 4, 27, 256, 3125, 46656, 823543, 16777216, 387420489, 10000000000, 285311670611, 8916100448256, 302875106592253, 11112006825558016, 437893890380859375, 18446744073709551616, 827240261886336764177, 39346408075296537575424, 1978419655660313589123979, 104857600000000000000000000]\n"
     ]
    }
   ],
   "source": [
    "lst2 = list(range(21))\n",
    "for i in lst2:\n",
    "    lsti = list(map(lambda x: x ** lst2.index(x), lst2))\n",
    "print(lsti)"
   ]
  },
  {
   "cell_type": "code",
   "execution_count": 18,
   "id": "dbeb1197",
   "metadata": {},
   "outputs": [
    {
     "name": "stdout",
     "output_type": "stream",
     "text": [
      "[4, 2, 5, 7, 1, 5, 2, 6, 5, 3, 8, 4, 5, 10, 10, 2, 1, 9, 4, 3, 2]\n",
      "[0, 1, 2, 3, 4, 5, 6, 7, 8, 9, 10, 11, 12, 13, 14, 15, 16, 17, 18, 19, 20]\n"
     ]
    }
   ],
   "source": [
    "import random\n",
    "lst2 = []\n",
    "for _ in range(21):\n",
    "    lst2.append(random.randint(1,10))\n",
    "\n",
    "lst_index = list(range(len(lst2)))\n",
    "print(lst2)\n",
    "print(lst_index)"
   ]
  },
  {
   "cell_type": "code",
   "execution_count": 19,
   "id": "80a19085",
   "metadata": {},
   "outputs": [
    {
     "name": "stdout",
     "output_type": "stream",
     "text": [
      "[1, 2, 25, 343, 1, 3125, 64, 279936, 390625, 19683, 1073741824, 4194304, 244140625, 10000000000000, 100000000000000, 32768, 1, 16677181699666569, 68719476736, 1162261467, 1048576]\n"
     ]
    }
   ],
   "source": [
    "result = list(map(pow,lst2,lst_index))\n",
    "print(result)"
   ]
  },
  {
   "cell_type": "code",
   "execution_count": null,
   "id": "f0160e19",
   "metadata": {},
   "outputs": [],
   "source": []
  },
  {
   "cell_type": "markdown",
   "id": "34da1233",
   "metadata": {},
   "source": [
    "3. Напишите программу на Python, которая преобразует все символы в верхний и нижний регистры и удалит повторяющиеся буквы из заданной последовательности. Используйте функцию map()."
   ]
  },
  {
   "cell_type": "code",
   "execution_count": 22,
   "id": "f9edd323",
   "metadata": {},
   "outputs": [
    {
     "name": "stdout",
     "output_type": "stream",
     "text": [
      "Введите строку: алгоритм\n",
      "('оглтмраи', 'ОГЛТМРАИ', 'оглтмраи')\n"
     ]
    }
   ],
   "source": [
    "def zad_3(s):\n",
    "    s2 = set(s)\n",
    "    uniq = ''.join(s2)\n",
    "    up = uniq.upper()\n",
    "    low = uniq.lower()\n",
    "    #up = ''.join(map(lambda x: x.upper(), s2))\n",
    "    #low = ''.join(map(lambda x: x.lower(), s2))\n",
    "    \n",
    "    return uniq, up, low\n",
    "\n",
    "stri = input('Введите строку: ')\n",
    "print(zad_3(stri))"
   ]
  },
  {
   "cell_type": "markdown",
   "id": "5542294b",
   "metadata": {},
   "source": [
    "### filter"
   ]
  },
  {
   "cell_type": "markdown",
   "id": "31aa38c4",
   "metadata": {},
   "source": [
    "1. Напишите функцию Python, которая отфильтровывает все элементы, меньшие или равные указанному значению, из списка чисел, используя функцию filter"
   ]
  },
  {
   "cell_type": "code",
   "execution_count": 26,
   "id": "edd2075c",
   "metadata": {},
   "outputs": [
    {
     "name": "stdout",
     "output_type": "stream",
     "text": [
      "[82, 95, 3, 81, 47, 33, 19, 37, 21, 61, 3, 97, 7, 53, 84, 24, 27, 73, 96, 51, 56]\n",
      "[19, 21, 24, 27]\n"
     ]
    }
   ],
   "source": [
    "import random\n",
    "lst2 = []\n",
    "for _ in range(21):\n",
    "    lst2.append(random.randint(1,100))\n",
    "    \n",
    "print(lst2)   \n",
    "res = list(filter(lambda x: 10 < x < 30, lst2))\n",
    "print(res)   \n"
   ]
  },
  {
   "cell_type": "code",
   "execution_count": 28,
   "id": "83bd63d9",
   "metadata": {},
   "outputs": [
    {
     "name": "stdout",
     "output_type": "stream",
     "text": [
      "[1, 2, 3, 5, 6, 7, 8, 9, 0]\n"
     ]
    }
   ],
   "source": [
    "def filt(a, b):\n",
    "    filt = list(filter(lambda x: x != b, a))\n",
    "    return filt\n",
    "\n",
    "lnum = [1, 2, 3, 4, 5, 6, 7, 8, 9, 0]\n",
    "etal = 4\n",
    "\n",
    "my_filter_num = filt(lnum, etal)\n",
    "\n",
    "print(my_filter_num)"
   ]
  },
  {
   "cell_type": "markdown",
   "id": "b3d36cd2",
   "metadata": {},
   "source": [
    "2. Напишите программу на Python, которая создает список имен и использует функцию фильтра для извлечения имен, начинающихся с буквы Е."
   ]
  },
  {
   "cell_type": "code",
   "execution_count": 41,
   "id": "dcadc62e",
   "metadata": {},
   "outputs": [
    {
     "name": "stdout",
     "output_type": "stream",
     "text": [
      "Глуховская Виталия Брониславовна\n",
      "Дубова Констанция Ерофеевна\n",
      "Зиновьева Тара Ефремовна\n",
      "Моисеева Лера Абрамовна\n",
      "Наумов Валентин Филатович\n",
      "Сазонов Потап Харламович\n",
      "Скоробогатов Антонин Феодосьевич\n",
      "Солопов Григорий Анатольевич\n",
      "Шатыренок Тит Антипович\n",
      "Шахмагонова Магдалена Феодосьевна\n",
      "\n",
      "['Сазонов Потап Харламович', 'Скоробогатов Антонин Феодосьевич', 'Солопов Григорий Анатольевич']\n",
      "['Глуховская Виталия Брониславовна']\n",
      "\n",
      "['Дубова Констанция Ерофеевна']\n",
      "\n",
      "['Зиновьева Тара Ефремовна']\n",
      "\n",
      "['Моисеева Лера Абрамовна']\n",
      "\n",
      "['Наумов Валентин Филатович']\n",
      "\n",
      "['Сазонов Потап Харламович', 'Скоробогатов Антонин Феодосьевич', 'Солопов Григорий Анатольевич']\n",
      "\n",
      "['Шатыренок Тит Антипович', 'Шахмагонова Магдалена Феодосьевна']\n",
      "\n"
     ]
    }
   ],
   "source": [
    "import random\n",
    "staff_lst = []\n",
    "with open('сотрудники.txt', 'r', encoding='utf-8') as f:\n",
    "    for line in f:\n",
    "        staff_lst.append(line[:-1])\n",
    "        print(line[:-1])\n",
    "print()\n",
    "\n",
    "\n",
    "my_list = list(filter(lambda x: x[0] == 'С',staff_lst))\n",
    "print(my_list)\n",
    "\n",
    "ru_alf = 'абвгдежзиклмнопрстуфхчшщэюя'\n",
    "for s in ru_alf:\n",
    "    my_list = list(filter(lambda x: x[0] == s.upper(),staff_lst))\n",
    "    \n",
    "    if my_list:\n",
    "        print(my_list)\n",
    "        print()\n"
   ]
  },
  {
   "cell_type": "code",
   "execution_count": null,
   "id": "cc17a502",
   "metadata": {},
   "outputs": [],
   "source": []
  },
  {
   "cell_type": "code",
   "execution_count": 55,
   "id": "27cdc67e",
   "metadata": {},
   "outputs": [],
   "source": [
    "def is_pangram(input_string):\n",
    "    from functools import reduce\n",
    "    input_string = input_string.lower()\n",
    "    s = reduce(lambda r1, r2: r1 + r2 if u'\\u0400' <= r2 <=u'\\u04FF' else r1 + '', input_string)\n",
    "    print(s)\n",
    "    return len(set(list(s))) == 31"
   ]
  },
  {
   "cell_type": "code",
   "execution_count": 56,
   "id": "9250e12d",
   "metadata": {
    "scrolled": true
   },
   "outputs": [
    {
     "name": "stdout",
     "output_type": "stream",
     "text": [
      "вступиввбойсшипящимизмеямиэфойигадюкоймаленькийцепкийхрабрыйёжсъелих\n",
      "False\n"
     ]
    }
   ],
   "source": [
    "input_string = 'Вступив в бой с шипящими змеями — эфой и гадюкой, — маленький, цепкий, храбрый ёж съел их.'\n",
    "print(is_pangram(input_string))"
   ]
  },
  {
   "cell_type": "markdown",
   "id": "29804c8c",
   "metadata": {},
   "source": [
    "fields = ['Год основания', 'Население', 'Площадь', 'Среднегодовая температура']\n",
    "\n",
    "cities_dict = collecting_info(*fields,file_path='towns.txt')"
   ]
  },
  {
   "cell_type": "code",
   "execution_count": 94,
   "id": "542ca528",
   "metadata": {},
   "outputs": [],
   "source": [
    "def collecting_info(*fields,file_path='towns.txt'):\n",
    "    with open(file_path, encoding='utf-8') as f:\n",
    "        my_towns = f.readlines()\n",
    "    \n",
    "    result = {}\n",
    "    for line in my_towns:\n",
    "        t = line[:-1].split()\n",
    "        title = t[0]\n",
    "        d = dict(list(zip(fields, t[1:])))\n",
    "        result[title] = d\n",
    "    return result"
   ]
  },
  {
   "cell_type": "code",
   "execution_count": null,
   "id": "2eaa6d11",
   "metadata": {},
   "outputs": [],
   "source": []
  },
  {
   "cell_type": "code",
   "execution_count": 92,
   "id": "c5505df1",
   "metadata": {},
   "outputs": [
    {
     "name": "stdout",
     "output_type": "stream",
     "text": [
      "{'Екатеринбург': {'Год основания': '1723',\n",
      "                  'Население': '1536183',\n",
      "                  'Площадь': '490',\n",
      "                  'Среднегодовая температура': '+3.3'},\n",
      " 'Красноя́рск': {'Год основания': '1628',\n",
      "                 'Население': '1205473',\n",
      "                 'Площадь': '413',\n",
      "                 'Среднегодовая температура': '+2.0'}}\n"
     ]
    }
   ],
   "source": [
    "from pprint import pprint\n",
    "fields = ['Год основания', 'Население', 'Площадь', 'Среднегодовая температура']\n",
    "cities_dict = collecting_info(*fields,file_path='towns.txt')\n",
    "pprint(cities_dict)"
   ]
  },
  {
   "cell_type": "code",
   "execution_count": 93,
   "id": "1dfab5e2",
   "metadata": {
    "scrolled": true
   },
   "outputs": [
    {
     "data": {
      "text/plain": [
       "'1536183'"
      ]
     },
     "execution_count": 93,
     "metadata": {},
     "output_type": "execute_result"
    }
   ],
   "source": [
    "cities_dict['Екатеринбург']['Население']"
   ]
  },
  {
   "cell_type": "code",
   "execution_count": null,
   "id": "1c007719",
   "metadata": {},
   "outputs": [],
   "source": []
  },
  {
   "cell_type": "code",
   "execution_count": 60,
   "id": "83786a7b",
   "metadata": {},
   "outputs": [],
   "source": [
    "with open('towns.txt', encoding='utf-8') as f:\n",
    "    my_towns = f.readlines()"
   ]
  },
  {
   "cell_type": "code",
   "execution_count": 75,
   "id": "61cb6bfe",
   "metadata": {},
   "outputs": [],
   "source": [
    "fields = ['Год основания', 'Население', 'Площадь', 'Среднегодовая температура']"
   ]
  },
  {
   "cell_type": "code",
   "execution_count": 76,
   "id": "6eb352e2",
   "metadata": {},
   "outputs": [],
   "source": [
    "t = ['Красноя́рск', 1628, 1205473, 413, 2.0]"
   ]
  },
  {
   "cell_type": "code",
   "execution_count": 77,
   "id": "efb673b3",
   "metadata": {},
   "outputs": [],
   "source": [
    "d = list(zip(fields, t[1:]))"
   ]
  },
  {
   "cell_type": "code",
   "execution_count": 78,
   "id": "2df67f35",
   "metadata": {},
   "outputs": [
    {
     "data": {
      "text/plain": [
       "[('Год основания', 1628),\n",
       " ('Население', 1205473),\n",
       " ('Площадь', 413),\n",
       " ('Среднегодовая температура', 2.0)]"
      ]
     },
     "execution_count": 78,
     "metadata": {},
     "output_type": "execute_result"
    }
   ],
   "source": [
    "d"
   ]
  },
  {
   "cell_type": "code",
   "execution_count": 83,
   "id": "0e54360c",
   "metadata": {},
   "outputs": [],
   "source": [
    "d = dict(list(zip(fields, t[1:])))"
   ]
  },
  {
   "cell_type": "code",
   "execution_count": 84,
   "id": "e789437a",
   "metadata": {},
   "outputs": [
    {
     "data": {
      "text/plain": [
       "{'Год основания': 1628,\n",
       " 'Население': 1205473,\n",
       " 'Площадь': 413,\n",
       " 'Среднегодовая температура': 2.0}"
      ]
     },
     "execution_count": 84,
     "metadata": {},
     "output_type": "execute_result"
    }
   ],
   "source": [
    "d"
   ]
  },
  {
   "cell_type": "code",
   "execution_count": 81,
   "id": "6a76de9a",
   "metadata": {},
   "outputs": [
    {
     "data": {
      "text/plain": [
       "['Красноя́рск 1628 1205473 413 +2.0\\n', 'Екатеринбург 1723 1536183 490 +3.3']"
      ]
     },
     "execution_count": 81,
     "metadata": {},
     "output_type": "execute_result"
    }
   ],
   "source": [
    "my_towns"
   ]
  },
  {
   "cell_type": "code",
   "execution_count": 85,
   "id": "b711f878",
   "metadata": {},
   "outputs": [],
   "source": [
    "result = {}"
   ]
  },
  {
   "cell_type": "code",
   "execution_count": 86,
   "id": "94528e67",
   "metadata": {},
   "outputs": [],
   "source": [
    "result[t[0]] = d"
   ]
  },
  {
   "cell_type": "code",
   "execution_count": 87,
   "id": "769eba07",
   "metadata": {},
   "outputs": [
    {
     "data": {
      "text/plain": [
       "{'Красноя́рск': {'Год основания': 1628,\n",
       "  'Население': 1205473,\n",
       "  'Площадь': 413,\n",
       "  'Среднегодовая температура': 2.0}}"
      ]
     },
     "execution_count": 87,
     "metadata": {},
     "output_type": "execute_result"
    }
   ],
   "source": [
    "result"
   ]
  },
  {
   "cell_type": "code",
   "execution_count": null,
   "id": "a3f1cc05",
   "metadata": {},
   "outputs": [],
   "source": []
  }
 ],
 "metadata": {
  "kernelspec": {
   "display_name": "Python 3 (ipykernel)",
   "language": "python",
   "name": "python3"
  },
  "language_info": {
   "codemirror_mode": {
    "name": "ipython",
    "version": 3
   },
   "file_extension": ".py",
   "mimetype": "text/x-python",
   "name": "python",
   "nbconvert_exporter": "python",
   "pygments_lexer": "ipython3",
   "version": "3.11.5"
  },
  "toc": {
   "base_numbering": 1,
   "nav_menu": {},
   "number_sections": true,
   "sideBar": true,
   "skip_h1_title": false,
   "title_cell": "Table of Contents",
   "title_sidebar": "Contents",
   "toc_cell": false,
   "toc_position": {},
   "toc_section_display": true,
   "toc_window_display": false
  }
 },
 "nbformat": 4,
 "nbformat_minor": 5
}
