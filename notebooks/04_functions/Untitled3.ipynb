{
 "cells": [
  {
   "cell_type": "code",
   "execution_count": 2,
   "id": "9515d569",
   "metadata": {},
   "outputs": [
    {
     "name": "stdout",
     "output_type": "stream",
     "text": [
      "45\n"
     ]
    }
   ],
   "source": [
    "def sum_range(start, end):\n",
    "    if max(start, end) == end:\n",
    "        b, e = start, end\n",
    "    else:\n",
    "        b, e = end, start\n",
    "    tlist = list(range(b, e))\n",
    "    return sum(tlist)\n",
    "\n",
    "print(sum_range(1, 10))"
   ]
  },
  {
   "cell_type": "code",
   "execution_count": 8,
   "id": "46fea8a8",
   "metadata": {},
   "outputs": [
    {
     "name": "stdout",
     "output_type": "stream",
     "text": [
      "45\n"
     ]
    }
   ],
   "source": [
    "def sum_range(start, end):\n",
    "    \n",
    "    if end < start:\n",
    "        start, end = end, start   \n",
    "    return sum(range(start, end))\n",
    "\n",
    "print(sum_range(1, 10))"
   ]
  },
  {
   "cell_type": "code",
   "execution_count": 23,
   "id": "d27d38ed",
   "metadata": {},
   "outputs": [],
   "source": [
    "def three_args(*, var1=None, var2=None, var3=None):\n",
    "    my_tuple = var1, var2, var3\n",
    "    i = 1\n",
    "    for el in my_tuple:\n",
    "        if el:\n",
    "            print(f'var{i} = {el}')\n",
    "        i += 1\n"
   ]
  },
  {
   "cell_type": "code",
   "execution_count": 25,
   "id": "2a6d91d8",
   "metadata": {},
   "outputs": [
    {
     "name": "stdout",
     "output_type": "stream",
     "text": [
      "var1 = 4\n",
      "var2 = 2\n",
      "var3 = 3\n"
     ]
    }
   ],
   "source": [
    "three_args(var2=2,var3=3,var1=4)"
   ]
  },
  {
   "cell_type": "code",
   "execution_count": 29,
   "id": "b345ca86",
   "metadata": {},
   "outputs": [
    {
     "name": "stdout",
     "output_type": "stream",
     "text": [
      "Введите текст: das\n",
      "вфы\n"
     ]
    }
   ],
   "source": [
    "# Программа перевода текста с русской раскладки на английскую и обратно\n",
    "# переписана под функции\n",
    "# Язык перевода определяется автоматически\n",
    "\n",
    "def determinate_keyboard(text):\n",
    "    # раскладка Mac\n",
    "    en_keyboard = '`qwertyuiop[]\\\\asdfghjkl;\\'zxcvbnm,./~!@#$%^&*()_+QWERTYUIOP{}|ASDFGHJKL:\"ZXCVBNM<>'\n",
    "    ru_keyboard = ']йцукенгшщзхъёфывапролджэячсмитьбю/[!\"№%:,.;()_+ЙЦУКЕНГШЩЗХЪЁФЫВАПРОЛДЖЭЯЧСМИТЬБЮ'\n",
    "    # определяем язык для \"перевода\"\n",
    "    # выбираем символы доступные только en раскладке\n",
    "    only_en = set(en_keyboard) - set(ru_keyboard)\n",
    "    text_set = set(text)\n",
    "    union_set = only_en & text_set\n",
    "    if len(list(union_set)):\n",
    "        # создание словаря\n",
    "        en_ru = {}\n",
    "        for index_symbol in range(len(en_keyboard)):\n",
    "            en_symbol = en_keyboard[index_symbol]\n",
    "            ru_symbol = ru_keyboard[index_symbol]\n",
    "            en_ru.update({ en_symbol: ru_symbol })\n",
    "        dic = en_ru\n",
    "    else:\n",
    "        ru_en = {}\n",
    "        for index_symbol in range(len(en_keyboard)):\n",
    "            en_symbol = en_keyboard[index_symbol]\n",
    "            ru_symbol = ru_keyboard[index_symbol]\n",
    "            ru_en.update({ ru_symbol: en_symbol })\n",
    "        dic = ru_en\n",
    "    return dic\n",
    "\n",
    "def translate(text):\n",
    "    tr_text = ''\n",
    "    dic = determinate_keyboard(text)\n",
    "    \n",
    "    for symbol in text:\n",
    "        new_symbol = dic.get(symbol)\n",
    "        if new_symbol:\n",
    "            tr_text += new_symbol\n",
    "        else:\n",
    "            tr_text += symbol\n",
    "    return tr_text\n",
    "\n",
    "# Получаем данные от пользователя\n",
    "text_input = input(\"Введите текст: \")\n",
    "translate_text = translate(text_input)\n",
    "print(translate_text)"
   ]
  },
  {
   "cell_type": "code",
   "execution_count": 30,
   "id": "5b64e82e",
   "metadata": {},
   "outputs": [
    {
     "name": "stdout",
     "output_type": "stream",
     "text": [
      "Отсутствующие символы:  ['ч']\n"
     ]
    },
    {
     "data": {
      "text/plain": [
       "False"
      ]
     },
     "execution_count": 30,
     "metadata": {},
     "output_type": "execute_result"
    }
   ],
   "source": [
    "def is_pangram(input_string):\n",
    "    ru_alphabet_set = set('йцукенгшщзхъёфывапролджэячсмитьбю')\n",
    "    input_string = input_string.lower()\n",
    "    input_string_set = set(input_string)\n",
    "    result = list(ru_alphabet_set - input_string_set)\n",
    "    # для отладки\n",
    "    print('Отсутствующие символы: ', result)\n",
    "    \n",
    "    if len(result):\n",
    "        return False\n",
    "    else:\n",
    "        return True\n",
    "\n",
    "is_pangram('Вступив в бой с шипящими змеями — эфой и гадюкой, — маленький, цепкий, храбрый ёж съел их.')"
   ]
  },
  {
   "cell_type": "code",
   "execution_count": null,
   "id": "e9ec6cca",
   "metadata": {},
   "outputs": [],
   "source": []
  }
 ],
 "metadata": {
  "kernelspec": {
   "display_name": "Python 3 (ipykernel)",
   "language": "python",
   "name": "python3"
  },
  "language_info": {
   "codemirror_mode": {
    "name": "ipython",
    "version": 3
   },
   "file_extension": ".py",
   "mimetype": "text/x-python",
   "name": "python",
   "nbconvert_exporter": "python",
   "pygments_lexer": "ipython3",
   "version": "3.9.13"
  },
  "toc": {
   "base_numbering": 1,
   "nav_menu": {},
   "number_sections": true,
   "sideBar": true,
   "skip_h1_title": false,
   "title_cell": "Table of Contents",
   "title_sidebar": "Contents",
   "toc_cell": false,
   "toc_position": {},
   "toc_section_display": true,
   "toc_window_display": false
  }
 },
 "nbformat": 4,
 "nbformat_minor": 5
}
