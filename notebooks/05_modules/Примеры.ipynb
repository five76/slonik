{
 "cells": [
  {
   "cell_type": "markdown",
   "id": "b4dc3684",
   "metadata": {},
   "source": [
    "## random"
   ]
  },
  {
   "cell_type": "markdown",
   "id": "73a63426",
   "metadata": {},
   "source": [
    "Напиcать программу на Python для выбора случайного элемента из списка, множества, значения по словарю и файла из каталога. Использовать random.choice()"
   ]
  },
  {
   "cell_type": "code",
   "execution_count": 1,
   "id": "dc4047ac",
   "metadata": {},
   "outputs": [],
   "source": [
    "import random\n",
    "my_list = [3,5,6,8,3,5,6,7]"
   ]
  },
  {
   "cell_type": "code",
   "execution_count": 2,
   "id": "56ffe0b0",
   "metadata": {},
   "outputs": [
    {
     "name": "stdout",
     "output_type": "stream",
     "text": [
      "8\n"
     ]
    }
   ],
   "source": [
    "print(random.choice(my_list))"
   ]
  },
  {
   "cell_type": "code",
   "execution_count": 3,
   "id": "e47b3ee5",
   "metadata": {},
   "outputs": [
    {
     "name": "stdout",
     "output_type": "stream",
     "text": [
      "[3, 3, 5]\n"
     ]
    }
   ],
   "source": [
    "print(random.choices(my_list,k=3))"
   ]
  },
  {
   "cell_type": "markdown",
   "id": "110753b2",
   "metadata": {},
   "source": [
    "Напиcать программу на Python для создания списка случайных целых чисел и случайного выбора нескольких элементов из указанного списка. Использовать random.sample()"
   ]
  },
  {
   "cell_type": "code",
   "execution_count": 4,
   "id": "3ce8ac2e",
   "metadata": {},
   "outputs": [],
   "source": [
    "my_list = [3,5,6,8,3,5,6,7]"
   ]
  },
  {
   "cell_type": "code",
   "execution_count": 5,
   "id": "b2953f4b",
   "metadata": {},
   "outputs": [
    {
     "name": "stdout",
     "output_type": "stream",
     "text": [
      "[3, 5, 6]\n"
     ]
    }
   ],
   "source": [
    "print(random.sample(my_list,k=3))"
   ]
  },
  {
   "cell_type": "markdown",
   "id": "c1806f8d",
   "metadata": {},
   "source": [
    "Напиcать программу на Python для перетасовки элементов заданного списка. Использовать random.shuffle()"
   ]
  },
  {
   "cell_type": "code",
   "execution_count": 16,
   "id": "34dcec18",
   "metadata": {},
   "outputs": [],
   "source": [
    "random.shuffle(my_list)"
   ]
  },
  {
   "cell_type": "code",
   "execution_count": 17,
   "id": "a528e8ec",
   "metadata": {},
   "outputs": [
    {
     "name": "stdout",
     "output_type": "stream",
     "text": [
      "[6, 8, 3, 5, 6, 7, 3, 5]\n"
     ]
    }
   ],
   "source": [
    "print(my_list)"
   ]
  },
  {
   "cell_type": "code",
   "execution_count": null,
   "id": "c7efcb38",
   "metadata": {},
   "outputs": [],
   "source": []
  }
 ],
 "metadata": {
  "kernelspec": {
   "display_name": "Python 3 (ipykernel)",
   "language": "python",
   "name": "python3"
  },
  "language_info": {
   "codemirror_mode": {
    "name": "ipython",
    "version": 3
   },
   "file_extension": ".py",
   "mimetype": "text/x-python",
   "name": "python",
   "nbconvert_exporter": "python",
   "pygments_lexer": "ipython3",
   "version": "3.9.13"
  },
  "toc": {
   "base_numbering": 1,
   "nav_menu": {},
   "number_sections": true,
   "sideBar": true,
   "skip_h1_title": false,
   "title_cell": "Table of Contents",
   "title_sidebar": "Contents",
   "toc_cell": false,
   "toc_position": {},
   "toc_section_display": true,
   "toc_window_display": false
  }
 },
 "nbformat": 4,
 "nbformat_minor": 5
}
