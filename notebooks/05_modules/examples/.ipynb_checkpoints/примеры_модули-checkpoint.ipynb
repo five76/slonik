{
 "cells": [
  {
   "cell_type": "markdown",
   "id": "37cfb17e",
   "metadata": {},
   "source": [
    "## random"
   ]
  },
  {
   "cell_type": "markdown",
   "id": "798defc9",
   "metadata": {},
   "source": [
    "Напиcать программу на Python для выбора случайного элемента из списка, множества, значения по словарю и файла из каталога. Использовать random.choice()"
   ]
  },
  {
   "cell_type": "code",
   "execution_count": 10,
   "id": "2b8643e5",
   "metadata": {},
   "outputs": [],
   "source": [
    "import random\n",
    "my_list = [3,5,6,8,3,5,6,7]"
   ]
  },
  {
   "cell_type": "code",
   "execution_count": 11,
   "id": "5d5267fe",
   "metadata": {},
   "outputs": [
    {
     "name": "stdout",
     "output_type": "stream",
     "text": [
      "7\n"
     ]
    }
   ],
   "source": [
    "print(random.choice(my_list))"
   ]
  },
  {
   "cell_type": "code",
   "execution_count": 12,
   "id": "7e08e8b8",
   "metadata": {},
   "outputs": [
    {
     "name": "stdout",
     "output_type": "stream",
     "text": [
      "[6, 5, 3]\n"
     ]
    }
   ],
   "source": [
    "print(random.choices(my_list,k=3))"
   ]
  },
  {
   "cell_type": "markdown",
   "id": "0e93fbe9",
   "metadata": {},
   "source": [
    "Напиcать программу на Python для создания списка случайных целых чисел и случайного выбора нескольких элементов из указанного списка. Использовать random.sample()"
   ]
  },
  {
   "cell_type": "code",
   "execution_count": 13,
   "id": "c47ca0c7",
   "metadata": {},
   "outputs": [],
   "source": [
    "my_list = [3,5,6,8,3,5,6,7]"
   ]
  },
  {
   "cell_type": "code",
   "execution_count": 14,
   "id": "ebbea241",
   "metadata": {},
   "outputs": [
    {
     "name": "stdout",
     "output_type": "stream",
     "text": [
      "[6, 3, 6]\n"
     ]
    }
   ],
   "source": [
    "print(random.sample(my_list,k=3))"
   ]
  },
  {
   "cell_type": "markdown",
   "id": "6e06b26d",
   "metadata": {},
   "source": [
    "Напиcать программу на Python для перетасовки элементов заданного списка. Использовать random.shuffle()"
   ]
  },
  {
   "cell_type": "code",
   "execution_count": 15,
   "id": "346f525c",
   "metadata": {},
   "outputs": [],
   "source": [
    "random.shuffle(my_list)"
   ]
  },
  {
   "cell_type": "code",
   "execution_count": 17,
   "id": "235e499f",
   "metadata": {},
   "outputs": [
    {
     "name": "stdout",
     "output_type": "stream",
     "text": [
      "[8, 5, 5, 7, 3, 6, 6, 3]\n"
     ]
    }
   ],
   "source": [
    "print(my_list)"
   ]
  },
  {
   "cell_type": "markdown",
   "id": "5c5c1308",
   "metadata": {},
   "source": [
    "## CSV"
   ]
  },
  {
   "cell_type": "markdown",
   "id": "0dab70e0",
   "metadata": {},
   "source": [
    "Напиcать программу на Python для чтения и отображения содержимого данного CSV-файла (‘bike_sales.csv’). Использовать csv.reader"
   ]
  },
  {
   "cell_type": "code",
   "execution_count": 20,
   "id": "47e51eb6",
   "metadata": {},
   "outputs": [
    {
     "name": "stdout",
     "output_type": "stream",
     "text": [
      "[['1', '11-07-2022', '9390', 'Cruiser', '318.32', '1', 'Philadelphia', '589', 'Apple Pay', '70', 'Female'], ['2', '03-05-2024', '3374', 'Hybrid Bike', '3093.47', '4', 'Chicago', '390', 'Apple Pay', '37', 'Male'], ['3', '01-09-2022', '2689', 'Folding Bike', '4247.99', '3', 'San Antonio', '338', 'PayPal', '59', 'Female'], ['4', '28-09-2022', '3797', 'Mountain Bike', '1722.01', '3', 'San Antonio', '352', 'Apple Pay', '19', 'Male'], ['5', '05-01-2021', '1633', 'BMX', '3941.44', '3', 'Philadelphia', '580', 'PayPal', '67', 'Female'], ['6', '06-09-2021', '9663', 'Mountain Bike', '1778.12', '5', 'Chicago', '829', 'Google Pay', '42', 'Male'], ['7', '08-06-2020', '6049', 'Hybrid Bike', '1513.6', '4', 'Philadelphia', '916', 'Google Pay', '20', 'Male'], ['8', '22-08-2021', '5784', 'Road Bike', '3825.94', '1', 'Philadelphia', '291', 'Debit Card', '57', 'Male'], ['9', '04-10-2020', '9649', 'Road Bike', '614.94', '3', 'San Antonio', '906', 'Debit Card', '62', 'Male'], ['10', '22-03-2023', '3977', 'Electric Bike', '2707.4', '5', 'Los Angeles', '562', 'PayPal', '65', 'Male']]\n"
     ]
    }
   ],
   "source": [
    "import csv\n",
    "df = []\n",
    "with open('bike_sales.csv',encoding='utf-8') as f:\n",
    "    reader = csv.reader(f)\n",
    "    next(reader)\n",
    "    for row in reader:\n",
    "        df.append(row)\n",
    "print(df[0:10])"
   ]
  },
  {
   "cell_type": "markdown",
   "id": "48921f33",
   "metadata": {},
   "source": [
    "Напиcать программу на Python, выводящую из CSV-файла списов городов (без дубликатов). Использовать csv.reader, next(obj)"
   ]
  },
  {
   "cell_type": "code",
   "execution_count": 27,
   "id": "5508c6ee",
   "metadata": {},
   "outputs": [],
   "source": [
    "def define_sales_sity(df=[]):\n",
    "    city_list = []\n",
    "    for row in df:\n",
    "        city_list.append(row[6])\n",
    "    city_set = set(city_list)\n",
    "    return city_set"
   ]
  },
  {
   "cell_type": "code",
   "execution_count": 28,
   "id": "00d55910",
   "metadata": {},
   "outputs": [
    {
     "data": {
      "text/plain": [
       "{'Chicago',\n",
       " 'Houston',\n",
       " 'Los Angeles',\n",
       " 'New York',\n",
       " 'Philadelphia',\n",
       " 'Phoenix',\n",
       " 'San Antonio'}"
      ]
     },
     "execution_count": 28,
     "metadata": {},
     "output_type": "execute_result"
    }
   ],
   "source": [
    "define_sales_sity(df)"
   ]
  },
  {
   "cell_type": "code",
   "execution_count": 38,
   "id": "837543d5",
   "metadata": {},
   "outputs": [],
   "source": [
    "import mybik"
   ]
  },
  {
   "cell_type": "code",
   "execution_count": 39,
   "id": "ebcd8e53",
   "metadata": {},
   "outputs": [
    {
     "ename": "AttributeError",
     "evalue": "module 'mybik' has no attribute 'define_sales_city'",
     "output_type": "error",
     "traceback": [
      "\u001b[1;31m---------------------------------------------------------------------------\u001b[0m",
      "\u001b[1;31mAttributeError\u001b[0m                            Traceback (most recent call last)",
      "Cell \u001b[1;32mIn[39], line 1\u001b[0m\n\u001b[1;32m----> 1\u001b[0m \u001b[43mmybik\u001b[49m\u001b[38;5;241;43m.\u001b[39;49m\u001b[43mdefine_sales_city\u001b[49m(df)\n",
      "\u001b[1;31mAttributeError\u001b[0m: module 'mybik' has no attribute 'define_sales_city'"
     ]
    }
   ],
   "source": [
    "mybik.define_sales_city(df)"
   ]
  },
  {
   "cell_type": "code",
   "execution_count": null,
   "id": "672b3086",
   "metadata": {},
   "outputs": [],
   "source": []
  }
 ],
 "metadata": {
  "kernelspec": {
   "display_name": "Python 3 (ipykernel)",
   "language": "python",
   "name": "python3"
  },
  "language_info": {
   "codemirror_mode": {
    "name": "ipython",
    "version": 3
   },
   "file_extension": ".py",
   "mimetype": "text/x-python",
   "name": "python",
   "nbconvert_exporter": "python",
   "pygments_lexer": "ipython3",
   "version": "3.8.10"
  },
  "toc": {
   "base_numbering": 1,
   "nav_menu": {},
   "number_sections": true,
   "sideBar": true,
   "skip_h1_title": false,
   "title_cell": "Table of Contents",
   "title_sidebar": "Contents",
   "toc_cell": false,
   "toc_position": {},
   "toc_section_display": true,
   "toc_window_display": false
  }
 },
 "nbformat": 4,
 "nbformat_minor": 5
}
