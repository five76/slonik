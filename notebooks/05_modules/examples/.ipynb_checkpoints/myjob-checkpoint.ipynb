{
 "cells": [
  {
   "cell_type": "code",
   "execution_count": 1,
   "id": "dfa85add",
   "metadata": {
    "scrolled": true
   },
   "outputs": [],
   "source": [
    "import mybike"
   ]
  },
  {
   "cell_type": "code",
   "execution_count": 2,
   "id": "64cc60ab",
   "metadata": {},
   "outputs": [],
   "source": [
    "df = mybike.load_dataset(file_name='bike_sales.csv')"
   ]
  },
  {
   "cell_type": "code",
   "execution_count": 3,
   "id": "400baced",
   "metadata": {},
   "outputs": [
    {
     "data": {
      "text/plain": [
       "100000"
      ]
     },
     "execution_count": 3,
     "metadata": {},
     "output_type": "execute_result"
    }
   ],
   "source": [
    "len(df)"
   ]
  },
  {
   "cell_type": "code",
   "execution_count": 9,
   "id": "974cd24f",
   "metadata": {},
   "outputs": [],
   "source": [
    "sales_city = list(mybike.define_sales_cities(lst=df[:]))"
   ]
  },
  {
   "cell_type": "code",
   "execution_count": 10,
   "id": "1fcd8faf",
   "metadata": {
    "scrolled": true
   },
   "outputs": [
    {
     "name": "stdout",
     "output_type": "stream",
     "text": [
      "['Phoenix', 'Houston', 'Los Angeles', 'New York', 'Philadelphia', 'San Antonio', 'Chicago']\n"
     ]
    }
   ],
   "source": [
    "print(sales_city)"
   ]
  },
  {
   "cell_type": "code",
   "execution_count": 17,
   "id": "e67a58fc",
   "metadata": {},
   "outputs": [
    {
     "name": "stdout",
     "output_type": "stream",
     "text": [
      "110388139.03999996\n"
     ]
    }
   ],
   "source": [
    "print(mybike.calculate_sum_city(city='Chicago',lst=df[:]))"
   ]
  },
  {
   "cell_type": "code",
   "execution_count": 16,
   "id": "13781a9d",
   "metadata": {},
   "outputs": [
    {
     "name": "stdout",
     "output_type": "stream",
     "text": [
      "{'New York': 113592473.94000022, 'Phoenix': 111860419.61000007, 'Philadelphia': 111765829.45000073, 'Houston': 110427042.38999961, 'Chicago': 110388139.03999996, 'Los Angeles': 110340851.07999961, 'San Antonio': 110059479.44000015}\n"
     ]
    }
   ],
   "source": [
    "sum_city_dict = {}\n",
    "for s in sales_city:\n",
    "    sum_city = mybike.calculate_sum_city(city=s,lst=df[:])\n",
    "    sum_city_dict[s] = sum_city\n",
    "    \n",
    "# Сортировка словаря    \n",
    "sort_tuple = sorted(sum_city_dict.items(), key=lambda x: x[1],reverse=True)\n",
    "print(dict(sort_tuple))"
   ]
  },
  {
   "cell_type": "code",
   "execution_count": null,
   "id": "24135068",
   "metadata": {},
   "outputs": [],
   "source": []
  }
 ],
 "metadata": {
  "kernelspec": {
   "display_name": "Python 3 (ipykernel)",
   "language": "python",
   "name": "python3"
  },
  "language_info": {
   "codemirror_mode": {
    "name": "ipython",
    "version": 3
   },
   "file_extension": ".py",
   "mimetype": "text/x-python",
   "name": "python",
   "nbconvert_exporter": "python",
   "pygments_lexer": "ipython3",
   "version": "3.8.10"
  },
  "toc": {
   "base_numbering": 1,
   "nav_menu": {},
   "number_sections": true,
   "sideBar": true,
   "skip_h1_title": false,
   "title_cell": "Table of Contents",
   "title_sidebar": "Contents",
   "toc_cell": false,
   "toc_position": {},
   "toc_section_display": true,
   "toc_window_display": false
  }
 },
 "nbformat": 4,
 "nbformat_minor": 5
}
