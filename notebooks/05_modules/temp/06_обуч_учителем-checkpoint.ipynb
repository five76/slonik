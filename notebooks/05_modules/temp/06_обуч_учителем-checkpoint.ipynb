{
 "cells": [
  {
   "cell_type": "markdown",
   "metadata": {},
   "source": [
    "<div style=\"border:solid Chocolate 2px; padding: 40px\">\n",
    " \n",
    "<b> Дмитрий, привет!👋</b>  \n",
    "\n",
    "Меня зовут Кирилл Васильев, я буду ревьюером твоего проекта. Я предлагаю общаться на «ты», но если привычнее на «вы», просто скажи об этом! \n",
    "\n",
    "Я буду оставлять комментарии в твоем проекте. Пожалуйста, не удаляй их, они могут быть полезны в случае повторной проверки.\n",
    "\n",
    "Ты можешь реагировать на комментарии как просто написав их в Markdown-ячейках, так и выделив их цветом. Например, <font color='blue'>синим</font>. Второй способ, на мой взгляд, удобнее.\n",
    "\n",
    "Свои комментарии я буду обозначать <font color='green'>зеленым</font>, <font color='gold'>желтым</font> и <font color='red'>красным</font> цветами, например:\n",
    " \n",
    "<br/>\n",
    "\n",
    "<div class=\"alert alert-success\">\n",
    "<h2> Комментарий ревьюера <a class=\"tocSkip\"> </h2>\n",
    "\n",
    "<b>Все отлично!👍:</b> В случае, если решение на отдельном шаге является полностью правильным. Здесь же я могу давать советы и предложения.\n",
    "</div>\n",
    "\n",
    "<br/>\n",
    "\n",
    "<div class=\"alert alert-warning\">\n",
    "    <h2> Комментарий ревьюера <a class=\"tocSkip\"> </h2>\n",
    "    \n",
    "<b>Некоторые замечания и рекомендации💡:</b> В случае, когда решение на отдельном шаге станет еще лучше, если внести небольшие коррективы.\n",
    "</div>\n",
    "\n",
    "\n",
    "<br/>\n",
    "<div class=\"alert alert-block alert-danger\">\n",
    "<h2> Комментарий ревьюера <a class=\"tocSkip\"></h2>\n",
    "\n",
    "    \n",
    "<b>На доработку🤔:</b>\n",
    " В случае, когда решение на отдельном шаге требует существенной переработки и внесения правок. Напоминаю, что проект не может быть принят с первого раза, если ревью содержит комментарии, рекомендующие доработать шаги.\n",
    "</div>\n",
    "    \n",
    "Увидев у тебя неточность, в первый раз я лишь укажу на ее наличие и дам тебе возможность самому найти и исправить ее. На реальной работе твой руководитель будет поступать также. Но если ты пока не справишься с такой задачей - при следующей проверке я дам более точную подсказку! "
   ]
  },
  {
   "cell_type": "markdown",
   "metadata": {
    "toc": true
   },
   "source": [
    "<h1>Содержание<span class=\"tocSkip\"></span></h1>\n",
    "<div class=\"toc\"><ul class=\"toc-item\"><li><span><a href=\"#Подготовка-данных\" data-toc-modified-id=\"Подготовка-данных-1\"><span class=\"toc-item-num\">1&nbsp;&nbsp;</span>Подготовка данных</a></span></li><li><span><a href=\"#Исследование-задачи\" data-toc-modified-id=\"Исследование-задачи-2\"><span class=\"toc-item-num\">2&nbsp;&nbsp;</span>Исследование задачи</a></span><ul class=\"toc-item\"><li><span><a href=\"#Построение-модели-без-учета-дисбаланса\" data-toc-modified-id=\"Построение-модели-без-учета-дисбаланса-2.1\"><span class=\"toc-item-num\">2.1&nbsp;&nbsp;</span>Построение модели без учета дисбаланса</a></span></li><li><span><a href=\"#Борьба-с-дисбалансом\" data-toc-modified-id=\"Борьба-с-дисбалансом-2.2\"><span class=\"toc-item-num\">2.2&nbsp;&nbsp;</span>Борьба с дисбалансом</a></span><ul class=\"toc-item\"><li><span><a href=\"#Использование-class_weigth\" data-toc-modified-id=\"Использование-class_weigth-2.2.1\"><span class=\"toc-item-num\">2.2.1&nbsp;&nbsp;</span>Использование class_weigth</a></span></li><li><span><a href=\"#Увеличение-выборки\" data-toc-modified-id=\"Увеличение-выборки-2.2.2\"><span class=\"toc-item-num\">2.2.2&nbsp;&nbsp;</span>Увеличение выборки</a></span></li></ul></li></ul></li><li><span><a href=\"#Тестирование-модели\" data-toc-modified-id=\"Тестирование-модели-3\"><span class=\"toc-item-num\">3&nbsp;&nbsp;</span>Тестирование модели</a></span></li><li><span><a href=\"#Чек-лист-готовности-проекта\" data-toc-modified-id=\"Чек-лист-готовности-проекта-4\"><span class=\"toc-item-num\">4&nbsp;&nbsp;</span>Чек-лист готовности проекта</a></span></li></ul></div>"
   ]
  },
  {
   "cell_type": "markdown",
   "metadata": {},
   "source": [
    "# Отток клиентов"
   ]
  },
  {
   "cell_type": "markdown",
   "metadata": {},
   "source": [
    "Из «Бета-Банка» стали уходить клиенты. Каждый месяц. Немного, но заметно. Банковские маркетологи посчитали: сохранять текущих клиентов дешевле, чем привлекать новых.\n",
    "\n",
    "Нужно спрогнозировать, уйдёт клиент из банка в ближайшее время или нет. Вам предоставлены исторические данные о поведении клиентов и расторжении договоров с банком. \n",
    "\n",
    "Постройте модель с предельно большим значением *F1*-меры. Чтобы сдать проект успешно, нужно довести метрику до 0.59. Проверьте *F1*-меру на тестовой выборке самостоятельно.\n",
    "\n",
    "Дополнительно измеряйте *AUC-ROC*, сравнивайте её значение с *F1*-мерой.\n",
    "\n",
    "Источник данных: [https://www.kaggle.com/barelydedicated/bank-customer-churn-modeling](https://www.kaggle.com/barelydedicated/bank-customer-churn-modeling)"
   ]
  },
  {
   "cell_type": "markdown",
   "metadata": {},
   "source": [
    "## Подготовка данных"
   ]
  },
  {
   "cell_type": "markdown",
   "metadata": {},
   "source": [
    "Описание данных\n",
    "\n",
    "**Признаки**<br>\n",
    "•\tRowNumber — индекс строки в данных<br>\n",
    "•\tCustomerId — уникальный идентификатор клиента<br>\n",
    "•\tSurname — фамилия<br>\n",
    "•\tCreditScore — кредитный рейтинг<br>\n",
    "•\tGeography — страна проживания<br>\n",
    "•\tGender — пол<br>\n",
    "•\tAge — возраст<br>\n",
    "•\tTenure — сколько лет человек является клиентом банка<br>\n",
    "•\tBalance — баланс на счёте<br>\n",
    "•\tNumOfProducts — количество продуктов банка, используемых клиентом<br>\n",
    "•\tHasCrCard — наличие кредитной карты<br>\n",
    "•\tIsActiveMember — активность клиента<br>\n",
    "•\tEstimatedSalary — предполагаемая зарплата<br>\n",
    "**Целевой признак**<br>\n",
    "•\tExited — факт ухода клиента<br>\n"
   ]
  },
  {
   "cell_type": "code",
   "execution_count": 1,
   "metadata": {},
   "outputs": [],
   "source": [
    "import pandas as pd\n",
    "import re\n",
    "from sklearn.model_selection import train_test_split\n",
    "from sklearn.tree import DecisionTreeClassifier\n",
    "from sklearn.metrics import mean_absolute_error\n",
    "from sklearn.preprocessing import StandardScaler\n",
    "from sklearn.utils import shuffle\n"
   ]
  },
  {
   "cell_type": "markdown",
   "metadata": {},
   "source": [
    "<div class=\"alert alert-info\">\n",
    "<b>Доработка:</b>\n",
    "<br>\n",
    "</div>"
   ]
  },
  {
   "cell_type": "markdown",
   "metadata": {},
   "source": [
    "<div class=\"alert alert-success\">\n",
    "<h2> Комментарий ревьюера #2 <a class=\"tocSkip\"> </h2>\n",
    "\n",
    "👍 Теперь все отлично. Единственное, все-таки, лучше в одной ячейке все импортировать.\n",
    "</div>\n",
    "\n"
   ]
  },
  {
   "cell_type": "code",
   "execution_count": 2,
   "metadata": {},
   "outputs": [],
   "source": [
    "from sklearn.linear_model import LinearRegression, LogisticRegression\n",
    "from sklearn.ensemble import  RandomForestClassifier, RandomForestRegressor\n",
    "from sklearn.metrics import (\n",
    "    recall_score, \n",
    "    precision_score,\n",
    "    f1_score,\n",
    "    confusion_matrix,\n",
    "    roc_curve,\n",
    "    roc_auc_score\n",
    ")\n",
    "import warnings\n",
    "warnings.filterwarnings('ignore')"
   ]
  },
  {
   "cell_type": "markdown",
   "metadata": {},
   "source": [
    "<div class=\"alert alert-warning\">\n",
    "<h2> Комментарий ревьюера <a class=\"tocSkip\"> </h2>\n",
    "    \n",
    "<b>Некоторые замечания и рекомендации💡:</b> \n",
    "    \n",
    "Если загружаем несколько функций из одного пакета, то удобнее записать это через запятую.\n",
    "    \n",
    "`from sklearn.metrics import f1_score, roc_auc_score`\n",
    "    \n",
    "А если через запятую будет больше трех позиций, в таком случае здесь было бы идеально привести оформление в соответствие с <a href=\"https://pythonworld.ru/osnovy/pep-8-rukovodstvo-po-napisaniyu-koda-na-python.html\">pep8</a> - не оставлять длинных строк. \n",
    "\n",
    "Такое оформление предпочтительнее:    \n",
    "    \n",
    "`from sklearn.metrics import (\n",
    "    accuracy_score, \n",
    "    confusion_matrix, \n",
    "    f1_score, \n",
    "    mean_squared_error, \n",
    "    roc_auc_score\n",
    ")`\n",
    "    \n",
    "        \n",
    "</div>\n",
    "\n"
   ]
  },
  {
   "cell_type": "code",
   "execution_count": 3,
   "metadata": {},
   "outputs": [],
   "source": [
    "data = pd.read_csv('/datasets/Churn.csv')"
   ]
  },
  {
   "cell_type": "code",
   "execution_count": 4,
   "metadata": {
    "scrolled": false
   },
   "outputs": [
    {
     "data": {
      "text/html": [
       "<div>\n",
       "<style scoped>\n",
       "    .dataframe tbody tr th:only-of-type {\n",
       "        vertical-align: middle;\n",
       "    }\n",
       "\n",
       "    .dataframe tbody tr th {\n",
       "        vertical-align: top;\n",
       "    }\n",
       "\n",
       "    .dataframe thead th {\n",
       "        text-align: right;\n",
       "    }\n",
       "</style>\n",
       "<table border=\"1\" class=\"dataframe\">\n",
       "  <thead>\n",
       "    <tr style=\"text-align: right;\">\n",
       "      <th></th>\n",
       "      <th>RowNumber</th>\n",
       "      <th>CustomerId</th>\n",
       "      <th>Surname</th>\n",
       "      <th>CreditScore</th>\n",
       "      <th>Geography</th>\n",
       "      <th>Gender</th>\n",
       "      <th>Age</th>\n",
       "      <th>Tenure</th>\n",
       "      <th>Balance</th>\n",
       "      <th>NumOfProducts</th>\n",
       "      <th>HasCrCard</th>\n",
       "      <th>IsActiveMember</th>\n",
       "      <th>EstimatedSalary</th>\n",
       "      <th>Exited</th>\n",
       "    </tr>\n",
       "  </thead>\n",
       "  <tbody>\n",
       "    <tr>\n",
       "      <th>0</th>\n",
       "      <td>1</td>\n",
       "      <td>15634602</td>\n",
       "      <td>Hargrave</td>\n",
       "      <td>619</td>\n",
       "      <td>France</td>\n",
       "      <td>Female</td>\n",
       "      <td>42</td>\n",
       "      <td>2.0</td>\n",
       "      <td>0.00</td>\n",
       "      <td>1</td>\n",
       "      <td>1</td>\n",
       "      <td>1</td>\n",
       "      <td>101348.88</td>\n",
       "      <td>1</td>\n",
       "    </tr>\n",
       "    <tr>\n",
       "      <th>1</th>\n",
       "      <td>2</td>\n",
       "      <td>15647311</td>\n",
       "      <td>Hill</td>\n",
       "      <td>608</td>\n",
       "      <td>Spain</td>\n",
       "      <td>Female</td>\n",
       "      <td>41</td>\n",
       "      <td>1.0</td>\n",
       "      <td>83807.86</td>\n",
       "      <td>1</td>\n",
       "      <td>0</td>\n",
       "      <td>1</td>\n",
       "      <td>112542.58</td>\n",
       "      <td>0</td>\n",
       "    </tr>\n",
       "    <tr>\n",
       "      <th>2</th>\n",
       "      <td>3</td>\n",
       "      <td>15619304</td>\n",
       "      <td>Onio</td>\n",
       "      <td>502</td>\n",
       "      <td>France</td>\n",
       "      <td>Female</td>\n",
       "      <td>42</td>\n",
       "      <td>8.0</td>\n",
       "      <td>159660.80</td>\n",
       "      <td>3</td>\n",
       "      <td>1</td>\n",
       "      <td>0</td>\n",
       "      <td>113931.57</td>\n",
       "      <td>1</td>\n",
       "    </tr>\n",
       "    <tr>\n",
       "      <th>3</th>\n",
       "      <td>4</td>\n",
       "      <td>15701354</td>\n",
       "      <td>Boni</td>\n",
       "      <td>699</td>\n",
       "      <td>France</td>\n",
       "      <td>Female</td>\n",
       "      <td>39</td>\n",
       "      <td>1.0</td>\n",
       "      <td>0.00</td>\n",
       "      <td>2</td>\n",
       "      <td>0</td>\n",
       "      <td>0</td>\n",
       "      <td>93826.63</td>\n",
       "      <td>0</td>\n",
       "    </tr>\n",
       "    <tr>\n",
       "      <th>4</th>\n",
       "      <td>5</td>\n",
       "      <td>15737888</td>\n",
       "      <td>Mitchell</td>\n",
       "      <td>850</td>\n",
       "      <td>Spain</td>\n",
       "      <td>Female</td>\n",
       "      <td>43</td>\n",
       "      <td>2.0</td>\n",
       "      <td>125510.82</td>\n",
       "      <td>1</td>\n",
       "      <td>1</td>\n",
       "      <td>1</td>\n",
       "      <td>79084.10</td>\n",
       "      <td>0</td>\n",
       "    </tr>\n",
       "  </tbody>\n",
       "</table>\n",
       "</div>"
      ],
      "text/plain": [
       "   RowNumber  CustomerId   Surname  CreditScore Geography  Gender  Age  \\\n",
       "0          1    15634602  Hargrave          619    France  Female   42   \n",
       "1          2    15647311      Hill          608     Spain  Female   41   \n",
       "2          3    15619304      Onio          502    France  Female   42   \n",
       "3          4    15701354      Boni          699    France  Female   39   \n",
       "4          5    15737888  Mitchell          850     Spain  Female   43   \n",
       "\n",
       "   Tenure    Balance  NumOfProducts  HasCrCard  IsActiveMember  \\\n",
       "0     2.0       0.00              1          1               1   \n",
       "1     1.0   83807.86              1          0               1   \n",
       "2     8.0  159660.80              3          1               0   \n",
       "3     1.0       0.00              2          0               0   \n",
       "4     2.0  125510.82              1          1               1   \n",
       "\n",
       "   EstimatedSalary  Exited  \n",
       "0        101348.88       1  \n",
       "1        112542.58       0  \n",
       "2        113931.57       1  \n",
       "3         93826.63       0  \n",
       "4         79084.10       0  "
      ]
     },
     "execution_count": 4,
     "metadata": {},
     "output_type": "execute_result"
    }
   ],
   "source": [
    "data.head()"
   ]
  },
  {
   "cell_type": "code",
   "execution_count": 5,
   "metadata": {
    "scrolled": false
   },
   "outputs": [
    {
     "name": "stdout",
     "output_type": "stream",
     "text": [
      "<class 'pandas.core.frame.DataFrame'>\n",
      "RangeIndex: 10000 entries, 0 to 9999\n",
      "Data columns (total 14 columns):\n",
      " #   Column           Non-Null Count  Dtype  \n",
      "---  ------           --------------  -----  \n",
      " 0   RowNumber        10000 non-null  int64  \n",
      " 1   CustomerId       10000 non-null  int64  \n",
      " 2   Surname          10000 non-null  object \n",
      " 3   CreditScore      10000 non-null  int64  \n",
      " 4   Geography        10000 non-null  object \n",
      " 5   Gender           10000 non-null  object \n",
      " 6   Age              10000 non-null  int64  \n",
      " 7   Tenure           9091 non-null   float64\n",
      " 8   Balance          10000 non-null  float64\n",
      " 9   NumOfProducts    10000 non-null  int64  \n",
      " 10  HasCrCard        10000 non-null  int64  \n",
      " 11  IsActiveMember   10000 non-null  int64  \n",
      " 12  EstimatedSalary  10000 non-null  float64\n",
      " 13  Exited           10000 non-null  int64  \n",
      "dtypes: float64(3), int64(8), object(3)\n",
      "memory usage: 1.1+ MB\n"
     ]
    }
   ],
   "source": [
    "data.info()"
   ]
  },
  {
   "cell_type": "markdown",
   "metadata": {},
   "source": [
    "Наименования столбцов содержат заглавные буквы и записаны CamelStyle. Преобразуем в python_style"
   ]
  },
  {
   "cell_type": "code",
   "execution_count": 6,
   "metadata": {},
   "outputs": [],
   "source": [
    "def col_ibs_strike(column):\n",
    "    \n",
    "    \"\"\"\n",
    "    Функция для вставки символа 'подчеркивание' в слово перед upper символом\n",
    "    \"\"\"\n",
    "    \n",
    "    ups = []\n",
    "    for i in range(1,len(column)):\n",
    "        if column[i].isupper() == True:\n",
    "            ups.append(i)\n",
    "    #print(ups)\n",
    "    k = 0\n",
    "    for pos in ups:\n",
    "        column = column[:pos+k]+'_'+column[pos+k:]\n",
    "        k+=1\n",
    "    return column"
   ]
  },
  {
   "cell_type": "markdown",
   "metadata": {},
   "source": [
    "<div class=\"alert alert-success\">\n",
    "<h2> Комментарий ревьюера <a class=\"tocSkip\"> </h2>\n",
    "\n",
    "👍 Можно сделать компактнее. Например, так:\n",
    "\n",
    "`df.columns = [re.sub(r'(?<!^)(?=[A-Z])', '_', i).lower() for i in df.columns]`\n",
    "    \n",
    "Подробнее про регулярные выражения можно почитать здесь: https://habr.com/ru/post/349860/    \n",
    "</div>\n"
   ]
  },
  {
   "cell_type": "markdown",
   "metadata": {},
   "source": [
    "Переименовываем столбцы. Вставляем символ подчеркивания и приводим к нижнему регистру"
   ]
  },
  {
   "cell_type": "markdown",
   "metadata": {},
   "source": [
    "<div class=\"alert alert-info\">\n",
    "<b>Доработка:</b>\n",
    "<br>\n",
    "</div>"
   ]
  },
  {
   "cell_type": "code",
   "execution_count": 7,
   "metadata": {},
   "outputs": [],
   "source": [
    "data.columns = [re.sub(r'(?<!^)(?=[A-Z])', '_', i).lower() for i in data.columns]"
   ]
  },
  {
   "cell_type": "markdown",
   "metadata": {
    "scrolled": true
   },
   "source": [
    "<del>\n",
    "#for c in data.columns:\n",
    "#    cc =  col_ibs_strike(c)\n",
    "#    data = data.rename(columns={c:cc})\n",
    "#data = data.rename(str.lower, axis='columns')   \n",
    "</del>"
   ]
  },
  {
   "cell_type": "code",
   "execution_count": 8,
   "metadata": {
    "scrolled": false
   },
   "outputs": [
    {
     "name": "stdout",
     "output_type": "stream",
     "text": [
      "<class 'pandas.core.frame.DataFrame'>\n",
      "RangeIndex: 10000 entries, 0 to 9999\n",
      "Data columns (total 14 columns):\n",
      " #   Column            Non-Null Count  Dtype  \n",
      "---  ------            --------------  -----  \n",
      " 0   row_number        10000 non-null  int64  \n",
      " 1   customer_id       10000 non-null  int64  \n",
      " 2   surname           10000 non-null  object \n",
      " 3   credit_score      10000 non-null  int64  \n",
      " 4   geography         10000 non-null  object \n",
      " 5   gender            10000 non-null  object \n",
      " 6   age               10000 non-null  int64  \n",
      " 7   tenure            9091 non-null   float64\n",
      " 8   balance           10000 non-null  float64\n",
      " 9   num_of_products   10000 non-null  int64  \n",
      " 10  has_cr_card       10000 non-null  int64  \n",
      " 11  is_active_member  10000 non-null  int64  \n",
      " 12  estimated_salary  10000 non-null  float64\n",
      " 13  exited            10000 non-null  int64  \n",
      "dtypes: float64(3), int64(8), object(3)\n",
      "memory usage: 1.1+ MB\n"
     ]
    }
   ],
   "source": [
    "data.info()"
   ]
  },
  {
   "cell_type": "markdown",
   "metadata": {},
   "source": [
    "Проверка на дубликаты"
   ]
  },
  {
   "cell_type": "code",
   "execution_count": 9,
   "metadata": {
    "scrolled": true
   },
   "outputs": [
    {
     "data": {
      "text/plain": [
       "array(['Female', 'Male'], dtype=object)"
      ]
     },
     "execution_count": 9,
     "metadata": {},
     "output_type": "execute_result"
    }
   ],
   "source": [
    "data['gender'].unique()"
   ]
  },
  {
   "cell_type": "code",
   "execution_count": 10,
   "metadata": {
    "scrolled": false
   },
   "outputs": [
    {
     "data": {
      "text/plain": [
       "array(['France', 'Spain', 'Germany'], dtype=object)"
      ]
     },
     "execution_count": 10,
     "metadata": {},
     "output_type": "execute_result"
    }
   ],
   "source": [
    "data[\"geography\"].unique()"
   ]
  },
  {
   "cell_type": "markdown",
   "metadata": {},
   "source": [
    "<del>Строки с отсутсвующими значениями в столбце **tenure** восстановить нет возможности, поэтому их удалим.</del>"
   ]
  },
  {
   "cell_type": "markdown",
   "metadata": {},
   "source": [
    "<div class=\"alert alert-success\">\n",
    "<h2> Комментарий ревьюера <a class=\"tocSkip\"> </h2>\n",
    "\n",
    "👍 Это было бы допустимым решением.\n",
    "</div> \n",
    "\n"
   ]
  },
  {
   "cell_type": "code",
   "execution_count": 11,
   "metadata": {},
   "outputs": [],
   "source": [
    "data['tenure'] = data['tenure']. fillna (data['tenure'].mean())"
   ]
  },
  {
   "cell_type": "markdown",
   "metadata": {},
   "source": [
    "<div class=\"alert alert-block alert-danger\">\n",
    "<h2><s> Комментарий ревьюера <a class=\"tocSkip\"></h2>\n",
    "  \n",
    "<b>На доработку🤔:</b>\n",
    " \n",
    "Предположение, что пропуски там, где клиент пришел недавно достаточно неплохое. Но подтвердить его сейчас мы не можем. Поэтому лучше следовать принципу, что следующие данные будут такими же по распределению, как текущие, и лучшей тактикой минимизации ошибки будет значение из области наибольшей плотности распределения, не изменяющую структуры распределения признака. \n",
    "    \n",
    "Доля пропусков не критично велика, возможно и решение с удалением. Однако данных у нас не много, я бы остановился на чем-то вроде медианы.\n",
    "\n",
    "</div>\n",
    "\n"
   ]
  },
  {
   "cell_type": "markdown",
   "metadata": {},
   "source": [
    "<div class=\"alert alert-info\">\n",
    "<b>Доработка:</b>\n",
    "<br>\n",
    "Пропущенные значения заполним медианным значением столбца\n",
    "</div>"
   ]
  },
  {
   "cell_type": "code",
   "execution_count": 12,
   "metadata": {},
   "outputs": [],
   "source": [
    "data['tenure'] = data['tenure']. fillna (data['tenure'].mean())"
   ]
  },
  {
   "cell_type": "markdown",
   "metadata": {},
   "source": [
    "Удалим столбцы **row_number**, **customer_id**, **surname** которые не несут в себе смысловой нагрузки, но в силу своих значений способных оказать влияние на работу алгоритмов"
   ]
  },
  {
   "cell_type": "code",
   "execution_count": 13,
   "metadata": {},
   "outputs": [],
   "source": [
    "data = data.drop(['row_number','customer_id','surname'],axis=1)"
   ]
  },
  {
   "cell_type": "markdown",
   "metadata": {},
   "source": [
    "<div class=\"alert alert-success\">\n",
    "<h2> Комментарий ревьюера <a class=\"tocSkip\"> </h2>\n",
    "\n",
    "👍 Всё верно\n",
    "</div>"
   ]
  },
  {
   "cell_type": "code",
   "execution_count": 88,
   "metadata": {
    "scrolled": true
   },
   "outputs": [
    {
     "data": {
      "text/html": [
       "<div>\n",
       "<style scoped>\n",
       "    .dataframe tbody tr th:only-of-type {\n",
       "        vertical-align: middle;\n",
       "    }\n",
       "\n",
       "    .dataframe tbody tr th {\n",
       "        vertical-align: top;\n",
       "    }\n",
       "\n",
       "    .dataframe thead th {\n",
       "        text-align: right;\n",
       "    }\n",
       "</style>\n",
       "<table border=\"1\" class=\"dataframe\">\n",
       "  <thead>\n",
       "    <tr style=\"text-align: right;\">\n",
       "      <th></th>\n",
       "      <th>credit_score</th>\n",
       "      <th>age</th>\n",
       "      <th>tenure</th>\n",
       "      <th>balance</th>\n",
       "      <th>num_of_products</th>\n",
       "      <th>has_cr_card</th>\n",
       "      <th>is_active_member</th>\n",
       "      <th>estimated_salary</th>\n",
       "      <th>exited</th>\n",
       "    </tr>\n",
       "  </thead>\n",
       "  <tbody>\n",
       "    <tr>\n",
       "      <th>count</th>\n",
       "      <td>10000.000000</td>\n",
       "      <td>10000.000000</td>\n",
       "      <td>10000.00000</td>\n",
       "      <td>10000.000000</td>\n",
       "      <td>10000.000000</td>\n",
       "      <td>10000.00000</td>\n",
       "      <td>10000.000000</td>\n",
       "      <td>10000.000000</td>\n",
       "      <td>10000.000000</td>\n",
       "    </tr>\n",
       "    <tr>\n",
       "      <th>mean</th>\n",
       "      <td>650.528800</td>\n",
       "      <td>38.921800</td>\n",
       "      <td>4.99769</td>\n",
       "      <td>76485.889288</td>\n",
       "      <td>1.530200</td>\n",
       "      <td>0.70550</td>\n",
       "      <td>0.515100</td>\n",
       "      <td>100090.239881</td>\n",
       "      <td>0.203700</td>\n",
       "    </tr>\n",
       "    <tr>\n",
       "      <th>std</th>\n",
       "      <td>96.653299</td>\n",
       "      <td>10.487806</td>\n",
       "      <td>2.76001</td>\n",
       "      <td>62397.405202</td>\n",
       "      <td>0.581654</td>\n",
       "      <td>0.45584</td>\n",
       "      <td>0.499797</td>\n",
       "      <td>57510.492818</td>\n",
       "      <td>0.402769</td>\n",
       "    </tr>\n",
       "    <tr>\n",
       "      <th>min</th>\n",
       "      <td>350.000000</td>\n",
       "      <td>18.000000</td>\n",
       "      <td>0.00000</td>\n",
       "      <td>0.000000</td>\n",
       "      <td>1.000000</td>\n",
       "      <td>0.00000</td>\n",
       "      <td>0.000000</td>\n",
       "      <td>11.580000</td>\n",
       "      <td>0.000000</td>\n",
       "    </tr>\n",
       "    <tr>\n",
       "      <th>25%</th>\n",
       "      <td>584.000000</td>\n",
       "      <td>32.000000</td>\n",
       "      <td>3.00000</td>\n",
       "      <td>0.000000</td>\n",
       "      <td>1.000000</td>\n",
       "      <td>0.00000</td>\n",
       "      <td>0.000000</td>\n",
       "      <td>51002.110000</td>\n",
       "      <td>0.000000</td>\n",
       "    </tr>\n",
       "    <tr>\n",
       "      <th>50%</th>\n",
       "      <td>652.000000</td>\n",
       "      <td>37.000000</td>\n",
       "      <td>4.99769</td>\n",
       "      <td>97198.540000</td>\n",
       "      <td>1.000000</td>\n",
       "      <td>1.00000</td>\n",
       "      <td>1.000000</td>\n",
       "      <td>100193.915000</td>\n",
       "      <td>0.000000</td>\n",
       "    </tr>\n",
       "    <tr>\n",
       "      <th>75%</th>\n",
       "      <td>718.000000</td>\n",
       "      <td>44.000000</td>\n",
       "      <td>7.00000</td>\n",
       "      <td>127644.240000</td>\n",
       "      <td>2.000000</td>\n",
       "      <td>1.00000</td>\n",
       "      <td>1.000000</td>\n",
       "      <td>149388.247500</td>\n",
       "      <td>0.000000</td>\n",
       "    </tr>\n",
       "    <tr>\n",
       "      <th>max</th>\n",
       "      <td>850.000000</td>\n",
       "      <td>92.000000</td>\n",
       "      <td>10.00000</td>\n",
       "      <td>250898.090000</td>\n",
       "      <td>4.000000</td>\n",
       "      <td>1.00000</td>\n",
       "      <td>1.000000</td>\n",
       "      <td>199992.480000</td>\n",
       "      <td>1.000000</td>\n",
       "    </tr>\n",
       "  </tbody>\n",
       "</table>\n",
       "</div>"
      ],
      "text/plain": [
       "       credit_score           age       tenure        balance  \\\n",
       "count  10000.000000  10000.000000  10000.00000   10000.000000   \n",
       "mean     650.528800     38.921800      4.99769   76485.889288   \n",
       "std       96.653299     10.487806      2.76001   62397.405202   \n",
       "min      350.000000     18.000000      0.00000       0.000000   \n",
       "25%      584.000000     32.000000      3.00000       0.000000   \n",
       "50%      652.000000     37.000000      4.99769   97198.540000   \n",
       "75%      718.000000     44.000000      7.00000  127644.240000   \n",
       "max      850.000000     92.000000     10.00000  250898.090000   \n",
       "\n",
       "       num_of_products  has_cr_card  is_active_member  estimated_salary  \\\n",
       "count     10000.000000  10000.00000      10000.000000      10000.000000   \n",
       "mean          1.530200      0.70550          0.515100     100090.239881   \n",
       "std           0.581654      0.45584          0.499797      57510.492818   \n",
       "min           1.000000      0.00000          0.000000         11.580000   \n",
       "25%           1.000000      0.00000          0.000000      51002.110000   \n",
       "50%           1.000000      1.00000          1.000000     100193.915000   \n",
       "75%           2.000000      1.00000          1.000000     149388.247500   \n",
       "max           4.000000      1.00000          1.000000     199992.480000   \n",
       "\n",
       "             exited  \n",
       "count  10000.000000  \n",
       "mean       0.203700  \n",
       "std        0.402769  \n",
       "min        0.000000  \n",
       "25%        0.000000  \n",
       "50%        0.000000  \n",
       "75%        0.000000  \n",
       "max        1.000000  "
      ]
     },
     "execution_count": 88,
     "metadata": {},
     "output_type": "execute_result"
    }
   ],
   "source": [
    "data.describe()"
   ]
  },
  {
   "cell_type": "markdown",
   "metadata": {},
   "source": [
    "<div class=\"alert alert-success\">\n",
    "<h2> Комментарий ревьюера <a class=\"tocSkip\"> </h2>\n",
    "\n",
    "👍 Отлично. Здесь можно передать аргументы, чтобы информация отображалась и по переменным с нечисленными типами данных.\n",
    "      \n",
    "`describe(include='all')`\n",
    "    \n",
    "Возможно, удобнее будет смотреть, если транспонировать таблицу.\n",
    "</div>\n"
   ]
  },
  {
   "cell_type": "markdown",
   "metadata": {},
   "source": [
    "Проверка на мультиколлинеарность"
   ]
  },
  {
   "cell_type": "code",
   "execution_count": 89,
   "metadata": {},
   "outputs": [
    {
     "data": {
      "text/plain": [
       "<AxesSubplot:>"
      ]
     },
     "execution_count": 89,
     "metadata": {},
     "output_type": "execute_result"
    },
    {
     "data": {
      "image/png": "[encoded data removed]",
      "text/plain": [
       "<Figure size 432x288 with 2 Axes>"
      ]
     },
     "metadata": {
      "needs_background": "light"
     },
     "output_type": "display_data"
    }
   ],
   "source": [
    "import seaborn as sns\n",
    "corr = data.corr()\n",
    "sns.heatmap(corr,\n",
    "            xticklabels=corr.columns.values,\n",
    "            yticklabels=corr.columns.values)"
   ]
  },
  {
   "cell_type": "markdown",
   "metadata": {},
   "source": [
    "Сильной зависимости между признаками не выявлено. Оставляем столбцы на своих местах"
   ]
  },
  {
   "cell_type": "code",
   "execution_count": 90,
   "metadata": {},
   "outputs": [
    {
     "data": {
      "text/html": [
       "<div>\n",
       "<style scoped>\n",
       "    .dataframe tbody tr th:only-of-type {\n",
       "        vertical-align: middle;\n",
       "    }\n",
       "\n",
       "    .dataframe tbody tr th {\n",
       "        vertical-align: top;\n",
       "    }\n",
       "\n",
       "    .dataframe thead th {\n",
       "        text-align: right;\n",
       "    }\n",
       "</style>\n",
       "<table border=\"1\" class=\"dataframe\">\n",
       "  <thead>\n",
       "    <tr style=\"text-align: right;\">\n",
       "      <th></th>\n",
       "      <th>credit_score</th>\n",
       "      <th>age</th>\n",
       "      <th>tenure</th>\n",
       "      <th>balance</th>\n",
       "      <th>num_of_products</th>\n",
       "      <th>has_cr_card</th>\n",
       "      <th>is_active_member</th>\n",
       "      <th>estimated_salary</th>\n",
       "      <th>exited</th>\n",
       "    </tr>\n",
       "  </thead>\n",
       "  <tbody>\n",
       "    <tr>\n",
       "      <th>count</th>\n",
       "      <td>10000.000000</td>\n",
       "      <td>10000.000000</td>\n",
       "      <td>10000.00000</td>\n",
       "      <td>10000.000000</td>\n",
       "      <td>10000.000000</td>\n",
       "      <td>10000.00000</td>\n",
       "      <td>10000.000000</td>\n",
       "      <td>10000.000000</td>\n",
       "      <td>10000.000000</td>\n",
       "    </tr>\n",
       "    <tr>\n",
       "      <th>mean</th>\n",
       "      <td>650.528800</td>\n",
       "      <td>38.921800</td>\n",
       "      <td>4.99769</td>\n",
       "      <td>76485.889288</td>\n",
       "      <td>1.530200</td>\n",
       "      <td>0.70550</td>\n",
       "      <td>0.515100</td>\n",
       "      <td>100090.239881</td>\n",
       "      <td>0.203700</td>\n",
       "    </tr>\n",
       "    <tr>\n",
       "      <th>std</th>\n",
       "      <td>96.653299</td>\n",
       "      <td>10.487806</td>\n",
       "      <td>2.76001</td>\n",
       "      <td>62397.405202</td>\n",
       "      <td>0.581654</td>\n",
       "      <td>0.45584</td>\n",
       "      <td>0.499797</td>\n",
       "      <td>57510.492818</td>\n",
       "      <td>0.402769</td>\n",
       "    </tr>\n",
       "    <tr>\n",
       "      <th>min</th>\n",
       "      <td>350.000000</td>\n",
       "      <td>18.000000</td>\n",
       "      <td>0.00000</td>\n",
       "      <td>0.000000</td>\n",
       "      <td>1.000000</td>\n",
       "      <td>0.00000</td>\n",
       "      <td>0.000000</td>\n",
       "      <td>11.580000</td>\n",
       "      <td>0.000000</td>\n",
       "    </tr>\n",
       "    <tr>\n",
       "      <th>25%</th>\n",
       "      <td>584.000000</td>\n",
       "      <td>32.000000</td>\n",
       "      <td>3.00000</td>\n",
       "      <td>0.000000</td>\n",
       "      <td>1.000000</td>\n",
       "      <td>0.00000</td>\n",
       "      <td>0.000000</td>\n",
       "      <td>51002.110000</td>\n",
       "      <td>0.000000</td>\n",
       "    </tr>\n",
       "    <tr>\n",
       "      <th>50%</th>\n",
       "      <td>652.000000</td>\n",
       "      <td>37.000000</td>\n",
       "      <td>4.99769</td>\n",
       "      <td>97198.540000</td>\n",
       "      <td>1.000000</td>\n",
       "      <td>1.00000</td>\n",
       "      <td>1.000000</td>\n",
       "      <td>100193.915000</td>\n",
       "      <td>0.000000</td>\n",
       "    </tr>\n",
       "    <tr>\n",
       "      <th>75%</th>\n",
       "      <td>718.000000</td>\n",
       "      <td>44.000000</td>\n",
       "      <td>7.00000</td>\n",
       "      <td>127644.240000</td>\n",
       "      <td>2.000000</td>\n",
       "      <td>1.00000</td>\n",
       "      <td>1.000000</td>\n",
       "      <td>149388.247500</td>\n",
       "      <td>0.000000</td>\n",
       "    </tr>\n",
       "    <tr>\n",
       "      <th>max</th>\n",
       "      <td>850.000000</td>\n",
       "      <td>92.000000</td>\n",
       "      <td>10.00000</td>\n",
       "      <td>250898.090000</td>\n",
       "      <td>4.000000</td>\n",
       "      <td>1.00000</td>\n",
       "      <td>1.000000</td>\n",
       "      <td>199992.480000</td>\n",
       "      <td>1.000000</td>\n",
       "    </tr>\n",
       "  </tbody>\n",
       "</table>\n",
       "</div>"
      ],
      "text/plain": [
       "       credit_score           age       tenure        balance  \\\n",
       "count  10000.000000  10000.000000  10000.00000   10000.000000   \n",
       "mean     650.528800     38.921800      4.99769   76485.889288   \n",
       "std       96.653299     10.487806      2.76001   62397.405202   \n",
       "min      350.000000     18.000000      0.00000       0.000000   \n",
       "25%      584.000000     32.000000      3.00000       0.000000   \n",
       "50%      652.000000     37.000000      4.99769   97198.540000   \n",
       "75%      718.000000     44.000000      7.00000  127644.240000   \n",
       "max      850.000000     92.000000     10.00000  250898.090000   \n",
       "\n",
       "       num_of_products  has_cr_card  is_active_member  estimated_salary  \\\n",
       "count     10000.000000  10000.00000      10000.000000      10000.000000   \n",
       "mean          1.530200      0.70550          0.515100     100090.239881   \n",
       "std           0.581654      0.45584          0.499797      57510.492818   \n",
       "min           1.000000      0.00000          0.000000         11.580000   \n",
       "25%           1.000000      0.00000          0.000000      51002.110000   \n",
       "50%           1.000000      1.00000          1.000000     100193.915000   \n",
       "75%           2.000000      1.00000          1.000000     149388.247500   \n",
       "max           4.000000      1.00000          1.000000     199992.480000   \n",
       "\n",
       "             exited  \n",
       "count  10000.000000  \n",
       "mean       0.203700  \n",
       "std        0.402769  \n",
       "min        0.000000  \n",
       "25%        0.000000  \n",
       "50%        0.000000  \n",
       "75%        0.000000  \n",
       "max        1.000000  "
      ]
     },
     "execution_count": 90,
     "metadata": {},
     "output_type": "execute_result"
    }
   ],
   "source": [
    "data.describe()"
   ]
  },
  {
   "cell_type": "markdown",
   "metadata": {},
   "source": [
    "Для того чтобы алгоритмы могли работать выполним преобразование категориальных признаков в числовые. Выполним это с помощью прямого кодирования"
   ]
  },
  {
   "cell_type": "code",
   "execution_count": 91,
   "metadata": {},
   "outputs": [
    {
     "data": {
      "text/plain": [
       "(10000, 11)"
      ]
     },
     "execution_count": 91,
     "metadata": {},
     "output_type": "execute_result"
    }
   ],
   "source": [
    "data.shape"
   ]
  },
  {
   "cell_type": "code",
   "execution_count": 92,
   "metadata": {},
   "outputs": [],
   "source": [
    "data = pd.get_dummies(data,drop_first=True)"
   ]
  },
  {
   "cell_type": "markdown",
   "metadata": {},
   "source": [
    "<div class=\"alert alert-success\">\n",
    "<h2> Комментарий ревьюера <a class=\"tocSkip\"> </h2>\n",
    "\n",
    "👍 Согласен. В дамми-ловушку не попались.\n",
    "</div>"
   ]
  },
  {
   "cell_type": "markdown",
   "metadata": {},
   "source": [
    "<div class=\"alert alert-warning\">\n",
    "<h2> Комментарий ревьюера <a class=\"tocSkip\"> </h2>\n",
    "    \n",
    "<b>Некоторые замечания и рекомендации💡:</b> \n",
    "\n",
    "В тренажере давался пример использования прямого кодирования с помощью get_dummies, однако это далеко не самый оптимальный вариант. Он подходит для анализа данных, но в машинном обучении может служить причиной ошибок при обучении моделей.\n",
    "    \n",
    "Можно использовать класс <a href=\"https://scikit-learn.org/stable/modules/generated/sklearn.preprocessing.OneHotEncoder.html\">OHE из sklearn</a>. Он точно понадобится в будущих проектах, можно потренироваться сейчас. \n",
    "\n",
    "Практикум подготовил инструкцию, как использовать OHE: https://colab.research.google.com/drive/1_gAMXcQKoCShB_l8FNtYEejMnosm9mvt?usp=sharing \n",
    "\n",
    "А теперь замечания «под звездочкой»:\n",
    "\n",
    "Есть загвоздка, что нам нужно будет одновременно использовать параметры drop='first' и handle_unknown='ignore’.  в OHE, а на платформе такое сочетание может выдавать ошибку (в части случаев). Если ошибка появляется, необходимо загрузить нужную версию сайкит-лерна. Для этого:\n",
    "\n",
    "1. В отдельной строке в самом начале проекта запускаем такую команду:\n",
    " `!pip install scikit-learn==1.1.3`\n",
    "     \n",
    "2. Находим в меню юпитера кнопку `Kernel`, нажимаем и выбираем Restart&Run all \n",
    "\n",
    "\n",
    "И сразу уточню, что OHE мы используем уже после разделения выборок на обучающую, валидационную и тестовую. Обучаем на трейне, применяем ко всем. Кодируем после разбиения по аналогии с масштабированием. Посмотреть поподробнее также можно здесь <a href=\"https://stackoverflow.com/questions/55525195/do-i-have-to-do-one-hot-encoding-separately-for-train-and-test-dataset\">можно здесь</a> .\n",
    "      \n",
    "</div> \n"
   ]
  },
  {
   "cell_type": "code",
   "execution_count": 93,
   "metadata": {},
   "outputs": [
    {
     "name": "stdout",
     "output_type": "stream",
     "text": [
      "<class 'pandas.core.frame.DataFrame'>\n",
      "RangeIndex: 10000 entries, 0 to 9999\n",
      "Data columns (total 12 columns):\n",
      " #   Column             Non-Null Count  Dtype  \n",
      "---  ------             --------------  -----  \n",
      " 0   credit_score       10000 non-null  int64  \n",
      " 1   age                10000 non-null  int64  \n",
      " 2   tenure             10000 non-null  float64\n",
      " 3   balance            10000 non-null  float64\n",
      " 4   num_of_products    10000 non-null  int64  \n",
      " 5   has_cr_card        10000 non-null  int64  \n",
      " 6   is_active_member   10000 non-null  int64  \n",
      " 7   estimated_salary   10000 non-null  float64\n",
      " 8   exited             10000 non-null  int64  \n",
      " 9   geography_Germany  10000 non-null  uint8  \n",
      " 10  geography_Spain    10000 non-null  uint8  \n",
      " 11  gender_Male        10000 non-null  uint8  \n",
      "dtypes: float64(3), int64(6), uint8(3)\n",
      "memory usage: 732.5 KB\n"
     ]
    }
   ],
   "source": [
    "data.info()"
   ]
  },
  {
   "cell_type": "markdown",
   "metadata": {},
   "source": [
    "Столбцы с категориальными данными отсутствуют"
   ]
  },
  {
   "cell_type": "markdown",
   "metadata": {},
   "source": [
    "**Разбиение на выборки**"
   ]
  },
  {
   "cell_type": "markdown",
   "metadata": {},
   "source": [
    "Разбиение выполним в отношении 3:1:1"
   ]
  },
  {
   "cell_type": "code",
   "execution_count": 94,
   "metadata": {},
   "outputs": [],
   "source": [
    "features = data.drop(['exited'],axis = 1)"
   ]
  },
  {
   "cell_type": "code",
   "execution_count": 95,
   "metadata": {},
   "outputs": [],
   "source": [
    "target = data['exited']"
   ]
  },
  {
   "cell_type": "code",
   "execution_count": 96,
   "metadata": {},
   "outputs": [],
   "source": [
    "features_train,features_valid,target_train,target_valid = train_test_split(features,\n",
    "                                                                           target,\n",
    "                                                                           test_size=0.4,\n",
    "                                                                           random_state=12345)"
   ]
  },
  {
   "cell_type": "code",
   "execution_count": 97,
   "metadata": {},
   "outputs": [],
   "source": [
    "features_valid,features_test,target_valid,target_test = train_test_split(features_valid,\n",
    "                                                                           target_valid,\n",
    "                                                                           test_size=0.5,\n",
    "                                                                           random_state=12345)"
   ]
  },
  {
   "cell_type": "code",
   "execution_count": 98,
   "metadata": {},
   "outputs": [
    {
     "data": {
      "text/plain": [
       "(6000, 11)"
      ]
     },
     "execution_count": 98,
     "metadata": {},
     "output_type": "execute_result"
    }
   ],
   "source": [
    "features_train.shape"
   ]
  },
  {
   "cell_type": "code",
   "execution_count": 99,
   "metadata": {},
   "outputs": [
    {
     "data": {
      "text/plain": [
       "(6000,)"
      ]
     },
     "execution_count": 99,
     "metadata": {},
     "output_type": "execute_result"
    }
   ],
   "source": [
    "target_train.shape"
   ]
  },
  {
   "cell_type": "code",
   "execution_count": 100,
   "metadata": {},
   "outputs": [
    {
     "data": {
      "text/plain": [
       "(2000, 11)"
      ]
     },
     "execution_count": 100,
     "metadata": {},
     "output_type": "execute_result"
    }
   ],
   "source": [
    "features_valid.shape"
   ]
  },
  {
   "cell_type": "code",
   "execution_count": 101,
   "metadata": {},
   "outputs": [
    {
     "data": {
      "text/plain": [
       "(2000, 11)"
      ]
     },
     "execution_count": 101,
     "metadata": {},
     "output_type": "execute_result"
    }
   ],
   "source": [
    "features_test.shape"
   ]
  },
  {
   "cell_type": "markdown",
   "metadata": {},
   "source": [
    "<div class=\"alert alert-success\">\n",
    "<h2> Комментарий ревьюера <a class=\"tocSkip\"> </h2>\n",
    "\n",
    "👍 С разбиением на выборки согласен. \n",
    "</div>\n"
   ]
  },
  {
   "cell_type": "markdown",
   "metadata": {},
   "source": [
    "**Масштабирование данных**"
   ]
  },
  {
   "cell_type": "code",
   "execution_count": 102,
   "metadata": {},
   "outputs": [
    {
     "data": {
      "text/plain": [
       "Index(['credit_score', 'age', 'tenure', 'balance', 'num_of_products',\n",
       "       'has_cr_card', 'is_active_member', 'estimated_salary',\n",
       "       'geography_Germany', 'geography_Spain', 'gender_Male'],\n",
       "      dtype='object')"
      ]
     },
     "execution_count": 102,
     "metadata": {},
     "output_type": "execute_result"
    }
   ],
   "source": [
    "features_train.columns"
   ]
  },
  {
   "cell_type": "code",
   "execution_count": 103,
   "metadata": {},
   "outputs": [],
   "source": [
    "numeric = ['credit_score', 'age', 'tenure', 'balance', 'num_of_products','has_cr_card', 'estimated_salary']"
   ]
  },
  {
   "cell_type": "code",
   "execution_count": 104,
   "metadata": {},
   "outputs": [
    {
     "data": {
      "text/plain": [
       "StandardScaler()"
      ]
     },
     "execution_count": 104,
     "metadata": {},
     "output_type": "execute_result"
    }
   ],
   "source": [
    "scaler = StandardScaler()\n",
    "scaler.fit(features_train[numeric])"
   ]
  },
  {
   "cell_type": "code",
   "execution_count": 105,
   "metadata": {
    "scrolled": true
   },
   "outputs": [],
   "source": [
    "features_train[numeric] = scaler.transform(features_train[numeric])"
   ]
  },
  {
   "cell_type": "markdown",
   "metadata": {},
   "source": [
    "<div class=\"alert alert-success\">\n",
    "<h2> Комментарий ревьюера <a class=\"tocSkip\"> </h2>\n",
    "\n",
    "👍 Отлично. Я бы убрал предупреждения. `warnings.filterwarnings('ignore')` после `import warnings`.\n",
    "</div>\n"
   ]
  },
  {
   "cell_type": "code",
   "execution_count": 106,
   "metadata": {},
   "outputs": [],
   "source": [
    "features_valid[numeric] = scaler.transform(features_valid[numeric])"
   ]
  },
  {
   "cell_type": "code",
   "execution_count": 107,
   "metadata": {},
   "outputs": [],
   "source": [
    "features_test[numeric] = scaler.transform(features_test[numeric])"
   ]
  },
  {
   "cell_type": "markdown",
   "metadata": {},
   "source": [
    "<div class=\"alert alert-success\">\n",
    "<h2> Комментарий ревьюера <a class=\"tocSkip\"> </h2>\n",
    "\n",
    "👍 Всё верно\n",
    "</div>\n"
   ]
  },
  {
   "cell_type": "markdown",
   "metadata": {},
   "source": [
    "## Исследование задачи"
   ]
  },
  {
   "cell_type": "markdown",
   "metadata": {},
   "source": [
    "ПРоверка дисбаланса в целевом столбце"
   ]
  },
  {
   "cell_type": "code",
   "execution_count": 108,
   "metadata": {
    "scrolled": true
   },
   "outputs": [
    {
     "data": {
      "text/plain": [
       "0    0.7963\n",
       "1    0.2037\n",
       "Name: exited, dtype: float64"
      ]
     },
     "execution_count": 108,
     "metadata": {},
     "output_type": "execute_result"
    }
   ],
   "source": [
    "data['exited'].value_counts(normalize=True)"
   ]
  },
  {
   "cell_type": "markdown",
   "metadata": {},
   "source": [
    "В столбце c целевым признаком явный дисбаланс классов. 80% клиентов остаются с банком"
   ]
  },
  {
   "cell_type": "markdown",
   "metadata": {},
   "source": [
    " <div class=\"alert alert-block alert-danger\">\n",
    "<h2><s> Комментарий ревьюера <a class=\"tocSkip\"></h2>\n",
    "  \n",
    "<b>На доработку🤔:</b>\n",
    " \n",
    "Графики в проекте необходимо подписать.\n",
    "\n",
    "</div>\n",
    "\n"
   ]
  },
  {
   "cell_type": "markdown",
   "metadata": {},
   "source": [
    "<div class=\"alert alert-info\">\n",
    "<b>Доработка:</b>\n",
    "<br>\n",
    "</div>"
   ]
  },
  {
   "cell_type": "code",
   "execution_count": 109,
   "metadata": {},
   "outputs": [
    {
     "data": {
      "image/png": "[encoded data removed]",
      "text/plain": [
       "<Figure size 432x288 with 1 Axes>"
      ]
     },
     "metadata": {
      "needs_background": "light"
     },
     "output_type": "display_data"
    }
   ],
   "source": [
    "ax = sns.countplot(data=data,x = 'exited');\n",
    "ax.axes.set_title(\"Распределение клиентов\", fontsize=16)\n",
    "ax.set_ylabel('кол-во клиентов');\n",
    "ax.set_xlabel('факт ухода клиента');"
   ]
  },
  {
   "cell_type": "markdown",
   "metadata": {},
   "source": [
    "<div class=\"alert alert-success\">\n",
    "<h2> Комментарий ревьюера <a class=\"tocSkip\"> </h2>\n",
    "\n",
    "👍 Дисбаланс исследовали. Да, он достаточно сильный, чтобы негативно повлиять на качество моделей.\n",
    "</div>\n"
   ]
  },
  {
   "cell_type": "markdown",
   "metadata": {},
   "source": [
    "<div class=\"alert alert-block alert-danger\">\n",
    "<h2><s> Комментарий ревьюера <a class=\"tocSkip\"></h2>\n",
    "  \n",
    "<b>На доработку🤔:</b>\n",
    " \n",
    "Здесь или повыше важно оставить небольшой промежуточный вывод по предобработке.\n",
    "\n",
    "</div>\n",
    "\n"
   ]
  },
  {
   "cell_type": "markdown",
   "metadata": {},
   "source": [
    "<div class=\"alert alert-info\">\n",
    "<b>Доработка:</b>\n",
    "<br>\n",
    "</div>"
   ]
  },
  {
   "cell_type": "markdown",
   "metadata": {},
   "source": [
    "**Вывод:**<br>\n",
    "\n",
    "Были исправлены названия столбцов.\n",
    "Столбцы, не имеющие смысловой нагрузки, но спопсобные оказать влияние влияние на работу алгоритма были удалены<br>\n",
    "Исходные данные содержали пропуски в столбце tenure. Они были заполнены медианным значением по столбцу.<br>\n",
    "Данные содержат большой дисбаланс с целевом столбце **exited**\n",
    "Данные были разделены на обучающую, валидационну и тестовые выборки в отношенеии 3:1:1\n",
    "Категориальные данные были преобразованы в числовые алгоритмом get_dummies. Также числовые столбцы были отмасштабированы scaler.\n"
   ]
  },
  {
   "cell_type": "markdown",
   "metadata": {},
   "source": [
    "### Построение модели без учета дисбаланса"
   ]
  },
  {
   "cell_type": "markdown",
   "metadata": {},
   "source": [
    "Функция mark_model предназначена для оценивания модели с выводом метрик f1, матрицы ошибок и значения auc_roc"
   ]
  },
  {
   "cell_type": "code",
   "execution_count": 110,
   "metadata": {},
   "outputs": [],
   "source": [
    "def mark_model(model,f,t):\n",
    "    predicted_valid = model.predict(f)\n",
    "    f1 = f1_score(t,predicted_valid)\n",
    "    cm = confusion_matrix(t,predicted_valid)\n",
    "    pv = model.predict_proba(f)\n",
    "    pov = pv[:,1]\n",
    "    auc_roc = roc_auc_score(t,pov)\n",
    "    print(f'F1: {f1}')\n",
    "    print(f'Матрица ошибок: \\n{cm}')\n",
    "    print(f'auc_roc {auc_roc}')\n",
    "    #return f1, cm, auc_roc"
   ]
  },
  {
   "cell_type": "markdown",
   "metadata": {},
   "source": [
    "Функция mark_mode_frl предназначена для оценивания модели с возвратом (без вывода) метрик f1, матрицы ошибок и значения auc_roc"
   ]
  },
  {
   "cell_type": "code",
   "execution_count": 118,
   "metadata": {},
   "outputs": [],
   "source": [
    "def mark_model_fr(model,f,t):\n",
    "    predicted_valid = model.predict(f)\n",
    "    f1 = f1_score(t,predicted_valid)\n",
    "    cm = confusion_matrix(t,predicted_valid)\n",
    "    pv = model.predict_proba(f)\n",
    "    pov = pv[:,1]\n",
    "    auc_roc = roc_auc_score(t,pov)\n",
    "    return f1, cm, auc_roc"
   ]
  },
  {
   "cell_type": "markdown",
   "metadata": {},
   "source": [
    "*DecisionTreeClassifier*"
   ]
  },
  {
   "cell_type": "markdown",
   "metadata": {},
   "source": [
    "<div class=\"alert alert-block alert-danger\">\n",
    "<h2><s> Комментарий ревьюера <a class=\"tocSkip\"></h2>\n",
    "  \n",
    "<b>На доработку🤔:</b>\n",
    " \n",
    "В дереве и лесе важно подобрать гиперпараметры. В дереве - глубину, в лесе - минимум глубину и количество оценщиков (эстиматоров, деревьев).\n",
    "\n",
    "</div>\n"
   ]
  },
  {
   "cell_type": "markdown",
   "metadata": {},
   "source": [
    "<div class=\"alert alert-block alert-danger\">\n",
    "<h2><s> Комментарий ревьюера <a class=\"tocSkip\"></h2>\n",
    "  \n",
    "<b>На доработку🤔:</b>\n",
    "    \n",
    "По проекту мы должны рассчитать также и roc_auc.\n",
    " \n",
    "roc_auc нужно считать по вероятностям классов. \n",
    "    \n",
    "`probabilities = model.predict_proba(features)\n",
    "probabilities_one = probabilities[:, 1]\n",
    "print('Площадь ROC-кривой:', roc_auc_score(target, probabilities_one))`\n",
    "\n",
    "</div>\n"
   ]
  },
  {
   "cell_type": "markdown",
   "metadata": {},
   "source": [
    "<div class=\"alert alert-info\">\n",
    "<b>Доработка:</b>\n",
    "<br>\n",
    "</div>"
   ]
  },
  {
   "cell_type": "code",
   "execution_count": 123,
   "metadata": {},
   "outputs": [
    {
     "name": "stdout",
     "output_type": "stream",
     "text": [
      "Наилучшая модель показала результат: \n",
      "F1: 0.5706293706293706 \n",
      "[[1489   93]\n",
      " [ 214  204]] \n",
      "auc_roc:0.7825204604431433 \n",
      "fine_depth: 9\n",
      "None\n"
     ]
    }
   ],
   "source": [
    "f1_max = 0 \n",
    "for depth in range (1,16):\n",
    "    model = DecisionTreeClassifier(random_state=12345, max_depth=depth)\n",
    "    model.fit(features_train,target_train)\n",
    "    #print(f'depth = {depth}')\n",
    "    f1,cm,auc_roc = mark_model_fr(model,features_valid,target_valid)\n",
    "    if f1 > f1_max:\n",
    "        f1_max = f1\n",
    "        cm_max = cm\n",
    "        auc_roc_max = auc_roc\n",
    "        fine_depth = depth\n",
    "print(print(f'Наилучшая модель показала результат: \\nF1: {f1_max} \\n{cm_max} \\nauc_roc:{auc_roc_max} \\nfine_depth: {fine_depth }'))"
   ]
  },
  {
   "cell_type": "markdown",
   "metadata": {},
   "source": [
    "*LogisticRegression*"
   ]
  },
  {
   "cell_type": "code",
   "execution_count": 124,
   "metadata": {},
   "outputs": [],
   "source": [
    "model = LogisticRegression(random_state=12345,solver='liblinear')"
   ]
  },
  {
   "cell_type": "code",
   "execution_count": 125,
   "metadata": {},
   "outputs": [
    {
     "data": {
      "text/plain": [
       "LogisticRegression(random_state=12345, solver='liblinear')"
      ]
     },
     "execution_count": 125,
     "metadata": {},
     "output_type": "execute_result"
    }
   ],
   "source": [
    "model.fit(features_train,target_train)"
   ]
  },
  {
   "cell_type": "markdown",
   "metadata": {},
   "source": [
    "Оценивание модели:"
   ]
  },
  {
   "cell_type": "code",
   "execution_count": 129,
   "metadata": {},
   "outputs": [
    {
     "name": "stdout",
     "output_type": "stream",
     "text": [
      "F1: 0.33108108108108103\n",
      "Матрица ошибок: \n",
      "[[1506   76]\n",
      " [ 320   98]]\n",
      "auc_roc 0.758778482812018\n"
     ]
    }
   ],
   "source": [
    "mark_model(model,features_valid,target_valid)"
   ]
  },
  {
   "cell_type": "markdown",
   "metadata": {},
   "source": [
    "*RandomForestClassifier*"
   ]
  },
  {
   "cell_type": "code",
   "execution_count": 137,
   "metadata": {
    "scrolled": true
   },
   "outputs": [
    {
     "name": "stdout",
     "output_type": "stream",
     "text": [
      "Наилучшая модель показала результат: \n",
      "F1: 0.5861027190332326 \n",
      "[[1532   50]\n",
      " [ 224  194]] \n",
      "auc_roc:0.8468302191520635\n",
      "None\n",
      "fine_depth: 12\n",
      "None\n",
      "fine_estimators: 51\n",
      "None\n"
     ]
    }
   ],
   "source": [
    "f1_max = 0 \n",
    "for depth in range (1,16):\n",
    "    for est in range(1,301,50):\n",
    "        model = RandomForestClassifier(random_state=12345, max_depth=depth,n_estimators=est)\n",
    "        model.fit(features_train,target_train)\n",
    "        #print(f'depth = {depth}')\n",
    "        f1,cm,auc_roc = mark_model_fr(model,features_valid,target_valid)\n",
    "        if f1 > f1_max:\n",
    "            f1_max = f1\n",
    "            cm_max = cm\n",
    "            auc_roc_max = auc_roc\n",
    "            fine_depth = depth\n",
    "            fine_est = est\n",
    "print(print(f'Наилучшая модель показала результат: \\nF1: {f1_max} \\n{cm_max} \\nauc_roc:{auc_roc_max}'))\n",
    "print(print(f'fine_depth: {fine_depth}'))\n",
    "print(print(f'fine_estimators: {fine_est}'))"
   ]
  },
  {
   "cell_type": "markdown",
   "metadata": {},
   "source": [
    "**Вывод:** Модели, построенные на несбалансированных данных дают низкую полноту и точность, низкое значение метрики f1, большое количество ошибок 1 и 2 рода с матрице ошибок. *LogisticRegression* дает большее количество ошибок 2 рода"
   ]
  },
  {
   "cell_type": "markdown",
   "metadata": {},
   "source": [
    " <div class=\"alert alert-warning\">\n",
    "<h2> Комментарий ревьюера <a class=\"tocSkip\"> </h2>\n",
    "    \n",
    "<b>Некоторые замечания и рекомендации💡:</b> \n",
    "\n",
    "Выводы необходимо будет перепроверить и синхронизировать с решениями по коду.\n",
    "       \n",
    "</div>\n"
   ]
  },
  {
   "cell_type": "markdown",
   "metadata": {},
   "source": [
    "### Борьба с дисбалансом"
   ]
  },
  {
   "cell_type": "markdown",
   "metadata": {},
   "source": [
    "*LogisticRegression*"
   ]
  },
  {
   "cell_type": "markdown",
   "metadata": {},
   "source": [
    "#### Использование class_weigth"
   ]
  },
  {
   "cell_type": "code",
   "execution_count": 138,
   "metadata": {},
   "outputs": [],
   "source": [
    "model = LogisticRegression(random_state=12345, solver = 'liblinear', class_weight='balanced')"
   ]
  },
  {
   "cell_type": "code",
   "execution_count": 139,
   "metadata": {
    "scrolled": true
   },
   "outputs": [
    {
     "data": {
      "text/plain": [
       "LogisticRegression(class_weight='balanced', random_state=12345,\n",
       "                   solver='liblinear')"
      ]
     },
     "execution_count": 139,
     "metadata": {},
     "output_type": "execute_result"
    }
   ],
   "source": [
    "model.fit(features_train,target_train)"
   ]
  },
  {
   "cell_type": "markdown",
   "metadata": {},
   "source": [
    "Оценивание модели:"
   ]
  },
  {
   "cell_type": "code",
   "execution_count": 140,
   "metadata": {},
   "outputs": [
    {
     "name": "stdout",
     "output_type": "stream",
     "text": [
      "F1: 0.4888507718696398\n",
      "Матрица ошибок: \n",
      "[[1119  463]\n",
      " [ 133  285]]\n",
      "auc_roc 0.7636387832009629\n"
     ]
    }
   ],
   "source": [
    "mark_model(model,features_valid,target_valid)"
   ]
  },
  {
   "cell_type": "markdown",
   "metadata": {},
   "source": [
    "<div class=\"alert alert-success\">\n",
    "<h2> Комментарий ревьюера <a class=\"tocSkip\"> </h2>\n",
    "\n",
    "👍 Всё верно\n",
    "</div>\n"
   ]
  },
  {
   "cell_type": "markdown",
   "metadata": {},
   "source": [
    "Ручная настройка class_weigth"
   ]
  },
  {
   "cell_type": "code",
   "execution_count": 141,
   "metadata": {},
   "outputs": [],
   "source": [
    "w = {0:'0.796062',1:'0.203938'}"
   ]
  },
  {
   "cell_type": "code",
   "execution_count": 142,
   "metadata": {},
   "outputs": [],
   "source": [
    "model = LogisticRegression(random_state=12345, solver = 'liblinear', class_weight=w)"
   ]
  },
  {
   "cell_type": "code",
   "execution_count": 143,
   "metadata": {
    "scrolled": true
   },
   "outputs": [
    {
     "data": {
      "text/plain": [
       "LogisticRegression(class_weight={0: '0.796062', 1: '0.203938'},\n",
       "                   random_state=12345, solver='liblinear')"
      ]
     },
     "execution_count": 143,
     "metadata": {},
     "output_type": "execute_result"
    }
   ],
   "source": [
    "model.fit(features_train,target_train)"
   ]
  },
  {
   "cell_type": "code",
   "execution_count": 144,
   "metadata": {},
   "outputs": [
    {
     "name": "stdout",
     "output_type": "stream",
     "text": [
      "F1: 0.041666666666666664\n",
      "Матрица ошибок: \n",
      "[[1577    5]\n",
      " [ 409    9]]\n",
      "auc_roc 0.7543688263297021\n"
     ]
    }
   ],
   "source": [
    "mark_model(model,features_valid,target_valid)"
   ]
  },
  {
   "cell_type": "markdown",
   "metadata": {},
   "source": [
    "<div class=\"alert alert-warning\">\n",
    "<h2> Комментарий ревьюера <a class=\"tocSkip\"> </h2>\n",
    "    \n",
    "<b>Некоторые замечания и рекомендации💡:</b> \n",
    "\n",
    "А здесь если мы подбираем сначала один гиперпараметр, а затем другой, то мы пропускаем несколько потенциально оптимальных комбинаций. Чуть дольше будет считаться, но зато лучший результат получим, если будем применять подбор гиперпараметров в двойном цикле:\n",
    "    \n",
    "`for est in range(10, 101, 10):\n",
    "    for depth in range(1, 14, 2):\n",
    "        model = RandomForestClassifier(random_state=12345, n_estimators=est, max_depth=depth)`\n",
    "      \n",
    " \n",
    "</div>"
   ]
  },
  {
   "cell_type": "markdown",
   "metadata": {},
   "source": [
    "*RandomForestClassifier*"
   ]
  },
  {
   "cell_type": "code",
   "execution_count": 151,
   "metadata": {},
   "outputs": [
    {
     "name": "stdout",
     "output_type": "stream",
     "text": [
      "Наилучшая модель показала результат: \n",
      "F1: 0.6368843069873998 \n",
      "[[1405  177]\n",
      " [ 140  278]] \n",
      "auc_roc:0.8537070754117796\n",
      "fine_depth: 9\n",
      "fine_estimators: 91\n",
      "CPU times: user 48.8 s, sys: 204 ms, total: 49 s\n",
      "Wall time: 49.2 s\n"
     ]
    }
   ],
   "source": [
    "%%time\n",
    "f1_max = 0 \n",
    "for depth in range (1,16):\n",
    "    for est in range(1,102,10):\n",
    "        model = RandomForestClassifier(random_state=12345, max_depth=depth,n_estimators=est,class_weight='balanced')\n",
    "        model.fit(features_train,target_train)\n",
    "        #print(f'depth = {depth}')\n",
    "        f1,cm,auc_roc = mark_model_fr(model,features_valid,target_valid)\n",
    "        if f1 > f1_max:\n",
    "            f1_max = f1\n",
    "            cm_max = cm\n",
    "            auc_roc_max = auc_roc\n",
    "            fine_depth = depth\n",
    "            fine_est = est\n",
    "print(f'Наилучшая модель показала результат: \\nF1: {f1_max} \\n{cm_max} \\nauc_roc:{auc_roc_max}')\n",
    "print(f'fine_depth: {fine_depth}')\n",
    "print(f'fine_estimators: {fine_est}')"
   ]
  },
  {
   "cell_type": "markdown",
   "metadata": {},
   "source": [
    "Запоминаем модель"
   ]
  },
  {
   "cell_type": "code",
   "execution_count": 152,
   "metadata": {},
   "outputs": [
    {
     "data": {
      "text/plain": [
       "RandomForestClassifier(class_weight='balanced', max_depth=9, n_estimators=91,\n",
       "                       random_state=12345)"
      ]
     },
     "execution_count": 152,
     "metadata": {},
     "output_type": "execute_result"
    }
   ],
   "source": [
    "model01 = RandomForestClassifier(random_state=12345, \n",
    "                                 class_weight='balanced',\n",
    "                                 max_depth=fine_depth,\n",
    "                                 n_estimators=fine_est)\n",
    "model01.fit(features_train,target_train)"
   ]
  },
  {
   "cell_type": "markdown",
   "metadata": {},
   "source": [
    "#### Увеличение выборки"
   ]
  },
  {
   "cell_type": "markdown",
   "metadata": {},
   "source": [
    "Выделяем признаки с ответами 0 и 1, а также целевые признаки с ответами 0 и 1"
   ]
  },
  {
   "cell_type": "markdown",
   "metadata": {},
   "source": [
    "<div class=\"alert alert-success\">\n",
    "<h2> Комментарий ревьюера <a class=\"tocSkip\"> </h2>\n",
    "\n",
    "👍 Ок, кажется, что ячейка выше повторяет часть функции из ячейки ниже. Если она избыточная, можно убрать. \n",
    "</div> "
   ]
  },
  {
   "cell_type": "markdown",
   "metadata": {},
   "source": [
    "Функция **upsample** дублирует признаки положительного класса, объединяет их с признаками отрицательного класса и перемешивает их"
   ]
  },
  {
   "cell_type": "code",
   "execution_count": 153,
   "metadata": {},
   "outputs": [],
   "source": [
    "def upsample(features, target,repeat):\n",
    "    features_zeros = features_train[target_train == 0]\n",
    "    features_ones = features_train[target_train == 1]\n",
    "    target_zeros = target_train[target_train == 0]\n",
    "    target_ones = target_train[target_train == 1]\n",
    "    features_upsampled = shuffle(pd.concat([features_zeros] + [features_ones] * repeat),random_state=12345)\n",
    "    target_upsampled = shuffle(pd.concat([target_zeros] + [target_ones] * repeat),random_state=12345)\n",
    "    return features_upsampled, target_upsampled \n"
   ]
  },
  {
   "cell_type": "code",
   "execution_count": 154,
   "metadata": {},
   "outputs": [
    {
     "name": "stdout",
     "output_type": "stream",
     "text": [
      "(9588, 11)\n",
      "(9588,)\n"
     ]
    }
   ],
   "source": [
    "features_upsampled, target_upsampled = upsample(features_train, target_train,4)\n",
    "    \n",
    "print(features_upsampled.shape)\n",
    "print(target_upsampled.shape)\n"
   ]
  },
  {
   "cell_type": "code",
   "execution_count": null,
   "metadata": {},
   "outputs": [],
   "source": []
  },
  {
   "cell_type": "markdown",
   "metadata": {},
   "source": [
    "<div class=\"alert alert-success\">\n",
    "<h2> Комментарий ревьюера <a class=\"tocSkip\"> </h2>\n",
    "\n",
    "👍 Отлично, что используешь рукописную функцию, но здесь можно все оптимизировать, используя <a href=\"https://imbalanced-learn.org/stable/references/generated/imblearn.over_sampling.SMOTE.html\">SMOTE</a> для увеличения выборки и <a href=\"https://imbalanced-learn.org/stable/references/generated/imblearn.under_sampling.RandomUnderSampler.html\">RandomUnderSampler</a>  для уменьшения. \n",
    "    \n",
    "Апсемплинг делается очень просто:\n",
    "    \n",
    "`oversample = SMOTE(random_state=RANDOM_STATE)`\n",
    "\n",
    "`features_train_up, target_train_up = oversample.fit_resample(features_train_enc, target_train)`\n",
    "    \n",
    "*предварительно импотрировав `from imblearn.over_sampling import SMOTE`\n",
    "\n",
    "**Чтобы импортировать imblearn его сначала требуется проинсталлировать. через `!pip install imblearn`\n",
    "    \n",
    "</div>\n"
   ]
  },
  {
   "cell_type": "markdown",
   "metadata": {},
   "source": [
    "<div class=\"alert alert-info\">\n",
    "<b>Ответ:</b>\n",
    "<br>\n",
    "    Установка<br>\n",
    "    !pip install imblearn<br>\n",
    "    прошла успешно<br>\n",
    "    Возникли проблемы с импортом <br>\n",
    "    from imblearn.over_sampling import SMOTE\n",
    "</div>"
   ]
  },
  {
   "cell_type": "markdown",
   "metadata": {},
   "source": [
    "<div class=\"alert alert-success\">\n",
    "<h2> Комментарий ревьюера #2 <a class=\"tocSkip\"> </h2>\n",
    "\n",
    "👍 Такое, к сожалению, бывает. Это уже не на нашей стороне проблема. Спасибо, что попробовал. Прошу поверить, обычно все работает быстро и просто.\n",
    "</div>"
   ]
  },
  {
   "cell_type": "markdown",
   "metadata": {},
   "source": [
    "Проверка "
   ]
  },
  {
   "cell_type": "code",
   "execution_count": 155,
   "metadata": {},
   "outputs": [
    {
     "name": "stdout",
     "output_type": "stream",
     "text": [
      "(4804, 11)\n",
      "(4784, 11)\n",
      "(4804,)\n",
      "(4784,)\n"
     ]
    }
   ],
   "source": [
    "features_zeros = features_upsampled[target_upsampled == 0]\n",
    "features_ones = features_upsampled[target_upsampled == 1]\n",
    "target_zeros = target_upsampled[target_upsampled == 0]\n",
    "target_ones = target_upsampled[target_upsampled == 1]\n",
    "print(features_zeros.shape)\n",
    "print(features_ones.shape)\n",
    "print(target_zeros.shape)\n",
    "print(target_ones.shape)"
   ]
  },
  {
   "cell_type": "markdown",
   "metadata": {},
   "source": [
    "**Построение моделей**"
   ]
  },
  {
   "cell_type": "markdown",
   "metadata": {},
   "source": [
    "*LogisticRegression*"
   ]
  },
  {
   "cell_type": "code",
   "execution_count": 159,
   "metadata": {},
   "outputs": [
    {
     "name": "stdout",
     "output_type": "stream",
     "text": [
      "F1: 0.4888507718696398\n"
     ]
    }
   ],
   "source": [
    "model = LogisticRegression(random_state=12345,solver='liblinear')\n",
    "model.fit(features_upsampled, target_upsampled)\n",
    "predicted_valid = model.predict(features_valid)\n",
    "print(\"F1:\", f1_score(target_valid, predicted_valid))"
   ]
  },
  {
   "cell_type": "markdown",
   "metadata": {},
   "source": [
    "Оценивание модели"
   ]
  },
  {
   "cell_type": "code",
   "execution_count": 158,
   "metadata": {
    "scrolled": false
   },
   "outputs": [
    {
     "name": "stdout",
     "output_type": "stream",
     "text": [
      "F1: 0.4888507718696398\n",
      "Матрица ошибок: \n",
      "[[1119  463]\n",
      " [ 133  285]]\n",
      "auc_roc 0.7635949285925996\n"
     ]
    }
   ],
   "source": [
    "mark_model(model,features_valid,target_valid)"
   ]
  },
  {
   "cell_type": "markdown",
   "metadata": {},
   "source": [
    "*RandomForestClassifier*"
   ]
  },
  {
   "cell_type": "markdown",
   "metadata": {},
   "source": [
    "Определение глубины"
   ]
  },
  {
   "cell_type": "code",
   "execution_count": 160,
   "metadata": {},
   "outputs": [
    {
     "name": "stdout",
     "output_type": "stream",
     "text": [
      "Наилучшая модель показала результат: \n",
      "F1: 0.6347177848775293 \n",
      "[[1359  223]\n",
      " [ 120  298]] \n",
      "auc_roc:0.8545115806410637\n",
      "fine_depth: 9\n",
      "fine_estimators: 61\n",
      "CPU times: user 1min 5s, sys: 292 ms, total: 1min 5s\n",
      "Wall time: 1min 5s\n"
     ]
    }
   ],
   "source": [
    "%%time\n",
    "f1_max = 0 \n",
    "for depth in range (1,16):\n",
    "    for est in range(1,102,10):\n",
    "        model = RandomForestClassifier(random_state=12345, max_depth=depth,n_estimators=est)\n",
    "        model.fit(features_upsampled, target_upsampled)\n",
    "        #print(f'depth = {depth}')\n",
    "        f1,cm,auc_roc = mark_model_fr(model,features_valid,target_valid)\n",
    "        if f1 > f1_max:\n",
    "            f1_max = f1\n",
    "            cm_max = cm\n",
    "            auc_roc_max = auc_roc\n",
    "            fine_depth = depth\n",
    "            fine_est = est\n",
    "print(f'Наилучшая модель показала результат: \\nF1: {f1_max} \\n{cm_max} \\nauc_roc:{auc_roc_max}')\n",
    "print(f'fine_depth: {fine_depth}')\n",
    "print(f'fine_estimators: {fine_est}')"
   ]
  },
  {
   "cell_type": "code",
   "execution_count": 161,
   "metadata": {},
   "outputs": [
    {
     "data": {
      "text/plain": [
       "RandomForestClassifier(max_depth=9, n_estimators=61, random_state=12345)"
      ]
     },
     "execution_count": 161,
     "metadata": {},
     "output_type": "execute_result"
    }
   ],
   "source": [
    "model02 = RandomForestClassifier(random_state=12345, \n",
    "                                 max_depth=fine_depth,\n",
    "                                 n_estimators=fine_est)\n",
    "model02.fit(features_upsampled, target_upsampled)"
   ]
  },
  {
   "cell_type": "markdown",
   "metadata": {},
   "source": [
    "**Вывод:**"
   ]
  },
  {
   "cell_type": "markdown",
   "metadata": {},
   "source": [
    "Наилучшую метрику f1, auc_roc показывает алгоритм **RandomForestClassifier** c отбалансированными данными. Метод балансировки upsample показывает практически идентичный результат с class_wiight='balanced'. Ручная балансировка показыват крайне низкое значение f1."
   ]
  },
  {
   "cell_type": "markdown",
   "metadata": {},
   "source": [
    "<div class=\"alert alert-success\">\n",
    "<h2> Комментарий ревьюера <a class=\"tocSkip\"> </h2>\n",
    "\n",
    "👍 Здесь было бы идеально более подробно описать гиперпараметры лучшей модели.\n",
    "</div>\n"
   ]
  },
  {
   "cell_type": "markdown",
   "metadata": {},
   "source": [
    "## Тестирование модели"
   ]
  },
  {
   "cell_type": "code",
   "execution_count": 162,
   "metadata": {
    "scrolled": true
   },
   "outputs": [
    {
     "name": "stdout",
     "output_type": "stream",
     "text": [
      "F1: 0.6141732283464567\n",
      "Матрица ошибок: \n",
      "[[1384  193]\n",
      " [ 150  273]]\n",
      "auc_roc 0.8542748822838948\n"
     ]
    }
   ],
   "source": [
    "mark_model(model01,features_test,target_test)"
   ]
  },
  {
   "cell_type": "code",
   "execution_count": 163,
   "metadata": {
    "scrolled": false
   },
   "outputs": [
    {
     "name": "stdout",
     "output_type": "stream",
     "text": [
      "F1: 0.6083333333333334\n",
      "Матрица ошибок: \n",
      "[[1332  245]\n",
      " [ 131  292]]\n",
      "auc_roc 0.8532584987205261\n"
     ]
    }
   ],
   "source": [
    "mark_model(model02,features_test,target_test)"
   ]
  },
  {
   "cell_type": "markdown",
   "metadata": {},
   "source": [
    "<div class=\"alert alert-success\">\n",
    "<h2> Комментарий ревьюера <a class=\"tocSkip\"> </h2>\n",
    "\n",
    "👍 Отлично.\n",
    "    \n",
    "</div>\n"
   ]
  },
  {
   "cell_type": "code",
   "execution_count": 164,
   "metadata": {},
   "outputs": [],
   "source": [
    "pred = model01.predict(features_test)"
   ]
  },
  {
   "cell_type": "code",
   "execution_count": 165,
   "metadata": {},
   "outputs": [
    {
     "data": {
      "text/plain": [
       "0.5858369098712446"
      ]
     },
     "execution_count": 165,
     "metadata": {},
     "output_type": "execute_result"
    }
   ],
   "source": [
    "precision_score(target_test,pred)"
   ]
  },
  {
   "cell_type": "code",
   "execution_count": 166,
   "metadata": {},
   "outputs": [
    {
     "data": {
      "text/plain": [
       "0.6453900709219859"
      ]
     },
     "execution_count": 166,
     "metadata": {},
     "output_type": "execute_result"
    }
   ],
   "source": [
    "recall_score(target_test,pred)"
   ]
  },
  {
   "cell_type": "markdown",
   "metadata": {},
   "source": [
    "Объединение тренировочной и валидационной выборки"
   ]
  },
  {
   "cell_type": "code",
   "execution_count": 167,
   "metadata": {},
   "outputs": [],
   "source": [
    "features_temp = shuffle(pd.concat([features_upsampled] + [features_valid]),random_state=12345)\n",
    "target_temp = shuffle(pd.concat([target_upsampled] + [target_valid] ),random_state=12345)\n"
   ]
  },
  {
   "cell_type": "code",
   "execution_count": 168,
   "metadata": {},
   "outputs": [
    {
     "data": {
      "text/plain": [
       "RandomForestClassifier(class_weight='balanced', max_depth=9, n_estimators=91,\n",
       "                       random_state=12345)"
      ]
     },
     "execution_count": 168,
     "metadata": {},
     "output_type": "execute_result"
    }
   ],
   "source": [
    "model01.fit(features_temp,target_temp)"
   ]
  },
  {
   "cell_type": "code",
   "execution_count": 169,
   "metadata": {},
   "outputs": [
    {
     "name": "stdout",
     "output_type": "stream",
     "text": [
      "F1: 0.6206163655685442\n",
      "Матрица ошибок: \n",
      "[[1351  226]\n",
      " [ 131  292]]\n",
      "auc_roc 0.8596206400817903\n"
     ]
    }
   ],
   "source": [
    "mark_model(model01,features_test,target_test)"
   ]
  },
  {
   "cell_type": "markdown",
   "metadata": {},
   "source": [
    "<div class=\"alert alert-success\">\n",
    "<h2> Комментарий ревьюера <a class=\"tocSkip\"> </h2>\n",
    "\n",
    "👍 И еще немного улучшились.\n",
    "</div> \n",
    "\n",
    "\n"
   ]
  },
  {
   "cell_type": "markdown",
   "metadata": {},
   "source": [
    "<div class=\"alert alert-warning\">\n",
    "<h2> Комментарий ревьюера <a class=\"tocSkip\"> </h2>\n",
    "    \n",
    "<b>Некоторые замечания и рекомендации💡:</b> \n",
    "\n",
    "Я бы добавил сравнение с константной моделью, также можно посмотреть recall и прокомментировать, какую долю клиентов на отток модель верно детектирует.\n",
    "       \n",
    "</div>"
   ]
  },
  {
   "cell_type": "markdown",
   "metadata": {},
   "source": [
    "<div class=\"alert alert-info\">\n",
    "<b>Доработка:</b>\n",
    "<br>\n",
    "</div>"
   ]
  },
  {
   "cell_type": "code",
   "execution_count": 171,
   "metadata": {},
   "outputs": [
    {
     "data": {
      "text/plain": [
       "0.3491539413949649"
      ]
     },
     "execution_count": 171,
     "metadata": {},
     "output_type": "execute_result"
    }
   ],
   "source": [
    "from sklearn.dummy import DummyClassifier\n",
    "dummy_model = DummyClassifier(strategy='constant', constant=1)\n",
    "dummy_model.fit(features_train, target_train)\n",
    "f1_score(dummy_model.predict(features_test), target_test)"
   ]
  },
  {
   "cell_type": "code",
   "execution_count": 172,
   "metadata": {},
   "outputs": [
    {
     "data": {
      "text/plain": [
       "0.2115"
      ]
     },
     "execution_count": 172,
     "metadata": {},
     "output_type": "execute_result"
    }
   ],
   "source": [
    "recall_score(dummy_model.predict(features_test), target_test)"
   ]
  },
  {
   "cell_type": "code",
   "execution_count": 173,
   "metadata": {},
   "outputs": [
    {
     "data": {
      "text/plain": [
       "0.6453900709219859"
      ]
     },
     "execution_count": 173,
     "metadata": {},
     "output_type": "execute_result"
    }
   ],
   "source": [
    "recall_score(target_test,pred)"
   ]
  },
  {
   "cell_type": "markdown",
   "metadata": {},
   "source": [
    "**Вывод:** Получена модель, дающая значение F1-меры больше 0.6. Значение AUC_ROC больше 0.85 Модель получена алгоритмом RandomForestClassifier c отбалансированными данными class_wiight='balanced'. Имеется значительное количество ошибое первого и второго рода в матрице ошибок. Требуемое значение F1 меры достигнуто, но модель требует дальнейшего исследования. Объединение тренировочной и валидационной выборок для обучения к улучшению результата не привело.\n",
    "Модель правильно определяет почти 65% клиентов, идущих на отток. Это существенно больше, если сравнивать с константной моделью (21%)"
   ]
  },
  {
   "cell_type": "markdown",
   "metadata": {},
   "source": [
    "<div class=\"alert alert-warning\">\n",
    "<h2> Комментарий ревьюера <a class=\"tocSkip\"> </h2>\n",
    "    \n",
    "<b>Некоторые замечания и рекомендации💡:</b> \n",
    "\n",
    "Здесь в дамми-модели я бы предсказал везде «1». Условно говоря, если предсказываем ноль, моделируем ситуацию, когда акцию с бонусами для удержания клиентов решили не проводить. Если предсказываем единицу − решили раздать бонусы вообще всем клиентам. Если в дамми-модели предсказываем по единице, можно подсчитать F1, она не будет зануляться.\n",
    "    \n",
    "`dummy_model = DummyClassifier(strategy='constant', constant=1)\n",
    "dummy_model.fit(features_train, target_train)\n",
    "f1_score(dummy_model.predict(features_test), target_test)`\n",
    "    \n",
    "Импорт: from sklearn.dummy import DummyClassifier\n",
    "\n",
    "       \n",
    "</div>\n"
   ]
  },
  {
   "cell_type": "markdown",
   "metadata": {},
   "source": [
    "<div style=\"border:solid Chocolate 2px; padding: 40px\">\n",
    "\n",
    "**Общий вывод по проекту**\n",
    "    \n",
    "Спасибо за твой проект! Есть несколько важных моментов, которые необходимо улучшить. Их ты найдешь в разноцветных комментариях.\n",
    "    \n",
    "**Отмечу положительные моменты проекта🚀**\n",
    "    \n",
    "* Хорошая структура проекта. Выбор моделей, порядок исследования.\n",
    "* Есть пояснения к шагам, код с высокой читаемостью. \n",
    "* Логичность решений.\n",
    "* Хороший результат на тестовой выборке.\n",
    "    \n",
    "**На что стоит обратить внимание🤔**\n",
    "    \n",
    "* Необходимо изменить подход к заполнению пропусков.\n",
    "* Гиперпараметры моделеям подбираем в каждом случае применения методики борьбы с дисбалансом и в исследовании моделей без учета дисбаланса.\n",
    "* Все графики в проекте нужно подписать.\n",
    "* Эти и остальные замечания я также написал по ходу проекта.\n",
    "    \n",
    "**Желаю удачи и жду твой проект на повторное ревью!**😉\n",
    "    \n",
    "    \n",
    "</div>\n"
   ]
  },
  {
   "cell_type": "markdown",
   "metadata": {},
   "source": [
    "<div style=\"border:solid Chocolate 2px; padding: 40px\">\n",
    "\n",
    "**Комментарий ко второй проверке**\n",
    "\n",
    "Спасибо за доработку. Критичных комментариев нет. \n",
    "\n",
    "Желаю удачи в дальнейшей учебе!\n",
    "\n",
    "</div>"
   ]
  },
  {
   "cell_type": "markdown",
   "metadata": {},
   "source": [
    "## Чек-лист готовности проекта"
   ]
  },
  {
   "cell_type": "markdown",
   "metadata": {},
   "source": [
    "Поставьте 'x' в выполненных пунктах. Далее нажмите Shift+Enter."
   ]
  },
  {
   "cell_type": "markdown",
   "metadata": {},
   "source": [
    "- [x]  Jupyter Notebook открыт\n",
    "- [x]  Весь код выполняется без ошибок\n",
    "- [x]  Ячейки с кодом расположены в порядке исполнения\n",
    "- [x]  Выполнен шаг 1: данные подготовлены\n",
    "- [x]  Выполнен шаг 2: задача исследована\n",
    "    - [x]  Исследован баланс классов\n",
    "    - [x]  Изучены модели без учёта дисбаланса\n",
    "    - [x]  Написаны выводы по результатам исследования\n",
    "- [x]  Выполнен шаг 3: учтён дисбаланс\n",
    "    - [x]  Применено несколько способов борьбы с дисбалансом\n",
    "    - [x]  Написаны выводы по результатам исследования\n",
    "- [x]  Выполнен шаг 4: проведено тестирование\n",
    "- [x]  Удалось достичь *F1*-меры не менее 0.59\n",
    "- [x]  Исследована метрика *AUC-ROC*"
   ]
  }
 ],
 "metadata": {
  "ExecuteTimeLog": [
   {
    "duration": 1115,
    "start_time": "2023-02-08T15:39:52.443Z"
   },
   {
    "duration": 162,
    "start_time": "2023-02-08T15:40:26.998Z"
   },
   {
    "duration": 177,
    "start_time": "2023-02-08T15:40:42.144Z"
   },
   {
    "duration": 19,
    "start_time": "2023-02-08T15:40:55.770Z"
   },
   {
    "duration": 8,
    "start_time": "2023-02-08T15:42:48.457Z"
   },
   {
    "duration": 12,
    "start_time": "2023-02-08T15:43:04.455Z"
   },
   {
    "duration": 8,
    "start_time": "2023-02-08T15:43:11.157Z"
   },
   {
    "duration": 34,
    "start_time": "2023-02-08T15:44:42.450Z"
   },
   {
    "duration": 4,
    "start_time": "2023-02-08T15:45:10.075Z"
   },
   {
    "duration": 11,
    "start_time": "2023-02-08T15:45:19.892Z"
   },
   {
    "duration": 3,
    "start_time": "2023-02-08T15:52:07.763Z"
   },
   {
    "duration": 9,
    "start_time": "2023-02-08T15:52:25.067Z"
   },
   {
    "duration": 4,
    "start_time": "2023-02-08T15:52:31.396Z"
   },
   {
    "duration": 4,
    "start_time": "2023-02-08T15:52:42.956Z"
   },
   {
    "duration": 4,
    "start_time": "2023-02-08T15:52:43.972Z"
   },
   {
    "duration": 4,
    "start_time": "2023-02-08T15:56:43.992Z"
   },
   {
    "duration": 3,
    "start_time": "2023-02-08T15:56:44.583Z"
   },
   {
    "duration": 5,
    "start_time": "2023-02-08T15:59:06.179Z"
   },
   {
    "duration": 5,
    "start_time": "2023-02-08T15:59:06.786Z"
   },
   {
    "duration": 4,
    "start_time": "2023-02-08T15:59:18.891Z"
   },
   {
    "duration": 5,
    "start_time": "2023-02-08T16:00:32.152Z"
   },
   {
    "duration": 3,
    "start_time": "2023-02-08T16:00:37.645Z"
   },
   {
    "duration": 36,
    "start_time": "2023-02-08T16:00:38.067Z"
   },
   {
    "duration": 15,
    "start_time": "2023-02-08T16:00:38.468Z"
   },
   {
    "duration": 3,
    "start_time": "2023-02-08T16:00:39.373Z"
   },
   {
    "duration": 4,
    "start_time": "2023-02-08T16:00:45.677Z"
   },
   {
    "duration": 13,
    "start_time": "2023-02-08T16:01:22.145Z"
   },
   {
    "duration": 5,
    "start_time": "2023-02-08T16:01:38.172Z"
   },
   {
    "duration": 7,
    "start_time": "2023-02-08T16:01:39.423Z"
   },
   {
    "duration": 8,
    "start_time": "2023-02-08T16:01:40.164Z"
   },
   {
    "duration": 13,
    "start_time": "2023-02-08T16:02:43.117Z"
   },
   {
    "duration": 7,
    "start_time": "2023-02-08T16:02:45.543Z"
   },
   {
    "duration": 13,
    "start_time": "2023-02-08T16:02:46.269Z"
   },
   {
    "duration": 4,
    "start_time": "2023-02-08T16:03:05.574Z"
   },
   {
    "duration": 11,
    "start_time": "2023-02-08T16:03:09.857Z"
   },
   {
    "duration": 11,
    "start_time": "2023-02-08T16:03:21.694Z"
   },
   {
    "duration": 8,
    "start_time": "2023-02-08T16:03:25.625Z"
   },
   {
    "duration": 49,
    "start_time": "2023-02-08T16:03:26.027Z"
   },
   {
    "duration": 12,
    "start_time": "2023-02-08T16:03:26.359Z"
   },
   {
    "duration": 3,
    "start_time": "2023-02-08T16:03:27.672Z"
   },
   {
    "duration": 9,
    "start_time": "2023-02-08T16:03:30.176Z"
   },
   {
    "duration": 12,
    "start_time": "2023-02-08T16:03:30.686Z"
   },
   {
    "duration": 3,
    "start_time": "2023-02-08T16:04:08.306Z"
   },
   {
    "duration": 36,
    "start_time": "2023-02-08T16:04:08.767Z"
   },
   {
    "duration": 18,
    "start_time": "2023-02-08T16:04:09.216Z"
   },
   {
    "duration": 5,
    "start_time": "2023-02-08T16:04:10.148Z"
   },
   {
    "duration": 28,
    "start_time": "2023-02-08T16:04:10.917Z"
   },
   {
    "duration": 4,
    "start_time": "2023-02-08T16:04:25.749Z"
   },
   {
    "duration": 20,
    "start_time": "2023-02-08T16:05:49.923Z"
   },
   {
    "duration": 11,
    "start_time": "2023-02-08T16:06:02.593Z"
   },
   {
    "duration": 12,
    "start_time": "2023-02-08T16:06:25.264Z"
   },
   {
    "duration": 11,
    "start_time": "2023-02-08T16:06:28.194Z"
   },
   {
    "duration": 17,
    "start_time": "2023-02-08T16:07:20.650Z"
   },
   {
    "duration": 2,
    "start_time": "2023-02-08T16:07:31.892Z"
   },
   {
    "duration": 53,
    "start_time": "2023-02-08T16:07:32.227Z"
   },
   {
    "duration": 28,
    "start_time": "2023-02-08T16:07:32.719Z"
   },
   {
    "duration": 15,
    "start_time": "2023-02-08T16:07:34.324Z"
   },
   {
    "duration": 18,
    "start_time": "2023-02-08T16:07:35.988Z"
   },
   {
    "duration": 13,
    "start_time": "2023-02-08T16:08:00.117Z"
   },
   {
    "duration": 20,
    "start_time": "2023-02-08T16:08:57.325Z"
   },
   {
    "duration": 12,
    "start_time": "2023-02-08T16:09:06.085Z"
   },
   {
    "duration": 14,
    "start_time": "2023-02-08T16:09:12.373Z"
   },
   {
    "duration": 5,
    "start_time": "2023-02-08T16:09:36.155Z"
   },
   {
    "duration": 36,
    "start_time": "2023-02-08T16:09:37.423Z"
   },
   {
    "duration": 14,
    "start_time": "2023-02-08T16:09:52.093Z"
   },
   {
    "duration": 4,
    "start_time": "2023-02-08T16:09:57.670Z"
   },
   {
    "duration": 18,
    "start_time": "2023-02-08T16:09:59.021Z"
   },
   {
    "duration": 15,
    "start_time": "2023-02-08T16:10:28.879Z"
   },
   {
    "duration": 5,
    "start_time": "2023-02-08T16:10:39.047Z"
   },
   {
    "duration": 11,
    "start_time": "2023-02-08T16:10:39.479Z"
   },
   {
    "duration": 13,
    "start_time": "2023-02-08T16:14:47.036Z"
   },
   {
    "duration": 12,
    "start_time": "2023-02-08T16:14:49.075Z"
   },
   {
    "duration": 13,
    "start_time": "2023-02-08T16:15:55.142Z"
   },
   {
    "duration": 17,
    "start_time": "2023-02-08T16:29:01.797Z"
   },
   {
    "duration": 22,
    "start_time": "2023-02-08T16:29:11.853Z"
   },
   {
    "duration": 12,
    "start_time": "2023-02-08T16:30:10.880Z"
   },
   {
    "duration": 9,
    "start_time": "2023-02-08T16:30:54.041Z"
   },
   {
    "duration": 8,
    "start_time": "2023-02-08T16:31:03.758Z"
   },
   {
    "duration": 12,
    "start_time": "2023-02-08T16:31:46.228Z"
   },
   {
    "duration": 8,
    "start_time": "2023-02-08T16:31:50.218Z"
   },
   {
    "duration": 9,
    "start_time": "2023-02-08T16:31:56.470Z"
   },
   {
    "duration": 30,
    "start_time": "2023-02-08T16:32:38.001Z"
   },
   {
    "duration": 52,
    "start_time": "2023-02-08T16:33:31.720Z"
   },
   {
    "duration": 6,
    "start_time": "2023-02-08T16:33:36.489Z"
   },
   {
    "duration": 8,
    "start_time": "2023-02-08T16:34:42.290Z"
   },
   {
    "duration": 5,
    "start_time": "2023-02-08T16:34:46.578Z"
   },
   {
    "duration": 4,
    "start_time": "2023-02-08T16:34:56.779Z"
   },
   {
    "duration": 4,
    "start_time": "2023-02-08T16:35:43.187Z"
   },
   {
    "duration": 4,
    "start_time": "2023-02-08T16:36:13.667Z"
   },
   {
    "duration": 4,
    "start_time": "2023-02-08T16:37:02.445Z"
   },
   {
    "duration": 4,
    "start_time": "2023-02-08T16:37:02.764Z"
   },
   {
    "duration": 4,
    "start_time": "2023-02-08T16:38:23.782Z"
   },
   {
    "duration": 22,
    "start_time": "2023-02-08T16:38:37.575Z"
   },
   {
    "duration": 17,
    "start_time": "2023-02-08T16:39:00.351Z"
   },
   {
    "duration": 9,
    "start_time": "2023-02-08T16:39:05.559Z"
   },
   {
    "duration": 21,
    "start_time": "2023-02-08T16:40:10.160Z"
   },
   {
    "duration": 6,
    "start_time": "2023-02-08T16:40:16.410Z"
   },
   {
    "duration": 3,
    "start_time": "2023-02-08T16:40:31.592Z"
   },
   {
    "duration": 4,
    "start_time": "2023-02-08T16:40:45.012Z"
   },
   {
    "duration": 49,
    "start_time": "2023-02-08T16:41:08.425Z"
   },
   {
    "duration": 39,
    "start_time": "2023-02-08T16:42:54.720Z"
   },
   {
    "duration": 5,
    "start_time": "2023-02-08T16:44:14.285Z"
   },
   {
    "duration": 4,
    "start_time": "2023-02-08T16:44:22.381Z"
   },
   {
    "duration": 15,
    "start_time": "2023-02-08T16:44:42.021Z"
   },
   {
    "duration": 7,
    "start_time": "2023-02-08T16:45:42.256Z"
   },
   {
    "duration": 7,
    "start_time": "2023-02-08T16:46:06.895Z"
   },
   {
    "duration": 7,
    "start_time": "2023-02-08T16:46:11.895Z"
   },
   {
    "duration": 9,
    "start_time": "2023-02-08T16:51:35.429Z"
   },
   {
    "duration": 4,
    "start_time": "2023-02-08T16:51:46.638Z"
   },
   {
    "duration": 34,
    "start_time": "2023-02-08T16:51:49.095Z"
   },
   {
    "duration": 50,
    "start_time": "2023-02-08T16:53:00.839Z"
   },
   {
    "duration": 55,
    "start_time": "2023-02-08T16:53:45.048Z"
   },
   {
    "duration": 793,
    "start_time": "2023-02-08T16:56:31.267Z"
   },
   {
    "duration": 47,
    "start_time": "2023-02-08T16:57:39.556Z"
   },
   {
    "duration": 4,
    "start_time": "2023-02-08T17:06:52.253Z"
   },
   {
    "duration": 4,
    "start_time": "2023-02-08T17:07:06.695Z"
   },
   {
    "duration": 33,
    "start_time": "2023-02-08T17:07:20.969Z"
   },
   {
    "duration": 895,
    "start_time": "2023-02-08T17:09:53.858Z"
   },
   {
    "duration": 0,
    "start_time": "2023-02-08T17:09:54.755Z"
   },
   {
    "duration": 4,
    "start_time": "2023-02-08T17:10:05.817Z"
   },
   {
    "duration": 33,
    "start_time": "2023-02-08T17:10:06.853Z"
   },
   {
    "duration": 3,
    "start_time": "2023-02-08T17:12:00.914Z"
   },
   {
    "duration": 4,
    "start_time": "2023-02-08T17:12:01.301Z"
   },
   {
    "duration": 1028,
    "start_time": "2023-02-08T17:12:54.153Z"
   },
   {
    "duration": 41,
    "start_time": "2023-02-08T17:12:55.184Z"
   },
   {
    "duration": 26,
    "start_time": "2023-02-08T17:12:55.227Z"
   },
   {
    "duration": 33,
    "start_time": "2023-02-08T17:12:55.255Z"
   },
   {
    "duration": 4,
    "start_time": "2023-02-08T17:12:55.290Z"
   },
   {
    "duration": 15,
    "start_time": "2023-02-08T17:12:55.295Z"
   },
   {
    "duration": 10,
    "start_time": "2023-02-08T17:12:55.312Z"
   },
   {
    "duration": 15,
    "start_time": "2023-02-08T17:12:55.324Z"
   },
   {
    "duration": 8,
    "start_time": "2023-02-08T17:12:55.341Z"
   },
   {
    "duration": 7,
    "start_time": "2023-02-08T17:12:55.350Z"
   },
   {
    "duration": 8,
    "start_time": "2023-02-08T17:12:55.358Z"
   },
   {
    "duration": 5,
    "start_time": "2023-02-08T17:12:55.367Z"
   },
   {
    "duration": 5,
    "start_time": "2023-02-08T17:12:55.373Z"
   },
   {
    "duration": 5,
    "start_time": "2023-02-08T17:12:55.380Z"
   },
   {
    "duration": 57,
    "start_time": "2023-02-08T17:12:55.387Z"
   },
   {
    "duration": 8,
    "start_time": "2023-02-08T17:12:55.446Z"
   },
   {
    "duration": 7,
    "start_time": "2023-02-08T17:12:55.455Z"
   },
   {
    "duration": 577,
    "start_time": "2023-02-08T17:12:55.463Z"
   },
   {
    "duration": 4,
    "start_time": "2023-02-08T17:12:56.042Z"
   },
   {
    "duration": 9,
    "start_time": "2023-02-08T17:12:56.047Z"
   },
   {
    "duration": 22,
    "start_time": "2023-02-08T17:12:56.057Z"
   },
   {
    "duration": 37,
    "start_time": "2023-02-08T17:12:56.080Z"
   },
   {
    "duration": 7,
    "start_time": "2023-02-08T17:16:18.673Z"
   },
   {
    "duration": 52,
    "start_time": "2023-02-08T17:16:33.045Z"
   },
   {
    "duration": 46,
    "start_time": "2023-02-09T08:50:16.709Z"
   },
   {
    "duration": 1122,
    "start_time": "2023-02-09T08:50:31.490Z"
   },
   {
    "duration": 314,
    "start_time": "2023-02-09T08:50:32.614Z"
   },
   {
    "duration": 23,
    "start_time": "2023-02-09T08:50:32.929Z"
   },
   {
    "duration": 19,
    "start_time": "2023-02-09T08:50:32.954Z"
   },
   {
    "duration": 4,
    "start_time": "2023-02-09T08:50:32.976Z"
   },
   {
    "duration": 41,
    "start_time": "2023-02-09T08:50:32.983Z"
   },
   {
    "duration": 26,
    "start_time": "2023-02-09T08:50:33.026Z"
   },
   {
    "duration": 14,
    "start_time": "2023-02-09T08:50:33.054Z"
   },
   {
    "duration": 18,
    "start_time": "2023-02-09T08:50:33.070Z"
   },
   {
    "duration": 23,
    "start_time": "2023-02-09T08:50:33.090Z"
   },
   {
    "duration": 14,
    "start_time": "2023-02-09T08:50:33.115Z"
   },
   {
    "duration": 23,
    "start_time": "2023-02-09T08:50:33.132Z"
   },
   {
    "duration": 39,
    "start_time": "2023-02-09T08:50:33.157Z"
   },
   {
    "duration": 21,
    "start_time": "2023-02-09T08:50:33.199Z"
   },
   {
    "duration": 72,
    "start_time": "2023-02-09T08:50:33.221Z"
   },
   {
    "duration": 747,
    "start_time": "2023-02-09T08:50:33.295Z"
   },
   {
    "duration": 5,
    "start_time": "2023-02-09T08:50:34.043Z"
   },
   {
    "duration": 47,
    "start_time": "2023-02-09T08:50:34.049Z"
   },
   {
    "duration": 20,
    "start_time": "2023-02-09T08:50:34.098Z"
   },
   {
    "duration": 72,
    "start_time": "2023-02-09T08:50:34.119Z"
   },
   {
    "duration": 137,
    "start_time": "2023-02-09T08:50:34.192Z"
   },
   {
    "duration": 0,
    "start_time": "2023-02-09T08:50:34.330Z"
   },
   {
    "duration": 4,
    "start_time": "2023-02-09T08:50:42.554Z"
   },
   {
    "duration": 162,
    "start_time": "2023-02-09T08:51:28.143Z"
   },
   {
    "duration": 27,
    "start_time": "2023-02-09T08:51:34.352Z"
   },
   {
    "duration": 168,
    "start_time": "2023-02-09T08:51:59.481Z"
   },
   {
    "duration": 1056,
    "start_time": "2023-02-09T08:52:18.732Z"
   },
   {
    "duration": 43,
    "start_time": "2023-02-09T08:52:19.792Z"
   },
   {
    "duration": 21,
    "start_time": "2023-02-09T08:52:19.836Z"
   },
   {
    "duration": 44,
    "start_time": "2023-02-09T08:52:19.860Z"
   },
   {
    "duration": 11,
    "start_time": "2023-02-09T08:52:19.906Z"
   },
   {
    "duration": 43,
    "start_time": "2023-02-09T08:52:19.918Z"
   },
   {
    "duration": 34,
    "start_time": "2023-02-09T08:52:19.963Z"
   },
   {
    "duration": 24,
    "start_time": "2023-02-09T08:52:19.998Z"
   },
   {
    "duration": 25,
    "start_time": "2023-02-09T08:52:20.024Z"
   },
   {
    "duration": 37,
    "start_time": "2023-02-09T08:52:20.052Z"
   },
   {
    "duration": 25,
    "start_time": "2023-02-09T08:52:20.091Z"
   },
   {
    "duration": 19,
    "start_time": "2023-02-09T08:52:20.118Z"
   },
   {
    "duration": 19,
    "start_time": "2023-02-09T08:52:20.138Z"
   },
   {
    "duration": 36,
    "start_time": "2023-02-09T08:52:20.159Z"
   },
   {
    "duration": 60,
    "start_time": "2023-02-09T08:52:20.197Z"
   },
   {
    "duration": 607,
    "start_time": "2023-02-09T08:52:20.259Z"
   },
   {
    "duration": 4,
    "start_time": "2023-02-09T08:52:20.867Z"
   },
   {
    "duration": 24,
    "start_time": "2023-02-09T08:52:20.881Z"
   },
   {
    "duration": 31,
    "start_time": "2023-02-09T08:52:20.906Z"
   },
   {
    "duration": 40,
    "start_time": "2023-02-09T08:52:20.938Z"
   },
   {
    "duration": 18,
    "start_time": "2023-02-09T08:52:20.980Z"
   },
   {
    "duration": 25,
    "start_time": "2023-02-09T08:52:20.999Z"
   },
   {
    "duration": 53,
    "start_time": "2023-02-09T08:52:21.025Z"
   },
   {
    "duration": 31,
    "start_time": "2023-02-09T08:52:21.079Z"
   },
   {
    "duration": 14,
    "start_time": "2023-02-09T08:53:04.763Z"
   },
   {
    "duration": 12,
    "start_time": "2023-02-09T08:53:18.117Z"
   },
   {
    "duration": 128,
    "start_time": "2023-02-09T08:54:05.021Z"
   },
   {
    "duration": 14,
    "start_time": "2023-02-09T08:54:13.095Z"
   },
   {
    "duration": 1094,
    "start_time": "2023-02-09T08:54:24.867Z"
   },
   {
    "duration": 45,
    "start_time": "2023-02-09T08:54:25.963Z"
   },
   {
    "duration": 19,
    "start_time": "2023-02-09T08:54:26.010Z"
   },
   {
    "duration": 12,
    "start_time": "2023-02-09T08:54:26.031Z"
   },
   {
    "duration": 5,
    "start_time": "2023-02-09T08:54:26.045Z"
   },
   {
    "duration": 17,
    "start_time": "2023-02-09T08:54:26.052Z"
   },
   {
    "duration": 26,
    "start_time": "2023-02-09T08:54:26.071Z"
   },
   {
    "duration": 5,
    "start_time": "2023-02-09T08:54:26.098Z"
   },
   {
    "duration": 13,
    "start_time": "2023-02-09T08:54:26.105Z"
   },
   {
    "duration": 7,
    "start_time": "2023-02-09T08:54:26.120Z"
   },
   {
    "duration": 10,
    "start_time": "2023-02-09T08:54:26.128Z"
   },
   {
    "duration": 4,
    "start_time": "2023-02-09T08:54:26.140Z"
   },
   {
    "duration": 6,
    "start_time": "2023-02-09T08:54:26.145Z"
   },
   {
    "duration": 4,
    "start_time": "2023-02-09T08:54:26.154Z"
   },
   {
    "duration": 53,
    "start_time": "2023-02-09T08:54:26.160Z"
   },
   {
    "duration": 613,
    "start_time": "2023-02-09T08:54:26.215Z"
   },
   {
    "duration": 4,
    "start_time": "2023-02-09T08:54:26.829Z"
   },
   {
    "duration": 8,
    "start_time": "2023-02-09T08:54:26.834Z"
   },
   {
    "duration": 6,
    "start_time": "2023-02-09T08:54:26.843Z"
   },
   {
    "duration": 49,
    "start_time": "2023-02-09T08:54:26.850Z"
   },
   {
    "duration": 4,
    "start_time": "2023-02-09T08:54:26.901Z"
   },
   {
    "duration": 6,
    "start_time": "2023-02-09T08:54:26.906Z"
   },
   {
    "duration": 13,
    "start_time": "2023-02-09T08:54:26.914Z"
   },
   {
    "duration": 5,
    "start_time": "2023-02-09T08:54:26.928Z"
   },
   {
    "duration": 10,
    "start_time": "2023-02-09T08:54:37.516Z"
   },
   {
    "duration": 11,
    "start_time": "2023-02-09T08:54:38.567Z"
   },
   {
    "duration": 89,
    "start_time": "2023-02-09T08:55:38.867Z"
   },
   {
    "duration": 56,
    "start_time": "2023-02-09T09:00:49.570Z"
   },
   {
    "duration": 68,
    "start_time": "2023-02-09T09:01:40.764Z"
   },
   {
    "duration": 70,
    "start_time": "2023-02-09T09:01:48.772Z"
   },
   {
    "duration": 57,
    "start_time": "2023-02-09T09:03:30.970Z"
   },
   {
    "duration": 134,
    "start_time": "2023-02-09T09:03:46.244Z"
   },
   {
    "duration": 10,
    "start_time": "2023-02-09T09:04:20.181Z"
   },
   {
    "duration": 6,
    "start_time": "2023-02-09T09:07:09.211Z"
   },
   {
    "duration": 144,
    "start_time": "2023-02-09T09:07:30.010Z"
   },
   {
    "duration": 3,
    "start_time": "2023-02-09T09:07:34.774Z"
   },
   {
    "duration": 6,
    "start_time": "2023-02-09T09:07:37.122Z"
   },
   {
    "duration": 6,
    "start_time": "2023-02-09T09:08:04.225Z"
   },
   {
    "duration": 5,
    "start_time": "2023-02-09T09:08:55.439Z"
   },
   {
    "duration": 4,
    "start_time": "2023-02-09T09:09:11.372Z"
   },
   {
    "duration": 4,
    "start_time": "2023-02-09T09:09:28.971Z"
   },
   {
    "duration": 4,
    "start_time": "2023-02-09T09:10:58.316Z"
   },
   {
    "duration": 4,
    "start_time": "2023-02-09T09:11:08.408Z"
   },
   {
    "duration": 6,
    "start_time": "2023-02-09T09:11:22.315Z"
   },
   {
    "duration": 4,
    "start_time": "2023-02-09T09:11:23.434Z"
   },
   {
    "duration": 3,
    "start_time": "2023-02-09T09:11:24.035Z"
   },
   {
    "duration": 4,
    "start_time": "2023-02-09T09:11:24.568Z"
   },
   {
    "duration": 4,
    "start_time": "2023-02-09T09:11:25.134Z"
   },
   {
    "duration": 49,
    "start_time": "2023-02-09T09:15:36.604Z"
   },
   {
    "duration": 10,
    "start_time": "2023-02-09T09:17:25.079Z"
   },
   {
    "duration": 5,
    "start_time": "2023-02-09T09:18:13.827Z"
   },
   {
    "duration": 9,
    "start_time": "2023-02-09T09:18:24.595Z"
   },
   {
    "duration": 15,
    "start_time": "2023-02-09T09:18:51.280Z"
   },
   {
    "duration": 6,
    "start_time": "2023-02-09T09:19:40.976Z"
   },
   {
    "duration": 1100,
    "start_time": "2023-02-09T09:21:51.275Z"
   },
   {
    "duration": 42,
    "start_time": "2023-02-09T09:21:52.377Z"
   },
   {
    "duration": 19,
    "start_time": "2023-02-09T09:21:52.421Z"
   },
   {
    "duration": 11,
    "start_time": "2023-02-09T09:21:52.441Z"
   },
   {
    "duration": 4,
    "start_time": "2023-02-09T09:21:52.454Z"
   },
   {
    "duration": 16,
    "start_time": "2023-02-09T09:21:52.459Z"
   },
   {
    "duration": 17,
    "start_time": "2023-02-09T09:21:52.477Z"
   },
   {
    "duration": 7,
    "start_time": "2023-02-09T09:21:52.495Z"
   },
   {
    "duration": 9,
    "start_time": "2023-02-09T09:21:52.504Z"
   },
   {
    "duration": 7,
    "start_time": "2023-02-09T09:21:52.514Z"
   },
   {
    "duration": 11,
    "start_time": "2023-02-09T09:21:52.522Z"
   },
   {
    "duration": 7,
    "start_time": "2023-02-09T09:21:52.534Z"
   },
   {
    "duration": 12,
    "start_time": "2023-02-09T09:21:52.542Z"
   },
   {
    "duration": 14,
    "start_time": "2023-02-09T09:21:52.556Z"
   },
   {
    "duration": 44,
    "start_time": "2023-02-09T09:21:52.572Z"
   },
   {
    "duration": 601,
    "start_time": "2023-02-09T09:21:52.618Z"
   },
   {
    "duration": 4,
    "start_time": "2023-02-09T09:21:53.221Z"
   },
   {
    "duration": 8,
    "start_time": "2023-02-09T09:21:53.226Z"
   },
   {
    "duration": 6,
    "start_time": "2023-02-09T09:21:53.236Z"
   },
   {
    "duration": 54,
    "start_time": "2023-02-09T09:21:53.243Z"
   },
   {
    "duration": 4,
    "start_time": "2023-02-09T09:21:53.299Z"
   },
   {
    "duration": 25,
    "start_time": "2023-02-09T09:21:53.305Z"
   },
   {
    "duration": 13,
    "start_time": "2023-02-09T09:21:53.332Z"
   },
   {
    "duration": 5,
    "start_time": "2023-02-09T09:21:53.347Z"
   },
   {
    "duration": 9,
    "start_time": "2023-02-09T09:21:53.353Z"
   },
   {
    "duration": 29,
    "start_time": "2023-02-09T09:21:53.363Z"
   },
   {
    "duration": 10,
    "start_time": "2023-02-09T09:21:53.394Z"
   },
   {
    "duration": 10,
    "start_time": "2023-02-09T09:21:53.406Z"
   },
   {
    "duration": 11,
    "start_time": "2023-02-09T09:21:53.417Z"
   },
   {
    "duration": 11,
    "start_time": "2023-02-09T09:21:53.430Z"
   },
   {
    "duration": 6,
    "start_time": "2023-02-09T09:21:53.443Z"
   },
   {
    "duration": 9,
    "start_time": "2023-02-09T09:21:53.450Z"
   },
   {
    "duration": 4,
    "start_time": "2023-02-09T09:21:53.461Z"
   },
   {
    "duration": 6,
    "start_time": "2023-02-09T09:21:53.467Z"
   },
   {
    "duration": 12,
    "start_time": "2023-02-09T09:21:53.475Z"
   },
   {
    "duration": 16,
    "start_time": "2023-02-09T09:21:53.489Z"
   },
   {
    "duration": 3,
    "start_time": "2023-02-09T09:23:34.077Z"
   },
   {
    "duration": 10,
    "start_time": "2023-02-09T09:23:44.518Z"
   },
   {
    "duration": 6,
    "start_time": "2023-02-09T09:23:56.798Z"
   },
   {
    "duration": 5,
    "start_time": "2023-02-09T09:24:04.410Z"
   },
   {
    "duration": 110,
    "start_time": "2023-02-09T09:27:14.780Z"
   },
   {
    "duration": 1098,
    "start_time": "2023-02-09T09:30:20.429Z"
   },
   {
    "duration": 42,
    "start_time": "2023-02-09T09:30:21.529Z"
   },
   {
    "duration": 27,
    "start_time": "2023-02-09T09:30:21.572Z"
   },
   {
    "duration": 22,
    "start_time": "2023-02-09T09:30:21.601Z"
   },
   {
    "duration": 8,
    "start_time": "2023-02-09T09:30:21.625Z"
   },
   {
    "duration": 38,
    "start_time": "2023-02-09T09:30:21.635Z"
   },
   {
    "duration": 25,
    "start_time": "2023-02-09T09:30:21.675Z"
   },
   {
    "duration": 21,
    "start_time": "2023-02-09T09:30:21.702Z"
   },
   {
    "duration": 14,
    "start_time": "2023-02-09T09:30:21.725Z"
   },
   {
    "duration": 13,
    "start_time": "2023-02-09T09:30:21.742Z"
   },
   {
    "duration": 30,
    "start_time": "2023-02-09T09:30:21.756Z"
   },
   {
    "duration": 27,
    "start_time": "2023-02-09T09:30:21.788Z"
   },
   {
    "duration": 14,
    "start_time": "2023-02-09T09:30:21.816Z"
   },
   {
    "duration": 39,
    "start_time": "2023-02-09T09:30:21.832Z"
   },
   {
    "duration": 60,
    "start_time": "2023-02-09T09:30:21.873Z"
   },
   {
    "duration": 605,
    "start_time": "2023-02-09T09:30:21.934Z"
   },
   {
    "duration": 5,
    "start_time": "2023-02-09T09:30:22.540Z"
   },
   {
    "duration": 14,
    "start_time": "2023-02-09T09:30:22.546Z"
   },
   {
    "duration": 41,
    "start_time": "2023-02-09T09:30:22.561Z"
   },
   {
    "duration": 52,
    "start_time": "2023-02-09T09:30:22.603Z"
   },
   {
    "duration": 4,
    "start_time": "2023-02-09T09:30:22.657Z"
   },
   {
    "duration": 29,
    "start_time": "2023-02-09T09:30:22.662Z"
   },
   {
    "duration": 38,
    "start_time": "2023-02-09T09:30:22.697Z"
   },
   {
    "duration": 11,
    "start_time": "2023-02-09T09:30:22.737Z"
   },
   {
    "duration": 16,
    "start_time": "2023-02-09T09:30:22.750Z"
   },
   {
    "duration": 32,
    "start_time": "2023-02-09T09:30:22.768Z"
   },
   {
    "duration": 13,
    "start_time": "2023-02-09T09:30:22.802Z"
   },
   {
    "duration": 18,
    "start_time": "2023-02-09T09:30:22.818Z"
   },
   {
    "duration": 15,
    "start_time": "2023-02-09T09:30:22.838Z"
   },
   {
    "duration": 21,
    "start_time": "2023-02-09T09:30:22.855Z"
   },
   {
    "duration": 36,
    "start_time": "2023-02-09T09:30:22.878Z"
   },
   {
    "duration": 26,
    "start_time": "2023-02-09T09:30:22.916Z"
   },
   {
    "duration": 18,
    "start_time": "2023-02-09T09:30:22.944Z"
   },
   {
    "duration": 43,
    "start_time": "2023-02-09T09:30:22.964Z"
   },
   {
    "duration": 26,
    "start_time": "2023-02-09T09:30:23.009Z"
   },
   {
    "duration": 23,
    "start_time": "2023-02-09T09:30:23.037Z"
   },
   {
    "duration": 33,
    "start_time": "2023-02-09T09:30:23.062Z"
   },
   {
    "duration": 1121,
    "start_time": "2023-02-09T09:32:34.489Z"
   },
   {
    "duration": 40,
    "start_time": "2023-02-09T09:32:35.613Z"
   },
   {
    "duration": 29,
    "start_time": "2023-02-09T09:32:35.655Z"
   },
   {
    "duration": 23,
    "start_time": "2023-02-09T09:32:35.686Z"
   },
   {
    "duration": 12,
    "start_time": "2023-02-09T09:32:35.711Z"
   },
   {
    "duration": 36,
    "start_time": "2023-02-09T09:32:35.724Z"
   },
   {
    "duration": 33,
    "start_time": "2023-02-09T09:32:35.762Z"
   },
   {
    "duration": 9,
    "start_time": "2023-02-09T09:32:35.799Z"
   },
   {
    "duration": 27,
    "start_time": "2023-02-09T09:32:35.809Z"
   },
   {
    "duration": 18,
    "start_time": "2023-02-09T09:32:35.840Z"
   },
   {
    "duration": 44,
    "start_time": "2023-02-09T09:32:35.860Z"
   },
   {
    "duration": 33,
    "start_time": "2023-02-09T09:32:35.905Z"
   },
   {
    "duration": 22,
    "start_time": "2023-02-09T09:32:35.940Z"
   },
   {
    "duration": 23,
    "start_time": "2023-02-09T09:32:35.964Z"
   },
   {
    "duration": 71,
    "start_time": "2023-02-09T09:32:35.988Z"
   },
   {
    "duration": 737,
    "start_time": "2023-02-09T09:32:36.061Z"
   },
   {
    "duration": 5,
    "start_time": "2023-02-09T09:32:36.800Z"
   },
   {
    "duration": 26,
    "start_time": "2023-02-09T09:32:36.806Z"
   },
   {
    "duration": 12,
    "start_time": "2023-02-09T09:32:36.835Z"
   },
   {
    "duration": 57,
    "start_time": "2023-02-09T09:32:36.849Z"
   },
   {
    "duration": 4,
    "start_time": "2023-02-09T09:32:36.908Z"
   },
   {
    "duration": 19,
    "start_time": "2023-02-09T09:32:36.914Z"
   },
   {
    "duration": 16,
    "start_time": "2023-02-09T09:32:36.934Z"
   },
   {
    "duration": 4,
    "start_time": "2023-02-09T09:32:36.952Z"
   },
   {
    "duration": 6,
    "start_time": "2023-02-09T09:32:36.958Z"
   },
   {
    "duration": 18,
    "start_time": "2023-02-09T09:32:36.966Z"
   },
   {
    "duration": 14,
    "start_time": "2023-02-09T09:32:36.988Z"
   },
   {
    "duration": 12,
    "start_time": "2023-02-09T09:32:37.005Z"
   },
   {
    "duration": 9,
    "start_time": "2023-02-09T09:32:37.019Z"
   },
   {
    "duration": 19,
    "start_time": "2023-02-09T09:32:37.029Z"
   },
   {
    "duration": 48,
    "start_time": "2023-02-09T09:32:37.050Z"
   },
   {
    "duration": 21,
    "start_time": "2023-02-09T09:32:37.100Z"
   },
   {
    "duration": 17,
    "start_time": "2023-02-09T09:32:37.122Z"
   },
   {
    "duration": 19,
    "start_time": "2023-02-09T09:32:37.141Z"
   },
   {
    "duration": 19,
    "start_time": "2023-02-09T09:32:37.162Z"
   },
   {
    "duration": 15,
    "start_time": "2023-02-09T09:32:37.186Z"
   },
   {
    "duration": 10,
    "start_time": "2023-02-09T09:32:37.203Z"
   },
   {
    "duration": 1111,
    "start_time": "2023-02-09T09:33:41.374Z"
   },
   {
    "duration": 42,
    "start_time": "2023-02-09T09:33:42.497Z"
   },
   {
    "duration": 20,
    "start_time": "2023-02-09T09:33:42.541Z"
   },
   {
    "duration": 13,
    "start_time": "2023-02-09T09:33:42.564Z"
   },
   {
    "duration": 14,
    "start_time": "2023-02-09T09:33:42.579Z"
   },
   {
    "duration": 16,
    "start_time": "2023-02-09T09:33:42.595Z"
   },
   {
    "duration": 13,
    "start_time": "2023-02-09T09:33:42.613Z"
   },
   {
    "duration": 6,
    "start_time": "2023-02-09T09:33:42.627Z"
   },
   {
    "duration": 7,
    "start_time": "2023-02-09T09:33:42.634Z"
   },
   {
    "duration": 5,
    "start_time": "2023-02-09T09:33:42.644Z"
   },
   {
    "duration": 40,
    "start_time": "2023-02-09T09:33:42.650Z"
   },
   {
    "duration": 4,
    "start_time": "2023-02-09T09:33:42.692Z"
   },
   {
    "duration": 7,
    "start_time": "2023-02-09T09:33:42.698Z"
   },
   {
    "duration": 6,
    "start_time": "2023-02-09T09:33:42.707Z"
   },
   {
    "duration": 36,
    "start_time": "2023-02-09T09:33:42.715Z"
   },
   {
    "duration": 588,
    "start_time": "2023-02-09T09:33:42.753Z"
   },
   {
    "duration": 2,
    "start_time": "2023-02-09T09:33:43.343Z"
   },
   {
    "duration": 8,
    "start_time": "2023-02-09T09:33:43.347Z"
   },
   {
    "duration": 8,
    "start_time": "2023-02-09T09:33:43.356Z"
   },
   {
    "duration": 48,
    "start_time": "2023-02-09T09:33:43.365Z"
   },
   {
    "duration": 4,
    "start_time": "2023-02-09T09:33:43.415Z"
   },
   {
    "duration": 15,
    "start_time": "2023-02-09T09:33:43.421Z"
   },
   {
    "duration": 12,
    "start_time": "2023-02-09T09:33:43.438Z"
   },
   {
    "duration": 7,
    "start_time": "2023-02-09T09:33:43.452Z"
   },
   {
    "duration": 36,
    "start_time": "2023-02-09T09:33:43.461Z"
   },
   {
    "duration": 10,
    "start_time": "2023-02-09T09:33:43.499Z"
   },
   {
    "duration": 9,
    "start_time": "2023-02-09T09:33:43.510Z"
   },
   {
    "duration": 19,
    "start_time": "2023-02-09T09:33:43.522Z"
   },
   {
    "duration": 8,
    "start_time": "2023-02-09T09:33:43.542Z"
   },
   {
    "duration": 9,
    "start_time": "2023-02-09T09:33:43.552Z"
   },
   {
    "duration": 13,
    "start_time": "2023-02-09T09:33:43.563Z"
   },
   {
    "duration": 8,
    "start_time": "2023-02-09T09:33:43.578Z"
   },
   {
    "duration": 32,
    "start_time": "2023-02-09T09:33:43.592Z"
   },
   {
    "duration": 17,
    "start_time": "2023-02-09T09:33:43.626Z"
   },
   {
    "duration": 19,
    "start_time": "2023-02-09T09:33:43.645Z"
   },
   {
    "duration": 8,
    "start_time": "2023-02-09T09:33:43.666Z"
   },
   {
    "duration": 16,
    "start_time": "2023-02-09T09:33:43.676Z"
   },
   {
    "duration": 11,
    "start_time": "2023-02-09T09:35:13.719Z"
   },
   {
    "duration": 8,
    "start_time": "2023-02-09T09:35:22.613Z"
   },
   {
    "duration": 10,
    "start_time": "2023-02-09T09:35:37.934Z"
   },
   {
    "duration": 1065,
    "start_time": "2023-02-09T09:36:05.309Z"
   },
   {
    "duration": 47,
    "start_time": "2023-02-09T09:36:06.376Z"
   },
   {
    "duration": 25,
    "start_time": "2023-02-09T09:36:06.425Z"
   },
   {
    "duration": 35,
    "start_time": "2023-02-09T09:36:06.453Z"
   },
   {
    "duration": 18,
    "start_time": "2023-02-09T09:36:06.492Z"
   },
   {
    "duration": 29,
    "start_time": "2023-02-09T09:36:06.512Z"
   },
   {
    "duration": 46,
    "start_time": "2023-02-09T09:36:06.543Z"
   },
   {
    "duration": 39,
    "start_time": "2023-02-09T09:36:06.591Z"
   },
   {
    "duration": 24,
    "start_time": "2023-02-09T09:36:06.632Z"
   },
   {
    "duration": 52,
    "start_time": "2023-02-09T09:36:06.658Z"
   },
   {
    "duration": 44,
    "start_time": "2023-02-09T09:36:06.711Z"
   },
   {
    "duration": 39,
    "start_time": "2023-02-09T09:36:06.757Z"
   },
   {
    "duration": 37,
    "start_time": "2023-02-09T09:36:06.798Z"
   },
   {
    "duration": 22,
    "start_time": "2023-02-09T09:36:06.836Z"
   },
   {
    "duration": 79,
    "start_time": "2023-02-09T09:36:06.860Z"
   },
   {
    "duration": 586,
    "start_time": "2023-02-09T09:36:06.941Z"
   },
   {
    "duration": 38,
    "start_time": "2023-02-09T09:36:07.528Z"
   },
   {
    "duration": 28,
    "start_time": "2023-02-09T09:36:07.568Z"
   },
   {
    "duration": 30,
    "start_time": "2023-02-09T09:36:07.598Z"
   },
   {
    "duration": 16,
    "start_time": "2023-02-09T09:36:07.629Z"
   },
   {
    "duration": 4,
    "start_time": "2023-02-09T09:36:07.647Z"
   },
   {
    "duration": 4,
    "start_time": "2023-02-09T09:36:07.653Z"
   },
   {
    "duration": 8,
    "start_time": "2023-02-09T09:36:07.659Z"
   },
   {
    "duration": 23,
    "start_time": "2023-02-09T09:36:07.668Z"
   },
   {
    "duration": 7,
    "start_time": "2023-02-09T09:36:07.693Z"
   },
   {
    "duration": 6,
    "start_time": "2023-02-09T09:36:07.702Z"
   },
   {
    "duration": 7,
    "start_time": "2023-02-09T09:36:07.709Z"
   },
   {
    "duration": 4,
    "start_time": "2023-02-09T09:36:07.719Z"
   },
   {
    "duration": 6,
    "start_time": "2023-02-09T09:36:07.725Z"
   },
   {
    "duration": 4,
    "start_time": "2023-02-09T09:36:07.733Z"
   },
   {
    "duration": 12,
    "start_time": "2023-02-09T09:36:07.739Z"
   },
   {
    "duration": 44,
    "start_time": "2023-02-09T09:36:07.752Z"
   },
   {
    "duration": 11,
    "start_time": "2023-02-09T09:36:07.798Z"
   },
   {
    "duration": 10,
    "start_time": "2023-02-09T09:36:07.811Z"
   },
   {
    "duration": 8,
    "start_time": "2023-02-09T09:36:07.823Z"
   },
   {
    "duration": 3,
    "start_time": "2023-02-09T09:42:47.228Z"
   },
   {
    "duration": 23,
    "start_time": "2023-02-09T09:43:29.505Z"
   },
   {
    "duration": 73,
    "start_time": "2023-02-09T09:46:55.052Z"
   },
   {
    "duration": 187,
    "start_time": "2023-02-09T09:47:36.181Z"
   },
   {
    "duration": 18,
    "start_time": "2023-02-09T09:48:02.776Z"
   },
   {
    "duration": 6,
    "start_time": "2023-02-09T09:48:21.979Z"
   },
   {
    "duration": 3,
    "start_time": "2023-02-09T09:48:32.111Z"
   },
   {
    "duration": 200,
    "start_time": "2023-02-09T09:49:06.607Z"
   },
   {
    "duration": 15,
    "start_time": "2023-02-09T09:49:46.378Z"
   },
   {
    "duration": 2,
    "start_time": "2023-02-09T09:50:22.277Z"
   },
   {
    "duration": 18,
    "start_time": "2023-02-09T09:50:22.794Z"
   },
   {
    "duration": 6,
    "start_time": "2023-02-09T09:50:23.340Z"
   },
   {
    "duration": 7,
    "start_time": "2023-02-09T09:51:00.393Z"
   },
   {
    "duration": 6,
    "start_time": "2023-02-09T09:51:21.274Z"
   },
   {
    "duration": 5,
    "start_time": "2023-02-09T09:51:46.717Z"
   },
   {
    "duration": 5,
    "start_time": "2023-02-09T09:51:53.428Z"
   },
   {
    "duration": 6,
    "start_time": "2023-02-09T09:52:37.296Z"
   },
   {
    "duration": 6,
    "start_time": "2023-02-09T09:52:52.593Z"
   },
   {
    "duration": 9,
    "start_time": "2023-02-09T09:54:19.915Z"
   },
   {
    "duration": 3,
    "start_time": "2023-02-09T09:54:26.677Z"
   },
   {
    "duration": 29,
    "start_time": "2023-02-09T09:54:32.338Z"
   },
   {
    "duration": 5,
    "start_time": "2023-02-09T09:54:38.572Z"
   },
   {
    "duration": 6,
    "start_time": "2023-02-09T09:54:44.909Z"
   },
   {
    "duration": 5,
    "start_time": "2023-02-09T09:55:16.344Z"
   },
   {
    "duration": 6,
    "start_time": "2023-02-09T09:55:35.793Z"
   },
   {
    "duration": 11,
    "start_time": "2023-02-09T09:55:36.976Z"
   },
   {
    "duration": 56,
    "start_time": "2023-02-09T10:09:40.668Z"
   },
   {
    "duration": 4,
    "start_time": "2023-02-09T10:09:47.471Z"
   },
   {
    "duration": 6,
    "start_time": "2023-02-09T10:10:16.933Z"
   },
   {
    "duration": 5,
    "start_time": "2023-02-09T10:11:26.659Z"
   },
   {
    "duration": 53,
    "start_time": "2023-02-09T10:13:02.773Z"
   },
   {
    "duration": 190,
    "start_time": "2023-02-09T10:15:11.413Z"
   },
   {
    "duration": 9,
    "start_time": "2023-02-09T10:15:26.827Z"
   },
   {
    "duration": 101,
    "start_time": "2023-02-09T10:15:35.307Z"
   },
   {
    "duration": 179,
    "start_time": "2023-02-09T10:15:40.674Z"
   },
   {
    "duration": 70,
    "start_time": "2023-02-09T10:17:57.930Z"
   },
   {
    "duration": 9,
    "start_time": "2023-02-09T10:18:46.896Z"
   },
   {
    "duration": 3,
    "start_time": "2023-02-09T10:18:52.746Z"
   },
   {
    "duration": 15,
    "start_time": "2023-02-09T10:19:01.834Z"
   },
   {
    "duration": 5,
    "start_time": "2023-02-09T10:19:07.715Z"
   },
   {
    "duration": 6,
    "start_time": "2023-02-09T10:19:21.801Z"
   },
   {
    "duration": 6,
    "start_time": "2023-02-09T10:19:52.120Z"
   },
   {
    "duration": 2,
    "start_time": "2023-02-09T10:20:42.409Z"
   },
   {
    "duration": 26,
    "start_time": "2023-02-09T10:20:43.294Z"
   },
   {
    "duration": 5,
    "start_time": "2023-02-09T10:20:43.797Z"
   },
   {
    "duration": 5,
    "start_time": "2023-02-09T10:20:44.506Z"
   },
   {
    "duration": 8,
    "start_time": "2023-02-09T10:20:45.188Z"
   },
   {
    "duration": 2,
    "start_time": "2023-02-09T10:20:47.597Z"
   },
   {
    "duration": 16,
    "start_time": "2023-02-09T10:20:47.994Z"
   },
   {
    "duration": 9,
    "start_time": "2023-02-09T10:20:48.497Z"
   },
   {
    "duration": 10,
    "start_time": "2023-02-09T10:20:49.181Z"
   },
   {
    "duration": 6,
    "start_time": "2023-02-09T10:20:49.847Z"
   },
   {
    "duration": 10,
    "start_time": "2023-02-09T10:51:57.369Z"
   },
   {
    "duration": 11,
    "start_time": "2023-02-09T10:52:03.575Z"
   },
   {
    "duration": 3,
    "start_time": "2023-02-09T10:52:16.273Z"
   },
   {
    "duration": 20,
    "start_time": "2023-02-09T10:52:44.777Z"
   },
   {
    "duration": 5,
    "start_time": "2023-02-09T10:54:38.713Z"
   },
   {
    "duration": 14,
    "start_time": "2023-02-09T10:54:39.282Z"
   },
   {
    "duration": 50,
    "start_time": "2023-02-09T10:58:12.421Z"
   },
   {
    "duration": 6,
    "start_time": "2023-02-09T10:58:41.199Z"
   },
   {
    "duration": 10,
    "start_time": "2023-02-09T11:01:51.838Z"
   },
   {
    "duration": 9,
    "start_time": "2023-02-09T11:02:04.855Z"
   },
   {
    "duration": 4,
    "start_time": "2023-02-09T11:02:37.049Z"
   },
   {
    "duration": 11,
    "start_time": "2023-02-09T11:03:07.832Z"
   },
   {
    "duration": 10,
    "start_time": "2023-02-09T11:03:31.012Z"
   },
   {
    "duration": 4,
    "start_time": "2023-02-09T11:09:00.153Z"
   },
   {
    "duration": 45,
    "start_time": "2023-02-09T11:09:43.638Z"
   },
   {
    "duration": 5,
    "start_time": "2023-02-09T11:09:58.016Z"
   },
   {
    "duration": 3,
    "start_time": "2023-02-09T11:10:22.765Z"
   },
   {
    "duration": 9,
    "start_time": "2023-02-09T11:10:31.901Z"
   },
   {
    "duration": 3,
    "start_time": "2023-02-09T11:14:47.332Z"
   },
   {
    "duration": 5,
    "start_time": "2023-02-09T11:14:48.982Z"
   },
   {
    "duration": 14,
    "start_time": "2023-02-09T11:14:49.540Z"
   },
   {
    "duration": 15,
    "start_time": "2023-02-09T11:14:50.397Z"
   },
   {
    "duration": 3,
    "start_time": "2023-02-09T11:14:51.847Z"
   },
   {
    "duration": 3,
    "start_time": "2023-02-09T11:14:56.794Z"
   },
   {
    "duration": 3,
    "start_time": "2023-02-09T11:14:57.765Z"
   },
   {
    "duration": 71,
    "start_time": "2023-02-09T11:16:00.741Z"
   },
   {
    "duration": 42,
    "start_time": "2023-02-09T11:16:05.825Z"
   },
   {
    "duration": 4,
    "start_time": "2023-02-09T11:16:24.378Z"
   },
   {
    "duration": 4,
    "start_time": "2023-02-09T11:17:07.268Z"
   },
   {
    "duration": 97,
    "start_time": "2023-02-09T11:17:45.699Z"
   },
   {
    "duration": 4,
    "start_time": "2023-02-09T11:17:54.714Z"
   },
   {
    "duration": 3,
    "start_time": "2023-02-09T11:17:55.800Z"
   },
   {
    "duration": 15,
    "start_time": "2023-02-09T11:17:56.133Z"
   },
   {
    "duration": 205,
    "start_time": "2023-02-09T11:17:56.590Z"
   },
   {
    "duration": 3,
    "start_time": "2023-02-09T11:18:11.358Z"
   },
   {
    "duration": 15,
    "start_time": "2023-02-09T11:18:12.904Z"
   },
   {
    "duration": 3,
    "start_time": "2023-02-09T11:20:59.766Z"
   },
   {
    "duration": 3,
    "start_time": "2023-02-09T11:21:20.796Z"
   },
   {
    "duration": 15,
    "start_time": "2023-02-09T11:21:28.734Z"
   },
   {
    "duration": 89,
    "start_time": "2023-02-09T11:21:48.193Z"
   },
   {
    "duration": 3,
    "start_time": "2023-02-09T11:23:13.910Z"
   },
   {
    "duration": 3,
    "start_time": "2023-02-09T11:23:14.351Z"
   },
   {
    "duration": 17,
    "start_time": "2023-02-09T11:23:14.793Z"
   },
   {
    "duration": 23,
    "start_time": "2023-02-09T11:23:15.388Z"
   },
   {
    "duration": 8,
    "start_time": "2023-02-09T11:37:50.598Z"
   },
   {
    "duration": 12,
    "start_time": "2023-02-09T11:38:38.051Z"
   },
   {
    "duration": 11,
    "start_time": "2023-02-09T11:38:49.193Z"
   },
   {
    "duration": 11,
    "start_time": "2023-02-09T11:38:53.493Z"
   },
   {
    "duration": 3,
    "start_time": "2023-02-09T11:39:04.527Z"
   },
   {
    "duration": 1354,
    "start_time": "2023-02-09T11:39:20.010Z"
   },
   {
    "duration": 53,
    "start_time": "2023-02-09T11:39:29.107Z"
   },
   {
    "duration": 4,
    "start_time": "2023-02-09T11:40:37.860Z"
   },
   {
    "duration": 51,
    "start_time": "2023-02-09T11:40:47.874Z"
   },
   {
    "duration": 4,
    "start_time": "2023-02-09T11:42:26.707Z"
   },
   {
    "duration": 1273,
    "start_time": "2023-02-09T11:42:34.601Z"
   },
   {
    "duration": 58,
    "start_time": "2023-02-09T11:42:35.876Z"
   },
   {
    "duration": 3,
    "start_time": "2023-02-09T11:43:20.828Z"
   },
   {
    "duration": 2,
    "start_time": "2023-02-09T11:43:21.431Z"
   },
   {
    "duration": 23,
    "start_time": "2023-02-09T11:43:21.887Z"
   },
   {
    "duration": 84,
    "start_time": "2023-02-09T11:43:22.506Z"
   },
   {
    "duration": 60,
    "start_time": "2023-02-09T11:55:01.177Z"
   },
   {
    "duration": 10,
    "start_time": "2023-02-09T11:55:05.414Z"
   },
   {
    "duration": 4,
    "start_time": "2023-02-09T11:55:58.353Z"
   },
   {
    "duration": 3,
    "start_time": "2023-02-09T11:56:03.764Z"
   },
   {
    "duration": 717,
    "start_time": "2023-02-09T11:56:09.838Z"
   },
   {
    "duration": 115,
    "start_time": "2023-02-09T11:56:20.078Z"
   },
   {
    "duration": 3,
    "start_time": "2023-02-09T11:56:49.961Z"
   },
   {
    "duration": 623,
    "start_time": "2023-02-09T11:56:50.502Z"
   },
   {
    "duration": 102,
    "start_time": "2023-02-09T11:56:51.126Z"
   },
   {
    "duration": 53,
    "start_time": "2023-02-09T11:57:34.808Z"
   },
   {
    "duration": 7786,
    "start_time": "2023-02-09T11:59:13.375Z"
   },
   {
    "duration": 7937,
    "start_time": "2023-02-09T12:00:42.022Z"
   },
   {
    "duration": 4,
    "start_time": "2023-02-09T12:01:15.859Z"
   },
   {
    "duration": 7686,
    "start_time": "2023-02-09T12:01:49.565Z"
   },
   {
    "duration": 7848,
    "start_time": "2023-02-09T12:03:30.960Z"
   },
   {
    "duration": 4,
    "start_time": "2023-02-09T12:03:53.572Z"
   },
   {
    "duration": 4,
    "start_time": "2023-02-09T12:04:42.097Z"
   },
   {
    "duration": 3,
    "start_time": "2023-02-09T12:05:25.215Z"
   },
   {
    "duration": 7712,
    "start_time": "2023-02-09T12:06:50.981Z"
   },
   {
    "duration": 3,
    "start_time": "2023-02-09T12:07:07.394Z"
   },
   {
    "duration": 3,
    "start_time": "2023-02-09T12:07:29.900Z"
   },
   {
    "duration": 4,
    "start_time": "2023-02-09T12:09:06.526Z"
   },
   {
    "duration": 4,
    "start_time": "2023-02-09T12:09:14.693Z"
   },
   {
    "duration": 3,
    "start_time": "2023-02-09T12:09:16.429Z"
   },
   {
    "duration": 23138,
    "start_time": "2023-02-09T12:11:42.293Z"
   },
   {
    "duration": 49378,
    "start_time": "2023-02-09T12:12:42.357Z"
   },
   {
    "duration": 1447,
    "start_time": "2023-02-09T12:14:02.080Z"
   },
   {
    "duration": 2456,
    "start_time": "2023-02-09T12:14:37.070Z"
   },
   {
    "duration": 33,
    "start_time": "2023-02-09T12:15:55.171Z"
   },
   {
    "duration": 22858,
    "start_time": "2023-02-09T12:16:12.310Z"
   },
   {
    "duration": 10193,
    "start_time": "2023-02-09T12:16:55.840Z"
   },
   {
    "duration": 5,
    "start_time": "2023-02-09T12:17:56.871Z"
   },
   {
    "duration": 5382,
    "start_time": "2023-02-09T12:18:07.955Z"
   },
   {
    "duration": 5473,
    "start_time": "2023-02-09T12:19:02.866Z"
   },
   {
    "duration": 4,
    "start_time": "2023-02-09T12:47:51.197Z"
   },
   {
    "duration": 3,
    "start_time": "2023-02-09T12:47:51.804Z"
   },
   {
    "duration": 8121,
    "start_time": "2023-02-09T12:48:06.021Z"
   },
   {
    "duration": 7774,
    "start_time": "2023-02-09T12:49:00.752Z"
   },
   {
    "duration": 7786,
    "start_time": "2023-02-09T12:49:57.815Z"
   },
   {
    "duration": 23,
    "start_time": "2023-02-09T12:51:29.239Z"
   },
   {
    "duration": 10312,
    "start_time": "2023-02-09T12:51:39.692Z"
   },
   {
    "duration": 64,
    "start_time": "2023-02-09T12:54:20.353Z"
   },
   {
    "duration": 50,
    "start_time": "2023-02-09T12:54:28.203Z"
   },
   {
    "duration": 87,
    "start_time": "2023-02-09T12:54:33.626Z"
   },
   {
    "duration": 75,
    "start_time": "2023-02-09T12:54:45.197Z"
   },
   {
    "duration": 55,
    "start_time": "2023-02-09T12:54:49.101Z"
   },
   {
    "duration": 10386,
    "start_time": "2023-02-09T12:55:03.151Z"
   },
   {
    "duration": 10133,
    "start_time": "2023-02-09T12:55:36.465Z"
   },
   {
    "duration": 4,
    "start_time": "2023-02-09T12:56:25.105Z"
   },
   {
    "duration": 10,
    "start_time": "2023-02-09T12:58:20.433Z"
   },
   {
    "duration": 3,
    "start_time": "2023-02-09T12:58:25.350Z"
   },
   {
    "duration": 1169,
    "start_time": "2023-02-09T15:45:43.189Z"
   },
   {
    "duration": 40,
    "start_time": "2023-02-09T15:45:44.360Z"
   },
   {
    "duration": 22,
    "start_time": "2023-02-09T15:45:44.402Z"
   },
   {
    "duration": 14,
    "start_time": "2023-02-09T15:45:44.427Z"
   },
   {
    "duration": 12,
    "start_time": "2023-02-09T15:45:44.444Z"
   },
   {
    "duration": 28,
    "start_time": "2023-02-09T15:45:44.458Z"
   },
   {
    "duration": 20,
    "start_time": "2023-02-09T15:45:44.488Z"
   },
   {
    "duration": 28,
    "start_time": "2023-02-09T15:45:44.509Z"
   },
   {
    "duration": 24,
    "start_time": "2023-02-09T15:45:44.539Z"
   },
   {
    "duration": 27,
    "start_time": "2023-02-09T15:45:44.565Z"
   },
   {
    "duration": 19,
    "start_time": "2023-02-09T15:45:44.594Z"
   },
   {
    "duration": 22,
    "start_time": "2023-02-09T15:45:44.615Z"
   },
   {
    "duration": 23,
    "start_time": "2023-02-09T15:45:44.638Z"
   },
   {
    "duration": 17,
    "start_time": "2023-02-09T15:45:44.664Z"
   },
   {
    "duration": 60,
    "start_time": "2023-02-09T15:45:44.683Z"
   },
   {
    "duration": 579,
    "start_time": "2023-02-09T15:45:44.744Z"
   },
   {
    "duration": 41,
    "start_time": "2023-02-09T15:45:45.325Z"
   },
   {
    "duration": 15,
    "start_time": "2023-02-09T15:45:45.368Z"
   },
   {
    "duration": 37,
    "start_time": "2023-02-09T15:45:45.385Z"
   },
   {
    "duration": 36,
    "start_time": "2023-02-09T15:45:45.424Z"
   },
   {
    "duration": 26,
    "start_time": "2023-02-09T15:45:45.462Z"
   },
   {
    "duration": 23,
    "start_time": "2023-02-09T15:45:45.490Z"
   },
   {
    "duration": 19,
    "start_time": "2023-02-09T15:45:45.515Z"
   },
   {
    "duration": 36,
    "start_time": "2023-02-09T15:45:45.536Z"
   },
   {
    "duration": 26,
    "start_time": "2023-02-09T15:45:45.574Z"
   },
   {
    "duration": 10,
    "start_time": "2023-02-09T15:45:45.602Z"
   },
   {
    "duration": 29,
    "start_time": "2023-02-09T15:45:45.614Z"
   },
   {
    "duration": 24,
    "start_time": "2023-02-09T15:45:45.645Z"
   },
   {
    "duration": 26,
    "start_time": "2023-02-09T15:45:45.671Z"
   },
   {
    "duration": 25,
    "start_time": "2023-02-09T15:45:45.699Z"
   },
   {
    "duration": 31,
    "start_time": "2023-02-09T15:45:45.726Z"
   },
   {
    "duration": 15,
    "start_time": "2023-02-09T15:45:45.759Z"
   },
   {
    "duration": 10,
    "start_time": "2023-02-09T15:45:45.776Z"
   },
   {
    "duration": 9,
    "start_time": "2023-02-09T15:45:45.787Z"
   },
   {
    "duration": 8,
    "start_time": "2023-02-09T15:45:45.798Z"
   },
   {
    "duration": 111,
    "start_time": "2023-02-09T15:45:45.808Z"
   },
   {
    "duration": 2,
    "start_time": "2023-02-09T15:45:45.922Z"
   },
   {
    "duration": 32,
    "start_time": "2023-02-09T15:45:45.926Z"
   },
   {
    "duration": 6,
    "start_time": "2023-02-09T15:45:45.959Z"
   },
   {
    "duration": 19,
    "start_time": "2023-02-09T15:45:45.966Z"
   },
   {
    "duration": 5,
    "start_time": "2023-02-09T15:45:45.989Z"
   },
   {
    "duration": 6,
    "start_time": "2023-02-09T15:45:45.996Z"
   },
   {
    "duration": 18,
    "start_time": "2023-02-09T15:45:46.003Z"
   },
   {
    "duration": 5,
    "start_time": "2023-02-09T15:45:46.022Z"
   },
   {
    "duration": 179,
    "start_time": "2023-02-09T15:45:46.028Z"
   },
   {
    "duration": 6,
    "start_time": "2023-02-09T15:45:46.209Z"
   },
   {
    "duration": 5,
    "start_time": "2023-02-09T15:45:46.217Z"
   },
   {
    "duration": 11,
    "start_time": "2023-02-09T15:45:46.223Z"
   },
   {
    "duration": 12,
    "start_time": "2023-02-09T15:45:46.236Z"
   },
   {
    "duration": 25,
    "start_time": "2023-02-09T15:45:46.251Z"
   },
   {
    "duration": 21,
    "start_time": "2023-02-09T15:45:46.278Z"
   },
   {
    "duration": 86,
    "start_time": "2023-02-09T15:45:46.301Z"
   },
   {
    "duration": 99,
    "start_time": "2023-02-09T15:45:46.389Z"
   },
   {
    "duration": 27,
    "start_time": "2023-02-09T15:45:46.490Z"
   },
   {
    "duration": 65,
    "start_time": "2023-02-09T15:45:46.521Z"
   },
   {
    "duration": 7612,
    "start_time": "2023-02-09T15:45:46.588Z"
   },
   {
    "duration": 9914,
    "start_time": "2023-02-09T15:45:54.202Z"
   },
   {
    "duration": 3,
    "start_time": "2023-02-09T15:46:04.119Z"
   },
   {
    "duration": 12,
    "start_time": "2023-02-09T15:51:20.968Z"
   },
   {
    "duration": 126,
    "start_time": "2023-02-09T15:54:31.672Z"
   },
   {
    "duration": 4,
    "start_time": "2023-02-09T15:54:35.678Z"
   },
   {
    "duration": 18,
    "start_time": "2023-02-09T15:54:36.268Z"
   },
   {
    "duration": 4,
    "start_time": "2023-02-09T15:54:51.936Z"
   },
   {
    "duration": 18,
    "start_time": "2023-02-09T15:55:01.400Z"
   },
   {
    "duration": 8,
    "start_time": "2023-02-09T15:55:13.433Z"
   },
   {
    "duration": 11,
    "start_time": "2023-02-09T15:55:39.288Z"
   },
   {
    "duration": 9,
    "start_time": "2023-02-09T15:56:46.610Z"
   },
   {
    "duration": 154,
    "start_time": "2023-02-09T15:59:34.429Z"
   },
   {
    "duration": 71,
    "start_time": "2023-02-09T15:59:56.126Z"
   },
   {
    "duration": 725,
    "start_time": "2023-02-09T16:01:11.527Z"
   },
   {
    "duration": 87,
    "start_time": "2023-02-09T16:01:43.783Z"
   },
   {
    "duration": 10630,
    "start_time": "2023-02-09T16:02:57.296Z"
   },
   {
    "duration": 12966,
    "start_time": "2023-02-09T16:03:45.409Z"
   },
   {
    "duration": 17178,
    "start_time": "2023-02-09T16:04:12.042Z"
   },
   {
    "duration": 3,
    "start_time": "2023-02-09T16:12:34.988Z"
   },
   {
    "duration": 11,
    "start_time": "2023-02-09T16:14:18.697Z"
   },
   {
    "duration": 5,
    "start_time": "2023-02-09T16:14:39.303Z"
   },
   {
    "duration": 45,
    "start_time": "2023-02-09T16:14:39.310Z"
   },
   {
    "duration": 13,
    "start_time": "2023-02-09T16:14:39.357Z"
   },
   {
    "duration": 15,
    "start_time": "2023-02-09T16:14:39.372Z"
   },
   {
    "duration": 4,
    "start_time": "2023-02-09T16:14:39.389Z"
   },
   {
    "duration": 20,
    "start_time": "2023-02-09T16:14:39.395Z"
   },
   {
    "duration": 22,
    "start_time": "2023-02-09T16:14:39.417Z"
   },
   {
    "duration": 5,
    "start_time": "2023-02-09T16:14:39.441Z"
   },
   {
    "duration": 6,
    "start_time": "2023-02-09T16:14:39.449Z"
   },
   {
    "duration": 6,
    "start_time": "2023-02-09T16:14:39.456Z"
   },
   {
    "duration": 8,
    "start_time": "2023-02-09T16:14:39.481Z"
   },
   {
    "duration": 7,
    "start_time": "2023-02-09T16:14:39.491Z"
   },
   {
    "duration": 6,
    "start_time": "2023-02-09T16:14:39.500Z"
   },
   {
    "duration": 5,
    "start_time": "2023-02-09T16:14:43.412Z"
   },
   {
    "duration": 5,
    "start_time": "2023-02-09T16:14:56.190Z"
   },
   {
    "duration": 36,
    "start_time": "2023-02-09T16:14:56.678Z"
   },
   {
    "duration": 255,
    "start_time": "2023-02-09T16:14:58.110Z"
   },
   {
    "duration": 35,
    "start_time": "2023-02-09T16:15:03.021Z"
   },
   {
    "duration": 6,
    "start_time": "2023-02-09T16:15:06.471Z"
   },
   {
    "duration": 10,
    "start_time": "2023-02-09T16:15:07.479Z"
   },
   {
    "duration": 13,
    "start_time": "2023-02-09T16:15:07.980Z"
   },
   {
    "duration": 5,
    "start_time": "2023-02-09T16:15:13.230Z"
   },
   {
    "duration": 3,
    "start_time": "2023-02-09T16:15:13.679Z"
   },
   {
    "duration": 6,
    "start_time": "2023-02-09T16:15:14.096Z"
   },
   {
    "duration": 6,
    "start_time": "2023-02-09T16:15:14.517Z"
   },
   {
    "duration": 5,
    "start_time": "2023-02-09T16:15:14.916Z"
   },
   {
    "duration": 4,
    "start_time": "2023-02-09T16:15:15.597Z"
   },
   {
    "duration": 4,
    "start_time": "2023-02-09T16:15:16.205Z"
   },
   {
    "duration": 5,
    "start_time": "2023-02-09T16:15:16.874Z"
   },
   {
    "duration": 5,
    "start_time": "2023-02-09T16:15:18.108Z"
   },
   {
    "duration": 3,
    "start_time": "2023-02-09T16:15:20.844Z"
   },
   {
    "duration": 11,
    "start_time": "2023-02-09T16:15:21.294Z"
   },
   {
    "duration": 15,
    "start_time": "2023-02-09T16:15:21.733Z"
   },
   {
    "duration": 11,
    "start_time": "2023-02-09T16:15:22.317Z"
   },
   {
    "duration": 11,
    "start_time": "2023-02-09T16:15:22.790Z"
   },
   {
    "duration": 9,
    "start_time": "2023-02-09T16:15:24.277Z"
   },
   {
    "duration": 134,
    "start_time": "2023-02-09T16:15:26.583Z"
   },
   {
    "duration": 3,
    "start_time": "2023-02-09T16:15:28.483Z"
   },
   {
    "duration": 41,
    "start_time": "2023-02-09T16:15:28.874Z"
   },
   {
    "duration": 6,
    "start_time": "2023-02-09T16:15:29.197Z"
   },
   {
    "duration": 5,
    "start_time": "2023-02-09T16:15:29.591Z"
   },
   {
    "duration": 8,
    "start_time": "2023-02-09T16:15:30.308Z"
   },
   {
    "duration": 3,
    "start_time": "2023-02-09T16:15:31.805Z"
   },
   {
    "duration": 18,
    "start_time": "2023-02-09T16:15:32.271Z"
   },
   {
    "duration": 15,
    "start_time": "2023-02-09T16:15:32.873Z"
   },
   {
    "duration": 5,
    "start_time": "2023-02-09T16:15:33.887Z"
   },
   {
    "duration": 7,
    "start_time": "2023-02-09T16:15:34.583Z"
   },
   {
    "duration": 4,
    "start_time": "2023-02-09T16:15:37.805Z"
   },
   {
    "duration": 3,
    "start_time": "2023-02-09T16:15:39.294Z"
   },
   {
    "duration": 3,
    "start_time": "2023-02-09T16:15:40.893Z"
   },
   {
    "duration": 17,
    "start_time": "2023-02-09T16:15:41.317Z"
   },
   {
    "duration": 62,
    "start_time": "2023-02-09T16:15:42.421Z"
   },
   {
    "duration": 3,
    "start_time": "2023-02-09T16:15:46.792Z"
   },
   {
    "duration": 3,
    "start_time": "2023-02-09T16:15:47.613Z"
   },
   {
    "duration": 18,
    "start_time": "2023-02-09T16:15:48.082Z"
   },
   {
    "duration": 15,
    "start_time": "2023-02-09T16:15:48.509Z"
   },
   {
    "duration": 8176,
    "start_time": "2023-02-09T16:15:58.014Z"
   },
   {
    "duration": 10608,
    "start_time": "2023-02-09T16:16:09.126Z"
   },
   {
    "duration": 4,
    "start_time": "2023-02-09T16:16:24.075Z"
   },
   {
    "duration": 11,
    "start_time": "2023-02-09T16:16:26.174Z"
   },
   {
    "duration": 4,
    "start_time": "2023-02-09T16:16:31.875Z"
   },
   {
    "duration": 12,
    "start_time": "2023-02-09T16:16:32.473Z"
   },
   {
    "duration": 8,
    "start_time": "2023-02-09T16:16:33.935Z"
   },
   {
    "duration": 39,
    "start_time": "2023-02-09T16:16:41.454Z"
   },
   {
    "duration": 835,
    "start_time": "2023-02-09T16:16:42.615Z"
   },
   {
    "duration": 131,
    "start_time": "2023-02-09T16:16:43.694Z"
   },
   {
    "duration": 10545,
    "start_time": "2023-02-09T16:16:49.095Z"
   },
   {
    "duration": 18891,
    "start_time": "2023-02-09T16:17:04.424Z"
   },
   {
    "duration": 1075,
    "start_time": "2023-02-09T16:21:10.990Z"
   },
   {
    "duration": 44,
    "start_time": "2023-02-09T16:21:12.067Z"
   },
   {
    "duration": 20,
    "start_time": "2023-02-09T16:21:12.113Z"
   },
   {
    "duration": 24,
    "start_time": "2023-02-09T16:21:12.136Z"
   },
   {
    "duration": 7,
    "start_time": "2023-02-09T16:21:12.162Z"
   },
   {
    "duration": 25,
    "start_time": "2023-02-09T16:21:12.171Z"
   },
   {
    "duration": 24,
    "start_time": "2023-02-09T16:21:12.198Z"
   },
   {
    "duration": 5,
    "start_time": "2023-02-09T16:21:12.224Z"
   },
   {
    "duration": 41,
    "start_time": "2023-02-09T16:21:12.231Z"
   },
   {
    "duration": 4,
    "start_time": "2023-02-09T16:21:12.275Z"
   },
   {
    "duration": 8,
    "start_time": "2023-02-09T16:21:12.280Z"
   },
   {
    "duration": 7,
    "start_time": "2023-02-09T16:21:12.289Z"
   },
   {
    "duration": 7,
    "start_time": "2023-02-09T16:21:12.297Z"
   },
   {
    "duration": 8,
    "start_time": "2023-02-09T16:21:12.306Z"
   },
   {
    "duration": 39,
    "start_time": "2023-02-09T16:21:12.316Z"
   },
   {
    "duration": 573,
    "start_time": "2023-02-09T16:21:12.357Z"
   },
   {
    "duration": 35,
    "start_time": "2023-02-09T16:21:12.932Z"
   },
   {
    "duration": 15,
    "start_time": "2023-02-09T16:21:12.968Z"
   },
   {
    "duration": 13,
    "start_time": "2023-02-09T16:21:12.985Z"
   },
   {
    "duration": 12,
    "start_time": "2023-02-09T16:21:12.999Z"
   },
   {
    "duration": 6,
    "start_time": "2023-02-09T16:21:13.012Z"
   },
   {
    "duration": 6,
    "start_time": "2023-02-09T16:21:13.019Z"
   },
   {
    "duration": 9,
    "start_time": "2023-02-09T16:21:13.027Z"
   },
   {
    "duration": 10,
    "start_time": "2023-02-09T16:21:13.038Z"
   },
   {
    "duration": 37,
    "start_time": "2023-02-09T16:21:13.049Z"
   },
   {
    "duration": 7,
    "start_time": "2023-02-09T16:21:13.088Z"
   },
   {
    "duration": 11,
    "start_time": "2023-02-09T16:21:13.096Z"
   },
   {
    "duration": 10,
    "start_time": "2023-02-09T16:21:13.111Z"
   },
   {
    "duration": 10,
    "start_time": "2023-02-09T16:21:13.123Z"
   },
   {
    "duration": 7,
    "start_time": "2023-02-09T16:21:13.135Z"
   },
   {
    "duration": 14,
    "start_time": "2023-02-09T16:21:13.143Z"
   },
   {
    "duration": 28,
    "start_time": "2023-02-09T16:21:13.159Z"
   },
   {
    "duration": 11,
    "start_time": "2023-02-09T16:21:13.189Z"
   },
   {
    "duration": 11,
    "start_time": "2023-02-09T16:21:13.201Z"
   },
   {
    "duration": 7,
    "start_time": "2023-02-09T16:21:13.214Z"
   },
   {
    "duration": 130,
    "start_time": "2023-02-09T16:21:13.223Z"
   },
   {
    "duration": 2,
    "start_time": "2023-02-09T16:21:13.355Z"
   },
   {
    "duration": 42,
    "start_time": "2023-02-09T16:21:13.359Z"
   },
   {
    "duration": 5,
    "start_time": "2023-02-09T16:21:13.403Z"
   },
   {
    "duration": 7,
    "start_time": "2023-02-09T16:21:13.409Z"
   },
   {
    "duration": 5,
    "start_time": "2023-02-09T16:21:13.417Z"
   },
   {
    "duration": 3,
    "start_time": "2023-02-09T16:21:13.424Z"
   },
   {
    "duration": 20,
    "start_time": "2023-02-09T16:21:13.429Z"
   },
   {
    "duration": 41,
    "start_time": "2023-02-09T16:21:13.450Z"
   },
   {
    "duration": 200,
    "start_time": "2023-02-09T16:21:13.492Z"
   },
   {
    "duration": 13,
    "start_time": "2023-02-09T16:21:13.695Z"
   },
   {
    "duration": 10,
    "start_time": "2023-02-09T16:21:13.710Z"
   },
   {
    "duration": 8,
    "start_time": "2023-02-09T16:21:13.723Z"
   },
   {
    "duration": 8,
    "start_time": "2023-02-09T16:21:13.733Z"
   },
   {
    "duration": 22,
    "start_time": "2023-02-09T16:21:13.742Z"
   },
   {
    "duration": 27,
    "start_time": "2023-02-09T16:21:13.766Z"
   },
   {
    "duration": 8,
    "start_time": "2023-02-09T16:21:13.882Z"
   },
   {
    "duration": 92,
    "start_time": "2023-02-09T16:21:13.891Z"
   },
   {
    "duration": 28,
    "start_time": "2023-02-09T16:21:13.984Z"
   },
   {
    "duration": 72,
    "start_time": "2023-02-09T16:21:14.014Z"
   },
   {
    "duration": 7916,
    "start_time": "2023-02-09T16:21:14.087Z"
   },
   {
    "duration": 10283,
    "start_time": "2023-02-09T16:21:22.005Z"
   },
   {
    "duration": 3,
    "start_time": "2023-02-09T16:21:32.290Z"
   },
   {
    "duration": 9,
    "start_time": "2023-02-09T16:21:32.295Z"
   },
   {
    "duration": 4,
    "start_time": "2023-02-09T16:21:32.306Z"
   },
   {
    "duration": 16,
    "start_time": "2023-02-09T16:21:32.312Z"
   },
   {
    "duration": 7,
    "start_time": "2023-02-09T16:21:32.330Z"
   },
   {
    "duration": 51,
    "start_time": "2023-02-09T16:21:32.338Z"
   },
   {
    "duration": 1013,
    "start_time": "2023-02-09T16:21:32.391Z"
   },
   {
    "duration": 109,
    "start_time": "2023-02-09T16:21:33.405Z"
   },
   {
    "duration": 10288,
    "start_time": "2023-02-09T16:21:33.516Z"
   },
   {
    "duration": 17402,
    "start_time": "2023-02-09T16:21:43.806Z"
   },
   {
    "duration": 842,
    "start_time": "2023-02-09T16:23:53.407Z"
   },
   {
    "duration": 1104,
    "start_time": "2023-02-09T16:25:48.890Z"
   },
   {
    "duration": 41,
    "start_time": "2023-02-09T16:25:49.995Z"
   },
   {
    "duration": 20,
    "start_time": "2023-02-09T16:25:50.038Z"
   },
   {
    "duration": 23,
    "start_time": "2023-02-09T16:25:50.060Z"
   },
   {
    "duration": 5,
    "start_time": "2023-02-09T16:25:50.085Z"
   },
   {
    "duration": 34,
    "start_time": "2023-02-09T16:25:50.092Z"
   },
   {
    "duration": 18,
    "start_time": "2023-02-09T16:25:50.128Z"
   },
   {
    "duration": 18,
    "start_time": "2023-02-09T16:25:50.148Z"
   },
   {
    "duration": 16,
    "start_time": "2023-02-09T16:25:50.168Z"
   },
   {
    "duration": 18,
    "start_time": "2023-02-09T16:25:50.188Z"
   },
   {
    "duration": 22,
    "start_time": "2023-02-09T16:25:50.207Z"
   },
   {
    "duration": 21,
    "start_time": "2023-02-09T16:25:50.230Z"
   },
   {
    "duration": 12,
    "start_time": "2023-02-09T16:25:50.253Z"
   },
   {
    "duration": 12,
    "start_time": "2023-02-09T16:25:50.266Z"
   },
   {
    "duration": 47,
    "start_time": "2023-02-09T16:25:50.280Z"
   },
   {
    "duration": 545,
    "start_time": "2023-02-09T16:25:50.329Z"
   },
   {
    "duration": 35,
    "start_time": "2023-02-09T16:25:50.881Z"
   },
   {
    "duration": 4,
    "start_time": "2023-02-09T16:25:50.918Z"
   },
   {
    "duration": 13,
    "start_time": "2023-02-09T16:25:50.924Z"
   },
   {
    "duration": 15,
    "start_time": "2023-02-09T16:25:50.939Z"
   },
   {
    "duration": 27,
    "start_time": "2023-02-09T16:25:50.956Z"
   },
   {
    "duration": 3,
    "start_time": "2023-02-09T16:25:50.985Z"
   },
   {
    "duration": 10,
    "start_time": "2023-02-09T16:25:50.989Z"
   },
   {
    "duration": 9,
    "start_time": "2023-02-09T16:25:51.000Z"
   },
   {
    "duration": 5,
    "start_time": "2023-02-09T16:25:51.011Z"
   },
   {
    "duration": 5,
    "start_time": "2023-02-09T16:25:51.018Z"
   },
   {
    "duration": 11,
    "start_time": "2023-02-09T16:25:51.025Z"
   },
   {
    "duration": 5,
    "start_time": "2023-02-09T16:25:51.040Z"
   },
   {
    "duration": 7,
    "start_time": "2023-02-09T16:25:51.046Z"
   },
   {
    "duration": 4,
    "start_time": "2023-02-09T16:25:51.081Z"
   },
   {
    "duration": 20,
    "start_time": "2023-02-09T16:25:51.087Z"
   },
   {
    "duration": 19,
    "start_time": "2023-02-09T16:25:51.108Z"
   },
   {
    "duration": 15,
    "start_time": "2023-02-09T16:25:51.129Z"
   },
   {
    "duration": 9,
    "start_time": "2023-02-09T16:25:51.146Z"
   },
   {
    "duration": 26,
    "start_time": "2023-02-09T16:25:51.156Z"
   },
   {
    "duration": 107,
    "start_time": "2023-02-09T16:25:51.184Z"
   },
   {
    "duration": 3,
    "start_time": "2023-02-09T16:25:51.293Z"
   },
   {
    "duration": 47,
    "start_time": "2023-02-09T16:25:51.297Z"
   },
   {
    "duration": 5,
    "start_time": "2023-02-09T16:25:51.346Z"
   },
   {
    "duration": 7,
    "start_time": "2023-02-09T16:25:51.353Z"
   },
   {
    "duration": 9,
    "start_time": "2023-02-09T16:25:51.361Z"
   },
   {
    "duration": 2,
    "start_time": "2023-02-09T16:25:51.382Z"
   },
   {
    "duration": 23,
    "start_time": "2023-02-09T16:25:51.386Z"
   },
   {
    "duration": 14,
    "start_time": "2023-02-09T16:25:51.410Z"
   },
   {
    "duration": 8,
    "start_time": "2023-02-09T16:25:51.481Z"
   },
   {
    "duration": 8,
    "start_time": "2023-02-09T16:25:51.581Z"
   },
   {
    "duration": 19,
    "start_time": "2023-02-09T16:25:51.590Z"
   },
   {
    "duration": 6,
    "start_time": "2023-02-09T16:25:51.610Z"
   },
   {
    "duration": 5,
    "start_time": "2023-02-09T16:25:51.617Z"
   },
   {
    "duration": 50,
    "start_time": "2023-02-09T16:25:51.624Z"
   },
   {
    "duration": 16,
    "start_time": "2023-02-09T16:25:51.675Z"
   },
   {
    "duration": 189,
    "start_time": "2023-02-09T16:25:51.692Z"
   },
   {
    "duration": 3,
    "start_time": "2023-02-09T16:25:51.883Z"
   },
   {
    "duration": 27,
    "start_time": "2023-02-09T16:25:51.888Z"
   },
   {
    "duration": 69,
    "start_time": "2023-02-09T16:25:51.917Z"
   },
   {
    "duration": 8003,
    "start_time": "2023-02-09T16:25:51.988Z"
   },
   {
    "duration": 10564,
    "start_time": "2023-02-09T16:25:59.993Z"
   },
   {
    "duration": 644,
    "start_time": "2023-02-09T16:26:10.559Z"
   },
   {
    "duration": 7,
    "start_time": "2023-02-09T16:26:11.204Z"
   },
   {
    "duration": 13,
    "start_time": "2023-02-09T16:26:11.213Z"
   },
   {
    "duration": 21,
    "start_time": "2023-02-09T16:26:11.227Z"
   },
   {
    "duration": 7,
    "start_time": "2023-02-09T16:26:11.249Z"
   },
   {
    "duration": 36,
    "start_time": "2023-02-09T16:26:11.258Z"
   },
   {
    "duration": 271,
    "start_time": "2023-02-09T16:26:11.295Z"
   },
   {
    "duration": 10267,
    "start_time": "2023-02-09T16:26:11.567Z"
   },
   {
    "duration": 17583,
    "start_time": "2023-02-09T16:26:21.836Z"
   },
   {
    "duration": 1234,
    "start_time": "2023-02-09T16:26:39.420Z"
   },
   {
    "duration": 109,
    "start_time": "2023-02-09T16:27:11.124Z"
   },
   {
    "duration": 161,
    "start_time": "2023-02-09T16:27:25.525Z"
   },
   {
    "duration": 6,
    "start_time": "2023-02-09T16:34:31.541Z"
   },
   {
    "duration": 69,
    "start_time": "2023-02-09T16:34:31.549Z"
   },
   {
    "duration": 13,
    "start_time": "2023-02-09T16:34:31.620Z"
   },
   {
    "duration": 35,
    "start_time": "2023-02-09T16:34:31.636Z"
   },
   {
    "duration": 22,
    "start_time": "2023-02-09T16:34:31.673Z"
   },
   {
    "duration": 37,
    "start_time": "2023-02-09T16:34:31.697Z"
   },
   {
    "duration": 21,
    "start_time": "2023-02-09T16:34:31.736Z"
   },
   {
    "duration": 19,
    "start_time": "2023-02-09T16:34:31.759Z"
   },
   {
    "duration": 22,
    "start_time": "2023-02-09T16:34:31.781Z"
   },
   {
    "duration": 37,
    "start_time": "2023-02-09T16:34:31.805Z"
   },
   {
    "duration": 39,
    "start_time": "2023-02-09T16:34:31.844Z"
   },
   {
    "duration": 26,
    "start_time": "2023-02-09T16:34:31.885Z"
   },
   {
    "duration": 10,
    "start_time": "2023-02-09T16:34:31.913Z"
   },
   {
    "duration": 6,
    "start_time": "2023-02-09T16:34:31.925Z"
   },
   {
    "duration": 52,
    "start_time": "2023-02-09T16:34:31.934Z"
   },
   {
    "duration": 272,
    "start_time": "2023-02-09T16:34:31.989Z"
   },
   {
    "duration": 43,
    "start_time": "2023-02-09T16:34:32.263Z"
   },
   {
    "duration": 4,
    "start_time": "2023-02-09T16:34:32.308Z"
   },
   {
    "duration": 15,
    "start_time": "2023-02-09T16:34:32.314Z"
   },
   {
    "duration": 14,
    "start_time": "2023-02-09T16:34:32.331Z"
   },
   {
    "duration": 5,
    "start_time": "2023-02-09T16:34:32.347Z"
   },
   {
    "duration": 29,
    "start_time": "2023-02-09T16:34:32.353Z"
   },
   {
    "duration": 8,
    "start_time": "2023-02-09T16:34:32.384Z"
   },
   {
    "duration": 5,
    "start_time": "2023-02-09T16:34:32.396Z"
   },
   {
    "duration": 6,
    "start_time": "2023-02-09T16:34:32.403Z"
   },
   {
    "duration": 7,
    "start_time": "2023-02-09T16:34:32.411Z"
   },
   {
    "duration": 7,
    "start_time": "2023-02-09T16:34:32.420Z"
   },
   {
    "duration": 7,
    "start_time": "2023-02-09T16:34:32.429Z"
   },
   {
    "duration": 43,
    "start_time": "2023-02-09T16:34:32.438Z"
   },
   {
    "duration": 3,
    "start_time": "2023-02-09T16:34:32.484Z"
   },
   {
    "duration": 22,
    "start_time": "2023-02-09T16:34:32.489Z"
   },
   {
    "duration": 17,
    "start_time": "2023-02-09T16:34:32.513Z"
   },
   {
    "duration": 11,
    "start_time": "2023-02-09T16:34:32.532Z"
   },
   {
    "duration": 9,
    "start_time": "2023-02-09T16:34:32.545Z"
   },
   {
    "duration": 8,
    "start_time": "2023-02-09T16:34:32.580Z"
   },
   {
    "duration": 123,
    "start_time": "2023-02-09T16:34:32.590Z"
   },
   {
    "duration": 4,
    "start_time": "2023-02-09T16:34:32.716Z"
   },
   {
    "duration": 59,
    "start_time": "2023-02-09T16:34:32.722Z"
   },
   {
    "duration": 9,
    "start_time": "2023-02-09T16:34:32.783Z"
   },
   {
    "duration": 7,
    "start_time": "2023-02-09T16:34:32.794Z"
   },
   {
    "duration": 8,
    "start_time": "2023-02-09T16:34:32.803Z"
   },
   {
    "duration": 3,
    "start_time": "2023-02-09T16:34:32.813Z"
   },
   {
    "duration": 25,
    "start_time": "2023-02-09T16:34:32.818Z"
   },
   {
    "duration": 50,
    "start_time": "2023-02-09T16:34:32.845Z"
   },
   {
    "duration": 192,
    "start_time": "2023-02-09T16:34:32.897Z"
   },
   {
    "duration": 6,
    "start_time": "2023-02-09T16:34:33.091Z"
   },
   {
    "duration": 3,
    "start_time": "2023-02-09T16:34:33.099Z"
   },
   {
    "duration": 698,
    "start_time": "2023-02-09T16:34:33.104Z"
   },
   {
    "duration": 54,
    "start_time": "2023-02-09T16:34:33.804Z"
   },
   {
    "duration": 22,
    "start_time": "2023-02-09T16:34:33.859Z"
   },
   {
    "duration": 12,
    "start_time": "2023-02-09T16:34:33.883Z"
   },
   {
    "duration": 73,
    "start_time": "2023-02-09T16:41:22.678Z"
   },
   {
    "duration": 63,
    "start_time": "2023-02-09T16:42:26.628Z"
   },
   {
    "duration": 108,
    "start_time": "2023-02-09T16:49:32.330Z"
   },
   {
    "duration": 57,
    "start_time": "2023-02-09T16:50:20.660Z"
   },
   {
    "duration": 7,
    "start_time": "2023-02-09T16:51:28.885Z"
   },
   {
    "duration": 6,
    "start_time": "2023-02-09T16:51:39.717Z"
   },
   {
    "duration": 43,
    "start_time": "2023-02-09T16:55:40.786Z"
   },
   {
    "duration": 14,
    "start_time": "2023-02-09T16:57:22.892Z"
   },
   {
    "duration": 9,
    "start_time": "2023-02-09T16:57:30.064Z"
   },
   {
    "duration": 1107,
    "start_time": "2023-02-09T16:58:39.996Z"
   },
   {
    "duration": 42,
    "start_time": "2023-02-09T16:58:41.105Z"
   },
   {
    "duration": 19,
    "start_time": "2023-02-09T16:58:41.149Z"
   },
   {
    "duration": 12,
    "start_time": "2023-02-09T16:58:41.170Z"
   },
   {
    "duration": 4,
    "start_time": "2023-02-09T16:58:41.184Z"
   },
   {
    "duration": 18,
    "start_time": "2023-02-09T16:58:41.189Z"
   },
   {
    "duration": 11,
    "start_time": "2023-02-09T16:58:41.209Z"
   },
   {
    "duration": 5,
    "start_time": "2023-02-09T16:58:41.222Z"
   },
   {
    "duration": 7,
    "start_time": "2023-02-09T16:58:41.228Z"
   },
   {
    "duration": 5,
    "start_time": "2023-02-09T16:58:41.238Z"
   },
   {
    "duration": 9,
    "start_time": "2023-02-09T16:58:41.245Z"
   },
   {
    "duration": 31,
    "start_time": "2023-02-09T16:58:41.255Z"
   },
   {
    "duration": 6,
    "start_time": "2023-02-09T16:58:41.288Z"
   },
   {
    "duration": 12,
    "start_time": "2023-02-09T16:58:41.296Z"
   },
   {
    "duration": 42,
    "start_time": "2023-02-09T16:58:41.309Z"
   },
   {
    "duration": 592,
    "start_time": "2023-02-09T16:58:41.352Z"
   },
   {
    "duration": 47,
    "start_time": "2023-02-09T16:58:41.946Z"
   },
   {
    "duration": 5,
    "start_time": "2023-02-09T16:58:41.995Z"
   },
   {
    "duration": 13,
    "start_time": "2023-02-09T16:58:42.002Z"
   },
   {
    "duration": 12,
    "start_time": "2023-02-09T16:58:42.017Z"
   },
   {
    "duration": 6,
    "start_time": "2023-02-09T16:58:42.032Z"
   },
   {
    "duration": 5,
    "start_time": "2023-02-09T16:58:42.040Z"
   },
   {
    "duration": 38,
    "start_time": "2023-02-09T16:58:42.047Z"
   },
   {
    "duration": 5,
    "start_time": "2023-02-09T16:58:42.087Z"
   },
   {
    "duration": 5,
    "start_time": "2023-02-09T16:58:42.094Z"
   },
   {
    "duration": 6,
    "start_time": "2023-02-09T16:58:42.101Z"
   },
   {
    "duration": 5,
    "start_time": "2023-02-09T16:58:42.109Z"
   },
   {
    "duration": 11,
    "start_time": "2023-02-09T16:58:42.119Z"
   },
   {
    "duration": 10,
    "start_time": "2023-02-09T16:58:42.132Z"
   },
   {
    "duration": 15,
    "start_time": "2023-02-09T16:58:42.143Z"
   },
   {
    "duration": 28,
    "start_time": "2023-02-09T16:58:42.160Z"
   },
   {
    "duration": 15,
    "start_time": "2023-02-09T16:58:42.190Z"
   },
   {
    "duration": 11,
    "start_time": "2023-02-09T16:58:42.207Z"
   },
   {
    "duration": 11,
    "start_time": "2023-02-09T16:58:42.220Z"
   },
   {
    "duration": 7,
    "start_time": "2023-02-09T16:58:42.233Z"
   },
   {
    "duration": 144,
    "start_time": "2023-02-09T16:58:42.241Z"
   },
   {
    "duration": 3,
    "start_time": "2023-02-09T16:58:42.387Z"
   },
   {
    "duration": 35,
    "start_time": "2023-02-09T16:58:42.392Z"
   },
   {
    "duration": 6,
    "start_time": "2023-02-09T16:58:42.429Z"
   },
   {
    "duration": 7,
    "start_time": "2023-02-09T16:58:42.436Z"
   },
   {
    "duration": 6,
    "start_time": "2023-02-09T16:58:42.444Z"
   },
   {
    "duration": 30,
    "start_time": "2023-02-09T16:58:42.452Z"
   },
   {
    "duration": 20,
    "start_time": "2023-02-09T16:58:42.484Z"
   },
   {
    "duration": 82,
    "start_time": "2023-02-09T16:58:42.506Z"
   },
   {
    "duration": 100,
    "start_time": "2023-02-09T16:58:42.590Z"
   },
   {
    "duration": 6,
    "start_time": "2023-02-09T16:58:42.691Z"
   },
   {
    "duration": 5,
    "start_time": "2023-02-09T16:58:42.698Z"
   },
   {
    "duration": 667,
    "start_time": "2023-02-09T16:58:42.704Z"
   },
   {
    "duration": 58,
    "start_time": "2023-02-09T16:58:43.373Z"
   },
   {
    "duration": 6,
    "start_time": "2023-02-09T16:58:43.433Z"
   },
   {
    "duration": 11,
    "start_time": "2023-02-09T16:58:43.441Z"
   },
   {
    "duration": 6,
    "start_time": "2023-02-09T16:58:43.454Z"
   },
   {
    "duration": 23,
    "start_time": "2023-02-09T16:58:43.462Z"
   },
   {
    "duration": 10,
    "start_time": "2023-02-09T16:58:43.487Z"
   },
   {
    "duration": 23,
    "start_time": "2023-02-09T16:58:43.499Z"
   },
   {
    "duration": 159,
    "start_time": "2023-02-09T16:58:43.524Z"
   },
   {
    "duration": 2,
    "start_time": "2023-02-09T16:58:43.686Z"
   },
   {
    "duration": 97,
    "start_time": "2023-02-09T16:58:43.690Z"
   },
   {
    "duration": 19,
    "start_time": "2023-02-09T16:58:43.789Z"
   },
   {
    "duration": 78,
    "start_time": "2023-02-09T16:58:43.810Z"
   },
   {
    "duration": 8138,
    "start_time": "2023-02-09T16:58:43.890Z"
   },
   {
    "duration": 10828,
    "start_time": "2023-02-09T16:58:52.030Z"
   },
   {
    "duration": 603,
    "start_time": "2023-02-09T16:59:02.860Z"
   },
   {
    "duration": 7,
    "start_time": "2023-02-09T16:59:03.465Z"
   },
   {
    "duration": 68,
    "start_time": "2023-02-09T16:59:03.474Z"
   },
   {
    "duration": 58,
    "start_time": "2023-02-09T16:59:03.544Z"
   },
   {
    "duration": 42,
    "start_time": "2023-02-09T16:59:03.603Z"
   },
   {
    "duration": 103,
    "start_time": "2023-02-09T16:59:03.647Z"
   },
   {
    "duration": 237,
    "start_time": "2023-02-09T16:59:03.752Z"
   },
   {
    "duration": 10514,
    "start_time": "2023-02-09T16:59:03.991Z"
   },
   {
    "duration": 18168,
    "start_time": "2023-02-09T16:59:14.507Z"
   },
   {
    "duration": 1302,
    "start_time": "2023-02-09T16:59:32.677Z"
   },
   {
    "duration": 113,
    "start_time": "2023-02-09T16:59:33.981Z"
   },
   {
    "duration": 166,
    "start_time": "2023-02-09T16:59:34.096Z"
   },
   {
    "duration": 57,
    "start_time": "2023-02-09T16:59:34.264Z"
   },
   {
    "duration": 6,
    "start_time": "2023-02-09T16:59:34.322Z"
   },
   {
    "duration": 6,
    "start_time": "2023-02-09T16:59:34.330Z"
   },
   {
    "duration": 15,
    "start_time": "2023-02-09T16:59:34.338Z"
   },
   {
    "duration": 1009,
    "start_time": "2023-02-09T16:59:34.354Z"
   },
   {
    "duration": 112,
    "start_time": "2023-02-09T16:59:35.364Z"
   },
   {
    "duration": 1098,
    "start_time": "2023-02-10T07:51:05.769Z"
   },
   {
    "duration": 53,
    "start_time": "2023-02-10T07:51:06.869Z"
   },
   {
    "duration": 27,
    "start_time": "2023-02-10T07:51:06.924Z"
   },
   {
    "duration": 16,
    "start_time": "2023-02-10T07:51:06.953Z"
   },
   {
    "duration": 5,
    "start_time": "2023-02-10T07:51:06.971Z"
   },
   {
    "duration": 20,
    "start_time": "2023-02-10T07:51:06.993Z"
   },
   {
    "duration": 17,
    "start_time": "2023-02-10T07:51:07.016Z"
   },
   {
    "duration": 5,
    "start_time": "2023-02-10T07:51:07.035Z"
   },
   {
    "duration": 13,
    "start_time": "2023-02-10T07:51:07.042Z"
   },
   {
    "duration": 19,
    "start_time": "2023-02-10T07:51:07.057Z"
   },
   {
    "duration": 8,
    "start_time": "2023-02-10T07:51:07.078Z"
   },
   {
    "duration": 4,
    "start_time": "2023-02-10T07:51:13.314Z"
   },
   {
    "duration": 75,
    "start_time": "2023-02-10T07:51:31.546Z"
   },
   {
    "duration": 1197,
    "start_time": "2023-02-12T08:02:25.202Z"
   },
   {
    "duration": 81,
    "start_time": "2023-02-12T08:02:26.401Z"
   },
   {
    "duration": 23,
    "start_time": "2023-02-12T08:02:26.484Z"
   },
   {
    "duration": 16,
    "start_time": "2023-02-12T08:02:26.509Z"
   },
   {
    "duration": 5,
    "start_time": "2023-02-12T08:02:26.527Z"
   },
   {
    "duration": 19,
    "start_time": "2023-02-12T08:02:26.534Z"
   },
   {
    "duration": 13,
    "start_time": "2023-02-12T08:02:26.554Z"
   },
   {
    "duration": 6,
    "start_time": "2023-02-12T08:02:26.569Z"
   },
   {
    "duration": 7,
    "start_time": "2023-02-12T08:02:26.577Z"
   },
   {
    "duration": 5,
    "start_time": "2023-02-12T08:02:26.586Z"
   },
   {
    "duration": 9,
    "start_time": "2023-02-12T08:02:26.592Z"
   },
   {
    "duration": 42,
    "start_time": "2023-02-12T08:02:26.603Z"
   },
   {
    "duration": 6,
    "start_time": "2023-02-12T08:02:26.646Z"
   },
   {
    "duration": 7,
    "start_time": "2023-02-12T08:02:26.653Z"
   },
   {
    "duration": 34,
    "start_time": "2023-02-12T08:02:26.662Z"
   },
   {
    "duration": 776,
    "start_time": "2023-02-12T08:02:26.697Z"
   },
   {
    "duration": 36,
    "start_time": "2023-02-12T08:02:27.476Z"
   },
   {
    "duration": 4,
    "start_time": "2023-02-12T08:02:27.514Z"
   },
   {
    "duration": 30,
    "start_time": "2023-02-12T08:02:27.519Z"
   },
   {
    "duration": 12,
    "start_time": "2023-02-12T08:02:27.551Z"
   },
   {
    "duration": 4,
    "start_time": "2023-02-12T08:02:27.565Z"
   },
   {
    "duration": 5,
    "start_time": "2023-02-12T08:02:27.571Z"
   },
   {
    "duration": 7,
    "start_time": "2023-02-12T08:02:27.578Z"
   },
   {
    "duration": 6,
    "start_time": "2023-02-12T08:02:27.587Z"
   },
   {
    "duration": 4,
    "start_time": "2023-02-12T08:02:27.594Z"
   },
   {
    "duration": 41,
    "start_time": "2023-02-12T08:02:27.600Z"
   },
   {
    "duration": 4,
    "start_time": "2023-02-12T08:02:27.643Z"
   },
   {
    "duration": 5,
    "start_time": "2023-02-12T08:02:27.651Z"
   },
   {
    "duration": 5,
    "start_time": "2023-02-12T08:02:27.658Z"
   },
   {
    "duration": 4,
    "start_time": "2023-02-12T08:02:27.665Z"
   },
   {
    "duration": 13,
    "start_time": "2023-02-12T08:02:27.670Z"
   },
   {
    "duration": 15,
    "start_time": "2023-02-12T08:02:27.685Z"
   },
   {
    "duration": 44,
    "start_time": "2023-02-12T08:02:27.702Z"
   },
   {
    "duration": 14,
    "start_time": "2023-02-12T08:02:27.748Z"
   },
   {
    "duration": 7,
    "start_time": "2023-02-12T08:02:27.764Z"
   },
   {
    "duration": 145,
    "start_time": "2023-02-12T08:02:27.773Z"
   },
   {
    "duration": 72,
    "start_time": "2023-02-12T08:02:27.919Z"
   },
   {
    "duration": 0,
    "start_time": "2023-02-12T08:02:27.993Z"
   },
   {
    "duration": 0,
    "start_time": "2023-02-12T08:02:27.994Z"
   },
   {
    "duration": 0,
    "start_time": "2023-02-12T08:02:27.996Z"
   },
   {
    "duration": 0,
    "start_time": "2023-02-12T08:02:27.997Z"
   },
   {
    "duration": 0,
    "start_time": "2023-02-12T08:02:27.998Z"
   },
   {
    "duration": 0,
    "start_time": "2023-02-12T08:02:28.000Z"
   },
   {
    "duration": 0,
    "start_time": "2023-02-12T08:02:28.002Z"
   },
   {
    "duration": 0,
    "start_time": "2023-02-12T08:02:28.003Z"
   },
   {
    "duration": 0,
    "start_time": "2023-02-12T08:02:28.005Z"
   },
   {
    "duration": 0,
    "start_time": "2023-02-12T08:02:28.006Z"
   },
   {
    "duration": 0,
    "start_time": "2023-02-12T08:02:28.008Z"
   },
   {
    "duration": 0,
    "start_time": "2023-02-12T08:02:28.010Z"
   },
   {
    "duration": 0,
    "start_time": "2023-02-12T08:02:28.011Z"
   },
   {
    "duration": 0,
    "start_time": "2023-02-12T08:02:28.013Z"
   },
   {
    "duration": 0,
    "start_time": "2023-02-12T08:02:28.015Z"
   },
   {
    "duration": 0,
    "start_time": "2023-02-12T08:02:28.016Z"
   },
   {
    "duration": 0,
    "start_time": "2023-02-12T08:02:28.017Z"
   },
   {
    "duration": 0,
    "start_time": "2023-02-12T08:02:28.018Z"
   },
   {
    "duration": 0,
    "start_time": "2023-02-12T08:02:28.020Z"
   },
   {
    "duration": 0,
    "start_time": "2023-02-12T08:02:28.021Z"
   },
   {
    "duration": 5,
    "start_time": "2023-02-12T08:02:52.313Z"
   },
   {
    "duration": 61,
    "start_time": "2023-02-12T08:02:52.320Z"
   },
   {
    "duration": 13,
    "start_time": "2023-02-12T08:02:52.383Z"
   },
   {
    "duration": 17,
    "start_time": "2023-02-12T08:02:52.398Z"
   },
   {
    "duration": 4,
    "start_time": "2023-02-12T08:02:52.417Z"
   },
   {
    "duration": 20,
    "start_time": "2023-02-12T08:02:52.423Z"
   },
   {
    "duration": 14,
    "start_time": "2023-02-12T08:02:52.445Z"
   },
   {
    "duration": 5,
    "start_time": "2023-02-12T08:02:52.461Z"
   },
   {
    "duration": 10,
    "start_time": "2023-02-12T08:02:52.468Z"
   },
   {
    "duration": 6,
    "start_time": "2023-02-12T08:02:52.479Z"
   },
   {
    "duration": 15,
    "start_time": "2023-02-12T08:02:52.488Z"
   },
   {
    "duration": 5,
    "start_time": "2023-02-12T08:02:52.505Z"
   },
   {
    "duration": 29,
    "start_time": "2023-02-12T08:02:52.511Z"
   },
   {
    "duration": 5,
    "start_time": "2023-02-12T08:02:52.542Z"
   },
   {
    "duration": 35,
    "start_time": "2023-02-12T08:02:52.548Z"
   },
   {
    "duration": 276,
    "start_time": "2023-02-12T08:02:52.584Z"
   },
   {
    "duration": 33,
    "start_time": "2023-02-12T08:02:52.862Z"
   },
   {
    "duration": 4,
    "start_time": "2023-02-12T08:02:52.897Z"
   },
   {
    "duration": 13,
    "start_time": "2023-02-12T08:02:52.902Z"
   },
   {
    "duration": 36,
    "start_time": "2023-02-12T08:02:52.916Z"
   },
   {
    "duration": 8,
    "start_time": "2023-02-12T08:02:52.954Z"
   },
   {
    "duration": 18,
    "start_time": "2023-02-12T08:02:52.964Z"
   },
   {
    "duration": 9,
    "start_time": "2023-02-12T08:02:52.985Z"
   },
   {
    "duration": 12,
    "start_time": "2023-02-12T08:02:52.996Z"
   },
   {
    "duration": 8,
    "start_time": "2023-02-12T08:02:53.010Z"
   },
   {
    "duration": 9,
    "start_time": "2023-02-12T08:02:53.019Z"
   },
   {
    "duration": 13,
    "start_time": "2023-02-12T08:02:53.029Z"
   },
   {
    "duration": 5,
    "start_time": "2023-02-12T08:02:53.044Z"
   },
   {
    "duration": 7,
    "start_time": "2023-02-12T08:02:53.053Z"
   },
   {
    "duration": 4,
    "start_time": "2023-02-12T08:02:53.061Z"
   },
   {
    "duration": 11,
    "start_time": "2023-02-12T08:02:53.066Z"
   },
   {
    "duration": 17,
    "start_time": "2023-02-12T08:02:53.079Z"
   },
   {
    "duration": 10,
    "start_time": "2023-02-12T08:02:53.098Z"
   },
   {
    "duration": 10,
    "start_time": "2023-02-12T08:02:53.142Z"
   },
   {
    "duration": 101,
    "start_time": "2023-02-12T08:02:53.154Z"
   },
   {
    "duration": 118,
    "start_time": "2023-02-12T08:02:53.257Z"
   },
   {
    "duration": 4,
    "start_time": "2023-02-12T08:02:53.377Z"
   },
   {
    "duration": 5,
    "start_time": "2023-02-12T08:02:53.383Z"
   },
   {
    "duration": 7,
    "start_time": "2023-02-12T08:02:53.390Z"
   },
   {
    "duration": 45,
    "start_time": "2023-02-12T08:02:53.399Z"
   },
   {
    "duration": 6,
    "start_time": "2023-02-12T08:02:53.446Z"
   },
   {
    "duration": 7,
    "start_time": "2023-02-12T08:02:53.454Z"
   },
   {
    "duration": 6,
    "start_time": "2023-02-12T08:02:53.463Z"
   },
   {
    "duration": 3,
    "start_time": "2023-02-12T08:02:53.472Z"
   },
   {
    "duration": 20,
    "start_time": "2023-02-12T08:02:53.477Z"
   },
   {
    "duration": 46,
    "start_time": "2023-02-12T08:02:53.499Z"
   },
   {
    "duration": 100,
    "start_time": "2023-02-12T08:02:53.548Z"
   },
   {
    "duration": 89,
    "start_time": "2023-02-12T08:02:53.651Z"
   },
   {
    "duration": 99,
    "start_time": "2023-02-12T08:02:53.742Z"
   },
   {
    "duration": 98,
    "start_time": "2023-02-12T08:02:53.846Z"
   },
   {
    "duration": 731,
    "start_time": "2023-02-12T08:02:53.946Z"
   },
   {
    "duration": 70,
    "start_time": "2023-02-12T08:02:54.679Z"
   },
   {
    "duration": 5,
    "start_time": "2023-02-12T08:02:54.752Z"
   },
   {
    "duration": 8,
    "start_time": "2023-02-12T08:02:54.759Z"
   },
   {
    "duration": 126,
    "start_time": "2023-02-12T08:02:54.769Z"
   },
   {
    "duration": 1251,
    "start_time": "2023-02-12T08:07:39.934Z"
   },
   {
    "duration": 39,
    "start_time": "2023-02-12T08:07:41.187Z"
   },
   {
    "duration": 31,
    "start_time": "2023-02-12T08:07:41.228Z"
   },
   {
    "duration": 15,
    "start_time": "2023-02-12T08:07:41.261Z"
   },
   {
    "duration": 4,
    "start_time": "2023-02-12T08:07:41.278Z"
   },
   {
    "duration": 19,
    "start_time": "2023-02-12T08:07:41.284Z"
   },
   {
    "duration": 37,
    "start_time": "2023-02-12T08:07:41.305Z"
   },
   {
    "duration": 11,
    "start_time": "2023-02-12T08:07:41.346Z"
   },
   {
    "duration": 12,
    "start_time": "2023-02-12T08:07:41.359Z"
   },
   {
    "duration": 5,
    "start_time": "2023-02-12T08:07:41.375Z"
   },
   {
    "duration": 6,
    "start_time": "2023-02-12T08:07:41.382Z"
   },
   {
    "duration": 6,
    "start_time": "2023-02-12T08:07:41.390Z"
   },
   {
    "duration": 5,
    "start_time": "2023-02-12T08:07:41.398Z"
   },
   {
    "duration": 38,
    "start_time": "2023-02-12T08:07:41.405Z"
   },
   {
    "duration": 37,
    "start_time": "2023-02-12T08:07:41.448Z"
   },
   {
    "duration": 629,
    "start_time": "2023-02-12T08:07:41.488Z"
   },
   {
    "duration": 58,
    "start_time": "2023-02-12T08:07:42.119Z"
   },
   {
    "duration": 5,
    "start_time": "2023-02-12T08:07:42.178Z"
   },
   {
    "duration": 12,
    "start_time": "2023-02-12T08:07:42.184Z"
   },
   {
    "duration": 11,
    "start_time": "2023-02-12T08:07:42.198Z"
   },
   {
    "duration": 5,
    "start_time": "2023-02-12T08:07:42.210Z"
   },
   {
    "duration": 5,
    "start_time": "2023-02-12T08:07:42.216Z"
   },
   {
    "duration": 19,
    "start_time": "2023-02-12T08:07:42.245Z"
   },
   {
    "duration": 7,
    "start_time": "2023-02-12T08:07:42.266Z"
   },
   {
    "duration": 8,
    "start_time": "2023-02-12T08:07:42.274Z"
   },
   {
    "duration": 6,
    "start_time": "2023-02-12T08:07:42.283Z"
   },
   {
    "duration": 8,
    "start_time": "2023-02-12T08:07:42.291Z"
   },
   {
    "duration": 5,
    "start_time": "2023-02-12T08:07:42.303Z"
   },
   {
    "duration": 7,
    "start_time": "2023-02-12T08:07:42.309Z"
   },
   {
    "duration": 40,
    "start_time": "2023-02-12T08:07:42.317Z"
   },
   {
    "duration": 23,
    "start_time": "2023-02-12T08:07:42.359Z"
   },
   {
    "duration": 15,
    "start_time": "2023-02-12T08:07:42.384Z"
   },
   {
    "duration": 11,
    "start_time": "2023-02-12T08:07:42.401Z"
   },
   {
    "duration": 9,
    "start_time": "2023-02-12T08:07:42.414Z"
   },
   {
    "duration": 26,
    "start_time": "2023-02-12T08:07:42.425Z"
   },
   {
    "duration": 130,
    "start_time": "2023-02-12T08:07:42.454Z"
   },
   {
    "duration": 4,
    "start_time": "2023-02-12T08:07:42.586Z"
   },
   {
    "duration": 6,
    "start_time": "2023-02-12T08:07:42.591Z"
   },
   {
    "duration": 7,
    "start_time": "2023-02-12T08:07:42.598Z"
   },
   {
    "duration": 58,
    "start_time": "2023-02-12T08:07:42.606Z"
   },
   {
    "duration": 7,
    "start_time": "2023-02-12T08:07:42.666Z"
   },
   {
    "duration": 7,
    "start_time": "2023-02-12T08:07:42.674Z"
   },
   {
    "duration": 7,
    "start_time": "2023-02-12T08:07:42.682Z"
   },
   {
    "duration": 3,
    "start_time": "2023-02-12T08:07:42.691Z"
   },
   {
    "duration": 21,
    "start_time": "2023-02-12T08:07:42.695Z"
   },
   {
    "duration": 103,
    "start_time": "2023-02-12T08:07:42.742Z"
   },
   {
    "duration": 103,
    "start_time": "2023-02-12T08:07:42.854Z"
   },
   {
    "duration": 8,
    "start_time": "2023-02-12T08:07:42.959Z"
   },
   {
    "duration": 78,
    "start_time": "2023-02-12T08:07:42.968Z"
   },
   {
    "duration": 5,
    "start_time": "2023-02-12T08:07:43.051Z"
   },
   {
    "duration": 898,
    "start_time": "2023-02-12T08:07:43.058Z"
   },
   {
    "duration": 119,
    "start_time": "2023-02-12T08:07:43.958Z"
   },
   {
    "duration": 3,
    "start_time": "2023-02-12T08:07:44.078Z"
   },
   {
    "duration": 19,
    "start_time": "2023-02-12T08:07:44.083Z"
   },
   {
    "duration": 60,
    "start_time": "2023-02-12T08:07:44.104Z"
   },
   {
    "duration": 117,
    "start_time": "2023-02-12T08:07:44.241Z"
   },
   {
    "duration": 7,
    "start_time": "2023-02-12T08:07:44.360Z"
   },
   {
    "duration": 42,
    "start_time": "2023-02-12T08:07:44.368Z"
   },
   {
    "duration": 133,
    "start_time": "2023-02-12T08:07:44.412Z"
   },
   {
    "duration": 9224,
    "start_time": "2023-02-12T08:07:44.547Z"
   },
   {
    "duration": 13286,
    "start_time": "2023-02-12T08:07:53.774Z"
   },
   {
    "duration": 667,
    "start_time": "2023-02-12T08:08:07.062Z"
   },
   {
    "duration": 15,
    "start_time": "2023-02-12T08:08:07.731Z"
   },
   {
    "duration": 7,
    "start_time": "2023-02-12T08:08:07.751Z"
   },
   {
    "duration": 15,
    "start_time": "2023-02-12T08:08:07.761Z"
   },
   {
    "duration": 9,
    "start_time": "2023-02-12T08:08:07.778Z"
   },
   {
    "duration": 153,
    "start_time": "2023-02-12T08:08:07.789Z"
   },
   {
    "duration": 180,
    "start_time": "2023-02-12T08:08:07.946Z"
   },
   {
    "duration": 12107,
    "start_time": "2023-02-12T08:08:08.127Z"
   },
   {
    "duration": 19394,
    "start_time": "2023-02-12T08:08:20.239Z"
   },
   {
    "duration": 572,
    "start_time": "2023-02-12T08:08:39.636Z"
   },
   {
    "duration": 125,
    "start_time": "2023-02-12T08:08:40.211Z"
   },
   {
    "duration": 69,
    "start_time": "2023-02-12T08:08:40.339Z"
   },
   {
    "duration": 68,
    "start_time": "2023-02-12T08:08:40.410Z"
   },
   {
    "duration": 7,
    "start_time": "2023-02-12T08:08:40.481Z"
   },
   {
    "duration": 10,
    "start_time": "2023-02-12T08:08:40.490Z"
   },
   {
    "duration": 17,
    "start_time": "2023-02-12T08:08:40.502Z"
   },
   {
    "duration": 1123,
    "start_time": "2023-02-12T08:08:40.521Z"
   },
   {
    "duration": 114,
    "start_time": "2023-02-12T08:08:41.646Z"
   },
   {
    "duration": 4,
    "start_time": "2023-02-12T08:11:02.566Z"
   },
   {
    "duration": 4,
    "start_time": "2023-02-12T08:14:29.904Z"
   },
   {
    "duration": 3,
    "start_time": "2023-02-12T08:14:45.649Z"
   },
   {
    "duration": 4,
    "start_time": "2023-02-12T08:15:00.304Z"
   },
   {
    "duration": 4,
    "start_time": "2023-02-12T08:15:01.240Z"
   },
   {
    "duration": 1228,
    "start_time": "2023-02-12T08:16:11.175Z"
   },
   {
    "duration": 14,
    "start_time": "2023-02-12T08:16:12.405Z"
   },
   {
    "duration": 38,
    "start_time": "2023-02-12T08:16:12.421Z"
   },
   {
    "duration": 27,
    "start_time": "2023-02-12T08:16:12.462Z"
   },
   {
    "duration": 13,
    "start_time": "2023-02-12T08:16:12.491Z"
   },
   {
    "duration": 5,
    "start_time": "2023-02-12T08:16:12.506Z"
   },
   {
    "duration": 134,
    "start_time": "2023-02-12T08:16:12.512Z"
   },
   {
    "duration": 0,
    "start_time": "2023-02-12T08:16:12.650Z"
   },
   {
    "duration": 0,
    "start_time": "2023-02-12T08:16:12.652Z"
   },
   {
    "duration": 0,
    "start_time": "2023-02-12T08:16:12.652Z"
   },
   {
    "duration": 0,
    "start_time": "2023-02-12T08:16:12.653Z"
   },
   {
    "duration": 0,
    "start_time": "2023-02-12T08:16:12.655Z"
   },
   {
    "duration": 0,
    "start_time": "2023-02-12T08:16:12.656Z"
   },
   {
    "duration": 0,
    "start_time": "2023-02-12T08:16:12.657Z"
   },
   {
    "duration": 0,
    "start_time": "2023-02-12T08:16:12.658Z"
   },
   {
    "duration": 0,
    "start_time": "2023-02-12T08:16:12.659Z"
   },
   {
    "duration": 0,
    "start_time": "2023-02-12T08:16:12.660Z"
   },
   {
    "duration": 0,
    "start_time": "2023-02-12T08:16:12.661Z"
   },
   {
    "duration": 0,
    "start_time": "2023-02-12T08:16:12.662Z"
   },
   {
    "duration": 0,
    "start_time": "2023-02-12T08:16:12.663Z"
   },
   {
    "duration": 0,
    "start_time": "2023-02-12T08:16:12.664Z"
   },
   {
    "duration": 0,
    "start_time": "2023-02-12T08:16:12.665Z"
   },
   {
    "duration": 0,
    "start_time": "2023-02-12T08:16:12.666Z"
   },
   {
    "duration": 0,
    "start_time": "2023-02-12T08:16:12.668Z"
   },
   {
    "duration": 0,
    "start_time": "2023-02-12T08:16:12.669Z"
   },
   {
    "duration": 0,
    "start_time": "2023-02-12T08:16:12.670Z"
   },
   {
    "duration": 0,
    "start_time": "2023-02-12T08:16:12.671Z"
   },
   {
    "duration": 0,
    "start_time": "2023-02-12T08:16:12.672Z"
   },
   {
    "duration": 0,
    "start_time": "2023-02-12T08:16:12.673Z"
   },
   {
    "duration": 0,
    "start_time": "2023-02-12T08:16:12.674Z"
   },
   {
    "duration": 0,
    "start_time": "2023-02-12T08:16:12.676Z"
   },
   {
    "duration": 0,
    "start_time": "2023-02-12T08:16:12.677Z"
   },
   {
    "duration": 0,
    "start_time": "2023-02-12T08:16:12.678Z"
   },
   {
    "duration": 0,
    "start_time": "2023-02-12T08:16:12.679Z"
   },
   {
    "duration": 0,
    "start_time": "2023-02-12T08:16:12.680Z"
   },
   {
    "duration": 0,
    "start_time": "2023-02-12T08:16:12.681Z"
   },
   {
    "duration": 0,
    "start_time": "2023-02-12T08:16:12.682Z"
   },
   {
    "duration": 0,
    "start_time": "2023-02-12T08:16:12.683Z"
   },
   {
    "duration": 0,
    "start_time": "2023-02-12T08:16:12.684Z"
   },
   {
    "duration": 0,
    "start_time": "2023-02-12T08:16:12.740Z"
   },
   {
    "duration": 0,
    "start_time": "2023-02-12T08:16:12.742Z"
   },
   {
    "duration": 0,
    "start_time": "2023-02-12T08:16:12.743Z"
   },
   {
    "duration": 0,
    "start_time": "2023-02-12T08:16:12.744Z"
   },
   {
    "duration": 0,
    "start_time": "2023-02-12T08:16:12.745Z"
   },
   {
    "duration": 0,
    "start_time": "2023-02-12T08:16:12.746Z"
   },
   {
    "duration": 0,
    "start_time": "2023-02-12T08:16:12.747Z"
   },
   {
    "duration": 0,
    "start_time": "2023-02-12T08:16:12.749Z"
   },
   {
    "duration": 0,
    "start_time": "2023-02-12T08:16:12.750Z"
   },
   {
    "duration": 0,
    "start_time": "2023-02-12T08:16:12.751Z"
   },
   {
    "duration": 0,
    "start_time": "2023-02-12T08:16:12.752Z"
   },
   {
    "duration": 0,
    "start_time": "2023-02-12T08:16:12.753Z"
   },
   {
    "duration": 0,
    "start_time": "2023-02-12T08:16:12.755Z"
   },
   {
    "duration": 0,
    "start_time": "2023-02-12T08:16:12.756Z"
   },
   {
    "duration": 0,
    "start_time": "2023-02-12T08:16:12.757Z"
   },
   {
    "duration": 0,
    "start_time": "2023-02-12T08:16:12.758Z"
   },
   {
    "duration": 0,
    "start_time": "2023-02-12T08:16:12.760Z"
   },
   {
    "duration": 0,
    "start_time": "2023-02-12T08:16:12.761Z"
   },
   {
    "duration": 0,
    "start_time": "2023-02-12T08:16:12.762Z"
   },
   {
    "duration": 0,
    "start_time": "2023-02-12T08:16:12.763Z"
   },
   {
    "duration": 0,
    "start_time": "2023-02-12T08:16:12.764Z"
   },
   {
    "duration": 0,
    "start_time": "2023-02-12T08:16:12.765Z"
   },
   {
    "duration": 0,
    "start_time": "2023-02-12T08:16:12.767Z"
   },
   {
    "duration": 0,
    "start_time": "2023-02-12T08:16:12.768Z"
   },
   {
    "duration": 0,
    "start_time": "2023-02-12T08:16:12.769Z"
   },
   {
    "duration": 0,
    "start_time": "2023-02-12T08:16:12.771Z"
   },
   {
    "duration": 0,
    "start_time": "2023-02-12T08:16:12.772Z"
   },
   {
    "duration": 0,
    "start_time": "2023-02-12T08:16:12.773Z"
   },
   {
    "duration": 0,
    "start_time": "2023-02-12T08:16:12.774Z"
   },
   {
    "duration": 0,
    "start_time": "2023-02-12T08:16:12.776Z"
   },
   {
    "duration": 0,
    "start_time": "2023-02-12T08:16:12.840Z"
   },
   {
    "duration": 0,
    "start_time": "2023-02-12T08:16:12.841Z"
   },
   {
    "duration": 0,
    "start_time": "2023-02-12T08:16:12.842Z"
   },
   {
    "duration": 0,
    "start_time": "2023-02-12T08:16:12.843Z"
   },
   {
    "duration": 0,
    "start_time": "2023-02-12T08:16:12.845Z"
   },
   {
    "duration": 0,
    "start_time": "2023-02-12T08:16:12.846Z"
   },
   {
    "duration": 0,
    "start_time": "2023-02-12T08:16:12.847Z"
   },
   {
    "duration": 0,
    "start_time": "2023-02-12T08:16:12.848Z"
   },
   {
    "duration": 0,
    "start_time": "2023-02-12T08:16:12.849Z"
   },
   {
    "duration": 0,
    "start_time": "2023-02-12T08:16:12.850Z"
   },
   {
    "duration": 0,
    "start_time": "2023-02-12T08:16:12.851Z"
   },
   {
    "duration": 0,
    "start_time": "2023-02-12T08:16:12.852Z"
   },
   {
    "duration": 4,
    "start_time": "2023-02-12T08:16:34.804Z"
   },
   {
    "duration": 3,
    "start_time": "2023-02-12T08:16:35.729Z"
   },
   {
    "duration": 37,
    "start_time": "2023-02-12T08:16:37.017Z"
   },
   {
    "duration": 15,
    "start_time": "2023-02-12T08:16:39.129Z"
   },
   {
    "duration": 14,
    "start_time": "2023-02-12T08:16:40.409Z"
   },
   {
    "duration": 4,
    "start_time": "2023-02-12T08:16:43.587Z"
   },
   {
    "duration": 13,
    "start_time": "2023-02-12T08:16:46.353Z"
   },
   {
    "duration": 4,
    "start_time": "2023-02-12T08:17:57.250Z"
   },
   {
    "duration": 4,
    "start_time": "2023-02-12T08:18:36.540Z"
   },
   {
    "duration": 12,
    "start_time": "2023-02-12T08:18:37.596Z"
   },
   {
    "duration": 4,
    "start_time": "2023-02-12T09:00:13.109Z"
   },
   {
    "duration": 3,
    "start_time": "2023-02-12T09:00:17.085Z"
   },
   {
    "duration": 78,
    "start_time": "2023-02-12T09:00:55.078Z"
   },
   {
    "duration": 5,
    "start_time": "2023-02-12T09:01:12.854Z"
   },
   {
    "duration": 5,
    "start_time": "2023-02-12T09:01:46.239Z"
   },
   {
    "duration": 11,
    "start_time": "2023-02-12T09:19:27.186Z"
   },
   {
    "duration": 9,
    "start_time": "2023-02-12T09:19:43.425Z"
   },
   {
    "duration": 4,
    "start_time": "2023-02-12T09:19:51.253Z"
   },
   {
    "duration": 11,
    "start_time": "2023-02-12T09:19:51.259Z"
   },
   {
    "duration": 42,
    "start_time": "2023-02-12T09:19:51.272Z"
   },
   {
    "duration": 13,
    "start_time": "2023-02-12T09:19:51.316Z"
   },
   {
    "duration": 36,
    "start_time": "2023-02-12T09:19:51.331Z"
   },
   {
    "duration": 9,
    "start_time": "2023-02-12T09:19:51.369Z"
   },
   {
    "duration": 21,
    "start_time": "2023-02-12T09:19:51.380Z"
   },
   {
    "duration": 17,
    "start_time": "2023-02-12T09:19:51.403Z"
   },
   {
    "duration": 6,
    "start_time": "2023-02-12T09:19:51.422Z"
   },
   {
    "duration": 8,
    "start_time": "2023-02-12T09:19:51.431Z"
   },
   {
    "duration": 32,
    "start_time": "2023-02-12T09:19:51.442Z"
   },
   {
    "duration": 11,
    "start_time": "2023-02-12T09:19:51.476Z"
   },
   {
    "duration": 5,
    "start_time": "2023-02-12T09:19:51.489Z"
   },
   {
    "duration": 11,
    "start_time": "2023-02-12T09:19:51.496Z"
   },
   {
    "duration": 45,
    "start_time": "2023-02-12T09:19:51.508Z"
   },
   {
    "duration": 634,
    "start_time": "2023-02-12T09:19:51.555Z"
   },
   {
    "duration": 54,
    "start_time": "2023-02-12T09:19:52.191Z"
   },
   {
    "duration": 9,
    "start_time": "2023-02-12T09:19:52.249Z"
   },
   {
    "duration": 24,
    "start_time": "2023-02-12T09:19:52.260Z"
   },
   {
    "duration": 13,
    "start_time": "2023-02-12T09:19:52.286Z"
   },
   {
    "duration": 8,
    "start_time": "2023-02-12T09:19:52.300Z"
   },
   {
    "duration": 8,
    "start_time": "2023-02-12T09:19:52.312Z"
   },
   {
    "duration": 18,
    "start_time": "2023-02-12T09:19:52.322Z"
   },
   {
    "duration": 8,
    "start_time": "2023-02-12T09:19:52.342Z"
   },
   {
    "duration": 20,
    "start_time": "2023-02-12T09:19:52.354Z"
   },
   {
    "duration": 5,
    "start_time": "2023-02-12T09:19:52.377Z"
   },
   {
    "duration": 9,
    "start_time": "2023-02-12T09:19:52.384Z"
   },
   {
    "duration": 11,
    "start_time": "2023-02-12T09:19:52.395Z"
   },
   {
    "duration": 10,
    "start_time": "2023-02-12T09:19:52.408Z"
   },
   {
    "duration": 9,
    "start_time": "2023-02-12T09:19:52.420Z"
   },
   {
    "duration": 18,
    "start_time": "2023-02-12T09:19:52.431Z"
   },
   {
    "duration": 35,
    "start_time": "2023-02-12T09:19:52.452Z"
   },
   {
    "duration": 10,
    "start_time": "2023-02-12T09:19:52.489Z"
   },
   {
    "duration": 9,
    "start_time": "2023-02-12T09:19:52.501Z"
   },
   {
    "duration": 18,
    "start_time": "2023-02-12T09:19:52.512Z"
   },
   {
    "duration": 130,
    "start_time": "2023-02-12T09:19:52.532Z"
   },
   {
    "duration": 127,
    "start_time": "2023-02-12T09:20:33.604Z"
   },
   {
    "duration": 206,
    "start_time": "2023-02-12T09:20:40.676Z"
   },
   {
    "duration": 121,
    "start_time": "2023-02-12T09:23:03.815Z"
   },
   {
    "duration": 125,
    "start_time": "2023-02-12T09:23:30.838Z"
   },
   {
    "duration": 133,
    "start_time": "2023-02-12T09:25:24.824Z"
   },
   {
    "duration": 141,
    "start_time": "2023-02-12T09:26:04.257Z"
   },
   {
    "duration": 124,
    "start_time": "2023-02-12T09:26:44.386Z"
   },
   {
    "duration": 118,
    "start_time": "2023-02-12T09:27:06.722Z"
   },
   {
    "duration": 126,
    "start_time": "2023-02-12T09:30:31.319Z"
   },
   {
    "duration": 124,
    "start_time": "2023-02-12T10:46:15.426Z"
   },
   {
    "duration": 139,
    "start_time": "2023-02-12T10:46:27.074Z"
   },
   {
    "duration": 132,
    "start_time": "2023-02-12T10:46:38.074Z"
   },
   {
    "duration": 75,
    "start_time": "2023-02-12T10:47:34.299Z"
   },
   {
    "duration": 4,
    "start_time": "2023-02-12T10:49:43.567Z"
   },
   {
    "duration": 8,
    "start_time": "2023-02-12T10:49:43.573Z"
   },
   {
    "duration": 47,
    "start_time": "2023-02-12T10:49:43.583Z"
   },
   {
    "duration": 25,
    "start_time": "2023-02-12T10:49:43.632Z"
   },
   {
    "duration": 19,
    "start_time": "2023-02-12T10:49:43.663Z"
   },
   {
    "duration": 5,
    "start_time": "2023-02-12T10:49:43.684Z"
   },
   {
    "duration": 13,
    "start_time": "2023-02-12T10:49:43.690Z"
   },
   {
    "duration": 15,
    "start_time": "2023-02-12T10:49:43.705Z"
   },
   {
    "duration": 4,
    "start_time": "2023-02-12T10:49:43.722Z"
   },
   {
    "duration": 16,
    "start_time": "2023-02-12T10:49:43.728Z"
   },
   {
    "duration": 17,
    "start_time": "2023-02-12T10:49:43.747Z"
   },
   {
    "duration": 5,
    "start_time": "2023-02-12T10:49:43.767Z"
   },
   {
    "duration": 6,
    "start_time": "2023-02-12T10:49:43.773Z"
   },
   {
    "duration": 6,
    "start_time": "2023-02-12T10:49:43.780Z"
   },
   {
    "duration": 59,
    "start_time": "2023-02-12T10:49:43.788Z"
   },
   {
    "duration": 290,
    "start_time": "2023-02-12T10:49:43.854Z"
   },
   {
    "duration": 38,
    "start_time": "2023-02-12T10:49:44.151Z"
   },
   {
    "duration": 4,
    "start_time": "2023-02-12T10:49:44.191Z"
   },
   {
    "duration": 12,
    "start_time": "2023-02-12T10:49:44.197Z"
   },
   {
    "duration": 36,
    "start_time": "2023-02-12T10:49:44.211Z"
   },
   {
    "duration": 6,
    "start_time": "2023-02-12T10:49:44.248Z"
   },
   {
    "duration": 6,
    "start_time": "2023-02-12T10:49:44.260Z"
   },
   {
    "duration": 9,
    "start_time": "2023-02-12T10:49:44.267Z"
   },
   {
    "duration": 7,
    "start_time": "2023-02-12T10:49:44.278Z"
   },
   {
    "duration": 4,
    "start_time": "2023-02-12T10:49:44.286Z"
   },
   {
    "duration": 6,
    "start_time": "2023-02-12T10:49:44.292Z"
   },
   {
    "duration": 6,
    "start_time": "2023-02-12T10:49:44.300Z"
   },
   {
    "duration": 53,
    "start_time": "2023-02-12T10:49:44.308Z"
   },
   {
    "duration": 5,
    "start_time": "2023-02-12T10:49:44.366Z"
   },
   {
    "duration": 4,
    "start_time": "2023-02-12T10:49:44.373Z"
   },
   {
    "duration": 28,
    "start_time": "2023-02-12T10:49:44.379Z"
   },
   {
    "duration": 65,
    "start_time": "2023-02-12T10:49:44.409Z"
   },
   {
    "duration": 11,
    "start_time": "2023-02-12T10:49:44.476Z"
   },
   {
    "duration": 11,
    "start_time": "2023-02-12T10:49:44.488Z"
   },
   {
    "duration": 6,
    "start_time": "2023-02-12T10:49:44.500Z"
   },
   {
    "duration": 124,
    "start_time": "2023-02-12T10:49:44.508Z"
   },
   {
    "duration": 12,
    "start_time": "2023-02-12T10:49:44.640Z"
   },
   {
    "duration": 7,
    "start_time": "2023-02-12T10:49:44.657Z"
   },
   {
    "duration": 5,
    "start_time": "2023-02-12T10:49:44.666Z"
   },
   {
    "duration": 8657,
    "start_time": "2023-02-12T10:49:44.672Z"
   },
   {
    "duration": 15,
    "start_time": "2023-02-12T10:49:53.332Z"
   },
   {
    "duration": 8,
    "start_time": "2023-02-12T10:49:53.355Z"
   },
   {
    "duration": 11,
    "start_time": "2023-02-12T10:49:53.365Z"
   },
   {
    "duration": 7,
    "start_time": "2023-02-12T10:49:53.377Z"
   },
   {
    "duration": 4,
    "start_time": "2023-02-12T10:51:14.112Z"
   },
   {
    "duration": 4,
    "start_time": "2023-02-12T10:51:15.054Z"
   },
   {
    "duration": 443,
    "start_time": "2023-02-12T10:51:18.241Z"
   },
   {
    "duration": 102,
    "start_time": "2023-02-12T10:53:02.009Z"
   },
   {
    "duration": 431,
    "start_time": "2023-02-12T10:53:15.170Z"
   },
   {
    "duration": 396,
    "start_time": "2023-02-12T10:53:50.506Z"
   },
   {
    "duration": 3,
    "start_time": "2023-02-12T10:55:35.269Z"
   },
   {
    "duration": 19,
    "start_time": "2023-02-12T10:55:35.752Z"
   },
   {
    "duration": 8,
    "start_time": "2023-02-12T10:55:37.114Z"
   },
   {
    "duration": 7,
    "start_time": "2023-02-12T10:55:37.867Z"
   },
   {
    "duration": 8,
    "start_time": "2023-02-12T10:55:38.824Z"
   },
   {
    "duration": 66,
    "start_time": "2023-02-12T10:55:42.787Z"
   },
   {
    "duration": 3,
    "start_time": "2023-02-12T10:55:58.419Z"
   },
   {
    "duration": 71,
    "start_time": "2023-02-12T10:55:59.835Z"
   },
   {
    "duration": 23,
    "start_time": "2023-02-12T10:56:12.076Z"
   },
   {
    "duration": 2,
    "start_time": "2023-02-12T10:56:35.382Z"
   },
   {
    "duration": 146596,
    "start_time": "2023-02-12T10:56:35.893Z"
   },
   {
    "duration": 7261,
    "start_time": "2023-02-12T10:59:20.576Z"
   },
   {
    "duration": 5989,
    "start_time": "2023-02-12T11:00:48.281Z"
   },
   {
    "duration": 63595,
    "start_time": "2023-02-12T11:01:01.906Z"
   },
   {
    "duration": 5,
    "start_time": "2023-02-12T11:04:07.851Z"
   },
   {
    "duration": 31,
    "start_time": "2023-02-12T11:04:08.249Z"
   },
   {
    "duration": 17,
    "start_time": "2023-02-12T11:04:10.420Z"
   },
   {
    "duration": 3,
    "start_time": "2023-02-12T11:04:19.140Z"
   },
   {
    "duration": 3,
    "start_time": "2023-02-12T11:04:19.509Z"
   },
   {
    "duration": 23,
    "start_time": "2023-02-12T11:04:19.862Z"
   },
   {
    "duration": 64,
    "start_time": "2023-02-12T11:04:20.197Z"
   },
   {
    "duration": 26663,
    "start_time": "2023-02-12T11:05:25.302Z"
   },
   {
    "duration": 64089,
    "start_time": "2023-02-12T11:06:34.653Z"
   },
   {
    "duration": 169434,
    "start_time": "2023-02-12T11:08:01.873Z"
   },
   {
    "duration": 49214,
    "start_time": "2023-02-12T11:11:43.118Z"
   },
   {
    "duration": 877664,
    "start_time": "2023-02-12T11:13:48.296Z"
   },
   {
    "duration": 49769,
    "start_time": "2023-02-12T11:28:37.931Z"
   },
   {
    "duration": 49246,
    "start_time": "2023-02-12T11:31:50.374Z"
   },
   {
    "duration": 527,
    "start_time": "2023-02-12T11:32:47.638Z"
   },
   {
    "duration": 4,
    "start_time": "2023-02-12T11:32:53.502Z"
   },
   {
    "duration": 13,
    "start_time": "2023-02-12T11:32:54.678Z"
   },
   {
    "duration": 10,
    "start_time": "2023-02-12T11:33:05.381Z"
   },
   {
    "duration": 76,
    "start_time": "2023-02-12T11:33:08.165Z"
   },
   {
    "duration": 99,
    "start_time": "2023-02-12T11:33:09.870Z"
   },
   {
    "duration": 17,
    "start_time": "2023-02-12T11:33:51.453Z"
   },
   {
    "duration": 28,
    "start_time": "2023-02-12T11:33:58.591Z"
   },
   {
    "duration": 65824,
    "start_time": "2023-02-12T11:35:39.257Z"
   },
   {
    "duration": 501,
    "start_time": "2023-02-12T11:37:03.153Z"
   },
   {
    "duration": 91,
    "start_time": "2023-02-12T11:37:14.411Z"
   },
   {
    "duration": 61,
    "start_time": "2023-02-12T11:37:16.059Z"
   },
   {
    "duration": 46,
    "start_time": "2023-02-12T11:37:23.708Z"
   },
   {
    "duration": 7,
    "start_time": "2023-02-12T11:37:24.515Z"
   },
   {
    "duration": 6,
    "start_time": "2023-02-12T11:37:25.290Z"
   },
   {
    "duration": 9,
    "start_time": "2023-02-12T11:37:29.699Z"
   },
   {
    "duration": 850,
    "start_time": "2023-02-12T11:37:30.460Z"
   },
   {
    "duration": 85,
    "start_time": "2023-02-12T11:37:32.331Z"
   },
   {
    "duration": 13,
    "start_time": "2023-02-12T11:38:29.293Z"
   },
   {
    "duration": 7,
    "start_time": "2023-02-12T11:38:41.973Z"
   },
   {
    "duration": 8,
    "start_time": "2023-02-12T11:40:33.752Z"
   },
   {
    "duration": 9,
    "start_time": "2023-02-12T11:40:53.232Z"
   },
   {
    "duration": 76,
    "start_time": "2023-02-12T11:42:02.602Z"
   },
   {
    "duration": 43908,
    "start_time": "2023-02-12T11:59:09.796Z"
   },
   {
    "duration": 36,
    "start_time": "2023-02-12T11:59:57.781Z"
   },
   {
    "duration": 18,
    "start_time": "2023-02-12T12:00:55.422Z"
   },
   {
    "duration": 4,
    "start_time": "2023-02-12T12:00:59.862Z"
   },
   {
    "duration": 17,
    "start_time": "2023-02-12T12:01:47.303Z"
   },
   {
    "duration": 3,
    "start_time": "2023-02-12T12:02:07.154Z"
   },
   {
    "duration": 19,
    "start_time": "2023-02-12T12:06:49.732Z"
   },
   {
    "duration": 1261,
    "start_time": "2023-02-12T12:36:46.992Z"
   },
   {
    "duration": 12,
    "start_time": "2023-02-12T12:36:48.254Z"
   },
   {
    "duration": 80,
    "start_time": "2023-02-12T12:36:48.268Z"
   },
   {
    "duration": 19,
    "start_time": "2023-02-12T12:36:48.350Z"
   },
   {
    "duration": 11,
    "start_time": "2023-02-12T12:36:48.370Z"
   },
   {
    "duration": 3,
    "start_time": "2023-02-12T12:36:48.383Z"
   },
   {
    "duration": 5,
    "start_time": "2023-02-12T12:36:48.387Z"
   },
   {
    "duration": 11,
    "start_time": "2023-02-12T12:36:48.394Z"
   },
   {
    "duration": 4,
    "start_time": "2023-02-12T12:36:48.406Z"
   },
   {
    "duration": 25,
    "start_time": "2023-02-12T12:36:48.412Z"
   },
   {
    "duration": 3,
    "start_time": "2023-02-12T12:36:48.439Z"
   },
   {
    "duration": 5,
    "start_time": "2023-02-12T12:36:48.444Z"
   },
   {
    "duration": 5,
    "start_time": "2023-02-12T12:36:48.450Z"
   }
  ],
  "kernelspec": {
   "display_name": "Python 3 (ipykernel)",
   "language": "python",
   "name": "python3"
  },
  "language_info": {
   "codemirror_mode": {
    "name": "ipython",
    "version": 3
   },
   "file_extension": ".py",
   "mimetype": "text/x-python",
   "name": "python",
   "nbconvert_exporter": "python",
   "pygments_lexer": "ipython3",
   "version": "3.9.13"
  },
  "toc": {
   "base_numbering": 1,
   "nav_menu": {},
   "number_sections": true,
   "sideBar": true,
   "skip_h1_title": true,
   "title_cell": "Содержание",
   "title_sidebar": "Contents",
   "toc_cell": true,
   "toc_position": {
    "height": "calc(100% - 180px)",
    "left": "10px",
    "top": "150px",
    "width": "450.234px"
   },
   "toc_section_display": true,
   "toc_window_display": false
  }
 },
 "nbformat": 4,
 "nbformat_minor": 2
}
