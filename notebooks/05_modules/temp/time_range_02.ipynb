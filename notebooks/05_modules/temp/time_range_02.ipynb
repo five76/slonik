{
 "cells": [
  {
   "cell_type": "markdown",
   "metadata": {},
   "source": [
    "**Дмитрий, привет!**\n",
    "\n",
    "Меня зовут Соколова Александра, я буду проверять твой проект. Приятно познакомиться:)\n",
    "    \n",
    "Предлагаю общаться на «ты», но если тебе не очень комфортно - дай, пожалуйста, знать. \n",
    "\n",
    "Ты уже проделал большую работу над проектом, давай сделаем его еще лучше. Ниже ты найдешь мои комментарии, пожалуйста, не перемещай, не изменяй и не удаляй их. Давай использовать цветовую разметку:\n",
    "\n",
    "<div class=\"alert alert-danger\">\n",
    "<b>❌ Комментарий ревьюера:</b> Так выделены самые важные замечания, их нужно обязательно проработать. </div>\n",
    "\n",
    "<div class=\"alert alert-warning\">\n",
    "<b>⚠️ Комментарий ревьюера:</b> Так выделены небольшие замечания, некритичные ошибки или развивающие рекомендации на будущее. \n",
    "\n",
    "</div>\n",
    "\n",
    "<div class=\"alert alert-success\">\n",
    "<b>✔️ Комментарий ревьюера:</b> Все отлично:) </div>\n",
    "\n",
    "Давай работать над проектом в диалоге: если ты что-то меняешь или отвечаешь на мои комменатри — пиши об этом. Мне будет легче отследить изменения, если ты выделишь свои комментарии:\n",
    "<div class=\"alert alert-info\"> <b>Комментарий студента:</b> Например, вот так.</div>\n",
    "\n",
    "Всё это поможет выполнить повторную проверку твоего проекта оперативнее."
   ]
  },
  {
   "cell_type": "markdown",
   "metadata": {},
   "source": [
    "***"
   ]
  },
  {
   "cell_type": "markdown",
   "metadata": {},
   "source": [
    "<div class=\"alert alert-info\"> <b>Комментарий ревьюера:</b> \n",
    "    \n",
    "**Полезные материалы по теме:**\n",
    " \n",
    "- Б.Б. Демешев - временные ряды https://disk.yandex.ru/i/LiDHB-B3A6Lz5A\n",
    "- Базовое применение ARIMA - https://colab.research.google.com/drive/17RnG91Eq8JBKyxToNzvCvjibfxum-oPj?usp=sharing\n",
    "- Канторович - Анализ временных рядов https://yadi.sk/i/IOkUOS3hTXf3gg\n",
    "https://facebook.github.io/prophet/\n",
    "https://facebook.github.io/prophet/docs/quick_start.html#python-api\n",
    "https://nbviewer.jupyter.org/github/miptgirl/habra_materials/blob/master/prophet/habra_data.ipynb\n",
    "    \n",
    "</div>"
   ]
  },
  {
   "cell_type": "markdown",
   "metadata": {
    "toc": true
   },
   "source": [
    "<h1>Содержание<span class=\"tocSkip\"></span></h1>\n",
    "<div class=\"toc\"><ul class=\"toc-item\"><li><span><a href=\"#Подготовка\" data-toc-modified-id=\"Подготовка-1\"><span class=\"toc-item-num\">1&nbsp;&nbsp;</span>Подготовка</a></span><ul class=\"toc-item\"><li><span><a href=\"#Ресемплирование-по-одному-часу.\" data-toc-modified-id=\"Ресемплирование-по-одному-часу.-1.1\"><span class=\"toc-item-num\">1.1&nbsp;&nbsp;</span>Ресемплирование по одному часу.</a></span></li><li><span><a href=\"#Проверка-на-стационарность\" data-toc-modified-id=\"Проверка-на-стационарность-1.2\"><span class=\"toc-item-num\">1.2&nbsp;&nbsp;</span>Проверка на стационарность</a></span></li><li><span><a href=\"#Тренд-и-сезонность\" data-toc-modified-id=\"Тренд-и-сезонность-1.3\"><span class=\"toc-item-num\">1.3&nbsp;&nbsp;</span>Тренд и сезонность</a></span></li><li><span><a href=\"#Вывод:\" data-toc-modified-id=\"Вывод:-1.4\"><span class=\"toc-item-num\">1.4&nbsp;&nbsp;</span>Вывод:</a></span></li></ul></li><li><span><a href=\"#Анализ\" data-toc-modified-id=\"Анализ-2\"><span class=\"toc-item-num\">2&nbsp;&nbsp;</span>Анализ</a></span><ul class=\"toc-item\"><li><span><a href=\"#Получение-новых-признаков\" data-toc-modified-id=\"Получение-новых-признаков-2.1\"><span class=\"toc-item-num\">2.1&nbsp;&nbsp;</span>Получение новых признаков</a></span></li><li><span><a href=\"#Разделение-на-выборки\" data-toc-modified-id=\"Разделение-на-выборки-2.2\"><span class=\"toc-item-num\">2.2&nbsp;&nbsp;</span>Разделение на выборки</a></span></li><li><span><a href=\"#Масштабирование\" data-toc-modified-id=\"Масштабирование-2.3\"><span class=\"toc-item-num\">2.3&nbsp;&nbsp;</span>Масштабирование</a></span></li><li><span><a href=\"#Вывод:\" data-toc-modified-id=\"Вывод:-2.4\"><span class=\"toc-item-num\">2.4&nbsp;&nbsp;</span>Вывод:</a></span></li></ul></li><li><span><a href=\"#Обучение\" data-toc-modified-id=\"Обучение-3\"><span class=\"toc-item-num\">3&nbsp;&nbsp;</span>Обучение</a></span><ul class=\"toc-item\"><li><span><a href=\"#Линейная-регрессия\" data-toc-modified-id=\"Линейная-регрессия-3.1\"><span class=\"toc-item-num\">3.1&nbsp;&nbsp;</span>Линейная регрессия</a></span></li><li><span><a href=\"#Случайный-лес-(RandomForestRegressor)\" data-toc-modified-id=\"Случайный-лес-(RandomForestRegressor)-3.2\"><span class=\"toc-item-num\">3.2&nbsp;&nbsp;</span>Случайный лес (RandomForestRegressor)</a></span></li><li><span><a href=\"#Стохастический-градиентный-спуск-SGDRegressor\" data-toc-modified-id=\"Стохастический-градиентный-спуск-SGDRegressor-3.3\"><span class=\"toc-item-num\">3.3&nbsp;&nbsp;</span>Стохастический градиентный спуск SGDRegressor</a></span></li><li><span><a href=\"#Градиентный-бустинг-CatBoostRegressor\" data-toc-modified-id=\"Градиентный-бустинг-CatBoostRegressor-3.4\"><span class=\"toc-item-num\">3.4&nbsp;&nbsp;</span>Градиентный бустинг CatBoostRegressor</a></span></li><li><span><a href=\"#Градиентный-бустинг-XGBRegressor\" data-toc-modified-id=\"Градиентный-бустинг-XGBRegressor-3.5\"><span class=\"toc-item-num\">3.5&nbsp;&nbsp;</span>Градиентный бустинг XGBRegressor</a></span></li><li><span><a href=\"#Градиентный-бустинг-LGBMRegressor\" data-toc-modified-id=\"Градиентный-бустинг-LGBMRegressor-3.6\"><span class=\"toc-item-num\">3.6&nbsp;&nbsp;</span>Градиентный бустинг LGBMRegressor</a></span></li><li><span><a href=\"#Итоговая-таблица\" data-toc-modified-id=\"Итоговая-таблица-3.7\"><span class=\"toc-item-num\">3.7&nbsp;&nbsp;</span>Итоговая таблица</a></span></li><li><span><a href=\"#Вывод:\" data-toc-modified-id=\"Вывод:-3.8\"><span class=\"toc-item-num\">3.8&nbsp;&nbsp;</span>Вывод:</a></span></li></ul></li><li><span><a href=\"#Тестирование\" data-toc-modified-id=\"Тестирование-4\"><span class=\"toc-item-num\">4&nbsp;&nbsp;</span>Тестирование</a></span><ul class=\"toc-item\"><li><span><a href=\"#Вывод\" data-toc-modified-id=\"Вывод-4.1\"><span class=\"toc-item-num\">4.1&nbsp;&nbsp;</span>Вывод</a></span></li><li><span><a href=\"#Итоговый-вывод\" data-toc-modified-id=\"Итоговый-вывод-4.2\"><span class=\"toc-item-num\">4.2&nbsp;&nbsp;</span>Итоговый вывод</a></span></li></ul></li><li><span><a href=\"#Чек-лист-проверки\" data-toc-modified-id=\"Чек-лист-проверки-5\"><span class=\"toc-item-num\">5&nbsp;&nbsp;</span>Чек-лист проверки</a></span></li></ul></div>"
   ]
  },
  {
   "cell_type": "markdown",
   "metadata": {},
   "source": [
    "#  Прогнозирование заказов такси"
   ]
  },
  {
   "cell_type": "markdown",
   "metadata": {},
   "source": [
    "Компания «Чётенькое такси» собрала исторические данные о заказах такси в аэропортах. Чтобы привлекать больше водителей в период пиковой нагрузки, нужно спрогнозировать количество заказов такси на следующий час. Постройте модель для такого предсказания.\n",
    "\n",
    "Значение метрики *RMSE* на тестовой выборке должно быть не больше 48.\n",
    "\n",
    "Вам нужно:\n",
    "\n",
    "1. Загрузить данные и выполнить их ресемплирование по одному часу.\n",
    "2. Проанализировать данные.\n",
    "3. Обучить разные модели с различными гиперпараметрами. Сделать тестовую выборку размером 10% от исходных данных.\n",
    "4. Проверить данные на тестовой выборке и сделать выводы.\n",
    "\n",
    "\n",
    "Данные лежат в файле `taxi.csv`. Количество заказов находится в столбце `num_orders` (от англ. *number of orders*, «число заказов»)."
   ]
  },
  {
   "cell_type": "markdown",
   "metadata": {},
   "source": [
    "<div class=\"alert alert-warning\">\n",
    "<b>⚠️ Комментарий ревьюера:</b> \n",
    "    \n",
    "На этом этапе было бы здорово немного расширить оформление проекта - написать своими словами. 😊\n",
    " \n",
    "    \n",
    "Оформление принято делать к каждому проекту, обычно прописывают название, цели и задачи исследования. Можно добавить этапы работы, а также итоги исследования (что было достигнуто в процессе, к каким выводам пришли, что нашли в данных).\n",
    "  \n",
    "***    \n",
    "PS - Когда будешь готовить портфолио, обычно его размешают на Github, хорошее введение - это важная часть. \n",
    "    \n",
    "На плюсовых программах Практикума есть Карьерный трек, там hr-специалисты учат готовить портфолио и дают рекомендации в отношении оформления. Для каждого проекта советуют подготовить описание (обычно в README.md сохраняют). Т.е. это базовая составляющая хорошего портфолио     \n",
    "    \n",
    "   \n",
    "</div>"
   ]
  },
  {
   "cell_type": "code",
   "execution_count": 1,
   "metadata": {},
   "outputs": [],
   "source": [
    "import pandas as pd\n",
    "import numpy as np\n",
    "import seaborn as sns\n",
    "#from nptyping import NDArray, Float64\n",
    "from datetime import datetime\n",
    "from statsmodels.tsa.seasonal import seasonal_decompose\n",
    "from sklearn.model_selection import train_test_split\n",
    "from sklearn.preprocessing import StandardScaler\n",
    "from sklearn.linear_model import LinearRegression\n",
    "from sklearn.ensemble import RandomForestRegressor\n",
    "from xgboost import XGBRegressor\n",
    "from lightgbm import LGBMRegressor\n",
    "from sklearn.linear_model import SGDRegressor\n",
    "from catboost import CatBoostRegressor\n",
    "from sklearn.metrics import mean_absolute_error\n",
    "import matplotlib.pyplot as plt\n",
    "from sklearn.metrics import mean_squared_error\n",
    "from sklearn.metrics import make_scorer\n",
    "from sklearn.model_selection import GridSearchCV, TimeSeriesSplit"
   ]
  },
  {
   "cell_type": "markdown",
   "metadata": {},
   "source": [
    "## Подготовка"
   ]
  },
  {
   "cell_type": "code",
   "execution_count": 2,
   "metadata": {},
   "outputs": [],
   "source": [
    "try:\n",
    "    data = pd.read_csv('/datasets/data.csv',parse_dates=[0])\n",
    "except:\n",
    "    data = pd.read_csv('https://code.s3.yandex.net/datasets/taxi.csv',parse_dates=[0])"
   ]
  },
  {
   "cell_type": "markdown",
   "metadata": {},
   "source": [
    "<div class=\"alert alert-success\">\n",
    "<b>✔️ Комментарий ревьюера:</b>  \n",
    "\n",
    "Здорово, что есть try-except на этапе загрузки данных👍\n",
    "    \n",
    "</div>"
   ]
  },
  {
   "cell_type": "markdown",
   "metadata": {},
   "source": [
    "<div class=\"alert alert-warning\">\n",
    "<b>⚠️ Комментарий ревьюера:</b> \n",
    "\n",
    "При загрузке данных рекомендую использовать такую конструкцию:\n",
    "    \n",
    "        df = pd.read_csv('/datasets/taxi.csv', index_col=[0], parse_dates=[0])\n",
    "    \n",
    "Чтобы потом не преобразовывать формат колонки с помощью pd.to_datetime() и не назначать индекс через df.set_index('datetime')  \n",
    "\n",
    "</div>"
   ]
  },
  {
   "cell_type": "code",
   "execution_count": 3,
   "metadata": {},
   "outputs": [
    {
     "name": "stdout",
     "output_type": "stream",
     "text": [
      "<class 'pandas.core.frame.DataFrame'>\n",
      "RangeIndex: 26496 entries, 0 to 26495\n",
      "Data columns (total 2 columns):\n",
      " #   Column      Non-Null Count  Dtype         \n",
      "---  ------      --------------  -----         \n",
      " 0   datetime    26496 non-null  datetime64[ns]\n",
      " 1   num_orders  26496 non-null  int64         \n",
      "dtypes: datetime64[ns](1), int64(1)\n",
      "memory usage: 414.1 KB\n"
     ]
    }
   ],
   "source": [
    "data.info()"
   ]
  },
  {
   "cell_type": "code",
   "execution_count": 4,
   "metadata": {},
   "outputs": [
    {
     "data": {
      "text/plain": [
       "0"
      ]
     },
     "execution_count": 4,
     "metadata": {},
     "output_type": "execute_result"
    }
   ],
   "source": [
    "data.duplicated().sum()"
   ]
  },
  {
   "cell_type": "code",
   "execution_count": 5,
   "metadata": {},
   "outputs": [
    {
     "name": "stdout",
     "output_type": "stream",
     "text": [
      "True\n"
     ]
    }
   ],
   "source": [
    "data = data.set_index('datetime')\n",
    "data.sort_index(inplace=True)\n",
    "print(data.index.is_monotonic_increasing)"
   ]
  },
  {
   "cell_type": "code",
   "execution_count": 6,
   "metadata": {
    "scrolled": true
   },
   "outputs": [
    {
     "data": {
      "text/html": [
       "<div>\n",
       "<style scoped>\n",
       "    .dataframe tbody tr th:only-of-type {\n",
       "        vertical-align: middle;\n",
       "    }\n",
       "\n",
       "    .dataframe tbody tr th {\n",
       "        vertical-align: top;\n",
       "    }\n",
       "\n",
       "    .dataframe thead th {\n",
       "        text-align: right;\n",
       "    }\n",
       "</style>\n",
       "<table border=\"1\" class=\"dataframe\">\n",
       "  <thead>\n",
       "    <tr style=\"text-align: right;\">\n",
       "      <th></th>\n",
       "      <th>num_orders</th>\n",
       "    </tr>\n",
       "    <tr>\n",
       "      <th>datetime</th>\n",
       "      <th></th>\n",
       "    </tr>\n",
       "  </thead>\n",
       "  <tbody>\n",
       "    <tr>\n",
       "      <th>2018-03-01 00:00:00</th>\n",
       "      <td>9</td>\n",
       "    </tr>\n",
       "    <tr>\n",
       "      <th>2018-03-01 00:10:00</th>\n",
       "      <td>14</td>\n",
       "    </tr>\n",
       "    <tr>\n",
       "      <th>2018-03-01 00:20:00</th>\n",
       "      <td>28</td>\n",
       "    </tr>\n",
       "    <tr>\n",
       "      <th>2018-03-01 00:30:00</th>\n",
       "      <td>20</td>\n",
       "    </tr>\n",
       "    <tr>\n",
       "      <th>2018-03-01 00:40:00</th>\n",
       "      <td>32</td>\n",
       "    </tr>\n",
       "  </tbody>\n",
       "</table>\n",
       "</div>"
      ],
      "text/plain": [
       "                     num_orders\n",
       "datetime                       \n",
       "2018-03-01 00:00:00           9\n",
       "2018-03-01 00:10:00          14\n",
       "2018-03-01 00:20:00          28\n",
       "2018-03-01 00:30:00          20\n",
       "2018-03-01 00:40:00          32"
      ]
     },
     "execution_count": 6,
     "metadata": {},
     "output_type": "execute_result"
    }
   ],
   "source": [
    "data.head()"
   ]
  },
  {
   "cell_type": "markdown",
   "metadata": {},
   "source": [
    "<div class=\"alert alert-success\">\n",
    "<b>✔️ Комментарий ревьюера:</b>  \n",
    "\n",
    "Здорово, что проверил в хронологическом ли порядке расположены значения индекса✨\n",
    "    \n",
    "</div>"
   ]
  },
  {
   "cell_type": "markdown",
   "metadata": {},
   "source": [
    "### Ресемплирование по одному часу."
   ]
  },
  {
   "cell_type": "code",
   "execution_count": 7,
   "metadata": {},
   "outputs": [],
   "source": [
    "data = data.resample('1H').sum()"
   ]
  },
  {
   "cell_type": "code",
   "execution_count": 8,
   "metadata": {},
   "outputs": [
    {
     "data": {
      "text/html": [
       "<div>\n",
       "<style scoped>\n",
       "    .dataframe tbody tr th:only-of-type {\n",
       "        vertical-align: middle;\n",
       "    }\n",
       "\n",
       "    .dataframe tbody tr th {\n",
       "        vertical-align: top;\n",
       "    }\n",
       "\n",
       "    .dataframe thead th {\n",
       "        text-align: right;\n",
       "    }\n",
       "</style>\n",
       "<table border=\"1\" class=\"dataframe\">\n",
       "  <thead>\n",
       "    <tr style=\"text-align: right;\">\n",
       "      <th></th>\n",
       "      <th>num_orders</th>\n",
       "    </tr>\n",
       "    <tr>\n",
       "      <th>datetime</th>\n",
       "      <th></th>\n",
       "    </tr>\n",
       "  </thead>\n",
       "  <tbody>\n",
       "    <tr>\n",
       "      <th>2018-03-01 00:00:00</th>\n",
       "      <td>124</td>\n",
       "    </tr>\n",
       "    <tr>\n",
       "      <th>2018-03-01 01:00:00</th>\n",
       "      <td>85</td>\n",
       "    </tr>\n",
       "    <tr>\n",
       "      <th>2018-03-01 02:00:00</th>\n",
       "      <td>71</td>\n",
       "    </tr>\n",
       "    <tr>\n",
       "      <th>2018-03-01 03:00:00</th>\n",
       "      <td>66</td>\n",
       "    </tr>\n",
       "    <tr>\n",
       "      <th>2018-03-01 04:00:00</th>\n",
       "      <td>43</td>\n",
       "    </tr>\n",
       "  </tbody>\n",
       "</table>\n",
       "</div>"
      ],
      "text/plain": [
       "                     num_orders\n",
       "datetime                       \n",
       "2018-03-01 00:00:00         124\n",
       "2018-03-01 01:00:00          85\n",
       "2018-03-01 02:00:00          71\n",
       "2018-03-01 03:00:00          66\n",
       "2018-03-01 04:00:00          43"
      ]
     },
     "execution_count": 8,
     "metadata": {},
     "output_type": "execute_result"
    }
   ],
   "source": [
    "data.head()"
   ]
  },
  {
   "cell_type": "markdown",
   "metadata": {},
   "source": [
    "### Проверка на стационарность"
   ]
  },
  {
   "cell_type": "code",
   "execution_count": 9,
   "metadata": {},
   "outputs": [],
   "source": [
    "data['mean'] = data['num_orders'].rolling(15).mean()\n",
    "data['std'] = data['num_orders'].rolling(15).std()"
   ]
  },
  {
   "cell_type": "code",
   "execution_count": 10,
   "metadata": {},
   "outputs": [
    {
     "data": {
      "image/png": "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\n",
      "text/plain": [
       "<Figure size 640x480 with 1 Axes>"
      ]
     },
     "metadata": {},
     "output_type": "display_data"
    }
   ],
   "source": [
    "data.plot(title='Временной ряд службы такси');"
   ]
  },
  {
   "cell_type": "markdown",
   "metadata": {},
   "source": [
    "Так как ряд и стандартное отклонение изменяются, то ряд не является стационарным"
   ]
  },
  {
   "cell_type": "code",
   "execution_count": 11,
   "metadata": {},
   "outputs": [],
   "source": [
    "data = data.drop(['std','mean'],axis=1)\n"
   ]
  },
  {
   "cell_type": "markdown",
   "metadata": {},
   "source": [
    "<div class=\"alert alert-success\">\n",
    "<b>✔️ Комментарий ревьюера:</b>  \n",
    "\n",
    "\n",
    "Хорошее начало проекта!👍\n",
    "       \n",
    "- Молодец, что провел сглаживание данных по одному часу (ресемплирование) и построил график временного ряда. \n",
    "- Здорово, что отметил скользящее среднее  \n",
    "\n",
    "</div>"
   ]
  },
  {
   "cell_type": "markdown",
   "metadata": {},
   "source": [
    "<div class=\"alert alert-warning\">\n",
    "<b>⚠️ Комментарий ревьюера:</b> \n",
    "    \n",
    "Всем графикам проекта стоит добавить название =)\n",
    "    \n",
    "    \n",
    "</div>"
   ]
  },
  {
   "cell_type": "markdown",
   "metadata": {},
   "source": [
    "<div class=\"alert alert-info\"> <b>Комментарий студента:</b><br>\n",
    "     <b>Выполнено</b>\n",
    "</div>"
   ]
  },
  {
   "cell_type": "markdown",
   "metadata": {},
   "source": [
    "### Тренд и сезонность"
   ]
  },
  {
   "cell_type": "markdown",
   "metadata": {},
   "source": [
    "Разложение временного ряда на три составляющие: тренд, сезонность и остаток"
   ]
  },
  {
   "cell_type": "code",
   "execution_count": 12,
   "metadata": {},
   "outputs": [],
   "source": [
    "decomposed = seasonal_decompose(data['num_orders'])"
   ]
  },
  {
   "cell_type": "code",
   "execution_count": 13,
   "metadata": {},
   "outputs": [
    {
     "data": {
      "image/png": "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\n",
      "text/plain": [
       "<Figure size 1200x800 with 2 Axes>"
      ]
     },
     "metadata": {},
     "output_type": "display_data"
    }
   ],
   "source": [
    "plt.figure(figsize=(12, 8))\n",
    "plt.subplot(311)\n",
    "\n",
    "decomposed.trend.plot(ax=plt.gca())\n",
    "plt.title('Trend')\n",
    "#plt.subplot(312)\n",
    "#decomposed.seasonal.plot(ax=plt.gca())\n",
    "#plt.title('Seasonality')\n",
    "plt.subplot(312)\n",
    "decomposed.resid.plot(ax=plt.gca())\n",
    "plt.title('Residuals')\n",
    "plt.tight_layout()"
   ]
  },
  {
   "cell_type": "markdown",
   "metadata": {},
   "source": [
    "Увеличение масштаба отображения"
   ]
  },
  {
   "cell_type": "code",
   "execution_count": 14,
   "metadata": {},
   "outputs": [
    {
     "data": {
      "image/png": "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\n",
      "text/plain": [
       "<Figure size 1200x800 with 3 Axes>"
      ]
     },
     "metadata": {},
     "output_type": "display_data"
    }
   ],
   "source": [
    "plt.figure(figsize=(12, 8))\n",
    "plt.subplot(311)\n",
    "decomposed.trend.plot(ax=plt.gca())\n",
    "plt.title('Trend')\n",
    "plt.subplot(312)\n",
    "decomposed.seasonal['2018-08-01':'2018-08-05'].plot(ax=plt.gca())\n",
    "plt.title('Seasonality')\n",
    "plt.subplot(313)\n",
    "decomposed.seasonal['2018-08-01':'2018-08-01'].plot(ax=plt.gca())\n",
    "plt.title('Seasonality')\n",
    "plt.tight_layout()"
   ]
  },
  {
   "cell_type": "markdown",
   "metadata": {},
   "source": [
    "Тренд к увеличению поедок в такси к концу лета<br>\n",
    "Сезенность наблюдается в дневных поездках: пик - 00 часов, минимальное количество поездок - 6 утра, 2 локальных пика - в районе 9 утра (на работу), 17.00 (с работы)"
   ]
  },
  {
   "cell_type": "markdown",
   "metadata": {},
   "source": [
    "### Вывод:"
   ]
  },
  {
   "cell_type": "markdown",
   "metadata": {},
   "source": [
    "Данные считаны, проверены на дубликаты и отсортированы<br>\n",
    "Проведено ресемплирование по 1 часу<br>\n",
    "Временной ряд не является стационарным<br>\n",
    "Наблюдается тренд к увеличению числа поездок к концу лета<br> \n",
    "Cезонность проявляется в двух пиках, связанных с поездками на работу и с работы, максимального числа поездок в полночь и минимального количества в 6 утра\n"
   ]
  },
  {
   "cell_type": "markdown",
   "metadata": {},
   "source": [
    "<div class=\"alert alert-success\">\n",
    "<b>✔️ Комментарий ревьюера:</b> \n",
    " \n",
    "Хорошая работа🔥\n",
    "    \n",
    "- Молодец, что разложил временной ряд на тренды и сезонность, построил графики. \n",
    "- Здорово, что сезонность визуализирована на коротком интервале✨ \n",
    "- Очень хорошо, что зафиксированы выводы по этапу \n",
    "    \n",
    "***\n",
    "    \n",
    "На будущее: можно еще **провести проверку ряда на стационарность с помощью тест Дики-Фуллера `adfuller()`**\n",
    "    \n",
    "Стационарный ряд - это такой ряд, у которого среднее и стандартное отклонение не меняются.\n",
    "\n",
    "Проверка на стационарность может быть выполнена следующими способами:\n",
    "- Визуально: отобразать временной ряд и проверить тенденции или сезонность\n",
    "- Статистически: разделить временные ряды и сравнить среднее значение и дисперсию каждого раздела\n",
    "- Провести статистический тест: тест Дики-Фуллера\n",
    "    \n",
    "Расширенный Тест Дики — Фуллера, 4 версии теста:\n",
    "- Без константы и тренда: 'nc' \n",
    "- С константой, но без тренда: 'c' \n",
    "- С константой и линейным трендом: 'ct' \n",
    "- С константой, линейным и квадратичным трендом: 'ctt'\n",
    "    \n",
    "Пример: \n",
    "    \n",
    "        ts = taxi['num_orders']\n",
    "        st_test = adfuller(ts, regression='ctt')\n",
    "        \n",
    "   \n",
    "    \n",
    "</div>"
   ]
  },
  {
   "cell_type": "markdown",
   "metadata": {},
   "source": [
    "<div class=\"alert alert-danger\">\n",
    "<b>❌ Комментарий ревьюера:</b> \n",
    "\n",
    "Все отлично, только один небольшой пункт:\n",
    "    \n",
    "- График сезонности, **который визуализирован на всем временном промежутке**, стоит удалить\\заменить, т.к. для анализа он не подходит (не информативен, к сожалению)\n",
    "  \n",
    "</div>"
   ]
  },
  {
   "cell_type": "markdown",
   "metadata": {},
   "source": [
    "<div class=\"alert alert-info\"> <b>Комментарий студента:</b><br>\n",
    "     <b>Выполнено </b><br>\n",
    "    График удален\n",
    "</div>"
   ]
  },
  {
   "cell_type": "markdown",
   "metadata": {},
   "source": [
    "<div class=\"alert alert-info\"> <b>Комментарий ревьюера (на будущее):</b> \n",
    "     \n",
    "На декомпозиии можно еще сделать график остатков.\n",
    "    \n",
    "**График остатков** интрепетировать сложнее, чем тренда или сезонности - в идеале, график остатков должен содержать только шум без систематических компонент. Анализ остатков важен, но в рамках данного проекта проводить его не требуется (!).\n",
    "    \n",
    "    \n",
    "**На будущее:**\n",
    "    \n",
    "*Анализ остатков.* Если остатки систематически распределены (например, отрицательны в первой части ряда и примерно равны нуля во второй) или включают некоторую периодическую компоненту, то это свидетельствует о неадекватности модели. Анализ остатков чрезвычайно важен и необходим при анализе временных рядов. Процедура оценивания предполагает, что остатки не коррелированы и нормально распределены.\n",
    "    \n",
    "Подробнее: http://statsoft.ru/home/textbook/modules/sttimser.html\n",
    "  \n",
    "</div>"
   ]
  },
  {
   "cell_type": "markdown",
   "metadata": {},
   "source": [
    "## Анализ"
   ]
  },
  {
   "cell_type": "markdown",
   "metadata": {},
   "source": [
    "### Получение новых признаков"
   ]
  },
  {
   "cell_type": "markdown",
   "metadata": {},
   "source": [
    "Добавление признака для стационарного ряда"
   ]
  },
  {
   "cell_type": "code",
   "execution_count": 15,
   "metadata": {},
   "outputs": [],
   "source": [
    "data['shift'] = abs(data['num_orders'] - data['num_orders'].shift())"
   ]
  },
  {
   "cell_type": "markdown",
   "metadata": {},
   "source": [
    "Функция добавления новых календарных признаков:<br> \n",
    "месяц, день, день недели, час<br>\n",
    "Также отстающие значения с помощью функции shift(): 'lag_1', 'lag_2' — и до величины max_lag, признаки Скользящая cтандартное отклонение:"
   ]
  },
  {
   "cell_type": "code",
   "execution_count": 16,
   "metadata": {},
   "outputs": [],
   "source": [
    "def make_features(data, max_lag, rolling_mean_size):\n",
    "    #data['month'] = data.index.month\n",
    "    data['day'] = data.index.day\n",
    "    data['dayofweek'] = data.index.dayofweek\n",
    "    data['hour'] = data.index.hour\n",
    "    \n",
    "    for i in range(1, max_lag + 1):\n",
    "        data['lag_' + str(i)] = data['num_orders'].shift(i)\n",
    "    data['rolling_mean'] = data['num_orders'].shift().rolling(rolling_mean_size).mean()"
   ]
  },
  {
   "cell_type": "markdown",
   "metadata": {},
   "source": [
    "<div class=\"alert alert-success\">\n",
    "<b>✔️ Комментарий ревьюера:</b>  \n",
    "\n",
    "Молодец, что подготовил признаки✨ \n",
    "    \n",
    "В проекте стоит задача **спрогнозировать количество заказов такси на следующий час.**\n",
    "       \n",
    "Т.е. цель создать три типа признаков:\n",
    "- Календарные признаки - здесь создадим столбцы **с днем недели и часом.** \n",
    "- «Отстающие значения» - они помогают нам трансформировать задачу прогнозирования в задачу обучения с учителем, потому что один из способов спрогнозировать величину в периоде t+1 - это использовать предыдущие значения;\n",
    "- Скользящее среднее - как признак, задающий тренд временного ряда.     \n",
    "       \n",
    "\n",
    "</div>"
   ]
  },
  {
   "cell_type": "markdown",
   "metadata": {},
   "source": [
    "<div class=\"alert alert-warning\">\n",
    "<b>⚠️ Комментарий ревьюера:</b> \n",
    "    \n",
    "Месяц выделять не требуется, т.к. в датасете период менее года, тренд будет прослеживаться и без месяца\n",
    "    \n",
    "</div>"
   ]
  },
  {
   "cell_type": "markdown",
   "metadata": {},
   "source": [
    "<div class=\"alert alert-info\"> <b>Комментарий студента:</b><br>\n",
    "     <b>Выполнено</b><br>\n",
    "    Признак убран\n",
    "    \n",
    "</div>"
   ]
  },
  {
   "cell_type": "code",
   "execution_count": 17,
   "metadata": {},
   "outputs": [],
   "source": [
    "make_features(data, 10, 10)"
   ]
  },
  {
   "cell_type": "markdown",
   "metadata": {},
   "source": [
    "<div class=\"alert alert-warning\">\n",
    "<b>⚠️ Комментарий ревьюера:</b> \n",
    "    \n",
    "Подскажи, пожалуйста, почему выбираешь 14? Логичней было бы привязать к часам\n",
    "    \n",
    "</div>"
   ]
  },
  {
   "cell_type": "markdown",
   "metadata": {},
   "source": [
    "<div class=\"alert alert-info\"> <b>Комментарий студента:</b><br>\n",
    "     <b>Вопрос</b>\n",
    "        Как лучше здесь рассчитать привязку к часам?\n",
    "</div>"
   ]
  },
  {
   "cell_type": "code",
   "execution_count": 18,
   "metadata": {},
   "outputs": [
    {
     "data": {
      "text/html": [
       "<div>\n",
       "<style scoped>\n",
       "    .dataframe tbody tr th:only-of-type {\n",
       "        vertical-align: middle;\n",
       "    }\n",
       "\n",
       "    .dataframe tbody tr th {\n",
       "        vertical-align: top;\n",
       "    }\n",
       "\n",
       "    .dataframe thead th {\n",
       "        text-align: right;\n",
       "    }\n",
       "</style>\n",
       "<table border=\"1\" class=\"dataframe\">\n",
       "  <thead>\n",
       "    <tr style=\"text-align: right;\">\n",
       "      <th></th>\n",
       "      <th>num_orders</th>\n",
       "      <th>shift</th>\n",
       "      <th>day</th>\n",
       "      <th>dayofweek</th>\n",
       "      <th>hour</th>\n",
       "      <th>lag_1</th>\n",
       "      <th>lag_2</th>\n",
       "      <th>lag_3</th>\n",
       "      <th>lag_4</th>\n",
       "      <th>lag_5</th>\n",
       "      <th>lag_6</th>\n",
       "      <th>lag_7</th>\n",
       "      <th>lag_8</th>\n",
       "      <th>lag_9</th>\n",
       "      <th>lag_10</th>\n",
       "      <th>rolling_mean</th>\n",
       "    </tr>\n",
       "    <tr>\n",
       "      <th>datetime</th>\n",
       "      <th></th>\n",
       "      <th></th>\n",
       "      <th></th>\n",
       "      <th></th>\n",
       "      <th></th>\n",
       "      <th></th>\n",
       "      <th></th>\n",
       "      <th></th>\n",
       "      <th></th>\n",
       "      <th></th>\n",
       "      <th></th>\n",
       "      <th></th>\n",
       "      <th></th>\n",
       "      <th></th>\n",
       "      <th></th>\n",
       "      <th></th>\n",
       "    </tr>\n",
       "  </thead>\n",
       "  <tbody>\n",
       "    <tr>\n",
       "      <th>2018-03-01 00:00:00</th>\n",
       "      <td>124</td>\n",
       "      <td>NaN</td>\n",
       "      <td>1</td>\n",
       "      <td>3</td>\n",
       "      <td>0</td>\n",
       "      <td>NaN</td>\n",
       "      <td>NaN</td>\n",
       "      <td>NaN</td>\n",
       "      <td>NaN</td>\n",
       "      <td>NaN</td>\n",
       "      <td>NaN</td>\n",
       "      <td>NaN</td>\n",
       "      <td>NaN</td>\n",
       "      <td>NaN</td>\n",
       "      <td>NaN</td>\n",
       "      <td>NaN</td>\n",
       "    </tr>\n",
       "    <tr>\n",
       "      <th>2018-03-01 01:00:00</th>\n",
       "      <td>85</td>\n",
       "      <td>39.0</td>\n",
       "      <td>1</td>\n",
       "      <td>3</td>\n",
       "      <td>1</td>\n",
       "      <td>124.0</td>\n",
       "      <td>NaN</td>\n",
       "      <td>NaN</td>\n",
       "      <td>NaN</td>\n",
       "      <td>NaN</td>\n",
       "      <td>NaN</td>\n",
       "      <td>NaN</td>\n",
       "      <td>NaN</td>\n",
       "      <td>NaN</td>\n",
       "      <td>NaN</td>\n",
       "      <td>NaN</td>\n",
       "    </tr>\n",
       "    <tr>\n",
       "      <th>2018-03-01 02:00:00</th>\n",
       "      <td>71</td>\n",
       "      <td>14.0</td>\n",
       "      <td>1</td>\n",
       "      <td>3</td>\n",
       "      <td>2</td>\n",
       "      <td>85.0</td>\n",
       "      <td>124.0</td>\n",
       "      <td>NaN</td>\n",
       "      <td>NaN</td>\n",
       "      <td>NaN</td>\n",
       "      <td>NaN</td>\n",
       "      <td>NaN</td>\n",
       "      <td>NaN</td>\n",
       "      <td>NaN</td>\n",
       "      <td>NaN</td>\n",
       "      <td>NaN</td>\n",
       "    </tr>\n",
       "    <tr>\n",
       "      <th>2018-03-01 03:00:00</th>\n",
       "      <td>66</td>\n",
       "      <td>5.0</td>\n",
       "      <td>1</td>\n",
       "      <td>3</td>\n",
       "      <td>3</td>\n",
       "      <td>71.0</td>\n",
       "      <td>85.0</td>\n",
       "      <td>124.0</td>\n",
       "      <td>NaN</td>\n",
       "      <td>NaN</td>\n",
       "      <td>NaN</td>\n",
       "      <td>NaN</td>\n",
       "      <td>NaN</td>\n",
       "      <td>NaN</td>\n",
       "      <td>NaN</td>\n",
       "      <td>NaN</td>\n",
       "    </tr>\n",
       "    <tr>\n",
       "      <th>2018-03-01 04:00:00</th>\n",
       "      <td>43</td>\n",
       "      <td>23.0</td>\n",
       "      <td>1</td>\n",
       "      <td>3</td>\n",
       "      <td>4</td>\n",
       "      <td>66.0</td>\n",
       "      <td>71.0</td>\n",
       "      <td>85.0</td>\n",
       "      <td>124.0</td>\n",
       "      <td>NaN</td>\n",
       "      <td>NaN</td>\n",
       "      <td>NaN</td>\n",
       "      <td>NaN</td>\n",
       "      <td>NaN</td>\n",
       "      <td>NaN</td>\n",
       "      <td>NaN</td>\n",
       "    </tr>\n",
       "  </tbody>\n",
       "</table>\n",
       "</div>"
      ],
      "text/plain": [
       "                     num_orders  shift  day  dayofweek  hour  lag_1  lag_2  \\\n",
       "datetime                                                                     \n",
       "2018-03-01 00:00:00         124    NaN    1          3     0    NaN    NaN   \n",
       "2018-03-01 01:00:00          85   39.0    1          3     1  124.0    NaN   \n",
       "2018-03-01 02:00:00          71   14.0    1          3     2   85.0  124.0   \n",
       "2018-03-01 03:00:00          66    5.0    1          3     3   71.0   85.0   \n",
       "2018-03-01 04:00:00          43   23.0    1          3     4   66.0   71.0   \n",
       "\n",
       "                     lag_3  lag_4  lag_5  lag_6  lag_7  lag_8  lag_9  lag_10  \\\n",
       "datetime                                                                       \n",
       "2018-03-01 00:00:00    NaN    NaN    NaN    NaN    NaN    NaN    NaN     NaN   \n",
       "2018-03-01 01:00:00    NaN    NaN    NaN    NaN    NaN    NaN    NaN     NaN   \n",
       "2018-03-01 02:00:00    NaN    NaN    NaN    NaN    NaN    NaN    NaN     NaN   \n",
       "2018-03-01 03:00:00  124.0    NaN    NaN    NaN    NaN    NaN    NaN     NaN   \n",
       "2018-03-01 04:00:00   85.0  124.0    NaN    NaN    NaN    NaN    NaN     NaN   \n",
       "\n",
       "                     rolling_mean  \n",
       "datetime                           \n",
       "2018-03-01 00:00:00           NaN  \n",
       "2018-03-01 01:00:00           NaN  \n",
       "2018-03-01 02:00:00           NaN  \n",
       "2018-03-01 03:00:00           NaN  \n",
       "2018-03-01 04:00:00           NaN  "
      ]
     },
     "execution_count": 18,
     "metadata": {},
     "output_type": "execute_result"
    }
   ],
   "source": [
    "data.head()"
   ]
  },
  {
   "cell_type": "markdown",
   "metadata": {},
   "source": [
    "<div class=\"alert alert-warning\">\n",
    "<b>⚠️ Комментарий ревьюера:</b> \n",
    "    \n",
    "Рекомендую всегда ограничивать вывод таблиц несколькими строками, так оптимальнее используется память компьютера и проект выглядит аккуратнее 😊\n",
    "\n",
    "</div>"
   ]
  },
  {
   "cell_type": "markdown",
   "metadata": {},
   "source": [
    "Удаление строк, содержащих пропущенные значения"
   ]
  },
  {
   "cell_type": "code",
   "execution_count": 19,
   "metadata": {},
   "outputs": [],
   "source": [
    "data = data.dropna()"
   ]
  },
  {
   "cell_type": "code",
   "execution_count": 20,
   "metadata": {},
   "outputs": [
    {
     "data": {
      "text/html": [
       "<div>\n",
       "<style scoped>\n",
       "    .dataframe tbody tr th:only-of-type {\n",
       "        vertical-align: middle;\n",
       "    }\n",
       "\n",
       "    .dataframe tbody tr th {\n",
       "        vertical-align: top;\n",
       "    }\n",
       "\n",
       "    .dataframe thead th {\n",
       "        text-align: right;\n",
       "    }\n",
       "</style>\n",
       "<table border=\"1\" class=\"dataframe\">\n",
       "  <thead>\n",
       "    <tr style=\"text-align: right;\">\n",
       "      <th></th>\n",
       "      <th>num_orders</th>\n",
       "      <th>shift</th>\n",
       "      <th>day</th>\n",
       "      <th>dayofweek</th>\n",
       "      <th>hour</th>\n",
       "      <th>lag_1</th>\n",
       "      <th>lag_2</th>\n",
       "      <th>lag_3</th>\n",
       "      <th>lag_4</th>\n",
       "      <th>lag_5</th>\n",
       "      <th>lag_6</th>\n",
       "      <th>lag_7</th>\n",
       "      <th>lag_8</th>\n",
       "      <th>lag_9</th>\n",
       "      <th>lag_10</th>\n",
       "      <th>rolling_mean</th>\n",
       "    </tr>\n",
       "    <tr>\n",
       "      <th>datetime</th>\n",
       "      <th></th>\n",
       "      <th></th>\n",
       "      <th></th>\n",
       "      <th></th>\n",
       "      <th></th>\n",
       "      <th></th>\n",
       "      <th></th>\n",
       "      <th></th>\n",
       "      <th></th>\n",
       "      <th></th>\n",
       "      <th></th>\n",
       "      <th></th>\n",
       "      <th></th>\n",
       "      <th></th>\n",
       "      <th></th>\n",
       "      <th></th>\n",
       "    </tr>\n",
       "  </thead>\n",
       "  <tbody>\n",
       "    <tr>\n",
       "      <th>2018-03-01 10:00:00</th>\n",
       "      <td>64</td>\n",
       "      <td>5.0</td>\n",
       "      <td>1</td>\n",
       "      <td>3</td>\n",
       "      <td>10</td>\n",
       "      <td>69.0</td>\n",
       "      <td>34.0</td>\n",
       "      <td>15.0</td>\n",
       "      <td>12.0</td>\n",
       "      <td>6.0</td>\n",
       "      <td>43.0</td>\n",
       "      <td>66.0</td>\n",
       "      <td>71.0</td>\n",
       "      <td>85.0</td>\n",
       "      <td>124.0</td>\n",
       "      <td>52.5</td>\n",
       "    </tr>\n",
       "    <tr>\n",
       "      <th>2018-03-01 11:00:00</th>\n",
       "      <td>96</td>\n",
       "      <td>32.0</td>\n",
       "      <td>1</td>\n",
       "      <td>3</td>\n",
       "      <td>11</td>\n",
       "      <td>64.0</td>\n",
       "      <td>69.0</td>\n",
       "      <td>34.0</td>\n",
       "      <td>15.0</td>\n",
       "      <td>12.0</td>\n",
       "      <td>6.0</td>\n",
       "      <td>43.0</td>\n",
       "      <td>66.0</td>\n",
       "      <td>71.0</td>\n",
       "      <td>85.0</td>\n",
       "      <td>46.5</td>\n",
       "    </tr>\n",
       "    <tr>\n",
       "      <th>2018-03-01 12:00:00</th>\n",
       "      <td>30</td>\n",
       "      <td>66.0</td>\n",
       "      <td>1</td>\n",
       "      <td>3</td>\n",
       "      <td>12</td>\n",
       "      <td>96.0</td>\n",
       "      <td>64.0</td>\n",
       "      <td>69.0</td>\n",
       "      <td>34.0</td>\n",
       "      <td>15.0</td>\n",
       "      <td>12.0</td>\n",
       "      <td>6.0</td>\n",
       "      <td>43.0</td>\n",
       "      <td>66.0</td>\n",
       "      <td>71.0</td>\n",
       "      <td>47.6</td>\n",
       "    </tr>\n",
       "    <tr>\n",
       "      <th>2018-03-01 13:00:00</th>\n",
       "      <td>32</td>\n",
       "      <td>2.0</td>\n",
       "      <td>1</td>\n",
       "      <td>3</td>\n",
       "      <td>13</td>\n",
       "      <td>30.0</td>\n",
       "      <td>96.0</td>\n",
       "      <td>64.0</td>\n",
       "      <td>69.0</td>\n",
       "      <td>34.0</td>\n",
       "      <td>15.0</td>\n",
       "      <td>12.0</td>\n",
       "      <td>6.0</td>\n",
       "      <td>43.0</td>\n",
       "      <td>66.0</td>\n",
       "      <td>43.5</td>\n",
       "    </tr>\n",
       "    <tr>\n",
       "      <th>2018-03-01 14:00:00</th>\n",
       "      <td>48</td>\n",
       "      <td>16.0</td>\n",
       "      <td>1</td>\n",
       "      <td>3</td>\n",
       "      <td>14</td>\n",
       "      <td>32.0</td>\n",
       "      <td>30.0</td>\n",
       "      <td>96.0</td>\n",
       "      <td>64.0</td>\n",
       "      <td>69.0</td>\n",
       "      <td>34.0</td>\n",
       "      <td>15.0</td>\n",
       "      <td>12.0</td>\n",
       "      <td>6.0</td>\n",
       "      <td>43.0</td>\n",
       "      <td>40.1</td>\n",
       "    </tr>\n",
       "  </tbody>\n",
       "</table>\n",
       "</div>"
      ],
      "text/plain": [
       "                     num_orders  shift  day  dayofweek  hour  lag_1  lag_2  \\\n",
       "datetime                                                                     \n",
       "2018-03-01 10:00:00          64    5.0    1          3    10   69.0   34.0   \n",
       "2018-03-01 11:00:00          96   32.0    1          3    11   64.0   69.0   \n",
       "2018-03-01 12:00:00          30   66.0    1          3    12   96.0   64.0   \n",
       "2018-03-01 13:00:00          32    2.0    1          3    13   30.0   96.0   \n",
       "2018-03-01 14:00:00          48   16.0    1          3    14   32.0   30.0   \n",
       "\n",
       "                     lag_3  lag_4  lag_5  lag_6  lag_7  lag_8  lag_9  lag_10  \\\n",
       "datetime                                                                       \n",
       "2018-03-01 10:00:00   15.0   12.0    6.0   43.0   66.0   71.0   85.0   124.0   \n",
       "2018-03-01 11:00:00   34.0   15.0   12.0    6.0   43.0   66.0   71.0    85.0   \n",
       "2018-03-01 12:00:00   69.0   34.0   15.0   12.0    6.0   43.0   66.0    71.0   \n",
       "2018-03-01 13:00:00   64.0   69.0   34.0   15.0   12.0    6.0   43.0    66.0   \n",
       "2018-03-01 14:00:00   96.0   64.0   69.0   34.0   15.0   12.0    6.0    43.0   \n",
       "\n",
       "                     rolling_mean  \n",
       "datetime                           \n",
       "2018-03-01 10:00:00          52.5  \n",
       "2018-03-01 11:00:00          46.5  \n",
       "2018-03-01 12:00:00          47.6  \n",
       "2018-03-01 13:00:00          43.5  \n",
       "2018-03-01 14:00:00          40.1  "
      ]
     },
     "execution_count": 20,
     "metadata": {},
     "output_type": "execute_result"
    }
   ],
   "source": [
    "data.head()"
   ]
  },
  {
   "cell_type": "markdown",
   "metadata": {},
   "source": [
    "### Разделение на выборки"
   ]
  },
  {
   "cell_type": "markdown",
   "metadata": {},
   "source": [
    "features - признаки<br>\n",
    "target — целевой признак.\n",
    "\n",
    "train - обучающая<br>\n",
    "valid - валидационная<br>\n",
    "test - тестовая"
   ]
  },
  {
   "cell_type": "markdown",
   "metadata": {},
   "source": [
    "На обучающую выборку отведем 70% данных"
   ]
  },
  {
   "cell_type": "code",
   "execution_count": 21,
   "metadata": {},
   "outputs": [],
   "source": [
    "train, valid = train_test_split(data, shuffle=False, test_size=0.1)"
   ]
  },
  {
   "cell_type": "markdown",
   "metadata": {},
   "source": [
    "Получение валидационной и тестовой выборок"
   ]
  },
  {
   "cell_type": "code",
   "execution_count": 22,
   "metadata": {},
   "outputs": [],
   "source": [
    "#valid, test = train_test_split(valid, shuffle=False, test_size=0.5)"
   ]
  },
  {
   "cell_type": "code",
   "execution_count": 23,
   "metadata": {},
   "outputs": [
    {
     "data": {
      "text/plain": [
       "4406"
      ]
     },
     "execution_count": 23,
     "metadata": {},
     "output_type": "execute_result"
    }
   ],
   "source": [
    "data.shape[0]"
   ]
  },
  {
   "cell_type": "code",
   "execution_count": 24,
   "metadata": {},
   "outputs": [
    {
     "data": {
      "text/plain": [
       "3965"
      ]
     },
     "execution_count": 24,
     "metadata": {},
     "output_type": "execute_result"
    }
   ],
   "source": [
    "train.shape[0]"
   ]
  },
  {
   "cell_type": "code",
   "execution_count": 25,
   "metadata": {},
   "outputs": [
    {
     "data": {
      "text/plain": [
       "441"
      ]
     },
     "execution_count": 25,
     "metadata": {},
     "output_type": "execute_result"
    }
   ],
   "source": [
    "valid.shape[0]"
   ]
  },
  {
   "cell_type": "code",
   "execution_count": 26,
   "metadata": {},
   "outputs": [],
   "source": [
    "#test.shape[0]"
   ]
  },
  {
   "cell_type": "code",
   "execution_count": 27,
   "metadata": {
    "scrolled": false
   },
   "outputs": [],
   "source": [
    "#test.shape[0]/data.shape[0]"
   ]
  },
  {
   "cell_type": "markdown",
   "metadata": {},
   "source": [
    "Тестовая выборка составляет 10% от исходного датафрейма"
   ]
  },
  {
   "cell_type": "code",
   "execution_count": 28,
   "metadata": {},
   "outputs": [],
   "source": [
    "train_features = train.drop(['num_orders'], axis=1)\n",
    "valid_features = valid.drop(['num_orders'], axis=1)\n",
    "#test_features = test.drop(['num_orders'], axis=1)\n",
    "\n",
    "train_target = train['num_orders']\n",
    "valid_target = valid['num_orders']\n",
    "#test_target = test['num_orders']"
   ]
  },
  {
   "cell_type": "code",
   "execution_count": 29,
   "metadata": {},
   "outputs": [
    {
     "data": {
      "text/plain": [
       "(3965, 15)"
      ]
     },
     "execution_count": 29,
     "metadata": {},
     "output_type": "execute_result"
    }
   ],
   "source": [
    "train_features.shape"
   ]
  },
  {
   "cell_type": "code",
   "execution_count": 30,
   "metadata": {},
   "outputs": [
    {
     "data": {
      "text/plain": [
       "(441, 15)"
      ]
     },
     "execution_count": 30,
     "metadata": {},
     "output_type": "execute_result"
    }
   ],
   "source": [
    "valid_features.shape"
   ]
  },
  {
   "cell_type": "code",
   "execution_count": 31,
   "metadata": {},
   "outputs": [],
   "source": [
    "#test_features.shape"
   ]
  },
  {
   "cell_type": "code",
   "execution_count": 32,
   "metadata": {},
   "outputs": [
    {
     "data": {
      "text/plain": [
       "(3965,)"
      ]
     },
     "execution_count": 32,
     "metadata": {},
     "output_type": "execute_result"
    }
   ],
   "source": [
    "train_target.shape"
   ]
  },
  {
   "cell_type": "code",
   "execution_count": 33,
   "metadata": {},
   "outputs": [
    {
     "data": {
      "text/plain": [
       "(441,)"
      ]
     },
     "execution_count": 33,
     "metadata": {},
     "output_type": "execute_result"
    }
   ],
   "source": [
    "valid_target.shape"
   ]
  },
  {
   "cell_type": "markdown",
   "metadata": {},
   "source": [
    "<div class=\"alert alert-success\">\n",
    "<b>✔️ Комментарий ревьюера:</b>  \n",
    "\n",
    "Здорово, что при делении на выборки указан параметр `shuffle=False`, т.к. в train_test_split его дефолтное значение True. В случае временных рядов выборки перемешивать не стоит    \n",
    "\n",
    "</div>"
   ]
  },
  {
   "cell_type": "markdown",
   "metadata": {},
   "source": [
    "<div class=\"alert alert-warning\">\n",
    "<b>⚠️ Комментарий ревьюера:</b> \n",
    "    \n",
    "В целом, в рамках данного проекта можно разделить данные на две выборки - тренировочную и тестовую выборку (тестовая 10%), обучить на тренировочных, затем на тесте проверить лучшую модель. Плюс этого подхода в том, что тренировочная выборка была бы больше. А валидационная в любом случае довольно маленькая. Это не ошибка, просто для информации 😊     \n",
    "    \n",
    "</div>"
   ]
  },
  {
   "cell_type": "markdown",
   "metadata": {},
   "source": [
    "<div class=\"alert alert-info\"> <b>Комментарий студента:</b><br>\n",
    "     <b>Данные разделены на две выборки</b>\n",
    "</div>"
   ]
  },
  {
   "cell_type": "markdown",
   "metadata": {},
   "source": [
    "### Масштабирование"
   ]
  },
  {
   "cell_type": "code",
   "execution_count": 34,
   "metadata": {},
   "outputs": [],
   "source": [
    "scaler = StandardScaler()\n",
    "scaler.fit(train_features)\n",
    "\n",
    "train_features = scaler.transform(train_features)\n",
    "valid_features = scaler.transform(valid_features)\n"
   ]
  },
  {
   "cell_type": "markdown",
   "metadata": {},
   "source": [
    "### Вывод:"
   ]
  },
  {
   "cell_type": "markdown",
   "metadata": {},
   "source": [
    "- Временной ряд был приведен к стационарному, с использанием разницы между текущим и предыдущим значениями <br>\n",
    "- Добавлены признаки для обучения моделей."
   ]
  },
  {
   "cell_type": "markdown",
   "metadata": {},
   "source": [
    "## Обучение"
   ]
  },
  {
   "cell_type": "markdown",
   "metadata": {},
   "source": [
    "Функция оценки RMSE"
   ]
  },
  {
   "cell_type": "code",
   "execution_count": 35,
   "metadata": {},
   "outputs": [],
   "source": [
    "def RMSE(target, predict):\n",
    "    RMSE = mean_squared_error(target, predict) ** 0.5\n",
    "    return RMSE"
   ]
  },
  {
   "cell_type": "code",
   "execution_count": 36,
   "metadata": {},
   "outputs": [],
   "source": [
    "score = make_scorer(RMSE, greater_is_better=False)"
   ]
  },
  {
   "cell_type": "markdown",
   "metadata": {},
   "source": [
    "Функция определения лучших гиперпараметров моделей градиентного бустинга, обучения модели на полченных гиперпараметрах и определения лучшего значения score"
   ]
  },
  {
   "cell_type": "code",
   "execution_count": 37,
   "metadata": {},
   "outputs": [],
   "source": [
    "def learn_model(model,param_grid,score = score):\n",
    "    \"\"\"\n",
    "    Функция определения лучших гиперпараметров моделей градиентного бустинга, \n",
    "    обучения модели на полченных гиперпараметрах и определения лучшего значения score\n",
    "    \"\"\"\n",
    "        \n",
    "    \n",
    "    # Получение гиперпараметров исходной модели\n",
    "    dir_params = model.get_params()\n",
    "    # Подбор гиперпараметров\n",
    "    tscv = TimeSeriesSplit(n_splits=5)\n",
    "    grid_cv = GridSearchCV(model, param_grid, scoring=score, cv=tscv)\n",
    "    \n",
    "    start_time = datetime.now()\n",
    "    grid_cv.fit(train_features, train_target)\n",
    "    time_grid_search_cv = datetime.now() - start_time\n",
    "    \n",
    "    print()\n",
    "    print('Лучшие гиперпараметры')\n",
    "    print(grid_cv.best_score_)\n",
    "    print(grid_cv.best_params_)\n",
    "    \n",
    "    # Замена значений гиперпараметров на лучшие значения\n",
    "    for k,v in grid_cv.best_params_.items():\n",
    "        dir_params[k] = v\n",
    "    \n",
    "     # Применение новых гиперпараметров к модели\n",
    "    model = model.set_params(**dir_params)\n",
    "   \n",
    "    # Обучение модели на новых гиперпараметрах\n",
    "    start_time = datetime.now()\n",
    "    #model.fit(train_features, train_target)\n",
    "    model.fit(train_features, train_target)\n",
    "    \n",
    "    \n",
    "    time_model_fit = datetime.now() - start_time\n",
    "    # Получение предсказания\n",
    "    start_time = datetime.now()\n",
    "    pred_valid = model.predict(valid_features)\n",
    "    time_pred_valid = datetime.now() - start_time\n",
    "    \n",
    "    print()\n",
    "    rmse = RMSE(valid_target, pred_valid).round(2)\n",
    "    print('RMSE на валидационной выборке: ', rmse)\n",
    "    # Возврат обученной модели и времени выполнения подбора параметра, времени обучения и предсказания\n",
    "    return model, rmse,time_grid_search_cv,time_model_fit,time_pred_valid\n",
    "    "
   ]
  },
  {
   "cell_type": "code",
   "execution_count": 38,
   "metadata": {},
   "outputs": [],
   "source": [
    "def app_data_model_param(df,list_param):\n",
    "    df.loc[-1] = list_param\n",
    "    df.index = df.index + 1\n",
    "    df = df.sort_index()"
   ]
  },
  {
   "cell_type": "markdown",
   "metadata": {},
   "source": [
    "Таблица для сбора данных полученных результатов"
   ]
  },
  {
   "cell_type": "code",
   "execution_count": 39,
   "metadata": {},
   "outputs": [],
   "source": [
    "model_param = pd.DataFrame(columns=['model','rmse','time_grid','time_fit_model','time_predict','pointer'])"
   ]
  },
  {
   "cell_type": "code",
   "execution_count": 40,
   "metadata": {},
   "outputs": [
    {
     "data": {
      "text/html": [
       "<div>\n",
       "<style scoped>\n",
       "    .dataframe tbody tr th:only-of-type {\n",
       "        vertical-align: middle;\n",
       "    }\n",
       "\n",
       "    .dataframe tbody tr th {\n",
       "        vertical-align: top;\n",
       "    }\n",
       "\n",
       "    .dataframe thead th {\n",
       "        text-align: right;\n",
       "    }\n",
       "</style>\n",
       "<table border=\"1\" class=\"dataframe\">\n",
       "  <thead>\n",
       "    <tr style=\"text-align: right;\">\n",
       "      <th></th>\n",
       "      <th>model</th>\n",
       "      <th>rmse</th>\n",
       "      <th>time_grid</th>\n",
       "      <th>time_fit_model</th>\n",
       "      <th>time_predict</th>\n",
       "      <th>pointer</th>\n",
       "    </tr>\n",
       "  </thead>\n",
       "  <tbody>\n",
       "  </tbody>\n",
       "</table>\n",
       "</div>"
      ],
      "text/plain": [
       "Empty DataFrame\n",
       "Columns: [model, rmse, time_grid, time_fit_model, time_predict, pointer]\n",
       "Index: []"
      ]
     },
     "execution_count": 40,
     "metadata": {},
     "output_type": "execute_result"
    }
   ],
   "source": [
    "model_param"
   ]
  },
  {
   "cell_type": "markdown",
   "metadata": {},
   "source": [
    "### Линейная регрессия"
   ]
  },
  {
   "cell_type": "code",
   "execution_count": 41,
   "metadata": {},
   "outputs": [],
   "source": [
    "name_model = 'LinearRegression'"
   ]
  },
  {
   "cell_type": "code",
   "execution_count": 42,
   "metadata": {},
   "outputs": [],
   "source": [
    "model = LinearRegression()"
   ]
  },
  {
   "cell_type": "code",
   "execution_count": 43,
   "metadata": {},
   "outputs": [],
   "source": [
    "param_grid = {'copy_X': [True,],\n",
    "              'fit_intercept': [True,]\n",
    "             }"
   ]
  },
  {
   "cell_type": "code",
   "execution_count": 44,
   "metadata": {},
   "outputs": [
    {
     "name": "stdout",
     "output_type": "stream",
     "text": [
      "\n",
      "Лучшие гиперпараметры\n",
      "-32.4201832782173\n",
      "{'copy_X': True, 'fit_intercept': True}\n",
      "\n",
      "RMSE на валидационной выборке:  53.74\n",
      "CPU times: total: 125 ms\n",
      "Wall time: 21.9 ms\n"
     ]
    }
   ],
   "source": [
    "%%time\n",
    "model,rmse,time_grid_search_cv,time_model_fit,time_pred_valid = learn_model(model,param_grid)"
   ]
  },
  {
   "cell_type": "code",
   "execution_count": 45,
   "metadata": {},
   "outputs": [],
   "source": [
    "app_data_model_param(model_param,\n",
    "                     [name_model,\n",
    "                      rmse,\n",
    "                      time_grid_search_cv.microseconds,\n",
    "                      time_model_fit.microseconds,\n",
    "                      time_pred_valid.microseconds,\n",
    "                      model\n",
    "                     ]\n",
    "                    )"
   ]
  },
  {
   "cell_type": "code",
   "execution_count": null,
   "metadata": {},
   "outputs": [],
   "source": []
  },
  {
   "cell_type": "markdown",
   "metadata": {},
   "source": [
    "### Случайный лес (RandomForestRegressor)"
   ]
  },
  {
   "cell_type": "code",
   "execution_count": 46,
   "metadata": {},
   "outputs": [],
   "source": [
    "name_model = 'RandomForestRegressor'"
   ]
  },
  {
   "cell_type": "code",
   "execution_count": 47,
   "metadata": {},
   "outputs": [],
   "source": [
    "model = RandomForestRegressor(random_state=12345)"
   ]
  },
  {
   "cell_type": "code",
   "execution_count": 48,
   "metadata": {},
   "outputs": [],
   "source": [
    "param_grid = {'max_depth': [12,15,17],\n",
    "              'n_estimators': [200,300,400]}"
   ]
  },
  {
   "cell_type": "code",
   "execution_count": 49,
   "metadata": {},
   "outputs": [
    {
     "name": "stdout",
     "output_type": "stream",
     "text": [
      "\n",
      "Лучшие гиперпараметры\n",
      "-22.131475914056658\n",
      "{'max_depth': 17, 'n_estimators': 400}\n",
      "\n",
      "RMSE на валидационной выборке:  40.93\n",
      "CPU times: total: 3min 50s\n",
      "Wall time: 3min 50s\n"
     ]
    }
   ],
   "source": [
    "%%time\n",
    "model,rmse,time_grid_search_cv,time_model_fit,time_pred_valid = learn_model(model,param_grid)"
   ]
  },
  {
   "cell_type": "code",
   "execution_count": 50,
   "metadata": {},
   "outputs": [],
   "source": [
    "app_data_model_param(model_param,\n",
    "                     [name_model,\n",
    "                      rmse,\n",
    "                      time_grid_search_cv.microseconds,\n",
    "                      time_model_fit.microseconds,\n",
    "                      time_pred_valid.microseconds,\n",
    "                      model\n",
    "                     ]\n",
    "                    )"
   ]
  },
  {
   "cell_type": "markdown",
   "metadata": {},
   "source": [
    "### Стохастический градиентный спуск SGDRegressor"
   ]
  },
  {
   "cell_type": "code",
   "execution_count": 51,
   "metadata": {},
   "outputs": [],
   "source": [
    "name_model = 'SGDRegressor'"
   ]
  },
  {
   "cell_type": "code",
   "execution_count": 52,
   "metadata": {},
   "outputs": [],
   "source": [
    "model = SGDRegressor(random_state=12345, shuffle=False)"
   ]
  },
  {
   "cell_type": "code",
   "execution_count": 53,
   "metadata": {},
   "outputs": [],
   "source": [
    "param_grid = {'alpha' : [0.0001, 0.001],\n",
    "              'max_iter': [1000, 10000, 100000],\n",
    "              'eta0': [0.1, 0.01, 0.001]}"
   ]
  },
  {
   "cell_type": "code",
   "execution_count": 54,
   "metadata": {
    "scrolled": true
   },
   "outputs": [
    {
     "name": "stderr",
     "output_type": "stream",
     "text": [
      "C:\\Users\\administrator\\anaconda3\\lib\\site-packages\\sklearn\\linear_model\\_stochastic_gradient.py:1549: ConvergenceWarning: Maximum number of iteration reached before convergence. Consider increasing max_iter to improve the fit.\n",
      "  warnings.warn(\n",
      "C:\\Users\\administrator\\anaconda3\\lib\\site-packages\\sklearn\\linear_model\\_stochastic_gradient.py:1549: ConvergenceWarning: Maximum number of iteration reached before convergence. Consider increasing max_iter to improve the fit.\n",
      "  warnings.warn(\n",
      "C:\\Users\\administrator\\anaconda3\\lib\\site-packages\\sklearn\\linear_model\\_stochastic_gradient.py:1549: ConvergenceWarning: Maximum number of iteration reached before convergence. Consider increasing max_iter to improve the fit.\n",
      "  warnings.warn(\n",
      "C:\\Users\\administrator\\anaconda3\\lib\\site-packages\\sklearn\\linear_model\\_stochastic_gradient.py:1549: ConvergenceWarning: Maximum number of iteration reached before convergence. Consider increasing max_iter to improve the fit.\n",
      "  warnings.warn(\n",
      "C:\\Users\\administrator\\anaconda3\\lib\\site-packages\\sklearn\\linear_model\\_stochastic_gradient.py:1549: ConvergenceWarning: Maximum number of iteration reached before convergence. Consider increasing max_iter to improve the fit.\n",
      "  warnings.warn(\n",
      "C:\\Users\\administrator\\anaconda3\\lib\\site-packages\\sklearn\\linear_model\\_stochastic_gradient.py:1549: ConvergenceWarning: Maximum number of iteration reached before convergence. Consider increasing max_iter to improve the fit.\n",
      "  warnings.warn(\n",
      "C:\\Users\\administrator\\anaconda3\\lib\\site-packages\\sklearn\\linear_model\\_stochastic_gradient.py:1549: ConvergenceWarning: Maximum number of iteration reached before convergence. Consider increasing max_iter to improve the fit.\n",
      "  warnings.warn(\n",
      "C:\\Users\\administrator\\anaconda3\\lib\\site-packages\\sklearn\\linear_model\\_stochastic_gradient.py:1549: ConvergenceWarning: Maximum number of iteration reached before convergence. Consider increasing max_iter to improve the fit.\n",
      "  warnings.warn(\n",
      "C:\\Users\\administrator\\anaconda3\\lib\\site-packages\\sklearn\\linear_model\\_stochastic_gradient.py:1549: ConvergenceWarning: Maximum number of iteration reached before convergence. Consider increasing max_iter to improve the fit.\n",
      "  warnings.warn(\n",
      "C:\\Users\\administrator\\anaconda3\\lib\\site-packages\\sklearn\\linear_model\\_stochastic_gradient.py:1549: ConvergenceWarning: Maximum number of iteration reached before convergence. Consider increasing max_iter to improve the fit.\n",
      "  warnings.warn(\n",
      "C:\\Users\\administrator\\anaconda3\\lib\\site-packages\\sklearn\\linear_model\\_stochastic_gradient.py:1549: ConvergenceWarning: Maximum number of iteration reached before convergence. Consider increasing max_iter to improve the fit.\n",
      "  warnings.warn(\n"
     ]
    },
    {
     "name": "stdout",
     "output_type": "stream",
     "text": [
      "\n",
      "Лучшие гиперпараметры\n",
      "-31.710195065941527\n",
      "{'alpha': 0.001, 'eta0': 0.1, 'max_iter': 1000}\n",
      "\n",
      "RMSE на валидационной выборке:  55.88\n",
      "CPU times: total: 9.41 s\n",
      "Wall time: 9.41 s\n"
     ]
    },
    {
     "name": "stderr",
     "output_type": "stream",
     "text": [
      "C:\\Users\\administrator\\anaconda3\\lib\\site-packages\\sklearn\\linear_model\\_stochastic_gradient.py:1549: ConvergenceWarning: Maximum number of iteration reached before convergence. Consider increasing max_iter to improve the fit.\n",
      "  warnings.warn(\n"
     ]
    }
   ],
   "source": [
    "%%time\n",
    "model,rmse,time_grid_search_cv,time_model_fit,time_pred_valid = learn_model(model,param_grid)"
   ]
  },
  {
   "cell_type": "code",
   "execution_count": 55,
   "metadata": {},
   "outputs": [],
   "source": [
    "app_data_model_param(model_param,\n",
    "                     [name_model,\n",
    "                      rmse,\n",
    "                      time_grid_search_cv.microseconds,\n",
    "                      time_model_fit.microseconds,\n",
    "                      time_pred_valid.microseconds,\n",
    "                      model\n",
    "                     ]\n",
    "                    )"
   ]
  },
  {
   "cell_type": "markdown",
   "metadata": {},
   "source": [
    "### Градиентный бустинг CatBoostRegressor"
   ]
  },
  {
   "cell_type": "code",
   "execution_count": 56,
   "metadata": {},
   "outputs": [],
   "source": [
    "name_model = 'CatBoostRegressor'"
   ]
  },
  {
   "cell_type": "code",
   "execution_count": 57,
   "metadata": {},
   "outputs": [],
   "source": [
    "model = CatBoostRegressor(random_state=12345,verbose = False)"
   ]
  },
  {
   "cell_type": "code",
   "execution_count": 58,
   "metadata": {},
   "outputs": [],
   "source": [
    "param_grid = {'max_depth': [4,6,8],\n",
    "              'learning_rate': [0.05, 0.1],\n",
    "              'iterations': [100,200,300]}"
   ]
  },
  {
   "cell_type": "code",
   "execution_count": 59,
   "metadata": {},
   "outputs": [
    {
     "name": "stdout",
     "output_type": "stream",
     "text": [
      "\n",
      "Лучшие гиперпараметры\n",
      "-21.352780023595532\n",
      "{'iterations': 300, 'learning_rate': 0.1, 'max_depth': 6}\n",
      "\n",
      "RMSE на валидационной выборке:  41.13\n",
      "CPU times: total: 2min 54s\n",
      "Wall time: 30 s\n"
     ]
    }
   ],
   "source": [
    "%%time\n",
    "model,rmse,time_grid_search_cv,time_model_fit,time_pred_valid = learn_model(model,param_grid)"
   ]
  },
  {
   "cell_type": "code",
   "execution_count": 60,
   "metadata": {},
   "outputs": [],
   "source": [
    "app_data_model_param(model_param,\n",
    "                     [name_model,\n",
    "                      rmse,\n",
    "                      time_grid_search_cv.microseconds,\n",
    "                      time_model_fit.microseconds,\n",
    "                      time_pred_valid.microseconds,\n",
    "                      model\n",
    "                     ]\n",
    "                    )"
   ]
  },
  {
   "cell_type": "markdown",
   "metadata": {},
   "source": [
    "### Градиентный бустинг XGBRegressor"
   ]
  },
  {
   "cell_type": "code",
   "execution_count": 61,
   "metadata": {},
   "outputs": [],
   "source": [
    "name_model = 'XGBRegressor'"
   ]
  },
  {
   "cell_type": "code",
   "execution_count": 62,
   "metadata": {},
   "outputs": [],
   "source": [
    "model = XGBRegressor(n_jobs=-1, verbosity=0, shuffle=False, random_state=12345)"
   ]
  },
  {
   "cell_type": "code",
   "execution_count": 63,
   "metadata": {},
   "outputs": [],
   "source": [
    "param_grid = {'max_depth': [12,15,17],\n",
    "              'learning_rate': [0.05, 0.1],\n",
    "              'iterations': [200,300,400]}"
   ]
  },
  {
   "cell_type": "code",
   "execution_count": 64,
   "metadata": {
    "scrolled": true
   },
   "outputs": [
    {
     "name": "stdout",
     "output_type": "stream",
     "text": [
      "\n",
      "Лучшие гиперпараметры\n",
      "-23.121331762306248\n",
      "{'iterations': 200, 'learning_rate': 0.1, 'max_depth': 15}\n",
      "\n",
      "RMSE на валидационной выборке:  46.43\n",
      "CPU times: total: 2min 42s\n",
      "Wall time: 21.5 s\n"
     ]
    }
   ],
   "source": [
    "%%time\n",
    "model,rmse,time_grid_search_cv,time_model_fit,time_pred_valid = learn_model(model,param_grid)"
   ]
  },
  {
   "cell_type": "code",
   "execution_count": 65,
   "metadata": {},
   "outputs": [],
   "source": [
    "app_data_model_param(model_param,\n",
    "                     [name_model,\n",
    "                      rmse,\n",
    "                      time_grid_search_cv.microseconds,\n",
    "                      time_model_fit.microseconds,\n",
    "                      time_pred_valid.microseconds,\n",
    "                      model\n",
    "                     ]\n",
    "                    )"
   ]
  },
  {
   "cell_type": "markdown",
   "metadata": {},
   "source": [
    "### Градиентный бустинг LGBMRegressor"
   ]
  },
  {
   "cell_type": "code",
   "execution_count": 66,
   "metadata": {},
   "outputs": [],
   "source": [
    "name_model = 'LGBMRegressor'"
   ]
  },
  {
   "cell_type": "code",
   "execution_count": 67,
   "metadata": {},
   "outputs": [],
   "source": [
    "model = LGBMRegressor(random_state=12345, objective = 'regression', min_child_samples = 10)"
   ]
  },
  {
   "cell_type": "code",
   "execution_count": 68,
   "metadata": {},
   "outputs": [],
   "source": [
    "param_grid = {'max_depth': [15,17],\n",
    "              'learning_rate': [0.05, 0.1],\n",
    "              'n_estimators': [300,400]}"
   ]
  },
  {
   "cell_type": "code",
   "execution_count": 69,
   "metadata": {},
   "outputs": [
    {
     "name": "stdout",
     "output_type": "stream",
     "text": [
      "\n",
      "Лучшие гиперпараметры\n",
      "-21.598484911274973\n",
      "{'learning_rate': 0.05, 'max_depth': 17, 'n_estimators': 300}\n",
      "\n",
      "RMSE на валидационной выборке:  39.59\n",
      "CPU times: total: 34.9 s\n",
      "Wall time: 4.49 s\n"
     ]
    }
   ],
   "source": [
    "%%time\n",
    "model, rmse,time_grid_search_cv,time_model_fit,time_pred_valid = learn_model(model,param_grid)"
   ]
  },
  {
   "cell_type": "code",
   "execution_count": 70,
   "metadata": {},
   "outputs": [],
   "source": [
    "app_data_model_param(model_param,\n",
    "                     [name_model,\n",
    "                      rmse,\n",
    "                      time_grid_search_cv.microseconds,\n",
    "                      time_model_fit.microseconds,\n",
    "                      time_pred_valid.microseconds,\n",
    "                      model]\n",
    "                    )"
   ]
  },
  {
   "cell_type": "markdown",
   "metadata": {},
   "source": [
    "### Итоговая таблица"
   ]
  },
  {
   "cell_type": "code",
   "execution_count": 71,
   "metadata": {},
   "outputs": [],
   "source": [
    "model_param = model_param.reset_index()"
   ]
  },
  {
   "cell_type": "code",
   "execution_count": 72,
   "metadata": {},
   "outputs": [],
   "source": [
    "model_param = model_param.drop(['index'],axis=1)"
   ]
  },
  {
   "cell_type": "code",
   "execution_count": 73,
   "metadata": {},
   "outputs": [
    {
     "data": {
      "text/html": [
       "<div>\n",
       "<style scoped>\n",
       "    .dataframe tbody tr th:only-of-type {\n",
       "        vertical-align: middle;\n",
       "    }\n",
       "\n",
       "    .dataframe tbody tr th {\n",
       "        vertical-align: top;\n",
       "    }\n",
       "\n",
       "    .dataframe thead th {\n",
       "        text-align: right;\n",
       "    }\n",
       "</style>\n",
       "<table border=\"1\" class=\"dataframe\">\n",
       "  <thead>\n",
       "    <tr style=\"text-align: right;\">\n",
       "      <th></th>\n",
       "      <th>model</th>\n",
       "      <th>rmse</th>\n",
       "      <th>time_grid</th>\n",
       "      <th>time_fit_model</th>\n",
       "      <th>time_predict</th>\n",
       "      <th>pointer</th>\n",
       "    </tr>\n",
       "  </thead>\n",
       "  <tbody>\n",
       "    <tr>\n",
       "      <th>0</th>\n",
       "      <td>LinearRegression</td>\n",
       "      <td>53.74</td>\n",
       "      <td>19947</td>\n",
       "      <td>1994</td>\n",
       "      <td>0</td>\n",
       "      <td>LinearRegression()</td>\n",
       "    </tr>\n",
       "    <tr>\n",
       "      <th>1</th>\n",
       "      <td>RandomForestRegressor</td>\n",
       "      <td>40.93</td>\n",
       "      <td>153169</td>\n",
       "      <td>965717</td>\n",
       "      <td>31242</td>\n",
       "      <td>(DecisionTreeRegressor(max_depth=17, max_featu...</td>\n",
       "    </tr>\n",
       "    <tr>\n",
       "      <th>2</th>\n",
       "      <td>SGDRegressor</td>\n",
       "      <td>55.88</td>\n",
       "      <td>97762</td>\n",
       "      <td>312177</td>\n",
       "      <td>977</td>\n",
       "      <td>SGDRegressor(alpha=0.001, eta0=0.1, random_sta...</td>\n",
       "    </tr>\n",
       "    <tr>\n",
       "      <th>3</th>\n",
       "      <td>CatBoostRegressor</td>\n",
       "      <td>41.13</td>\n",
       "      <td>557521</td>\n",
       "      <td>411226</td>\n",
       "      <td>998</td>\n",
       "      <td>&lt;catboost.core.CatBoostRegressor object at 0x0...</td>\n",
       "    </tr>\n",
       "    <tr>\n",
       "      <th>4</th>\n",
       "      <td>XGBRegressor</td>\n",
       "      <td>46.43</td>\n",
       "      <td>24798</td>\n",
       "      <td>420875</td>\n",
       "      <td>997</td>\n",
       "      <td>XGBRegressor(base_score=None, booster=None, ca...</td>\n",
       "    </tr>\n",
       "    <tr>\n",
       "      <th>5</th>\n",
       "      <td>LGBMRegressor</td>\n",
       "      <td>39.59</td>\n",
       "      <td>393257</td>\n",
       "      <td>95744</td>\n",
       "      <td>997</td>\n",
       "      <td>LGBMRegressor(learning_rate=0.05, max_depth=17...</td>\n",
       "    </tr>\n",
       "  </tbody>\n",
       "</table>\n",
       "</div>"
      ],
      "text/plain": [
       "                   model   rmse  time_grid  time_fit_model  time_predict  \\\n",
       "0       LinearRegression  53.74      19947            1994             0   \n",
       "1  RandomForestRegressor  40.93     153169          965717         31242   \n",
       "2           SGDRegressor  55.88      97762          312177           977   \n",
       "3      CatBoostRegressor  41.13     557521          411226           998   \n",
       "4           XGBRegressor  46.43      24798          420875           997   \n",
       "5          LGBMRegressor  39.59     393257           95744           997   \n",
       "\n",
       "                                             pointer  \n",
       "0                                 LinearRegression()  \n",
       "1  (DecisionTreeRegressor(max_depth=17, max_featu...  \n",
       "2  SGDRegressor(alpha=0.001, eta0=0.1, random_sta...  \n",
       "3  <catboost.core.CatBoostRegressor object at 0x0...  \n",
       "4  XGBRegressor(base_score=None, booster=None, ca...  \n",
       "5  LGBMRegressor(learning_rate=0.05, max_depth=17...  "
      ]
     },
     "execution_count": 73,
     "metadata": {},
     "output_type": "execute_result"
    }
   ],
   "source": [
    "model_param"
   ]
  },
  {
   "cell_type": "markdown",
   "metadata": {},
   "source": [
    "### Вывод:"
   ]
  },
  {
   "cell_type": "markdown",
   "metadata": {},
   "source": [
    "На валидационной выборке модели градиентного бустинга имеют примерно равные и лучшие показатели по сравнению с линейной регрессией и градиентным спуском. Данные модели обучаются дольше."
   ]
  },
  {
   "cell_type": "markdown",
   "metadata": {},
   "source": [
    "<div class=\"alert alert-success\">\n",
    "<b>✔️ Комментарий ревьюера:</b>  \n",
    "\n",
    "- Здорово, что рассмотрены несколько алгоритмов🔥\n",
    "- Наглядное представление результатов в сводной таблице\n",
    "    \n",
    "***\n",
    "    \n",
    "PS (для информации) - если использовать использовать кросс-валидацию, то в случае с временным рядом нужно задать `TimeSeriesSplit`.\n",
    "    \n",
    "Данные не должны пересекаться по времени - перетасовка обычным способом не подходит. `TimeSeriesSplit` помогает решить эту проблему.   \n",
    "  \n",
    "Подробнее: https://scikit-learn.org/stable/modules/generated/sklearn.model_selection.TimeSeriesSplit.html\n",
    "\n",
    "\n",
    "</div>    \n"
   ]
  },
  {
   "cell_type": "markdown",
   "metadata": {},
   "source": [
    "<div class=\"alert alert-info\"> <b>Комментарий студента:</b><br>\n",
    "     <b>Выполнено</b><br>\n",
    "    TimeSeriesSplit добавлен в функцию learn_model\n",
    "</div>"
   ]
  },
  {
   "cell_type": "markdown",
   "metadata": {},
   "source": [
    "<div class=\"alert alert-danger\">\n",
    "<b>❌ Комментарий ревьюера:</b> \n",
    "\n",
    "Ты молодец, что качественно рассмотрел несколько вариантов градиентного бустинга 🔥\n",
    "    \n",
    "Стоит добавить еще одну обычную модель (кроме LinearRegression), т.е:\n",
    "    \n",
    "- Рассмотреть хотя бы 2 различные модели (кроме разных реализации градиентного бустинга)\n",
    "- Для одной из моделей исследовать хотя бы 2 набора значений гиперпараметров    \n",
    "  \n",
    "</div>"
   ]
  },
  {
   "cell_type": "markdown",
   "metadata": {},
   "source": [
    "<div class=\"alert alert-info\"> <b>Комментарий студента:</b><br>\n",
    "     <b>Выполнено</b><br>\n",
    "    Добавлен Случайный лес (RandomForestRegressor)\n",
    "</div>"
   ]
  },
  {
   "cell_type": "markdown",
   "metadata": {},
   "source": [
    "<div class=\"alert alert-info\"> <b>Комментарий ревьюера:</b> \n",
    "    \n",
    "**Полезные материалы (на будущее):**\n",
    "    \n",
    "Функции Gridsearchcv или Randomizedsearchcv для подбора оптимальных гиперпараметров:\n",
    "    \n",
    "1. Статья про разницу между ними: \n",
    "    https://towardsdatascience.com/gridsearchcv-or-randomsearchcv-5aa4acf5348c#:~:text=RandomSearchCV%20has%20the%20same%20purpose,parameters%20to%20improve%20your%20model.&text=The%20main%20difference%20between%20the,want%20to%20sample%20and%20test. \n",
    "    \n",
    "2. И просто очень большая статья по их применению: \n",
    "    https://machinelearningmastery.com/hyperparameter-optimization-with-random-search-and-grid-search/ \n",
    "    \n",
    "3. Совсем обьемная статья с огромным количеством библиотек для подбора гиперпараметров:\n",
    "    https://neptune.ai/blog/hyperparameter-tuning-in-python-complete-guide/. \n",
    "    \n",
    "4. Ускоренная версия GridsearchCV \n",
    "    https://towardsdatascience.com/20x-times-faster-grid-search-cross-validation-19ef01409b7c.    \n",
    "    \n",
    "</div>"
   ]
  },
  {
   "cell_type": "markdown",
   "metadata": {},
   "source": [
    "## Тестирование"
   ]
  },
  {
   "cell_type": "markdown",
   "metadata": {},
   "source": [
    "По результатам обучения и проверки моделей на валидационной выборке лучшей моделью стала:"
   ]
  },
  {
   "cell_type": "code",
   "execution_count": 74,
   "metadata": {},
   "outputs": [
    {
     "data": {
      "text/plain": [
       "'LGBMRegressor'"
      ]
     },
     "execution_count": 74,
     "metadata": {},
     "output_type": "execute_result"
    }
   ],
   "source": [
    "model_param[model_param.rmse == model_param.rmse.min()].iloc[0,0]"
   ]
  },
  {
   "cell_type": "code",
   "execution_count": 75,
   "metadata": {},
   "outputs": [],
   "source": [
    "best_model = model_param[model_param.rmse == model_param.rmse.min()].iloc[0,5]"
   ]
  },
  {
   "cell_type": "code",
   "execution_count": 76,
   "metadata": {},
   "outputs": [
    {
     "data": {
      "text/html": [
       "<style>#sk-container-id-1 {color: black;background-color: white;}#sk-container-id-1 pre{padding: 0;}#sk-container-id-1 div.sk-toggleable {background-color: white;}#sk-container-id-1 label.sk-toggleable__label {cursor: pointer;display: block;width: 100%;margin-bottom: 0;padding: 0.3em;box-sizing: border-box;text-align: center;}#sk-container-id-1 label.sk-toggleable__label-arrow:before {content: \"▸\";float: left;margin-right: 0.25em;color: #696969;}#sk-container-id-1 label.sk-toggleable__label-arrow:hover:before {color: black;}#sk-container-id-1 div.sk-estimator:hover label.sk-toggleable__label-arrow:before {color: black;}#sk-container-id-1 div.sk-toggleable__content {max-height: 0;max-width: 0;overflow: hidden;text-align: left;background-color: #f0f8ff;}#sk-container-id-1 div.sk-toggleable__content pre {margin: 0.2em;color: black;border-radius: 0.25em;background-color: #f0f8ff;}#sk-container-id-1 input.sk-toggleable__control:checked~div.sk-toggleable__content {max-height: 200px;max-width: 100%;overflow: auto;}#sk-container-id-1 input.sk-toggleable__control:checked~label.sk-toggleable__label-arrow:before {content: \"▾\";}#sk-container-id-1 div.sk-estimator input.sk-toggleable__control:checked~label.sk-toggleable__label {background-color: #d4ebff;}#sk-container-id-1 div.sk-label input.sk-toggleable__control:checked~label.sk-toggleable__label {background-color: #d4ebff;}#sk-container-id-1 input.sk-hidden--visually {border: 0;clip: rect(1px 1px 1px 1px);clip: rect(1px, 1px, 1px, 1px);height: 1px;margin: -1px;overflow: hidden;padding: 0;position: absolute;width: 1px;}#sk-container-id-1 div.sk-estimator {font-family: monospace;background-color: #f0f8ff;border: 1px dotted black;border-radius: 0.25em;box-sizing: border-box;margin-bottom: 0.5em;}#sk-container-id-1 div.sk-estimator:hover {background-color: #d4ebff;}#sk-container-id-1 div.sk-parallel-item::after {content: \"\";width: 100%;border-bottom: 1px solid gray;flex-grow: 1;}#sk-container-id-1 div.sk-label:hover label.sk-toggleable__label {background-color: #d4ebff;}#sk-container-id-1 div.sk-serial::before {content: \"\";position: absolute;border-left: 1px solid gray;box-sizing: border-box;top: 0;bottom: 0;left: 50%;z-index: 0;}#sk-container-id-1 div.sk-serial {display: flex;flex-direction: column;align-items: center;background-color: white;padding-right: 0.2em;padding-left: 0.2em;position: relative;}#sk-container-id-1 div.sk-item {position: relative;z-index: 1;}#sk-container-id-1 div.sk-parallel {display: flex;align-items: stretch;justify-content: center;background-color: white;position: relative;}#sk-container-id-1 div.sk-item::before, #sk-container-id-1 div.sk-parallel-item::before {content: \"\";position: absolute;border-left: 1px solid gray;box-sizing: border-box;top: 0;bottom: 0;left: 50%;z-index: -1;}#sk-container-id-1 div.sk-parallel-item {display: flex;flex-direction: column;z-index: 1;position: relative;background-color: white;}#sk-container-id-1 div.sk-parallel-item:first-child::after {align-self: flex-end;width: 50%;}#sk-container-id-1 div.sk-parallel-item:last-child::after {align-self: flex-start;width: 50%;}#sk-container-id-1 div.sk-parallel-item:only-child::after {width: 0;}#sk-container-id-1 div.sk-dashed-wrapped {border: 1px dashed gray;margin: 0 0.4em 0.5em 0.4em;box-sizing: border-box;padding-bottom: 0.4em;background-color: white;}#sk-container-id-1 div.sk-label label {font-family: monospace;font-weight: bold;display: inline-block;line-height: 1.2em;}#sk-container-id-1 div.sk-label-container {text-align: center;}#sk-container-id-1 div.sk-container {/* jupyter's `normalize.less` sets `[hidden] { display: none; }` but bootstrap.min.css set `[hidden] { display: none !important; }` so we also need the `!important` here to be able to override the default hidden behavior on the sphinx rendered scikit-learn.org. See: https://github.com/scikit-learn/scikit-learn/issues/21755 */display: inline-block !important;position: relative;}#sk-container-id-1 div.sk-text-repr-fallback {display: none;}</style><div id=\"sk-container-id-1\" class=\"sk-top-container\"><div class=\"sk-text-repr-fallback\"><pre>LGBMRegressor(learning_rate=0.05, max_depth=17, min_child_samples=10,\n",
       "              n_estimators=300, objective=&#x27;regression&#x27;, random_state=12345)</pre><b>In a Jupyter environment, please rerun this cell to show the HTML representation or trust the notebook. <br />On GitHub, the HTML representation is unable to render, please try loading this page with nbviewer.org.</b></div><div class=\"sk-container\" hidden><div class=\"sk-item\"><div class=\"sk-estimator sk-toggleable\"><input class=\"sk-toggleable__control sk-hidden--visually\" id=\"sk-estimator-id-1\" type=\"checkbox\" checked><label for=\"sk-estimator-id-1\" class=\"sk-toggleable__label sk-toggleable__label-arrow\">LGBMRegressor</label><div class=\"sk-toggleable__content\"><pre>LGBMRegressor(learning_rate=0.05, max_depth=17, min_child_samples=10,\n",
       "              n_estimators=300, objective=&#x27;regression&#x27;, random_state=12345)</pre></div></div></div></div></div>"
      ],
      "text/plain": [
       "LGBMRegressor(learning_rate=0.05, max_depth=17, min_child_samples=10,\n",
       "              n_estimators=300, objective='regression', random_state=12345)"
      ]
     },
     "execution_count": 76,
     "metadata": {},
     "output_type": "execute_result"
    }
   ],
   "source": [
    "best_model"
   ]
  },
  {
   "cell_type": "markdown",
   "metadata": {},
   "source": [
    "Проверка модели на тестовой выборке"
   ]
  },
  {
   "cell_type": "code",
   "execution_count": 77,
   "metadata": {},
   "outputs": [
    {
     "data": {
      "text/plain": [
       "{'boosting_type': 'gbdt',\n",
       " 'class_weight': None,\n",
       " 'colsample_bytree': 1.0,\n",
       " 'importance_type': 'split',\n",
       " 'learning_rate': 0.05,\n",
       " 'max_depth': 17,\n",
       " 'min_child_samples': 10,\n",
       " 'min_child_weight': 0.001,\n",
       " 'min_split_gain': 0.0,\n",
       " 'n_estimators': 300,\n",
       " 'n_jobs': -1,\n",
       " 'num_leaves': 31,\n",
       " 'objective': 'regression',\n",
       " 'random_state': 12345,\n",
       " 'reg_alpha': 0.0,\n",
       " 'reg_lambda': 0.0,\n",
       " 'silent': 'warn',\n",
       " 'subsample': 1.0,\n",
       " 'subsample_for_bin': 200000,\n",
       " 'subsample_freq': 0}"
      ]
     },
     "execution_count": 77,
     "metadata": {},
     "output_type": "execute_result"
    }
   ],
   "source": [
    "best_model.get_params()"
   ]
  },
  {
   "cell_type": "code",
   "execution_count": 78,
   "metadata": {},
   "outputs": [],
   "source": [
    "pred_test = best_model.predict(valid_features)"
   ]
  },
  {
   "cell_type": "code",
   "execution_count": 79,
   "metadata": {},
   "outputs": [
    {
     "name": "stdout",
     "output_type": "stream",
     "text": [
      "RMSE на тестовой выборке:  39.59\n"
     ]
    }
   ],
   "source": [
    "print('RMSE на тестовой выборке: ', RMSE(valid_target, pred_test).round(2))"
   ]
  },
  {
   "cell_type": "markdown",
   "metadata": {},
   "source": [
    "<div class=\"alert alert-success\">\n",
    "<b>✔️ Комментарий ревьюера:</b> \n",
    "    \n",
    "Хороший результат по метрике✨\n",
    "\n",
    "</div>"
   ]
  },
  {
   "cell_type": "markdown",
   "metadata": {},
   "source": [
    "<div class=\"alert alert-warning\">\n",
    "<b>⚠️ Комментарий ревьюера:</b> \n",
    "    \n",
    "Было бы здорово визуализировать предсказанные и реальные значения у лучшей модели😊\n",
    "\n",
    "</div>"
   ]
  },
  {
   "cell_type": "markdown",
   "metadata": {},
   "source": [
    "<div class=\"alert alert-info\"> <b>Комментарий студента:</b><br>\n",
    "     <b>Выполнено</b><br>\n",
    "    Добавлен график визуализации предсказанных и реальных значений у лучшей модели\n",
    "</div>"
   ]
  },
  {
   "cell_type": "code",
   "execution_count": 80,
   "metadata": {},
   "outputs": [],
   "source": [
    "df1 = pd.DataFrame(index = valid_target.index)\n",
    "df1['pred_test'] = pred_test\n",
    "df1['valid_target'] = valid_target.values"
   ]
  },
  {
   "cell_type": "code",
   "execution_count": 91,
   "metadata": {},
   "outputs": [
    {
     "data": {
      "image/png": "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\n",
      "text/plain": [
       "<Figure size 2000x1000 with 1 Axes>"
      ]
     },
     "metadata": {},
     "output_type": "display_data"
    }
   ],
   "source": [
    "ax = df1.plot(figsize=(20,10),title='Графики предсказаний и целевых значений лучше модели');\n",
    "ax.set_ylabel('Количество вызовов');"
   ]
  },
  {
   "cell_type": "markdown",
   "metadata": {},
   "source": [
    "### Вывод"
   ]
  },
  {
   "cell_type": "markdown",
   "metadata": {},
   "source": [
    "Лучшей модель на валидационной выборке оказалась модель градиентного бустинга LGBMRegressor"
   ]
  },
  {
   "cell_type": "markdown",
   "metadata": {},
   "source": [
    "На тестовой выборке данная модель показала результат, проходящий нормоконтроль 48"
   ]
  },
  {
   "cell_type": "markdown",
   "metadata": {},
   "source": [
    "На графике можно увидеть разбросы, которые влияют на RMSE. В основном это точки максимальных пиковых нагрузок. Минимально требуемое количество транспорта предсказывается практически безошибочно"
   ]
  },
  {
   "cell_type": "markdown",
   "metadata": {},
   "source": [
    "### Итоговый вывод"
   ]
  },
  {
   "cell_type": "markdown",
   "metadata": {},
   "source": [
    "По результатам исследований таблица моделей имеет следующий вид:"
   ]
  },
  {
   "cell_type": "code",
   "execution_count": 82,
   "metadata": {},
   "outputs": [
    {
     "data": {
      "text/html": [
       "<div>\n",
       "<style scoped>\n",
       "    .dataframe tbody tr th:only-of-type {\n",
       "        vertical-align: middle;\n",
       "    }\n",
       "\n",
       "    .dataframe tbody tr th {\n",
       "        vertical-align: top;\n",
       "    }\n",
       "\n",
       "    .dataframe thead th {\n",
       "        text-align: right;\n",
       "    }\n",
       "</style>\n",
       "<table border=\"1\" class=\"dataframe\">\n",
       "  <thead>\n",
       "    <tr style=\"text-align: right;\">\n",
       "      <th></th>\n",
       "      <th>model</th>\n",
       "      <th>rmse</th>\n",
       "      <th>time_grid</th>\n",
       "      <th>time_fit_model</th>\n",
       "      <th>time_predict</th>\n",
       "      <th>pointer</th>\n",
       "    </tr>\n",
       "  </thead>\n",
       "  <tbody>\n",
       "    <tr>\n",
       "      <th>5</th>\n",
       "      <td>LGBMRegressor</td>\n",
       "      <td>39.59</td>\n",
       "      <td>393257</td>\n",
       "      <td>95744</td>\n",
       "      <td>997</td>\n",
       "      <td>LGBMRegressor(learning_rate=0.05, max_depth=17...</td>\n",
       "    </tr>\n",
       "    <tr>\n",
       "      <th>1</th>\n",
       "      <td>RandomForestRegressor</td>\n",
       "      <td>40.93</td>\n",
       "      <td>153169</td>\n",
       "      <td>965717</td>\n",
       "      <td>31242</td>\n",
       "      <td>(DecisionTreeRegressor(max_depth=17, max_featu...</td>\n",
       "    </tr>\n",
       "    <tr>\n",
       "      <th>3</th>\n",
       "      <td>CatBoostRegressor</td>\n",
       "      <td>41.13</td>\n",
       "      <td>557521</td>\n",
       "      <td>411226</td>\n",
       "      <td>998</td>\n",
       "      <td>&lt;catboost.core.CatBoostRegressor object at 0x0...</td>\n",
       "    </tr>\n",
       "    <tr>\n",
       "      <th>4</th>\n",
       "      <td>XGBRegressor</td>\n",
       "      <td>46.43</td>\n",
       "      <td>24798</td>\n",
       "      <td>420875</td>\n",
       "      <td>997</td>\n",
       "      <td>XGBRegressor(base_score=None, booster=None, ca...</td>\n",
       "    </tr>\n",
       "    <tr>\n",
       "      <th>0</th>\n",
       "      <td>LinearRegression</td>\n",
       "      <td>53.74</td>\n",
       "      <td>19947</td>\n",
       "      <td>1994</td>\n",
       "      <td>0</td>\n",
       "      <td>LinearRegression()</td>\n",
       "    </tr>\n",
       "    <tr>\n",
       "      <th>2</th>\n",
       "      <td>SGDRegressor</td>\n",
       "      <td>55.88</td>\n",
       "      <td>97762</td>\n",
       "      <td>312177</td>\n",
       "      <td>977</td>\n",
       "      <td>SGDRegressor(alpha=0.001, eta0=0.1, random_sta...</td>\n",
       "    </tr>\n",
       "  </tbody>\n",
       "</table>\n",
       "</div>"
      ],
      "text/plain": [
       "                   model   rmse  time_grid  time_fit_model  time_predict  \\\n",
       "5          LGBMRegressor  39.59     393257           95744           997   \n",
       "1  RandomForestRegressor  40.93     153169          965717         31242   \n",
       "3      CatBoostRegressor  41.13     557521          411226           998   \n",
       "4           XGBRegressor  46.43      24798          420875           997   \n",
       "0       LinearRegression  53.74      19947            1994             0   \n",
       "2           SGDRegressor  55.88      97762          312177           977   \n",
       "\n",
       "                                             pointer  \n",
       "5  LGBMRegressor(learning_rate=0.05, max_depth=17...  \n",
       "1  (DecisionTreeRegressor(max_depth=17, max_featu...  \n",
       "3  <catboost.core.CatBoostRegressor object at 0x0...  \n",
       "4  XGBRegressor(base_score=None, booster=None, ca...  \n",
       "0                                 LinearRegression()  \n",
       "2  SGDRegressor(alpha=0.001, eta0=0.1, random_sta...  "
      ]
     },
     "execution_count": 82,
     "metadata": {},
     "output_type": "execute_result"
    }
   ],
   "source": [
    "model_param.sort_values('rmse')"
   ]
  },
  {
   "cell_type": "markdown",
   "metadata": {},
   "source": [
    "По результатам исследований моделей для поставленной задачи наиболее оптимальными являются модели:\n",
    "LGBMRegressor<br>\n",
    "RandomForestRegressor<br>\n",
    "CatBoostRegressor<br>\n",
    "\n",
    "Метрики качества моделей RMSE имеют примерно равные показатели.<br>\n",
    "По скорости обучения качеству метрики RMSE лучшая - LGBMRegressor<br>\n",
    "\n",
    "Наиболее оптимальной для поставленной задачи является **LGBMRegressor**"
   ]
  },
  {
   "cell_type": "markdown",
   "metadata": {},
   "source": [
    "<div class=\"alert alert-success\">\n",
    "<b>✔️ Комментарий ревьюера:</b> \n",
    "    \n",
    "Хорошее резюме проекта✨    \n",
    "   \n",
    "</div>"
   ]
  },
  {
   "cell_type": "markdown",
   "metadata": {},
   "source": [
    "***"
   ]
  },
  {
   "cell_type": "markdown",
   "metadata": {},
   "source": [
    "<div class=\"alert alert-success\">\n",
    "<b>✔️ Заключительный комментарий ревьюера:</b> \n",
    "    \n",
    "Дмитрий, спасибо за проделанную работу 😊  \n",
    "    \n",
    "Твой проект приятно проверять - есть структура.\n",
    "    \n",
    "Молодец, что построил графики временного ряда, провел декомпозицию, создал признаки и рассмотрел разные алгоритмы в своем исследовании🔥\n",
    "   \n",
    "***    \n",
    " \n",
    "Проект выполнен хорошо, естьтолько два общих пункта, которые стоит улучшить:\n",
    "1. Этап Анализа: \n",
    "- График сезонности, который визуализирован на всем временном промежутке, стоит удалить, т.к. для анализа он не подходит (не информативен)\n",
    "2. Этап Обучения:\n",
    "- Рассмотреть хотя бы 2 различные модели (кроме разных реализации градиентного бустинга)    \n",
    "\n",
    "***\n",
    "\n",
    "Возвращаю тебе работу, чтобы ты смог доделать проект и задать вопросы)\n",
    "    \n",
    "Успехов!\n",
    "\n",
    "</div>"
   ]
  },
  {
   "cell_type": "markdown",
   "metadata": {},
   "source": [
    "## Чек-лист проверки"
   ]
  },
  {
   "cell_type": "markdown",
   "metadata": {},
   "source": [
    "- [x]  Jupyter Notebook открыт\n",
    "- [x]  Весь код выполняется без ошибок\n",
    "- [x]  Ячейки с кодом расположены в порядке исполнения\n",
    "- [x]  Данные загружены и подготовлены\n",
    "- [x]  Данные проанализированы\n",
    "- [x]  Модель обучена, гиперпараметры подобраны\n",
    "- [x]  Качество моделей проверено, выводы сделаны\n",
    "- [x]  Значение *RMSE* на тестовой выборке не больше 48"
   ]
  },
  {
   "cell_type": "code",
   "execution_count": null,
   "metadata": {},
   "outputs": [],
   "source": []
  }
 ],
 "metadata": {
  "ExecuteTimeLog": [
   {
    "duration": 410,
    "start_time": "2023-04-20T04:51:18.450Z"
   },
   {
    "duration": 105,
    "start_time": "2023-04-20T04:51:25.532Z"
   },
   {
    "duration": 10,
    "start_time": "2023-04-20T04:51:33.534Z"
   },
   {
    "duration": 46,
    "start_time": "2023-04-20T04:52:51.266Z"
   },
   {
    "duration": 9,
    "start_time": "2023-04-20T04:52:51.984Z"
   },
   {
    "duration": 11,
    "start_time": "2023-04-20T04:53:10.601Z"
   },
   {
    "duration": 3,
    "start_time": "2023-04-20T04:54:01.813Z"
   },
   {
    "duration": 43,
    "start_time": "2023-04-20T04:54:06.595Z"
   },
   {
    "duration": 8,
    "start_time": "2023-04-20T04:54:09.582Z"
   },
   {
    "duration": 6,
    "start_time": "2023-04-20T04:54:10.695Z"
   },
   {
    "duration": 655,
    "start_time": "2023-04-20T04:55:09.254Z"
   },
   {
    "duration": 8,
    "start_time": "2023-04-20T04:55:29.699Z"
   },
   {
    "duration": 6,
    "start_time": "2023-04-20T04:55:51.055Z"
   },
   {
    "duration": 627,
    "start_time": "2023-04-20T05:29:05.431Z"
   },
   {
    "duration": 8,
    "start_time": "2023-04-20T05:30:55.957Z"
   },
   {
    "duration": 245,
    "start_time": "2023-04-20T05:30:56.486Z"
   },
   {
    "duration": 86,
    "start_time": "2023-04-20T05:31:38.554Z"
   },
   {
    "duration": 126,
    "start_time": "2023-04-20T05:32:14.067Z"
   },
   {
    "duration": 8,
    "start_time": "2023-04-20T05:33:35.887Z"
   },
   {
    "duration": 9,
    "start_time": "2023-04-20T05:33:57.066Z"
   },
   {
    "duration": 3,
    "start_time": "2023-04-20T05:34:01.723Z"
   },
   {
    "duration": 3,
    "start_time": "2023-04-20T05:34:05.275Z"
   },
   {
    "duration": 193,
    "start_time": "2023-04-20T05:34:07.656Z"
   },
   {
    "duration": 47,
    "start_time": "2023-04-20T05:34:32.467Z"
   },
   {
    "duration": 164,
    "start_time": "2023-04-20T05:34:36.620Z"
   },
   {
    "duration": 8,
    "start_time": "2023-04-20T06:03:25.751Z"
   },
   {
    "duration": 9,
    "start_time": "2023-04-20T06:03:38.403Z"
   },
   {
    "duration": 3,
    "start_time": "2023-04-20T06:04:12.531Z"
   },
   {
    "duration": 866,
    "start_time": "2023-04-20T06:04:15.869Z"
   },
   {
    "duration": 663,
    "start_time": "2023-04-20T06:05:01.495Z"
   },
   {
    "duration": 1163,
    "start_time": "2023-04-20T06:05:34.788Z"
   },
   {
    "duration": 876,
    "start_time": "2023-04-20T06:06:08.269Z"
   },
   {
    "duration": 670,
    "start_time": "2023-04-20T06:06:21.589Z"
   },
   {
    "duration": 775,
    "start_time": "2023-04-20T06:06:38.740Z"
   },
   {
    "duration": 259,
    "start_time": "2023-04-20T06:08:32.933Z"
   },
   {
    "duration": 61,
    "start_time": "2023-04-20T06:11:17.378Z"
   },
   {
    "duration": 776,
    "start_time": "2023-04-20T06:11:36.232Z"
   },
   {
    "duration": 748,
    "start_time": "2023-04-20T06:11:54.839Z"
   },
   {
    "duration": 779,
    "start_time": "2023-04-20T06:12:05.730Z"
   },
   {
    "duration": 683,
    "start_time": "2023-04-20T06:12:23.413Z"
   },
   {
    "duration": 606,
    "start_time": "2023-04-20T06:12:28.792Z"
   },
   {
    "duration": 706,
    "start_time": "2023-04-20T06:14:39.164Z"
   },
   {
    "duration": 4,
    "start_time": "2023-04-20T06:16:03.164Z"
   },
   {
    "duration": 240,
    "start_time": "2023-04-20T06:16:03.723Z"
   },
   {
    "duration": 82,
    "start_time": "2023-04-20T06:18:42.482Z"
   },
   {
    "duration": 12,
    "start_time": "2023-04-20T06:23:29.790Z"
   },
   {
    "duration": 6,
    "start_time": "2023-04-20T06:23:32.643Z"
   },
   {
    "duration": 44,
    "start_time": "2023-04-20T06:24:03.203Z"
   },
   {
    "duration": 15,
    "start_time": "2023-04-20T06:24:04.064Z"
   },
   {
    "duration": 8,
    "start_time": "2023-04-20T06:24:32.000Z"
   },
   {
    "duration": 6,
    "start_time": "2023-04-20T06:25:02.958Z"
   },
   {
    "duration": 7,
    "start_time": "2023-04-20T06:25:03.758Z"
   },
   {
    "duration": 3,
    "start_time": "2023-04-20T06:39:53.042Z"
   },
   {
    "duration": 78,
    "start_time": "2023-04-20T06:39:53.047Z"
   },
   {
    "duration": 10,
    "start_time": "2023-04-20T06:39:53.126Z"
   },
   {
    "duration": 11,
    "start_time": "2023-04-20T06:39:53.138Z"
   },
   {
    "duration": 6,
    "start_time": "2023-04-20T06:39:53.151Z"
   },
   {
    "duration": 3,
    "start_time": "2023-04-20T06:40:14.118Z"
   },
   {
    "duration": 71,
    "start_time": "2023-04-20T06:40:14.123Z"
   },
   {
    "duration": 11,
    "start_time": "2023-04-20T06:40:14.195Z"
   },
   {
    "duration": 21,
    "start_time": "2023-04-20T06:40:14.208Z"
   },
   {
    "duration": 6,
    "start_time": "2023-04-20T06:40:14.231Z"
   },
   {
    "duration": 4,
    "start_time": "2023-04-20T06:40:23.694Z"
   },
   {
    "duration": 55,
    "start_time": "2023-04-20T06:40:23.701Z"
   },
   {
    "duration": 9,
    "start_time": "2023-04-20T06:40:23.758Z"
   },
   {
    "duration": 40,
    "start_time": "2023-04-20T06:40:23.769Z"
   },
   {
    "duration": 9,
    "start_time": "2023-04-20T06:40:23.811Z"
   },
   {
    "duration": 19,
    "start_time": "2023-04-20T06:40:23.821Z"
   },
   {
    "duration": 19,
    "start_time": "2023-04-20T06:40:23.841Z"
   },
   {
    "duration": 6,
    "start_time": "2023-04-20T06:40:23.862Z"
   },
   {
    "duration": 55,
    "start_time": "2023-04-20T06:40:23.870Z"
   },
   {
    "duration": 449,
    "start_time": "2023-04-20T06:40:23.927Z"
   },
   {
    "duration": 9,
    "start_time": "2023-04-20T06:40:24.387Z"
   },
   {
    "duration": 714,
    "start_time": "2023-04-20T06:40:24.398Z"
   },
   {
    "duration": 585,
    "start_time": "2023-04-20T06:40:25.113Z"
   },
   {
    "duration": 769,
    "start_time": "2023-04-20T06:41:37.830Z"
   },
   {
    "duration": 5,
    "start_time": "2023-04-20T06:41:46.447Z"
   },
   {
    "duration": 4,
    "start_time": "2023-04-20T07:18:21.504Z"
   },
   {
    "duration": 11,
    "start_time": "2023-04-20T07:18:45.499Z"
   },
   {
    "duration": 21,
    "start_time": "2023-04-20T07:18:59.504Z"
   },
   {
    "duration": 9,
    "start_time": "2023-04-20T07:23:15.408Z"
   },
   {
    "duration": 29,
    "start_time": "2023-04-20T07:23:19.972Z"
   },
   {
    "duration": 20,
    "start_time": "2023-04-20T07:23:31.217Z"
   },
   {
    "duration": 26,
    "start_time": "2023-04-20T07:23:42.743Z"
   },
   {
    "duration": 9,
    "start_time": "2023-04-20T07:24:11.923Z"
   },
   {
    "duration": 3,
    "start_time": "2023-04-20T07:24:22.358Z"
   },
   {
    "duration": 87,
    "start_time": "2023-04-20T07:24:22.363Z"
   },
   {
    "duration": 9,
    "start_time": "2023-04-20T07:24:22.452Z"
   },
   {
    "duration": 12,
    "start_time": "2023-04-20T07:24:22.463Z"
   },
   {
    "duration": 70,
    "start_time": "2023-04-20T07:24:22.477Z"
   },
   {
    "duration": 40,
    "start_time": "2023-04-20T07:24:22.549Z"
   },
   {
    "duration": 146,
    "start_time": "2023-04-20T07:24:22.591Z"
   },
   {
    "duration": 14,
    "start_time": "2023-04-20T07:24:22.739Z"
   },
   {
    "duration": 13,
    "start_time": "2023-04-20T07:24:22.755Z"
   },
   {
    "duration": 258,
    "start_time": "2023-04-20T07:24:22.770Z"
   },
   {
    "duration": 3,
    "start_time": "2023-04-20T07:24:23.030Z"
   },
   {
    "duration": 27,
    "start_time": "2023-04-20T07:24:23.035Z"
   },
   {
    "duration": 667,
    "start_time": "2023-04-20T07:24:23.064Z"
   },
   {
    "duration": 582,
    "start_time": "2023-04-20T07:24:23.733Z"
   },
   {
    "duration": 6,
    "start_time": "2023-04-20T07:24:24.316Z"
   },
   {
    "duration": 37,
    "start_time": "2023-04-20T07:24:24.323Z"
   },
   {
    "duration": 21,
    "start_time": "2023-04-20T07:24:24.362Z"
   },
   {
    "duration": 22,
    "start_time": "2023-04-20T07:24:24.385Z"
   },
   {
    "duration": 24,
    "start_time": "2023-04-20T07:24:49.588Z"
   },
   {
    "duration": 20,
    "start_time": "2023-04-20T07:24:55.425Z"
   },
   {
    "duration": 7,
    "start_time": "2023-04-20T07:25:00.945Z"
   },
   {
    "duration": 22,
    "start_time": "2023-04-20T07:25:01.627Z"
   },
   {
    "duration": 7,
    "start_time": "2023-04-20T07:25:17.549Z"
   },
   {
    "duration": 23,
    "start_time": "2023-04-20T07:25:18.101Z"
   },
   {
    "duration": 6,
    "start_time": "2023-04-20T07:31:01.462Z"
   },
   {
    "duration": 7,
    "start_time": "2023-04-20T07:32:21.898Z"
   },
   {
    "duration": 76,
    "start_time": "2023-04-20T07:33:51.553Z"
   },
   {
    "duration": 3,
    "start_time": "2023-04-20T07:34:02.757Z"
   },
   {
    "duration": 4,
    "start_time": "2023-04-20T07:51:18.653Z"
   },
   {
    "duration": 4,
    "start_time": "2023-04-20T07:51:54.346Z"
   },
   {
    "duration": 5,
    "start_time": "2023-04-20T07:52:48.084Z"
   },
   {
    "duration": 3,
    "start_time": "2023-04-20T07:52:51.758Z"
   },
   {
    "duration": 2,
    "start_time": "2023-04-20T07:54:03.722Z"
   },
   {
    "duration": 51,
    "start_time": "2023-04-20T07:54:10.154Z"
   },
   {
    "duration": 5,
    "start_time": "2023-04-20T07:55:07.597Z"
   },
   {
    "duration": 14,
    "start_time": "2023-04-20T07:58:17.737Z"
   },
   {
    "duration": 13,
    "start_time": "2023-04-20T07:58:24.937Z"
   },
   {
    "duration": 3,
    "start_time": "2023-04-20T07:59:08.459Z"
   },
   {
    "duration": 5,
    "start_time": "2023-04-20T07:59:28.909Z"
   },
   {
    "duration": 5,
    "start_time": "2023-04-20T07:59:50.230Z"
   },
   {
    "duration": 199,
    "start_time": "2023-04-20T08:01:55.193Z"
   },
   {
    "duration": 13,
    "start_time": "2023-04-20T08:04:51.100Z"
   },
   {
    "duration": 3,
    "start_time": "2023-04-20T08:04:58.433Z"
   },
   {
    "duration": 124,
    "start_time": "2023-04-20T08:05:03.707Z"
   },
   {
    "duration": 9,
    "start_time": "2023-04-20T08:05:10.286Z"
   },
   {
    "duration": 2,
    "start_time": "2023-04-20T08:06:36.906Z"
   },
   {
    "duration": 9,
    "start_time": "2023-04-20T08:08:06.016Z"
   },
   {
    "duration": 3,
    "start_time": "2023-04-20T08:08:12.550Z"
   },
   {
    "duration": 2,
    "start_time": "2023-04-20T08:08:13.144Z"
   },
   {
    "duration": 2879501,
    "start_time": "2023-04-20T08:08:53.389Z"
   },
   {
    "duration": 3,
    "start_time": "2023-04-20T09:02:29.418Z"
   },
   {
    "duration": 3,
    "start_time": "2023-04-20T09:16:31.973Z"
   },
   {
    "duration": 3,
    "start_time": "2023-04-20T09:16:38.132Z"
   },
   {
    "duration": 3,
    "start_time": "2023-04-20T09:18:49.967Z"
   },
   {
    "duration": 3,
    "start_time": "2023-04-20T09:18:58.128Z"
   },
   {
    "duration": 3,
    "start_time": "2023-04-20T09:20:01.850Z"
   },
   {
    "duration": 2,
    "start_time": "2023-04-20T09:20:56.484Z"
   },
   {
    "duration": 3,
    "start_time": "2023-04-20T09:22:24.238Z"
   },
   {
    "duration": 3,
    "start_time": "2023-04-20T09:23:05.678Z"
   },
   {
    "duration": 6906,
    "start_time": "2023-04-20T09:23:26.275Z"
   },
   {
    "duration": 290,
    "start_time": "2023-04-20T09:23:42.483Z"
   },
   {
    "duration": 103,
    "start_time": "2023-04-20T09:24:33.179Z"
   },
   {
    "duration": 42,
    "start_time": "2023-04-20T09:25:30.904Z"
   },
   {
    "duration": 110,
    "start_time": "2023-04-20T09:26:00.070Z"
   },
   {
    "duration": 3,
    "start_time": "2023-04-20T09:26:01.577Z"
   },
   {
    "duration": 8,
    "start_time": "2023-04-20T09:26:18.032Z"
   },
   {
    "duration": 4,
    "start_time": "2023-04-20T09:26:18.878Z"
   },
   {
    "duration": 2,
    "start_time": "2023-04-20T09:26:49.597Z"
   },
   {
    "duration": 1143,
    "start_time": "2023-04-20T09:26:50.334Z"
   },
   {
    "duration": 10,
    "start_time": "2023-04-20T09:26:52.702Z"
   },
   {
    "duration": 11,
    "start_time": "2023-04-20T09:26:54.019Z"
   },
   {
    "duration": 5,
    "start_time": "2023-04-20T09:27:07.843Z"
   },
   {
    "duration": 4,
    "start_time": "2023-04-20T09:31:05.952Z"
   },
   {
    "duration": 3,
    "start_time": "2023-04-20T09:31:45.308Z"
   },
   {
    "duration": 3,
    "start_time": "2023-04-20T09:31:45.896Z"
   },
   {
    "duration": 4,
    "start_time": "2023-04-20T09:31:46.358Z"
   },
   {
    "duration": 8788,
    "start_time": "2023-04-20T09:31:47.125Z"
   },
   {
    "duration": 31,
    "start_time": "2023-04-20T09:31:57.055Z"
   },
   {
    "duration": 4,
    "start_time": "2023-04-20T09:31:59.446Z"
   },
   {
    "duration": 84,
    "start_time": "2023-04-20T09:33:53.335Z"
   },
   {
    "duration": 2,
    "start_time": "2023-04-20T09:34:38.442Z"
   },
   {
    "duration": 3,
    "start_time": "2023-04-20T09:34:41.622Z"
   },
   {
    "duration": 2,
    "start_time": "2023-04-20T09:35:55.878Z"
   },
   {
    "duration": 4,
    "start_time": "2023-04-20T09:35:56.326Z"
   },
   {
    "duration": 3,
    "start_time": "2023-04-20T09:35:58.327Z"
   },
   {
    "duration": 28688,
    "start_time": "2023-04-20T09:36:36.167Z"
   },
   {
    "duration": 219149,
    "start_time": "2023-04-20T09:37:10.724Z"
   },
   {
    "duration": 3,
    "start_time": "2023-04-20T09:48:50.311Z"
   },
   {
    "duration": 4,
    "start_time": "2023-04-20T09:48:57.276Z"
   },
   {
    "duration": 4,
    "start_time": "2023-04-20T09:49:01.634Z"
   },
   {
    "duration": 3,
    "start_time": "2023-04-20T09:49:08.363Z"
   },
   {
    "duration": 56,
    "start_time": "2023-04-20T09:49:40.150Z"
   },
   {
    "duration": 274,
    "start_time": "2023-04-20T09:50:35.011Z"
   },
   {
    "duration": 3,
    "start_time": "2023-04-20T09:54:41.816Z"
   },
   {
    "duration": 1461,
    "start_time": "2023-04-20T09:55:06.614Z"
   },
   {
    "duration": 1327,
    "start_time": "2023-04-20T09:55:42.052Z"
   },
   {
    "duration": 2,
    "start_time": "2023-04-20T09:57:05.000Z"
   },
   {
    "duration": 31790,
    "start_time": "2023-04-20T09:57:06.697Z"
   },
   {
    "duration": 99,
    "start_time": "2023-04-20T10:00:08.588Z"
   },
   {
    "duration": 5,
    "start_time": "2023-04-20T10:00:40.817Z"
   },
   {
    "duration": 9,
    "start_time": "2023-04-20T10:01:10.076Z"
   },
   {
    "duration": 6,
    "start_time": "2023-04-20T10:02:53.884Z"
   },
   {
    "duration": 1631,
    "start_time": "2023-04-20T10:03:00.384Z"
   },
   {
    "duration": 86,
    "start_time": "2023-04-20T10:03:02.018Z"
   },
   {
    "duration": 177,
    "start_time": "2023-04-20T10:03:02.105Z"
   },
   {
    "duration": 167,
    "start_time": "2023-04-20T10:03:02.285Z"
   },
   {
    "duration": 106,
    "start_time": "2023-04-20T10:03:02.454Z"
   },
   {
    "duration": 239,
    "start_time": "2023-04-20T10:03:02.562Z"
   },
   {
    "duration": 31,
    "start_time": "2023-04-20T10:03:02.803Z"
   },
   {
    "duration": 50,
    "start_time": "2023-04-20T10:03:02.835Z"
   },
   {
    "duration": 54,
    "start_time": "2023-04-20T10:03:02.887Z"
   },
   {
    "duration": 308,
    "start_time": "2023-04-20T10:03:02.943Z"
   },
   {
    "duration": 5,
    "start_time": "2023-04-20T10:03:03.252Z"
   },
   {
    "duration": 142,
    "start_time": "2023-04-20T10:03:03.259Z"
   },
   {
    "duration": 812,
    "start_time": "2023-04-20T10:03:03.403Z"
   },
   {
    "duration": 533,
    "start_time": "2023-04-20T10:03:04.216Z"
   },
   {
    "duration": 4,
    "start_time": "2023-04-20T10:03:04.751Z"
   },
   {
    "duration": 52,
    "start_time": "2023-04-20T10:03:04.756Z"
   },
   {
    "duration": 51,
    "start_time": "2023-04-20T10:03:04.810Z"
   },
   {
    "duration": 49,
    "start_time": "2023-04-20T10:03:04.862Z"
   },
   {
    "duration": 7,
    "start_time": "2023-04-20T10:03:04.912Z"
   },
   {
    "duration": 51,
    "start_time": "2023-04-20T10:03:04.920Z"
   },
   {
    "duration": 97,
    "start_time": "2023-04-20T10:03:04.972Z"
   },
   {
    "duration": 44,
    "start_time": "2023-04-20T10:03:05.089Z"
   },
   {
    "duration": 127,
    "start_time": "2023-04-20T10:03:05.134Z"
   },
   {
    "duration": 0,
    "start_time": "2023-04-20T10:03:05.263Z"
   },
   {
    "duration": 0,
    "start_time": "2023-04-20T10:03:05.264Z"
   },
   {
    "duration": 0,
    "start_time": "2023-04-20T10:03:05.271Z"
   },
   {
    "duration": 0,
    "start_time": "2023-04-20T10:03:05.272Z"
   },
   {
    "duration": 0,
    "start_time": "2023-04-20T10:03:05.273Z"
   },
   {
    "duration": 0,
    "start_time": "2023-04-20T10:03:05.273Z"
   },
   {
    "duration": 0,
    "start_time": "2023-04-20T10:03:05.274Z"
   },
   {
    "duration": 0,
    "start_time": "2023-04-20T10:03:05.275Z"
   },
   {
    "duration": 0,
    "start_time": "2023-04-20T10:03:05.275Z"
   },
   {
    "duration": 0,
    "start_time": "2023-04-20T10:03:05.276Z"
   },
   {
    "duration": 0,
    "start_time": "2023-04-20T10:03:05.276Z"
   },
   {
    "duration": 0,
    "start_time": "2023-04-20T10:03:05.277Z"
   },
   {
    "duration": 0,
    "start_time": "2023-04-20T10:03:05.277Z"
   },
   {
    "duration": 0,
    "start_time": "2023-04-20T10:03:05.278Z"
   },
   {
    "duration": 0,
    "start_time": "2023-04-20T10:03:05.278Z"
   },
   {
    "duration": 0,
    "start_time": "2023-04-20T10:03:05.279Z"
   },
   {
    "duration": 0,
    "start_time": "2023-04-20T10:03:05.279Z"
   },
   {
    "duration": 0,
    "start_time": "2023-04-20T10:03:05.280Z"
   },
   {
    "duration": 1,
    "start_time": "2023-04-20T10:03:05.280Z"
   },
   {
    "duration": 0,
    "start_time": "2023-04-20T10:03:05.281Z"
   },
   {
    "duration": 0,
    "start_time": "2023-04-20T10:03:05.282Z"
   },
   {
    "duration": 0,
    "start_time": "2023-04-20T10:03:05.282Z"
   },
   {
    "duration": 0,
    "start_time": "2023-04-20T10:03:05.283Z"
   },
   {
    "duration": 0,
    "start_time": "2023-04-20T10:03:05.284Z"
   },
   {
    "duration": 0,
    "start_time": "2023-04-20T10:03:05.284Z"
   },
   {
    "duration": 0,
    "start_time": "2023-04-20T10:03:05.287Z"
   },
   {
    "duration": 0,
    "start_time": "2023-04-20T10:03:05.287Z"
   },
   {
    "duration": 0,
    "start_time": "2023-04-20T10:03:05.288Z"
   },
   {
    "duration": 0,
    "start_time": "2023-04-20T10:03:05.290Z"
   },
   {
    "duration": 4,
    "start_time": "2023-04-20T10:04:19.317Z"
   },
   {
    "duration": 1578,
    "start_time": "2023-04-20T10:04:26.140Z"
   },
   {
    "duration": 46,
    "start_time": "2023-04-20T10:04:27.720Z"
   },
   {
    "duration": 19,
    "start_time": "2023-04-20T10:04:27.767Z"
   },
   {
    "duration": 29,
    "start_time": "2023-04-20T10:04:27.788Z"
   },
   {
    "duration": 12,
    "start_time": "2023-04-20T10:04:27.818Z"
   },
   {
    "duration": 18,
    "start_time": "2023-04-20T10:04:27.831Z"
   },
   {
    "duration": 8,
    "start_time": "2023-04-20T10:04:27.851Z"
   },
   {
    "duration": 7,
    "start_time": "2023-04-20T10:04:27.860Z"
   },
   {
    "duration": 21,
    "start_time": "2023-04-20T10:04:27.868Z"
   },
   {
    "duration": 243,
    "start_time": "2023-04-20T10:04:27.891Z"
   },
   {
    "duration": 5,
    "start_time": "2023-04-20T10:04:28.135Z"
   },
   {
    "duration": 8,
    "start_time": "2023-04-20T10:04:28.141Z"
   },
   {
    "duration": 738,
    "start_time": "2023-04-20T10:04:28.150Z"
   },
   {
    "duration": 526,
    "start_time": "2023-04-20T10:04:28.890Z"
   },
   {
    "duration": 5,
    "start_time": "2023-04-20T10:04:29.417Z"
   },
   {
    "duration": 11,
    "start_time": "2023-04-20T10:04:29.423Z"
   },
   {
    "duration": 20,
    "start_time": "2023-04-20T10:04:29.435Z"
   },
   {
    "duration": 27,
    "start_time": "2023-04-20T10:04:29.456Z"
   },
   {
    "duration": 8,
    "start_time": "2023-04-20T10:04:29.485Z"
   },
   {
    "duration": 21,
    "start_time": "2023-04-20T10:04:29.494Z"
   },
   {
    "duration": 5,
    "start_time": "2023-04-20T10:04:29.516Z"
   },
   {
    "duration": 18,
    "start_time": "2023-04-20T10:04:29.523Z"
   },
   {
    "duration": 11,
    "start_time": "2023-04-20T10:04:29.542Z"
   },
   {
    "duration": 7,
    "start_time": "2023-04-20T10:04:29.554Z"
   },
   {
    "duration": 27,
    "start_time": "2023-04-20T10:04:29.562Z"
   },
   {
    "duration": 5,
    "start_time": "2023-04-20T10:04:29.590Z"
   },
   {
    "duration": 13,
    "start_time": "2023-04-20T10:04:29.596Z"
   },
   {
    "duration": 3,
    "start_time": "2023-04-20T10:04:29.613Z"
   },
   {
    "duration": 13,
    "start_time": "2023-04-20T10:04:29.618Z"
   },
   {
    "duration": 19,
    "start_time": "2023-04-20T10:04:29.678Z"
   },
   {
    "duration": 83,
    "start_time": "2023-04-20T10:04:29.699Z"
   },
   {
    "duration": 9,
    "start_time": "2023-04-20T10:04:29.784Z"
   },
   {
    "duration": 16373764,
    "start_time": "2023-04-20T10:04:29.794Z"
   },
   {
    "duration": 18,
    "start_time": "2023-04-20T14:37:23.560Z"
   },
   {
    "duration": 14,
    "start_time": "2023-04-20T14:37:23.589Z"
   },
   {
    "duration": 23,
    "start_time": "2023-04-20T14:37:23.604Z"
   },
   {
    "duration": 630598,
    "start_time": "2023-04-20T14:37:23.628Z"
   },
   {
    "duration": 157,
    "start_time": "2023-04-20T14:47:54.228Z"
   },
   {
    "duration": 10,
    "start_time": "2023-04-20T14:47:54.387Z"
   },
   {
    "duration": 21,
    "start_time": "2023-04-20T14:47:54.409Z"
   },
   {
    "duration": 8,
    "start_time": "2023-04-20T14:47:54.432Z"
   },
   {
    "duration": 24,
    "start_time": "2023-04-20T14:47:54.442Z"
   },
   {
    "duration": 6218712,
    "start_time": "2023-04-20T14:47:54.467Z"
   },
   {
    "duration": 3,
    "start_time": "2023-04-20T16:31:33.181Z"
   },
   {
    "duration": 13,
    "start_time": "2023-04-20T16:31:33.186Z"
   },
   {
    "duration": 73,
    "start_time": "2023-04-20T16:31:33.200Z"
   },
   {
    "duration": 4,
    "start_time": "2023-04-20T16:31:33.274Z"
   },
   {
    "duration": 14,
    "start_time": "2023-04-20T16:31:33.280Z"
   },
   {
    "duration": 12,
    "start_time": "2023-04-20T16:31:33.295Z"
   },
   {
    "duration": 963,
    "start_time": "2023-04-20T16:31:33.309Z"
   },
   {
    "duration": 7,
    "start_time": "2023-04-20T16:31:34.274Z"
   },
   {
    "duration": 18,
    "start_time": "2023-04-20T16:31:34.283Z"
   },
   {
    "duration": 4,
    "start_time": "2023-04-21T03:32:53.836Z"
   },
   {
    "duration": 51,
    "start_time": "2023-04-21T03:32:53.842Z"
   },
   {
    "duration": 11,
    "start_time": "2023-04-21T03:32:53.895Z"
   },
   {
    "duration": 12,
    "start_time": "2023-04-21T03:32:53.908Z"
   },
   {
    "duration": 6,
    "start_time": "2023-04-21T03:32:53.922Z"
   },
   {
    "duration": 10,
    "start_time": "2023-04-21T03:32:53.929Z"
   },
   {
    "duration": 13,
    "start_time": "2023-04-21T03:32:53.941Z"
   },
   {
    "duration": 7,
    "start_time": "2023-04-21T03:32:53.972Z"
   },
   {
    "duration": 12,
    "start_time": "2023-04-21T03:32:53.980Z"
   },
   {
    "duration": 266,
    "start_time": "2023-04-21T03:32:53.994Z"
   },
   {
    "duration": 4,
    "start_time": "2023-04-21T03:32:54.271Z"
   },
   {
    "duration": 17,
    "start_time": "2023-04-21T03:32:54.277Z"
   },
   {
    "duration": 682,
    "start_time": "2023-04-21T03:32:54.296Z"
   },
   {
    "duration": 554,
    "start_time": "2023-04-21T03:32:54.980Z"
   },
   {
    "duration": 4,
    "start_time": "2023-04-21T03:32:55.536Z"
   },
   {
    "duration": 8,
    "start_time": "2023-04-21T03:32:55.542Z"
   },
   {
    "duration": 16,
    "start_time": "2023-04-21T03:32:55.552Z"
   },
   {
    "duration": 20,
    "start_time": "2023-04-21T03:32:55.571Z"
   },
   {
    "duration": 6,
    "start_time": "2023-04-21T03:32:55.593Z"
   },
   {
    "duration": 21,
    "start_time": "2023-04-21T03:32:55.600Z"
   },
   {
    "duration": 5,
    "start_time": "2023-04-21T03:32:55.622Z"
   },
   {
    "duration": 17,
    "start_time": "2023-04-21T03:32:55.628Z"
   },
   {
    "duration": 9,
    "start_time": "2023-04-21T03:32:55.646Z"
   },
   {
    "duration": 16,
    "start_time": "2023-04-21T03:32:55.656Z"
   },
   {
    "duration": 4,
    "start_time": "2023-04-21T03:32:55.674Z"
   },
   {
    "duration": 5,
    "start_time": "2023-04-21T03:32:55.679Z"
   },
   {
    "duration": 6,
    "start_time": "2023-04-21T03:33:27.118Z"
   },
   {
    "duration": 63,
    "start_time": "2023-04-21T03:33:27.127Z"
   },
   {
    "duration": 12,
    "start_time": "2023-04-21T03:33:27.193Z"
   },
   {
    "duration": 8,
    "start_time": "2023-04-21T03:33:27.207Z"
   },
   {
    "duration": 4,
    "start_time": "2023-04-21T03:33:27.217Z"
   },
   {
    "duration": 8,
    "start_time": "2023-04-21T03:33:27.222Z"
   },
   {
    "duration": 8,
    "start_time": "2023-04-21T03:33:27.231Z"
   },
   {
    "duration": 12,
    "start_time": "2023-04-21T03:33:27.271Z"
   },
   {
    "duration": 11,
    "start_time": "2023-04-21T03:33:27.286Z"
   },
   {
    "duration": 346,
    "start_time": "2023-04-21T03:33:27.301Z"
   },
   {
    "duration": 4,
    "start_time": "2023-04-21T03:33:27.649Z"
   },
   {
    "duration": 19,
    "start_time": "2023-04-21T03:33:27.655Z"
   },
   {
    "duration": 703,
    "start_time": "2023-04-21T03:33:27.676Z"
   },
   {
    "duration": 573,
    "start_time": "2023-04-21T03:33:28.380Z"
   },
   {
    "duration": 5,
    "start_time": "2023-04-21T03:33:28.954Z"
   },
   {
    "duration": 14,
    "start_time": "2023-04-21T03:33:28.960Z"
   },
   {
    "duration": 30,
    "start_time": "2023-04-21T03:33:28.976Z"
   },
   {
    "duration": 23,
    "start_time": "2023-04-21T03:33:29.008Z"
   },
   {
    "duration": 37,
    "start_time": "2023-04-21T03:33:29.032Z"
   },
   {
    "duration": 50,
    "start_time": "2023-04-21T03:33:29.071Z"
   },
   {
    "duration": 5,
    "start_time": "2023-04-21T03:33:29.124Z"
   },
   {
    "duration": 17,
    "start_time": "2023-04-21T03:33:29.131Z"
   },
   {
    "duration": 7,
    "start_time": "2023-04-21T03:33:29.149Z"
   },
   {
    "duration": 6,
    "start_time": "2023-04-21T03:33:29.157Z"
   },
   {
    "duration": 8,
    "start_time": "2023-04-21T03:33:29.165Z"
   },
   {
    "duration": 9,
    "start_time": "2023-04-21T03:33:29.174Z"
   },
   {
    "duration": 87,
    "start_time": "2023-04-21T03:34:12.512Z"
   },
   {
    "duration": 3,
    "start_time": "2023-04-21T03:34:43.879Z"
   },
   {
    "duration": 53,
    "start_time": "2023-04-21T03:34:43.884Z"
   },
   {
    "duration": 9,
    "start_time": "2023-04-21T03:34:43.939Z"
   },
   {
    "duration": 8,
    "start_time": "2023-04-21T03:34:43.950Z"
   },
   {
    "duration": 10,
    "start_time": "2023-04-21T03:34:43.960Z"
   },
   {
    "duration": 23,
    "start_time": "2023-04-21T03:34:43.971Z"
   },
   {
    "duration": 20,
    "start_time": "2023-04-21T03:34:43.995Z"
   },
   {
    "duration": 10,
    "start_time": "2023-04-21T03:34:44.016Z"
   },
   {
    "duration": 15,
    "start_time": "2023-04-21T03:34:44.028Z"
   },
   {
    "duration": 238,
    "start_time": "2023-04-21T03:34:44.045Z"
   },
   {
    "duration": 4,
    "start_time": "2023-04-21T03:34:44.284Z"
   },
   {
    "duration": 10,
    "start_time": "2023-04-21T03:34:44.289Z"
   },
   {
    "duration": 791,
    "start_time": "2023-04-21T03:34:44.300Z"
   },
   {
    "duration": 577,
    "start_time": "2023-04-21T03:34:45.092Z"
   },
   {
    "duration": 4,
    "start_time": "2023-04-21T03:34:45.672Z"
   },
   {
    "duration": 20,
    "start_time": "2023-04-21T03:34:45.678Z"
   },
   {
    "duration": 34,
    "start_time": "2023-04-21T03:34:45.699Z"
   },
   {
    "duration": 28,
    "start_time": "2023-04-21T03:34:45.735Z"
   },
   {
    "duration": 18,
    "start_time": "2023-04-21T03:34:45.766Z"
   },
   {
    "duration": 30,
    "start_time": "2023-04-21T03:34:45.786Z"
   },
   {
    "duration": 10,
    "start_time": "2023-04-21T03:34:45.819Z"
   },
   {
    "duration": 14,
    "start_time": "2023-04-21T03:34:45.831Z"
   },
   {
    "duration": 18,
    "start_time": "2023-04-21T03:34:45.846Z"
   },
   {
    "duration": 23,
    "start_time": "2023-04-21T03:34:45.867Z"
   },
   {
    "duration": 35,
    "start_time": "2023-04-21T03:34:45.891Z"
   },
   {
    "duration": 24,
    "start_time": "2023-04-21T03:34:45.927Z"
   },
   {
    "duration": 4,
    "start_time": "2023-04-21T03:34:55.022Z"
   },
   {
    "duration": 54,
    "start_time": "2023-04-21T03:34:55.028Z"
   },
   {
    "duration": 11,
    "start_time": "2023-04-21T03:34:55.085Z"
   },
   {
    "duration": 12,
    "start_time": "2023-04-21T03:34:55.098Z"
   },
   {
    "duration": 8,
    "start_time": "2023-04-21T03:34:55.111Z"
   },
   {
    "duration": 46,
    "start_time": "2023-04-21T03:34:55.121Z"
   },
   {
    "duration": 48,
    "start_time": "2023-04-21T03:34:55.169Z"
   },
   {
    "duration": 76,
    "start_time": "2023-04-21T03:34:55.219Z"
   },
   {
    "duration": 13,
    "start_time": "2023-04-21T03:34:55.297Z"
   },
   {
    "duration": 245,
    "start_time": "2023-04-21T03:34:55.311Z"
   },
   {
    "duration": 4,
    "start_time": "2023-04-21T03:34:55.558Z"
   },
   {
    "duration": 12,
    "start_time": "2023-04-21T03:34:55.563Z"
   },
   {
    "duration": 819,
    "start_time": "2023-04-21T03:34:55.576Z"
   },
   {
    "duration": 567,
    "start_time": "2023-04-21T03:34:56.397Z"
   },
   {
    "duration": 7,
    "start_time": "2023-04-21T03:34:56.965Z"
   },
   {
    "duration": 21,
    "start_time": "2023-04-21T03:34:56.974Z"
   },
   {
    "duration": 27,
    "start_time": "2023-04-21T03:34:56.997Z"
   },
   {
    "duration": 21,
    "start_time": "2023-04-21T03:34:57.025Z"
   },
   {
    "duration": 17,
    "start_time": "2023-04-21T03:34:57.048Z"
   },
   {
    "duration": 38,
    "start_time": "2023-04-21T03:34:57.067Z"
   },
   {
    "duration": 8,
    "start_time": "2023-04-21T03:34:57.107Z"
   },
   {
    "duration": 14,
    "start_time": "2023-04-21T03:34:57.117Z"
   },
   {
    "duration": 24,
    "start_time": "2023-04-21T03:34:57.133Z"
   },
   {
    "duration": 14,
    "start_time": "2023-04-21T03:34:57.159Z"
   },
   {
    "duration": 19,
    "start_time": "2023-04-21T03:34:57.175Z"
   },
   {
    "duration": 15,
    "start_time": "2023-04-21T03:34:57.196Z"
   },
   {
    "duration": 4,
    "start_time": "2023-04-21T03:35:06.096Z"
   },
   {
    "duration": 58,
    "start_time": "2023-04-21T03:35:06.102Z"
   },
   {
    "duration": 14,
    "start_time": "2023-04-21T03:35:06.163Z"
   },
   {
    "duration": 22,
    "start_time": "2023-04-21T03:35:06.180Z"
   },
   {
    "duration": 4,
    "start_time": "2023-04-21T03:35:06.204Z"
   },
   {
    "duration": 13,
    "start_time": "2023-04-21T03:35:06.210Z"
   },
   {
    "duration": 17,
    "start_time": "2023-04-21T03:35:06.224Z"
   },
   {
    "duration": 7,
    "start_time": "2023-04-21T03:35:06.243Z"
   },
   {
    "duration": 13,
    "start_time": "2023-04-21T03:35:06.252Z"
   },
   {
    "duration": 246,
    "start_time": "2023-04-21T03:35:06.267Z"
   },
   {
    "duration": 4,
    "start_time": "2023-04-21T03:35:06.515Z"
   },
   {
    "duration": 8,
    "start_time": "2023-04-21T03:35:06.520Z"
   },
   {
    "duration": 649,
    "start_time": "2023-04-21T03:35:06.530Z"
   },
   {
    "duration": 557,
    "start_time": "2023-04-21T03:35:07.181Z"
   },
   {
    "duration": 5,
    "start_time": "2023-04-21T03:35:07.740Z"
   },
   {
    "duration": 13,
    "start_time": "2023-04-21T03:35:07.746Z"
   },
   {
    "duration": 20,
    "start_time": "2023-04-21T03:35:07.760Z"
   },
   {
    "duration": 20,
    "start_time": "2023-04-21T03:35:07.781Z"
   },
   {
    "duration": 6,
    "start_time": "2023-04-21T03:35:07.803Z"
   },
   {
    "duration": 28,
    "start_time": "2023-04-21T03:35:07.811Z"
   },
   {
    "duration": 5,
    "start_time": "2023-04-21T03:35:07.840Z"
   },
   {
    "duration": 32,
    "start_time": "2023-04-21T03:35:07.846Z"
   },
   {
    "duration": 11,
    "start_time": "2023-04-21T03:35:07.879Z"
   },
   {
    "duration": 16,
    "start_time": "2023-04-21T03:35:07.893Z"
   },
   {
    "duration": 14,
    "start_time": "2023-04-21T03:35:07.910Z"
   },
   {
    "duration": 10,
    "start_time": "2023-04-21T03:35:07.925Z"
   },
   {
    "duration": 5,
    "start_time": "2023-04-21T03:35:17.263Z"
   },
   {
    "duration": 54,
    "start_time": "2023-04-21T03:35:17.270Z"
   },
   {
    "duration": 10,
    "start_time": "2023-04-21T03:35:17.326Z"
   },
   {
    "duration": 21,
    "start_time": "2023-04-21T03:35:17.338Z"
   },
   {
    "duration": 5,
    "start_time": "2023-04-21T03:35:17.361Z"
   },
   {
    "duration": 19,
    "start_time": "2023-04-21T03:35:17.368Z"
   },
   {
    "duration": 10,
    "start_time": "2023-04-21T03:35:17.389Z"
   },
   {
    "duration": 8,
    "start_time": "2023-04-21T03:35:17.400Z"
   },
   {
    "duration": 8,
    "start_time": "2023-04-21T03:35:17.411Z"
   },
   {
    "duration": 381,
    "start_time": "2023-04-21T03:35:17.420Z"
   },
   {
    "duration": 4,
    "start_time": "2023-04-21T03:35:17.803Z"
   },
   {
    "duration": 7,
    "start_time": "2023-04-21T03:35:17.809Z"
   },
   {
    "duration": 767,
    "start_time": "2023-04-21T03:35:17.818Z"
   },
   {
    "duration": 583,
    "start_time": "2023-04-21T03:35:18.587Z"
   },
   {
    "duration": 4,
    "start_time": "2023-04-21T03:35:19.172Z"
   },
   {
    "duration": 9,
    "start_time": "2023-04-21T03:35:19.178Z"
   },
   {
    "duration": 17,
    "start_time": "2023-04-21T03:35:19.188Z"
   },
   {
    "duration": 20,
    "start_time": "2023-04-21T03:35:19.206Z"
   },
   {
    "duration": 6,
    "start_time": "2023-04-21T03:35:19.227Z"
   },
   {
    "duration": 19,
    "start_time": "2023-04-21T03:35:19.234Z"
   },
   {
    "duration": 5,
    "start_time": "2023-04-21T03:35:19.271Z"
   },
   {
    "duration": 10,
    "start_time": "2023-04-21T03:35:19.277Z"
   },
   {
    "duration": 12,
    "start_time": "2023-04-21T03:35:19.288Z"
   },
   {
    "duration": 15,
    "start_time": "2023-04-21T03:35:19.303Z"
   },
   {
    "duration": 9,
    "start_time": "2023-04-21T03:35:19.319Z"
   },
   {
    "duration": 4,
    "start_time": "2023-04-21T03:35:40.777Z"
   },
   {
    "duration": 91,
    "start_time": "2023-04-21T03:35:40.783Z"
   },
   {
    "duration": 8,
    "start_time": "2023-04-21T03:35:40.877Z"
   },
   {
    "duration": 13,
    "start_time": "2023-04-21T03:35:40.887Z"
   },
   {
    "duration": 5,
    "start_time": "2023-04-21T03:35:40.902Z"
   },
   {
    "duration": 25,
    "start_time": "2023-04-21T03:35:40.908Z"
   },
   {
    "duration": 10,
    "start_time": "2023-04-21T03:35:40.934Z"
   },
   {
    "duration": 9,
    "start_time": "2023-04-21T03:35:40.945Z"
   },
   {
    "duration": 15,
    "start_time": "2023-04-21T03:35:40.955Z"
   },
   {
    "duration": 264,
    "start_time": "2023-04-21T03:35:40.971Z"
   },
   {
    "duration": 4,
    "start_time": "2023-04-21T03:35:41.237Z"
   },
   {
    "duration": 11,
    "start_time": "2023-04-21T03:35:41.243Z"
   },
   {
    "duration": 807,
    "start_time": "2023-04-21T03:35:41.256Z"
   },
   {
    "duration": 571,
    "start_time": "2023-04-21T03:35:42.065Z"
   },
   {
    "duration": 4,
    "start_time": "2023-04-21T03:35:42.637Z"
   },
   {
    "duration": 6,
    "start_time": "2023-04-21T03:35:42.643Z"
   },
   {
    "duration": 29,
    "start_time": "2023-04-21T03:35:42.650Z"
   },
   {
    "duration": 34,
    "start_time": "2023-04-21T03:35:42.681Z"
   },
   {
    "duration": 10,
    "start_time": "2023-04-21T03:35:42.717Z"
   },
   {
    "duration": 22,
    "start_time": "2023-04-21T03:35:42.729Z"
   },
   {
    "duration": 7,
    "start_time": "2023-04-21T03:35:42.753Z"
   },
   {
    "duration": 10,
    "start_time": "2023-04-21T03:35:42.762Z"
   },
   {
    "duration": 8,
    "start_time": "2023-04-21T03:35:42.773Z"
   },
   {
    "duration": 20,
    "start_time": "2023-04-21T03:35:42.783Z"
   },
   {
    "duration": 11,
    "start_time": "2023-04-21T03:35:42.805Z"
   },
   {
    "duration": 24,
    "start_time": "2023-04-21T03:35:42.817Z"
   },
   {
    "duration": 3,
    "start_time": "2023-04-21T03:35:51.618Z"
   },
   {
    "duration": 46,
    "start_time": "2023-04-21T03:35:51.623Z"
   },
   {
    "duration": 9,
    "start_time": "2023-04-21T03:35:51.671Z"
   },
   {
    "duration": 12,
    "start_time": "2023-04-21T03:35:51.681Z"
   },
   {
    "duration": 4,
    "start_time": "2023-04-21T03:35:51.695Z"
   },
   {
    "duration": 11,
    "start_time": "2023-04-21T03:35:51.700Z"
   },
   {
    "duration": 13,
    "start_time": "2023-04-21T03:35:51.712Z"
   },
   {
    "duration": 6,
    "start_time": "2023-04-21T03:35:51.726Z"
   },
   {
    "duration": 11,
    "start_time": "2023-04-21T03:35:51.734Z"
   },
   {
    "duration": 252,
    "start_time": "2023-04-21T03:35:51.746Z"
   },
   {
    "duration": 4,
    "start_time": "2023-04-21T03:35:52.000Z"
   },
   {
    "duration": 7,
    "start_time": "2023-04-21T03:35:52.005Z"
   },
   {
    "duration": 646,
    "start_time": "2023-04-21T03:35:52.014Z"
   },
   {
    "duration": 581,
    "start_time": "2023-04-21T03:35:52.662Z"
   },
   {
    "duration": 5,
    "start_time": "2023-04-21T03:35:53.244Z"
   },
   {
    "duration": 6,
    "start_time": "2023-04-21T03:35:53.250Z"
   },
   {
    "duration": 22,
    "start_time": "2023-04-21T03:35:53.257Z"
   },
   {
    "duration": 20,
    "start_time": "2023-04-21T03:35:53.281Z"
   },
   {
    "duration": 6,
    "start_time": "2023-04-21T03:35:53.302Z"
   },
   {
    "duration": 20,
    "start_time": "2023-04-21T03:35:53.310Z"
   },
   {
    "duration": 5,
    "start_time": "2023-04-21T03:35:53.332Z"
   },
   {
    "duration": 7,
    "start_time": "2023-04-21T03:35:53.339Z"
   },
   {
    "duration": 26,
    "start_time": "2023-04-21T03:35:53.347Z"
   },
   {
    "duration": 3,
    "start_time": "2023-04-21T03:35:53.375Z"
   },
   {
    "duration": 7,
    "start_time": "2023-04-21T03:35:53.379Z"
   },
   {
    "duration": 16,
    "start_time": "2023-04-21T03:35:53.388Z"
   },
   {
    "duration": 4,
    "start_time": "2023-04-21T03:36:02.001Z"
   },
   {
    "duration": 108,
    "start_time": "2023-04-21T03:36:02.007Z"
   },
   {
    "duration": 50,
    "start_time": "2023-04-21T03:36:02.117Z"
   },
   {
    "duration": 26,
    "start_time": "2023-04-21T03:36:02.169Z"
   },
   {
    "duration": 36,
    "start_time": "2023-04-21T03:36:02.197Z"
   },
   {
    "duration": 45,
    "start_time": "2023-04-21T03:36:02.235Z"
   },
   {
    "duration": 47,
    "start_time": "2023-04-21T03:36:02.281Z"
   },
   {
    "duration": 31,
    "start_time": "2023-04-21T03:36:02.329Z"
   },
   {
    "duration": 69,
    "start_time": "2023-04-21T03:36:02.362Z"
   },
   {
    "duration": 395,
    "start_time": "2023-04-21T03:36:02.433Z"
   },
   {
    "duration": 4,
    "start_time": "2023-04-21T03:36:02.831Z"
   },
   {
    "duration": 27,
    "start_time": "2023-04-21T03:36:02.836Z"
   },
   {
    "duration": 710,
    "start_time": "2023-04-21T03:36:02.865Z"
   },
   {
    "duration": 542,
    "start_time": "2023-04-21T03:36:03.577Z"
   },
   {
    "duration": 5,
    "start_time": "2023-04-21T03:36:04.120Z"
   },
   {
    "duration": 60,
    "start_time": "2023-04-21T03:36:04.127Z"
   },
   {
    "duration": 16,
    "start_time": "2023-04-21T03:36:04.189Z"
   },
   {
    "duration": 21,
    "start_time": "2023-04-21T03:36:04.207Z"
   },
   {
    "duration": 6,
    "start_time": "2023-04-21T03:36:04.230Z"
   },
   {
    "duration": 21,
    "start_time": "2023-04-21T03:36:04.237Z"
   },
   {
    "duration": 15,
    "start_time": "2023-04-21T03:36:04.260Z"
   },
   {
    "duration": 5,
    "start_time": "2023-04-21T03:36:04.276Z"
   },
   {
    "duration": 20,
    "start_time": "2023-04-21T03:36:04.283Z"
   },
   {
    "duration": 18,
    "start_time": "2023-04-21T03:36:04.305Z"
   },
   {
    "duration": 7,
    "start_time": "2023-04-21T03:36:04.324Z"
   },
   {
    "duration": 6,
    "start_time": "2023-04-21T03:36:04.332Z"
   },
   {
    "duration": 4,
    "start_time": "2023-04-21T03:36:15.610Z"
   },
   {
    "duration": 53,
    "start_time": "2023-04-21T03:36:15.616Z"
   },
   {
    "duration": 10,
    "start_time": "2023-04-21T03:36:15.671Z"
   },
   {
    "duration": 12,
    "start_time": "2023-04-21T03:36:15.683Z"
   },
   {
    "duration": 20,
    "start_time": "2023-04-21T03:36:15.697Z"
   },
   {
    "duration": 12,
    "start_time": "2023-04-21T03:36:15.719Z"
   },
   {
    "duration": 8,
    "start_time": "2023-04-21T03:36:15.733Z"
   },
   {
    "duration": 11,
    "start_time": "2023-04-21T03:36:15.742Z"
   },
   {
    "duration": 21,
    "start_time": "2023-04-21T03:36:15.755Z"
   },
   {
    "duration": 297,
    "start_time": "2023-04-21T03:36:15.778Z"
   },
   {
    "duration": 5,
    "start_time": "2023-04-21T03:36:16.079Z"
   },
   {
    "duration": 23,
    "start_time": "2023-04-21T03:36:16.086Z"
   },
   {
    "duration": 766,
    "start_time": "2023-04-21T03:36:16.111Z"
   },
   {
    "duration": 732,
    "start_time": "2023-04-21T03:36:16.879Z"
   },
   {
    "duration": 5,
    "start_time": "2023-04-21T03:36:17.612Z"
   },
   {
    "duration": 54,
    "start_time": "2023-04-21T03:36:17.618Z"
   },
   {
    "duration": 59,
    "start_time": "2023-04-21T03:36:17.674Z"
   },
   {
    "duration": 22,
    "start_time": "2023-04-21T03:36:17.734Z"
   },
   {
    "duration": 6,
    "start_time": "2023-04-21T03:36:17.758Z"
   },
   {
    "duration": 26,
    "start_time": "2023-04-21T03:36:17.765Z"
   },
   {
    "duration": 6,
    "start_time": "2023-04-21T03:36:17.793Z"
   },
   {
    "duration": 8,
    "start_time": "2023-04-21T03:36:17.801Z"
   },
   {
    "duration": 6,
    "start_time": "2023-04-21T03:36:17.810Z"
   },
   {
    "duration": 6,
    "start_time": "2023-04-21T03:36:17.817Z"
   },
   {
    "duration": 6,
    "start_time": "2023-04-21T03:36:17.824Z"
   },
   {
    "duration": 5,
    "start_time": "2023-04-21T03:36:17.831Z"
   },
   {
    "duration": 3,
    "start_time": "2023-04-21T03:36:31.907Z"
   },
   {
    "duration": 113,
    "start_time": "2023-04-21T03:36:31.912Z"
   },
   {
    "duration": 9,
    "start_time": "2023-04-21T03:36:32.027Z"
   },
   {
    "duration": 8,
    "start_time": "2023-04-21T03:36:32.039Z"
   },
   {
    "duration": 4,
    "start_time": "2023-04-21T03:36:32.049Z"
   },
   {
    "duration": 10,
    "start_time": "2023-04-21T03:36:32.054Z"
   },
   {
    "duration": 6,
    "start_time": "2023-04-21T03:36:32.066Z"
   },
   {
    "duration": 6,
    "start_time": "2023-04-21T03:36:32.074Z"
   },
   {
    "duration": 13,
    "start_time": "2023-04-21T03:36:32.082Z"
   },
   {
    "duration": 253,
    "start_time": "2023-04-21T03:36:32.098Z"
   },
   {
    "duration": 4,
    "start_time": "2023-04-21T03:36:32.353Z"
   },
   {
    "duration": 14,
    "start_time": "2023-04-21T03:36:32.359Z"
   },
   {
    "duration": 692,
    "start_time": "2023-04-21T03:36:32.375Z"
   },
   {
    "duration": 550,
    "start_time": "2023-04-21T03:36:33.069Z"
   },
   {
    "duration": 4,
    "start_time": "2023-04-21T03:36:33.621Z"
   },
   {
    "duration": 4,
    "start_time": "2023-04-21T03:36:33.627Z"
   },
   {
    "duration": 15,
    "start_time": "2023-04-21T03:36:33.633Z"
   },
   {
    "duration": 34,
    "start_time": "2023-04-21T03:36:33.649Z"
   },
   {
    "duration": 6,
    "start_time": "2023-04-21T03:36:33.684Z"
   },
   {
    "duration": 32,
    "start_time": "2023-04-21T03:36:33.692Z"
   },
   {
    "duration": 12,
    "start_time": "2023-04-21T03:36:33.726Z"
   },
   {
    "duration": 34,
    "start_time": "2023-04-21T03:36:33.739Z"
   },
   {
    "duration": 22,
    "start_time": "2023-04-21T03:36:33.774Z"
   },
   {
    "duration": 23,
    "start_time": "2023-04-21T03:36:33.798Z"
   },
   {
    "duration": 25,
    "start_time": "2023-04-21T03:36:33.823Z"
   },
   {
    "duration": 11,
    "start_time": "2023-04-21T03:36:33.849Z"
   },
   {
    "duration": 2,
    "start_time": "2023-04-21T03:37:40.549Z"
   },
   {
    "duration": 4,
    "start_time": "2023-04-21T03:37:48.656Z"
   },
   {
    "duration": 4,
    "start_time": "2023-04-21T03:38:13.079Z"
   },
   {
    "duration": 20,
    "start_time": "2023-04-21T03:38:19.950Z"
   },
   {
    "duration": 4,
    "start_time": "2023-04-21T03:38:37.384Z"
   },
   {
    "duration": 3,
    "start_time": "2023-04-21T03:38:37.912Z"
   },
   {
    "duration": 6,
    "start_time": "2023-04-21T03:39:03.865Z"
   },
   {
    "duration": 2,
    "start_time": "2023-04-21T03:39:04.312Z"
   },
   {
    "duration": 3,
    "start_time": "2023-04-21T03:39:13.287Z"
   },
   {
    "duration": 3,
    "start_time": "2023-04-21T03:39:25.545Z"
   },
   {
    "duration": 48,
    "start_time": "2023-04-21T03:39:25.549Z"
   },
   {
    "duration": 10,
    "start_time": "2023-04-21T03:39:25.599Z"
   },
   {
    "duration": 7,
    "start_time": "2023-04-21T03:39:25.610Z"
   },
   {
    "duration": 4,
    "start_time": "2023-04-21T03:39:25.619Z"
   },
   {
    "duration": 9,
    "start_time": "2023-04-21T03:39:25.625Z"
   },
   {
    "duration": 12,
    "start_time": "2023-04-21T03:39:25.636Z"
   },
   {
    "duration": 25,
    "start_time": "2023-04-21T03:39:25.649Z"
   },
   {
    "duration": 9,
    "start_time": "2023-04-21T03:39:25.675Z"
   },
   {
    "duration": 266,
    "start_time": "2023-04-21T03:39:25.686Z"
   },
   {
    "duration": 5,
    "start_time": "2023-04-21T03:39:25.955Z"
   },
   {
    "duration": 18,
    "start_time": "2023-04-21T03:39:25.962Z"
   },
   {
    "duration": 857,
    "start_time": "2023-04-21T03:39:25.982Z"
   },
   {
    "duration": 577,
    "start_time": "2023-04-21T03:39:26.840Z"
   },
   {
    "duration": 5,
    "start_time": "2023-04-21T03:39:27.418Z"
   },
   {
    "duration": 6,
    "start_time": "2023-04-21T03:39:27.424Z"
   },
   {
    "duration": 16,
    "start_time": "2023-04-21T03:39:27.431Z"
   },
   {
    "duration": 34,
    "start_time": "2023-04-21T03:39:27.448Z"
   },
   {
    "duration": 5,
    "start_time": "2023-04-21T03:39:27.484Z"
   },
   {
    "duration": 17,
    "start_time": "2023-04-21T03:39:27.491Z"
   },
   {
    "duration": 7,
    "start_time": "2023-04-21T03:39:30.608Z"
   },
   {
    "duration": 3,
    "start_time": "2023-04-21T03:39:31.056Z"
   },
   {
    "duration": 3,
    "start_time": "2023-04-21T03:39:31.534Z"
   },
   {
    "duration": 3,
    "start_time": "2023-04-21T03:39:33.301Z"
   },
   {
    "duration": 3,
    "start_time": "2023-04-21T03:39:51.094Z"
   },
   {
    "duration": 4,
    "start_time": "2023-04-21T03:39:51.616Z"
   },
   {
    "duration": 4,
    "start_time": "2023-04-21T03:40:08.938Z"
   },
   {
    "duration": 78,
    "start_time": "2023-04-21T03:40:08.944Z"
   },
   {
    "duration": 9,
    "start_time": "2023-04-21T03:40:09.024Z"
   },
   {
    "duration": 11,
    "start_time": "2023-04-21T03:40:09.034Z"
   },
   {
    "duration": 4,
    "start_time": "2023-04-21T03:40:09.047Z"
   },
   {
    "duration": 12,
    "start_time": "2023-04-21T03:40:09.053Z"
   },
   {
    "duration": 35,
    "start_time": "2023-04-21T03:40:09.067Z"
   },
   {
    "duration": 27,
    "start_time": "2023-04-21T03:40:09.104Z"
   },
   {
    "duration": 9,
    "start_time": "2023-04-21T03:40:09.133Z"
   },
   {
    "duration": 235,
    "start_time": "2023-04-21T03:40:09.144Z"
   },
   {
    "duration": 4,
    "start_time": "2023-04-21T03:40:09.382Z"
   },
   {
    "duration": 11,
    "start_time": "2023-04-21T03:40:09.387Z"
   },
   {
    "duration": 673,
    "start_time": "2023-04-21T03:40:09.399Z"
   },
   {
    "duration": 543,
    "start_time": "2023-04-21T03:40:10.074Z"
   },
   {
    "duration": 5,
    "start_time": "2023-04-21T03:40:10.618Z"
   },
   {
    "duration": 33,
    "start_time": "2023-04-21T03:40:10.624Z"
   },
   {
    "duration": 13,
    "start_time": "2023-04-21T03:40:10.659Z"
   },
   {
    "duration": 20,
    "start_time": "2023-04-21T03:40:10.673Z"
   },
   {
    "duration": 6,
    "start_time": "2023-04-21T03:40:10.695Z"
   },
   {
    "duration": 20,
    "start_time": "2023-04-21T03:40:10.702Z"
   },
   {
    "duration": 7,
    "start_time": "2023-04-21T03:40:10.723Z"
   },
   {
    "duration": 7,
    "start_time": "2023-04-21T03:40:10.731Z"
   },
   {
    "duration": 2,
    "start_time": "2023-04-21T03:40:14.156Z"
   },
   {
    "duration": 3,
    "start_time": "2023-04-21T03:40:14.593Z"
   },
   {
    "duration": 4,
    "start_time": "2023-04-21T03:40:15.587Z"
   },
   {
    "duration": 2,
    "start_time": "2023-04-21T03:40:17.060Z"
   },
   {
    "duration": 4,
    "start_time": "2023-04-21T03:40:17.535Z"
   },
   {
    "duration": 4,
    "start_time": "2023-04-21T03:40:40.299Z"
   },
   {
    "duration": 4,
    "start_time": "2023-04-21T03:40:40.966Z"
   },
   {
    "duration": 5,
    "start_time": "2023-04-21T03:40:41.715Z"
   },
   {
    "duration": 5,
    "start_time": "2023-04-21T03:40:42.537Z"
   },
   {
    "duration": 4,
    "start_time": "2023-04-21T03:40:43.411Z"
   },
   {
    "duration": 4,
    "start_time": "2023-04-21T03:40:44.658Z"
   },
   {
    "duration": 48,
    "start_time": "2023-04-21T03:41:57.909Z"
   },
   {
    "duration": 1460,
    "start_time": "2023-04-21T03:43:17.904Z"
   },
   {
    "duration": 50,
    "start_time": "2023-04-21T03:43:19.366Z"
   },
   {
    "duration": 11,
    "start_time": "2023-04-21T03:43:19.417Z"
   },
   {
    "duration": 10,
    "start_time": "2023-04-21T03:43:19.430Z"
   },
   {
    "duration": 5,
    "start_time": "2023-04-21T03:43:19.442Z"
   },
   {
    "duration": 10,
    "start_time": "2023-04-21T03:43:19.448Z"
   },
   {
    "duration": 13,
    "start_time": "2023-04-21T03:43:19.459Z"
   },
   {
    "duration": 6,
    "start_time": "2023-04-21T03:43:19.474Z"
   },
   {
    "duration": 9,
    "start_time": "2023-04-21T03:43:19.481Z"
   },
   {
    "duration": 289,
    "start_time": "2023-04-21T03:43:19.492Z"
   },
   {
    "duration": 5,
    "start_time": "2023-04-21T03:43:19.783Z"
   },
   {
    "duration": 17,
    "start_time": "2023-04-21T03:43:19.789Z"
   },
   {
    "duration": 803,
    "start_time": "2023-04-21T03:43:19.808Z"
   },
   {
    "duration": 588,
    "start_time": "2023-04-21T03:43:20.613Z"
   },
   {
    "duration": 6,
    "start_time": "2023-04-21T03:43:21.203Z"
   },
   {
    "duration": 8,
    "start_time": "2023-04-21T03:43:21.210Z"
   },
   {
    "duration": 20,
    "start_time": "2023-04-21T03:43:21.219Z"
   },
   {
    "duration": 38,
    "start_time": "2023-04-21T03:43:21.241Z"
   },
   {
    "duration": 6,
    "start_time": "2023-04-21T03:43:21.280Z"
   },
   {
    "duration": 26,
    "start_time": "2023-04-21T03:43:21.288Z"
   },
   {
    "duration": 5,
    "start_time": "2023-04-21T03:43:21.316Z"
   },
   {
    "duration": 23,
    "start_time": "2023-04-21T03:43:21.323Z"
   },
   {
    "duration": 5,
    "start_time": "2023-04-21T03:43:21.348Z"
   },
   {
    "duration": 5,
    "start_time": "2023-04-21T03:43:21.355Z"
   },
   {
    "duration": 10,
    "start_time": "2023-04-21T03:43:21.362Z"
   },
   {
    "duration": 4,
    "start_time": "2023-04-21T03:43:21.373Z"
   },
   {
    "duration": 5,
    "start_time": "2023-04-21T03:43:21.379Z"
   },
   {
    "duration": 4,
    "start_time": "2023-04-21T03:43:21.388Z"
   },
   {
    "duration": 4,
    "start_time": "2023-04-21T03:43:21.394Z"
   },
   {
    "duration": 7,
    "start_time": "2023-04-21T03:43:21.400Z"
   },
   {
    "duration": 7,
    "start_time": "2023-04-21T03:43:21.409Z"
   },
   {
    "duration": 54,
    "start_time": "2023-04-21T03:43:21.418Z"
   },
   {
    "duration": 3,
    "start_time": "2023-04-21T03:43:21.474Z"
   },
   {
    "duration": 6,
    "start_time": "2023-04-21T03:43:21.479Z"
   },
   {
    "duration": 5,
    "start_time": "2023-04-21T03:43:21.487Z"
   },
   {
    "duration": 11,
    "start_time": "2023-04-21T03:43:21.493Z"
   },
   {
    "duration": 167,
    "start_time": "2023-04-21T03:43:21.505Z"
   },
   {
    "duration": 5,
    "start_time": "2023-04-21T03:43:21.674Z"
   },
   {
    "duration": 5,
    "start_time": "2023-04-21T03:43:21.681Z"
   },
   {
    "duration": 5,
    "start_time": "2023-04-21T03:43:21.688Z"
   },
   {
    "duration": 4,
    "start_time": "2023-04-21T03:43:21.694Z"
   },
   {
    "duration": 836115,
    "start_time": "2023-04-21T03:43:21.700Z"
   },
   {
    "duration": 3,
    "start_time": "2023-04-21T03:57:17.817Z"
   },
   {
    "duration": 9,
    "start_time": "2023-04-21T03:57:17.821Z"
   },
   {
    "duration": 6,
    "start_time": "2023-04-21T03:57:17.832Z"
   },
   {
    "duration": 4467,
    "start_time": "2023-04-21T03:57:17.839Z"
   },
   {
    "duration": 72,
    "start_time": "2023-04-21T03:57:22.308Z"
   },
   {
    "duration": 95,
    "start_time": "2023-04-21T03:57:22.381Z"
   },
   {
    "duration": 7,
    "start_time": "2023-04-21T03:57:22.477Z"
   },
   {
    "duration": 7,
    "start_time": "2023-04-21T03:57:22.485Z"
   },
   {
    "duration": 6,
    "start_time": "2023-04-21T03:57:22.493Z"
   },
   {
    "duration": 66878,
    "start_time": "2023-04-21T03:57:22.501Z"
   },
   {
    "duration": 3,
    "start_time": "2023-04-21T03:58:29.380Z"
   },
   {
    "duration": 5,
    "start_time": "2023-04-21T03:58:29.384Z"
   },
   {
    "duration": 85,
    "start_time": "2023-04-21T03:58:29.391Z"
   },
   {
    "duration": 5,
    "start_time": "2023-04-21T03:58:29.478Z"
   },
   {
    "duration": 8,
    "start_time": "2023-04-21T03:58:29.484Z"
   },
   {
    "duration": 11,
    "start_time": "2023-04-21T03:58:29.493Z"
   },
   {
    "duration": 1775,
    "start_time": "2023-04-21T03:58:29.506Z"
   },
   {
    "duration": 190,
    "start_time": "2023-04-21T03:58:31.283Z"
   },
   {
    "duration": 35,
    "start_time": "2023-04-21T03:58:31.476Z"
   },
   {
    "duration": 57,
    "start_time": "2023-04-21T04:08:53.256Z"
   },
   {
    "duration": 8,
    "start_time": "2023-04-21T04:09:48.817Z"
   },
   {
    "duration": 113,
    "start_time": "2023-04-21T04:10:05.472Z"
   },
   {
    "duration": 15,
    "start_time": "2023-04-21T04:10:20.051Z"
   },
   {
    "duration": 8,
    "start_time": "2023-04-21T04:10:31.806Z"
   },
   {
    "duration": 8,
    "start_time": "2023-04-21T04:10:34.321Z"
   },
   {
    "duration": 4,
    "start_time": "2023-04-21T04:10:45.083Z"
   },
   {
    "duration": 9,
    "start_time": "2023-04-21T04:10:57.716Z"
   },
   {
    "duration": 5,
    "start_time": "2023-04-21T04:10:58.566Z"
   },
   {
    "duration": 5,
    "start_time": "2023-04-21T04:12:43.882Z"
   },
   {
    "duration": 50,
    "start_time": "2023-04-21T04:13:06.599Z"
   },
   {
    "duration": 3,
    "start_time": "2023-04-21T04:13:42.467Z"
   },
   {
    "duration": 231,
    "start_time": "2023-04-21T04:14:22.543Z"
   },
   {
    "duration": 3,
    "start_time": "2023-04-21T04:14:54.107Z"
   },
   {
    "duration": 998,
    "start_time": "2023-04-21T04:15:22.682Z"
   },
   {
    "duration": 7,
    "start_time": "2023-04-21T04:15:34.365Z"
   },
   {
    "duration": 4,
    "start_time": "2023-04-21T04:15:39.823Z"
   },
   {
    "duration": 3,
    "start_time": "2023-04-21T04:18:55.643Z"
   },
   {
    "duration": 3,
    "start_time": "2023-04-21T04:18:56.200Z"
   },
   {
    "duration": 2,
    "start_time": "2023-04-21T04:19:02.162Z"
   },
   {
    "duration": 65535,
    "start_time": "2023-04-21T04:19:03.558Z"
   },
   {
    "duration": 2,
    "start_time": "2023-04-21T04:20:18.662Z"
   },
   {
    "duration": 3,
    "start_time": "2023-04-21T04:20:19.140Z"
   },
   {
    "duration": 3,
    "start_time": "2023-04-21T04:20:19.705Z"
   },
   {
    "duration": 3,
    "start_time": "2023-04-21T04:20:20.228Z"
   },
   {
    "duration": 59,
    "start_time": "2023-04-21T04:20:37.562Z"
   },
   {
    "duration": 2,
    "start_time": "2023-04-21T04:21:05.503Z"
   },
   {
    "duration": 4,
    "start_time": "2023-04-21T04:21:08.822Z"
   },
   {
    "duration": 916,
    "start_time": "2023-04-21T04:21:10.059Z"
   },
   {
    "duration": 48,
    "start_time": "2023-04-21T04:21:12.527Z"
   },
   {
    "duration": 4,
    "start_time": "2023-04-21T04:21:15.223Z"
   },
   {
    "duration": 977,
    "start_time": "2023-04-21T04:21:39.297Z"
   },
   {
    "duration": 12,
    "start_time": "2023-04-21T04:21:41.132Z"
   },
   {
    "duration": 4,
    "start_time": "2023-04-21T04:21:41.727Z"
   },
   {
    "duration": 10,
    "start_time": "2023-04-21T04:21:47.121Z"
   },
   {
    "duration": 4,
    "start_time": "2023-04-21T04:21:51.510Z"
   },
   {
    "duration": 3,
    "start_time": "2023-04-21T04:22:39.523Z"
   },
   {
    "duration": 3,
    "start_time": "2023-04-21T04:22:39.990Z"
   },
   {
    "duration": 3,
    "start_time": "2023-04-21T04:22:41.167Z"
   },
   {
    "duration": 755890,
    "start_time": "2023-04-21T04:22:43.043Z"
   },
   {
    "duration": 3,
    "start_time": "2023-04-21T04:35:52.302Z"
   },
   {
    "duration": 3,
    "start_time": "2023-04-21T04:35:54.603Z"
   },
   {
    "duration": 3,
    "start_time": "2023-04-21T04:36:00.535Z"
   },
   {
    "duration": 8381,
    "start_time": "2023-04-21T04:36:01.702Z"
   },
   {
    "duration": 8,
    "start_time": "2023-04-21T04:36:13.703Z"
   },
   {
    "duration": 4,
    "start_time": "2023-04-21T04:36:14.864Z"
   },
   {
    "duration": 7,
    "start_time": "2023-04-21T04:36:43.143Z"
   },
   {
    "duration": 9,
    "start_time": "2023-04-21T04:37:27.861Z"
   },
   {
    "duration": 4,
    "start_time": "2023-04-21T04:37:34.311Z"
   },
   {
    "duration": 11,
    "start_time": "2023-04-21T04:38:27.616Z"
   },
   {
    "duration": 4,
    "start_time": "2023-04-21T04:38:44.046Z"
   },
   {
    "duration": 49,
    "start_time": "2023-04-21T04:38:44.051Z"
   },
   {
    "duration": 10,
    "start_time": "2023-04-21T04:38:44.102Z"
   },
   {
    "duration": 17,
    "start_time": "2023-04-21T04:38:44.114Z"
   },
   {
    "duration": 17,
    "start_time": "2023-04-21T04:38:44.133Z"
   },
   {
    "duration": 17,
    "start_time": "2023-04-21T04:38:44.152Z"
   },
   {
    "duration": 22,
    "start_time": "2023-04-21T04:38:44.171Z"
   },
   {
    "duration": 15,
    "start_time": "2023-04-21T04:38:44.195Z"
   },
   {
    "duration": 18,
    "start_time": "2023-04-21T04:38:44.212Z"
   },
   {
    "duration": 254,
    "start_time": "2023-04-21T04:38:44.232Z"
   },
   {
    "duration": 4,
    "start_time": "2023-04-21T04:38:44.489Z"
   },
   {
    "duration": 16,
    "start_time": "2023-04-21T04:38:44.495Z"
   },
   {
    "duration": 755,
    "start_time": "2023-04-21T04:38:44.512Z"
   },
   {
    "duration": 559,
    "start_time": "2023-04-21T04:38:45.269Z"
   },
   {
    "duration": 4,
    "start_time": "2023-04-21T04:38:45.830Z"
   },
   {
    "duration": 6,
    "start_time": "2023-04-21T04:38:45.835Z"
   },
   {
    "duration": 18,
    "start_time": "2023-04-21T04:38:45.842Z"
   },
   {
    "duration": 24,
    "start_time": "2023-04-21T04:38:45.871Z"
   },
   {
    "duration": 8,
    "start_time": "2023-04-21T04:38:45.897Z"
   },
   {
    "duration": 23,
    "start_time": "2023-04-21T04:38:45.906Z"
   },
   {
    "duration": 9,
    "start_time": "2023-04-21T04:38:45.931Z"
   },
   {
    "duration": 9,
    "start_time": "2023-04-21T04:38:45.941Z"
   },
   {
    "duration": 25,
    "start_time": "2023-04-21T04:38:45.952Z"
   },
   {
    "duration": 12,
    "start_time": "2023-04-21T04:38:45.979Z"
   },
   {
    "duration": 15,
    "start_time": "2023-04-21T04:38:45.993Z"
   },
   {
    "duration": 10,
    "start_time": "2023-04-21T04:38:46.011Z"
   },
   {
    "duration": 12,
    "start_time": "2023-04-21T04:38:46.023Z"
   },
   {
    "duration": 14,
    "start_time": "2023-04-21T04:38:46.038Z"
   },
   {
    "duration": 11,
    "start_time": "2023-04-21T04:38:46.056Z"
   },
   {
    "duration": 11,
    "start_time": "2023-04-21T04:38:46.070Z"
   },
   {
    "duration": 13,
    "start_time": "2023-04-21T04:38:46.082Z"
   },
   {
    "duration": 22,
    "start_time": "2023-04-21T04:38:46.097Z"
   },
   {
    "duration": 3,
    "start_time": "2023-04-21T04:38:46.121Z"
   },
   {
    "duration": 22,
    "start_time": "2023-04-21T04:38:46.126Z"
   },
   {
    "duration": 21,
    "start_time": "2023-04-21T04:38:46.150Z"
   },
   {
    "duration": 19,
    "start_time": "2023-04-21T04:38:46.172Z"
   },
   {
    "duration": 83,
    "start_time": "2023-04-21T04:38:46.193Z"
   },
   {
    "duration": 97,
    "start_time": "2023-04-21T04:38:46.278Z"
   },
   {
    "duration": 96,
    "start_time": "2023-04-21T04:38:46.377Z"
   },
   {
    "duration": 4,
    "start_time": "2023-04-21T04:38:46.475Z"
   },
   {
    "duration": 6,
    "start_time": "2023-04-21T04:38:46.481Z"
   },
   {
    "duration": 707644,
    "start_time": "2023-04-21T04:38:46.488Z"
   },
   {
    "duration": 3,
    "start_time": "2023-04-21T04:50:34.134Z"
   },
   {
    "duration": 20,
    "start_time": "2023-04-21T04:50:34.138Z"
   },
   {
    "duration": 13,
    "start_time": "2023-04-21T04:50:34.159Z"
   },
   {
    "duration": 9162,
    "start_time": "2023-04-21T04:50:34.173Z"
   },
   {
    "duration": 64,
    "start_time": "2023-04-21T04:50:43.337Z"
   },
   {
    "duration": 16,
    "start_time": "2023-04-21T04:50:43.403Z"
   },
   {
    "duration": 0,
    "start_time": "2023-04-21T04:50:43.420Z"
   },
   {
    "duration": 0,
    "start_time": "2023-04-21T04:50:43.422Z"
   },
   {
    "duration": 4,
    "start_time": "2023-04-21T05:08:09.025Z"
   },
   {
    "duration": 162,
    "start_time": "2023-04-21T05:08:52.946Z"
   },
   {
    "duration": 4,
    "start_time": "2023-04-21T05:09:09.293Z"
   },
   {
    "duration": 2,
    "start_time": "2023-04-21T05:09:27.102Z"
   },
   {
    "duration": 4,
    "start_time": "2023-04-21T05:09:44.352Z"
   },
   {
    "duration": 4,
    "start_time": "2023-04-21T05:09:52.393Z"
   },
   {
    "duration": 76,
    "start_time": "2023-04-21T05:10:56.980Z"
   },
   {
    "duration": 5,
    "start_time": "2023-04-21T05:34:49.134Z"
   },
   {
    "duration": 87,
    "start_time": "2023-04-21T05:34:49.141Z"
   },
   {
    "duration": 13,
    "start_time": "2023-04-21T05:34:49.230Z"
   },
   {
    "duration": 31,
    "start_time": "2023-04-21T05:34:49.245Z"
   },
   {
    "duration": 18,
    "start_time": "2023-04-21T05:34:49.277Z"
   },
   {
    "duration": 11,
    "start_time": "2023-04-21T05:34:49.297Z"
   },
   {
    "duration": 8,
    "start_time": "2023-04-21T05:34:49.310Z"
   },
   {
    "duration": 10,
    "start_time": "2023-04-21T05:34:49.319Z"
   },
   {
    "duration": 10,
    "start_time": "2023-04-21T05:34:49.332Z"
   },
   {
    "duration": 263,
    "start_time": "2023-04-21T05:34:49.344Z"
   },
   {
    "duration": 5,
    "start_time": "2023-04-21T05:34:49.609Z"
   },
   {
    "duration": 13,
    "start_time": "2023-04-21T05:34:49.615Z"
   },
   {
    "duration": 788,
    "start_time": "2023-04-21T05:34:49.632Z"
   },
   {
    "duration": 593,
    "start_time": "2023-04-21T05:34:50.422Z"
   },
   {
    "duration": 4,
    "start_time": "2023-04-21T05:34:51.017Z"
   },
   {
    "duration": 37,
    "start_time": "2023-04-21T05:34:51.023Z"
   },
   {
    "duration": 56,
    "start_time": "2023-04-21T05:34:51.062Z"
   },
   {
    "duration": 46,
    "start_time": "2023-04-21T05:34:51.120Z"
   },
   {
    "duration": 7,
    "start_time": "2023-04-21T05:34:51.167Z"
   },
   {
    "duration": 36,
    "start_time": "2023-04-21T05:34:51.175Z"
   },
   {
    "duration": 26,
    "start_time": "2023-04-21T05:34:51.212Z"
   },
   {
    "duration": 16,
    "start_time": "2023-04-21T05:34:51.240Z"
   },
   {
    "duration": 35,
    "start_time": "2023-04-21T05:34:51.258Z"
   },
   {
    "duration": 16,
    "start_time": "2023-04-21T05:34:51.296Z"
   },
   {
    "duration": 16,
    "start_time": "2023-04-21T05:34:51.314Z"
   },
   {
    "duration": 12,
    "start_time": "2023-04-21T05:34:51.331Z"
   },
   {
    "duration": 16,
    "start_time": "2023-04-21T05:34:51.345Z"
   },
   {
    "duration": 24,
    "start_time": "2023-04-21T05:34:51.363Z"
   },
   {
    "duration": 15,
    "start_time": "2023-04-21T05:34:51.389Z"
   },
   {
    "duration": 11,
    "start_time": "2023-04-21T05:34:51.405Z"
   },
   {
    "duration": 37,
    "start_time": "2023-04-21T05:34:51.418Z"
   },
   {
    "duration": 30,
    "start_time": "2023-04-21T05:34:51.457Z"
   },
   {
    "duration": 5,
    "start_time": "2023-04-21T05:35:17.868Z"
   },
   {
    "duration": 3,
    "start_time": "2023-04-21T05:35:25.218Z"
   },
   {
    "duration": 5,
    "start_time": "2023-04-21T05:35:32.592Z"
   },
   {
    "duration": 2,
    "start_time": "2023-04-21T05:35:54.810Z"
   },
   {
    "duration": 9,
    "start_time": "2023-04-21T05:36:04.044Z"
   },
   {
    "duration": 4,
    "start_time": "2023-04-21T05:36:08.561Z"
   },
   {
    "duration": 4,
    "start_time": "2023-04-21T05:36:25.811Z"
   },
   {
    "duration": 7,
    "start_time": "2023-04-21T05:36:31.654Z"
   },
   {
    "duration": 4,
    "start_time": "2023-04-21T05:36:35.551Z"
   },
   {
    "duration": 11,
    "start_time": "2023-04-21T05:36:42.796Z"
   },
   {
    "duration": 6,
    "start_time": "2023-04-21T05:36:46.510Z"
   },
   {
    "duration": 333,
    "start_time": "2023-04-21T05:37:09.366Z"
   },
   {
    "duration": 5,
    "start_time": "2023-04-21T05:37:33.446Z"
   },
   {
    "duration": 5,
    "start_time": "2023-04-21T05:37:42.357Z"
   },
   {
    "duration": 6,
    "start_time": "2023-04-21T05:37:50.142Z"
   },
   {
    "duration": 3,
    "start_time": "2023-04-21T05:37:54.736Z"
   },
   {
    "duration": 4,
    "start_time": "2023-04-21T05:37:55.059Z"
   },
   {
    "duration": 2,
    "start_time": "2023-04-21T05:37:55.796Z"
   },
   {
    "duration": 7,
    "start_time": "2023-04-21T05:37:56.435Z"
   },
   {
    "duration": 14,
    "start_time": "2023-04-21T05:37:57.012Z"
   },
   {
    "duration": 5,
    "start_time": "2023-04-21T05:37:58.058Z"
   },
   {
    "duration": 3,
    "start_time": "2023-04-21T05:38:50.517Z"
   },
   {
    "duration": 3,
    "start_time": "2023-04-21T05:38:51.205Z"
   },
   {
    "duration": 3,
    "start_time": "2023-04-21T05:38:52.513Z"
   },
   {
    "duration": 2761869,
    "start_time": "2023-04-21T05:39:13.316Z"
   },
   {
    "duration": 4,
    "start_time": "2023-04-21T06:27:12.630Z"
   },
   {
    "duration": 58,
    "start_time": "2023-04-21T06:27:12.636Z"
   },
   {
    "duration": 12,
    "start_time": "2023-04-21T06:27:12.696Z"
   },
   {
    "duration": 11,
    "start_time": "2023-04-21T06:27:12.709Z"
   },
   {
    "duration": 5,
    "start_time": "2023-04-21T06:27:12.722Z"
   },
   {
    "duration": 11,
    "start_time": "2023-04-21T06:27:12.729Z"
   },
   {
    "duration": 35,
    "start_time": "2023-04-21T06:27:12.743Z"
   },
   {
    "duration": 22,
    "start_time": "2023-04-21T06:27:12.780Z"
   },
   {
    "duration": 14,
    "start_time": "2023-04-21T06:27:12.803Z"
   },
   {
    "duration": 296,
    "start_time": "2023-04-21T06:27:12.819Z"
   },
   {
    "duration": 4,
    "start_time": "2023-04-21T06:27:13.117Z"
   },
   {
    "duration": 8,
    "start_time": "2023-04-21T06:27:13.123Z"
   },
   {
    "duration": 1067,
    "start_time": "2023-04-21T06:27:13.133Z"
   },
   {
    "duration": 697,
    "start_time": "2023-04-21T06:27:14.204Z"
   },
   {
    "duration": 7,
    "start_time": "2023-04-21T06:27:14.911Z"
   },
   {
    "duration": 41,
    "start_time": "2023-04-21T06:27:14.920Z"
   },
   {
    "duration": 26,
    "start_time": "2023-04-21T06:27:14.963Z"
   },
   {
    "duration": 48,
    "start_time": "2023-04-21T06:27:14.992Z"
   },
   {
    "duration": 32,
    "start_time": "2023-04-21T06:27:15.044Z"
   },
   {
    "duration": 53,
    "start_time": "2023-04-21T06:27:15.079Z"
   },
   {
    "duration": 17,
    "start_time": "2023-04-21T06:27:15.134Z"
   },
   {
    "duration": 12,
    "start_time": "2023-04-21T06:27:15.153Z"
   },
   {
    "duration": 20,
    "start_time": "2023-04-21T06:27:15.167Z"
   },
   {
    "duration": 19,
    "start_time": "2023-04-21T06:27:15.189Z"
   },
   {
    "duration": 14,
    "start_time": "2023-04-21T06:27:15.210Z"
   },
   {
    "duration": 19,
    "start_time": "2023-04-21T06:27:15.226Z"
   },
   {
    "duration": 24,
    "start_time": "2023-04-21T06:27:15.247Z"
   },
   {
    "duration": 17,
    "start_time": "2023-04-21T06:27:15.273Z"
   },
   {
    "duration": 12,
    "start_time": "2023-04-21T06:27:15.292Z"
   },
   {
    "duration": 14,
    "start_time": "2023-04-21T06:27:15.306Z"
   },
   {
    "duration": 49,
    "start_time": "2023-04-21T06:27:15.322Z"
   },
   {
    "duration": 26,
    "start_time": "2023-04-21T06:27:15.373Z"
   },
   {
    "duration": 39,
    "start_time": "2023-04-21T06:27:15.401Z"
   },
   {
    "duration": 28,
    "start_time": "2023-04-21T06:27:15.442Z"
   },
   {
    "duration": 17,
    "start_time": "2023-04-21T06:27:15.471Z"
   },
   {
    "duration": 13,
    "start_time": "2023-04-21T06:27:15.489Z"
   },
   {
    "duration": 12,
    "start_time": "2023-04-21T06:27:15.504Z"
   },
   {
    "duration": 34,
    "start_time": "2023-04-21T06:27:15.518Z"
   },
   {
    "duration": 40,
    "start_time": "2023-04-21T06:27:15.554Z"
   },
   {
    "duration": 29,
    "start_time": "2023-04-21T06:27:15.596Z"
   },
   {
    "duration": 16,
    "start_time": "2023-04-21T06:27:15.630Z"
   },
   {
    "duration": 23,
    "start_time": "2023-04-21T06:27:15.648Z"
   },
   {
    "duration": 5,
    "start_time": "2023-04-21T06:27:15.674Z"
   },
   {
    "duration": 33,
    "start_time": "2023-04-21T06:27:15.681Z"
   },
   {
    "duration": 13,
    "start_time": "2023-04-21T06:27:15.716Z"
   },
   {
    "duration": 15,
    "start_time": "2023-04-21T06:27:15.731Z"
   },
   {
    "duration": 154,
    "start_time": "2023-04-21T06:27:15.747Z"
   },
   {
    "duration": 188,
    "start_time": "2023-04-21T06:27:15.904Z"
   },
   {
    "duration": 23,
    "start_time": "2023-04-21T06:27:16.094Z"
   },
   {
    "duration": 32,
    "start_time": "2023-04-21T06:27:16.119Z"
   },
   {
    "duration": 50,
    "start_time": "2023-04-21T06:27:16.154Z"
   },
   {
    "duration": 109,
    "start_time": "2023-04-21T06:27:16.207Z"
   },
   {
    "duration": 11,
    "start_time": "2023-04-21T06:27:16.318Z"
   },
   {
    "duration": 0,
    "start_time": "2023-04-21T06:27:16.331Z"
   },
   {
    "duration": 0,
    "start_time": "2023-04-21T06:27:16.332Z"
   },
   {
    "duration": 0,
    "start_time": "2023-04-21T06:27:16.334Z"
   },
   {
    "duration": 0,
    "start_time": "2023-04-21T06:27:16.335Z"
   },
   {
    "duration": 0,
    "start_time": "2023-04-21T06:27:16.336Z"
   },
   {
    "duration": 3,
    "start_time": "2023-04-21T06:27:47.980Z"
   },
   {
    "duration": 66,
    "start_time": "2023-04-21T06:27:47.986Z"
   },
   {
    "duration": 12,
    "start_time": "2023-04-21T06:27:48.054Z"
   },
   {
    "duration": 31,
    "start_time": "2023-04-21T06:27:48.067Z"
   },
   {
    "duration": 5,
    "start_time": "2023-04-21T06:27:48.101Z"
   },
   {
    "duration": 16,
    "start_time": "2023-04-21T06:27:48.107Z"
   },
   {
    "duration": 18,
    "start_time": "2023-04-21T06:27:48.124Z"
   },
   {
    "duration": 24,
    "start_time": "2023-04-21T06:27:48.143Z"
   },
   {
    "duration": 11,
    "start_time": "2023-04-21T06:27:48.168Z"
   },
   {
    "duration": 246,
    "start_time": "2023-04-21T06:27:48.181Z"
   },
   {
    "duration": 4,
    "start_time": "2023-04-21T06:27:48.430Z"
   },
   {
    "duration": 18,
    "start_time": "2023-04-21T06:27:48.435Z"
   },
   {
    "duration": 745,
    "start_time": "2023-04-21T06:27:48.455Z"
   },
   {
    "duration": 683,
    "start_time": "2023-04-21T06:27:49.202Z"
   },
   {
    "duration": 5,
    "start_time": "2023-04-21T06:27:49.886Z"
   },
   {
    "duration": 14,
    "start_time": "2023-04-21T06:27:49.893Z"
   },
   {
    "duration": 24,
    "start_time": "2023-04-21T06:27:49.908Z"
   },
   {
    "duration": 31,
    "start_time": "2023-04-21T06:27:49.933Z"
   },
   {
    "duration": 7,
    "start_time": "2023-04-21T06:27:49.972Z"
   },
   {
    "duration": 33,
    "start_time": "2023-04-21T06:27:49.981Z"
   },
   {
    "duration": 7,
    "start_time": "2023-04-21T06:27:50.016Z"
   },
   {
    "duration": 24,
    "start_time": "2023-04-21T06:27:50.025Z"
   },
   {
    "duration": 36,
    "start_time": "2023-04-21T06:27:50.052Z"
   },
   {
    "duration": 6,
    "start_time": "2023-04-21T06:27:50.090Z"
   },
   {
    "duration": 9,
    "start_time": "2023-04-21T06:27:50.097Z"
   },
   {
    "duration": 6,
    "start_time": "2023-04-21T06:27:50.108Z"
   },
   {
    "duration": 10,
    "start_time": "2023-04-21T06:27:50.115Z"
   },
   {
    "duration": 21,
    "start_time": "2023-04-21T06:27:50.127Z"
   },
   {
    "duration": 14,
    "start_time": "2023-04-21T06:27:50.152Z"
   },
   {
    "duration": 7,
    "start_time": "2023-04-21T06:27:50.167Z"
   },
   {
    "duration": 9,
    "start_time": "2023-04-21T06:27:50.176Z"
   },
   {
    "duration": 11,
    "start_time": "2023-04-21T06:27:50.186Z"
   },
   {
    "duration": 9,
    "start_time": "2023-04-21T06:27:50.199Z"
   },
   {
    "duration": 13,
    "start_time": "2023-04-21T06:27:50.210Z"
   },
   {
    "duration": 11,
    "start_time": "2023-04-21T06:27:50.225Z"
   },
   {
    "duration": 7,
    "start_time": "2023-04-21T06:27:50.238Z"
   },
   {
    "duration": 4,
    "start_time": "2023-04-21T06:27:50.247Z"
   },
   {
    "duration": 4,
    "start_time": "2023-04-21T06:27:50.253Z"
   },
   {
    "duration": 15,
    "start_time": "2023-04-21T06:27:50.258Z"
   },
   {
    "duration": 7,
    "start_time": "2023-04-21T06:27:50.275Z"
   },
   {
    "duration": 7,
    "start_time": "2023-04-21T06:27:50.283Z"
   },
   {
    "duration": 14,
    "start_time": "2023-04-21T06:27:50.292Z"
   },
   {
    "duration": 2,
    "start_time": "2023-04-21T06:27:50.308Z"
   },
   {
    "duration": 4,
    "start_time": "2023-04-21T06:27:50.312Z"
   },
   {
    "duration": 4,
    "start_time": "2023-04-21T06:27:50.317Z"
   },
   {
    "duration": 12,
    "start_time": "2023-04-21T06:27:50.323Z"
   },
   {
    "duration": 146,
    "start_time": "2023-04-21T06:27:50.336Z"
   },
   {
    "duration": 92,
    "start_time": "2023-04-21T06:27:50.485Z"
   },
   {
    "duration": 11,
    "start_time": "2023-04-21T06:27:50.579Z"
   },
   {
    "duration": 12,
    "start_time": "2023-04-21T06:27:50.591Z"
   },
   {
    "duration": 8,
    "start_time": "2023-04-21T06:27:50.605Z"
   },
   {
    "duration": 70205,
    "start_time": "2023-04-21T06:27:50.615Z"
   },
   {
    "duration": 10,
    "start_time": "2023-04-21T06:29:00.822Z"
   },
   {
    "duration": 0,
    "start_time": "2023-04-21T06:29:00.834Z"
   },
   {
    "duration": 0,
    "start_time": "2023-04-21T06:29:00.835Z"
   },
   {
    "duration": 0,
    "start_time": "2023-04-21T06:29:00.837Z"
   },
   {
    "duration": 0,
    "start_time": "2023-04-21T06:29:00.838Z"
   },
   {
    "duration": 0,
    "start_time": "2023-04-21T06:29:00.875Z"
   },
   {
    "duration": 0,
    "start_time": "2023-04-21T06:29:00.876Z"
   },
   {
    "duration": 64,
    "start_time": "2023-04-21T06:29:21.071Z"
   },
   {
    "duration": 3,
    "start_time": "2023-04-21T06:30:34.628Z"
   },
   {
    "duration": 3,
    "start_time": "2023-04-21T06:33:29.990Z"
   },
   {
    "duration": 6,
    "start_time": "2023-04-21T06:37:20.664Z"
   },
   {
    "duration": 9,
    "start_time": "2023-04-21T06:44:33.788Z"
   },
   {
    "duration": 2,
    "start_time": "2023-04-21T06:44:45.329Z"
   },
   {
    "duration": 2,
    "start_time": "2023-04-21T06:44:49.641Z"
   },
   {
    "duration": 10,
    "start_time": "2023-04-21T06:46:28.002Z"
   },
   {
    "duration": 2,
    "start_time": "2023-04-21T06:47:01.830Z"
   },
   {
    "duration": 3,
    "start_time": "2023-04-21T06:47:02.384Z"
   },
   {
    "duration": 11,
    "start_time": "2023-04-21T06:47:02.946Z"
   },
   {
    "duration": 3,
    "start_time": "2023-04-21T06:47:07.245Z"
   },
   {
    "duration": 8,
    "start_time": "2023-04-21T06:47:08.642Z"
   },
   {
    "duration": 9,
    "start_time": "2023-04-21T06:47:09.042Z"
   },
   {
    "duration": 4,
    "start_time": "2023-04-21T06:47:11.292Z"
   },
   {
    "duration": 4,
    "start_time": "2023-04-21T06:47:19.652Z"
   },
   {
    "duration": 3,
    "start_time": "2023-04-21T06:47:22.233Z"
   },
   {
    "duration": 3,
    "start_time": "2023-04-21T06:47:23.646Z"
   },
   {
    "duration": 2,
    "start_time": "2023-04-21T06:47:32.566Z"
   },
   {
    "duration": 5,
    "start_time": "2023-04-21T06:48:07.645Z"
   },
   {
    "duration": 4,
    "start_time": "2023-04-21T06:48:11.288Z"
   },
   {
    "duration": 3,
    "start_time": "2023-04-21T06:48:11.744Z"
   },
   {
    "duration": 26320,
    "start_time": "2023-04-21T06:48:12.656Z"
   },
   {
    "duration": 6,
    "start_time": "2023-04-21T06:48:51.440Z"
   },
   {
    "duration": 3,
    "start_time": "2023-04-21T06:48:55.412Z"
   },
   {
    "duration": 4,
    "start_time": "2023-04-21T06:48:55.961Z"
   },
   {
    "duration": 13599216,
    "start_time": "2023-04-21T06:49:05.252Z"
   },
   {
    "duration": 5,
    "start_time": "2023-04-21T11:12:58.431Z"
   },
   {
    "duration": 3,
    "start_time": "2023-04-21T11:13:13.722Z"
   },
   {
    "duration": 3,
    "start_time": "2023-04-21T11:13:14.620Z"
   },
   {
    "duration": 5,
    "start_time": "2023-04-21T11:13:30.313Z"
   },
   {
    "duration": 2,
    "start_time": "2023-04-21T11:13:35.214Z"
   },
   {
    "duration": 8,
    "start_time": "2023-04-21T11:13:35.643Z"
   },
   {
    "duration": 41,
    "start_time": "2023-04-21T11:13:37.133Z"
   },
   {
    "duration": 3,
    "start_time": "2023-04-21T11:13:42.894Z"
   },
   {
    "duration": 3,
    "start_time": "2023-04-21T11:13:43.338Z"
   },
   {
    "duration": 3385478,
    "start_time": "2023-04-21T11:13:43.905Z"
   },
   {
    "duration": 22,
    "start_time": "2023-04-22T00:37:25.543Z"
   },
   {
    "duration": 6,
    "start_time": "2023-04-22T00:40:02.914Z"
   },
   {
    "duration": 5,
    "start_time": "2023-04-22T00:42:00.579Z"
   },
   {
    "duration": 6,
    "start_time": "2023-04-22T00:42:18.210Z"
   },
   {
    "duration": 3,
    "start_time": "2023-04-22T00:42:36.412Z"
   },
   {
    "duration": 2,
    "start_time": "2023-04-22T00:42:39.163Z"
   },
   {
    "duration": 5,
    "start_time": "2023-04-22T00:44:01.294Z"
   },
   {
    "duration": 3,
    "start_time": "2023-04-22T00:44:29.406Z"
   },
   {
    "duration": 2,
    "start_time": "2023-04-22T00:44:49.543Z"
   },
   {
    "duration": 3,
    "start_time": "2023-04-22T00:44:57.094Z"
   },
   {
    "duration": 3,
    "start_time": "2023-04-22T00:45:06.913Z"
   },
   {
    "duration": 53,
    "start_time": "2023-04-22T00:46:14.433Z"
   },
   {
    "duration": 49,
    "start_time": "2023-04-22T00:46:40.697Z"
   },
   {
    "duration": 3,
    "start_time": "2023-04-22T00:49:26.403Z"
   },
   {
    "duration": 6,
    "start_time": "2023-04-22T00:55:59.427Z"
   },
   {
    "duration": 5,
    "start_time": "2023-04-22T00:59:50.687Z"
   },
   {
    "duration": 4,
    "start_time": "2023-04-22T00:59:55.928Z"
   },
   {
    "duration": 2,
    "start_time": "2023-04-22T00:59:56.575Z"
   },
   {
    "duration": 587715,
    "start_time": "2023-04-22T00:59:57.158Z"
   },
   {
    "duration": 3,
    "start_time": "2023-04-22T01:12:14.127Z"
   },
   {
    "duration": 2,
    "start_time": "2023-04-22T01:13:32.575Z"
   },
   {
    "duration": 4,
    "start_time": "2023-04-22T01:13:37.503Z"
   },
   {
    "duration": 4,
    "start_time": "2023-04-22T01:14:18.519Z"
   },
   {
    "duration": 3,
    "start_time": "2023-04-22T01:14:44.392Z"
   },
   {
    "duration": 11,
    "start_time": "2023-04-22T01:17:57.620Z"
   },
   {
    "duration": 4,
    "start_time": "2023-04-22T01:18:03.188Z"
   },
   {
    "duration": 6,
    "start_time": "2023-04-22T01:18:11.020Z"
   },
   {
    "duration": 3,
    "start_time": "2023-04-22T01:21:54.032Z"
   },
   {
    "duration": 5,
    "start_time": "2023-04-22T01:21:55.872Z"
   },
   {
    "duration": 5,
    "start_time": "2023-04-22T01:21:56.728Z"
   },
   {
    "duration": 8,
    "start_time": "2023-04-22T01:24:03.186Z"
   },
   {
    "duration": 3,
    "start_time": "2023-04-22T01:24:19.459Z"
   },
   {
    "duration": 4,
    "start_time": "2023-04-22T01:24:23.778Z"
   },
   {
    "duration": 3,
    "start_time": "2023-04-22T01:24:32.332Z"
   },
   {
    "duration": 4,
    "start_time": "2023-04-22T01:24:48.570Z"
   },
   {
    "duration": 3,
    "start_time": "2023-04-22T01:25:15.124Z"
   },
   {
    "duration": 3,
    "start_time": "2023-04-22T01:25:35.700Z"
   },
   {
    "duration": 4,
    "start_time": "2023-04-22T01:25:36.837Z"
   },
   {
    "duration": 3,
    "start_time": "2023-04-22T01:27:01.416Z"
   },
   {
    "duration": 13,
    "start_time": "2023-04-22T01:29:39.789Z"
   },
   {
    "duration": 7,
    "start_time": "2023-04-22T01:31:23.667Z"
   },
   {
    "duration": 8,
    "start_time": "2023-04-22T01:31:34.219Z"
   },
   {
    "duration": 6,
    "start_time": "2023-04-22T01:35:45.104Z"
   },
   {
    "duration": 3,
    "start_time": "2023-04-22T01:43:41.882Z"
   },
   {
    "duration": 8,
    "start_time": "2023-04-22T01:44:18.908Z"
   },
   {
    "duration": 9,
    "start_time": "2023-04-22T01:44:23.283Z"
   },
   {
    "duration": 4,
    "start_time": "2023-04-22T01:44:37.395Z"
   },
   {
    "duration": 2,
    "start_time": "2023-04-22T01:46:46.782Z"
   },
   {
    "duration": 2,
    "start_time": "2023-04-22T01:46:47.426Z"
   },
   {
    "duration": 6,
    "start_time": "2023-04-22T01:47:52.647Z"
   },
   {
    "duration": 7099,
    "start_time": "2023-04-22T01:48:09.295Z"
   },
   {
    "duration": 2,
    "start_time": "2023-04-22T01:49:20.545Z"
   },
   {
    "duration": 2,
    "start_time": "2023-04-22T01:49:21.097Z"
   },
   {
    "duration": 29,
    "start_time": "2023-04-22T01:49:21.745Z"
   },
   {
    "duration": 7,
    "start_time": "2023-04-22T01:49:57.161Z"
   },
   {
    "duration": 6,
    "start_time": "2023-04-22T01:50:06.289Z"
   },
   {
    "duration": 4,
    "start_time": "2023-04-22T01:58:12.330Z"
   },
   {
    "duration": 6,
    "start_time": "2023-04-22T01:58:12.899Z"
   },
   {
    "duration": 8,
    "start_time": "2023-04-22T01:58:37.866Z"
   },
   {
    "duration": 10,
    "start_time": "2023-04-22T01:58:39.386Z"
   },
   {
    "duration": 7,
    "start_time": "2023-04-22T01:59:26.948Z"
   },
   {
    "duration": 8,
    "start_time": "2023-04-22T01:59:28.284Z"
   },
   {
    "duration": 11,
    "start_time": "2023-04-22T02:01:16.237Z"
   },
   {
    "duration": 14,
    "start_time": "2023-04-22T02:01:33.126Z"
   },
   {
    "duration": 4,
    "start_time": "2023-04-22T02:01:43.502Z"
   },
   {
    "duration": 5,
    "start_time": "2023-04-22T02:01:55.918Z"
   },
   {
    "duration": 3,
    "start_time": "2023-04-22T02:02:50.959Z"
   },
   {
    "duration": 3,
    "start_time": "2023-04-22T02:03:27.577Z"
   },
   {
    "duration": 5,
    "start_time": "2023-04-22T02:03:38.839Z"
   },
   {
    "duration": 134,
    "start_time": "2023-04-22T02:05:03.546Z"
   },
   {
    "duration": 4,
    "start_time": "2023-04-22T02:05:08.475Z"
   },
   {
    "duration": 4,
    "start_time": "2023-04-22T02:05:20.898Z"
   },
   {
    "duration": 14,
    "start_time": "2023-04-22T02:05:43.091Z"
   },
   {
    "duration": 4,
    "start_time": "2023-04-22T02:05:43.843Z"
   },
   {
    "duration": 4,
    "start_time": "2023-04-22T02:05:57.058Z"
   },
   {
    "duration": 74,
    "start_time": "2023-04-22T02:05:58.498Z"
   },
   {
    "duration": 9,
    "start_time": "2023-04-22T02:06:31.522Z"
   },
   {
    "duration": 4,
    "start_time": "2023-04-22T02:06:32.220Z"
   },
   {
    "duration": 3,
    "start_time": "2023-04-22T02:08:53.175Z"
   },
   {
    "duration": 6,
    "start_time": "2023-04-22T02:09:55.264Z"
   },
   {
    "duration": 2,
    "start_time": "2023-04-22T02:10:03.567Z"
   },
   {
    "duration": 3,
    "start_time": "2023-04-22T02:10:04.863Z"
   },
   {
    "duration": 23114,
    "start_time": "2023-04-22T02:10:06.760Z"
   },
   {
    "duration": 6,
    "start_time": "2023-04-22T02:12:25.346Z"
   },
   {
    "duration": 2,
    "start_time": "2023-04-22T02:12:32.506Z"
   },
   {
    "duration": 2,
    "start_time": "2023-04-22T02:12:37.466Z"
   },
   {
    "duration": 12132,
    "start_time": "2023-04-22T02:12:38.538Z"
   },
   {
    "duration": 7,
    "start_time": "2023-04-22T02:13:52.299Z"
   },
   {
    "duration": 2,
    "start_time": "2023-04-22T02:14:46.036Z"
   },
   {
    "duration": 3,
    "start_time": "2023-04-22T02:15:21.141Z"
   },
   {
    "duration": 3,
    "start_time": "2023-04-22T02:15:21.701Z"
   },
   {
    "duration": 685415,
    "start_time": "2023-04-22T02:15:22.366Z"
   },
   {
    "duration": 3,
    "start_time": "2023-04-22T02:29:28.764Z"
   },
   {
    "duration": 9,
    "start_time": "2023-04-22T02:30:18.303Z"
   },
   {
    "duration": 8,
    "start_time": "2023-04-22T02:30:24.988Z"
   },
   {
    "duration": 5,
    "start_time": "2023-04-22T02:30:47.646Z"
   },
   {
    "duration": 7,
    "start_time": "2023-04-22T02:31:06.685Z"
   },
   {
    "duration": 10,
    "start_time": "2023-04-22T02:31:07.685Z"
   },
   {
    "duration": 4,
    "start_time": "2023-04-22T02:31:24.949Z"
   },
   {
    "duration": 10,
    "start_time": "2023-04-22T02:31:40.888Z"
   },
   {
    "duration": 5,
    "start_time": "2023-04-22T02:31:41.469Z"
   },
   {
    "duration": 2894,
    "start_time": "2023-04-22T02:32:45.984Z"
   },
   {
    "duration": 107,
    "start_time": "2023-04-22T02:33:03.871Z"
   },
   {
    "duration": 4,
    "start_time": "2023-04-22T02:33:11.639Z"
   },
   {
    "duration": 49,
    "start_time": "2023-04-22T02:33:26.424Z"
   },
   {
    "duration": 5,
    "start_time": "2023-04-22T02:33:27.608Z"
   },
   {
    "duration": 588,
    "start_time": "2023-04-22T02:34:32.088Z"
   },
   {
    "duration": 7,
    "start_time": "2023-04-22T02:34:34.024Z"
   },
   {
    "duration": 4,
    "start_time": "2023-04-22T02:34:34.593Z"
   },
   {
    "duration": 9,
    "start_time": "2023-04-22T02:35:56.410Z"
   },
   {
    "duration": 4,
    "start_time": "2023-04-22T02:36:08.779Z"
   },
   {
    "duration": 4386,
    "start_time": "2023-04-22T02:36:48.619Z"
   },
   {
    "duration": 527,
    "start_time": "2023-04-22T02:37:17.245Z"
   },
   {
    "duration": 9,
    "start_time": "2023-04-22T02:37:22.099Z"
   },
   {
    "duration": 4,
    "start_time": "2023-04-22T02:37:26.260Z"
   },
   {
    "duration": 5,
    "start_time": "2023-04-22T02:37:46.574Z"
   },
   {
    "duration": 5,
    "start_time": "2023-04-22T02:37:54.685Z"
   },
   {
    "duration": 4195,
    "start_time": "2023-04-22T02:38:07.612Z"
   },
   {
    "duration": 6,
    "start_time": "2023-04-22T02:38:20.309Z"
   },
   {
    "duration": 4,
    "start_time": "2023-04-22T02:38:21.228Z"
   },
   {
    "duration": 3849,
    "start_time": "2023-04-22T02:39:08.141Z"
   },
   {
    "duration": 9,
    "start_time": "2023-04-22T02:39:14.734Z"
   },
   {
    "duration": 5,
    "start_time": "2023-04-22T02:39:15.581Z"
   },
   {
    "duration": 6,
    "start_time": "2023-04-22T02:39:29.974Z"
   },
   {
    "duration": 6,
    "start_time": "2023-04-22T02:39:39.359Z"
   },
   {
    "duration": 5,
    "start_time": "2023-04-22T02:39:46.607Z"
   },
   {
    "duration": 6,
    "start_time": "2023-04-22T02:40:00.791Z"
   },
   {
    "duration": 4,
    "start_time": "2023-04-22T02:40:07.704Z"
   },
   {
    "duration": 8,
    "start_time": "2023-04-22T02:41:48.248Z"
   },
   {
    "duration": 469,
    "start_time": "2023-04-22T02:43:09.905Z"
   },
   {
    "duration": 8,
    "start_time": "2023-04-22T02:43:30.979Z"
   },
   {
    "duration": 446,
    "start_time": "2023-04-22T02:43:44.427Z"
   },
   {
    "duration": 10,
    "start_time": "2023-04-22T02:43:54.001Z"
   },
   {
    "duration": 4,
    "start_time": "2023-04-22T02:44:02.267Z"
   },
   {
    "duration": 7,
    "start_time": "2023-04-22T02:44:34.291Z"
   },
   {
    "duration": 21,
    "start_time": "2023-04-22T02:44:34.781Z"
   },
   {
    "duration": 4,
    "start_time": "2023-04-22T02:44:46.319Z"
   },
   {
    "duration": 103,
    "start_time": "2023-04-22T02:44:46.324Z"
   },
   {
    "duration": 10,
    "start_time": "2023-04-22T02:44:46.429Z"
   },
   {
    "duration": 11,
    "start_time": "2023-04-22T02:44:46.441Z"
   },
   {
    "duration": 4,
    "start_time": "2023-04-22T02:44:46.455Z"
   },
   {
    "duration": 11,
    "start_time": "2023-04-22T02:44:46.460Z"
   },
   {
    "duration": 10,
    "start_time": "2023-04-22T02:44:46.472Z"
   },
   {
    "duration": 6,
    "start_time": "2023-04-22T02:44:46.483Z"
   },
   {
    "duration": 9,
    "start_time": "2023-04-22T02:44:46.490Z"
   },
   {
    "duration": 226,
    "start_time": "2023-04-22T02:44:46.501Z"
   },
   {
    "duration": 4,
    "start_time": "2023-04-22T02:44:46.729Z"
   },
   {
    "duration": 34,
    "start_time": "2023-04-22T02:44:46.734Z"
   },
   {
    "duration": 730,
    "start_time": "2023-04-22T02:44:46.769Z"
   },
   {
    "duration": 642,
    "start_time": "2023-04-22T02:44:47.501Z"
   },
   {
    "duration": 5,
    "start_time": "2023-04-22T02:44:48.144Z"
   },
   {
    "duration": 22,
    "start_time": "2023-04-22T02:44:48.150Z"
   },
   {
    "duration": 18,
    "start_time": "2023-04-22T02:44:48.173Z"
   },
   {
    "duration": 5,
    "start_time": "2023-04-22T02:45:03.500Z"
   },
   {
    "duration": 18,
    "start_time": "2023-04-22T02:45:04.198Z"
   },
   {
    "duration": 6,
    "start_time": "2023-04-22T02:45:07.869Z"
   },
   {
    "duration": 19,
    "start_time": "2023-04-22T02:45:08.391Z"
   },
   {
    "duration": 4,
    "start_time": "2023-04-22T02:45:12.564Z"
   },
   {
    "duration": 3,
    "start_time": "2023-04-22T02:45:13.260Z"
   },
   {
    "duration": 3,
    "start_time": "2023-04-22T02:45:13.588Z"
   },
   {
    "duration": 3,
    "start_time": "2023-04-22T02:45:13.916Z"
   },
   {
    "duration": 3,
    "start_time": "2023-04-22T02:45:14.685Z"
   },
   {
    "duration": 4,
    "start_time": "2023-04-22T02:45:14.988Z"
   },
   {
    "duration": 4,
    "start_time": "2023-04-22T02:45:15.300Z"
   },
   {
    "duration": 3,
    "start_time": "2023-04-22T02:45:15.636Z"
   },
   {
    "duration": 4,
    "start_time": "2023-04-22T02:45:18.757Z"
   },
   {
    "duration": 4,
    "start_time": "2023-04-22T02:45:19.309Z"
   },
   {
    "duration": 6,
    "start_time": "2023-04-22T02:45:20.749Z"
   },
   {
    "duration": 4,
    "start_time": "2023-04-22T02:45:24.803Z"
   },
   {
    "duration": 3,
    "start_time": "2023-04-22T02:45:25.244Z"
   },
   {
    "duration": 4,
    "start_time": "2023-04-22T02:45:25.749Z"
   },
   {
    "duration": 3,
    "start_time": "2023-04-22T02:45:26.245Z"
   },
   {
    "duration": 3,
    "start_time": "2023-04-22T02:45:26.717Z"
   },
   {
    "duration": 3,
    "start_time": "2023-04-22T02:45:27.229Z"
   },
   {
    "duration": 3,
    "start_time": "2023-04-22T02:45:32.124Z"
   },
   {
    "duration": 4,
    "start_time": "2023-04-22T02:45:32.629Z"
   },
   {
    "duration": 3,
    "start_time": "2023-04-22T02:45:34.469Z"
   },
   {
    "duration": 3,
    "start_time": "2023-04-22T02:45:34.988Z"
   },
   {
    "duration": 10,
    "start_time": "2023-04-22T02:45:39.180Z"
   },
   {
    "duration": 2,
    "start_time": "2023-04-22T02:45:52.963Z"
   },
   {
    "duration": 2,
    "start_time": "2023-04-22T02:45:53.429Z"
   },
   {
    "duration": 498,
    "start_time": "2023-04-22T02:46:37.174Z"
   },
   {
    "duration": 10,
    "start_time": "2023-04-22T02:46:38.783Z"
   },
   {
    "duration": 4,
    "start_time": "2023-04-22T02:46:40.022Z"
   },
   {
    "duration": 7,
    "start_time": "2023-04-22T02:47:58.895Z"
   },
   {
    "duration": 3,
    "start_time": "2023-04-22T02:50:12.208Z"
   },
   {
    "duration": 2,
    "start_time": "2023-04-22T02:50:12.456Z"
   },
   {
    "duration": 2,
    "start_time": "2023-04-22T02:50:12.911Z"
   },
   {
    "duration": 3,
    "start_time": "2023-04-22T02:50:13.104Z"
   },
   {
    "duration": 2,
    "start_time": "2023-04-22T02:50:13.298Z"
   },
   {
    "duration": 2,
    "start_time": "2023-04-22T02:50:13.497Z"
   },
   {
    "duration": 2,
    "start_time": "2023-04-22T02:50:14.242Z"
   },
   {
    "duration": 42,
    "start_time": "2023-04-22T02:50:42.241Z"
   },
   {
    "duration": 10,
    "start_time": "2023-04-22T02:50:51.170Z"
   },
   {
    "duration": 6,
    "start_time": "2023-04-22T02:51:53.716Z"
   },
   {
    "duration": 1284,
    "start_time": "2023-04-22T02:52:04.512Z"
   },
   {
    "duration": 44,
    "start_time": "2023-04-22T02:52:05.798Z"
   },
   {
    "duration": 10,
    "start_time": "2023-04-22T02:52:05.844Z"
   },
   {
    "duration": 8,
    "start_time": "2023-04-22T02:52:05.856Z"
   },
   {
    "duration": 14,
    "start_time": "2023-04-22T02:52:05.865Z"
   },
   {
    "duration": 20,
    "start_time": "2023-04-22T02:52:05.880Z"
   },
   {
    "duration": 20,
    "start_time": "2023-04-22T02:52:05.902Z"
   },
   {
    "duration": 6,
    "start_time": "2023-04-22T02:52:05.924Z"
   },
   {
    "duration": 18,
    "start_time": "2023-04-22T02:52:05.932Z"
   },
   {
    "duration": 262,
    "start_time": "2023-04-22T02:52:05.952Z"
   },
   {
    "duration": 4,
    "start_time": "2023-04-22T02:52:06.215Z"
   },
   {
    "duration": 15,
    "start_time": "2023-04-22T02:52:06.220Z"
   },
   {
    "duration": 711,
    "start_time": "2023-04-22T02:52:06.236Z"
   },
   {
    "duration": 547,
    "start_time": "2023-04-22T02:52:06.948Z"
   },
   {
    "duration": 4,
    "start_time": "2023-04-22T02:52:07.497Z"
   },
   {
    "duration": 7,
    "start_time": "2023-04-22T02:52:07.502Z"
   },
   {
    "duration": 12,
    "start_time": "2023-04-22T02:52:07.510Z"
   },
   {
    "duration": 19,
    "start_time": "2023-04-22T02:52:07.524Z"
   },
   {
    "duration": 5,
    "start_time": "2023-04-22T02:52:07.544Z"
   },
   {
    "duration": 35,
    "start_time": "2023-04-22T02:52:07.550Z"
   },
   {
    "duration": 4,
    "start_time": "2023-04-22T02:52:07.586Z"
   },
   {
    "duration": 6,
    "start_time": "2023-04-22T02:52:07.591Z"
   },
   {
    "duration": 8,
    "start_time": "2023-04-22T02:52:07.598Z"
   },
   {
    "duration": 5,
    "start_time": "2023-04-22T02:52:07.608Z"
   },
   {
    "duration": 7,
    "start_time": "2023-04-22T02:52:07.614Z"
   },
   {
    "duration": 4,
    "start_time": "2023-04-22T02:52:07.623Z"
   },
   {
    "duration": 6,
    "start_time": "2023-04-22T02:52:07.628Z"
   },
   {
    "duration": 3,
    "start_time": "2023-04-22T02:52:07.637Z"
   },
   {
    "duration": 6,
    "start_time": "2023-04-22T02:52:07.642Z"
   },
   {
    "duration": 5,
    "start_time": "2023-04-22T02:52:07.649Z"
   },
   {
    "duration": 5,
    "start_time": "2023-04-22T02:52:07.672Z"
   },
   {
    "duration": 5,
    "start_time": "2023-04-22T02:52:07.678Z"
   },
   {
    "duration": 4,
    "start_time": "2023-04-22T02:52:07.685Z"
   },
   {
    "duration": 4,
    "start_time": "2023-04-22T02:52:07.691Z"
   },
   {
    "duration": 4,
    "start_time": "2023-04-22T02:52:07.697Z"
   },
   {
    "duration": 5,
    "start_time": "2023-04-22T02:52:07.702Z"
   },
   {
    "duration": 8,
    "start_time": "2023-04-22T02:52:07.708Z"
   },
   {
    "duration": 6,
    "start_time": "2023-04-22T02:52:07.717Z"
   },
   {
    "duration": 4,
    "start_time": "2023-04-22T02:52:07.724Z"
   },
   {
    "duration": 5,
    "start_time": "2023-04-22T02:52:07.729Z"
   },
   {
    "duration": 6,
    "start_time": "2023-04-22T02:52:07.735Z"
   },
   {
    "duration": 37,
    "start_time": "2023-04-22T02:52:07.742Z"
   },
   {
    "duration": 3,
    "start_time": "2023-04-22T02:52:07.780Z"
   },
   {
    "duration": 5,
    "start_time": "2023-04-22T02:52:07.784Z"
   },
   {
    "duration": 7,
    "start_time": "2023-04-22T02:52:07.790Z"
   },
   {
    "duration": 6,
    "start_time": "2023-04-22T02:52:07.798Z"
   },
   {
    "duration": 8,
    "start_time": "2023-04-22T02:52:07.805Z"
   },
   {
    "duration": 9,
    "start_time": "2023-04-22T02:52:07.814Z"
   },
   {
    "duration": 4,
    "start_time": "2023-04-22T02:52:07.824Z"
   },
   {
    "duration": 5,
    "start_time": "2023-04-22T02:52:07.830Z"
   },
   {
    "duration": 139,
    "start_time": "2023-04-22T02:52:07.836Z"
   },
   {
    "duration": 95,
    "start_time": "2023-04-22T02:52:07.977Z"
   },
   {
    "duration": 8,
    "start_time": "2023-04-22T02:52:08.073Z"
   },
   {
    "duration": 44,
    "start_time": "2023-04-22T02:52:08.082Z"
   },
   {
    "duration": 495681,
    "start_time": "2023-04-22T02:52:08.128Z"
   },
   {
    "duration": 187,
    "start_time": "2023-04-22T03:00:23.812Z"
   },
   {
    "duration": 0,
    "start_time": "2023-04-22T03:00:24.000Z"
   },
   {
    "duration": 0,
    "start_time": "2023-04-22T03:00:24.001Z"
   },
   {
    "duration": 0,
    "start_time": "2023-04-22T03:00:24.002Z"
   },
   {
    "duration": 0,
    "start_time": "2023-04-22T03:00:24.002Z"
   },
   {
    "duration": 0,
    "start_time": "2023-04-22T03:00:24.003Z"
   },
   {
    "duration": 0,
    "start_time": "2023-04-22T03:00:24.004Z"
   },
   {
    "duration": 0,
    "start_time": "2023-04-22T03:00:24.005Z"
   },
   {
    "duration": 0,
    "start_time": "2023-04-22T03:00:24.006Z"
   },
   {
    "duration": 0,
    "start_time": "2023-04-22T03:00:24.007Z"
   },
   {
    "duration": 0,
    "start_time": "2023-04-22T03:00:24.007Z"
   },
   {
    "duration": 0,
    "start_time": "2023-04-22T03:00:24.008Z"
   },
   {
    "duration": 0,
    "start_time": "2023-04-22T03:00:24.009Z"
   },
   {
    "duration": 8,
    "start_time": "2023-04-22T03:36:10.728Z"
   },
   {
    "duration": 3,
    "start_time": "2023-04-22T03:36:22.896Z"
   },
   {
    "duration": 6,
    "start_time": "2023-04-22T03:36:22.901Z"
   },
   {
    "duration": 519863,
    "start_time": "2023-04-22T03:36:22.909Z"
   },
   {
    "duration": 9,
    "start_time": "2023-04-22T03:45:02.775Z"
   },
   {
    "duration": 41,
    "start_time": "2023-04-22T03:45:02.786Z"
   },
   {
    "duration": 3,
    "start_time": "2023-04-22T03:45:02.829Z"
   },
   {
    "duration": 17,
    "start_time": "2023-04-22T03:45:02.834Z"
   },
   {
    "duration": 14,
    "start_time": "2023-04-22T03:45:02.853Z"
   },
   {
    "duration": 20,
    "start_time": "2023-04-22T03:45:02.868Z"
   },
   {
    "duration": 24,
    "start_time": "2023-04-22T03:45:02.890Z"
   },
   {
    "duration": 12,
    "start_time": "2023-04-22T03:45:02.916Z"
   },
   {
    "duration": 9,
    "start_time": "2023-04-22T03:45:02.930Z"
   },
   {
    "duration": 16,
    "start_time": "2023-04-22T03:51:07.549Z"
   },
   {
    "duration": 17,
    "start_time": "2023-04-22T03:51:34.323Z"
   },
   {
    "duration": 13,
    "start_time": "2023-04-22T03:51:42.881Z"
   },
   {
    "duration": 4,
    "start_time": "2023-04-22T03:51:53.505Z"
   },
   {
    "duration": 16,
    "start_time": "2023-04-22T03:51:54.791Z"
   },
   {
    "duration": 3,
    "start_time": "2023-04-22T03:55:15.973Z"
   },
   {
    "duration": 9,
    "start_time": "2023-04-22T03:55:21.502Z"
   },
   {
    "duration": 3,
    "start_time": "2023-04-22T03:55:36.681Z"
   },
   {
    "duration": 4,
    "start_time": "2023-04-22T03:55:37.446Z"
   },
   {
    "duration": 9,
    "start_time": "2023-04-22T03:55:52.673Z"
   },
   {
    "duration": 5,
    "start_time": "2023-04-22T03:56:28.797Z"
   },
   {
    "duration": 11,
    "start_time": "2023-04-22T03:56:45.669Z"
   },
   {
    "duration": 4,
    "start_time": "2023-04-22T03:56:50.318Z"
   },
   {
    "duration": 4,
    "start_time": "2023-04-22T03:57:10.583Z"
   },
   {
    "duration": 4,
    "start_time": "2023-04-22T03:57:11.812Z"
   },
   {
    "duration": 4,
    "start_time": "2023-04-22T03:57:23.372Z"
   },
   {
    "duration": 4,
    "start_time": "2023-04-22T03:57:23.829Z"
   },
   {
    "duration": 4,
    "start_time": "2023-04-22T03:59:15.194Z"
   },
   {
    "duration": 4,
    "start_time": "2023-04-22T03:59:28.821Z"
   },
   {
    "duration": 12,
    "start_time": "2023-04-22T03:59:47.487Z"
   },
   {
    "duration": 4,
    "start_time": "2023-04-22T04:00:14.941Z"
   },
   {
    "duration": 58,
    "start_time": "2023-04-22T04:01:40.589Z"
   },
   {
    "duration": 556,
    "start_time": "2023-04-22T04:03:29.420Z"
   },
   {
    "duration": 663,
    "start_time": "2023-04-22T04:03:46.508Z"
   },
   {
    "duration": 5,
    "start_time": "2023-04-22T04:03:48.030Z"
   },
   {
    "duration": 4,
    "start_time": "2023-04-22T04:03:48.915Z"
   },
   {
    "duration": 4,
    "start_time": "2023-04-22T04:05:24.939Z"
   },
   {
    "duration": 49,
    "start_time": "2023-04-22T04:05:24.945Z"
   },
   {
    "duration": 10,
    "start_time": "2023-04-22T04:05:24.996Z"
   },
   {
    "duration": 9,
    "start_time": "2023-04-22T04:05:25.007Z"
   },
   {
    "duration": 4,
    "start_time": "2023-04-22T04:05:25.018Z"
   },
   {
    "duration": 14,
    "start_time": "2023-04-22T04:05:25.023Z"
   },
   {
    "duration": 13,
    "start_time": "2023-04-22T04:05:25.038Z"
   },
   {
    "duration": 20,
    "start_time": "2023-04-22T04:05:25.053Z"
   },
   {
    "duration": 7,
    "start_time": "2023-04-22T04:05:25.074Z"
   },
   {
    "duration": 260,
    "start_time": "2023-04-22T04:05:25.083Z"
   },
   {
    "duration": 4,
    "start_time": "2023-04-22T04:05:25.345Z"
   },
   {
    "duration": 9,
    "start_time": "2023-04-22T04:05:25.351Z"
   },
   {
    "duration": 855,
    "start_time": "2023-04-22T04:05:25.362Z"
   },
   {
    "duration": 568,
    "start_time": "2023-04-22T04:05:26.219Z"
   },
   {
    "duration": 5,
    "start_time": "2023-04-22T04:05:26.788Z"
   },
   {
    "duration": 27,
    "start_time": "2023-04-22T04:05:26.794Z"
   },
   {
    "duration": 19,
    "start_time": "2023-04-22T04:05:26.823Z"
   },
   {
    "duration": 4,
    "start_time": "2023-04-22T04:06:09.889Z"
   },
   {
    "duration": 51,
    "start_time": "2023-04-22T04:06:09.894Z"
   },
   {
    "duration": 10,
    "start_time": "2023-04-22T04:06:09.946Z"
   },
   {
    "duration": 8,
    "start_time": "2023-04-22T04:06:09.957Z"
   },
   {
    "duration": 5,
    "start_time": "2023-04-22T04:06:09.968Z"
   },
   {
    "duration": 8,
    "start_time": "2023-04-22T04:06:09.975Z"
   },
   {
    "duration": 9,
    "start_time": "2023-04-22T04:06:09.984Z"
   },
   {
    "duration": 8,
    "start_time": "2023-04-22T04:06:09.995Z"
   },
   {
    "duration": 16,
    "start_time": "2023-04-22T04:06:10.004Z"
   },
   {
    "duration": 266,
    "start_time": "2023-04-22T04:06:10.022Z"
   },
   {
    "duration": 5,
    "start_time": "2023-04-22T04:06:10.290Z"
   },
   {
    "duration": 9,
    "start_time": "2023-04-22T04:06:10.297Z"
   },
   {
    "duration": 666,
    "start_time": "2023-04-22T04:06:10.308Z"
   },
   {
    "duration": 541,
    "start_time": "2023-04-22T04:06:10.978Z"
   },
   {
    "duration": 4,
    "start_time": "2023-04-22T04:06:11.521Z"
   },
   {
    "duration": 5,
    "start_time": "2023-04-22T04:06:11.527Z"
   },
   {
    "duration": 19,
    "start_time": "2023-04-22T04:06:11.533Z"
   },
   {
    "duration": 44,
    "start_time": "2023-04-22T04:06:11.553Z"
   },
   {
    "duration": 7,
    "start_time": "2023-04-22T04:06:11.598Z"
   },
   {
    "duration": 23,
    "start_time": "2023-04-22T04:06:11.606Z"
   },
   {
    "duration": 5,
    "start_time": "2023-04-22T04:06:11.630Z"
   },
   {
    "duration": 5,
    "start_time": "2023-04-22T04:06:11.636Z"
   },
   {
    "duration": 7,
    "start_time": "2023-04-22T04:06:11.642Z"
   },
   {
    "duration": 6,
    "start_time": "2023-04-22T04:06:11.650Z"
   },
   {
    "duration": 4,
    "start_time": "2023-04-22T04:06:11.672Z"
   },
   {
    "duration": 6,
    "start_time": "2023-04-22T04:06:11.677Z"
   },
   {
    "duration": 6,
    "start_time": "2023-04-22T04:06:11.685Z"
   },
   {
    "duration": 6,
    "start_time": "2023-04-22T04:06:11.692Z"
   },
   {
    "duration": 5,
    "start_time": "2023-04-22T04:06:11.700Z"
   },
   {
    "duration": 6,
    "start_time": "2023-04-22T04:06:11.706Z"
   },
   {
    "duration": 7,
    "start_time": "2023-04-22T04:06:11.713Z"
   },
   {
    "duration": 7,
    "start_time": "2023-04-22T04:06:11.721Z"
   },
   {
    "duration": 5,
    "start_time": "2023-04-22T04:06:11.730Z"
   },
   {
    "duration": 6,
    "start_time": "2023-04-22T04:06:11.736Z"
   },
   {
    "duration": 29,
    "start_time": "2023-04-22T04:06:11.743Z"
   },
   {
    "duration": 7,
    "start_time": "2023-04-22T04:06:11.774Z"
   },
   {
    "duration": 6,
    "start_time": "2023-04-22T04:06:11.782Z"
   },
   {
    "duration": 6,
    "start_time": "2023-04-22T04:06:11.789Z"
   },
   {
    "duration": 5,
    "start_time": "2023-04-22T04:06:11.796Z"
   },
   {
    "duration": 6,
    "start_time": "2023-04-22T04:06:11.802Z"
   },
   {
    "duration": 5,
    "start_time": "2023-04-22T04:06:11.811Z"
   },
   {
    "duration": 15,
    "start_time": "2023-04-22T04:06:11.817Z"
   },
   {
    "duration": 10,
    "start_time": "2023-04-22T04:06:37.876Z"
   },
   {
    "duration": 4,
    "start_time": "2023-04-22T04:11:17.116Z"
   },
   {
    "duration": 52,
    "start_time": "2023-04-22T04:11:17.122Z"
   },
   {
    "duration": 10,
    "start_time": "2023-04-22T04:11:17.176Z"
   },
   {
    "duration": 10,
    "start_time": "2023-04-22T04:11:17.187Z"
   },
   {
    "duration": 5,
    "start_time": "2023-04-22T04:11:17.199Z"
   },
   {
    "duration": 11,
    "start_time": "2023-04-22T04:11:17.205Z"
   },
   {
    "duration": 8,
    "start_time": "2023-04-22T04:11:17.218Z"
   },
   {
    "duration": 7,
    "start_time": "2023-04-22T04:11:17.227Z"
   },
   {
    "duration": 39,
    "start_time": "2023-04-22T04:11:17.236Z"
   },
   {
    "duration": 418,
    "start_time": "2023-04-22T04:11:17.277Z"
   },
   {
    "duration": 3,
    "start_time": "2023-04-22T04:11:17.697Z"
   },
   {
    "duration": 8,
    "start_time": "2023-04-22T04:11:17.702Z"
   },
   {
    "duration": 662,
    "start_time": "2023-04-22T04:11:17.711Z"
   },
   {
    "duration": 565,
    "start_time": "2023-04-22T04:11:18.374Z"
   },
   {
    "duration": 4,
    "start_time": "2023-04-22T04:11:18.941Z"
   },
   {
    "duration": 4,
    "start_time": "2023-04-22T04:11:18.947Z"
   },
   {
    "duration": 24,
    "start_time": "2023-04-22T04:11:18.953Z"
   },
   {
    "duration": 24,
    "start_time": "2023-04-22T04:11:18.979Z"
   },
   {
    "duration": 6,
    "start_time": "2023-04-22T04:11:19.004Z"
   },
   {
    "duration": 23,
    "start_time": "2023-04-22T04:11:19.011Z"
   },
   {
    "duration": 4,
    "start_time": "2023-04-22T04:11:19.035Z"
   },
   {
    "duration": 8,
    "start_time": "2023-04-22T04:11:19.040Z"
   },
   {
    "duration": 23,
    "start_time": "2023-04-22T04:11:19.050Z"
   },
   {
    "duration": 6,
    "start_time": "2023-04-22T04:11:19.076Z"
   },
   {
    "duration": 8,
    "start_time": "2023-04-22T04:11:19.083Z"
   },
   {
    "duration": 6,
    "start_time": "2023-04-22T04:11:19.092Z"
   },
   {
    "duration": 4,
    "start_time": "2023-04-22T04:11:19.100Z"
   },
   {
    "duration": 6,
    "start_time": "2023-04-22T04:11:19.105Z"
   },
   {
    "duration": 5,
    "start_time": "2023-04-22T04:11:19.112Z"
   },
   {
    "duration": 4,
    "start_time": "2023-04-22T04:11:19.119Z"
   },
   {
    "duration": 8,
    "start_time": "2023-04-22T04:11:19.124Z"
   },
   {
    "duration": 9,
    "start_time": "2023-04-22T04:11:19.134Z"
   },
   {
    "duration": 28,
    "start_time": "2023-04-22T04:11:19.145Z"
   },
   {
    "duration": 4,
    "start_time": "2023-04-22T04:11:19.174Z"
   },
   {
    "duration": 20,
    "start_time": "2023-04-22T04:11:19.179Z"
   },
   {
    "duration": 16,
    "start_time": "2023-04-22T04:11:19.200Z"
   },
   {
    "duration": 10,
    "start_time": "2023-04-22T04:11:19.217Z"
   },
   {
    "duration": 14,
    "start_time": "2023-04-22T04:11:19.228Z"
   },
   {
    "duration": 8,
    "start_time": "2023-04-22T04:11:19.243Z"
   },
   {
    "duration": 18,
    "start_time": "2023-04-22T04:11:19.253Z"
   },
   {
    "duration": 10,
    "start_time": "2023-04-22T04:11:19.273Z"
   },
   {
    "duration": 6,
    "start_time": "2023-04-22T04:11:19.284Z"
   },
   {
    "duration": 5,
    "start_time": "2023-04-22T04:12:30.702Z"
   },
   {
    "duration": 78,
    "start_time": "2023-04-22T04:12:30.708Z"
   },
   {
    "duration": 8,
    "start_time": "2023-04-22T04:12:30.788Z"
   },
   {
    "duration": 66,
    "start_time": "2023-04-22T04:12:30.798Z"
   },
   {
    "duration": 71,
    "start_time": "2023-04-22T04:12:30.865Z"
   },
   {
    "duration": 24,
    "start_time": "2023-04-22T04:12:30.937Z"
   },
   {
    "duration": 36,
    "start_time": "2023-04-22T04:12:30.962Z"
   },
   {
    "duration": 75,
    "start_time": "2023-04-22T04:12:31.000Z"
   },
   {
    "duration": 66,
    "start_time": "2023-04-22T04:12:31.077Z"
   },
   {
    "duration": 237,
    "start_time": "2023-04-22T04:12:31.144Z"
   },
   {
    "duration": 5,
    "start_time": "2023-04-22T04:12:31.382Z"
   },
   {
    "duration": 39,
    "start_time": "2023-04-22T04:12:31.388Z"
   },
   {
    "duration": 630,
    "start_time": "2023-04-22T04:12:31.428Z"
   },
   {
    "duration": 528,
    "start_time": "2023-04-22T04:12:32.060Z"
   },
   {
    "duration": 4,
    "start_time": "2023-04-22T04:12:32.589Z"
   },
   {
    "duration": 9,
    "start_time": "2023-04-22T04:12:32.595Z"
   },
   {
    "duration": 14,
    "start_time": "2023-04-22T04:12:32.605Z"
   },
   {
    "duration": 20,
    "start_time": "2023-04-22T04:12:32.620Z"
   },
   {
    "duration": 5,
    "start_time": "2023-04-22T04:12:32.642Z"
   },
   {
    "duration": 38,
    "start_time": "2023-04-22T04:12:32.648Z"
   },
   {
    "duration": 10,
    "start_time": "2023-04-22T04:12:32.688Z"
   },
   {
    "duration": 11,
    "start_time": "2023-04-22T04:12:32.699Z"
   },
   {
    "duration": 6,
    "start_time": "2023-04-22T04:12:32.711Z"
   },
   {
    "duration": 5,
    "start_time": "2023-04-22T04:12:32.719Z"
   },
   {
    "duration": 5,
    "start_time": "2023-04-22T04:12:32.725Z"
   },
   {
    "duration": 8,
    "start_time": "2023-04-22T04:12:32.731Z"
   },
   {
    "duration": 5,
    "start_time": "2023-04-22T04:12:32.740Z"
   },
   {
    "duration": 190,
    "start_time": "2023-04-22T04:12:32.746Z"
   },
   {
    "duration": 16,
    "start_time": "2023-04-22T04:12:32.937Z"
   },
   {
    "duration": 18,
    "start_time": "2023-04-22T04:12:32.954Z"
   },
   {
    "duration": 8,
    "start_time": "2023-04-22T04:12:32.973Z"
   },
   {
    "duration": 6,
    "start_time": "2023-04-22T04:12:32.982Z"
   },
   {
    "duration": 10,
    "start_time": "2023-04-22T04:12:32.989Z"
   },
   {
    "duration": 10,
    "start_time": "2023-04-22T04:12:33.000Z"
   },
   {
    "duration": 19,
    "start_time": "2023-04-22T04:12:33.011Z"
   },
   {
    "duration": 14,
    "start_time": "2023-04-22T04:12:33.032Z"
   },
   {
    "duration": 24,
    "start_time": "2023-04-22T04:12:33.047Z"
   },
   {
    "duration": 12,
    "start_time": "2023-04-22T04:12:33.072Z"
   },
   {
    "duration": 10,
    "start_time": "2023-04-22T04:12:33.085Z"
   },
   {
    "duration": 14,
    "start_time": "2023-04-22T04:12:33.096Z"
   },
   {
    "duration": 15,
    "start_time": "2023-04-22T04:12:33.111Z"
   },
   {
    "duration": 15,
    "start_time": "2023-04-22T04:12:33.127Z"
   },
   {
    "duration": 31,
    "start_time": "2023-04-22T04:12:33.143Z"
   },
   {
    "duration": 7,
    "start_time": "2023-04-22T04:12:40.864Z"
   },
   {
    "duration": 3,
    "start_time": "2023-04-22T04:12:41.785Z"
   },
   {
    "duration": 2158,
    "start_time": "2023-04-22T04:12:46.929Z"
   },
   {
    "duration": 200,
    "start_time": "2023-04-22T04:12:49.171Z"
   },
   {
    "duration": 4,
    "start_time": "2023-04-22T04:12:52.335Z"
   },
   {
    "duration": 1540,
    "start_time": "2023-04-22T04:14:37.783Z"
   },
   {
    "duration": 48,
    "start_time": "2023-04-22T04:14:39.325Z"
   },
   {
    "duration": 11,
    "start_time": "2023-04-22T04:14:39.375Z"
   },
   {
    "duration": 10,
    "start_time": "2023-04-22T04:14:39.388Z"
   },
   {
    "duration": 5,
    "start_time": "2023-04-22T04:14:39.399Z"
   },
   {
    "duration": 11,
    "start_time": "2023-04-22T04:14:39.406Z"
   },
   {
    "duration": 9,
    "start_time": "2023-04-22T04:14:39.418Z"
   },
   {
    "duration": 7,
    "start_time": "2023-04-22T04:14:39.428Z"
   },
   {
    "duration": 7,
    "start_time": "2023-04-22T04:14:39.471Z"
   },
   {
    "duration": 268,
    "start_time": "2023-04-22T04:14:39.480Z"
   },
   {
    "duration": 4,
    "start_time": "2023-04-22T04:14:39.750Z"
   },
   {
    "duration": 19,
    "start_time": "2023-04-22T04:14:39.755Z"
   },
   {
    "duration": 735,
    "start_time": "2023-04-22T04:14:39.775Z"
   },
   {
    "duration": 494,
    "start_time": "2023-04-22T04:14:40.512Z"
   },
   {
    "duration": 4,
    "start_time": "2023-04-22T04:14:41.008Z"
   },
   {
    "duration": 8,
    "start_time": "2023-04-22T04:14:41.013Z"
   },
   {
    "duration": 19,
    "start_time": "2023-04-22T04:14:41.022Z"
   },
   {
    "duration": 29,
    "start_time": "2023-04-22T04:14:41.043Z"
   },
   {
    "duration": 30,
    "start_time": "2023-04-22T04:14:41.074Z"
   },
   {
    "duration": 19,
    "start_time": "2023-04-22T04:14:41.106Z"
   },
   {
    "duration": 28,
    "start_time": "2023-04-22T04:14:41.127Z"
   },
   {
    "duration": 21,
    "start_time": "2023-04-22T04:14:41.157Z"
   },
   {
    "duration": 15,
    "start_time": "2023-04-22T04:14:41.179Z"
   },
   {
    "duration": 28,
    "start_time": "2023-04-22T04:14:41.195Z"
   },
   {
    "duration": 25,
    "start_time": "2023-04-22T04:14:41.224Z"
   },
   {
    "duration": 24,
    "start_time": "2023-04-22T04:14:41.250Z"
   },
   {
    "duration": 23,
    "start_time": "2023-04-22T04:14:41.275Z"
   },
   {
    "duration": 17,
    "start_time": "2023-04-22T04:14:41.302Z"
   },
   {
    "duration": 28,
    "start_time": "2023-04-22T04:14:41.320Z"
   },
   {
    "duration": 19,
    "start_time": "2023-04-22T04:14:41.349Z"
   },
   {
    "duration": 15,
    "start_time": "2023-04-22T04:14:41.369Z"
   },
   {
    "duration": 19,
    "start_time": "2023-04-22T04:14:41.385Z"
   },
   {
    "duration": 7,
    "start_time": "2023-04-22T04:14:41.405Z"
   },
   {
    "duration": 15,
    "start_time": "2023-04-22T04:14:41.414Z"
   },
   {
    "duration": 18,
    "start_time": "2023-04-22T04:14:41.430Z"
   },
   {
    "duration": 16,
    "start_time": "2023-04-22T04:14:41.450Z"
   },
   {
    "duration": 14,
    "start_time": "2023-04-22T04:14:41.467Z"
   },
   {
    "duration": 14,
    "start_time": "2023-04-22T04:14:41.483Z"
   },
   {
    "duration": 23,
    "start_time": "2023-04-22T04:14:41.499Z"
   },
   {
    "duration": 13,
    "start_time": "2023-04-22T04:14:41.524Z"
   },
   {
    "duration": 10,
    "start_time": "2023-04-22T04:14:41.539Z"
   },
   {
    "duration": 11,
    "start_time": "2023-04-22T04:14:41.550Z"
   },
   {
    "duration": 27,
    "start_time": "2023-04-22T04:14:41.562Z"
   },
   {
    "duration": 7,
    "start_time": "2023-04-22T04:14:41.590Z"
   },
   {
    "duration": 10,
    "start_time": "2023-04-22T04:14:41.599Z"
   },
   {
    "duration": 20,
    "start_time": "2023-04-22T04:14:41.610Z"
   },
   {
    "duration": 22,
    "start_time": "2023-04-22T04:14:41.632Z"
   },
   {
    "duration": 19,
    "start_time": "2023-04-22T04:14:41.656Z"
   },
   {
    "duration": 17,
    "start_time": "2023-04-22T04:14:41.677Z"
   },
   {
    "duration": 19,
    "start_time": "2023-04-22T04:14:41.695Z"
   },
   {
    "duration": 13,
    "start_time": "2023-04-22T04:14:41.716Z"
   },
   {
    "duration": 31,
    "start_time": "2023-04-22T04:14:41.730Z"
   },
   {
    "duration": 14,
    "start_time": "2023-04-22T04:14:41.763Z"
   },
   {
    "duration": 7,
    "start_time": "2023-04-22T04:14:41.779Z"
   },
   {
    "duration": 11,
    "start_time": "2023-04-22T04:14:41.788Z"
   },
   {
    "duration": 561863,
    "start_time": "2023-04-22T04:14:41.801Z"
   },
   {
    "duration": 9,
    "start_time": "2023-04-22T04:24:03.665Z"
   },
   {
    "duration": 188,
    "start_time": "2023-04-22T04:24:03.676Z"
   },
   {
    "duration": 27,
    "start_time": "2023-04-22T04:24:03.866Z"
   },
   {
    "duration": 1442,
    "start_time": "2023-04-22T04:30:43.657Z"
   },
   {
    "duration": 48,
    "start_time": "2023-04-22T04:30:45.101Z"
   },
   {
    "duration": 11,
    "start_time": "2023-04-22T04:30:45.151Z"
   },
   {
    "duration": 12,
    "start_time": "2023-04-22T04:30:45.164Z"
   },
   {
    "duration": 16,
    "start_time": "2023-04-22T04:30:45.178Z"
   },
   {
    "duration": 10,
    "start_time": "2023-04-22T04:30:45.195Z"
   },
   {
    "duration": 9,
    "start_time": "2023-04-22T04:30:45.207Z"
   },
   {
    "duration": 6,
    "start_time": "2023-04-22T04:30:45.217Z"
   },
   {
    "duration": 6,
    "start_time": "2023-04-22T04:30:45.225Z"
   },
   {
    "duration": 280,
    "start_time": "2023-04-22T04:30:45.234Z"
   },
   {
    "duration": 4,
    "start_time": "2023-04-22T04:30:45.516Z"
   },
   {
    "duration": 12,
    "start_time": "2023-04-22T04:30:45.521Z"
   },
   {
    "duration": 793,
    "start_time": "2023-04-22T04:30:45.534Z"
   },
   {
    "duration": 538,
    "start_time": "2023-04-22T04:30:46.328Z"
   },
   {
    "duration": 7,
    "start_time": "2023-04-22T04:30:46.867Z"
   },
   {
    "duration": 25,
    "start_time": "2023-04-22T04:30:46.875Z"
   },
   {
    "duration": 14,
    "start_time": "2023-04-22T04:30:46.902Z"
   },
   {
    "duration": 21,
    "start_time": "2023-04-22T04:30:46.917Z"
   },
   {
    "duration": 5,
    "start_time": "2023-04-22T04:30:46.940Z"
   },
   {
    "duration": 37,
    "start_time": "2023-04-22T04:30:46.946Z"
   },
   {
    "duration": 19,
    "start_time": "2023-04-22T04:30:46.984Z"
   },
   {
    "duration": 10,
    "start_time": "2023-04-22T04:30:47.005Z"
   },
   {
    "duration": 15,
    "start_time": "2023-04-22T04:30:47.016Z"
   },
   {
    "duration": 49,
    "start_time": "2023-04-22T04:30:47.032Z"
   },
   {
    "duration": 23,
    "start_time": "2023-04-22T04:30:47.084Z"
   },
   {
    "duration": 24,
    "start_time": "2023-04-22T04:30:47.109Z"
   },
   {
    "duration": 14,
    "start_time": "2023-04-22T04:30:47.135Z"
   },
   {
    "duration": 24,
    "start_time": "2023-04-22T04:30:47.152Z"
   },
   {
    "duration": 8,
    "start_time": "2023-04-22T04:30:47.177Z"
   },
   {
    "duration": 23,
    "start_time": "2023-04-22T04:30:47.186Z"
   },
   {
    "duration": 23,
    "start_time": "2023-04-22T04:30:47.211Z"
   },
   {
    "duration": 11,
    "start_time": "2023-04-22T04:30:47.235Z"
   },
   {
    "duration": 18,
    "start_time": "2023-04-22T04:30:47.247Z"
   },
   {
    "duration": 23,
    "start_time": "2023-04-22T04:30:47.266Z"
   },
   {
    "duration": 20,
    "start_time": "2023-04-22T04:30:47.290Z"
   },
   {
    "duration": 17,
    "start_time": "2023-04-22T04:30:47.311Z"
   },
   {
    "duration": 14,
    "start_time": "2023-04-22T04:30:47.329Z"
   },
   {
    "duration": 21,
    "start_time": "2023-04-22T04:30:47.344Z"
   },
   {
    "duration": 25,
    "start_time": "2023-04-22T04:30:47.367Z"
   },
   {
    "duration": 15,
    "start_time": "2023-04-22T04:30:47.394Z"
   },
   {
    "duration": 17,
    "start_time": "2023-04-22T04:30:47.410Z"
   },
   {
    "duration": 25,
    "start_time": "2023-04-22T04:30:47.429Z"
   },
   {
    "duration": 30,
    "start_time": "2023-04-22T04:30:47.455Z"
   },
   {
    "duration": 12,
    "start_time": "2023-04-22T04:30:47.486Z"
   },
   {
    "duration": 18,
    "start_time": "2023-04-22T04:30:47.499Z"
   },
   {
    "duration": 17,
    "start_time": "2023-04-22T04:30:47.519Z"
   },
   {
    "duration": 23,
    "start_time": "2023-04-22T04:30:47.538Z"
   },
   {
    "duration": 60,
    "start_time": "2023-04-22T04:30:47.562Z"
   },
   {
    "duration": 32,
    "start_time": "2023-04-22T04:30:47.624Z"
   },
   {
    "duration": 34,
    "start_time": "2023-04-22T04:30:47.657Z"
   },
   {
    "duration": 14,
    "start_time": "2023-04-22T04:30:47.692Z"
   },
   {
    "duration": 42,
    "start_time": "2023-04-22T04:30:47.708Z"
   },
   {
    "duration": 20,
    "start_time": "2023-04-22T04:30:47.752Z"
   },
   {
    "duration": 14,
    "start_time": "2023-04-22T04:30:47.774Z"
   },
   {
    "duration": 82,
    "start_time": "2023-04-22T04:30:47.790Z"
   },
   {
    "duration": 109695,
    "start_time": "2023-04-22T04:30:47.873Z"
   },
   {
    "duration": 9,
    "start_time": "2023-04-22T04:32:37.570Z"
   },
   {
    "duration": 13,
    "start_time": "2023-04-22T04:32:37.581Z"
   },
   {
    "duration": 5,
    "start_time": "2023-04-22T04:32:37.596Z"
   },
   {
    "duration": 1398,
    "start_time": "2023-04-22T04:35:59.191Z"
   },
   {
    "duration": 50,
    "start_time": "2023-04-22T04:36:00.591Z"
   },
   {
    "duration": 21,
    "start_time": "2023-04-22T04:36:00.642Z"
   },
   {
    "duration": 66,
    "start_time": "2023-04-22T04:36:00.665Z"
   },
   {
    "duration": 31,
    "start_time": "2023-04-22T04:36:00.733Z"
   },
   {
    "duration": 69,
    "start_time": "2023-04-22T04:36:00.765Z"
   },
   {
    "duration": 28,
    "start_time": "2023-04-22T04:36:00.835Z"
   },
   {
    "duration": 26,
    "start_time": "2023-04-22T04:36:00.864Z"
   },
   {
    "duration": 48,
    "start_time": "2023-04-22T04:36:00.891Z"
   },
   {
    "duration": 277,
    "start_time": "2023-04-22T04:36:00.941Z"
   },
   {
    "duration": 5,
    "start_time": "2023-04-22T04:36:01.219Z"
   },
   {
    "duration": 32,
    "start_time": "2023-04-22T04:36:01.225Z"
   },
   {
    "duration": 780,
    "start_time": "2023-04-22T04:36:01.259Z"
   },
   {
    "duration": 558,
    "start_time": "2023-04-22T04:36:02.040Z"
   },
   {
    "duration": 4,
    "start_time": "2023-04-22T04:36:02.600Z"
   },
   {
    "duration": 6,
    "start_time": "2023-04-22T04:36:02.605Z"
   },
   {
    "duration": 32,
    "start_time": "2023-04-22T04:36:02.612Z"
   },
   {
    "duration": 42,
    "start_time": "2023-04-22T04:36:02.645Z"
   },
   {
    "duration": 7,
    "start_time": "2023-04-22T04:36:02.688Z"
   },
   {
    "duration": 49,
    "start_time": "2023-04-22T04:36:02.697Z"
   },
   {
    "duration": 11,
    "start_time": "2023-04-22T04:36:02.747Z"
   },
   {
    "duration": 25,
    "start_time": "2023-04-22T04:36:02.759Z"
   },
   {
    "duration": 35,
    "start_time": "2023-04-22T04:36:02.785Z"
   },
   {
    "duration": 21,
    "start_time": "2023-04-22T04:36:02.821Z"
   },
   {
    "duration": 17,
    "start_time": "2023-04-22T04:36:02.843Z"
   },
   {
    "duration": 8,
    "start_time": "2023-04-22T04:36:02.861Z"
   },
   {
    "duration": 7,
    "start_time": "2023-04-22T04:36:02.871Z"
   },
   {
    "duration": 6,
    "start_time": "2023-04-22T04:36:02.883Z"
   },
   {
    "duration": 20,
    "start_time": "2023-04-22T04:36:02.890Z"
   },
   {
    "duration": 21,
    "start_time": "2023-04-22T04:36:02.911Z"
   },
   {
    "duration": 20,
    "start_time": "2023-04-22T04:36:02.934Z"
   },
   {
    "duration": 6,
    "start_time": "2023-04-22T04:36:02.956Z"
   },
   {
    "duration": 30,
    "start_time": "2023-04-22T04:36:02.963Z"
   },
   {
    "duration": 10,
    "start_time": "2023-04-22T04:36:02.994Z"
   },
   {
    "duration": 6,
    "start_time": "2023-04-22T04:36:03.005Z"
   },
   {
    "duration": 6,
    "start_time": "2023-04-22T04:36:03.012Z"
   },
   {
    "duration": 12,
    "start_time": "2023-04-22T04:36:03.019Z"
   },
   {
    "duration": 9,
    "start_time": "2023-04-22T04:36:03.033Z"
   },
   {
    "duration": 5,
    "start_time": "2023-04-22T04:36:03.044Z"
   },
   {
    "duration": 23,
    "start_time": "2023-04-22T04:36:03.050Z"
   },
   {
    "duration": 21,
    "start_time": "2023-04-22T04:36:03.075Z"
   },
   {
    "duration": 11,
    "start_time": "2023-04-22T04:36:03.097Z"
   },
   {
    "duration": 14,
    "start_time": "2023-04-22T04:36:03.109Z"
   },
   {
    "duration": 2,
    "start_time": "2023-04-22T04:36:03.124Z"
   },
   {
    "duration": 4,
    "start_time": "2023-04-22T04:36:03.127Z"
   },
   {
    "duration": 6,
    "start_time": "2023-04-22T04:36:03.132Z"
   },
   {
    "duration": 21,
    "start_time": "2023-04-22T04:36:03.139Z"
   },
   {
    "duration": 9,
    "start_time": "2023-04-22T04:36:03.162Z"
   },
   {
    "duration": 25,
    "start_time": "2023-04-22T04:36:03.173Z"
   },
   {
    "duration": 7,
    "start_time": "2023-04-22T04:36:03.200Z"
   },
   {
    "duration": 5,
    "start_time": "2023-04-22T04:36:03.208Z"
   },
   {
    "duration": 252,
    "start_time": "2023-04-22T04:36:03.215Z"
   },
   {
    "duration": 9,
    "start_time": "2023-04-22T04:36:03.468Z"
   },
   {
    "duration": 1,
    "start_time": "2023-04-22T04:36:03.478Z"
   },
   {
    "duration": 0,
    "start_time": "2023-04-22T04:36:03.480Z"
   },
   {
    "duration": 0,
    "start_time": "2023-04-22T04:36:03.481Z"
   },
   {
    "duration": 0,
    "start_time": "2023-04-22T04:36:03.482Z"
   },
   {
    "duration": 0,
    "start_time": "2023-04-22T04:36:03.483Z"
   },
   {
    "duration": 0,
    "start_time": "2023-04-22T04:36:03.484Z"
   },
   {
    "duration": 0,
    "start_time": "2023-04-22T04:36:03.484Z"
   },
   {
    "duration": 0,
    "start_time": "2023-04-22T04:36:03.485Z"
   },
   {
    "duration": 0,
    "start_time": "2023-04-22T04:36:03.486Z"
   },
   {
    "duration": 0,
    "start_time": "2023-04-22T04:36:03.487Z"
   },
   {
    "duration": 0,
    "start_time": "2023-04-22T04:36:03.488Z"
   },
   {
    "duration": 0,
    "start_time": "2023-04-22T04:36:03.489Z"
   },
   {
    "duration": 0,
    "start_time": "2023-04-22T04:36:03.490Z"
   },
   {
    "duration": 0,
    "start_time": "2023-04-22T04:36:03.491Z"
   },
   {
    "duration": 0,
    "start_time": "2023-04-22T04:36:03.492Z"
   },
   {
    "duration": 0,
    "start_time": "2023-04-22T04:36:03.493Z"
   },
   {
    "duration": 0,
    "start_time": "2023-04-22T04:36:03.493Z"
   },
   {
    "duration": 0,
    "start_time": "2023-04-22T04:36:03.494Z"
   },
   {
    "duration": 0,
    "start_time": "2023-04-22T04:36:03.495Z"
   },
   {
    "duration": 8,
    "start_time": "2023-04-22T04:40:19.375Z"
   },
   {
    "duration": 3,
    "start_time": "2023-04-22T04:40:24.766Z"
   },
   {
    "duration": 3,
    "start_time": "2023-04-22T04:40:25.393Z"
   },
   {
    "duration": 141,
    "start_time": "2023-04-22T04:40:25.835Z"
   },
   {
    "duration": 4,
    "start_time": "2023-04-22T04:41:27.912Z"
   },
   {
    "duration": 2,
    "start_time": "2023-04-22T04:41:31.694Z"
   },
   {
    "duration": 2,
    "start_time": "2023-04-22T04:41:32.090Z"
   },
   {
    "duration": 130,
    "start_time": "2023-04-22T04:41:32.643Z"
   },
   {
    "duration": 4,
    "start_time": "2023-04-22T04:41:46.498Z"
   },
   {
    "duration": 2,
    "start_time": "2023-04-22T04:41:51.500Z"
   },
   {
    "duration": 2,
    "start_time": "2023-04-22T04:41:51.813Z"
   },
   {
    "duration": 116,
    "start_time": "2023-04-22T04:41:52.161Z"
   },
   {
    "duration": 5,
    "start_time": "2023-04-22T04:44:06.424Z"
   },
   {
    "duration": 6,
    "start_time": "2023-04-22T04:44:22.912Z"
   },
   {
    "duration": 2,
    "start_time": "2023-04-22T04:44:25.383Z"
   },
   {
    "duration": 3,
    "start_time": "2023-04-22T04:44:25.876Z"
   },
   {
    "duration": 24,
    "start_time": "2023-04-22T04:44:26.371Z"
   },
   {
    "duration": 7,
    "start_time": "2023-04-22T04:44:34.073Z"
   },
   {
    "duration": 1418,
    "start_time": "2023-04-22T04:45:34.135Z"
   },
   {
    "duration": 55,
    "start_time": "2023-04-22T04:45:35.555Z"
   },
   {
    "duration": 10,
    "start_time": "2023-04-22T04:45:35.611Z"
   },
   {
    "duration": 10,
    "start_time": "2023-04-22T04:45:35.623Z"
   },
   {
    "duration": 5,
    "start_time": "2023-04-22T04:45:35.634Z"
   },
   {
    "duration": 22,
    "start_time": "2023-04-22T04:45:35.640Z"
   },
   {
    "duration": 16,
    "start_time": "2023-04-22T04:45:35.663Z"
   },
   {
    "duration": 29,
    "start_time": "2023-04-22T04:45:35.680Z"
   },
   {
    "duration": 29,
    "start_time": "2023-04-22T04:45:35.711Z"
   },
   {
    "duration": 304,
    "start_time": "2023-04-22T04:45:35.743Z"
   },
   {
    "duration": 4,
    "start_time": "2023-04-22T04:45:36.050Z"
   },
   {
    "duration": 49,
    "start_time": "2023-04-22T04:45:36.055Z"
   },
   {
    "duration": 781,
    "start_time": "2023-04-22T04:45:36.106Z"
   },
   {
    "duration": 543,
    "start_time": "2023-04-22T04:45:36.889Z"
   },
   {
    "duration": 5,
    "start_time": "2023-04-22T04:45:37.433Z"
   },
   {
    "duration": 5,
    "start_time": "2023-04-22T04:45:37.439Z"
   },
   {
    "duration": 16,
    "start_time": "2023-04-22T04:45:37.445Z"
   },
   {
    "duration": 46,
    "start_time": "2023-04-22T04:45:37.462Z"
   },
   {
    "duration": 5,
    "start_time": "2023-04-22T04:45:37.510Z"
   },
   {
    "duration": 23,
    "start_time": "2023-04-22T04:45:37.516Z"
   },
   {
    "duration": 26,
    "start_time": "2023-04-22T04:45:37.540Z"
   },
   {
    "duration": 30,
    "start_time": "2023-04-22T04:45:37.567Z"
   },
   {
    "duration": 9,
    "start_time": "2023-04-22T04:45:37.599Z"
   },
   {
    "duration": 8,
    "start_time": "2023-04-22T04:45:37.609Z"
   },
   {
    "duration": 17,
    "start_time": "2023-04-22T04:45:37.618Z"
   },
   {
    "duration": 8,
    "start_time": "2023-04-22T04:45:37.637Z"
   },
   {
    "duration": 6,
    "start_time": "2023-04-22T04:45:37.646Z"
   },
   {
    "duration": 7,
    "start_time": "2023-04-22T04:45:37.655Z"
   },
   {
    "duration": 10,
    "start_time": "2023-04-22T04:45:37.663Z"
   },
   {
    "duration": 28,
    "start_time": "2023-04-22T04:45:37.675Z"
   },
   {
    "duration": 21,
    "start_time": "2023-04-22T04:45:37.704Z"
   },
   {
    "duration": 30,
    "start_time": "2023-04-22T04:45:37.727Z"
   },
   {
    "duration": 37,
    "start_time": "2023-04-22T04:45:37.758Z"
   },
   {
    "duration": 11,
    "start_time": "2023-04-22T04:45:37.796Z"
   },
   {
    "duration": 22,
    "start_time": "2023-04-22T04:45:37.808Z"
   },
   {
    "duration": 12,
    "start_time": "2023-04-22T04:45:37.832Z"
   },
   {
    "duration": 12,
    "start_time": "2023-04-22T04:45:37.845Z"
   },
   {
    "duration": 31,
    "start_time": "2023-04-22T04:45:37.859Z"
   },
   {
    "duration": 14,
    "start_time": "2023-04-22T04:45:37.891Z"
   },
   {
    "duration": 18,
    "start_time": "2023-04-22T04:45:37.906Z"
   },
   {
    "duration": 29,
    "start_time": "2023-04-22T04:45:37.926Z"
   },
   {
    "duration": 44,
    "start_time": "2023-04-22T04:45:37.956Z"
   },
   {
    "duration": 25,
    "start_time": "2023-04-22T04:45:38.002Z"
   },
   {
    "duration": 22,
    "start_time": "2023-04-22T04:45:38.028Z"
   },
   {
    "duration": 12,
    "start_time": "2023-04-22T04:45:38.052Z"
   },
   {
    "duration": 31,
    "start_time": "2023-04-22T04:45:38.065Z"
   },
   {
    "duration": 27,
    "start_time": "2023-04-22T04:45:38.097Z"
   },
   {
    "duration": 14,
    "start_time": "2023-04-22T04:45:38.125Z"
   },
   {
    "duration": 15,
    "start_time": "2023-04-22T04:45:38.140Z"
   },
   {
    "duration": 43,
    "start_time": "2023-04-22T04:45:38.156Z"
   },
   {
    "duration": 18,
    "start_time": "2023-04-22T04:45:38.201Z"
   },
   {
    "duration": 34,
    "start_time": "2023-04-22T04:45:38.221Z"
   },
   {
    "duration": 16,
    "start_time": "2023-04-22T04:45:38.256Z"
   },
   {
    "duration": 24,
    "start_time": "2023-04-22T04:45:38.273Z"
   },
   {
    "duration": 9,
    "start_time": "2023-04-22T04:45:38.299Z"
   },
   {
    "duration": 50578,
    "start_time": "2023-04-22T04:45:38.309Z"
   },
   {
    "duration": 8,
    "start_time": "2023-04-22T04:46:28.889Z"
   },
   {
    "duration": 15,
    "start_time": "2023-04-22T04:46:28.899Z"
   },
   {
    "duration": 5,
    "start_time": "2023-04-22T04:46:28.915Z"
   },
   {
    "duration": 1303,
    "start_time": "2023-04-22T04:46:52.610Z"
   },
   {
    "duration": 44,
    "start_time": "2023-04-22T04:46:53.914Z"
   },
   {
    "duration": 9,
    "start_time": "2023-04-22T04:46:53.960Z"
   },
   {
    "duration": 17,
    "start_time": "2023-04-22T04:46:53.971Z"
   },
   {
    "duration": 9,
    "start_time": "2023-04-22T04:46:53.989Z"
   },
   {
    "duration": 13,
    "start_time": "2023-04-22T04:46:53.999Z"
   },
   {
    "duration": 7,
    "start_time": "2023-04-22T04:46:54.013Z"
   },
   {
    "duration": 8,
    "start_time": "2023-04-22T04:46:54.021Z"
   },
   {
    "duration": 8,
    "start_time": "2023-04-22T04:46:54.030Z"
   },
   {
    "duration": 246,
    "start_time": "2023-04-22T04:46:54.040Z"
   },
   {
    "duration": 4,
    "start_time": "2023-04-22T04:46:54.287Z"
   },
   {
    "duration": 8,
    "start_time": "2023-04-22T04:46:54.292Z"
   },
   {
    "duration": 702,
    "start_time": "2023-04-22T04:46:54.301Z"
   },
   {
    "duration": 524,
    "start_time": "2023-04-22T04:46:55.004Z"
   },
   {
    "duration": 4,
    "start_time": "2023-04-22T04:46:55.529Z"
   },
   {
    "duration": 6,
    "start_time": "2023-04-22T04:46:55.535Z"
   },
   {
    "duration": 14,
    "start_time": "2023-04-22T04:46:55.542Z"
   },
   {
    "duration": 35,
    "start_time": "2023-04-22T04:46:55.557Z"
   },
   {
    "duration": 6,
    "start_time": "2023-04-22T04:46:55.594Z"
   },
   {
    "duration": 19,
    "start_time": "2023-04-22T04:46:55.602Z"
   },
   {
    "duration": 6,
    "start_time": "2023-04-22T04:46:55.622Z"
   },
   {
    "duration": 2,
    "start_time": "2023-04-22T04:46:55.629Z"
   },
   {
    "duration": 7,
    "start_time": "2023-04-22T04:46:55.632Z"
   },
   {
    "duration": 3,
    "start_time": "2023-04-22T04:46:55.640Z"
   },
   {
    "duration": 5,
    "start_time": "2023-04-22T04:46:55.644Z"
   },
   {
    "duration": 30,
    "start_time": "2023-04-22T04:46:55.650Z"
   },
   {
    "duration": 11,
    "start_time": "2023-04-22T04:46:55.681Z"
   },
   {
    "duration": 4,
    "start_time": "2023-04-22T04:46:55.696Z"
   },
   {
    "duration": 11,
    "start_time": "2023-04-22T04:46:55.701Z"
   },
   {
    "duration": 7,
    "start_time": "2023-04-22T04:46:55.713Z"
   },
   {
    "duration": 5,
    "start_time": "2023-04-22T04:46:55.722Z"
   },
   {
    "duration": 7,
    "start_time": "2023-04-22T04:46:55.728Z"
   },
   {
    "duration": 7,
    "start_time": "2023-04-22T04:46:55.736Z"
   },
   {
    "duration": 4,
    "start_time": "2023-04-22T04:46:55.744Z"
   },
   {
    "duration": 25,
    "start_time": "2023-04-22T04:46:55.749Z"
   },
   {
    "duration": 5,
    "start_time": "2023-04-22T04:46:55.776Z"
   },
   {
    "duration": 7,
    "start_time": "2023-04-22T04:46:55.782Z"
   },
   {
    "duration": 6,
    "start_time": "2023-04-22T04:46:55.791Z"
   },
   {
    "duration": 5,
    "start_time": "2023-04-22T04:46:55.798Z"
   },
   {
    "duration": 4,
    "start_time": "2023-04-22T04:46:55.805Z"
   },
   {
    "duration": 4,
    "start_time": "2023-04-22T04:46:55.811Z"
   },
   {
    "duration": 10,
    "start_time": "2023-04-22T04:46:55.816Z"
   },
   {
    "duration": 12,
    "start_time": "2023-04-22T04:46:55.827Z"
   },
   {
    "duration": 2,
    "start_time": "2023-04-22T04:46:55.840Z"
   },
   {
    "duration": 28,
    "start_time": "2023-04-22T04:46:55.844Z"
   },
   {
    "duration": 17,
    "start_time": "2023-04-22T04:46:55.874Z"
   },
   {
    "duration": 6,
    "start_time": "2023-04-22T04:46:55.893Z"
   },
   {
    "duration": 9,
    "start_time": "2023-04-22T04:46:55.901Z"
   },
   {
    "duration": 20,
    "start_time": "2023-04-22T04:46:55.918Z"
   },
   {
    "duration": 10,
    "start_time": "2023-04-22T04:46:55.940Z"
   },
   {
    "duration": 10,
    "start_time": "2023-04-22T04:46:55.951Z"
   },
   {
    "duration": 35,
    "start_time": "2023-04-22T04:46:55.962Z"
   },
   {
    "duration": 12,
    "start_time": "2023-04-22T04:46:55.999Z"
   },
   {
    "duration": 25,
    "start_time": "2023-04-22T04:46:56.072Z"
   },
   {
    "duration": 12,
    "start_time": "2023-04-22T04:46:56.099Z"
   },
   {
    "duration": 266387,
    "start_time": "2023-04-22T04:46:56.171Z"
   },
   {
    "duration": 8,
    "start_time": "2023-04-22T04:51:22.560Z"
   },
   {
    "duration": 28,
    "start_time": "2023-04-22T04:51:22.570Z"
   },
   {
    "duration": 3,
    "start_time": "2023-04-22T04:51:22.600Z"
   },
   {
    "duration": 68471,
    "start_time": "2023-04-22T04:51:22.605Z"
   },
   {
    "duration": 8,
    "start_time": "2023-04-22T04:52:31.078Z"
   },
   {
    "duration": 36,
    "start_time": "2023-04-22T04:52:31.088Z"
   },
   {
    "duration": 32,
    "start_time": "2023-04-22T04:52:31.126Z"
   },
   {
    "duration": 37,
    "start_time": "2023-04-22T04:52:31.160Z"
   },
   {
    "duration": 32,
    "start_time": "2023-04-22T04:52:31.199Z"
   },
   {
    "duration": 35,
    "start_time": "2023-04-22T04:52:31.232Z"
   },
   {
    "duration": 44,
    "start_time": "2023-04-22T04:52:31.269Z"
   },
   {
    "duration": 42,
    "start_time": "2023-04-22T04:52:31.315Z"
   },
   {
    "duration": 24,
    "start_time": "2023-04-22T04:52:31.359Z"
   },
   {
    "duration": 95,
    "start_time": "2023-04-22T04:52:31.384Z"
   },
   {
    "duration": 22,
    "start_time": "2023-04-22T04:52:31.481Z"
   },
   {
    "duration": 68,
    "start_time": "2023-04-22T04:52:31.505Z"
   },
   {
    "duration": 26,
    "start_time": "2023-04-22T04:52:31.581Z"
   },
   {
    "duration": 218,
    "start_time": "2023-04-22T04:52:31.609Z"
   },
   {
    "duration": 13,
    "start_time": "2023-04-22T04:52:33.064Z"
   },
   {
    "duration": 1412,
    "start_time": "2023-04-22T04:52:46.154Z"
   },
   {
    "duration": 50,
    "start_time": "2023-04-22T04:52:47.568Z"
   },
   {
    "duration": 10,
    "start_time": "2023-04-22T04:52:47.619Z"
   },
   {
    "duration": 37,
    "start_time": "2023-04-22T04:52:47.631Z"
   },
   {
    "duration": 20,
    "start_time": "2023-04-22T04:52:47.669Z"
   },
   {
    "duration": 42,
    "start_time": "2023-04-22T04:52:47.691Z"
   },
   {
    "duration": 26,
    "start_time": "2023-04-22T04:52:47.735Z"
   },
   {
    "duration": 36,
    "start_time": "2023-04-22T04:52:47.763Z"
   },
   {
    "duration": 22,
    "start_time": "2023-04-22T04:52:47.800Z"
   },
   {
    "duration": 292,
    "start_time": "2023-04-22T04:52:47.824Z"
   },
   {
    "duration": 3,
    "start_time": "2023-04-22T04:52:48.118Z"
   },
   {
    "duration": 10,
    "start_time": "2023-04-22T04:52:48.123Z"
   },
   {
    "duration": 845,
    "start_time": "2023-04-22T04:52:48.134Z"
   },
   {
    "duration": 550,
    "start_time": "2023-04-22T04:52:48.981Z"
   },
   {
    "duration": 6,
    "start_time": "2023-04-22T04:52:49.533Z"
   },
   {
    "duration": 17,
    "start_time": "2023-04-22T04:52:49.540Z"
   },
   {
    "duration": 44,
    "start_time": "2023-04-22T04:52:49.558Z"
   },
   {
    "duration": 27,
    "start_time": "2023-04-22T04:52:49.603Z"
   },
   {
    "duration": 7,
    "start_time": "2023-04-22T04:52:49.632Z"
   },
   {
    "duration": 41,
    "start_time": "2023-04-22T04:52:49.640Z"
   },
   {
    "duration": 19,
    "start_time": "2023-04-22T04:52:49.683Z"
   },
   {
    "duration": 12,
    "start_time": "2023-04-22T04:52:49.704Z"
   },
   {
    "duration": 5,
    "start_time": "2023-04-22T04:52:49.717Z"
   },
   {
    "duration": 5,
    "start_time": "2023-04-22T04:52:49.723Z"
   },
   {
    "duration": 11,
    "start_time": "2023-04-22T04:52:49.729Z"
   },
   {
    "duration": 15,
    "start_time": "2023-04-22T04:52:49.741Z"
   },
   {
    "duration": 30,
    "start_time": "2023-04-22T04:52:49.757Z"
   },
   {
    "duration": 28,
    "start_time": "2023-04-22T04:52:49.791Z"
   },
   {
    "duration": 33,
    "start_time": "2023-04-22T04:52:49.820Z"
   },
   {
    "duration": 34,
    "start_time": "2023-04-22T04:52:49.854Z"
   },
   {
    "duration": 21,
    "start_time": "2023-04-22T04:52:49.890Z"
   },
   {
    "duration": 65,
    "start_time": "2023-04-22T04:52:49.913Z"
   },
   {
    "duration": 41,
    "start_time": "2023-04-22T04:52:49.980Z"
   },
   {
    "duration": 45,
    "start_time": "2023-04-22T04:52:50.023Z"
   },
   {
    "duration": 45,
    "start_time": "2023-04-22T04:52:50.069Z"
   },
   {
    "duration": 28,
    "start_time": "2023-04-22T04:52:50.115Z"
   },
   {
    "duration": 23,
    "start_time": "2023-04-22T04:52:50.144Z"
   },
   {
    "duration": 48,
    "start_time": "2023-04-22T04:52:50.169Z"
   },
   {
    "duration": 22,
    "start_time": "2023-04-22T04:52:50.219Z"
   },
   {
    "duration": 48,
    "start_time": "2023-04-22T04:52:50.242Z"
   },
   {
    "duration": 19,
    "start_time": "2023-04-22T04:52:50.292Z"
   },
   {
    "duration": 13,
    "start_time": "2023-04-22T04:52:50.313Z"
   },
   {
    "duration": 34,
    "start_time": "2023-04-22T04:52:50.328Z"
   },
   {
    "duration": 35,
    "start_time": "2023-04-22T04:52:50.364Z"
   },
   {
    "duration": 30,
    "start_time": "2023-04-22T04:52:50.400Z"
   },
   {
    "duration": 14,
    "start_time": "2023-04-22T04:52:50.432Z"
   },
   {
    "duration": 18,
    "start_time": "2023-04-22T04:52:50.447Z"
   },
   {
    "duration": 24,
    "start_time": "2023-04-22T04:52:50.466Z"
   },
   {
    "duration": 13,
    "start_time": "2023-04-22T04:52:50.491Z"
   },
   {
    "duration": 12,
    "start_time": "2023-04-22T04:52:50.505Z"
   },
   {
    "duration": 15,
    "start_time": "2023-04-22T04:52:50.518Z"
   },
   {
    "duration": 24,
    "start_time": "2023-04-22T04:52:50.534Z"
   },
   {
    "duration": 20,
    "start_time": "2023-04-22T04:52:50.559Z"
   },
   {
    "duration": 97,
    "start_time": "2023-04-22T04:52:50.581Z"
   },
   {
    "duration": 26,
    "start_time": "2023-04-22T04:52:50.680Z"
   },
   {
    "duration": 1181378,
    "start_time": "2023-04-22T04:52:50.708Z"
   },
   {
    "duration": 8,
    "start_time": "2023-04-22T05:12:32.088Z"
   },
   {
    "duration": 36,
    "start_time": "2023-04-22T05:12:32.098Z"
   },
   {
    "duration": 24,
    "start_time": "2023-04-22T05:12:32.135Z"
   },
   {
    "duration": 3131383,
    "start_time": "2023-04-22T05:12:32.161Z"
   },
   {
    "duration": 8,
    "start_time": "2023-04-22T06:04:43.546Z"
   },
   {
    "duration": 33,
    "start_time": "2023-04-22T06:04:43.556Z"
   },
   {
    "duration": 18,
    "start_time": "2023-04-22T06:04:43.591Z"
   },
   {
    "duration": 45,
    "start_time": "2023-04-22T06:04:43.611Z"
   },
   {
    "duration": 40,
    "start_time": "2023-04-22T06:04:43.658Z"
   },
   {
    "duration": 21,
    "start_time": "2023-04-22T06:04:43.702Z"
   },
   {
    "duration": 15,
    "start_time": "2023-04-22T06:04:43.724Z"
   },
   {
    "duration": 56,
    "start_time": "2023-04-22T06:04:43.741Z"
   },
   {
    "duration": 4,
    "start_time": "2023-04-22T06:04:43.872Z"
   },
   {
    "duration": 94539,
    "start_time": "2023-04-22T06:04:43.878Z"
   },
   {
    "duration": 0,
    "start_time": "2023-04-22T06:06:18.420Z"
   },
   {
    "duration": 0,
    "start_time": "2023-04-22T06:06:18.422Z"
   },
   {
    "duration": 0,
    "start_time": "2023-04-22T06:06:18.425Z"
   },
   {
    "duration": 0,
    "start_time": "2023-04-22T06:06:18.427Z"
   },
   {
    "duration": 27,
    "start_time": "2023-04-22T06:06:19.070Z"
   },
   {
    "duration": 3,
    "start_time": "2023-04-22T06:07:58.226Z"
   },
   {
    "duration": 51,
    "start_time": "2023-04-22T06:07:58.231Z"
   },
   {
    "duration": 10,
    "start_time": "2023-04-22T06:07:58.284Z"
   },
   {
    "duration": 30,
    "start_time": "2023-04-22T06:07:58.296Z"
   },
   {
    "duration": 5,
    "start_time": "2023-04-22T06:07:58.327Z"
   },
   {
    "duration": 23,
    "start_time": "2023-04-22T06:07:58.333Z"
   },
   {
    "duration": 12,
    "start_time": "2023-04-22T06:07:58.358Z"
   },
   {
    "duration": 33,
    "start_time": "2023-04-22T06:07:58.371Z"
   },
   {
    "duration": 10,
    "start_time": "2023-04-22T06:07:58.408Z"
   },
   {
    "duration": 269,
    "start_time": "2023-04-22T06:07:58.419Z"
   },
   {
    "duration": 6,
    "start_time": "2023-04-22T06:07:58.690Z"
   },
   {
    "duration": 17,
    "start_time": "2023-04-22T06:07:58.697Z"
   },
   {
    "duration": 767,
    "start_time": "2023-04-22T06:07:58.715Z"
   },
   {
    "duration": 530,
    "start_time": "2023-04-22T06:07:59.485Z"
   },
   {
    "duration": 5,
    "start_time": "2023-04-22T06:08:00.016Z"
   },
   {
    "duration": 20,
    "start_time": "2023-04-22T06:08:00.022Z"
   },
   {
    "duration": 57,
    "start_time": "2023-04-22T06:08:00.044Z"
   },
   {
    "duration": 29,
    "start_time": "2023-04-22T06:08:00.103Z"
   },
   {
    "duration": 6,
    "start_time": "2023-04-22T06:08:00.134Z"
   },
   {
    "duration": 46,
    "start_time": "2023-04-22T06:08:00.141Z"
   },
   {
    "duration": 51,
    "start_time": "2023-04-22T06:08:00.188Z"
   },
   {
    "duration": 69,
    "start_time": "2023-04-22T06:08:00.240Z"
   },
   {
    "duration": 24,
    "start_time": "2023-04-22T06:08:00.311Z"
   },
   {
    "duration": 24,
    "start_time": "2023-04-22T06:08:00.338Z"
   },
   {
    "duration": 52,
    "start_time": "2023-04-22T06:08:00.363Z"
   },
   {
    "duration": 47,
    "start_time": "2023-04-22T06:08:00.416Z"
   },
   {
    "duration": 61,
    "start_time": "2023-04-22T06:08:00.464Z"
   },
   {
    "duration": 46,
    "start_time": "2023-04-22T06:08:00.527Z"
   },
   {
    "duration": 58,
    "start_time": "2023-04-22T06:08:00.575Z"
   },
   {
    "duration": 28,
    "start_time": "2023-04-22T06:08:00.634Z"
   },
   {
    "duration": 51,
    "start_time": "2023-04-22T06:08:00.664Z"
   },
   {
    "duration": 42,
    "start_time": "2023-04-22T06:08:00.717Z"
   },
   {
    "duration": 60,
    "start_time": "2023-04-22T06:08:00.761Z"
   },
   {
    "duration": 26,
    "start_time": "2023-04-22T06:08:00.822Z"
   },
   {
    "duration": 51,
    "start_time": "2023-04-22T06:08:00.849Z"
   },
   {
    "duration": 53,
    "start_time": "2023-04-22T06:08:00.902Z"
   },
   {
    "duration": 70,
    "start_time": "2023-04-22T06:08:00.956Z"
   },
   {
    "duration": 43,
    "start_time": "2023-04-22T06:08:01.028Z"
   },
   {
    "duration": 73,
    "start_time": "2023-04-22T06:08:01.073Z"
   },
   {
    "duration": 58,
    "start_time": "2023-04-22T06:08:01.147Z"
   },
   {
    "duration": 5,
    "start_time": "2023-04-22T06:10:32.821Z"
   },
   {
    "duration": 3,
    "start_time": "2023-04-22T06:10:40.999Z"
   },
   {
    "duration": 3,
    "start_time": "2023-04-22T06:10:41.454Z"
   },
   {
    "duration": 5,
    "start_time": "2023-04-22T06:10:42.500Z"
   },
   {
    "duration": 3,
    "start_time": "2023-04-22T06:10:52.140Z"
   },
   {
    "duration": 5,
    "start_time": "2023-04-22T06:10:56.357Z"
   },
   {
    "duration": 7,
    "start_time": "2023-04-22T06:10:57.169Z"
   },
   {
    "duration": 4,
    "start_time": "2023-04-22T06:11:50.316Z"
   },
   {
    "duration": 3,
    "start_time": "2023-04-22T06:11:50.830Z"
   },
   {
    "duration": 7,
    "start_time": "2023-04-22T06:11:57.248Z"
   },
   {
    "duration": 53,
    "start_time": "2023-04-22T06:13:05.137Z"
   },
   {
    "duration": 3,
    "start_time": "2023-04-22T06:13:36.288Z"
   },
   {
    "duration": 3,
    "start_time": "2023-04-22T06:13:49.729Z"
   },
   {
    "duration": 12,
    "start_time": "2023-04-22T06:15:14.606Z"
   },
   {
    "duration": 2,
    "start_time": "2023-04-22T06:15:17.024Z"
   },
   {
    "duration": 3,
    "start_time": "2023-04-22T06:15:17.665Z"
   },
   {
    "duration": 4,
    "start_time": "2023-04-22T06:15:18.096Z"
   },
   {
    "duration": 8,
    "start_time": "2023-04-22T06:15:20.014Z"
   },
   {
    "duration": 2,
    "start_time": "2023-04-22T06:15:58.346Z"
   },
   {
    "duration": 9,
    "start_time": "2023-04-22T06:16:00.490Z"
   },
   {
    "duration": 8,
    "start_time": "2023-04-22T06:16:31.030Z"
   },
   {
    "duration": 6,
    "start_time": "2023-04-22T06:16:33.969Z"
   },
   {
    "duration": 2,
    "start_time": "2023-04-22T06:16:58.343Z"
   },
   {
    "duration": 3,
    "start_time": "2023-04-22T06:17:26.950Z"
   },
   {
    "duration": 108,
    "start_time": "2023-04-22T06:17:26.955Z"
   },
   {
    "duration": 25,
    "start_time": "2023-04-22T06:17:27.065Z"
   },
   {
    "duration": 26,
    "start_time": "2023-04-22T06:17:27.092Z"
   },
   {
    "duration": 16,
    "start_time": "2023-04-22T06:17:27.121Z"
   },
   {
    "duration": 12,
    "start_time": "2023-04-22T06:17:27.139Z"
   },
   {
    "duration": 11,
    "start_time": "2023-04-22T06:17:27.152Z"
   },
   {
    "duration": 16,
    "start_time": "2023-04-22T06:17:27.164Z"
   },
   {
    "duration": 72,
    "start_time": "2023-04-22T06:17:27.181Z"
   },
   {
    "duration": 294,
    "start_time": "2023-04-22T06:17:27.255Z"
   },
   {
    "duration": 3,
    "start_time": "2023-04-22T06:17:27.552Z"
   },
   {
    "duration": 14,
    "start_time": "2023-04-22T06:17:27.556Z"
   },
   {
    "duration": 859,
    "start_time": "2023-04-22T06:17:27.571Z"
   },
   {
    "duration": 572,
    "start_time": "2023-04-22T06:17:28.431Z"
   },
   {
    "duration": 5,
    "start_time": "2023-04-22T06:17:29.014Z"
   },
   {
    "duration": 15,
    "start_time": "2023-04-22T06:17:29.021Z"
   },
   {
    "duration": 20,
    "start_time": "2023-04-22T06:17:29.038Z"
   },
   {
    "duration": 44,
    "start_time": "2023-04-22T06:17:29.059Z"
   },
   {
    "duration": 18,
    "start_time": "2023-04-22T06:17:29.106Z"
   },
   {
    "duration": 28,
    "start_time": "2023-04-22T06:17:29.125Z"
   },
   {
    "duration": 5,
    "start_time": "2023-04-22T06:17:29.154Z"
   },
   {
    "duration": 44,
    "start_time": "2023-04-22T06:17:29.160Z"
   },
   {
    "duration": 14,
    "start_time": "2023-04-22T06:17:29.205Z"
   },
   {
    "duration": 7,
    "start_time": "2023-04-22T06:17:29.220Z"
   },
   {
    "duration": 7,
    "start_time": "2023-04-22T06:17:29.228Z"
   },
   {
    "duration": 15,
    "start_time": "2023-04-22T06:17:29.236Z"
   },
   {
    "duration": 13,
    "start_time": "2023-04-22T06:17:29.252Z"
   },
   {
    "duration": 19,
    "start_time": "2023-04-22T06:17:29.267Z"
   },
   {
    "duration": 19,
    "start_time": "2023-04-22T06:17:29.293Z"
   },
   {
    "duration": 16,
    "start_time": "2023-04-22T06:17:29.319Z"
   },
   {
    "duration": 9,
    "start_time": "2023-04-22T06:17:29.337Z"
   },
   {
    "duration": 8,
    "start_time": "2023-04-22T06:17:29.347Z"
   },
   {
    "duration": 13,
    "start_time": "2023-04-22T06:17:29.356Z"
   },
   {
    "duration": 47,
    "start_time": "2023-04-22T06:17:29.370Z"
   },
   {
    "duration": 10,
    "start_time": "2023-04-22T06:17:29.418Z"
   },
   {
    "duration": 7,
    "start_time": "2023-04-22T06:17:29.429Z"
   },
   {
    "duration": 8,
    "start_time": "2023-04-22T06:17:29.437Z"
   },
   {
    "duration": 7,
    "start_time": "2023-04-22T06:17:29.446Z"
   },
   {
    "duration": 6,
    "start_time": "2023-04-22T06:17:29.454Z"
   },
   {
    "duration": 28,
    "start_time": "2023-04-22T06:17:29.461Z"
   },
   {
    "duration": 15,
    "start_time": "2023-04-22T06:17:29.491Z"
   },
   {
    "duration": 12,
    "start_time": "2023-04-22T06:17:29.507Z"
   },
   {
    "duration": 5,
    "start_time": "2023-04-22T06:17:29.521Z"
   },
   {
    "duration": 7,
    "start_time": "2023-04-22T06:17:29.528Z"
   },
   {
    "duration": 6,
    "start_time": "2023-04-22T06:17:29.536Z"
   },
   {
    "duration": 8,
    "start_time": "2023-04-22T06:17:29.544Z"
   },
   {
    "duration": 8,
    "start_time": "2023-04-22T06:17:29.553Z"
   },
   {
    "duration": 4,
    "start_time": "2023-04-22T06:17:29.562Z"
   },
   {
    "duration": 36,
    "start_time": "2023-04-22T06:17:29.567Z"
   },
   {
    "duration": 170,
    "start_time": "2023-04-22T06:17:29.604Z"
   },
   {
    "duration": 18,
    "start_time": "2023-04-22T06:17:29.776Z"
   },
   {
    "duration": 29,
    "start_time": "2023-04-22T06:17:29.795Z"
   },
   {
    "duration": 50,
    "start_time": "2023-04-22T06:17:29.826Z"
   },
   {
    "duration": 8,
    "start_time": "2023-04-22T06:17:29.882Z"
   },
   {
    "duration": 34446,
    "start_time": "2023-04-22T06:17:29.891Z"
   },
   {
    "duration": 7,
    "start_time": "2023-04-22T06:18:04.339Z"
   },
   {
    "duration": 2,
    "start_time": "2023-04-22T06:18:35.349Z"
   },
   {
    "duration": 15,
    "start_time": "2023-04-22T06:18:35.354Z"
   },
   {
    "duration": 48,
    "start_time": "2023-04-22T06:18:35.371Z"
   },
   {
    "duration": 96225,
    "start_time": "2023-04-22T06:18:35.420Z"
   },
   {
    "duration": 7,
    "start_time": "2023-04-22T06:20:11.647Z"
   },
   {
    "duration": 54,
    "start_time": "2023-04-22T06:20:11.656Z"
   },
   {
    "duration": 15,
    "start_time": "2023-04-22T06:20:11.712Z"
   },
   {
    "duration": 52201,
    "start_time": "2023-04-22T06:20:11.729Z"
   },
   {
    "duration": 8,
    "start_time": "2023-04-22T06:21:03.931Z"
   },
   {
    "duration": 26,
    "start_time": "2023-04-22T06:21:03.941Z"
   },
   {
    "duration": 64,
    "start_time": "2023-04-22T06:21:03.970Z"
   },
   {
    "duration": 1606,
    "start_time": "2023-04-22T06:21:04.035Z"
   },
   {
    "duration": 7,
    "start_time": "2023-04-22T06:21:05.642Z"
   },
   {
    "duration": 49,
    "start_time": "2023-04-22T06:21:05.650Z"
   },
   {
    "duration": 48,
    "start_time": "2023-04-22T06:21:05.701Z"
   },
   {
    "duration": 60,
    "start_time": "2023-04-22T06:21:05.750Z"
   },
   {
    "duration": 32,
    "start_time": "2023-04-22T06:21:05.813Z"
   },
   {
    "duration": 0,
    "start_time": "2023-04-22T06:21:05.849Z"
   },
   {
    "duration": 0,
    "start_time": "2023-04-22T06:21:05.849Z"
   },
   {
    "duration": 0,
    "start_time": "2023-04-22T06:21:05.850Z"
   },
   {
    "duration": 0,
    "start_time": "2023-04-22T06:21:05.851Z"
   },
   {
    "duration": 0,
    "start_time": "2023-04-22T06:21:05.851Z"
   },
   {
    "duration": 0,
    "start_time": "2023-04-22T06:21:05.852Z"
   },
   {
    "duration": 0,
    "start_time": "2023-04-22T06:21:05.854Z"
   },
   {
    "duration": 0,
    "start_time": "2023-04-22T06:21:05.856Z"
   },
   {
    "duration": 0,
    "start_time": "2023-04-22T06:21:05.857Z"
   },
   {
    "duration": 0,
    "start_time": "2023-04-22T06:21:05.857Z"
   },
   {
    "duration": 0,
    "start_time": "2023-04-22T06:21:05.859Z"
   },
   {
    "duration": 0,
    "start_time": "2023-04-22T06:21:05.860Z"
   },
   {
    "duration": 0,
    "start_time": "2023-04-22T06:21:05.860Z"
   },
   {
    "duration": 0,
    "start_time": "2023-04-22T06:21:05.861Z"
   },
   {
    "duration": 0,
    "start_time": "2023-04-22T06:21:05.862Z"
   },
   {
    "duration": 0,
    "start_time": "2023-04-22T06:21:05.863Z"
   },
   {
    "duration": 0,
    "start_time": "2023-04-22T06:21:05.864Z"
   },
   {
    "duration": 0,
    "start_time": "2023-04-22T06:21:05.865Z"
   },
   {
    "duration": 0,
    "start_time": "2023-04-22T06:21:05.866Z"
   },
   {
    "duration": 0,
    "start_time": "2023-04-22T06:21:05.868Z"
   },
   {
    "duration": 0,
    "start_time": "2023-04-22T06:21:05.869Z"
   },
   {
    "duration": 0,
    "start_time": "2023-04-22T06:21:05.874Z"
   },
   {
    "duration": 0,
    "start_time": "2023-04-22T06:21:05.876Z"
   },
   {
    "duration": 0,
    "start_time": "2023-04-22T06:21:05.877Z"
   },
   {
    "duration": 0,
    "start_time": "2023-04-22T06:21:05.878Z"
   },
   {
    "duration": 0,
    "start_time": "2023-04-22T06:21:05.879Z"
   },
   {
    "duration": 0,
    "start_time": "2023-04-22T06:21:05.880Z"
   },
   {
    "duration": 0,
    "start_time": "2023-04-22T06:21:05.881Z"
   },
   {
    "duration": 0,
    "start_time": "2023-04-22T06:21:05.881Z"
   },
   {
    "duration": 0,
    "start_time": "2023-04-22T06:21:05.882Z"
   },
   {
    "duration": 0,
    "start_time": "2023-04-22T06:21:05.883Z"
   },
   {
    "duration": 0,
    "start_time": "2023-04-22T06:21:05.890Z"
   },
   {
    "duration": 0,
    "start_time": "2023-04-22T06:21:05.891Z"
   },
   {
    "duration": 0,
    "start_time": "2023-04-22T06:21:05.891Z"
   },
   {
    "duration": 0,
    "start_time": "2023-04-22T06:21:05.892Z"
   },
   {
    "duration": 0,
    "start_time": "2023-04-22T06:21:05.893Z"
   },
   {
    "duration": 0,
    "start_time": "2023-04-22T06:21:05.898Z"
   },
   {
    "duration": 0,
    "start_time": "2023-04-22T06:21:05.899Z"
   },
   {
    "duration": 0,
    "start_time": "2023-04-22T06:21:05.900Z"
   },
   {
    "duration": 1,
    "start_time": "2023-04-22T06:21:05.900Z"
   },
   {
    "duration": 0,
    "start_time": "2023-04-22T06:21:05.901Z"
   },
   {
    "duration": 0,
    "start_time": "2023-04-22T06:21:05.902Z"
   },
   {
    "duration": 0,
    "start_time": "2023-04-22T06:21:05.903Z"
   },
   {
    "duration": 0,
    "start_time": "2023-04-22T06:21:05.904Z"
   },
   {
    "duration": 0,
    "start_time": "2023-04-22T06:21:05.905Z"
   },
   {
    "duration": 0,
    "start_time": "2023-04-22T06:21:05.910Z"
   },
   {
    "duration": 0,
    "start_time": "2023-04-22T06:21:05.910Z"
   },
   {
    "duration": 0,
    "start_time": "2023-04-22T06:21:05.911Z"
   },
   {
    "duration": 0,
    "start_time": "2023-04-22T06:21:05.912Z"
   },
   {
    "duration": 0,
    "start_time": "2023-04-22T06:21:05.913Z"
   },
   {
    "duration": 0,
    "start_time": "2023-04-22T06:21:05.914Z"
   },
   {
    "duration": 0,
    "start_time": "2023-04-22T06:21:05.915Z"
   },
   {
    "duration": 0,
    "start_time": "2023-04-22T06:21:05.915Z"
   },
   {
    "duration": 0,
    "start_time": "2023-04-22T06:21:05.916Z"
   },
   {
    "duration": 0,
    "start_time": "2023-04-22T06:21:05.917Z"
   },
   {
    "duration": 0,
    "start_time": "2023-04-22T06:21:05.918Z"
   },
   {
    "duration": 0,
    "start_time": "2023-04-22T06:21:05.919Z"
   },
   {
    "duration": 0,
    "start_time": "2023-04-22T06:21:05.921Z"
   },
   {
    "duration": 0,
    "start_time": "2023-04-22T06:21:05.922Z"
   },
   {
    "duration": 0,
    "start_time": "2023-04-22T06:21:05.923Z"
   },
   {
    "duration": 0,
    "start_time": "2023-04-22T06:21:05.924Z"
   },
   {
    "duration": 0,
    "start_time": "2023-04-22T06:21:05.929Z"
   },
   {
    "duration": 0,
    "start_time": "2023-04-22T06:21:05.930Z"
   },
   {
    "duration": 0,
    "start_time": "2023-04-22T06:21:05.932Z"
   },
   {
    "duration": 0,
    "start_time": "2023-04-22T06:21:05.933Z"
   },
   {
    "duration": 0,
    "start_time": "2023-04-22T06:21:05.935Z"
   },
   {
    "duration": 0,
    "start_time": "2023-04-22T06:21:05.936Z"
   },
   {
    "duration": 0,
    "start_time": "2023-04-22T06:21:05.938Z"
   },
   {
    "duration": 5,
    "start_time": "2023-04-22T06:21:21.799Z"
   },
   {
    "duration": 76,
    "start_time": "2023-04-22T06:21:21.806Z"
   },
   {
    "duration": 13,
    "start_time": "2023-04-22T06:21:21.884Z"
   },
   {
    "duration": 32,
    "start_time": "2023-04-22T06:21:21.899Z"
   },
   {
    "duration": 5,
    "start_time": "2023-04-22T06:21:21.933Z"
   },
   {
    "duration": 7,
    "start_time": "2023-04-22T06:21:21.940Z"
   },
   {
    "duration": 7,
    "start_time": "2023-04-22T06:21:21.949Z"
   },
   {
    "duration": 6,
    "start_time": "2023-04-22T06:21:21.957Z"
   },
   {
    "duration": 7,
    "start_time": "2023-04-22T06:21:21.976Z"
   },
   {
    "duration": 326,
    "start_time": "2023-04-22T06:21:21.984Z"
   },
   {
    "duration": 5,
    "start_time": "2023-04-22T06:21:22.312Z"
   },
   {
    "duration": 18,
    "start_time": "2023-04-22T06:21:22.319Z"
   },
   {
    "duration": 828,
    "start_time": "2023-04-22T06:21:22.340Z"
   },
   {
    "duration": 719,
    "start_time": "2023-04-22T06:21:23.171Z"
   },
   {
    "duration": 5,
    "start_time": "2023-04-22T06:21:23.891Z"
   },
   {
    "duration": 22,
    "start_time": "2023-04-22T06:21:23.897Z"
   },
   {
    "duration": 14,
    "start_time": "2023-04-22T06:21:23.922Z"
   },
   {
    "duration": 24,
    "start_time": "2023-04-22T06:21:23.938Z"
   },
   {
    "duration": 22,
    "start_time": "2023-04-22T06:21:23.964Z"
   },
   {
    "duration": 45,
    "start_time": "2023-04-22T06:21:23.988Z"
   },
   {
    "duration": 5,
    "start_time": "2023-04-22T06:21:24.035Z"
   },
   {
    "duration": 5,
    "start_time": "2023-04-22T06:21:24.042Z"
   },
   {
    "duration": 14,
    "start_time": "2023-04-22T06:21:24.048Z"
   },
   {
    "duration": 34,
    "start_time": "2023-04-22T06:21:24.063Z"
   },
   {
    "duration": 12,
    "start_time": "2023-04-22T06:21:24.100Z"
   },
   {
    "duration": 10,
    "start_time": "2023-04-22T06:21:24.113Z"
   },
   {
    "duration": 6,
    "start_time": "2023-04-22T06:21:24.124Z"
   },
   {
    "duration": 14,
    "start_time": "2023-04-22T06:21:24.132Z"
   },
   {
    "duration": 7,
    "start_time": "2023-04-22T06:21:24.148Z"
   },
   {
    "duration": 6,
    "start_time": "2023-04-22T06:21:24.157Z"
   },
   {
    "duration": 7,
    "start_time": "2023-04-22T06:21:24.164Z"
   },
   {
    "duration": 52,
    "start_time": "2023-04-22T06:21:24.173Z"
   },
   {
    "duration": 7,
    "start_time": "2023-04-22T06:21:24.227Z"
   },
   {
    "duration": 5,
    "start_time": "2023-04-22T06:21:24.236Z"
   },
   {
    "duration": 16,
    "start_time": "2023-04-22T06:21:24.242Z"
   },
   {
    "duration": 10,
    "start_time": "2023-04-22T06:21:24.259Z"
   },
   {
    "duration": 49,
    "start_time": "2023-04-22T06:21:24.273Z"
   },
   {
    "duration": 5,
    "start_time": "2023-04-22T06:21:24.324Z"
   },
   {
    "duration": 8,
    "start_time": "2023-04-22T06:21:24.330Z"
   },
   {
    "duration": 13,
    "start_time": "2023-04-22T06:21:24.339Z"
   },
   {
    "duration": 7,
    "start_time": "2023-04-22T06:21:24.354Z"
   },
   {
    "duration": 9,
    "start_time": "2023-04-22T06:21:24.362Z"
   },
   {
    "duration": 45,
    "start_time": "2023-04-22T06:21:24.373Z"
   },
   {
    "duration": 23,
    "start_time": "2023-04-22T06:21:24.420Z"
   },
   {
    "duration": 15,
    "start_time": "2023-04-22T06:21:24.444Z"
   },
   {
    "duration": 9,
    "start_time": "2023-04-22T06:21:24.461Z"
   },
   {
    "duration": 38,
    "start_time": "2023-04-22T06:21:24.471Z"
   },
   {
    "duration": 9,
    "start_time": "2023-04-22T06:21:24.511Z"
   },
   {
    "duration": 5,
    "start_time": "2023-04-22T06:21:24.522Z"
   },
   {
    "duration": 178,
    "start_time": "2023-04-22T06:21:24.528Z"
   },
   {
    "duration": 64,
    "start_time": "2023-04-22T06:21:24.709Z"
   },
   {
    "duration": 5,
    "start_time": "2023-04-22T06:21:24.776Z"
   },
   {
    "duration": 35,
    "start_time": "2023-04-22T06:21:24.783Z"
   },
   {
    "duration": 6,
    "start_time": "2023-04-22T06:21:24.820Z"
   },
   {
    "duration": 34709,
    "start_time": "2023-04-22T06:21:24.827Z"
   },
   {
    "duration": 9,
    "start_time": "2023-04-22T06:21:59.537Z"
   },
   {
    "duration": 7,
    "start_time": "2023-04-22T06:21:59.548Z"
   },
   {
    "duration": 13,
    "start_time": "2023-04-22T06:21:59.556Z"
   },
   {
    "duration": 0,
    "start_time": "2023-04-22T06:21:59.570Z"
   },
   {
    "duration": 0,
    "start_time": "2023-04-22T06:21:59.576Z"
   },
   {
    "duration": 0,
    "start_time": "2023-04-22T06:21:59.577Z"
   },
   {
    "duration": 3,
    "start_time": "2023-04-22T06:37:55.489Z"
   },
   {
    "duration": 21,
    "start_time": "2023-04-22T06:37:55.493Z"
   },
   {
    "duration": 5,
    "start_time": "2023-04-22T06:37:55.516Z"
   },
   {
    "duration": 118733,
    "start_time": "2023-04-22T06:37:55.522Z"
   },
   {
    "duration": 8,
    "start_time": "2023-04-22T06:39:54.258Z"
   },
   {
    "duration": 73,
    "start_time": "2023-04-22T06:39:54.268Z"
   },
   {
    "duration": 17,
    "start_time": "2023-04-22T06:39:54.343Z"
   },
   {
    "duration": 1863,
    "start_time": "2023-04-22T07:51:22.067Z"
   },
   {
    "duration": 54,
    "start_time": "2023-04-22T07:51:23.931Z"
   },
   {
    "duration": 24,
    "start_time": "2023-04-22T07:51:23.987Z"
   },
   {
    "duration": 20,
    "start_time": "2023-04-22T07:51:24.014Z"
   },
   {
    "duration": 12,
    "start_time": "2023-04-22T07:51:24.035Z"
   },
   {
    "duration": 37,
    "start_time": "2023-04-22T07:51:24.048Z"
   },
   {
    "duration": 41,
    "start_time": "2023-04-22T07:51:24.087Z"
   },
   {
    "duration": 16,
    "start_time": "2023-04-22T07:51:24.129Z"
   },
   {
    "duration": 64,
    "start_time": "2023-04-22T07:51:24.147Z"
   },
   {
    "duration": 497,
    "start_time": "2023-04-22T07:51:24.214Z"
   },
   {
    "duration": 6,
    "start_time": "2023-04-22T07:51:24.712Z"
   },
   {
    "duration": 15,
    "start_time": "2023-04-22T07:51:24.720Z"
   },
   {
    "duration": 364,
    "start_time": "2023-04-22T07:51:24.736Z"
   },
   {
    "duration": 0,
    "start_time": "2023-04-22T07:51:25.105Z"
   },
   {
    "duration": 1,
    "start_time": "2023-04-22T07:51:25.105Z"
   },
   {
    "duration": 0,
    "start_time": "2023-04-22T07:51:25.106Z"
   },
   {
    "duration": 0,
    "start_time": "2023-04-22T07:51:25.107Z"
   },
   {
    "duration": 0,
    "start_time": "2023-04-22T07:51:25.115Z"
   },
   {
    "duration": 0,
    "start_time": "2023-04-22T07:51:25.118Z"
   },
   {
    "duration": 0,
    "start_time": "2023-04-22T07:51:25.119Z"
   },
   {
    "duration": 0,
    "start_time": "2023-04-22T07:51:25.120Z"
   },
   {
    "duration": 0,
    "start_time": "2023-04-22T07:51:25.121Z"
   },
   {
    "duration": 0,
    "start_time": "2023-04-22T07:51:25.122Z"
   },
   {
    "duration": 0,
    "start_time": "2023-04-22T07:51:25.123Z"
   },
   {
    "duration": 0,
    "start_time": "2023-04-22T07:51:25.124Z"
   },
   {
    "duration": 0,
    "start_time": "2023-04-22T07:51:25.125Z"
   },
   {
    "duration": 0,
    "start_time": "2023-04-22T07:51:25.125Z"
   },
   {
    "duration": 0,
    "start_time": "2023-04-22T07:51:25.126Z"
   },
   {
    "duration": 0,
    "start_time": "2023-04-22T07:51:25.127Z"
   },
   {
    "duration": 0,
    "start_time": "2023-04-22T07:51:25.128Z"
   },
   {
    "duration": 0,
    "start_time": "2023-04-22T07:51:25.128Z"
   },
   {
    "duration": 0,
    "start_time": "2023-04-22T07:51:25.129Z"
   },
   {
    "duration": 0,
    "start_time": "2023-04-22T07:51:25.130Z"
   },
   {
    "duration": 0,
    "start_time": "2023-04-22T07:51:25.131Z"
   },
   {
    "duration": 0,
    "start_time": "2023-04-22T07:51:25.132Z"
   },
   {
    "duration": 0,
    "start_time": "2023-04-22T07:51:25.133Z"
   },
   {
    "duration": 1,
    "start_time": "2023-04-22T07:51:25.133Z"
   },
   {
    "duration": 0,
    "start_time": "2023-04-22T07:51:25.134Z"
   },
   {
    "duration": 0,
    "start_time": "2023-04-22T07:51:25.135Z"
   },
   {
    "duration": 0,
    "start_time": "2023-04-22T07:51:25.136Z"
   },
   {
    "duration": 0,
    "start_time": "2023-04-22T07:51:25.137Z"
   },
   {
    "duration": 0,
    "start_time": "2023-04-22T07:51:25.138Z"
   },
   {
    "duration": 0,
    "start_time": "2023-04-22T07:51:25.139Z"
   },
   {
    "duration": 0,
    "start_time": "2023-04-22T07:51:25.139Z"
   },
   {
    "duration": 0,
    "start_time": "2023-04-22T07:51:25.140Z"
   },
   {
    "duration": 0,
    "start_time": "2023-04-22T07:51:25.141Z"
   },
   {
    "duration": 0,
    "start_time": "2023-04-22T07:51:25.142Z"
   },
   {
    "duration": 0,
    "start_time": "2023-04-22T07:51:25.143Z"
   },
   {
    "duration": 0,
    "start_time": "2023-04-22T07:51:25.144Z"
   },
   {
    "duration": 0,
    "start_time": "2023-04-22T07:51:25.172Z"
   },
   {
    "duration": 0,
    "start_time": "2023-04-22T07:51:25.173Z"
   },
   {
    "duration": 0,
    "start_time": "2023-04-22T07:51:25.174Z"
   },
   {
    "duration": 0,
    "start_time": "2023-04-22T07:51:25.175Z"
   },
   {
    "duration": 0,
    "start_time": "2023-04-22T07:51:25.176Z"
   },
   {
    "duration": 0,
    "start_time": "2023-04-22T07:51:25.177Z"
   },
   {
    "duration": 0,
    "start_time": "2023-04-22T07:51:25.178Z"
   },
   {
    "duration": 0,
    "start_time": "2023-04-22T07:51:25.178Z"
   },
   {
    "duration": 0,
    "start_time": "2023-04-22T07:51:25.179Z"
   },
   {
    "duration": 0,
    "start_time": "2023-04-22T07:51:25.179Z"
   },
   {
    "duration": 0,
    "start_time": "2023-04-22T07:51:25.180Z"
   },
   {
    "duration": 0,
    "start_time": "2023-04-22T07:51:25.181Z"
   },
   {
    "duration": 0,
    "start_time": "2023-04-22T07:51:25.181Z"
   },
   {
    "duration": 0,
    "start_time": "2023-04-22T07:51:25.182Z"
   },
   {
    "duration": 0,
    "start_time": "2023-04-22T07:51:25.183Z"
   },
   {
    "duration": 0,
    "start_time": "2023-04-22T07:51:25.184Z"
   },
   {
    "duration": 0,
    "start_time": "2023-04-22T07:51:25.186Z"
   },
   {
    "duration": 0,
    "start_time": "2023-04-22T07:51:25.186Z"
   },
   {
    "duration": 0,
    "start_time": "2023-04-22T07:51:25.187Z"
   },
   {
    "duration": 0,
    "start_time": "2023-04-22T07:51:25.187Z"
   },
   {
    "duration": 0,
    "start_time": "2023-04-22T07:51:25.188Z"
   },
   {
    "duration": 0,
    "start_time": "2023-04-22T07:51:25.188Z"
   },
   {
    "duration": 0,
    "start_time": "2023-04-22T07:51:25.189Z"
   },
   {
    "duration": 0,
    "start_time": "2023-04-22T07:51:25.189Z"
   },
   {
    "duration": 0,
    "start_time": "2023-04-22T07:51:25.199Z"
   },
   {
    "duration": 0,
    "start_time": "2023-04-22T07:51:25.200Z"
   },
   {
    "duration": 0,
    "start_time": "2023-04-22T07:51:25.201Z"
   },
   {
    "duration": 0,
    "start_time": "2023-04-22T07:51:25.202Z"
   },
   {
    "duration": 0,
    "start_time": "2023-04-22T07:51:25.203Z"
   },
   {
    "duration": 0,
    "start_time": "2023-04-22T07:51:25.204Z"
   },
   {
    "duration": 0,
    "start_time": "2023-04-22T07:51:25.205Z"
   },
   {
    "duration": 0,
    "start_time": "2023-04-22T07:51:25.206Z"
   },
   {
    "duration": 0,
    "start_time": "2023-04-22T07:51:25.207Z"
   },
   {
    "duration": 1599,
    "start_time": "2023-04-22T07:51:39.862Z"
   },
   {
    "duration": 72,
    "start_time": "2023-04-22T07:51:41.463Z"
   },
   {
    "duration": 10,
    "start_time": "2023-04-22T07:51:41.537Z"
   },
   {
    "duration": 58,
    "start_time": "2023-04-22T07:51:41.550Z"
   },
   {
    "duration": 17,
    "start_time": "2023-04-22T07:51:41.609Z"
   },
   {
    "duration": 24,
    "start_time": "2023-04-22T07:51:41.627Z"
   },
   {
    "duration": 7,
    "start_time": "2023-04-22T07:51:41.653Z"
   },
   {
    "duration": 9,
    "start_time": "2023-04-22T07:51:41.661Z"
   },
   {
    "duration": 51,
    "start_time": "2023-04-22T07:51:41.673Z"
   },
   {
    "duration": 284,
    "start_time": "2023-04-22T07:51:41.728Z"
   },
   {
    "duration": 4,
    "start_time": "2023-04-22T07:51:42.014Z"
   },
   {
    "duration": 7,
    "start_time": "2023-04-22T07:51:42.020Z"
   },
   {
    "duration": 834,
    "start_time": "2023-04-22T07:51:42.029Z"
   },
   {
    "duration": 671,
    "start_time": "2023-04-22T07:51:42.865Z"
   },
   {
    "duration": 4,
    "start_time": "2023-04-22T07:51:43.538Z"
   },
   {
    "duration": 13,
    "start_time": "2023-04-22T07:51:43.543Z"
   },
   {
    "duration": 20,
    "start_time": "2023-04-22T07:51:43.557Z"
   },
   {
    "duration": 63,
    "start_time": "2023-04-22T07:51:43.578Z"
   },
   {
    "duration": 6,
    "start_time": "2023-04-22T07:51:43.643Z"
   },
   {
    "duration": 27,
    "start_time": "2023-04-22T07:51:43.650Z"
   },
   {
    "duration": 39,
    "start_time": "2023-04-22T07:51:43.679Z"
   },
   {
    "duration": 17,
    "start_time": "2023-04-22T07:51:43.720Z"
   },
   {
    "duration": 9,
    "start_time": "2023-04-22T07:51:43.738Z"
   },
   {
    "duration": 7,
    "start_time": "2023-04-22T07:51:43.749Z"
   },
   {
    "duration": 11,
    "start_time": "2023-04-22T07:51:43.757Z"
   },
   {
    "duration": 52,
    "start_time": "2023-04-22T07:51:43.769Z"
   },
   {
    "duration": 8,
    "start_time": "2023-04-22T07:51:43.823Z"
   },
   {
    "duration": 9,
    "start_time": "2023-04-22T07:51:43.835Z"
   },
   {
    "duration": 5,
    "start_time": "2023-04-22T07:51:43.845Z"
   },
   {
    "duration": 5,
    "start_time": "2023-04-22T07:51:43.852Z"
   },
   {
    "duration": 6,
    "start_time": "2023-04-22T07:51:43.858Z"
   },
   {
    "duration": 5,
    "start_time": "2023-04-22T07:51:43.865Z"
   },
   {
    "duration": 41,
    "start_time": "2023-04-22T07:51:43.871Z"
   },
   {
    "duration": 14,
    "start_time": "2023-04-22T07:51:43.915Z"
   },
   {
    "duration": 16,
    "start_time": "2023-04-22T07:51:43.930Z"
   },
   {
    "duration": 6,
    "start_time": "2023-04-22T07:51:43.947Z"
   },
   {
    "duration": 10,
    "start_time": "2023-04-22T07:51:43.954Z"
   },
   {
    "duration": 5,
    "start_time": "2023-04-22T07:51:43.965Z"
   },
   {
    "duration": 39,
    "start_time": "2023-04-22T07:51:43.971Z"
   },
   {
    "duration": 18,
    "start_time": "2023-04-22T07:51:44.012Z"
   },
   {
    "duration": 6,
    "start_time": "2023-04-22T07:51:44.032Z"
   },
   {
    "duration": 17,
    "start_time": "2023-04-22T07:51:44.039Z"
   },
   {
    "duration": 8,
    "start_time": "2023-04-22T07:51:44.058Z"
   },
   {
    "duration": 43,
    "start_time": "2023-04-22T07:51:44.068Z"
   },
   {
    "duration": 9,
    "start_time": "2023-04-22T07:51:44.112Z"
   },
   {
    "duration": 21,
    "start_time": "2023-04-22T07:51:44.122Z"
   },
   {
    "duration": 5,
    "start_time": "2023-04-22T07:51:44.145Z"
   },
   {
    "duration": 6,
    "start_time": "2023-04-22T07:51:44.151Z"
   },
   {
    "duration": 6,
    "start_time": "2023-04-22T07:51:44.158Z"
   },
   {
    "duration": 243,
    "start_time": "2023-04-22T07:51:44.166Z"
   },
   {
    "duration": 10,
    "start_time": "2023-04-22T07:51:44.411Z"
   },
   {
    "duration": 0,
    "start_time": "2023-04-22T07:51:44.423Z"
   },
   {
    "duration": 0,
    "start_time": "2023-04-22T07:51:44.424Z"
   },
   {
    "duration": 0,
    "start_time": "2023-04-22T07:51:44.425Z"
   },
   {
    "duration": 0,
    "start_time": "2023-04-22T07:51:44.427Z"
   },
   {
    "duration": 0,
    "start_time": "2023-04-22T07:51:44.428Z"
   },
   {
    "duration": 0,
    "start_time": "2023-04-22T07:51:44.429Z"
   },
   {
    "duration": 0,
    "start_time": "2023-04-22T07:51:44.430Z"
   },
   {
    "duration": 0,
    "start_time": "2023-04-22T07:51:44.431Z"
   },
   {
    "duration": 0,
    "start_time": "2023-04-22T07:51:44.432Z"
   },
   {
    "duration": 0,
    "start_time": "2023-04-22T07:51:44.433Z"
   },
   {
    "duration": 0,
    "start_time": "2023-04-22T07:51:44.434Z"
   },
   {
    "duration": 0,
    "start_time": "2023-04-22T07:51:44.435Z"
   },
   {
    "duration": 0,
    "start_time": "2023-04-22T07:51:44.436Z"
   },
   {
    "duration": 0,
    "start_time": "2023-04-22T07:51:44.437Z"
   },
   {
    "duration": 0,
    "start_time": "2023-04-22T07:51:44.437Z"
   },
   {
    "duration": 0,
    "start_time": "2023-04-22T07:51:44.438Z"
   },
   {
    "duration": 0,
    "start_time": "2023-04-22T07:51:44.439Z"
   },
   {
    "duration": 0,
    "start_time": "2023-04-22T07:51:44.440Z"
   },
   {
    "duration": 0,
    "start_time": "2023-04-22T07:51:44.441Z"
   },
   {
    "duration": 0,
    "start_time": "2023-04-22T07:51:44.443Z"
   },
   {
    "duration": 0,
    "start_time": "2023-04-22T07:51:44.445Z"
   },
   {
    "duration": 0,
    "start_time": "2023-04-22T07:51:44.446Z"
   },
   {
    "duration": 0,
    "start_time": "2023-04-22T07:51:44.447Z"
   },
   {
    "duration": 0,
    "start_time": "2023-04-22T07:51:44.449Z"
   },
   {
    "duration": 0,
    "start_time": "2023-04-22T07:51:44.450Z"
   },
   {
    "duration": 0,
    "start_time": "2023-04-22T07:51:44.453Z"
   },
   {
    "duration": 0,
    "start_time": "2023-04-22T07:51:44.454Z"
   },
   {
    "duration": 0,
    "start_time": "2023-04-22T07:51:44.473Z"
   },
   {
    "duration": 0,
    "start_time": "2023-04-22T07:51:44.474Z"
   },
   {
    "duration": 0,
    "start_time": "2023-04-22T07:51:44.474Z"
   },
   {
    "duration": 0,
    "start_time": "2023-04-22T07:51:44.475Z"
   },
   {
    "duration": 1673,
    "start_time": "2023-04-22T07:52:25.232Z"
   },
   {
    "duration": 58,
    "start_time": "2023-04-22T07:52:26.909Z"
   },
   {
    "duration": 13,
    "start_time": "2023-04-22T07:52:26.968Z"
   },
   {
    "duration": 48,
    "start_time": "2023-04-22T07:52:26.983Z"
   },
   {
    "duration": 10,
    "start_time": "2023-04-22T07:52:27.032Z"
   },
   {
    "duration": 30,
    "start_time": "2023-04-22T07:52:27.044Z"
   },
   {
    "duration": 61,
    "start_time": "2023-04-22T07:52:27.075Z"
   },
   {
    "duration": 7,
    "start_time": "2023-04-22T07:52:27.138Z"
   },
   {
    "duration": 7,
    "start_time": "2023-04-22T07:52:27.147Z"
   },
   {
    "duration": 270,
    "start_time": "2023-04-22T07:52:27.156Z"
   },
   {
    "duration": 4,
    "start_time": "2023-04-22T07:52:27.428Z"
   },
   {
    "duration": 15,
    "start_time": "2023-04-22T07:52:27.434Z"
   },
   {
    "duration": 876,
    "start_time": "2023-04-22T07:52:27.451Z"
   },
   {
    "duration": 593,
    "start_time": "2023-04-22T07:52:28.328Z"
   },
   {
    "duration": 7,
    "start_time": "2023-04-22T07:52:28.922Z"
   },
   {
    "duration": 7,
    "start_time": "2023-04-22T07:52:28.930Z"
   },
   {
    "duration": 37,
    "start_time": "2023-04-22T07:52:28.939Z"
   },
   {
    "duration": 52,
    "start_time": "2023-04-22T07:52:28.978Z"
   },
   {
    "duration": 8,
    "start_time": "2023-04-22T07:52:29.032Z"
   },
   {
    "duration": 63,
    "start_time": "2023-04-22T07:52:29.041Z"
   },
   {
    "duration": 29,
    "start_time": "2023-04-22T07:52:29.105Z"
   },
   {
    "duration": 13,
    "start_time": "2023-04-22T07:52:29.135Z"
   },
   {
    "duration": 16,
    "start_time": "2023-04-22T07:52:29.150Z"
   },
   {
    "duration": 46,
    "start_time": "2023-04-22T07:52:29.167Z"
   },
   {
    "duration": 6,
    "start_time": "2023-04-22T07:52:29.214Z"
   },
   {
    "duration": 5,
    "start_time": "2023-04-22T07:52:29.222Z"
   },
   {
    "duration": 7,
    "start_time": "2023-04-22T07:52:29.228Z"
   },
   {
    "duration": 7,
    "start_time": "2023-04-22T07:52:29.241Z"
   },
   {
    "duration": 10,
    "start_time": "2023-04-22T07:52:29.250Z"
   },
   {
    "duration": 6,
    "start_time": "2023-04-22T07:52:29.261Z"
   },
   {
    "duration": 6,
    "start_time": "2023-04-22T07:52:29.268Z"
   },
   {
    "duration": 37,
    "start_time": "2023-04-22T07:52:29.279Z"
   },
   {
    "duration": 6,
    "start_time": "2023-04-22T07:52:29.317Z"
   },
   {
    "duration": 12,
    "start_time": "2023-04-22T07:52:29.325Z"
   },
   {
    "duration": 10,
    "start_time": "2023-04-22T07:52:29.338Z"
   },
   {
    "duration": 3,
    "start_time": "2023-04-22T07:52:29.349Z"
   },
   {
    "duration": 5,
    "start_time": "2023-04-22T07:52:29.354Z"
   },
   {
    "duration": 6,
    "start_time": "2023-04-22T07:52:29.360Z"
   },
   {
    "duration": 10,
    "start_time": "2023-04-22T07:52:29.368Z"
   },
   {
    "duration": 40,
    "start_time": "2023-04-22T07:52:29.379Z"
   },
   {
    "duration": 3,
    "start_time": "2023-04-22T07:52:29.420Z"
   },
   {
    "duration": 4,
    "start_time": "2023-04-22T07:52:29.424Z"
   },
   {
    "duration": 8,
    "start_time": "2023-04-22T07:52:29.430Z"
   },
   {
    "duration": 10,
    "start_time": "2023-04-22T07:52:29.440Z"
   },
   {
    "duration": 5,
    "start_time": "2023-04-22T07:52:29.452Z"
   },
   {
    "duration": 10,
    "start_time": "2023-04-22T07:52:29.459Z"
   },
   {
    "duration": 35,
    "start_time": "2023-04-22T07:52:29.471Z"
   },
   {
    "duration": 9,
    "start_time": "2023-04-22T07:52:29.508Z"
   },
   {
    "duration": 4,
    "start_time": "2023-04-22T07:52:29.519Z"
   },
   {
    "duration": 158,
    "start_time": "2023-04-22T07:52:29.525Z"
   },
   {
    "duration": 25,
    "start_time": "2023-04-22T07:52:29.691Z"
   },
   {
    "duration": 43,
    "start_time": "2023-04-22T07:52:29.773Z"
   },
   {
    "duration": 17,
    "start_time": "2023-04-22T07:52:29.818Z"
   },
   {
    "duration": 13,
    "start_time": "2023-04-22T07:52:29.837Z"
   },
   {
    "duration": 35207,
    "start_time": "2023-04-22T07:52:29.851Z"
   },
   {
    "duration": 10,
    "start_time": "2023-04-22T07:53:05.060Z"
   },
   {
    "duration": 42,
    "start_time": "2023-04-22T07:53:05.071Z"
   },
   {
    "duration": 5,
    "start_time": "2023-04-22T07:53:05.115Z"
   },
   {
    "duration": 7,
    "start_time": "2023-04-22T07:53:05.121Z"
   },
   {
    "duration": 119437,
    "start_time": "2023-04-22T07:53:05.130Z"
   },
   {
    "duration": 10,
    "start_time": "2023-04-22T07:55:04.569Z"
   },
   {
    "duration": 32,
    "start_time": "2023-04-22T07:55:04.580Z"
   },
   {
    "duration": 7,
    "start_time": "2023-04-22T07:55:04.613Z"
   },
   {
    "duration": 5,
    "start_time": "2023-04-22T07:55:04.621Z"
   },
   {
    "duration": 400445,
    "start_time": "2023-04-22T07:55:04.627Z"
   },
   {
    "duration": 15,
    "start_time": "2023-04-22T08:01:45.074Z"
   },
   {
    "duration": 0,
    "start_time": "2023-04-22T08:01:45.090Z"
   },
   {
    "duration": 0,
    "start_time": "2023-04-22T08:01:45.091Z"
   },
   {
    "duration": 0,
    "start_time": "2023-04-22T08:01:45.092Z"
   },
   {
    "duration": 0,
    "start_time": "2023-04-22T08:01:45.093Z"
   },
   {
    "duration": 0,
    "start_time": "2023-04-22T08:01:45.094Z"
   },
   {
    "duration": 0,
    "start_time": "2023-04-22T08:01:45.096Z"
   },
   {
    "duration": 0,
    "start_time": "2023-04-22T08:01:45.097Z"
   },
   {
    "duration": 0,
    "start_time": "2023-04-22T08:01:45.098Z"
   },
   {
    "duration": 0,
    "start_time": "2023-04-22T08:01:45.099Z"
   },
   {
    "duration": 0,
    "start_time": "2023-04-22T08:01:45.100Z"
   },
   {
    "duration": 0,
    "start_time": "2023-04-22T08:01:45.101Z"
   },
   {
    "duration": 0,
    "start_time": "2023-04-22T08:01:45.102Z"
   },
   {
    "duration": 1,
    "start_time": "2023-04-22T08:01:45.102Z"
   },
   {
    "duration": 0,
    "start_time": "2023-04-22T08:01:45.103Z"
   },
   {
    "duration": 0,
    "start_time": "2023-04-22T08:01:45.104Z"
   },
   {
    "duration": 0,
    "start_time": "2023-04-22T08:01:45.105Z"
   },
   {
    "duration": 6,
    "start_time": "2023-04-22T08:02:06.142Z"
   },
   {
    "duration": 3,
    "start_time": "2023-04-22T08:02:12.288Z"
   },
   {
    "duration": 4,
    "start_time": "2023-04-22T08:02:12.697Z"
   },
   {
    "duration": 3,
    "start_time": "2023-04-22T08:02:13.125Z"
   },
   {
    "duration": 4,
    "start_time": "2023-04-22T08:02:17.204Z"
   },
   {
    "duration": 51,
    "start_time": "2023-04-22T08:02:17.210Z"
   },
   {
    "duration": 22,
    "start_time": "2023-04-22T08:02:17.263Z"
   },
   {
    "duration": 34,
    "start_time": "2023-04-22T08:02:17.289Z"
   },
   {
    "duration": 6,
    "start_time": "2023-04-22T08:02:17.324Z"
   },
   {
    "duration": 12,
    "start_time": "2023-04-22T08:02:17.332Z"
   },
   {
    "duration": 16,
    "start_time": "2023-04-22T08:02:17.345Z"
   },
   {
    "duration": 53,
    "start_time": "2023-04-22T08:02:17.362Z"
   },
   {
    "duration": 10,
    "start_time": "2023-04-22T08:02:17.418Z"
   },
   {
    "duration": 258,
    "start_time": "2023-04-22T08:02:17.430Z"
   },
   {
    "duration": 4,
    "start_time": "2023-04-22T08:02:17.689Z"
   },
   {
    "duration": 20,
    "start_time": "2023-04-22T08:02:17.695Z"
   },
   {
    "duration": 733,
    "start_time": "2023-04-22T08:02:17.717Z"
   },
   {
    "duration": 609,
    "start_time": "2023-04-22T08:02:18.452Z"
   },
   {
    "duration": 22,
    "start_time": "2023-04-22T08:02:19.063Z"
   },
   {
    "duration": 29,
    "start_time": "2023-04-22T08:02:19.095Z"
   },
   {
    "duration": 28,
    "start_time": "2023-04-22T08:02:19.125Z"
   },
   {
    "duration": 47,
    "start_time": "2023-04-22T08:02:19.155Z"
   },
   {
    "duration": 7,
    "start_time": "2023-04-22T08:02:19.204Z"
   },
   {
    "duration": 37,
    "start_time": "2023-04-22T08:02:19.212Z"
   },
   {
    "duration": 44,
    "start_time": "2023-04-22T08:02:19.250Z"
   },
   {
    "duration": 14,
    "start_time": "2023-04-22T08:02:19.296Z"
   },
   {
    "duration": 7,
    "start_time": "2023-04-22T08:02:19.313Z"
   },
   {
    "duration": 4,
    "start_time": "2023-04-22T08:02:19.324Z"
   },
   {
    "duration": 5,
    "start_time": "2023-04-22T08:02:19.329Z"
   },
   {
    "duration": 11,
    "start_time": "2023-04-22T08:02:19.336Z"
   },
   {
    "duration": 11,
    "start_time": "2023-04-22T08:02:19.348Z"
   },
   {
    "duration": 9,
    "start_time": "2023-04-22T08:02:19.360Z"
   },
   {
    "duration": 34,
    "start_time": "2023-04-22T08:02:19.370Z"
   },
   {
    "duration": 5,
    "start_time": "2023-04-22T08:02:19.406Z"
   },
   {
    "duration": 10,
    "start_time": "2023-04-22T08:02:19.412Z"
   },
   {
    "duration": 14,
    "start_time": "2023-04-22T08:02:19.423Z"
   },
   {
    "duration": 16,
    "start_time": "2023-04-22T08:02:19.439Z"
   },
   {
    "duration": 50,
    "start_time": "2023-04-22T08:02:19.456Z"
   },
   {
    "duration": 34,
    "start_time": "2023-04-22T08:02:19.508Z"
   },
   {
    "duration": 11,
    "start_time": "2023-04-22T08:02:19.544Z"
   },
   {
    "duration": 47,
    "start_time": "2023-04-22T08:02:19.556Z"
   },
   {
    "duration": 6,
    "start_time": "2023-04-22T08:02:19.605Z"
   },
   {
    "duration": 8,
    "start_time": "2023-04-22T08:02:19.613Z"
   },
   {
    "duration": 16,
    "start_time": "2023-04-22T08:02:19.623Z"
   },
   {
    "duration": 4,
    "start_time": "2023-04-22T08:02:19.641Z"
   },
   {
    "duration": 6,
    "start_time": "2023-04-22T08:02:19.647Z"
   },
   {
    "duration": 9,
    "start_time": "2023-04-22T08:02:19.655Z"
   },
   {
    "duration": 43,
    "start_time": "2023-04-22T08:02:19.665Z"
   },
   {
    "duration": 11,
    "start_time": "2023-04-22T08:02:19.710Z"
   },
   {
    "duration": 10,
    "start_time": "2023-04-22T08:02:19.723Z"
   },
   {
    "duration": 6,
    "start_time": "2023-04-22T08:02:19.735Z"
   },
   {
    "duration": 5,
    "start_time": "2023-04-22T08:02:19.743Z"
   },
   {
    "duration": 8,
    "start_time": "2023-04-22T08:02:19.749Z"
   },
   {
    "duration": 342,
    "start_time": "2023-04-22T08:02:19.759Z"
   },
   {
    "duration": 70,
    "start_time": "2023-04-22T08:02:20.104Z"
   },
   {
    "duration": 34,
    "start_time": "2023-04-22T08:02:20.176Z"
   },
   {
    "duration": 6,
    "start_time": "2023-04-22T08:02:20.213Z"
   },
   {
    "duration": 4,
    "start_time": "2023-04-22T08:02:20.279Z"
   },
   {
    "duration": 13968,
    "start_time": "2023-04-22T08:02:20.293Z"
   },
   {
    "duration": 14,
    "start_time": "2023-04-22T08:02:34.263Z"
   },
   {
    "duration": 29,
    "start_time": "2023-04-22T08:02:34.285Z"
   },
   {
    "duration": 18,
    "start_time": "2023-04-22T08:02:34.316Z"
   },
   {
    "duration": 13,
    "start_time": "2023-04-22T08:02:34.335Z"
   },
   {
    "duration": 5900,
    "start_time": "2023-04-22T08:02:34.349Z"
   },
   {
    "duration": 8,
    "start_time": "2023-04-22T08:02:40.251Z"
   },
   {
    "duration": 6,
    "start_time": "2023-04-22T08:02:40.261Z"
   },
   {
    "duration": 38,
    "start_time": "2023-04-22T08:02:40.268Z"
   },
   {
    "duration": 9,
    "start_time": "2023-04-22T08:02:40.307Z"
   },
   {
    "duration": 1624,
    "start_time": "2023-04-22T08:02:49.202Z"
   },
   {
    "duration": 50,
    "start_time": "2023-04-22T08:02:50.828Z"
   },
   {
    "duration": 16,
    "start_time": "2023-04-22T08:02:50.880Z"
   },
   {
    "duration": 60,
    "start_time": "2023-04-22T08:02:50.899Z"
   },
   {
    "duration": 42,
    "start_time": "2023-04-22T08:02:50.960Z"
   },
   {
    "duration": 19,
    "start_time": "2023-04-22T08:02:51.003Z"
   },
   {
    "duration": 21,
    "start_time": "2023-04-22T08:02:51.024Z"
   },
   {
    "duration": 26,
    "start_time": "2023-04-22T08:02:51.046Z"
   },
   {
    "duration": 48,
    "start_time": "2023-04-22T08:02:51.073Z"
   },
   {
    "duration": 268,
    "start_time": "2023-04-22T08:02:51.123Z"
   },
   {
    "duration": 10,
    "start_time": "2023-04-22T08:02:51.392Z"
   },
   {
    "duration": 12,
    "start_time": "2023-04-22T08:02:51.404Z"
   },
   {
    "duration": 749,
    "start_time": "2023-04-22T08:02:51.418Z"
   },
   {
    "duration": 556,
    "start_time": "2023-04-22T08:02:52.168Z"
   },
   {
    "duration": 5,
    "start_time": "2023-04-22T08:02:52.726Z"
   },
   {
    "duration": 12,
    "start_time": "2023-04-22T08:02:52.733Z"
   },
   {
    "duration": 28,
    "start_time": "2023-04-22T08:02:52.747Z"
   },
   {
    "duration": 50,
    "start_time": "2023-04-22T08:02:52.777Z"
   },
   {
    "duration": 8,
    "start_time": "2023-04-22T08:02:52.829Z"
   },
   {
    "duration": 44,
    "start_time": "2023-04-22T08:02:52.838Z"
   },
   {
    "duration": 40,
    "start_time": "2023-04-22T08:02:52.884Z"
   },
   {
    "duration": 22,
    "start_time": "2023-04-22T08:02:52.926Z"
   },
   {
    "duration": 66,
    "start_time": "2023-04-22T08:02:52.949Z"
   },
   {
    "duration": 19,
    "start_time": "2023-04-22T08:02:53.016Z"
   },
   {
    "duration": 26,
    "start_time": "2023-04-22T08:02:53.036Z"
   },
   {
    "duration": 64,
    "start_time": "2023-04-22T08:02:53.063Z"
   },
   {
    "duration": 35,
    "start_time": "2023-04-22T08:02:53.129Z"
   },
   {
    "duration": 45,
    "start_time": "2023-04-22T08:02:53.170Z"
   },
   {
    "duration": 26,
    "start_time": "2023-04-22T08:02:53.217Z"
   },
   {
    "duration": 6,
    "start_time": "2023-04-22T08:02:53.245Z"
   },
   {
    "duration": 18,
    "start_time": "2023-04-22T08:02:53.253Z"
   },
   {
    "duration": 27,
    "start_time": "2023-04-22T08:02:53.278Z"
   },
   {
    "duration": 11,
    "start_time": "2023-04-22T08:02:53.307Z"
   },
   {
    "duration": 7,
    "start_time": "2023-04-22T08:02:53.320Z"
   },
   {
    "duration": 9,
    "start_time": "2023-04-22T08:02:53.329Z"
   },
   {
    "duration": 14,
    "start_time": "2023-04-22T08:02:53.339Z"
   },
   {
    "duration": 16,
    "start_time": "2023-04-22T08:02:53.354Z"
   },
   {
    "duration": 40,
    "start_time": "2023-04-22T08:02:53.372Z"
   },
   {
    "duration": 5,
    "start_time": "2023-04-22T08:02:53.414Z"
   },
   {
    "duration": 13,
    "start_time": "2023-04-22T08:02:53.420Z"
   },
   {
    "duration": 2,
    "start_time": "2023-04-22T08:02:53.434Z"
   },
   {
    "duration": 12,
    "start_time": "2023-04-22T08:02:53.438Z"
   },
   {
    "duration": 8,
    "start_time": "2023-04-22T08:02:53.451Z"
   },
   {
    "duration": 38,
    "start_time": "2023-04-22T08:02:53.461Z"
   },
   {
    "duration": 6,
    "start_time": "2023-04-22T08:02:53.501Z"
   },
   {
    "duration": 9,
    "start_time": "2023-04-22T08:02:53.509Z"
   },
   {
    "duration": 4,
    "start_time": "2023-04-22T08:02:53.519Z"
   },
   {
    "duration": 4,
    "start_time": "2023-04-22T08:02:53.524Z"
   },
   {
    "duration": 5,
    "start_time": "2023-04-22T08:02:53.529Z"
   },
   {
    "duration": 352,
    "start_time": "2023-04-22T08:02:53.536Z"
   },
   {
    "duration": 88,
    "start_time": "2023-04-22T08:02:53.890Z"
   },
   {
    "duration": 34,
    "start_time": "2023-04-22T08:02:53.979Z"
   },
   {
    "duration": 5,
    "start_time": "2023-04-22T08:02:54.015Z"
   },
   {
    "duration": 4,
    "start_time": "2023-04-22T08:02:54.021Z"
   },
   {
    "duration": 33499,
    "start_time": "2023-04-22T08:02:54.027Z"
   },
   {
    "duration": 8,
    "start_time": "2023-04-22T08:03:27.527Z"
   },
   {
    "duration": 15,
    "start_time": "2023-04-22T08:03:27.536Z"
   },
   {
    "duration": 11,
    "start_time": "2023-04-22T08:03:27.553Z"
   },
   {
    "duration": 29,
    "start_time": "2023-04-22T08:03:27.566Z"
   },
   {
    "duration": 110154,
    "start_time": "2023-04-22T08:03:27.597Z"
   },
   {
    "duration": 10,
    "start_time": "2023-04-22T08:05:17.753Z"
   },
   {
    "duration": 29,
    "start_time": "2023-04-22T08:05:17.765Z"
   },
   {
    "duration": 8,
    "start_time": "2023-04-22T08:05:17.797Z"
   },
   {
    "duration": 14,
    "start_time": "2023-04-22T08:05:17.806Z"
   }
  ],
  "kernelspec": {
   "display_name": "Python 3 (ipykernel)",
   "language": "python",
   "name": "python3"
  },
  "language_info": {
   "codemirror_mode": {
    "name": "ipython",
    "version": 3
   },
   "file_extension": ".py",
   "mimetype": "text/x-python",
   "name": "python",
   "nbconvert_exporter": "python",
   "pygments_lexer": "ipython3",
<<<<<<< HEAD
   "version": "3.9.13"
=======
   "version": "3.9.14"
>>>>>>> 33a12e117ab0cb53bca258ef81ff9727ceede8dc
  },
  "toc": {
   "base_numbering": 1,
   "nav_menu": {},
   "number_sections": true,
   "sideBar": true,
   "skip_h1_title": true,
   "title_cell": "Содержание",
   "title_sidebar": "Contents",
   "toc_cell": true,
   "toc_position": {
    "height": "calc(100% - 180px)",
    "left": "10px",
    "top": "150px",
    "width": "194px"
   },
   "toc_section_display": true,
   "toc_window_display": true
  },
  "varInspector": {
   "cols": {
    "lenName": 16,
    "lenType": 16,
    "lenVar": 40
   },
   "kernels_config": {
    "python": {
     "delete_cmd_postfix": "",
     "delete_cmd_prefix": "del ",
     "library": "var_list.py",
     "varRefreshCmd": "print(var_dic_list())"
    },
    "r": {
     "delete_cmd_postfix": ") ",
     "delete_cmd_prefix": "rm(",
     "library": "var_list.r",
     "varRefreshCmd": "cat(var_dic_list()) "
    }
   },
   "types_to_exclude": [
    "module",
    "function",
    "builtin_function_or_method",
    "instance",
    "_Feature"
   ],
   "window_display": false
  }
 },
 "nbformat": 4,
 "nbformat_minor": 2
}
