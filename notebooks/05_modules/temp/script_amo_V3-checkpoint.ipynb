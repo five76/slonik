{
 "cells": [
  {
   "cell_type": "code",
   "execution_count": 1,
   "id": "a15d47a4",
   "metadata": {},
   "outputs": [],
   "source": [
    "import pandas as pd\n",
    "import matplotlib.pyplot as plt\n",
    "import numpy as np\n",
    "import seaborn as sns\n",
    "import re\n",
    "from glob import glob"
   ]
  },
  {
   "cell_type": "markdown",
   "id": "97c5e769",
   "metadata": {},
   "source": [
    "## Чтение данных"
   ]
  },
  {
   "cell_type": "code",
   "execution_count": 2,
   "id": "d0cb9c4d",
   "metadata": {},
   "outputs": [],
   "source": [
    "#file_amo = 'df_amocrm_sample_export_2019_01_01_2024-02-20.csv'"
   ]
  },
  {
   "cell_type": "code",
   "execution_count": 3,
   "id": "ec384505",
   "metadata": {},
   "outputs": [],
   "source": [
    "file_amo = glob('df_amocrm_sample_export_*.csv')[0]"
   ]
  },
  {
   "cell_type": "code",
   "execution_count": 4,
   "id": "b7d68146",
   "metadata": {},
   "outputs": [
    {
     "data": {
      "text/plain": [
       "'df_amocrm_sample_export_2019_01_01_2024-02-20.csv'"
      ]
     },
     "execution_count": 4,
     "metadata": {},
     "output_type": "execute_result"
    }
   ],
   "source": [
    "file_amo"
   ]
  },
  {
   "cell_type": "code",
   "execution_count": 5,
   "id": "273b5883",
   "metadata": {},
   "outputs": [],
   "source": [
    "date_int = re.search(r'_\\d+[_-]\\d+[_-]\\d+[_-]\\d+[_-]\\d+[_-]\\d+',file_amo).group(0)"
   ]
  },
  {
   "cell_type": "code",
   "execution_count": 6,
   "id": "7444fe5c",
   "metadata": {},
   "outputs": [
    {
     "data": {
      "text/plain": [
       "'_2019_01_01_2024-02-20'"
      ]
     },
     "execution_count": 6,
     "metadata": {},
     "output_type": "execute_result"
    }
   ],
   "source": [
    "date_int"
   ]
  },
  {
   "cell_type": "code",
   "execution_count": 7,
   "id": "1c04414f",
   "metadata": {},
   "outputs": [],
   "source": [
    "df_amo= pd.read_csv(file_amo, encoding='utf-8')"
   ]
  },
  {
   "cell_type": "code",
   "execution_count": 8,
   "id": "889bea9d",
   "metadata": {},
   "outputs": [],
   "source": [
    "df_values= pd.read_csv('df_list_of_values.csv', encoding='utf-8')"
   ]
  },
  {
   "cell_type": "code",
   "execution_count": 9,
   "id": "2302a79a",
   "metadata": {},
   "outputs": [],
   "source": [
    "df_sample= pd.read_csv('df_certificates_list_sample.csv', encoding='utf-8')"
   ]
  },
  {
   "cell_type": "code",
   "execution_count": 10,
   "id": "77e0be51",
   "metadata": {},
   "outputs": [],
   "source": [
    "df_archive= pd.read_excel('df_codes_archieve.xlsx')"
   ]
  },
  {
   "cell_type": "code",
   "execution_count": 11,
   "id": "6ee3c29b",
   "metadata": {
    "scrolled": true
   },
   "outputs": [
    {
     "data": {
      "text/html": [
       "<div>\n",
       "<style scoped>\n",
       "    .dataframe tbody tr th:only-of-type {\n",
       "        vertical-align: middle;\n",
       "    }\n",
       "\n",
       "    .dataframe tbody tr th {\n",
       "        vertical-align: top;\n",
       "    }\n",
       "\n",
       "    .dataframe thead th {\n",
       "        text-align: right;\n",
       "    }\n",
       "</style>\n",
       "<table border=\"1\" class=\"dataframe\">\n",
       "  <thead>\n",
       "    <tr style=\"text-align: right;\">\n",
       "      <th></th>\n",
       "      <th>ID</th>\n",
       "      <th>Этап сделки</th>\n",
       "      <th>Бюджет</th>\n",
       "      <th>Дата создания сделки</th>\n",
       "      <th>Дата закрытия</th>\n",
       "      <th>DELIVERY_PRICE</th>\n",
       "      <th>Стоимость доставки</th>\n",
       "      <th>PRODUCTS</th>\n",
       "      <th>PRICE</th>\n",
       "      <th>SUBTOTAL</th>\n",
       "      <th>Выручка от клиента</th>\n",
       "      <th>Направление (вид сертификата)</th>\n",
       "      <th>Номер сертификата</th>\n",
       "      <th>КОРНЕВАЯ СДЕЛКА</th>\n",
       "      <th>Номер 2-го сертификата</th>\n",
       "      <th>Номер 3-го сертификата</th>\n",
       "      <th>Номер 4-го сертификата</th>\n",
       "      <th>Номер 5-го сертификата</th>\n",
       "      <th>Сертификат на тренера</th>\n",
       "      <th>Статус погашения</th>\n",
       "      <th>Дата получения услуги</th>\n",
       "      <th>Стоимость закупки</th>\n",
       "    </tr>\n",
       "  </thead>\n",
       "  <tbody>\n",
       "    <tr>\n",
       "      <th>0</th>\n",
       "      <td>26909005</td>\n",
       "      <td>Успешно реализовано</td>\n",
       "      <td>11000</td>\n",
       "      <td>20.02.2024 13:04:25</td>\n",
       "      <td>20.02.2024 13:58:00</td>\n",
       "      <td>0.0</td>\n",
       "      <td>NaN</td>\n",
       "      <td>Снегоходы (Варианты: 1 снежик на 1 час, Бумажн...</td>\n",
       "      <td>11000.0</td>\n",
       "      <td>11000.0</td>\n",
       "      <td>11000</td>\n",
       "      <td>Снегоходы</td>\n",
       "      <td>VSN1X 4054877</td>\n",
       "      <td>NaN</td>\n",
       "      <td>VSN1X 9015675</td>\n",
       "      <td>NaN</td>\n",
       "      <td>NaN</td>\n",
       "      <td>NaN</td>\n",
       "      <td>NaN</td>\n",
       "      <td>NaN</td>\n",
       "      <td>NaN</td>\n",
       "      <td>5500</td>\n",
       "    </tr>\n",
       "    <tr>\n",
       "      <th>1</th>\n",
       "      <td>26907861</td>\n",
       "      <td>Успешно реализовано</td>\n",
       "      <td>3000</td>\n",
       "      <td>20.02.2024 11:51:49</td>\n",
       "      <td>20.02.2024 12:15:00</td>\n",
       "      <td>0.0</td>\n",
       "      <td>NaN</td>\n",
       "      <td>катание на картинге (Варианты: 20 минут катани...</td>\n",
       "      <td>3000.0</td>\n",
       "      <td>3000.0</td>\n",
       "      <td>3000</td>\n",
       "      <td>Картинг</td>\n",
       "      <td>VKA2 3075718</td>\n",
       "      <td>NaN</td>\n",
       "      <td>NaN</td>\n",
       "      <td>NaN</td>\n",
       "      <td>NaN</td>\n",
       "      <td>NaN</td>\n",
       "      <td>NaN</td>\n",
       "      <td>NaN</td>\n",
       "      <td>NaN</td>\n",
       "      <td>2200</td>\n",
       "    </tr>\n",
       "    <tr>\n",
       "      <th>2</th>\n",
       "      <td>26907137</td>\n",
       "      <td>Успешно реализовано</td>\n",
       "      <td>5000</td>\n",
       "      <td>20.02.2024 11:02:31</td>\n",
       "      <td>20.02.2024 11:43:00</td>\n",
       "      <td>0.0</td>\n",
       "      <td>NaN</td>\n",
       "      <td>Подарочный сертификатна вейк за катером (Выбер...</td>\n",
       "      <td>5000.0</td>\n",
       "      <td>5000.0</td>\n",
       "      <td>5000</td>\n",
       "      <td>Вейксёрф и вейк за катером</td>\n",
       "      <td>VWS25 3053861</td>\n",
       "      <td>NaN</td>\n",
       "      <td>NaN</td>\n",
       "      <td>NaN</td>\n",
       "      <td>NaN</td>\n",
       "      <td>NaN</td>\n",
       "      <td>NaN</td>\n",
       "      <td>NaN</td>\n",
       "      <td>NaN</td>\n",
       "      <td>NaN</td>\n",
       "    </tr>\n",
       "    <tr>\n",
       "      <th>3</th>\n",
       "      <td>26901359</td>\n",
       "      <td>Успешно реализовано</td>\n",
       "      <td>5920</td>\n",
       "      <td>19.02.2024 16:24:06</td>\n",
       "      <td>20.02.2024 11:33:00</td>\n",
       "      <td>0.0</td>\n",
       "      <td>NaN</td>\n",
       "      <td>Стрельба из боевого оружия (Варианты: Курс «на...</td>\n",
       "      <td>5000.0</td>\n",
       "      <td>5000.0</td>\n",
       "      <td>5920</td>\n",
       "      <td>Тир. Стрельба из боевого оружия</td>\n",
       "      <td>GU 4074745</td>\n",
       "      <td>NaN</td>\n",
       "      <td>NaN</td>\n",
       "      <td>NaN</td>\n",
       "      <td>NaN</td>\n",
       "      <td>NaN</td>\n",
       "      <td>NaN</td>\n",
       "      <td>NaN</td>\n",
       "      <td>NaN</td>\n",
       "      <td>4250</td>\n",
       "    </tr>\n",
       "    <tr>\n",
       "      <th>4</th>\n",
       "      <td>26900417</td>\n",
       "      <td>Успешно реализовано</td>\n",
       "      <td>7500</td>\n",
       "      <td>19.02.2024 15:16:07</td>\n",
       "      <td>19.02.2024 15:35:00</td>\n",
       "      <td>0.0</td>\n",
       "      <td>NaN</td>\n",
       "      <td>Заезд на Дрифт Трайке (Варианты: Заезд 60 мину...</td>\n",
       "      <td>7500.0</td>\n",
       "      <td>7500.0</td>\n",
       "      <td>7500</td>\n",
       "      <td>Мото Дрифт-трайк</td>\n",
       "      <td>VDT60 4059262</td>\n",
       "      <td>NaN</td>\n",
       "      <td>NaN</td>\n",
       "      <td>NaN</td>\n",
       "      <td>NaN</td>\n",
       "      <td>NaN</td>\n",
       "      <td>NaN</td>\n",
       "      <td>NaN</td>\n",
       "      <td>NaN</td>\n",
       "      <td>6750</td>\n",
       "    </tr>\n",
       "  </tbody>\n",
       "</table>\n",
       "</div>"
      ],
      "text/plain": [
       "         ID          Этап сделки  Бюджет  Дата создания сделки  \\\n",
       "0  26909005  Успешно реализовано    11000  20.02.2024 13:04:25   \n",
       "1  26907861  Успешно реализовано     3000  20.02.2024 11:51:49   \n",
       "2  26907137  Успешно реализовано     5000  20.02.2024 11:02:31   \n",
       "3  26901359  Успешно реализовано     5920  19.02.2024 16:24:06   \n",
       "4  26900417  Успешно реализовано     7500  19.02.2024 15:16:07   \n",
       "\n",
       "         Дата закрытия  DELIVERY_PRICE Стоимость доставки  \\\n",
       "0  20.02.2024 13:58:00             0.0                NaN   \n",
       "1  20.02.2024 12:15:00             0.0                NaN   \n",
       "2  20.02.2024 11:43:00             0.0                NaN   \n",
       "3  20.02.2024 11:33:00             0.0                NaN   \n",
       "4  19.02.2024 15:35:00             0.0                NaN   \n",
       "\n",
       "                                            PRODUCTS    PRICE  SUBTOTAL  \\\n",
       "0  Снегоходы (Варианты: 1 снежик на 1 час, Бумажн...  11000.0   11000.0   \n",
       "1  катание на картинге (Варианты: 20 минут катани...   3000.0    3000.0   \n",
       "2  Подарочный сертификатна вейк за катером (Выбер...   5000.0    5000.0   \n",
       "3  Стрельба из боевого оружия (Варианты: Курс «на...   5000.0    5000.0   \n",
       "4  Заезд на Дрифт Трайке (Варианты: Заезд 60 мину...   7500.0    7500.0   \n",
       "\n",
       "  Выручка от клиента    Направление (вид сертификата) Номер сертификата  \\\n",
       "0              11000                        Снегоходы     VSN1X 4054877   \n",
       "1               3000                          Картинг      VKA2 3075718   \n",
       "2               5000       Вейксёрф и вейк за катером     VWS25 3053861   \n",
       "3               5920  Тир. Стрельба из боевого оружия        GU 4074745   \n",
       "4               7500                 Мото Дрифт-трайк     VDT60 4059262   \n",
       "\n",
       "  КОРНЕВАЯ СДЕЛКА Номер 2-го сертификата Номер 3-го сертификата  \\\n",
       "0             NaN          VSN1X 9015675                    NaN   \n",
       "1             NaN                    NaN                    NaN   \n",
       "2             NaN                    NaN                    NaN   \n",
       "3             NaN                    NaN                    NaN   \n",
       "4             NaN                    NaN                    NaN   \n",
       "\n",
       "  Номер 4-го сертификата Номер 5-го сертификата Сертификат на тренера  \\\n",
       "0                    NaN                    NaN                   NaN   \n",
       "1                    NaN                    NaN                   NaN   \n",
       "2                    NaN                    NaN                   NaN   \n",
       "3                    NaN                    NaN                   NaN   \n",
       "4                    NaN                    NaN                   NaN   \n",
       "\n",
       "  Статус погашения Дата получения услуги Стоимость закупки  \n",
       "0              NaN                   NaN              5500  \n",
       "1              NaN                   NaN              2200  \n",
       "2              NaN                   NaN               NaN  \n",
       "3              NaN                   NaN              4250  \n",
       "4              NaN                   NaN              6750  "
      ]
     },
     "execution_count": 11,
     "metadata": {},
     "output_type": "execute_result"
    }
   ],
   "source": [
    "#Вывод таблицы во всю ширину\n",
    "pd.set_option('display.max_columns', None)\n",
    "df_amo.head(5)"
   ]
  },
  {
   "cell_type": "markdown",
   "id": "0026add7",
   "metadata": {},
   "source": [
    "## Предобработка архивных префиксов"
   ]
  },
  {
   "cell_type": "code",
   "execution_count": 12,
   "id": "a0f97f0d",
   "metadata": {},
   "outputs": [
    {
     "data": {
      "text/html": [
       "<div>\n",
       "<style scoped>\n",
       "    .dataframe tbody tr th:only-of-type {\n",
       "        vertical-align: middle;\n",
       "    }\n",
       "\n",
       "    .dataframe tbody tr th {\n",
       "        vertical-align: top;\n",
       "    }\n",
       "\n",
       "    .dataframe thead th {\n",
       "        text-align: right;\n",
       "    }\n",
       "</style>\n",
       "<table border=\"1\" class=\"dataframe\">\n",
       "  <thead>\n",
       "    <tr style=\"text-align: right;\">\n",
       "      <th></th>\n",
       "      <th>Префикс</th>\n",
       "    </tr>\n",
       "  </thead>\n",
       "  <tbody>\n",
       "    <tr>\n",
       "      <th>0</th>\n",
       "      <td>2SU24</td>\n",
       "    </tr>\n",
       "    <tr>\n",
       "      <th>1</th>\n",
       "      <td>2SU60</td>\n",
       "    </tr>\n",
       "    <tr>\n",
       "      <th>2</th>\n",
       "      <td>2WP24</td>\n",
       "    </tr>\n",
       "    <tr>\n",
       "      <th>3</th>\n",
       "      <td>МТ</td>\n",
       "    </tr>\n",
       "    <tr>\n",
       "      <th>4</th>\n",
       "      <td>МТТ</td>\n",
       "    </tr>\n",
       "  </tbody>\n",
       "</table>\n",
       "</div>"
      ],
      "text/plain": [
       "  Префикс\n",
       "0   2SU24\n",
       "1   2SU60\n",
       "2   2WP24\n",
       "3      МТ\n",
       "4     МТТ"
      ]
     },
     "execution_count": 12,
     "metadata": {},
     "output_type": "execute_result"
    }
   ],
   "source": [
    "df_archive.head()"
   ]
  },
  {
   "cell_type": "code",
   "execution_count": 13,
   "id": "bd7807cb",
   "metadata": {},
   "outputs": [],
   "source": [
    "df_archive['Префикс'] = df_archive['Префикс'].str.upper()"
   ]
  },
  {
   "cell_type": "code",
   "execution_count": 14,
   "id": "cdfdf9c4",
   "metadata": {},
   "outputs": [],
   "source": [
    "df_archive = df_archive.dropna(subset=['Префикс'])"
   ]
  },
  {
   "cell_type": "code",
   "execution_count": 15,
   "id": "fc9e557b",
   "metadata": {},
   "outputs": [],
   "source": [
    "df_archive = df_archive.reset_index(drop=True)"
   ]
  },
  {
   "cell_type": "code",
   "execution_count": 16,
   "id": "3d638aa6",
   "metadata": {},
   "outputs": [],
   "source": [
    "df_archive.rename(columns = {'Префикс':'prefix'}, inplace = True )"
   ]
  },
  {
   "cell_type": "code",
   "execution_count": 17,
   "id": "48571ab2",
   "metadata": {},
   "outputs": [
    {
     "data": {
      "text/html": [
       "<div>\n",
       "<style scoped>\n",
       "    .dataframe tbody tr th:only-of-type {\n",
       "        vertical-align: middle;\n",
       "    }\n",
       "\n",
       "    .dataframe tbody tr th {\n",
       "        vertical-align: top;\n",
       "    }\n",
       "\n",
       "    .dataframe thead th {\n",
       "        text-align: right;\n",
       "    }\n",
       "</style>\n",
       "<table border=\"1\" class=\"dataframe\">\n",
       "  <thead>\n",
       "    <tr style=\"text-align: right;\">\n",
       "      <th></th>\n",
       "      <th>prefix</th>\n",
       "    </tr>\n",
       "  </thead>\n",
       "  <tbody>\n",
       "    <tr>\n",
       "      <th>0</th>\n",
       "      <td>2SU24</td>\n",
       "    </tr>\n",
       "    <tr>\n",
       "      <th>1</th>\n",
       "      <td>2SU60</td>\n",
       "    </tr>\n",
       "    <tr>\n",
       "      <th>2</th>\n",
       "      <td>2WP24</td>\n",
       "    </tr>\n",
       "    <tr>\n",
       "      <th>3</th>\n",
       "      <td>МТ</td>\n",
       "    </tr>\n",
       "    <tr>\n",
       "      <th>4</th>\n",
       "      <td>МТТ</td>\n",
       "    </tr>\n",
       "  </tbody>\n",
       "</table>\n",
       "</div>"
      ],
      "text/plain": [
       "  prefix\n",
       "0  2SU24\n",
       "1  2SU60\n",
       "2  2WP24\n",
       "3     МТ\n",
       "4    МТТ"
      ]
     },
     "execution_count": 17,
     "metadata": {},
     "output_type": "execute_result"
    }
   ],
   "source": [
    "df_archive.head()"
   ]
  },
  {
   "cell_type": "code",
   "execution_count": 18,
   "id": "c1c153c9",
   "metadata": {},
   "outputs": [
    {
     "name": "stdout",
     "output_type": "stream",
     "text": [
      "['2SU24', '2SU60', '2WP24', 'AC2', 'AC30', 'AC60', 'AT10', 'AT15', 'AT30', 'AT4', 'AT4K', 'AT6', 'AT60', 'AT6K', 'BC1', 'BC2', 'BCR', 'BF180', 'BF40', 'BF90', 'BG', 'BGH', 'BGK', 'BGKH', 'CS20', 'CS30', 'CS40', 'CS60', 'CSR60', 'CW1', 'CW2', 'CWH', 'DRC2H', 'DT230', 'DT240', 'DT260', 'DT30', 'DT32', 'DT40', 'DT60', 'DTM', 'EB1X', 'EB2X', 'EB4X', 'ED3H', 'EDС', 'EF30', 'EF60', 'EFL30', 'EFL60', 'ES130', 'ES160', 'ES230', 'ES260', 'ESG1', 'ESG2', 'ESG4', 'F1', 'F1K', 'F2', 'FD', 'FDK', 'FJ30', 'FM30', 'FM45', 'FM60', 'FMCS30', 'FMCS45', 'FMCS45R', 'FMCS60', 'FMP15', 'FMP30', 'FMS30', 'FMS45', 'FMS60', 'FR', 'FR2', 'FROG1', 'FROG3', 'FROGM', 'GC1', 'GC2', 'GR1', 'GR1X1', 'GR2', 'GR2X1', 'GU', 'GU2', 'HB20', 'HB30', 'HY30', 'HY60', 'ICE1', 'ICE2', 'ID', 'KA2', 'KA4', 'KA6', 'KAT', 'KAT2', 'KAT4', 'KR1', 'KR2', 'KR3', 'KR4', 'KR6', 'KS', 'KS2', 'KV1X1', 'KV2X1', 'KVP1X1', 'KVP2X1', 'KVS', 'KW', 'KW2', 'KYT', 'KYT2', 'LB1X', 'LB2X', 'LB4X', 'LL1H', 'LL1HP', 'LL2H', 'LL2HP', 'LL3H', 'MB', 'MB2', 'MB2X', 'MF20', 'MF30', 'MF60', 'MT10', 'MT10B', 'MT2', 'MT2B', 'MT5', 'MT5B', 'OW2', 'OWG', 'OWI', 'P1', 'P1G', 'P1P', 'P2', 'P2G', 'P2P', 'PB', 'PB2', 'PB2X', 'PH', 'PP', 'PP2', 'PPP', 'PPT', 'PR20', 'PR30', 'PR40', 'PR60', 'PS', 'RB15', 'RB20', 'RB30', 'RB40', 'RB60', 'RC', 'RCV', 'RJ', 'RJ1X', 'RJ2', 'RJ2X', 'RJXX', 'RS', 'RT', 'RTV', 'RX', 'RXV', 'S', 'S2', 'SC', 'SG10', 'SG7', 'SH', 'SH2', 'SHH', 'SK2', 'SKI20', 'SKI40', 'SKI60', 'SKT1', 'SKT10', 'SKT2', 'SKT4', 'SKT6', 'SKV', 'SN1X', 'SN1X1', 'SN2X', 'SN2X1', 'SP', 'SP2', 'ST', 'SU24', 'SU60', 'TR', 'TR1', 'TR1K', 'TR2', 'TR2K', 'TX', 'UC', 'UN', 'UNI', 'VD', 'W&F', 'WP15', 'WP2H', 'WP30', 'WP60', 'WS20', 'WS30', 'WS40', 'WS60', 'WSN40', 'WSN60', 'WTF2', 'WTF3', 'YAS', 'YEР', 'YHD', 'МТ', 'МТТ']\n"
     ]
    }
   ],
   "source": [
    "print(sorted(list(df_archive['prefix'].unique())))"
   ]
  },
  {
   "cell_type": "markdown",
   "id": "f9e33298",
   "metadata": {},
   "source": [
    "При сортировке обнаружилась кириллица в префиксах"
   ]
  },
  {
   "cell_type": "code",
   "execution_count": 19,
   "id": "01987e14",
   "metadata": {},
   "outputs": [],
   "source": [
    "alf_ciril = 'Е Т О Р А Н К Х С В М'.split()\n",
    "alf_latin = 'E T O P A H K X C B M'.split()"
   ]
  },
  {
   "cell_type": "code",
   "execution_count": 20,
   "id": "caf6dccf",
   "metadata": {},
   "outputs": [],
   "source": [
    "def replace_cirillic_latin(x):\n",
    "    try:\n",
    "        v = x\n",
    "        new_v = ''\n",
    "        for i in range(len(v)):\n",
    "            simv = v[i]\n",
    "            if simv in alf_ciril:\n",
    "                pos = alf_ciril.index(simv)\n",
    "                simv = alf_latin[pos]\n",
    "            new_v += simv\n",
    "    except:\n",
    "        pass\n",
    "    return new_v"
   ]
  },
  {
   "cell_type": "code",
   "execution_count": 21,
   "id": "2f6091f3",
   "metadata": {},
   "outputs": [],
   "source": [
    "df_archive['prefix'] = df_archive.apply(lambda x: replace_cirillic_latin(x['prefix']),axis=1)"
   ]
  },
  {
   "cell_type": "markdown",
   "id": "4df58f0b",
   "metadata": {},
   "source": [
    "Удаление OLD из префикса"
   ]
  },
  {
   "cell_type": "code",
   "execution_count": 22,
   "id": "d25df4f4",
   "metadata": {},
   "outputs": [],
   "source": [
    "df1 = df_archive[df_archive['prefix'].str.contains('OLD')]"
   ]
  },
  {
   "cell_type": "code",
   "execution_count": 23,
   "id": "60f87ce4",
   "metadata": {},
   "outputs": [
    {
     "data": {
      "text/html": [
       "<div>\n",
       "<style scoped>\n",
       "    .dataframe tbody tr th:only-of-type {\n",
       "        vertical-align: middle;\n",
       "    }\n",
       "\n",
       "    .dataframe tbody tr th {\n",
       "        vertical-align: top;\n",
       "    }\n",
       "\n",
       "    .dataframe thead th {\n",
       "        text-align: right;\n",
       "    }\n",
       "</style>\n",
       "<table border=\"1\" class=\"dataframe\">\n",
       "  <thead>\n",
       "    <tr style=\"text-align: right;\">\n",
       "      <th></th>\n",
       "      <th>prefix</th>\n",
       "    </tr>\n",
       "  </thead>\n",
       "  <tbody>\n",
       "  </tbody>\n",
       "</table>\n",
       "</div>"
      ],
      "text/plain": [
       "Empty DataFrame\n",
       "Columns: [prefix]\n",
       "Index: []"
      ]
     },
     "execution_count": 23,
     "metadata": {},
     "output_type": "execute_result"
    }
   ],
   "source": [
    "df1"
   ]
  },
  {
   "cell_type": "code",
   "execution_count": 24,
   "id": "eb2a47ce",
   "metadata": {},
   "outputs": [
    {
     "data": {
      "text/plain": [
       "(0, 1)"
      ]
     },
     "execution_count": 24,
     "metadata": {},
     "output_type": "execute_result"
    }
   ],
   "source": [
    "df1.shape"
   ]
  },
  {
   "cell_type": "code",
   "execution_count": 25,
   "id": "d2e507c4",
   "metadata": {},
   "outputs": [],
   "source": [
    "#df_archive.replace(r' (OLD)|(OLD) ',r'',regex=True,inplace=True)\n",
    "df_archive.replace(r'( *OLD *)',r'',regex=True,inplace=True)"
   ]
  },
  {
   "cell_type": "code",
   "execution_count": 26,
   "id": "d9215a5c",
   "metadata": {},
   "outputs": [
    {
     "data": {
      "text/html": [
       "<div>\n",
       "<style scoped>\n",
       "    .dataframe tbody tr th:only-of-type {\n",
       "        vertical-align: middle;\n",
       "    }\n",
       "\n",
       "    .dataframe tbody tr th {\n",
       "        vertical-align: top;\n",
       "    }\n",
       "\n",
       "    .dataframe thead th {\n",
       "        text-align: right;\n",
       "    }\n",
       "</style>\n",
       "<table border=\"1\" class=\"dataframe\">\n",
       "  <thead>\n",
       "    <tr style=\"text-align: right;\">\n",
       "      <th></th>\n",
       "      <th>prefix</th>\n",
       "    </tr>\n",
       "  </thead>\n",
       "  <tbody>\n",
       "  </tbody>\n",
       "</table>\n",
       "</div>"
      ],
      "text/plain": [
       "Empty DataFrame\n",
       "Columns: [prefix]\n",
       "Index: []"
      ]
     },
     "execution_count": 26,
     "metadata": {},
     "output_type": "execute_result"
    }
   ],
   "source": [
    "df1.head()"
   ]
  },
  {
   "cell_type": "code",
   "execution_count": 27,
   "id": "b0a7c3a1",
   "metadata": {},
   "outputs": [],
   "source": [
    "#df_archive.iloc[246]['prefix']"
   ]
  },
  {
   "cell_type": "code",
   "execution_count": 28,
   "id": "83cab01b",
   "metadata": {},
   "outputs": [
    {
     "data": {
      "text/plain": [
       "(0, 1)"
      ]
     },
     "execution_count": 28,
     "metadata": {},
     "output_type": "execute_result"
    }
   ],
   "source": [
    "df1.shape"
   ]
  },
  {
   "cell_type": "markdown",
   "id": "54d49ff2",
   "metadata": {},
   "source": [
    "Удаление **+ Карта Тренер**, **+T**"
   ]
  },
  {
   "cell_type": "code",
   "execution_count": 29,
   "id": "f88fd054",
   "metadata": {},
   "outputs": [],
   "source": [
    "df_archive.replace(r'( *\\+ *\\S* *[Т|T]\\S*)',r'T',regex=True,inplace=True)"
   ]
  },
  {
   "cell_type": "code",
   "execution_count": 30,
   "id": "0b709cf2",
   "metadata": {},
   "outputs": [
    {
     "name": "stdout",
     "output_type": "stream",
     "text": [
      "['2SU24', '2SU60', '2WP24', 'AC2', 'AC30', 'AC60', 'AT10', 'AT15', 'AT30', 'AT4', 'AT4K', 'AT6', 'AT60', 'AT6K', 'BC1', 'BC2', 'BCR', 'BF180', 'BF40', 'BF90', 'BG', 'BGH', 'BGK', 'BGKH', 'CS20', 'CS30', 'CS40', 'CS60', 'CSR60', 'CW1', 'CW2', 'CWH', 'DRC2H', 'DT230', 'DT240', 'DT260', 'DT30', 'DT32', 'DT40', 'DT60', 'DTM', 'EB1X', 'EB2X', 'EB4X', 'ED3H', 'EDC', 'EF30', 'EF60', 'EFL30', 'EFL60', 'ES130', 'ES160', 'ES230', 'ES260', 'ESG1', 'ESG2', 'ESG4', 'F1', 'F1K', 'F2', 'FD', 'FDK', 'FJ30', 'FM30', 'FM45', 'FM60', 'FMCS30', 'FMCS45', 'FMCS45R', 'FMCS60', 'FMP15', 'FMP30', 'FMS30', 'FMS45', 'FMS60', 'FR', 'FR2', 'FROG1', 'FROG3', 'FROGM', 'GC1', 'GC2', 'GR1', 'GR1X1', 'GR2', 'GR2X1', 'GU', 'GU2', 'HB20', 'HB30', 'HY30', 'HY60', 'ICE1', 'ICE2', 'ID', 'KA2', 'KA4', 'KA6', 'KAT', 'KAT2', 'KAT4', 'KR1', 'KR2', 'KR3', 'KR4', 'KR6', 'KS', 'KS2', 'KV1X1', 'KV2X1', 'KVP1X1', 'KVP2X1', 'KVS', 'KW', 'KW2', 'KYT', 'KYT2', 'LB1X', 'LB2X', 'LB4X', 'LL1H', 'LL1HP', 'LL2H', 'LL2HP', 'LL3H', 'MB', 'MB2', 'MB2X', 'MF20', 'MF30', 'MF60', 'MT', 'MT10', 'MT10B', 'MT2', 'MT2B', 'MT5', 'MT5B', 'MTT', 'OW2', 'OWG', 'OWI', 'P1', 'P1G', 'P1P', 'P2', 'P2G', 'P2P', 'PB', 'PB2', 'PB2X', 'PH', 'PP', 'PP2', 'PPP', 'PPT', 'PR20', 'PR30', 'PR40', 'PR60', 'PS', 'RB15', 'RB20', 'RB30', 'RB40', 'RB60', 'RC', 'RCV', 'RJ', 'RJ1X', 'RJ2', 'RJ2X', 'RJXX', 'RS', 'RT', 'RTV', 'RX', 'RXV', 'S', 'S2', 'SC', 'SG10', 'SG7', 'SH', 'SH2', 'SHH', 'SK2', 'SKI20', 'SKI40', 'SKI60', 'SKT1', 'SKT10', 'SKT2', 'SKT4', 'SKT6', 'SKV', 'SN1X', 'SN1X1', 'SN2X', 'SN2X1', 'SP', 'SP2', 'ST', 'SU24', 'SU60', 'TR', 'TR1', 'TR1K', 'TR2', 'TR2K', 'TX', 'UC', 'UN', 'UNI', 'VD', 'W&F', 'WP15', 'WP2H', 'WP30', 'WP60', 'WS20', 'WS30', 'WS40', 'WS60', 'WSN40', 'WSN60', 'WTF2', 'WTF3', 'YAS', 'YEP', 'YHD']\n"
     ]
    }
   ],
   "source": [
    "print(sorted(list(df_archive['prefix'].unique())))"
   ]
  },
  {
   "cell_type": "markdown",
   "id": "5edd3eeb",
   "metadata": {},
   "source": [
    "Имеются двойные префиксы MT/MT2 и MT10/MT10B"
   ]
  },
  {
   "cell_type": "code",
   "execution_count": 31,
   "id": "2efd92fe",
   "metadata": {},
   "outputs": [],
   "source": [
    "archive_prefix = list(df_archive['prefix'].unique())"
   ]
  },
  {
   "cell_type": "code",
   "execution_count": null,
   "id": "569b2812",
   "metadata": {},
   "outputs": [],
   "source": []
  },
  {
   "cell_type": "code",
   "execution_count": null,
   "id": "97002a94",
   "metadata": {},
   "outputs": [],
   "source": []
  },
  {
   "cell_type": "markdown",
   "id": "3fbf3458",
   "metadata": {},
   "source": [
    "## Предобработка активных префиксов"
   ]
  },
  {
   "cell_type": "code",
   "execution_count": 32,
   "id": "dbcf5c36",
   "metadata": {},
   "outputs": [
    {
     "name": "stdout",
     "output_type": "stream",
     "text": [
      "<class 'pandas.core.frame.DataFrame'>\n",
      "RangeIndex: 198 entries, 0 to 197\n",
      "Data columns (total 7 columns):\n",
      " #   Column          Non-Null Count  Dtype  \n",
      "---  ------          --------------  -----  \n",
      " 0   Id              198 non-null    int64  \n",
      " 1   Activity Name   198 non-null    object \n",
      " 2   Value           196 non-null    object \n",
      " 3   Status          198 non-null    object \n",
      " 4   Prefix          198 non-null    object \n",
      " 5   Purchase Price  167 non-null    float64\n",
      " 6   Sale Price      196 non-null    float64\n",
      "dtypes: float64(2), int64(1), object(4)\n",
      "memory usage: 11.0+ KB\n"
     ]
    }
   ],
   "source": [
    "df_values.info()"
   ]
  },
  {
   "cell_type": "code",
   "execution_count": 33,
   "id": "ac884123",
   "metadata": {},
   "outputs": [],
   "source": [
    "df_values.columns = df_values.columns.str.lower()"
   ]
  },
  {
   "cell_type": "code",
   "execution_count": 34,
   "id": "c2925b98",
   "metadata": {},
   "outputs": [],
   "source": [
    "df_values.columns = df_values.columns.str.strip()"
   ]
  },
  {
   "cell_type": "code",
   "execution_count": 35,
   "id": "af87acb0",
   "metadata": {},
   "outputs": [],
   "source": [
    "df_values.columns = df_values.columns.map(lambda x: re.sub( '(?<!^)(?=[ ])', '_', x ).lower())\n",
    "df_values.columns = df_values.columns.map(lambda x: re.sub( ' ', '', x ))"
   ]
  },
  {
   "cell_type": "code",
   "execution_count": 36,
   "id": "dbbfadcd",
   "metadata": {},
   "outputs": [
    {
     "data": {
      "text/html": [
       "<div>\n",
       "<style scoped>\n",
       "    .dataframe tbody tr th:only-of-type {\n",
       "        vertical-align: middle;\n",
       "    }\n",
       "\n",
       "    .dataframe tbody tr th {\n",
       "        vertical-align: top;\n",
       "    }\n",
       "\n",
       "    .dataframe thead th {\n",
       "        text-align: right;\n",
       "    }\n",
       "</style>\n",
       "<table border=\"1\" class=\"dataframe\">\n",
       "  <thead>\n",
       "    <tr style=\"text-align: right;\">\n",
       "      <th></th>\n",
       "      <th>id</th>\n",
       "      <th>activity_name</th>\n",
       "      <th>value</th>\n",
       "      <th>status</th>\n",
       "      <th>prefix</th>\n",
       "      <th>purchase_price</th>\n",
       "      <th>sale_price</th>\n",
       "    </tr>\n",
       "  </thead>\n",
       "  <tbody>\n",
       "    <tr>\n",
       "      <th>0</th>\n",
       "      <td>1</td>\n",
       "      <td>Вейксёрф и вейкборд</td>\n",
       "      <td>2 часа вейксерфинга или вейкбординга\\nна волне...</td>\n",
       "      <td>on_air</td>\n",
       "      <td>WS2</td>\n",
       "      <td>NaN</td>\n",
       "      <td>22500.0</td>\n",
       "    </tr>\n",
       "    <tr>\n",
       "      <th>1</th>\n",
       "      <td>2</td>\n",
       "      <td>Вейксёрф и вейкборд</td>\n",
       "      <td>1 час вейксерфинга или вейкбординга\\nна волне ...</td>\n",
       "      <td>on_air</td>\n",
       "      <td>WS1</td>\n",
       "      <td>NaN</td>\n",
       "      <td>11000.0</td>\n",
       "    </tr>\n",
       "    <tr>\n",
       "      <th>2</th>\n",
       "      <td>3</td>\n",
       "      <td>Вейксёрф и вейкборд</td>\n",
       "      <td>40 минут вейксерфинга или вейкбординга\\nна вол...</td>\n",
       "      <td>on_air</td>\n",
       "      <td>WS40</td>\n",
       "      <td>NaN</td>\n",
       "      <td>7500.0</td>\n",
       "    </tr>\n",
       "    <tr>\n",
       "      <th>3</th>\n",
       "      <td>4</td>\n",
       "      <td>Вейксёрф и вейкборд</td>\n",
       "      <td>30 минут вейксерфинга или вейкбординга\\nна вол...</td>\n",
       "      <td>on_air</td>\n",
       "      <td>WS30</td>\n",
       "      <td>NaN</td>\n",
       "      <td>5500.0</td>\n",
       "    </tr>\n",
       "    <tr>\n",
       "      <th>4</th>\n",
       "      <td>5</td>\n",
       "      <td>Вейксёрф и вейкборд</td>\n",
       "      <td>25 минут вейксерфинга или вейкбординга\\nна вол...</td>\n",
       "      <td>on_air</td>\n",
       "      <td>WS25</td>\n",
       "      <td>NaN</td>\n",
       "      <td>5000.0</td>\n",
       "    </tr>\n",
       "  </tbody>\n",
       "</table>\n",
       "</div>"
      ],
      "text/plain": [
       "   id        activity_name                                              value  \\\n",
       "0   1  Вейксёрф и вейкборд  2 часа вейксерфинга или вейкбординга\\nна волне...   \n",
       "1   2  Вейксёрф и вейкборд  1 час вейксерфинга или вейкбординга\\nна волне ...   \n",
       "2   3  Вейксёрф и вейкборд  40 минут вейксерфинга или вейкбординга\\nна вол...   \n",
       "3   4  Вейксёрф и вейкборд  30 минут вейксерфинга или вейкбординга\\nна вол...   \n",
       "4   5  Вейксёрф и вейкборд  25 минут вейксерфинга или вейкбординга\\nна вол...   \n",
       "\n",
       "   status prefix  purchase_price  sale_price  \n",
       "0  on_air    WS2             NaN     22500.0  \n",
       "1  on_air    WS1             NaN     11000.0  \n",
       "2  on_air   WS40             NaN      7500.0  \n",
       "3  on_air   WS30             NaN      5500.0  \n",
       "4  on_air   WS25             NaN      5000.0  "
      ]
     },
     "execution_count": 36,
     "metadata": {},
     "output_type": "execute_result"
    }
   ],
   "source": [
    "df_values.head(5)"
   ]
  },
  {
   "cell_type": "code",
   "execution_count": 37,
   "id": "b8059ddf",
   "metadata": {},
   "outputs": [
    {
     "name": "stdout",
     "output_type": "stream",
     "text": [
      "<class 'pandas.core.frame.DataFrame'>\n",
      "RangeIndex: 198 entries, 0 to 197\n",
      "Data columns (total 7 columns):\n",
      " #   Column          Non-Null Count  Dtype  \n",
      "---  ------          --------------  -----  \n",
      " 0   id              198 non-null    int64  \n",
      " 1   activity_name   198 non-null    object \n",
      " 2   value           196 non-null    object \n",
      " 3   status          198 non-null    object \n",
      " 4   prefix          198 non-null    object \n",
      " 5   purchase_price  167 non-null    float64\n",
      " 6   sale_price      196 non-null    float64\n",
      "dtypes: float64(2), int64(1), object(4)\n",
      "memory usage: 11.0+ KB\n"
     ]
    }
   ],
   "source": [
    "df_values.info()"
   ]
  },
  {
   "cell_type": "code",
   "execution_count": 38,
   "id": "faeb253b",
   "metadata": {},
   "outputs": [
    {
     "name": "stdout",
     "output_type": "stream",
     "text": [
      "['2MWP24', '2WP24', 'AB', 'AB4', 'AB4G', 'ABG', 'AC2', 'AC30', 'AC60', 'AT10', 'AT15', 'AT30', 'AT4', 'AT4K', 'AT6', 'AT60', 'AT6K', 'BF180', 'BF40', 'BF90', 'BG', 'BGH', 'BGK', 'BGKH', 'CS20', 'CS30', 'CS40', 'CS60', 'CSR60', 'CW1', 'CW1T', 'CW2', 'CW2T', 'CWH', 'DRC2H', 'DRCH', 'DT30', 'DT32', 'DT40', 'DT42', 'DT60', 'DT62', 'DTM', 'EB1x', 'EB2x', 'EB4x', 'ED3H', 'EDС', 'EFL30', 'EFL60', 'FR', 'FR2,', 'FRK', 'FRT', 'FRTK', 'GC1', 'GC2', 'GR1', 'GR2', 'GU', 'GU2', 'HB30', 'HB60', 'HY30', 'HY60', 'KA2', 'KA4', 'KA6', 'KAT', 'KAT2', 'KAT4', 'KS', 'KS2', 'KV1X1', 'KV2X1', 'KVP1X1', 'KVP2X1', 'KW', 'KW2', 'KYT', 'KYT2', 'LL1H', 'LL1HP', 'LL2H', 'LL2HP', 'LL3H', 'MB', 'MB2', 'MB2X', 'MEFL30', 'MEFL60', 'MF20', 'MF30', 'MF60', 'MHB60', 'MHY30', 'MHY60', 'MMF20', 'MMF30', 'MMF60', 'MSKI40', 'MSKI60', 'MSU24', 'MSU60', 'MT10', 'MW&F', 'MWP15', 'MWP2H', 'MWP60', 'MWS1', 'MWS2', 'MWS25', 'MWS30', 'MWS40', 'MWSN1', 'MWSN2', 'MWSN25', 'MWSN40', 'OW2', 'OWG', 'OWI', 'PL15', 'PL20', 'PL30', 'PP', 'PP2', 'PP2P', 'PP2S', 'PPP', 'PPS', 'PPT', 'PR20', 'PR30', 'PR40', 'PR60', 'RB15', 'RB20', 'RB30', 'RB40', 'RB60', 'RC', 'RCV', 'RJ', 'RJ2', 'RT', 'RTV', 'RX', 'RXV', 'SG10', 'SG5', 'SH', 'SH2', 'SHH', 'SK', 'SK2', 'SK2V', 'SKI40', 'SKI60', 'SKT', 'SKT1', 'SKT10', 'SKT2', 'SKT4', 'SKT6', 'SKV', 'SN1X', 'SN2X', 'SU24', 'SU60', 'SUT', 'TB', 'TB2', 'TB4', 'W&F', 'WP15', 'WP2H', 'WP60', 'WS1', 'WS2', 'WS25', 'WS30', 'WS40', 'WSN1', 'WSN2', 'WSN25', 'WSN40', 'WTF2', 'WTF3', 'YAS', 'YEР', 'YHD', 'МТ', 'МТ5', 'МТТ', 'РB', 'РB2', 'РB2X']\n"
     ]
    }
   ],
   "source": [
    "print(sorted(list(df_values['prefix'].unique())))"
   ]
  },
  {
   "cell_type": "markdown",
   "id": "f014f01a",
   "metadata": {},
   "source": [
    "Все prefix прописные. Имеется кириллица в префиксах"
   ]
  },
  {
   "cell_type": "code",
   "execution_count": 39,
   "id": "b2c041a9",
   "metadata": {},
   "outputs": [],
   "source": [
    "df_values['prefix'] = df_values['prefix'].str.upper()"
   ]
  },
  {
   "cell_type": "code",
   "execution_count": 40,
   "id": "9b2caa1d",
   "metadata": {},
   "outputs": [],
   "source": [
    "df_values['prefix'] = df_values.apply(lambda x: replace_cirillic_latin(x['prefix']),axis=1)"
   ]
  },
  {
   "cell_type": "code",
   "execution_count": 41,
   "id": "a511c304",
   "metadata": {},
   "outputs": [],
   "source": [
    "prefix_values = list(df_values['prefix'].unique())"
   ]
  },
  {
   "cell_type": "code",
   "execution_count": 42,
   "id": "f55185f6",
   "metadata": {},
   "outputs": [
    {
     "name": "stdout",
     "output_type": "stream",
     "text": [
      "['2MWP24', '2WP24', 'AB', 'AB4', 'AB4G', 'ABG', 'AC2', 'AC30', 'AC60', 'AT10', 'AT15', 'AT30', 'AT4', 'AT4K', 'AT6', 'AT60', 'AT6K', 'BF180', 'BF40', 'BF90', 'BG', 'BGH', 'BGK', 'BGKH', 'CS20', 'CS30', 'CS40', 'CS60', 'CSR60', 'CW1', 'CW1T', 'CW2', 'CW2T', 'CWH', 'DRC2H', 'DRCH', 'DT30', 'DT32', 'DT40', 'DT42', 'DT60', 'DT62', 'DTM', 'EB1X', 'EB2X', 'EB4X', 'ED3H', 'EDC', 'EFL30', 'EFL60', 'FR', 'FR2,', 'FRK', 'FRT', 'FRTK', 'GC1', 'GC2', 'GR1', 'GR2', 'GU', 'GU2', 'HB30', 'HB60', 'HY30', 'HY60', 'KA2', 'KA4', 'KA6', 'KAT', 'KAT2', 'KAT4', 'KS', 'KS2', 'KV1X1', 'KV2X1', 'KVP1X1', 'KVP2X1', 'KW', 'KW2', 'KYT', 'KYT2', 'LL1H', 'LL1HP', 'LL2H', 'LL2HP', 'LL3H', 'MB', 'MB2', 'MB2X', 'MEFL30', 'MEFL60', 'MF20', 'MF30', 'MF60', 'MHB60', 'MHY30', 'MHY60', 'MMF20', 'MMF30', 'MMF60', 'MSKI40', 'MSKI60', 'MSU24', 'MSU60', 'MT', 'MT10', 'MT5', 'MTT', 'MW&F', 'MWP15', 'MWP2H', 'MWP60', 'MWS1', 'MWS2', 'MWS25', 'MWS30', 'MWS40', 'MWSN1', 'MWSN2', 'MWSN25', 'MWSN40', 'OW2', 'OWG', 'OWI', 'PB', 'PB2', 'PB2X', 'PL15', 'PL20', 'PL30', 'PP', 'PP2', 'PP2P', 'PP2S', 'PPP', 'PPS', 'PPT', 'PR20', 'PR30', 'PR40', 'PR60', 'RB15', 'RB20', 'RB30', 'RB40', 'RB60', 'RC', 'RCV', 'RJ', 'RJ2', 'RT', 'RTV', 'RX', 'RXV', 'SG10', 'SG5', 'SH', 'SH2', 'SHH', 'SK', 'SK2', 'SK2V', 'SKI40', 'SKI60', 'SKT', 'SKT1', 'SKT10', 'SKT2', 'SKT4', 'SKT6', 'SKV', 'SN1X', 'SN2X', 'SU24', 'SU60', 'SUT', 'TB', 'TB2', 'TB4', 'W&F', 'WP15', 'WP2H', 'WP60', 'WS1', 'WS2', 'WS25', 'WS30', 'WS40', 'WSN1', 'WSN2', 'WSN25', 'WSN40', 'WTF2', 'WTF3', 'YAS', 'YEP', 'YHD']\n"
     ]
    }
   ],
   "source": [
    "print(sorted((prefix_values)))"
   ]
  },
  {
   "cell_type": "code",
   "execution_count": 43,
   "id": "a0be583a",
   "metadata": {},
   "outputs": [
    {
     "data": {
      "text/plain": [
       "197"
      ]
     },
     "execution_count": 43,
     "metadata": {},
     "output_type": "execute_result"
    }
   ],
   "source": [
    "len(prefix_values)"
   ]
  },
  {
   "cell_type": "markdown",
   "id": "dda73443",
   "metadata": {},
   "source": [
    "#### Объединенный список префиксов"
   ]
  },
  {
   "cell_type": "code",
   "execution_count": 44,
   "id": "8aa891cc",
   "metadata": {},
   "outputs": [],
   "source": [
    "all_prefix = list(set(prefix_values).union(set(archive_prefix)))"
   ]
  },
  {
   "cell_type": "code",
   "execution_count": 45,
   "id": "71efa18d",
   "metadata": {},
   "outputs": [],
   "source": [
    "all_prefix.sort()"
   ]
  },
  {
   "cell_type": "code",
   "execution_count": 46,
   "id": "af997af8",
   "metadata": {},
   "outputs": [
    {
     "name": "stdout",
     "output_type": "stream",
     "text": [
      "['2MWP24', '2SU24', '2SU60', '2WP24', 'AB', 'AB4', 'AB4G', 'ABG', 'AC2', 'AC30', 'AC60', 'AT10', 'AT15', 'AT30', 'AT4', 'AT4K', 'AT6', 'AT60', 'AT6K', 'BC1', 'BC2', 'BCR', 'BF180', 'BF40', 'BF90', 'BG', 'BGH', 'BGK', 'BGKH', 'CS20', 'CS30', 'CS40', 'CS60', 'CSR60', 'CW1', 'CW1T', 'CW2', 'CW2T', 'CWH', 'DRC2H', 'DRCH', 'DT230', 'DT240', 'DT260', 'DT30', 'DT32', 'DT40', 'DT42', 'DT60', 'DT62', 'DTM', 'EB1X', 'EB2X', 'EB4X', 'ED3H', 'EDC', 'EF30', 'EF60', 'EFL30', 'EFL60', 'ES130', 'ES160', 'ES230', 'ES260', 'ESG1', 'ESG2', 'ESG4', 'F1', 'F1K', 'F2', 'FD', 'FDK', 'FJ30', 'FM30', 'FM45', 'FM60', 'FMCS30', 'FMCS45', 'FMCS45R', 'FMCS60', 'FMP15', 'FMP30', 'FMS30', 'FMS45', 'FMS60', 'FR', 'FR2', 'FR2,', 'FRK', 'FROG1', 'FROG3', 'FROGM', 'FRT', 'FRTK', 'GC1', 'GC2', 'GR1', 'GR1X1', 'GR2', 'GR2X1', 'GU', 'GU2', 'HB20', 'HB30', 'HB60', 'HY30', 'HY60', 'ICE1', 'ICE2', 'ID', 'KA2', 'KA4', 'KA6', 'KAT', 'KAT2', 'KAT4', 'KR1', 'KR2', 'KR3', 'KR4', 'KR6', 'KS', 'KS2', 'KV1X1', 'KV2X1', 'KVP1X1', 'KVP2X1', 'KVS', 'KW', 'KW2', 'KYT', 'KYT2', 'LB1X', 'LB2X', 'LB4X', 'LL1H', 'LL1HP', 'LL2H', 'LL2HP', 'LL3H', 'MB', 'MB2', 'MB2X', 'MEFL30', 'MEFL60', 'MF20', 'MF30', 'MF60', 'MHB60', 'MHY30', 'MHY60', 'MMF20', 'MMF30', 'MMF60', 'MSKI40', 'MSKI60', 'MSU24', 'MSU60', 'MT', 'MT10', 'MT10B', 'MT2', 'MT2B', 'MT5', 'MT5B', 'MTT', 'MW&F', 'MWP15', 'MWP2H', 'MWP60', 'MWS1', 'MWS2', 'MWS25', 'MWS30', 'MWS40', 'MWSN1', 'MWSN2', 'MWSN25', 'MWSN40', 'OW2', 'OWG', 'OWI', 'P1', 'P1G', 'P1P', 'P2', 'P2G', 'P2P', 'PB', 'PB2', 'PB2X', 'PH', 'PL15', 'PL20', 'PL30', 'PP', 'PP2', 'PP2P', 'PP2S', 'PPP', 'PPS', 'PPT', 'PR20', 'PR30', 'PR40', 'PR60', 'PS', 'RB15', 'RB20', 'RB30', 'RB40', 'RB60', 'RC', 'RCV', 'RJ', 'RJ1X', 'RJ2', 'RJ2X', 'RJXX', 'RS', 'RT', 'RTV', 'RX', 'RXV', 'S', 'S2', 'SC', 'SG10', 'SG5', 'SG7', 'SH', 'SH2', 'SHH', 'SK', 'SK2', 'SK2V', 'SKI20', 'SKI40', 'SKI60', 'SKT', 'SKT1', 'SKT10', 'SKT2', 'SKT4', 'SKT6', 'SKV', 'SN1X', 'SN1X1', 'SN2X', 'SN2X1', 'SP', 'SP2', 'ST', 'SU24', 'SU60', 'SUT', 'TB', 'TB2', 'TB4', 'TR', 'TR1', 'TR1K', 'TR2', 'TR2K', 'TX', 'UC', 'UN', 'UNI', 'VD', 'W&F', 'WP15', 'WP2H', 'WP30', 'WP60', 'WS1', 'WS2', 'WS20', 'WS25', 'WS30', 'WS40', 'WS60', 'WSN1', 'WSN2', 'WSN25', 'WSN40', 'WSN60', 'WTF2', 'WTF3', 'YAS', 'YEP', 'YHD']\n"
     ]
    }
   ],
   "source": [
    "print(all_prefix)"
   ]
  },
  {
   "cell_type": "code",
   "execution_count": 47,
   "id": "00e2650a",
   "metadata": {},
   "outputs": [
    {
     "data": {
      "text/plain": [
       "291"
      ]
     },
     "execution_count": 47,
     "metadata": {},
     "output_type": "execute_result"
    }
   ],
   "source": [
    "len(all_prefix)"
   ]
  },
  {
   "cell_type": "code",
   "execution_count": 48,
   "id": "4551602d",
   "metadata": {},
   "outputs": [],
   "source": [
    "archive_prefix = list(set(archive_prefix) - set(prefix_values))"
   ]
  },
  {
   "cell_type": "code",
   "execution_count": 49,
   "id": "4c68010c",
   "metadata": {},
   "outputs": [],
   "source": [
    "archive_prefix.sort()"
   ]
  },
  {
   "cell_type": "markdown",
   "id": "e78f0b5a",
   "metadata": {},
   "source": [
    "Измененный **archive_prefix**"
   ]
  },
  {
   "cell_type": "code",
   "execution_count": 50,
   "id": "3ba1b7b4",
   "metadata": {},
   "outputs": [
    {
     "name": "stdout",
     "output_type": "stream",
     "text": [
      "['2SU24', '2SU60', 'BC1', 'BC2', 'BCR', 'DT230', 'DT240', 'DT260', 'EF30', 'EF60', 'ES130', 'ES160', 'ES230', 'ES260', 'ESG1', 'ESG2', 'ESG4', 'F1', 'F1K', 'F2', 'FD', 'FDK', 'FJ30', 'FM30', 'FM45', 'FM60', 'FMCS30', 'FMCS45', 'FMCS45R', 'FMCS60', 'FMP15', 'FMP30', 'FMS30', 'FMS45', 'FMS60', 'FR2', 'FROG1', 'FROG3', 'FROGM', 'GR1X1', 'GR2X1', 'HB20', 'ICE1', 'ICE2', 'ID', 'KR1', 'KR2', 'KR3', 'KR4', 'KR6', 'KVS', 'LB1X', 'LB2X', 'LB4X', 'MT10B', 'MT2', 'MT2B', 'MT5B', 'P1', 'P1G', 'P1P', 'P2', 'P2G', 'P2P', 'PH', 'PS', 'RJ1X', 'RJ2X', 'RJXX', 'RS', 'S', 'S2', 'SC', 'SG7', 'SKI20', 'SN1X1', 'SN2X1', 'SP', 'SP2', 'ST', 'TR', 'TR1', 'TR1K', 'TR2', 'TR2K', 'TX', 'UC', 'UN', 'UNI', 'VD', 'WP30', 'WS20', 'WS60', 'WSN60']\n"
     ]
    }
   ],
   "source": [
    "print(archive_prefix)"
   ]
  },
  {
   "cell_type": "code",
   "execution_count": 51,
   "id": "58188dee",
   "metadata": {},
   "outputs": [
    {
     "data": {
      "text/plain": [
       "94"
      ]
     },
     "execution_count": 51,
     "metadata": {},
     "output_type": "execute_result"
    }
   ],
   "source": [
    "len(archive_prefix)"
   ]
  },
  {
   "cell_type": "code",
   "execution_count": 52,
   "id": "d2e515ea",
   "metadata": {
    "scrolled": true
   },
   "outputs": [
    {
     "name": "stdout",
     "output_type": "stream",
     "text": [
      "<class 'pandas.core.frame.DataFrame'>\n",
      "RangeIndex: 8272 entries, 0 to 8271\n",
      "Data columns (total 22 columns):\n",
      " #   Column                         Non-Null Count  Dtype  \n",
      "---  ------                         --------------  -----  \n",
      " 0   ID                             8272 non-null   int64  \n",
      " 1   Этап сделки                    8272 non-null   object \n",
      " 2   Бюджет                         8272 non-null   int64  \n",
      " 3   Дата создания сделки           8272 non-null   object \n",
      " 4   Дата закрытия                  8272 non-null   object \n",
      " 5   DELIVERY_PRICE                 5553 non-null   float64\n",
      " 6   Стоимость доставки             504 non-null    object \n",
      " 7   PRODUCTS                       7351 non-null   object \n",
      " 8   PRICE                          7351 non-null   float64\n",
      " 9   SUBTOTAL                       7307 non-null   float64\n",
      " 10  Выручка от клиента             8061 non-null   object \n",
      " 11  Направление (вид сертификата)  8148 non-null   object \n",
      " 12  Номер сертификата              8272 non-null   object \n",
      " 13  КОРНЕВАЯ СДЕЛКА                159 non-null    object \n",
      " 14  Номер 2-го сертификата         712 non-null    object \n",
      " 15  Номер 3-го сертификата         6 non-null      object \n",
      " 16  Номер 4-го сертификата         2 non-null      object \n",
      " 17  Номер 5-го сертификата         27 non-null     object \n",
      " 18  Сертификат на тренера          112 non-null    object \n",
      " 19  Статус погашения               3257 non-null   object \n",
      " 20  Дата получения услуги          3228 non-null   object \n",
      " 21  Стоимость закупки              2632 non-null   object \n",
      "dtypes: float64(3), int64(2), object(17)\n",
      "memory usage: 1.4+ MB\n"
     ]
    }
   ],
   "source": [
    "df_amo.info()"
   ]
  },
  {
   "cell_type": "code",
   "execution_count": 53,
   "id": "245ed348",
   "metadata": {},
   "outputs": [
    {
     "data": {
      "text/html": [
       "<div>\n",
       "<style scoped>\n",
       "    .dataframe tbody tr th:only-of-type {\n",
       "        vertical-align: middle;\n",
       "    }\n",
       "\n",
       "    .dataframe tbody tr th {\n",
       "        vertical-align: top;\n",
       "    }\n",
       "\n",
       "    .dataframe thead th {\n",
       "        text-align: right;\n",
       "    }\n",
       "</style>\n",
       "<table border=\"1\" class=\"dataframe\">\n",
       "  <thead>\n",
       "    <tr style=\"text-align: right;\">\n",
       "      <th></th>\n",
       "      <th>id</th>\n",
       "      <th>activity_name</th>\n",
       "      <th>value</th>\n",
       "      <th>status</th>\n",
       "      <th>prefix</th>\n",
       "      <th>purchase_price</th>\n",
       "      <th>sale_price</th>\n",
       "    </tr>\n",
       "  </thead>\n",
       "  <tbody>\n",
       "    <tr>\n",
       "      <th>0</th>\n",
       "      <td>1</td>\n",
       "      <td>Вейксёрф и вейкборд</td>\n",
       "      <td>2 часа вейксерфинга или вейкбординга\\nна волне...</td>\n",
       "      <td>on_air</td>\n",
       "      <td>WS2</td>\n",
       "      <td>NaN</td>\n",
       "      <td>22500.0</td>\n",
       "    </tr>\n",
       "    <tr>\n",
       "      <th>1</th>\n",
       "      <td>2</td>\n",
       "      <td>Вейксёрф и вейкборд</td>\n",
       "      <td>1 час вейксерфинга или вейкбординга\\nна волне ...</td>\n",
       "      <td>on_air</td>\n",
       "      <td>WS1</td>\n",
       "      <td>NaN</td>\n",
       "      <td>11000.0</td>\n",
       "    </tr>\n",
       "    <tr>\n",
       "      <th>2</th>\n",
       "      <td>3</td>\n",
       "      <td>Вейксёрф и вейкборд</td>\n",
       "      <td>40 минут вейксерфинга или вейкбординга\\nна вол...</td>\n",
       "      <td>on_air</td>\n",
       "      <td>WS40</td>\n",
       "      <td>NaN</td>\n",
       "      <td>7500.0</td>\n",
       "    </tr>\n",
       "    <tr>\n",
       "      <th>3</th>\n",
       "      <td>4</td>\n",
       "      <td>Вейксёрф и вейкборд</td>\n",
       "      <td>30 минут вейксерфинга или вейкбординга\\nна вол...</td>\n",
       "      <td>on_air</td>\n",
       "      <td>WS30</td>\n",
       "      <td>NaN</td>\n",
       "      <td>5500.0</td>\n",
       "    </tr>\n",
       "    <tr>\n",
       "      <th>4</th>\n",
       "      <td>5</td>\n",
       "      <td>Вейксёрф и вейкборд</td>\n",
       "      <td>25 минут вейксерфинга или вейкбординга\\nна вол...</td>\n",
       "      <td>on_air</td>\n",
       "      <td>WS25</td>\n",
       "      <td>NaN</td>\n",
       "      <td>5000.0</td>\n",
       "    </tr>\n",
       "    <tr>\n",
       "      <th>5</th>\n",
       "      <td>6</td>\n",
       "      <td>Вейксёрф и вейкборд</td>\n",
       "      <td>2 часа вейксерфинга или вейкбординга\\nна любой...</td>\n",
       "      <td>on_air</td>\n",
       "      <td>WSN2</td>\n",
       "      <td>NaN</td>\n",
       "      <td>26500.0</td>\n",
       "    </tr>\n",
       "    <tr>\n",
       "      <th>6</th>\n",
       "      <td>7</td>\n",
       "      <td>Вейксёрф и вейкборд</td>\n",
       "      <td>1 час вейксерфинга или вейкбординга на любой в...</td>\n",
       "      <td>on_air</td>\n",
       "      <td>WSN1</td>\n",
       "      <td>NaN</td>\n",
       "      <td>13500.0</td>\n",
       "    </tr>\n",
       "    <tr>\n",
       "      <th>7</th>\n",
       "      <td>8</td>\n",
       "      <td>Вейксёрф и вейкборд</td>\n",
       "      <td>40 минут вейксерфинга или вейкбординга на любо...</td>\n",
       "      <td>on_air</td>\n",
       "      <td>WSN40</td>\n",
       "      <td>NaN</td>\n",
       "      <td>8500.0</td>\n",
       "    </tr>\n",
       "    <tr>\n",
       "      <th>8</th>\n",
       "      <td>9</td>\n",
       "      <td>Вейксёрф и вейкборд</td>\n",
       "      <td>25 минут вейксерфинга или вейкбординга на любо...</td>\n",
       "      <td>on_air</td>\n",
       "      <td>WSN25</td>\n",
       "      <td>NaN</td>\n",
       "      <td>6000.0</td>\n",
       "    </tr>\n",
       "    <tr>\n",
       "      <th>9</th>\n",
       "      <td>10</td>\n",
       "      <td>Флайборд</td>\n",
       "      <td>1 час полёта на флайборде</td>\n",
       "      <td>on_air</td>\n",
       "      <td>MF60</td>\n",
       "      <td>NaN</td>\n",
       "      <td>12500.0</td>\n",
       "    </tr>\n",
       "  </tbody>\n",
       "</table>\n",
       "</div>"
      ],
      "text/plain": [
       "   id        activity_name                                              value  \\\n",
       "0   1  Вейксёрф и вейкборд  2 часа вейксерфинга или вейкбординга\\nна волне...   \n",
       "1   2  Вейксёрф и вейкборд  1 час вейксерфинга или вейкбординга\\nна волне ...   \n",
       "2   3  Вейксёрф и вейкборд  40 минут вейксерфинга или вейкбординга\\nна вол...   \n",
       "3   4  Вейксёрф и вейкборд  30 минут вейксерфинга или вейкбординга\\nна вол...   \n",
       "4   5  Вейксёрф и вейкборд  25 минут вейксерфинга или вейкбординга\\nна вол...   \n",
       "5   6  Вейксёрф и вейкборд  2 часа вейксерфинга или вейкбординга\\nна любой...   \n",
       "6   7  Вейксёрф и вейкборд  1 час вейксерфинга или вейкбординга на любой в...   \n",
       "7   8  Вейксёрф и вейкборд  40 минут вейксерфинга или вейкбординга на любо...   \n",
       "8   9  Вейксёрф и вейкборд  25 минут вейксерфинга или вейкбординга на любо...   \n",
       "9  10            Флайборд                          1 час полёта на флайборде    \n",
       "\n",
       "   status prefix  purchase_price  sale_price  \n",
       "0  on_air    WS2             NaN     22500.0  \n",
       "1  on_air    WS1             NaN     11000.0  \n",
       "2  on_air   WS40             NaN      7500.0  \n",
       "3  on_air   WS30             NaN      5500.0  \n",
       "4  on_air   WS25             NaN      5000.0  \n",
       "5  on_air   WSN2             NaN     26500.0  \n",
       "6  on_air   WSN1             NaN     13500.0  \n",
       "7  on_air  WSN40             NaN      8500.0  \n",
       "8  on_air  WSN25             NaN      6000.0  \n",
       "9  on_air   MF60             NaN     12500.0  "
      ]
     },
     "execution_count": 53,
     "metadata": {},
     "output_type": "execute_result"
    }
   ],
   "source": [
    "df_values.head(10)"
   ]
  },
  {
   "cell_type": "markdown",
   "id": "ffb3d23a",
   "metadata": {},
   "source": [
    "## Предобработка базы AMO"
   ]
  },
  {
   "cell_type": "markdown",
   "id": "7888143c",
   "metadata": {},
   "source": [
    "### Имена столбцов"
   ]
  },
  {
   "cell_type": "markdown",
   "id": "1df99c8c",
   "metadata": {},
   "source": [
    "Столбцы в нижний регистр и удаление пробелов"
   ]
  },
  {
   "cell_type": "code",
   "execution_count": 54,
   "id": "e4da5578",
   "metadata": {},
   "outputs": [],
   "source": [
    "df_amo.columns = df_amo.columns.str.lower()"
   ]
  },
  {
   "cell_type": "code",
   "execution_count": 55,
   "id": "5255894d",
   "metadata": {},
   "outputs": [],
   "source": [
    "df_amo.columns = df_amo.columns.str.strip()"
   ]
  },
  {
   "cell_type": "code",
   "execution_count": 56,
   "id": "0050f8a7",
   "metadata": {
    "scrolled": false
   },
   "outputs": [
    {
     "name": "stdout",
     "output_type": "stream",
     "text": [
      "<class 'pandas.core.frame.DataFrame'>\n",
      "RangeIndex: 8272 entries, 0 to 8271\n",
      "Data columns (total 22 columns):\n",
      " #   Column                         Non-Null Count  Dtype  \n",
      "---  ------                         --------------  -----  \n",
      " 0   id                             8272 non-null   int64  \n",
      " 1   этап сделки                    8272 non-null   object \n",
      " 2   бюджет                         8272 non-null   int64  \n",
      " 3   дата создания сделки           8272 non-null   object \n",
      " 4   дата закрытия                  8272 non-null   object \n",
      " 5   delivery_price                 5553 non-null   float64\n",
      " 6   стоимость доставки             504 non-null    object \n",
      " 7   products                       7351 non-null   object \n",
      " 8   price                          7351 non-null   float64\n",
      " 9   subtotal                       7307 non-null   float64\n",
      " 10  выручка от клиента             8061 non-null   object \n",
      " 11  направление (вид сертификата)  8148 non-null   object \n",
      " 12  номер сертификата              8272 non-null   object \n",
      " 13  корневая сделка                159 non-null    object \n",
      " 14  номер 2-го сертификата         712 non-null    object \n",
      " 15  номер 3-го сертификата         6 non-null      object \n",
      " 16  номер 4-го сертификата         2 non-null      object \n",
      " 17  номер 5-го сертификата         27 non-null     object \n",
      " 18  сертификат на тренера          112 non-null    object \n",
      " 19  статус погашения               3257 non-null   object \n",
      " 20  дата получения услуги          3228 non-null   object \n",
      " 21  стоимость закупки              2632 non-null   object \n",
      "dtypes: float64(3), int64(2), object(17)\n",
      "memory usage: 1.4+ MB\n"
     ]
    }
   ],
   "source": [
    "df_amo.info()"
   ]
  },
  {
   "cell_type": "markdown",
   "id": "233c5d86",
   "metadata": {},
   "source": [
    "Удаление пробелов и вставка символа \"_\""
   ]
  },
  {
   "cell_type": "code",
   "execution_count": 57,
   "id": "d45227e4",
   "metadata": {},
   "outputs": [],
   "source": [
    "df_amo.columns = df_amo.columns.map(lambda x: re.sub( '(?<!^)(?=[ ])', '_', x ).lower())\n",
    "df_amo.columns = df_amo.columns.map(lambda x: re.sub( ' ', '', x ))"
   ]
  },
  {
   "cell_type": "markdown",
   "id": "0ad4b524",
   "metadata": {},
   "source": [
    "Копирование исходной базы"
   ]
  },
  {
   "cell_type": "code",
   "execution_count": 58,
   "id": "d94a6de8",
   "metadata": {},
   "outputs": [],
   "source": [
    "df_amo_temp = df_amo.copy()"
   ]
  },
  {
   "cell_type": "markdown",
   "id": "74eb2649",
   "metadata": {},
   "source": [
    "Переименование столбцов"
   ]
  },
  {
   "cell_type": "code",
   "execution_count": 59,
   "id": "0cc432c5",
   "metadata": {},
   "outputs": [],
   "source": [
    "df_amo_temp.rename(columns = {'номер_сертификата':'code', 'id':'amo_id','дата_закрытия':'sale_date','дата_получения_услуги':'card_used_date'}, inplace = True )"
   ]
  },
  {
   "cell_type": "code",
   "execution_count": 60,
   "id": "aeddaef5",
   "metadata": {},
   "outputs": [],
   "source": [
    "df_values.rename(columns = {'id':'activity_value_id' }, inplace = True )"
   ]
  },
  {
   "cell_type": "code",
   "execution_count": 61,
   "id": "3a1be0e9",
   "metadata": {},
   "outputs": [],
   "source": [
    "df_amo_temp['code'] = df_amo_temp['code'].str.upper()"
   ]
  },
  {
   "cell_type": "code",
   "execution_count": 62,
   "id": "e5dffa8a",
   "metadata": {},
   "outputs": [],
   "source": [
    "df_amo_temp['номер_2-го_сертификата'] = df_amo_temp['номер_2-го_сертификата'].str.upper()"
   ]
  },
  {
   "cell_type": "code",
   "execution_count": 63,
   "id": "d104cc07",
   "metadata": {},
   "outputs": [],
   "source": [
    "df_amo_temp['номер_3-го_сертификата'] = df_amo_temp['номер_3-го_сертификата'].str.upper()"
   ]
  },
  {
   "cell_type": "code",
   "execution_count": 64,
   "id": "3f0320f3",
   "metadata": {},
   "outputs": [],
   "source": [
    "df_amo_temp['номер_4-го_сертификата'] = df_amo_temp['номер_4-го_сертификата'].str.upper()"
   ]
  },
  {
   "cell_type": "code",
   "execution_count": 65,
   "id": "de709194",
   "metadata": {},
   "outputs": [],
   "source": [
    "df_amo_temp['номер_5-го_сертификата'] = df_amo_temp['номер_5-го_сертификата'].str.upper()"
   ]
  },
  {
   "cell_type": "code",
   "execution_count": 66,
   "id": "edc8a4b4",
   "metadata": {},
   "outputs": [],
   "source": [
    "#df_amo_temp['сертификат_на_фотографа'] = df_amo_temp['сертификат_на_фотографа'].str.upper()"
   ]
  },
  {
   "cell_type": "code",
   "execution_count": 67,
   "id": "84c39530",
   "metadata": {},
   "outputs": [],
   "source": [
    "df_amo_temp['сертификат_на_тренера'] = df_amo_temp['сертификат_на_тренера'].str.upper()"
   ]
  },
  {
   "cell_type": "code",
   "execution_count": 68,
   "id": "e07b5930",
   "metadata": {},
   "outputs": [
    {
     "name": "stderr",
     "output_type": "stream",
     "text": [
      "C:\\Users\\Admin\\AppData\\Local\\Temp\\ipykernel_13220\\1868446354.py:1: UserWarning: Parsing dates in %d.%m.%Y %H:%M:%S format when dayfirst=False (the default) was specified. Pass `dayfirst=True` or specify a format to silence this warning.\n",
      "  df_amo_temp['дата_создания_сделки'] = pd.to_datetime(df_amo_temp['дата_создания_сделки'] )\n"
     ]
    }
   ],
   "source": [
    "df_amo_temp['дата_создания_сделки'] = pd.to_datetime(df_amo_temp['дата_создания_сделки'] )"
   ]
  },
  {
   "cell_type": "code",
   "execution_count": 69,
   "id": "14efc0c9",
   "metadata": {},
   "outputs": [
    {
     "name": "stderr",
     "output_type": "stream",
     "text": [
      "C:\\Users\\Admin\\AppData\\Local\\Temp\\ipykernel_13220\\3706027285.py:1: UserWarning: Parsing dates in %d.%m.%Y %H:%M:%S format when dayfirst=False (the default) was specified. Pass `dayfirst=True` or specify a format to silence this warning.\n",
      "  df_amo_temp['sale_date'] = pd.to_datetime(df_amo_temp['sale_date'])\n"
     ]
    }
   ],
   "source": [
    "df_amo_temp['sale_date'] = pd.to_datetime(df_amo_temp['sale_date'])"
   ]
  },
  {
   "cell_type": "code",
   "execution_count": 70,
   "id": "54a50a26",
   "metadata": {},
   "outputs": [],
   "source": [
    "df_amo_temp['card_used_date'] = pd.to_datetime(df_amo_temp['card_used_date'],errors='coerce')"
   ]
  },
  {
   "cell_type": "code",
   "execution_count": 71,
   "id": "b0389fc5",
   "metadata": {},
   "outputs": [],
   "source": [
    "df_amo_temp = df_amo_temp.sort_values(by=[\"дата_создания_сделки\"], ascending=True)"
   ]
  },
  {
   "cell_type": "code",
   "execution_count": 72,
   "id": "01ad1d76",
   "metadata": {},
   "outputs": [],
   "source": [
    "#df_amo_temp['supplier_payment_date'] = df_amo_temp['card_used_date']"
   ]
  },
  {
   "cell_type": "code",
   "execution_count": 73,
   "id": "8486710b",
   "metadata": {},
   "outputs": [],
   "source": [
    "df_amo_temp = df_amo_temp.reset_index(drop=True)"
   ]
  },
  {
   "cell_type": "code",
   "execution_count": 74,
   "id": "bf798971",
   "metadata": {},
   "outputs": [
    {
     "name": "stdout",
     "output_type": "stream",
     "text": [
      "<class 'pandas.core.frame.DataFrame'>\n",
      "RangeIndex: 8272 entries, 0 to 8271\n",
      "Data columns (total 22 columns):\n",
      " #   Column                         Non-Null Count  Dtype         \n",
      "---  ------                         --------------  -----         \n",
      " 0   amo_id                         8272 non-null   int64         \n",
      " 1   этап_сделки                    8272 non-null   object        \n",
      " 2   бюджет                         8272 non-null   int64         \n",
      " 3   дата_создания_сделки           8272 non-null   datetime64[ns]\n",
      " 4   sale_date                      8272 non-null   datetime64[ns]\n",
      " 5   delivery_price                 5553 non-null   float64       \n",
      " 6   стоимость_доставки             504 non-null    object        \n",
      " 7   products                       7351 non-null   object        \n",
      " 8   price                          7351 non-null   float64       \n",
      " 9   subtotal                       7307 non-null   float64       \n",
      " 10  выручка_от_клиента             8061 non-null   object        \n",
      " 11  направление_(вид_сертификата)  8148 non-null   object        \n",
      " 12  code                           8272 non-null   object        \n",
      " 13  корневая_сделка                159 non-null    object        \n",
      " 14  номер_2-го_сертификата         712 non-null    object        \n",
      " 15  номер_3-го_сертификата         6 non-null      object        \n",
      " 16  номер_4-го_сертификата         2 non-null      object        \n",
      " 17  номер_5-го_сертификата         27 non-null     object        \n",
      " 18  сертификат_на_тренера          112 non-null    object        \n",
      " 19  статус_погашения               3257 non-null   object        \n",
      " 20  card_used_date                 1360 non-null   datetime64[ns]\n",
      " 21  стоимость_закупки              2632 non-null   object        \n",
      "dtypes: datetime64[ns](3), float64(3), int64(2), object(14)\n",
      "memory usage: 1.4+ MB\n"
     ]
    }
   ],
   "source": [
    "df_amo_temp.info()"
   ]
  },
  {
   "cell_type": "code",
   "execution_count": 75,
   "id": "b411f7c4",
   "metadata": {},
   "outputs": [
    {
     "data": {
      "text/html": [
       "<div>\n",
       "<style scoped>\n",
       "    .dataframe tbody tr th:only-of-type {\n",
       "        vertical-align: middle;\n",
       "    }\n",
       "\n",
       "    .dataframe tbody tr th {\n",
       "        vertical-align: top;\n",
       "    }\n",
       "\n",
       "    .dataframe thead th {\n",
       "        text-align: right;\n",
       "    }\n",
       "</style>\n",
       "<table border=\"1\" class=\"dataframe\">\n",
       "  <thead>\n",
       "    <tr style=\"text-align: right;\">\n",
       "      <th></th>\n",
       "      <th>amo_id</th>\n",
       "      <th>этап_сделки</th>\n",
       "      <th>бюджет</th>\n",
       "      <th>дата_создания_сделки</th>\n",
       "      <th>sale_date</th>\n",
       "      <th>delivery_price</th>\n",
       "      <th>стоимость_доставки</th>\n",
       "      <th>products</th>\n",
       "      <th>price</th>\n",
       "      <th>subtotal</th>\n",
       "      <th>выручка_от_клиента</th>\n",
       "      <th>направление_(вид_сертификата)</th>\n",
       "      <th>code</th>\n",
       "      <th>корневая_сделка</th>\n",
       "      <th>номер_2-го_сертификата</th>\n",
       "      <th>номер_3-го_сертификата</th>\n",
       "      <th>номер_4-го_сертификата</th>\n",
       "      <th>номер_5-го_сертификата</th>\n",
       "      <th>сертификат_на_тренера</th>\n",
       "      <th>статус_погашения</th>\n",
       "      <th>card_used_date</th>\n",
       "      <th>стоимость_закупки</th>\n",
       "    </tr>\n",
       "  </thead>\n",
       "  <tbody>\n",
       "    <tr>\n",
       "      <th>0</th>\n",
       "      <td>660235</td>\n",
       "      <td>Успешно реализовано</td>\n",
       "      <td>3290</td>\n",
       "      <td>2020-03-02 14:59:05</td>\n",
       "      <td>2020-07-10 10:39:00</td>\n",
       "      <td>NaN</td>\n",
       "      <td>436</td>\n",
       "      <td>Подарочный сертификатна Квадроциклы (Выберите ...</td>\n",
       "      <td>3290.0</td>\n",
       "      <td>3000.0</td>\n",
       "      <td>NaN</td>\n",
       "      <td>Квадроциклы</td>\n",
       "      <td>KVP1X1 011132</td>\n",
       "      <td>NaN</td>\n",
       "      <td>NaN</td>\n",
       "      <td>NaN</td>\n",
       "      <td>NaN</td>\n",
       "      <td>NaN</td>\n",
       "      <td>NaN</td>\n",
       "      <td>NaN</td>\n",
       "      <td>NaT</td>\n",
       "      <td>NaN</td>\n",
       "    </tr>\n",
       "    <tr>\n",
       "      <th>1</th>\n",
       "      <td>667573</td>\n",
       "      <td>Успешно реализовано</td>\n",
       "      <td>2600</td>\n",
       "      <td>2020-03-02 15:39:28</td>\n",
       "      <td>2020-07-10 10:40:00</td>\n",
       "      <td>NaN</td>\n",
       "      <td>NaN</td>\n",
       "      <td>Подарочный сертификатна Флайборд (Выберите тип...</td>\n",
       "      <td>2600.0</td>\n",
       "      <td>2600.0</td>\n",
       "      <td>NaN</td>\n",
       "      <td>Флайборд / Ховерборд / Ранец</td>\n",
       "      <td>MF268600</td>\n",
       "      <td>NaN</td>\n",
       "      <td>NaN</td>\n",
       "      <td>NaN</td>\n",
       "      <td>NaN</td>\n",
       "      <td>NaN</td>\n",
       "      <td>NaN</td>\n",
       "      <td>Погашен</td>\n",
       "      <td>2020-01-07</td>\n",
       "      <td>NaN</td>\n",
       "    </tr>\n",
       "    <tr>\n",
       "      <th>2</th>\n",
       "      <td>929417</td>\n",
       "      <td>Успешно реализовано</td>\n",
       "      <td>3040</td>\n",
       "      <td>2020-03-04 12:51:10</td>\n",
       "      <td>2020-07-10 18:34:00</td>\n",
       "      <td>NaN</td>\n",
       "      <td>NaN</td>\n",
       "      <td>NaN</td>\n",
       "      <td>NaN</td>\n",
       "      <td>NaN</td>\n",
       "      <td>NaN</td>\n",
       "      <td>NaN</td>\n",
       "      <td>GR89289</td>\n",
       "      <td>NaN</td>\n",
       "      <td>NaN</td>\n",
       "      <td>NaN</td>\n",
       "      <td>NaN</td>\n",
       "      <td>NaN</td>\n",
       "      <td>NaN</td>\n",
       "      <td>NaN</td>\n",
       "      <td>NaT</td>\n",
       "      <td>NaN</td>\n",
       "    </tr>\n",
       "    <tr>\n",
       "      <th>3</th>\n",
       "      <td>929931</td>\n",
       "      <td>Успешно реализовано</td>\n",
       "      <td>7200</td>\n",
       "      <td>2020-03-04 13:06:52</td>\n",
       "      <td>2020-07-10 18:34:00</td>\n",
       "      <td>NaN</td>\n",
       "      <td>NaN</td>\n",
       "      <td>NaN</td>\n",
       "      <td>NaN</td>\n",
       "      <td>NaN</td>\n",
       "      <td>NaN</td>\n",
       "      <td>Вейксёрф и вейк за катером</td>\n",
       "      <td>VWS691844</td>\n",
       "      <td>NaN</td>\n",
       "      <td>NaN</td>\n",
       "      <td>NaN</td>\n",
       "      <td>NaN</td>\n",
       "      <td>NaN</td>\n",
       "      <td>NaN</td>\n",
       "      <td>NaN</td>\n",
       "      <td>NaT</td>\n",
       "      <td>NaN</td>\n",
       "    </tr>\n",
       "    <tr>\n",
       "      <th>4</th>\n",
       "      <td>938619</td>\n",
       "      <td>Успешно реализовано</td>\n",
       "      <td>6000</td>\n",
       "      <td>2020-03-04 14:22:26</td>\n",
       "      <td>2020-03-08 05:06:00</td>\n",
       "      <td>NaN</td>\n",
       "      <td>NaN</td>\n",
       "      <td>Подарочный сертификатна Квадроциклы (Выберите ...</td>\n",
       "      <td>6000.0</td>\n",
       "      <td>6000.0</td>\n",
       "      <td>NaN</td>\n",
       "      <td>Квадроциклы</td>\n",
       "      <td>KVP2X1 066834</td>\n",
       "      <td>NaN</td>\n",
       "      <td>NaN</td>\n",
       "      <td>NaN</td>\n",
       "      <td>NaN</td>\n",
       "      <td>NaN</td>\n",
       "      <td>NaN</td>\n",
       "      <td>NaN</td>\n",
       "      <td>NaT</td>\n",
       "      <td>NaN</td>\n",
       "    </tr>\n",
       "  </tbody>\n",
       "</table>\n",
       "</div>"
      ],
      "text/plain": [
       "   amo_id          этап_сделки  бюджет дата_создания_сделки  \\\n",
       "0  660235  Успешно реализовано    3290  2020-03-02 14:59:05   \n",
       "1  667573  Успешно реализовано    2600  2020-03-02 15:39:28   \n",
       "2  929417  Успешно реализовано    3040  2020-03-04 12:51:10   \n",
       "3  929931  Успешно реализовано    7200  2020-03-04 13:06:52   \n",
       "4  938619  Успешно реализовано    6000  2020-03-04 14:22:26   \n",
       "\n",
       "            sale_date  delivery_price стоимость_доставки  \\\n",
       "0 2020-07-10 10:39:00             NaN                436   \n",
       "1 2020-07-10 10:40:00             NaN                NaN   \n",
       "2 2020-07-10 18:34:00             NaN                NaN   \n",
       "3 2020-07-10 18:34:00             NaN                NaN   \n",
       "4 2020-03-08 05:06:00             NaN                NaN   \n",
       "\n",
       "                                            products   price  subtotal  \\\n",
       "0  Подарочный сертификатна Квадроциклы (Выберите ...  3290.0    3000.0   \n",
       "1  Подарочный сертификатна Флайборд (Выберите тип...  2600.0    2600.0   \n",
       "2                                                NaN     NaN       NaN   \n",
       "3                                                NaN     NaN       NaN   \n",
       "4  Подарочный сертификатна Квадроциклы (Выберите ...  6000.0    6000.0   \n",
       "\n",
       "  выручка_от_клиента направление_(вид_сертификата)           code  \\\n",
       "0                NaN                   Квадроциклы  KVP1X1 011132   \n",
       "1                NaN  Флайборд / Ховерборд / Ранец       MF268600   \n",
       "2                NaN                           NaN        GR89289   \n",
       "3                NaN    Вейксёрф и вейк за катером      VWS691844   \n",
       "4                NaN                   Квадроциклы  KVP2X1 066834   \n",
       "\n",
       "  корневая_сделка номер_2-го_сертификата номер_3-го_сертификата  \\\n",
       "0             NaN                    NaN                    NaN   \n",
       "1             NaN                    NaN                    NaN   \n",
       "2             NaN                    NaN                    NaN   \n",
       "3             NaN                    NaN                    NaN   \n",
       "4             NaN                    NaN                    NaN   \n",
       "\n",
       "  номер_4-го_сертификата номер_5-го_сертификата сертификат_на_тренера  \\\n",
       "0                    NaN                    NaN                   NaN   \n",
       "1                    NaN                    NaN                   NaN   \n",
       "2                    NaN                    NaN                   NaN   \n",
       "3                    NaN                    NaN                   NaN   \n",
       "4                    NaN                    NaN                   NaN   \n",
       "\n",
       "  статус_погашения card_used_date стоимость_закупки  \n",
       "0              NaN            NaT               NaN  \n",
       "1          Погашен     2020-01-07               NaN  \n",
       "2              NaN            NaT               NaN  \n",
       "3              NaN            NaT               NaN  \n",
       "4              NaN            NaT               NaN  "
      ]
     },
     "execution_count": 75,
     "metadata": {},
     "output_type": "execute_result"
    }
   ],
   "source": [
    "df_amo_temp.head()"
   ]
  },
  {
   "cell_type": "markdown",
   "id": "e3a755f1",
   "metadata": {},
   "source": [
    "Определение разделителей в поле **code**"
   ]
  },
  {
   "cell_type": "code",
   "execution_count": 76,
   "id": "05aa3af1",
   "metadata": {},
   "outputs": [],
   "source": [
    "cc = df_amo_temp['code'].unique()"
   ]
  },
  {
   "cell_type": "code",
   "execution_count": 77,
   "id": "4bc082d3",
   "metadata": {},
   "outputs": [],
   "source": [
    "set_cc = set()"
   ]
  },
  {
   "cell_type": "code",
   "execution_count": 78,
   "id": "462b3837",
   "metadata": {},
   "outputs": [],
   "source": [
    "for el in cc:\n",
    "    set_cc.update(el)"
   ]
  },
  {
   "cell_type": "code",
   "execution_count": 79,
   "id": "62878f58",
   "metadata": {},
   "outputs": [
    {
     "name": "stdout",
     "output_type": "stream",
     "text": [
      "{'0', '7', 'U', 'И', 'A', '6', 'B', 'М', ' ', '2', 'T', 'S', '_', 'G', 'H', 'С', 'N', 'V', 'R', '8', '\\xa0', 'Y', 'L', '5', 'Б', 'О', 'Р', 'C', 'Ы', '-', ')', 'Х', '(', 'I', 'P', 'K', 'Л', 'А', '9', '3', 'Т', 'X', '&', '?', 'Е', 'F', 'M', 'Н', 'К', 'E', '1', 'W', 'J', 'В', 'D', '4'}\n"
     ]
    }
   ],
   "source": [
    "print(set_cc)"
   ]
  },
  {
   "cell_type": "markdown",
   "id": "cfee7bdb",
   "metadata": {},
   "source": [
    "В качестве разделителей используются символы ' ', '_', '\\xa0' и их комбинации"
   ]
  },
  {
   "cell_type": "markdown",
   "id": "5f5d8683",
   "metadata": {},
   "source": [
    "В значениях поля code имеются символы кириллицы"
   ]
  },
  {
   "cell_type": "markdown",
   "id": "90e5b857",
   "metadata": {},
   "source": [
    "Замена кириллицы на латинские символы"
   ]
  },
  {
   "cell_type": "code",
   "execution_count": 80,
   "id": "c3859756",
   "metadata": {},
   "outputs": [],
   "source": [
    "#df_amo_temp['code'] = df_amo_temp.apply(replace_cirillic_latin,axis=1)\n",
    "df_amo_temp['code'] = df_amo_temp.apply(lambda x: replace_cirillic_latin(x['code']),axis=1)"
   ]
  },
  {
   "cell_type": "code",
   "execution_count": 81,
   "id": "d3569de4",
   "metadata": {},
   "outputs": [],
   "source": [
    "#df_amo_temp['номер_2-го_сертификата'] = df_amo_temp.apply(lambda x: replace_cirillic_latin(x['номер_2-го_сертификата']),axis=1)"
   ]
  },
  {
   "cell_type": "code",
   "execution_count": 82,
   "id": "98e83ab9",
   "metadata": {},
   "outputs": [],
   "source": [
    "#df_amo_temp['номер_3-го_сертификата'] = df_amo_temp.apply(lambda x: replace_cirillic_latin(x['номер_3-го_сертификата']),axis=1)"
   ]
  },
  {
   "cell_type": "code",
   "execution_count": 83,
   "id": "b5ed135b",
   "metadata": {},
   "outputs": [],
   "source": [
    "#df_amo_temp['номер_4-го_сертификата'] = df_amo_temp.apply(lambda x: replace_cirillic_latin(x['номер_4-го_сертификата']),axis=1)"
   ]
  },
  {
   "cell_type": "code",
   "execution_count": 84,
   "id": "74937d86",
   "metadata": {},
   "outputs": [],
   "source": [
    "#df_amo_temp['номер_5-го_сертификата'] = df_amo_temp.apply(lambda x: replace_cirillic_latin(x['номер_5-го_сертификата']),axis=1)"
   ]
  },
  {
   "cell_type": "code",
   "execution_count": null,
   "id": "0d3711f9",
   "metadata": {},
   "outputs": [],
   "source": []
  },
  {
   "cell_type": "markdown",
   "id": "13535cd8",
   "metadata": {},
   "source": [
    "Замена всех возможных разделителей на '_'"
   ]
  },
  {
   "cell_type": "code",
   "execution_count": 85,
   "id": "853079a8",
   "metadata": {
    "scrolled": true
   },
   "outputs": [],
   "source": [
    "#df_amo_temp['code'] = df_amo_temp['code'].str.replace('[^_ \\xa0]+([ _\\xa0]+)\\d+','_',regex=True)\n",
    "df_amo_temp.replace(r'([ _\\xa0]+)',r'_',regex=True,inplace=True)"
   ]
  },
  {
   "cell_type": "code",
   "execution_count": 86,
   "id": "b7e82afc",
   "metadata": {},
   "outputs": [
    {
     "data": {
      "text/html": [
       "<div>\n",
       "<style scoped>\n",
       "    .dataframe tbody tr th:only-of-type {\n",
       "        vertical-align: middle;\n",
       "    }\n",
       "\n",
       "    .dataframe tbody tr th {\n",
       "        vertical-align: top;\n",
       "    }\n",
       "\n",
       "    .dataframe thead th {\n",
       "        text-align: right;\n",
       "    }\n",
       "</style>\n",
       "<table border=\"1\" class=\"dataframe\">\n",
       "  <thead>\n",
       "    <tr style=\"text-align: right;\">\n",
       "      <th></th>\n",
       "      <th>amo_id</th>\n",
       "      <th>этап_сделки</th>\n",
       "      <th>бюджет</th>\n",
       "      <th>дата_создания_сделки</th>\n",
       "      <th>sale_date</th>\n",
       "      <th>delivery_price</th>\n",
       "      <th>стоимость_доставки</th>\n",
       "      <th>products</th>\n",
       "      <th>price</th>\n",
       "      <th>subtotal</th>\n",
       "      <th>выручка_от_клиента</th>\n",
       "      <th>направление_(вид_сертификата)</th>\n",
       "      <th>code</th>\n",
       "      <th>корневая_сделка</th>\n",
       "      <th>номер_2-го_сертификата</th>\n",
       "      <th>номер_3-го_сертификата</th>\n",
       "      <th>номер_4-го_сертификата</th>\n",
       "      <th>номер_5-го_сертификата</th>\n",
       "      <th>сертификат_на_тренера</th>\n",
       "      <th>статус_погашения</th>\n",
       "      <th>card_used_date</th>\n",
       "      <th>стоимость_закупки</th>\n",
       "    </tr>\n",
       "  </thead>\n",
       "  <tbody>\n",
       "    <tr>\n",
       "      <th>0</th>\n",
       "      <td>660235</td>\n",
       "      <td>Успешно_реализовано</td>\n",
       "      <td>3290</td>\n",
       "      <td>2020-03-02 14:59:05</td>\n",
       "      <td>2020-07-10 10:39:00</td>\n",
       "      <td>NaN</td>\n",
       "      <td>436</td>\n",
       "      <td>Подарочный_сертификатна_Квадроциклы_(Выберите_...</td>\n",
       "      <td>3290.0</td>\n",
       "      <td>3000.0</td>\n",
       "      <td>NaN</td>\n",
       "      <td>Квадроциклы</td>\n",
       "      <td>KVP1X1_011132</td>\n",
       "      <td>NaN</td>\n",
       "      <td>NaN</td>\n",
       "      <td>NaN</td>\n",
       "      <td>NaN</td>\n",
       "      <td>NaN</td>\n",
       "      <td>NaN</td>\n",
       "      <td>NaN</td>\n",
       "      <td>NaT</td>\n",
       "      <td>NaN</td>\n",
       "    </tr>\n",
       "    <tr>\n",
       "      <th>1</th>\n",
       "      <td>667573</td>\n",
       "      <td>Успешно_реализовано</td>\n",
       "      <td>2600</td>\n",
       "      <td>2020-03-02 15:39:28</td>\n",
       "      <td>2020-07-10 10:40:00</td>\n",
       "      <td>NaN</td>\n",
       "      <td>NaN</td>\n",
       "      <td>Подарочный_сертификатна_Флайборд_(Выберите_тип...</td>\n",
       "      <td>2600.0</td>\n",
       "      <td>2600.0</td>\n",
       "      <td>NaN</td>\n",
       "      <td>Флайборд_/_Ховерборд_/_Ранец</td>\n",
       "      <td>MF268600</td>\n",
       "      <td>NaN</td>\n",
       "      <td>NaN</td>\n",
       "      <td>NaN</td>\n",
       "      <td>NaN</td>\n",
       "      <td>NaN</td>\n",
       "      <td>NaN</td>\n",
       "      <td>Погашен</td>\n",
       "      <td>2020-01-07</td>\n",
       "      <td>NaN</td>\n",
       "    </tr>\n",
       "    <tr>\n",
       "      <th>2</th>\n",
       "      <td>929417</td>\n",
       "      <td>Успешно_реализовано</td>\n",
       "      <td>3040</td>\n",
       "      <td>2020-03-04 12:51:10</td>\n",
       "      <td>2020-07-10 18:34:00</td>\n",
       "      <td>NaN</td>\n",
       "      <td>NaN</td>\n",
       "      <td>NaN</td>\n",
       "      <td>NaN</td>\n",
       "      <td>NaN</td>\n",
       "      <td>NaN</td>\n",
       "      <td>NaN</td>\n",
       "      <td>GR89289</td>\n",
       "      <td>NaN</td>\n",
       "      <td>NaN</td>\n",
       "      <td>NaN</td>\n",
       "      <td>NaN</td>\n",
       "      <td>NaN</td>\n",
       "      <td>NaN</td>\n",
       "      <td>NaN</td>\n",
       "      <td>NaT</td>\n",
       "      <td>NaN</td>\n",
       "    </tr>\n",
       "    <tr>\n",
       "      <th>3</th>\n",
       "      <td>929931</td>\n",
       "      <td>Успешно_реализовано</td>\n",
       "      <td>7200</td>\n",
       "      <td>2020-03-04 13:06:52</td>\n",
       "      <td>2020-07-10 18:34:00</td>\n",
       "      <td>NaN</td>\n",
       "      <td>NaN</td>\n",
       "      <td>NaN</td>\n",
       "      <td>NaN</td>\n",
       "      <td>NaN</td>\n",
       "      <td>NaN</td>\n",
       "      <td>Вейксёрф_и_вейк_за_катером</td>\n",
       "      <td>VWS691844</td>\n",
       "      <td>NaN</td>\n",
       "      <td>NaN</td>\n",
       "      <td>NaN</td>\n",
       "      <td>NaN</td>\n",
       "      <td>NaN</td>\n",
       "      <td>NaN</td>\n",
       "      <td>NaN</td>\n",
       "      <td>NaT</td>\n",
       "      <td>NaN</td>\n",
       "    </tr>\n",
       "    <tr>\n",
       "      <th>4</th>\n",
       "      <td>938619</td>\n",
       "      <td>Успешно_реализовано</td>\n",
       "      <td>6000</td>\n",
       "      <td>2020-03-04 14:22:26</td>\n",
       "      <td>2020-03-08 05:06:00</td>\n",
       "      <td>NaN</td>\n",
       "      <td>NaN</td>\n",
       "      <td>Подарочный_сертификатна_Квадроциклы_(Выберите_...</td>\n",
       "      <td>6000.0</td>\n",
       "      <td>6000.0</td>\n",
       "      <td>NaN</td>\n",
       "      <td>Квадроциклы</td>\n",
       "      <td>KVP2X1_066834</td>\n",
       "      <td>NaN</td>\n",
       "      <td>NaN</td>\n",
       "      <td>NaN</td>\n",
       "      <td>NaN</td>\n",
       "      <td>NaN</td>\n",
       "      <td>NaN</td>\n",
       "      <td>NaN</td>\n",
       "      <td>NaT</td>\n",
       "      <td>NaN</td>\n",
       "    </tr>\n",
       "    <tr>\n",
       "      <th>...</th>\n",
       "      <td>...</td>\n",
       "      <td>...</td>\n",
       "      <td>...</td>\n",
       "      <td>...</td>\n",
       "      <td>...</td>\n",
       "      <td>...</td>\n",
       "      <td>...</td>\n",
       "      <td>...</td>\n",
       "      <td>...</td>\n",
       "      <td>...</td>\n",
       "      <td>...</td>\n",
       "      <td>...</td>\n",
       "      <td>...</td>\n",
       "      <td>...</td>\n",
       "      <td>...</td>\n",
       "      <td>...</td>\n",
       "      <td>...</td>\n",
       "      <td>...</td>\n",
       "      <td>...</td>\n",
       "      <td>...</td>\n",
       "      <td>...</td>\n",
       "      <td>...</td>\n",
       "    </tr>\n",
       "    <tr>\n",
       "      <th>95</th>\n",
       "      <td>8142557</td>\n",
       "      <td>Успешно_реализовано</td>\n",
       "      <td>12345</td>\n",
       "      <td>2020-06-11 11:52:11</td>\n",
       "      <td>2020-06-12 13:11:00</td>\n",
       "      <td>NaN</td>\n",
       "      <td>NaN</td>\n",
       "      <td>NaN</td>\n",
       "      <td>NaN</td>\n",
       "      <td>NaN</td>\n",
       "      <td>12345</td>\n",
       "      <td>Универсальный_Мосвейк_12345</td>\n",
       "      <td>M99596</td>\n",
       "      <td>NaN</td>\n",
       "      <td>NaN</td>\n",
       "      <td>NaN</td>\n",
       "      <td>NaN</td>\n",
       "      <td>NaN</td>\n",
       "      <td>NaN</td>\n",
       "      <td>NaN</td>\n",
       "      <td>NaT</td>\n",
       "      <td>NaN</td>\n",
       "    </tr>\n",
       "    <tr>\n",
       "      <th>96</th>\n",
       "      <td>8142939</td>\n",
       "      <td>Успешно_реализовано</td>\n",
       "      <td>4000</td>\n",
       "      <td>2020-06-11 12:01:57</td>\n",
       "      <td>2020-06-11 20:22:00</td>\n",
       "      <td>NaN</td>\n",
       "      <td>333</td>\n",
       "      <td>NaN</td>\n",
       "      <td>NaN</td>\n",
       "      <td>NaN</td>\n",
       "      <td>4000</td>\n",
       "      <td>Вейксёрф_и_вейк_за_катером</td>\n",
       "      <td>WS30_066782</td>\n",
       "      <td>NaN</td>\n",
       "      <td>NaN</td>\n",
       "      <td>NaN</td>\n",
       "      <td>NaN</td>\n",
       "      <td>NaN</td>\n",
       "      <td>NaN</td>\n",
       "      <td>NaN</td>\n",
       "      <td>NaT</td>\n",
       "      <td>NaN</td>\n",
       "    </tr>\n",
       "    <tr>\n",
       "      <th>97</th>\n",
       "      <td>8144187</td>\n",
       "      <td>Успешно_реализовано</td>\n",
       "      <td>5200</td>\n",
       "      <td>2020-06-11 12:27:42</td>\n",
       "      <td>2020-06-11 20:21:00</td>\n",
       "      <td>NaN</td>\n",
       "      <td>352</td>\n",
       "      <td>NaN</td>\n",
       "      <td>NaN</td>\n",
       "      <td>NaN</td>\n",
       "      <td>5200</td>\n",
       "      <td>Вейксёрф_и_вейк_за_катером</td>\n",
       "      <td>WS427033</td>\n",
       "      <td>NaN</td>\n",
       "      <td>NaN</td>\n",
       "      <td>NaN</td>\n",
       "      <td>NaN</td>\n",
       "      <td>NaN</td>\n",
       "      <td>NaN</td>\n",
       "      <td>Погашен</td>\n",
       "      <td>NaT</td>\n",
       "      <td>NaN</td>\n",
       "    </tr>\n",
       "    <tr>\n",
       "      <th>98</th>\n",
       "      <td>8189973</td>\n",
       "      <td>Успешно_реализовано</td>\n",
       "      <td>3950</td>\n",
       "      <td>2020-06-12 19:11:42</td>\n",
       "      <td>2020-07-10 18:05:00</td>\n",
       "      <td>NaN</td>\n",
       "      <td>NaN</td>\n",
       "      <td>NaN</td>\n",
       "      <td>NaN</td>\n",
       "      <td>NaN</td>\n",
       "      <td>3950</td>\n",
       "      <td>Вейксёрф_и_вейк_за_катером</td>\n",
       "      <td>WS375785</td>\n",
       "      <td>NaN</td>\n",
       "      <td>NaN</td>\n",
       "      <td>NaN</td>\n",
       "      <td>NaN</td>\n",
       "      <td>NaN</td>\n",
       "      <td>NaN</td>\n",
       "      <td>NaN</td>\n",
       "      <td>NaT</td>\n",
       "      <td>NaN</td>\n",
       "    </tr>\n",
       "    <tr>\n",
       "      <th>99</th>\n",
       "      <td>8193719</td>\n",
       "      <td>Успешно_реализовано</td>\n",
       "      <td>12745</td>\n",
       "      <td>2020-06-12 23:20:14</td>\n",
       "      <td>2020-06-15 11:13:00</td>\n",
       "      <td>NaN</td>\n",
       "      <td>251</td>\n",
       "      <td>NaN</td>\n",
       "      <td>NaN</td>\n",
       "      <td>NaN</td>\n",
       "      <td>12745</td>\n",
       "      <td>Универсальный_Мосвейк_12345</td>\n",
       "      <td>W76920</td>\n",
       "      <td>NaN</td>\n",
       "      <td>NaN</td>\n",
       "      <td>NaN</td>\n",
       "      <td>NaN</td>\n",
       "      <td>NaN</td>\n",
       "      <td>NaN</td>\n",
       "      <td>Погашен</td>\n",
       "      <td>NaT</td>\n",
       "      <td>NaN</td>\n",
       "    </tr>\n",
       "  </tbody>\n",
       "</table>\n",
       "<p>100 rows × 22 columns</p>\n",
       "</div>"
      ],
      "text/plain": [
       "     amo_id          этап_сделки  бюджет дата_создания_сделки  \\\n",
       "0    660235  Успешно_реализовано    3290  2020-03-02 14:59:05   \n",
       "1    667573  Успешно_реализовано    2600  2020-03-02 15:39:28   \n",
       "2    929417  Успешно_реализовано    3040  2020-03-04 12:51:10   \n",
       "3    929931  Успешно_реализовано    7200  2020-03-04 13:06:52   \n",
       "4    938619  Успешно_реализовано    6000  2020-03-04 14:22:26   \n",
       "..      ...                  ...     ...                  ...   \n",
       "95  8142557  Успешно_реализовано   12345  2020-06-11 11:52:11   \n",
       "96  8142939  Успешно_реализовано    4000  2020-06-11 12:01:57   \n",
       "97  8144187  Успешно_реализовано    5200  2020-06-11 12:27:42   \n",
       "98  8189973  Успешно_реализовано    3950  2020-06-12 19:11:42   \n",
       "99  8193719  Успешно_реализовано   12745  2020-06-12 23:20:14   \n",
       "\n",
       "             sale_date  delivery_price стоимость_доставки  \\\n",
       "0  2020-07-10 10:39:00             NaN                436   \n",
       "1  2020-07-10 10:40:00             NaN                NaN   \n",
       "2  2020-07-10 18:34:00             NaN                NaN   \n",
       "3  2020-07-10 18:34:00             NaN                NaN   \n",
       "4  2020-03-08 05:06:00             NaN                NaN   \n",
       "..                 ...             ...                ...   \n",
       "95 2020-06-12 13:11:00             NaN                NaN   \n",
       "96 2020-06-11 20:22:00             NaN                333   \n",
       "97 2020-06-11 20:21:00             NaN                352   \n",
       "98 2020-07-10 18:05:00             NaN                NaN   \n",
       "99 2020-06-15 11:13:00             NaN                251   \n",
       "\n",
       "                                             products   price  subtotal  \\\n",
       "0   Подарочный_сертификатна_Квадроциклы_(Выберите_...  3290.0    3000.0   \n",
       "1   Подарочный_сертификатна_Флайборд_(Выберите_тип...  2600.0    2600.0   \n",
       "2                                                 NaN     NaN       NaN   \n",
       "3                                                 NaN     NaN       NaN   \n",
       "4   Подарочный_сертификатна_Квадроциклы_(Выберите_...  6000.0    6000.0   \n",
       "..                                                ...     ...       ...   \n",
       "95                                                NaN     NaN       NaN   \n",
       "96                                                NaN     NaN       NaN   \n",
       "97                                                NaN     NaN       NaN   \n",
       "98                                                NaN     NaN       NaN   \n",
       "99                                                NaN     NaN       NaN   \n",
       "\n",
       "   выручка_от_клиента направление_(вид_сертификата)           code  \\\n",
       "0                 NaN                   Квадроциклы  KVP1X1_011132   \n",
       "1                 NaN  Флайборд_/_Ховерборд_/_Ранец       MF268600   \n",
       "2                 NaN                           NaN        GR89289   \n",
       "3                 NaN    Вейксёрф_и_вейк_за_катером      VWS691844   \n",
       "4                 NaN                   Квадроциклы  KVP2X1_066834   \n",
       "..                ...                           ...            ...   \n",
       "95              12345   Универсальный_Мосвейк_12345         M99596   \n",
       "96               4000    Вейксёрф_и_вейк_за_катером    WS30_066782   \n",
       "97               5200    Вейксёрф_и_вейк_за_катером       WS427033   \n",
       "98               3950    Вейксёрф_и_вейк_за_катером       WS375785   \n",
       "99              12745   Универсальный_Мосвейк_12345         W76920   \n",
       "\n",
       "   корневая_сделка номер_2-го_сертификата номер_3-го_сертификата  \\\n",
       "0              NaN                    NaN                    NaN   \n",
       "1              NaN                    NaN                    NaN   \n",
       "2              NaN                    NaN                    NaN   \n",
       "3              NaN                    NaN                    NaN   \n",
       "4              NaN                    NaN                    NaN   \n",
       "..             ...                    ...                    ...   \n",
       "95             NaN                    NaN                    NaN   \n",
       "96             NaN                    NaN                    NaN   \n",
       "97             NaN                    NaN                    NaN   \n",
       "98             NaN                    NaN                    NaN   \n",
       "99             NaN                    NaN                    NaN   \n",
       "\n",
       "   номер_4-го_сертификата номер_5-го_сертификата сертификат_на_тренера  \\\n",
       "0                     NaN                    NaN                   NaN   \n",
       "1                     NaN                    NaN                   NaN   \n",
       "2                     NaN                    NaN                   NaN   \n",
       "3                     NaN                    NaN                   NaN   \n",
       "4                     NaN                    NaN                   NaN   \n",
       "..                    ...                    ...                   ...   \n",
       "95                    NaN                    NaN                   NaN   \n",
       "96                    NaN                    NaN                   NaN   \n",
       "97                    NaN                    NaN                   NaN   \n",
       "98                    NaN                    NaN                   NaN   \n",
       "99                    NaN                    NaN                   NaN   \n",
       "\n",
       "   статус_погашения card_used_date стоимость_закупки  \n",
       "0               NaN            NaT               NaN  \n",
       "1           Погашен     2020-01-07               NaN  \n",
       "2               NaN            NaT               NaN  \n",
       "3               NaN            NaT               NaN  \n",
       "4               NaN            NaT               NaN  \n",
       "..              ...            ...               ...  \n",
       "95              NaN            NaT               NaN  \n",
       "96              NaN            NaT               NaN  \n",
       "97          Погашен            NaT               NaN  \n",
       "98              NaN            NaT               NaN  \n",
       "99          Погашен            NaT               NaN  \n",
       "\n",
       "[100 rows x 22 columns]"
      ]
     },
     "execution_count": 86,
     "metadata": {},
     "output_type": "execute_result"
    }
   ],
   "source": [
    "df_amo_temp.head(100)"
   ]
  },
  {
   "cell_type": "markdown",
   "id": "98872ee7",
   "metadata": {},
   "source": [
    "## Создание отдельных строк для дополнительных сертификатов"
   ]
  },
  {
   "cell_type": "code",
   "execution_count": 87,
   "id": "0e911455",
   "metadata": {},
   "outputs": [],
   "source": [
    "df2sert = df_amo_temp.loc[(df_amo_temp['номер_2-го_сертификата'].notna())] "
   ]
  },
  {
   "cell_type": "code",
   "execution_count": 88,
   "id": "341c01da",
   "metadata": {},
   "outputs": [
    {
     "data": {
      "text/html": [
       "<div>\n",
       "<style scoped>\n",
       "    .dataframe tbody tr th:only-of-type {\n",
       "        vertical-align: middle;\n",
       "    }\n",
       "\n",
       "    .dataframe tbody tr th {\n",
       "        vertical-align: top;\n",
       "    }\n",
       "\n",
       "    .dataframe thead th {\n",
       "        text-align: right;\n",
       "    }\n",
       "</style>\n",
       "<table border=\"1\" class=\"dataframe\">\n",
       "  <thead>\n",
       "    <tr style=\"text-align: right;\">\n",
       "      <th></th>\n",
       "      <th>amo_id</th>\n",
       "      <th>этап_сделки</th>\n",
       "      <th>бюджет</th>\n",
       "      <th>дата_создания_сделки</th>\n",
       "      <th>sale_date</th>\n",
       "      <th>delivery_price</th>\n",
       "      <th>стоимость_доставки</th>\n",
       "      <th>products</th>\n",
       "      <th>price</th>\n",
       "      <th>subtotal</th>\n",
       "      <th>выручка_от_клиента</th>\n",
       "      <th>направление_(вид_сертификата)</th>\n",
       "      <th>code</th>\n",
       "      <th>корневая_сделка</th>\n",
       "      <th>номер_2-го_сертификата</th>\n",
       "      <th>номер_3-го_сертификата</th>\n",
       "      <th>номер_4-го_сертификата</th>\n",
       "      <th>номер_5-го_сертификата</th>\n",
       "      <th>сертификат_на_тренера</th>\n",
       "      <th>статус_погашения</th>\n",
       "      <th>card_used_date</th>\n",
       "      <th>стоимость_закупки</th>\n",
       "    </tr>\n",
       "  </thead>\n",
       "  <tbody>\n",
       "    <tr>\n",
       "      <th>7</th>\n",
       "      <td>1418327</td>\n",
       "      <td>Успешно_реализовано</td>\n",
       "      <td>12000</td>\n",
       "      <td>2020-03-06 22:49:50</td>\n",
       "      <td>2020-07-10 18:34:00</td>\n",
       "      <td>NaN</td>\n",
       "      <td>NaN</td>\n",
       "      <td>NaN</td>\n",
       "      <td>NaN</td>\n",
       "      <td>NaN</td>\n",
       "      <td>NaN</td>\n",
       "      <td>Квадроциклы</td>\n",
       "      <td>VKV1X1_078771</td>\n",
       "      <td>NaN</td>\n",
       "      <td>VKV1X1_020264</td>\n",
       "      <td>NaN</td>\n",
       "      <td>NaN</td>\n",
       "      <td>NaN</td>\n",
       "      <td>NaN</td>\n",
       "      <td>NaN</td>\n",
       "      <td>NaT</td>\n",
       "      <td>NaN</td>\n",
       "    </tr>\n",
       "    <tr>\n",
       "      <th>19</th>\n",
       "      <td>2043467</td>\n",
       "      <td>Успешно_реализовано</td>\n",
       "      <td>4250</td>\n",
       "      <td>2020-03-12 16:42:41</td>\n",
       "      <td>2020-07-10 18:34:00</td>\n",
       "      <td>NaN</td>\n",
       "      <td>0</td>\n",
       "      <td>NaN</td>\n",
       "      <td>NaN</td>\n",
       "      <td>NaN</td>\n",
       "      <td>4250.0</td>\n",
       "      <td>Вейксёрф_и_вейк_за_катером</td>\n",
       "      <td>GR1X1_035393</td>\n",
       "      <td>NaN</td>\n",
       "      <td>PH017</td>\n",
       "      <td>NaN</td>\n",
       "      <td>NaN</td>\n",
       "      <td>NaN</td>\n",
       "      <td>NaN</td>\n",
       "      <td>Погашен</td>\n",
       "      <td>NaT</td>\n",
       "      <td>NaN</td>\n",
       "    </tr>\n",
       "    <tr>\n",
       "      <th>48</th>\n",
       "      <td>4964131</td>\n",
       "      <td>Успешно_реализовано</td>\n",
       "      <td>6600</td>\n",
       "      <td>2020-04-06 15:13:19</td>\n",
       "      <td>2020-07-10 18:30:00</td>\n",
       "      <td>NaN</td>\n",
       "      <td>429</td>\n",
       "      <td>NaN</td>\n",
       "      <td>NaN</td>\n",
       "      <td>NaN</td>\n",
       "      <td>6600.0</td>\n",
       "      <td>Вейксёрф_и_вейк_за_катером</td>\n",
       "      <td>W318360</td>\n",
       "      <td>NaN</td>\n",
       "      <td>MF20_542</td>\n",
       "      <td>NaN</td>\n",
       "      <td>NaN</td>\n",
       "      <td>NaN</td>\n",
       "      <td>NaN</td>\n",
       "      <td>NaN</td>\n",
       "      <td>NaT</td>\n",
       "      <td>NaN</td>\n",
       "    </tr>\n",
       "    <tr>\n",
       "      <th>62</th>\n",
       "      <td>6215467</td>\n",
       "      <td>Успешно_реализовано</td>\n",
       "      <td>4500</td>\n",
       "      <td>2020-04-30 20:07:40</td>\n",
       "      <td>2020-07-10 18:23:00</td>\n",
       "      <td>NaN</td>\n",
       "      <td>NaN</td>\n",
       "      <td>Подарочный_сертификат_на_Серфинг_в_Москве_(Выб...</td>\n",
       "      <td>4500.0</td>\n",
       "      <td>4500.0</td>\n",
       "      <td>4500.0</td>\n",
       "      <td>Искусственная_волна</td>\n",
       "      <td>VCW1_082427</td>\n",
       "      <td>NaN</td>\n",
       "      <td>TR1K_00133</td>\n",
       "      <td>NaN</td>\n",
       "      <td>NaN</td>\n",
       "      <td>NaN</td>\n",
       "      <td>NaN</td>\n",
       "      <td>Погашен</td>\n",
       "      <td>NaT</td>\n",
       "      <td>NaN</td>\n",
       "    </tr>\n",
       "    <tr>\n",
       "      <th>67</th>\n",
       "      <td>6614575</td>\n",
       "      <td>Успешно_реализовано</td>\n",
       "      <td>6350</td>\n",
       "      <td>2020-05-11 10:24:17</td>\n",
       "      <td>2020-07-10 18:20:00</td>\n",
       "      <td>NaN</td>\n",
       "      <td>NaN</td>\n",
       "      <td>Подарочный_сертификат_на_Серфинг_в_Москве_(Выб...</td>\n",
       "      <td>6350.0</td>\n",
       "      <td>6000.0</td>\n",
       "      <td>6350.0</td>\n",
       "      <td>Искусственная_волна</td>\n",
       "      <td>CW1_031734</td>\n",
       "      <td>NaN</td>\n",
       "      <td>PH_003</td>\n",
       "      <td>NaN</td>\n",
       "      <td>NaN</td>\n",
       "      <td>NaN</td>\n",
       "      <td>NaN</td>\n",
       "      <td>NaN</td>\n",
       "      <td>NaT</td>\n",
       "      <td>NaN</td>\n",
       "    </tr>\n",
       "  </tbody>\n",
       "</table>\n",
       "</div>"
      ],
      "text/plain": [
       "     amo_id          этап_сделки  бюджет дата_создания_сделки  \\\n",
       "7   1418327  Успешно_реализовано   12000  2020-03-06 22:49:50   \n",
       "19  2043467  Успешно_реализовано    4250  2020-03-12 16:42:41   \n",
       "48  4964131  Успешно_реализовано    6600  2020-04-06 15:13:19   \n",
       "62  6215467  Успешно_реализовано    4500  2020-04-30 20:07:40   \n",
       "67  6614575  Успешно_реализовано    6350  2020-05-11 10:24:17   \n",
       "\n",
       "             sale_date  delivery_price стоимость_доставки  \\\n",
       "7  2020-07-10 18:34:00             NaN                NaN   \n",
       "19 2020-07-10 18:34:00             NaN                  0   \n",
       "48 2020-07-10 18:30:00             NaN                429   \n",
       "62 2020-07-10 18:23:00             NaN                NaN   \n",
       "67 2020-07-10 18:20:00             NaN                NaN   \n",
       "\n",
       "                                             products   price  subtotal  \\\n",
       "7                                                 NaN     NaN       NaN   \n",
       "19                                                NaN     NaN       NaN   \n",
       "48                                                NaN     NaN       NaN   \n",
       "62  Подарочный_сертификат_на_Серфинг_в_Москве_(Выб...  4500.0    4500.0   \n",
       "67  Подарочный_сертификат_на_Серфинг_в_Москве_(Выб...  6350.0    6000.0   \n",
       "\n",
       "   выручка_от_клиента направление_(вид_сертификата)           code  \\\n",
       "7                 NaN                   Квадроциклы  VKV1X1_078771   \n",
       "19             4250.0    Вейксёрф_и_вейк_за_катером   GR1X1_035393   \n",
       "48             6600.0    Вейксёрф_и_вейк_за_катером        W318360   \n",
       "62             4500.0           Искусственная_волна    VCW1_082427   \n",
       "67             6350.0           Искусственная_волна     CW1_031734   \n",
       "\n",
       "   корневая_сделка номер_2-го_сертификата номер_3-го_сертификата  \\\n",
       "7              NaN          VKV1X1_020264                    NaN   \n",
       "19             NaN                  PH017                    NaN   \n",
       "48             NaN               MF20_542                    NaN   \n",
       "62             NaN             TR1K_00133                    NaN   \n",
       "67             NaN                 PH_003                    NaN   \n",
       "\n",
       "   номер_4-го_сертификата номер_5-го_сертификата сертификат_на_тренера  \\\n",
       "7                     NaN                    NaN                   NaN   \n",
       "19                    NaN                    NaN                   NaN   \n",
       "48                    NaN                    NaN                   NaN   \n",
       "62                    NaN                    NaN                   NaN   \n",
       "67                    NaN                    NaN                   NaN   \n",
       "\n",
       "   статус_погашения card_used_date стоимость_закупки  \n",
       "7               NaN            NaT               NaN  \n",
       "19          Погашен            NaT               NaN  \n",
       "48              NaN            NaT               NaN  \n",
       "62          Погашен            NaT               NaN  \n",
       "67              NaN            NaT               NaN  "
      ]
     },
     "execution_count": 88,
     "metadata": {},
     "output_type": "execute_result"
    }
   ],
   "source": [
    "df2sert.head()"
   ]
  },
  {
   "cell_type": "code",
   "execution_count": 89,
   "id": "44ab7762",
   "metadata": {},
   "outputs": [
    {
     "data": {
      "text/plain": [
       "(712, 22)"
      ]
     },
     "execution_count": 89,
     "metadata": {},
     "output_type": "execute_result"
    }
   ],
   "source": [
    "df2sert.shape"
   ]
  },
  {
   "cell_type": "markdown",
   "id": "7b74bd67",
   "metadata": {},
   "source": [
    "Имеются 2-е сертификаты, имеющие пометку DIS"
   ]
  },
  {
   "cell_type": "markdown",
   "id": "bb157304",
   "metadata": {},
   "source": [
    "Исключение подобных 2-х сертификатов"
   ]
  },
  {
   "cell_type": "code",
   "execution_count": 90,
   "id": "3bc36114",
   "metadata": {},
   "outputs": [],
   "source": [
    "df2sert = df2sert.loc[~df2sert['номер_2-го_сертификата'].str.contains('DI')]"
   ]
  },
  {
   "cell_type": "code",
   "execution_count": 91,
   "id": "55dcdf1d",
   "metadata": {},
   "outputs": [
    {
     "data": {
      "text/plain": [
       "(659, 22)"
      ]
     },
     "execution_count": 91,
     "metadata": {},
     "output_type": "execute_result"
    }
   ],
   "source": [
    "df2sert.shape"
   ]
  },
  {
   "cell_type": "code",
   "execution_count": 92,
   "id": "c3853dc1",
   "metadata": {},
   "outputs": [
    {
     "data": {
      "text/html": [
       "<div>\n",
       "<style scoped>\n",
       "    .dataframe tbody tr th:only-of-type {\n",
       "        vertical-align: middle;\n",
       "    }\n",
       "\n",
       "    .dataframe tbody tr th {\n",
       "        vertical-align: top;\n",
       "    }\n",
       "\n",
       "    .dataframe thead th {\n",
       "        text-align: right;\n",
       "    }\n",
       "</style>\n",
       "<table border=\"1\" class=\"dataframe\">\n",
       "  <thead>\n",
       "    <tr style=\"text-align: right;\">\n",
       "      <th></th>\n",
       "      <th>amo_id</th>\n",
       "      <th>этап_сделки</th>\n",
       "      <th>бюджет</th>\n",
       "      <th>дата_создания_сделки</th>\n",
       "      <th>sale_date</th>\n",
       "      <th>delivery_price</th>\n",
       "      <th>стоимость_доставки</th>\n",
       "      <th>products</th>\n",
       "      <th>price</th>\n",
       "      <th>subtotal</th>\n",
       "      <th>выручка_от_клиента</th>\n",
       "      <th>направление_(вид_сертификата)</th>\n",
       "      <th>code</th>\n",
       "      <th>корневая_сделка</th>\n",
       "      <th>номер_2-го_сертификата</th>\n",
       "      <th>номер_3-го_сертификата</th>\n",
       "      <th>номер_4-го_сертификата</th>\n",
       "      <th>номер_5-го_сертификата</th>\n",
       "      <th>сертификат_на_тренера</th>\n",
       "      <th>статус_погашения</th>\n",
       "      <th>card_used_date</th>\n",
       "      <th>стоимость_закупки</th>\n",
       "    </tr>\n",
       "  </thead>\n",
       "  <tbody>\n",
       "    <tr>\n",
       "      <th>7</th>\n",
       "      <td>1418327</td>\n",
       "      <td>Успешно_реализовано</td>\n",
       "      <td>12000</td>\n",
       "      <td>2020-03-06 22:49:50</td>\n",
       "      <td>2020-07-10 18:34:00</td>\n",
       "      <td>NaN</td>\n",
       "      <td>NaN</td>\n",
       "      <td>NaN</td>\n",
       "      <td>NaN</td>\n",
       "      <td>NaN</td>\n",
       "      <td>NaN</td>\n",
       "      <td>Квадроциклы</td>\n",
       "      <td>VKV1X1_078771</td>\n",
       "      <td>NaN</td>\n",
       "      <td>VKV1X1_020264</td>\n",
       "      <td>NaN</td>\n",
       "      <td>NaN</td>\n",
       "      <td>NaN</td>\n",
       "      <td>NaN</td>\n",
       "      <td>NaN</td>\n",
       "      <td>NaT</td>\n",
       "      <td>NaN</td>\n",
       "    </tr>\n",
       "    <tr>\n",
       "      <th>19</th>\n",
       "      <td>2043467</td>\n",
       "      <td>Успешно_реализовано</td>\n",
       "      <td>4250</td>\n",
       "      <td>2020-03-12 16:42:41</td>\n",
       "      <td>2020-07-10 18:34:00</td>\n",
       "      <td>NaN</td>\n",
       "      <td>0</td>\n",
       "      <td>NaN</td>\n",
       "      <td>NaN</td>\n",
       "      <td>NaN</td>\n",
       "      <td>4250.0</td>\n",
       "      <td>Вейксёрф_и_вейк_за_катером</td>\n",
       "      <td>GR1X1_035393</td>\n",
       "      <td>NaN</td>\n",
       "      <td>PH017</td>\n",
       "      <td>NaN</td>\n",
       "      <td>NaN</td>\n",
       "      <td>NaN</td>\n",
       "      <td>NaN</td>\n",
       "      <td>Погашен</td>\n",
       "      <td>NaT</td>\n",
       "      <td>NaN</td>\n",
       "    </tr>\n",
       "    <tr>\n",
       "      <th>48</th>\n",
       "      <td>4964131</td>\n",
       "      <td>Успешно_реализовано</td>\n",
       "      <td>6600</td>\n",
       "      <td>2020-04-06 15:13:19</td>\n",
       "      <td>2020-07-10 18:30:00</td>\n",
       "      <td>NaN</td>\n",
       "      <td>429</td>\n",
       "      <td>NaN</td>\n",
       "      <td>NaN</td>\n",
       "      <td>NaN</td>\n",
       "      <td>6600.0</td>\n",
       "      <td>Вейксёрф_и_вейк_за_катером</td>\n",
       "      <td>W318360</td>\n",
       "      <td>NaN</td>\n",
       "      <td>MF20_542</td>\n",
       "      <td>NaN</td>\n",
       "      <td>NaN</td>\n",
       "      <td>NaN</td>\n",
       "      <td>NaN</td>\n",
       "      <td>NaN</td>\n",
       "      <td>NaT</td>\n",
       "      <td>NaN</td>\n",
       "    </tr>\n",
       "    <tr>\n",
       "      <th>62</th>\n",
       "      <td>6215467</td>\n",
       "      <td>Успешно_реализовано</td>\n",
       "      <td>4500</td>\n",
       "      <td>2020-04-30 20:07:40</td>\n",
       "      <td>2020-07-10 18:23:00</td>\n",
       "      <td>NaN</td>\n",
       "      <td>NaN</td>\n",
       "      <td>Подарочный_сертификат_на_Серфинг_в_Москве_(Выб...</td>\n",
       "      <td>4500.0</td>\n",
       "      <td>4500.0</td>\n",
       "      <td>4500.0</td>\n",
       "      <td>Искусственная_волна</td>\n",
       "      <td>VCW1_082427</td>\n",
       "      <td>NaN</td>\n",
       "      <td>TR1K_00133</td>\n",
       "      <td>NaN</td>\n",
       "      <td>NaN</td>\n",
       "      <td>NaN</td>\n",
       "      <td>NaN</td>\n",
       "      <td>Погашен</td>\n",
       "      <td>NaT</td>\n",
       "      <td>NaN</td>\n",
       "    </tr>\n",
       "    <tr>\n",
       "      <th>67</th>\n",
       "      <td>6614575</td>\n",
       "      <td>Успешно_реализовано</td>\n",
       "      <td>6350</td>\n",
       "      <td>2020-05-11 10:24:17</td>\n",
       "      <td>2020-07-10 18:20:00</td>\n",
       "      <td>NaN</td>\n",
       "      <td>NaN</td>\n",
       "      <td>Подарочный_сертификат_на_Серфинг_в_Москве_(Выб...</td>\n",
       "      <td>6350.0</td>\n",
       "      <td>6000.0</td>\n",
       "      <td>6350.0</td>\n",
       "      <td>Искусственная_волна</td>\n",
       "      <td>CW1_031734</td>\n",
       "      <td>NaN</td>\n",
       "      <td>PH_003</td>\n",
       "      <td>NaN</td>\n",
       "      <td>NaN</td>\n",
       "      <td>NaN</td>\n",
       "      <td>NaN</td>\n",
       "      <td>NaN</td>\n",
       "      <td>NaT</td>\n",
       "      <td>NaN</td>\n",
       "    </tr>\n",
       "  </tbody>\n",
       "</table>\n",
       "</div>"
      ],
      "text/plain": [
       "     amo_id          этап_сделки  бюджет дата_создания_сделки  \\\n",
       "7   1418327  Успешно_реализовано   12000  2020-03-06 22:49:50   \n",
       "19  2043467  Успешно_реализовано    4250  2020-03-12 16:42:41   \n",
       "48  4964131  Успешно_реализовано    6600  2020-04-06 15:13:19   \n",
       "62  6215467  Успешно_реализовано    4500  2020-04-30 20:07:40   \n",
       "67  6614575  Успешно_реализовано    6350  2020-05-11 10:24:17   \n",
       "\n",
       "             sale_date  delivery_price стоимость_доставки  \\\n",
       "7  2020-07-10 18:34:00             NaN                NaN   \n",
       "19 2020-07-10 18:34:00             NaN                  0   \n",
       "48 2020-07-10 18:30:00             NaN                429   \n",
       "62 2020-07-10 18:23:00             NaN                NaN   \n",
       "67 2020-07-10 18:20:00             NaN                NaN   \n",
       "\n",
       "                                             products   price  subtotal  \\\n",
       "7                                                 NaN     NaN       NaN   \n",
       "19                                                NaN     NaN       NaN   \n",
       "48                                                NaN     NaN       NaN   \n",
       "62  Подарочный_сертификат_на_Серфинг_в_Москве_(Выб...  4500.0    4500.0   \n",
       "67  Подарочный_сертификат_на_Серфинг_в_Москве_(Выб...  6350.0    6000.0   \n",
       "\n",
       "   выручка_от_клиента направление_(вид_сертификата)           code  \\\n",
       "7                 NaN                   Квадроциклы  VKV1X1_078771   \n",
       "19             4250.0    Вейксёрф_и_вейк_за_катером   GR1X1_035393   \n",
       "48             6600.0    Вейксёрф_и_вейк_за_катером        W318360   \n",
       "62             4500.0           Искусственная_волна    VCW1_082427   \n",
       "67             6350.0           Искусственная_волна     CW1_031734   \n",
       "\n",
       "   корневая_сделка номер_2-го_сертификата номер_3-го_сертификата  \\\n",
       "7              NaN          VKV1X1_020264                    NaN   \n",
       "19             NaN                  PH017                    NaN   \n",
       "48             NaN               MF20_542                    NaN   \n",
       "62             NaN             TR1K_00133                    NaN   \n",
       "67             NaN                 PH_003                    NaN   \n",
       "\n",
       "   номер_4-го_сертификата номер_5-го_сертификата сертификат_на_тренера  \\\n",
       "7                     NaN                    NaN                   NaN   \n",
       "19                    NaN                    NaN                   NaN   \n",
       "48                    NaN                    NaN                   NaN   \n",
       "62                    NaN                    NaN                   NaN   \n",
       "67                    NaN                    NaN                   NaN   \n",
       "\n",
       "   статус_погашения card_used_date стоимость_закупки  \n",
       "7               NaN            NaT               NaN  \n",
       "19          Погашен            NaT               NaN  \n",
       "48              NaN            NaT               NaN  \n",
       "62          Погашен            NaT               NaN  \n",
       "67              NaN            NaT               NaN  "
      ]
     },
     "execution_count": 92,
     "metadata": {},
     "output_type": "execute_result"
    }
   ],
   "source": [
    "df2sert.head()"
   ]
  },
  {
   "cell_type": "code",
   "execution_count": 93,
   "id": "e27504fd",
   "metadata": {},
   "outputs": [],
   "source": [
    "def insert_row_sert2(row):\n",
    "    df_amo_temp.loc[len(df_amo_temp.index)] = [row['amo_id'],\n",
    "                                           np.NaN,\n",
    "                                          np.NaN,\n",
    "                                           row['дата_создания_сделки'],\n",
    "                                           row['sale_date'],\n",
    "                                          np.NaN,\n",
    "                                          np.NaN,\n",
    "                                          np.NaN,\n",
    "                                          np.NaN,\n",
    "                                          np.NaN,\n",
    "                                          np.NaN,\n",
    "                                          '',\n",
    "                                          row['номер_2-го_сертификата'],\n",
    "                                          np.NaN,\n",
    "                                          np.NaN,\n",
    "                                          np.NaN,\n",
    "                                          np.NaN,\n",
    "                                          np.NaN,\n",
    "                                          np.NaN,\n",
    "                                          np.NaN,\n",
    "                                               np.NaN,\n",
    "                                               np.NaN\n",
    "                                              ]\n",
    "    return 1\n",
    "    "
   ]
  },
  {
   "cell_type": "code",
   "execution_count": 94,
   "id": "acbda131",
   "metadata": {},
   "outputs": [
    {
     "data": {
      "text/plain": [
       "(8272, 22)"
      ]
     },
     "execution_count": 94,
     "metadata": {},
     "output_type": "execute_result"
    }
   ],
   "source": [
    "df_amo_temp.shape"
   ]
  },
  {
   "cell_type": "code",
   "execution_count": 95,
   "id": "c83a8d57",
   "metadata": {},
   "outputs": [],
   "source": [
    "df2sert['qq']= df2sert.apply(insert_row_sert2,axis=1)"
   ]
  },
  {
   "cell_type": "code",
   "execution_count": 96,
   "id": "de752995",
   "metadata": {},
   "outputs": [],
   "source": [
    "def insert_row_for_sert(row):\n",
    "    global field\n",
    "    df_amo_temp.loc[len(df_amo_temp.index)] = [row['amo_id'],\n",
    "                                           np.NaN,\n",
    "                                          np.NaN,\n",
    "                                           row['дата_создания_сделки'],\n",
    "                                           row['sale_date'],\n",
    "                                          np.NaN,\n",
    "                                          np.NaN,\n",
    "                                          np.NaN,\n",
    "                                          np.NaN,\n",
    "                                          np.NaN,\n",
    "                                          np.NaN,\n",
    "                                          '',\n",
    "                                          row[field],\n",
    "                                          np.NaN,\n",
    "                                          np.NaN,\n",
    "                                          np.NaN,\n",
    "                                          np.NaN,\n",
    "                                          np.NaN,\n",
    "                                          np.NaN,\n",
    "                                          np.NaN,\n",
    "                                               np.NaN,\n",
    "                                               np.NaN\n",
    "                                              ]\n",
    "    return 1"
   ]
  },
  {
   "cell_type": "code",
   "execution_count": 97,
   "id": "8dea585b",
   "metadata": {},
   "outputs": [],
   "source": [
    "df3sert = df_amo_temp.loc[(df_amo_temp['номер_3-го_сертификата'].notna())] "
   ]
  },
  {
   "cell_type": "code",
   "execution_count": 98,
   "id": "9d3f27b6",
   "metadata": {},
   "outputs": [],
   "source": [
    "df3sert = df3sert.loc[~df3sert['номер_3-го_сертификата'].str.contains('DI')]"
   ]
  },
  {
   "cell_type": "code",
   "execution_count": 99,
   "id": "db76756e",
   "metadata": {},
   "outputs": [],
   "source": [
    "field = 'номер_3-го_сертификата'"
   ]
  },
  {
   "cell_type": "code",
   "execution_count": 100,
   "id": "4cef01dc",
   "metadata": {},
   "outputs": [],
   "source": [
    "df3sert['qq']= df3sert.apply(insert_row_for_sert,axis=1)"
   ]
  },
  {
   "cell_type": "code",
   "execution_count": 101,
   "id": "fd22147b",
   "metadata": {},
   "outputs": [],
   "source": [
    "df4sert = df_amo_temp.loc[(df_amo_temp['номер_4-го_сертификата'].notna())] "
   ]
  },
  {
   "cell_type": "code",
   "execution_count": 102,
   "id": "c8bd7672",
   "metadata": {},
   "outputs": [],
   "source": [
    "field = 'номер_4-го_сертификата'"
   ]
  },
  {
   "cell_type": "code",
   "execution_count": 103,
   "id": "d68ee21e",
   "metadata": {},
   "outputs": [
    {
     "name": "stderr",
     "output_type": "stream",
     "text": [
      "C:\\Users\\Admin\\AppData\\Local\\Temp\\ipykernel_13220\\1052311001.py:1: SettingWithCopyWarning: \n",
      "A value is trying to be set on a copy of a slice from a DataFrame.\n",
      "Try using .loc[row_indexer,col_indexer] = value instead\n",
      "\n",
      "See the caveats in the documentation: https://pandas.pydata.org/pandas-docs/stable/user_guide/indexing.html#returning-a-view-versus-a-copy\n",
      "  df4sert['qq']= df4sert.apply(insert_row_for_sert,axis=1)\n"
     ]
    }
   ],
   "source": [
    "df4sert['qq']= df4sert.apply(insert_row_for_sert,axis=1)"
   ]
  },
  {
   "cell_type": "code",
   "execution_count": 104,
   "id": "500d71c8",
   "metadata": {},
   "outputs": [],
   "source": [
    "df5sert = df_amo_temp.loc[(df_amo_temp['номер_5-го_сертификата'].notna())] "
   ]
  },
  {
   "cell_type": "code",
   "execution_count": 105,
   "id": "d5be206e",
   "metadata": {},
   "outputs": [],
   "source": [
    "field = 'номер_5-го_сертификата'"
   ]
  },
  {
   "cell_type": "code",
   "execution_count": 106,
   "id": "bf430d94",
   "metadata": {},
   "outputs": [
    {
     "name": "stderr",
     "output_type": "stream",
     "text": [
      "C:\\Users\\Admin\\AppData\\Local\\Temp\\ipykernel_13220\\1692456492.py:1: SettingWithCopyWarning: \n",
      "A value is trying to be set on a copy of a slice from a DataFrame.\n",
      "Try using .loc[row_indexer,col_indexer] = value instead\n",
      "\n",
      "See the caveats in the documentation: https://pandas.pydata.org/pandas-docs/stable/user_guide/indexing.html#returning-a-view-versus-a-copy\n",
      "  df5sert['qq']= df5sert.apply(insert_row_for_sert,axis=1)\n"
     ]
    }
   ],
   "source": [
    "df5sert['qq']= df5sert.apply(insert_row_for_sert,axis=1)"
   ]
  },
  {
   "cell_type": "code",
   "execution_count": null,
   "id": "bedfca7e",
   "metadata": {},
   "outputs": [],
   "source": []
  },
  {
   "cell_type": "code",
   "execution_count": null,
   "id": "a11f2ada",
   "metadata": {},
   "outputs": [],
   "source": []
  },
  {
   "cell_type": "code",
   "execution_count": 107,
   "id": "5ff4f1af",
   "metadata": {},
   "outputs": [
    {
     "data": {
      "text/plain": [
       "(8966, 22)"
      ]
     },
     "execution_count": 107,
     "metadata": {},
     "output_type": "execute_result"
    }
   ],
   "source": [
    "df_amo_temp.shape"
   ]
  },
  {
   "cell_type": "code",
   "execution_count": 108,
   "id": "5d7933a0",
   "metadata": {},
   "outputs": [
    {
     "data": {
      "text/html": [
       "<div>\n",
       "<style scoped>\n",
       "    .dataframe tbody tr th:only-of-type {\n",
       "        vertical-align: middle;\n",
       "    }\n",
       "\n",
       "    .dataframe tbody tr th {\n",
       "        vertical-align: top;\n",
       "    }\n",
       "\n",
       "    .dataframe thead th {\n",
       "        text-align: right;\n",
       "    }\n",
       "</style>\n",
       "<table border=\"1\" class=\"dataframe\">\n",
       "  <thead>\n",
       "    <tr style=\"text-align: right;\">\n",
       "      <th></th>\n",
       "      <th>amo_id</th>\n",
       "      <th>этап_сделки</th>\n",
       "      <th>бюджет</th>\n",
       "      <th>дата_создания_сделки</th>\n",
       "      <th>sale_date</th>\n",
       "      <th>delivery_price</th>\n",
       "      <th>стоимость_доставки</th>\n",
       "      <th>products</th>\n",
       "      <th>price</th>\n",
       "      <th>subtotal</th>\n",
       "      <th>выручка_от_клиента</th>\n",
       "      <th>направление_(вид_сертификата)</th>\n",
       "      <th>code</th>\n",
       "      <th>корневая_сделка</th>\n",
       "      <th>номер_2-го_сертификата</th>\n",
       "      <th>номер_3-го_сертификата</th>\n",
       "      <th>номер_4-го_сертификата</th>\n",
       "      <th>номер_5-го_сертификата</th>\n",
       "      <th>сертификат_на_тренера</th>\n",
       "      <th>статус_погашения</th>\n",
       "      <th>card_used_date</th>\n",
       "      <th>стоимость_закупки</th>\n",
       "    </tr>\n",
       "  </thead>\n",
       "  <tbody>\n",
       "    <tr>\n",
       "      <th>6035</th>\n",
       "      <td>24441731</td>\n",
       "      <td>Успешно_реализовано</td>\n",
       "      <td>8000.0</td>\n",
       "      <td>2023-06-01 11:32:36</td>\n",
       "      <td>2023-06-02 00:01:00</td>\n",
       "      <td>NaN</td>\n",
       "      <td>NaN</td>\n",
       "      <td>Самолёт_Cessna_182_(Варианты:_20_минут_полёта,...</td>\n",
       "      <td>8000.0</td>\n",
       "      <td>8000.0</td>\n",
       "      <td>8000</td>\n",
       "      <td>Авиа_Самолёты</td>\n",
       "      <td>CS20_1905836330</td>\n",
       "      <td>NaN</td>\n",
       "      <td>VKA6_362697</td>\n",
       "      <td>NaN</td>\n",
       "      <td>NaN</td>\n",
       "      <td>NaN</td>\n",
       "      <td>NaN</td>\n",
       "      <td>Погашен</td>\n",
       "      <td>NaT</td>\n",
       "      <td>7500</td>\n",
       "    </tr>\n",
       "    <tr>\n",
       "      <th>8866</th>\n",
       "      <td>24441731</td>\n",
       "      <td>NaN</td>\n",
       "      <td>NaN</td>\n",
       "      <td>2023-06-01 11:32:36</td>\n",
       "      <td>2023-06-02 00:01:00</td>\n",
       "      <td>NaN</td>\n",
       "      <td>NaN</td>\n",
       "      <td>NaN</td>\n",
       "      <td>NaN</td>\n",
       "      <td>NaN</td>\n",
       "      <td>NaN</td>\n",
       "      <td></td>\n",
       "      <td>VKA6_362697</td>\n",
       "      <td>NaN</td>\n",
       "      <td>NaN</td>\n",
       "      <td>NaN</td>\n",
       "      <td>NaN</td>\n",
       "      <td>NaN</td>\n",
       "      <td>NaN</td>\n",
       "      <td>NaN</td>\n",
       "      <td>NaT</td>\n",
       "      <td>NaN</td>\n",
       "    </tr>\n",
       "  </tbody>\n",
       "</table>\n",
       "</div>"
      ],
      "text/plain": [
       "        amo_id          этап_сделки  бюджет дата_создания_сделки  \\\n",
       "6035  24441731  Успешно_реализовано  8000.0  2023-06-01 11:32:36   \n",
       "8866  24441731                  NaN     NaN  2023-06-01 11:32:36   \n",
       "\n",
       "               sale_date  delivery_price стоимость_доставки  \\\n",
       "6035 2023-06-02 00:01:00             NaN                NaN   \n",
       "8866 2023-06-02 00:01:00             NaN                NaN   \n",
       "\n",
       "                                               products   price  subtotal  \\\n",
       "6035  Самолёт_Cessna_182_(Варианты:_20_минут_полёта,...  8000.0    8000.0   \n",
       "8866                                                NaN     NaN       NaN   \n",
       "\n",
       "     выручка_от_клиента направление_(вид_сертификата)             code  \\\n",
       "6035               8000                 Авиа_Самолёты  CS20_1905836330   \n",
       "8866                NaN                                    VKA6_362697   \n",
       "\n",
       "     корневая_сделка номер_2-го_сертификата номер_3-го_сертификата  \\\n",
       "6035             NaN            VKA6_362697                    NaN   \n",
       "8866             NaN                    NaN                    NaN   \n",
       "\n",
       "     номер_4-го_сертификата номер_5-го_сертификата сертификат_на_тренера  \\\n",
       "6035                    NaN                    NaN                   NaN   \n",
       "8866                    NaN                    NaN                   NaN   \n",
       "\n",
       "     статус_погашения card_used_date стоимость_закупки  \n",
       "6035          Погашен            NaT              7500  \n",
       "8866              NaN            NaT               NaN  "
      ]
     },
     "execution_count": 108,
     "metadata": {},
     "output_type": "execute_result"
    }
   ],
   "source": [
    "df_amo_temp.query('amo_id == 24441731')"
   ]
  },
  {
   "cell_type": "markdown",
   "id": "8436425f",
   "metadata": {},
   "source": [
    "В базу AMO добавлены строки для дополнительных сертификатов"
   ]
  },
  {
   "cell_type": "code",
   "execution_count": null,
   "id": "276b02ff",
   "metadata": {},
   "outputs": [],
   "source": []
  },
  {
   "cell_type": "code",
   "execution_count": null,
   "id": "a9cb88cf",
   "metadata": {},
   "outputs": [],
   "source": []
  },
  {
   "cell_type": "code",
   "execution_count": null,
   "id": "2fdcf213",
   "metadata": {},
   "outputs": [],
   "source": []
  },
  {
   "cell_type": "markdown",
   "id": "a1c51e47",
   "metadata": {},
   "source": [
    "### Формирование новых столбцов в базе АМО"
   ]
  },
  {
   "cell_type": "code",
   "execution_count": 109,
   "id": "44ff3264",
   "metadata": {},
   "outputs": [],
   "source": [
    "df_amo_temp['id'] = ''"
   ]
  },
  {
   "cell_type": "markdown",
   "id": "61a40aa4",
   "metadata": {},
   "source": [
    "#### prefix and number"
   ]
  },
  {
   "cell_type": "code",
   "execution_count": 110,
   "id": "cc01d2d1",
   "metadata": {},
   "outputs": [],
   "source": [
    "df_amo_temp['prefix'] = df_amo_temp['code'].apply(lambda x: re.split('[ _]',x)[0] if ' ' in x or '_' in x else '')"
   ]
  },
  {
   "cell_type": "code",
   "execution_count": 111,
   "id": "39fc22e6",
   "metadata": {},
   "outputs": [],
   "source": [
    "df_amo_temp['number'] = df_amo_temp['code'].apply(lambda x: re.split('[ _]',x)[1] if ' ' in x or '_' in x else '')"
   ]
  },
  {
   "cell_type": "code",
   "execution_count": 112,
   "id": "6485ff2d",
   "metadata": {},
   "outputs": [
    {
     "data": {
      "text/html": [
       "<div>\n",
       "<style scoped>\n",
       "    .dataframe tbody tr th:only-of-type {\n",
       "        vertical-align: middle;\n",
       "    }\n",
       "\n",
       "    .dataframe tbody tr th {\n",
       "        vertical-align: top;\n",
       "    }\n",
       "\n",
       "    .dataframe thead th {\n",
       "        text-align: right;\n",
       "    }\n",
       "</style>\n",
       "<table border=\"1\" class=\"dataframe\">\n",
       "  <thead>\n",
       "    <tr style=\"text-align: right;\">\n",
       "      <th></th>\n",
       "      <th>amo_id</th>\n",
       "      <th>этап_сделки</th>\n",
       "      <th>бюджет</th>\n",
       "      <th>дата_создания_сделки</th>\n",
       "      <th>sale_date</th>\n",
       "      <th>delivery_price</th>\n",
       "      <th>стоимость_доставки</th>\n",
       "      <th>products</th>\n",
       "      <th>price</th>\n",
       "      <th>subtotal</th>\n",
       "      <th>выручка_от_клиента</th>\n",
       "      <th>направление_(вид_сертификата)</th>\n",
       "      <th>code</th>\n",
       "      <th>корневая_сделка</th>\n",
       "      <th>номер_2-го_сертификата</th>\n",
       "      <th>номер_3-го_сертификата</th>\n",
       "      <th>номер_4-го_сертификата</th>\n",
       "      <th>номер_5-го_сертификата</th>\n",
       "      <th>сертификат_на_тренера</th>\n",
       "      <th>статус_погашения</th>\n",
       "      <th>card_used_date</th>\n",
       "      <th>стоимость_закупки</th>\n",
       "      <th>id</th>\n",
       "      <th>prefix</th>\n",
       "      <th>number</th>\n",
       "    </tr>\n",
       "  </thead>\n",
       "  <tbody>\n",
       "    <tr>\n",
       "      <th>0</th>\n",
       "      <td>660235</td>\n",
       "      <td>Успешно_реализовано</td>\n",
       "      <td>3290.0</td>\n",
       "      <td>2020-03-02 14:59:05</td>\n",
       "      <td>2020-07-10 10:39:00</td>\n",
       "      <td>NaN</td>\n",
       "      <td>436</td>\n",
       "      <td>Подарочный_сертификатна_Квадроциклы_(Выберите_...</td>\n",
       "      <td>3290.0</td>\n",
       "      <td>3000.0</td>\n",
       "      <td>NaN</td>\n",
       "      <td>Квадроциклы</td>\n",
       "      <td>KVP1X1_011132</td>\n",
       "      <td>NaN</td>\n",
       "      <td>NaN</td>\n",
       "      <td>NaN</td>\n",
       "      <td>NaN</td>\n",
       "      <td>NaN</td>\n",
       "      <td>NaN</td>\n",
       "      <td>NaN</td>\n",
       "      <td>NaT</td>\n",
       "      <td>NaN</td>\n",
       "      <td></td>\n",
       "      <td>KVP1X1</td>\n",
       "      <td>011132</td>\n",
       "    </tr>\n",
       "    <tr>\n",
       "      <th>1</th>\n",
       "      <td>667573</td>\n",
       "      <td>Успешно_реализовано</td>\n",
       "      <td>2600.0</td>\n",
       "      <td>2020-03-02 15:39:28</td>\n",
       "      <td>2020-07-10 10:40:00</td>\n",
       "      <td>NaN</td>\n",
       "      <td>NaN</td>\n",
       "      <td>Подарочный_сертификатна_Флайборд_(Выберите_тип...</td>\n",
       "      <td>2600.0</td>\n",
       "      <td>2600.0</td>\n",
       "      <td>NaN</td>\n",
       "      <td>Флайборд_/_Ховерборд_/_Ранец</td>\n",
       "      <td>MF268600</td>\n",
       "      <td>NaN</td>\n",
       "      <td>NaN</td>\n",
       "      <td>NaN</td>\n",
       "      <td>NaN</td>\n",
       "      <td>NaN</td>\n",
       "      <td>NaN</td>\n",
       "      <td>Погашен</td>\n",
       "      <td>2020-01-07</td>\n",
       "      <td>NaN</td>\n",
       "      <td></td>\n",
       "      <td></td>\n",
       "      <td></td>\n",
       "    </tr>\n",
       "    <tr>\n",
       "      <th>2</th>\n",
       "      <td>929417</td>\n",
       "      <td>Успешно_реализовано</td>\n",
       "      <td>3040.0</td>\n",
       "      <td>2020-03-04 12:51:10</td>\n",
       "      <td>2020-07-10 18:34:00</td>\n",
       "      <td>NaN</td>\n",
       "      <td>NaN</td>\n",
       "      <td>NaN</td>\n",
       "      <td>NaN</td>\n",
       "      <td>NaN</td>\n",
       "      <td>NaN</td>\n",
       "      <td>NaN</td>\n",
       "      <td>GR89289</td>\n",
       "      <td>NaN</td>\n",
       "      <td>NaN</td>\n",
       "      <td>NaN</td>\n",
       "      <td>NaN</td>\n",
       "      <td>NaN</td>\n",
       "      <td>NaN</td>\n",
       "      <td>NaN</td>\n",
       "      <td>NaT</td>\n",
       "      <td>NaN</td>\n",
       "      <td></td>\n",
       "      <td></td>\n",
       "      <td></td>\n",
       "    </tr>\n",
       "    <tr>\n",
       "      <th>3</th>\n",
       "      <td>929931</td>\n",
       "      <td>Успешно_реализовано</td>\n",
       "      <td>7200.0</td>\n",
       "      <td>2020-03-04 13:06:52</td>\n",
       "      <td>2020-07-10 18:34:00</td>\n",
       "      <td>NaN</td>\n",
       "      <td>NaN</td>\n",
       "      <td>NaN</td>\n",
       "      <td>NaN</td>\n",
       "      <td>NaN</td>\n",
       "      <td>NaN</td>\n",
       "      <td>Вейксёрф_и_вейк_за_катером</td>\n",
       "      <td>VWS691844</td>\n",
       "      <td>NaN</td>\n",
       "      <td>NaN</td>\n",
       "      <td>NaN</td>\n",
       "      <td>NaN</td>\n",
       "      <td>NaN</td>\n",
       "      <td>NaN</td>\n",
       "      <td>NaN</td>\n",
       "      <td>NaT</td>\n",
       "      <td>NaN</td>\n",
       "      <td></td>\n",
       "      <td></td>\n",
       "      <td></td>\n",
       "    </tr>\n",
       "    <tr>\n",
       "      <th>4</th>\n",
       "      <td>938619</td>\n",
       "      <td>Успешно_реализовано</td>\n",
       "      <td>6000.0</td>\n",
       "      <td>2020-03-04 14:22:26</td>\n",
       "      <td>2020-03-08 05:06:00</td>\n",
       "      <td>NaN</td>\n",
       "      <td>NaN</td>\n",
       "      <td>Подарочный_сертификатна_Квадроциклы_(Выберите_...</td>\n",
       "      <td>6000.0</td>\n",
       "      <td>6000.0</td>\n",
       "      <td>NaN</td>\n",
       "      <td>Квадроциклы</td>\n",
       "      <td>KVP2X1_066834</td>\n",
       "      <td>NaN</td>\n",
       "      <td>NaN</td>\n",
       "      <td>NaN</td>\n",
       "      <td>NaN</td>\n",
       "      <td>NaN</td>\n",
       "      <td>NaN</td>\n",
       "      <td>NaN</td>\n",
       "      <td>NaT</td>\n",
       "      <td>NaN</td>\n",
       "      <td></td>\n",
       "      <td>KVP2X1</td>\n",
       "      <td>066834</td>\n",
       "    </tr>\n",
       "    <tr>\n",
       "      <th>5</th>\n",
       "      <td>948101</td>\n",
       "      <td>Успешно_реализовано</td>\n",
       "      <td>5290.0</td>\n",
       "      <td>2020-03-04 17:11:49</td>\n",
       "      <td>2020-07-10 18:34:00</td>\n",
       "      <td>NaN</td>\n",
       "      <td>NaN</td>\n",
       "      <td>Подарочный_сертификатна_Сап-Сёрфинг_(Выберите_...</td>\n",
       "      <td>5290.0</td>\n",
       "      <td>5000.0</td>\n",
       "      <td>NaN</td>\n",
       "      <td>САП-сёрф</td>\n",
       "      <td>SU226298</td>\n",
       "      <td>NaN</td>\n",
       "      <td>NaN</td>\n",
       "      <td>NaN</td>\n",
       "      <td>NaN</td>\n",
       "      <td>NaN</td>\n",
       "      <td>NaN</td>\n",
       "      <td>Погашен</td>\n",
       "      <td>2020-09-08</td>\n",
       "      <td>NaN</td>\n",
       "      <td></td>\n",
       "      <td></td>\n",
       "      <td></td>\n",
       "    </tr>\n",
       "    <tr>\n",
       "      <th>6</th>\n",
       "      <td>1058967</td>\n",
       "      <td>Успешно_реализовано</td>\n",
       "      <td>2750.0</td>\n",
       "      <td>2020-03-05 10:42:16</td>\n",
       "      <td>2020-03-08 05:05:00</td>\n",
       "      <td>NaN</td>\n",
       "      <td>NaN</td>\n",
       "      <td>Подарочный_сертификат_в_крытый_Вейк-парк_(Выбе...</td>\n",
       "      <td>2750.0</td>\n",
       "      <td>2750.0</td>\n",
       "      <td>NaN</td>\n",
       "      <td>NaN</td>\n",
       "      <td>GRT65059</td>\n",
       "      <td>NaN</td>\n",
       "      <td>NaN</td>\n",
       "      <td>NaN</td>\n",
       "      <td>NaN</td>\n",
       "      <td>NaN</td>\n",
       "      <td>NaN</td>\n",
       "      <td>NaN</td>\n",
       "      <td>NaT</td>\n",
       "      <td>NaN</td>\n",
       "      <td></td>\n",
       "      <td></td>\n",
       "      <td></td>\n",
       "    </tr>\n",
       "    <tr>\n",
       "      <th>7</th>\n",
       "      <td>1418327</td>\n",
       "      <td>Успешно_реализовано</td>\n",
       "      <td>12000.0</td>\n",
       "      <td>2020-03-06 22:49:50</td>\n",
       "      <td>2020-07-10 18:34:00</td>\n",
       "      <td>NaN</td>\n",
       "      <td>NaN</td>\n",
       "      <td>NaN</td>\n",
       "      <td>NaN</td>\n",
       "      <td>NaN</td>\n",
       "      <td>NaN</td>\n",
       "      <td>Квадроциклы</td>\n",
       "      <td>VKV1X1_078771</td>\n",
       "      <td>NaN</td>\n",
       "      <td>VKV1X1_020264</td>\n",
       "      <td>NaN</td>\n",
       "      <td>NaN</td>\n",
       "      <td>NaN</td>\n",
       "      <td>NaN</td>\n",
       "      <td>NaN</td>\n",
       "      <td>NaT</td>\n",
       "      <td>NaN</td>\n",
       "      <td></td>\n",
       "      <td>VKV1X1</td>\n",
       "      <td>078771</td>\n",
       "    </tr>\n",
       "    <tr>\n",
       "      <th>8</th>\n",
       "      <td>1447181</td>\n",
       "      <td>Успешно_реализовано</td>\n",
       "      <td>4000.0</td>\n",
       "      <td>2020-03-07 13:55:30</td>\n",
       "      <td>2020-07-10 18:34:00</td>\n",
       "      <td>NaN</td>\n",
       "      <td>NaN</td>\n",
       "      <td>Подарочный_сертификатна_Квадроциклы_(Выберите_...</td>\n",
       "      <td>4000.0</td>\n",
       "      <td>4000.0</td>\n",
       "      <td>NaN</td>\n",
       "      <td>Квадроциклы</td>\n",
       "      <td>KVP1X1_050898</td>\n",
       "      <td>NaN</td>\n",
       "      <td>NaN</td>\n",
       "      <td>NaN</td>\n",
       "      <td>NaN</td>\n",
       "      <td>NaN</td>\n",
       "      <td>NaN</td>\n",
       "      <td>NaN</td>\n",
       "      <td>NaT</td>\n",
       "      <td>NaN</td>\n",
       "      <td></td>\n",
       "      <td>KVP1X1</td>\n",
       "      <td>050898</td>\n",
       "    </tr>\n",
       "    <tr>\n",
       "      <th>9</th>\n",
       "      <td>1447597</td>\n",
       "      <td>Успешно_реализовано</td>\n",
       "      <td>8000.0</td>\n",
       "      <td>2020-03-07 14:12:10</td>\n",
       "      <td>2020-07-10 18:34:00</td>\n",
       "      <td>NaN</td>\n",
       "      <td>NaN</td>\n",
       "      <td>Подарочный_сертификатна_Квадроциклы_(Выберите_...</td>\n",
       "      <td>8000.0</td>\n",
       "      <td>8000.0</td>\n",
       "      <td>NaN</td>\n",
       "      <td>Квадроциклы</td>\n",
       "      <td>KVP2X1_037968</td>\n",
       "      <td>NaN</td>\n",
       "      <td>NaN</td>\n",
       "      <td>NaN</td>\n",
       "      <td>NaN</td>\n",
       "      <td>NaN</td>\n",
       "      <td>NaN</td>\n",
       "      <td>NaN</td>\n",
       "      <td>NaT</td>\n",
       "      <td>NaN</td>\n",
       "      <td></td>\n",
       "      <td>KVP2X1</td>\n",
       "      <td>037968</td>\n",
       "    </tr>\n",
       "  </tbody>\n",
       "</table>\n",
       "</div>"
      ],
      "text/plain": [
       "    amo_id          этап_сделки   бюджет дата_создания_сделки  \\\n",
       "0   660235  Успешно_реализовано   3290.0  2020-03-02 14:59:05   \n",
       "1   667573  Успешно_реализовано   2600.0  2020-03-02 15:39:28   \n",
       "2   929417  Успешно_реализовано   3040.0  2020-03-04 12:51:10   \n",
       "3   929931  Успешно_реализовано   7200.0  2020-03-04 13:06:52   \n",
       "4   938619  Успешно_реализовано   6000.0  2020-03-04 14:22:26   \n",
       "5   948101  Успешно_реализовано   5290.0  2020-03-04 17:11:49   \n",
       "6  1058967  Успешно_реализовано   2750.0  2020-03-05 10:42:16   \n",
       "7  1418327  Успешно_реализовано  12000.0  2020-03-06 22:49:50   \n",
       "8  1447181  Успешно_реализовано   4000.0  2020-03-07 13:55:30   \n",
       "9  1447597  Успешно_реализовано   8000.0  2020-03-07 14:12:10   \n",
       "\n",
       "            sale_date  delivery_price стоимость_доставки  \\\n",
       "0 2020-07-10 10:39:00             NaN                436   \n",
       "1 2020-07-10 10:40:00             NaN                NaN   \n",
       "2 2020-07-10 18:34:00             NaN                NaN   \n",
       "3 2020-07-10 18:34:00             NaN                NaN   \n",
       "4 2020-03-08 05:06:00             NaN                NaN   \n",
       "5 2020-07-10 18:34:00             NaN                NaN   \n",
       "6 2020-03-08 05:05:00             NaN                NaN   \n",
       "7 2020-07-10 18:34:00             NaN                NaN   \n",
       "8 2020-07-10 18:34:00             NaN                NaN   \n",
       "9 2020-07-10 18:34:00             NaN                NaN   \n",
       "\n",
       "                                            products   price  subtotal  \\\n",
       "0  Подарочный_сертификатна_Квадроциклы_(Выберите_...  3290.0    3000.0   \n",
       "1  Подарочный_сертификатна_Флайборд_(Выберите_тип...  2600.0    2600.0   \n",
       "2                                                NaN     NaN       NaN   \n",
       "3                                                NaN     NaN       NaN   \n",
       "4  Подарочный_сертификатна_Квадроциклы_(Выберите_...  6000.0    6000.0   \n",
       "5  Подарочный_сертификатна_Сап-Сёрфинг_(Выберите_...  5290.0    5000.0   \n",
       "6  Подарочный_сертификат_в_крытый_Вейк-парк_(Выбе...  2750.0    2750.0   \n",
       "7                                                NaN     NaN       NaN   \n",
       "8  Подарочный_сертификатна_Квадроциклы_(Выберите_...  4000.0    4000.0   \n",
       "9  Подарочный_сертификатна_Квадроциклы_(Выберите_...  8000.0    8000.0   \n",
       "\n",
       "  выручка_от_клиента направление_(вид_сертификата)           code  \\\n",
       "0                NaN                   Квадроциклы  KVP1X1_011132   \n",
       "1                NaN  Флайборд_/_Ховерборд_/_Ранец       MF268600   \n",
       "2                NaN                           NaN        GR89289   \n",
       "3                NaN    Вейксёрф_и_вейк_за_катером      VWS691844   \n",
       "4                NaN                   Квадроциклы  KVP2X1_066834   \n",
       "5                NaN                      САП-сёрф       SU226298   \n",
       "6                NaN                           NaN       GRT65059   \n",
       "7                NaN                   Квадроциклы  VKV1X1_078771   \n",
       "8                NaN                   Квадроциклы  KVP1X1_050898   \n",
       "9                NaN                   Квадроциклы  KVP2X1_037968   \n",
       "\n",
       "  корневая_сделка номер_2-го_сертификата номер_3-го_сертификата  \\\n",
       "0             NaN                    NaN                    NaN   \n",
       "1             NaN                    NaN                    NaN   \n",
       "2             NaN                    NaN                    NaN   \n",
       "3             NaN                    NaN                    NaN   \n",
       "4             NaN                    NaN                    NaN   \n",
       "5             NaN                    NaN                    NaN   \n",
       "6             NaN                    NaN                    NaN   \n",
       "7             NaN          VKV1X1_020264                    NaN   \n",
       "8             NaN                    NaN                    NaN   \n",
       "9             NaN                    NaN                    NaN   \n",
       "\n",
       "  номер_4-го_сертификата номер_5-го_сертификата сертификат_на_тренера  \\\n",
       "0                    NaN                    NaN                   NaN   \n",
       "1                    NaN                    NaN                   NaN   \n",
       "2                    NaN                    NaN                   NaN   \n",
       "3                    NaN                    NaN                   NaN   \n",
       "4                    NaN                    NaN                   NaN   \n",
       "5                    NaN                    NaN                   NaN   \n",
       "6                    NaN                    NaN                   NaN   \n",
       "7                    NaN                    NaN                   NaN   \n",
       "8                    NaN                    NaN                   NaN   \n",
       "9                    NaN                    NaN                   NaN   \n",
       "\n",
       "  статус_погашения card_used_date стоимость_закупки id  prefix  number  \n",
       "0              NaN            NaT               NaN     KVP1X1  011132  \n",
       "1          Погашен     2020-01-07               NaN                     \n",
       "2              NaN            NaT               NaN                     \n",
       "3              NaN            NaT               NaN                     \n",
       "4              NaN            NaT               NaN     KVP2X1  066834  \n",
       "5          Погашен     2020-09-08               NaN                     \n",
       "6              NaN            NaT               NaN                     \n",
       "7              NaN            NaT               NaN     VKV1X1  078771  \n",
       "8              NaN            NaT               NaN     KVP1X1  050898  \n",
       "9              NaN            NaT               NaN     KVP2X1  037968  "
      ]
     },
     "execution_count": 112,
     "metadata": {},
     "output_type": "execute_result"
    }
   ],
   "source": [
    "df_amo_temp.head(10)"
   ]
  },
  {
   "cell_type": "code",
   "execution_count": 113,
   "id": "3a848838",
   "metadata": {},
   "outputs": [],
   "source": [
    "prefix_amo = list(df_amo_temp['prefix'].unique())\n",
    "prefix_amo.sort()\n",
    "prefix_amo = prefix_amo[1:]"
   ]
  },
  {
   "cell_type": "code",
   "execution_count": null,
   "id": "8949304a",
   "metadata": {},
   "outputs": [],
   "source": []
  },
  {
   "cell_type": "code",
   "execution_count": 114,
   "id": "3527524b",
   "metadata": {},
   "outputs": [],
   "source": [
    "prefix_amo.sort(key=lambda x: len(x),reverse=True)"
   ]
  },
  {
   "cell_type": "code",
   "execution_count": 115,
   "id": "94080c7f",
   "metadata": {},
   "outputs": [
    {
     "name": "stdout",
     "output_type": "stream",
     "text": [
      "['VESG127419', 'VHY60T30', 'FMCS45R', 'MF20560', 'VFMCS30', 'VKVP1X1', 'VKVP2X1', 'VSKI40T', 'VWS20TR', 'VWSN40T', 'VWSN60T', '60WAKE', 'FMCS30', 'KPV1X1', 'KVP1X1', 'KVP1X2', 'KVP2X1', 'MWSN40', 'V2SU24', 'V2SU60', 'V2WP24', 'VBF180', 'VDRC2H', 'VEFL30', 'VES130', 'VES160', 'VES230', 'VGR1X1', 'VHY30T', 'VKV1X1', 'VKV2X1', 'VKVP1X', 'VMMF20', 'VMMF30', 'VMSU60', 'VMWP15', 'VMWS25', 'VMWS40', 'VSKI20', 'VSKI40', 'VSKI60', 'VSN1X1', 'VSN2X1', 'VSN2X4', 'VWS20T', 'VWS30T', 'VWS40T', 'VWS60T', 'VWSN25', 'VWSN40', 'VWSN60', '2SU60', 'BF180', 'DRC2H', 'DRS2H', 'DT230', 'DT240', 'DT260', 'EB1X1', 'EFL30', 'EFL60', 'ES130', 'ES160', 'ES230', 'FMP30', 'GR1X1', 'GR2X1', 'KV1X1', 'KV2X1', 'MMF60', 'MWS25', 'SKI40', 'SKI60', 'SN1X1', 'SN2X1', 'VAC30', 'VAC60', 'VAT10', 'VAT15', 'VAT30', 'VAT4K', 'VAT6K', 'VBF40', 'VBF90', 'VBGKH', 'VCS20', 'VCS30', 'VCS40', 'VCS60', 'VCW1T', 'VCW2T', 'VDRCH', 'VDT30', 'VDT32', 'VDT40', 'VDT60', 'VDT62', 'VEB1X', 'VEB2X', 'VED3H', 'VEF30', 'VEF60', 'VESG1', 'VESG2', 'VFJ30', 'VFM45', 'VHB20', 'VHB30', 'VHB60', 'VHY30', 'VHY60', 'VKAT2', 'VKAT4', 'VKV1X', 'VLB1X', 'VLL1H', 'VLL2H', 'VLL3H', 'VMB2X', 'VMF20', 'VMF30', 'VMF60', 'VMT10', 'VMT2B', 'VMW&F', 'VMWS1', 'VPB2X', 'VPH20', 'VPP2P', 'VPP2S', 'VPR20', 'VPR30', 'VPR40', 'VPR60', 'VRB15', 'VRB40', 'VRJ1X', 'VRJ2X', 'VSG10', 'VSK2V', 'VSKT1', 'VSKT2', 'VSKT4', 'VSN1X', 'VSN2X', 'VSN60', 'VSU24', 'VSU60', 'VTR1K', 'VTR2K', 'VTR30', 'VWP15', 'VWP2H', 'VWP60', 'VWS20', 'VWS25', 'VWS30', 'VWS40', 'VWS60', 'VWTF2', 'WS30T', 'WSN40', 'WSN60', 'AC30', 'AC60', 'AT10', 'AT15', 'AT30', 'AT4K', 'AT6K', 'BF40', 'BF90', 'BGKH', 'CS20', 'CS30', 'CS40', 'CS60', 'DF60', 'DRCH', 'DT30', 'DT40', 'DT60', 'EB1X', 'EB2X', 'ED3H', 'EF30', 'EF60', 'ESG1', 'ESG2', 'FJ30', 'FM30', 'FM60', 'HB20', 'HB30', 'HY30', 'HY60', 'KAT2', 'KAT4', 'LL1H', 'LL2H', 'MB2X', 'MF20', 'MF30', 'MF60', 'MT2B', 'MWS2', 'PB2X', 'PL15', 'PL20', 'PR20', 'PR30', 'PR40', 'PR60', 'RB15', 'RB20', 'RB30', 'RJ2X', 'SG10', 'SKT1', 'SKT2', 'SKT4', 'SN1X', 'SN2X', 'SNX1', 'SU24', 'SU60', 'SV60', 'TR1K', 'TR1К', 'TR2K', 'VAC2', 'VAT4', 'VAT6', 'VAWP', 'VBGH', 'VBGK', 'VCW1', 'VCW2', 'VCWH', 'VDTM', 'VEDC', 'VEFL', 'VFR2', 'VFRT', 'VGC1', 'VGC2', 'VGR1', 'VGR2', 'VGU2', 'VJT2', 'VKA2', 'VKA4', 'VKA6', 'VKAT', 'VKR1', 'VKR3', 'VKVS', 'VMB2', 'VMT2', 'VMT5', 'VMTT', 'VP1G', 'VPP2', 'VPPP', 'VPPS', 'VRCV', 'VRJ2', 'VRTV', 'VSG5', 'VSG7', 'VSH2', 'VSK2', 'VSKT', 'VSKV', 'VSUT', 'VSVH', 'VTB2', 'VTR1', 'VTR2', 'VW&F', 'VWPA', 'VWS1', 'VWS6', 'VWTF', 'VYAS', 'VYEP', 'WP15', 'WP2H', 'WP30', 'WP60', 'WS20', 'WS25', 'WS30', 'WS40', 'WS60', 'WTF2', 'WTF3', 'AT4', 'AT6', 'BGH', 'CW1', 'CW2', 'EDC', 'GC1', 'GC2', 'GR1', 'GR2', 'GU2', 'KA2', 'KA4', 'KA6', 'KAT', 'KR1', 'KR2', 'KR4', 'KS2', 'KVC', 'KVS', 'MB2', 'MT2', 'MT5', 'MTT', 'P1G', 'P1P', 'P2G', 'PB2', 'PP2', 'PPP', 'RCV', 'RJ2', 'RTV', 'RXV', 'SG7', 'SH2', 'SHH', 'SK2', 'SKV', 'SP2', 'TR1', 'TR2', 'VBG', 'VFR', 'VGU', 'VMB', 'VMT', 'VP1', 'VPB', 'VPH', 'VPP', 'VRC', 'VRJ', 'VRS', 'VS2', 'VSH', 'VSK', 'VSP', 'VST', 'VTR', 'VUN', 'VWF', 'VWS', 'W&F', 'YEP', 'КА2', 'AT', 'BG', 'F1', 'GU', 'KS', 'MB', 'MF', 'MT', 'P1', 'P2', 'PB', 'PH', 'PS', 'RC', 'RJ', 'RS', 'S2', 'SH', 'SP', 'ST', 'TR', 'UN', 'VS', 'WF', 'S']\n"
     ]
    }
   ],
   "source": [
    "print(prefix_amo)"
   ]
  },
  {
   "cell_type": "markdown",
   "id": "c1a9da75",
   "metadata": {},
   "source": [
    "Некоторые значения в code без разделителей, потому не выделились prefix и number"
   ]
  },
  {
   "cell_type": "markdown",
   "id": "2f6c4a2c",
   "metadata": {},
   "source": [
    "Отделение prefix от number"
   ]
  },
  {
   "cell_type": "code",
   "execution_count": 120,
   "id": "060d6c6e",
   "metadata": {},
   "outputs": [],
   "source": [
    "all_prefix_sort = all_prefix"
   ]
  },
  {
   "cell_type": "code",
   "execution_count": 121,
   "id": "97e9d3e8",
   "metadata": {},
   "outputs": [],
   "source": [
    "all_prefix_sort.sort(key=lambda x: len(x),reverse=True)"
   ]
  },
  {
   "cell_type": "code",
   "execution_count": 123,
   "id": "138b9728",
   "metadata": {},
   "outputs": [
    {
     "data": {
      "text/plain": [
       "['FMCS45R',\n",
       " '2MWP24',\n",
       " 'FMCS30',\n",
       " 'FMCS45',\n",
       " 'FMCS60',\n",
       " 'KVP1X1',\n",
       " 'KVP2X1',\n",
       " 'MEFL30',\n",
       " 'MEFL60',\n",
       " 'MSKI40',\n",
       " 'MSKI60',\n",
       " 'MWSN25',\n",
       " 'MWSN40',\n",
       " '2SU24',\n",
       " '2SU60',\n",
       " '2WP24',\n",
       " 'BF180',\n",
       " 'CSR60',\n",
       " 'DRC2H',\n",
       " 'DT230',\n",
       " 'DT240',\n",
       " 'DT260',\n",
       " 'EFL30',\n",
       " 'EFL60',\n",
       " 'ES130',\n",
       " 'ES160',\n",
       " 'ES230',\n",
       " 'ES260',\n",
       " 'FMP15',\n",
       " 'FMP30',\n",
       " 'FMS30',\n",
       " 'FMS45',\n",
       " 'FMS60',\n",
       " 'FROG1',\n",
       " 'FROG3',\n",
       " 'FROGM',\n",
       " 'GR1X1',\n",
       " 'GR2X1',\n",
       " 'KV1X1',\n",
       " 'KV2X1',\n",
       " 'LL1HP',\n",
       " 'LL2HP',\n",
       " 'MHB60',\n",
       " 'MHY30',\n",
       " 'MHY60',\n",
       " 'MMF20',\n",
       " 'MMF30',\n",
       " 'MMF60',\n",
       " 'MSU24',\n",
       " 'MSU60',\n",
       " 'MT10B',\n",
       " 'MWP15',\n",
       " 'MWP2H',\n",
       " 'MWP60',\n",
       " 'MWS25',\n",
       " 'MWS30',\n",
       " 'MWS40',\n",
       " 'MWSN1',\n",
       " 'MWSN2',\n",
       " 'SKI20',\n",
       " 'SKI40',\n",
       " 'SKI60',\n",
       " 'SKT10',\n",
       " 'SN1X1',\n",
       " 'SN2X1',\n",
       " 'WSN25',\n",
       " 'WSN40',\n",
       " 'WSN60',\n",
       " 'AB4G',\n",
       " 'AC30',\n",
       " 'AC60',\n",
       " 'AT10',\n",
       " 'AT15',\n",
       " 'AT30',\n",
       " 'AT4K',\n",
       " 'AT60',\n",
       " 'AT6K',\n",
       " 'BF40',\n",
       " 'BF90',\n",
       " 'BGKH',\n",
       " 'CS20',\n",
       " 'CS30',\n",
       " 'CS40',\n",
       " 'CS60',\n",
       " 'CW1T',\n",
       " 'CW2T',\n",
       " 'DRCH',\n",
       " 'DT30',\n",
       " 'DT32',\n",
       " 'DT40',\n",
       " 'DT42',\n",
       " 'DT60',\n",
       " 'DT62',\n",
       " 'EB1X',\n",
       " 'EB2X',\n",
       " 'EB4X',\n",
       " 'ED3H',\n",
       " 'EF30',\n",
       " 'EF60',\n",
       " 'ESG1',\n",
       " 'ESG2',\n",
       " 'ESG4',\n",
       " 'FJ30',\n",
       " 'FM30',\n",
       " 'FM45',\n",
       " 'FM60',\n",
       " 'FR2,',\n",
       " 'FRTK',\n",
       " 'HB20',\n",
       " 'HB30',\n",
       " 'HB60',\n",
       " 'HY30',\n",
       " 'HY60',\n",
       " 'ICE1',\n",
       " 'ICE2',\n",
       " 'KAT2',\n",
       " 'KAT4',\n",
       " 'KYT2',\n",
       " 'LB1X',\n",
       " 'LB2X',\n",
       " 'LB4X',\n",
       " 'LL1H',\n",
       " 'LL2H',\n",
       " 'LL3H',\n",
       " 'MB2X',\n",
       " 'MF20',\n",
       " 'MF30',\n",
       " 'MF60',\n",
       " 'MT10',\n",
       " 'MT2B',\n",
       " 'MT5B',\n",
       " 'MW&F',\n",
       " 'MWS1',\n",
       " 'MWS2',\n",
       " 'PB2X',\n",
       " 'PL15',\n",
       " 'PL20',\n",
       " 'PL30',\n",
       " 'PP2P',\n",
       " 'PP2S',\n",
       " 'PR20',\n",
       " 'PR30',\n",
       " 'PR40',\n",
       " 'PR60',\n",
       " 'RB15',\n",
       " 'RB20',\n",
       " 'RB30',\n",
       " 'RB40',\n",
       " 'RB60',\n",
       " 'RJ1X',\n",
       " 'RJ2X',\n",
       " 'RJXX',\n",
       " 'SG10',\n",
       " 'SK2V',\n",
       " 'SKT1',\n",
       " 'SKT2',\n",
       " 'SKT4',\n",
       " 'SKT6',\n",
       " 'SN1X',\n",
       " 'SN2X',\n",
       " 'SU24',\n",
       " 'SU60',\n",
       " 'TR1K',\n",
       " 'TR2K',\n",
       " 'WP15',\n",
       " 'WP2H',\n",
       " 'WP30',\n",
       " 'WP60',\n",
       " 'WS20',\n",
       " 'WS25',\n",
       " 'WS30',\n",
       " 'WS40',\n",
       " 'WS60',\n",
       " 'WSN1',\n",
       " 'WSN2',\n",
       " 'WTF2',\n",
       " 'WTF3',\n",
       " 'AB4',\n",
       " 'ABG',\n",
       " 'AC2',\n",
       " 'AT4',\n",
       " 'AT6',\n",
       " 'BC1',\n",
       " 'BC2',\n",
       " 'BCR',\n",
       " 'BGH',\n",
       " 'BGK',\n",
       " 'CW1',\n",
       " 'CW2',\n",
       " 'CWH',\n",
       " 'DTM',\n",
       " 'EDC',\n",
       " 'F1K',\n",
       " 'FDK',\n",
       " 'FR2',\n",
       " 'FRK',\n",
       " 'FRT',\n",
       " 'GC1',\n",
       " 'GC2',\n",
       " 'GR1',\n",
       " 'GR2',\n",
       " 'GU2',\n",
       " 'KA2',\n",
       " 'KA4',\n",
       " 'KA6',\n",
       " 'KAT',\n",
       " 'KR1',\n",
       " 'KR2',\n",
       " 'KR3',\n",
       " 'KR4',\n",
       " 'KR6',\n",
       " 'KS2',\n",
       " 'KVS',\n",
       " 'KW2',\n",
       " 'KYT',\n",
       " 'MB2',\n",
       " 'MT2',\n",
       " 'MT5',\n",
       " 'MTT',\n",
       " 'OW2',\n",
       " 'OWG',\n",
       " 'OWI',\n",
       " 'P1G',\n",
       " 'P1P',\n",
       " 'P2G',\n",
       " 'P2P',\n",
       " 'PB2',\n",
       " 'PP2',\n",
       " 'PPP',\n",
       " 'PPS',\n",
       " 'PPT',\n",
       " 'RCV',\n",
       " 'RJ2',\n",
       " 'RTV',\n",
       " 'RXV',\n",
       " 'SG5',\n",
       " 'SG7',\n",
       " 'SH2',\n",
       " 'SHH',\n",
       " 'SK2',\n",
       " 'SKT',\n",
       " 'SKV',\n",
       " 'SP2',\n",
       " 'SUT',\n",
       " 'TB2',\n",
       " 'TB4',\n",
       " 'TR1',\n",
       " 'TR2',\n",
       " 'UNI',\n",
       " 'W&F',\n",
       " 'WS1',\n",
       " 'WS2',\n",
       " 'YAS',\n",
       " 'YEP',\n",
       " 'YHD',\n",
       " 'AB',\n",
       " 'BG',\n",
       " 'F1',\n",
       " 'F2',\n",
       " 'FD',\n",
       " 'FR',\n",
       " 'GU',\n",
       " 'ID',\n",
       " 'KS',\n",
       " 'KW',\n",
       " 'MB',\n",
       " 'MT',\n",
       " 'P1',\n",
       " 'P2',\n",
       " 'PB',\n",
       " 'PH',\n",
       " 'PP',\n",
       " 'PS',\n",
       " 'RC',\n",
       " 'RJ',\n",
       " 'RS',\n",
       " 'RT',\n",
       " 'RX',\n",
       " 'S2',\n",
       " 'SC',\n",
       " 'SH',\n",
       " 'SK',\n",
       " 'SP',\n",
       " 'ST',\n",
       " 'TB',\n",
       " 'TR',\n",
       " 'TX',\n",
       " 'UC',\n",
       " 'UN',\n",
       " 'VD',\n",
       " 'S']"
      ]
     },
     "execution_count": 123,
     "metadata": {},
     "output_type": "execute_result"
    }
   ],
   "source": [
    "all_prefix_sort"
   ]
  },
  {
   "cell_type": "code",
   "execution_count": 122,
   "id": "36fea7c4",
   "metadata": {},
   "outputs": [],
   "source": [
    "def separate_prefix_number(row):\n",
    "    \n",
    "    pl = all_prefix_sort\n",
    "    #print(pl)\n",
    "    v = row['code']\n",
    "    if row['prefix'] == '':\n",
    "        not_find = True\n",
    "        amo_id = row['amo_id']\n",
    "        \n",
    "        for el in pl:\n",
    "            if el == row['code'][0:len(el)+1]:\n",
    "                print(el, row['code'][0:len(el)+1], row['code'])\n",
    "            #if el in row['code']:\n",
    "                try:\n",
    "                    v = el + '_' + row['code'][len(el):]\n",
    "                    not_find = False\n",
    "                except:\n",
    "                    pass\n",
    "#                 finally:\n",
    "#                     return v\n",
    "        if not_find:\n",
    "            pl = prefix_amo   \n",
    "            #print(pl)\n",
    "            for el in pl:\n",
    "                #print(el,row['code'][0:len(el)])\n",
    "                if el == row['code'][0:len(el)]:\n",
    "                    #print(el, row['code'][0:len(el)+1], row['code'])\n",
    "                #if el in row['code']:\n",
    "                    try:\n",
    "                        v = el + '_' + row['code'][len(el):]\n",
    "                    except:\n",
    "                        pass\n",
    "#                 finally:\n",
    "#                     return v\n",
    "    return v"
   ]
  },
  {
   "cell_type": "code",
   "execution_count": 118,
   "id": "391855a0",
   "metadata": {},
   "outputs": [
    {
     "ename": "TypeError",
     "evalue": "'NoneType' object is not iterable",
     "output_type": "error",
     "traceback": [
      "\u001b[1;31m---------------------------------------------------------------------------\u001b[0m",
      "\u001b[1;31mTypeError\u001b[0m                                 Traceback (most recent call last)",
      "Cell \u001b[1;32mIn[118], line 1\u001b[0m\n\u001b[1;32m----> 1\u001b[0m df_amo_temp[\u001b[38;5;124m'\u001b[39m\u001b[38;5;124mcode\u001b[39m\u001b[38;5;124m'\u001b[39m] \u001b[38;5;241m=\u001b[39m df_amo_temp\u001b[38;5;241m.\u001b[39mapply(separate_prefix_number,axis\u001b[38;5;241m=\u001b[39m\u001b[38;5;241m1\u001b[39m)\n",
      "File \u001b[1;32mC:\\ProgramData\\anaconda3\\Lib\\site-packages\\pandas\\core\\frame.py:9423\u001b[0m, in \u001b[0;36mDataFrame.apply\u001b[1;34m(self, func, axis, raw, result_type, args, **kwargs)\u001b[0m\n\u001b[0;32m   9412\u001b[0m \u001b[38;5;28;01mfrom\u001b[39;00m \u001b[38;5;21;01mpandas\u001b[39;00m\u001b[38;5;21;01m.\u001b[39;00m\u001b[38;5;21;01mcore\u001b[39;00m\u001b[38;5;21;01m.\u001b[39;00m\u001b[38;5;21;01mapply\u001b[39;00m \u001b[38;5;28;01mimport\u001b[39;00m frame_apply\n\u001b[0;32m   9414\u001b[0m op \u001b[38;5;241m=\u001b[39m frame_apply(\n\u001b[0;32m   9415\u001b[0m     \u001b[38;5;28mself\u001b[39m,\n\u001b[0;32m   9416\u001b[0m     func\u001b[38;5;241m=\u001b[39mfunc,\n\u001b[1;32m   (...)\u001b[0m\n\u001b[0;32m   9421\u001b[0m     kwargs\u001b[38;5;241m=\u001b[39mkwargs,\n\u001b[0;32m   9422\u001b[0m )\n\u001b[1;32m-> 9423\u001b[0m \u001b[38;5;28;01mreturn\u001b[39;00m op\u001b[38;5;241m.\u001b[39mapply()\u001b[38;5;241m.\u001b[39m__finalize__(\u001b[38;5;28mself\u001b[39m, method\u001b[38;5;241m=\u001b[39m\u001b[38;5;124m\"\u001b[39m\u001b[38;5;124mapply\u001b[39m\u001b[38;5;124m\"\u001b[39m)\n",
      "File \u001b[1;32mC:\\ProgramData\\anaconda3\\Lib\\site-packages\\pandas\\core\\apply.py:678\u001b[0m, in \u001b[0;36mFrameApply.apply\u001b[1;34m(self)\u001b[0m\n\u001b[0;32m    675\u001b[0m \u001b[38;5;28;01melif\u001b[39;00m \u001b[38;5;28mself\u001b[39m\u001b[38;5;241m.\u001b[39mraw:\n\u001b[0;32m    676\u001b[0m     \u001b[38;5;28;01mreturn\u001b[39;00m \u001b[38;5;28mself\u001b[39m\u001b[38;5;241m.\u001b[39mapply_raw()\n\u001b[1;32m--> 678\u001b[0m \u001b[38;5;28;01mreturn\u001b[39;00m \u001b[38;5;28mself\u001b[39m\u001b[38;5;241m.\u001b[39mapply_standard()\n",
      "File \u001b[1;32mC:\\ProgramData\\anaconda3\\Lib\\site-packages\\pandas\\core\\apply.py:798\u001b[0m, in \u001b[0;36mFrameApply.apply_standard\u001b[1;34m(self)\u001b[0m\n\u001b[0;32m    797\u001b[0m \u001b[38;5;28;01mdef\u001b[39;00m \u001b[38;5;21mapply_standard\u001b[39m(\u001b[38;5;28mself\u001b[39m):\n\u001b[1;32m--> 798\u001b[0m     results, res_index \u001b[38;5;241m=\u001b[39m \u001b[38;5;28mself\u001b[39m\u001b[38;5;241m.\u001b[39mapply_series_generator()\n\u001b[0;32m    800\u001b[0m     \u001b[38;5;66;03m# wrap results\u001b[39;00m\n\u001b[0;32m    801\u001b[0m     \u001b[38;5;28;01mreturn\u001b[39;00m \u001b[38;5;28mself\u001b[39m\u001b[38;5;241m.\u001b[39mwrap_results(results, res_index)\n",
      "File \u001b[1;32mC:\\ProgramData\\anaconda3\\Lib\\site-packages\\pandas\\core\\apply.py:814\u001b[0m, in \u001b[0;36mFrameApply.apply_series_generator\u001b[1;34m(self)\u001b[0m\n\u001b[0;32m    811\u001b[0m \u001b[38;5;28;01mwith\u001b[39;00m option_context(\u001b[38;5;124m\"\u001b[39m\u001b[38;5;124mmode.chained_assignment\u001b[39m\u001b[38;5;124m\"\u001b[39m, \u001b[38;5;28;01mNone\u001b[39;00m):\n\u001b[0;32m    812\u001b[0m     \u001b[38;5;28;01mfor\u001b[39;00m i, v \u001b[38;5;129;01min\u001b[39;00m \u001b[38;5;28menumerate\u001b[39m(series_gen):\n\u001b[0;32m    813\u001b[0m         \u001b[38;5;66;03m# ignore SettingWithCopy here in case the user mutates\u001b[39;00m\n\u001b[1;32m--> 814\u001b[0m         results[i] \u001b[38;5;241m=\u001b[39m \u001b[38;5;28mself\u001b[39m\u001b[38;5;241m.\u001b[39mf(v)\n\u001b[0;32m    815\u001b[0m         \u001b[38;5;28;01mif\u001b[39;00m \u001b[38;5;28misinstance\u001b[39m(results[i], ABCSeries):\n\u001b[0;32m    816\u001b[0m             \u001b[38;5;66;03m# If we have a view on v, we need to make a copy because\u001b[39;00m\n\u001b[0;32m    817\u001b[0m             \u001b[38;5;66;03m#  series_generator will swap out the underlying data\u001b[39;00m\n\u001b[0;32m    818\u001b[0m             results[i] \u001b[38;5;241m=\u001b[39m results[i]\u001b[38;5;241m.\u001b[39mcopy(deep\u001b[38;5;241m=\u001b[39m\u001b[38;5;28;01mFalse\u001b[39;00m)\n",
      "Cell \u001b[1;32mIn[117], line 10\u001b[0m, in \u001b[0;36mseparate_prefix_number\u001b[1;34m(row)\u001b[0m\n\u001b[0;32m      7\u001b[0m not_find \u001b[38;5;241m=\u001b[39m \u001b[38;5;28;01mTrue\u001b[39;00m\n\u001b[0;32m      8\u001b[0m amo_id \u001b[38;5;241m=\u001b[39m row[\u001b[38;5;124m'\u001b[39m\u001b[38;5;124mamo_id\u001b[39m\u001b[38;5;124m'\u001b[39m]\n\u001b[1;32m---> 10\u001b[0m \u001b[38;5;28;01mfor\u001b[39;00m el \u001b[38;5;129;01min\u001b[39;00m pl:\n\u001b[0;32m     11\u001b[0m     \u001b[38;5;28;01mif\u001b[39;00m el \u001b[38;5;241m==\u001b[39m row[\u001b[38;5;124m'\u001b[39m\u001b[38;5;124mcode\u001b[39m\u001b[38;5;124m'\u001b[39m][\u001b[38;5;241m0\u001b[39m:\u001b[38;5;28mlen\u001b[39m(el)\u001b[38;5;241m+\u001b[39m\u001b[38;5;241m1\u001b[39m]:\n\u001b[0;32m     12\u001b[0m         \u001b[38;5;28mprint\u001b[39m(el, row[\u001b[38;5;124m'\u001b[39m\u001b[38;5;124mcode\u001b[39m\u001b[38;5;124m'\u001b[39m][\u001b[38;5;241m0\u001b[39m:\u001b[38;5;28mlen\u001b[39m(el)\u001b[38;5;241m+\u001b[39m\u001b[38;5;241m1\u001b[39m], row[\u001b[38;5;124m'\u001b[39m\u001b[38;5;124mcode\u001b[39m\u001b[38;5;124m'\u001b[39m])\n",
      "\u001b[1;31mTypeError\u001b[0m: 'NoneType' object is not iterable"
     ]
    }
   ],
   "source": [
    "df_amo_temp['code'] = df_amo_temp.apply(separate_prefix_number,axis=1)"
   ]
  },
  {
   "cell_type": "code",
   "execution_count": null,
   "id": "8b0acb68",
   "metadata": {
    "scrolled": true
   },
   "outputs": [],
   "source": [
    "df_amo_temp.head(5)"
   ]
  },
  {
   "cell_type": "code",
   "execution_count": null,
   "id": "c38c79ea",
   "metadata": {},
   "outputs": [],
   "source": [
    "df_amo_temp.loc[df_amo_temp['prefix'] == '','prefix'] = \\\n",
    "df_amo_temp['code'].apply(lambda x: re.split('[_]',x)[0] if ' ' in x or '_' in x else '')"
   ]
  },
  {
   "cell_type": "code",
   "execution_count": null,
   "id": "45f35265",
   "metadata": {},
   "outputs": [],
   "source": [
    "df_amo_temp.loc[df_amo_temp['number'] == '','number'] = \\\n",
    "df_amo_temp['code'].apply(lambda x: re.split('[_]',x)[1] if ' ' in x or '_' in x else '')"
   ]
  },
  {
   "cell_type": "code",
   "execution_count": null,
   "id": "a04f4728",
   "metadata": {},
   "outputs": [],
   "source": [
    "df_amo_temp.head(5)"
   ]
  },
  {
   "cell_type": "code",
   "execution_count": null,
   "id": "32283ab8",
   "metadata": {},
   "outputs": [],
   "source": [
    "df_not_separate_prefix = df_amo_temp.loc[~df_amo_temp['code'].str.contains('_')]"
   ]
  },
  {
   "cell_type": "code",
   "execution_count": null,
   "id": "38dbadfc",
   "metadata": {},
   "outputs": [],
   "source": [
    "df_not_separate_prefix.shape"
   ]
  },
  {
   "cell_type": "code",
   "execution_count": null,
   "id": "8cdcf282",
   "metadata": {},
   "outputs": [],
   "source": [
    "df_not_separate_prefix"
   ]
  },
  {
   "cell_type": "code",
   "execution_count": null,
   "id": "879e9efc",
   "metadata": {},
   "outputs": [],
   "source": [
    "df_amo_temp['code'] = df_amo_temp.apply(lambda x: re.sub(r'(W)(F)', r'\\1&\\2', x['code']),axis=1)"
   ]
  },
  {
   "cell_type": "code",
   "execution_count": null,
   "id": "82bd43c7",
   "metadata": {},
   "outputs": [],
   "source": []
  },
  {
   "cell_type": "markdown",
   "id": "24fdf76f",
   "metadata": {},
   "source": [
    "#### Дополнительное поле prefix_V для \"чистых префиксов\" (без V)"
   ]
  },
  {
   "cell_type": "code",
   "execution_count": null,
   "id": "1dbf7429",
   "metadata": {},
   "outputs": [],
   "source": [
    "df_amo_temp['prefix'] = df_amo_temp.apply(lambda x: replace_cirillic_latin(x['prefix']),axis=1)"
   ]
  },
  {
   "cell_type": "code",
   "execution_count": null,
   "id": "c6a70900",
   "metadata": {},
   "outputs": [],
   "source": [
    "df_amo_temp['prefix_V'] = df_amo_temp['prefix']"
   ]
  },
  {
   "cell_type": "code",
   "execution_count": null,
   "id": "e9c8ae66",
   "metadata": {},
   "outputs": [],
   "source": [
    "df_amo_temp.loc[(df_amo_temp['prefix'].str[0] == 'V'),'prefix_V'] = df_amo_temp['prefix'].str[1:]"
   ]
  },
  {
   "cell_type": "code",
   "execution_count": null,
   "id": "7927ead1",
   "metadata": {},
   "outputs": [],
   "source": [
    "df_amo_temp.head()"
   ]
  },
  {
   "cell_type": "markdown",
   "id": "6c572ef9",
   "metadata": {},
   "source": [
    "#### Отсутствующие префиксы"
   ]
  },
  {
   "cell_type": "code",
   "execution_count": null,
   "id": "99c3a0cf",
   "metadata": {},
   "outputs": [],
   "source": [
    "prefix_amo = list(df_amo_temp['prefix_V'].unique())\n",
    "prefix_amo.sort()\n",
    "#prefix_amo = prefix_amo[1:]"
   ]
  },
  {
   "cell_type": "code",
   "execution_count": null,
   "id": "164076b0",
   "metadata": {},
   "outputs": [],
   "source": []
  },
  {
   "cell_type": "markdown",
   "id": "e8a20329",
   "metadata": {},
   "source": [
    "##### Префиксы в AMO"
   ]
  },
  {
   "cell_type": "code",
   "execution_count": null,
   "id": "4315a03e",
   "metadata": {},
   "outputs": [],
   "source": [
    "print(prefix_amo)"
   ]
  },
  {
   "cell_type": "markdown",
   "id": "68eb72d5",
   "metadata": {},
   "source": [
    "##### Префиксы, отсутсвующие в общем списке"
   ]
  },
  {
   "cell_type": "code",
   "execution_count": null,
   "id": "c166bdf9",
   "metadata": {},
   "outputs": [],
   "source": [
    "#missing_prefix = set(prefix_value).difference(set(prefix_amo))\n",
    "missing_prefix = list(set(prefix_amo)-(set(all_prefix)))\n",
    "missing_prefix.sort()"
   ]
  },
  {
   "cell_type": "code",
   "execution_count": null,
   "id": "959381ea",
   "metadata": {
    "scrolled": true
   },
   "outputs": [],
   "source": [
    "print(missing_prefix)"
   ]
  },
  {
   "cell_type": "code",
   "execution_count": null,
   "id": "12ca723d",
   "metadata": {
    "scrolled": true
   },
   "outputs": [],
   "source": [
    "len(missing_prefix)"
   ]
  },
  {
   "cell_type": "code",
   "execution_count": null,
   "id": "a74fc073",
   "metadata": {},
   "outputs": [],
   "source": [
    "print('AT'=='AT')"
   ]
  },
  {
   "cell_type": "markdown",
   "id": "eea30237",
   "metadata": {},
   "source": [
    "#### Товары, префиксы которых отсутствуют в списке категорий"
   ]
  },
  {
   "cell_type": "code",
   "execution_count": null,
   "id": "2d78ca9d",
   "metadata": {},
   "outputs": [],
   "source": [
    "df_amo_missing_prefix = df_amo_temp.query('prefix in @missing_prefix')"
   ]
  },
  {
   "cell_type": "code",
   "execution_count": null,
   "id": "e66c00e8",
   "metadata": {
    "scrolled": true
   },
   "outputs": [],
   "source": [
    "df_amo_missing_prefix.head()"
   ]
  },
  {
   "cell_type": "code",
   "execution_count": null,
   "id": "142d4568",
   "metadata": {},
   "outputs": [],
   "source": [
    "df_amo_missing_prefix.shape"
   ]
  },
  {
   "cell_type": "markdown",
   "id": "32af82d7",
   "metadata": {},
   "source": [
    "Количество записей для префиксов, отсутствующих в общей базе"
   ]
  },
  {
   "cell_type": "code",
   "execution_count": null,
   "id": "0997669e",
   "metadata": {
    "scrolled": true
   },
   "outputs": [],
   "source": [
    "df_amo_missing_prefix.groupby(['prefix'])['prefix'].count()"
   ]
  },
  {
   "cell_type": "code",
   "execution_count": null,
   "id": "16292876",
   "metadata": {},
   "outputs": [],
   "source": [
    "df111 = df_amo_temp.query('prefix == \"MF\"')"
   ]
  },
  {
   "cell_type": "code",
   "execution_count": null,
   "id": "953adb7e",
   "metadata": {},
   "outputs": [],
   "source": [
    "df111.head(10)"
   ]
  },
  {
   "cell_type": "markdown",
   "id": "8ba477ba",
   "metadata": {},
   "source": [
    "Префиксу WF соответствует W&F"
   ]
  },
  {
   "cell_type": "code",
   "execution_count": null,
   "id": "97457053",
   "metadata": {},
   "outputs": [],
   "source": [
    "df_amo_temp.loc[df_amo_temp['prefix_V'] == 'WF','prefix_V'] = 'W&F'"
   ]
  },
  {
   "cell_type": "code",
   "execution_count": null,
   "id": "4ee00de5",
   "metadata": {},
   "outputs": [],
   "source": [
    "df_amo_temp.loc[df_amo_temp['prefix'] == 'WF','prefix'] = 'W&F'"
   ]
  },
  {
   "cell_type": "code",
   "execution_count": null,
   "id": "63057867",
   "metadata": {},
   "outputs": [],
   "source": [
    "df_amo_temp.loc[df_amo_temp['prefix'] == 'VWF','prefix'] = 'VW&F'"
   ]
  },
  {
   "cell_type": "code",
   "execution_count": null,
   "id": "ee5d3665",
   "metadata": {},
   "outputs": [],
   "source": []
  },
  {
   "cell_type": "markdown",
   "id": "24ce9355",
   "metadata": {},
   "source": [
    "#### База АМО без prefix"
   ]
  },
  {
   "cell_type": "code",
   "execution_count": null,
   "id": "61541b7d",
   "metadata": {},
   "outputs": [],
   "source": [
    "df_amo_without_prefix = df_amo_temp.loc[df_amo_temp['prefix'] == '']"
   ]
  },
  {
   "cell_type": "code",
   "execution_count": null,
   "id": "36c05f4c",
   "metadata": {},
   "outputs": [],
   "source": [
    "df_amo_without_prefix.shape"
   ]
  },
  {
   "cell_type": "code",
   "execution_count": null,
   "id": "e0a50f4c",
   "metadata": {
    "scrolled": false
   },
   "outputs": [],
   "source": [
    "df_amo_without_prefix.head()"
   ]
  },
  {
   "cell_type": "code",
   "execution_count": null,
   "id": "afb5eff1",
   "metadata": {},
   "outputs": [],
   "source": []
  },
  {
   "cell_type": "code",
   "execution_count": null,
   "id": "e3048e69",
   "metadata": {},
   "outputs": [],
   "source": [
    "#df_amo_temp = df_amo_temp.loc[df_amo_temp['prefix'] != '']"
   ]
  },
  {
   "cell_type": "code",
   "execution_count": null,
   "id": "c538ad41",
   "metadata": {},
   "outputs": [],
   "source": [
    "df_amo_temp['card_type'] ='paper'"
   ]
  },
  {
   "cell_type": "code",
   "execution_count": null,
   "id": "180fc17b",
   "metadata": {},
   "outputs": [],
   "source": [
    "#df_amo_temp['series'] =''"
   ]
  },
  {
   "cell_type": "code",
   "execution_count": null,
   "id": "f8288dd1",
   "metadata": {},
   "outputs": [],
   "source": [
    "df_amo_temp['design_type'] = 'design1'"
   ]
  },
  {
   "cell_type": "code",
   "execution_count": null,
   "id": "8d40fe8a",
   "metadata": {},
   "outputs": [],
   "source": [
    "df_amo_temp['status'] = ''"
   ]
  },
  {
   "cell_type": "code",
   "execution_count": null,
   "id": "037bcd99",
   "metadata": {},
   "outputs": [],
   "source": [
    "#df_amo_temp['stock_status'] = ''"
   ]
  },
  {
   "cell_type": "code",
   "execution_count": null,
   "id": "6e6a206b",
   "metadata": {},
   "outputs": [],
   "source": [
    "df_amo_temp['sale_price'] = 0"
   ]
  },
  {
   "cell_type": "code",
   "execution_count": null,
   "id": "8ce7444a",
   "metadata": {},
   "outputs": [],
   "source": [
    "df_amo_temp['expiry_date'] = ''"
   ]
  },
  {
   "cell_type": "code",
   "execution_count": null,
   "id": "4714dc97",
   "metadata": {},
   "outputs": [],
   "source": [
    "df_amo_temp['created_at'] = ''"
   ]
  },
  {
   "cell_type": "code",
   "execution_count": null,
   "id": "75bc26fc",
   "metadata": {},
   "outputs": [],
   "source": [
    "df_amo_temp['updated_at'] = ''"
   ]
  },
  {
   "cell_type": "code",
   "execution_count": null,
   "id": "59ee39f9",
   "metadata": {},
   "outputs": [],
   "source": [
    "df_amo_temp['deleted_at'] = ''"
   ]
  },
  {
   "cell_type": "code",
   "execution_count": null,
   "id": "911deef9",
   "metadata": {},
   "outputs": [],
   "source": [
    "df_amo_temp.loc[(df_amo_temp['card_used_date'].notna()) |  (df_amo_temp['статус_погашения'] == 'Погашен'),'status'] = 'sold_used'"
   ]
  },
  {
   "cell_type": "code",
   "execution_count": null,
   "id": "08c40913",
   "metadata": {},
   "outputs": [],
   "source": [
    "df_amo_temp['supplier_payment_date'] = df_amo_temp['card_used_date']"
   ]
  },
  {
   "cell_type": "code",
   "execution_count": null,
   "id": "69e81203",
   "metadata": {
    "scrolled": true
   },
   "outputs": [],
   "source": [
    "df_amo_temp.query('status==\"sold_used\"').head()"
   ]
  },
  {
   "cell_type": "markdown",
   "id": "31fe6483",
   "metadata": {},
   "source": [
    "### Обработка поля **status**"
   ]
  },
  {
   "cell_type": "code",
   "execution_count": null,
   "id": "e526b674",
   "metadata": {},
   "outputs": [],
   "source": [
    "df_amo_temp.loc[(df_amo_temp['card_used_date'].notna()) |  \\\n",
    "                (df_amo_temp['статус_погашения'] == 'Погашен'),'status'] = 'sold_used'"
   ]
  },
  {
   "cell_type": "code",
   "execution_count": null,
   "id": "5196d79d",
   "metadata": {},
   "outputs": [],
   "source": []
  },
  {
   "cell_type": "code",
   "execution_count": null,
   "id": "6b587083",
   "metadata": {},
   "outputs": [],
   "source": []
  },
  {
   "cell_type": "markdown",
   "id": "3ff7d6a6",
   "metadata": {},
   "source": [
    "### Обработка **sale_price**"
   ]
  },
  {
   "cell_type": "markdown",
   "id": "a6cac140",
   "metadata": {},
   "source": [
    "#### Строки, являющиеся корневыми сделками"
   ]
  },
  {
   "cell_type": "code",
   "execution_count": null,
   "id": "7b720c45",
   "metadata": {},
   "outputs": [],
   "source": [
    "lst_root_deal = list(df_amo_temp.query('корневая_сделка.notna()')['корневая_сделка'])"
   ]
  },
  {
   "cell_type": "code",
   "execution_count": null,
   "id": "da7e3bfe",
   "metadata": {},
   "outputs": [],
   "source": [
    "print(lst_root_deal)"
   ]
  },
  {
   "cell_type": "code",
   "execution_count": null,
   "id": "555abdd0",
   "metadata": {},
   "outputs": [],
   "source": [
    "len(lst_root_deal)"
   ]
  },
  {
   "cell_type": "code",
   "execution_count": null,
   "id": "99a6db8f",
   "metadata": {},
   "outputs": [],
   "source": [
    "def clear_num(num):\n",
    "    \"\"\"\n",
    "    Очистка id корневой сделки и перевод ео в int\n",
    "    \"\"\"\n",
    "    if num.isdigit():\n",
    "        return int(num)\n",
    "    else:\n",
    "        l = len(num)-1\n",
    "        while l>0:\n",
    "            if num[l].isdigit():\n",
    "                l -= 1\n",
    "            else:\n",
    "                break\n",
    "        return int(num[l+1:])"
   ]
  },
  {
   "cell_type": "markdown",
   "id": "0e7b49ac",
   "metadata": {},
   "source": [
    "Проверка:"
   ]
  },
  {
   "cell_type": "code",
   "execution_count": null,
   "id": "f0756bd0",
   "metadata": {},
   "outputs": [],
   "source": [
    "print(clear_num('КR2_230212'))"
   ]
  },
  {
   "cell_type": "code",
   "execution_count": null,
   "id": "87b84602",
   "metadata": {},
   "outputs": [],
   "source": [
    "lst_root_deal = list(map(clear_num,lst_root_deal))"
   ]
  },
  {
   "cell_type": "markdown",
   "id": "ac93b03e",
   "metadata": {},
   "source": [
    "Список id строк, являющимися корневыми сделками"
   ]
  },
  {
   "cell_type": "code",
   "execution_count": null,
   "id": "a3320bb8",
   "metadata": {},
   "outputs": [],
   "source": [
    "print(lst_root_deal)"
   ]
  },
  {
   "cell_type": "code",
   "execution_count": null,
   "id": "b0ee7eee",
   "metadata": {},
   "outputs": [],
   "source": [
    "df_amo_temp.query('amo_id in @lst_root_deal').head()"
   ]
  },
  {
   "cell_type": "code",
   "execution_count": null,
   "id": "5ed64bd7",
   "metadata": {},
   "outputs": [],
   "source": []
  },
  {
   "cell_type": "markdown",
   "id": "526961fb",
   "metadata": {},
   "source": [
    "Если в сделке 1 товар и сделка не имеет производных сделок, то использовать значение поля SUBTOTAL"
   ]
  },
  {
   "cell_type": "markdown",
   "id": "2228f2a5",
   "metadata": {},
   "source": [
    "#### Расчет sale_price для обычных товаров"
   ]
  },
  {
   "cell_type": "code",
   "execution_count": null,
   "id": "b793ed5c",
   "metadata": {},
   "outputs": [],
   "source": [
    "df_amo_temp.loc[(df_amo_temp['номер_2-го_сертификата'].isna()) & \\\n",
    "                (df_amo_temp['номер_3-го_сертификата'].isna()) & \\\n",
    "                (df_amo_temp['номер_4-го_сертификата'].isna()) & \\\n",
    "                (df_amo_temp['номер_5-го_сертификата'].isna()) & \\\n",
    "                (df_amo_temp['сертификат_на_тренера'].isna()) &\\\n",
    "                (~df_amo_temp['amo_id'].isin(lst_root_deal)) &\\\n",
    "                (df_amo_temp['корневая_сделка'].isna()),\\\n",
    "                'sale_price'] = df_amo_temp['subtotal']"
   ]
  },
  {
   "cell_type": "markdown",
   "id": "392966a5",
   "metadata": {},
   "source": [
    "Проверка"
   ]
  },
  {
   "cell_type": "markdown",
   "id": "fcafda23",
   "metadata": {},
   "source": [
    "Сумма поля sale_price для сделок, являющихся корневыми"
   ]
  },
  {
   "cell_type": "code",
   "execution_count": null,
   "id": "0990bff6",
   "metadata": {},
   "outputs": [],
   "source": [
    "df_amo_temp.query('amo_id in @lst_root_deal')['sale_price'].sum()"
   ]
  },
  {
   "cell_type": "markdown",
   "id": "6c2a479d",
   "metadata": {},
   "source": [
    "Сумма поля sale_price для сделок, не являющихся корневыми, не имеющих 2 серт, не имеющих серт на тренера и фотографа"
   ]
  },
  {
   "cell_type": "code",
   "execution_count": null,
   "id": "4907ce5b",
   "metadata": {},
   "outputs": [],
   "source": [
    "df_amo_temp.query('amo_id in @lst_root_deal')['subtotal'].sum()"
   ]
  },
  {
   "cell_type": "code",
   "execution_count": null,
   "id": "71692f75",
   "metadata": {},
   "outputs": [],
   "source": [
    "df_amo_temp.head()"
   ]
  },
  {
   "cell_type": "markdown",
   "id": "437903ec",
   "metadata": {},
   "source": [
    "База АМО c prefix"
   ]
  },
  {
   "cell_type": "code",
   "execution_count": null,
   "id": "e21b0018",
   "metadata": {},
   "outputs": [],
   "source": [
    "df_amo_temp = df_amo_temp.loc[df_amo_temp['prefix'] != '']"
   ]
  },
  {
   "cell_type": "code",
   "execution_count": null,
   "id": "53e05f55",
   "metadata": {},
   "outputs": [],
   "source": [
    "df_amo_temp.shape"
   ]
  },
  {
   "cell_type": "code",
   "execution_count": null,
   "id": "6e0e8a4d",
   "metadata": {},
   "outputs": [],
   "source": [
    "df_amo_temp['card_type'] = df_amo_temp['prefix'].apply(lambda x: 'electronic' if x[0] == 'V' else 'paper')"
   ]
  },
  {
   "cell_type": "code",
   "execution_count": null,
   "id": "cd15e33f",
   "metadata": {},
   "outputs": [],
   "source": [
    "df_amo_temp.query('amo_id==26139623').head()"
   ]
  },
  {
   "cell_type": "code",
   "execution_count": null,
   "id": "d584158b",
   "metadata": {
    "scrolled": true
   },
   "outputs": [],
   "source": [
    "#df_amo_temp.query('корневая_сделка.notna()')"
   ]
  },
  {
   "cell_type": "markdown",
   "id": "d4c174aa",
   "metadata": {},
   "source": [
    "#Проверка:"
   ]
  },
  {
   "cell_type": "code",
   "execution_count": null,
   "id": "63191f3c",
   "metadata": {},
   "outputs": [],
   "source": [
    "#pp = df_amo_temp.query('amo_id == 26139797')"
   ]
  },
  {
   "cell_type": "code",
   "execution_count": null,
   "id": "88f79ee2",
   "metadata": {},
   "outputs": [],
   "source": [
    "#pp"
   ]
  },
  {
   "cell_type": "markdown",
   "id": "cc068ebd",
   "metadata": {},
   "source": [
    "#### Расчет sale_price для корневых, имеющих 2-й сертификат"
   ]
  },
  {
   "cell_type": "markdown",
   "id": "2dbe320e",
   "metadata": {},
   "source": [
    "Функция для определения sale_price для "
   ]
  },
  {
   "cell_type": "code",
   "execution_count": null,
   "id": "fffe9aeb",
   "metadata": {},
   "outputs": [],
   "source": [
    "def insert_sale111(row):    \n",
    "    v = row['sale_price']\n",
    "    if row['sale_price'] == 0:\n",
    "        amo_id = row['amo_id']\n",
    "        pr = row['prefix']\n",
    "        v = 0\n",
    "        str1 = f'sale_price != 0 & prefix == \"{pr}\"'\n",
    "        try:\n",
    "            v = df_amo_temp.query(str1).iloc[-1]['sale_price']\n",
    "        except:\n",
    "            pass\n",
    "        finally:\n",
    "            return v\n",
    "    return v"
   ]
  },
  {
   "cell_type": "code",
   "execution_count": null,
   "id": "4ffbc6d0",
   "metadata": {},
   "outputs": [],
   "source": [
    "def insert_sale(row):    \n",
    "    v = row['sale_price']\n",
    "    #print(v)\n",
    "    if row['sale_price'] == 0:\n",
    "        d = row['дата_создания_сделки']\n",
    "        amo_id = row['amo_id']\n",
    "        pr = row['prefix']\n",
    "        #v = 0\n",
    "        str1 = f'sale_price != 0 & prefix == \"{pr}\"'\n",
    "        try:\n",
    "            #v = df_amo_temp.query(str1).iloc[-1]['sale_price']\n",
    "            arr = df_amo_temp.query(str1)    \n",
    "            arr['diff_date'] = arr['дата_создания_сделки'] - d\n",
    "            arr = arr.sort_values(by='diff_date',ascending=True)\n",
    "            arr.reset_index(drop= True , inplace= True)\n",
    "            v = arr.iloc[0]['sale_price']\n",
    "        except:\n",
    "            pass\n",
    "        finally:\n",
    "            return v\n",
    "    return v"
   ]
  },
  {
   "cell_type": "code",
   "execution_count": null,
   "id": "f1489de1",
   "metadata": {},
   "outputs": [],
   "source": [
    "def insert_saleV(row):    \n",
    "    v = row['sale_price']\n",
    "    #print(v)\n",
    "    if row['sale_price'] == 0:\n",
    "        d = row['дата_создания_сделки']\n",
    "        amo_id = row['amo_id']\n",
    "        pr = row['prefix_V']\n",
    "        #v = 0\n",
    "        str1 = f'sale_price != 0 & prefix_V == \"{pr}\"'\n",
    "        try:\n",
    "            #v = df_amo_temp.query(str1).iloc[-1]['sale_price']\n",
    "            arr = df_amo_temp.query(str1)    \n",
    "            arr['diff_date'] = arr['дата_создания_сделки'] - d\n",
    "            arr = arr.sort_values(by='diff_date',ascending=True)\n",
    "            arr.reset_index(drop= True , inplace= True)\n",
    "            v = arr.iloc[0]['sale_price']\n",
    "        except:\n",
    "            pass\n",
    "        finally:\n",
    "            return v\n",
    "    return v"
   ]
  },
  {
   "cell_type": "code",
   "execution_count": null,
   "id": "d7f8dde6",
   "metadata": {},
   "outputs": [],
   "source": [
    "df_amo_temp['sale_price'] = df_amo_temp.apply(insert_sale,axis=1)"
   ]
  },
  {
   "cell_type": "code",
   "execution_count": null,
   "id": "0db420c1",
   "metadata": {},
   "outputs": [],
   "source": [
    "df_amo_temp['sale_price'] = df_amo_temp.apply(insert_saleV,axis=1)"
   ]
  },
  {
   "cell_type": "markdown",
   "id": "aa9e057b",
   "metadata": {},
   "source": [
    "Проверка:"
   ]
  },
  {
   "cell_type": "code",
   "execution_count": null,
   "id": "39ddfbde",
   "metadata": {},
   "outputs": [],
   "source": [
    "pp = df_amo_temp.query('amo_id == 26139623')"
   ]
  },
  {
   "cell_type": "code",
   "execution_count": null,
   "id": "8d85423b",
   "metadata": {
    "scrolled": true
   },
   "outputs": [],
   "source": [
    "pp"
   ]
  },
  {
   "cell_type": "markdown",
   "id": "e0410c34",
   "metadata": {},
   "source": [
    "sale_price появился"
   ]
  },
  {
   "cell_type": "markdown",
   "id": "1ec3db18",
   "metadata": {},
   "source": [
    "#### Строки, оставшиеся без sale_price"
   ]
  },
  {
   "cell_type": "code",
   "execution_count": null,
   "id": "6486f50f",
   "metadata": {},
   "outputs": [],
   "source": [
    "dd0 = df_amo_temp.query('sale_price == 0').head(10)"
   ]
  },
  {
   "cell_type": "code",
   "execution_count": null,
   "id": "743468f9",
   "metadata": {},
   "outputs": [],
   "source": [
    "dd0.shape"
   ]
  },
  {
   "cell_type": "code",
   "execution_count": null,
   "id": "51a7442c",
   "metadata": {},
   "outputs": [],
   "source": [
    "dd0.head(10)"
   ]
  },
  {
   "cell_type": "markdown",
   "id": "1b01ff05",
   "metadata": {},
   "source": [
    "Несколько записей так и не получили sale_price"
   ]
  },
  {
   "cell_type": "code",
   "execution_count": null,
   "id": "134ae5f6",
   "metadata": {},
   "outputs": [],
   "source": [
    "df_amo_temp.info()"
   ]
  },
  {
   "cell_type": "code",
   "execution_count": null,
   "id": "6f4b7b49",
   "metadata": {},
   "outputs": [],
   "source": []
  },
  {
   "cell_type": "code",
   "execution_count": null,
   "id": "e3148aea",
   "metadata": {},
   "outputs": [],
   "source": []
  },
  {
   "cell_type": "markdown",
   "id": "18a07bc3",
   "metadata": {},
   "source": [
    "## Запись в файлы"
   ]
  },
  {
   "cell_type": "markdown",
   "id": "a2a14a46",
   "metadata": {},
   "source": [
    "### Объединение датафреймов без префиксов и с отсутствующими префиксами и запись в файл"
   ]
  },
  {
   "cell_type": "code",
   "execution_count": null,
   "id": "9d100853",
   "metadata": {},
   "outputs": [],
   "source": [
    "df_amo_missing_prefix = df_amo_temp.query('prefix in @missing_prefix')"
   ]
  },
  {
   "cell_type": "code",
   "execution_count": null,
   "id": "08a23202",
   "metadata": {},
   "outputs": [],
   "source": [
    "df_amo_missing_prefix.shape"
   ]
  },
  {
   "cell_type": "code",
   "execution_count": null,
   "id": "c14fd318",
   "metadata": {},
   "outputs": [],
   "source": [
    "frames = [df_amo_without_prefix, df_amo_missing_prefix]"
   ]
  },
  {
   "cell_type": "code",
   "execution_count": null,
   "id": "f05dc537",
   "metadata": {},
   "outputs": [],
   "source": [
    "cert_w_missing_prefix = pd.concat(frames)"
   ]
  },
  {
   "cell_type": "code",
   "execution_count": null,
   "id": "8c24f5d7",
   "metadata": {},
   "outputs": [],
   "source": [
    "cert_w_missing_prefix.shape"
   ]
  },
  {
   "cell_type": "code",
   "execution_count": null,
   "id": "b4b7223f",
   "metadata": {},
   "outputs": [],
   "source": [
    "cert_w_missing_prefix.to_csv('r_cert_w_missing_prefix' + date_int + '.csv')"
   ]
  },
  {
   "cell_type": "markdown",
   "id": "53f78f8d",
   "metadata": {},
   "source": [
    "### Запись отсутствующих в Списке подкатегорий prefix в файл"
   ]
  },
  {
   "cell_type": "code",
   "execution_count": null,
   "id": "5d5681a7",
   "metadata": {},
   "outputs": [],
   "source": [
    "df_missing_prefix = pd.DataFrame({'prefix':missing_prefix})"
   ]
  },
  {
   "cell_type": "code",
   "execution_count": null,
   "id": "2119181d",
   "metadata": {},
   "outputs": [],
   "source": [
    "df_missing_prefix.shape"
   ]
  },
  {
   "cell_type": "code",
   "execution_count": null,
   "id": "e9671469",
   "metadata": {},
   "outputs": [],
   "source": [
    "df_missing_prefix.head()"
   ]
  },
  {
   "cell_type": "code",
   "execution_count": null,
   "id": "d6326f89",
   "metadata": {},
   "outputs": [],
   "source": [
    "df_missing_prefix.to_csv('r_missing_prefix' + date_int + '.csv')"
   ]
  },
  {
   "cell_type": "markdown",
   "id": "36fd3660",
   "metadata": {},
   "source": [
    "### (п.10) Запись товаров, необходимые поля которого заполнены"
   ]
  },
  {
   "cell_type": "code",
   "execution_count": null,
   "id": "e7c39c7f",
   "metadata": {},
   "outputs": [],
   "source": [
    "df_amo_temp['amo_lead_id'] = df_amo_temp['amo_id']"
   ]
  },
  {
   "cell_type": "code",
   "execution_count": null,
   "id": "10c3c896",
   "metadata": {},
   "outputs": [],
   "source": [
    "df_amo_temp['amo_id'] = ''"
   ]
  },
  {
   "cell_type": "markdown",
   "id": "88214b0b",
   "metadata": {},
   "source": [
    "Итоговые столбцы из АМО"
   ]
  },
  {
   "cell_type": "code",
   "execution_count": null,
   "id": "6a3e2ee8",
   "metadata": {},
   "outputs": [],
   "source": [
    "lst_afm = ['id', \n",
    "           'amo_id',\n",
    "           'amo_lead_id',\n",
    "           'prefix',\n",
    "           'prefix_V',\n",
    "           'code',\n",
    "           'card_type',\n",
    "           'design_type',\n",
    "           'status',\n",
    "           'supplier_payment_date',\n",
    "           'sale_price',\n",
    "           'sale_date',\n",
    "           'expiry_date',\n",
    "           'card_used_date',\n",
    "           'created_at',\n",
    "           'updated_at',\n",
    "           'deleted_at',\n",
    "           'number',\n",
    "]"
   ]
  },
  {
   "cell_type": "markdown",
   "id": "8be2a20d",
   "metadata": {},
   "source": [
    "Итоговые столбцы из Реестра"
   ]
  },
  {
   "cell_type": "code",
   "execution_count": null,
   "id": "602edfd2",
   "metadata": {},
   "outputs": [],
   "source": [
    "df_values['prefix_V'] = df_values['prefix']"
   ]
  },
  {
   "cell_type": "code",
   "execution_count": null,
   "id": "af8ffaa7",
   "metadata": {},
   "outputs": [],
   "source": [
    "lst_val = ['activity_value_id','prefix_V']"
   ]
  },
  {
   "cell_type": "markdown",
   "id": "d719b508",
   "metadata": {},
   "source": [
    "Датафреймы для объединения"
   ]
  },
  {
   "cell_type": "code",
   "execution_count": null,
   "id": "bf063d08",
   "metadata": {},
   "outputs": [],
   "source": [
    "df_amo_for_merge = df_amo_temp.query('prefix_V in @prefix_values')"
   ]
  },
  {
   "cell_type": "code",
   "execution_count": null,
   "id": "56a1c97c",
   "metadata": {},
   "outputs": [],
   "source": [
    "df_amo_for_merge = df_amo_for_merge[lst_afm]"
   ]
  },
  {
   "cell_type": "code",
   "execution_count": null,
   "id": "9940c3e0",
   "metadata": {},
   "outputs": [],
   "source": [
    "df_amo_for_merge.head()"
   ]
  },
  {
   "cell_type": "code",
   "execution_count": null,
   "id": "ba69452d",
   "metadata": {},
   "outputs": [],
   "source": [
    "df_value_for_merge = df_values[lst_val]"
   ]
  },
  {
   "cell_type": "markdown",
   "id": "fe0c6c75",
   "metadata": {},
   "source": [
    "Объединение датафреймов"
   ]
  },
  {
   "cell_type": "code",
   "execution_count": null,
   "id": "4fe70ef0",
   "metadata": {
    "scrolled": true
   },
   "outputs": [],
   "source": [
    "df_list = pd.merge(df_amo_for_merge, df_value_for_merge,how=\"inner\",on='prefix_V')"
   ]
  },
  {
   "cell_type": "code",
   "execution_count": null,
   "id": "b2737e96",
   "metadata": {},
   "outputs": [],
   "source": [
    "df_list.head()"
   ]
  },
  {
   "cell_type": "code",
   "execution_count": null,
   "id": "9d6c7ccd",
   "metadata": {},
   "outputs": [],
   "source": [
    "df_list = df_list.drop('prefix_V', axis=1)"
   ]
  },
  {
   "cell_type": "code",
   "execution_count": null,
   "id": "ce7ce60c",
   "metadata": {},
   "outputs": [],
   "source": [
    "df_list.info()"
   ]
  },
  {
   "cell_type": "markdown",
   "id": "2357291c",
   "metadata": {},
   "source": [
    "Запись в файл"
   ]
  },
  {
   "cell_type": "code",
   "execution_count": null,
   "id": "08ac52f8",
   "metadata": {},
   "outputs": [],
   "source": [
    "df_list.to_csv('r_certs_to_import' + date_int +'.csv')"
   ]
  },
  {
   "cell_type": "markdown",
   "id": "bd1af852",
   "metadata": {},
   "source": [
    "### (п.11) Список товаров, чьи префиксы не обнаружены в list_of_values.csv, но есть в codes_archieve"
   ]
  },
  {
   "cell_type": "code",
   "execution_count": null,
   "id": "5d9d22b5",
   "metadata": {},
   "outputs": [],
   "source": [
    "df_amo_temp = df_amo_temp.query('prefix_V in @archive_prefix')"
   ]
  },
  {
   "cell_type": "code",
   "execution_count": null,
   "id": "6c805d86",
   "metadata": {},
   "outputs": [],
   "source": [
    "df_amo_for_write = df_amo_temp[lst_afm]"
   ]
  },
  {
   "cell_type": "code",
   "execution_count": null,
   "id": "fb706c70",
   "metadata": {},
   "outputs": [],
   "source": [
    "df_amo_for_write = df_amo_for_write.drop('prefix_V', axis=1)"
   ]
  },
  {
   "cell_type": "code",
   "execution_count": null,
   "id": "300aa1cc",
   "metadata": {},
   "outputs": [],
   "source": [
    "df_amo_for_write.head()"
   ]
  },
  {
   "cell_type": "code",
   "execution_count": null,
   "id": "9dae8bb2",
   "metadata": {},
   "outputs": [],
   "source": [
    "df_amo_for_write.info()"
   ]
  },
  {
   "cell_type": "code",
   "execution_count": null,
   "id": "b4300f35",
   "metadata": {},
   "outputs": [],
   "source": [
    "df_amo_for_write.to_csv('r_certs_to_import_archieve_prefix' + date_int +'.csv')"
   ]
  }
 ],
 "metadata": {
  "kernelspec": {
   "display_name": "Python 3 (ipykernel)",
   "language": "python",
   "name": "python3"
  },
  "language_info": {
   "codemirror_mode": {
    "name": "ipython",
    "version": 3
   },
   "file_extension": ".py",
   "mimetype": "text/x-python",
   "name": "python",
   "nbconvert_exporter": "python",
   "pygments_lexer": "ipython3",
   "version": "3.11.5"
  },
  "toc": {
   "base_numbering": 1,
   "nav_menu": {},
   "number_sections": true,
   "sideBar": true,
   "skip_h1_title": false,
   "title_cell": "Table of Contents",
   "title_sidebar": "Contents",
   "toc_cell": false,
   "toc_position": {
    "height": "calc(100% - 180px)",
    "left": "10px",
    "top": "150px",
    "width": "456.391px"
   },
   "toc_section_display": true,
   "toc_window_display": true
  }
 },
 "nbformat": 4,
 "nbformat_minor": 5
}
