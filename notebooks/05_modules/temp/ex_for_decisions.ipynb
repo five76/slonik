{
 "cells": [
  {
   "cell_type": "markdown",
   "id": "c9f0723e",
   "metadata": {},
   "source": [
    "## Примеры решения задач"
   ]
  },
  {
   "cell_type": "markdown",
   "id": "b2f407ec",
   "metadata": {},
   "source": [
    "### Cписок целых чисел"
   ]
  },
  {
   "cell_type": "markdown",
   "id": "8f04adc0",
   "metadata": {},
   "source": [
    "Имеется список из целых чисел. \n",
    "Необходимо создать новый список, в котором содержатся только те числа, которые больше 5 по модулю."
   ]
  },
  {
   "cell_type": "code",
   "execution_count": 55,
   "id": "ad6bf779",
   "metadata": {
    "scrolled": true
   },
   "outputs": [
    {
     "name": "stdout",
     "output_type": "stream",
     "text": [
      "[89, 12, -8, -9]\n"
     ]
    }
   ],
   "source": [
    "list_number = [12, -9, 3, -4, 89, 0,-8]\n",
    "new_list_number = []\n",
    "\n",
    "for n in list_number:\n",
    "    if abs(n) > 5:\n",
    "        new_list_number.append(n)  # добавление в список \n",
    "new_list_number.sort(reverse=True) # сортировка по убыванию\n",
    "print(new_list_number)"
   ]
  },
  {
   "cell_type": "markdown",
   "id": "85311fb9",
   "metadata": {},
   "source": [
    "### Верхний регистр"
   ]
  },
  {
   "cell_type": "markdown",
   "id": "930bbebd",
   "metadata": {},
   "source": [
    "В заданной строке все символы английского алфвита перевести в верхний регистр  "
   ]
  },
  {
   "cell_type": "markdown",
   "id": "c708e4f5",
   "metadata": {},
   "source": [
    "Ввод: Сетевая карта устройства имеет mac-адрес aa12:456d:fe43"
   ]
  },
  {
   "cell_type": "markdown",
   "id": "8e93cfc1",
   "metadata": {},
   "source": [
    "Вывод: Сетевая карта устройства имеет MAC-адрес AA12:456D:FE43"
   ]
  },
  {
   "cell_type": "code",
   "execution_count": 60,
   "id": "3d61dd4c",
   "metadata": {
    "scrolled": false
   },
   "outputs": [
    {
     "name": "stdout",
     "output_type": "stream",
     "text": [
      "Сетевая карта устройства имеет MAC-адрес AA12:456D:FE43\n"
     ]
    }
   ],
   "source": [
    "input_string = 'Сетевая карта устройства имеет mac-адрес aa12:456d:fe43'\n",
    "#input_string = input()\n",
    "output_string = ''\n",
    "\n",
    "# Для каждого символа в строке выполнить:\n",
    "for ch in input_string:\n",
    "    # ord - код символа в таблице ASCII. \n",
    "    # Если код от 97 до 122, то меняем его на ВЕРХНИЙ\n",
    "    if ord(ch) >= 97 and ord(ch) <= 122:\n",
    "        ch = ch.upper() \n",
    "    # Добавляем символ к новой строке\n",
    "    output_string += ch\n",
    "\n",
    "print(output_string)"
   ]
  },
  {
   "cell_type": "markdown",
   "id": "e4d1ddf2",
   "metadata": {},
   "source": [
    "### Список сотрудников\n",
    "\n",
    "\n",
    "Вывести Фамилию, инициалы и год рождения сотрудников, которые родились в 20 веке"
   ]
  },
  {
   "cell_type": "markdown",
   "id": "45156ec9",
   "metadata": {},
   "source": [
    "Ввод: Глуховская Виталия Брониславовна, 21.01.1983\n",
    "Вывод: Глуховская В. Б. - 1983"
   ]
  },
  {
   "cell_type": "code",
   "execution_count": 4,
   "id": "b629bb6e",
   "metadata": {},
   "outputs": [],
   "source": [
    "dict_empl = {'gvb': 'Глуховская Виталия Брониславовна, 21.01.1983',\n",
    "             'nvf': 'Наумов Валентин Филатович, 12.05.2000', \n",
    "             'sga': 'Солопов Григорий Анатольевич, 11.11.1972',\n",
    "             'mla':'Моисеева Лера Абрамовна, 05.06.2001'\n",
    "            }"
   ]
  },
  {
   "cell_type": "code",
   "execution_count": 62,
   "id": "ba5153a6",
   "metadata": {},
   "outputs": [
    {
     "name": "stdout",
     "output_type": "stream",
     "text": [
      "Глуховская В. Б. - 1983\n",
      "Солопов Г. А. - 1972\n",
      "['Глуховская В. Б. - 1983', 'Солопов Г. А. - 1972']\n"
     ]
    }
   ],
   "source": [
    "l = []\n",
    "for id, empl_string in  dict_empl.items():\n",
    "    fio, bd = empl_string.split(',')\n",
    "    ln, fn, mn = fio.split()\n",
    "    d, m, y = bd.split('.')\n",
    "    if int(y) < 2000:\n",
    "        l.append(f'{ln} {fn[0]}. {mn[0]}. - {y}')\n",
    "        print(f'{ln} {fn[0]}. {mn[0]}. - {y}')\n",
    "\n",
    "print(l)"
   ]
  },
  {
   "cell_type": "markdown",
   "id": "4dfc2cfb",
   "metadata": {},
   "source": [
    "2. Сформировать новый словарь, в котором каждому ключу будет соответствовать вложенный словарь с атрибутами сотрудников:"
   ]
  },
  {
   "cell_type": "markdown",
   "id": "b4baefdb",
   "metadata": {},
   "source": [
    "Формат нового словаря:"
   ]
  },
  {
   "cell_type": "code",
   "execution_count": 6,
   "id": "197ab2d3",
   "metadata": {},
   "outputs": [],
   "source": [
    "new_dict_empl = {'gvb': {'ln':'Глуховская','fn':'Виталия', 'mn': 'Брониславовна', 'bd': '21.01.1963'},\n",
    "                  'nvf':{'ln':'Наумов','fn':'Валентин', 'mn': 'Филатович', 'bd': '12.05.1975'}\n",
    "                }\n",
    "                        "
   ]
  },
  {
   "cell_type": "markdown",
   "id": "c8c28b74",
   "metadata": {},
   "source": [
    "### Операция \"Ы\"\n"
   ]
  },
  {
   "cell_type": "markdown",
   "id": "8f5835ee",
   "metadata": {},
   "source": [
    "Случайным образом распределить арестованных на 15 суток граждан по требуемым видам работ. Нераспределенные граждане отправляются на уборку территории."
   ]
  },
  {
   "cell_type": "code",
   "execution_count": 33,
   "id": "4473844e",
   "metadata": {},
   "outputs": [],
   "source": [
    "prisoners = ['Алкоголик_1', 'Тунеядец_1','Хулиган_1',\n",
    "             'Алкоголик_2', 'Тунеядец_2','Хулиган_2',\n",
    "            'Алкоголик_3', 'Тунеядец_3','Хулиган_3',\n",
    "            'Алкоголик_4', 'Тунеядец_4','Хулиган_4'\n",
    "            ]"
   ]
  },
  {
   "cell_type": "code",
   "execution_count": 34,
   "id": "78745072",
   "metadata": {},
   "outputs": [],
   "source": [
    "work_orders = {'Песчаный карьер': 2, \n",
    "               'Цементный завод': 3,\n",
    "               'Погрузка угля':2,\n",
    "               'Уборка конюшен':1,\n",
    "               'Мясокомбинат': 0\n",
    "              }"
   ]
  },
  {
   "cell_type": "code",
   "execution_count": 35,
   "id": "edd567aa",
   "metadata": {},
   "outputs": [
    {
     "name": "stdout",
     "output_type": "stream",
     "text": [
      "['Тунеядец_4', 'Хулиган_2', 'Тунеядец_2', 'Хулиган_1', 'Тунеядец_1', 'Тунеядец_3', 'Алкоголик_1', 'Хулиган_3', 'Хулиган_4', 'Алкоголик_2', 'Алкоголик_3', 'Алкоголик_4']\n",
      "--------------------------------------------------\n",
      "{'Мясокомбинат': [],\n",
      " 'Песчаный карьер': ['Алкоголик_4', 'Алкоголик_3'],\n",
      " 'Погрузка угля': ['Алкоголик_1', 'Тунеядец_3'],\n",
      " 'Уборка конюшен': ['Тунеядец_1'],\n",
      " 'Уборка территории': ['Тунеядец_4', 'Хулиган_2', 'Тунеядец_2', 'Хулиган_1'],\n",
      " 'Цементный завод': ['Алкоголик_2', 'Хулиган_4', 'Хулиган_3']}\n",
      "--------------------------------------------------\n",
      "\n",
      "Песчаный карьер:\n",
      "++++++++++++++++++++\n",
      "Алкоголик_4\n",
      "Алкоголик_3\n",
      "\n",
      "Цементный завод:\n",
      "++++++++++++++++++++\n",
      "Алкоголик_2\n",
      "Хулиган_4\n",
      "Хулиган_3\n",
      "\n",
      "Погрузка угля:\n",
      "++++++++++++++++++++\n",
      "Алкоголик_1\n",
      "Тунеядец_3\n",
      "\n",
      "Уборка конюшен:\n",
      "++++++++++++++++++++\n",
      "Тунеядец_1\n",
      "\n",
      "Уборка территории:\n",
      "++++++++++++++++++++\n",
      "Тунеядец_4\n",
      "Хулиган_2\n",
      "Тунеядец_2\n",
      "Хулиган_1\n"
     ]
    }
   ],
   "source": [
    "# pprint в Python — это модуль, предназначенный для вывода сложных структур данных в более читабельном виде. \n",
    "from pprint import pprint\n",
    "import random\n",
    "\n",
    "random.shuffle(prisoners)\n",
    "# Сформировать множество из списка (для случайного удаления)\n",
    "random.shuffle(prisoners)\n",
    "# Итоговый словарь с видами работ и гражданами\n",
    "result = {}\n",
    "print(prisoners)\n",
    "\n",
    "\n",
    "# Для каждой пары ключ-значение (ключ запишется в wo,  значение -  np)\n",
    "for wo, np in work_orders.items():\n",
    "    # создать список с гражданами\n",
    "    pr_lst = []\n",
    "    # Для каждого значения из np (количество человек)\n",
    "    for index in range(np):\n",
    "        # Взять случайным образом гражданина из множеста, удалив из него\n",
    "        pr = prisoners.pop()\n",
    "        # Довабить гражданина в список на вид работ\n",
    "        pr_lst.append(pr) \n",
    "    \n",
    "    # Сформированный список граждан занести в итоговый словарь\n",
    "    result[wo] = pr_lst\n",
    "    \n",
    "# Занести нераспределенных граждан в словарь\n",
    "result['Уборка территории'] = prisoners\n",
    "print('-' * 50)\n",
    "pprint(result)\n",
    "print('-' * 50)\n",
    "\n",
    "# Вывод итогового списка\n",
    "for wo, pr in result.items():\n",
    "    # Если словаре виду работ назначен пустой список, то перейти к следующей итерации (виду работ)\n",
    "    if not(result[wo]): \n",
    "        # result['мясокомбинат'] - пустой список [], поэтому переход далее\n",
    "        continue\n",
    "    print(f'\\n{wo}:')\n",
    "    print('+' * 20)\n",
    "    for gr in pr:\n",
    "        print(gr)\n",
    "\n"
   ]
  },
  {
   "cell_type": "markdown",
   "id": "b55b04a0",
   "metadata": {},
   "source": [
    "### \"Переводчик\""
   ]
  },
  {
   "cell_type": "markdown",
   "id": "90c31c1a",
   "metadata": {},
   "source": [
    "Сотрудники часто забывают переключать клавиатуру с ангийской раскладки на русскую. А так как не все владеют \"слепым\" методом печати, то обнаруживается это, когда набрана половина страницы текста. Поэтому они попросили сотрудника **<ваше_имя>**, разбирающегося в программировании, создать скрипт, восстанавливающий русский текст. Очень накладно все время перепечатывать."
   ]
  },
  {
   "cell_type": "markdown",
   "id": "6cc38eee",
   "metadata": {},
   "source": [
    "### Делители *"
   ]
  },
  {
   "cell_type": "markdown",
   "id": "4c576d65",
   "metadata": {},
   "source": [
    "Работники аналитического отдела в свободное время не курят, а решают на спор разные математические задачи.\n",
    "Сегодня на спор искали все делители случайных чисел. Для простых примеров решения находились быстро (для числа 6 это: 1, 2, 3, 6; а для числа 16 это: 1, 2, 4, 8, 16). Но когда начались примеры посерьезнее, то опять без сотудника, разбирающегося в программировании **<ваше имя> не обошлось**.\n",
    "\n",
    "Варианты посложнее были, например такие: 23456, 150194200, 25604557902344\n",
    "\n",
    "Вручную решить сложновато. Составьте скрипт для решения. Результат представьте в виде списка, отсортированного по возрастанию."
   ]
  },
  {
   "cell_type": "code",
   "execution_count": 1,
   "id": "af761ec7",
   "metadata": {},
   "outputs": [
    {
     "name": "stdout",
     "output_type": "stream",
     "text": [
      "it`s False!\n"
     ]
    }
   ],
   "source": [
    "if not False and not True:\n",
    "    print('it`s True!')\n",
    "else:\n",
    "    print('it`s False!')"
   ]
  },
  {
   "cell_type": "code",
   "execution_count": null,
   "id": "347508f0",
   "metadata": {},
   "outputs": [],
   "source": []
  }
 ],
 "metadata": {
  "kernelspec": {
   "display_name": "Python 3 (ipykernel)",
   "language": "python",
   "name": "python3"
  },
  "language_info": {
   "codemirror_mode": {
    "name": "ipython",
    "version": 3
   },
   "file_extension": ".py",
   "mimetype": "text/x-python",
   "name": "python",
   "nbconvert_exporter": "python",
   "pygments_lexer": "ipython3",
   "version": "3.8.10"
  },
  "toc": {
   "base_numbering": 1,
   "nav_menu": {},
   "number_sections": true,
   "sideBar": true,
   "skip_h1_title": false,
   "title_cell": "Table of Contents",
   "title_sidebar": "Contents",
   "toc_cell": false,
   "toc_position": {},
   "toc_section_display": true,
   "toc_window_display": false
  }
 },
 "nbformat": 4,
 "nbformat_minor": 5
}
