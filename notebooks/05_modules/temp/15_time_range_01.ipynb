{
 "cells": [
  {
   "cell_type": "markdown",
   "metadata": {},
   "source": [
    "**Дмитрий, привет!**\n",
    "\n",
    "Меня зовут Соколова Александра, я буду проверять твой проект. Приятно познакомиться:)\n",
    "    \n",
    "Предлагаю общаться на «ты», но если тебе не очень комфортно - дай, пожалуйста, знать. \n",
    "\n",
    "Ты уже проделал большую работу над проектом, давай сделаем его еще лучше. Ниже ты найдешь мои комментарии, пожалуйста, не перемещай, не изменяй и не удаляй их. Давай использовать цветовую разметку:\n",
    "\n",
    "<div class=\"alert alert-danger\">\n",
    "<b>❌ Комментарий ревьюера:</b> Так выделены самые важные замечания, их нужно обязательно проработать. </div>\n",
    "\n",
    "<div class=\"alert alert-warning\">\n",
    "<b>⚠️ Комментарий ревьюера:</b> Так выделены небольшие замечания, некритичные ошибки или развивающие рекомендации на будущее. \n",
    "\n",
    "</div>\n",
    "\n",
    "<div class=\"alert alert-success\">\n",
    "<b>✔️ Комментарий ревьюера:</b> Все отлично:) </div>\n",
    "\n",
    "Давай работать над проектом в диалоге: если ты что-то меняешь или отвечаешь на мои комменатри — пиши об этом. Мне будет легче отследить изменения, если ты выделишь свои комментарии:\n",
    "<div class=\"alert alert-info\"> <b>Комментарий студента:</b> Например, вот так.</div>\n",
    "\n",
    "Всё это поможет выполнить повторную проверку твоего проекта оперативнее."
   ]
  },
  {
   "cell_type": "markdown",
   "metadata": {},
   "source": [
    "***"
   ]
  },
  {
   "cell_type": "markdown",
   "metadata": {},
   "source": [
    "<div class=\"alert alert-info\"> <b>Комментарий ревьюера:</b> \n",
    "    \n",
    "**Полезные материалы по теме:**\n",
    " \n",
    "- Б.Б. Демешев - временные ряды https://disk.yandex.ru/i/LiDHB-B3A6Lz5A\n",
    "- Базовое применение ARIMA - https://colab.research.google.com/drive/17RnG91Eq8JBKyxToNzvCvjibfxum-oPj?usp=sharing\n",
    "- Канторович - Анализ временных рядов https://yadi.sk/i/IOkUOS3hTXf3gg\n",
    "https://facebook.github.io/prophet/\n",
    "https://facebook.github.io/prophet/docs/quick_start.html#python-api\n",
    "https://nbviewer.jupyter.org/github/miptgirl/habra_materials/blob/master/prophet/habra_data.ipynb\n",
    "    \n",
    "</div>"
   ]
  },
  {
   "cell_type": "markdown",
   "metadata": {
    "toc": true
   },
   "source": [
    "<h1>Содержание<span class=\"tocSkip\"></span></h1>\n",
    "<div class=\"toc\"><ul class=\"toc-item\"><li><span><a href=\"#Подготовка\" data-toc-modified-id=\"Подготовка-1\"><span class=\"toc-item-num\">1&nbsp;&nbsp;</span>Подготовка</a></span><ul class=\"toc-item\"><li><span><a href=\"#Ресемплирование-по-одному-часу.\" data-toc-modified-id=\"Ресемплирование-по-одному-часу.-1.1\"><span class=\"toc-item-num\">1.1&nbsp;&nbsp;</span>Ресемплирование по одному часу.</a></span></li><li><span><a href=\"#Проверка-на-стационарность\" data-toc-modified-id=\"Проверка-на-стационарность-1.2\"><span class=\"toc-item-num\">1.2&nbsp;&nbsp;</span>Проверка на стационарность</a></span></li><li><span><a href=\"#Тренд-и-сезонность\" data-toc-modified-id=\"Тренд-и-сезонность-1.3\"><span class=\"toc-item-num\">1.3&nbsp;&nbsp;</span>Тренд и сезонность</a></span></li><li><span><a href=\"#Вывод:\" data-toc-modified-id=\"Вывод:-1.4\"><span class=\"toc-item-num\">1.4&nbsp;&nbsp;</span>Вывод:</a></span></li></ul></li><li><span><a href=\"#Анализ\" data-toc-modified-id=\"Анализ-2\"><span class=\"toc-item-num\">2&nbsp;&nbsp;</span>Анализ</a></span><ul class=\"toc-item\"><li><span><a href=\"#Получение-новых-признаков\" data-toc-modified-id=\"Получение-новых-признаков-2.1\"><span class=\"toc-item-num\">2.1&nbsp;&nbsp;</span>Получение новых признаков</a></span></li><li><span><a href=\"#Разделение-на-выборки\" data-toc-modified-id=\"Разделение-на-выборки-2.2\"><span class=\"toc-item-num\">2.2&nbsp;&nbsp;</span>Разделение на выборки</a></span></li><li><span><a href=\"#Масштабирование\" data-toc-modified-id=\"Масштабирование-2.3\"><span class=\"toc-item-num\">2.3&nbsp;&nbsp;</span>Масштабирование</a></span></li><li><span><a href=\"#Вывод:\" data-toc-modified-id=\"Вывод:-2.4\"><span class=\"toc-item-num\">2.4&nbsp;&nbsp;</span>Вывод:</a></span></li></ul></li><li><span><a href=\"#Обучение\" data-toc-modified-id=\"Обучение-3\"><span class=\"toc-item-num\">3&nbsp;&nbsp;</span>Обучение</a></span><ul class=\"toc-item\"><li><span><a href=\"#Линейная-регрессия\" data-toc-modified-id=\"Линейная-регрессия-3.1\"><span class=\"toc-item-num\">3.1&nbsp;&nbsp;</span>Линейная регрессия</a></span></li><li><span><a href=\"#Стохастический-градиентный-спуск-SGDRegressor\" data-toc-modified-id=\"Стохастический-градиентный-спуск-SGDRegressor-3.2\"><span class=\"toc-item-num\">3.2&nbsp;&nbsp;</span>Стохастический градиентный спуск SGDRegressor</a></span></li><li><span><a href=\"#Градиентный-бустинг-CatBoostRegressor\" data-toc-modified-id=\"Градиентный-бустинг-CatBoostRegressor-3.3\"><span class=\"toc-item-num\">3.3&nbsp;&nbsp;</span>Градиентный бустинг CatBoostRegressor</a></span></li><li><span><a href=\"#Градиентный-бустинг-XGBRegressor\" data-toc-modified-id=\"Градиентный-бустинг-XGBRegressor-3.4\"><span class=\"toc-item-num\">3.4&nbsp;&nbsp;</span>Градиентный бустинг XGBRegressor</a></span></li><li><span><a href=\"#Градиентный-бустинг-LGBMRegressor\" data-toc-modified-id=\"Градиентный-бустинг-LGBMRegressor-3.5\"><span class=\"toc-item-num\">3.5&nbsp;&nbsp;</span>Градиентный бустинг LGBMRegressor</a></span></li><li><span><a href=\"#Итоговая-таблица\" data-toc-modified-id=\"Итоговая-таблица-3.6\"><span class=\"toc-item-num\">3.6&nbsp;&nbsp;</span>Итоговая таблица</a></span></li><li><span><a href=\"#Вывод:\" data-toc-modified-id=\"Вывод:-3.7\"><span class=\"toc-item-num\">3.7&nbsp;&nbsp;</span>Вывод:</a></span></li></ul></li><li><span><a href=\"#Тестирование\" data-toc-modified-id=\"Тестирование-4\"><span class=\"toc-item-num\">4&nbsp;&nbsp;</span>Тестирование</a></span><ul class=\"toc-item\"><li><span><a href=\"#Вывод\" data-toc-modified-id=\"Вывод-4.1\"><span class=\"toc-item-num\">4.1&nbsp;&nbsp;</span>Вывод</a></span></li><li><span><a href=\"#Итоговый-вывод\" data-toc-modified-id=\"Итоговый-вывод-4.2\"><span class=\"toc-item-num\">4.2&nbsp;&nbsp;</span>Итоговый вывод</a></span></li></ul></li><li><span><a href=\"#Чек-лист-проверки\" data-toc-modified-id=\"Чек-лист-проверки-5\"><span class=\"toc-item-num\">5&nbsp;&nbsp;</span>Чек-лист проверки</a></span></li></ul></div>"
   ]
  },
  {
   "cell_type": "markdown",
   "metadata": {},
   "source": [
    "#  Прогнозирование заказов такси"
   ]
  },
  {
   "cell_type": "markdown",
   "metadata": {},
   "source": [
    "Компания «Чётенькое такси» собрала исторические данные о заказах такси в аэропортах. Чтобы привлекать больше водителей в период пиковой нагрузки, нужно спрогнозировать количество заказов такси на следующий час. Постройте модель для такого предсказания.\n",
    "\n",
    "Значение метрики *RMSE* на тестовой выборке должно быть не больше 48.\n",
    "\n",
    "Вам нужно:\n",
    "\n",
    "1. Загрузить данные и выполнить их ресемплирование по одному часу.\n",
    "2. Проанализировать данные.\n",
    "3. Обучить разные модели с различными гиперпараметрами. Сделать тестовую выборку размером 10% от исходных данных.\n",
    "4. Проверить данные на тестовой выборке и сделать выводы.\n",
    "\n",
    "\n",
    "Данные лежат в файле `taxi.csv`. Количество заказов находится в столбце `num_orders` (от англ. *number of orders*, «число заказов»)."
   ]
  },
  {
   "cell_type": "markdown",
   "metadata": {},
   "source": [
    "<div class=\"alert alert-warning\">\n",
    "<b>⚠️ Комментарий ревьюера:</b> \n",
    "    \n",
    "На этом этапе было бы здорово немного расширить оформление проекта - написать своими словами. 😊\n",
    " \n",
    "    \n",
    "Оформление принято делать к каждому проекту, обычно прописывают название, цели и задачи исследования. Можно добавить этапы работы, а также итоги исследования (что было достигнуто в процессе, к каким выводам пришли, что нашли в данных).\n",
    "  \n",
    "***    \n",
    "PS - Когда будешь готовить портфолио, обычно его размешают на Github, хорошее введение - это важная часть. \n",
    "    \n",
    "На плюсовых программах Практикума есть Карьерный трек, там hr-специалисты учат готовить портфолио и дают рекомендации в отношении оформления. Для каждого проекта советуют подготовить описание (обычно в README.md сохраняют). Т.е. это базовая составляющая хорошего портфолио     \n",
    "    \n",
    "   \n",
    "</div>"
   ]
  },
  {
   "cell_type": "code",
   "execution_count": 1,
   "metadata": {},
   "outputs": [],
   "source": [
    "import pandas as pd\n",
    "import numpy as np\n",
    "from nptyping import NDArray, Float64\n",
    "from datetime import datetime\n",
    "from statsmodels.tsa.seasonal import seasonal_decompose\n",
    "from sklearn.model_selection import train_test_split\n",
    "from sklearn.preprocessing import StandardScaler\n",
    "from sklearn.linear_model import LinearRegression\n",
    "from xgboost import XGBRegressor\n",
    "from lightgbm import LGBMRegressor\n",
    "from sklearn.linear_model import SGDRegressor\n",
    "from catboost import CatBoostRegressor\n",
    "from sklearn.metrics import mean_absolute_error\n",
    "import matplotlib.pyplot as plt\n",
    "from sklearn.metrics import mean_squared_error\n",
    "from sklearn.metrics import make_scorer\n",
    "from sklearn.model_selection import GridSearchCV"
   ]
  },
  {
   "cell_type": "markdown",
   "metadata": {},
   "source": [
    "## Подготовка"
   ]
  },
  {
   "cell_type": "code",
   "execution_count": 2,
   "metadata": {},
   "outputs": [],
   "source": [
    "try:\n",
    "    data = pd.read_csv('/datasets/data.csv',parse_dates=[0])\n",
    "except:\n",
    "    data = pd.read_csv('https://code.s3.yandex.net/datasets/taxi.csv',parse_dates=[0])"
   ]
  },
  {
   "cell_type": "markdown",
   "metadata": {},
   "source": [
    "<div class=\"alert alert-success\">\n",
    "<b>✔️ Комментарий ревьюера:</b>  \n",
    "\n",
    "Здорово, что есть try-except на этапе загрузки данных👍\n",
    "    \n",
    "</div>"
   ]
  },
  {
   "cell_type": "markdown",
   "metadata": {},
   "source": [
    "<div class=\"alert alert-warning\">\n",
    "<b>⚠️ Комментарий ревьюера:</b> \n",
    "\n",
    "При загрузке данных рекомендую использовать такую конструкцию:\n",
    "    \n",
    "        df = pd.read_csv('/datasets/taxi.csv', index_col=[0], parse_dates=[0])\n",
    "    \n",
    "Чтобы потом не преобразовывать формат колонки с помощью pd.to_datetime() и не назначать индекс через df.set_index('datetime')  \n",
    "\n",
    "</div>"
   ]
  },
  {
   "cell_type": "code",
   "execution_count": 3,
   "metadata": {},
   "outputs": [
    {
     "name": "stdout",
     "output_type": "stream",
     "text": [
      "<class 'pandas.core.frame.DataFrame'>\n",
      "RangeIndex: 26496 entries, 0 to 26495\n",
      "Data columns (total 2 columns):\n",
      " #   Column      Non-Null Count  Dtype         \n",
      "---  ------      --------------  -----         \n",
      " 0   datetime    26496 non-null  datetime64[ns]\n",
      " 1   num_orders  26496 non-null  int64         \n",
      "dtypes: datetime64[ns](1), int64(1)\n",
      "memory usage: 414.1 KB\n"
     ]
    }
   ],
   "source": [
    "data.info()"
   ]
  },
  {
   "cell_type": "code",
   "execution_count": 4,
   "metadata": {},
   "outputs": [
    {
     "data": {
      "text/plain": [
       "0"
      ]
     },
     "execution_count": 4,
     "metadata": {},
     "output_type": "execute_result"
    }
   ],
   "source": [
    "data.duplicated().sum()"
   ]
  },
  {
   "cell_type": "code",
   "execution_count": 5,
   "metadata": {},
   "outputs": [
    {
     "name": "stdout",
     "output_type": "stream",
     "text": [
      "True\n"
     ]
    }
   ],
   "source": [
    "data = data.set_index('datetime')\n",
    "data.sort_index(inplace=True)\n",
    "print(data.index.is_monotonic)"
   ]
  },
  {
   "cell_type": "code",
   "execution_count": 6,
   "metadata": {},
   "outputs": [
    {
     "data": {
      "text/html": [
       "<div>\n",
       "<style scoped>\n",
       "    .dataframe tbody tr th:only-of-type {\n",
       "        vertical-align: middle;\n",
       "    }\n",
       "\n",
       "    .dataframe tbody tr th {\n",
       "        vertical-align: top;\n",
       "    }\n",
       "\n",
       "    .dataframe thead th {\n",
       "        text-align: right;\n",
       "    }\n",
       "</style>\n",
       "<table border=\"1\" class=\"dataframe\">\n",
       "  <thead>\n",
       "    <tr style=\"text-align: right;\">\n",
       "      <th></th>\n",
       "      <th>num_orders</th>\n",
       "    </tr>\n",
       "    <tr>\n",
       "      <th>datetime</th>\n",
       "      <th></th>\n",
       "    </tr>\n",
       "  </thead>\n",
       "  <tbody>\n",
       "    <tr>\n",
       "      <th>2018-03-01 00:00:00</th>\n",
       "      <td>9</td>\n",
       "    </tr>\n",
       "    <tr>\n",
       "      <th>2018-03-01 00:10:00</th>\n",
       "      <td>14</td>\n",
       "    </tr>\n",
       "    <tr>\n",
       "      <th>2018-03-01 00:20:00</th>\n",
       "      <td>28</td>\n",
       "    </tr>\n",
       "    <tr>\n",
       "      <th>2018-03-01 00:30:00</th>\n",
       "      <td>20</td>\n",
       "    </tr>\n",
       "    <tr>\n",
       "      <th>2018-03-01 00:40:00</th>\n",
       "      <td>32</td>\n",
       "    </tr>\n",
       "  </tbody>\n",
       "</table>\n",
       "</div>"
      ],
      "text/plain": [
       "                     num_orders\n",
       "datetime                       \n",
       "2018-03-01 00:00:00           9\n",
       "2018-03-01 00:10:00          14\n",
       "2018-03-01 00:20:00          28\n",
       "2018-03-01 00:30:00          20\n",
       "2018-03-01 00:40:00          32"
      ]
     },
     "execution_count": 6,
     "metadata": {},
     "output_type": "execute_result"
    }
   ],
   "source": [
    "data.head()"
   ]
  },
  {
   "cell_type": "markdown",
   "metadata": {},
   "source": [
    "<div class=\"alert alert-success\">\n",
    "<b>✔️ Комментарий ревьюера:</b>  \n",
    "\n",
    "Здорово, что проверил в хронологическом ли порядке расположены значения индекса✨\n",
    "    \n",
    "</div>"
   ]
  },
  {
   "cell_type": "markdown",
   "metadata": {},
   "source": [
    "### Ресемплирование по одному часу."
   ]
  },
  {
   "cell_type": "code",
   "execution_count": 7,
   "metadata": {},
   "outputs": [],
   "source": [
    "data = data.resample('1H').sum()"
   ]
  },
  {
   "cell_type": "code",
   "execution_count": 8,
   "metadata": {},
   "outputs": [
    {
     "data": {
      "text/html": [
       "<div>\n",
       "<style scoped>\n",
       "    .dataframe tbody tr th:only-of-type {\n",
       "        vertical-align: middle;\n",
       "    }\n",
       "\n",
       "    .dataframe tbody tr th {\n",
       "        vertical-align: top;\n",
       "    }\n",
       "\n",
       "    .dataframe thead th {\n",
       "        text-align: right;\n",
       "    }\n",
       "</style>\n",
       "<table border=\"1\" class=\"dataframe\">\n",
       "  <thead>\n",
       "    <tr style=\"text-align: right;\">\n",
       "      <th></th>\n",
       "      <th>num_orders</th>\n",
       "    </tr>\n",
       "    <tr>\n",
       "      <th>datetime</th>\n",
       "      <th></th>\n",
       "    </tr>\n",
       "  </thead>\n",
       "  <tbody>\n",
       "    <tr>\n",
       "      <th>2018-03-01 00:00:00</th>\n",
       "      <td>124</td>\n",
       "    </tr>\n",
       "    <tr>\n",
       "      <th>2018-03-01 01:00:00</th>\n",
       "      <td>85</td>\n",
       "    </tr>\n",
       "    <tr>\n",
       "      <th>2018-03-01 02:00:00</th>\n",
       "      <td>71</td>\n",
       "    </tr>\n",
       "    <tr>\n",
       "      <th>2018-03-01 03:00:00</th>\n",
       "      <td>66</td>\n",
       "    </tr>\n",
       "    <tr>\n",
       "      <th>2018-03-01 04:00:00</th>\n",
       "      <td>43</td>\n",
       "    </tr>\n",
       "  </tbody>\n",
       "</table>\n",
       "</div>"
      ],
      "text/plain": [
       "                     num_orders\n",
       "datetime                       \n",
       "2018-03-01 00:00:00         124\n",
       "2018-03-01 01:00:00          85\n",
       "2018-03-01 02:00:00          71\n",
       "2018-03-01 03:00:00          66\n",
       "2018-03-01 04:00:00          43"
      ]
     },
     "execution_count": 8,
     "metadata": {},
     "output_type": "execute_result"
    }
   ],
   "source": [
    "data.head()"
   ]
  },
  {
   "cell_type": "markdown",
   "metadata": {},
   "source": [
    "### Проверка на стационарность"
   ]
  },
  {
   "cell_type": "code",
   "execution_count": 9,
   "metadata": {},
   "outputs": [],
   "source": [
    "data['mean'] = data['num_orders'].rolling(15).mean()\n",
    "data['std'] = data['num_orders'].rolling(15).std()"
   ]
  },
  {
   "cell_type": "code",
   "execution_count": 10,
   "metadata": {},
   "outputs": [
    {
     "data": {
      "text/plain": [
       "<Axes: xlabel='datetime'>"
      ]
     },
     "execution_count": 10,
     "metadata": {},
     "output_type": "execute_result"
    },
    {
     "data": {
      "image/png": "[encoded data removed]",
      "text/plain": [
       "<Figure size 640x480 with 1 Axes>"
      ]
     },
     "metadata": {},
     "output_type": "display_data"
    }
   ],
   "source": [
    "data.plot()"
   ]
  },
  {
   "cell_type": "markdown",
   "metadata": {},
   "source": [
    "Так как ряд и стандартное отклонение изменяются, то ряд не является стационарным"
   ]
  },
  {
   "cell_type": "code",
   "execution_count": 11,
   "metadata": {},
   "outputs": [],
   "source": [
    "data = data.drop(['std','mean'],axis=1)\n"
   ]
  },
  {
   "cell_type": "markdown",
   "metadata": {},
   "source": [
    "<div class=\"alert alert-success\">\n",
    "<b>✔️ Комментарий ревьюера:</b>  \n",
    "\n",
    "\n",
    "Хорошее начало проекта!👍\n",
    "       \n",
    "- Молодец, что провел сглаживание данных по одному часу (ресемплирование) и построил график временного ряда. \n",
    "- Здорово, что отметил скользящее среднее  \n",
    "\n",
    "</div>"
   ]
  },
  {
   "cell_type": "markdown",
   "metadata": {},
   "source": [
    "<div class=\"alert alert-warning\">\n",
    "<b>⚠️ Комментарий ревьюера:</b> \n",
    "    \n",
    "Всем графикам проекта стоит добавить название =)\n",
    "    \n",
    "    \n",
    "</div>"
   ]
  },
  {
   "cell_type": "markdown",
   "metadata": {},
   "source": [
    "### Тренд и сезонность"
   ]
  },
  {
   "cell_type": "markdown",
   "metadata": {},
   "source": [
    "Разложение временного ряда на три составляющие: тренд, сезонность и остаток"
   ]
  },
  {
   "cell_type": "code",
   "execution_count": 12,
   "metadata": {},
   "outputs": [],
   "source": [
    "decomposed = seasonal_decompose(data['num_orders'])"
   ]
  },
  {
   "cell_type": "code",
   "execution_count": 13,
   "metadata": {},
   "outputs": [
    {
     "data": {
      "image/png": "[encoded data removed]",
      "text/plain": [
       "<Figure size 1200x800 with 3 Axes>"
      ]
     },
     "metadata": {},
     "output_type": "display_data"
    }
   ],
   "source": [
    "plt.figure(figsize=(12, 8))\n",
    "plt.subplot(311)\n",
    "\n",
    "decomposed.trend.plot(ax=plt.gca())\n",
    "plt.title('Trend')\n",
    "plt.subplot(312)\n",
    "decomposed.seasonal.plot(ax=plt.gca())\n",
    "plt.title('Seasonality')\n",
    "plt.subplot(313)\n",
    "decomposed.resid.plot(ax=plt.gca())\n",
    "plt.title('Residuals')\n",
    "plt.tight_layout()"
   ]
  },
  {
   "cell_type": "markdown",
   "metadata": {},
   "source": [
    "Увеличение масштаба отображения"
   ]
  },
  {
   "cell_type": "code",
   "execution_count": 14,
   "metadata": {},
   "outputs": [
    {
     "data": {
      "image/png": "[encoded data removed]",
      "text/plain": [
       "<Figure size 1200x800 with 3 Axes>"
      ]
     },
     "metadata": {},
     "output_type": "display_data"
    }
   ],
   "source": [
    "plt.figure(figsize=(12, 8))\n",
    "plt.subplot(311)\n",
    "decomposed.trend.plot(ax=plt.gca())\n",
    "plt.title('Trend')\n",
    "plt.subplot(312)\n",
    "decomposed.seasonal['2018-08-01':'2018-08-05'].plot(ax=plt.gca())\n",
    "plt.title('Seasonality')\n",
    "plt.subplot(313)\n",
    "decomposed.seasonal['2018-08-01':'2018-08-01'].plot(ax=plt.gca())\n",
    "plt.title('Seasonality')\n",
    "plt.tight_layout()"
   ]
  },
  {
   "cell_type": "markdown",
   "metadata": {},
   "source": [
    "Тренд к увеличению поедок в такси к концу лета<br>\n",
    "Сезенность наблюдается в дневных поездках: пик - 00 часов, минимальное количество поездок - 6 утра, 2 локальных пика - в районе 9 утра (на работу), 17.00 (с работы)"
   ]
  },
  {
   "cell_type": "markdown",
   "metadata": {},
   "source": [
    "### Вывод:"
   ]
  },
  {
   "cell_type": "markdown",
   "metadata": {},
   "source": [
    "Данные считаны, проверены на дубликаты и отсортированы<br>\n",
    "Проведено ресемплирование по 1 часу<br>\n",
    "Временной ряд не является стационарным<br>\n",
    "Наблюдается тренд к увеличению числа поездок к концу лета<br> \n",
    "Cезонность проявляется в двух пиках, связанных с поездками на работу и с работы, максимального числа поездок в полночь и минимального количества в 6 утра\n"
   ]
  },
  {
   "cell_type": "markdown",
   "metadata": {},
   "source": [
    "<div class=\"alert alert-success\">\n",
    "<b>✔️ Комментарий ревьюера:</b> \n",
    " \n",
    "Хорошая работа🔥\n",
    "    \n",
    "- Молодец, что разложил временной ряд на тренды и сезонность, построил графики. \n",
    "- Здорово, что сезонность визуализирована на коротком интервале✨ \n",
    "- Очень хорошо, что зафиксированы выводы по этапу \n",
    "    \n",
    "***\n",
    "    \n",
    "На будущее: можно еще **провести проверку ряда на стационарность с помощью тест Дики-Фуллера `adfuller()`**\n",
    "    \n",
    "Стационарный ряд - это такой ряд, у которого среднее и стандартное отклонение не меняются.\n",
    "\n",
    "Проверка на стационарность может быть выполнена следующими способами:\n",
    "- Визуально: отобразать временной ряд и проверить тенденции или сезонность\n",
    "- Статистически: разделить временные ряды и сравнить среднее значение и дисперсию каждого раздела\n",
    "- Провести статистический тест: тест Дики-Фуллера\n",
    "    \n",
    "Расширенный Тест Дики — Фуллера, 4 версии теста:\n",
    "- Без константы и тренда: 'nc' \n",
    "- С константой, но без тренда: 'c' \n",
    "- С константой и линейным трендом: 'ct' \n",
    "- С константой, линейным и квадратичным трендом: 'ctt'\n",
    "    \n",
    "Пример: \n",
    "    \n",
    "        ts = taxi['num_orders']\n",
    "        st_test = adfuller(ts, regression='ctt')\n",
    "        \n",
    "   \n",
    "    \n",
    "</div>"
   ]
  },
  {
   "cell_type": "markdown",
   "metadata": {},
   "source": [
    "<div class=\"alert alert-danger\">\n",
    "<b>❌ Комментарий ревьюера:</b> \n",
    "\n",
    "Все отлично, только один небольшой пункт:\n",
    "    \n",
    "- График сезонности, **который визуализирован на всем временном промежутке**, стоит удалить\\заменить, т.к. для анализа он не подходит (не информативен, к сожалению)\n",
    "  \n",
    "</div>"
   ]
  },
  {
   "cell_type": "markdown",
   "metadata": {},
   "source": [
    "<div class=\"alert alert-info\"> <b>Комментарий ревьюера (на будущее):</b> \n",
    "     \n",
    "На декомпозиии можно еще сделать график остатков.\n",
    "    \n",
    "**График остатков** интрепетировать сложнее, чем тренда или сезонности - в идеале, график остатков должен содержать только шум без систематических компонент. Анализ остатков важен, но в рамках данного проекта проводить его не требуется (!).\n",
    "    \n",
    "    \n",
    "**На будущее:**\n",
    "    \n",
    "*Анализ остатков.* Если остатки систематически распределены (например, отрицательны в первой части ряда и примерно равны нуля во второй) или включают некоторую периодическую компоненту, то это свидетельствует о неадекватности модели. Анализ остатков чрезвычайно важен и необходим при анализе временных рядов. Процедура оценивания предполагает, что остатки не коррелированы и нормально распределены.\n",
    "    \n",
    "Подробнее: http://statsoft.ru/home/textbook/modules/sttimser.html\n",
    "  \n",
    "</div>"
   ]
  },
  {
   "cell_type": "markdown",
   "metadata": {},
   "source": [
    "## Анализ"
   ]
  },
  {
   "cell_type": "markdown",
   "metadata": {},
   "source": [
    "### Получение новых признаков"
   ]
  },
  {
   "cell_type": "markdown",
   "metadata": {},
   "source": [
    "Добавление признака для стационарного ряда"
   ]
  },
  {
   "cell_type": "code",
   "execution_count": 15,
   "metadata": {},
   "outputs": [],
   "source": [
    "data['shift'] = abs(data['num_orders'] - data['num_orders'].shift())"
   ]
  },
  {
   "cell_type": "markdown",
   "metadata": {},
   "source": [
    "Функция добавления новых календарных признаков:<br> \n",
    "месяц, день, день недели, час<br>\n",
    "Также отстающие значения с помощью функции shift(): 'lag_1', 'lag_2' — и до величины max_lag, признаки Скользящая cтандартное отклонение:"
   ]
  },
  {
   "cell_type": "code",
   "execution_count": 16,
   "metadata": {},
   "outputs": [],
   "source": [
    "def make_features(data, max_lag, rolling_mean_size):\n",
    "    data['month'] = data.index.month\n",
    "    data['day'] = data.index.day\n",
    "    data['dayofweek'] = data.index.dayofweek\n",
    "    data['hour'] = data.index.hour\n",
    "    \n",
    "    for i in range(1, max_lag + 1):\n",
    "        data['lag_' + str(i)] = data['num_orders'].shift(i)\n",
    "    data['rolling_mean'] = data['num_orders'].shift().rolling(rolling_mean_size).mean()"
   ]
  },
  {
   "cell_type": "markdown",
   "metadata": {},
   "source": [
    "<div class=\"alert alert-success\">\n",
    "<b>✔️ Комментарий ревьюера:</b>  \n",
    "\n",
    "Молодец, что подготовил признаки✨ \n",
    "    \n",
    "В проекте стоит задача **спрогнозировать количество заказов такси на следующий час.**\n",
    "       \n",
    "Т.е. цель создать три типа признаков:\n",
    "- Календарные признаки - здесь создадим столбцы **с днем недели и часом.** \n",
    "- «Отстающие значения» - они помогают нам трансформировать задачу прогнозирования в задачу обучения с учителем, потому что один из способов спрогнозировать величину в периоде t+1 - это использовать предыдущие значения;\n",
    "- Скользящее среднее - как признак, задающий тренд временного ряда.     \n",
    "       \n",
    "\n",
    "</div>"
   ]
  },
  {
   "cell_type": "markdown",
   "metadata": {},
   "source": [
    "<div class=\"alert alert-warning\">\n",
    "<b>⚠️ Комментарий ревьюера:</b> \n",
    "    \n",
    "Месяц выделять не требуется, т.к. в датасете период менее года, тренд будет прослеживаться и без месяца\n",
    "    \n",
    "</div>"
   ]
  },
  {
   "cell_type": "code",
   "execution_count": 17,
   "metadata": {},
   "outputs": [],
   "source": [
    "make_features(data, 14, 14)"
   ]
  },
  {
   "cell_type": "markdown",
   "metadata": {},
   "source": [
    "<div class=\"alert alert-warning\">\n",
    "<b>⚠️ Комментарий ревьюера:</b> \n",
    "    \n",
    "Подскажи, пожалуйста, почему выбираешь 14? Логичней было бы привязать к часам\n",
    "    \n",
    "</div>"
   ]
  },
  {
   "cell_type": "code",
   "execution_count": 18,
   "metadata": {},
   "outputs": [
    {
     "data": {
      "text/html": [
       "<div>\n",
       "<style scoped>\n",
       "    .dataframe tbody tr th:only-of-type {\n",
       "        vertical-align: middle;\n",
       "    }\n",
       "\n",
       "    .dataframe tbody tr th {\n",
       "        vertical-align: top;\n",
       "    }\n",
       "\n",
       "    .dataframe thead th {\n",
       "        text-align: right;\n",
       "    }\n",
       "</style>\n",
       "<table border=\"1\" class=\"dataframe\">\n",
       "  <thead>\n",
       "    <tr style=\"text-align: right;\">\n",
       "      <th></th>\n",
       "      <th>num_orders</th>\n",
       "      <th>shift</th>\n",
       "      <th>month</th>\n",
       "      <th>day</th>\n",
       "      <th>dayofweek</th>\n",
       "      <th>hour</th>\n",
       "      <th>lag_1</th>\n",
       "      <th>lag_2</th>\n",
       "      <th>lag_3</th>\n",
       "      <th>lag_4</th>\n",
       "      <th>...</th>\n",
       "      <th>lag_6</th>\n",
       "      <th>lag_7</th>\n",
       "      <th>lag_8</th>\n",
       "      <th>lag_9</th>\n",
       "      <th>lag_10</th>\n",
       "      <th>lag_11</th>\n",
       "      <th>lag_12</th>\n",
       "      <th>lag_13</th>\n",
       "      <th>lag_14</th>\n",
       "      <th>rolling_mean</th>\n",
       "    </tr>\n",
       "    <tr>\n",
       "      <th>datetime</th>\n",
       "      <th></th>\n",
       "      <th></th>\n",
       "      <th></th>\n",
       "      <th></th>\n",
       "      <th></th>\n",
       "      <th></th>\n",
       "      <th></th>\n",
       "      <th></th>\n",
       "      <th></th>\n",
       "      <th></th>\n",
       "      <th></th>\n",
       "      <th></th>\n",
       "      <th></th>\n",
       "      <th></th>\n",
       "      <th></th>\n",
       "      <th></th>\n",
       "      <th></th>\n",
       "      <th></th>\n",
       "      <th></th>\n",
       "      <th></th>\n",
       "      <th></th>\n",
       "    </tr>\n",
       "  </thead>\n",
       "  <tbody>\n",
       "    <tr>\n",
       "      <th>2018-03-01 00:00:00</th>\n",
       "      <td>124</td>\n",
       "      <td>NaN</td>\n",
       "      <td>3</td>\n",
       "      <td>1</td>\n",
       "      <td>3</td>\n",
       "      <td>0</td>\n",
       "      <td>NaN</td>\n",
       "      <td>NaN</td>\n",
       "      <td>NaN</td>\n",
       "      <td>NaN</td>\n",
       "      <td>...</td>\n",
       "      <td>NaN</td>\n",
       "      <td>NaN</td>\n",
       "      <td>NaN</td>\n",
       "      <td>NaN</td>\n",
       "      <td>NaN</td>\n",
       "      <td>NaN</td>\n",
       "      <td>NaN</td>\n",
       "      <td>NaN</td>\n",
       "      <td>NaN</td>\n",
       "      <td>NaN</td>\n",
       "    </tr>\n",
       "    <tr>\n",
       "      <th>2018-03-01 01:00:00</th>\n",
       "      <td>85</td>\n",
       "      <td>39.0</td>\n",
       "      <td>3</td>\n",
       "      <td>1</td>\n",
       "      <td>3</td>\n",
       "      <td>1</td>\n",
       "      <td>124.0</td>\n",
       "      <td>NaN</td>\n",
       "      <td>NaN</td>\n",
       "      <td>NaN</td>\n",
       "      <td>...</td>\n",
       "      <td>NaN</td>\n",
       "      <td>NaN</td>\n",
       "      <td>NaN</td>\n",
       "      <td>NaN</td>\n",
       "      <td>NaN</td>\n",
       "      <td>NaN</td>\n",
       "      <td>NaN</td>\n",
       "      <td>NaN</td>\n",
       "      <td>NaN</td>\n",
       "      <td>NaN</td>\n",
       "    </tr>\n",
       "    <tr>\n",
       "      <th>2018-03-01 02:00:00</th>\n",
       "      <td>71</td>\n",
       "      <td>14.0</td>\n",
       "      <td>3</td>\n",
       "      <td>1</td>\n",
       "      <td>3</td>\n",
       "      <td>2</td>\n",
       "      <td>85.0</td>\n",
       "      <td>124.0</td>\n",
       "      <td>NaN</td>\n",
       "      <td>NaN</td>\n",
       "      <td>...</td>\n",
       "      <td>NaN</td>\n",
       "      <td>NaN</td>\n",
       "      <td>NaN</td>\n",
       "      <td>NaN</td>\n",
       "      <td>NaN</td>\n",
       "      <td>NaN</td>\n",
       "      <td>NaN</td>\n",
       "      <td>NaN</td>\n",
       "      <td>NaN</td>\n",
       "      <td>NaN</td>\n",
       "    </tr>\n",
       "    <tr>\n",
       "      <th>2018-03-01 03:00:00</th>\n",
       "      <td>66</td>\n",
       "      <td>5.0</td>\n",
       "      <td>3</td>\n",
       "      <td>1</td>\n",
       "      <td>3</td>\n",
       "      <td>3</td>\n",
       "      <td>71.0</td>\n",
       "      <td>85.0</td>\n",
       "      <td>124.0</td>\n",
       "      <td>NaN</td>\n",
       "      <td>...</td>\n",
       "      <td>NaN</td>\n",
       "      <td>NaN</td>\n",
       "      <td>NaN</td>\n",
       "      <td>NaN</td>\n",
       "      <td>NaN</td>\n",
       "      <td>NaN</td>\n",
       "      <td>NaN</td>\n",
       "      <td>NaN</td>\n",
       "      <td>NaN</td>\n",
       "      <td>NaN</td>\n",
       "    </tr>\n",
       "    <tr>\n",
       "      <th>2018-03-01 04:00:00</th>\n",
       "      <td>43</td>\n",
       "      <td>23.0</td>\n",
       "      <td>3</td>\n",
       "      <td>1</td>\n",
       "      <td>3</td>\n",
       "      <td>4</td>\n",
       "      <td>66.0</td>\n",
       "      <td>71.0</td>\n",
       "      <td>85.0</td>\n",
       "      <td>124.0</td>\n",
       "      <td>...</td>\n",
       "      <td>NaN</td>\n",
       "      <td>NaN</td>\n",
       "      <td>NaN</td>\n",
       "      <td>NaN</td>\n",
       "      <td>NaN</td>\n",
       "      <td>NaN</td>\n",
       "      <td>NaN</td>\n",
       "      <td>NaN</td>\n",
       "      <td>NaN</td>\n",
       "      <td>NaN</td>\n",
       "    </tr>\n",
       "    <tr>\n",
       "      <th>...</th>\n",
       "      <td>...</td>\n",
       "      <td>...</td>\n",
       "      <td>...</td>\n",
       "      <td>...</td>\n",
       "      <td>...</td>\n",
       "      <td>...</td>\n",
       "      <td>...</td>\n",
       "      <td>...</td>\n",
       "      <td>...</td>\n",
       "      <td>...</td>\n",
       "      <td>...</td>\n",
       "      <td>...</td>\n",
       "      <td>...</td>\n",
       "      <td>...</td>\n",
       "      <td>...</td>\n",
       "      <td>...</td>\n",
       "      <td>...</td>\n",
       "      <td>...</td>\n",
       "      <td>...</td>\n",
       "      <td>...</td>\n",
       "      <td>...</td>\n",
       "    </tr>\n",
       "    <tr>\n",
       "      <th>2018-08-31 19:00:00</th>\n",
       "      <td>136</td>\n",
       "      <td>71.0</td>\n",
       "      <td>8</td>\n",
       "      <td>31</td>\n",
       "      <td>4</td>\n",
       "      <td>19</td>\n",
       "      <td>207.0</td>\n",
       "      <td>217.0</td>\n",
       "      <td>197.0</td>\n",
       "      <td>116.0</td>\n",
       "      <td>...</td>\n",
       "      <td>166.0</td>\n",
       "      <td>136.0</td>\n",
       "      <td>167.0</td>\n",
       "      <td>191.0</td>\n",
       "      <td>203.0</td>\n",
       "      <td>182.0</td>\n",
       "      <td>46.0</td>\n",
       "      <td>35.0</td>\n",
       "      <td>78.0</td>\n",
       "      <td>148.142857</td>\n",
       "    </tr>\n",
       "    <tr>\n",
       "      <th>2018-08-31 20:00:00</th>\n",
       "      <td>154</td>\n",
       "      <td>18.0</td>\n",
       "      <td>8</td>\n",
       "      <td>31</td>\n",
       "      <td>4</td>\n",
       "      <td>20</td>\n",
       "      <td>136.0</td>\n",
       "      <td>207.0</td>\n",
       "      <td>217.0</td>\n",
       "      <td>197.0</td>\n",
       "      <td>...</td>\n",
       "      <td>133.0</td>\n",
       "      <td>166.0</td>\n",
       "      <td>136.0</td>\n",
       "      <td>167.0</td>\n",
       "      <td>191.0</td>\n",
       "      <td>203.0</td>\n",
       "      <td>182.0</td>\n",
       "      <td>46.0</td>\n",
       "      <td>35.0</td>\n",
       "      <td>152.285714</td>\n",
       "    </tr>\n",
       "    <tr>\n",
       "      <th>2018-08-31 21:00:00</th>\n",
       "      <td>159</td>\n",
       "      <td>5.0</td>\n",
       "      <td>8</td>\n",
       "      <td>31</td>\n",
       "      <td>4</td>\n",
       "      <td>21</td>\n",
       "      <td>154.0</td>\n",
       "      <td>136.0</td>\n",
       "      <td>207.0</td>\n",
       "      <td>217.0</td>\n",
       "      <td>...</td>\n",
       "      <td>116.0</td>\n",
       "      <td>133.0</td>\n",
       "      <td>166.0</td>\n",
       "      <td>136.0</td>\n",
       "      <td>167.0</td>\n",
       "      <td>191.0</td>\n",
       "      <td>203.0</td>\n",
       "      <td>182.0</td>\n",
       "      <td>46.0</td>\n",
       "      <td>160.785714</td>\n",
       "    </tr>\n",
       "    <tr>\n",
       "      <th>2018-08-31 22:00:00</th>\n",
       "      <td>223</td>\n",
       "      <td>64.0</td>\n",
       "      <td>8</td>\n",
       "      <td>31</td>\n",
       "      <td>4</td>\n",
       "      <td>22</td>\n",
       "      <td>159.0</td>\n",
       "      <td>154.0</td>\n",
       "      <td>136.0</td>\n",
       "      <td>207.0</td>\n",
       "      <td>...</td>\n",
       "      <td>197.0</td>\n",
       "      <td>116.0</td>\n",
       "      <td>133.0</td>\n",
       "      <td>166.0</td>\n",
       "      <td>136.0</td>\n",
       "      <td>167.0</td>\n",
       "      <td>191.0</td>\n",
       "      <td>203.0</td>\n",
       "      <td>182.0</td>\n",
       "      <td>168.857143</td>\n",
       "    </tr>\n",
       "    <tr>\n",
       "      <th>2018-08-31 23:00:00</th>\n",
       "      <td>205</td>\n",
       "      <td>18.0</td>\n",
       "      <td>8</td>\n",
       "      <td>31</td>\n",
       "      <td>4</td>\n",
       "      <td>23</td>\n",
       "      <td>223.0</td>\n",
       "      <td>159.0</td>\n",
       "      <td>154.0</td>\n",
       "      <td>136.0</td>\n",
       "      <td>...</td>\n",
       "      <td>217.0</td>\n",
       "      <td>197.0</td>\n",
       "      <td>116.0</td>\n",
       "      <td>133.0</td>\n",
       "      <td>166.0</td>\n",
       "      <td>136.0</td>\n",
       "      <td>167.0</td>\n",
       "      <td>191.0</td>\n",
       "      <td>203.0</td>\n",
       "      <td>171.785714</td>\n",
       "    </tr>\n",
       "  </tbody>\n",
       "</table>\n",
       "<p>4416 rows × 21 columns</p>\n",
       "</div>"
      ],
      "text/plain": [
       "                     num_orders  shift  month  day  dayofweek  hour  lag_1  \\\n",
       "datetime                                                                     \n",
       "2018-03-01 00:00:00         124    NaN      3    1          3     0    NaN   \n",
       "2018-03-01 01:00:00          85   39.0      3    1          3     1  124.0   \n",
       "2018-03-01 02:00:00          71   14.0      3    1          3     2   85.0   \n",
       "2018-03-01 03:00:00          66    5.0      3    1          3     3   71.0   \n",
       "2018-03-01 04:00:00          43   23.0      3    1          3     4   66.0   \n",
       "...                         ...    ...    ...  ...        ...   ...    ...   \n",
       "2018-08-31 19:00:00         136   71.0      8   31          4    19  207.0   \n",
       "2018-08-31 20:00:00         154   18.0      8   31          4    20  136.0   \n",
       "2018-08-31 21:00:00         159    5.0      8   31          4    21  154.0   \n",
       "2018-08-31 22:00:00         223   64.0      8   31          4    22  159.0   \n",
       "2018-08-31 23:00:00         205   18.0      8   31          4    23  223.0   \n",
       "\n",
       "                     lag_2  lag_3  lag_4  ...  lag_6  lag_7  lag_8  lag_9  \\\n",
       "datetime                                  ...                               \n",
       "2018-03-01 00:00:00    NaN    NaN    NaN  ...    NaN    NaN    NaN    NaN   \n",
       "2018-03-01 01:00:00    NaN    NaN    NaN  ...    NaN    NaN    NaN    NaN   \n",
       "2018-03-01 02:00:00  124.0    NaN    NaN  ...    NaN    NaN    NaN    NaN   \n",
       "2018-03-01 03:00:00   85.0  124.0    NaN  ...    NaN    NaN    NaN    NaN   \n",
       "2018-03-01 04:00:00   71.0   85.0  124.0  ...    NaN    NaN    NaN    NaN   \n",
       "...                    ...    ...    ...  ...    ...    ...    ...    ...   \n",
       "2018-08-31 19:00:00  217.0  197.0  116.0  ...  166.0  136.0  167.0  191.0   \n",
       "2018-08-31 20:00:00  207.0  217.0  197.0  ...  133.0  166.0  136.0  167.0   \n",
       "2018-08-31 21:00:00  136.0  207.0  217.0  ...  116.0  133.0  166.0  136.0   \n",
       "2018-08-31 22:00:00  154.0  136.0  207.0  ...  197.0  116.0  133.0  166.0   \n",
       "2018-08-31 23:00:00  159.0  154.0  136.0  ...  217.0  197.0  116.0  133.0   \n",
       "\n",
       "                     lag_10  lag_11  lag_12  lag_13  lag_14  rolling_mean  \n",
       "datetime                                                                   \n",
       "2018-03-01 00:00:00     NaN     NaN     NaN     NaN     NaN           NaN  \n",
       "2018-03-01 01:00:00     NaN     NaN     NaN     NaN     NaN           NaN  \n",
       "2018-03-01 02:00:00     NaN     NaN     NaN     NaN     NaN           NaN  \n",
       "2018-03-01 03:00:00     NaN     NaN     NaN     NaN     NaN           NaN  \n",
       "2018-03-01 04:00:00     NaN     NaN     NaN     NaN     NaN           NaN  \n",
       "...                     ...     ...     ...     ...     ...           ...  \n",
       "2018-08-31 19:00:00   203.0   182.0    46.0    35.0    78.0    148.142857  \n",
       "2018-08-31 20:00:00   191.0   203.0   182.0    46.0    35.0    152.285714  \n",
       "2018-08-31 21:00:00   167.0   191.0   203.0   182.0    46.0    160.785714  \n",
       "2018-08-31 22:00:00   136.0   167.0   191.0   203.0   182.0    168.857143  \n",
       "2018-08-31 23:00:00   166.0   136.0   167.0   191.0   203.0    171.785714  \n",
       "\n",
       "[4416 rows x 21 columns]"
      ]
     },
     "execution_count": 18,
     "metadata": {},
     "output_type": "execute_result"
    }
   ],
   "source": [
    "data"
   ]
  },
  {
   "cell_type": "markdown",
   "metadata": {},
   "source": [
    "<div class=\"alert alert-warning\">\n",
    "<b>⚠️ Комментарий ревьюера:</b> \n",
    "    \n",
    "Рекомендую всегда ограничивать вывод таблиц несколькими строками, так оптимальнее используется память компьютера и проект выглядит аккуратнее 😊\n",
    "\n",
    "</div>"
   ]
  },
  {
   "cell_type": "markdown",
   "metadata": {},
   "source": [
    "Удаление строк, содержащих пропущенные значения"
   ]
  },
  {
   "cell_type": "code",
   "execution_count": 19,
   "metadata": {},
   "outputs": [],
   "source": [
    "data = data.dropna()"
   ]
  },
  {
   "cell_type": "code",
   "execution_count": 20,
   "metadata": {},
   "outputs": [
    {
     "data": {
      "text/html": [
       "<div>\n",
       "<style scoped>\n",
       "    .dataframe tbody tr th:only-of-type {\n",
       "        vertical-align: middle;\n",
       "    }\n",
       "\n",
       "    .dataframe tbody tr th {\n",
       "        vertical-align: top;\n",
       "    }\n",
       "\n",
       "    .dataframe thead th {\n",
       "        text-align: right;\n",
       "    }\n",
       "</style>\n",
       "<table border=\"1\" class=\"dataframe\">\n",
       "  <thead>\n",
       "    <tr style=\"text-align: right;\">\n",
       "      <th></th>\n",
       "      <th>num_orders</th>\n",
       "      <th>shift</th>\n",
       "      <th>month</th>\n",
       "      <th>day</th>\n",
       "      <th>dayofweek</th>\n",
       "      <th>hour</th>\n",
       "      <th>lag_1</th>\n",
       "      <th>lag_2</th>\n",
       "      <th>lag_3</th>\n",
       "      <th>lag_4</th>\n",
       "      <th>...</th>\n",
       "      <th>lag_6</th>\n",
       "      <th>lag_7</th>\n",
       "      <th>lag_8</th>\n",
       "      <th>lag_9</th>\n",
       "      <th>lag_10</th>\n",
       "      <th>lag_11</th>\n",
       "      <th>lag_12</th>\n",
       "      <th>lag_13</th>\n",
       "      <th>lag_14</th>\n",
       "      <th>rolling_mean</th>\n",
       "    </tr>\n",
       "    <tr>\n",
       "      <th>datetime</th>\n",
       "      <th></th>\n",
       "      <th></th>\n",
       "      <th></th>\n",
       "      <th></th>\n",
       "      <th></th>\n",
       "      <th></th>\n",
       "      <th></th>\n",
       "      <th></th>\n",
       "      <th></th>\n",
       "      <th></th>\n",
       "      <th></th>\n",
       "      <th></th>\n",
       "      <th></th>\n",
       "      <th></th>\n",
       "      <th></th>\n",
       "      <th></th>\n",
       "      <th></th>\n",
       "      <th></th>\n",
       "      <th></th>\n",
       "      <th></th>\n",
       "      <th></th>\n",
       "    </tr>\n",
       "  </thead>\n",
       "  <tbody>\n",
       "    <tr>\n",
       "      <th>2018-03-01 14:00:00</th>\n",
       "      <td>48</td>\n",
       "      <td>16.0</td>\n",
       "      <td>3</td>\n",
       "      <td>1</td>\n",
       "      <td>3</td>\n",
       "      <td>14</td>\n",
       "      <td>32.0</td>\n",
       "      <td>30.0</td>\n",
       "      <td>96.0</td>\n",
       "      <td>64.0</td>\n",
       "      <td>...</td>\n",
       "      <td>34.0</td>\n",
       "      <td>15.0</td>\n",
       "      <td>12.0</td>\n",
       "      <td>6.0</td>\n",
       "      <td>43.0</td>\n",
       "      <td>66.0</td>\n",
       "      <td>71.0</td>\n",
       "      <td>85.0</td>\n",
       "      <td>124.0</td>\n",
       "      <td>53.357143</td>\n",
       "    </tr>\n",
       "    <tr>\n",
       "      <th>2018-03-01 15:00:00</th>\n",
       "      <td>66</td>\n",
       "      <td>18.0</td>\n",
       "      <td>3</td>\n",
       "      <td>1</td>\n",
       "      <td>3</td>\n",
       "      <td>15</td>\n",
       "      <td>48.0</td>\n",
       "      <td>32.0</td>\n",
       "      <td>30.0</td>\n",
       "      <td>96.0</td>\n",
       "      <td>...</td>\n",
       "      <td>69.0</td>\n",
       "      <td>34.0</td>\n",
       "      <td>15.0</td>\n",
       "      <td>12.0</td>\n",
       "      <td>6.0</td>\n",
       "      <td>43.0</td>\n",
       "      <td>66.0</td>\n",
       "      <td>71.0</td>\n",
       "      <td>85.0</td>\n",
       "      <td>47.928571</td>\n",
       "    </tr>\n",
       "    <tr>\n",
       "      <th>2018-03-01 16:00:00</th>\n",
       "      <td>43</td>\n",
       "      <td>23.0</td>\n",
       "      <td>3</td>\n",
       "      <td>1</td>\n",
       "      <td>3</td>\n",
       "      <td>16</td>\n",
       "      <td>66.0</td>\n",
       "      <td>48.0</td>\n",
       "      <td>32.0</td>\n",
       "      <td>30.0</td>\n",
       "      <td>...</td>\n",
       "      <td>64.0</td>\n",
       "      <td>69.0</td>\n",
       "      <td>34.0</td>\n",
       "      <td>15.0</td>\n",
       "      <td>12.0</td>\n",
       "      <td>6.0</td>\n",
       "      <td>43.0</td>\n",
       "      <td>66.0</td>\n",
       "      <td>71.0</td>\n",
       "      <td>46.571429</td>\n",
       "    </tr>\n",
       "    <tr>\n",
       "      <th>2018-03-01 17:00:00</th>\n",
       "      <td>44</td>\n",
       "      <td>1.0</td>\n",
       "      <td>3</td>\n",
       "      <td>1</td>\n",
       "      <td>3</td>\n",
       "      <td>17</td>\n",
       "      <td>43.0</td>\n",
       "      <td>66.0</td>\n",
       "      <td>48.0</td>\n",
       "      <td>32.0</td>\n",
       "      <td>...</td>\n",
       "      <td>96.0</td>\n",
       "      <td>64.0</td>\n",
       "      <td>69.0</td>\n",
       "      <td>34.0</td>\n",
       "      <td>15.0</td>\n",
       "      <td>12.0</td>\n",
       "      <td>6.0</td>\n",
       "      <td>43.0</td>\n",
       "      <td>66.0</td>\n",
       "      <td>44.571429</td>\n",
       "    </tr>\n",
       "    <tr>\n",
       "      <th>2018-03-01 18:00:00</th>\n",
       "      <td>73</td>\n",
       "      <td>29.0</td>\n",
       "      <td>3</td>\n",
       "      <td>1</td>\n",
       "      <td>3</td>\n",
       "      <td>18</td>\n",
       "      <td>44.0</td>\n",
       "      <td>43.0</td>\n",
       "      <td>66.0</td>\n",
       "      <td>48.0</td>\n",
       "      <td>...</td>\n",
       "      <td>30.0</td>\n",
       "      <td>96.0</td>\n",
       "      <td>64.0</td>\n",
       "      <td>69.0</td>\n",
       "      <td>34.0</td>\n",
       "      <td>15.0</td>\n",
       "      <td>12.0</td>\n",
       "      <td>6.0</td>\n",
       "      <td>43.0</td>\n",
       "      <td>43.000000</td>\n",
       "    </tr>\n",
       "    <tr>\n",
       "      <th>...</th>\n",
       "      <td>...</td>\n",
       "      <td>...</td>\n",
       "      <td>...</td>\n",
       "      <td>...</td>\n",
       "      <td>...</td>\n",
       "      <td>...</td>\n",
       "      <td>...</td>\n",
       "      <td>...</td>\n",
       "      <td>...</td>\n",
       "      <td>...</td>\n",
       "      <td>...</td>\n",
       "      <td>...</td>\n",
       "      <td>...</td>\n",
       "      <td>...</td>\n",
       "      <td>...</td>\n",
       "      <td>...</td>\n",
       "      <td>...</td>\n",
       "      <td>...</td>\n",
       "      <td>...</td>\n",
       "      <td>...</td>\n",
       "      <td>...</td>\n",
       "    </tr>\n",
       "    <tr>\n",
       "      <th>2018-08-31 19:00:00</th>\n",
       "      <td>136</td>\n",
       "      <td>71.0</td>\n",
       "      <td>8</td>\n",
       "      <td>31</td>\n",
       "      <td>4</td>\n",
       "      <td>19</td>\n",
       "      <td>207.0</td>\n",
       "      <td>217.0</td>\n",
       "      <td>197.0</td>\n",
       "      <td>116.0</td>\n",
       "      <td>...</td>\n",
       "      <td>166.0</td>\n",
       "      <td>136.0</td>\n",
       "      <td>167.0</td>\n",
       "      <td>191.0</td>\n",
       "      <td>203.0</td>\n",
       "      <td>182.0</td>\n",
       "      <td>46.0</td>\n",
       "      <td>35.0</td>\n",
       "      <td>78.0</td>\n",
       "      <td>148.142857</td>\n",
       "    </tr>\n",
       "    <tr>\n",
       "      <th>2018-08-31 20:00:00</th>\n",
       "      <td>154</td>\n",
       "      <td>18.0</td>\n",
       "      <td>8</td>\n",
       "      <td>31</td>\n",
       "      <td>4</td>\n",
       "      <td>20</td>\n",
       "      <td>136.0</td>\n",
       "      <td>207.0</td>\n",
       "      <td>217.0</td>\n",
       "      <td>197.0</td>\n",
       "      <td>...</td>\n",
       "      <td>133.0</td>\n",
       "      <td>166.0</td>\n",
       "      <td>136.0</td>\n",
       "      <td>167.0</td>\n",
       "      <td>191.0</td>\n",
       "      <td>203.0</td>\n",
       "      <td>182.0</td>\n",
       "      <td>46.0</td>\n",
       "      <td>35.0</td>\n",
       "      <td>152.285714</td>\n",
       "    </tr>\n",
       "    <tr>\n",
       "      <th>2018-08-31 21:00:00</th>\n",
       "      <td>159</td>\n",
       "      <td>5.0</td>\n",
       "      <td>8</td>\n",
       "      <td>31</td>\n",
       "      <td>4</td>\n",
       "      <td>21</td>\n",
       "      <td>154.0</td>\n",
       "      <td>136.0</td>\n",
       "      <td>207.0</td>\n",
       "      <td>217.0</td>\n",
       "      <td>...</td>\n",
       "      <td>116.0</td>\n",
       "      <td>133.0</td>\n",
       "      <td>166.0</td>\n",
       "      <td>136.0</td>\n",
       "      <td>167.0</td>\n",
       "      <td>191.0</td>\n",
       "      <td>203.0</td>\n",
       "      <td>182.0</td>\n",
       "      <td>46.0</td>\n",
       "      <td>160.785714</td>\n",
       "    </tr>\n",
       "    <tr>\n",
       "      <th>2018-08-31 22:00:00</th>\n",
       "      <td>223</td>\n",
       "      <td>64.0</td>\n",
       "      <td>8</td>\n",
       "      <td>31</td>\n",
       "      <td>4</td>\n",
       "      <td>22</td>\n",
       "      <td>159.0</td>\n",
       "      <td>154.0</td>\n",
       "      <td>136.0</td>\n",
       "      <td>207.0</td>\n",
       "      <td>...</td>\n",
       "      <td>197.0</td>\n",
       "      <td>116.0</td>\n",
       "      <td>133.0</td>\n",
       "      <td>166.0</td>\n",
       "      <td>136.0</td>\n",
       "      <td>167.0</td>\n",
       "      <td>191.0</td>\n",
       "      <td>203.0</td>\n",
       "      <td>182.0</td>\n",
       "      <td>168.857143</td>\n",
       "    </tr>\n",
       "    <tr>\n",
       "      <th>2018-08-31 23:00:00</th>\n",
       "      <td>205</td>\n",
       "      <td>18.0</td>\n",
       "      <td>8</td>\n",
       "      <td>31</td>\n",
       "      <td>4</td>\n",
       "      <td>23</td>\n",
       "      <td>223.0</td>\n",
       "      <td>159.0</td>\n",
       "      <td>154.0</td>\n",
       "      <td>136.0</td>\n",
       "      <td>...</td>\n",
       "      <td>217.0</td>\n",
       "      <td>197.0</td>\n",
       "      <td>116.0</td>\n",
       "      <td>133.0</td>\n",
       "      <td>166.0</td>\n",
       "      <td>136.0</td>\n",
       "      <td>167.0</td>\n",
       "      <td>191.0</td>\n",
       "      <td>203.0</td>\n",
       "      <td>171.785714</td>\n",
       "    </tr>\n",
       "  </tbody>\n",
       "</table>\n",
       "<p>4402 rows × 21 columns</p>\n",
       "</div>"
      ],
      "text/plain": [
       "                     num_orders  shift  month  day  dayofweek  hour  lag_1  \\\n",
       "datetime                                                                     \n",
       "2018-03-01 14:00:00          48   16.0      3    1          3    14   32.0   \n",
       "2018-03-01 15:00:00          66   18.0      3    1          3    15   48.0   \n",
       "2018-03-01 16:00:00          43   23.0      3    1          3    16   66.0   \n",
       "2018-03-01 17:00:00          44    1.0      3    1          3    17   43.0   \n",
       "2018-03-01 18:00:00          73   29.0      3    1          3    18   44.0   \n",
       "...                         ...    ...    ...  ...        ...   ...    ...   \n",
       "2018-08-31 19:00:00         136   71.0      8   31          4    19  207.0   \n",
       "2018-08-31 20:00:00         154   18.0      8   31          4    20  136.0   \n",
       "2018-08-31 21:00:00         159    5.0      8   31          4    21  154.0   \n",
       "2018-08-31 22:00:00         223   64.0      8   31          4    22  159.0   \n",
       "2018-08-31 23:00:00         205   18.0      8   31          4    23  223.0   \n",
       "\n",
       "                     lag_2  lag_3  lag_4  ...  lag_6  lag_7  lag_8  lag_9  \\\n",
       "datetime                                  ...                               \n",
       "2018-03-01 14:00:00   30.0   96.0   64.0  ...   34.0   15.0   12.0    6.0   \n",
       "2018-03-01 15:00:00   32.0   30.0   96.0  ...   69.0   34.0   15.0   12.0   \n",
       "2018-03-01 16:00:00   48.0   32.0   30.0  ...   64.0   69.0   34.0   15.0   \n",
       "2018-03-01 17:00:00   66.0   48.0   32.0  ...   96.0   64.0   69.0   34.0   \n",
       "2018-03-01 18:00:00   43.0   66.0   48.0  ...   30.0   96.0   64.0   69.0   \n",
       "...                    ...    ...    ...  ...    ...    ...    ...    ...   \n",
       "2018-08-31 19:00:00  217.0  197.0  116.0  ...  166.0  136.0  167.0  191.0   \n",
       "2018-08-31 20:00:00  207.0  217.0  197.0  ...  133.0  166.0  136.0  167.0   \n",
       "2018-08-31 21:00:00  136.0  207.0  217.0  ...  116.0  133.0  166.0  136.0   \n",
       "2018-08-31 22:00:00  154.0  136.0  207.0  ...  197.0  116.0  133.0  166.0   \n",
       "2018-08-31 23:00:00  159.0  154.0  136.0  ...  217.0  197.0  116.0  133.0   \n",
       "\n",
       "                     lag_10  lag_11  lag_12  lag_13  lag_14  rolling_mean  \n",
       "datetime                                                                   \n",
       "2018-03-01 14:00:00    43.0    66.0    71.0    85.0   124.0     53.357143  \n",
       "2018-03-01 15:00:00     6.0    43.0    66.0    71.0    85.0     47.928571  \n",
       "2018-03-01 16:00:00    12.0     6.0    43.0    66.0    71.0     46.571429  \n",
       "2018-03-01 17:00:00    15.0    12.0     6.0    43.0    66.0     44.571429  \n",
       "2018-03-01 18:00:00    34.0    15.0    12.0     6.0    43.0     43.000000  \n",
       "...                     ...     ...     ...     ...     ...           ...  \n",
       "2018-08-31 19:00:00   203.0   182.0    46.0    35.0    78.0    148.142857  \n",
       "2018-08-31 20:00:00   191.0   203.0   182.0    46.0    35.0    152.285714  \n",
       "2018-08-31 21:00:00   167.0   191.0   203.0   182.0    46.0    160.785714  \n",
       "2018-08-31 22:00:00   136.0   167.0   191.0   203.0   182.0    168.857143  \n",
       "2018-08-31 23:00:00   166.0   136.0   167.0   191.0   203.0    171.785714  \n",
       "\n",
       "[4402 rows x 21 columns]"
      ]
     },
     "execution_count": 20,
     "metadata": {},
     "output_type": "execute_result"
    }
   ],
   "source": [
    "data"
   ]
  },
  {
   "cell_type": "markdown",
   "metadata": {},
   "source": [
    "### Разделение на выборки"
   ]
  },
  {
   "cell_type": "markdown",
   "metadata": {},
   "source": [
    "features - признаки<br>\n",
    "target — целевой признак.\n",
    "\n",
    "train - обучающая<br>\n",
    "valid - валидационная<br>\n",
    "test - тестовая"
   ]
  },
  {
   "cell_type": "markdown",
   "metadata": {},
   "source": [
    "На обучающую выборку отведем 70% данных"
   ]
  },
  {
   "cell_type": "code",
   "execution_count": 21,
   "metadata": {},
   "outputs": [],
   "source": [
    "train, valid = train_test_split(data, shuffle=False, test_size=0.2)"
   ]
  },
  {
   "cell_type": "markdown",
   "metadata": {},
   "source": [
    "Получение валидационной и тестовой выборок"
   ]
  },
  {
   "cell_type": "code",
   "execution_count": 22,
   "metadata": {},
   "outputs": [],
   "source": [
    "valid, test = train_test_split(valid, shuffle=False, test_size=0.5)"
   ]
  },
  {
   "cell_type": "code",
   "execution_count": 23,
   "metadata": {},
   "outputs": [
    {
     "data": {
      "text/plain": [
       "4402"
      ]
     },
     "execution_count": 23,
     "metadata": {},
     "output_type": "execute_result"
    }
   ],
   "source": [
    "data.shape[0]"
   ]
  },
  {
   "cell_type": "code",
   "execution_count": 24,
   "metadata": {},
   "outputs": [
    {
     "data": {
      "text/plain": [
       "3521"
      ]
     },
     "execution_count": 24,
     "metadata": {},
     "output_type": "execute_result"
    }
   ],
   "source": [
    "train.shape[0]"
   ]
  },
  {
   "cell_type": "code",
   "execution_count": 25,
   "metadata": {},
   "outputs": [
    {
     "data": {
      "text/plain": [
       "440"
      ]
     },
     "execution_count": 25,
     "metadata": {},
     "output_type": "execute_result"
    }
   ],
   "source": [
    "valid.shape[0]"
   ]
  },
  {
   "cell_type": "code",
   "execution_count": 26,
   "metadata": {},
   "outputs": [
    {
     "data": {
      "text/plain": [
       "441"
      ]
     },
     "execution_count": 26,
     "metadata": {},
     "output_type": "execute_result"
    }
   ],
   "source": [
    "test.shape[0]"
   ]
  },
  {
   "cell_type": "code",
   "execution_count": 27,
   "metadata": {
    "scrolled": false
   },
   "outputs": [
    {
     "data": {
      "text/plain": [
       "0.10018173557473875"
      ]
     },
     "execution_count": 27,
     "metadata": {},
     "output_type": "execute_result"
    }
   ],
   "source": [
    "test.shape[0]/data.shape[0]"
   ]
  },
  {
   "cell_type": "markdown",
   "metadata": {},
   "source": [
    "Тестовая выборка составляет 10% от исходного датафрейма"
   ]
  },
  {
   "cell_type": "code",
   "execution_count": 28,
   "metadata": {},
   "outputs": [],
   "source": [
    "train_features = train.drop(['num_orders'], axis=1)\n",
    "valid_features = valid.drop(['num_orders'], axis=1)\n",
    "test_features = test.drop(['num_orders'], axis=1)\n",
    "\n",
    "train_target = train['num_orders']\n",
    "valid_target = valid['num_orders']\n",
    "test_target = test['num_orders']"
   ]
  },
  {
   "cell_type": "code",
   "execution_count": 29,
   "metadata": {},
   "outputs": [
    {
     "data": {
      "text/plain": [
       "(3521, 20)"
      ]
     },
     "execution_count": 29,
     "metadata": {},
     "output_type": "execute_result"
    }
   ],
   "source": [
    "train_features.shape"
   ]
  },
  {
   "cell_type": "code",
   "execution_count": 30,
   "metadata": {},
   "outputs": [
    {
     "data": {
      "text/plain": [
       "(440, 20)"
      ]
     },
     "execution_count": 30,
     "metadata": {},
     "output_type": "execute_result"
    }
   ],
   "source": [
    "valid_features.shape"
   ]
  },
  {
   "cell_type": "code",
   "execution_count": 31,
   "metadata": {},
   "outputs": [
    {
     "data": {
      "text/plain": [
       "(441, 20)"
      ]
     },
     "execution_count": 31,
     "metadata": {},
     "output_type": "execute_result"
    }
   ],
   "source": [
    "test_features.shape"
   ]
  },
  {
   "cell_type": "code",
   "execution_count": 32,
   "metadata": {},
   "outputs": [
    {
     "data": {
      "text/plain": [
       "(3521,)"
      ]
     },
     "execution_count": 32,
     "metadata": {},
     "output_type": "execute_result"
    }
   ],
   "source": [
    "train_target.shape"
   ]
  },
  {
   "cell_type": "code",
   "execution_count": 33,
   "metadata": {},
   "outputs": [
    {
     "data": {
      "text/plain": [
       "(440,)"
      ]
     },
     "execution_count": 33,
     "metadata": {},
     "output_type": "execute_result"
    }
   ],
   "source": [
    "valid_target.shape"
   ]
  },
  {
   "cell_type": "code",
   "execution_count": 34,
   "metadata": {},
   "outputs": [
    {
     "data": {
      "text/plain": [
       "(441,)"
      ]
     },
     "execution_count": 34,
     "metadata": {},
     "output_type": "execute_result"
    }
   ],
   "source": [
    "test_target.shape"
   ]
  },
  {
   "cell_type": "markdown",
   "metadata": {},
   "source": [
    "<div class=\"alert alert-success\">\n",
    "<b>✔️ Комментарий ревьюера:</b>  \n",
    "\n",
    "Здорово, что при делении на выборки указан параметр `shuffle=False`, т.к. в train_test_split его дефолтное значение True. В случае временных рядов выборки перемешивать не стоит    \n",
    "\n",
    "</div>"
   ]
  },
  {
   "cell_type": "markdown",
   "metadata": {},
   "source": [
    "<div class=\"alert alert-warning\">\n",
    "<b>⚠️ Комментарий ревьюера:</b> \n",
    "    \n",
    "В целом, в рамках данного проекта можно разделить данные на две выборки - тренировочную и тестовую выборку (тестовая 10%), обучить на тренировочных, затем на тесте проверить лучшую модель. Плюс этого подхода в том, что тренировочная выборка была бы больше. А валидационная в любом случае довольно маленькая. Это не ошибка, просто для информации 😊     \n",
    "    \n",
    "</div>"
   ]
  },
  {
   "cell_type": "markdown",
   "metadata": {},
   "source": [
    "### Масштабирование"
   ]
  },
  {
   "cell_type": "code",
   "execution_count": 35,
   "metadata": {},
   "outputs": [],
   "source": [
    "scaler = StandardScaler()\n",
    "scaler.fit(train_features)\n",
    "\n",
    "train_features = scaler.transform(train_features)\n",
    "valid_features = scaler.transform(valid_features)\n",
    "test_features = scaler.transform(test_features)"
   ]
  },
  {
   "cell_type": "markdown",
   "metadata": {},
   "source": [
    "### Вывод:"
   ]
  },
  {
   "cell_type": "markdown",
   "metadata": {},
   "source": [
    "- Временной ряд был приведен к стационарному, с использанием разницы между текущим и предыдущим значениями <br>\n",
    "- Добавлены признаки для обучения моделей."
   ]
  },
  {
   "cell_type": "markdown",
   "metadata": {},
   "source": [
    "## Обучение"
   ]
  },
  {
   "cell_type": "markdown",
   "metadata": {},
   "source": [
    "Функция оценки RMSE"
   ]
  },
  {
   "cell_type": "code",
   "execution_count": 36,
   "metadata": {},
   "outputs": [],
   "source": [
    "def RMSE(target, predict):\n",
    "    RMSE = mean_squared_error(target, predict) ** 0.5\n",
    "    return RMSE"
   ]
  },
  {
   "cell_type": "code",
   "execution_count": 37,
   "metadata": {},
   "outputs": [],
   "source": [
    "score = make_scorer(RMSE, greater_is_better=False)"
   ]
  },
  {
   "cell_type": "markdown",
   "metadata": {},
   "source": [
    "Функция определения лучших гиперпараметров моделей градиентного бустинга, обучения модели на полченных гиперпараметрах и определения лучшего значения score"
   ]
  },
  {
   "cell_type": "code",
   "execution_count": 38,
   "metadata": {},
   "outputs": [],
   "source": [
    "def learn_model(model,param_grid,score = score):\n",
    "    \"\"\"\n",
    "    Функция определения лучших гиперпараметров моделей градиентного бустинга, \n",
    "    обучения модели на полченных гиперпараметрах и определения лучшего значения score\n",
    "    \"\"\"\n",
    "        \n",
    "    \n",
    "    # Получение гиперпараметров исходной модели\n",
    "    dir_params = model.get_params()\n",
    "    # Подбор гиперпараметров\n",
    "    grid_cv = GridSearchCV(model, param_grid, scoring=score)\n",
    "    \n",
    "    start_time = datetime.now()\n",
    "    grid_cv.fit(train_features, train_target)\n",
    "    time_grid_search_cv = datetime.now() - start_time\n",
    "    \n",
    "    print()\n",
    "    print('Лучшие гиперпараметры')\n",
    "    print(grid_cv.best_score_)\n",
    "    print(grid_cv.best_params_)\n",
    "    \n",
    "    # Замена значений гиперпараметров на лучшие значения\n",
    "    for k,v in grid_cv.best_params_.items():\n",
    "        dir_params[k] = v\n",
    "    \n",
    "     # Применение новых гиперпараметров к модели\n",
    "    model = model.set_params(**dir_params)\n",
    "   \n",
    "    # Обучение модели на новых гиперпараметрах\n",
    "    start_time = datetime.now()\n",
    "    model.fit(train_features, train_target)\n",
    "    time_model_fit = datetime.now() - start_time\n",
    "    # Получение предсказания\n",
    "    start_time = datetime.now()\n",
    "    pred_valid = model.predict(valid_features)\n",
    "    time_pred_valid = datetime.now() - start_time\n",
    "    \n",
    "    print()\n",
    "    rmse = RMSE(valid_target, pred_valid).round(2)\n",
    "    print('RMSE на валидационной выборке: ', rmse)\n",
    "    # Возврат обученной модели и времени выполнения подбора параметра, времени обучения и предсказания\n",
    "    return model, rmse,time_grid_search_cv,time_model_fit,time_pred_valid\n",
    "    "
   ]
  },
  {
   "cell_type": "code",
   "execution_count": 39,
   "metadata": {},
   "outputs": [],
   "source": [
    "def app_data_model_param(df,list_param):\n",
    "    df.loc[-1] = list_param\n",
    "    df.index = df.index + 1\n",
    "    df = df.sort_index()"
   ]
  },
  {
   "cell_type": "markdown",
   "metadata": {},
   "source": [
    "Таблица для сбора данных полученных результатов"
   ]
  },
  {
   "cell_type": "code",
   "execution_count": 40,
   "metadata": {},
   "outputs": [],
   "source": [
    "model_param = pd.DataFrame(columns=['model','rmse','time_grid','time_fit_model','time_predict','pointer'])"
   ]
  },
  {
   "cell_type": "code",
   "execution_count": 41,
   "metadata": {},
   "outputs": [
    {
     "data": {
      "text/html": [
       "<div>\n",
       "<style scoped>\n",
       "    .dataframe tbody tr th:only-of-type {\n",
       "        vertical-align: middle;\n",
       "    }\n",
       "\n",
       "    .dataframe tbody tr th {\n",
       "        vertical-align: top;\n",
       "    }\n",
       "\n",
       "    .dataframe thead th {\n",
       "        text-align: right;\n",
       "    }\n",
       "</style>\n",
       "<table border=\"1\" class=\"dataframe\">\n",
       "  <thead>\n",
       "    <tr style=\"text-align: right;\">\n",
       "      <th></th>\n",
       "      <th>model</th>\n",
       "      <th>rmse</th>\n",
       "      <th>time_grid</th>\n",
       "      <th>time_fit_model</th>\n",
       "      <th>time_predict</th>\n",
       "      <th>pointer</th>\n",
       "    </tr>\n",
       "  </thead>\n",
       "  <tbody>\n",
       "  </tbody>\n",
       "</table>\n",
       "</div>"
      ],
      "text/plain": [
       "Empty DataFrame\n",
       "Columns: [model, rmse, time_grid, time_fit_model, time_predict, pointer]\n",
       "Index: []"
      ]
     },
     "execution_count": 41,
     "metadata": {},
     "output_type": "execute_result"
    }
   ],
   "source": [
    "model_param"
   ]
  },
  {
   "cell_type": "markdown",
   "metadata": {},
   "source": [
    "### Линейная регрессия"
   ]
  },
  {
   "cell_type": "code",
   "execution_count": 42,
   "metadata": {},
   "outputs": [],
   "source": [
    "name_model = 'LinearRegression'"
   ]
  },
  {
   "cell_type": "code",
   "execution_count": 43,
   "metadata": {},
   "outputs": [],
   "source": [
    "model = LinearRegression()"
   ]
  },
  {
   "cell_type": "code",
   "execution_count": 44,
   "metadata": {},
   "outputs": [],
   "source": [
    "param_grid = {'copy_X': [True,],\n",
    "              'fit_intercept': [True,]\n",
    "             }"
   ]
  },
  {
   "cell_type": "code",
   "execution_count": 45,
   "metadata": {},
   "outputs": [
    {
     "name": "stdout",
     "output_type": "stream",
     "text": [
      "\n",
      "Лучшие гиперпараметры\n",
      "-28.69856434454839\n",
      "{'copy_X': True, 'fit_intercept': True}\n",
      "\n",
      "RMSE на валидационной выборке:  39.48\n",
      "CPU times: total: 125 ms\n",
      "Wall time: 38 ms\n"
     ]
    }
   ],
   "source": [
    "%%time\n",
    "model,rmse,time_grid_search_cv,time_model_fit,time_pred_valid = learn_model(model,param_grid)"
   ]
  },
  {
   "cell_type": "code",
   "execution_count": 46,
   "metadata": {},
   "outputs": [],
   "source": [
    "app_data_model_param(model_param,\n",
    "                     [name_model,\n",
    "                      rmse,\n",
    "                      time_grid_search_cv.microseconds,\n",
    "                      time_model_fit.microseconds,\n",
    "                      time_pred_valid.microseconds,\n",
    "                      model\n",
    "                     ]\n",
    "                    )"
   ]
  },
  {
   "cell_type": "markdown",
   "metadata": {},
   "source": [
    "### Стохастический градиентный спуск SGDRegressor"
   ]
  },
  {
   "cell_type": "code",
   "execution_count": 47,
   "metadata": {},
   "outputs": [],
   "source": [
    "name_model = 'SGDRegressor'"
   ]
  },
  {
   "cell_type": "code",
   "execution_count": 48,
   "metadata": {},
   "outputs": [],
   "source": [
    "model = SGDRegressor(random_state=12345, shuffle=False)"
   ]
  },
  {
   "cell_type": "code",
   "execution_count": 49,
   "metadata": {},
   "outputs": [],
   "source": [
    "param_grid = {'alpha' : [0.0001, 0.001],\n",
    "              'max_iter': [1000, 10000, 100000],\n",
    "              'eta0': [0.1, 0.01, 0.001]}"
   ]
  },
  {
   "cell_type": "code",
   "execution_count": 50,
   "metadata": {},
   "outputs": [
    {
     "name": "stderr",
     "output_type": "stream",
     "text": [
      "C:\\Users\\Admin\\anaconda3\\lib\\site-packages\\sklearn\\linear_model\\_stochastic_gradient.py:1548: ConvergenceWarning: Maximum number of iteration reached before convergence. Consider increasing max_iter to improve the fit.\n",
      "  warnings.warn(\n",
      "C:\\Users\\Admin\\anaconda3\\lib\\site-packages\\sklearn\\linear_model\\_stochastic_gradient.py:1548: ConvergenceWarning: Maximum number of iteration reached before convergence. Consider increasing max_iter to improve the fit.\n",
      "  warnings.warn(\n",
      "C:\\Users\\Admin\\anaconda3\\lib\\site-packages\\sklearn\\linear_model\\_stochastic_gradient.py:1548: ConvergenceWarning: Maximum number of iteration reached before convergence. Consider increasing max_iter to improve the fit.\n",
      "  warnings.warn(\n",
      "C:\\Users\\Admin\\anaconda3\\lib\\site-packages\\sklearn\\linear_model\\_stochastic_gradient.py:1548: ConvergenceWarning: Maximum number of iteration reached before convergence. Consider increasing max_iter to improve the fit.\n",
      "  warnings.warn(\n",
      "C:\\Users\\Admin\\anaconda3\\lib\\site-packages\\sklearn\\linear_model\\_stochastic_gradient.py:1548: ConvergenceWarning: Maximum number of iteration reached before convergence. Consider increasing max_iter to improve the fit.\n",
      "  warnings.warn(\n",
      "C:\\Users\\Admin\\anaconda3\\lib\\site-packages\\sklearn\\linear_model\\_stochastic_gradient.py:1548: ConvergenceWarning: Maximum number of iteration reached before convergence. Consider increasing max_iter to improve the fit.\n",
      "  warnings.warn(\n",
      "C:\\Users\\Admin\\anaconda3\\lib\\site-packages\\sklearn\\linear_model\\_stochastic_gradient.py:1548: ConvergenceWarning: Maximum number of iteration reached before convergence. Consider increasing max_iter to improve the fit.\n",
      "  warnings.warn(\n",
      "C:\\Users\\Admin\\anaconda3\\lib\\site-packages\\sklearn\\linear_model\\_stochastic_gradient.py:1548: ConvergenceWarning: Maximum number of iteration reached before convergence. Consider increasing max_iter to improve the fit.\n",
      "  warnings.warn(\n",
      "C:\\Users\\Admin\\anaconda3\\lib\\site-packages\\sklearn\\linear_model\\_stochastic_gradient.py:1548: ConvergenceWarning: Maximum number of iteration reached before convergence. Consider increasing max_iter to improve the fit.\n",
      "  warnings.warn(\n",
      "C:\\Users\\Admin\\anaconda3\\lib\\site-packages\\sklearn\\linear_model\\_stochastic_gradient.py:1548: ConvergenceWarning: Maximum number of iteration reached before convergence. Consider increasing max_iter to improve the fit.\n",
      "  warnings.warn(\n"
     ]
    },
    {
     "name": "stdout",
     "output_type": "stream",
     "text": [
      "\n",
      "Лучшие гиперпараметры\n",
      "-28.658817491521024\n",
      "{'alpha': 0.001, 'eta0': 0.001, 'max_iter': 1000}\n",
      "\n",
      "RMSE на валидационной выборке:  39.44\n",
      "CPU times: total: 29.2 s\n",
      "Wall time: 28.9 s\n"
     ]
    }
   ],
   "source": [
    "%%time\n",
    "model,rmse,time_grid_search_cv,time_model_fit,time_pred_valid = learn_model(model,param_grid)"
   ]
  },
  {
   "cell_type": "code",
   "execution_count": 51,
   "metadata": {},
   "outputs": [],
   "source": [
    "app_data_model_param(model_param,\n",
    "                     [name_model,\n",
    "                      rmse,\n",
    "                      time_grid_search_cv.microseconds,\n",
    "                      time_model_fit.microseconds,\n",
    "                      time_pred_valid.microseconds,\n",
    "                      model\n",
    "                     ]\n",
    "                    )"
   ]
  },
  {
   "cell_type": "markdown",
   "metadata": {},
   "source": [
    "### Градиентный бустинг CatBoostRegressor"
   ]
  },
  {
   "cell_type": "code",
   "execution_count": 52,
   "metadata": {},
   "outputs": [],
   "source": [
    "name_model = 'CatBoostRegressor'"
   ]
  },
  {
   "cell_type": "code",
   "execution_count": 53,
   "metadata": {},
   "outputs": [],
   "source": [
    "model = CatBoostRegressor(random_state=12345,verbose = False)"
   ]
  },
  {
   "cell_type": "code",
   "execution_count": 54,
   "metadata": {},
   "outputs": [],
   "source": [
    "param_grid = {'max_depth': [2, 4, 6, 8],\n",
    "              'learning_rate': [0.01, 0.015, 0.025, 0.05, 0.1],\n",
    "              'iterations': [50, 100, 200]}"
   ]
  },
  {
   "cell_type": "code",
   "execution_count": 55,
   "metadata": {},
   "outputs": [
    {
     "name": "stdout",
     "output_type": "stream",
     "text": [
      "\n",
      "Лучшие гиперпараметры\n",
      "-17.311608146268643\n",
      "{'iterations': 200, 'learning_rate': 0.1, 'max_depth': 6}\n",
      "\n",
      "RMSE на валидационной выборке:  29.27\n",
      "CPU times: total: 13min 44s\n",
      "Wall time: 2min 15s\n"
     ]
    }
   ],
   "source": [
    "%%time\n",
    "model,rmse,time_grid_search_cv,time_model_fit,time_pred_valid = learn_model(model,param_grid)"
   ]
  },
  {
   "cell_type": "code",
   "execution_count": 56,
   "metadata": {},
   "outputs": [],
   "source": [
    "app_data_model_param(model_param,\n",
    "                     [name_model,\n",
    "                      rmse,\n",
    "                      time_grid_search_cv.microseconds,\n",
    "                      time_model_fit.microseconds,\n",
    "                      time_pred_valid.microseconds,\n",
    "                      model\n",
    "                     ]\n",
    "                    )"
   ]
  },
  {
   "cell_type": "markdown",
   "metadata": {},
   "source": [
    "### Градиентный бустинг XGBRegressor"
   ]
  },
  {
   "cell_type": "code",
   "execution_count": 57,
   "metadata": {},
   "outputs": [],
   "source": [
    "name_model = 'XGBRegressor'"
   ]
  },
  {
   "cell_type": "code",
   "execution_count": 58,
   "metadata": {},
   "outputs": [],
   "source": [
    "model = XGBRegressor(n_jobs=-1, verbosity=0, shuffle=False, random_state=12345)"
   ]
  },
  {
   "cell_type": "code",
   "execution_count": 59,
   "metadata": {},
   "outputs": [],
   "source": [
    "param_grid = {'max_depth': [4, 6, 8],\n",
    "              'learning_rate': [0.05, 0.1],\n",
    "              'iterations': [50, 100, 200,300,400]}"
   ]
  },
  {
   "cell_type": "code",
   "execution_count": 60,
   "metadata": {
    "scrolled": true
   },
   "outputs": [
    {
     "name": "stdout",
     "output_type": "stream",
     "text": [
      "\n",
      "Лучшие гиперпараметры\n",
      "-17.490993254534647\n",
      "{'iterations': 50, 'learning_rate': 0.1, 'max_depth': 8}\n",
      "\n",
      "RMSE на валидационной выборке:  28.38\n",
      "CPU times: total: 5min 9s\n",
      "Wall time: 40.1 s\n"
     ]
    }
   ],
   "source": [
    "%%time\n",
    "model,rmse,time_grid_search_cv,time_model_fit,time_pred_valid = learn_model(model,param_grid)"
   ]
  },
  {
   "cell_type": "code",
   "execution_count": 61,
   "metadata": {},
   "outputs": [],
   "source": [
    "app_data_model_param(model_param,\n",
    "                     [name_model,\n",
    "                      rmse,\n",
    "                      time_grid_search_cv.microseconds,\n",
    "                      time_model_fit.microseconds,\n",
    "                      time_pred_valid.microseconds,\n",
    "                      model\n",
    "                     ]\n",
    "                    )"
   ]
  },
  {
   "cell_type": "markdown",
   "metadata": {},
   "source": [
    "### Градиентный бустинг LGBMRegressor"
   ]
  },
  {
   "cell_type": "code",
   "execution_count": 62,
   "metadata": {},
   "outputs": [],
   "source": [
    "name_model = 'LGBMRegressor'"
   ]
  },
  {
   "cell_type": "code",
   "execution_count": 63,
   "metadata": {},
   "outputs": [],
   "source": [
    "model = LGBMRegressor(random_state=12345, objective = 'regression', min_child_samples = 10)"
   ]
  },
  {
   "cell_type": "code",
   "execution_count": 64,
   "metadata": {},
   "outputs": [],
   "source": [
    "param_grid = {'max_depth': [12,15,17],\n",
    "              'learning_rate': [0.025, 0.05, 0.1],\n",
    "              'n_estimators': [200,300,400]}"
   ]
  },
  {
   "cell_type": "code",
   "execution_count": 65,
   "metadata": {},
   "outputs": [
    {
     "name": "stdout",
     "output_type": "stream",
     "text": [
      "\n",
      "Лучшие гиперпараметры\n",
      "-17.021408571616547\n",
      "{'learning_rate': 0.05, 'max_depth': 15, 'n_estimators': 400}\n",
      "\n",
      "RMSE на валидационной выборке:  27.9\n",
      "CPU times: total: 6min 13s\n",
      "Wall time: 48.4 s\n"
     ]
    }
   ],
   "source": [
    "%%time\n",
    "model, rmse,time_grid_search_cv,time_model_fit,time_pred_valid = learn_model(model,param_grid)"
   ]
  },
  {
   "cell_type": "code",
   "execution_count": 66,
   "metadata": {},
   "outputs": [],
   "source": [
    "app_data_model_param(model_param,\n",
    "                     [name_model,\n",
    "                      rmse,\n",
    "                      time_grid_search_cv.microseconds,\n",
    "                      time_model_fit.microseconds,\n",
    "                      time_pred_valid.microseconds,\n",
    "                      model]\n",
    "                    )"
   ]
  },
  {
   "cell_type": "markdown",
   "metadata": {},
   "source": [
    "### Итоговая таблица"
   ]
  },
  {
   "cell_type": "code",
   "execution_count": 67,
   "metadata": {},
   "outputs": [],
   "source": [
    "model_param = model_param.reset_index()"
   ]
  },
  {
   "cell_type": "code",
   "execution_count": 68,
   "metadata": {},
   "outputs": [],
   "source": [
    "model_param = model_param.drop(['index'],axis=1)"
   ]
  },
  {
   "cell_type": "code",
   "execution_count": 69,
   "metadata": {},
   "outputs": [
    {
     "data": {
      "text/html": [
       "<div>\n",
       "<style scoped>\n",
       "    .dataframe tbody tr th:only-of-type {\n",
       "        vertical-align: middle;\n",
       "    }\n",
       "\n",
       "    .dataframe tbody tr th {\n",
       "        vertical-align: top;\n",
       "    }\n",
       "\n",
       "    .dataframe thead th {\n",
       "        text-align: right;\n",
       "    }\n",
       "</style>\n",
       "<table border=\"1\" class=\"dataframe\">\n",
       "  <thead>\n",
       "    <tr style=\"text-align: right;\">\n",
       "      <th></th>\n",
       "      <th>model</th>\n",
       "      <th>rmse</th>\n",
       "      <th>time_grid</th>\n",
       "      <th>time_fit_model</th>\n",
       "      <th>time_predict</th>\n",
       "      <th>pointer</th>\n",
       "    </tr>\n",
       "  </thead>\n",
       "  <tbody>\n",
       "    <tr>\n",
       "      <th>0</th>\n",
       "      <td>LinearRegression</td>\n",
       "      <td>39.48</td>\n",
       "      <td>33963</td>\n",
       "      <td>2997</td>\n",
       "      <td>0</td>\n",
       "      <td>LinearRegression()</td>\n",
       "    </tr>\n",
       "    <tr>\n",
       "      <th>1</th>\n",
       "      <td>SGDRegressor</td>\n",
       "      <td>39.44</td>\n",
       "      <td>846967</td>\n",
       "      <td>47507</td>\n",
       "      <td>0</td>\n",
       "      <td>SGDRegressor(alpha=0.001, eta0=0.001, random_s...</td>\n",
       "    </tr>\n",
       "    <tr>\n",
       "      <th>2</th>\n",
       "      <td>CatBoostRegressor</td>\n",
       "      <td>29.27</td>\n",
       "      <td>921028</td>\n",
       "      <td>688142</td>\n",
       "      <td>0</td>\n",
       "      <td>&lt;catboost.core.CatBoostRegressor object at 0x0...</td>\n",
       "    </tr>\n",
       "    <tr>\n",
       "      <th>3</th>\n",
       "      <td>XGBRegressor</td>\n",
       "      <td>28.38</td>\n",
       "      <td>694548</td>\n",
       "      <td>414345</td>\n",
       "      <td>0</td>\n",
       "      <td>XGBRegressor(base_score=None, booster=None, ca...</td>\n",
       "    </tr>\n",
       "    <tr>\n",
       "      <th>4</th>\n",
       "      <td>LGBMRegressor</td>\n",
       "      <td>27.90</td>\n",
       "      <td>906860</td>\n",
       "      <td>448078</td>\n",
       "      <td>15625</td>\n",
       "      <td>LGBMRegressor(learning_rate=0.05, max_depth=15...</td>\n",
       "    </tr>\n",
       "  </tbody>\n",
       "</table>\n",
       "</div>"
      ],
      "text/plain": [
       "               model   rmse  time_grid  time_fit_model  time_predict  \\\n",
       "0   LinearRegression  39.48      33963            2997             0   \n",
       "1       SGDRegressor  39.44     846967           47507             0   \n",
       "2  CatBoostRegressor  29.27     921028          688142             0   \n",
       "3       XGBRegressor  28.38     694548          414345             0   \n",
       "4      LGBMRegressor  27.90     906860          448078         15625   \n",
       "\n",
       "                                             pointer  \n",
       "0                                 LinearRegression()  \n",
       "1  SGDRegressor(alpha=0.001, eta0=0.001, random_s...  \n",
       "2  <catboost.core.CatBoostRegressor object at 0x0...  \n",
       "3  XGBRegressor(base_score=None, booster=None, ca...  \n",
       "4  LGBMRegressor(learning_rate=0.05, max_depth=15...  "
      ]
     },
     "execution_count": 69,
     "metadata": {},
     "output_type": "execute_result"
    }
   ],
   "source": [
    "model_param"
   ]
  },
  {
   "cell_type": "markdown",
   "metadata": {},
   "source": [
    "### Вывод:"
   ]
  },
  {
   "cell_type": "markdown",
   "metadata": {},
   "source": [
    "На валидационной выборке модели градиентного бустинга имеют примерно равные и лучшие показатели по сравнению с линейной регрессией и градиентным спуском. Данные модели обучаются дольше."
   ]
  },
  {
   "cell_type": "markdown",
   "metadata": {},
   "source": [
    "<div class=\"alert alert-success\">\n",
    "<b>✔️ Комментарий ревьюера:</b>  \n",
    "\n",
    "- Здорово, что рассмотрены несколько алгоритмов🔥\n",
    "- Наглядное представление результатов в сводной таблице\n",
    "    \n",
    "***\n",
    "    \n",
    "PS (для информации) - если использовать использовать кросс-валидацию, то в случае с временным рядом нужно задать `TimeSeriesSplit`.\n",
    "    \n",
    "Данные не должны пересекаться по времени - перетасовка обычным способом не подходит. `TimeSeriesSplit` помогает решить эту проблему.   \n",
    "  \n",
    "Подробнее: https://scikit-learn.org/stable/modules/generated/sklearn.model_selection.TimeSeriesSplit.html\n",
    "\n",
    "\n",
    "</div>    \n"
   ]
  },
  {
   "cell_type": "markdown",
   "metadata": {},
   "source": [
    "<div class=\"alert alert-danger\">\n",
    "<b>❌ Комментарий ревьюера:</b> \n",
    "\n",
    "Ты молодец, что качественно рассмотрел несколько вариантов градиентного бустинга 🔥\n",
    "    \n",
    "Стоит добавить еще одну обычную модель (кроме LinearRegression), т.е:\n",
    "    \n",
    "- Рассмотреть хотя бы 2 различные модели (кроме разных реализации градиентного бустинга)\n",
    "- Для одной из моделей исследовать хотя бы 2 набора значений гиперпараметров    \n",
    "  \n",
    "</div>"
   ]
  },
  {
   "cell_type": "markdown",
   "metadata": {},
   "source": [
    "<div class=\"alert alert-info\"> <b>Комментарий ревьюера:</b> \n",
    "    \n",
    "**Полезные материалы (на будущее):**\n",
    "    \n",
    "Функции Gridsearchcv или Randomizedsearchcv для подбора оптимальных гиперпараметров:\n",
    "    \n",
    "1. Статья про разницу между ними: \n",
    "    https://towardsdatascience.com/gridsearchcv-or-randomsearchcv-5aa4acf5348c#:~:text=RandomSearchCV%20has%20the%20same%20purpose,parameters%20to%20improve%20your%20model.&text=The%20main%20difference%20between%20the,want%20to%20sample%20and%20test. \n",
    "    \n",
    "2. И просто очень большая статья по их применению: \n",
    "    https://machinelearningmastery.com/hyperparameter-optimization-with-random-search-and-grid-search/ \n",
    "    \n",
    "3. Совсем обьемная статья с огромным количеством библиотек для подбора гиперпараметров:\n",
    "    https://neptune.ai/blog/hyperparameter-tuning-in-python-complete-guide/. \n",
    "    \n",
    "4. Ускоренная версия GridsearchCV \n",
    "    https://towardsdatascience.com/20x-times-faster-grid-search-cross-validation-19ef01409b7c.    \n",
    "    \n",
    "</div>"
   ]
  },
  {
   "cell_type": "markdown",
   "metadata": {},
   "source": [
    "## Тестирование"
   ]
  },
  {
   "cell_type": "markdown",
   "metadata": {},
   "source": [
    "По результатам обучения и проверки моделей на валидационной выборке лучшей моделью стала:"
   ]
  },
  {
   "cell_type": "code",
   "execution_count": 70,
   "metadata": {},
   "outputs": [
    {
     "data": {
      "text/plain": [
       "'LGBMRegressor'"
      ]
     },
     "execution_count": 70,
     "metadata": {},
     "output_type": "execute_result"
    }
   ],
   "source": [
    "model_param[model_param.rmse == model_param.rmse.min()].iloc[0,0]"
   ]
  },
  {
   "cell_type": "code",
   "execution_count": 71,
   "metadata": {},
   "outputs": [],
   "source": [
    "best_model = model_param[model_param.rmse == model_param.rmse.min()].iloc[0,5]"
   ]
  },
  {
   "cell_type": "code",
   "execution_count": 72,
   "metadata": {},
   "outputs": [
    {
     "data": {
      "text/html": [
       "<style>#sk-container-id-1 {color: black;background-color: white;}#sk-container-id-1 pre{padding: 0;}#sk-container-id-1 div.sk-toggleable {background-color: white;}#sk-container-id-1 label.sk-toggleable__label {cursor: pointer;display: block;width: 100%;margin-bottom: 0;padding: 0.3em;box-sizing: border-box;text-align: center;}#sk-container-id-1 label.sk-toggleable__label-arrow:before {content: \"▸\";float: left;margin-right: 0.25em;color: #696969;}#sk-container-id-1 label.sk-toggleable__label-arrow:hover:before {color: black;}#sk-container-id-1 div.sk-estimator:hover label.sk-toggleable__label-arrow:before {color: black;}#sk-container-id-1 div.sk-toggleable__content {max-height: 0;max-width: 0;overflow: hidden;text-align: left;background-color: #f0f8ff;}#sk-container-id-1 div.sk-toggleable__content pre {margin: 0.2em;color: black;border-radius: 0.25em;background-color: #f0f8ff;}#sk-container-id-1 input.sk-toggleable__control:checked~div.sk-toggleable__content {max-height: 200px;max-width: 100%;overflow: auto;}#sk-container-id-1 input.sk-toggleable__control:checked~label.sk-toggleable__label-arrow:before {content: \"▾\";}#sk-container-id-1 div.sk-estimator input.sk-toggleable__control:checked~label.sk-toggleable__label {background-color: #d4ebff;}#sk-container-id-1 div.sk-label input.sk-toggleable__control:checked~label.sk-toggleable__label {background-color: #d4ebff;}#sk-container-id-1 input.sk-hidden--visually {border: 0;clip: rect(1px 1px 1px 1px);clip: rect(1px, 1px, 1px, 1px);height: 1px;margin: -1px;overflow: hidden;padding: 0;position: absolute;width: 1px;}#sk-container-id-1 div.sk-estimator {font-family: monospace;background-color: #f0f8ff;border: 1px dotted black;border-radius: 0.25em;box-sizing: border-box;margin-bottom: 0.5em;}#sk-container-id-1 div.sk-estimator:hover {background-color: #d4ebff;}#sk-container-id-1 div.sk-parallel-item::after {content: \"\";width: 100%;border-bottom: 1px solid gray;flex-grow: 1;}#sk-container-id-1 div.sk-label:hover label.sk-toggleable__label {background-color: #d4ebff;}#sk-container-id-1 div.sk-serial::before {content: \"\";position: absolute;border-left: 1px solid gray;box-sizing: border-box;top: 0;bottom: 0;left: 50%;z-index: 0;}#sk-container-id-1 div.sk-serial {display: flex;flex-direction: column;align-items: center;background-color: white;padding-right: 0.2em;padding-left: 0.2em;position: relative;}#sk-container-id-1 div.sk-item {position: relative;z-index: 1;}#sk-container-id-1 div.sk-parallel {display: flex;align-items: stretch;justify-content: center;background-color: white;position: relative;}#sk-container-id-1 div.sk-item::before, #sk-container-id-1 div.sk-parallel-item::before {content: \"\";position: absolute;border-left: 1px solid gray;box-sizing: border-box;top: 0;bottom: 0;left: 50%;z-index: -1;}#sk-container-id-1 div.sk-parallel-item {display: flex;flex-direction: column;z-index: 1;position: relative;background-color: white;}#sk-container-id-1 div.sk-parallel-item:first-child::after {align-self: flex-end;width: 50%;}#sk-container-id-1 div.sk-parallel-item:last-child::after {align-self: flex-start;width: 50%;}#sk-container-id-1 div.sk-parallel-item:only-child::after {width: 0;}#sk-container-id-1 div.sk-dashed-wrapped {border: 1px dashed gray;margin: 0 0.4em 0.5em 0.4em;box-sizing: border-box;padding-bottom: 0.4em;background-color: white;}#sk-container-id-1 div.sk-label label {font-family: monospace;font-weight: bold;display: inline-block;line-height: 1.2em;}#sk-container-id-1 div.sk-label-container {text-align: center;}#sk-container-id-1 div.sk-container {/* jupyter's `normalize.less` sets `[hidden] { display: none; }` but bootstrap.min.css set `[hidden] { display: none !important; }` so we also need the `!important` here to be able to override the default hidden behavior on the sphinx rendered scikit-learn.org. See: https://github.com/scikit-learn/scikit-learn/issues/21755 */display: inline-block !important;position: relative;}#sk-container-id-1 div.sk-text-repr-fallback {display: none;}</style><div id=\"sk-container-id-1\" class=\"sk-top-container\"><div class=\"sk-text-repr-fallback\"><pre>LGBMRegressor(learning_rate=0.05, max_depth=15, min_child_samples=10,\n",
       "              n_estimators=400, objective=&#x27;regression&#x27;, random_state=12345)</pre><b>In a Jupyter environment, please rerun this cell to show the HTML representation or trust the notebook. <br />On GitHub, the HTML representation is unable to render, please try loading this page with nbviewer.org.</b></div><div class=\"sk-container\" hidden><div class=\"sk-item\"><div class=\"sk-estimator sk-toggleable\"><input class=\"sk-toggleable__control sk-hidden--visually\" id=\"sk-estimator-id-1\" type=\"checkbox\" checked><label for=\"sk-estimator-id-1\" class=\"sk-toggleable__label sk-toggleable__label-arrow\">LGBMRegressor</label><div class=\"sk-toggleable__content\"><pre>LGBMRegressor(learning_rate=0.05, max_depth=15, min_child_samples=10,\n",
       "              n_estimators=400, objective=&#x27;regression&#x27;, random_state=12345)</pre></div></div></div></div></div>"
      ],
      "text/plain": [
       "LGBMRegressor(learning_rate=0.05, max_depth=15, min_child_samples=10,\n",
       "              n_estimators=400, objective='regression', random_state=12345)"
      ]
     },
     "execution_count": 72,
     "metadata": {},
     "output_type": "execute_result"
    }
   ],
   "source": [
    "best_model"
   ]
  },
  {
   "cell_type": "markdown",
   "metadata": {},
   "source": [
    "Проверка модели на тестовой выборке"
   ]
  },
  {
   "cell_type": "code",
   "execution_count": 73,
   "metadata": {},
   "outputs": [
    {
     "data": {
      "text/plain": [
       "{'boosting_type': 'gbdt',\n",
       " 'class_weight': None,\n",
       " 'colsample_bytree': 1.0,\n",
       " 'importance_type': 'split',\n",
       " 'learning_rate': 0.05,\n",
       " 'max_depth': 15,\n",
       " 'min_child_samples': 10,\n",
       " 'min_child_weight': 0.001,\n",
       " 'min_split_gain': 0.0,\n",
       " 'n_estimators': 400,\n",
       " 'n_jobs': -1,\n",
       " 'num_leaves': 31,\n",
       " 'objective': 'regression',\n",
       " 'random_state': 12345,\n",
       " 'reg_alpha': 0.0,\n",
       " 'reg_lambda': 0.0,\n",
       " 'silent': 'warn',\n",
       " 'subsample': 1.0,\n",
       " 'subsample_for_bin': 200000,\n",
       " 'subsample_freq': 0}"
      ]
     },
     "execution_count": 73,
     "metadata": {},
     "output_type": "execute_result"
    }
   ],
   "source": [
    "best_model.get_params()"
   ]
  },
  {
   "cell_type": "code",
   "execution_count": 74,
   "metadata": {},
   "outputs": [],
   "source": [
    "pred_test = best_model.predict(test_features)"
   ]
  },
  {
   "cell_type": "code",
   "execution_count": 75,
   "metadata": {},
   "outputs": [
    {
     "name": "stdout",
     "output_type": "stream",
     "text": [
      "RMSE на тестовой выборке:  46.45\n"
     ]
    }
   ],
   "source": [
    "print('RMSE на тестовой выборке: ', RMSE(test_target, pred_test).round(2))"
   ]
  },
  {
   "cell_type": "markdown",
   "metadata": {},
   "source": [
    "<div class=\"alert alert-success\">\n",
    "<b>✔️ Комментарий ревьюера:</b> \n",
    "    \n",
    "Хороший результат по метрике✨\n",
    "\n",
    "</div>"
   ]
  },
  {
   "cell_type": "markdown",
   "metadata": {},
   "source": [
    "<div class=\"alert alert-warning\">\n",
    "<b>⚠️ Комментарий ревьюера:</b> \n",
    "    \n",
    "Было бы здорово визуализировать предсказанные и реальные значения у лучшей модели😊\n",
    "\n",
    "</div>"
   ]
  },
  {
   "cell_type": "markdown",
   "metadata": {},
   "source": [
    "### Вывод"
   ]
  },
  {
   "cell_type": "markdown",
   "metadata": {},
   "source": [
    "Лучшей модель на валидационной выборке оказалась модель градиентного бустинга LGBMRegressor"
   ]
  },
  {
   "cell_type": "markdown",
   "metadata": {},
   "source": [
    "На тестовой выборке данная модель показала результат, проходящий нормоконтроль 48"
   ]
  },
  {
   "cell_type": "markdown",
   "metadata": {},
   "source": [
    "### Итоговый вывод"
   ]
  },
  {
   "cell_type": "markdown",
   "metadata": {},
   "source": [
    "По результатам исследований таблица моделей имеет следующий вид:"
   ]
  },
  {
   "cell_type": "code",
   "execution_count": 77,
   "metadata": {},
   "outputs": [
    {
     "data": {
      "text/html": [
       "<div>\n",
       "<style scoped>\n",
       "    .dataframe tbody tr th:only-of-type {\n",
       "        vertical-align: middle;\n",
       "    }\n",
       "\n",
       "    .dataframe tbody tr th {\n",
       "        vertical-align: top;\n",
       "    }\n",
       "\n",
       "    .dataframe thead th {\n",
       "        text-align: right;\n",
       "    }\n",
       "</style>\n",
       "<table border=\"1\" class=\"dataframe\">\n",
       "  <thead>\n",
       "    <tr style=\"text-align: right;\">\n",
       "      <th></th>\n",
       "      <th>model</th>\n",
       "      <th>rmse</th>\n",
       "      <th>time_grid</th>\n",
       "      <th>time_fit_model</th>\n",
       "      <th>time_predict</th>\n",
       "      <th>pointer</th>\n",
       "    </tr>\n",
       "  </thead>\n",
       "  <tbody>\n",
       "    <tr>\n",
       "      <th>4</th>\n",
       "      <td>LGBMRegressor</td>\n",
       "      <td>27.90</td>\n",
       "      <td>906860</td>\n",
       "      <td>448078</td>\n",
       "      <td>15625</td>\n",
       "      <td>LGBMRegressor(learning_rate=0.05, max_depth=15...</td>\n",
       "    </tr>\n",
       "    <tr>\n",
       "      <th>3</th>\n",
       "      <td>XGBRegressor</td>\n",
       "      <td>28.38</td>\n",
       "      <td>694548</td>\n",
       "      <td>414345</td>\n",
       "      <td>0</td>\n",
       "      <td>XGBRegressor(base_score=None, booster=None, ca...</td>\n",
       "    </tr>\n",
       "    <tr>\n",
       "      <th>2</th>\n",
       "      <td>CatBoostRegressor</td>\n",
       "      <td>29.27</td>\n",
       "      <td>921028</td>\n",
       "      <td>688142</td>\n",
       "      <td>0</td>\n",
       "      <td>&lt;catboost.core.CatBoostRegressor object at 0x0...</td>\n",
       "    </tr>\n",
       "    <tr>\n",
       "      <th>1</th>\n",
       "      <td>SGDRegressor</td>\n",
       "      <td>39.44</td>\n",
       "      <td>846967</td>\n",
       "      <td>47507</td>\n",
       "      <td>0</td>\n",
       "      <td>SGDRegressor(alpha=0.001, eta0=0.001, random_s...</td>\n",
       "    </tr>\n",
       "    <tr>\n",
       "      <th>0</th>\n",
       "      <td>LinearRegression</td>\n",
       "      <td>39.48</td>\n",
       "      <td>33963</td>\n",
       "      <td>2997</td>\n",
       "      <td>0</td>\n",
       "      <td>LinearRegression()</td>\n",
       "    </tr>\n",
       "  </tbody>\n",
       "</table>\n",
       "</div>"
      ],
      "text/plain": [
       "               model   rmse  time_grid  time_fit_model  time_predict  \\\n",
       "4      LGBMRegressor  27.90     906860          448078         15625   \n",
       "3       XGBRegressor  28.38     694548          414345             0   \n",
       "2  CatBoostRegressor  29.27     921028          688142             0   \n",
       "1       SGDRegressor  39.44     846967           47507             0   \n",
       "0   LinearRegression  39.48      33963            2997             0   \n",
       "\n",
       "                                             pointer  \n",
       "4  LGBMRegressor(learning_rate=0.05, max_depth=15...  \n",
       "3  XGBRegressor(base_score=None, booster=None, ca...  \n",
       "2  <catboost.core.CatBoostRegressor object at 0x0...  \n",
       "1  SGDRegressor(alpha=0.001, eta0=0.001, random_s...  \n",
       "0                                 LinearRegression()  "
      ]
     },
     "execution_count": 77,
     "metadata": {},
     "output_type": "execute_result"
    }
   ],
   "source": [
    "model_param.sort_values('rmse')"
   ]
  },
  {
   "cell_type": "markdown",
   "metadata": {},
   "source": [
    "По результатам исследований моделей для поставленной задачи наиболее оптимальными являются модели градиентного бустинга:\n",
    "LGBMRegressor<br>\n",
    "XGBRegressor<br>\n",
    "CatBoostRegressor<br>\n",
    "Метрики качества моделей RMSE имеют примерно равные показатели.<br>\n",
    "По скорости обучения из этих трех моделей лучшая - XGBRegressor<br>\n",
    "По качеству метрики RMSE - LGBMRegressor<br>\n",
    "Наиболее оптимальной для поставленной задачи является **LGBMRegressor**"
   ]
  },
  {
   "cell_type": "markdown",
   "metadata": {},
   "source": [
    "<div class=\"alert alert-success\">\n",
    "<b>✔️ Комментарий ревьюера:</b> \n",
    "    \n",
    "Хорошее резюме проекта✨    \n",
    "   \n",
    "</div>"
   ]
  },
  {
   "cell_type": "markdown",
   "metadata": {},
   "source": [
    "***"
   ]
  },
  {
   "cell_type": "markdown",
   "metadata": {},
   "source": [
    "<div class=\"alert alert-success\">\n",
    "<b>✔️ Заключительный комментарий ревьюера:</b> \n",
    "    \n",
    "Дмитрий, спасибо за проделанную работу 😊  \n",
    "    \n",
    "Твой проект приятно проверять - есть структура.\n",
    "    \n",
    "Молодец, что построил графики временного ряда, провел декомпозицию, создал признаки и рассмотрел разные алгоритмы в своем исследовании🔥\n",
    "   \n",
    "***    \n",
    " \n",
    "Проект выполнен хорошо, естьтолько два общих пункта, которые стоит улучшить:\n",
    "1. Этап Анализа: \n",
    "- График сезонности, который визуализирован на всем временном промежутке, стоит удалить, т.к. для анализа он не подходит (не информативен)\n",
    "2. Этап Обучения:\n",
    "- Рассмотреть хотя бы 2 различные модели (кроме разных реализации градиентного бустинга)    \n",
    "\n",
    "***\n",
    "\n",
    "Возвращаю тебе работу, чтобы ты смог доделать проект и задать вопросы)\n",
    "    \n",
    "Успехов!\n",
    "\n",
    "</div>"
   ]
  },
  {
   "cell_type": "markdown",
   "metadata": {},
   "source": [
    "## Чек-лист проверки"
   ]
  },
  {
   "cell_type": "markdown",
   "metadata": {},
   "source": [
    "- [x]  Jupyter Notebook открыт\n",
    "- [x]  Весь код выполняется без ошибок\n",
    "- [x]  Ячейки с кодом расположены в порядке исполнения\n",
    "- [x]  Данные загружены и подготовлены\n",
    "- [x]  Данные проанализированы\n",
    "- [x]  Модель обучена, гиперпараметры подобраны\n",
    "- [x]  Качество моделей проверено, выводы сделаны\n",
    "- [x]  Значение *RMSE* на тестовой выборке не больше 48"
   ]
  },
  {
   "cell_type": "code",
   "execution_count": null,
   "metadata": {},
   "outputs": [],
   "source": []
  }
 ],
 "metadata": {
  "ExecuteTimeLog": [
   {
    "duration": 410,
    "start_time": "2023-04-20T04:51:18.450Z"
   },
   {
    "duration": 105,
    "start_time": "2023-04-20T04:51:25.532Z"
   },
   {
    "duration": 10,
    "start_time": "2023-04-20T04:51:33.534Z"
   },
   {
    "duration": 46,
    "start_time": "2023-04-20T04:52:51.266Z"
   },
   {
    "duration": 9,
    "start_time": "2023-04-20T04:52:51.984Z"
   },
   {
    "duration": 11,
    "start_time": "2023-04-20T04:53:10.601Z"
   },
   {
    "duration": 3,
    "start_time": "2023-04-20T04:54:01.813Z"
   },
   {
    "duration": 43,
    "start_time": "2023-04-20T04:54:06.595Z"
   },
   {
    "duration": 8,
    "start_time": "2023-04-20T04:54:09.582Z"
   },
   {
    "duration": 6,
    "start_time": "2023-04-20T04:54:10.695Z"
   },
   {
    "duration": 655,
    "start_time": "2023-04-20T04:55:09.254Z"
   },
   {
    "duration": 8,
    "start_time": "2023-04-20T04:55:29.699Z"
   },
   {
    "duration": 6,
    "start_time": "2023-04-20T04:55:51.055Z"
   },
   {
    "duration": 627,
    "start_time": "2023-04-20T05:29:05.431Z"
   },
   {
    "duration": 8,
    "start_time": "2023-04-20T05:30:55.957Z"
   },
   {
    "duration": 245,
    "start_time": "2023-04-20T05:30:56.486Z"
   },
   {
    "duration": 86,
    "start_time": "2023-04-20T05:31:38.554Z"
   },
   {
    "duration": 126,
    "start_time": "2023-04-20T05:32:14.067Z"
   },
   {
    "duration": 8,
    "start_time": "2023-04-20T05:33:35.887Z"
   },
   {
    "duration": 9,
    "start_time": "2023-04-20T05:33:57.066Z"
   },
   {
    "duration": 3,
    "start_time": "2023-04-20T05:34:01.723Z"
   },
   {
    "duration": 3,
    "start_time": "2023-04-20T05:34:05.275Z"
   },
   {
    "duration": 193,
    "start_time": "2023-04-20T05:34:07.656Z"
   },
   {
    "duration": 47,
    "start_time": "2023-04-20T05:34:32.467Z"
   },
   {
    "duration": 164,
    "start_time": "2023-04-20T05:34:36.620Z"
   },
   {
    "duration": 8,
    "start_time": "2023-04-20T06:03:25.751Z"
   },
   {
    "duration": 9,
    "start_time": "2023-04-20T06:03:38.403Z"
   },
   {
    "duration": 3,
    "start_time": "2023-04-20T06:04:12.531Z"
   },
   {
    "duration": 866,
    "start_time": "2023-04-20T06:04:15.869Z"
   },
   {
    "duration": 663,
    "start_time": "2023-04-20T06:05:01.495Z"
   },
   {
    "duration": 1163,
    "start_time": "2023-04-20T06:05:34.788Z"
   },
   {
    "duration": 876,
    "start_time": "2023-04-20T06:06:08.269Z"
   },
   {
    "duration": 670,
    "start_time": "2023-04-20T06:06:21.589Z"
   },
   {
    "duration": 775,
    "start_time": "2023-04-20T06:06:38.740Z"
   },
   {
    "duration": 259,
    "start_time": "2023-04-20T06:08:32.933Z"
   },
   {
    "duration": 61,
    "start_time": "2023-04-20T06:11:17.378Z"
   },
   {
    "duration": 776,
    "start_time": "2023-04-20T06:11:36.232Z"
   },
   {
    "duration": 748,
    "start_time": "2023-04-20T06:11:54.839Z"
   },
   {
    "duration": 779,
    "start_time": "2023-04-20T06:12:05.730Z"
   },
   {
    "duration": 683,
    "start_time": "2023-04-20T06:12:23.413Z"
   },
   {
    "duration": 606,
    "start_time": "2023-04-20T06:12:28.792Z"
   },
   {
    "duration": 706,
    "start_time": "2023-04-20T06:14:39.164Z"
   },
   {
    "duration": 4,
    "start_time": "2023-04-20T06:16:03.164Z"
   },
   {
    "duration": 240,
    "start_time": "2023-04-20T06:16:03.723Z"
   },
   {
    "duration": 82,
    "start_time": "2023-04-20T06:18:42.482Z"
   },
   {
    "duration": 12,
    "start_time": "2023-04-20T06:23:29.790Z"
   },
   {
    "duration": 6,
    "start_time": "2023-04-20T06:23:32.643Z"
   },
   {
    "duration": 44,
    "start_time": "2023-04-20T06:24:03.203Z"
   },
   {
    "duration": 15,
    "start_time": "2023-04-20T06:24:04.064Z"
   },
   {
    "duration": 8,
    "start_time": "2023-04-20T06:24:32.000Z"
   },
   {
    "duration": 6,
    "start_time": "2023-04-20T06:25:02.958Z"
   },
   {
    "duration": 7,
    "start_time": "2023-04-20T06:25:03.758Z"
   },
   {
    "duration": 3,
    "start_time": "2023-04-20T06:39:53.042Z"
   },
   {
    "duration": 78,
    "start_time": "2023-04-20T06:39:53.047Z"
   },
   {
    "duration": 10,
    "start_time": "2023-04-20T06:39:53.126Z"
   },
   {
    "duration": 11,
    "start_time": "2023-04-20T06:39:53.138Z"
   },
   {
    "duration": 6,
    "start_time": "2023-04-20T06:39:53.151Z"
   },
   {
    "duration": 3,
    "start_time": "2023-04-20T06:40:14.118Z"
   },
   {
    "duration": 71,
    "start_time": "2023-04-20T06:40:14.123Z"
   },
   {
    "duration": 11,
    "start_time": "2023-04-20T06:40:14.195Z"
   },
   {
    "duration": 21,
    "start_time": "2023-04-20T06:40:14.208Z"
   },
   {
    "duration": 6,
    "start_time": "2023-04-20T06:40:14.231Z"
   },
   {
    "duration": 4,
    "start_time": "2023-04-20T06:40:23.694Z"
   },
   {
    "duration": 55,
    "start_time": "2023-04-20T06:40:23.701Z"
   },
   {
    "duration": 9,
    "start_time": "2023-04-20T06:40:23.758Z"
   },
   {
    "duration": 40,
    "start_time": "2023-04-20T06:40:23.769Z"
   },
   {
    "duration": 9,
    "start_time": "2023-04-20T06:40:23.811Z"
   },
   {
    "duration": 19,
    "start_time": "2023-04-20T06:40:23.821Z"
   },
   {
    "duration": 19,
    "start_time": "2023-04-20T06:40:23.841Z"
   },
   {
    "duration": 6,
    "start_time": "2023-04-20T06:40:23.862Z"
   },
   {
    "duration": 55,
    "start_time": "2023-04-20T06:40:23.870Z"
   },
   {
    "duration": 449,
    "start_time": "2023-04-20T06:40:23.927Z"
   },
   {
    "duration": 9,
    "start_time": "2023-04-20T06:40:24.387Z"
   },
   {
    "duration": 714,
    "start_time": "2023-04-20T06:40:24.398Z"
   },
   {
    "duration": 585,
    "start_time": "2023-04-20T06:40:25.113Z"
   },
   {
    "duration": 769,
    "start_time": "2023-04-20T06:41:37.830Z"
   },
   {
    "duration": 5,
    "start_time": "2023-04-20T06:41:46.447Z"
   },
   {
    "duration": 4,
    "start_time": "2023-04-20T07:18:21.504Z"
   },
   {
    "duration": 11,
    "start_time": "2023-04-20T07:18:45.499Z"
   },
   {
    "duration": 21,
    "start_time": "2023-04-20T07:18:59.504Z"
   },
   {
    "duration": 9,
    "start_time": "2023-04-20T07:23:15.408Z"
   },
   {
    "duration": 29,
    "start_time": "2023-04-20T07:23:19.972Z"
   },
   {
    "duration": 20,
    "start_time": "2023-04-20T07:23:31.217Z"
   },
   {
    "duration": 26,
    "start_time": "2023-04-20T07:23:42.743Z"
   },
   {
    "duration": 9,
    "start_time": "2023-04-20T07:24:11.923Z"
   },
   {
    "duration": 3,
    "start_time": "2023-04-20T07:24:22.358Z"
   },
   {
    "duration": 87,
    "start_time": "2023-04-20T07:24:22.363Z"
   },
   {
    "duration": 9,
    "start_time": "2023-04-20T07:24:22.452Z"
   },
   {
    "duration": 12,
    "start_time": "2023-04-20T07:24:22.463Z"
   },
   {
    "duration": 70,
    "start_time": "2023-04-20T07:24:22.477Z"
   },
   {
    "duration": 40,
    "start_time": "2023-04-20T07:24:22.549Z"
   },
   {
    "duration": 146,
    "start_time": "2023-04-20T07:24:22.591Z"
   },
   {
    "duration": 14,
    "start_time": "2023-04-20T07:24:22.739Z"
   },
   {
    "duration": 13,
    "start_time": "2023-04-20T07:24:22.755Z"
   },
   {
    "duration": 258,
    "start_time": "2023-04-20T07:24:22.770Z"
   },
   {
    "duration": 3,
    "start_time": "2023-04-20T07:24:23.030Z"
   },
   {
    "duration": 27,
    "start_time": "2023-04-20T07:24:23.035Z"
   },
   {
    "duration": 667,
    "start_time": "2023-04-20T07:24:23.064Z"
   },
   {
    "duration": 582,
    "start_time": "2023-04-20T07:24:23.733Z"
   },
   {
    "duration": 6,
    "start_time": "2023-04-20T07:24:24.316Z"
   },
   {
    "duration": 37,
    "start_time": "2023-04-20T07:24:24.323Z"
   },
   {
    "duration": 21,
    "start_time": "2023-04-20T07:24:24.362Z"
   },
   {
    "duration": 22,
    "start_time": "2023-04-20T07:24:24.385Z"
   },
   {
    "duration": 24,
    "start_time": "2023-04-20T07:24:49.588Z"
   },
   {
    "duration": 20,
    "start_time": "2023-04-20T07:24:55.425Z"
   },
   {
    "duration": 7,
    "start_time": "2023-04-20T07:25:00.945Z"
   },
   {
    "duration": 22,
    "start_time": "2023-04-20T07:25:01.627Z"
   },
   {
    "duration": 7,
    "start_time": "2023-04-20T07:25:17.549Z"
   },
   {
    "duration": 23,
    "start_time": "2023-04-20T07:25:18.101Z"
   },
   {
    "duration": 6,
    "start_time": "2023-04-20T07:31:01.462Z"
   },
   {
    "duration": 7,
    "start_time": "2023-04-20T07:32:21.898Z"
   },
   {
    "duration": 76,
    "start_time": "2023-04-20T07:33:51.553Z"
   },
   {
    "duration": 3,
    "start_time": "2023-04-20T07:34:02.757Z"
   },
   {
    "duration": 4,
    "start_time": "2023-04-20T07:51:18.653Z"
   },
   {
    "duration": 4,
    "start_time": "2023-04-20T07:51:54.346Z"
   },
   {
    "duration": 5,
    "start_time": "2023-04-20T07:52:48.084Z"
   },
   {
    "duration": 3,
    "start_time": "2023-04-20T07:52:51.758Z"
   },
   {
    "duration": 2,
    "start_time": "2023-04-20T07:54:03.722Z"
   },
   {
    "duration": 51,
    "start_time": "2023-04-20T07:54:10.154Z"
   },
   {
    "duration": 5,
    "start_time": "2023-04-20T07:55:07.597Z"
   },
   {
    "duration": 14,
    "start_time": "2023-04-20T07:58:17.737Z"
   },
   {
    "duration": 13,
    "start_time": "2023-04-20T07:58:24.937Z"
   },
   {
    "duration": 3,
    "start_time": "2023-04-20T07:59:08.459Z"
   },
   {
    "duration": 5,
    "start_time": "2023-04-20T07:59:28.909Z"
   },
   {
    "duration": 5,
    "start_time": "2023-04-20T07:59:50.230Z"
   },
   {
    "duration": 199,
    "start_time": "2023-04-20T08:01:55.193Z"
   },
   {
    "duration": 13,
    "start_time": "2023-04-20T08:04:51.100Z"
   },
   {
    "duration": 3,
    "start_time": "2023-04-20T08:04:58.433Z"
   },
   {
    "duration": 124,
    "start_time": "2023-04-20T08:05:03.707Z"
   },
   {
    "duration": 9,
    "start_time": "2023-04-20T08:05:10.286Z"
   },
   {
    "duration": 2,
    "start_time": "2023-04-20T08:06:36.906Z"
   },
   {
    "duration": 9,
    "start_time": "2023-04-20T08:08:06.016Z"
   },
   {
    "duration": 3,
    "start_time": "2023-04-20T08:08:12.550Z"
   },
   {
    "duration": 2,
    "start_time": "2023-04-20T08:08:13.144Z"
   },
   {
    "duration": 2879501,
    "start_time": "2023-04-20T08:08:53.389Z"
   },
   {
    "duration": 3,
    "start_time": "2023-04-20T09:02:29.418Z"
   },
   {
    "duration": 3,
    "start_time": "2023-04-20T09:16:31.973Z"
   },
   {
    "duration": 3,
    "start_time": "2023-04-20T09:16:38.132Z"
   },
   {
    "duration": 3,
    "start_time": "2023-04-20T09:18:49.967Z"
   },
   {
    "duration": 3,
    "start_time": "2023-04-20T09:18:58.128Z"
   },
   {
    "duration": 3,
    "start_time": "2023-04-20T09:20:01.850Z"
   },
   {
    "duration": 2,
    "start_time": "2023-04-20T09:20:56.484Z"
   },
   {
    "duration": 3,
    "start_time": "2023-04-20T09:22:24.238Z"
   },
   {
    "duration": 3,
    "start_time": "2023-04-20T09:23:05.678Z"
   },
   {
    "duration": 6906,
    "start_time": "2023-04-20T09:23:26.275Z"
   },
   {
    "duration": 290,
    "start_time": "2023-04-20T09:23:42.483Z"
   },
   {
    "duration": 103,
    "start_time": "2023-04-20T09:24:33.179Z"
   },
   {
    "duration": 42,
    "start_time": "2023-04-20T09:25:30.904Z"
   },
   {
    "duration": 110,
    "start_time": "2023-04-20T09:26:00.070Z"
   },
   {
    "duration": 3,
    "start_time": "2023-04-20T09:26:01.577Z"
   },
   {
    "duration": 8,
    "start_time": "2023-04-20T09:26:18.032Z"
   },
   {
    "duration": 4,
    "start_time": "2023-04-20T09:26:18.878Z"
   },
   {
    "duration": 2,
    "start_time": "2023-04-20T09:26:49.597Z"
   },
   {
    "duration": 1143,
    "start_time": "2023-04-20T09:26:50.334Z"
   },
   {
    "duration": 10,
    "start_time": "2023-04-20T09:26:52.702Z"
   },
   {
    "duration": 11,
    "start_time": "2023-04-20T09:26:54.019Z"
   },
   {
    "duration": 5,
    "start_time": "2023-04-20T09:27:07.843Z"
   },
   {
    "duration": 4,
    "start_time": "2023-04-20T09:31:05.952Z"
   },
   {
    "duration": 3,
    "start_time": "2023-04-20T09:31:45.308Z"
   },
   {
    "duration": 3,
    "start_time": "2023-04-20T09:31:45.896Z"
   },
   {
    "duration": 4,
    "start_time": "2023-04-20T09:31:46.358Z"
   },
   {
    "duration": 8788,
    "start_time": "2023-04-20T09:31:47.125Z"
   },
   {
    "duration": 31,
    "start_time": "2023-04-20T09:31:57.055Z"
   },
   {
    "duration": 4,
    "start_time": "2023-04-20T09:31:59.446Z"
   },
   {
    "duration": 84,
    "start_time": "2023-04-20T09:33:53.335Z"
   },
   {
    "duration": 2,
    "start_time": "2023-04-20T09:34:38.442Z"
   },
   {
    "duration": 3,
    "start_time": "2023-04-20T09:34:41.622Z"
   },
   {
    "duration": 2,
    "start_time": "2023-04-20T09:35:55.878Z"
   },
   {
    "duration": 4,
    "start_time": "2023-04-20T09:35:56.326Z"
   },
   {
    "duration": 3,
    "start_time": "2023-04-20T09:35:58.327Z"
   },
   {
    "duration": 28688,
    "start_time": "2023-04-20T09:36:36.167Z"
   },
   {
    "duration": 219149,
    "start_time": "2023-04-20T09:37:10.724Z"
   },
   {
    "duration": 3,
    "start_time": "2023-04-20T09:48:50.311Z"
   },
   {
    "duration": 4,
    "start_time": "2023-04-20T09:48:57.276Z"
   },
   {
    "duration": 4,
    "start_time": "2023-04-20T09:49:01.634Z"
   },
   {
    "duration": 3,
    "start_time": "2023-04-20T09:49:08.363Z"
   },
   {
    "duration": 56,
    "start_time": "2023-04-20T09:49:40.150Z"
   },
   {
    "duration": 274,
    "start_time": "2023-04-20T09:50:35.011Z"
   },
   {
    "duration": 3,
    "start_time": "2023-04-20T09:54:41.816Z"
   },
   {
    "duration": 1461,
    "start_time": "2023-04-20T09:55:06.614Z"
   },
   {
    "duration": 1327,
    "start_time": "2023-04-20T09:55:42.052Z"
   },
   {
    "duration": 2,
    "start_time": "2023-04-20T09:57:05.000Z"
   },
   {
    "duration": 31790,
    "start_time": "2023-04-20T09:57:06.697Z"
   },
   {
    "duration": 99,
    "start_time": "2023-04-20T10:00:08.588Z"
   },
   {
    "duration": 5,
    "start_time": "2023-04-20T10:00:40.817Z"
   },
   {
    "duration": 9,
    "start_time": "2023-04-20T10:01:10.076Z"
   },
   {
    "duration": 6,
    "start_time": "2023-04-20T10:02:53.884Z"
   },
   {
    "duration": 1631,
    "start_time": "2023-04-20T10:03:00.384Z"
   },
   {
    "duration": 86,
    "start_time": "2023-04-20T10:03:02.018Z"
   },
   {
    "duration": 177,
    "start_time": "2023-04-20T10:03:02.105Z"
   },
   {
    "duration": 167,
    "start_time": "2023-04-20T10:03:02.285Z"
   },
   {
    "duration": 106,
    "start_time": "2023-04-20T10:03:02.454Z"
   },
   {
    "duration": 239,
    "start_time": "2023-04-20T10:03:02.562Z"
   },
   {
    "duration": 31,
    "start_time": "2023-04-20T10:03:02.803Z"
   },
   {
    "duration": 50,
    "start_time": "2023-04-20T10:03:02.835Z"
   },
   {
    "duration": 54,
    "start_time": "2023-04-20T10:03:02.887Z"
   },
   {
    "duration": 308,
    "start_time": "2023-04-20T10:03:02.943Z"
   },
   {
    "duration": 5,
    "start_time": "2023-04-20T10:03:03.252Z"
   },
   {
    "duration": 142,
    "start_time": "2023-04-20T10:03:03.259Z"
   },
   {
    "duration": 812,
    "start_time": "2023-04-20T10:03:03.403Z"
   },
   {
    "duration": 533,
    "start_time": "2023-04-20T10:03:04.216Z"
   },
   {
    "duration": 4,
    "start_time": "2023-04-20T10:03:04.751Z"
   },
   {
    "duration": 52,
    "start_time": "2023-04-20T10:03:04.756Z"
   },
   {
    "duration": 51,
    "start_time": "2023-04-20T10:03:04.810Z"
   },
   {
    "duration": 49,
    "start_time": "2023-04-20T10:03:04.862Z"
   },
   {
    "duration": 7,
    "start_time": "2023-04-20T10:03:04.912Z"
   },
   {
    "duration": 51,
    "start_time": "2023-04-20T10:03:04.920Z"
   },
   {
    "duration": 97,
    "start_time": "2023-04-20T10:03:04.972Z"
   },
   {
    "duration": 44,
    "start_time": "2023-04-20T10:03:05.089Z"
   },
   {
    "duration": 127,
    "start_time": "2023-04-20T10:03:05.134Z"
   },
   {
    "duration": 0,
    "start_time": "2023-04-20T10:03:05.263Z"
   },
   {
    "duration": 0,
    "start_time": "2023-04-20T10:03:05.264Z"
   },
   {
    "duration": 0,
    "start_time": "2023-04-20T10:03:05.271Z"
   },
   {
    "duration": 0,
    "start_time": "2023-04-20T10:03:05.272Z"
   },
   {
    "duration": 0,
    "start_time": "2023-04-20T10:03:05.273Z"
   },
   {
    "duration": 0,
    "start_time": "2023-04-20T10:03:05.273Z"
   },
   {
    "duration": 0,
    "start_time": "2023-04-20T10:03:05.274Z"
   },
   {
    "duration": 0,
    "start_time": "2023-04-20T10:03:05.275Z"
   },
   {
    "duration": 0,
    "start_time": "2023-04-20T10:03:05.275Z"
   },
   {
    "duration": 0,
    "start_time": "2023-04-20T10:03:05.276Z"
   },
   {
    "duration": 0,
    "start_time": "2023-04-20T10:03:05.276Z"
   },
   {
    "duration": 0,
    "start_time": "2023-04-20T10:03:05.277Z"
   },
   {
    "duration": 0,
    "start_time": "2023-04-20T10:03:05.277Z"
   },
   {
    "duration": 0,
    "start_time": "2023-04-20T10:03:05.278Z"
   },
   {
    "duration": 0,
    "start_time": "2023-04-20T10:03:05.278Z"
   },
   {
    "duration": 0,
    "start_time": "2023-04-20T10:03:05.279Z"
   },
   {
    "duration": 0,
    "start_time": "2023-04-20T10:03:05.279Z"
   },
   {
    "duration": 0,
    "start_time": "2023-04-20T10:03:05.280Z"
   },
   {
    "duration": 1,
    "start_time": "2023-04-20T10:03:05.280Z"
   },
   {
    "duration": 0,
    "start_time": "2023-04-20T10:03:05.281Z"
   },
   {
    "duration": 0,
    "start_time": "2023-04-20T10:03:05.282Z"
   },
   {
    "duration": 0,
    "start_time": "2023-04-20T10:03:05.282Z"
   },
   {
    "duration": 0,
    "start_time": "2023-04-20T10:03:05.283Z"
   },
   {
    "duration": 0,
    "start_time": "2023-04-20T10:03:05.284Z"
   },
   {
    "duration": 0,
    "start_time": "2023-04-20T10:03:05.284Z"
   },
   {
    "duration": 0,
    "start_time": "2023-04-20T10:03:05.287Z"
   },
   {
    "duration": 0,
    "start_time": "2023-04-20T10:03:05.287Z"
   },
   {
    "duration": 0,
    "start_time": "2023-04-20T10:03:05.288Z"
   },
   {
    "duration": 0,
    "start_time": "2023-04-20T10:03:05.290Z"
   },
   {
    "duration": 4,
    "start_time": "2023-04-20T10:04:19.317Z"
   },
   {
    "duration": 1578,
    "start_time": "2023-04-20T10:04:26.140Z"
   },
   {
    "duration": 46,
    "start_time": "2023-04-20T10:04:27.720Z"
   },
   {
    "duration": 19,
    "start_time": "2023-04-20T10:04:27.767Z"
   },
   {
    "duration": 29,
    "start_time": "2023-04-20T10:04:27.788Z"
   },
   {
    "duration": 12,
    "start_time": "2023-04-20T10:04:27.818Z"
   },
   {
    "duration": 18,
    "start_time": "2023-04-20T10:04:27.831Z"
   },
   {
    "duration": 8,
    "start_time": "2023-04-20T10:04:27.851Z"
   },
   {
    "duration": 7,
    "start_time": "2023-04-20T10:04:27.860Z"
   },
   {
    "duration": 21,
    "start_time": "2023-04-20T10:04:27.868Z"
   },
   {
    "duration": 243,
    "start_time": "2023-04-20T10:04:27.891Z"
   },
   {
    "duration": 5,
    "start_time": "2023-04-20T10:04:28.135Z"
   },
   {
    "duration": 8,
    "start_time": "2023-04-20T10:04:28.141Z"
   },
   {
    "duration": 738,
    "start_time": "2023-04-20T10:04:28.150Z"
   },
   {
    "duration": 526,
    "start_time": "2023-04-20T10:04:28.890Z"
   },
   {
    "duration": 5,
    "start_time": "2023-04-20T10:04:29.417Z"
   },
   {
    "duration": 11,
    "start_time": "2023-04-20T10:04:29.423Z"
   },
   {
    "duration": 20,
    "start_time": "2023-04-20T10:04:29.435Z"
   },
   {
    "duration": 27,
    "start_time": "2023-04-20T10:04:29.456Z"
   },
   {
    "duration": 8,
    "start_time": "2023-04-20T10:04:29.485Z"
   },
   {
    "duration": 21,
    "start_time": "2023-04-20T10:04:29.494Z"
   },
   {
    "duration": 5,
    "start_time": "2023-04-20T10:04:29.516Z"
   },
   {
    "duration": 18,
    "start_time": "2023-04-20T10:04:29.523Z"
   },
   {
    "duration": 11,
    "start_time": "2023-04-20T10:04:29.542Z"
   },
   {
    "duration": 7,
    "start_time": "2023-04-20T10:04:29.554Z"
   },
   {
    "duration": 27,
    "start_time": "2023-04-20T10:04:29.562Z"
   },
   {
    "duration": 5,
    "start_time": "2023-04-20T10:04:29.590Z"
   },
   {
    "duration": 13,
    "start_time": "2023-04-20T10:04:29.596Z"
   },
   {
    "duration": 3,
    "start_time": "2023-04-20T10:04:29.613Z"
   },
   {
    "duration": 13,
    "start_time": "2023-04-20T10:04:29.618Z"
   },
   {
    "duration": 19,
    "start_time": "2023-04-20T10:04:29.678Z"
   },
   {
    "duration": 83,
    "start_time": "2023-04-20T10:04:29.699Z"
   },
   {
    "duration": 9,
    "start_time": "2023-04-20T10:04:29.784Z"
   },
   {
    "duration": 16373764,
    "start_time": "2023-04-20T10:04:29.794Z"
   },
   {
    "duration": 18,
    "start_time": "2023-04-20T14:37:23.560Z"
   },
   {
    "duration": 14,
    "start_time": "2023-04-20T14:37:23.589Z"
   },
   {
    "duration": 23,
    "start_time": "2023-04-20T14:37:23.604Z"
   },
   {
    "duration": 630598,
    "start_time": "2023-04-20T14:37:23.628Z"
   },
   {
    "duration": 157,
    "start_time": "2023-04-20T14:47:54.228Z"
   },
   {
    "duration": 10,
    "start_time": "2023-04-20T14:47:54.387Z"
   },
   {
    "duration": 21,
    "start_time": "2023-04-20T14:47:54.409Z"
   },
   {
    "duration": 8,
    "start_time": "2023-04-20T14:47:54.432Z"
   },
   {
    "duration": 24,
    "start_time": "2023-04-20T14:47:54.442Z"
   },
   {
    "duration": 6218712,
    "start_time": "2023-04-20T14:47:54.467Z"
   },
   {
    "duration": 3,
    "start_time": "2023-04-20T16:31:33.181Z"
   },
   {
    "duration": 13,
    "start_time": "2023-04-20T16:31:33.186Z"
   },
   {
    "duration": 73,
    "start_time": "2023-04-20T16:31:33.200Z"
   },
   {
    "duration": 4,
    "start_time": "2023-04-20T16:31:33.274Z"
   },
   {
    "duration": 14,
    "start_time": "2023-04-20T16:31:33.280Z"
   },
   {
    "duration": 12,
    "start_time": "2023-04-20T16:31:33.295Z"
   },
   {
    "duration": 963,
    "start_time": "2023-04-20T16:31:33.309Z"
   },
   {
    "duration": 7,
    "start_time": "2023-04-20T16:31:34.274Z"
   },
   {
    "duration": 18,
    "start_time": "2023-04-20T16:31:34.283Z"
   },
   {
    "duration": 4,
    "start_time": "2023-04-21T03:32:53.836Z"
   },
   {
    "duration": 51,
    "start_time": "2023-04-21T03:32:53.842Z"
   },
   {
    "duration": 11,
    "start_time": "2023-04-21T03:32:53.895Z"
   },
   {
    "duration": 12,
    "start_time": "2023-04-21T03:32:53.908Z"
   },
   {
    "duration": 6,
    "start_time": "2023-04-21T03:32:53.922Z"
   },
   {
    "duration": 10,
    "start_time": "2023-04-21T03:32:53.929Z"
   },
   {
    "duration": 13,
    "start_time": "2023-04-21T03:32:53.941Z"
   },
   {
    "duration": 7,
    "start_time": "2023-04-21T03:32:53.972Z"
   },
   {
    "duration": 12,
    "start_time": "2023-04-21T03:32:53.980Z"
   },
   {
    "duration": 266,
    "start_time": "2023-04-21T03:32:53.994Z"
   },
   {
    "duration": 4,
    "start_time": "2023-04-21T03:32:54.271Z"
   },
   {
    "duration": 17,
    "start_time": "2023-04-21T03:32:54.277Z"
   },
   {
    "duration": 682,
    "start_time": "2023-04-21T03:32:54.296Z"
   },
   {
    "duration": 554,
    "start_time": "2023-04-21T03:32:54.980Z"
   },
   {
    "duration": 4,
    "start_time": "2023-04-21T03:32:55.536Z"
   },
   {
    "duration": 8,
    "start_time": "2023-04-21T03:32:55.542Z"
   },
   {
    "duration": 16,
    "start_time": "2023-04-21T03:32:55.552Z"
   },
   {
    "duration": 20,
    "start_time": "2023-04-21T03:32:55.571Z"
   },
   {
    "duration": 6,
    "start_time": "2023-04-21T03:32:55.593Z"
   },
   {
    "duration": 21,
    "start_time": "2023-04-21T03:32:55.600Z"
   },
   {
    "duration": 5,
    "start_time": "2023-04-21T03:32:55.622Z"
   },
   {
    "duration": 17,
    "start_time": "2023-04-21T03:32:55.628Z"
   },
   {
    "duration": 9,
    "start_time": "2023-04-21T03:32:55.646Z"
   },
   {
    "duration": 16,
    "start_time": "2023-04-21T03:32:55.656Z"
   },
   {
    "duration": 4,
    "start_time": "2023-04-21T03:32:55.674Z"
   },
   {
    "duration": 5,
    "start_time": "2023-04-21T03:32:55.679Z"
   },
   {
    "duration": 6,
    "start_time": "2023-04-21T03:33:27.118Z"
   },
   {
    "duration": 63,
    "start_time": "2023-04-21T03:33:27.127Z"
   },
   {
    "duration": 12,
    "start_time": "2023-04-21T03:33:27.193Z"
   },
   {
    "duration": 8,
    "start_time": "2023-04-21T03:33:27.207Z"
   },
   {
    "duration": 4,
    "start_time": "2023-04-21T03:33:27.217Z"
   },
   {
    "duration": 8,
    "start_time": "2023-04-21T03:33:27.222Z"
   },
   {
    "duration": 8,
    "start_time": "2023-04-21T03:33:27.231Z"
   },
   {
    "duration": 12,
    "start_time": "2023-04-21T03:33:27.271Z"
   },
   {
    "duration": 11,
    "start_time": "2023-04-21T03:33:27.286Z"
   },
   {
    "duration": 346,
    "start_time": "2023-04-21T03:33:27.301Z"
   },
   {
    "duration": 4,
    "start_time": "2023-04-21T03:33:27.649Z"
   },
   {
    "duration": 19,
    "start_time": "2023-04-21T03:33:27.655Z"
   },
   {
    "duration": 703,
    "start_time": "2023-04-21T03:33:27.676Z"
   },
   {
    "duration": 573,
    "start_time": "2023-04-21T03:33:28.380Z"
   },
   {
    "duration": 5,
    "start_time": "2023-04-21T03:33:28.954Z"
   },
   {
    "duration": 14,
    "start_time": "2023-04-21T03:33:28.960Z"
   },
   {
    "duration": 30,
    "start_time": "2023-04-21T03:33:28.976Z"
   },
   {
    "duration": 23,
    "start_time": "2023-04-21T03:33:29.008Z"
   },
   {
    "duration": 37,
    "start_time": "2023-04-21T03:33:29.032Z"
   },
   {
    "duration": 50,
    "start_time": "2023-04-21T03:33:29.071Z"
   },
   {
    "duration": 5,
    "start_time": "2023-04-21T03:33:29.124Z"
   },
   {
    "duration": 17,
    "start_time": "2023-04-21T03:33:29.131Z"
   },
   {
    "duration": 7,
    "start_time": "2023-04-21T03:33:29.149Z"
   },
   {
    "duration": 6,
    "start_time": "2023-04-21T03:33:29.157Z"
   },
   {
    "duration": 8,
    "start_time": "2023-04-21T03:33:29.165Z"
   },
   {
    "duration": 9,
    "start_time": "2023-04-21T03:33:29.174Z"
   },
   {
    "duration": 87,
    "start_time": "2023-04-21T03:34:12.512Z"
   },
   {
    "duration": 3,
    "start_time": "2023-04-21T03:34:43.879Z"
   },
   {
    "duration": 53,
    "start_time": "2023-04-21T03:34:43.884Z"
   },
   {
    "duration": 9,
    "start_time": "2023-04-21T03:34:43.939Z"
   },
   {
    "duration": 8,
    "start_time": "2023-04-21T03:34:43.950Z"
   },
   {
    "duration": 10,
    "start_time": "2023-04-21T03:34:43.960Z"
   },
   {
    "duration": 23,
    "start_time": "2023-04-21T03:34:43.971Z"
   },
   {
    "duration": 20,
    "start_time": "2023-04-21T03:34:43.995Z"
   },
   {
    "duration": 10,
    "start_time": "2023-04-21T03:34:44.016Z"
   },
   {
    "duration": 15,
    "start_time": "2023-04-21T03:34:44.028Z"
   },
   {
    "duration": 238,
    "start_time": "2023-04-21T03:34:44.045Z"
   },
   {
    "duration": 4,
    "start_time": "2023-04-21T03:34:44.284Z"
   },
   {
    "duration": 10,
    "start_time": "2023-04-21T03:34:44.289Z"
   },
   {
    "duration": 791,
    "start_time": "2023-04-21T03:34:44.300Z"
   },
   {
    "duration": 577,
    "start_time": "2023-04-21T03:34:45.092Z"
   },
   {
    "duration": 4,
    "start_time": "2023-04-21T03:34:45.672Z"
   },
   {
    "duration": 20,
    "start_time": "2023-04-21T03:34:45.678Z"
   },
   {
    "duration": 34,
    "start_time": "2023-04-21T03:34:45.699Z"
   },
   {
    "duration": 28,
    "start_time": "2023-04-21T03:34:45.735Z"
   },
   {
    "duration": 18,
    "start_time": "2023-04-21T03:34:45.766Z"
   },
   {
    "duration": 30,
    "start_time": "2023-04-21T03:34:45.786Z"
   },
   {
    "duration": 10,
    "start_time": "2023-04-21T03:34:45.819Z"
   },
   {
    "duration": 14,
    "start_time": "2023-04-21T03:34:45.831Z"
   },
   {
    "duration": 18,
    "start_time": "2023-04-21T03:34:45.846Z"
   },
   {
    "duration": 23,
    "start_time": "2023-04-21T03:34:45.867Z"
   },
   {
    "duration": 35,
    "start_time": "2023-04-21T03:34:45.891Z"
   },
   {
    "duration": 24,
    "start_time": "2023-04-21T03:34:45.927Z"
   },
   {
    "duration": 4,
    "start_time": "2023-04-21T03:34:55.022Z"
   },
   {
    "duration": 54,
    "start_time": "2023-04-21T03:34:55.028Z"
   },
   {
    "duration": 11,
    "start_time": "2023-04-21T03:34:55.085Z"
   },
   {
    "duration": 12,
    "start_time": "2023-04-21T03:34:55.098Z"
   },
   {
    "duration": 8,
    "start_time": "2023-04-21T03:34:55.111Z"
   },
   {
    "duration": 46,
    "start_time": "2023-04-21T03:34:55.121Z"
   },
   {
    "duration": 48,
    "start_time": "2023-04-21T03:34:55.169Z"
   },
   {
    "duration": 76,
    "start_time": "2023-04-21T03:34:55.219Z"
   },
   {
    "duration": 13,
    "start_time": "2023-04-21T03:34:55.297Z"
   },
   {
    "duration": 245,
    "start_time": "2023-04-21T03:34:55.311Z"
   },
   {
    "duration": 4,
    "start_time": "2023-04-21T03:34:55.558Z"
   },
   {
    "duration": 12,
    "start_time": "2023-04-21T03:34:55.563Z"
   },
   {
    "duration": 819,
    "start_time": "2023-04-21T03:34:55.576Z"
   },
   {
    "duration": 567,
    "start_time": "2023-04-21T03:34:56.397Z"
   },
   {
    "duration": 7,
    "start_time": "2023-04-21T03:34:56.965Z"
   },
   {
    "duration": 21,
    "start_time": "2023-04-21T03:34:56.974Z"
   },
   {
    "duration": 27,
    "start_time": "2023-04-21T03:34:56.997Z"
   },
   {
    "duration": 21,
    "start_time": "2023-04-21T03:34:57.025Z"
   },
   {
    "duration": 17,
    "start_time": "2023-04-21T03:34:57.048Z"
   },
   {
    "duration": 38,
    "start_time": "2023-04-21T03:34:57.067Z"
   },
   {
    "duration": 8,
    "start_time": "2023-04-21T03:34:57.107Z"
   },
   {
    "duration": 14,
    "start_time": "2023-04-21T03:34:57.117Z"
   },
   {
    "duration": 24,
    "start_time": "2023-04-21T03:34:57.133Z"
   },
   {
    "duration": 14,
    "start_time": "2023-04-21T03:34:57.159Z"
   },
   {
    "duration": 19,
    "start_time": "2023-04-21T03:34:57.175Z"
   },
   {
    "duration": 15,
    "start_time": "2023-04-21T03:34:57.196Z"
   },
   {
    "duration": 4,
    "start_time": "2023-04-21T03:35:06.096Z"
   },
   {
    "duration": 58,
    "start_time": "2023-04-21T03:35:06.102Z"
   },
   {
    "duration": 14,
    "start_time": "2023-04-21T03:35:06.163Z"
   },
   {
    "duration": 22,
    "start_time": "2023-04-21T03:35:06.180Z"
   },
   {
    "duration": 4,
    "start_time": "2023-04-21T03:35:06.204Z"
   },
   {
    "duration": 13,
    "start_time": "2023-04-21T03:35:06.210Z"
   },
   {
    "duration": 17,
    "start_time": "2023-04-21T03:35:06.224Z"
   },
   {
    "duration": 7,
    "start_time": "2023-04-21T03:35:06.243Z"
   },
   {
    "duration": 13,
    "start_time": "2023-04-21T03:35:06.252Z"
   },
   {
    "duration": 246,
    "start_time": "2023-04-21T03:35:06.267Z"
   },
   {
    "duration": 4,
    "start_time": "2023-04-21T03:35:06.515Z"
   },
   {
    "duration": 8,
    "start_time": "2023-04-21T03:35:06.520Z"
   },
   {
    "duration": 649,
    "start_time": "2023-04-21T03:35:06.530Z"
   },
   {
    "duration": 557,
    "start_time": "2023-04-21T03:35:07.181Z"
   },
   {
    "duration": 5,
    "start_time": "2023-04-21T03:35:07.740Z"
   },
   {
    "duration": 13,
    "start_time": "2023-04-21T03:35:07.746Z"
   },
   {
    "duration": 20,
    "start_time": "2023-04-21T03:35:07.760Z"
   },
   {
    "duration": 20,
    "start_time": "2023-04-21T03:35:07.781Z"
   },
   {
    "duration": 6,
    "start_time": "2023-04-21T03:35:07.803Z"
   },
   {
    "duration": 28,
    "start_time": "2023-04-21T03:35:07.811Z"
   },
   {
    "duration": 5,
    "start_time": "2023-04-21T03:35:07.840Z"
   },
   {
    "duration": 32,
    "start_time": "2023-04-21T03:35:07.846Z"
   },
   {
    "duration": 11,
    "start_time": "2023-04-21T03:35:07.879Z"
   },
   {
    "duration": 16,
    "start_time": "2023-04-21T03:35:07.893Z"
   },
   {
    "duration": 14,
    "start_time": "2023-04-21T03:35:07.910Z"
   },
   {
    "duration": 10,
    "start_time": "2023-04-21T03:35:07.925Z"
   },
   {
    "duration": 5,
    "start_time": "2023-04-21T03:35:17.263Z"
   },
   {
    "duration": 54,
    "start_time": "2023-04-21T03:35:17.270Z"
   },
   {
    "duration": 10,
    "start_time": "2023-04-21T03:35:17.326Z"
   },
   {
    "duration": 21,
    "start_time": "2023-04-21T03:35:17.338Z"
   },
   {
    "duration": 5,
    "start_time": "2023-04-21T03:35:17.361Z"
   },
   {
    "duration": 19,
    "start_time": "2023-04-21T03:35:17.368Z"
   },
   {
    "duration": 10,
    "start_time": "2023-04-21T03:35:17.389Z"
   },
   {
    "duration": 8,
    "start_time": "2023-04-21T03:35:17.400Z"
   },
   {
    "duration": 8,
    "start_time": "2023-04-21T03:35:17.411Z"
   },
   {
    "duration": 381,
    "start_time": "2023-04-21T03:35:17.420Z"
   },
   {
    "duration": 4,
    "start_time": "2023-04-21T03:35:17.803Z"
   },
   {
    "duration": 7,
    "start_time": "2023-04-21T03:35:17.809Z"
   },
   {
    "duration": 767,
    "start_time": "2023-04-21T03:35:17.818Z"
   },
   {
    "duration": 583,
    "start_time": "2023-04-21T03:35:18.587Z"
   },
   {
    "duration": 4,
    "start_time": "2023-04-21T03:35:19.172Z"
   },
   {
    "duration": 9,
    "start_time": "2023-04-21T03:35:19.178Z"
   },
   {
    "duration": 17,
    "start_time": "2023-04-21T03:35:19.188Z"
   },
   {
    "duration": 20,
    "start_time": "2023-04-21T03:35:19.206Z"
   },
   {
    "duration": 6,
    "start_time": "2023-04-21T03:35:19.227Z"
   },
   {
    "duration": 19,
    "start_time": "2023-04-21T03:35:19.234Z"
   },
   {
    "duration": 5,
    "start_time": "2023-04-21T03:35:19.271Z"
   },
   {
    "duration": 10,
    "start_time": "2023-04-21T03:35:19.277Z"
   },
   {
    "duration": 12,
    "start_time": "2023-04-21T03:35:19.288Z"
   },
   {
    "duration": 15,
    "start_time": "2023-04-21T03:35:19.303Z"
   },
   {
    "duration": 9,
    "start_time": "2023-04-21T03:35:19.319Z"
   },
   {
    "duration": 4,
    "start_time": "2023-04-21T03:35:40.777Z"
   },
   {
    "duration": 91,
    "start_time": "2023-04-21T03:35:40.783Z"
   },
   {
    "duration": 8,
    "start_time": "2023-04-21T03:35:40.877Z"
   },
   {
    "duration": 13,
    "start_time": "2023-04-21T03:35:40.887Z"
   },
   {
    "duration": 5,
    "start_time": "2023-04-21T03:35:40.902Z"
   },
   {
    "duration": 25,
    "start_time": "2023-04-21T03:35:40.908Z"
   },
   {
    "duration": 10,
    "start_time": "2023-04-21T03:35:40.934Z"
   },
   {
    "duration": 9,
    "start_time": "2023-04-21T03:35:40.945Z"
   },
   {
    "duration": 15,
    "start_time": "2023-04-21T03:35:40.955Z"
   },
   {
    "duration": 264,
    "start_time": "2023-04-21T03:35:40.971Z"
   },
   {
    "duration": 4,
    "start_time": "2023-04-21T03:35:41.237Z"
   },
   {
    "duration": 11,
    "start_time": "2023-04-21T03:35:41.243Z"
   },
   {
    "duration": 807,
    "start_time": "2023-04-21T03:35:41.256Z"
   },
   {
    "duration": 571,
    "start_time": "2023-04-21T03:35:42.065Z"
   },
   {
    "duration": 4,
    "start_time": "2023-04-21T03:35:42.637Z"
   },
   {
    "duration": 6,
    "start_time": "2023-04-21T03:35:42.643Z"
   },
   {
    "duration": 29,
    "start_time": "2023-04-21T03:35:42.650Z"
   },
   {
    "duration": 34,
    "start_time": "2023-04-21T03:35:42.681Z"
   },
   {
    "duration": 10,
    "start_time": "2023-04-21T03:35:42.717Z"
   },
   {
    "duration": 22,
    "start_time": "2023-04-21T03:35:42.729Z"
   },
   {
    "duration": 7,
    "start_time": "2023-04-21T03:35:42.753Z"
   },
   {
    "duration": 10,
    "start_time": "2023-04-21T03:35:42.762Z"
   },
   {
    "duration": 8,
    "start_time": "2023-04-21T03:35:42.773Z"
   },
   {
    "duration": 20,
    "start_time": "2023-04-21T03:35:42.783Z"
   },
   {
    "duration": 11,
    "start_time": "2023-04-21T03:35:42.805Z"
   },
   {
    "duration": 24,
    "start_time": "2023-04-21T03:35:42.817Z"
   },
   {
    "duration": 3,
    "start_time": "2023-04-21T03:35:51.618Z"
   },
   {
    "duration": 46,
    "start_time": "2023-04-21T03:35:51.623Z"
   },
   {
    "duration": 9,
    "start_time": "2023-04-21T03:35:51.671Z"
   },
   {
    "duration": 12,
    "start_time": "2023-04-21T03:35:51.681Z"
   },
   {
    "duration": 4,
    "start_time": "2023-04-21T03:35:51.695Z"
   },
   {
    "duration": 11,
    "start_time": "2023-04-21T03:35:51.700Z"
   },
   {
    "duration": 13,
    "start_time": "2023-04-21T03:35:51.712Z"
   },
   {
    "duration": 6,
    "start_time": "2023-04-21T03:35:51.726Z"
   },
   {
    "duration": 11,
    "start_time": "2023-04-21T03:35:51.734Z"
   },
   {
    "duration": 252,
    "start_time": "2023-04-21T03:35:51.746Z"
   },
   {
    "duration": 4,
    "start_time": "2023-04-21T03:35:52.000Z"
   },
   {
    "duration": 7,
    "start_time": "2023-04-21T03:35:52.005Z"
   },
   {
    "duration": 646,
    "start_time": "2023-04-21T03:35:52.014Z"
   },
   {
    "duration": 581,
    "start_time": "2023-04-21T03:35:52.662Z"
   },
   {
    "duration": 5,
    "start_time": "2023-04-21T03:35:53.244Z"
   },
   {
    "duration": 6,
    "start_time": "2023-04-21T03:35:53.250Z"
   },
   {
    "duration": 22,
    "start_time": "2023-04-21T03:35:53.257Z"
   },
   {
    "duration": 20,
    "start_time": "2023-04-21T03:35:53.281Z"
   },
   {
    "duration": 6,
    "start_time": "2023-04-21T03:35:53.302Z"
   },
   {
    "duration": 20,
    "start_time": "2023-04-21T03:35:53.310Z"
   },
   {
    "duration": 5,
    "start_time": "2023-04-21T03:35:53.332Z"
   },
   {
    "duration": 7,
    "start_time": "2023-04-21T03:35:53.339Z"
   },
   {
    "duration": 26,
    "start_time": "2023-04-21T03:35:53.347Z"
   },
   {
    "duration": 3,
    "start_time": "2023-04-21T03:35:53.375Z"
   },
   {
    "duration": 7,
    "start_time": "2023-04-21T03:35:53.379Z"
   },
   {
    "duration": 16,
    "start_time": "2023-04-21T03:35:53.388Z"
   },
   {
    "duration": 4,
    "start_time": "2023-04-21T03:36:02.001Z"
   },
   {
    "duration": 108,
    "start_time": "2023-04-21T03:36:02.007Z"
   },
   {
    "duration": 50,
    "start_time": "2023-04-21T03:36:02.117Z"
   },
   {
    "duration": 26,
    "start_time": "2023-04-21T03:36:02.169Z"
   },
   {
    "duration": 36,
    "start_time": "2023-04-21T03:36:02.197Z"
   },
   {
    "duration": 45,
    "start_time": "2023-04-21T03:36:02.235Z"
   },
   {
    "duration": 47,
    "start_time": "2023-04-21T03:36:02.281Z"
   },
   {
    "duration": 31,
    "start_time": "2023-04-21T03:36:02.329Z"
   },
   {
    "duration": 69,
    "start_time": "2023-04-21T03:36:02.362Z"
   },
   {
    "duration": 395,
    "start_time": "2023-04-21T03:36:02.433Z"
   },
   {
    "duration": 4,
    "start_time": "2023-04-21T03:36:02.831Z"
   },
   {
    "duration": 27,
    "start_time": "2023-04-21T03:36:02.836Z"
   },
   {
    "duration": 710,
    "start_time": "2023-04-21T03:36:02.865Z"
   },
   {
    "duration": 542,
    "start_time": "2023-04-21T03:36:03.577Z"
   },
   {
    "duration": 5,
    "start_time": "2023-04-21T03:36:04.120Z"
   },
   {
    "duration": 60,
    "start_time": "2023-04-21T03:36:04.127Z"
   },
   {
    "duration": 16,
    "start_time": "2023-04-21T03:36:04.189Z"
   },
   {
    "duration": 21,
    "start_time": "2023-04-21T03:36:04.207Z"
   },
   {
    "duration": 6,
    "start_time": "2023-04-21T03:36:04.230Z"
   },
   {
    "duration": 21,
    "start_time": "2023-04-21T03:36:04.237Z"
   },
   {
    "duration": 15,
    "start_time": "2023-04-21T03:36:04.260Z"
   },
   {
    "duration": 5,
    "start_time": "2023-04-21T03:36:04.276Z"
   },
   {
    "duration": 20,
    "start_time": "2023-04-21T03:36:04.283Z"
   },
   {
    "duration": 18,
    "start_time": "2023-04-21T03:36:04.305Z"
   },
   {
    "duration": 7,
    "start_time": "2023-04-21T03:36:04.324Z"
   },
   {
    "duration": 6,
    "start_time": "2023-04-21T03:36:04.332Z"
   },
   {
    "duration": 4,
    "start_time": "2023-04-21T03:36:15.610Z"
   },
   {
    "duration": 53,
    "start_time": "2023-04-21T03:36:15.616Z"
   },
   {
    "duration": 10,
    "start_time": "2023-04-21T03:36:15.671Z"
   },
   {
    "duration": 12,
    "start_time": "2023-04-21T03:36:15.683Z"
   },
   {
    "duration": 20,
    "start_time": "2023-04-21T03:36:15.697Z"
   },
   {
    "duration": 12,
    "start_time": "2023-04-21T03:36:15.719Z"
   },
   {
    "duration": 8,
    "start_time": "2023-04-21T03:36:15.733Z"
   },
   {
    "duration": 11,
    "start_time": "2023-04-21T03:36:15.742Z"
   },
   {
    "duration": 21,
    "start_time": "2023-04-21T03:36:15.755Z"
   },
   {
    "duration": 297,
    "start_time": "2023-04-21T03:36:15.778Z"
   },
   {
    "duration": 5,
    "start_time": "2023-04-21T03:36:16.079Z"
   },
   {
    "duration": 23,
    "start_time": "2023-04-21T03:36:16.086Z"
   },
   {
    "duration": 766,
    "start_time": "2023-04-21T03:36:16.111Z"
   },
   {
    "duration": 732,
    "start_time": "2023-04-21T03:36:16.879Z"
   },
   {
    "duration": 5,
    "start_time": "2023-04-21T03:36:17.612Z"
   },
   {
    "duration": 54,
    "start_time": "2023-04-21T03:36:17.618Z"
   },
   {
    "duration": 59,
    "start_time": "2023-04-21T03:36:17.674Z"
   },
   {
    "duration": 22,
    "start_time": "2023-04-21T03:36:17.734Z"
   },
   {
    "duration": 6,
    "start_time": "2023-04-21T03:36:17.758Z"
   },
   {
    "duration": 26,
    "start_time": "2023-04-21T03:36:17.765Z"
   },
   {
    "duration": 6,
    "start_time": "2023-04-21T03:36:17.793Z"
   },
   {
    "duration": 8,
    "start_time": "2023-04-21T03:36:17.801Z"
   },
   {
    "duration": 6,
    "start_time": "2023-04-21T03:36:17.810Z"
   },
   {
    "duration": 6,
    "start_time": "2023-04-21T03:36:17.817Z"
   },
   {
    "duration": 6,
    "start_time": "2023-04-21T03:36:17.824Z"
   },
   {
    "duration": 5,
    "start_time": "2023-04-21T03:36:17.831Z"
   },
   {
    "duration": 3,
    "start_time": "2023-04-21T03:36:31.907Z"
   },
   {
    "duration": 113,
    "start_time": "2023-04-21T03:36:31.912Z"
   },
   {
    "duration": 9,
    "start_time": "2023-04-21T03:36:32.027Z"
   },
   {
    "duration": 8,
    "start_time": "2023-04-21T03:36:32.039Z"
   },
   {
    "duration": 4,
    "start_time": "2023-04-21T03:36:32.049Z"
   },
   {
    "duration": 10,
    "start_time": "2023-04-21T03:36:32.054Z"
   },
   {
    "duration": 6,
    "start_time": "2023-04-21T03:36:32.066Z"
   },
   {
    "duration": 6,
    "start_time": "2023-04-21T03:36:32.074Z"
   },
   {
    "duration": 13,
    "start_time": "2023-04-21T03:36:32.082Z"
   },
   {
    "duration": 253,
    "start_time": "2023-04-21T03:36:32.098Z"
   },
   {
    "duration": 4,
    "start_time": "2023-04-21T03:36:32.353Z"
   },
   {
    "duration": 14,
    "start_time": "2023-04-21T03:36:32.359Z"
   },
   {
    "duration": 692,
    "start_time": "2023-04-21T03:36:32.375Z"
   },
   {
    "duration": 550,
    "start_time": "2023-04-21T03:36:33.069Z"
   },
   {
    "duration": 4,
    "start_time": "2023-04-21T03:36:33.621Z"
   },
   {
    "duration": 4,
    "start_time": "2023-04-21T03:36:33.627Z"
   },
   {
    "duration": 15,
    "start_time": "2023-04-21T03:36:33.633Z"
   },
   {
    "duration": 34,
    "start_time": "2023-04-21T03:36:33.649Z"
   },
   {
    "duration": 6,
    "start_time": "2023-04-21T03:36:33.684Z"
   },
   {
    "duration": 32,
    "start_time": "2023-04-21T03:36:33.692Z"
   },
   {
    "duration": 12,
    "start_time": "2023-04-21T03:36:33.726Z"
   },
   {
    "duration": 34,
    "start_time": "2023-04-21T03:36:33.739Z"
   },
   {
    "duration": 22,
    "start_time": "2023-04-21T03:36:33.774Z"
   },
   {
    "duration": 23,
    "start_time": "2023-04-21T03:36:33.798Z"
   },
   {
    "duration": 25,
    "start_time": "2023-04-21T03:36:33.823Z"
   },
   {
    "duration": 11,
    "start_time": "2023-04-21T03:36:33.849Z"
   },
   {
    "duration": 2,
    "start_time": "2023-04-21T03:37:40.549Z"
   },
   {
    "duration": 4,
    "start_time": "2023-04-21T03:37:48.656Z"
   },
   {
    "duration": 4,
    "start_time": "2023-04-21T03:38:13.079Z"
   },
   {
    "duration": 20,
    "start_time": "2023-04-21T03:38:19.950Z"
   },
   {
    "duration": 4,
    "start_time": "2023-04-21T03:38:37.384Z"
   },
   {
    "duration": 3,
    "start_time": "2023-04-21T03:38:37.912Z"
   },
   {
    "duration": 6,
    "start_time": "2023-04-21T03:39:03.865Z"
   },
   {
    "duration": 2,
    "start_time": "2023-04-21T03:39:04.312Z"
   },
   {
    "duration": 3,
    "start_time": "2023-04-21T03:39:13.287Z"
   },
   {
    "duration": 3,
    "start_time": "2023-04-21T03:39:25.545Z"
   },
   {
    "duration": 48,
    "start_time": "2023-04-21T03:39:25.549Z"
   },
   {
    "duration": 10,
    "start_time": "2023-04-21T03:39:25.599Z"
   },
   {
    "duration": 7,
    "start_time": "2023-04-21T03:39:25.610Z"
   },
   {
    "duration": 4,
    "start_time": "2023-04-21T03:39:25.619Z"
   },
   {
    "duration": 9,
    "start_time": "2023-04-21T03:39:25.625Z"
   },
   {
    "duration": 12,
    "start_time": "2023-04-21T03:39:25.636Z"
   },
   {
    "duration": 25,
    "start_time": "2023-04-21T03:39:25.649Z"
   },
   {
    "duration": 9,
    "start_time": "2023-04-21T03:39:25.675Z"
   },
   {
    "duration": 266,
    "start_time": "2023-04-21T03:39:25.686Z"
   },
   {
    "duration": 5,
    "start_time": "2023-04-21T03:39:25.955Z"
   },
   {
    "duration": 18,
    "start_time": "2023-04-21T03:39:25.962Z"
   },
   {
    "duration": 857,
    "start_time": "2023-04-21T03:39:25.982Z"
   },
   {
    "duration": 577,
    "start_time": "2023-04-21T03:39:26.840Z"
   },
   {
    "duration": 5,
    "start_time": "2023-04-21T03:39:27.418Z"
   },
   {
    "duration": 6,
    "start_time": "2023-04-21T03:39:27.424Z"
   },
   {
    "duration": 16,
    "start_time": "2023-04-21T03:39:27.431Z"
   },
   {
    "duration": 34,
    "start_time": "2023-04-21T03:39:27.448Z"
   },
   {
    "duration": 5,
    "start_time": "2023-04-21T03:39:27.484Z"
   },
   {
    "duration": 17,
    "start_time": "2023-04-21T03:39:27.491Z"
   },
   {
    "duration": 7,
    "start_time": "2023-04-21T03:39:30.608Z"
   },
   {
    "duration": 3,
    "start_time": "2023-04-21T03:39:31.056Z"
   },
   {
    "duration": 3,
    "start_time": "2023-04-21T03:39:31.534Z"
   },
   {
    "duration": 3,
    "start_time": "2023-04-21T03:39:33.301Z"
   },
   {
    "duration": 3,
    "start_time": "2023-04-21T03:39:51.094Z"
   },
   {
    "duration": 4,
    "start_time": "2023-04-21T03:39:51.616Z"
   },
   {
    "duration": 4,
    "start_time": "2023-04-21T03:40:08.938Z"
   },
   {
    "duration": 78,
    "start_time": "2023-04-21T03:40:08.944Z"
   },
   {
    "duration": 9,
    "start_time": "2023-04-21T03:40:09.024Z"
   },
   {
    "duration": 11,
    "start_time": "2023-04-21T03:40:09.034Z"
   },
   {
    "duration": 4,
    "start_time": "2023-04-21T03:40:09.047Z"
   },
   {
    "duration": 12,
    "start_time": "2023-04-21T03:40:09.053Z"
   },
   {
    "duration": 35,
    "start_time": "2023-04-21T03:40:09.067Z"
   },
   {
    "duration": 27,
    "start_time": "2023-04-21T03:40:09.104Z"
   },
   {
    "duration": 9,
    "start_time": "2023-04-21T03:40:09.133Z"
   },
   {
    "duration": 235,
    "start_time": "2023-04-21T03:40:09.144Z"
   },
   {
    "duration": 4,
    "start_time": "2023-04-21T03:40:09.382Z"
   },
   {
    "duration": 11,
    "start_time": "2023-04-21T03:40:09.387Z"
   },
   {
    "duration": 673,
    "start_time": "2023-04-21T03:40:09.399Z"
   },
   {
    "duration": 543,
    "start_time": "2023-04-21T03:40:10.074Z"
   },
   {
    "duration": 5,
    "start_time": "2023-04-21T03:40:10.618Z"
   },
   {
    "duration": 33,
    "start_time": "2023-04-21T03:40:10.624Z"
   },
   {
    "duration": 13,
    "start_time": "2023-04-21T03:40:10.659Z"
   },
   {
    "duration": 20,
    "start_time": "2023-04-21T03:40:10.673Z"
   },
   {
    "duration": 6,
    "start_time": "2023-04-21T03:40:10.695Z"
   },
   {
    "duration": 20,
    "start_time": "2023-04-21T03:40:10.702Z"
   },
   {
    "duration": 7,
    "start_time": "2023-04-21T03:40:10.723Z"
   },
   {
    "duration": 7,
    "start_time": "2023-04-21T03:40:10.731Z"
   },
   {
    "duration": 2,
    "start_time": "2023-04-21T03:40:14.156Z"
   },
   {
    "duration": 3,
    "start_time": "2023-04-21T03:40:14.593Z"
   },
   {
    "duration": 4,
    "start_time": "2023-04-21T03:40:15.587Z"
   },
   {
    "duration": 2,
    "start_time": "2023-04-21T03:40:17.060Z"
   },
   {
    "duration": 4,
    "start_time": "2023-04-21T03:40:17.535Z"
   },
   {
    "duration": 4,
    "start_time": "2023-04-21T03:40:40.299Z"
   },
   {
    "duration": 4,
    "start_time": "2023-04-21T03:40:40.966Z"
   },
   {
    "duration": 5,
    "start_time": "2023-04-21T03:40:41.715Z"
   },
   {
    "duration": 5,
    "start_time": "2023-04-21T03:40:42.537Z"
   },
   {
    "duration": 4,
    "start_time": "2023-04-21T03:40:43.411Z"
   },
   {
    "duration": 4,
    "start_time": "2023-04-21T03:40:44.658Z"
   },
   {
    "duration": 48,
    "start_time": "2023-04-21T03:41:57.909Z"
   },
   {
    "duration": 1460,
    "start_time": "2023-04-21T03:43:17.904Z"
   },
   {
    "duration": 50,
    "start_time": "2023-04-21T03:43:19.366Z"
   },
   {
    "duration": 11,
    "start_time": "2023-04-21T03:43:19.417Z"
   },
   {
    "duration": 10,
    "start_time": "2023-04-21T03:43:19.430Z"
   },
   {
    "duration": 5,
    "start_time": "2023-04-21T03:43:19.442Z"
   },
   {
    "duration": 10,
    "start_time": "2023-04-21T03:43:19.448Z"
   },
   {
    "duration": 13,
    "start_time": "2023-04-21T03:43:19.459Z"
   },
   {
    "duration": 6,
    "start_time": "2023-04-21T03:43:19.474Z"
   },
   {
    "duration": 9,
    "start_time": "2023-04-21T03:43:19.481Z"
   },
   {
    "duration": 289,
    "start_time": "2023-04-21T03:43:19.492Z"
   },
   {
    "duration": 5,
    "start_time": "2023-04-21T03:43:19.783Z"
   },
   {
    "duration": 17,
    "start_time": "2023-04-21T03:43:19.789Z"
   },
   {
    "duration": 803,
    "start_time": "2023-04-21T03:43:19.808Z"
   },
   {
    "duration": 588,
    "start_time": "2023-04-21T03:43:20.613Z"
   },
   {
    "duration": 6,
    "start_time": "2023-04-21T03:43:21.203Z"
   },
   {
    "duration": 8,
    "start_time": "2023-04-21T03:43:21.210Z"
   },
   {
    "duration": 20,
    "start_time": "2023-04-21T03:43:21.219Z"
   },
   {
    "duration": 38,
    "start_time": "2023-04-21T03:43:21.241Z"
   },
   {
    "duration": 6,
    "start_time": "2023-04-21T03:43:21.280Z"
   },
   {
    "duration": 26,
    "start_time": "2023-04-21T03:43:21.288Z"
   },
   {
    "duration": 5,
    "start_time": "2023-04-21T03:43:21.316Z"
   },
   {
    "duration": 23,
    "start_time": "2023-04-21T03:43:21.323Z"
   },
   {
    "duration": 5,
    "start_time": "2023-04-21T03:43:21.348Z"
   },
   {
    "duration": 5,
    "start_time": "2023-04-21T03:43:21.355Z"
   },
   {
    "duration": 10,
    "start_time": "2023-04-21T03:43:21.362Z"
   },
   {
    "duration": 4,
    "start_time": "2023-04-21T03:43:21.373Z"
   },
   {
    "duration": 5,
    "start_time": "2023-04-21T03:43:21.379Z"
   },
   {
    "duration": 4,
    "start_time": "2023-04-21T03:43:21.388Z"
   },
   {
    "duration": 4,
    "start_time": "2023-04-21T03:43:21.394Z"
   },
   {
    "duration": 7,
    "start_time": "2023-04-21T03:43:21.400Z"
   },
   {
    "duration": 7,
    "start_time": "2023-04-21T03:43:21.409Z"
   },
   {
    "duration": 54,
    "start_time": "2023-04-21T03:43:21.418Z"
   },
   {
    "duration": 3,
    "start_time": "2023-04-21T03:43:21.474Z"
   },
   {
    "duration": 6,
    "start_time": "2023-04-21T03:43:21.479Z"
   },
   {
    "duration": 5,
    "start_time": "2023-04-21T03:43:21.487Z"
   },
   {
    "duration": 11,
    "start_time": "2023-04-21T03:43:21.493Z"
   },
   {
    "duration": 167,
    "start_time": "2023-04-21T03:43:21.505Z"
   },
   {
    "duration": 5,
    "start_time": "2023-04-21T03:43:21.674Z"
   },
   {
    "duration": 5,
    "start_time": "2023-04-21T03:43:21.681Z"
   },
   {
    "duration": 5,
    "start_time": "2023-04-21T03:43:21.688Z"
   },
   {
    "duration": 4,
    "start_time": "2023-04-21T03:43:21.694Z"
   },
   {
    "duration": 836115,
    "start_time": "2023-04-21T03:43:21.700Z"
   },
   {
    "duration": 3,
    "start_time": "2023-04-21T03:57:17.817Z"
   },
   {
    "duration": 9,
    "start_time": "2023-04-21T03:57:17.821Z"
   },
   {
    "duration": 6,
    "start_time": "2023-04-21T03:57:17.832Z"
   },
   {
    "duration": 4467,
    "start_time": "2023-04-21T03:57:17.839Z"
   },
   {
    "duration": 72,
    "start_time": "2023-04-21T03:57:22.308Z"
   },
   {
    "duration": 95,
    "start_time": "2023-04-21T03:57:22.381Z"
   },
   {
    "duration": 7,
    "start_time": "2023-04-21T03:57:22.477Z"
   },
   {
    "duration": 7,
    "start_time": "2023-04-21T03:57:22.485Z"
   },
   {
    "duration": 6,
    "start_time": "2023-04-21T03:57:22.493Z"
   },
   {
    "duration": 66878,
    "start_time": "2023-04-21T03:57:22.501Z"
   },
   {
    "duration": 3,
    "start_time": "2023-04-21T03:58:29.380Z"
   },
   {
    "duration": 5,
    "start_time": "2023-04-21T03:58:29.384Z"
   },
   {
    "duration": 85,
    "start_time": "2023-04-21T03:58:29.391Z"
   },
   {
    "duration": 5,
    "start_time": "2023-04-21T03:58:29.478Z"
   },
   {
    "duration": 8,
    "start_time": "2023-04-21T03:58:29.484Z"
   },
   {
    "duration": 11,
    "start_time": "2023-04-21T03:58:29.493Z"
   },
   {
    "duration": 1775,
    "start_time": "2023-04-21T03:58:29.506Z"
   },
   {
    "duration": 190,
    "start_time": "2023-04-21T03:58:31.283Z"
   },
   {
    "duration": 35,
    "start_time": "2023-04-21T03:58:31.476Z"
   },
   {
    "duration": 57,
    "start_time": "2023-04-21T04:08:53.256Z"
   },
   {
    "duration": 8,
    "start_time": "2023-04-21T04:09:48.817Z"
   },
   {
    "duration": 113,
    "start_time": "2023-04-21T04:10:05.472Z"
   },
   {
    "duration": 15,
    "start_time": "2023-04-21T04:10:20.051Z"
   },
   {
    "duration": 8,
    "start_time": "2023-04-21T04:10:31.806Z"
   },
   {
    "duration": 8,
    "start_time": "2023-04-21T04:10:34.321Z"
   },
   {
    "duration": 4,
    "start_time": "2023-04-21T04:10:45.083Z"
   },
   {
    "duration": 9,
    "start_time": "2023-04-21T04:10:57.716Z"
   },
   {
    "duration": 5,
    "start_time": "2023-04-21T04:10:58.566Z"
   },
   {
    "duration": 5,
    "start_time": "2023-04-21T04:12:43.882Z"
   },
   {
    "duration": 50,
    "start_time": "2023-04-21T04:13:06.599Z"
   },
   {
    "duration": 3,
    "start_time": "2023-04-21T04:13:42.467Z"
   },
   {
    "duration": 231,
    "start_time": "2023-04-21T04:14:22.543Z"
   },
   {
    "duration": 3,
    "start_time": "2023-04-21T04:14:54.107Z"
   },
   {
    "duration": 998,
    "start_time": "2023-04-21T04:15:22.682Z"
   },
   {
    "duration": 7,
    "start_time": "2023-04-21T04:15:34.365Z"
   },
   {
    "duration": 4,
    "start_time": "2023-04-21T04:15:39.823Z"
   },
   {
    "duration": 3,
    "start_time": "2023-04-21T04:18:55.643Z"
   },
   {
    "duration": 3,
    "start_time": "2023-04-21T04:18:56.200Z"
   },
   {
    "duration": 2,
    "start_time": "2023-04-21T04:19:02.162Z"
   },
   {
    "duration": 65535,
    "start_time": "2023-04-21T04:19:03.558Z"
   },
   {
    "duration": 2,
    "start_time": "2023-04-21T04:20:18.662Z"
   },
   {
    "duration": 3,
    "start_time": "2023-04-21T04:20:19.140Z"
   },
   {
    "duration": 3,
    "start_time": "2023-04-21T04:20:19.705Z"
   },
   {
    "duration": 3,
    "start_time": "2023-04-21T04:20:20.228Z"
   },
   {
    "duration": 59,
    "start_time": "2023-04-21T04:20:37.562Z"
   },
   {
    "duration": 2,
    "start_time": "2023-04-21T04:21:05.503Z"
   },
   {
    "duration": 4,
    "start_time": "2023-04-21T04:21:08.822Z"
   },
   {
    "duration": 916,
    "start_time": "2023-04-21T04:21:10.059Z"
   },
   {
    "duration": 48,
    "start_time": "2023-04-21T04:21:12.527Z"
   },
   {
    "duration": 4,
    "start_time": "2023-04-21T04:21:15.223Z"
   },
   {
    "duration": 977,
    "start_time": "2023-04-21T04:21:39.297Z"
   },
   {
    "duration": 12,
    "start_time": "2023-04-21T04:21:41.132Z"
   },
   {
    "duration": 4,
    "start_time": "2023-04-21T04:21:41.727Z"
   },
   {
    "duration": 10,
    "start_time": "2023-04-21T04:21:47.121Z"
   },
   {
    "duration": 4,
    "start_time": "2023-04-21T04:21:51.510Z"
   },
   {
    "duration": 3,
    "start_time": "2023-04-21T04:22:39.523Z"
   },
   {
    "duration": 3,
    "start_time": "2023-04-21T04:22:39.990Z"
   },
   {
    "duration": 3,
    "start_time": "2023-04-21T04:22:41.167Z"
   },
   {
    "duration": 755890,
    "start_time": "2023-04-21T04:22:43.043Z"
   },
   {
    "duration": 3,
    "start_time": "2023-04-21T04:35:52.302Z"
   },
   {
    "duration": 3,
    "start_time": "2023-04-21T04:35:54.603Z"
   },
   {
    "duration": 3,
    "start_time": "2023-04-21T04:36:00.535Z"
   },
   {
    "duration": 8381,
    "start_time": "2023-04-21T04:36:01.702Z"
   },
   {
    "duration": 8,
    "start_time": "2023-04-21T04:36:13.703Z"
   },
   {
    "duration": 4,
    "start_time": "2023-04-21T04:36:14.864Z"
   },
   {
    "duration": 7,
    "start_time": "2023-04-21T04:36:43.143Z"
   },
   {
    "duration": 9,
    "start_time": "2023-04-21T04:37:27.861Z"
   },
   {
    "duration": 4,
    "start_time": "2023-04-21T04:37:34.311Z"
   },
   {
    "duration": 11,
    "start_time": "2023-04-21T04:38:27.616Z"
   },
   {
    "duration": 4,
    "start_time": "2023-04-21T04:38:44.046Z"
   },
   {
    "duration": 49,
    "start_time": "2023-04-21T04:38:44.051Z"
   },
   {
    "duration": 10,
    "start_time": "2023-04-21T04:38:44.102Z"
   },
   {
    "duration": 17,
    "start_time": "2023-04-21T04:38:44.114Z"
   },
   {
    "duration": 17,
    "start_time": "2023-04-21T04:38:44.133Z"
   },
   {
    "duration": 17,
    "start_time": "2023-04-21T04:38:44.152Z"
   },
   {
    "duration": 22,
    "start_time": "2023-04-21T04:38:44.171Z"
   },
   {
    "duration": 15,
    "start_time": "2023-04-21T04:38:44.195Z"
   },
   {
    "duration": 18,
    "start_time": "2023-04-21T04:38:44.212Z"
   },
   {
    "duration": 254,
    "start_time": "2023-04-21T04:38:44.232Z"
   },
   {
    "duration": 4,
    "start_time": "2023-04-21T04:38:44.489Z"
   },
   {
    "duration": 16,
    "start_time": "2023-04-21T04:38:44.495Z"
   },
   {
    "duration": 755,
    "start_time": "2023-04-21T04:38:44.512Z"
   },
   {
    "duration": 559,
    "start_time": "2023-04-21T04:38:45.269Z"
   },
   {
    "duration": 4,
    "start_time": "2023-04-21T04:38:45.830Z"
   },
   {
    "duration": 6,
    "start_time": "2023-04-21T04:38:45.835Z"
   },
   {
    "duration": 18,
    "start_time": "2023-04-21T04:38:45.842Z"
   },
   {
    "duration": 24,
    "start_time": "2023-04-21T04:38:45.871Z"
   },
   {
    "duration": 8,
    "start_time": "2023-04-21T04:38:45.897Z"
   },
   {
    "duration": 23,
    "start_time": "2023-04-21T04:38:45.906Z"
   },
   {
    "duration": 9,
    "start_time": "2023-04-21T04:38:45.931Z"
   },
   {
    "duration": 9,
    "start_time": "2023-04-21T04:38:45.941Z"
   },
   {
    "duration": 25,
    "start_time": "2023-04-21T04:38:45.952Z"
   },
   {
    "duration": 12,
    "start_time": "2023-04-21T04:38:45.979Z"
   },
   {
    "duration": 15,
    "start_time": "2023-04-21T04:38:45.993Z"
   },
   {
    "duration": 10,
    "start_time": "2023-04-21T04:38:46.011Z"
   },
   {
    "duration": 12,
    "start_time": "2023-04-21T04:38:46.023Z"
   },
   {
    "duration": 14,
    "start_time": "2023-04-21T04:38:46.038Z"
   },
   {
    "duration": 11,
    "start_time": "2023-04-21T04:38:46.056Z"
   },
   {
    "duration": 11,
    "start_time": "2023-04-21T04:38:46.070Z"
   },
   {
    "duration": 13,
    "start_time": "2023-04-21T04:38:46.082Z"
   },
   {
    "duration": 22,
    "start_time": "2023-04-21T04:38:46.097Z"
   },
   {
    "duration": 3,
    "start_time": "2023-04-21T04:38:46.121Z"
   },
   {
    "duration": 22,
    "start_time": "2023-04-21T04:38:46.126Z"
   },
   {
    "duration": 21,
    "start_time": "2023-04-21T04:38:46.150Z"
   },
   {
    "duration": 19,
    "start_time": "2023-04-21T04:38:46.172Z"
   },
   {
    "duration": 83,
    "start_time": "2023-04-21T04:38:46.193Z"
   },
   {
    "duration": 97,
    "start_time": "2023-04-21T04:38:46.278Z"
   },
   {
    "duration": 96,
    "start_time": "2023-04-21T04:38:46.377Z"
   },
   {
    "duration": 4,
    "start_time": "2023-04-21T04:38:46.475Z"
   },
   {
    "duration": 6,
    "start_time": "2023-04-21T04:38:46.481Z"
   },
   {
    "duration": 707644,
    "start_time": "2023-04-21T04:38:46.488Z"
   },
   {
    "duration": 3,
    "start_time": "2023-04-21T04:50:34.134Z"
   },
   {
    "duration": 20,
    "start_time": "2023-04-21T04:50:34.138Z"
   },
   {
    "duration": 13,
    "start_time": "2023-04-21T04:50:34.159Z"
   },
   {
    "duration": 9162,
    "start_time": "2023-04-21T04:50:34.173Z"
   },
   {
    "duration": 64,
    "start_time": "2023-04-21T04:50:43.337Z"
   },
   {
    "duration": 16,
    "start_time": "2023-04-21T04:50:43.403Z"
   },
   {
    "duration": 0,
    "start_time": "2023-04-21T04:50:43.420Z"
   },
   {
    "duration": 0,
    "start_time": "2023-04-21T04:50:43.422Z"
   },
   {
    "duration": 4,
    "start_time": "2023-04-21T05:08:09.025Z"
   },
   {
    "duration": 162,
    "start_time": "2023-04-21T05:08:52.946Z"
   },
   {
    "duration": 4,
    "start_time": "2023-04-21T05:09:09.293Z"
   },
   {
    "duration": 2,
    "start_time": "2023-04-21T05:09:27.102Z"
   },
   {
    "duration": 4,
    "start_time": "2023-04-21T05:09:44.352Z"
   },
   {
    "duration": 4,
    "start_time": "2023-04-21T05:09:52.393Z"
   },
   {
    "duration": 76,
    "start_time": "2023-04-21T05:10:56.980Z"
   },
   {
    "duration": 5,
    "start_time": "2023-04-21T05:34:49.134Z"
   },
   {
    "duration": 87,
    "start_time": "2023-04-21T05:34:49.141Z"
   },
   {
    "duration": 13,
    "start_time": "2023-04-21T05:34:49.230Z"
   },
   {
    "duration": 31,
    "start_time": "2023-04-21T05:34:49.245Z"
   },
   {
    "duration": 18,
    "start_time": "2023-04-21T05:34:49.277Z"
   },
   {
    "duration": 11,
    "start_time": "2023-04-21T05:34:49.297Z"
   },
   {
    "duration": 8,
    "start_time": "2023-04-21T05:34:49.310Z"
   },
   {
    "duration": 10,
    "start_time": "2023-04-21T05:34:49.319Z"
   },
   {
    "duration": 10,
    "start_time": "2023-04-21T05:34:49.332Z"
   },
   {
    "duration": 263,
    "start_time": "2023-04-21T05:34:49.344Z"
   },
   {
    "duration": 5,
    "start_time": "2023-04-21T05:34:49.609Z"
   },
   {
    "duration": 13,
    "start_time": "2023-04-21T05:34:49.615Z"
   },
   {
    "duration": 788,
    "start_time": "2023-04-21T05:34:49.632Z"
   },
   {
    "duration": 593,
    "start_time": "2023-04-21T05:34:50.422Z"
   },
   {
    "duration": 4,
    "start_time": "2023-04-21T05:34:51.017Z"
   },
   {
    "duration": 37,
    "start_time": "2023-04-21T05:34:51.023Z"
   },
   {
    "duration": 56,
    "start_time": "2023-04-21T05:34:51.062Z"
   },
   {
    "duration": 46,
    "start_time": "2023-04-21T05:34:51.120Z"
   },
   {
    "duration": 7,
    "start_time": "2023-04-21T05:34:51.167Z"
   },
   {
    "duration": 36,
    "start_time": "2023-04-21T05:34:51.175Z"
   },
   {
    "duration": 26,
    "start_time": "2023-04-21T05:34:51.212Z"
   },
   {
    "duration": 16,
    "start_time": "2023-04-21T05:34:51.240Z"
   },
   {
    "duration": 35,
    "start_time": "2023-04-21T05:34:51.258Z"
   },
   {
    "duration": 16,
    "start_time": "2023-04-21T05:34:51.296Z"
   },
   {
    "duration": 16,
    "start_time": "2023-04-21T05:34:51.314Z"
   },
   {
    "duration": 12,
    "start_time": "2023-04-21T05:34:51.331Z"
   },
   {
    "duration": 16,
    "start_time": "2023-04-21T05:34:51.345Z"
   },
   {
    "duration": 24,
    "start_time": "2023-04-21T05:34:51.363Z"
   },
   {
    "duration": 15,
    "start_time": "2023-04-21T05:34:51.389Z"
   },
   {
    "duration": 11,
    "start_time": "2023-04-21T05:34:51.405Z"
   },
   {
    "duration": 37,
    "start_time": "2023-04-21T05:34:51.418Z"
   },
   {
    "duration": 30,
    "start_time": "2023-04-21T05:34:51.457Z"
   },
   {
    "duration": 5,
    "start_time": "2023-04-21T05:35:17.868Z"
   },
   {
    "duration": 3,
    "start_time": "2023-04-21T05:35:25.218Z"
   },
   {
    "duration": 5,
    "start_time": "2023-04-21T05:35:32.592Z"
   },
   {
    "duration": 2,
    "start_time": "2023-04-21T05:35:54.810Z"
   },
   {
    "duration": 9,
    "start_time": "2023-04-21T05:36:04.044Z"
   },
   {
    "duration": 4,
    "start_time": "2023-04-21T05:36:08.561Z"
   },
   {
    "duration": 4,
    "start_time": "2023-04-21T05:36:25.811Z"
   },
   {
    "duration": 7,
    "start_time": "2023-04-21T05:36:31.654Z"
   },
   {
    "duration": 4,
    "start_time": "2023-04-21T05:36:35.551Z"
   },
   {
    "duration": 11,
    "start_time": "2023-04-21T05:36:42.796Z"
   },
   {
    "duration": 6,
    "start_time": "2023-04-21T05:36:46.510Z"
   },
   {
    "duration": 333,
    "start_time": "2023-04-21T05:37:09.366Z"
   },
   {
    "duration": 5,
    "start_time": "2023-04-21T05:37:33.446Z"
   },
   {
    "duration": 5,
    "start_time": "2023-04-21T05:37:42.357Z"
   },
   {
    "duration": 6,
    "start_time": "2023-04-21T05:37:50.142Z"
   },
   {
    "duration": 3,
    "start_time": "2023-04-21T05:37:54.736Z"
   },
   {
    "duration": 4,
    "start_time": "2023-04-21T05:37:55.059Z"
   },
   {
    "duration": 2,
    "start_time": "2023-04-21T05:37:55.796Z"
   },
   {
    "duration": 7,
    "start_time": "2023-04-21T05:37:56.435Z"
   },
   {
    "duration": 14,
    "start_time": "2023-04-21T05:37:57.012Z"
   },
   {
    "duration": 5,
    "start_time": "2023-04-21T05:37:58.058Z"
   },
   {
    "duration": 3,
    "start_time": "2023-04-21T05:38:50.517Z"
   },
   {
    "duration": 3,
    "start_time": "2023-04-21T05:38:51.205Z"
   },
   {
    "duration": 3,
    "start_time": "2023-04-21T05:38:52.513Z"
   },
   {
    "duration": 2761869,
    "start_time": "2023-04-21T05:39:13.316Z"
   },
   {
    "duration": 4,
    "start_time": "2023-04-21T06:27:12.630Z"
   },
   {
    "duration": 58,
    "start_time": "2023-04-21T06:27:12.636Z"
   },
   {
    "duration": 12,
    "start_time": "2023-04-21T06:27:12.696Z"
   },
   {
    "duration": 11,
    "start_time": "2023-04-21T06:27:12.709Z"
   },
   {
    "duration": 5,
    "start_time": "2023-04-21T06:27:12.722Z"
   },
   {
    "duration": 11,
    "start_time": "2023-04-21T06:27:12.729Z"
   },
   {
    "duration": 35,
    "start_time": "2023-04-21T06:27:12.743Z"
   },
   {
    "duration": 22,
    "start_time": "2023-04-21T06:27:12.780Z"
   },
   {
    "duration": 14,
    "start_time": "2023-04-21T06:27:12.803Z"
   },
   {
    "duration": 296,
    "start_time": "2023-04-21T06:27:12.819Z"
   },
   {
    "duration": 4,
    "start_time": "2023-04-21T06:27:13.117Z"
   },
   {
    "duration": 8,
    "start_time": "2023-04-21T06:27:13.123Z"
   },
   {
    "duration": 1067,
    "start_time": "2023-04-21T06:27:13.133Z"
   },
   {
    "duration": 697,
    "start_time": "2023-04-21T06:27:14.204Z"
   },
   {
    "duration": 7,
    "start_time": "2023-04-21T06:27:14.911Z"
   },
   {
    "duration": 41,
    "start_time": "2023-04-21T06:27:14.920Z"
   },
   {
    "duration": 26,
    "start_time": "2023-04-21T06:27:14.963Z"
   },
   {
    "duration": 48,
    "start_time": "2023-04-21T06:27:14.992Z"
   },
   {
    "duration": 32,
    "start_time": "2023-04-21T06:27:15.044Z"
   },
   {
    "duration": 53,
    "start_time": "2023-04-21T06:27:15.079Z"
   },
   {
    "duration": 17,
    "start_time": "2023-04-21T06:27:15.134Z"
   },
   {
    "duration": 12,
    "start_time": "2023-04-21T06:27:15.153Z"
   },
   {
    "duration": 20,
    "start_time": "2023-04-21T06:27:15.167Z"
   },
   {
    "duration": 19,
    "start_time": "2023-04-21T06:27:15.189Z"
   },
   {
    "duration": 14,
    "start_time": "2023-04-21T06:27:15.210Z"
   },
   {
    "duration": 19,
    "start_time": "2023-04-21T06:27:15.226Z"
   },
   {
    "duration": 24,
    "start_time": "2023-04-21T06:27:15.247Z"
   },
   {
    "duration": 17,
    "start_time": "2023-04-21T06:27:15.273Z"
   },
   {
    "duration": 12,
    "start_time": "2023-04-21T06:27:15.292Z"
   },
   {
    "duration": 14,
    "start_time": "2023-04-21T06:27:15.306Z"
   },
   {
    "duration": 49,
    "start_time": "2023-04-21T06:27:15.322Z"
   },
   {
    "duration": 26,
    "start_time": "2023-04-21T06:27:15.373Z"
   },
   {
    "duration": 39,
    "start_time": "2023-04-21T06:27:15.401Z"
   },
   {
    "duration": 28,
    "start_time": "2023-04-21T06:27:15.442Z"
   },
   {
    "duration": 17,
    "start_time": "2023-04-21T06:27:15.471Z"
   },
   {
    "duration": 13,
    "start_time": "2023-04-21T06:27:15.489Z"
   },
   {
    "duration": 12,
    "start_time": "2023-04-21T06:27:15.504Z"
   },
   {
    "duration": 34,
    "start_time": "2023-04-21T06:27:15.518Z"
   },
   {
    "duration": 40,
    "start_time": "2023-04-21T06:27:15.554Z"
   },
   {
    "duration": 29,
    "start_time": "2023-04-21T06:27:15.596Z"
   },
   {
    "duration": 16,
    "start_time": "2023-04-21T06:27:15.630Z"
   },
   {
    "duration": 23,
    "start_time": "2023-04-21T06:27:15.648Z"
   },
   {
    "duration": 5,
    "start_time": "2023-04-21T06:27:15.674Z"
   },
   {
    "duration": 33,
    "start_time": "2023-04-21T06:27:15.681Z"
   },
   {
    "duration": 13,
    "start_time": "2023-04-21T06:27:15.716Z"
   },
   {
    "duration": 15,
    "start_time": "2023-04-21T06:27:15.731Z"
   },
   {
    "duration": 154,
    "start_time": "2023-04-21T06:27:15.747Z"
   },
   {
    "duration": 188,
    "start_time": "2023-04-21T06:27:15.904Z"
   },
   {
    "duration": 23,
    "start_time": "2023-04-21T06:27:16.094Z"
   },
   {
    "duration": 32,
    "start_time": "2023-04-21T06:27:16.119Z"
   },
   {
    "duration": 50,
    "start_time": "2023-04-21T06:27:16.154Z"
   },
   {
    "duration": 109,
    "start_time": "2023-04-21T06:27:16.207Z"
   },
   {
    "duration": 11,
    "start_time": "2023-04-21T06:27:16.318Z"
   },
   {
    "duration": 0,
    "start_time": "2023-04-21T06:27:16.331Z"
   },
   {
    "duration": 0,
    "start_time": "2023-04-21T06:27:16.332Z"
   },
   {
    "duration": 0,
    "start_time": "2023-04-21T06:27:16.334Z"
   },
   {
    "duration": 0,
    "start_time": "2023-04-21T06:27:16.335Z"
   },
   {
    "duration": 0,
    "start_time": "2023-04-21T06:27:16.336Z"
   },
   {
    "duration": 3,
    "start_time": "2023-04-21T06:27:47.980Z"
   },
   {
    "duration": 66,
    "start_time": "2023-04-21T06:27:47.986Z"
   },
   {
    "duration": 12,
    "start_time": "2023-04-21T06:27:48.054Z"
   },
   {
    "duration": 31,
    "start_time": "2023-04-21T06:27:48.067Z"
   },
   {
    "duration": 5,
    "start_time": "2023-04-21T06:27:48.101Z"
   },
   {
    "duration": 16,
    "start_time": "2023-04-21T06:27:48.107Z"
   },
   {
    "duration": 18,
    "start_time": "2023-04-21T06:27:48.124Z"
   },
   {
    "duration": 24,
    "start_time": "2023-04-21T06:27:48.143Z"
   },
   {
    "duration": 11,
    "start_time": "2023-04-21T06:27:48.168Z"
   },
   {
    "duration": 246,
    "start_time": "2023-04-21T06:27:48.181Z"
   },
   {
    "duration": 4,
    "start_time": "2023-04-21T06:27:48.430Z"
   },
   {
    "duration": 18,
    "start_time": "2023-04-21T06:27:48.435Z"
   },
   {
    "duration": 745,
    "start_time": "2023-04-21T06:27:48.455Z"
   },
   {
    "duration": 683,
    "start_time": "2023-04-21T06:27:49.202Z"
   },
   {
    "duration": 5,
    "start_time": "2023-04-21T06:27:49.886Z"
   },
   {
    "duration": 14,
    "start_time": "2023-04-21T06:27:49.893Z"
   },
   {
    "duration": 24,
    "start_time": "2023-04-21T06:27:49.908Z"
   },
   {
    "duration": 31,
    "start_time": "2023-04-21T06:27:49.933Z"
   },
   {
    "duration": 7,
    "start_time": "2023-04-21T06:27:49.972Z"
   },
   {
    "duration": 33,
    "start_time": "2023-04-21T06:27:49.981Z"
   },
   {
    "duration": 7,
    "start_time": "2023-04-21T06:27:50.016Z"
   },
   {
    "duration": 24,
    "start_time": "2023-04-21T06:27:50.025Z"
   },
   {
    "duration": 36,
    "start_time": "2023-04-21T06:27:50.052Z"
   },
   {
    "duration": 6,
    "start_time": "2023-04-21T06:27:50.090Z"
   },
   {
    "duration": 9,
    "start_time": "2023-04-21T06:27:50.097Z"
   },
   {
    "duration": 6,
    "start_time": "2023-04-21T06:27:50.108Z"
   },
   {
    "duration": 10,
    "start_time": "2023-04-21T06:27:50.115Z"
   },
   {
    "duration": 21,
    "start_time": "2023-04-21T06:27:50.127Z"
   },
   {
    "duration": 14,
    "start_time": "2023-04-21T06:27:50.152Z"
   },
   {
    "duration": 7,
    "start_time": "2023-04-21T06:27:50.167Z"
   },
   {
    "duration": 9,
    "start_time": "2023-04-21T06:27:50.176Z"
   },
   {
    "duration": 11,
    "start_time": "2023-04-21T06:27:50.186Z"
   },
   {
    "duration": 9,
    "start_time": "2023-04-21T06:27:50.199Z"
   },
   {
    "duration": 13,
    "start_time": "2023-04-21T06:27:50.210Z"
   },
   {
    "duration": 11,
    "start_time": "2023-04-21T06:27:50.225Z"
   },
   {
    "duration": 7,
    "start_time": "2023-04-21T06:27:50.238Z"
   },
   {
    "duration": 4,
    "start_time": "2023-04-21T06:27:50.247Z"
   },
   {
    "duration": 4,
    "start_time": "2023-04-21T06:27:50.253Z"
   },
   {
    "duration": 15,
    "start_time": "2023-04-21T06:27:50.258Z"
   },
   {
    "duration": 7,
    "start_time": "2023-04-21T06:27:50.275Z"
   },
   {
    "duration": 7,
    "start_time": "2023-04-21T06:27:50.283Z"
   },
   {
    "duration": 14,
    "start_time": "2023-04-21T06:27:50.292Z"
   },
   {
    "duration": 2,
    "start_time": "2023-04-21T06:27:50.308Z"
   },
   {
    "duration": 4,
    "start_time": "2023-04-21T06:27:50.312Z"
   },
   {
    "duration": 4,
    "start_time": "2023-04-21T06:27:50.317Z"
   },
   {
    "duration": 12,
    "start_time": "2023-04-21T06:27:50.323Z"
   },
   {
    "duration": 146,
    "start_time": "2023-04-21T06:27:50.336Z"
   },
   {
    "duration": 92,
    "start_time": "2023-04-21T06:27:50.485Z"
   },
   {
    "duration": 11,
    "start_time": "2023-04-21T06:27:50.579Z"
   },
   {
    "duration": 12,
    "start_time": "2023-04-21T06:27:50.591Z"
   },
   {
    "duration": 8,
    "start_time": "2023-04-21T06:27:50.605Z"
   },
   {
    "duration": 70205,
    "start_time": "2023-04-21T06:27:50.615Z"
   },
   {
    "duration": 10,
    "start_time": "2023-04-21T06:29:00.822Z"
   },
   {
    "duration": 0,
    "start_time": "2023-04-21T06:29:00.834Z"
   },
   {
    "duration": 0,
    "start_time": "2023-04-21T06:29:00.835Z"
   },
   {
    "duration": 0,
    "start_time": "2023-04-21T06:29:00.837Z"
   },
   {
    "duration": 0,
    "start_time": "2023-04-21T06:29:00.838Z"
   },
   {
    "duration": 0,
    "start_time": "2023-04-21T06:29:00.875Z"
   },
   {
    "duration": 0,
    "start_time": "2023-04-21T06:29:00.876Z"
   },
   {
    "duration": 64,
    "start_time": "2023-04-21T06:29:21.071Z"
   },
   {
    "duration": 3,
    "start_time": "2023-04-21T06:30:34.628Z"
   },
   {
    "duration": 3,
    "start_time": "2023-04-21T06:33:29.990Z"
   },
   {
    "duration": 6,
    "start_time": "2023-04-21T06:37:20.664Z"
   },
   {
    "duration": 9,
    "start_time": "2023-04-21T06:44:33.788Z"
   },
   {
    "duration": 2,
    "start_time": "2023-04-21T06:44:45.329Z"
   },
   {
    "duration": 2,
    "start_time": "2023-04-21T06:44:49.641Z"
   },
   {
    "duration": 10,
    "start_time": "2023-04-21T06:46:28.002Z"
   },
   {
    "duration": 2,
    "start_time": "2023-04-21T06:47:01.830Z"
   },
   {
    "duration": 3,
    "start_time": "2023-04-21T06:47:02.384Z"
   },
   {
    "duration": 11,
    "start_time": "2023-04-21T06:47:02.946Z"
   },
   {
    "duration": 3,
    "start_time": "2023-04-21T06:47:07.245Z"
   },
   {
    "duration": 8,
    "start_time": "2023-04-21T06:47:08.642Z"
   },
   {
    "duration": 9,
    "start_time": "2023-04-21T06:47:09.042Z"
   },
   {
    "duration": 4,
    "start_time": "2023-04-21T06:47:11.292Z"
   },
   {
    "duration": 4,
    "start_time": "2023-04-21T06:47:19.652Z"
   },
   {
    "duration": 3,
    "start_time": "2023-04-21T06:47:22.233Z"
   },
   {
    "duration": 3,
    "start_time": "2023-04-21T06:47:23.646Z"
   },
   {
    "duration": 2,
    "start_time": "2023-04-21T06:47:32.566Z"
   },
   {
    "duration": 5,
    "start_time": "2023-04-21T06:48:07.645Z"
   },
   {
    "duration": 4,
    "start_time": "2023-04-21T06:48:11.288Z"
   },
   {
    "duration": 3,
    "start_time": "2023-04-21T06:48:11.744Z"
   },
   {
    "duration": 26320,
    "start_time": "2023-04-21T06:48:12.656Z"
   },
   {
    "duration": 6,
    "start_time": "2023-04-21T06:48:51.440Z"
   },
   {
    "duration": 3,
    "start_time": "2023-04-21T06:48:55.412Z"
   },
   {
    "duration": 4,
    "start_time": "2023-04-21T06:48:55.961Z"
   },
   {
    "duration": 13599216,
    "start_time": "2023-04-21T06:49:05.252Z"
   },
   {
    "duration": 5,
    "start_time": "2023-04-21T11:12:58.431Z"
   },
   {
    "duration": 3,
    "start_time": "2023-04-21T11:13:13.722Z"
   },
   {
    "duration": 3,
    "start_time": "2023-04-21T11:13:14.620Z"
   },
   {
    "duration": 5,
    "start_time": "2023-04-21T11:13:30.313Z"
   },
   {
    "duration": 2,
    "start_time": "2023-04-21T11:13:35.214Z"
   },
   {
    "duration": 8,
    "start_time": "2023-04-21T11:13:35.643Z"
   },
   {
    "duration": 41,
    "start_time": "2023-04-21T11:13:37.133Z"
   },
   {
    "duration": 3,
    "start_time": "2023-04-21T11:13:42.894Z"
   },
   {
    "duration": 3,
    "start_time": "2023-04-21T11:13:43.338Z"
   },
   {
    "duration": 3385478,
    "start_time": "2023-04-21T11:13:43.905Z"
   },
   {
    "duration": 22,
    "start_time": "2023-04-22T00:37:25.543Z"
   },
   {
    "duration": 6,
    "start_time": "2023-04-22T00:40:02.914Z"
   },
   {
    "duration": 5,
    "start_time": "2023-04-22T00:42:00.579Z"
   },
   {
    "duration": 6,
    "start_time": "2023-04-22T00:42:18.210Z"
   },
   {
    "duration": 3,
    "start_time": "2023-04-22T00:42:36.412Z"
   },
   {
    "duration": 2,
    "start_time": "2023-04-22T00:42:39.163Z"
   },
   {
    "duration": 5,
    "start_time": "2023-04-22T00:44:01.294Z"
   },
   {
    "duration": 3,
    "start_time": "2023-04-22T00:44:29.406Z"
   },
   {
    "duration": 2,
    "start_time": "2023-04-22T00:44:49.543Z"
   },
   {
    "duration": 3,
    "start_time": "2023-04-22T00:44:57.094Z"
   },
   {
    "duration": 3,
    "start_time": "2023-04-22T00:45:06.913Z"
   },
   {
    "duration": 53,
    "start_time": "2023-04-22T00:46:14.433Z"
   },
   {
    "duration": 49,
    "start_time": "2023-04-22T00:46:40.697Z"
   },
   {
    "duration": 3,
    "start_time": "2023-04-22T00:49:26.403Z"
   },
   {
    "duration": 6,
    "start_time": "2023-04-22T00:55:59.427Z"
   },
   {
    "duration": 5,
    "start_time": "2023-04-22T00:59:50.687Z"
   },
   {
    "duration": 4,
    "start_time": "2023-04-22T00:59:55.928Z"
   },
   {
    "duration": 2,
    "start_time": "2023-04-22T00:59:56.575Z"
   },
   {
    "duration": 587715,
    "start_time": "2023-04-22T00:59:57.158Z"
   },
   {
    "duration": 3,
    "start_time": "2023-04-22T01:12:14.127Z"
   },
   {
    "duration": 2,
    "start_time": "2023-04-22T01:13:32.575Z"
   },
   {
    "duration": 4,
    "start_time": "2023-04-22T01:13:37.503Z"
   },
   {
    "duration": 4,
    "start_time": "2023-04-22T01:14:18.519Z"
   },
   {
    "duration": 3,
    "start_time": "2023-04-22T01:14:44.392Z"
   },
   {
    "duration": 11,
    "start_time": "2023-04-22T01:17:57.620Z"
   },
   {
    "duration": 4,
    "start_time": "2023-04-22T01:18:03.188Z"
   },
   {
    "duration": 6,
    "start_time": "2023-04-22T01:18:11.020Z"
   },
   {
    "duration": 3,
    "start_time": "2023-04-22T01:21:54.032Z"
   },
   {
    "duration": 5,
    "start_time": "2023-04-22T01:21:55.872Z"
   },
   {
    "duration": 5,
    "start_time": "2023-04-22T01:21:56.728Z"
   },
   {
    "duration": 8,
    "start_time": "2023-04-22T01:24:03.186Z"
   },
   {
    "duration": 3,
    "start_time": "2023-04-22T01:24:19.459Z"
   },
   {
    "duration": 4,
    "start_time": "2023-04-22T01:24:23.778Z"
   },
   {
    "duration": 3,
    "start_time": "2023-04-22T01:24:32.332Z"
   },
   {
    "duration": 4,
    "start_time": "2023-04-22T01:24:48.570Z"
   },
   {
    "duration": 3,
    "start_time": "2023-04-22T01:25:15.124Z"
   },
   {
    "duration": 3,
    "start_time": "2023-04-22T01:25:35.700Z"
   },
   {
    "duration": 4,
    "start_time": "2023-04-22T01:25:36.837Z"
   },
   {
    "duration": 3,
    "start_time": "2023-04-22T01:27:01.416Z"
   },
   {
    "duration": 13,
    "start_time": "2023-04-22T01:29:39.789Z"
   },
   {
    "duration": 7,
    "start_time": "2023-04-22T01:31:23.667Z"
   },
   {
    "duration": 8,
    "start_time": "2023-04-22T01:31:34.219Z"
   },
   {
    "duration": 6,
    "start_time": "2023-04-22T01:35:45.104Z"
   },
   {
    "duration": 3,
    "start_time": "2023-04-22T01:43:41.882Z"
   },
   {
    "duration": 8,
    "start_time": "2023-04-22T01:44:18.908Z"
   },
   {
    "duration": 9,
    "start_time": "2023-04-22T01:44:23.283Z"
   },
   {
    "duration": 4,
    "start_time": "2023-04-22T01:44:37.395Z"
   },
   {
    "duration": 2,
    "start_time": "2023-04-22T01:46:46.782Z"
   },
   {
    "duration": 2,
    "start_time": "2023-04-22T01:46:47.426Z"
   },
   {
    "duration": 6,
    "start_time": "2023-04-22T01:47:52.647Z"
   },
   {
    "duration": 7099,
    "start_time": "2023-04-22T01:48:09.295Z"
   },
   {
    "duration": 2,
    "start_time": "2023-04-22T01:49:20.545Z"
   },
   {
    "duration": 2,
    "start_time": "2023-04-22T01:49:21.097Z"
   },
   {
    "duration": 29,
    "start_time": "2023-04-22T01:49:21.745Z"
   },
   {
    "duration": 7,
    "start_time": "2023-04-22T01:49:57.161Z"
   },
   {
    "duration": 6,
    "start_time": "2023-04-22T01:50:06.289Z"
   },
   {
    "duration": 4,
    "start_time": "2023-04-22T01:58:12.330Z"
   },
   {
    "duration": 6,
    "start_time": "2023-04-22T01:58:12.899Z"
   },
   {
    "duration": 8,
    "start_time": "2023-04-22T01:58:37.866Z"
   },
   {
    "duration": 10,
    "start_time": "2023-04-22T01:58:39.386Z"
   },
   {
    "duration": 7,
    "start_time": "2023-04-22T01:59:26.948Z"
   },
   {
    "duration": 8,
    "start_time": "2023-04-22T01:59:28.284Z"
   },
   {
    "duration": 11,
    "start_time": "2023-04-22T02:01:16.237Z"
   },
   {
    "duration": 14,
    "start_time": "2023-04-22T02:01:33.126Z"
   },
   {
    "duration": 4,
    "start_time": "2023-04-22T02:01:43.502Z"
   },
   {
    "duration": 5,
    "start_time": "2023-04-22T02:01:55.918Z"
   },
   {
    "duration": 3,
    "start_time": "2023-04-22T02:02:50.959Z"
   },
   {
    "duration": 3,
    "start_time": "2023-04-22T02:03:27.577Z"
   },
   {
    "duration": 5,
    "start_time": "2023-04-22T02:03:38.839Z"
   },
   {
    "duration": 134,
    "start_time": "2023-04-22T02:05:03.546Z"
   },
   {
    "duration": 4,
    "start_time": "2023-04-22T02:05:08.475Z"
   },
   {
    "duration": 4,
    "start_time": "2023-04-22T02:05:20.898Z"
   },
   {
    "duration": 14,
    "start_time": "2023-04-22T02:05:43.091Z"
   },
   {
    "duration": 4,
    "start_time": "2023-04-22T02:05:43.843Z"
   },
   {
    "duration": 4,
    "start_time": "2023-04-22T02:05:57.058Z"
   },
   {
    "duration": 74,
    "start_time": "2023-04-22T02:05:58.498Z"
   },
   {
    "duration": 9,
    "start_time": "2023-04-22T02:06:31.522Z"
   },
   {
    "duration": 4,
    "start_time": "2023-04-22T02:06:32.220Z"
   },
   {
    "duration": 3,
    "start_time": "2023-04-22T02:08:53.175Z"
   },
   {
    "duration": 6,
    "start_time": "2023-04-22T02:09:55.264Z"
   },
   {
    "duration": 2,
    "start_time": "2023-04-22T02:10:03.567Z"
   },
   {
    "duration": 3,
    "start_time": "2023-04-22T02:10:04.863Z"
   },
   {
    "duration": 23114,
    "start_time": "2023-04-22T02:10:06.760Z"
   },
   {
    "duration": 6,
    "start_time": "2023-04-22T02:12:25.346Z"
   },
   {
    "duration": 2,
    "start_time": "2023-04-22T02:12:32.506Z"
   },
   {
    "duration": 2,
    "start_time": "2023-04-22T02:12:37.466Z"
   },
   {
    "duration": 12132,
    "start_time": "2023-04-22T02:12:38.538Z"
   },
   {
    "duration": 7,
    "start_time": "2023-04-22T02:13:52.299Z"
   },
   {
    "duration": 2,
    "start_time": "2023-04-22T02:14:46.036Z"
   },
   {
    "duration": 3,
    "start_time": "2023-04-22T02:15:21.141Z"
   },
   {
    "duration": 3,
    "start_time": "2023-04-22T02:15:21.701Z"
   },
   {
    "duration": 685415,
    "start_time": "2023-04-22T02:15:22.366Z"
   },
   {
    "duration": 3,
    "start_time": "2023-04-22T02:29:28.764Z"
   },
   {
    "duration": 9,
    "start_time": "2023-04-22T02:30:18.303Z"
   },
   {
    "duration": 8,
    "start_time": "2023-04-22T02:30:24.988Z"
   },
   {
    "duration": 5,
    "start_time": "2023-04-22T02:30:47.646Z"
   },
   {
    "duration": 7,
    "start_time": "2023-04-22T02:31:06.685Z"
   },
   {
    "duration": 10,
    "start_time": "2023-04-22T02:31:07.685Z"
   },
   {
    "duration": 4,
    "start_time": "2023-04-22T02:31:24.949Z"
   },
   {
    "duration": 10,
    "start_time": "2023-04-22T02:31:40.888Z"
   },
   {
    "duration": 5,
    "start_time": "2023-04-22T02:31:41.469Z"
   },
   {
    "duration": 2894,
    "start_time": "2023-04-22T02:32:45.984Z"
   },
   {
    "duration": 107,
    "start_time": "2023-04-22T02:33:03.871Z"
   },
   {
    "duration": 4,
    "start_time": "2023-04-22T02:33:11.639Z"
   },
   {
    "duration": 49,
    "start_time": "2023-04-22T02:33:26.424Z"
   },
   {
    "duration": 5,
    "start_time": "2023-04-22T02:33:27.608Z"
   },
   {
    "duration": 588,
    "start_time": "2023-04-22T02:34:32.088Z"
   },
   {
    "duration": 7,
    "start_time": "2023-04-22T02:34:34.024Z"
   },
   {
    "duration": 4,
    "start_time": "2023-04-22T02:34:34.593Z"
   },
   {
    "duration": 9,
    "start_time": "2023-04-22T02:35:56.410Z"
   },
   {
    "duration": 4,
    "start_time": "2023-04-22T02:36:08.779Z"
   },
   {
    "duration": 4386,
    "start_time": "2023-04-22T02:36:48.619Z"
   },
   {
    "duration": 527,
    "start_time": "2023-04-22T02:37:17.245Z"
   },
   {
    "duration": 9,
    "start_time": "2023-04-22T02:37:22.099Z"
   },
   {
    "duration": 4,
    "start_time": "2023-04-22T02:37:26.260Z"
   },
   {
    "duration": 5,
    "start_time": "2023-04-22T02:37:46.574Z"
   },
   {
    "duration": 5,
    "start_time": "2023-04-22T02:37:54.685Z"
   },
   {
    "duration": 4195,
    "start_time": "2023-04-22T02:38:07.612Z"
   },
   {
    "duration": 6,
    "start_time": "2023-04-22T02:38:20.309Z"
   },
   {
    "duration": 4,
    "start_time": "2023-04-22T02:38:21.228Z"
   },
   {
    "duration": 3849,
    "start_time": "2023-04-22T02:39:08.141Z"
   },
   {
    "duration": 9,
    "start_time": "2023-04-22T02:39:14.734Z"
   },
   {
    "duration": 5,
    "start_time": "2023-04-22T02:39:15.581Z"
   },
   {
    "duration": 6,
    "start_time": "2023-04-22T02:39:29.974Z"
   },
   {
    "duration": 6,
    "start_time": "2023-04-22T02:39:39.359Z"
   },
   {
    "duration": 5,
    "start_time": "2023-04-22T02:39:46.607Z"
   },
   {
    "duration": 6,
    "start_time": "2023-04-22T02:40:00.791Z"
   },
   {
    "duration": 4,
    "start_time": "2023-04-22T02:40:07.704Z"
   },
   {
    "duration": 8,
    "start_time": "2023-04-22T02:41:48.248Z"
   },
   {
    "duration": 469,
    "start_time": "2023-04-22T02:43:09.905Z"
   },
   {
    "duration": 8,
    "start_time": "2023-04-22T02:43:30.979Z"
   },
   {
    "duration": 446,
    "start_time": "2023-04-22T02:43:44.427Z"
   },
   {
    "duration": 10,
    "start_time": "2023-04-22T02:43:54.001Z"
   },
   {
    "duration": 4,
    "start_time": "2023-04-22T02:44:02.267Z"
   },
   {
    "duration": 7,
    "start_time": "2023-04-22T02:44:34.291Z"
   },
   {
    "duration": 21,
    "start_time": "2023-04-22T02:44:34.781Z"
   },
   {
    "duration": 4,
    "start_time": "2023-04-22T02:44:46.319Z"
   },
   {
    "duration": 103,
    "start_time": "2023-04-22T02:44:46.324Z"
   },
   {
    "duration": 10,
    "start_time": "2023-04-22T02:44:46.429Z"
   },
   {
    "duration": 11,
    "start_time": "2023-04-22T02:44:46.441Z"
   },
   {
    "duration": 4,
    "start_time": "2023-04-22T02:44:46.455Z"
   },
   {
    "duration": 11,
    "start_time": "2023-04-22T02:44:46.460Z"
   },
   {
    "duration": 10,
    "start_time": "2023-04-22T02:44:46.472Z"
   },
   {
    "duration": 6,
    "start_time": "2023-04-22T02:44:46.483Z"
   },
   {
    "duration": 9,
    "start_time": "2023-04-22T02:44:46.490Z"
   },
   {
    "duration": 226,
    "start_time": "2023-04-22T02:44:46.501Z"
   },
   {
    "duration": 4,
    "start_time": "2023-04-22T02:44:46.729Z"
   },
   {
    "duration": 34,
    "start_time": "2023-04-22T02:44:46.734Z"
   },
   {
    "duration": 730,
    "start_time": "2023-04-22T02:44:46.769Z"
   },
   {
    "duration": 642,
    "start_time": "2023-04-22T02:44:47.501Z"
   },
   {
    "duration": 5,
    "start_time": "2023-04-22T02:44:48.144Z"
   },
   {
    "duration": 22,
    "start_time": "2023-04-22T02:44:48.150Z"
   },
   {
    "duration": 18,
    "start_time": "2023-04-22T02:44:48.173Z"
   },
   {
    "duration": 5,
    "start_time": "2023-04-22T02:45:03.500Z"
   },
   {
    "duration": 18,
    "start_time": "2023-04-22T02:45:04.198Z"
   },
   {
    "duration": 6,
    "start_time": "2023-04-22T02:45:07.869Z"
   },
   {
    "duration": 19,
    "start_time": "2023-04-22T02:45:08.391Z"
   },
   {
    "duration": 4,
    "start_time": "2023-04-22T02:45:12.564Z"
   },
   {
    "duration": 3,
    "start_time": "2023-04-22T02:45:13.260Z"
   },
   {
    "duration": 3,
    "start_time": "2023-04-22T02:45:13.588Z"
   },
   {
    "duration": 3,
    "start_time": "2023-04-22T02:45:13.916Z"
   },
   {
    "duration": 3,
    "start_time": "2023-04-22T02:45:14.685Z"
   },
   {
    "duration": 4,
    "start_time": "2023-04-22T02:45:14.988Z"
   },
   {
    "duration": 4,
    "start_time": "2023-04-22T02:45:15.300Z"
   },
   {
    "duration": 3,
    "start_time": "2023-04-22T02:45:15.636Z"
   },
   {
    "duration": 4,
    "start_time": "2023-04-22T02:45:18.757Z"
   },
   {
    "duration": 4,
    "start_time": "2023-04-22T02:45:19.309Z"
   },
   {
    "duration": 6,
    "start_time": "2023-04-22T02:45:20.749Z"
   },
   {
    "duration": 4,
    "start_time": "2023-04-22T02:45:24.803Z"
   },
   {
    "duration": 3,
    "start_time": "2023-04-22T02:45:25.244Z"
   },
   {
    "duration": 4,
    "start_time": "2023-04-22T02:45:25.749Z"
   },
   {
    "duration": 3,
    "start_time": "2023-04-22T02:45:26.245Z"
   },
   {
    "duration": 3,
    "start_time": "2023-04-22T02:45:26.717Z"
   },
   {
    "duration": 3,
    "start_time": "2023-04-22T02:45:27.229Z"
   },
   {
    "duration": 3,
    "start_time": "2023-04-22T02:45:32.124Z"
   },
   {
    "duration": 4,
    "start_time": "2023-04-22T02:45:32.629Z"
   },
   {
    "duration": 3,
    "start_time": "2023-04-22T02:45:34.469Z"
   },
   {
    "duration": 3,
    "start_time": "2023-04-22T02:45:34.988Z"
   },
   {
    "duration": 10,
    "start_time": "2023-04-22T02:45:39.180Z"
   },
   {
    "duration": 2,
    "start_time": "2023-04-22T02:45:52.963Z"
   },
   {
    "duration": 2,
    "start_time": "2023-04-22T02:45:53.429Z"
   },
   {
    "duration": 498,
    "start_time": "2023-04-22T02:46:37.174Z"
   },
   {
    "duration": 10,
    "start_time": "2023-04-22T02:46:38.783Z"
   },
   {
    "duration": 4,
    "start_time": "2023-04-22T02:46:40.022Z"
   },
   {
    "duration": 7,
    "start_time": "2023-04-22T02:47:58.895Z"
   },
   {
    "duration": 3,
    "start_time": "2023-04-22T02:50:12.208Z"
   },
   {
    "duration": 2,
    "start_time": "2023-04-22T02:50:12.456Z"
   },
   {
    "duration": 2,
    "start_time": "2023-04-22T02:50:12.911Z"
   },
   {
    "duration": 3,
    "start_time": "2023-04-22T02:50:13.104Z"
   },
   {
    "duration": 2,
    "start_time": "2023-04-22T02:50:13.298Z"
   },
   {
    "duration": 2,
    "start_time": "2023-04-22T02:50:13.497Z"
   },
   {
    "duration": 2,
    "start_time": "2023-04-22T02:50:14.242Z"
   },
   {
    "duration": 42,
    "start_time": "2023-04-22T02:50:42.241Z"
   },
   {
    "duration": 10,
    "start_time": "2023-04-22T02:50:51.170Z"
   },
   {
    "duration": 6,
    "start_time": "2023-04-22T02:51:53.716Z"
   },
   {
    "duration": 1284,
    "start_time": "2023-04-22T02:52:04.512Z"
   },
   {
    "duration": 44,
    "start_time": "2023-04-22T02:52:05.798Z"
   },
   {
    "duration": 10,
    "start_time": "2023-04-22T02:52:05.844Z"
   },
   {
    "duration": 8,
    "start_time": "2023-04-22T02:52:05.856Z"
   },
   {
    "duration": 14,
    "start_time": "2023-04-22T02:52:05.865Z"
   },
   {
    "duration": 20,
    "start_time": "2023-04-22T02:52:05.880Z"
   },
   {
    "duration": 20,
    "start_time": "2023-04-22T02:52:05.902Z"
   },
   {
    "duration": 6,
    "start_time": "2023-04-22T02:52:05.924Z"
   },
   {
    "duration": 18,
    "start_time": "2023-04-22T02:52:05.932Z"
   },
   {
    "duration": 262,
    "start_time": "2023-04-22T02:52:05.952Z"
   },
   {
    "duration": 4,
    "start_time": "2023-04-22T02:52:06.215Z"
   },
   {
    "duration": 15,
    "start_time": "2023-04-22T02:52:06.220Z"
   },
   {
    "duration": 711,
    "start_time": "2023-04-22T02:52:06.236Z"
   },
   {
    "duration": 547,
    "start_time": "2023-04-22T02:52:06.948Z"
   },
   {
    "duration": 4,
    "start_time": "2023-04-22T02:52:07.497Z"
   },
   {
    "duration": 7,
    "start_time": "2023-04-22T02:52:07.502Z"
   },
   {
    "duration": 12,
    "start_time": "2023-04-22T02:52:07.510Z"
   },
   {
    "duration": 19,
    "start_time": "2023-04-22T02:52:07.524Z"
   },
   {
    "duration": 5,
    "start_time": "2023-04-22T02:52:07.544Z"
   },
   {
    "duration": 35,
    "start_time": "2023-04-22T02:52:07.550Z"
   },
   {
    "duration": 4,
    "start_time": "2023-04-22T02:52:07.586Z"
   },
   {
    "duration": 6,
    "start_time": "2023-04-22T02:52:07.591Z"
   },
   {
    "duration": 8,
    "start_time": "2023-04-22T02:52:07.598Z"
   },
   {
    "duration": 5,
    "start_time": "2023-04-22T02:52:07.608Z"
   },
   {
    "duration": 7,
    "start_time": "2023-04-22T02:52:07.614Z"
   },
   {
    "duration": 4,
    "start_time": "2023-04-22T02:52:07.623Z"
   },
   {
    "duration": 6,
    "start_time": "2023-04-22T02:52:07.628Z"
   },
   {
    "duration": 3,
    "start_time": "2023-04-22T02:52:07.637Z"
   },
   {
    "duration": 6,
    "start_time": "2023-04-22T02:52:07.642Z"
   },
   {
    "duration": 5,
    "start_time": "2023-04-22T02:52:07.649Z"
   },
   {
    "duration": 5,
    "start_time": "2023-04-22T02:52:07.672Z"
   },
   {
    "duration": 5,
    "start_time": "2023-04-22T02:52:07.678Z"
   },
   {
    "duration": 4,
    "start_time": "2023-04-22T02:52:07.685Z"
   },
   {
    "duration": 4,
    "start_time": "2023-04-22T02:52:07.691Z"
   },
   {
    "duration": 4,
    "start_time": "2023-04-22T02:52:07.697Z"
   },
   {
    "duration": 5,
    "start_time": "2023-04-22T02:52:07.702Z"
   },
   {
    "duration": 8,
    "start_time": "2023-04-22T02:52:07.708Z"
   },
   {
    "duration": 6,
    "start_time": "2023-04-22T02:52:07.717Z"
   },
   {
    "duration": 4,
    "start_time": "2023-04-22T02:52:07.724Z"
   },
   {
    "duration": 5,
    "start_time": "2023-04-22T02:52:07.729Z"
   },
   {
    "duration": 6,
    "start_time": "2023-04-22T02:52:07.735Z"
   },
   {
    "duration": 37,
    "start_time": "2023-04-22T02:52:07.742Z"
   },
   {
    "duration": 3,
    "start_time": "2023-04-22T02:52:07.780Z"
   },
   {
    "duration": 5,
    "start_time": "2023-04-22T02:52:07.784Z"
   },
   {
    "duration": 7,
    "start_time": "2023-04-22T02:52:07.790Z"
   },
   {
    "duration": 6,
    "start_time": "2023-04-22T02:52:07.798Z"
   },
   {
    "duration": 8,
    "start_time": "2023-04-22T02:52:07.805Z"
   },
   {
    "duration": 9,
    "start_time": "2023-04-22T02:52:07.814Z"
   },
   {
    "duration": 4,
    "start_time": "2023-04-22T02:52:07.824Z"
   },
   {
    "duration": 5,
    "start_time": "2023-04-22T02:52:07.830Z"
   },
   {
    "duration": 139,
    "start_time": "2023-04-22T02:52:07.836Z"
   },
   {
    "duration": 95,
    "start_time": "2023-04-22T02:52:07.977Z"
   },
   {
    "duration": 8,
    "start_time": "2023-04-22T02:52:08.073Z"
   },
   {
    "duration": 44,
    "start_time": "2023-04-22T02:52:08.082Z"
   },
   {
    "duration": 495681,
    "start_time": "2023-04-22T02:52:08.128Z"
   },
   {
    "duration": 187,
    "start_time": "2023-04-22T03:00:23.812Z"
   },
   {
    "duration": 0,
    "start_time": "2023-04-22T03:00:24.000Z"
   },
   {
    "duration": 0,
    "start_time": "2023-04-22T03:00:24.001Z"
   },
   {
    "duration": 0,
    "start_time": "2023-04-22T03:00:24.002Z"
   },
   {
    "duration": 0,
    "start_time": "2023-04-22T03:00:24.002Z"
   },
   {
    "duration": 0,
    "start_time": "2023-04-22T03:00:24.003Z"
   },
   {
    "duration": 0,
    "start_time": "2023-04-22T03:00:24.004Z"
   },
   {
    "duration": 0,
    "start_time": "2023-04-22T03:00:24.005Z"
   },
   {
    "duration": 0,
    "start_time": "2023-04-22T03:00:24.006Z"
   },
   {
    "duration": 0,
    "start_time": "2023-04-22T03:00:24.007Z"
   },
   {
    "duration": 0,
    "start_time": "2023-04-22T03:00:24.007Z"
   },
   {
    "duration": 0,
    "start_time": "2023-04-22T03:00:24.008Z"
   },
   {
    "duration": 0,
    "start_time": "2023-04-22T03:00:24.009Z"
   },
   {
    "duration": 8,
    "start_time": "2023-04-22T03:36:10.728Z"
   },
   {
    "duration": 3,
    "start_time": "2023-04-22T03:36:22.896Z"
   },
   {
    "duration": 6,
    "start_time": "2023-04-22T03:36:22.901Z"
   },
   {
    "duration": 519863,
    "start_time": "2023-04-22T03:36:22.909Z"
   },
   {
    "duration": 9,
    "start_time": "2023-04-22T03:45:02.775Z"
   },
   {
    "duration": 41,
    "start_time": "2023-04-22T03:45:02.786Z"
   },
   {
    "duration": 3,
    "start_time": "2023-04-22T03:45:02.829Z"
   },
   {
    "duration": 17,
    "start_time": "2023-04-22T03:45:02.834Z"
   },
   {
    "duration": 14,
    "start_time": "2023-04-22T03:45:02.853Z"
   },
   {
    "duration": 20,
    "start_time": "2023-04-22T03:45:02.868Z"
   },
   {
    "duration": 24,
    "start_time": "2023-04-22T03:45:02.890Z"
   },
   {
    "duration": 12,
    "start_time": "2023-04-22T03:45:02.916Z"
   },
   {
    "duration": 9,
    "start_time": "2023-04-22T03:45:02.930Z"
   },
   {
    "duration": 16,
    "start_time": "2023-04-22T03:51:07.549Z"
   },
   {
    "duration": 17,
    "start_time": "2023-04-22T03:51:34.323Z"
   },
   {
    "duration": 13,
    "start_time": "2023-04-22T03:51:42.881Z"
   },
   {
    "duration": 4,
    "start_time": "2023-04-22T03:51:53.505Z"
   },
   {
    "duration": 16,
    "start_time": "2023-04-22T03:51:54.791Z"
   },
   {
    "duration": 3,
    "start_time": "2023-04-22T03:55:15.973Z"
   },
   {
    "duration": 9,
    "start_time": "2023-04-22T03:55:21.502Z"
   },
   {
    "duration": 3,
    "start_time": "2023-04-22T03:55:36.681Z"
   },
   {
    "duration": 4,
    "start_time": "2023-04-22T03:55:37.446Z"
   },
   {
    "duration": 9,
    "start_time": "2023-04-22T03:55:52.673Z"
   },
   {
    "duration": 5,
    "start_time": "2023-04-22T03:56:28.797Z"
   },
   {
    "duration": 11,
    "start_time": "2023-04-22T03:56:45.669Z"
   },
   {
    "duration": 4,
    "start_time": "2023-04-22T03:56:50.318Z"
   },
   {
    "duration": 4,
    "start_time": "2023-04-22T03:57:10.583Z"
   },
   {
    "duration": 4,
    "start_time": "2023-04-22T03:57:11.812Z"
   },
   {
    "duration": 4,
    "start_time": "2023-04-22T03:57:23.372Z"
   },
   {
    "duration": 4,
    "start_time": "2023-04-22T03:57:23.829Z"
   },
   {
    "duration": 4,
    "start_time": "2023-04-22T03:59:15.194Z"
   },
   {
    "duration": 4,
    "start_time": "2023-04-22T03:59:28.821Z"
   },
   {
    "duration": 12,
    "start_time": "2023-04-22T03:59:47.487Z"
   },
   {
    "duration": 4,
    "start_time": "2023-04-22T04:00:14.941Z"
   },
   {
    "duration": 58,
    "start_time": "2023-04-22T04:01:40.589Z"
   },
   {
    "duration": 556,
    "start_time": "2023-04-22T04:03:29.420Z"
   },
   {
    "duration": 663,
    "start_time": "2023-04-22T04:03:46.508Z"
   },
   {
    "duration": 5,
    "start_time": "2023-04-22T04:03:48.030Z"
   },
   {
    "duration": 4,
    "start_time": "2023-04-22T04:03:48.915Z"
   },
   {
    "duration": 4,
    "start_time": "2023-04-22T04:05:24.939Z"
   },
   {
    "duration": 49,
    "start_time": "2023-04-22T04:05:24.945Z"
   },
   {
    "duration": 10,
    "start_time": "2023-04-22T04:05:24.996Z"
   },
   {
    "duration": 9,
    "start_time": "2023-04-22T04:05:25.007Z"
   },
   {
    "duration": 4,
    "start_time": "2023-04-22T04:05:25.018Z"
   },
   {
    "duration": 14,
    "start_time": "2023-04-22T04:05:25.023Z"
   },
   {
    "duration": 13,
    "start_time": "2023-04-22T04:05:25.038Z"
   },
   {
    "duration": 20,
    "start_time": "2023-04-22T04:05:25.053Z"
   },
   {
    "duration": 7,
    "start_time": "2023-04-22T04:05:25.074Z"
   },
   {
    "duration": 260,
    "start_time": "2023-04-22T04:05:25.083Z"
   },
   {
    "duration": 4,
    "start_time": "2023-04-22T04:05:25.345Z"
   },
   {
    "duration": 9,
    "start_time": "2023-04-22T04:05:25.351Z"
   },
   {
    "duration": 855,
    "start_time": "2023-04-22T04:05:25.362Z"
   },
   {
    "duration": 568,
    "start_time": "2023-04-22T04:05:26.219Z"
   },
   {
    "duration": 5,
    "start_time": "2023-04-22T04:05:26.788Z"
   },
   {
    "duration": 27,
    "start_time": "2023-04-22T04:05:26.794Z"
   },
   {
    "duration": 19,
    "start_time": "2023-04-22T04:05:26.823Z"
   },
   {
    "duration": 4,
    "start_time": "2023-04-22T04:06:09.889Z"
   },
   {
    "duration": 51,
    "start_time": "2023-04-22T04:06:09.894Z"
   },
   {
    "duration": 10,
    "start_time": "2023-04-22T04:06:09.946Z"
   },
   {
    "duration": 8,
    "start_time": "2023-04-22T04:06:09.957Z"
   },
   {
    "duration": 5,
    "start_time": "2023-04-22T04:06:09.968Z"
   },
   {
    "duration": 8,
    "start_time": "2023-04-22T04:06:09.975Z"
   },
   {
    "duration": 9,
    "start_time": "2023-04-22T04:06:09.984Z"
   },
   {
    "duration": 8,
    "start_time": "2023-04-22T04:06:09.995Z"
   },
   {
    "duration": 16,
    "start_time": "2023-04-22T04:06:10.004Z"
   },
   {
    "duration": 266,
    "start_time": "2023-04-22T04:06:10.022Z"
   },
   {
    "duration": 5,
    "start_time": "2023-04-22T04:06:10.290Z"
   },
   {
    "duration": 9,
    "start_time": "2023-04-22T04:06:10.297Z"
   },
   {
    "duration": 666,
    "start_time": "2023-04-22T04:06:10.308Z"
   },
   {
    "duration": 541,
    "start_time": "2023-04-22T04:06:10.978Z"
   },
   {
    "duration": 4,
    "start_time": "2023-04-22T04:06:11.521Z"
   },
   {
    "duration": 5,
    "start_time": "2023-04-22T04:06:11.527Z"
   },
   {
    "duration": 19,
    "start_time": "2023-04-22T04:06:11.533Z"
   },
   {
    "duration": 44,
    "start_time": "2023-04-22T04:06:11.553Z"
   },
   {
    "duration": 7,
    "start_time": "2023-04-22T04:06:11.598Z"
   },
   {
    "duration": 23,
    "start_time": "2023-04-22T04:06:11.606Z"
   },
   {
    "duration": 5,
    "start_time": "2023-04-22T04:06:11.630Z"
   },
   {
    "duration": 5,
    "start_time": "2023-04-22T04:06:11.636Z"
   },
   {
    "duration": 7,
    "start_time": "2023-04-22T04:06:11.642Z"
   },
   {
    "duration": 6,
    "start_time": "2023-04-22T04:06:11.650Z"
   },
   {
    "duration": 4,
    "start_time": "2023-04-22T04:06:11.672Z"
   },
   {
    "duration": 6,
    "start_time": "2023-04-22T04:06:11.677Z"
   },
   {
    "duration": 6,
    "start_time": "2023-04-22T04:06:11.685Z"
   },
   {
    "duration": 6,
    "start_time": "2023-04-22T04:06:11.692Z"
   },
   {
    "duration": 5,
    "start_time": "2023-04-22T04:06:11.700Z"
   },
   {
    "duration": 6,
    "start_time": "2023-04-22T04:06:11.706Z"
   },
   {
    "duration": 7,
    "start_time": "2023-04-22T04:06:11.713Z"
   },
   {
    "duration": 7,
    "start_time": "2023-04-22T04:06:11.721Z"
   },
   {
    "duration": 5,
    "start_time": "2023-04-22T04:06:11.730Z"
   },
   {
    "duration": 6,
    "start_time": "2023-04-22T04:06:11.736Z"
   },
   {
    "duration": 29,
    "start_time": "2023-04-22T04:06:11.743Z"
   },
   {
    "duration": 7,
    "start_time": "2023-04-22T04:06:11.774Z"
   },
   {
    "duration": 6,
    "start_time": "2023-04-22T04:06:11.782Z"
   },
   {
    "duration": 6,
    "start_time": "2023-04-22T04:06:11.789Z"
   },
   {
    "duration": 5,
    "start_time": "2023-04-22T04:06:11.796Z"
   },
   {
    "duration": 6,
    "start_time": "2023-04-22T04:06:11.802Z"
   },
   {
    "duration": 5,
    "start_time": "2023-04-22T04:06:11.811Z"
   },
   {
    "duration": 15,
    "start_time": "2023-04-22T04:06:11.817Z"
   },
   {
    "duration": 10,
    "start_time": "2023-04-22T04:06:37.876Z"
   },
   {
    "duration": 4,
    "start_time": "2023-04-22T04:11:17.116Z"
   },
   {
    "duration": 52,
    "start_time": "2023-04-22T04:11:17.122Z"
   },
   {
    "duration": 10,
    "start_time": "2023-04-22T04:11:17.176Z"
   },
   {
    "duration": 10,
    "start_time": "2023-04-22T04:11:17.187Z"
   },
   {
    "duration": 5,
    "start_time": "2023-04-22T04:11:17.199Z"
   },
   {
    "duration": 11,
    "start_time": "2023-04-22T04:11:17.205Z"
   },
   {
    "duration": 8,
    "start_time": "2023-04-22T04:11:17.218Z"
   },
   {
    "duration": 7,
    "start_time": "2023-04-22T04:11:17.227Z"
   },
   {
    "duration": 39,
    "start_time": "2023-04-22T04:11:17.236Z"
   },
   {
    "duration": 418,
    "start_time": "2023-04-22T04:11:17.277Z"
   },
   {
    "duration": 3,
    "start_time": "2023-04-22T04:11:17.697Z"
   },
   {
    "duration": 8,
    "start_time": "2023-04-22T04:11:17.702Z"
   },
   {
    "duration": 662,
    "start_time": "2023-04-22T04:11:17.711Z"
   },
   {
    "duration": 565,
    "start_time": "2023-04-22T04:11:18.374Z"
   },
   {
    "duration": 4,
    "start_time": "2023-04-22T04:11:18.941Z"
   },
   {
    "duration": 4,
    "start_time": "2023-04-22T04:11:18.947Z"
   },
   {
    "duration": 24,
    "start_time": "2023-04-22T04:11:18.953Z"
   },
   {
    "duration": 24,
    "start_time": "2023-04-22T04:11:18.979Z"
   },
   {
    "duration": 6,
    "start_time": "2023-04-22T04:11:19.004Z"
   },
   {
    "duration": 23,
    "start_time": "2023-04-22T04:11:19.011Z"
   },
   {
    "duration": 4,
    "start_time": "2023-04-22T04:11:19.035Z"
   },
   {
    "duration": 8,
    "start_time": "2023-04-22T04:11:19.040Z"
   },
   {
    "duration": 23,
    "start_time": "2023-04-22T04:11:19.050Z"
   },
   {
    "duration": 6,
    "start_time": "2023-04-22T04:11:19.076Z"
   },
   {
    "duration": 8,
    "start_time": "2023-04-22T04:11:19.083Z"
   },
   {
    "duration": 6,
    "start_time": "2023-04-22T04:11:19.092Z"
   },
   {
    "duration": 4,
    "start_time": "2023-04-22T04:11:19.100Z"
   },
   {
    "duration": 6,
    "start_time": "2023-04-22T04:11:19.105Z"
   },
   {
    "duration": 5,
    "start_time": "2023-04-22T04:11:19.112Z"
   },
   {
    "duration": 4,
    "start_time": "2023-04-22T04:11:19.119Z"
   },
   {
    "duration": 8,
    "start_time": "2023-04-22T04:11:19.124Z"
   },
   {
    "duration": 9,
    "start_time": "2023-04-22T04:11:19.134Z"
   },
   {
    "duration": 28,
    "start_time": "2023-04-22T04:11:19.145Z"
   },
   {
    "duration": 4,
    "start_time": "2023-04-22T04:11:19.174Z"
   },
   {
    "duration": 20,
    "start_time": "2023-04-22T04:11:19.179Z"
   },
   {
    "duration": 16,
    "start_time": "2023-04-22T04:11:19.200Z"
   },
   {
    "duration": 10,
    "start_time": "2023-04-22T04:11:19.217Z"
   },
   {
    "duration": 14,
    "start_time": "2023-04-22T04:11:19.228Z"
   },
   {
    "duration": 8,
    "start_time": "2023-04-22T04:11:19.243Z"
   },
   {
    "duration": 18,
    "start_time": "2023-04-22T04:11:19.253Z"
   },
   {
    "duration": 10,
    "start_time": "2023-04-22T04:11:19.273Z"
   },
   {
    "duration": 6,
    "start_time": "2023-04-22T04:11:19.284Z"
   },
   {
    "duration": 5,
    "start_time": "2023-04-22T04:12:30.702Z"
   },
   {
    "duration": 78,
    "start_time": "2023-04-22T04:12:30.708Z"
   },
   {
    "duration": 8,
    "start_time": "2023-04-22T04:12:30.788Z"
   },
   {
    "duration": 66,
    "start_time": "2023-04-22T04:12:30.798Z"
   },
   {
    "duration": 71,
    "start_time": "2023-04-22T04:12:30.865Z"
   },
   {
    "duration": 24,
    "start_time": "2023-04-22T04:12:30.937Z"
   },
   {
    "duration": 36,
    "start_time": "2023-04-22T04:12:30.962Z"
   },
   {
    "duration": 75,
    "start_time": "2023-04-22T04:12:31.000Z"
   },
   {
    "duration": 66,
    "start_time": "2023-04-22T04:12:31.077Z"
   },
   {
    "duration": 237,
    "start_time": "2023-04-22T04:12:31.144Z"
   },
   {
    "duration": 5,
    "start_time": "2023-04-22T04:12:31.382Z"
   },
   {
    "duration": 39,
    "start_time": "2023-04-22T04:12:31.388Z"
   },
   {
    "duration": 630,
    "start_time": "2023-04-22T04:12:31.428Z"
   },
   {
    "duration": 528,
    "start_time": "2023-04-22T04:12:32.060Z"
   },
   {
    "duration": 4,
    "start_time": "2023-04-22T04:12:32.589Z"
   },
   {
    "duration": 9,
    "start_time": "2023-04-22T04:12:32.595Z"
   },
   {
    "duration": 14,
    "start_time": "2023-04-22T04:12:32.605Z"
   },
   {
    "duration": 20,
    "start_time": "2023-04-22T04:12:32.620Z"
   },
   {
    "duration": 5,
    "start_time": "2023-04-22T04:12:32.642Z"
   },
   {
    "duration": 38,
    "start_time": "2023-04-22T04:12:32.648Z"
   },
   {
    "duration": 10,
    "start_time": "2023-04-22T04:12:32.688Z"
   },
   {
    "duration": 11,
    "start_time": "2023-04-22T04:12:32.699Z"
   },
   {
    "duration": 6,
    "start_time": "2023-04-22T04:12:32.711Z"
   },
   {
    "duration": 5,
    "start_time": "2023-04-22T04:12:32.719Z"
   },
   {
    "duration": 5,
    "start_time": "2023-04-22T04:12:32.725Z"
   },
   {
    "duration": 8,
    "start_time": "2023-04-22T04:12:32.731Z"
   },
   {
    "duration": 5,
    "start_time": "2023-04-22T04:12:32.740Z"
   },
   {
    "duration": 190,
    "start_time": "2023-04-22T04:12:32.746Z"
   },
   {
    "duration": 16,
    "start_time": "2023-04-22T04:12:32.937Z"
   },
   {
    "duration": 18,
    "start_time": "2023-04-22T04:12:32.954Z"
   },
   {
    "duration": 8,
    "start_time": "2023-04-22T04:12:32.973Z"
   },
   {
    "duration": 6,
    "start_time": "2023-04-22T04:12:32.982Z"
   },
   {
    "duration": 10,
    "start_time": "2023-04-22T04:12:32.989Z"
   },
   {
    "duration": 10,
    "start_time": "2023-04-22T04:12:33.000Z"
   },
   {
    "duration": 19,
    "start_time": "2023-04-22T04:12:33.011Z"
   },
   {
    "duration": 14,
    "start_time": "2023-04-22T04:12:33.032Z"
   },
   {
    "duration": 24,
    "start_time": "2023-04-22T04:12:33.047Z"
   },
   {
    "duration": 12,
    "start_time": "2023-04-22T04:12:33.072Z"
   },
   {
    "duration": 10,
    "start_time": "2023-04-22T04:12:33.085Z"
   },
   {
    "duration": 14,
    "start_time": "2023-04-22T04:12:33.096Z"
   },
   {
    "duration": 15,
    "start_time": "2023-04-22T04:12:33.111Z"
   },
   {
    "duration": 15,
    "start_time": "2023-04-22T04:12:33.127Z"
   },
   {
    "duration": 31,
    "start_time": "2023-04-22T04:12:33.143Z"
   },
   {
    "duration": 7,
    "start_time": "2023-04-22T04:12:40.864Z"
   },
   {
    "duration": 3,
    "start_time": "2023-04-22T04:12:41.785Z"
   },
   {
    "duration": 2158,
    "start_time": "2023-04-22T04:12:46.929Z"
   },
   {
    "duration": 200,
    "start_time": "2023-04-22T04:12:49.171Z"
   },
   {
    "duration": 4,
    "start_time": "2023-04-22T04:12:52.335Z"
   },
   {
    "duration": 1540,
    "start_time": "2023-04-22T04:14:37.783Z"
   },
   {
    "duration": 48,
    "start_time": "2023-04-22T04:14:39.325Z"
   },
   {
    "duration": 11,
    "start_time": "2023-04-22T04:14:39.375Z"
   },
   {
    "duration": 10,
    "start_time": "2023-04-22T04:14:39.388Z"
   },
   {
    "duration": 5,
    "start_time": "2023-04-22T04:14:39.399Z"
   },
   {
    "duration": 11,
    "start_time": "2023-04-22T04:14:39.406Z"
   },
   {
    "duration": 9,
    "start_time": "2023-04-22T04:14:39.418Z"
   },
   {
    "duration": 7,
    "start_time": "2023-04-22T04:14:39.428Z"
   },
   {
    "duration": 7,
    "start_time": "2023-04-22T04:14:39.471Z"
   },
   {
    "duration": 268,
    "start_time": "2023-04-22T04:14:39.480Z"
   },
   {
    "duration": 4,
    "start_time": "2023-04-22T04:14:39.750Z"
   },
   {
    "duration": 19,
    "start_time": "2023-04-22T04:14:39.755Z"
   },
   {
    "duration": 735,
    "start_time": "2023-04-22T04:14:39.775Z"
   },
   {
    "duration": 494,
    "start_time": "2023-04-22T04:14:40.512Z"
   },
   {
    "duration": 4,
    "start_time": "2023-04-22T04:14:41.008Z"
   },
   {
    "duration": 8,
    "start_time": "2023-04-22T04:14:41.013Z"
   },
   {
    "duration": 19,
    "start_time": "2023-04-22T04:14:41.022Z"
   },
   {
    "duration": 29,
    "start_time": "2023-04-22T04:14:41.043Z"
   },
   {
    "duration": 30,
    "start_time": "2023-04-22T04:14:41.074Z"
   },
   {
    "duration": 19,
    "start_time": "2023-04-22T04:14:41.106Z"
   },
   {
    "duration": 28,
    "start_time": "2023-04-22T04:14:41.127Z"
   },
   {
    "duration": 21,
    "start_time": "2023-04-22T04:14:41.157Z"
   },
   {
    "duration": 15,
    "start_time": "2023-04-22T04:14:41.179Z"
   },
   {
    "duration": 28,
    "start_time": "2023-04-22T04:14:41.195Z"
   },
   {
    "duration": 25,
    "start_time": "2023-04-22T04:14:41.224Z"
   },
   {
    "duration": 24,
    "start_time": "2023-04-22T04:14:41.250Z"
   },
   {
    "duration": 23,
    "start_time": "2023-04-22T04:14:41.275Z"
   },
   {
    "duration": 17,
    "start_time": "2023-04-22T04:14:41.302Z"
   },
   {
    "duration": 28,
    "start_time": "2023-04-22T04:14:41.320Z"
   },
   {
    "duration": 19,
    "start_time": "2023-04-22T04:14:41.349Z"
   },
   {
    "duration": 15,
    "start_time": "2023-04-22T04:14:41.369Z"
   },
   {
    "duration": 19,
    "start_time": "2023-04-22T04:14:41.385Z"
   },
   {
    "duration": 7,
    "start_time": "2023-04-22T04:14:41.405Z"
   },
   {
    "duration": 15,
    "start_time": "2023-04-22T04:14:41.414Z"
   },
   {
    "duration": 18,
    "start_time": "2023-04-22T04:14:41.430Z"
   },
   {
    "duration": 16,
    "start_time": "2023-04-22T04:14:41.450Z"
   },
   {
    "duration": 14,
    "start_time": "2023-04-22T04:14:41.467Z"
   },
   {
    "duration": 14,
    "start_time": "2023-04-22T04:14:41.483Z"
   },
   {
    "duration": 23,
    "start_time": "2023-04-22T04:14:41.499Z"
   },
   {
    "duration": 13,
    "start_time": "2023-04-22T04:14:41.524Z"
   },
   {
    "duration": 10,
    "start_time": "2023-04-22T04:14:41.539Z"
   },
   {
    "duration": 11,
    "start_time": "2023-04-22T04:14:41.550Z"
   },
   {
    "duration": 27,
    "start_time": "2023-04-22T04:14:41.562Z"
   },
   {
    "duration": 7,
    "start_time": "2023-04-22T04:14:41.590Z"
   },
   {
    "duration": 10,
    "start_time": "2023-04-22T04:14:41.599Z"
   },
   {
    "duration": 20,
    "start_time": "2023-04-22T04:14:41.610Z"
   },
   {
    "duration": 22,
    "start_time": "2023-04-22T04:14:41.632Z"
   },
   {
    "duration": 19,
    "start_time": "2023-04-22T04:14:41.656Z"
   },
   {
    "duration": 17,
    "start_time": "2023-04-22T04:14:41.677Z"
   },
   {
    "duration": 19,
    "start_time": "2023-04-22T04:14:41.695Z"
   },
   {
    "duration": 13,
    "start_time": "2023-04-22T04:14:41.716Z"
   },
   {
    "duration": 31,
    "start_time": "2023-04-22T04:14:41.730Z"
   },
   {
    "duration": 14,
    "start_time": "2023-04-22T04:14:41.763Z"
   },
   {
    "duration": 7,
    "start_time": "2023-04-22T04:14:41.779Z"
   },
   {
    "duration": 11,
    "start_time": "2023-04-22T04:14:41.788Z"
   },
   {
    "duration": 561863,
    "start_time": "2023-04-22T04:14:41.801Z"
   },
   {
    "duration": 9,
    "start_time": "2023-04-22T04:24:03.665Z"
   },
   {
    "duration": 188,
    "start_time": "2023-04-22T04:24:03.676Z"
   },
   {
    "duration": 27,
    "start_time": "2023-04-22T04:24:03.866Z"
   },
   {
    "duration": 1442,
    "start_time": "2023-04-22T04:30:43.657Z"
   },
   {
    "duration": 48,
    "start_time": "2023-04-22T04:30:45.101Z"
   },
   {
    "duration": 11,
    "start_time": "2023-04-22T04:30:45.151Z"
   },
   {
    "duration": 12,
    "start_time": "2023-04-22T04:30:45.164Z"
   },
   {
    "duration": 16,
    "start_time": "2023-04-22T04:30:45.178Z"
   },
   {
    "duration": 10,
    "start_time": "2023-04-22T04:30:45.195Z"
   },
   {
    "duration": 9,
    "start_time": "2023-04-22T04:30:45.207Z"
   },
   {
    "duration": 6,
    "start_time": "2023-04-22T04:30:45.217Z"
   },
   {
    "duration": 6,
    "start_time": "2023-04-22T04:30:45.225Z"
   },
   {
    "duration": 280,
    "start_time": "2023-04-22T04:30:45.234Z"
   },
   {
    "duration": 4,
    "start_time": "2023-04-22T04:30:45.516Z"
   },
   {
    "duration": 12,
    "start_time": "2023-04-22T04:30:45.521Z"
   },
   {
    "duration": 793,
    "start_time": "2023-04-22T04:30:45.534Z"
   },
   {
    "duration": 538,
    "start_time": "2023-04-22T04:30:46.328Z"
   },
   {
    "duration": 7,
    "start_time": "2023-04-22T04:30:46.867Z"
   },
   {
    "duration": 25,
    "start_time": "2023-04-22T04:30:46.875Z"
   },
   {
    "duration": 14,
    "start_time": "2023-04-22T04:30:46.902Z"
   },
   {
    "duration": 21,
    "start_time": "2023-04-22T04:30:46.917Z"
   },
   {
    "duration": 5,
    "start_time": "2023-04-22T04:30:46.940Z"
   },
   {
    "duration": 37,
    "start_time": "2023-04-22T04:30:46.946Z"
   },
   {
    "duration": 19,
    "start_time": "2023-04-22T04:30:46.984Z"
   },
   {
    "duration": 10,
    "start_time": "2023-04-22T04:30:47.005Z"
   },
   {
    "duration": 15,
    "start_time": "2023-04-22T04:30:47.016Z"
   },
   {
    "duration": 49,
    "start_time": "2023-04-22T04:30:47.032Z"
   },
   {
    "duration": 23,
    "start_time": "2023-04-22T04:30:47.084Z"
   },
   {
    "duration": 24,
    "start_time": "2023-04-22T04:30:47.109Z"
   },
   {
    "duration": 14,
    "start_time": "2023-04-22T04:30:47.135Z"
   },
   {
    "duration": 24,
    "start_time": "2023-04-22T04:30:47.152Z"
   },
   {
    "duration": 8,
    "start_time": "2023-04-22T04:30:47.177Z"
   },
   {
    "duration": 23,
    "start_time": "2023-04-22T04:30:47.186Z"
   },
   {
    "duration": 23,
    "start_time": "2023-04-22T04:30:47.211Z"
   },
   {
    "duration": 11,
    "start_time": "2023-04-22T04:30:47.235Z"
   },
   {
    "duration": 18,
    "start_time": "2023-04-22T04:30:47.247Z"
   },
   {
    "duration": 23,
    "start_time": "2023-04-22T04:30:47.266Z"
   },
   {
    "duration": 20,
    "start_time": "2023-04-22T04:30:47.290Z"
   },
   {
    "duration": 17,
    "start_time": "2023-04-22T04:30:47.311Z"
   },
   {
    "duration": 14,
    "start_time": "2023-04-22T04:30:47.329Z"
   },
   {
    "duration": 21,
    "start_time": "2023-04-22T04:30:47.344Z"
   },
   {
    "duration": 25,
    "start_time": "2023-04-22T04:30:47.367Z"
   },
   {
    "duration": 15,
    "start_time": "2023-04-22T04:30:47.394Z"
   },
   {
    "duration": 17,
    "start_time": "2023-04-22T04:30:47.410Z"
   },
   {
    "duration": 25,
    "start_time": "2023-04-22T04:30:47.429Z"
   },
   {
    "duration": 30,
    "start_time": "2023-04-22T04:30:47.455Z"
   },
   {
    "duration": 12,
    "start_time": "2023-04-22T04:30:47.486Z"
   },
   {
    "duration": 18,
    "start_time": "2023-04-22T04:30:47.499Z"
   },
   {
    "duration": 17,
    "start_time": "2023-04-22T04:30:47.519Z"
   },
   {
    "duration": 23,
    "start_time": "2023-04-22T04:30:47.538Z"
   },
   {
    "duration": 60,
    "start_time": "2023-04-22T04:30:47.562Z"
   },
   {
    "duration": 32,
    "start_time": "2023-04-22T04:30:47.624Z"
   },
   {
    "duration": 34,
    "start_time": "2023-04-22T04:30:47.657Z"
   },
   {
    "duration": 14,
    "start_time": "2023-04-22T04:30:47.692Z"
   },
   {
    "duration": 42,
    "start_time": "2023-04-22T04:30:47.708Z"
   },
   {
    "duration": 20,
    "start_time": "2023-04-22T04:30:47.752Z"
   },
   {
    "duration": 14,
    "start_time": "2023-04-22T04:30:47.774Z"
   },
   {
    "duration": 82,
    "start_time": "2023-04-22T04:30:47.790Z"
   },
   {
    "duration": 109695,
    "start_time": "2023-04-22T04:30:47.873Z"
   },
   {
    "duration": 9,
    "start_time": "2023-04-22T04:32:37.570Z"
   },
   {
    "duration": 13,
    "start_time": "2023-04-22T04:32:37.581Z"
   },
   {
    "duration": 5,
    "start_time": "2023-04-22T04:32:37.596Z"
   },
   {
    "duration": 1398,
    "start_time": "2023-04-22T04:35:59.191Z"
   },
   {
    "duration": 50,
    "start_time": "2023-04-22T04:36:00.591Z"
   },
   {
    "duration": 21,
    "start_time": "2023-04-22T04:36:00.642Z"
   },
   {
    "duration": 66,
    "start_time": "2023-04-22T04:36:00.665Z"
   },
   {
    "duration": 31,
    "start_time": "2023-04-22T04:36:00.733Z"
   },
   {
    "duration": 69,
    "start_time": "2023-04-22T04:36:00.765Z"
   },
   {
    "duration": 28,
    "start_time": "2023-04-22T04:36:00.835Z"
   },
   {
    "duration": 26,
    "start_time": "2023-04-22T04:36:00.864Z"
   },
   {
    "duration": 48,
    "start_time": "2023-04-22T04:36:00.891Z"
   },
   {
    "duration": 277,
    "start_time": "2023-04-22T04:36:00.941Z"
   },
   {
    "duration": 5,
    "start_time": "2023-04-22T04:36:01.219Z"
   },
   {
    "duration": 32,
    "start_time": "2023-04-22T04:36:01.225Z"
   },
   {
    "duration": 780,
    "start_time": "2023-04-22T04:36:01.259Z"
   },
   {
    "duration": 558,
    "start_time": "2023-04-22T04:36:02.040Z"
   },
   {
    "duration": 4,
    "start_time": "2023-04-22T04:36:02.600Z"
   },
   {
    "duration": 6,
    "start_time": "2023-04-22T04:36:02.605Z"
   },
   {
    "duration": 32,
    "start_time": "2023-04-22T04:36:02.612Z"
   },
   {
    "duration": 42,
    "start_time": "2023-04-22T04:36:02.645Z"
   },
   {
    "duration": 7,
    "start_time": "2023-04-22T04:36:02.688Z"
   },
   {
    "duration": 49,
    "start_time": "2023-04-22T04:36:02.697Z"
   },
   {
    "duration": 11,
    "start_time": "2023-04-22T04:36:02.747Z"
   },
   {
    "duration": 25,
    "start_time": "2023-04-22T04:36:02.759Z"
   },
   {
    "duration": 35,
    "start_time": "2023-04-22T04:36:02.785Z"
   },
   {
    "duration": 21,
    "start_time": "2023-04-22T04:36:02.821Z"
   },
   {
    "duration": 17,
    "start_time": "2023-04-22T04:36:02.843Z"
   },
   {
    "duration": 8,
    "start_time": "2023-04-22T04:36:02.861Z"
   },
   {
    "duration": 7,
    "start_time": "2023-04-22T04:36:02.871Z"
   },
   {
    "duration": 6,
    "start_time": "2023-04-22T04:36:02.883Z"
   },
   {
    "duration": 20,
    "start_time": "2023-04-22T04:36:02.890Z"
   },
   {
    "duration": 21,
    "start_time": "2023-04-22T04:36:02.911Z"
   },
   {
    "duration": 20,
    "start_time": "2023-04-22T04:36:02.934Z"
   },
   {
    "duration": 6,
    "start_time": "2023-04-22T04:36:02.956Z"
   },
   {
    "duration": 30,
    "start_time": "2023-04-22T04:36:02.963Z"
   },
   {
    "duration": 10,
    "start_time": "2023-04-22T04:36:02.994Z"
   },
   {
    "duration": 6,
    "start_time": "2023-04-22T04:36:03.005Z"
   },
   {
    "duration": 6,
    "start_time": "2023-04-22T04:36:03.012Z"
   },
   {
    "duration": 12,
    "start_time": "2023-04-22T04:36:03.019Z"
   },
   {
    "duration": 9,
    "start_time": "2023-04-22T04:36:03.033Z"
   },
   {
    "duration": 5,
    "start_time": "2023-04-22T04:36:03.044Z"
   },
   {
    "duration": 23,
    "start_time": "2023-04-22T04:36:03.050Z"
   },
   {
    "duration": 21,
    "start_time": "2023-04-22T04:36:03.075Z"
   },
   {
    "duration": 11,
    "start_time": "2023-04-22T04:36:03.097Z"
   },
   {
    "duration": 14,
    "start_time": "2023-04-22T04:36:03.109Z"
   },
   {
    "duration": 2,
    "start_time": "2023-04-22T04:36:03.124Z"
   },
   {
    "duration": 4,
    "start_time": "2023-04-22T04:36:03.127Z"
   },
   {
    "duration": 6,
    "start_time": "2023-04-22T04:36:03.132Z"
   },
   {
    "duration": 21,
    "start_time": "2023-04-22T04:36:03.139Z"
   },
   {
    "duration": 9,
    "start_time": "2023-04-22T04:36:03.162Z"
   },
   {
    "duration": 25,
    "start_time": "2023-04-22T04:36:03.173Z"
   },
   {
    "duration": 7,
    "start_time": "2023-04-22T04:36:03.200Z"
   },
   {
    "duration": 5,
    "start_time": "2023-04-22T04:36:03.208Z"
   },
   {
    "duration": 252,
    "start_time": "2023-04-22T04:36:03.215Z"
   },
   {
    "duration": 9,
    "start_time": "2023-04-22T04:36:03.468Z"
   },
   {
    "duration": 1,
    "start_time": "2023-04-22T04:36:03.478Z"
   },
   {
    "duration": 0,
    "start_time": "2023-04-22T04:36:03.480Z"
   },
   {
    "duration": 0,
    "start_time": "2023-04-22T04:36:03.481Z"
   },
   {
    "duration": 0,
    "start_time": "2023-04-22T04:36:03.482Z"
   },
   {
    "duration": 0,
    "start_time": "2023-04-22T04:36:03.483Z"
   },
   {
    "duration": 0,
    "start_time": "2023-04-22T04:36:03.484Z"
   },
   {
    "duration": 0,
    "start_time": "2023-04-22T04:36:03.484Z"
   },
   {
    "duration": 0,
    "start_time": "2023-04-22T04:36:03.485Z"
   },
   {
    "duration": 0,
    "start_time": "2023-04-22T04:36:03.486Z"
   },
   {
    "duration": 0,
    "start_time": "2023-04-22T04:36:03.487Z"
   },
   {
    "duration": 0,
    "start_time": "2023-04-22T04:36:03.488Z"
   },
   {
    "duration": 0,
    "start_time": "2023-04-22T04:36:03.489Z"
   },
   {
    "duration": 0,
    "start_time": "2023-04-22T04:36:03.490Z"
   },
   {
    "duration": 0,
    "start_time": "2023-04-22T04:36:03.491Z"
   },
   {
    "duration": 0,
    "start_time": "2023-04-22T04:36:03.492Z"
   },
   {
    "duration": 0,
    "start_time": "2023-04-22T04:36:03.493Z"
   },
   {
    "duration": 0,
    "start_time": "2023-04-22T04:36:03.493Z"
   },
   {
    "duration": 0,
    "start_time": "2023-04-22T04:36:03.494Z"
   },
   {
    "duration": 0,
    "start_time": "2023-04-22T04:36:03.495Z"
   },
   {
    "duration": 8,
    "start_time": "2023-04-22T04:40:19.375Z"
   },
   {
    "duration": 3,
    "start_time": "2023-04-22T04:40:24.766Z"
   },
   {
    "duration": 3,
    "start_time": "2023-04-22T04:40:25.393Z"
   },
   {
    "duration": 141,
    "start_time": "2023-04-22T04:40:25.835Z"
   },
   {
    "duration": 4,
    "start_time": "2023-04-22T04:41:27.912Z"
   },
   {
    "duration": 2,
    "start_time": "2023-04-22T04:41:31.694Z"
   },
   {
    "duration": 2,
    "start_time": "2023-04-22T04:41:32.090Z"
   },
   {
    "duration": 130,
    "start_time": "2023-04-22T04:41:32.643Z"
   },
   {
    "duration": 4,
    "start_time": "2023-04-22T04:41:46.498Z"
   },
   {
    "duration": 2,
    "start_time": "2023-04-22T04:41:51.500Z"
   },
   {
    "duration": 2,
    "start_time": "2023-04-22T04:41:51.813Z"
   },
   {
    "duration": 116,
    "start_time": "2023-04-22T04:41:52.161Z"
   },
   {
    "duration": 5,
    "start_time": "2023-04-22T04:44:06.424Z"
   },
   {
    "duration": 6,
    "start_time": "2023-04-22T04:44:22.912Z"
   },
   {
    "duration": 2,
    "start_time": "2023-04-22T04:44:25.383Z"
   },
   {
    "duration": 3,
    "start_time": "2023-04-22T04:44:25.876Z"
   },
   {
    "duration": 24,
    "start_time": "2023-04-22T04:44:26.371Z"
   },
   {
    "duration": 7,
    "start_time": "2023-04-22T04:44:34.073Z"
   },
   {
    "duration": 1418,
    "start_time": "2023-04-22T04:45:34.135Z"
   },
   {
    "duration": 55,
    "start_time": "2023-04-22T04:45:35.555Z"
   },
   {
    "duration": 10,
    "start_time": "2023-04-22T04:45:35.611Z"
   },
   {
    "duration": 10,
    "start_time": "2023-04-22T04:45:35.623Z"
   },
   {
    "duration": 5,
    "start_time": "2023-04-22T04:45:35.634Z"
   },
   {
    "duration": 22,
    "start_time": "2023-04-22T04:45:35.640Z"
   },
   {
    "duration": 16,
    "start_time": "2023-04-22T04:45:35.663Z"
   },
   {
    "duration": 29,
    "start_time": "2023-04-22T04:45:35.680Z"
   },
   {
    "duration": 29,
    "start_time": "2023-04-22T04:45:35.711Z"
   },
   {
    "duration": 304,
    "start_time": "2023-04-22T04:45:35.743Z"
   },
   {
    "duration": 4,
    "start_time": "2023-04-22T04:45:36.050Z"
   },
   {
    "duration": 49,
    "start_time": "2023-04-22T04:45:36.055Z"
   },
   {
    "duration": 781,
    "start_time": "2023-04-22T04:45:36.106Z"
   },
   {
    "duration": 543,
    "start_time": "2023-04-22T04:45:36.889Z"
   },
   {
    "duration": 5,
    "start_time": "2023-04-22T04:45:37.433Z"
   },
   {
    "duration": 5,
    "start_time": "2023-04-22T04:45:37.439Z"
   },
   {
    "duration": 16,
    "start_time": "2023-04-22T04:45:37.445Z"
   },
   {
    "duration": 46,
    "start_time": "2023-04-22T04:45:37.462Z"
   },
   {
    "duration": 5,
    "start_time": "2023-04-22T04:45:37.510Z"
   },
   {
    "duration": 23,
    "start_time": "2023-04-22T04:45:37.516Z"
   },
   {
    "duration": 26,
    "start_time": "2023-04-22T04:45:37.540Z"
   },
   {
    "duration": 30,
    "start_time": "2023-04-22T04:45:37.567Z"
   },
   {
    "duration": 9,
    "start_time": "2023-04-22T04:45:37.599Z"
   },
   {
    "duration": 8,
    "start_time": "2023-04-22T04:45:37.609Z"
   },
   {
    "duration": 17,
    "start_time": "2023-04-22T04:45:37.618Z"
   },
   {
    "duration": 8,
    "start_time": "2023-04-22T04:45:37.637Z"
   },
   {
    "duration": 6,
    "start_time": "2023-04-22T04:45:37.646Z"
   },
   {
    "duration": 7,
    "start_time": "2023-04-22T04:45:37.655Z"
   },
   {
    "duration": 10,
    "start_time": "2023-04-22T04:45:37.663Z"
   },
   {
    "duration": 28,
    "start_time": "2023-04-22T04:45:37.675Z"
   },
   {
    "duration": 21,
    "start_time": "2023-04-22T04:45:37.704Z"
   },
   {
    "duration": 30,
    "start_time": "2023-04-22T04:45:37.727Z"
   },
   {
    "duration": 37,
    "start_time": "2023-04-22T04:45:37.758Z"
   },
   {
    "duration": 11,
    "start_time": "2023-04-22T04:45:37.796Z"
   },
   {
    "duration": 22,
    "start_time": "2023-04-22T04:45:37.808Z"
   },
   {
    "duration": 12,
    "start_time": "2023-04-22T04:45:37.832Z"
   },
   {
    "duration": 12,
    "start_time": "2023-04-22T04:45:37.845Z"
   },
   {
    "duration": 31,
    "start_time": "2023-04-22T04:45:37.859Z"
   },
   {
    "duration": 14,
    "start_time": "2023-04-22T04:45:37.891Z"
   },
   {
    "duration": 18,
    "start_time": "2023-04-22T04:45:37.906Z"
   },
   {
    "duration": 29,
    "start_time": "2023-04-22T04:45:37.926Z"
   },
   {
    "duration": 44,
    "start_time": "2023-04-22T04:45:37.956Z"
   },
   {
    "duration": 25,
    "start_time": "2023-04-22T04:45:38.002Z"
   },
   {
    "duration": 22,
    "start_time": "2023-04-22T04:45:38.028Z"
   },
   {
    "duration": 12,
    "start_time": "2023-04-22T04:45:38.052Z"
   },
   {
    "duration": 31,
    "start_time": "2023-04-22T04:45:38.065Z"
   },
   {
    "duration": 27,
    "start_time": "2023-04-22T04:45:38.097Z"
   },
   {
    "duration": 14,
    "start_time": "2023-04-22T04:45:38.125Z"
   },
   {
    "duration": 15,
    "start_time": "2023-04-22T04:45:38.140Z"
   },
   {
    "duration": 43,
    "start_time": "2023-04-22T04:45:38.156Z"
   },
   {
    "duration": 18,
    "start_time": "2023-04-22T04:45:38.201Z"
   },
   {
    "duration": 34,
    "start_time": "2023-04-22T04:45:38.221Z"
   },
   {
    "duration": 16,
    "start_time": "2023-04-22T04:45:38.256Z"
   },
   {
    "duration": 24,
    "start_time": "2023-04-22T04:45:38.273Z"
   },
   {
    "duration": 9,
    "start_time": "2023-04-22T04:45:38.299Z"
   },
   {
    "duration": 50578,
    "start_time": "2023-04-22T04:45:38.309Z"
   },
   {
    "duration": 8,
    "start_time": "2023-04-22T04:46:28.889Z"
   },
   {
    "duration": 15,
    "start_time": "2023-04-22T04:46:28.899Z"
   },
   {
    "duration": 5,
    "start_time": "2023-04-22T04:46:28.915Z"
   },
   {
    "duration": 1303,
    "start_time": "2023-04-22T04:46:52.610Z"
   },
   {
    "duration": 44,
    "start_time": "2023-04-22T04:46:53.914Z"
   },
   {
    "duration": 9,
    "start_time": "2023-04-22T04:46:53.960Z"
   },
   {
    "duration": 17,
    "start_time": "2023-04-22T04:46:53.971Z"
   },
   {
    "duration": 9,
    "start_time": "2023-04-22T04:46:53.989Z"
   },
   {
    "duration": 13,
    "start_time": "2023-04-22T04:46:53.999Z"
   },
   {
    "duration": 7,
    "start_time": "2023-04-22T04:46:54.013Z"
   },
   {
    "duration": 8,
    "start_time": "2023-04-22T04:46:54.021Z"
   },
   {
    "duration": 8,
    "start_time": "2023-04-22T04:46:54.030Z"
   },
   {
    "duration": 246,
    "start_time": "2023-04-22T04:46:54.040Z"
   },
   {
    "duration": 4,
    "start_time": "2023-04-22T04:46:54.287Z"
   },
   {
    "duration": 8,
    "start_time": "2023-04-22T04:46:54.292Z"
   },
   {
    "duration": 702,
    "start_time": "2023-04-22T04:46:54.301Z"
   },
   {
    "duration": 524,
    "start_time": "2023-04-22T04:46:55.004Z"
   },
   {
    "duration": 4,
    "start_time": "2023-04-22T04:46:55.529Z"
   },
   {
    "duration": 6,
    "start_time": "2023-04-22T04:46:55.535Z"
   },
   {
    "duration": 14,
    "start_time": "2023-04-22T04:46:55.542Z"
   },
   {
    "duration": 35,
    "start_time": "2023-04-22T04:46:55.557Z"
   },
   {
    "duration": 6,
    "start_time": "2023-04-22T04:46:55.594Z"
   },
   {
    "duration": 19,
    "start_time": "2023-04-22T04:46:55.602Z"
   },
   {
    "duration": 6,
    "start_time": "2023-04-22T04:46:55.622Z"
   },
   {
    "duration": 2,
    "start_time": "2023-04-22T04:46:55.629Z"
   },
   {
    "duration": 7,
    "start_time": "2023-04-22T04:46:55.632Z"
   },
   {
    "duration": 3,
    "start_time": "2023-04-22T04:46:55.640Z"
   },
   {
    "duration": 5,
    "start_time": "2023-04-22T04:46:55.644Z"
   },
   {
    "duration": 30,
    "start_time": "2023-04-22T04:46:55.650Z"
   },
   {
    "duration": 11,
    "start_time": "2023-04-22T04:46:55.681Z"
   },
   {
    "duration": 4,
    "start_time": "2023-04-22T04:46:55.696Z"
   },
   {
    "duration": 11,
    "start_time": "2023-04-22T04:46:55.701Z"
   },
   {
    "duration": 7,
    "start_time": "2023-04-22T04:46:55.713Z"
   },
   {
    "duration": 5,
    "start_time": "2023-04-22T04:46:55.722Z"
   },
   {
    "duration": 7,
    "start_time": "2023-04-22T04:46:55.728Z"
   },
   {
    "duration": 7,
    "start_time": "2023-04-22T04:46:55.736Z"
   },
   {
    "duration": 4,
    "start_time": "2023-04-22T04:46:55.744Z"
   },
   {
    "duration": 25,
    "start_time": "2023-04-22T04:46:55.749Z"
   },
   {
    "duration": 5,
    "start_time": "2023-04-22T04:46:55.776Z"
   },
   {
    "duration": 7,
    "start_time": "2023-04-22T04:46:55.782Z"
   },
   {
    "duration": 6,
    "start_time": "2023-04-22T04:46:55.791Z"
   },
   {
    "duration": 5,
    "start_time": "2023-04-22T04:46:55.798Z"
   },
   {
    "duration": 4,
    "start_time": "2023-04-22T04:46:55.805Z"
   },
   {
    "duration": 4,
    "start_time": "2023-04-22T04:46:55.811Z"
   },
   {
    "duration": 10,
    "start_time": "2023-04-22T04:46:55.816Z"
   },
   {
    "duration": 12,
    "start_time": "2023-04-22T04:46:55.827Z"
   },
   {
    "duration": 2,
    "start_time": "2023-04-22T04:46:55.840Z"
   },
   {
    "duration": 28,
    "start_time": "2023-04-22T04:46:55.844Z"
   },
   {
    "duration": 17,
    "start_time": "2023-04-22T04:46:55.874Z"
   },
   {
    "duration": 6,
    "start_time": "2023-04-22T04:46:55.893Z"
   },
   {
    "duration": 9,
    "start_time": "2023-04-22T04:46:55.901Z"
   },
   {
    "duration": 20,
    "start_time": "2023-04-22T04:46:55.918Z"
   },
   {
    "duration": 10,
    "start_time": "2023-04-22T04:46:55.940Z"
   },
   {
    "duration": 10,
    "start_time": "2023-04-22T04:46:55.951Z"
   },
   {
    "duration": 35,
    "start_time": "2023-04-22T04:46:55.962Z"
   },
   {
    "duration": 12,
    "start_time": "2023-04-22T04:46:55.999Z"
   },
   {
    "duration": 25,
    "start_time": "2023-04-22T04:46:56.072Z"
   },
   {
    "duration": 12,
    "start_time": "2023-04-22T04:46:56.099Z"
   },
   {
    "duration": 266387,
    "start_time": "2023-04-22T04:46:56.171Z"
   },
   {
    "duration": 8,
    "start_time": "2023-04-22T04:51:22.560Z"
   },
   {
    "duration": 28,
    "start_time": "2023-04-22T04:51:22.570Z"
   },
   {
    "duration": 3,
    "start_time": "2023-04-22T04:51:22.600Z"
   },
   {
    "duration": 68471,
    "start_time": "2023-04-22T04:51:22.605Z"
   },
   {
    "duration": 8,
    "start_time": "2023-04-22T04:52:31.078Z"
   },
   {
    "duration": 36,
    "start_time": "2023-04-22T04:52:31.088Z"
   },
   {
    "duration": 32,
    "start_time": "2023-04-22T04:52:31.126Z"
   },
   {
    "duration": 37,
    "start_time": "2023-04-22T04:52:31.160Z"
   },
   {
    "duration": 32,
    "start_time": "2023-04-22T04:52:31.199Z"
   },
   {
    "duration": 35,
    "start_time": "2023-04-22T04:52:31.232Z"
   },
   {
    "duration": 44,
    "start_time": "2023-04-22T04:52:31.269Z"
   },
   {
    "duration": 42,
    "start_time": "2023-04-22T04:52:31.315Z"
   },
   {
    "duration": 24,
    "start_time": "2023-04-22T04:52:31.359Z"
   },
   {
    "duration": 95,
    "start_time": "2023-04-22T04:52:31.384Z"
   },
   {
    "duration": 22,
    "start_time": "2023-04-22T04:52:31.481Z"
   },
   {
    "duration": 68,
    "start_time": "2023-04-22T04:52:31.505Z"
   },
   {
    "duration": 26,
    "start_time": "2023-04-22T04:52:31.581Z"
   },
   {
    "duration": 218,
    "start_time": "2023-04-22T04:52:31.609Z"
   },
   {
    "duration": 13,
    "start_time": "2023-04-22T04:52:33.064Z"
   },
   {
    "duration": 1412,
    "start_time": "2023-04-22T04:52:46.154Z"
   },
   {
    "duration": 50,
    "start_time": "2023-04-22T04:52:47.568Z"
   },
   {
    "duration": 10,
    "start_time": "2023-04-22T04:52:47.619Z"
   },
   {
    "duration": 37,
    "start_time": "2023-04-22T04:52:47.631Z"
   },
   {
    "duration": 20,
    "start_time": "2023-04-22T04:52:47.669Z"
   },
   {
    "duration": 42,
    "start_time": "2023-04-22T04:52:47.691Z"
   },
   {
    "duration": 26,
    "start_time": "2023-04-22T04:52:47.735Z"
   },
   {
    "duration": 36,
    "start_time": "2023-04-22T04:52:47.763Z"
   },
   {
    "duration": 22,
    "start_time": "2023-04-22T04:52:47.800Z"
   },
   {
    "duration": 292,
    "start_time": "2023-04-22T04:52:47.824Z"
   },
   {
    "duration": 3,
    "start_time": "2023-04-22T04:52:48.118Z"
   },
   {
    "duration": 10,
    "start_time": "2023-04-22T04:52:48.123Z"
   },
   {
    "duration": 845,
    "start_time": "2023-04-22T04:52:48.134Z"
   },
   {
    "duration": 550,
    "start_time": "2023-04-22T04:52:48.981Z"
   },
   {
    "duration": 6,
    "start_time": "2023-04-22T04:52:49.533Z"
   },
   {
    "duration": 17,
    "start_time": "2023-04-22T04:52:49.540Z"
   },
   {
    "duration": 44,
    "start_time": "2023-04-22T04:52:49.558Z"
   },
   {
    "duration": 27,
    "start_time": "2023-04-22T04:52:49.603Z"
   },
   {
    "duration": 7,
    "start_time": "2023-04-22T04:52:49.632Z"
   },
   {
    "duration": 41,
    "start_time": "2023-04-22T04:52:49.640Z"
   },
   {
    "duration": 19,
    "start_time": "2023-04-22T04:52:49.683Z"
   },
   {
    "duration": 12,
    "start_time": "2023-04-22T04:52:49.704Z"
   },
   {
    "duration": 5,
    "start_time": "2023-04-22T04:52:49.717Z"
   },
   {
    "duration": 5,
    "start_time": "2023-04-22T04:52:49.723Z"
   },
   {
    "duration": 11,
    "start_time": "2023-04-22T04:52:49.729Z"
   },
   {
    "duration": 15,
    "start_time": "2023-04-22T04:52:49.741Z"
   },
   {
    "duration": 30,
    "start_time": "2023-04-22T04:52:49.757Z"
   },
   {
    "duration": 28,
    "start_time": "2023-04-22T04:52:49.791Z"
   },
   {
    "duration": 33,
    "start_time": "2023-04-22T04:52:49.820Z"
   },
   {
    "duration": 34,
    "start_time": "2023-04-22T04:52:49.854Z"
   },
   {
    "duration": 21,
    "start_time": "2023-04-22T04:52:49.890Z"
   },
   {
    "duration": 65,
    "start_time": "2023-04-22T04:52:49.913Z"
   },
   {
    "duration": 41,
    "start_time": "2023-04-22T04:52:49.980Z"
   },
   {
    "duration": 45,
    "start_time": "2023-04-22T04:52:50.023Z"
   },
   {
    "duration": 45,
    "start_time": "2023-04-22T04:52:50.069Z"
   },
   {
    "duration": 28,
    "start_time": "2023-04-22T04:52:50.115Z"
   },
   {
    "duration": 23,
    "start_time": "2023-04-22T04:52:50.144Z"
   },
   {
    "duration": 48,
    "start_time": "2023-04-22T04:52:50.169Z"
   },
   {
    "duration": 22,
    "start_time": "2023-04-22T04:52:50.219Z"
   },
   {
    "duration": 48,
    "start_time": "2023-04-22T04:52:50.242Z"
   },
   {
    "duration": 19,
    "start_time": "2023-04-22T04:52:50.292Z"
   },
   {
    "duration": 13,
    "start_time": "2023-04-22T04:52:50.313Z"
   },
   {
    "duration": 34,
    "start_time": "2023-04-22T04:52:50.328Z"
   },
   {
    "duration": 35,
    "start_time": "2023-04-22T04:52:50.364Z"
   },
   {
    "duration": 30,
    "start_time": "2023-04-22T04:52:50.400Z"
   },
   {
    "duration": 14,
    "start_time": "2023-04-22T04:52:50.432Z"
   },
   {
    "duration": 18,
    "start_time": "2023-04-22T04:52:50.447Z"
   },
   {
    "duration": 24,
    "start_time": "2023-04-22T04:52:50.466Z"
   },
   {
    "duration": 13,
    "start_time": "2023-04-22T04:52:50.491Z"
   },
   {
    "duration": 12,
    "start_time": "2023-04-22T04:52:50.505Z"
   },
   {
    "duration": 15,
    "start_time": "2023-04-22T04:52:50.518Z"
   },
   {
    "duration": 24,
    "start_time": "2023-04-22T04:52:50.534Z"
   },
   {
    "duration": 20,
    "start_time": "2023-04-22T04:52:50.559Z"
   },
   {
    "duration": 97,
    "start_time": "2023-04-22T04:52:50.581Z"
   },
   {
    "duration": 26,
    "start_time": "2023-04-22T04:52:50.680Z"
   },
   {
    "duration": 1181378,
    "start_time": "2023-04-22T04:52:50.708Z"
   },
   {
    "duration": 8,
    "start_time": "2023-04-22T05:12:32.088Z"
   },
   {
    "duration": 36,
    "start_time": "2023-04-22T05:12:32.098Z"
   },
   {
    "duration": 24,
    "start_time": "2023-04-22T05:12:32.135Z"
   },
   {
    "duration": 3131383,
    "start_time": "2023-04-22T05:12:32.161Z"
   },
   {
    "duration": 8,
    "start_time": "2023-04-22T06:04:43.546Z"
   },
   {
    "duration": 33,
    "start_time": "2023-04-22T06:04:43.556Z"
   },
   {
    "duration": 18,
    "start_time": "2023-04-22T06:04:43.591Z"
   },
   {
    "duration": 45,
    "start_time": "2023-04-22T06:04:43.611Z"
   },
   {
    "duration": 40,
    "start_time": "2023-04-22T06:04:43.658Z"
   },
   {
    "duration": 21,
    "start_time": "2023-04-22T06:04:43.702Z"
   },
   {
    "duration": 15,
    "start_time": "2023-04-22T06:04:43.724Z"
   },
   {
    "duration": 56,
    "start_time": "2023-04-22T06:04:43.741Z"
   },
   {
    "duration": 4,
    "start_time": "2023-04-22T06:04:43.872Z"
   },
   {
    "duration": 94539,
    "start_time": "2023-04-22T06:04:43.878Z"
   },
   {
    "duration": 0,
    "start_time": "2023-04-22T06:06:18.420Z"
   },
   {
    "duration": 0,
    "start_time": "2023-04-22T06:06:18.422Z"
   },
   {
    "duration": 0,
    "start_time": "2023-04-22T06:06:18.425Z"
   },
   {
    "duration": 0,
    "start_time": "2023-04-22T06:06:18.427Z"
   },
   {
    "duration": 27,
    "start_time": "2023-04-22T06:06:19.070Z"
   },
   {
    "duration": 3,
    "start_time": "2023-04-22T06:07:58.226Z"
   },
   {
    "duration": 51,
    "start_time": "2023-04-22T06:07:58.231Z"
   },
   {
    "duration": 10,
    "start_time": "2023-04-22T06:07:58.284Z"
   },
   {
    "duration": 30,
    "start_time": "2023-04-22T06:07:58.296Z"
   },
   {
    "duration": 5,
    "start_time": "2023-04-22T06:07:58.327Z"
   },
   {
    "duration": 23,
    "start_time": "2023-04-22T06:07:58.333Z"
   },
   {
    "duration": 12,
    "start_time": "2023-04-22T06:07:58.358Z"
   },
   {
    "duration": 33,
    "start_time": "2023-04-22T06:07:58.371Z"
   },
   {
    "duration": 10,
    "start_time": "2023-04-22T06:07:58.408Z"
   },
   {
    "duration": 269,
    "start_time": "2023-04-22T06:07:58.419Z"
   },
   {
    "duration": 6,
    "start_time": "2023-04-22T06:07:58.690Z"
   },
   {
    "duration": 17,
    "start_time": "2023-04-22T06:07:58.697Z"
   },
   {
    "duration": 767,
    "start_time": "2023-04-22T06:07:58.715Z"
   },
   {
    "duration": 530,
    "start_time": "2023-04-22T06:07:59.485Z"
   },
   {
    "duration": 5,
    "start_time": "2023-04-22T06:08:00.016Z"
   },
   {
    "duration": 20,
    "start_time": "2023-04-22T06:08:00.022Z"
   },
   {
    "duration": 57,
    "start_time": "2023-04-22T06:08:00.044Z"
   },
   {
    "duration": 29,
    "start_time": "2023-04-22T06:08:00.103Z"
   },
   {
    "duration": 6,
    "start_time": "2023-04-22T06:08:00.134Z"
   },
   {
    "duration": 46,
    "start_time": "2023-04-22T06:08:00.141Z"
   },
   {
    "duration": 51,
    "start_time": "2023-04-22T06:08:00.188Z"
   },
   {
    "duration": 69,
    "start_time": "2023-04-22T06:08:00.240Z"
   },
   {
    "duration": 24,
    "start_time": "2023-04-22T06:08:00.311Z"
   },
   {
    "duration": 24,
    "start_time": "2023-04-22T06:08:00.338Z"
   },
   {
    "duration": 52,
    "start_time": "2023-04-22T06:08:00.363Z"
   },
   {
    "duration": 47,
    "start_time": "2023-04-22T06:08:00.416Z"
   },
   {
    "duration": 61,
    "start_time": "2023-04-22T06:08:00.464Z"
   },
   {
    "duration": 46,
    "start_time": "2023-04-22T06:08:00.527Z"
   },
   {
    "duration": 58,
    "start_time": "2023-04-22T06:08:00.575Z"
   },
   {
    "duration": 28,
    "start_time": "2023-04-22T06:08:00.634Z"
   },
   {
    "duration": 51,
    "start_time": "2023-04-22T06:08:00.664Z"
   },
   {
    "duration": 42,
    "start_time": "2023-04-22T06:08:00.717Z"
   },
   {
    "duration": 60,
    "start_time": "2023-04-22T06:08:00.761Z"
   },
   {
    "duration": 26,
    "start_time": "2023-04-22T06:08:00.822Z"
   },
   {
    "duration": 51,
    "start_time": "2023-04-22T06:08:00.849Z"
   },
   {
    "duration": 53,
    "start_time": "2023-04-22T06:08:00.902Z"
   },
   {
    "duration": 70,
    "start_time": "2023-04-22T06:08:00.956Z"
   },
   {
    "duration": 43,
    "start_time": "2023-04-22T06:08:01.028Z"
   },
   {
    "duration": 73,
    "start_time": "2023-04-22T06:08:01.073Z"
   },
   {
    "duration": 58,
    "start_time": "2023-04-22T06:08:01.147Z"
   },
   {
    "duration": 5,
    "start_time": "2023-04-22T06:10:32.821Z"
   },
   {
    "duration": 3,
    "start_time": "2023-04-22T06:10:40.999Z"
   },
   {
    "duration": 3,
    "start_time": "2023-04-22T06:10:41.454Z"
   },
   {
    "duration": 5,
    "start_time": "2023-04-22T06:10:42.500Z"
   },
   {
    "duration": 3,
    "start_time": "2023-04-22T06:10:52.140Z"
   },
   {
    "duration": 5,
    "start_time": "2023-04-22T06:10:56.357Z"
   },
   {
    "duration": 7,
    "start_time": "2023-04-22T06:10:57.169Z"
   },
   {
    "duration": 4,
    "start_time": "2023-04-22T06:11:50.316Z"
   },
   {
    "duration": 3,
    "start_time": "2023-04-22T06:11:50.830Z"
   },
   {
    "duration": 7,
    "start_time": "2023-04-22T06:11:57.248Z"
   },
   {
    "duration": 53,
    "start_time": "2023-04-22T06:13:05.137Z"
   },
   {
    "duration": 3,
    "start_time": "2023-04-22T06:13:36.288Z"
   },
   {
    "duration": 3,
    "start_time": "2023-04-22T06:13:49.729Z"
   },
   {
    "duration": 12,
    "start_time": "2023-04-22T06:15:14.606Z"
   },
   {
    "duration": 2,
    "start_time": "2023-04-22T06:15:17.024Z"
   },
   {
    "duration": 3,
    "start_time": "2023-04-22T06:15:17.665Z"
   },
   {
    "duration": 4,
    "start_time": "2023-04-22T06:15:18.096Z"
   },
   {
    "duration": 8,
    "start_time": "2023-04-22T06:15:20.014Z"
   },
   {
    "duration": 2,
    "start_time": "2023-04-22T06:15:58.346Z"
   },
   {
    "duration": 9,
    "start_time": "2023-04-22T06:16:00.490Z"
   },
   {
    "duration": 8,
    "start_time": "2023-04-22T06:16:31.030Z"
   },
   {
    "duration": 6,
    "start_time": "2023-04-22T06:16:33.969Z"
   },
   {
    "duration": 2,
    "start_time": "2023-04-22T06:16:58.343Z"
   },
   {
    "duration": 3,
    "start_time": "2023-04-22T06:17:26.950Z"
   },
   {
    "duration": 108,
    "start_time": "2023-04-22T06:17:26.955Z"
   },
   {
    "duration": 25,
    "start_time": "2023-04-22T06:17:27.065Z"
   },
   {
    "duration": 26,
    "start_time": "2023-04-22T06:17:27.092Z"
   },
   {
    "duration": 16,
    "start_time": "2023-04-22T06:17:27.121Z"
   },
   {
    "duration": 12,
    "start_time": "2023-04-22T06:17:27.139Z"
   },
   {
    "duration": 11,
    "start_time": "2023-04-22T06:17:27.152Z"
   },
   {
    "duration": 16,
    "start_time": "2023-04-22T06:17:27.164Z"
   },
   {
    "duration": 72,
    "start_time": "2023-04-22T06:17:27.181Z"
   },
   {
    "duration": 294,
    "start_time": "2023-04-22T06:17:27.255Z"
   },
   {
    "duration": 3,
    "start_time": "2023-04-22T06:17:27.552Z"
   },
   {
    "duration": 14,
    "start_time": "2023-04-22T06:17:27.556Z"
   },
   {
    "duration": 859,
    "start_time": "2023-04-22T06:17:27.571Z"
   },
   {
    "duration": 572,
    "start_time": "2023-04-22T06:17:28.431Z"
   },
   {
    "duration": 5,
    "start_time": "2023-04-22T06:17:29.014Z"
   },
   {
    "duration": 15,
    "start_time": "2023-04-22T06:17:29.021Z"
   },
   {
    "duration": 20,
    "start_time": "2023-04-22T06:17:29.038Z"
   },
   {
    "duration": 44,
    "start_time": "2023-04-22T06:17:29.059Z"
   },
   {
    "duration": 18,
    "start_time": "2023-04-22T06:17:29.106Z"
   },
   {
    "duration": 28,
    "start_time": "2023-04-22T06:17:29.125Z"
   },
   {
    "duration": 5,
    "start_time": "2023-04-22T06:17:29.154Z"
   },
   {
    "duration": 44,
    "start_time": "2023-04-22T06:17:29.160Z"
   },
   {
    "duration": 14,
    "start_time": "2023-04-22T06:17:29.205Z"
   },
   {
    "duration": 7,
    "start_time": "2023-04-22T06:17:29.220Z"
   },
   {
    "duration": 7,
    "start_time": "2023-04-22T06:17:29.228Z"
   },
   {
    "duration": 15,
    "start_time": "2023-04-22T06:17:29.236Z"
   },
   {
    "duration": 13,
    "start_time": "2023-04-22T06:17:29.252Z"
   },
   {
    "duration": 19,
    "start_time": "2023-04-22T06:17:29.267Z"
   },
   {
    "duration": 19,
    "start_time": "2023-04-22T06:17:29.293Z"
   },
   {
    "duration": 16,
    "start_time": "2023-04-22T06:17:29.319Z"
   },
   {
    "duration": 9,
    "start_time": "2023-04-22T06:17:29.337Z"
   },
   {
    "duration": 8,
    "start_time": "2023-04-22T06:17:29.347Z"
   },
   {
    "duration": 13,
    "start_time": "2023-04-22T06:17:29.356Z"
   },
   {
    "duration": 47,
    "start_time": "2023-04-22T06:17:29.370Z"
   },
   {
    "duration": 10,
    "start_time": "2023-04-22T06:17:29.418Z"
   },
   {
    "duration": 7,
    "start_time": "2023-04-22T06:17:29.429Z"
   },
   {
    "duration": 8,
    "start_time": "2023-04-22T06:17:29.437Z"
   },
   {
    "duration": 7,
    "start_time": "2023-04-22T06:17:29.446Z"
   },
   {
    "duration": 6,
    "start_time": "2023-04-22T06:17:29.454Z"
   },
   {
    "duration": 28,
    "start_time": "2023-04-22T06:17:29.461Z"
   },
   {
    "duration": 15,
    "start_time": "2023-04-22T06:17:29.491Z"
   },
   {
    "duration": 12,
    "start_time": "2023-04-22T06:17:29.507Z"
   },
   {
    "duration": 5,
    "start_time": "2023-04-22T06:17:29.521Z"
   },
   {
    "duration": 7,
    "start_time": "2023-04-22T06:17:29.528Z"
   },
   {
    "duration": 6,
    "start_time": "2023-04-22T06:17:29.536Z"
   },
   {
    "duration": 8,
    "start_time": "2023-04-22T06:17:29.544Z"
   },
   {
    "duration": 8,
    "start_time": "2023-04-22T06:17:29.553Z"
   },
   {
    "duration": 4,
    "start_time": "2023-04-22T06:17:29.562Z"
   },
   {
    "duration": 36,
    "start_time": "2023-04-22T06:17:29.567Z"
   },
   {
    "duration": 170,
    "start_time": "2023-04-22T06:17:29.604Z"
   },
   {
    "duration": 18,
    "start_time": "2023-04-22T06:17:29.776Z"
   },
   {
    "duration": 29,
    "start_time": "2023-04-22T06:17:29.795Z"
   },
   {
    "duration": 50,
    "start_time": "2023-04-22T06:17:29.826Z"
   },
   {
    "duration": 8,
    "start_time": "2023-04-22T06:17:29.882Z"
   },
   {
    "duration": 34446,
    "start_time": "2023-04-22T06:17:29.891Z"
   },
   {
    "duration": 7,
    "start_time": "2023-04-22T06:18:04.339Z"
   },
   {
    "duration": 2,
    "start_time": "2023-04-22T06:18:35.349Z"
   },
   {
    "duration": 15,
    "start_time": "2023-04-22T06:18:35.354Z"
   },
   {
    "duration": 48,
    "start_time": "2023-04-22T06:18:35.371Z"
   },
   {
    "duration": 96225,
    "start_time": "2023-04-22T06:18:35.420Z"
   },
   {
    "duration": 7,
    "start_time": "2023-04-22T06:20:11.647Z"
   },
   {
    "duration": 54,
    "start_time": "2023-04-22T06:20:11.656Z"
   },
   {
    "duration": 15,
    "start_time": "2023-04-22T06:20:11.712Z"
   },
   {
    "duration": 52201,
    "start_time": "2023-04-22T06:20:11.729Z"
   },
   {
    "duration": 8,
    "start_time": "2023-04-22T06:21:03.931Z"
   },
   {
    "duration": 26,
    "start_time": "2023-04-22T06:21:03.941Z"
   },
   {
    "duration": 64,
    "start_time": "2023-04-22T06:21:03.970Z"
   },
   {
    "duration": 1606,
    "start_time": "2023-04-22T06:21:04.035Z"
   },
   {
    "duration": 7,
    "start_time": "2023-04-22T06:21:05.642Z"
   },
   {
    "duration": 49,
    "start_time": "2023-04-22T06:21:05.650Z"
   },
   {
    "duration": 48,
    "start_time": "2023-04-22T06:21:05.701Z"
   },
   {
    "duration": 60,
    "start_time": "2023-04-22T06:21:05.750Z"
   },
   {
    "duration": 32,
    "start_time": "2023-04-22T06:21:05.813Z"
   },
   {
    "duration": 0,
    "start_time": "2023-04-22T06:21:05.849Z"
   },
   {
    "duration": 0,
    "start_time": "2023-04-22T06:21:05.849Z"
   },
   {
    "duration": 0,
    "start_time": "2023-04-22T06:21:05.850Z"
   },
   {
    "duration": 0,
    "start_time": "2023-04-22T06:21:05.851Z"
   },
   {
    "duration": 0,
    "start_time": "2023-04-22T06:21:05.851Z"
   },
   {
    "duration": 0,
    "start_time": "2023-04-22T06:21:05.852Z"
   },
   {
    "duration": 0,
    "start_time": "2023-04-22T06:21:05.854Z"
   },
   {
    "duration": 0,
    "start_time": "2023-04-22T06:21:05.856Z"
   },
   {
    "duration": 0,
    "start_time": "2023-04-22T06:21:05.857Z"
   },
   {
    "duration": 0,
    "start_time": "2023-04-22T06:21:05.857Z"
   },
   {
    "duration": 0,
    "start_time": "2023-04-22T06:21:05.859Z"
   },
   {
    "duration": 0,
    "start_time": "2023-04-22T06:21:05.860Z"
   },
   {
    "duration": 0,
    "start_time": "2023-04-22T06:21:05.860Z"
   },
   {
    "duration": 0,
    "start_time": "2023-04-22T06:21:05.861Z"
   },
   {
    "duration": 0,
    "start_time": "2023-04-22T06:21:05.862Z"
   },
   {
    "duration": 0,
    "start_time": "2023-04-22T06:21:05.863Z"
   },
   {
    "duration": 0,
    "start_time": "2023-04-22T06:21:05.864Z"
   },
   {
    "duration": 0,
    "start_time": "2023-04-22T06:21:05.865Z"
   },
   {
    "duration": 0,
    "start_time": "2023-04-22T06:21:05.866Z"
   },
   {
    "duration": 0,
    "start_time": "2023-04-22T06:21:05.868Z"
   },
   {
    "duration": 0,
    "start_time": "2023-04-22T06:21:05.869Z"
   },
   {
    "duration": 0,
    "start_time": "2023-04-22T06:21:05.874Z"
   },
   {
    "duration": 0,
    "start_time": "2023-04-22T06:21:05.876Z"
   },
   {
    "duration": 0,
    "start_time": "2023-04-22T06:21:05.877Z"
   },
   {
    "duration": 0,
    "start_time": "2023-04-22T06:21:05.878Z"
   },
   {
    "duration": 0,
    "start_time": "2023-04-22T06:21:05.879Z"
   },
   {
    "duration": 0,
    "start_time": "2023-04-22T06:21:05.880Z"
   },
   {
    "duration": 0,
    "start_time": "2023-04-22T06:21:05.881Z"
   },
   {
    "duration": 0,
    "start_time": "2023-04-22T06:21:05.881Z"
   },
   {
    "duration": 0,
    "start_time": "2023-04-22T06:21:05.882Z"
   },
   {
    "duration": 0,
    "start_time": "2023-04-22T06:21:05.883Z"
   },
   {
    "duration": 0,
    "start_time": "2023-04-22T06:21:05.890Z"
   },
   {
    "duration": 0,
    "start_time": "2023-04-22T06:21:05.891Z"
   },
   {
    "duration": 0,
    "start_time": "2023-04-22T06:21:05.891Z"
   },
   {
    "duration": 0,
    "start_time": "2023-04-22T06:21:05.892Z"
   },
   {
    "duration": 0,
    "start_time": "2023-04-22T06:21:05.893Z"
   },
   {
    "duration": 0,
    "start_time": "2023-04-22T06:21:05.898Z"
   },
   {
    "duration": 0,
    "start_time": "2023-04-22T06:21:05.899Z"
   },
   {
    "duration": 0,
    "start_time": "2023-04-22T06:21:05.900Z"
   },
   {
    "duration": 1,
    "start_time": "2023-04-22T06:21:05.900Z"
   },
   {
    "duration": 0,
    "start_time": "2023-04-22T06:21:05.901Z"
   },
   {
    "duration": 0,
    "start_time": "2023-04-22T06:21:05.902Z"
   },
   {
    "duration": 0,
    "start_time": "2023-04-22T06:21:05.903Z"
   },
   {
    "duration": 0,
    "start_time": "2023-04-22T06:21:05.904Z"
   },
   {
    "duration": 0,
    "start_time": "2023-04-22T06:21:05.905Z"
   },
   {
    "duration": 0,
    "start_time": "2023-04-22T06:21:05.910Z"
   },
   {
    "duration": 0,
    "start_time": "2023-04-22T06:21:05.910Z"
   },
   {
    "duration": 0,
    "start_time": "2023-04-22T06:21:05.911Z"
   },
   {
    "duration": 0,
    "start_time": "2023-04-22T06:21:05.912Z"
   },
   {
    "duration": 0,
    "start_time": "2023-04-22T06:21:05.913Z"
   },
   {
    "duration": 0,
    "start_time": "2023-04-22T06:21:05.914Z"
   },
   {
    "duration": 0,
    "start_time": "2023-04-22T06:21:05.915Z"
   },
   {
    "duration": 0,
    "start_time": "2023-04-22T06:21:05.915Z"
   },
   {
    "duration": 0,
    "start_time": "2023-04-22T06:21:05.916Z"
   },
   {
    "duration": 0,
    "start_time": "2023-04-22T06:21:05.917Z"
   },
   {
    "duration": 0,
    "start_time": "2023-04-22T06:21:05.918Z"
   },
   {
    "duration": 0,
    "start_time": "2023-04-22T06:21:05.919Z"
   },
   {
    "duration": 0,
    "start_time": "2023-04-22T06:21:05.921Z"
   },
   {
    "duration": 0,
    "start_time": "2023-04-22T06:21:05.922Z"
   },
   {
    "duration": 0,
    "start_time": "2023-04-22T06:21:05.923Z"
   },
   {
    "duration": 0,
    "start_time": "2023-04-22T06:21:05.924Z"
   },
   {
    "duration": 0,
    "start_time": "2023-04-22T06:21:05.929Z"
   },
   {
    "duration": 0,
    "start_time": "2023-04-22T06:21:05.930Z"
   },
   {
    "duration": 0,
    "start_time": "2023-04-22T06:21:05.932Z"
   },
   {
    "duration": 0,
    "start_time": "2023-04-22T06:21:05.933Z"
   },
   {
    "duration": 0,
    "start_time": "2023-04-22T06:21:05.935Z"
   },
   {
    "duration": 0,
    "start_time": "2023-04-22T06:21:05.936Z"
   },
   {
    "duration": 0,
    "start_time": "2023-04-22T06:21:05.938Z"
   },
   {
    "duration": 5,
    "start_time": "2023-04-22T06:21:21.799Z"
   },
   {
    "duration": 76,
    "start_time": "2023-04-22T06:21:21.806Z"
   },
   {
    "duration": 13,
    "start_time": "2023-04-22T06:21:21.884Z"
   },
   {
    "duration": 32,
    "start_time": "2023-04-22T06:21:21.899Z"
   },
   {
    "duration": 5,
    "start_time": "2023-04-22T06:21:21.933Z"
   },
   {
    "duration": 7,
    "start_time": "2023-04-22T06:21:21.940Z"
   },
   {
    "duration": 7,
    "start_time": "2023-04-22T06:21:21.949Z"
   },
   {
    "duration": 6,
    "start_time": "2023-04-22T06:21:21.957Z"
   },
   {
    "duration": 7,
    "start_time": "2023-04-22T06:21:21.976Z"
   },
   {
    "duration": 326,
    "start_time": "2023-04-22T06:21:21.984Z"
   },
   {
    "duration": 5,
    "start_time": "2023-04-22T06:21:22.312Z"
   },
   {
    "duration": 18,
    "start_time": "2023-04-22T06:21:22.319Z"
   },
   {
    "duration": 828,
    "start_time": "2023-04-22T06:21:22.340Z"
   },
   {
    "duration": 719,
    "start_time": "2023-04-22T06:21:23.171Z"
   },
   {
    "duration": 5,
    "start_time": "2023-04-22T06:21:23.891Z"
   },
   {
    "duration": 22,
    "start_time": "2023-04-22T06:21:23.897Z"
   },
   {
    "duration": 14,
    "start_time": "2023-04-22T06:21:23.922Z"
   },
   {
    "duration": 24,
    "start_time": "2023-04-22T06:21:23.938Z"
   },
   {
    "duration": 22,
    "start_time": "2023-04-22T06:21:23.964Z"
   },
   {
    "duration": 45,
    "start_time": "2023-04-22T06:21:23.988Z"
   },
   {
    "duration": 5,
    "start_time": "2023-04-22T06:21:24.035Z"
   },
   {
    "duration": 5,
    "start_time": "2023-04-22T06:21:24.042Z"
   },
   {
    "duration": 14,
    "start_time": "2023-04-22T06:21:24.048Z"
   },
   {
    "duration": 34,
    "start_time": "2023-04-22T06:21:24.063Z"
   },
   {
    "duration": 12,
    "start_time": "2023-04-22T06:21:24.100Z"
   },
   {
    "duration": 10,
    "start_time": "2023-04-22T06:21:24.113Z"
   },
   {
    "duration": 6,
    "start_time": "2023-04-22T06:21:24.124Z"
   },
   {
    "duration": 14,
    "start_time": "2023-04-22T06:21:24.132Z"
   },
   {
    "duration": 7,
    "start_time": "2023-04-22T06:21:24.148Z"
   },
   {
    "duration": 6,
    "start_time": "2023-04-22T06:21:24.157Z"
   },
   {
    "duration": 7,
    "start_time": "2023-04-22T06:21:24.164Z"
   },
   {
    "duration": 52,
    "start_time": "2023-04-22T06:21:24.173Z"
   },
   {
    "duration": 7,
    "start_time": "2023-04-22T06:21:24.227Z"
   },
   {
    "duration": 5,
    "start_time": "2023-04-22T06:21:24.236Z"
   },
   {
    "duration": 16,
    "start_time": "2023-04-22T06:21:24.242Z"
   },
   {
    "duration": 10,
    "start_time": "2023-04-22T06:21:24.259Z"
   },
   {
    "duration": 49,
    "start_time": "2023-04-22T06:21:24.273Z"
   },
   {
    "duration": 5,
    "start_time": "2023-04-22T06:21:24.324Z"
   },
   {
    "duration": 8,
    "start_time": "2023-04-22T06:21:24.330Z"
   },
   {
    "duration": 13,
    "start_time": "2023-04-22T06:21:24.339Z"
   },
   {
    "duration": 7,
    "start_time": "2023-04-22T06:21:24.354Z"
   },
   {
    "duration": 9,
    "start_time": "2023-04-22T06:21:24.362Z"
   },
   {
    "duration": 45,
    "start_time": "2023-04-22T06:21:24.373Z"
   },
   {
    "duration": 23,
    "start_time": "2023-04-22T06:21:24.420Z"
   },
   {
    "duration": 15,
    "start_time": "2023-04-22T06:21:24.444Z"
   },
   {
    "duration": 9,
    "start_time": "2023-04-22T06:21:24.461Z"
   },
   {
    "duration": 38,
    "start_time": "2023-04-22T06:21:24.471Z"
   },
   {
    "duration": 9,
    "start_time": "2023-04-22T06:21:24.511Z"
   },
   {
    "duration": 5,
    "start_time": "2023-04-22T06:21:24.522Z"
   },
   {
    "duration": 178,
    "start_time": "2023-04-22T06:21:24.528Z"
   },
   {
    "duration": 64,
    "start_time": "2023-04-22T06:21:24.709Z"
   },
   {
    "duration": 5,
    "start_time": "2023-04-22T06:21:24.776Z"
   },
   {
    "duration": 35,
    "start_time": "2023-04-22T06:21:24.783Z"
   },
   {
    "duration": 6,
    "start_time": "2023-04-22T06:21:24.820Z"
   },
   {
    "duration": 34709,
    "start_time": "2023-04-22T06:21:24.827Z"
   },
   {
    "duration": 9,
    "start_time": "2023-04-22T06:21:59.537Z"
   },
   {
    "duration": 7,
    "start_time": "2023-04-22T06:21:59.548Z"
   },
   {
    "duration": 13,
    "start_time": "2023-04-22T06:21:59.556Z"
   },
   {
    "duration": 0,
    "start_time": "2023-04-22T06:21:59.570Z"
   },
   {
    "duration": 0,
    "start_time": "2023-04-22T06:21:59.576Z"
   },
   {
    "duration": 0,
    "start_time": "2023-04-22T06:21:59.577Z"
   },
   {
    "duration": 3,
    "start_time": "2023-04-22T06:37:55.489Z"
   },
   {
    "duration": 21,
    "start_time": "2023-04-22T06:37:55.493Z"
   },
   {
    "duration": 5,
    "start_time": "2023-04-22T06:37:55.516Z"
   },
   {
    "duration": 118733,
    "start_time": "2023-04-22T06:37:55.522Z"
   },
   {
    "duration": 8,
    "start_time": "2023-04-22T06:39:54.258Z"
   },
   {
    "duration": 73,
    "start_time": "2023-04-22T06:39:54.268Z"
   },
   {
    "duration": 17,
    "start_time": "2023-04-22T06:39:54.343Z"
   },
   {
    "duration": 1863,
    "start_time": "2023-04-22T07:51:22.067Z"
   },
   {
    "duration": 54,
    "start_time": "2023-04-22T07:51:23.931Z"
   },
   {
    "duration": 24,
    "start_time": "2023-04-22T07:51:23.987Z"
   },
   {
    "duration": 20,
    "start_time": "2023-04-22T07:51:24.014Z"
   },
   {
    "duration": 12,
    "start_time": "2023-04-22T07:51:24.035Z"
   },
   {
    "duration": 37,
    "start_time": "2023-04-22T07:51:24.048Z"
   },
   {
    "duration": 41,
    "start_time": "2023-04-22T07:51:24.087Z"
   },
   {
    "duration": 16,
    "start_time": "2023-04-22T07:51:24.129Z"
   },
   {
    "duration": 64,
    "start_time": "2023-04-22T07:51:24.147Z"
   },
   {
    "duration": 497,
    "start_time": "2023-04-22T07:51:24.214Z"
   },
   {
    "duration": 6,
    "start_time": "2023-04-22T07:51:24.712Z"
   },
   {
    "duration": 15,
    "start_time": "2023-04-22T07:51:24.720Z"
   },
   {
    "duration": 364,
    "start_time": "2023-04-22T07:51:24.736Z"
   },
   {
    "duration": 0,
    "start_time": "2023-04-22T07:51:25.105Z"
   },
   {
    "duration": 1,
    "start_time": "2023-04-22T07:51:25.105Z"
   },
   {
    "duration": 0,
    "start_time": "2023-04-22T07:51:25.106Z"
   },
   {
    "duration": 0,
    "start_time": "2023-04-22T07:51:25.107Z"
   },
   {
    "duration": 0,
    "start_time": "2023-04-22T07:51:25.115Z"
   },
   {
    "duration": 0,
    "start_time": "2023-04-22T07:51:25.118Z"
   },
   {
    "duration": 0,
    "start_time": "2023-04-22T07:51:25.119Z"
   },
   {
    "duration": 0,
    "start_time": "2023-04-22T07:51:25.120Z"
   },
   {
    "duration": 0,
    "start_time": "2023-04-22T07:51:25.121Z"
   },
   {
    "duration": 0,
    "start_time": "2023-04-22T07:51:25.122Z"
   },
   {
    "duration": 0,
    "start_time": "2023-04-22T07:51:25.123Z"
   },
   {
    "duration": 0,
    "start_time": "2023-04-22T07:51:25.124Z"
   },
   {
    "duration": 0,
    "start_time": "2023-04-22T07:51:25.125Z"
   },
   {
    "duration": 0,
    "start_time": "2023-04-22T07:51:25.125Z"
   },
   {
    "duration": 0,
    "start_time": "2023-04-22T07:51:25.126Z"
   },
   {
    "duration": 0,
    "start_time": "2023-04-22T07:51:25.127Z"
   },
   {
    "duration": 0,
    "start_time": "2023-04-22T07:51:25.128Z"
   },
   {
    "duration": 0,
    "start_time": "2023-04-22T07:51:25.128Z"
   },
   {
    "duration": 0,
    "start_time": "2023-04-22T07:51:25.129Z"
   },
   {
    "duration": 0,
    "start_time": "2023-04-22T07:51:25.130Z"
   },
   {
    "duration": 0,
    "start_time": "2023-04-22T07:51:25.131Z"
   },
   {
    "duration": 0,
    "start_time": "2023-04-22T07:51:25.132Z"
   },
   {
    "duration": 0,
    "start_time": "2023-04-22T07:51:25.133Z"
   },
   {
    "duration": 1,
    "start_time": "2023-04-22T07:51:25.133Z"
   },
   {
    "duration": 0,
    "start_time": "2023-04-22T07:51:25.134Z"
   },
   {
    "duration": 0,
    "start_time": "2023-04-22T07:51:25.135Z"
   },
   {
    "duration": 0,
    "start_time": "2023-04-22T07:51:25.136Z"
   },
   {
    "duration": 0,
    "start_time": "2023-04-22T07:51:25.137Z"
   },
   {
    "duration": 0,
    "start_time": "2023-04-22T07:51:25.138Z"
   },
   {
    "duration": 0,
    "start_time": "2023-04-22T07:51:25.139Z"
   },
   {
    "duration": 0,
    "start_time": "2023-04-22T07:51:25.139Z"
   },
   {
    "duration": 0,
    "start_time": "2023-04-22T07:51:25.140Z"
   },
   {
    "duration": 0,
    "start_time": "2023-04-22T07:51:25.141Z"
   },
   {
    "duration": 0,
    "start_time": "2023-04-22T07:51:25.142Z"
   },
   {
    "duration": 0,
    "start_time": "2023-04-22T07:51:25.143Z"
   },
   {
    "duration": 0,
    "start_time": "2023-04-22T07:51:25.144Z"
   },
   {
    "duration": 0,
    "start_time": "2023-04-22T07:51:25.172Z"
   },
   {
    "duration": 0,
    "start_time": "2023-04-22T07:51:25.173Z"
   },
   {
    "duration": 0,
    "start_time": "2023-04-22T07:51:25.174Z"
   },
   {
    "duration": 0,
    "start_time": "2023-04-22T07:51:25.175Z"
   },
   {
    "duration": 0,
    "start_time": "2023-04-22T07:51:25.176Z"
   },
   {
    "duration": 0,
    "start_time": "2023-04-22T07:51:25.177Z"
   },
   {
    "duration": 0,
    "start_time": "2023-04-22T07:51:25.178Z"
   },
   {
    "duration": 0,
    "start_time": "2023-04-22T07:51:25.178Z"
   },
   {
    "duration": 0,
    "start_time": "2023-04-22T07:51:25.179Z"
   },
   {
    "duration": 0,
    "start_time": "2023-04-22T07:51:25.179Z"
   },
   {
    "duration": 0,
    "start_time": "2023-04-22T07:51:25.180Z"
   },
   {
    "duration": 0,
    "start_time": "2023-04-22T07:51:25.181Z"
   },
   {
    "duration": 0,
    "start_time": "2023-04-22T07:51:25.181Z"
   },
   {
    "duration": 0,
    "start_time": "2023-04-22T07:51:25.182Z"
   },
   {
    "duration": 0,
    "start_time": "2023-04-22T07:51:25.183Z"
   },
   {
    "duration": 0,
    "start_time": "2023-04-22T07:51:25.184Z"
   },
   {
    "duration": 0,
    "start_time": "2023-04-22T07:51:25.186Z"
   },
   {
    "duration": 0,
    "start_time": "2023-04-22T07:51:25.186Z"
   },
   {
    "duration": 0,
    "start_time": "2023-04-22T07:51:25.187Z"
   },
   {
    "duration": 0,
    "start_time": "2023-04-22T07:51:25.187Z"
   },
   {
    "duration": 0,
    "start_time": "2023-04-22T07:51:25.188Z"
   },
   {
    "duration": 0,
    "start_time": "2023-04-22T07:51:25.188Z"
   },
   {
    "duration": 0,
    "start_time": "2023-04-22T07:51:25.189Z"
   },
   {
    "duration": 0,
    "start_time": "2023-04-22T07:51:25.189Z"
   },
   {
    "duration": 0,
    "start_time": "2023-04-22T07:51:25.199Z"
   },
   {
    "duration": 0,
    "start_time": "2023-04-22T07:51:25.200Z"
   },
   {
    "duration": 0,
    "start_time": "2023-04-22T07:51:25.201Z"
   },
   {
    "duration": 0,
    "start_time": "2023-04-22T07:51:25.202Z"
   },
   {
    "duration": 0,
    "start_time": "2023-04-22T07:51:25.203Z"
   },
   {
    "duration": 0,
    "start_time": "2023-04-22T07:51:25.204Z"
   },
   {
    "duration": 0,
    "start_time": "2023-04-22T07:51:25.205Z"
   },
   {
    "duration": 0,
    "start_time": "2023-04-22T07:51:25.206Z"
   },
   {
    "duration": 0,
    "start_time": "2023-04-22T07:51:25.207Z"
   },
   {
    "duration": 1599,
    "start_time": "2023-04-22T07:51:39.862Z"
   },
   {
    "duration": 72,
    "start_time": "2023-04-22T07:51:41.463Z"
   },
   {
    "duration": 10,
    "start_time": "2023-04-22T07:51:41.537Z"
   },
   {
    "duration": 58,
    "start_time": "2023-04-22T07:51:41.550Z"
   },
   {
    "duration": 17,
    "start_time": "2023-04-22T07:51:41.609Z"
   },
   {
    "duration": 24,
    "start_time": "2023-04-22T07:51:41.627Z"
   },
   {
    "duration": 7,
    "start_time": "2023-04-22T07:51:41.653Z"
   },
   {
    "duration": 9,
    "start_time": "2023-04-22T07:51:41.661Z"
   },
   {
    "duration": 51,
    "start_time": "2023-04-22T07:51:41.673Z"
   },
   {
    "duration": 284,
    "start_time": "2023-04-22T07:51:41.728Z"
   },
   {
    "duration": 4,
    "start_time": "2023-04-22T07:51:42.014Z"
   },
   {
    "duration": 7,
    "start_time": "2023-04-22T07:51:42.020Z"
   },
   {
    "duration": 834,
    "start_time": "2023-04-22T07:51:42.029Z"
   },
   {
    "duration": 671,
    "start_time": "2023-04-22T07:51:42.865Z"
   },
   {
    "duration": 4,
    "start_time": "2023-04-22T07:51:43.538Z"
   },
   {
    "duration": 13,
    "start_time": "2023-04-22T07:51:43.543Z"
   },
   {
    "duration": 20,
    "start_time": "2023-04-22T07:51:43.557Z"
   },
   {
    "duration": 63,
    "start_time": "2023-04-22T07:51:43.578Z"
   },
   {
    "duration": 6,
    "start_time": "2023-04-22T07:51:43.643Z"
   },
   {
    "duration": 27,
    "start_time": "2023-04-22T07:51:43.650Z"
   },
   {
    "duration": 39,
    "start_time": "2023-04-22T07:51:43.679Z"
   },
   {
    "duration": 17,
    "start_time": "2023-04-22T07:51:43.720Z"
   },
   {
    "duration": 9,
    "start_time": "2023-04-22T07:51:43.738Z"
   },
   {
    "duration": 7,
    "start_time": "2023-04-22T07:51:43.749Z"
   },
   {
    "duration": 11,
    "start_time": "2023-04-22T07:51:43.757Z"
   },
   {
    "duration": 52,
    "start_time": "2023-04-22T07:51:43.769Z"
   },
   {
    "duration": 8,
    "start_time": "2023-04-22T07:51:43.823Z"
   },
   {
    "duration": 9,
    "start_time": "2023-04-22T07:51:43.835Z"
   },
   {
    "duration": 5,
    "start_time": "2023-04-22T07:51:43.845Z"
   },
   {
    "duration": 5,
    "start_time": "2023-04-22T07:51:43.852Z"
   },
   {
    "duration": 6,
    "start_time": "2023-04-22T07:51:43.858Z"
   },
   {
    "duration": 5,
    "start_time": "2023-04-22T07:51:43.865Z"
   },
   {
    "duration": 41,
    "start_time": "2023-04-22T07:51:43.871Z"
   },
   {
    "duration": 14,
    "start_time": "2023-04-22T07:51:43.915Z"
   },
   {
    "duration": 16,
    "start_time": "2023-04-22T07:51:43.930Z"
   },
   {
    "duration": 6,
    "start_time": "2023-04-22T07:51:43.947Z"
   },
   {
    "duration": 10,
    "start_time": "2023-04-22T07:51:43.954Z"
   },
   {
    "duration": 5,
    "start_time": "2023-04-22T07:51:43.965Z"
   },
   {
    "duration": 39,
    "start_time": "2023-04-22T07:51:43.971Z"
   },
   {
    "duration": 18,
    "start_time": "2023-04-22T07:51:44.012Z"
   },
   {
    "duration": 6,
    "start_time": "2023-04-22T07:51:44.032Z"
   },
   {
    "duration": 17,
    "start_time": "2023-04-22T07:51:44.039Z"
   },
   {
    "duration": 8,
    "start_time": "2023-04-22T07:51:44.058Z"
   },
   {
    "duration": 43,
    "start_time": "2023-04-22T07:51:44.068Z"
   },
   {
    "duration": 9,
    "start_time": "2023-04-22T07:51:44.112Z"
   },
   {
    "duration": 21,
    "start_time": "2023-04-22T07:51:44.122Z"
   },
   {
    "duration": 5,
    "start_time": "2023-04-22T07:51:44.145Z"
   },
   {
    "duration": 6,
    "start_time": "2023-04-22T07:51:44.151Z"
   },
   {
    "duration": 6,
    "start_time": "2023-04-22T07:51:44.158Z"
   },
   {
    "duration": 243,
    "start_time": "2023-04-22T07:51:44.166Z"
   },
   {
    "duration": 10,
    "start_time": "2023-04-22T07:51:44.411Z"
   },
   {
    "duration": 0,
    "start_time": "2023-04-22T07:51:44.423Z"
   },
   {
    "duration": 0,
    "start_time": "2023-04-22T07:51:44.424Z"
   },
   {
    "duration": 0,
    "start_time": "2023-04-22T07:51:44.425Z"
   },
   {
    "duration": 0,
    "start_time": "2023-04-22T07:51:44.427Z"
   },
   {
    "duration": 0,
    "start_time": "2023-04-22T07:51:44.428Z"
   },
   {
    "duration": 0,
    "start_time": "2023-04-22T07:51:44.429Z"
   },
   {
    "duration": 0,
    "start_time": "2023-04-22T07:51:44.430Z"
   },
   {
    "duration": 0,
    "start_time": "2023-04-22T07:51:44.431Z"
   },
   {
    "duration": 0,
    "start_time": "2023-04-22T07:51:44.432Z"
   },
   {
    "duration": 0,
    "start_time": "2023-04-22T07:51:44.433Z"
   },
   {
    "duration": 0,
    "start_time": "2023-04-22T07:51:44.434Z"
   },
   {
    "duration": 0,
    "start_time": "2023-04-22T07:51:44.435Z"
   },
   {
    "duration": 0,
    "start_time": "2023-04-22T07:51:44.436Z"
   },
   {
    "duration": 0,
    "start_time": "2023-04-22T07:51:44.437Z"
   },
   {
    "duration": 0,
    "start_time": "2023-04-22T07:51:44.437Z"
   },
   {
    "duration": 0,
    "start_time": "2023-04-22T07:51:44.438Z"
   },
   {
    "duration": 0,
    "start_time": "2023-04-22T07:51:44.439Z"
   },
   {
    "duration": 0,
    "start_time": "2023-04-22T07:51:44.440Z"
   },
   {
    "duration": 0,
    "start_time": "2023-04-22T07:51:44.441Z"
   },
   {
    "duration": 0,
    "start_time": "2023-04-22T07:51:44.443Z"
   },
   {
    "duration": 0,
    "start_time": "2023-04-22T07:51:44.445Z"
   },
   {
    "duration": 0,
    "start_time": "2023-04-22T07:51:44.446Z"
   },
   {
    "duration": 0,
    "start_time": "2023-04-22T07:51:44.447Z"
   },
   {
    "duration": 0,
    "start_time": "2023-04-22T07:51:44.449Z"
   },
   {
    "duration": 0,
    "start_time": "2023-04-22T07:51:44.450Z"
   },
   {
    "duration": 0,
    "start_time": "2023-04-22T07:51:44.453Z"
   },
   {
    "duration": 0,
    "start_time": "2023-04-22T07:51:44.454Z"
   },
   {
    "duration": 0,
    "start_time": "2023-04-22T07:51:44.473Z"
   },
   {
    "duration": 0,
    "start_time": "2023-04-22T07:51:44.474Z"
   },
   {
    "duration": 0,
    "start_time": "2023-04-22T07:51:44.474Z"
   },
   {
    "duration": 0,
    "start_time": "2023-04-22T07:51:44.475Z"
   },
   {
    "duration": 1673,
    "start_time": "2023-04-22T07:52:25.232Z"
   },
   {
    "duration": 58,
    "start_time": "2023-04-22T07:52:26.909Z"
   },
   {
    "duration": 13,
    "start_time": "2023-04-22T07:52:26.968Z"
   },
   {
    "duration": 48,
    "start_time": "2023-04-22T07:52:26.983Z"
   },
   {
    "duration": 10,
    "start_time": "2023-04-22T07:52:27.032Z"
   },
   {
    "duration": 30,
    "start_time": "2023-04-22T07:52:27.044Z"
   },
   {
    "duration": 61,
    "start_time": "2023-04-22T07:52:27.075Z"
   },
   {
    "duration": 7,
    "start_time": "2023-04-22T07:52:27.138Z"
   },
   {
    "duration": 7,
    "start_time": "2023-04-22T07:52:27.147Z"
   },
   {
    "duration": 270,
    "start_time": "2023-04-22T07:52:27.156Z"
   },
   {
    "duration": 4,
    "start_time": "2023-04-22T07:52:27.428Z"
   },
   {
    "duration": 15,
    "start_time": "2023-04-22T07:52:27.434Z"
   },
   {
    "duration": 876,
    "start_time": "2023-04-22T07:52:27.451Z"
   },
   {
    "duration": 593,
    "start_time": "2023-04-22T07:52:28.328Z"
   },
   {
    "duration": 7,
    "start_time": "2023-04-22T07:52:28.922Z"
   },
   {
    "duration": 7,
    "start_time": "2023-04-22T07:52:28.930Z"
   },
   {
    "duration": 37,
    "start_time": "2023-04-22T07:52:28.939Z"
   },
   {
    "duration": 52,
    "start_time": "2023-04-22T07:52:28.978Z"
   },
   {
    "duration": 8,
    "start_time": "2023-04-22T07:52:29.032Z"
   },
   {
    "duration": 63,
    "start_time": "2023-04-22T07:52:29.041Z"
   },
   {
    "duration": 29,
    "start_time": "2023-04-22T07:52:29.105Z"
   },
   {
    "duration": 13,
    "start_time": "2023-04-22T07:52:29.135Z"
   },
   {
    "duration": 16,
    "start_time": "2023-04-22T07:52:29.150Z"
   },
   {
    "duration": 46,
    "start_time": "2023-04-22T07:52:29.167Z"
   },
   {
    "duration": 6,
    "start_time": "2023-04-22T07:52:29.214Z"
   },
   {
    "duration": 5,
    "start_time": "2023-04-22T07:52:29.222Z"
   },
   {
    "duration": 7,
    "start_time": "2023-04-22T07:52:29.228Z"
   },
   {
    "duration": 7,
    "start_time": "2023-04-22T07:52:29.241Z"
   },
   {
    "duration": 10,
    "start_time": "2023-04-22T07:52:29.250Z"
   },
   {
    "duration": 6,
    "start_time": "2023-04-22T07:52:29.261Z"
   },
   {
    "duration": 6,
    "start_time": "2023-04-22T07:52:29.268Z"
   },
   {
    "duration": 37,
    "start_time": "2023-04-22T07:52:29.279Z"
   },
   {
    "duration": 6,
    "start_time": "2023-04-22T07:52:29.317Z"
   },
   {
    "duration": 12,
    "start_time": "2023-04-22T07:52:29.325Z"
   },
   {
    "duration": 10,
    "start_time": "2023-04-22T07:52:29.338Z"
   },
   {
    "duration": 3,
    "start_time": "2023-04-22T07:52:29.349Z"
   },
   {
    "duration": 5,
    "start_time": "2023-04-22T07:52:29.354Z"
   },
   {
    "duration": 6,
    "start_time": "2023-04-22T07:52:29.360Z"
   },
   {
    "duration": 10,
    "start_time": "2023-04-22T07:52:29.368Z"
   },
   {
    "duration": 40,
    "start_time": "2023-04-22T07:52:29.379Z"
   },
   {
    "duration": 3,
    "start_time": "2023-04-22T07:52:29.420Z"
   },
   {
    "duration": 4,
    "start_time": "2023-04-22T07:52:29.424Z"
   },
   {
    "duration": 8,
    "start_time": "2023-04-22T07:52:29.430Z"
   },
   {
    "duration": 10,
    "start_time": "2023-04-22T07:52:29.440Z"
   },
   {
    "duration": 5,
    "start_time": "2023-04-22T07:52:29.452Z"
   },
   {
    "duration": 10,
    "start_time": "2023-04-22T07:52:29.459Z"
   },
   {
    "duration": 35,
    "start_time": "2023-04-22T07:52:29.471Z"
   },
   {
    "duration": 9,
    "start_time": "2023-04-22T07:52:29.508Z"
   },
   {
    "duration": 4,
    "start_time": "2023-04-22T07:52:29.519Z"
   },
   {
    "duration": 158,
    "start_time": "2023-04-22T07:52:29.525Z"
   },
   {
    "duration": 25,
    "start_time": "2023-04-22T07:52:29.691Z"
   },
   {
    "duration": 43,
    "start_time": "2023-04-22T07:52:29.773Z"
   },
   {
    "duration": 17,
    "start_time": "2023-04-22T07:52:29.818Z"
   },
   {
    "duration": 13,
    "start_time": "2023-04-22T07:52:29.837Z"
   },
   {
    "duration": 35207,
    "start_time": "2023-04-22T07:52:29.851Z"
   },
   {
    "duration": 10,
    "start_time": "2023-04-22T07:53:05.060Z"
   },
   {
    "duration": 42,
    "start_time": "2023-04-22T07:53:05.071Z"
   },
   {
    "duration": 5,
    "start_time": "2023-04-22T07:53:05.115Z"
   },
   {
    "duration": 7,
    "start_time": "2023-04-22T07:53:05.121Z"
   },
   {
    "duration": 119437,
    "start_time": "2023-04-22T07:53:05.130Z"
   },
   {
    "duration": 10,
    "start_time": "2023-04-22T07:55:04.569Z"
   },
   {
    "duration": 32,
    "start_time": "2023-04-22T07:55:04.580Z"
   },
   {
    "duration": 7,
    "start_time": "2023-04-22T07:55:04.613Z"
   },
   {
    "duration": 5,
    "start_time": "2023-04-22T07:55:04.621Z"
   },
   {
    "duration": 400445,
    "start_time": "2023-04-22T07:55:04.627Z"
   },
   {
    "duration": 15,
    "start_time": "2023-04-22T08:01:45.074Z"
   },
   {
    "duration": 0,
    "start_time": "2023-04-22T08:01:45.090Z"
   },
   {
    "duration": 0,
    "start_time": "2023-04-22T08:01:45.091Z"
   },
   {
    "duration": 0,
    "start_time": "2023-04-22T08:01:45.092Z"
   },
   {
    "duration": 0,
    "start_time": "2023-04-22T08:01:45.093Z"
   },
   {
    "duration": 0,
    "start_time": "2023-04-22T08:01:45.094Z"
   },
   {
    "duration": 0,
    "start_time": "2023-04-22T08:01:45.096Z"
   },
   {
    "duration": 0,
    "start_time": "2023-04-22T08:01:45.097Z"
   },
   {
    "duration": 0,
    "start_time": "2023-04-22T08:01:45.098Z"
   },
   {
    "duration": 0,
    "start_time": "2023-04-22T08:01:45.099Z"
   },
   {
    "duration": 0,
    "start_time": "2023-04-22T08:01:45.100Z"
   },
   {
    "duration": 0,
    "start_time": "2023-04-22T08:01:45.101Z"
   },
   {
    "duration": 0,
    "start_time": "2023-04-22T08:01:45.102Z"
   },
   {
    "duration": 1,
    "start_time": "2023-04-22T08:01:45.102Z"
   },
   {
    "duration": 0,
    "start_time": "2023-04-22T08:01:45.103Z"
   },
   {
    "duration": 0,
    "start_time": "2023-04-22T08:01:45.104Z"
   },
   {
    "duration": 0,
    "start_time": "2023-04-22T08:01:45.105Z"
   },
   {
    "duration": 6,
    "start_time": "2023-04-22T08:02:06.142Z"
   },
   {
    "duration": 3,
    "start_time": "2023-04-22T08:02:12.288Z"
   },
   {
    "duration": 4,
    "start_time": "2023-04-22T08:02:12.697Z"
   },
   {
    "duration": 3,
    "start_time": "2023-04-22T08:02:13.125Z"
   },
   {
    "duration": 4,
    "start_time": "2023-04-22T08:02:17.204Z"
   },
   {
    "duration": 51,
    "start_time": "2023-04-22T08:02:17.210Z"
   },
   {
    "duration": 22,
    "start_time": "2023-04-22T08:02:17.263Z"
   },
   {
    "duration": 34,
    "start_time": "2023-04-22T08:02:17.289Z"
   },
   {
    "duration": 6,
    "start_time": "2023-04-22T08:02:17.324Z"
   },
   {
    "duration": 12,
    "start_time": "2023-04-22T08:02:17.332Z"
   },
   {
    "duration": 16,
    "start_time": "2023-04-22T08:02:17.345Z"
   },
   {
    "duration": 53,
    "start_time": "2023-04-22T08:02:17.362Z"
   },
   {
    "duration": 10,
    "start_time": "2023-04-22T08:02:17.418Z"
   },
   {
    "duration": 258,
    "start_time": "2023-04-22T08:02:17.430Z"
   },
   {
    "duration": 4,
    "start_time": "2023-04-22T08:02:17.689Z"
   },
   {
    "duration": 20,
    "start_time": "2023-04-22T08:02:17.695Z"
   },
   {
    "duration": 733,
    "start_time": "2023-04-22T08:02:17.717Z"
   },
   {
    "duration": 609,
    "start_time": "2023-04-22T08:02:18.452Z"
   },
   {
    "duration": 22,
    "start_time": "2023-04-22T08:02:19.063Z"
   },
   {
    "duration": 29,
    "start_time": "2023-04-22T08:02:19.095Z"
   },
   {
    "duration": 28,
    "start_time": "2023-04-22T08:02:19.125Z"
   },
   {
    "duration": 47,
    "start_time": "2023-04-22T08:02:19.155Z"
   },
   {
    "duration": 7,
    "start_time": "2023-04-22T08:02:19.204Z"
   },
   {
    "duration": 37,
    "start_time": "2023-04-22T08:02:19.212Z"
   },
   {
    "duration": 44,
    "start_time": "2023-04-22T08:02:19.250Z"
   },
   {
    "duration": 14,
    "start_time": "2023-04-22T08:02:19.296Z"
   },
   {
    "duration": 7,
    "start_time": "2023-04-22T08:02:19.313Z"
   },
   {
    "duration": 4,
    "start_time": "2023-04-22T08:02:19.324Z"
   },
   {
    "duration": 5,
    "start_time": "2023-04-22T08:02:19.329Z"
   },
   {
    "duration": 11,
    "start_time": "2023-04-22T08:02:19.336Z"
   },
   {
    "duration": 11,
    "start_time": "2023-04-22T08:02:19.348Z"
   },
   {
    "duration": 9,
    "start_time": "2023-04-22T08:02:19.360Z"
   },
   {
    "duration": 34,
    "start_time": "2023-04-22T08:02:19.370Z"
   },
   {
    "duration": 5,
    "start_time": "2023-04-22T08:02:19.406Z"
   },
   {
    "duration": 10,
    "start_time": "2023-04-22T08:02:19.412Z"
   },
   {
    "duration": 14,
    "start_time": "2023-04-22T08:02:19.423Z"
   },
   {
    "duration": 16,
    "start_time": "2023-04-22T08:02:19.439Z"
   },
   {
    "duration": 50,
    "start_time": "2023-04-22T08:02:19.456Z"
   },
   {
    "duration": 34,
    "start_time": "2023-04-22T08:02:19.508Z"
   },
   {
    "duration": 11,
    "start_time": "2023-04-22T08:02:19.544Z"
   },
   {
    "duration": 47,
    "start_time": "2023-04-22T08:02:19.556Z"
   },
   {
    "duration": 6,
    "start_time": "2023-04-22T08:02:19.605Z"
   },
   {
    "duration": 8,
    "start_time": "2023-04-22T08:02:19.613Z"
   },
   {
    "duration": 16,
    "start_time": "2023-04-22T08:02:19.623Z"
   },
   {
    "duration": 4,
    "start_time": "2023-04-22T08:02:19.641Z"
   },
   {
    "duration": 6,
    "start_time": "2023-04-22T08:02:19.647Z"
   },
   {
    "duration": 9,
    "start_time": "2023-04-22T08:02:19.655Z"
   },
   {
    "duration": 43,
    "start_time": "2023-04-22T08:02:19.665Z"
   },
   {
    "duration": 11,
    "start_time": "2023-04-22T08:02:19.710Z"
   },
   {
    "duration": 10,
    "start_time": "2023-04-22T08:02:19.723Z"
   },
   {
    "duration": 6,
    "start_time": "2023-04-22T08:02:19.735Z"
   },
   {
    "duration": 5,
    "start_time": "2023-04-22T08:02:19.743Z"
   },
   {
    "duration": 8,
    "start_time": "2023-04-22T08:02:19.749Z"
   },
   {
    "duration": 342,
    "start_time": "2023-04-22T08:02:19.759Z"
   },
   {
    "duration": 70,
    "start_time": "2023-04-22T08:02:20.104Z"
   },
   {
    "duration": 34,
    "start_time": "2023-04-22T08:02:20.176Z"
   },
   {
    "duration": 6,
    "start_time": "2023-04-22T08:02:20.213Z"
   },
   {
    "duration": 4,
    "start_time": "2023-04-22T08:02:20.279Z"
   },
   {
    "duration": 13968,
    "start_time": "2023-04-22T08:02:20.293Z"
   },
   {
    "duration": 14,
    "start_time": "2023-04-22T08:02:34.263Z"
   },
   {
    "duration": 29,
    "start_time": "2023-04-22T08:02:34.285Z"
   },
   {
    "duration": 18,
    "start_time": "2023-04-22T08:02:34.316Z"
   },
   {
    "duration": 13,
    "start_time": "2023-04-22T08:02:34.335Z"
   },
   {
    "duration": 5900,
    "start_time": "2023-04-22T08:02:34.349Z"
   },
   {
    "duration": 8,
    "start_time": "2023-04-22T08:02:40.251Z"
   },
   {
    "duration": 6,
    "start_time": "2023-04-22T08:02:40.261Z"
   },
   {
    "duration": 38,
    "start_time": "2023-04-22T08:02:40.268Z"
   },
   {
    "duration": 9,
    "start_time": "2023-04-22T08:02:40.307Z"
   },
   {
    "duration": 1624,
    "start_time": "2023-04-22T08:02:49.202Z"
   },
   {
    "duration": 50,
    "start_time": "2023-04-22T08:02:50.828Z"
   },
   {
    "duration": 16,
    "start_time": "2023-04-22T08:02:50.880Z"
   },
   {
    "duration": 60,
    "start_time": "2023-04-22T08:02:50.899Z"
   },
   {
    "duration": 42,
    "start_time": "2023-04-22T08:02:50.960Z"
   },
   {
    "duration": 19,
    "start_time": "2023-04-22T08:02:51.003Z"
   },
   {
    "duration": 21,
    "start_time": "2023-04-22T08:02:51.024Z"
   },
   {
    "duration": 26,
    "start_time": "2023-04-22T08:02:51.046Z"
   },
   {
    "duration": 48,
    "start_time": "2023-04-22T08:02:51.073Z"
   },
   {
    "duration": 268,
    "start_time": "2023-04-22T08:02:51.123Z"
   },
   {
    "duration": 10,
    "start_time": "2023-04-22T08:02:51.392Z"
   },
   {
    "duration": 12,
    "start_time": "2023-04-22T08:02:51.404Z"
   },
   {
    "duration": 749,
    "start_time": "2023-04-22T08:02:51.418Z"
   },
   {
    "duration": 556,
    "start_time": "2023-04-22T08:02:52.168Z"
   },
   {
    "duration": 5,
    "start_time": "2023-04-22T08:02:52.726Z"
   },
   {
    "duration": 12,
    "start_time": "2023-04-22T08:02:52.733Z"
   },
   {
    "duration": 28,
    "start_time": "2023-04-22T08:02:52.747Z"
   },
   {
    "duration": 50,
    "start_time": "2023-04-22T08:02:52.777Z"
   },
   {
    "duration": 8,
    "start_time": "2023-04-22T08:02:52.829Z"
   },
   {
    "duration": 44,
    "start_time": "2023-04-22T08:02:52.838Z"
   },
   {
    "duration": 40,
    "start_time": "2023-04-22T08:02:52.884Z"
   },
   {
    "duration": 22,
    "start_time": "2023-04-22T08:02:52.926Z"
   },
   {
    "duration": 66,
    "start_time": "2023-04-22T08:02:52.949Z"
   },
   {
    "duration": 19,
    "start_time": "2023-04-22T08:02:53.016Z"
   },
   {
    "duration": 26,
    "start_time": "2023-04-22T08:02:53.036Z"
   },
   {
    "duration": 64,
    "start_time": "2023-04-22T08:02:53.063Z"
   },
   {
    "duration": 35,
    "start_time": "2023-04-22T08:02:53.129Z"
   },
   {
    "duration": 45,
    "start_time": "2023-04-22T08:02:53.170Z"
   },
   {
    "duration": 26,
    "start_time": "2023-04-22T08:02:53.217Z"
   },
   {
    "duration": 6,
    "start_time": "2023-04-22T08:02:53.245Z"
   },
   {
    "duration": 18,
    "start_time": "2023-04-22T08:02:53.253Z"
   },
   {
    "duration": 27,
    "start_time": "2023-04-22T08:02:53.278Z"
   },
   {
    "duration": 11,
    "start_time": "2023-04-22T08:02:53.307Z"
   },
   {
    "duration": 7,
    "start_time": "2023-04-22T08:02:53.320Z"
   },
   {
    "duration": 9,
    "start_time": "2023-04-22T08:02:53.329Z"
   },
   {
    "duration": 14,
    "start_time": "2023-04-22T08:02:53.339Z"
   },
   {
    "duration": 16,
    "start_time": "2023-04-22T08:02:53.354Z"
   },
   {
    "duration": 40,
    "start_time": "2023-04-22T08:02:53.372Z"
   },
   {
    "duration": 5,
    "start_time": "2023-04-22T08:02:53.414Z"
   },
   {
    "duration": 13,
    "start_time": "2023-04-22T08:02:53.420Z"
   },
   {
    "duration": 2,
    "start_time": "2023-04-22T08:02:53.434Z"
   },
   {
    "duration": 12,
    "start_time": "2023-04-22T08:02:53.438Z"
   },
   {
    "duration": 8,
    "start_time": "2023-04-22T08:02:53.451Z"
   },
   {
    "duration": 38,
    "start_time": "2023-04-22T08:02:53.461Z"
   },
   {
    "duration": 6,
    "start_time": "2023-04-22T08:02:53.501Z"
   },
   {
    "duration": 9,
    "start_time": "2023-04-22T08:02:53.509Z"
   },
   {
    "duration": 4,
    "start_time": "2023-04-22T08:02:53.519Z"
   },
   {
    "duration": 4,
    "start_time": "2023-04-22T08:02:53.524Z"
   },
   {
    "duration": 5,
    "start_time": "2023-04-22T08:02:53.529Z"
   },
   {
    "duration": 352,
    "start_time": "2023-04-22T08:02:53.536Z"
   },
   {
    "duration": 88,
    "start_time": "2023-04-22T08:02:53.890Z"
   },
   {
    "duration": 34,
    "start_time": "2023-04-22T08:02:53.979Z"
   },
   {
    "duration": 5,
    "start_time": "2023-04-22T08:02:54.015Z"
   },
   {
    "duration": 4,
    "start_time": "2023-04-22T08:02:54.021Z"
   },
   {
    "duration": 33499,
    "start_time": "2023-04-22T08:02:54.027Z"
   },
   {
    "duration": 8,
    "start_time": "2023-04-22T08:03:27.527Z"
   },
   {
    "duration": 15,
    "start_time": "2023-04-22T08:03:27.536Z"
   },
   {
    "duration": 11,
    "start_time": "2023-04-22T08:03:27.553Z"
   },
   {
    "duration": 29,
    "start_time": "2023-04-22T08:03:27.566Z"
   },
   {
    "duration": 110154,
    "start_time": "2023-04-22T08:03:27.597Z"
   },
   {
    "duration": 10,
    "start_time": "2023-04-22T08:05:17.753Z"
   },
   {
    "duration": 29,
    "start_time": "2023-04-22T08:05:17.765Z"
   },
   {
    "duration": 8,
    "start_time": "2023-04-22T08:05:17.797Z"
   },
   {
    "duration": 14,
    "start_time": "2023-04-22T08:05:17.806Z"
   }
  ],
  "kernelspec": {
   "display_name": "Python 3 (ipykernel)",
   "language": "python",
   "name": "python3"
  },
  "language_info": {
   "codemirror_mode": {
    "name": "ipython",
    "version": 3
   },
   "file_extension": ".py",
   "mimetype": "text/x-python",
   "name": "python",
   "nbconvert_exporter": "python",
   "pygments_lexer": "ipython3",
   "version": "3.9.13"
  },
  "toc": {
   "base_numbering": 1,
   "nav_menu": {},
   "number_sections": true,
   "sideBar": true,
   "skip_h1_title": true,
   "title_cell": "Содержание",
   "title_sidebar": "Contents",
   "toc_cell": true,
   "toc_position": {
    "height": "calc(100% - 180px)",
    "left": "10px",
    "top": "150px",
    "width": "194px"
   },
   "toc_section_display": true,
   "toc_window_display": true
  },
  "varInspector": {
   "cols": {
    "lenName": 16,
    "lenType": 16,
    "lenVar": 40
   },
   "kernels_config": {
    "python": {
     "delete_cmd_postfix": "",
     "delete_cmd_prefix": "del ",
     "library": "var_list.py",
     "varRefreshCmd": "print(var_dic_list())"
    },
    "r": {
     "delete_cmd_postfix": ") ",
     "delete_cmd_prefix": "rm(",
     "library": "var_list.r",
     "varRefreshCmd": "cat(var_dic_list()) "
    }
   },
   "types_to_exclude": [
    "module",
    "function",
    "builtin_function_or_method",
    "instance",
    "_Feature"
   ],
   "window_display": false
  }
 },
 "nbformat": 4,
 "nbformat_minor": 2
}
