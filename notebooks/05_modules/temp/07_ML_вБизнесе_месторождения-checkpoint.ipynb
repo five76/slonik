{
 "cells": [
  {
   "cell_type": "markdown",
   "metadata": {},
   "source": [
    "<div class=\"alert alert-success\"><div class='alert btn-success'>\n",
    "Дмитрий, критичных ошибок нет. Молодец!)<br> \n",
    "Проект принят!<br> \n",
    "\n",
    "</div></div>\n",
    "\n",
    "Очень рекомендую посмотреть видео от Глеба Михайлова!)<br>\n",
    "**[Линейная Регрессия для Дата Саентиста](https://www.youtube.com/watch?v=QZJ94igWVxQ&t=19s)**     <br> \n",
    "    \n",
    "**[Вот здесь есть отличное объяснение с примером по мультиколлинеарности.](https://habr.com/ru/company/akbarsdigital/blog/592493/)** <br>\n",
    "    \n",
    "**[И здесь интересная статься - коротко о мультиколлинеарности и что с этим делать.](https://medium.com/analytics-vidhya/removing-multi-collinearity-for-linear-and-logistic-regression-f1fa744f3666)** <br>   \n",
    "   \n",
    "**[Если интересна статистика, можно посмотреть короткие видео-лекции Карпова на степике](https://stepik.org/lesson/8095/step/1?unit=1371)**    <br>\n",
    "\n",
    "\n",
    "<br>\n",
    "<div class=\"alert alert-success\"><div class='alert btn-success'>    \n",
    "Надеюсь, ты найдешь для себя что-то интересное и полезное😊  <br>\n",
    "Желаю тебе удачи в дальнейшей учебе! 😉 </div></div>"
   ]
  },
  {
   "cell_type": "markdown",
   "metadata": {},
   "source": [
    "Дмитрий, привет! Меня зовут Ирина Литвинова. Сегодня я проверю твой проект.<br>\n",
    "<br> Ты можешь обращаться ко мне на \"ты\"😏 Надеюсь, ты не будешь против, если и я буду обращаться к тебе на \"ты\". Но если для тебя это неприемлeмо, дай знать, пожалуйста) <br>\n",
    "<br> Мне очень важна твоя реакция на мои комментарии, особенно <font color='red'>красные</font>. Можешь реагировать, например, так ('исправлено', ...)<br>\n",
    "<br> Ты можешь реагировать на мои комментарии своими, выделяя их цветами и наиболее понравившимся тебе способом оформления, но явно  отличающимся от моих комментариев. <br>\n",
    "Это нужно, чтобы не создавалась путаница😉<br>\n",
    "Например, так:<br>\n",
    "    \n",
    "<div class=\"alert alert-block alert-info\"><b>Комментарий студента</b>\n",
    "    \n",
    "<b>Изменения:</b> Были внесены следующие изменения ...<br></div> \n",
    "\n",
    "\n",
    "<br> Пожалуйста, не удаляй мои комментарии, так как они повышают качество повторного ревью и делают его быстрее)<br>\n",
    "<br> Увидев у тебя неточность, в первый раз я лишь укажу на ее наличие и дам тебе возможность самостоятельно найти и исправить ее. На реальной работе твой руководитель будет поступать также, и я пытаюсь подготовить тебя именно к работе. Но если ты пока не справишься с такой задачей - при следующей проверке я дам более точную подсказку!🤓<br>\n",
    "\n",
    "Для твоего удобства мои комментарии будут в <font color='green'>зеленой</font>, <font color='orange'>желтой</font> или <font color='red'>красной</font> рамках:<br>\n",
    "<br>\n",
    "\n",
    "<div class=\"alert alert-block alert-danger\"><b>Комментарий ревьюера</b>\n",
    "    \n",
    "<b>Ошибка:</b><br>\n",
    "Если требуются исправления. Работа не может быть принята с красными комментариями.<br></div>\n",
    "\n",
    "<div class=\"alert alert-block alert-warning\"><b>Комментарий ревьюера</b>\n",
    "    \n",
    "<b>Совет:</b><br>\n",
    "Если можно немного улучшить.<br></div>\n",
    "\n",
    "<div class=\"alert alert-block alert-success\"><b>Комментарий ревьюера</b>\n",
    "    \n",
    "<b>Успех:</b><br>\n",
    "Если все сделано отлично.<br></div>  "
   ]
  },
  {
   "cell_type": "markdown",
   "metadata": {},
   "source": [
    "# Выбор локации для скважины"
   ]
  },
  {
   "cell_type": "markdown",
   "metadata": {},
   "source": [
    "Допустим, вы работаете в добывающей компании «ГлавРосГосНефть». Нужно решить, где бурить новую скважину.\n",
    "\n",
    "Вам предоставлены пробы нефти в трёх регионах: в каждом 10 000 месторождений, где измерили качество нефти и объём её запасов. Постройте модель машинного обучения, которая поможет определить регион, где добыча принесёт наибольшую прибыль. Проанализируйте возможную прибыль и риски техникой *Bootstrap.*\n",
    "\n",
    "Шаги для выбора локации:\n",
    "\n",
    "- В избранном регионе ищут месторождения, для каждого определяют значения признаков;\n",
    "- Строят модель и оценивают объём запасов;\n",
    "- Выбирают месторождения с самым высокими оценками значений. Количество месторождений зависит от бюджета компании и стоимости разработки одной скважины;\n",
    "- Прибыль равна суммарной прибыли отобранных месторождений."
   ]
  },
  {
   "cell_type": "markdown",
   "metadata": {},
   "source": [
    "<div class=\"alert alert-block alert-success\"><b>Комментарий ревьюера</b>\n",
    "    \n",
    "<b>Успех:</b><br>\n",
    "👍 Есть введение в проект. Отлично!<br>\n",
    "\n",
    "</div> "
   ]
  },
  {
   "cell_type": "code",
   "execution_count": 1,
   "metadata": {},
   "outputs": [],
   "source": [
    "import pandas as pd\n",
    "import numpy as np\n",
    "import matplotlib.pyplot as plt \n",
    "import seaborn as sns\n",
    "from sklearn.model_selection import train_test_split\n",
    "from sklearn.linear_model import LinearRegression\n",
    "from sklearn.pipeline import make_pipeline\n",
    "from sklearn.preprocessing import StandardScaler\n",
    "from sklearn.metrics import mean_squared_error\n",
    "from numpy.random import RandomState\n",
    "from tqdm import tqdm\n",
    "\n",
    "RANDOM = 12345\n",
    "state = RandomState(RANDOM) "
   ]
  },
  {
   "cell_type": "code",
   "execution_count": 2,
   "metadata": {},
   "outputs": [],
   "source": [
    "BUDGET = 10e9 # Бюджет на разработку 200 скважин в регионе\n",
    "TOTAL_POINTS = 500 # При разведке региона исследуют 500 точек\n",
    "SELECTED_POINTS = 200 # с помощью машинного обучения выбирают 200 точек лучших для разработки\n",
    "BUDGET_POINTS_RUB = BUDGET / SELECTED_POINTS\n",
    "BARREL_RUB = 450 # доход с каждого барреля\n",
    "PRODUCT_UNITS_INCOME_RUB = 450 * 10**3 # доход с единицы продукта\n",
    "THRESHOLD_PERSENT = 2.5 # порог вероятности убытков"
   ]
  },
  {
   "cell_type": "markdown",
   "metadata": {},
   "source": [
    "<div class=\"alert alert-block alert-success\"><b>Комментарий ревьюера </b>\n",
    "    \n",
    "<b>Успех:</b><br>\n",
    "👍 Здорово, что импортируешь необходимые библиотеки в первой ячейке. Так сразу понятно какие используются библиотеки и можно легко настроить свое окружение при необходимости. \n",
    "</div> "
   ]
  },
  {
   "cell_type": "markdown",
   "metadata": {},
   "source": [
    "## Загрузка и подготовка данных"
   ]
  },
  {
   "cell_type": "code",
   "execution_count": 3,
   "metadata": {},
   "outputs": [],
   "source": [
    "df_0 = pd.read_csv(\"/datasets/geo_data_0.csv\")\n",
    "df_1 = pd.read_csv(\"/datasets/geo_data_1.csv\")\n",
    "df_2 = pd.read_csv(\"/datasets/geo_data_2.csv\")"
   ]
  },
  {
   "cell_type": "code",
   "execution_count": 4,
   "metadata": {
    "scrolled": true
   },
   "outputs": [
    {
     "data": {
      "text/html": [
       "<div>\n",
       "<style scoped>\n",
       "    .dataframe tbody tr th:only-of-type {\n",
       "        vertical-align: middle;\n",
       "    }\n",
       "\n",
       "    .dataframe tbody tr th {\n",
       "        vertical-align: top;\n",
       "    }\n",
       "\n",
       "    .dataframe thead th {\n",
       "        text-align: right;\n",
       "    }\n",
       "</style>\n",
       "<table border=\"1\" class=\"dataframe\">\n",
       "  <thead>\n",
       "    <tr style=\"text-align: right;\">\n",
       "      <th></th>\n",
       "      <th>id</th>\n",
       "      <th>f0</th>\n",
       "      <th>f1</th>\n",
       "      <th>f2</th>\n",
       "      <th>product</th>\n",
       "    </tr>\n",
       "  </thead>\n",
       "  <tbody>\n",
       "    <tr>\n",
       "      <th>0</th>\n",
       "      <td>txEyH</td>\n",
       "      <td>0.705745</td>\n",
       "      <td>-0.497823</td>\n",
       "      <td>1.221170</td>\n",
       "      <td>105.280062</td>\n",
       "    </tr>\n",
       "    <tr>\n",
       "      <th>1</th>\n",
       "      <td>2acmU</td>\n",
       "      <td>1.334711</td>\n",
       "      <td>-0.340164</td>\n",
       "      <td>4.365080</td>\n",
       "      <td>73.037750</td>\n",
       "    </tr>\n",
       "    <tr>\n",
       "      <th>2</th>\n",
       "      <td>409Wp</td>\n",
       "      <td>1.022732</td>\n",
       "      <td>0.151990</td>\n",
       "      <td>1.419926</td>\n",
       "      <td>85.265647</td>\n",
       "    </tr>\n",
       "    <tr>\n",
       "      <th>3</th>\n",
       "      <td>iJLyR</td>\n",
       "      <td>-0.032172</td>\n",
       "      <td>0.139033</td>\n",
       "      <td>2.978566</td>\n",
       "      <td>168.620776</td>\n",
       "    </tr>\n",
       "    <tr>\n",
       "      <th>4</th>\n",
       "      <td>Xdl7t</td>\n",
       "      <td>1.988431</td>\n",
       "      <td>0.155413</td>\n",
       "      <td>4.751769</td>\n",
       "      <td>154.036647</td>\n",
       "    </tr>\n",
       "  </tbody>\n",
       "</table>\n",
       "</div>"
      ],
      "text/plain": [
       "      id        f0        f1        f2     product\n",
       "0  txEyH  0.705745 -0.497823  1.221170  105.280062\n",
       "1  2acmU  1.334711 -0.340164  4.365080   73.037750\n",
       "2  409Wp  1.022732  0.151990  1.419926   85.265647\n",
       "3  iJLyR -0.032172  0.139033  2.978566  168.620776\n",
       "4  Xdl7t  1.988431  0.155413  4.751769  154.036647"
      ]
     },
     "execution_count": 4,
     "metadata": {},
     "output_type": "execute_result"
    }
   ],
   "source": [
    "df_0.head()"
   ]
  },
  {
   "cell_type": "code",
   "execution_count": 5,
   "metadata": {},
   "outputs": [
    {
     "data": {
      "text/html": [
       "<div>\n",
       "<style scoped>\n",
       "    .dataframe tbody tr th:only-of-type {\n",
       "        vertical-align: middle;\n",
       "    }\n",
       "\n",
       "    .dataframe tbody tr th {\n",
       "        vertical-align: top;\n",
       "    }\n",
       "\n",
       "    .dataframe thead th {\n",
       "        text-align: right;\n",
       "    }\n",
       "</style>\n",
       "<table border=\"1\" class=\"dataframe\">\n",
       "  <thead>\n",
       "    <tr style=\"text-align: right;\">\n",
       "      <th></th>\n",
       "      <th>id</th>\n",
       "      <th>f0</th>\n",
       "      <th>f1</th>\n",
       "      <th>f2</th>\n",
       "      <th>product</th>\n",
       "    </tr>\n",
       "  </thead>\n",
       "  <tbody>\n",
       "    <tr>\n",
       "      <th>0</th>\n",
       "      <td>kBEdx</td>\n",
       "      <td>-15.001348</td>\n",
       "      <td>-8.276000</td>\n",
       "      <td>-0.005876</td>\n",
       "      <td>3.179103</td>\n",
       "    </tr>\n",
       "    <tr>\n",
       "      <th>1</th>\n",
       "      <td>62mP7</td>\n",
       "      <td>14.272088</td>\n",
       "      <td>-3.475083</td>\n",
       "      <td>0.999183</td>\n",
       "      <td>26.953261</td>\n",
       "    </tr>\n",
       "    <tr>\n",
       "      <th>2</th>\n",
       "      <td>vyE1P</td>\n",
       "      <td>6.263187</td>\n",
       "      <td>-5.948386</td>\n",
       "      <td>5.001160</td>\n",
       "      <td>134.766305</td>\n",
       "    </tr>\n",
       "    <tr>\n",
       "      <th>3</th>\n",
       "      <td>KcrkZ</td>\n",
       "      <td>-13.081196</td>\n",
       "      <td>-11.506057</td>\n",
       "      <td>4.999415</td>\n",
       "      <td>137.945408</td>\n",
       "    </tr>\n",
       "    <tr>\n",
       "      <th>4</th>\n",
       "      <td>AHL4O</td>\n",
       "      <td>12.702195</td>\n",
       "      <td>-8.147433</td>\n",
       "      <td>5.004363</td>\n",
       "      <td>134.766305</td>\n",
       "    </tr>\n",
       "  </tbody>\n",
       "</table>\n",
       "</div>"
      ],
      "text/plain": [
       "      id         f0         f1        f2     product\n",
       "0  kBEdx -15.001348  -8.276000 -0.005876    3.179103\n",
       "1  62mP7  14.272088  -3.475083  0.999183   26.953261\n",
       "2  vyE1P   6.263187  -5.948386  5.001160  134.766305\n",
       "3  KcrkZ -13.081196 -11.506057  4.999415  137.945408\n",
       "4  AHL4O  12.702195  -8.147433  5.004363  134.766305"
      ]
     },
     "execution_count": 5,
     "metadata": {},
     "output_type": "execute_result"
    }
   ],
   "source": [
    "df_1.head()"
   ]
  },
  {
   "cell_type": "code",
   "execution_count": 6,
   "metadata": {},
   "outputs": [
    {
     "data": {
      "text/html": [
       "<div>\n",
       "<style scoped>\n",
       "    .dataframe tbody tr th:only-of-type {\n",
       "        vertical-align: middle;\n",
       "    }\n",
       "\n",
       "    .dataframe tbody tr th {\n",
       "        vertical-align: top;\n",
       "    }\n",
       "\n",
       "    .dataframe thead th {\n",
       "        text-align: right;\n",
       "    }\n",
       "</style>\n",
       "<table border=\"1\" class=\"dataframe\">\n",
       "  <thead>\n",
       "    <tr style=\"text-align: right;\">\n",
       "      <th></th>\n",
       "      <th>id</th>\n",
       "      <th>f0</th>\n",
       "      <th>f1</th>\n",
       "      <th>f2</th>\n",
       "      <th>product</th>\n",
       "    </tr>\n",
       "  </thead>\n",
       "  <tbody>\n",
       "    <tr>\n",
       "      <th>0</th>\n",
       "      <td>fwXo0</td>\n",
       "      <td>-1.146987</td>\n",
       "      <td>0.963328</td>\n",
       "      <td>-0.828965</td>\n",
       "      <td>27.758673</td>\n",
       "    </tr>\n",
       "    <tr>\n",
       "      <th>1</th>\n",
       "      <td>WJtFt</td>\n",
       "      <td>0.262778</td>\n",
       "      <td>0.269839</td>\n",
       "      <td>-2.530187</td>\n",
       "      <td>56.069697</td>\n",
       "    </tr>\n",
       "    <tr>\n",
       "      <th>2</th>\n",
       "      <td>ovLUW</td>\n",
       "      <td>0.194587</td>\n",
       "      <td>0.289035</td>\n",
       "      <td>-5.586433</td>\n",
       "      <td>62.871910</td>\n",
       "    </tr>\n",
       "    <tr>\n",
       "      <th>3</th>\n",
       "      <td>q6cA6</td>\n",
       "      <td>2.236060</td>\n",
       "      <td>-0.553760</td>\n",
       "      <td>0.930038</td>\n",
       "      <td>114.572842</td>\n",
       "    </tr>\n",
       "    <tr>\n",
       "      <th>4</th>\n",
       "      <td>WPMUX</td>\n",
       "      <td>-0.515993</td>\n",
       "      <td>1.716266</td>\n",
       "      <td>5.899011</td>\n",
       "      <td>149.600746</td>\n",
       "    </tr>\n",
       "  </tbody>\n",
       "</table>\n",
       "</div>"
      ],
      "text/plain": [
       "      id        f0        f1        f2     product\n",
       "0  fwXo0 -1.146987  0.963328 -0.828965   27.758673\n",
       "1  WJtFt  0.262778  0.269839 -2.530187   56.069697\n",
       "2  ovLUW  0.194587  0.289035 -5.586433   62.871910\n",
       "3  q6cA6  2.236060 -0.553760  0.930038  114.572842\n",
       "4  WPMUX -0.515993  1.716266  5.899011  149.600746"
      ]
     },
     "execution_count": 6,
     "metadata": {},
     "output_type": "execute_result"
    }
   ],
   "source": [
    "df_2.head()"
   ]
  },
  {
   "cell_type": "markdown",
   "metadata": {},
   "source": [
    "### Первичное изучение данных"
   ]
  },
  {
   "cell_type": "code",
   "execution_count": 7,
   "metadata": {},
   "outputs": [
    {
     "name": "stdout",
     "output_type": "stream",
     "text": [
      "<class 'pandas.core.frame.DataFrame'>\n",
      "RangeIndex: 100000 entries, 0 to 99999\n",
      "Data columns (total 5 columns):\n",
      " #   Column   Non-Null Count   Dtype  \n",
      "---  ------   --------------   -----  \n",
      " 0   id       100000 non-null  object \n",
      " 1   f0       100000 non-null  float64\n",
      " 2   f1       100000 non-null  float64\n",
      " 3   f2       100000 non-null  float64\n",
      " 4   product  100000 non-null  float64\n",
      "dtypes: float64(4), object(1)\n",
      "memory usage: 3.8+ MB\n"
     ]
    }
   ],
   "source": [
    "df_0.info()"
   ]
  },
  {
   "cell_type": "code",
   "execution_count": 8,
   "metadata": {},
   "outputs": [
    {
     "name": "stdout",
     "output_type": "stream",
     "text": [
      "<class 'pandas.core.frame.DataFrame'>\n",
      "RangeIndex: 100000 entries, 0 to 99999\n",
      "Data columns (total 5 columns):\n",
      " #   Column   Non-Null Count   Dtype  \n",
      "---  ------   --------------   -----  \n",
      " 0   id       100000 non-null  object \n",
      " 1   f0       100000 non-null  float64\n",
      " 2   f1       100000 non-null  float64\n",
      " 3   f2       100000 non-null  float64\n",
      " 4   product  100000 non-null  float64\n",
      "dtypes: float64(4), object(1)\n",
      "memory usage: 3.8+ MB\n"
     ]
    }
   ],
   "source": [
    "df_1.info()"
   ]
  },
  {
   "cell_type": "code",
   "execution_count": 9,
   "metadata": {},
   "outputs": [
    {
     "name": "stdout",
     "output_type": "stream",
     "text": [
      "<class 'pandas.core.frame.DataFrame'>\n",
      "RangeIndex: 100000 entries, 0 to 99999\n",
      "Data columns (total 5 columns):\n",
      " #   Column   Non-Null Count   Dtype  \n",
      "---  ------   --------------   -----  \n",
      " 0   id       100000 non-null  object \n",
      " 1   f0       100000 non-null  float64\n",
      " 2   f1       100000 non-null  float64\n",
      " 3   f2       100000 non-null  float64\n",
      " 4   product  100000 non-null  float64\n",
      "dtypes: float64(4), object(1)\n",
      "memory usage: 3.8+ MB\n"
     ]
    }
   ],
   "source": [
    "df_2.info()"
   ]
  },
  {
   "cell_type": "markdown",
   "metadata": {},
   "source": [
    "Имена столбцов корректные и типы данных соответствующие во всех фреймах"
   ]
  },
  {
   "cell_type": "markdown",
   "metadata": {},
   "source": [
    "### Количество дубликатов"
   ]
  },
  {
   "cell_type": "code",
   "execution_count": 10,
   "metadata": {
    "scrolled": true
   },
   "outputs": [
    {
     "data": {
      "text/plain": [
       "0"
      ]
     },
     "execution_count": 10,
     "metadata": {},
     "output_type": "execute_result"
    }
   ],
   "source": [
    "df_0.duplicated().sum()"
   ]
  },
  {
   "cell_type": "code",
   "execution_count": 11,
   "metadata": {},
   "outputs": [
    {
     "data": {
      "text/plain": [
       "0"
      ]
     },
     "execution_count": 11,
     "metadata": {},
     "output_type": "execute_result"
    }
   ],
   "source": [
    "df_1.duplicated().sum()"
   ]
  },
  {
   "cell_type": "code",
   "execution_count": 12,
   "metadata": {},
   "outputs": [
    {
     "data": {
      "text/plain": [
       "0"
      ]
     },
     "execution_count": 12,
     "metadata": {},
     "output_type": "execute_result"
    }
   ],
   "source": [
    "df_2.duplicated().sum()"
   ]
  },
  {
   "cell_type": "markdown",
   "metadata": {},
   "source": [
    "Дубликаты отсутствуют"
   ]
  },
  {
   "cell_type": "markdown",
   "metadata": {},
   "source": [
    "### Описание и визуализация данных"
   ]
  },
  {
   "cell_type": "code",
   "execution_count": 13,
   "metadata": {},
   "outputs": [
    {
     "data": {
      "text/html": [
       "<div>\n",
       "<style scoped>\n",
       "    .dataframe tbody tr th:only-of-type {\n",
       "        vertical-align: middle;\n",
       "    }\n",
       "\n",
       "    .dataframe tbody tr th {\n",
       "        vertical-align: top;\n",
       "    }\n",
       "\n",
       "    .dataframe thead th {\n",
       "        text-align: right;\n",
       "    }\n",
       "</style>\n",
       "<table border=\"1\" class=\"dataframe\">\n",
       "  <thead>\n",
       "    <tr style=\"text-align: right;\">\n",
       "      <th></th>\n",
       "      <th>f0</th>\n",
       "      <th>f1</th>\n",
       "      <th>f2</th>\n",
       "      <th>product</th>\n",
       "    </tr>\n",
       "  </thead>\n",
       "  <tbody>\n",
       "    <tr>\n",
       "      <th>count</th>\n",
       "      <td>100000.000000</td>\n",
       "      <td>100000.000000</td>\n",
       "      <td>100000.000000</td>\n",
       "      <td>100000.000000</td>\n",
       "    </tr>\n",
       "    <tr>\n",
       "      <th>mean</th>\n",
       "      <td>0.500419</td>\n",
       "      <td>0.250143</td>\n",
       "      <td>2.502647</td>\n",
       "      <td>92.500000</td>\n",
       "    </tr>\n",
       "    <tr>\n",
       "      <th>std</th>\n",
       "      <td>0.871832</td>\n",
       "      <td>0.504433</td>\n",
       "      <td>3.248248</td>\n",
       "      <td>44.288691</td>\n",
       "    </tr>\n",
       "    <tr>\n",
       "      <th>min</th>\n",
       "      <td>-1.408605</td>\n",
       "      <td>-0.848218</td>\n",
       "      <td>-12.088328</td>\n",
       "      <td>0.000000</td>\n",
       "    </tr>\n",
       "    <tr>\n",
       "      <th>25%</th>\n",
       "      <td>-0.072580</td>\n",
       "      <td>-0.200881</td>\n",
       "      <td>0.287748</td>\n",
       "      <td>56.497507</td>\n",
       "    </tr>\n",
       "    <tr>\n",
       "      <th>50%</th>\n",
       "      <td>0.502360</td>\n",
       "      <td>0.250252</td>\n",
       "      <td>2.515969</td>\n",
       "      <td>91.849972</td>\n",
       "    </tr>\n",
       "    <tr>\n",
       "      <th>75%</th>\n",
       "      <td>1.073581</td>\n",
       "      <td>0.700646</td>\n",
       "      <td>4.715088</td>\n",
       "      <td>128.564089</td>\n",
       "    </tr>\n",
       "    <tr>\n",
       "      <th>max</th>\n",
       "      <td>2.362331</td>\n",
       "      <td>1.343769</td>\n",
       "      <td>16.003790</td>\n",
       "      <td>185.364347</td>\n",
       "    </tr>\n",
       "  </tbody>\n",
       "</table>\n",
       "</div>"
      ],
      "text/plain": [
       "                  f0             f1             f2        product\n",
       "count  100000.000000  100000.000000  100000.000000  100000.000000\n",
       "mean        0.500419       0.250143       2.502647      92.500000\n",
       "std         0.871832       0.504433       3.248248      44.288691\n",
       "min        -1.408605      -0.848218     -12.088328       0.000000\n",
       "25%        -0.072580      -0.200881       0.287748      56.497507\n",
       "50%         0.502360       0.250252       2.515969      91.849972\n",
       "75%         1.073581       0.700646       4.715088     128.564089\n",
       "max         2.362331       1.343769      16.003790     185.364347"
      ]
     },
     "execution_count": 13,
     "metadata": {},
     "output_type": "execute_result"
    }
   ],
   "source": [
    "df_0.describe()"
   ]
  },
  {
   "cell_type": "code",
   "execution_count": 14,
   "metadata": {},
   "outputs": [
    {
     "data": {
      "text/html": [
       "<div>\n",
       "<style scoped>\n",
       "    .dataframe tbody tr th:only-of-type {\n",
       "        vertical-align: middle;\n",
       "    }\n",
       "\n",
       "    .dataframe tbody tr th {\n",
       "        vertical-align: top;\n",
       "    }\n",
       "\n",
       "    .dataframe thead th {\n",
       "        text-align: right;\n",
       "    }\n",
       "</style>\n",
       "<table border=\"1\" class=\"dataframe\">\n",
       "  <thead>\n",
       "    <tr style=\"text-align: right;\">\n",
       "      <th></th>\n",
       "      <th>f0</th>\n",
       "      <th>f1</th>\n",
       "      <th>f2</th>\n",
       "      <th>product</th>\n",
       "    </tr>\n",
       "  </thead>\n",
       "  <tbody>\n",
       "    <tr>\n",
       "      <th>count</th>\n",
       "      <td>100000.000000</td>\n",
       "      <td>100000.000000</td>\n",
       "      <td>100000.000000</td>\n",
       "      <td>100000.000000</td>\n",
       "    </tr>\n",
       "    <tr>\n",
       "      <th>mean</th>\n",
       "      <td>1.141296</td>\n",
       "      <td>-4.796579</td>\n",
       "      <td>2.494541</td>\n",
       "      <td>68.825000</td>\n",
       "    </tr>\n",
       "    <tr>\n",
       "      <th>std</th>\n",
       "      <td>8.965932</td>\n",
       "      <td>5.119872</td>\n",
       "      <td>1.703572</td>\n",
       "      <td>45.944423</td>\n",
       "    </tr>\n",
       "    <tr>\n",
       "      <th>min</th>\n",
       "      <td>-31.609576</td>\n",
       "      <td>-26.358598</td>\n",
       "      <td>-0.018144</td>\n",
       "      <td>0.000000</td>\n",
       "    </tr>\n",
       "    <tr>\n",
       "      <th>25%</th>\n",
       "      <td>-6.298551</td>\n",
       "      <td>-8.267985</td>\n",
       "      <td>1.000021</td>\n",
       "      <td>26.953261</td>\n",
       "    </tr>\n",
       "    <tr>\n",
       "      <th>50%</th>\n",
       "      <td>1.153055</td>\n",
       "      <td>-4.813172</td>\n",
       "      <td>2.011479</td>\n",
       "      <td>57.085625</td>\n",
       "    </tr>\n",
       "    <tr>\n",
       "      <th>75%</th>\n",
       "      <td>8.621015</td>\n",
       "      <td>-1.332816</td>\n",
       "      <td>3.999904</td>\n",
       "      <td>107.813044</td>\n",
       "    </tr>\n",
       "    <tr>\n",
       "      <th>max</th>\n",
       "      <td>29.421755</td>\n",
       "      <td>18.734063</td>\n",
       "      <td>5.019721</td>\n",
       "      <td>137.945408</td>\n",
       "    </tr>\n",
       "  </tbody>\n",
       "</table>\n",
       "</div>"
      ],
      "text/plain": [
       "                  f0             f1             f2        product\n",
       "count  100000.000000  100000.000000  100000.000000  100000.000000\n",
       "mean        1.141296      -4.796579       2.494541      68.825000\n",
       "std         8.965932       5.119872       1.703572      45.944423\n",
       "min       -31.609576     -26.358598      -0.018144       0.000000\n",
       "25%        -6.298551      -8.267985       1.000021      26.953261\n",
       "50%         1.153055      -4.813172       2.011479      57.085625\n",
       "75%         8.621015      -1.332816       3.999904     107.813044\n",
       "max        29.421755      18.734063       5.019721     137.945408"
      ]
     },
     "execution_count": 14,
     "metadata": {},
     "output_type": "execute_result"
    }
   ],
   "source": [
    "df_1.describe()"
   ]
  },
  {
   "cell_type": "code",
   "execution_count": 15,
   "metadata": {},
   "outputs": [
    {
     "data": {
      "text/html": [
       "<div>\n",
       "<style scoped>\n",
       "    .dataframe tbody tr th:only-of-type {\n",
       "        vertical-align: middle;\n",
       "    }\n",
       "\n",
       "    .dataframe tbody tr th {\n",
       "        vertical-align: top;\n",
       "    }\n",
       "\n",
       "    .dataframe thead th {\n",
       "        text-align: right;\n",
       "    }\n",
       "</style>\n",
       "<table border=\"1\" class=\"dataframe\">\n",
       "  <thead>\n",
       "    <tr style=\"text-align: right;\">\n",
       "      <th></th>\n",
       "      <th>f0</th>\n",
       "      <th>f1</th>\n",
       "      <th>f2</th>\n",
       "      <th>product</th>\n",
       "    </tr>\n",
       "  </thead>\n",
       "  <tbody>\n",
       "    <tr>\n",
       "      <th>count</th>\n",
       "      <td>100000.000000</td>\n",
       "      <td>100000.000000</td>\n",
       "      <td>100000.000000</td>\n",
       "      <td>100000.000000</td>\n",
       "    </tr>\n",
       "    <tr>\n",
       "      <th>mean</th>\n",
       "      <td>0.002023</td>\n",
       "      <td>-0.002081</td>\n",
       "      <td>2.495128</td>\n",
       "      <td>95.000000</td>\n",
       "    </tr>\n",
       "    <tr>\n",
       "      <th>std</th>\n",
       "      <td>1.732045</td>\n",
       "      <td>1.730417</td>\n",
       "      <td>3.473445</td>\n",
       "      <td>44.749921</td>\n",
       "    </tr>\n",
       "    <tr>\n",
       "      <th>min</th>\n",
       "      <td>-8.760004</td>\n",
       "      <td>-7.084020</td>\n",
       "      <td>-11.970335</td>\n",
       "      <td>0.000000</td>\n",
       "    </tr>\n",
       "    <tr>\n",
       "      <th>25%</th>\n",
       "      <td>-1.162288</td>\n",
       "      <td>-1.174820</td>\n",
       "      <td>0.130359</td>\n",
       "      <td>59.450441</td>\n",
       "    </tr>\n",
       "    <tr>\n",
       "      <th>50%</th>\n",
       "      <td>0.009424</td>\n",
       "      <td>-0.009482</td>\n",
       "      <td>2.484236</td>\n",
       "      <td>94.925613</td>\n",
       "    </tr>\n",
       "    <tr>\n",
       "      <th>75%</th>\n",
       "      <td>1.158535</td>\n",
       "      <td>1.163678</td>\n",
       "      <td>4.858794</td>\n",
       "      <td>130.595027</td>\n",
       "    </tr>\n",
       "    <tr>\n",
       "      <th>max</th>\n",
       "      <td>7.238262</td>\n",
       "      <td>7.844801</td>\n",
       "      <td>16.739402</td>\n",
       "      <td>190.029838</td>\n",
       "    </tr>\n",
       "  </tbody>\n",
       "</table>\n",
       "</div>"
      ],
      "text/plain": [
       "                  f0             f1             f2        product\n",
       "count  100000.000000  100000.000000  100000.000000  100000.000000\n",
       "mean        0.002023      -0.002081       2.495128      95.000000\n",
       "std         1.732045       1.730417       3.473445      44.749921\n",
       "min        -8.760004      -7.084020     -11.970335       0.000000\n",
       "25%        -1.162288      -1.174820       0.130359      59.450441\n",
       "50%         0.009424      -0.009482       2.484236      94.925613\n",
       "75%         1.158535       1.163678       4.858794     130.595027\n",
       "max         7.238262       7.844801      16.739402     190.029838"
      ]
     },
     "execution_count": 15,
     "metadata": {},
     "output_type": "execute_result"
    }
   ],
   "source": [
    "df_2.describe()"
   ]
  },
  {
   "cell_type": "markdown",
   "metadata": {},
   "source": [
    "Отрицательные значения в запасах сырья отсутствуют"
   ]
  },
  {
   "cell_type": "markdown",
   "metadata": {},
   "source": [
    "Функция для отображения boxplot указанного датафрейма"
   ]
  },
  {
   "cell_type": "code",
   "execution_count": 16,
   "metadata": {},
   "outputs": [],
   "source": [
    "def visible_frame(fr_label,fr):\n",
    "    \"\"\"\n",
    "    Функция для отображения boxplot указанного датафрейма\n",
    "    Input: Подпись, имя датафрейма \n",
    "    \"\"\"\n",
    "    fig,ax = plt.subplots(1,4,figsize = (20,5))\n",
    "    col = fr.columns\n",
    "    i = 0\n",
    "    for c in col[1:]:\n",
    "        ax[i].boxplot(data = fr,x = c);\n",
    "        ax[i].set_title(c)\n",
    "        ax[i].set_ylabel(fr_label)\n",
    "        i = i + 1"
   ]
  },
  {
   "cell_type": "code",
   "execution_count": 17,
   "metadata": {
    "scrolled": false
   },
   "outputs": [
    {
     "data": {
      "image/png": "[encoded data removed]",
      "text/plain": [
       "<Figure size 1440x360 with 4 Axes>"
      ]
     },
     "metadata": {
      "needs_background": "light"
     },
     "output_type": "display_data"
    },
    {
     "data": {
      "image/png": "[encoded data removed]",
      "text/plain": [
       "<Figure size 1440x360 with 4 Axes>"
      ]
     },
     "metadata": {
      "needs_background": "light"
     },
     "output_type": "display_data"
    },
    {
     "data": {
      "image/png": "[encoded data removed]",
      "text/plain": [
       "<Figure size 1440x360 with 4 Axes>"
      ]
     },
     "metadata": {
      "needs_background": "light"
     },
     "output_type": "display_data"
    }
   ],
   "source": [
    "visible_frame('df_0',df_0)\n",
    "visible_frame('df_1',df_1)\n",
    "visible_frame('df_2',df_2)"
   ]
  },
  {
   "cell_type": "markdown",
   "metadata": {},
   "source": [
    "В столбцах с данными присутствуют выбросы. Удалять не будем в связи  тем, что данные значения могут привести к удалению значений целевого признака с высоким показателем запасов полезных ископаемых"
   ]
  },
  {
   "cell_type": "markdown",
   "metadata": {},
   "source": [
    "### Проверка мультиколлинеарности"
   ]
  },
  {
   "cell_type": "markdown",
   "metadata": {},
   "source": [
    "Для обнаружения мультиколлинеарности факторов можно проанализируем непосредственно корреляционную матрицу факторов. Значения по модулю больше 0,7-0,8 коэффициентов парной корреляции свидетельствует о возможных проблемах с качеством получаемых оценок. "
   ]
  },
  {
   "cell_type": "markdown",
   "metadata": {},
   "source": [
    "Удаление столбца **id**"
   ]
  },
  {
   "cell_type": "code",
   "execution_count": 18,
   "metadata": {},
   "outputs": [],
   "source": [
    "df_0 = df_0.drop(['id'],axis=1)\n",
    "df_1 = df_1.drop(['id'],axis=1)\n",
    "df_2 = df_2.drop(['id'],axis=1)"
   ]
  },
  {
   "cell_type": "markdown",
   "metadata": {},
   "source": [
    "<div class=\"alert alert-block alert-success\"><b>Комментарий ревьюера </b>\n",
    "    \n",
    "<b>Успех:</b><br>\n",
    "👍 `id`  - уникальный идентификатор скважины, он не является признаком, поэтому его действительно лучше удалить. \n",
    "</div> "
   ]
  },
  {
   "cell_type": "code",
   "execution_count": 19,
   "metadata": {},
   "outputs": [
    {
     "data": {
      "image/png": "[encoded data removed]",
      "text/plain": [
       "<Figure size 432x288 with 16 Axes>"
      ]
     },
     "metadata": {
      "needs_background": "light"
     },
     "output_type": "display_data"
    }
   ],
   "source": [
    "pd.plotting.scatter_matrix(df_0, alpha=0.2);"
   ]
  },
  {
   "cell_type": "code",
   "execution_count": 20,
   "metadata": {},
   "outputs": [
    {
     "data": {
      "text/html": [
       "<div>\n",
       "<style scoped>\n",
       "    .dataframe tbody tr th:only-of-type {\n",
       "        vertical-align: middle;\n",
       "    }\n",
       "\n",
       "    .dataframe tbody tr th {\n",
       "        vertical-align: top;\n",
       "    }\n",
       "\n",
       "    .dataframe thead th {\n",
       "        text-align: right;\n",
       "    }\n",
       "</style>\n",
       "<table border=\"1\" class=\"dataframe\">\n",
       "  <thead>\n",
       "    <tr style=\"text-align: right;\">\n",
       "      <th></th>\n",
       "      <th>f0</th>\n",
       "      <th>f1</th>\n",
       "      <th>f2</th>\n",
       "      <th>product</th>\n",
       "    </tr>\n",
       "  </thead>\n",
       "  <tbody>\n",
       "    <tr>\n",
       "      <th>f0</th>\n",
       "      <td>1.000000</td>\n",
       "      <td>-0.440723</td>\n",
       "      <td>-0.003153</td>\n",
       "      <td>0.143536</td>\n",
       "    </tr>\n",
       "    <tr>\n",
       "      <th>f1</th>\n",
       "      <td>-0.440723</td>\n",
       "      <td>1.000000</td>\n",
       "      <td>0.001724</td>\n",
       "      <td>-0.192356</td>\n",
       "    </tr>\n",
       "    <tr>\n",
       "      <th>f2</th>\n",
       "      <td>-0.003153</td>\n",
       "      <td>0.001724</td>\n",
       "      <td>1.000000</td>\n",
       "      <td>0.483663</td>\n",
       "    </tr>\n",
       "    <tr>\n",
       "      <th>product</th>\n",
       "      <td>0.143536</td>\n",
       "      <td>-0.192356</td>\n",
       "      <td>0.483663</td>\n",
       "      <td>1.000000</td>\n",
       "    </tr>\n",
       "  </tbody>\n",
       "</table>\n",
       "</div>"
      ],
      "text/plain": [
       "               f0        f1        f2   product\n",
       "f0       1.000000 -0.440723 -0.003153  0.143536\n",
       "f1      -0.440723  1.000000  0.001724 -0.192356\n",
       "f2      -0.003153  0.001724  1.000000  0.483663\n",
       "product  0.143536 -0.192356  0.483663  1.000000"
      ]
     },
     "execution_count": 20,
     "metadata": {},
     "output_type": "execute_result"
    }
   ],
   "source": [
    "df_0.corr()"
   ]
  },
  {
   "cell_type": "code",
   "execution_count": 21,
   "metadata": {
    "scrolled": true
   },
   "outputs": [
    {
     "data": {
      "image/png": "[encoded data removed]",
      "text/plain": [
       "<Figure size 432x288 with 16 Axes>"
      ]
     },
     "metadata": {
      "needs_background": "light"
     },
     "output_type": "display_data"
    }
   ],
   "source": [
    "pd.plotting.scatter_matrix(df_1, alpha=0.2);"
   ]
  },
  {
   "cell_type": "code",
   "execution_count": 22,
   "metadata": {},
   "outputs": [
    {
     "data": {
      "text/html": [
       "<div>\n",
       "<style scoped>\n",
       "    .dataframe tbody tr th:only-of-type {\n",
       "        vertical-align: middle;\n",
       "    }\n",
       "\n",
       "    .dataframe tbody tr th {\n",
       "        vertical-align: top;\n",
       "    }\n",
       "\n",
       "    .dataframe thead th {\n",
       "        text-align: right;\n",
       "    }\n",
       "</style>\n",
       "<table border=\"1\" class=\"dataframe\">\n",
       "  <thead>\n",
       "    <tr style=\"text-align: right;\">\n",
       "      <th></th>\n",
       "      <th>f0</th>\n",
       "      <th>f1</th>\n",
       "      <th>f2</th>\n",
       "      <th>product</th>\n",
       "    </tr>\n",
       "  </thead>\n",
       "  <tbody>\n",
       "    <tr>\n",
       "      <th>f0</th>\n",
       "      <td>1.000000</td>\n",
       "      <td>0.182287</td>\n",
       "      <td>-0.001777</td>\n",
       "      <td>-0.030491</td>\n",
       "    </tr>\n",
       "    <tr>\n",
       "      <th>f1</th>\n",
       "      <td>0.182287</td>\n",
       "      <td>1.000000</td>\n",
       "      <td>-0.002595</td>\n",
       "      <td>-0.010155</td>\n",
       "    </tr>\n",
       "    <tr>\n",
       "      <th>f2</th>\n",
       "      <td>-0.001777</td>\n",
       "      <td>-0.002595</td>\n",
       "      <td>1.000000</td>\n",
       "      <td>0.999397</td>\n",
       "    </tr>\n",
       "    <tr>\n",
       "      <th>product</th>\n",
       "      <td>-0.030491</td>\n",
       "      <td>-0.010155</td>\n",
       "      <td>0.999397</td>\n",
       "      <td>1.000000</td>\n",
       "    </tr>\n",
       "  </tbody>\n",
       "</table>\n",
       "</div>"
      ],
      "text/plain": [
       "               f0        f1        f2   product\n",
       "f0       1.000000  0.182287 -0.001777 -0.030491\n",
       "f1       0.182287  1.000000 -0.002595 -0.010155\n",
       "f2      -0.001777 -0.002595  1.000000  0.999397\n",
       "product -0.030491 -0.010155  0.999397  1.000000"
      ]
     },
     "execution_count": 22,
     "metadata": {},
     "output_type": "execute_result"
    }
   ],
   "source": [
    "df_1.corr()"
   ]
  },
  {
   "cell_type": "code",
   "execution_count": 23,
   "metadata": {},
   "outputs": [
    {
     "data": {
      "image/png": "[encoded data removed]",
      "text/plain": [
       "<Figure size 432x288 with 16 Axes>"
      ]
     },
     "metadata": {
      "needs_background": "light"
     },
     "output_type": "display_data"
    }
   ],
   "source": [
    "pd.plotting.scatter_matrix(df_2, alpha=0.2);"
   ]
  },
  {
   "cell_type": "code",
   "execution_count": 24,
   "metadata": {},
   "outputs": [
    {
     "data": {
      "text/html": [
       "<div>\n",
       "<style scoped>\n",
       "    .dataframe tbody tr th:only-of-type {\n",
       "        vertical-align: middle;\n",
       "    }\n",
       "\n",
       "    .dataframe tbody tr th {\n",
       "        vertical-align: top;\n",
       "    }\n",
       "\n",
       "    .dataframe thead th {\n",
       "        text-align: right;\n",
       "    }\n",
       "</style>\n",
       "<table border=\"1\" class=\"dataframe\">\n",
       "  <thead>\n",
       "    <tr style=\"text-align: right;\">\n",
       "      <th></th>\n",
       "      <th>f0</th>\n",
       "      <th>f1</th>\n",
       "      <th>f2</th>\n",
       "      <th>product</th>\n",
       "    </tr>\n",
       "  </thead>\n",
       "  <tbody>\n",
       "    <tr>\n",
       "      <th>f0</th>\n",
       "      <td>1.000000</td>\n",
       "      <td>0.000528</td>\n",
       "      <td>-0.000448</td>\n",
       "      <td>-0.001987</td>\n",
       "    </tr>\n",
       "    <tr>\n",
       "      <th>f1</th>\n",
       "      <td>0.000528</td>\n",
       "      <td>1.000000</td>\n",
       "      <td>0.000779</td>\n",
       "      <td>-0.001012</td>\n",
       "    </tr>\n",
       "    <tr>\n",
       "      <th>f2</th>\n",
       "      <td>-0.000448</td>\n",
       "      <td>0.000779</td>\n",
       "      <td>1.000000</td>\n",
       "      <td>0.445871</td>\n",
       "    </tr>\n",
       "    <tr>\n",
       "      <th>product</th>\n",
       "      <td>-0.001987</td>\n",
       "      <td>-0.001012</td>\n",
       "      <td>0.445871</td>\n",
       "      <td>1.000000</td>\n",
       "    </tr>\n",
       "  </tbody>\n",
       "</table>\n",
       "</div>"
      ],
      "text/plain": [
       "               f0        f1        f2   product\n",
       "f0       1.000000  0.000528 -0.000448 -0.001987\n",
       "f1       0.000528  1.000000  0.000779 -0.001012\n",
       "f2      -0.000448  0.000779  1.000000  0.445871\n",
       "product -0.001987 -0.001012  0.445871  1.000000"
      ]
     },
     "execution_count": 24,
     "metadata": {},
     "output_type": "execute_result"
    }
   ],
   "source": [
    "df_2.corr()"
   ]
  },
  {
   "cell_type": "code",
   "execution_count": 25,
   "metadata": {},
   "outputs": [
    {
     "data": {
      "text/plain": [
       "<AxesSubplot:>"
      ]
     },
     "execution_count": 25,
     "metadata": {},
     "output_type": "execute_result"
    },
    {
     "data": {
      "image/png": "[encoded data removed]",
      "text/plain": [
       "<Figure size 432x288 with 2 Axes>"
      ]
     },
     "metadata": {
      "needs_background": "light"
     },
     "output_type": "display_data"
    }
   ],
   "source": [
    "sns.heatmap(df_2.corr())"
   ]
  },
  {
   "cell_type": "markdown",
   "metadata": {},
   "source": [
    "<div class=\"alert alert-block alert-warning\"><b>Комментарий ревьюера</b>\n",
    "    \n",
    "<b>Совет:</b><br>\n",
    "\n",
    "Для удобной визуализации можно использовать - [\"Тепловая карта корреляции\".](https://www.delftstack.com/ru/howto/seaborn/correlation-heatplot-seaborn-python/) <br>\n",
    "</div>"
   ]
  },
  {
   "cell_type": "markdown",
   "metadata": {},
   "source": [
    "В датафрейме df_1 имеется сильная корреляция между **f2** и **product**. В связи с этим столбец f2 в этом датафрейме подлежит удалению"
   ]
  },
  {
   "cell_type": "markdown",
   "metadata": {},
   "source": [
    "<div class=\"alert alert-block alert-info\"><b>Комментарий студента</b>\n",
    "  \n",
    "<b>Изменения:</b> Были внесены следующие изменения <br> \n",
    "   <del>В датафрейме df_1 имеется сильная корреляция между **f2** и **product**. В связи с этим столбец f2 в этом датафрейме подлежит удалению</del>\n",
    "    <del>#df_1 = df_1.drop(['f2'],axis=1)</del><br>\n",
    "    \n",
    "    Сильной корреляции между признаками не выявлено\n",
    "</div>"
   ]
  },
  {
   "cell_type": "markdown",
   "metadata": {},
   "source": [
    "<div class=\"alert alert-block alert-danger\"><b>Комментарий ревьюера</b>\n",
    "    \n",
    "<s> <b>Ошибка:</b><br>\n",
    "Мультиколлинеарность — явление, при котором наблюдается сильная корреляция между **признаками**, что может негативно отразиться на модели.  А здесь признак `f2` коррелирует с целевой переменной `product`, а не с другим признаком, этот факт как раз в пользу более точных предсказаний:) Поэтому `f2` удалять не надо)  </s>\n",
    "</div>"
   ]
  },
  {
   "cell_type": "markdown",
   "metadata": {},
   "source": [
    "Вывод:<br> \n",
    "При изучении не было выявлено пропусков и дубликатов.<br> \n",
    "Признак **id** был удален из всех датафреймов (является лишним при обучении)<br>\n",
    "Сильной корреляции между признаками не выявлено"
   ]
  },
  {
   "cell_type": "markdown",
   "metadata": {},
   "source": [
    "## Обучение и проверка модели"
   ]
  },
  {
   "cell_type": "markdown",
   "metadata": {},
   "source": [
    "Метод обучения модели и прогнозирования"
   ]
  },
  {
   "cell_type": "code",
   "execution_count": 26,
   "metadata": {},
   "outputs": [],
   "source": [
    "def line_model(fr):\n",
    "    # задание целевого признак и подготовим данные\n",
    "    features = fr.drop(['product'], axis=1)\n",
    "    target = fr['product']\n",
    "    \n",
    "    # Разбиение данных на обучающую и валидационную выборки в соотношении 75:25\n",
    "    features_train, features_valid, target_train,target_valid = \\\n",
    "    train_test_split(features, target, test_size=0.25, random_state=RANDOM)\n",
    "    \n",
    "    #обучение модели\n",
    "    model = LinearRegression()\n",
    "    # обучение модели\n",
    "    model.fit(features_train, target_train)\n",
    "    # прогрнозирование\n",
    "    predicted_valid = model.predict(features_valid)\n",
    "    \n",
    "    #rmse\n",
    "    rmse = mean_squared_error(target_valid, predicted_valid)**0.5\n",
    "    \n",
    "    \n",
    "    # посчитаем средний запас сырья\n",
    "    predicted_valid_mean = predicted_valid.sum()/len(predicted_valid)\n",
    "    \n",
    "    return target_valid, predicted_valid, rmse, predicted_valid_mean"
   ]
  },
  {
   "cell_type": "markdown",
   "metadata": {},
   "source": [
    "<div class=\"alert alert-block alert-success\"><b>Комментарий ревьюера </b>\n",
    "    \n",
    "<b>Успех:</b><br>\n",
    "👍 \n",
    "* Отлично, что используешь функцию для повторяющихся действий    \n",
    "* Данные разделены на обучающую и валидационную выборку корректно - 75:25. Будет надежнее, если после разбиения проверять доли)\n",
    "\n",
    "    \n",
    "</div> "
   ]
  },
  {
   "cell_type": "markdown",
   "metadata": {},
   "source": [
    "Расчет основных показателей для каждого региона"
   ]
  },
  {
   "cell_type": "code",
   "execution_count": 27,
   "metadata": {},
   "outputs": [],
   "source": [
    "target_valid_0, predicted_valid_0, rmse_0, predicted_valid_mean_0 = line_model(df_0)\n",
    "target_valid_1, predicted_valid_1, rmse_1, predicted_valid_mean_1 = line_model(df_1)\n",
    "target_valid_2, predicted_valid_2, rmse_2, predicted_valid_mean_2 = line_model(df_2)"
   ]
  },
  {
   "cell_type": "code",
   "execution_count": 28,
   "metadata": {},
   "outputs": [
    {
     "name": "stdout",
     "output_type": "stream",
     "text": [
      "Регион_0. Средний запас сырья: 92.59 rmse: 37.5794217150813\n",
      "Регион_1. Средний запас сырья: 68.73 rmse: 0.893099286775617\n",
      "Регион_2. Средний запас сырья: 94.97 rmse: 40.02970873393434\n"
     ]
    }
   ],
   "source": [
    "print(f'Регион_0. Средний запас сырья: {predicted_valid_mean_0:.2f} rmse: {rmse_0}')\n",
    "print(f'Регион_1. Средний запас сырья: {predicted_valid_mean_1:.2f} rmse: {rmse_1}')\n",
    "print(f'Регион_2. Средний запас сырья: {predicted_valid_mean_2:.2f} rmse: {rmse_2}')"
   ]
  },
  {
   "cell_type": "markdown",
   "metadata": {},
   "source": [
    "Вывод:<br>\n",
    "Высокие средние значения предсказанных запасов в регионах 0 и 2, но в них и высокий показатель средней ошибки.<br>\n",
    "Низкий средний предсказанный запас, имеющий самое высокое значение rmse в регионе номер 1. Возможно, удаленный признак f2 имеет особое значение.<br>"
   ]
  },
  {
   "cell_type": "markdown",
   "metadata": {},
   "source": [
    "<div class=\"alert alert-block alert-warning\"><b>Комментарий ревьюера</b>\n",
    "    \n",
    "<b>Совет:</b><br>\n",
    "После отмены удаления `f2` вывод лучше скорректировать, т.к. результаты изменятся. В выводе можно выделить регион с минимальной ошибкой.\n",
    " \n",
    "</div>"
   ]
  },
  {
   "cell_type": "markdown",
   "metadata": {},
   "source": [
    "## Подготовка к расчёту прибыли"
   ]
  },
  {
   "cell_type": "code",
   "execution_count": 29,
   "metadata": {},
   "outputs": [],
   "source": [
    "BUDGET = 10*10**9 # Бюджет на разработку 200 скважин в регионе\n",
    "TOTAL_POINTS = 500 # При разведке региона исследуют 500 точек\n",
    "SELECTED_POINTS = 200 # с помощью машинного обучения выбирают 200 точек лучших для разработки\n",
    "BUDGET_POINTS_RUB = BUDGET / SELECTED_POINTS\n",
    "BARREL_RUB = 450 # доход с каждого барреля\n",
    "PRODUCT_UNITS_INCOME_RUB = 450 * 10**3 # доход с единицы продукта\n",
    "THRESHOLD_PERSENT = 2.5 # порог вероятности убытков"
   ]
  },
  {
   "cell_type": "markdown",
   "metadata": {},
   "source": [
    "<div class=\"alert alert-block alert-success\"><b>Комментарий ревьюера </b>\n",
    "    \n",
    "<b>Успех:</b><br>\n",
    "👍 Константы оформлены согласно стилю [PEP-8](https://pythonworld.ru/osnovy/pep-8-rukovodstvo-po-napisaniyu-koda-na-python.html#section-29). Только объявлять константы лучше в начале проекта после импортов, затем загрузка данных. Так проще будет их найти и изменить, если возникнет такая необходимость.<br>\n",
    "* Для записи больших чисел можно использовать экспоненциальную запись числа - `10e9`, что означает 10 * 10**9.        \n",
    "\n",
    "</div>"
   ]
  },
  {
   "cell_type": "markdown",
   "metadata": {},
   "source": [
    "**Объём сырья для безубыточной разработки новой скважины**"
   ]
  },
  {
   "cell_type": "code",
   "execution_count": 30,
   "metadata": {},
   "outputs": [
    {
     "name": "stdout",
     "output_type": "stream",
     "text": [
      "Объём сырья для безубыточной разработки новой скважины равен 111111 баррелей\n"
     ]
    }
   ],
   "source": [
    "vol_extraction = BUDGET / SELECTED_POINTS / BARREL_RUB\n",
    "print(f'Объём сырья для безубыточной разработки новой скважины равен {int(vol_extraction)} баррелей')"
   ]
  },
  {
   "cell_type": "code",
   "execution_count": 31,
   "metadata": {},
   "outputs": [],
   "source": [
    "vol_extraction_up = round(vol_extraction/1000, 3)"
   ]
  },
  {
   "cell_type": "code",
   "execution_count": 32,
   "metadata": {},
   "outputs": [
    {
     "name": "stdout",
     "output_type": "stream",
     "text": [
      "111.111 (тыс. баррелей)\n"
     ]
    }
   ],
   "source": [
    "print(f'{vol_extraction_up} (тыс. баррелей)')"
   ]
  },
  {
   "cell_type": "markdown",
   "metadata": {},
   "source": [
    "<div class=\"alert alert-block alert-success\"><b>Комментарий ревьюера </b>\n",
    "    \n",
    "<b>Успех:</b><br>\n",
    "👍 Достаточный объём сырья для безубыточной разработки новой скважины рассчитан верно.\n",
    "</div>"
   ]
  },
  {
   "cell_type": "markdown",
   "metadata": {},
   "source": [
    "\n",
    "Разница между предсказанным средним запасом в регионе и объемом безубыточности"
   ]
  },
  {
   "cell_type": "code",
   "execution_count": 33,
   "metadata": {},
   "outputs": [
    {
     "data": {
      "text/plain": [
       "-18.518432215619654"
      ]
     },
     "execution_count": 33,
     "metadata": {},
     "output_type": "execute_result"
    }
   ],
   "source": [
    "predicted_valid_mean_0 - vol_extraction_up"
   ]
  },
  {
   "cell_type": "code",
   "execution_count": 34,
   "metadata": {},
   "outputs": [
    {
     "data": {
      "text/plain": [
       "-42.382453104554"
      ]
     },
     "execution_count": 34,
     "metadata": {},
     "output_type": "execute_result"
    }
   ],
   "source": [
    "predicted_valid_mean_1 - vol_extraction_up"
   ]
  },
  {
   "cell_type": "code",
   "execution_count": 35,
   "metadata": {},
   "outputs": [
    {
     "data": {
      "text/plain": [
       "-16.145954031995117"
      ]
     },
     "execution_count": 35,
     "metadata": {},
     "output_type": "execute_result"
    }
   ],
   "source": [
    "predicted_valid_mean_2 - vol_extraction_up"
   ]
  },
  {
   "cell_type": "markdown",
   "metadata": {},
   "source": [
    "Доля скважин в регионе, разработка которых выше точки безубыточности (на основе исходных данных)"
   ]
  },
  {
   "cell_type": "code",
   "execution_count": 36,
   "metadata": {},
   "outputs": [
    {
     "data": {
      "text/plain": [
       "0.36583"
      ]
     },
     "execution_count": 36,
     "metadata": {},
     "output_type": "execute_result"
    }
   ],
   "source": [
    "df_0.loc[df_0['product']>vol_extraction_up,'f0'].count()/df_0.shape[0]"
   ]
  },
  {
   "cell_type": "code",
   "execution_count": 37,
   "metadata": {},
   "outputs": [
    {
     "data": {
      "text/plain": [
       "0.16537"
      ]
     },
     "execution_count": 37,
     "metadata": {},
     "output_type": "execute_result"
    }
   ],
   "source": [
    "df_1.loc[df_1['product']>vol_extraction_up,'f0'].count()/df_1.shape[0]"
   ]
  },
  {
   "cell_type": "code",
   "execution_count": 38,
   "metadata": {},
   "outputs": [
    {
     "data": {
      "text/plain": [
       "0.38178"
      ]
     },
     "execution_count": 38,
     "metadata": {},
     "output_type": "execute_result"
    }
   ],
   "source": [
    "df_2.loc[df_2['product']>vol_extraction_up,'f0'].count()/df_2.shape[0]"
   ]
  },
  {
   "cell_type": "markdown",
   "metadata": {},
   "source": [
    "Вывод:<br>\n",
    "Минимальное количество баррелей нефти для безубыточной разработки составило 111.111\n",
    "Предсказанные средние значения во всех регионах меньше, чем объем добычи, необходимый для безубыточной добычи,  максимальное средний объем в регионах равен 94<br>\n",
    "В свою очередь, на основе исходных данных видно, что имеется достаточное количество скважин, с большим количеством запасов."
   ]
  },
  {
   "cell_type": "markdown",
   "metadata": {},
   "source": [
    "<div class=\"alert alert-block alert-success\"><b>Комментарий ревьюера </b><br>\n",
    "    \n",
    "Верно. В каждом регионе средний объем сырья меньше достаточного объёма для безубыточности. Есть 25 000 точек, из которых надо выбрать 200. В результате, среди этих скважин могут быть скважины с достаточным и недостаточным запасом сырья. <br>\n",
    "    \n",
    "**При выборе скважин опираемся на предсказания, поэтому точность прогноза имеет большое значение** и без модели нам не обойтись.<br>     \n",
    "    \n",
    "Имеено техника \"Bootstrap\" опираясь на предсказания позволяет оценить риск убытков при случайным отборе 500 точек. 1000 раз отбирая случайным образом точки, считаем какой % случаев принесет убытки. \n",
    "    \n",
    "   \n",
    "</div>"
   ]
  },
  {
   "cell_type": "markdown",
   "metadata": {},
   "source": [
    "## Расчёт прибыли и рисков "
   ]
  },
  {
   "cell_type": "markdown",
   "metadata": {},
   "source": [
    "### Приведение к одному типу"
   ]
  },
  {
   "cell_type": "markdown",
   "metadata": {},
   "source": [
    "Для использования в дальнейших расчетах необходимо целевые признаки и предсказанные привести к одному типу"
   ]
  },
  {
   "cell_type": "code",
   "execution_count": 39,
   "metadata": {},
   "outputs": [
    {
     "data": {
      "text/plain": [
       "pandas.core.series.Series"
      ]
     },
     "execution_count": 39,
     "metadata": {},
     "output_type": "execute_result"
    }
   ],
   "source": [
    "type(target_valid_0)"
   ]
  },
  {
   "cell_type": "code",
   "execution_count": 40,
   "metadata": {},
   "outputs": [
    {
     "data": {
      "text/plain": [
       "numpy.ndarray"
      ]
     },
     "execution_count": 40,
     "metadata": {},
     "output_type": "execute_result"
    }
   ],
   "source": [
    "type(predicted_valid_0)"
   ]
  },
  {
   "cell_type": "code",
   "execution_count": 41,
   "metadata": {},
   "outputs": [],
   "source": [
    "# метод для приведения к типу Series\n",
    "def bring_series(target, pred):\n",
    "    target = target.reset_index(drop=True)\n",
    "    pred = pd.Series(pred)\n",
    "    return target, pred"
   ]
  },
  {
   "cell_type": "code",
   "execution_count": 42,
   "metadata": {},
   "outputs": [],
   "source": [
    "tar0 , pred0 = bring_series(target_valid_0, predicted_valid_0)"
   ]
  },
  {
   "cell_type": "markdown",
   "metadata": {},
   "source": [
    "Проверка"
   ]
  },
  {
   "cell_type": "code",
   "execution_count": 43,
   "metadata": {},
   "outputs": [
    {
     "data": {
      "text/plain": [
       "0     10.038645\n",
       "1    114.551489\n",
       "2    132.603635\n",
       "3    169.072125\n",
       "4    122.325180\n",
       "Name: product, dtype: float64"
      ]
     },
     "execution_count": 43,
     "metadata": {},
     "output_type": "execute_result"
    }
   ],
   "source": [
    "tar0.head()"
   ]
  },
  {
   "cell_type": "code",
   "execution_count": 44,
   "metadata": {
    "scrolled": false
   },
   "outputs": [
    {
     "data": {
      "text/plain": [
       "0    95.894952\n",
       "1    77.572583\n",
       "2    77.892640\n",
       "3    90.175134\n",
       "4    70.510088\n",
       "dtype: float64"
      ]
     },
     "execution_count": 44,
     "metadata": {},
     "output_type": "execute_result"
    }
   ],
   "source": [
    "pred0.head()"
   ]
  },
  {
   "cell_type": "code",
   "execution_count": 45,
   "metadata": {},
   "outputs": [],
   "source": [
    "tar1 , pred1 = bring_series(target_valid_1, predicted_valid_1)"
   ]
  },
  {
   "cell_type": "code",
   "execution_count": 46,
   "metadata": {},
   "outputs": [],
   "source": [
    "tar2 , pred2 = bring_series(target_valid_2, predicted_valid_2)"
   ]
  },
  {
   "cell_type": "markdown",
   "metadata": {},
   "source": [
    "<div class=\"alert alert-block alert-success\"><b>Комментарий ревьюера </b>\n",
    "    \n",
    "<b>Успех:</b><br>\n",
    "👍 Очень хорошо, что не забываешь про индексы, теперь таргет соответствует предсказаниям.\n",
    "</div>"
   ]
  },
  {
   "cell_type": "markdown",
   "metadata": {},
   "source": [
    "### Bootstrap"
   ]
  },
  {
   "cell_type": "markdown",
   "metadata": {},
   "source": [
    "Метод расчёта прибыли (с 200 лучших скважин)"
   ]
  },
  {
   "cell_type": "code",
   "execution_count": 47,
   "metadata": {},
   "outputs": [],
   "source": [
    "def total_income(target, prob, count, income_rub, budget):\n",
    "    prob_sort = prob.sort_values(ascending=False)\n",
    "    selected = target[prob_sort.index][:count]\n",
    "    return int(income_rub * selected.sum() - budget)"
   ]
  },
  {
   "cell_type": "markdown",
   "metadata": {},
   "source": [
    "<div class=\"alert alert-block alert-success\"><b>Комментарий ревьюера </b>\n",
    "    \n",
    "<b>Успех:</b><br>\n",
    "👍 Функция прибыли в порядке.\n",
    "</div>"
   ]
  },
  {
   "cell_type": "markdown",
   "metadata": {},
   "source": [
    "Расчёт параметров Bootstap"
   ]
  },
  {
   "cell_type": "code",
   "execution_count": 48,
   "metadata": {},
   "outputs": [],
   "source": [
    "def calculate_regions(target, predicted, sel_points, income_rub, budget):\n",
    "    \"\"\"\n",
    "    Метод для расчета параметров прибыли с помощью Bootstrap\n",
    "    \"\"\"\n",
    "   \n",
    "    values = []\n",
    "    for i in range(1000):\n",
    "        target_subsample = target.sample(n = TOTAL_POINTS, replace=True, random_state=state)\n",
    "        pred_subsumple = predicted[target_subsample.index]\n",
    "        values.append(total_income(target_subsample, pred_subsumple, sel_points, income_rub, budget))\n",
    "    values = pd.Series(values)\n",
    "    values_mean = int(values.mean())\n",
    "    lower = int(values.quantile(q=0.025))\n",
    "    upper = int(values.quantile(q=0.975))\n",
    "    risk = (len(values[values < 0]) / len(values) * 100)\n",
    "    return values_mean, lower, upper, risk"
   ]
  },
  {
   "cell_type": "markdown",
   "metadata": {},
   "source": [
    "<div class=\"alert alert-block alert-success\"><b>Комментарий ревьюера</b>\n",
    "    \n",
    "<b>Успех:</b><br>\n",
    "    👍 Отлично, что при семплировании данных устанавливаешь `replace = True`, это необходимо чтобы наблюдение в выборку попало несколько раз, что позволяет добиться независимости при каждом выборе, иначе вероятность достать элемент из выборки будет с каждым разом увеличиваться. Чем больше размер подвыборки, тем выраженнее будет зависимость, поэтому без возврата не удастся получить разнообразные варианты, а подвыборку бОльшего размера вообще не получить.\n",
    "\n",
    "Почему именно так. Вспомним, что выборка - это некоторое представление о генеральной совокупности, ее часть. Значит, что где-то в регионе существуют и другие потенциальные точки добычи нефти, о которых мы можем не знать, но они являются частью этой генеральной совокупности. В этом случае повторяющиеся наблюдения можно считать разными точками добычи из всей генеральной совокупности с близкими характеристиками.\n",
    "    \n",
    "</div>  "
   ]
  },
  {
   "cell_type": "markdown",
   "metadata": {},
   "source": [
    "**Расчет параметров прибыли для регионов**"
   ]
  },
  {
   "cell_type": "markdown",
   "metadata": {},
   "source": [
    "Сбор всех расчетных параметров в словарь"
   ]
  },
  {
   "cell_type": "code",
   "execution_count": 49,
   "metadata": {},
   "outputs": [],
   "source": [
    "dict_reg = {}\n",
    "dict_reg['reg0']={}\n",
    "dict_reg['reg1']={}\n",
    "dict_reg['reg2']={}"
   ]
  },
  {
   "cell_type": "markdown",
   "metadata": {},
   "source": [
    "<div class=\"alert alert-block alert-info\"><b>Комментарий студента</b>\n",
    "  \n",
    "<b>Изменения:</b> Были внесены следующие изменения <br> \n",
    "    tar0, pred0 ->  tar1, pred1, tar2,pred2 \n",
    "</div>"
   ]
  },
  {
   "cell_type": "code",
   "execution_count": 50,
   "metadata": {},
   "outputs": [],
   "source": [
    "dict_reg['reg0']['profit'], dict_reg['reg0']['lower'], dict_reg['reg0']['upper'], dict_reg['reg0']['risk'] = \\\n",
    "calculate_regions(tar0, pred0, SELECTED_POINTS, PRODUCT_UNITS_INCOME_RUB, BUDGET)\n",
    "dict_reg['reg1']['profit'], dict_reg['reg1']['lower'], dict_reg['reg1']['upper'], dict_reg['reg1']['risk'] = \\\n",
    "calculate_regions(tar1, pred1, SELECTED_POINTS, PRODUCT_UNITS_INCOME_RUB, BUDGET)\n",
    "dict_reg['reg2']['profit'], dict_reg['reg2']['lower'], dict_reg['reg2']['upper'], dict_reg['reg2']['risk']  = \\\n",
    "calculate_regions(tar2, pred2, SELECTED_POINTS, PRODUCT_UNITS_INCOME_RUB, BUDGET)"
   ]
  },
  {
   "cell_type": "markdown",
   "metadata": {},
   "source": [
    "<div class=\"alert alert-block alert-danger\"><b>Комментарий ревьюера</b>\n",
    "    \n",
    "<s> <b>Ошибка:</b><br>\n",
    "Обрати, пожалуйста, внимание на опечатку.<br>\n",
    "    Для каждого региона в `calculate_regions` используешь `tar0, pred0`   </s>\n",
    "    \n",
    "    \n",
    "</div>  "
   ]
  },
  {
   "cell_type": "code",
   "execution_count": 51,
   "metadata": {},
   "outputs": [
    {
     "data": {
      "text/plain": [
       "{'reg0': {'profit': 425938526,\n",
       "  'lower': -102090093,\n",
       "  'upper': 947976352,\n",
       "  'risk': 6.0},\n",
       " 'reg1': {'profit': 518259493,\n",
       "  'lower': 128123231,\n",
       "  'upper': 953612981,\n",
       "  'risk': 0.3},\n",
       " 'reg2': {'profit': 420194004,\n",
       "  'lower': -115852608,\n",
       "  'upper': 989629939,\n",
       "  'risk': 6.2}}"
      ]
     },
     "execution_count": 51,
     "metadata": {},
     "output_type": "execute_result"
    }
   ],
   "source": [
    "dict_reg"
   ]
  },
  {
   "cell_type": "code",
   "execution_count": 52,
   "metadata": {},
   "outputs": [],
   "source": [
    "df_final = pd.DataFrame.from_dict(dict_reg, orient='index')"
   ]
  },
  {
   "cell_type": "code",
   "execution_count": 53,
   "metadata": {
    "scrolled": false
   },
   "outputs": [
    {
     "name": "stdout",
     "output_type": "stream",
     "text": [
      "         profit      lower      upper  risk\n",
      "reg1  518259493  128123231  953612981   0.3\n",
      "reg0  425938526 -102090093  947976352   6.0\n",
      "reg2  420194004 -115852608  989629939   6.2\n"
     ]
    }
   ],
   "source": [
    "print(df_final.sort_values(by='profit',ascending=False))"
   ]
  },
  {
   "cell_type": "markdown",
   "metadata": {},
   "source": [
    "Вывод:<br>\n",
    "В рамках исследования проведена загрузка и подготовка данных, обучена модель линейной регрессии, и подготовлен прогноз запасов для скважин трёх регионов.\n",
    "\n",
    "Регион_0. Средний запас сырья: 92.59 rmse: 37.5794217150813<br>\n",
    "Регион_1. Средний запас сырья: 68.73 rmse: 0.893099286775617<br>\n",
    "Регион_2. Средний запас сырья: 94.97 rmse: 40.02970873393434<br>\n",
    "\n",
    "\n",
    "Достаточный объём сырья для безубыточной разработки новой скважины равен 111111 барреля или 111.111 единицы продукта (тыс. баррелей)\n",
    "\n",
    "В регионах средний запас сырья значения безубыточной разработки достаточного объёма сырья на 18.5, 42.5, 16.1 тыс. баррелей соответственно.<br>\n",
    "Применили технику Bootstrap с 1000 выборок, для нахождения распределение прибыли\n",
    "\n",
    "Средняя прибыль лучших месторождений региона 0 равна 425938526 руб.\n",
    "\n",
    "Средняя прибыль лучших месторождений региона 1 равна 518259493 руб.\n",
    "\n",
    "Средняя прибыль лучших месторождений региона 2 равна 420194004 362 руб.\n",
    "\n",
    "95% доверительный интервал для средней прибыли 200 лучших месторождений региона_0: -102090093   947976352\n",
    "\n",
    "95% доверительный интервал для средней прибыли 200 лучших месторождений региона_1: 128123231  953612981\n",
    "\n",
    "95% доверительный интервал для средней прибыли 200 лучших месторождений региона_2:  -115852608  9896299399\n",
    "\n",
    "Риск убытков региона 0 равен 6 %\n",
    "\n",
    "Риск убытков региона_1 равен **0.3%**\n",
    "\n",
    "Риск убытков региона_2 равен 6.2 %\n",
    "\n",
    "**По всем показателям лидирует регион 1. Он же проходит порог в 2,5% риска убыточности**<br>\n",
    "\n",
    "**Регион 1 рекомендован к освоению** <br>"
   ]
  },
  {
   "cell_type": "markdown",
   "metadata": {},
   "source": [
    "<div class=\"alert alert-block alert-success\"><b>Комментарий ревьюера V-2</b>\n",
    "    \n",
    "<b>Успех:</b><br>\n",
    "    👍 Регион `geo_data_1` выбран абсолютно верно. В этом регионе минимальный % риска, т.к. модель предсказывает хорошо (ошибка минимальная). А при выборе 200 лучших скважин мы опираемся на предсказания, поэтому ничего удивительного  -  регион победил!)\n",
    "    \n",
    "</div>  "
   ]
  },
  {
   "cell_type": "markdown",
   "metadata": {},
   "source": [
    "<div class=\"alert alert-block alert-danger\"><b>Комментарий ревьюера</b>\n",
    "    \n",
    "<s> <b>Ошибка:</b><br>\n",
    "    Скорректируй, пожалуйста, итоговый вывод после перерасчетов))  </s>\n",
    "    \n",
    "    \n",
    "</div>  "
   ]
  },
  {
   "cell_type": "markdown",
   "metadata": {},
   "source": [
    "<div style=\"background: #cceeaa; padding: 5px; border: 1px solid green; border-radius: 5px;\">\n",
    "<font color='green'> \n",
    "    <b><u>Общий вывод по проекту</u></b>\n",
    "<font color='green'><br> \n",
    "\n",
    "\n",
    "Дмитрий, приложено много усилий, ты - молодец! Есть несколько важных моментов, которые я отметила и которые можно было бы улучшить, подсказки ты найдешь в моих комментариях. \n",
    "\n",
    "**Что мне особенно понравилось в твоей работе:**:\n",
    " \n",
    "* Хорошее знакомство с данными.\n",
    "* Рассчитан средний запас предсказанного сырья и размер ошибки для каждого региона.\n",
    "* Рассчитан достаточный объём сырья для безубыточной разработки новой скважины.    \n",
    "* Написана функция для расчёта прибыли.\n",
    "* Использованы функции для повторяющихся действий.    \n",
    "* Рассчитаны риски, прибыль и доверительный интервал для каждого региона.   \n",
    "* Есть выводы в каждом блоке.    \n",
    "* Код логичный и понятный. \n",
    "* Проект полностью соответствует плану!<br>\n",
    "\n",
    "\n",
    "**На что стоит обратить внимание**:\n",
    "    \n",
    "* Осталось совсем немного поправить, а именно: не удалять `f2`, исправить опечатку в `calculate_regions`, скорректировать выводы. Подсказки ты найдешь в моих комментариях.\n",
    "\n",
    "\n",
    "\n",
    "\n",
    "**Доработка займет у тебя совсем немного времени) Желаю удачи и жду твой проект на повторное ревью!**😉 "
   ]
  },
  {
   "cell_type": "markdown",
   "metadata": {},
   "source": [
    "## Чек-лист готовности проекта"
   ]
  },
  {
   "cell_type": "markdown",
   "metadata": {},
   "source": [
    "Поставьте 'x' в выполненных пунктах. Далее нажмите Shift+Enter."
   ]
  },
  {
   "cell_type": "markdown",
   "metadata": {},
   "source": [
    "- [x]  Jupyter Notebook открыт\n",
    "- [x]  Весь код выполняется без ошибок\n",
    "- [x]  Ячейки с кодом расположены в порядке исполнения\n",
    "- [x]  Выполнен шаг 1: данные подготовлены\n",
    "- [x]  Выполнен шаг 2: модели обучены и проверены\n",
    "    - [x]  Данные корректно разбиты на обучающую и валидационную выборки\n",
    "    - [x]  Модели обучены, предсказания сделаны\n",
    "    - [x]  Предсказания и правильные ответы на валидационной выборке сохранены\n",
    "    - [x]  На экране напечатаны результаты\n",
    "    - [x]  Сделаны выводы\n",
    "- [x]  Выполнен шаг 3: проведена подготовка к расчёту прибыли\n",
    "    - [x]  Для всех ключевых значений созданы константы Python\n",
    "    - [x]  Посчитано минимальное среднее количество продукта в месторождениях региона, достаточное для разработки\n",
    "    - [x]  По предыдущему пункту сделаны выводы\n",
    "    - [x]  Написана функция расчёта прибыли\n",
    "- [x]  Выполнен шаг 4: посчитаны риски и прибыль\n",
    "    - [x]  Проведена процедура *Bootstrap*\n",
    "    - [x]  Все параметры бутстрепа соответствуют условию\n",
    "    - [x]  Найдены все нужные величины\n",
    "    - [x]  Предложен регион для разработки месторождения\n",
    "    - [x]  Выбор региона обоснован"
   ]
  }
 ],
 "metadata": {
  "ExecuteTimeLog": [
   {
    "duration": 1515,
    "start_time": "2023-02-28T06:59:28.305Z"
   },
   {
    "duration": 4,
    "start_time": "2023-02-28T06:59:51.639Z"
   },
   {
    "duration": 918,
    "start_time": "2023-02-28T07:00:20.095Z"
   },
   {
    "duration": 5,
    "start_time": "2023-02-28T07:00:44.924Z"
   },
   {
    "duration": 31,
    "start_time": "2023-02-28T07:00:57.957Z"
   },
   {
    "duration": 370,
    "start_time": "2023-02-28T07:06:46.514Z"
   },
   {
    "duration": 11,
    "start_time": "2023-02-28T07:07:20.059Z"
   },
   {
    "duration": 10,
    "start_time": "2023-02-28T07:07:34.921Z"
   },
   {
    "duration": 9,
    "start_time": "2023-02-28T07:07:40.207Z"
   },
   {
    "duration": 115,
    "start_time": "2023-02-28T07:08:15.624Z"
   },
   {
    "duration": 21,
    "start_time": "2023-02-28T07:08:55.215Z"
   },
   {
    "duration": 15,
    "start_time": "2023-02-28T07:09:03.705Z"
   },
   {
    "duration": 19,
    "start_time": "2023-02-28T07:09:20.546Z"
   },
   {
    "duration": 19,
    "start_time": "2023-02-28T07:09:25.830Z"
   },
   {
    "duration": 3,
    "start_time": "2023-02-28T07:10:02.688Z"
   },
   {
    "duration": 105,
    "start_time": "2023-02-28T07:10:23.318Z"
   },
   {
    "duration": 11,
    "start_time": "2023-02-28T07:10:41.623Z"
   },
   {
    "duration": 71,
    "start_time": "2023-02-28T07:11:09.553Z"
   },
   {
    "duration": 59,
    "start_time": "2023-02-28T07:11:20.644Z"
   },
   {
    "duration": 48,
    "start_time": "2023-02-28T07:11:26.537Z"
   },
   {
    "duration": 76,
    "start_time": "2023-02-28T07:23:53.972Z"
   },
   {
    "duration": 10,
    "start_time": "2023-02-28T07:25:02.208Z"
   },
   {
    "duration": 9,
    "start_time": "2023-02-28T07:25:05.388Z"
   },
   {
    "duration": 9,
    "start_time": "2023-02-28T07:25:10.055Z"
   },
   {
    "duration": 39,
    "start_time": "2023-02-28T07:25:15.392Z"
   },
   {
    "duration": 37,
    "start_time": "2023-02-28T07:25:24.493Z"
   },
   {
    "duration": 36,
    "start_time": "2023-02-28T07:25:29.365Z"
   },
   {
    "duration": 94,
    "start_time": "2023-02-28T07:26:59.335Z"
   },
   {
    "duration": 343,
    "start_time": "2023-02-28T07:27:33.026Z"
   },
   {
    "duration": 361,
    "start_time": "2023-02-28T07:27:45.713Z"
   },
   {
    "duration": 126,
    "start_time": "2023-02-28T07:29:12.192Z"
   },
   {
    "duration": 26,
    "start_time": "2023-02-28T07:29:27.373Z"
   },
   {
    "duration": 9,
    "start_time": "2023-02-28T07:30:12.503Z"
   },
   {
    "duration": 84,
    "start_time": "2023-02-28T07:30:18.740Z"
   },
   {
    "duration": 1632,
    "start_time": "2023-02-28T07:34:09.923Z"
   },
   {
    "duration": 396,
    "start_time": "2023-02-28T07:34:11.557Z"
   },
   {
    "duration": 17,
    "start_time": "2023-02-28T07:34:11.955Z"
   },
   {
    "duration": 13,
    "start_time": "2023-02-28T07:34:11.974Z"
   },
   {
    "duration": 19,
    "start_time": "2023-02-28T07:34:11.988Z"
   },
   {
    "duration": 21,
    "start_time": "2023-02-28T07:34:12.008Z"
   },
   {
    "duration": 13,
    "start_time": "2023-02-28T07:34:12.030Z"
   },
   {
    "duration": 14,
    "start_time": "2023-02-28T07:34:12.045Z"
   },
   {
    "duration": 68,
    "start_time": "2023-02-28T07:34:12.060Z"
   },
   {
    "duration": 60,
    "start_time": "2023-02-28T07:34:12.130Z"
   },
   {
    "duration": 48,
    "start_time": "2023-02-28T07:34:12.191Z"
   },
   {
    "duration": 50,
    "start_time": "2023-02-28T07:34:12.240Z"
   },
   {
    "duration": 34,
    "start_time": "2023-02-28T07:34:12.292Z"
   },
   {
    "duration": 61,
    "start_time": "2023-02-28T07:34:12.328Z"
   },
   {
    "duration": 365,
    "start_time": "2023-02-28T07:34:12.391Z"
   },
   {
    "duration": 86,
    "start_time": "2023-02-28T07:34:12.758Z"
   },
   {
    "duration": 119,
    "start_time": "2023-02-28T07:34:12.846Z"
   },
   {
    "duration": 4,
    "start_time": "2023-02-28T07:36:45.660Z"
   },
   {
    "duration": 3,
    "start_time": "2023-02-28T07:37:05.012Z"
   },
   {
    "duration": 80,
    "start_time": "2023-02-28T07:37:16.005Z"
   },
   {
    "duration": 125,
    "start_time": "2023-02-28T07:37:21.190Z"
   },
   {
    "duration": 3,
    "start_time": "2023-02-28T07:37:27.267Z"
   },
   {
    "duration": 15,
    "start_time": "2023-02-28T07:37:27.923Z"
   },
   {
    "duration": 2,
    "start_time": "2023-02-28T07:37:37.446Z"
   },
   {
    "duration": 4,
    "start_time": "2023-02-28T07:37:38.170Z"
   },
   {
    "duration": 3,
    "start_time": "2023-02-28T07:38:02.277Z"
   },
   {
    "duration": 3,
    "start_time": "2023-02-28T07:38:02.753Z"
   },
   {
    "duration": 3,
    "start_time": "2023-02-28T07:38:21.500Z"
   },
   {
    "duration": 3,
    "start_time": "2023-02-28T07:38:21.987Z"
   },
   {
    "duration": 3,
    "start_time": "2023-02-28T07:39:05.327Z"
   },
   {
    "duration": 12,
    "start_time": "2023-02-28T07:39:05.855Z"
   },
   {
    "duration": 3,
    "start_time": "2023-02-28T07:39:10.914Z"
   },
   {
    "duration": 213,
    "start_time": "2023-02-28T07:39:11.426Z"
   },
   {
    "duration": 941,
    "start_time": "2023-02-28T07:40:10.908Z"
   },
   {
    "duration": 3,
    "start_time": "2023-02-28T07:40:11.851Z"
   },
   {
    "duration": 162,
    "start_time": "2023-02-28T07:40:11.855Z"
   },
   {
    "duration": 3,
    "start_time": "2023-02-28T07:41:54.054Z"
   },
   {
    "duration": 946,
    "start_time": "2023-02-28T07:41:54.552Z"
   },
   {
    "duration": 3,
    "start_time": "2023-02-28T07:42:54.463Z"
   },
   {
    "duration": 1093,
    "start_time": "2023-02-28T07:42:55.403Z"
   },
   {
    "duration": 4,
    "start_time": "2023-02-28T07:43:14.320Z"
   },
   {
    "duration": 972,
    "start_time": "2023-02-28T07:43:14.913Z"
   },
   {
    "duration": 4,
    "start_time": "2023-02-28T07:43:46.637Z"
   },
   {
    "duration": 999,
    "start_time": "2023-02-28T07:43:47.191Z"
   },
   {
    "duration": 3,
    "start_time": "2023-02-28T07:43:57.312Z"
   },
   {
    "duration": 920,
    "start_time": "2023-02-28T07:43:57.999Z"
   },
   {
    "duration": 3,
    "start_time": "2023-02-28T07:44:08.498Z"
   },
   {
    "duration": 1039,
    "start_time": "2023-02-28T07:44:09.261Z"
   },
   {
    "duration": 79,
    "start_time": "2023-02-28T07:44:43.748Z"
   },
   {
    "duration": 4,
    "start_time": "2023-02-28T07:45:11.689Z"
   },
   {
    "duration": 941,
    "start_time": "2023-02-28T07:45:12.665Z"
   },
   {
    "duration": 2740,
    "start_time": "2023-02-28T07:45:34.654Z"
   },
   {
    "duration": 5,
    "start_time": "2023-02-28T07:45:53.498Z"
   },
   {
    "duration": 405,
    "start_time": "2023-02-28T07:45:54.098Z"
   },
   {
    "duration": 3,
    "start_time": "2023-02-28T07:46:07.236Z"
   },
   {
    "duration": 494,
    "start_time": "2023-02-28T07:46:07.681Z"
   },
   {
    "duration": 3,
    "start_time": "2023-02-28T07:46:20.427Z"
   },
   {
    "duration": 108,
    "start_time": "2023-02-28T07:46:20.844Z"
   },
   {
    "duration": 4,
    "start_time": "2023-02-28T07:46:45.653Z"
   },
   {
    "duration": 1802,
    "start_time": "2023-02-28T07:46:46.133Z"
   },
   {
    "duration": 4,
    "start_time": "2023-02-28T07:47:06.273Z"
   },
   {
    "duration": 1890,
    "start_time": "2023-02-28T07:47:07.626Z"
   },
   {
    "duration": 3,
    "start_time": "2023-02-28T07:48:33.790Z"
   },
   {
    "duration": 371,
    "start_time": "2023-02-28T07:48:34.755Z"
   },
   {
    "duration": 4,
    "start_time": "2023-02-28T07:49:17.971Z"
   },
   {
    "duration": 13,
    "start_time": "2023-02-28T07:49:18.465Z"
   },
   {
    "duration": 4,
    "start_time": "2023-02-28T07:49:52.888Z"
   },
   {
    "duration": 13,
    "start_time": "2023-02-28T07:49:53.316Z"
   },
   {
    "duration": 3,
    "start_time": "2023-02-28T07:52:05.368Z"
   },
   {
    "duration": 508,
    "start_time": "2023-02-28T07:52:05.768Z"
   },
   {
    "duration": 4,
    "start_time": "2023-02-28T07:52:17.936Z"
   },
   {
    "duration": 1092,
    "start_time": "2023-02-28T07:52:18.457Z"
   },
   {
    "duration": 4,
    "start_time": "2023-02-28T07:52:30.560Z"
   },
   {
    "duration": 1317,
    "start_time": "2023-02-28T07:52:30.897Z"
   },
   {
    "duration": 3,
    "start_time": "2023-02-28T07:52:43.054Z"
   },
   {
    "duration": 1009,
    "start_time": "2023-02-28T07:52:44.120Z"
   },
   {
    "duration": 3,
    "start_time": "2023-02-28T07:52:50.719Z"
   },
   {
    "duration": 991,
    "start_time": "2023-02-28T07:52:56.319Z"
   },
   {
    "duration": 3,
    "start_time": "2023-02-28T07:53:57.127Z"
   },
   {
    "duration": 484,
    "start_time": "2023-02-28T07:53:58.084Z"
   },
   {
    "duration": 4,
    "start_time": "2023-02-28T07:54:05.486Z"
   },
   {
    "duration": 1028,
    "start_time": "2023-02-28T07:54:06.303Z"
   },
   {
    "duration": 4,
    "start_time": "2023-02-28T07:56:53.839Z"
   },
   {
    "duration": 4,
    "start_time": "2023-02-28T07:57:50.786Z"
   },
   {
    "duration": 5,
    "start_time": "2023-02-28T08:00:02.496Z"
   },
   {
    "duration": 1153,
    "start_time": "2023-02-28T08:00:23.045Z"
   },
   {
    "duration": 11,
    "start_time": "2023-02-28T08:01:25.989Z"
   },
   {
    "duration": 5,
    "start_time": "2023-02-28T08:01:31.768Z"
   },
   {
    "duration": 13,
    "start_time": "2023-02-28T08:02:05.460Z"
   },
   {
    "duration": 11,
    "start_time": "2023-02-28T08:02:16.463Z"
   },
   {
    "duration": 12,
    "start_time": "2023-02-28T08:02:21.271Z"
   },
   {
    "duration": 4,
    "start_time": "2023-02-28T08:02:27.208Z"
   },
   {
    "duration": 11,
    "start_time": "2023-02-28T08:02:53.604Z"
   },
   {
    "duration": 4,
    "start_time": "2023-02-28T08:03:00.810Z"
   },
   {
    "duration": 5,
    "start_time": "2023-02-28T08:03:19.413Z"
   },
   {
    "duration": 4,
    "start_time": "2023-02-28T08:03:19.907Z"
   },
   {
    "duration": 18,
    "start_time": "2023-02-28T09:22:27.530Z"
   },
   {
    "duration": 4,
    "start_time": "2023-02-28T09:22:34.032Z"
   },
   {
    "duration": 9,
    "start_time": "2023-02-28T09:23:11.764Z"
   },
   {
    "duration": 39,
    "start_time": "2023-02-28T09:23:19.073Z"
   },
   {
    "duration": 4,
    "start_time": "2023-02-28T09:23:24.393Z"
   },
   {
    "duration": 12,
    "start_time": "2023-02-28T09:24:52.989Z"
   },
   {
    "duration": 15,
    "start_time": "2023-02-28T09:25:00.702Z"
   },
   {
    "duration": 5,
    "start_time": "2023-02-28T09:25:02.976Z"
   },
   {
    "duration": 14,
    "start_time": "2023-02-28T09:25:16.262Z"
   },
   {
    "duration": 11,
    "start_time": "2023-02-28T09:25:45.950Z"
   },
   {
    "duration": 4,
    "start_time": "2023-02-28T09:25:48.390Z"
   },
   {
    "duration": 12,
    "start_time": "2023-02-28T09:25:49.488Z"
   },
   {
    "duration": 4,
    "start_time": "2023-02-28T09:25:57.389Z"
   },
   {
    "duration": 11,
    "start_time": "2023-02-28T09:26:05.257Z"
   },
   {
    "duration": 6,
    "start_time": "2023-02-28T09:26:23.878Z"
   },
   {
    "duration": 448,
    "start_time": "2023-02-28T09:26:23.886Z"
   },
   {
    "duration": 10,
    "start_time": "2023-02-28T09:26:24.336Z"
   },
   {
    "duration": 22,
    "start_time": "2023-02-28T09:26:24.347Z"
   },
   {
    "duration": 17,
    "start_time": "2023-02-28T09:26:24.371Z"
   },
   {
    "duration": 15,
    "start_time": "2023-02-28T09:26:24.389Z"
   },
   {
    "duration": 0,
    "start_time": "2023-02-28T09:26:24.406Z"
   },
   {
    "duration": 0,
    "start_time": "2023-02-28T09:26:24.408Z"
   },
   {
    "duration": 0,
    "start_time": "2023-02-28T09:26:24.409Z"
   },
   {
    "duration": 0,
    "start_time": "2023-02-28T09:26:24.410Z"
   },
   {
    "duration": 0,
    "start_time": "2023-02-28T09:26:24.411Z"
   },
   {
    "duration": 0,
    "start_time": "2023-02-28T09:26:24.412Z"
   },
   {
    "duration": 0,
    "start_time": "2023-02-28T09:26:24.413Z"
   },
   {
    "duration": 0,
    "start_time": "2023-02-28T09:26:24.422Z"
   },
   {
    "duration": 0,
    "start_time": "2023-02-28T09:26:24.423Z"
   },
   {
    "duration": 0,
    "start_time": "2023-02-28T09:26:24.424Z"
   },
   {
    "duration": 0,
    "start_time": "2023-02-28T09:26:24.425Z"
   },
   {
    "duration": 0,
    "start_time": "2023-02-28T09:26:24.426Z"
   },
   {
    "duration": 0,
    "start_time": "2023-02-28T09:26:24.427Z"
   },
   {
    "duration": 0,
    "start_time": "2023-02-28T09:26:24.428Z"
   },
   {
    "duration": 0,
    "start_time": "2023-02-28T09:26:24.429Z"
   },
   {
    "duration": 0,
    "start_time": "2023-02-28T09:26:24.430Z"
   },
   {
    "duration": 0,
    "start_time": "2023-02-28T09:26:24.431Z"
   },
   {
    "duration": 4,
    "start_time": "2023-02-28T09:27:05.451Z"
   },
   {
    "duration": 393,
    "start_time": "2023-02-28T09:27:05.457Z"
   },
   {
    "duration": 12,
    "start_time": "2023-02-28T09:27:05.852Z"
   },
   {
    "duration": 27,
    "start_time": "2023-02-28T09:27:05.866Z"
   },
   {
    "duration": 39,
    "start_time": "2023-02-28T09:27:05.896Z"
   },
   {
    "duration": 36,
    "start_time": "2023-02-28T09:27:05.936Z"
   },
   {
    "duration": 13,
    "start_time": "2023-02-28T09:27:05.974Z"
   },
   {
    "duration": 17,
    "start_time": "2023-02-28T09:27:05.989Z"
   },
   {
    "duration": 43,
    "start_time": "2023-02-28T09:27:06.011Z"
   },
   {
    "duration": 40,
    "start_time": "2023-02-28T09:27:06.055Z"
   },
   {
    "duration": 58,
    "start_time": "2023-02-28T09:27:06.097Z"
   },
   {
    "duration": 42,
    "start_time": "2023-02-28T09:27:06.157Z"
   },
   {
    "duration": 36,
    "start_time": "2023-02-28T09:27:06.221Z"
   },
   {
    "duration": 36,
    "start_time": "2023-02-28T09:27:06.259Z"
   },
   {
    "duration": 4,
    "start_time": "2023-02-28T09:27:06.297Z"
   },
   {
    "duration": 1020,
    "start_time": "2023-02-28T09:27:06.302Z"
   },
   {
    "duration": 6,
    "start_time": "2023-02-28T09:27:07.324Z"
   },
   {
    "duration": 7,
    "start_time": "2023-02-28T09:27:07.331Z"
   },
   {
    "duration": 17,
    "start_time": "2023-02-28T09:27:07.339Z"
   },
   {
    "duration": 4,
    "start_time": "2023-02-28T09:27:07.358Z"
   },
   {
    "duration": 8,
    "start_time": "2023-02-28T09:27:07.363Z"
   },
   {
    "duration": 19,
    "start_time": "2023-02-28T09:27:07.373Z"
   },
   {
    "duration": 30,
    "start_time": "2023-02-28T09:27:07.394Z"
   },
   {
    "duration": 12,
    "start_time": "2023-02-28T09:27:12.382Z"
   },
   {
    "duration": 19,
    "start_time": "2023-02-28T09:27:35.611Z"
   },
   {
    "duration": 5,
    "start_time": "2023-02-28T09:28:40.530Z"
   },
   {
    "duration": 378,
    "start_time": "2023-02-28T09:28:40.537Z"
   },
   {
    "duration": 12,
    "start_time": "2023-02-28T09:28:40.917Z"
   },
   {
    "duration": 15,
    "start_time": "2023-02-28T09:28:40.932Z"
   },
   {
    "duration": 14,
    "start_time": "2023-02-28T09:28:40.948Z"
   },
   {
    "duration": 18,
    "start_time": "2023-02-28T09:28:40.963Z"
   },
   {
    "duration": 21,
    "start_time": "2023-02-28T09:28:40.983Z"
   },
   {
    "duration": 24,
    "start_time": "2023-02-28T09:28:41.006Z"
   },
   {
    "duration": 47,
    "start_time": "2023-02-28T09:28:41.033Z"
   },
   {
    "duration": 59,
    "start_time": "2023-02-28T09:28:41.082Z"
   },
   {
    "duration": 42,
    "start_time": "2023-02-28T09:28:41.143Z"
   },
   {
    "duration": 44,
    "start_time": "2023-02-28T09:28:41.187Z"
   },
   {
    "duration": 34,
    "start_time": "2023-02-28T09:28:41.232Z"
   },
   {
    "duration": 32,
    "start_time": "2023-02-28T09:28:41.268Z"
   },
   {
    "duration": 4,
    "start_time": "2023-02-28T09:28:41.323Z"
   },
   {
    "duration": 1148,
    "start_time": "2023-02-28T09:28:41.329Z"
   },
   {
    "duration": 4,
    "start_time": "2023-02-28T09:28:42.479Z"
   },
   {
    "duration": 6,
    "start_time": "2023-02-28T09:28:42.485Z"
   },
   {
    "duration": 14,
    "start_time": "2023-02-28T09:28:42.492Z"
   },
   {
    "duration": 15,
    "start_time": "2023-02-28T09:28:42.507Z"
   },
   {
    "duration": 3,
    "start_time": "2023-02-28T09:28:42.524Z"
   },
   {
    "duration": 18,
    "start_time": "2023-02-28T09:28:42.529Z"
   },
   {
    "duration": 4,
    "start_time": "2023-02-28T09:28:42.548Z"
   },
   {
    "duration": 74,
    "start_time": "2023-02-28T09:28:42.554Z"
   },
   {
    "duration": 0,
    "start_time": "2023-02-28T09:28:42.629Z"
   },
   {
    "duration": 15,
    "start_time": "2023-02-28T09:29:04.679Z"
   },
   {
    "duration": 5,
    "start_time": "2023-02-28T09:29:06.061Z"
   },
   {
    "duration": 318,
    "start_time": "2023-02-28T09:29:34.725Z"
   },
   {
    "duration": 1091,
    "start_time": "2023-02-28T09:29:53.855Z"
   },
   {
    "duration": 4,
    "start_time": "2023-02-28T09:30:19.725Z"
   },
   {
    "duration": 347,
    "start_time": "2023-02-28T09:30:19.731Z"
   },
   {
    "duration": 10,
    "start_time": "2023-02-28T09:30:20.080Z"
   },
   {
    "duration": 26,
    "start_time": "2023-02-28T09:30:20.091Z"
   },
   {
    "duration": 23,
    "start_time": "2023-02-28T09:30:20.119Z"
   },
   {
    "duration": 30,
    "start_time": "2023-02-28T09:30:20.143Z"
   },
   {
    "duration": 12,
    "start_time": "2023-02-28T09:30:20.174Z"
   },
   {
    "duration": 21,
    "start_time": "2023-02-28T09:30:20.187Z"
   },
   {
    "duration": 43,
    "start_time": "2023-02-28T09:30:20.210Z"
   },
   {
    "duration": 37,
    "start_time": "2023-02-28T09:30:20.254Z"
   },
   {
    "duration": 57,
    "start_time": "2023-02-28T09:30:20.292Z"
   },
   {
    "duration": 35,
    "start_time": "2023-02-28T09:30:20.351Z"
   },
   {
    "duration": 49,
    "start_time": "2023-02-28T09:30:20.388Z"
   },
   {
    "duration": 38,
    "start_time": "2023-02-28T09:30:20.439Z"
   },
   {
    "duration": 4,
    "start_time": "2023-02-28T09:30:20.479Z"
   },
   {
    "duration": 1168,
    "start_time": "2023-02-28T09:30:20.484Z"
   },
   {
    "duration": 5,
    "start_time": "2023-02-28T09:31:45.462Z"
   },
   {
    "duration": 511,
    "start_time": "2023-02-28T09:31:45.470Z"
   },
   {
    "duration": 8,
    "start_time": "2023-02-28T09:31:45.983Z"
   },
   {
    "duration": 11,
    "start_time": "2023-02-28T09:31:45.993Z"
   },
   {
    "duration": 21,
    "start_time": "2023-02-28T09:31:46.006Z"
   },
   {
    "duration": 19,
    "start_time": "2023-02-28T09:31:46.029Z"
   },
   {
    "duration": 12,
    "start_time": "2023-02-28T09:31:46.050Z"
   },
   {
    "duration": 12,
    "start_time": "2023-02-28T09:31:46.064Z"
   },
   {
    "duration": 64,
    "start_time": "2023-02-28T09:31:46.078Z"
   },
   {
    "duration": 50,
    "start_time": "2023-02-28T09:31:46.144Z"
   },
   {
    "duration": 72,
    "start_time": "2023-02-28T09:31:46.196Z"
   },
   {
    "duration": 42,
    "start_time": "2023-02-28T09:31:46.270Z"
   },
   {
    "duration": 35,
    "start_time": "2023-02-28T09:31:46.322Z"
   },
   {
    "duration": 38,
    "start_time": "2023-02-28T09:31:46.359Z"
   },
   {
    "duration": 23,
    "start_time": "2023-02-28T09:31:46.399Z"
   },
   {
    "duration": 1005,
    "start_time": "2023-02-28T09:31:46.424Z"
   },
   {
    "duration": 5,
    "start_time": "2023-02-28T09:31:47.431Z"
   },
   {
    "duration": 5,
    "start_time": "2023-02-28T09:31:47.438Z"
   },
   {
    "duration": 7,
    "start_time": "2023-02-28T09:31:47.445Z"
   },
   {
    "duration": 4,
    "start_time": "2023-02-28T09:31:47.454Z"
   },
   {
    "duration": 4,
    "start_time": "2023-02-28T09:31:52.635Z"
   },
   {
    "duration": 4,
    "start_time": "2023-02-28T09:32:18.630Z"
   },
   {
    "duration": 4,
    "start_time": "2023-02-28T09:32:31.332Z"
   },
   {
    "duration": 10,
    "start_time": "2023-02-28T09:32:58.057Z"
   },
   {
    "duration": 4,
    "start_time": "2023-02-28T09:33:01.184Z"
   },
   {
    "duration": 4,
    "start_time": "2023-02-28T09:39:22.440Z"
   },
   {
    "duration": 9,
    "start_time": "2023-02-28T09:39:34.207Z"
   },
   {
    "duration": 3,
    "start_time": "2023-02-28T09:40:36.333Z"
   },
   {
    "duration": 72,
    "start_time": "2023-02-28T09:40:36.954Z"
   },
   {
    "duration": 13,
    "start_time": "2023-02-28T09:40:40.439Z"
   },
   {
    "duration": 68,
    "start_time": "2023-02-28T09:41:02.446Z"
   },
   {
    "duration": 4,
    "start_time": "2023-02-28T09:41:07.123Z"
   },
   {
    "duration": 20,
    "start_time": "2023-02-28T09:41:08.179Z"
   },
   {
    "duration": 4,
    "start_time": "2023-02-28T09:41:31.975Z"
   },
   {
    "duration": 5,
    "start_time": "2023-02-28T09:41:35.779Z"
   },
   {
    "duration": 28,
    "start_time": "2023-02-28T09:41:36.854Z"
   },
   {
    "duration": 4,
    "start_time": "2023-02-28T09:43:19.235Z"
   },
   {
    "duration": 4,
    "start_time": "2023-02-28T09:43:31.267Z"
   },
   {
    "duration": 49,
    "start_time": "2023-02-28T09:43:34.670Z"
   },
   {
    "duration": 4,
    "start_time": "2023-02-28T09:43:38.756Z"
   },
   {
    "duration": 4,
    "start_time": "2023-02-28T09:43:52.619Z"
   },
   {
    "duration": 5,
    "start_time": "2023-02-28T09:43:59.739Z"
   },
   {
    "duration": 373,
    "start_time": "2023-02-28T09:43:59.746Z"
   },
   {
    "duration": 13,
    "start_time": "2023-02-28T09:44:00.122Z"
   },
   {
    "duration": 41,
    "start_time": "2023-02-28T09:44:00.137Z"
   },
   {
    "duration": 28,
    "start_time": "2023-02-28T09:44:00.180Z"
   },
   {
    "duration": 17,
    "start_time": "2023-02-28T09:44:00.209Z"
   },
   {
    "duration": 16,
    "start_time": "2023-02-28T09:44:00.228Z"
   },
   {
    "duration": 34,
    "start_time": "2023-02-28T09:44:00.246Z"
   },
   {
    "duration": 66,
    "start_time": "2023-02-28T09:44:00.282Z"
   },
   {
    "duration": 41,
    "start_time": "2023-02-28T09:44:00.350Z"
   },
   {
    "duration": 69,
    "start_time": "2023-02-28T09:44:00.394Z"
   },
   {
    "duration": 40,
    "start_time": "2023-02-28T09:44:00.465Z"
   },
   {
    "duration": 49,
    "start_time": "2023-02-28T09:44:00.507Z"
   },
   {
    "duration": 38,
    "start_time": "2023-02-28T09:44:00.558Z"
   },
   {
    "duration": 42,
    "start_time": "2023-02-28T09:44:00.597Z"
   },
   {
    "duration": 1276,
    "start_time": "2023-02-28T09:44:00.641Z"
   },
   {
    "duration": 6,
    "start_time": "2023-02-28T09:44:01.918Z"
   },
   {
    "duration": 104,
    "start_time": "2023-02-28T09:44:01.926Z"
   },
   {
    "duration": 0,
    "start_time": "2023-02-28T09:44:02.031Z"
   },
   {
    "duration": 0,
    "start_time": "2023-02-28T09:44:02.033Z"
   },
   {
    "duration": 5,
    "start_time": "2023-02-28T09:44:26.320Z"
   },
   {
    "duration": 9,
    "start_time": "2023-02-28T09:44:26.888Z"
   },
   {
    "duration": 4,
    "start_time": "2023-02-28T09:45:05.949Z"
   },
   {
    "duration": 358,
    "start_time": "2023-02-28T09:45:05.955Z"
   },
   {
    "duration": 7,
    "start_time": "2023-02-28T09:45:06.314Z"
   },
   {
    "duration": 29,
    "start_time": "2023-02-28T09:45:06.322Z"
   },
   {
    "duration": 29,
    "start_time": "2023-02-28T09:45:06.353Z"
   },
   {
    "duration": 18,
    "start_time": "2023-02-28T09:45:06.384Z"
   },
   {
    "duration": 51,
    "start_time": "2023-02-28T09:45:06.404Z"
   },
   {
    "duration": 0,
    "start_time": "2023-02-28T09:45:06.457Z"
   },
   {
    "duration": 0,
    "start_time": "2023-02-28T09:45:06.458Z"
   },
   {
    "duration": 0,
    "start_time": "2023-02-28T09:45:06.459Z"
   },
   {
    "duration": 0,
    "start_time": "2023-02-28T09:45:06.460Z"
   },
   {
    "duration": 0,
    "start_time": "2023-02-28T09:45:06.461Z"
   },
   {
    "duration": 0,
    "start_time": "2023-02-28T09:45:06.462Z"
   },
   {
    "duration": 0,
    "start_time": "2023-02-28T09:45:06.463Z"
   },
   {
    "duration": 0,
    "start_time": "2023-02-28T09:45:06.464Z"
   },
   {
    "duration": 0,
    "start_time": "2023-02-28T09:45:06.466Z"
   },
   {
    "duration": 0,
    "start_time": "2023-02-28T09:45:06.467Z"
   },
   {
    "duration": 0,
    "start_time": "2023-02-28T09:45:06.468Z"
   },
   {
    "duration": 0,
    "start_time": "2023-02-28T09:45:06.469Z"
   },
   {
    "duration": 0,
    "start_time": "2023-02-28T09:45:06.470Z"
   },
   {
    "duration": 0,
    "start_time": "2023-02-28T09:45:06.470Z"
   },
   {
    "duration": 0,
    "start_time": "2023-02-28T09:45:06.471Z"
   },
   {
    "duration": 6,
    "start_time": "2023-02-28T09:45:34.232Z"
   },
   {
    "duration": 368,
    "start_time": "2023-02-28T09:45:34.240Z"
   },
   {
    "duration": 5,
    "start_time": "2023-02-28T09:45:34.610Z"
   },
   {
    "duration": 58,
    "start_time": "2023-02-28T09:45:34.617Z"
   },
   {
    "duration": 53,
    "start_time": "2023-02-28T09:45:34.677Z"
   },
   {
    "duration": 18,
    "start_time": "2023-02-28T09:45:34.732Z"
   },
   {
    "duration": 36,
    "start_time": "2023-02-28T09:45:34.751Z"
   },
   {
    "duration": 18,
    "start_time": "2023-02-28T09:45:34.788Z"
   },
   {
    "duration": 23,
    "start_time": "2023-02-28T09:45:34.807Z"
   },
   {
    "duration": 53,
    "start_time": "2023-02-28T09:45:34.832Z"
   },
   {
    "duration": 40,
    "start_time": "2023-02-28T09:45:34.888Z"
   },
   {
    "duration": 40,
    "start_time": "2023-02-28T09:45:34.930Z"
   },
   {
    "duration": 53,
    "start_time": "2023-02-28T09:45:34.972Z"
   },
   {
    "duration": 35,
    "start_time": "2023-02-28T09:45:35.027Z"
   },
   {
    "duration": 32,
    "start_time": "2023-02-28T09:45:35.063Z"
   },
   {
    "duration": 26,
    "start_time": "2023-02-28T09:45:35.097Z"
   },
   {
    "duration": 1079,
    "start_time": "2023-02-28T09:45:35.125Z"
   },
   {
    "duration": 4,
    "start_time": "2023-02-28T09:45:36.206Z"
   },
   {
    "duration": 33,
    "start_time": "2023-02-28T09:45:36.221Z"
   },
   {
    "duration": 64,
    "start_time": "2023-02-28T09:45:36.256Z"
   },
   {
    "duration": 8,
    "start_time": "2023-02-28T09:45:36.322Z"
   },
   {
    "duration": 4,
    "start_time": "2023-02-28T09:45:50.000Z"
   },
   {
    "duration": 4,
    "start_time": "2023-02-28T09:45:54.647Z"
   },
   {
    "duration": 393,
    "start_time": "2023-02-28T09:45:54.653Z"
   },
   {
    "duration": 5,
    "start_time": "2023-02-28T09:45:55.048Z"
   },
   {
    "duration": 58,
    "start_time": "2023-02-28T09:45:55.055Z"
   },
   {
    "duration": 93,
    "start_time": "2023-02-28T09:45:55.115Z"
   },
   {
    "duration": 60,
    "start_time": "2023-02-28T09:45:55.210Z"
   },
   {
    "duration": 72,
    "start_time": "2023-02-28T09:45:55.271Z"
   },
   {
    "duration": 57,
    "start_time": "2023-02-28T09:45:55.345Z"
   },
   {
    "duration": 59,
    "start_time": "2023-02-28T09:45:55.403Z"
   },
   {
    "duration": 54,
    "start_time": "2023-02-28T09:45:55.464Z"
   },
   {
    "duration": 39,
    "start_time": "2023-02-28T09:45:55.520Z"
   },
   {
    "duration": 56,
    "start_time": "2023-02-28T09:45:55.561Z"
   },
   {
    "duration": 46,
    "start_time": "2023-02-28T09:45:55.622Z"
   },
   {
    "duration": 54,
    "start_time": "2023-02-28T09:45:55.670Z"
   },
   {
    "duration": 41,
    "start_time": "2023-02-28T09:45:55.725Z"
   },
   {
    "duration": 5,
    "start_time": "2023-02-28T09:45:55.769Z"
   },
   {
    "duration": 1063,
    "start_time": "2023-02-28T09:45:55.776Z"
   },
   {
    "duration": 4,
    "start_time": "2023-02-28T09:45:56.840Z"
   },
   {
    "duration": 126,
    "start_time": "2023-02-28T09:45:56.846Z"
   },
   {
    "duration": 119,
    "start_time": "2023-02-28T09:45:56.974Z"
   },
   {
    "duration": 4,
    "start_time": "2023-02-28T09:45:57.095Z"
   },
   {
    "duration": 4,
    "start_time": "2023-02-28T09:46:15.681Z"
   },
   {
    "duration": 1147,
    "start_time": "2023-02-28T09:46:28.375Z"
   },
   {
    "duration": 5,
    "start_time": "2023-02-28T09:48:53.706Z"
   },
   {
    "duration": 4,
    "start_time": "2023-02-28T09:48:54.220Z"
   },
   {
    "duration": 5,
    "start_time": "2023-02-28T09:49:06.566Z"
   },
   {
    "duration": 368,
    "start_time": "2023-02-28T09:49:06.574Z"
   },
   {
    "duration": 5,
    "start_time": "2023-02-28T09:49:06.944Z"
   },
   {
    "duration": 26,
    "start_time": "2023-02-28T09:49:06.950Z"
   },
   {
    "duration": 22,
    "start_time": "2023-02-28T09:49:06.977Z"
   },
   {
    "duration": 15,
    "start_time": "2023-02-28T09:49:07.000Z"
   },
   {
    "duration": 30,
    "start_time": "2023-02-28T09:49:07.016Z"
   },
   {
    "duration": 15,
    "start_time": "2023-02-28T09:49:07.048Z"
   },
   {
    "duration": 20,
    "start_time": "2023-02-28T09:49:07.064Z"
   },
   {
    "duration": 50,
    "start_time": "2023-02-28T09:49:07.085Z"
   },
   {
    "duration": 40,
    "start_time": "2023-02-28T09:49:07.137Z"
   },
   {
    "duration": 50,
    "start_time": "2023-02-28T09:49:07.178Z"
   },
   {
    "duration": 36,
    "start_time": "2023-02-28T09:49:07.230Z"
   },
   {
    "duration": 32,
    "start_time": "2023-02-28T09:49:07.267Z"
   },
   {
    "duration": 52,
    "start_time": "2023-02-28T09:49:07.300Z"
   },
   {
    "duration": 5,
    "start_time": "2023-02-28T09:49:07.354Z"
   },
   {
    "duration": 1020,
    "start_time": "2023-02-28T09:49:07.360Z"
   },
   {
    "duration": 5,
    "start_time": "2023-02-28T09:49:08.381Z"
   },
   {
    "duration": 34,
    "start_time": "2023-02-28T09:49:08.388Z"
   },
   {
    "duration": 112,
    "start_time": "2023-02-28T09:49:08.423Z"
   },
   {
    "duration": 4,
    "start_time": "2023-02-28T09:49:08.537Z"
   },
   {
    "duration": 4,
    "start_time": "2023-02-28T09:49:31.900Z"
   },
   {
    "duration": 4,
    "start_time": "2023-02-28T09:50:01.599Z"
   },
   {
    "duration": 4,
    "start_time": "2023-02-28T09:50:02.785Z"
   },
   {
    "duration": 90,
    "start_time": "2023-02-28T09:50:03.448Z"
   },
   {
    "duration": 4,
    "start_time": "2023-02-28T09:50:11.305Z"
   },
   {
    "duration": 339,
    "start_time": "2023-02-28T09:50:11.317Z"
   },
   {
    "duration": 4,
    "start_time": "2023-02-28T09:50:11.658Z"
   },
   {
    "duration": 23,
    "start_time": "2023-02-28T09:50:11.664Z"
   },
   {
    "duration": 28,
    "start_time": "2023-02-28T09:50:11.688Z"
   },
   {
    "duration": 10,
    "start_time": "2023-02-28T09:50:11.718Z"
   },
   {
    "duration": 22,
    "start_time": "2023-02-28T09:50:11.730Z"
   },
   {
    "duration": 12,
    "start_time": "2023-02-28T09:50:11.754Z"
   },
   {
    "duration": 15,
    "start_time": "2023-02-28T09:50:11.768Z"
   },
   {
    "duration": 54,
    "start_time": "2023-02-28T09:50:11.785Z"
   },
   {
    "duration": 48,
    "start_time": "2023-02-28T09:50:11.841Z"
   },
   {
    "duration": 62,
    "start_time": "2023-02-28T09:50:11.890Z"
   },
   {
    "duration": 39,
    "start_time": "2023-02-28T09:50:11.954Z"
   },
   {
    "duration": 51,
    "start_time": "2023-02-28T09:50:11.995Z"
   },
   {
    "duration": 37,
    "start_time": "2023-02-28T09:50:12.049Z"
   },
   {
    "duration": 4,
    "start_time": "2023-02-28T09:50:12.088Z"
   },
   {
    "duration": 1230,
    "start_time": "2023-02-28T09:50:12.094Z"
   },
   {
    "duration": 5,
    "start_time": "2023-02-28T09:50:13.327Z"
   },
   {
    "duration": 9,
    "start_time": "2023-02-28T09:50:13.333Z"
   },
   {
    "duration": 99,
    "start_time": "2023-02-28T09:50:13.344Z"
   },
   {
    "duration": 4,
    "start_time": "2023-02-28T09:50:13.445Z"
   },
   {
    "duration": 4,
    "start_time": "2023-02-28T09:51:54.230Z"
   },
   {
    "duration": 345,
    "start_time": "2023-02-28T09:51:54.235Z"
   },
   {
    "duration": 5,
    "start_time": "2023-02-28T09:51:54.582Z"
   },
   {
    "duration": 17,
    "start_time": "2023-02-28T09:51:54.589Z"
   },
   {
    "duration": 11,
    "start_time": "2023-02-28T09:51:54.608Z"
   },
   {
    "duration": 18,
    "start_time": "2023-02-28T09:51:54.622Z"
   },
   {
    "duration": 21,
    "start_time": "2023-02-28T09:51:54.642Z"
   },
   {
    "duration": 13,
    "start_time": "2023-02-28T09:51:54.665Z"
   },
   {
    "duration": 14,
    "start_time": "2023-02-28T09:51:54.679Z"
   },
   {
    "duration": 55,
    "start_time": "2023-02-28T09:51:54.694Z"
   },
   {
    "duration": 39,
    "start_time": "2023-02-28T09:51:54.751Z"
   },
   {
    "duration": 54,
    "start_time": "2023-02-28T09:51:54.792Z"
   },
   {
    "duration": 38,
    "start_time": "2023-02-28T09:51:54.848Z"
   },
   {
    "duration": 53,
    "start_time": "2023-02-28T09:51:54.888Z"
   },
   {
    "duration": 31,
    "start_time": "2023-02-28T09:51:54.943Z"
   },
   {
    "duration": 4,
    "start_time": "2023-02-28T09:51:54.975Z"
   },
   {
    "duration": 1074,
    "start_time": "2023-02-28T09:51:54.981Z"
   },
   {
    "duration": 5,
    "start_time": "2023-02-28T09:51:56.057Z"
   },
   {
    "duration": 9,
    "start_time": "2023-02-28T09:51:56.063Z"
   },
   {
    "duration": 115,
    "start_time": "2023-02-28T09:51:56.073Z"
   },
   {
    "duration": 4,
    "start_time": "2023-02-28T09:51:56.189Z"
   },
   {
    "duration": 15,
    "start_time": "2023-02-28T09:52:06.866Z"
   },
   {
    "duration": 5,
    "start_time": "2023-02-28T09:52:52.318Z"
   },
   {
    "duration": 5,
    "start_time": "2023-02-28T09:53:07.037Z"
   },
   {
    "duration": 4,
    "start_time": "2023-02-28T09:53:26.287Z"
   },
   {
    "duration": 368,
    "start_time": "2023-02-28T09:53:26.293Z"
   },
   {
    "duration": 4,
    "start_time": "2023-02-28T09:53:26.663Z"
   },
   {
    "duration": 21,
    "start_time": "2023-02-28T09:53:26.669Z"
   },
   {
    "duration": 17,
    "start_time": "2023-02-28T09:53:26.693Z"
   },
   {
    "duration": 16,
    "start_time": "2023-02-28T09:53:26.711Z"
   },
   {
    "duration": 16,
    "start_time": "2023-02-28T09:53:26.728Z"
   },
   {
    "duration": 12,
    "start_time": "2023-02-28T09:53:26.746Z"
   },
   {
    "duration": 12,
    "start_time": "2023-02-28T09:53:26.759Z"
   },
   {
    "duration": 63,
    "start_time": "2023-02-28T09:53:26.773Z"
   },
   {
    "duration": 42,
    "start_time": "2023-02-28T09:53:26.838Z"
   },
   {
    "duration": 66,
    "start_time": "2023-02-28T09:53:26.882Z"
   },
   {
    "duration": 37,
    "start_time": "2023-02-28T09:53:26.949Z"
   },
   {
    "duration": 51,
    "start_time": "2023-02-28T09:53:26.987Z"
   },
   {
    "duration": 33,
    "start_time": "2023-02-28T09:53:27.040Z"
   },
   {
    "duration": 5,
    "start_time": "2023-02-28T09:53:27.075Z"
   },
   {
    "duration": 1152,
    "start_time": "2023-02-28T09:53:27.082Z"
   },
   {
    "duration": 5,
    "start_time": "2023-02-28T09:53:28.235Z"
   },
   {
    "duration": 102,
    "start_time": "2023-02-28T09:53:28.242Z"
   },
   {
    "duration": 94,
    "start_time": "2023-02-28T09:53:28.346Z"
   },
   {
    "duration": 81,
    "start_time": "2023-02-28T09:53:28.442Z"
   },
   {
    "duration": 953,
    "start_time": "2023-02-28T09:53:42.669Z"
   },
   {
    "duration": 6,
    "start_time": "2023-02-28T09:54:24.105Z"
   },
   {
    "duration": 4,
    "start_time": "2023-02-28T09:54:28.522Z"
   },
   {
    "duration": 354,
    "start_time": "2023-02-28T09:54:28.527Z"
   },
   {
    "duration": 5,
    "start_time": "2023-02-28T09:54:28.883Z"
   },
   {
    "duration": 19,
    "start_time": "2023-02-28T09:54:28.889Z"
   },
   {
    "duration": 17,
    "start_time": "2023-02-28T09:54:28.910Z"
   },
   {
    "duration": 12,
    "start_time": "2023-02-28T09:54:28.929Z"
   },
   {
    "duration": 20,
    "start_time": "2023-02-28T09:54:28.943Z"
   },
   {
    "duration": 12,
    "start_time": "2023-02-28T09:54:28.965Z"
   },
   {
    "duration": 16,
    "start_time": "2023-02-28T09:54:28.979Z"
   },
   {
    "duration": 64,
    "start_time": "2023-02-28T09:54:28.996Z"
   },
   {
    "duration": 44,
    "start_time": "2023-02-28T09:54:29.063Z"
   },
   {
    "duration": 49,
    "start_time": "2023-02-28T09:54:29.123Z"
   },
   {
    "duration": 51,
    "start_time": "2023-02-28T09:54:29.174Z"
   },
   {
    "duration": 34,
    "start_time": "2023-02-28T09:54:29.227Z"
   },
   {
    "duration": 32,
    "start_time": "2023-02-28T09:54:29.263Z"
   },
   {
    "duration": 3,
    "start_time": "2023-02-28T09:54:29.297Z"
   },
   {
    "duration": 1224,
    "start_time": "2023-02-28T09:54:29.321Z"
   },
   {
    "duration": 5,
    "start_time": "2023-02-28T09:54:30.547Z"
   },
   {
    "duration": 115,
    "start_time": "2023-02-28T09:54:30.553Z"
   },
   {
    "duration": 96,
    "start_time": "2023-02-28T09:54:30.670Z"
   },
   {
    "duration": 88,
    "start_time": "2023-02-28T09:54:30.768Z"
   },
   {
    "duration": 15,
    "start_time": "2023-02-28T10:01:31.805Z"
   },
   {
    "duration": 16,
    "start_time": "2023-02-28T10:01:50.084Z"
   },
   {
    "duration": 9,
    "start_time": "2023-02-28T10:02:04.056Z"
   },
   {
    "duration": 13,
    "start_time": "2023-02-28T10:02:08.919Z"
   },
   {
    "duration": 82,
    "start_time": "2023-02-28T10:06:31.522Z"
   },
   {
    "duration": 7,
    "start_time": "2023-02-28T10:08:55.274Z"
   },
   {
    "duration": 16,
    "start_time": "2023-02-28T10:09:19.860Z"
   },
   {
    "duration": 42,
    "start_time": "2023-02-28T10:10:57.848Z"
   },
   {
    "duration": 42,
    "start_time": "2023-02-28T10:11:09.069Z"
   },
   {
    "duration": 47,
    "start_time": "2023-02-28T10:11:51.228Z"
   },
   {
    "duration": 91,
    "start_time": "2023-02-28T10:12:16.423Z"
   },
   {
    "duration": 43,
    "start_time": "2023-02-28T10:12:22.230Z"
   },
   {
    "duration": 9,
    "start_time": "2023-02-28T10:14:00.226Z"
   },
   {
    "duration": 724,
    "start_time": "2023-02-28T10:14:07.712Z"
   },
   {
    "duration": 15,
    "start_time": "2023-02-28T10:14:59.156Z"
   },
   {
    "duration": 9,
    "start_time": "2023-02-28T10:15:53.047Z"
   },
   {
    "duration": 47,
    "start_time": "2023-02-28T10:16:13.891Z"
   },
   {
    "duration": 9,
    "start_time": "2023-02-28T10:16:47.883Z"
   },
   {
    "duration": 135,
    "start_time": "2023-02-28T10:17:22.511Z"
   },
   {
    "duration": 9,
    "start_time": "2023-02-28T10:17:26.252Z"
   },
   {
    "duration": 9,
    "start_time": "2023-02-28T10:18:02.388Z"
   },
   {
    "duration": 4492,
    "start_time": "2023-02-28T10:18:41.996Z"
   },
   {
    "duration": 4561,
    "start_time": "2023-02-28T10:18:50.846Z"
   },
   {
    "duration": 2449,
    "start_time": "2023-02-28T10:19:23.734Z"
   },
   {
    "duration": 4,
    "start_time": "2023-02-28T10:19:43.527Z"
   },
   {
    "duration": 605,
    "start_time": "2023-02-28T10:19:43.537Z"
   },
   {
    "duration": 12,
    "start_time": "2023-02-28T10:19:44.144Z"
   },
   {
    "duration": 30,
    "start_time": "2023-02-28T10:19:44.158Z"
   },
   {
    "duration": 16,
    "start_time": "2023-02-28T10:19:44.191Z"
   },
   {
    "duration": 29,
    "start_time": "2023-02-28T10:19:44.209Z"
   },
   {
    "duration": 37,
    "start_time": "2023-02-28T10:19:44.240Z"
   },
   {
    "duration": 15,
    "start_time": "2023-02-28T10:19:44.280Z"
   },
   {
    "duration": 48,
    "start_time": "2023-02-28T10:19:44.297Z"
   },
   {
    "duration": 45,
    "start_time": "2023-02-28T10:19:44.347Z"
   },
   {
    "duration": 61,
    "start_time": "2023-02-28T10:19:44.396Z"
   },
   {
    "duration": 38,
    "start_time": "2023-02-28T10:19:44.459Z"
   },
   {
    "duration": 50,
    "start_time": "2023-02-28T10:19:44.499Z"
   },
   {
    "duration": 44,
    "start_time": "2023-02-28T10:19:44.551Z"
   },
   {
    "duration": 4,
    "start_time": "2023-02-28T10:19:44.597Z"
   },
   {
    "duration": 1209,
    "start_time": "2023-02-28T10:19:44.622Z"
   },
   {
    "duration": 8,
    "start_time": "2023-02-28T10:19:45.835Z"
   },
   {
    "duration": 155,
    "start_time": "2023-02-28T10:19:45.845Z"
   },
   {
    "duration": 151,
    "start_time": "2023-02-28T10:19:46.003Z"
   },
   {
    "duration": 109,
    "start_time": "2023-02-28T10:19:46.157Z"
   },
   {
    "duration": 11,
    "start_time": "2023-02-28T10:19:46.268Z"
   },
   {
    "duration": 4632,
    "start_time": "2023-02-28T10:19:46.281Z"
   },
   {
    "duration": 4506,
    "start_time": "2023-02-28T10:20:04.168Z"
   },
   {
    "duration": 4439,
    "start_time": "2023-02-28T10:20:50.656Z"
   },
   {
    "duration": 4560,
    "start_time": "2023-02-28T10:21:14.019Z"
   },
   {
    "duration": 4,
    "start_time": "2023-02-28T10:37:05.898Z"
   },
   {
    "duration": 17,
    "start_time": "2023-02-28T10:38:41.906Z"
   },
   {
    "duration": 4,
    "start_time": "2023-02-28T10:38:52.767Z"
   },
   {
    "duration": 155,
    "start_time": "2023-02-28T10:38:59.075Z"
   },
   {
    "duration": 4,
    "start_time": "2023-02-28T10:40:20.850Z"
   },
   {
    "duration": 4,
    "start_time": "2023-02-28T11:01:45.024Z"
   },
   {
    "duration": 3,
    "start_time": "2023-02-28T11:02:04.753Z"
   },
   {
    "duration": 4,
    "start_time": "2023-02-28T11:03:40.109Z"
   },
   {
    "duration": 89,
    "start_time": "2023-02-28T11:04:22.449Z"
   },
   {
    "duration": 3,
    "start_time": "2023-02-28T11:04:33.949Z"
   },
   {
    "duration": 73,
    "start_time": "2023-02-28T11:04:56.200Z"
   },
   {
    "duration": 3,
    "start_time": "2023-02-28T11:05:03.632Z"
   },
   {
    "duration": 4,
    "start_time": "2023-02-28T11:05:15.597Z"
   },
   {
    "duration": 4,
    "start_time": "2023-02-28T11:10:00.132Z"
   },
   {
    "duration": 3,
    "start_time": "2023-02-28T11:16:38.734Z"
   },
   {
    "duration": 9,
    "start_time": "2023-02-28T11:25:11.994Z"
   },
   {
    "duration": 72,
    "start_time": "2023-02-28T11:25:54.003Z"
   },
   {
    "duration": 5,
    "start_time": "2023-02-28T11:26:06.790Z"
   },
   {
    "duration": 4,
    "start_time": "2023-02-28T11:26:15.222Z"
   },
   {
    "duration": 606,
    "start_time": "2023-02-28T11:26:27.132Z"
   },
   {
    "duration": 74,
    "start_time": "2023-02-28T11:26:53.875Z"
   },
   {
    "duration": 594,
    "start_time": "2023-02-28T11:26:58.030Z"
   },
   {
    "duration": 10,
    "start_time": "2023-02-28T11:27:06.279Z"
   },
   {
    "duration": 575,
    "start_time": "2023-02-28T11:27:14.591Z"
   },
   {
    "duration": 6,
    "start_time": "2023-02-28T11:27:28.900Z"
   },
   {
    "duration": 6,
    "start_time": "2023-02-28T11:27:57.885Z"
   },
   {
    "duration": 26,
    "start_time": "2023-02-28T11:28:18.968Z"
   },
   {
    "duration": 6,
    "start_time": "2023-02-28T11:28:24.823Z"
   },
   {
    "duration": 5,
    "start_time": "2023-02-28T11:29:12.357Z"
   },
   {
    "duration": 4,
    "start_time": "2023-02-28T11:31:02.810Z"
   },
   {
    "duration": 4,
    "start_time": "2023-02-28T11:31:03.417Z"
   },
   {
    "duration": 2,
    "start_time": "2023-02-28T11:32:18.829Z"
   },
   {
    "duration": 4,
    "start_time": "2023-02-28T11:32:28.502Z"
   },
   {
    "duration": 6,
    "start_time": "2023-02-28T11:32:46.017Z"
   },
   {
    "duration": 6,
    "start_time": "2023-02-28T11:32:46.477Z"
   },
   {
    "duration": 6,
    "start_time": "2023-02-28T11:32:46.915Z"
   },
   {
    "duration": 72,
    "start_time": "2023-02-28T11:36:14.687Z"
   },
   {
    "duration": 4,
    "start_time": "2023-02-28T11:36:35.476Z"
   },
   {
    "duration": 5,
    "start_time": "2023-02-28T11:36:42.176Z"
   },
   {
    "duration": 4,
    "start_time": "2023-02-28T11:36:48.555Z"
   },
   {
    "duration": 1656,
    "start_time": "2023-03-01T03:28:26.799Z"
   },
   {
    "duration": 0,
    "start_time": "2023-03-01T03:28:28.458Z"
   },
   {
    "duration": 0,
    "start_time": "2023-03-01T03:28:28.460Z"
   },
   {
    "duration": 0,
    "start_time": "2023-03-01T03:28:28.460Z"
   },
   {
    "duration": 0,
    "start_time": "2023-03-01T03:28:28.462Z"
   },
   {
    "duration": 0,
    "start_time": "2023-03-01T03:28:28.463Z"
   },
   {
    "duration": 0,
    "start_time": "2023-03-01T03:28:28.464Z"
   },
   {
    "duration": 0,
    "start_time": "2023-03-01T03:28:28.465Z"
   },
   {
    "duration": 0,
    "start_time": "2023-03-01T03:28:28.466Z"
   },
   {
    "duration": 0,
    "start_time": "2023-03-01T03:28:28.467Z"
   },
   {
    "duration": 0,
    "start_time": "2023-03-01T03:28:28.468Z"
   },
   {
    "duration": 0,
    "start_time": "2023-03-01T03:28:28.469Z"
   },
   {
    "duration": 0,
    "start_time": "2023-03-01T03:28:28.470Z"
   },
   {
    "duration": 0,
    "start_time": "2023-03-01T03:28:28.472Z"
   },
   {
    "duration": 0,
    "start_time": "2023-03-01T03:28:28.473Z"
   },
   {
    "duration": 0,
    "start_time": "2023-03-01T03:28:28.474Z"
   },
   {
    "duration": 0,
    "start_time": "2023-03-01T03:28:28.504Z"
   },
   {
    "duration": 0,
    "start_time": "2023-03-01T03:28:28.506Z"
   },
   {
    "duration": 1,
    "start_time": "2023-03-01T03:28:28.506Z"
   },
   {
    "duration": 0,
    "start_time": "2023-03-01T03:28:28.508Z"
   },
   {
    "duration": 0,
    "start_time": "2023-03-01T03:28:28.509Z"
   },
   {
    "duration": 0,
    "start_time": "2023-03-01T03:28:28.510Z"
   },
   {
    "duration": 0,
    "start_time": "2023-03-01T03:28:28.511Z"
   },
   {
    "duration": 0,
    "start_time": "2023-03-01T03:28:28.512Z"
   },
   {
    "duration": 0,
    "start_time": "2023-03-01T03:28:28.513Z"
   },
   {
    "duration": 0,
    "start_time": "2023-03-01T03:28:28.514Z"
   },
   {
    "duration": 0,
    "start_time": "2023-03-01T03:28:28.516Z"
   },
   {
    "duration": 0,
    "start_time": "2023-03-01T03:28:28.517Z"
   },
   {
    "duration": 0,
    "start_time": "2023-03-01T03:28:28.518Z"
   },
   {
    "duration": 0,
    "start_time": "2023-03-01T03:28:28.519Z"
   },
   {
    "duration": 0,
    "start_time": "2023-03-01T03:28:28.520Z"
   },
   {
    "duration": 0,
    "start_time": "2023-03-01T03:28:28.521Z"
   },
   {
    "duration": 0,
    "start_time": "2023-03-01T03:28:28.522Z"
   },
   {
    "duration": 0,
    "start_time": "2023-03-01T03:28:28.523Z"
   },
   {
    "duration": 0,
    "start_time": "2023-03-01T03:28:28.524Z"
   },
   {
    "duration": 0,
    "start_time": "2023-03-01T03:28:28.525Z"
   },
   {
    "duration": 0,
    "start_time": "2023-03-01T03:28:28.526Z"
   },
   {
    "duration": 0,
    "start_time": "2023-03-01T03:28:28.527Z"
   },
   {
    "duration": 0,
    "start_time": "2023-03-01T03:28:28.528Z"
   },
   {
    "duration": 0,
    "start_time": "2023-03-01T03:28:28.529Z"
   },
   {
    "duration": 0,
    "start_time": "2023-03-01T03:28:28.530Z"
   },
   {
    "duration": 0,
    "start_time": "2023-03-01T03:28:28.531Z"
   },
   {
    "duration": 1354,
    "start_time": "2023-03-01T03:29:21.336Z"
   },
   {
    "duration": 941,
    "start_time": "2023-03-01T03:29:22.692Z"
   },
   {
    "duration": 15,
    "start_time": "2023-03-01T03:29:23.635Z"
   },
   {
    "duration": 11,
    "start_time": "2023-03-01T03:29:23.652Z"
   },
   {
    "duration": 22,
    "start_time": "2023-03-01T03:29:23.665Z"
   },
   {
    "duration": 18,
    "start_time": "2023-03-01T03:29:23.688Z"
   },
   {
    "duration": 12,
    "start_time": "2023-03-01T03:29:23.708Z"
   },
   {
    "duration": 12,
    "start_time": "2023-03-01T03:29:23.722Z"
   },
   {
    "duration": 55,
    "start_time": "2023-03-01T03:29:23.736Z"
   },
   {
    "duration": 45,
    "start_time": "2023-03-01T03:29:23.806Z"
   },
   {
    "duration": 72,
    "start_time": "2023-03-01T03:29:23.852Z"
   },
   {
    "duration": 44,
    "start_time": "2023-03-01T03:29:23.926Z"
   },
   {
    "duration": 55,
    "start_time": "2023-03-01T03:29:23.972Z"
   },
   {
    "duration": 42,
    "start_time": "2023-03-01T03:29:24.029Z"
   },
   {
    "duration": 6,
    "start_time": "2023-03-01T03:29:24.073Z"
   },
   {
    "duration": 1091,
    "start_time": "2023-03-01T03:29:24.080Z"
   },
   {
    "duration": 4,
    "start_time": "2023-03-01T03:29:25.173Z"
   },
   {
    "duration": 115,
    "start_time": "2023-03-01T03:29:25.178Z"
   },
   {
    "duration": 99,
    "start_time": "2023-03-01T03:29:25.294Z"
   },
   {
    "duration": 91,
    "start_time": "2023-03-01T03:29:25.395Z"
   },
   {
    "duration": 19,
    "start_time": "2023-03-01T03:29:25.488Z"
   },
   {
    "duration": 4230,
    "start_time": "2023-03-01T03:29:25.508Z"
   },
   {
    "duration": 18,
    "start_time": "2023-03-01T03:29:29.740Z"
   },
   {
    "duration": 4708,
    "start_time": "2023-03-01T03:29:29.759Z"
   },
   {
    "duration": 15,
    "start_time": "2023-03-01T03:29:34.469Z"
   },
   {
    "duration": 4093,
    "start_time": "2023-03-01T03:29:34.486Z"
   },
   {
    "duration": 15,
    "start_time": "2023-03-01T03:29:38.581Z"
   },
   {
    "duration": 4,
    "start_time": "2023-03-01T03:29:38.607Z"
   },
   {
    "duration": 12,
    "start_time": "2023-03-01T03:29:38.613Z"
   },
   {
    "duration": 279,
    "start_time": "2023-03-01T03:29:38.627Z"
   },
   {
    "duration": 4,
    "start_time": "2023-03-01T03:29:38.908Z"
   },
   {
    "duration": 101,
    "start_time": "2023-03-01T03:29:38.914Z"
   },
   {
    "duration": 175,
    "start_time": "2023-03-01T03:29:39.017Z"
   },
   {
    "duration": 0,
    "start_time": "2023-03-01T03:29:39.193Z"
   },
   {
    "duration": 0,
    "start_time": "2023-03-01T03:29:39.194Z"
   },
   {
    "duration": 0,
    "start_time": "2023-03-01T03:29:39.195Z"
   },
   {
    "duration": 0,
    "start_time": "2023-03-01T03:29:39.204Z"
   },
   {
    "duration": 0,
    "start_time": "2023-03-01T03:29:39.205Z"
   },
   {
    "duration": 0,
    "start_time": "2023-03-01T03:29:39.206Z"
   },
   {
    "duration": 0,
    "start_time": "2023-03-01T03:29:39.207Z"
   },
   {
    "duration": 0,
    "start_time": "2023-03-01T03:29:39.208Z"
   },
   {
    "duration": 0,
    "start_time": "2023-03-01T03:29:39.209Z"
   },
   {
    "duration": 3,
    "start_time": "2023-03-01T03:46:52.673Z"
   },
   {
    "duration": 3,
    "start_time": "2023-03-01T03:46:55.444Z"
   },
   {
    "duration": 4,
    "start_time": "2023-03-01T03:46:56.079Z"
   },
   {
    "duration": 4,
    "start_time": "2023-03-01T03:46:59.908Z"
   },
   {
    "duration": 4,
    "start_time": "2023-03-01T03:47:00.309Z"
   },
   {
    "duration": 4,
    "start_time": "2023-03-01T03:47:03.760Z"
   },
   {
    "duration": 6,
    "start_time": "2023-03-01T03:47:10.031Z"
   },
   {
    "duration": 6,
    "start_time": "2023-03-01T03:47:10.943Z"
   },
   {
    "duration": 6,
    "start_time": "2023-03-01T03:47:11.623Z"
   },
   {
    "duration": 6,
    "start_time": "2023-03-01T04:06:53.551Z"
   },
   {
    "duration": 3,
    "start_time": "2023-03-01T04:07:19.032Z"
   },
   {
    "duration": 9,
    "start_time": "2023-03-01T04:08:22.644Z"
   },
   {
    "duration": 4,
    "start_time": "2023-03-01T04:08:55.947Z"
   },
   {
    "duration": 6,
    "start_time": "2023-03-01T04:09:08.122Z"
   },
   {
    "duration": 5,
    "start_time": "2023-03-01T04:09:23.217Z"
   },
   {
    "duration": 9,
    "start_time": "2023-03-01T04:09:55.451Z"
   },
   {
    "duration": 5,
    "start_time": "2023-03-01T04:10:02.569Z"
   },
   {
    "duration": 4,
    "start_time": "2023-03-01T04:10:13.731Z"
   },
   {
    "duration": 140,
    "start_time": "2023-03-01T04:23:18.193Z"
   },
   {
    "duration": 21,
    "start_time": "2023-03-01T04:23:42.803Z"
   },
   {
    "duration": 16,
    "start_time": "2023-03-01T04:23:46.657Z"
   },
   {
    "duration": 15,
    "start_time": "2023-03-01T04:23:52.074Z"
   },
   {
    "duration": 5,
    "start_time": "2023-03-01T04:24:06.758Z"
   },
   {
    "duration": 575,
    "start_time": "2023-03-01T04:24:06.766Z"
   },
   {
    "duration": 16,
    "start_time": "2023-03-01T04:24:07.343Z"
   },
   {
    "duration": 20,
    "start_time": "2023-03-01T04:24:07.361Z"
   },
   {
    "duration": 31,
    "start_time": "2023-03-01T04:24:07.384Z"
   },
   {
    "duration": 80,
    "start_time": "2023-03-01T04:24:07.417Z"
   },
   {
    "duration": 63,
    "start_time": "2023-03-01T04:24:07.499Z"
   },
   {
    "duration": 17,
    "start_time": "2023-03-01T04:24:07.564Z"
   },
   {
    "duration": 68,
    "start_time": "2023-03-01T04:24:07.583Z"
   },
   {
    "duration": 66,
    "start_time": "2023-03-01T04:24:07.653Z"
   },
   {
    "duration": 62,
    "start_time": "2023-03-01T04:24:07.725Z"
   },
   {
    "duration": 59,
    "start_time": "2023-03-01T04:24:07.789Z"
   },
   {
    "duration": 59,
    "start_time": "2023-03-01T04:24:07.851Z"
   },
   {
    "duration": 72,
    "start_time": "2023-03-01T04:24:07.918Z"
   },
   {
    "duration": 7,
    "start_time": "2023-03-01T04:24:07.992Z"
   },
   {
    "duration": 1790,
    "start_time": "2023-03-01T04:24:08.001Z"
   },
   {
    "duration": 11,
    "start_time": "2023-03-01T04:24:09.794Z"
   },
   {
    "duration": 167,
    "start_time": "2023-03-01T04:24:09.807Z"
   },
   {
    "duration": 138,
    "start_time": "2023-03-01T04:24:09.977Z"
   },
   {
    "duration": 117,
    "start_time": "2023-03-01T04:24:10.117Z"
   },
   {
    "duration": 16,
    "start_time": "2023-03-01T04:24:10.236Z"
   },
   {
    "duration": 7117,
    "start_time": "2023-03-01T04:24:10.254Z"
   },
   {
    "duration": 50,
    "start_time": "2023-03-01T04:24:17.374Z"
   },
   {
    "duration": 6219,
    "start_time": "2023-03-01T04:24:17.429Z"
   },
   {
    "duration": 28,
    "start_time": "2023-03-01T04:24:23.654Z"
   },
   {
    "duration": 6237,
    "start_time": "2023-03-01T04:24:23.684Z"
   },
   {
    "duration": 24,
    "start_time": "2023-03-01T04:24:29.924Z"
   },
   {
    "duration": 30,
    "start_time": "2023-03-01T04:24:29.953Z"
   },
   {
    "duration": 36,
    "start_time": "2023-03-01T04:24:29.989Z"
   },
   {
    "duration": 485,
    "start_time": "2023-03-01T04:24:30.038Z"
   },
   {
    "duration": 12,
    "start_time": "2023-03-01T04:24:30.530Z"
   },
   {
    "duration": 127,
    "start_time": "2023-03-01T04:24:30.545Z"
   },
   {
    "duration": 32,
    "start_time": "2023-03-01T04:24:30.676Z"
   },
   {
    "duration": 61,
    "start_time": "2023-03-01T04:24:30.717Z"
   },
   {
    "duration": 87,
    "start_time": "2023-03-01T04:24:30.781Z"
   },
   {
    "duration": 31,
    "start_time": "2023-03-01T04:24:30.870Z"
   },
   {
    "duration": 57,
    "start_time": "2023-03-01T04:24:30.903Z"
   },
   {
    "duration": 68,
    "start_time": "2023-03-01T04:24:30.963Z"
   },
   {
    "duration": 83,
    "start_time": "2023-03-01T04:24:31.032Z"
   },
   {
    "duration": 83,
    "start_time": "2023-03-01T04:24:31.127Z"
   },
   {
    "duration": 305,
    "start_time": "2023-03-01T04:24:31.212Z"
   },
   {
    "duration": 16,
    "start_time": "2023-03-01T04:24:45.488Z"
   },
   {
    "duration": 16,
    "start_time": "2023-03-01T04:24:52.085Z"
   },
   {
    "duration": 14,
    "start_time": "2023-03-01T04:24:58.594Z"
   },
   {
    "duration": 11,
    "start_time": "2023-03-01T04:25:04.150Z"
   },
   {
    "duration": 14,
    "start_time": "2023-03-01T04:25:10.750Z"
   },
   {
    "duration": 6,
    "start_time": "2023-03-01T04:25:14.196Z"
   },
   {
    "duration": 23,
    "start_time": "2023-03-01T04:26:10.196Z"
   },
   {
    "duration": 14,
    "start_time": "2023-03-01T04:27:05.871Z"
   },
   {
    "duration": 14,
    "start_time": "2023-03-01T04:27:08.497Z"
   },
   {
    "duration": 23,
    "start_time": "2023-03-01T04:27:13.835Z"
   },
   {
    "duration": 8,
    "start_time": "2023-03-01T04:27:19.632Z"
   },
   {
    "duration": 5,
    "start_time": "2023-03-01T04:28:15.738Z"
   },
   {
    "duration": 8,
    "start_time": "2023-03-01T04:28:29.140Z"
   },
   {
    "duration": 1658,
    "start_time": "2023-03-01T04:30:55.078Z"
   },
   {
    "duration": 422,
    "start_time": "2023-03-01T04:30:56.739Z"
   },
   {
    "duration": 14,
    "start_time": "2023-03-01T04:30:57.163Z"
   },
   {
    "duration": 10,
    "start_time": "2023-03-01T04:30:57.179Z"
   },
   {
    "duration": 29,
    "start_time": "2023-03-01T04:30:57.190Z"
   },
   {
    "duration": 42,
    "start_time": "2023-03-01T04:30:57.221Z"
   },
   {
    "duration": 22,
    "start_time": "2023-03-01T04:30:57.265Z"
   },
   {
    "duration": 24,
    "start_time": "2023-03-01T04:30:57.290Z"
   },
   {
    "duration": 110,
    "start_time": "2023-03-01T04:30:57.326Z"
   },
   {
    "duration": 85,
    "start_time": "2023-03-01T04:30:57.439Z"
   },
   {
    "duration": 54,
    "start_time": "2023-03-01T04:30:57.527Z"
   },
   {
    "duration": 59,
    "start_time": "2023-03-01T04:30:57.583Z"
   },
   {
    "duration": 47,
    "start_time": "2023-03-01T04:30:57.644Z"
   },
   {
    "duration": 48,
    "start_time": "2023-03-01T04:30:57.693Z"
   },
   {
    "duration": 7,
    "start_time": "2023-03-01T04:30:57.743Z"
   },
   {
    "duration": 1411,
    "start_time": "2023-03-01T04:30:57.752Z"
   },
   {
    "duration": 5,
    "start_time": "2023-03-01T04:30:59.165Z"
   },
   {
    "duration": 152,
    "start_time": "2023-03-01T04:30:59.171Z"
   },
   {
    "duration": 115,
    "start_time": "2023-03-01T04:30:59.334Z"
   },
   {
    "duration": 100,
    "start_time": "2023-03-01T04:30:59.451Z"
   },
   {
    "duration": 10,
    "start_time": "2023-03-01T04:30:59.553Z"
   },
   {
    "duration": 5707,
    "start_time": "2023-03-01T04:30:59.565Z"
   },
   {
    "duration": 40,
    "start_time": "2023-03-01T04:31:05.274Z"
   },
   {
    "duration": 6220,
    "start_time": "2023-03-01T04:31:05.317Z"
   },
   {
    "duration": 19,
    "start_time": "2023-03-01T04:31:11.539Z"
   },
   {
    "duration": 5651,
    "start_time": "2023-03-01T04:31:11.560Z"
   },
   {
    "duration": 23,
    "start_time": "2023-03-01T04:31:17.216Z"
   },
   {
    "duration": 22,
    "start_time": "2023-03-01T04:31:17.247Z"
   },
   {
    "duration": 10,
    "start_time": "2023-03-01T04:31:17.271Z"
   },
   {
    "duration": 341,
    "start_time": "2023-03-01T04:31:17.284Z"
   },
   {
    "duration": 22,
    "start_time": "2023-03-01T04:31:17.627Z"
   },
   {
    "duration": 41,
    "start_time": "2023-03-01T04:31:17.710Z"
   },
   {
    "duration": 9,
    "start_time": "2023-03-01T04:31:17.753Z"
   },
   {
    "duration": 4,
    "start_time": "2023-03-01T04:31:17.765Z"
   },
   {
    "duration": 37,
    "start_time": "2023-03-01T04:31:17.771Z"
   },
   {
    "duration": 39,
    "start_time": "2023-03-01T04:31:17.810Z"
   },
   {
    "duration": 9,
    "start_time": "2023-03-01T04:31:17.851Z"
   },
   {
    "duration": 7,
    "start_time": "2023-03-01T04:31:17.862Z"
   },
   {
    "duration": 8,
    "start_time": "2023-03-01T04:31:17.870Z"
   },
   {
    "duration": 8,
    "start_time": "2023-03-01T04:31:17.881Z"
   },
   {
    "duration": 7,
    "start_time": "2023-03-01T04:31:17.891Z"
   },
   {
    "duration": 20,
    "start_time": "2023-03-01T04:31:17.900Z"
   },
   {
    "duration": 28,
    "start_time": "2023-03-01T04:31:17.924Z"
   },
   {
    "duration": 11,
    "start_time": "2023-03-01T04:31:17.954Z"
   },
   {
    "duration": 6,
    "start_time": "2023-03-01T04:31:17.967Z"
   },
   {
    "duration": 16,
    "start_time": "2023-03-01T04:31:17.976Z"
   },
   {
    "duration": 8,
    "start_time": "2023-03-01T04:31:17.994Z"
   },
   {
    "duration": 51,
    "start_time": "2023-03-01T04:31:18.004Z"
   },
   {
    "duration": 6,
    "start_time": "2023-03-01T04:31:18.057Z"
   },
   {
    "duration": 16,
    "start_time": "2023-03-01T04:31:18.065Z"
   },
   {
    "duration": 8,
    "start_time": "2023-03-01T04:41:02.522Z"
   },
   {
    "duration": 91,
    "start_time": "2023-03-01T04:46:28.135Z"
   },
   {
    "duration": 4,
    "start_time": "2023-03-01T04:47:19.831Z"
   },
   {
    "duration": 8,
    "start_time": "2023-03-01T04:48:54.803Z"
   },
   {
    "duration": 75,
    "start_time": "2023-03-01T04:49:35.327Z"
   },
   {
    "duration": 122,
    "start_time": "2023-03-01T04:50:49.760Z"
   },
   {
    "duration": 5,
    "start_time": "2023-03-01T04:51:38.189Z"
   },
   {
    "duration": 14,
    "start_time": "2023-03-01T04:51:40.452Z"
   },
   {
    "duration": 13,
    "start_time": "2023-03-01T04:53:10.088Z"
   },
   {
    "duration": 19,
    "start_time": "2023-03-01T04:53:21.273Z"
   },
   {
    "duration": 4,
    "start_time": "2023-03-01T04:53:54.434Z"
   },
   {
    "duration": 138,
    "start_time": "2023-03-01T04:53:55.306Z"
   },
   {
    "duration": 4,
    "start_time": "2023-03-01T04:54:01.835Z"
   },
   {
    "duration": 22,
    "start_time": "2023-03-01T04:54:05.453Z"
   },
   {
    "duration": 3,
    "start_time": "2023-03-01T04:54:22.861Z"
   },
   {
    "duration": 5,
    "start_time": "2023-03-01T04:54:24.042Z"
   },
   {
    "duration": 1606,
    "start_time": "2023-03-01T04:54:29.382Z"
   },
   {
    "duration": 86,
    "start_time": "2023-03-01T04:54:57.236Z"
   },
   {
    "duration": 3266,
    "start_time": "2023-03-01T04:55:01.644Z"
   },
   {
    "duration": 4682,
    "start_time": "2023-03-01T04:55:14.584Z"
   },
   {
    "duration": 6,
    "start_time": "2023-03-01T04:55:43.537Z"
   },
   {
    "duration": 4,
    "start_time": "2023-03-01T04:56:18.847Z"
   },
   {
    "duration": 5,
    "start_time": "2023-03-01T04:56:47.649Z"
   },
   {
    "duration": 8,
    "start_time": "2023-03-01T04:58:05.540Z"
   },
   {
    "duration": 4723,
    "start_time": "2023-03-01T04:58:08.433Z"
   },
   {
    "duration": 5,
    "start_time": "2023-03-01T04:58:16.023Z"
   },
   {
    "duration": 5,
    "start_time": "2023-03-01T04:58:17.547Z"
   },
   {
    "duration": 5,
    "start_time": "2023-03-01T04:58:21.026Z"
   },
   {
    "duration": 6,
    "start_time": "2023-03-01T05:02:21.670Z"
   },
   {
    "duration": 5,
    "start_time": "2023-03-01T05:02:22.754Z"
   },
   {
    "duration": 5,
    "start_time": "2023-03-01T05:02:23.478Z"
   },
   {
    "duration": 5,
    "start_time": "2023-03-01T05:02:54.878Z"
   },
   {
    "duration": 1369,
    "start_time": "2023-03-01T05:08:36.923Z"
   },
   {
    "duration": 3,
    "start_time": "2023-03-01T05:09:21.789Z"
   },
   {
    "duration": 3,
    "start_time": "2023-03-01T05:09:46.981Z"
   },
   {
    "duration": 5,
    "start_time": "2023-03-01T05:09:53.907Z"
   },
   {
    "duration": 10,
    "start_time": "2023-03-01T05:09:59.854Z"
   },
   {
    "duration": 11,
    "start_time": "2023-03-01T05:10:04.689Z"
   },
   {
    "duration": 3,
    "start_time": "2023-03-01T05:11:01.547Z"
   },
   {
    "duration": 6,
    "start_time": "2023-03-01T05:11:02.848Z"
   },
   {
    "duration": 4,
    "start_time": "2023-03-01T05:11:15.936Z"
   },
   {
    "duration": 6,
    "start_time": "2023-03-01T05:11:16.502Z"
   },
   {
    "duration": 84,
    "start_time": "2023-03-01T05:11:39.608Z"
   },
   {
    "duration": 4,
    "start_time": "2023-03-01T05:12:16.759Z"
   },
   {
    "duration": 5,
    "start_time": "2023-03-01T05:12:19.248Z"
   },
   {
    "duration": 73,
    "start_time": "2023-03-01T05:12:28.494Z"
   },
   {
    "duration": 1468,
    "start_time": "2023-03-01T05:12:36.568Z"
   },
   {
    "duration": 1461,
    "start_time": "2023-03-01T05:13:19.308Z"
   },
   {
    "duration": 4,
    "start_time": "2023-03-01T05:13:25.195Z"
   },
   {
    "duration": 4480,
    "start_time": "2023-03-01T05:14:13.984Z"
   },
   {
    "duration": 5,
    "start_time": "2023-03-01T05:14:19.586Z"
   },
   {
    "duration": 7,
    "start_time": "2023-03-01T05:19:59.702Z"
   },
   {
    "duration": 11,
    "start_time": "2023-03-01T05:20:48.450Z"
   },
   {
    "duration": 78,
    "start_time": "2023-03-01T05:22:08.501Z"
   },
   {
    "duration": 72,
    "start_time": "2023-03-01T05:22:17.172Z"
   },
   {
    "duration": 6,
    "start_time": "2023-03-01T05:22:22.718Z"
   },
   {
    "duration": 6,
    "start_time": "2023-03-01T05:23:59.360Z"
   },
   {
    "duration": 5,
    "start_time": "2023-03-01T05:24:07.220Z"
   },
   {
    "duration": 438,
    "start_time": "2023-03-01T05:24:07.232Z"
   },
   {
    "duration": 41,
    "start_time": "2023-03-01T05:24:07.673Z"
   },
   {
    "duration": 27,
    "start_time": "2023-03-01T05:24:07.719Z"
   },
   {
    "duration": 15,
    "start_time": "2023-03-01T05:24:07.750Z"
   },
   {
    "duration": 24,
    "start_time": "2023-03-01T05:24:07.767Z"
   },
   {
    "duration": 26,
    "start_time": "2023-03-01T05:24:07.794Z"
   },
   {
    "duration": 21,
    "start_time": "2023-03-01T05:24:07.823Z"
   },
   {
    "duration": 86,
    "start_time": "2023-03-01T05:24:07.846Z"
   },
   {
    "duration": 53,
    "start_time": "2023-03-01T05:24:07.935Z"
   },
   {
    "duration": 57,
    "start_time": "2023-03-01T05:24:08.012Z"
   },
   {
    "duration": 60,
    "start_time": "2023-03-01T05:24:08.071Z"
   },
   {
    "duration": 43,
    "start_time": "2023-03-01T05:24:08.133Z"
   },
   {
    "duration": 64,
    "start_time": "2023-03-01T05:24:08.178Z"
   },
   {
    "duration": 5,
    "start_time": "2023-03-01T05:24:08.244Z"
   },
   {
    "duration": 1397,
    "start_time": "2023-03-01T05:24:08.252Z"
   },
   {
    "duration": 6,
    "start_time": "2023-03-01T05:24:09.651Z"
   },
   {
    "duration": 119,
    "start_time": "2023-03-01T05:24:09.659Z"
   },
   {
    "duration": 112,
    "start_time": "2023-03-01T05:24:09.780Z"
   },
   {
    "duration": 118,
    "start_time": "2023-03-01T05:24:09.894Z"
   },
   {
    "duration": 16,
    "start_time": "2023-03-01T05:24:10.014Z"
   },
   {
    "duration": 5074,
    "start_time": "2023-03-01T05:24:10.032Z"
   },
   {
    "duration": 20,
    "start_time": "2023-03-01T05:24:15.107Z"
   },
   {
    "duration": 5094,
    "start_time": "2023-03-01T05:24:15.129Z"
   },
   {
    "duration": 15,
    "start_time": "2023-03-01T05:24:20.225Z"
   },
   {
    "duration": 4851,
    "start_time": "2023-03-01T05:24:20.242Z"
   },
   {
    "duration": 32,
    "start_time": "2023-03-01T05:24:25.095Z"
   },
   {
    "duration": 5,
    "start_time": "2023-03-01T05:24:25.128Z"
   },
   {
    "duration": 5,
    "start_time": "2023-03-01T05:24:25.137Z"
   },
   {
    "duration": 174,
    "start_time": "2023-03-01T05:24:25.144Z"
   },
   {
    "duration": 8,
    "start_time": "2023-03-01T05:24:25.320Z"
   },
   {
    "duration": 192,
    "start_time": "2023-03-01T05:24:25.329Z"
   },
   {
    "duration": 16,
    "start_time": "2023-03-01T05:24:25.523Z"
   },
   {
    "duration": 6,
    "start_time": "2023-03-01T05:24:25.540Z"
   },
   {
    "duration": 6,
    "start_time": "2023-03-01T05:24:25.548Z"
   },
   {
    "duration": 7,
    "start_time": "2023-03-01T05:24:25.556Z"
   },
   {
    "duration": 7,
    "start_time": "2023-03-01T05:24:25.565Z"
   },
   {
    "duration": 10,
    "start_time": "2023-03-01T05:24:25.573Z"
   },
   {
    "duration": 12,
    "start_time": "2023-03-01T05:24:25.585Z"
   },
   {
    "duration": 27,
    "start_time": "2023-03-01T05:24:25.599Z"
   },
   {
    "duration": 6,
    "start_time": "2023-03-01T05:24:25.628Z"
   },
   {
    "duration": 4,
    "start_time": "2023-03-01T05:24:25.636Z"
   },
   {
    "duration": 6,
    "start_time": "2023-03-01T05:24:25.642Z"
   },
   {
    "duration": 6,
    "start_time": "2023-03-01T05:24:25.650Z"
   },
   {
    "duration": 6,
    "start_time": "2023-03-01T05:24:25.657Z"
   },
   {
    "duration": 16,
    "start_time": "2023-03-01T05:24:25.664Z"
   },
   {
    "duration": 8,
    "start_time": "2023-03-01T05:24:25.682Z"
   },
   {
    "duration": 13,
    "start_time": "2023-03-01T05:24:25.692Z"
   },
   {
    "duration": 8,
    "start_time": "2023-03-01T05:24:25.716Z"
   },
   {
    "duration": 8,
    "start_time": "2023-03-01T05:24:25.725Z"
   },
   {
    "duration": 8,
    "start_time": "2023-03-01T05:24:25.734Z"
   },
   {
    "duration": 6,
    "start_time": "2023-03-01T05:24:25.744Z"
   },
   {
    "duration": 5,
    "start_time": "2023-03-01T05:24:25.752Z"
   },
   {
    "duration": 12,
    "start_time": "2023-03-01T05:24:25.759Z"
   },
   {
    "duration": 4394,
    "start_time": "2023-03-01T05:24:25.773Z"
   },
   {
    "duration": 4,
    "start_time": "2023-03-01T05:24:30.169Z"
   },
   {
    "duration": 45,
    "start_time": "2023-03-01T05:24:30.175Z"
   },
   {
    "duration": 6,
    "start_time": "2023-03-01T05:25:26.219Z"
   },
   {
    "duration": 394,
    "start_time": "2023-03-01T05:25:26.226Z"
   },
   {
    "duration": 10,
    "start_time": "2023-03-01T05:25:26.624Z"
   },
   {
    "duration": 12,
    "start_time": "2023-03-01T05:25:26.636Z"
   },
   {
    "duration": 13,
    "start_time": "2023-03-01T05:25:26.650Z"
   },
   {
    "duration": 47,
    "start_time": "2023-03-01T05:25:26.665Z"
   },
   {
    "duration": 19,
    "start_time": "2023-03-01T05:25:26.714Z"
   },
   {
    "duration": 15,
    "start_time": "2023-03-01T05:25:26.735Z"
   },
   {
    "duration": 71,
    "start_time": "2023-03-01T05:25:26.751Z"
   },
   {
    "duration": 45,
    "start_time": "2023-03-01T05:25:26.824Z"
   },
   {
    "duration": 71,
    "start_time": "2023-03-01T05:25:26.872Z"
   },
   {
    "duration": 68,
    "start_time": "2023-03-01T05:25:26.945Z"
   },
   {
    "duration": 35,
    "start_time": "2023-03-01T05:25:27.015Z"
   },
   {
    "duration": 34,
    "start_time": "2023-03-01T05:25:27.052Z"
   },
   {
    "duration": 17,
    "start_time": "2023-03-01T05:25:27.088Z"
   },
   {
    "duration": 1305,
    "start_time": "2023-03-01T05:25:27.115Z"
   },
   {
    "duration": 5,
    "start_time": "2023-03-01T05:25:28.422Z"
   },
   {
    "duration": 101,
    "start_time": "2023-03-01T05:25:28.429Z"
   },
   {
    "duration": 94,
    "start_time": "2023-03-01T05:25:28.532Z"
   },
   {
    "duration": 97,
    "start_time": "2023-03-01T05:25:28.628Z"
   },
   {
    "duration": 10,
    "start_time": "2023-03-01T05:25:28.727Z"
   },
   {
    "duration": 5281,
    "start_time": "2023-03-01T05:25:28.739Z"
   },
   {
    "duration": 29,
    "start_time": "2023-03-01T05:25:34.025Z"
   },
   {
    "duration": 4995,
    "start_time": "2023-03-01T05:25:34.056Z"
   },
   {
    "duration": 18,
    "start_time": "2023-03-01T05:25:39.053Z"
   },
   {
    "duration": 5100,
    "start_time": "2023-03-01T05:25:39.073Z"
   },
   {
    "duration": 31,
    "start_time": "2023-03-01T05:25:44.175Z"
   },
   {
    "duration": 23,
    "start_time": "2023-03-01T05:25:44.207Z"
   },
   {
    "duration": 15,
    "start_time": "2023-03-01T05:25:44.235Z"
   },
   {
    "duration": 353,
    "start_time": "2023-03-01T05:25:44.252Z"
   },
   {
    "duration": 5,
    "start_time": "2023-03-01T05:25:44.610Z"
   },
   {
    "duration": 108,
    "start_time": "2023-03-01T05:25:44.616Z"
   },
   {
    "duration": 7,
    "start_time": "2023-03-01T05:25:44.726Z"
   },
   {
    "duration": 8,
    "start_time": "2023-03-01T05:25:44.735Z"
   },
   {
    "duration": 21,
    "start_time": "2023-03-01T05:25:44.746Z"
   },
   {
    "duration": 6,
    "start_time": "2023-03-01T05:25:44.769Z"
   },
   {
    "duration": 6,
    "start_time": "2023-03-01T05:25:44.777Z"
   },
   {
    "duration": 6,
    "start_time": "2023-03-01T05:25:44.785Z"
   },
   {
    "duration": 8,
    "start_time": "2023-03-01T05:25:44.793Z"
   },
   {
    "duration": 24,
    "start_time": "2023-03-01T05:25:44.803Z"
   },
   {
    "duration": 7,
    "start_time": "2023-03-01T05:25:44.830Z"
   },
   {
    "duration": 4,
    "start_time": "2023-03-01T05:25:44.839Z"
   },
   {
    "duration": 5,
    "start_time": "2023-03-01T05:25:44.844Z"
   },
   {
    "duration": 4,
    "start_time": "2023-03-01T05:25:44.851Z"
   },
   {
    "duration": 7,
    "start_time": "2023-03-01T05:25:44.857Z"
   },
   {
    "duration": 9,
    "start_time": "2023-03-01T05:25:44.866Z"
   },
   {
    "duration": 10,
    "start_time": "2023-03-01T05:25:44.877Z"
   },
   {
    "duration": 20,
    "start_time": "2023-03-01T05:25:44.889Z"
   },
   {
    "duration": 15,
    "start_time": "2023-03-01T05:25:44.911Z"
   },
   {
    "duration": 9,
    "start_time": "2023-03-01T05:25:44.927Z"
   },
   {
    "duration": 8,
    "start_time": "2023-03-01T05:25:44.938Z"
   },
   {
    "duration": 5,
    "start_time": "2023-03-01T05:25:44.948Z"
   },
   {
    "duration": 6,
    "start_time": "2023-03-01T05:25:44.955Z"
   },
   {
    "duration": 8,
    "start_time": "2023-03-01T05:25:44.963Z"
   },
   {
    "duration": 13379,
    "start_time": "2023-03-01T05:25:44.972Z"
   },
   {
    "duration": 4,
    "start_time": "2023-03-01T05:25:58.353Z"
   },
   {
    "duration": 11,
    "start_time": "2023-03-01T05:25:58.359Z"
   },
   {
    "duration": 4,
    "start_time": "2023-03-01T05:28:07.290Z"
   },
   {
    "duration": 7,
    "start_time": "2023-03-01T05:28:08.086Z"
   },
   {
    "duration": 118,
    "start_time": "2023-03-01T05:29:28.180Z"
   },
   {
    "duration": 99,
    "start_time": "2023-03-01T05:30:32.384Z"
   },
   {
    "duration": 14007,
    "start_time": "2023-03-01T05:31:43.020Z"
   },
   {
    "duration": 1562,
    "start_time": "2023-03-01T05:33:22.803Z"
   },
   {
    "duration": 383,
    "start_time": "2023-03-01T05:33:24.367Z"
   },
   {
    "duration": 13,
    "start_time": "2023-03-01T05:33:24.752Z"
   },
   {
    "duration": 9,
    "start_time": "2023-03-01T05:33:24.767Z"
   },
   {
    "duration": 11,
    "start_time": "2023-03-01T05:33:24.778Z"
   },
   {
    "duration": 23,
    "start_time": "2023-03-01T05:33:24.807Z"
   },
   {
    "duration": 15,
    "start_time": "2023-03-01T05:33:24.833Z"
   },
   {
    "duration": 15,
    "start_time": "2023-03-01T05:33:24.850Z"
   },
   {
    "duration": 79,
    "start_time": "2023-03-01T05:33:24.867Z"
   },
   {
    "duration": 68,
    "start_time": "2023-03-01T05:33:24.949Z"
   },
   {
    "duration": 51,
    "start_time": "2023-03-01T05:33:25.019Z"
   },
   {
    "duration": 47,
    "start_time": "2023-03-01T05:33:25.072Z"
   },
   {
    "duration": 35,
    "start_time": "2023-03-01T05:33:25.121Z"
   },
   {
    "duration": 55,
    "start_time": "2023-03-01T05:33:25.158Z"
   },
   {
    "duration": 4,
    "start_time": "2023-03-01T05:33:25.215Z"
   },
   {
    "duration": 1132,
    "start_time": "2023-03-01T05:33:25.220Z"
   },
   {
    "duration": 5,
    "start_time": "2023-03-01T05:33:26.354Z"
   },
   {
    "duration": 120,
    "start_time": "2023-03-01T05:33:26.360Z"
   },
   {
    "duration": 108,
    "start_time": "2023-03-01T05:33:26.481Z"
   },
   {
    "duration": 100,
    "start_time": "2023-03-01T05:33:26.591Z"
   },
   {
    "duration": 23,
    "start_time": "2023-03-01T05:33:26.693Z"
   },
   {
    "duration": 4725,
    "start_time": "2023-03-01T05:33:26.718Z"
   },
   {
    "duration": 18,
    "start_time": "2023-03-01T05:33:31.445Z"
   },
   {
    "duration": 4933,
    "start_time": "2023-03-01T05:33:31.465Z"
   },
   {
    "duration": 20,
    "start_time": "2023-03-01T05:33:36.400Z"
   },
   {
    "duration": 4799,
    "start_time": "2023-03-01T05:33:36.421Z"
   },
   {
    "duration": 16,
    "start_time": "2023-03-01T05:33:41.222Z"
   },
   {
    "duration": 4,
    "start_time": "2023-03-01T05:33:41.242Z"
   },
   {
    "duration": 6,
    "start_time": "2023-03-01T05:33:41.248Z"
   },
   {
    "duration": 256,
    "start_time": "2023-03-01T05:33:41.256Z"
   },
   {
    "duration": 6,
    "start_time": "2023-03-01T05:33:41.514Z"
   },
   {
    "duration": 184,
    "start_time": "2023-03-01T05:33:41.525Z"
   },
   {
    "duration": 18,
    "start_time": "2023-03-01T05:33:41.711Z"
   },
   {
    "duration": 5,
    "start_time": "2023-03-01T05:33:41.731Z"
   },
   {
    "duration": 5,
    "start_time": "2023-03-01T05:33:41.737Z"
   },
   {
    "duration": 7,
    "start_time": "2023-03-01T05:33:41.743Z"
   },
   {
    "duration": 8,
    "start_time": "2023-03-01T05:33:41.752Z"
   },
   {
    "duration": 5,
    "start_time": "2023-03-01T05:33:41.761Z"
   },
   {
    "duration": 7,
    "start_time": "2023-03-01T05:33:41.768Z"
   },
   {
    "duration": 7,
    "start_time": "2023-03-01T05:33:41.777Z"
   },
   {
    "duration": 15,
    "start_time": "2023-03-01T05:33:41.804Z"
   },
   {
    "duration": 8,
    "start_time": "2023-03-01T05:33:41.822Z"
   },
   {
    "duration": 7,
    "start_time": "2023-03-01T05:33:41.832Z"
   },
   {
    "duration": 6,
    "start_time": "2023-03-01T05:33:41.840Z"
   },
   {
    "duration": 8,
    "start_time": "2023-03-01T05:33:41.847Z"
   },
   {
    "duration": 7,
    "start_time": "2023-03-01T05:33:41.857Z"
   },
   {
    "duration": 6,
    "start_time": "2023-03-01T05:33:41.865Z"
   },
   {
    "duration": 5,
    "start_time": "2023-03-01T05:33:41.873Z"
   },
   {
    "duration": 5,
    "start_time": "2023-03-01T05:33:41.880Z"
   },
   {
    "duration": 22,
    "start_time": "2023-03-01T05:33:41.888Z"
   },
   {
    "duration": 15,
    "start_time": "2023-03-01T05:33:41.912Z"
   },
   {
    "duration": 5,
    "start_time": "2023-03-01T05:33:41.929Z"
   },
   {
    "duration": 4326,
    "start_time": "2023-03-01T05:33:41.936Z"
   },
   {
    "duration": 5,
    "start_time": "2023-03-01T05:33:46.263Z"
   },
   {
    "duration": 6,
    "start_time": "2023-03-01T05:33:46.269Z"
   },
   {
    "duration": 8,
    "start_time": "2023-03-01T05:33:46.277Z"
   },
   {
    "duration": 41,
    "start_time": "2023-03-01T05:33:46.287Z"
   },
   {
    "duration": 1454,
    "start_time": "2023-03-01T05:38:51.738Z"
   },
   {
    "duration": 375,
    "start_time": "2023-03-01T05:38:53.195Z"
   },
   {
    "duration": 13,
    "start_time": "2023-03-01T05:38:53.572Z"
   },
   {
    "duration": 19,
    "start_time": "2023-03-01T05:38:53.587Z"
   },
   {
    "duration": 10,
    "start_time": "2023-03-01T05:38:53.607Z"
   },
   {
    "duration": 23,
    "start_time": "2023-03-01T05:38:53.619Z"
   },
   {
    "duration": 14,
    "start_time": "2023-03-01T05:38:53.644Z"
   },
   {
    "duration": 14,
    "start_time": "2023-03-01T05:38:53.660Z"
   },
   {
    "duration": 79,
    "start_time": "2023-03-01T05:38:53.676Z"
   },
   {
    "duration": 68,
    "start_time": "2023-03-01T05:38:53.758Z"
   },
   {
    "duration": 58,
    "start_time": "2023-03-01T05:38:53.828Z"
   },
   {
    "duration": 54,
    "start_time": "2023-03-01T05:38:53.888Z"
   },
   {
    "duration": 62,
    "start_time": "2023-03-01T05:38:53.944Z"
   },
   {
    "duration": 45,
    "start_time": "2023-03-01T05:38:54.008Z"
   },
   {
    "duration": 5,
    "start_time": "2023-03-01T05:38:54.056Z"
   },
   {
    "duration": 1283,
    "start_time": "2023-03-01T05:38:54.063Z"
   },
   {
    "duration": 4,
    "start_time": "2023-03-01T05:38:55.348Z"
   },
   {
    "duration": 9,
    "start_time": "2023-03-01T05:38:55.354Z"
   },
   {
    "duration": 6,
    "start_time": "2023-03-01T05:38:55.365Z"
   },
   {
    "duration": 6,
    "start_time": "2023-03-01T05:38:55.373Z"
   },
   {
    "duration": 28,
    "start_time": "2023-03-01T05:38:55.381Z"
   },
   {
    "duration": 4554,
    "start_time": "2023-03-01T05:38:55.411Z"
   },
   {
    "duration": 20,
    "start_time": "2023-03-01T05:38:59.967Z"
   },
   {
    "duration": 4789,
    "start_time": "2023-03-01T05:38:59.989Z"
   },
   {
    "duration": 18,
    "start_time": "2023-03-01T05:39:04.780Z"
   },
   {
    "duration": 4923,
    "start_time": "2023-03-01T05:39:04.804Z"
   },
   {
    "duration": 17,
    "start_time": "2023-03-01T05:39:09.729Z"
   },
   {
    "duration": 5,
    "start_time": "2023-03-01T05:39:09.750Z"
   },
   {
    "duration": 9,
    "start_time": "2023-03-01T05:39:09.757Z"
   },
   {
    "duration": 349,
    "start_time": "2023-03-01T05:39:09.769Z"
   },
   {
    "duration": 89,
    "start_time": "2023-03-01T05:39:10.120Z"
   },
   {
    "duration": 94,
    "start_time": "2023-03-01T05:39:10.212Z"
   },
   {
    "duration": 10,
    "start_time": "2023-03-01T05:39:10.308Z"
   },
   {
    "duration": 10,
    "start_time": "2023-03-01T05:39:10.320Z"
   },
   {
    "duration": 10,
    "start_time": "2023-03-01T05:39:10.333Z"
   },
   {
    "duration": 19,
    "start_time": "2023-03-01T05:39:10.346Z"
   },
   {
    "duration": 14,
    "start_time": "2023-03-01T05:39:10.367Z"
   },
   {
    "duration": 22,
    "start_time": "2023-03-01T05:39:10.384Z"
   },
   {
    "duration": 17,
    "start_time": "2023-03-01T05:39:10.408Z"
   },
   {
    "duration": 7,
    "start_time": "2023-03-01T05:39:10.427Z"
   },
   {
    "duration": 13,
    "start_time": "2023-03-01T05:39:10.436Z"
   },
   {
    "duration": 5,
    "start_time": "2023-03-01T05:39:10.451Z"
   },
   {
    "duration": 10,
    "start_time": "2023-03-01T05:39:10.459Z"
   },
   {
    "duration": 34,
    "start_time": "2023-03-01T05:39:10.471Z"
   },
   {
    "duration": 17,
    "start_time": "2023-03-01T05:39:10.506Z"
   },
   {
    "duration": 11,
    "start_time": "2023-03-01T05:39:10.525Z"
   },
   {
    "duration": 16,
    "start_time": "2023-03-01T05:39:10.539Z"
   },
   {
    "duration": 8,
    "start_time": "2023-03-01T05:39:10.557Z"
   },
   {
    "duration": 6,
    "start_time": "2023-03-01T05:39:10.567Z"
   },
   {
    "duration": 7,
    "start_time": "2023-03-01T05:39:10.575Z"
   },
   {
    "duration": 8,
    "start_time": "2023-03-01T05:39:10.584Z"
   },
   {
    "duration": 13,
    "start_time": "2023-03-01T05:39:10.594Z"
   },
   {
    "duration": 4232,
    "start_time": "2023-03-01T05:39:10.609Z"
   },
   {
    "duration": 5,
    "start_time": "2023-03-01T05:39:14.843Z"
   },
   {
    "duration": 11,
    "start_time": "2023-03-01T05:39:14.849Z"
   },
   {
    "duration": 8,
    "start_time": "2023-03-01T05:39:14.862Z"
   },
   {
    "duration": 1493,
    "start_time": "2023-03-01T05:40:17.279Z"
   },
   {
    "duration": 391,
    "start_time": "2023-03-01T05:40:18.774Z"
   },
   {
    "duration": 13,
    "start_time": "2023-03-01T05:40:19.167Z"
   },
   {
    "duration": 24,
    "start_time": "2023-03-01T05:40:19.182Z"
   },
   {
    "duration": 17,
    "start_time": "2023-03-01T05:40:19.208Z"
   },
   {
    "duration": 27,
    "start_time": "2023-03-01T05:40:19.227Z"
   },
   {
    "duration": 17,
    "start_time": "2023-03-01T05:40:19.256Z"
   },
   {
    "duration": 13,
    "start_time": "2023-03-01T05:40:19.275Z"
   },
   {
    "duration": 61,
    "start_time": "2023-03-01T05:40:19.290Z"
   },
   {
    "duration": 58,
    "start_time": "2023-03-01T05:40:19.354Z"
   },
   {
    "duration": 52,
    "start_time": "2023-03-01T05:40:19.414Z"
   },
   {
    "duration": 70,
    "start_time": "2023-03-01T05:40:19.468Z"
   },
   {
    "duration": 36,
    "start_time": "2023-03-01T05:40:19.540Z"
   },
   {
    "duration": 54,
    "start_time": "2023-03-01T05:40:19.578Z"
   },
   {
    "duration": 4,
    "start_time": "2023-03-01T05:40:19.634Z"
   },
   {
    "duration": 1167,
    "start_time": "2023-03-01T05:40:19.640Z"
   },
   {
    "duration": 7,
    "start_time": "2023-03-01T05:40:20.809Z"
   },
   {
    "duration": 14,
    "start_time": "2023-03-01T05:40:20.819Z"
   },
   {
    "duration": 11,
    "start_time": "2023-03-01T05:40:20.835Z"
   },
   {
    "duration": 14,
    "start_time": "2023-03-01T05:40:20.848Z"
   },
   {
    "duration": 20,
    "start_time": "2023-03-01T05:40:20.863Z"
   },
   {
    "duration": 4703,
    "start_time": "2023-03-01T05:40:20.885Z"
   },
   {
    "duration": 22,
    "start_time": "2023-03-01T05:40:25.590Z"
   },
   {
    "duration": 4772,
    "start_time": "2023-03-01T05:40:25.614Z"
   },
   {
    "duration": 25,
    "start_time": "2023-03-01T05:40:30.388Z"
   },
   {
    "duration": 5012,
    "start_time": "2023-03-01T05:40:30.415Z"
   },
   {
    "duration": 19,
    "start_time": "2023-03-01T05:40:35.429Z"
   },
   {
    "duration": 7,
    "start_time": "2023-03-01T05:40:35.452Z"
   },
   {
    "duration": 44,
    "start_time": "2023-03-01T05:40:35.461Z"
   },
   {
    "duration": 405,
    "start_time": "2023-03-01T05:40:35.508Z"
   },
   {
    "duration": 8,
    "start_time": "2023-03-01T05:40:36.008Z"
   },
   {
    "duration": 8,
    "start_time": "2023-03-01T05:40:36.104Z"
   },
   {
    "duration": 10,
    "start_time": "2023-03-01T05:40:36.114Z"
   },
   {
    "duration": 6,
    "start_time": "2023-03-01T05:40:36.126Z"
   },
   {
    "duration": 12,
    "start_time": "2023-03-01T05:40:36.134Z"
   },
   {
    "duration": 10,
    "start_time": "2023-03-01T05:40:36.148Z"
   },
   {
    "duration": 7,
    "start_time": "2023-03-01T05:40:36.160Z"
   },
   {
    "duration": 19,
    "start_time": "2023-03-01T05:40:36.169Z"
   },
   {
    "duration": 16,
    "start_time": "2023-03-01T05:40:36.190Z"
   },
   {
    "duration": 11,
    "start_time": "2023-03-01T05:40:36.208Z"
   },
   {
    "duration": 6,
    "start_time": "2023-03-01T05:40:36.221Z"
   },
   {
    "duration": 8,
    "start_time": "2023-03-01T05:40:36.229Z"
   },
   {
    "duration": 26,
    "start_time": "2023-03-01T05:40:36.238Z"
   },
   {
    "duration": 7,
    "start_time": "2023-03-01T05:40:36.266Z"
   },
   {
    "duration": 10,
    "start_time": "2023-03-01T05:40:36.275Z"
   },
   {
    "duration": 17,
    "start_time": "2023-03-01T05:40:36.287Z"
   },
   {
    "duration": 9,
    "start_time": "2023-03-01T05:40:36.306Z"
   },
   {
    "duration": 5,
    "start_time": "2023-03-01T05:40:36.317Z"
   },
   {
    "duration": 7,
    "start_time": "2023-03-01T05:40:36.324Z"
   },
   {
    "duration": 8,
    "start_time": "2023-03-01T05:40:36.333Z"
   },
   {
    "duration": 16,
    "start_time": "2023-03-01T05:40:36.343Z"
   },
   {
    "duration": 13,
    "start_time": "2023-03-01T05:40:36.361Z"
   },
   {
    "duration": 4218,
    "start_time": "2023-03-01T05:40:36.376Z"
   },
   {
    "duration": 5,
    "start_time": "2023-03-01T05:40:40.596Z"
   },
   {
    "duration": 7,
    "start_time": "2023-03-01T05:40:40.605Z"
   },
   {
    "duration": 27,
    "start_time": "2023-03-01T05:40:40.613Z"
   },
   {
    "duration": 5,
    "start_time": "2023-03-01T05:41:14.741Z"
   },
   {
    "duration": 1444,
    "start_time": "2023-03-01T05:41:21.146Z"
   },
   {
    "duration": 365,
    "start_time": "2023-03-01T05:41:22.592Z"
   },
   {
    "duration": 16,
    "start_time": "2023-03-01T05:41:22.959Z"
   },
   {
    "duration": 10,
    "start_time": "2023-03-01T05:41:22.977Z"
   },
   {
    "duration": 23,
    "start_time": "2023-03-01T05:41:22.989Z"
   },
   {
    "duration": 18,
    "start_time": "2023-03-01T05:41:23.014Z"
   },
   {
    "duration": 15,
    "start_time": "2023-03-01T05:41:23.033Z"
   },
   {
    "duration": 16,
    "start_time": "2023-03-01T05:41:23.050Z"
   },
   {
    "duration": 84,
    "start_time": "2023-03-01T05:41:23.068Z"
   },
   {
    "duration": 67,
    "start_time": "2023-03-01T05:41:23.156Z"
   },
   {
    "duration": 50,
    "start_time": "2023-03-01T05:41:23.225Z"
   },
   {
    "duration": 57,
    "start_time": "2023-03-01T05:41:23.278Z"
   },
   {
    "duration": 35,
    "start_time": "2023-03-01T05:41:23.338Z"
   },
   {
    "duration": 53,
    "start_time": "2023-03-01T05:41:23.376Z"
   },
   {
    "duration": 5,
    "start_time": "2023-03-01T05:41:23.431Z"
   },
   {
    "duration": 1209,
    "start_time": "2023-03-01T05:41:23.437Z"
   },
   {
    "duration": 5,
    "start_time": "2023-03-01T05:41:24.648Z"
   },
   {
    "duration": 7,
    "start_time": "2023-03-01T05:41:24.655Z"
   },
   {
    "duration": 8,
    "start_time": "2023-03-01T05:41:24.663Z"
   },
   {
    "duration": 7,
    "start_time": "2023-03-01T05:41:24.673Z"
   },
   {
    "duration": 24,
    "start_time": "2023-03-01T05:41:24.682Z"
   },
   {
    "duration": 4533,
    "start_time": "2023-03-01T05:41:24.708Z"
   },
   {
    "duration": 19,
    "start_time": "2023-03-01T05:41:29.242Z"
   },
   {
    "duration": 5007,
    "start_time": "2023-03-01T05:41:29.262Z"
   },
   {
    "duration": 15,
    "start_time": "2023-03-01T05:41:34.271Z"
   },
   {
    "duration": 4755,
    "start_time": "2023-03-01T05:41:34.288Z"
   },
   {
    "duration": 17,
    "start_time": "2023-03-01T05:41:39.044Z"
   },
   {
    "duration": 5,
    "start_time": "2023-03-01T05:41:39.065Z"
   },
   {
    "duration": 7,
    "start_time": "2023-03-01T05:41:39.072Z"
   },
   {
    "duration": 332,
    "start_time": "2023-03-01T05:41:39.080Z"
   },
   {
    "duration": 4,
    "start_time": "2023-03-01T05:41:39.414Z"
   },
   {
    "duration": 93,
    "start_time": "2023-03-01T05:41:39.420Z"
   },
   {
    "duration": 98,
    "start_time": "2023-03-01T05:41:39.516Z"
   },
   {
    "duration": 4,
    "start_time": "2023-03-01T05:41:39.616Z"
   },
   {
    "duration": 11,
    "start_time": "2023-03-01T05:41:39.622Z"
   },
   {
    "duration": 9,
    "start_time": "2023-03-01T05:41:39.635Z"
   },
   {
    "duration": 22,
    "start_time": "2023-03-01T05:41:39.646Z"
   },
   {
    "duration": 12,
    "start_time": "2023-03-01T05:41:39.670Z"
   },
   {
    "duration": 14,
    "start_time": "2023-03-01T05:41:39.684Z"
   },
   {
    "duration": 23,
    "start_time": "2023-03-01T05:41:39.700Z"
   },
   {
    "duration": 22,
    "start_time": "2023-03-01T05:41:39.725Z"
   },
   {
    "duration": 4,
    "start_time": "2023-03-01T05:41:39.749Z"
   },
   {
    "duration": 11,
    "start_time": "2023-03-01T05:41:39.754Z"
   },
   {
    "duration": 7,
    "start_time": "2023-03-01T05:41:39.767Z"
   },
   {
    "duration": 23,
    "start_time": "2023-03-01T05:41:39.776Z"
   },
   {
    "duration": 14,
    "start_time": "2023-03-01T05:41:39.801Z"
   },
   {
    "duration": 12,
    "start_time": "2023-03-01T05:41:39.817Z"
   },
   {
    "duration": 11,
    "start_time": "2023-03-01T05:41:39.831Z"
   },
   {
    "duration": 8,
    "start_time": "2023-03-01T05:41:39.844Z"
   },
   {
    "duration": 27,
    "start_time": "2023-03-01T05:41:39.854Z"
   },
   {
    "duration": 12,
    "start_time": "2023-03-01T05:41:39.883Z"
   },
   {
    "duration": 12,
    "start_time": "2023-03-01T05:41:39.896Z"
   },
   {
    "duration": 4185,
    "start_time": "2023-03-01T05:41:39.910Z"
   },
   {
    "duration": 7,
    "start_time": "2023-03-01T05:41:44.097Z"
   },
   {
    "duration": 14,
    "start_time": "2023-03-01T05:41:44.106Z"
   },
   {
    "duration": 19,
    "start_time": "2023-03-01T05:41:44.122Z"
   },
   {
    "duration": 1991,
    "start_time": "2023-03-01T05:50:43.563Z"
   },
   {
    "duration": 374,
    "start_time": "2023-03-01T05:50:45.556Z"
   },
   {
    "duration": 13,
    "start_time": "2023-03-01T05:50:45.932Z"
   },
   {
    "duration": 20,
    "start_time": "2023-03-01T05:50:45.947Z"
   },
   {
    "duration": 17,
    "start_time": "2023-03-01T05:50:45.969Z"
   },
   {
    "duration": 25,
    "start_time": "2023-03-01T05:50:45.987Z"
   },
   {
    "duration": 23,
    "start_time": "2023-03-01T05:50:46.014Z"
   },
   {
    "duration": 14,
    "start_time": "2023-03-01T05:50:46.038Z"
   },
   {
    "duration": 75,
    "start_time": "2023-03-01T05:50:46.054Z"
   },
   {
    "duration": 50,
    "start_time": "2023-03-01T05:50:46.131Z"
   },
   {
    "duration": 71,
    "start_time": "2023-03-01T05:50:46.183Z"
   },
   {
    "duration": 57,
    "start_time": "2023-03-01T05:50:46.256Z"
   },
   {
    "duration": 40,
    "start_time": "2023-03-01T05:50:46.315Z"
   },
   {
    "duration": 71,
    "start_time": "2023-03-01T05:50:46.357Z"
   },
   {
    "duration": 6,
    "start_time": "2023-03-01T05:50:46.430Z"
   },
   {
    "duration": 1287,
    "start_time": "2023-03-01T05:50:46.438Z"
   },
   {
    "duration": 5,
    "start_time": "2023-03-01T05:50:47.727Z"
   },
   {
    "duration": 135,
    "start_time": "2023-03-01T05:50:47.734Z"
   },
   {
    "duration": 120,
    "start_time": "2023-03-01T05:50:47.871Z"
   },
   {
    "duration": 105,
    "start_time": "2023-03-01T05:50:47.993Z"
   },
   {
    "duration": 17,
    "start_time": "2023-03-01T05:50:48.101Z"
   },
   {
    "duration": 4634,
    "start_time": "2023-03-01T05:50:48.120Z"
   },
   {
    "duration": 20,
    "start_time": "2023-03-01T05:50:52.756Z"
   },
   {
    "duration": 4699,
    "start_time": "2023-03-01T05:50:52.778Z"
   },
   {
    "duration": 27,
    "start_time": "2023-03-01T05:50:57.479Z"
   },
   {
    "duration": 4406,
    "start_time": "2023-03-01T05:50:57.508Z"
   },
   {
    "duration": 16,
    "start_time": "2023-03-01T05:51:01.916Z"
   },
   {
    "duration": 21,
    "start_time": "2023-03-01T05:51:01.935Z"
   },
   {
    "duration": 36,
    "start_time": "2023-03-01T05:51:01.960Z"
   },
   {
    "duration": 227,
    "start_time": "2023-03-01T05:51:01.998Z"
   },
   {
    "duration": 98,
    "start_time": "2023-03-01T05:51:02.309Z"
   },
   {
    "duration": 8,
    "start_time": "2023-03-01T05:51:02.409Z"
   },
   {
    "duration": 13,
    "start_time": "2023-03-01T05:51:02.418Z"
   },
   {
    "duration": 12,
    "start_time": "2023-03-01T05:51:02.434Z"
   },
   {
    "duration": 15,
    "start_time": "2023-03-01T05:51:02.448Z"
   },
   {
    "duration": 30,
    "start_time": "2023-03-01T05:51:02.465Z"
   },
   {
    "duration": 13,
    "start_time": "2023-03-01T05:51:02.497Z"
   },
   {
    "duration": 12,
    "start_time": "2023-03-01T05:51:02.512Z"
   },
   {
    "duration": 15,
    "start_time": "2023-03-01T05:51:02.525Z"
   },
   {
    "duration": 12,
    "start_time": "2023-03-01T05:51:02.542Z"
   },
   {
    "duration": 49,
    "start_time": "2023-03-01T05:51:02.556Z"
   },
   {
    "duration": 21,
    "start_time": "2023-03-01T05:51:02.607Z"
   },
   {
    "duration": 6,
    "start_time": "2023-03-01T05:51:02.630Z"
   },
   {
    "duration": 15,
    "start_time": "2023-03-01T05:51:02.638Z"
   },
   {
    "duration": 41,
    "start_time": "2023-03-01T05:51:02.655Z"
   },
   {
    "duration": 12,
    "start_time": "2023-03-01T05:51:02.698Z"
   },
   {
    "duration": 19,
    "start_time": "2023-03-01T05:51:02.712Z"
   },
   {
    "duration": 7,
    "start_time": "2023-03-01T05:51:02.733Z"
   },
   {
    "duration": 9,
    "start_time": "2023-03-01T05:51:02.742Z"
   },
   {
    "duration": 10,
    "start_time": "2023-03-01T05:51:02.753Z"
   },
   {
    "duration": 9,
    "start_time": "2023-03-01T05:51:02.765Z"
   },
   {
    "duration": 9,
    "start_time": "2023-03-01T05:51:02.776Z"
   },
   {
    "duration": 4509,
    "start_time": "2023-03-01T05:51:02.787Z"
   },
   {
    "duration": 9,
    "start_time": "2023-03-01T05:51:07.297Z"
   },
   {
    "duration": 7,
    "start_time": "2023-03-01T05:51:07.308Z"
   },
   {
    "duration": 10,
    "start_time": "2023-03-01T05:51:07.317Z"
   },
   {
    "duration": 1476,
    "start_time": "2023-03-01T05:52:43.988Z"
   },
   {
    "duration": 391,
    "start_time": "2023-03-01T05:52:45.466Z"
   },
   {
    "duration": 15,
    "start_time": "2023-03-01T05:52:45.859Z"
   },
   {
    "duration": 10,
    "start_time": "2023-03-01T05:52:45.877Z"
   },
   {
    "duration": 25,
    "start_time": "2023-03-01T05:52:45.889Z"
   },
   {
    "duration": 18,
    "start_time": "2023-03-01T05:52:45.917Z"
   },
   {
    "duration": 16,
    "start_time": "2023-03-01T05:52:45.938Z"
   },
   {
    "duration": 49,
    "start_time": "2023-03-01T05:52:45.956Z"
   },
   {
    "duration": 54,
    "start_time": "2023-03-01T05:52:46.007Z"
   },
   {
    "duration": 63,
    "start_time": "2023-03-01T05:52:46.064Z"
   },
   {
    "duration": 54,
    "start_time": "2023-03-01T05:52:46.129Z"
   },
   {
    "duration": 54,
    "start_time": "2023-03-01T05:52:46.185Z"
   },
   {
    "duration": 38,
    "start_time": "2023-03-01T05:52:46.240Z"
   },
   {
    "duration": 56,
    "start_time": "2023-03-01T05:52:46.280Z"
   },
   {
    "duration": 5,
    "start_time": "2023-03-01T05:52:46.338Z"
   },
   {
    "duration": 1203,
    "start_time": "2023-03-01T05:52:46.344Z"
   },
   {
    "duration": 4,
    "start_time": "2023-03-01T05:52:47.549Z"
   },
   {
    "duration": 7,
    "start_time": "2023-03-01T05:52:47.555Z"
   },
   {
    "duration": 6,
    "start_time": "2023-03-01T05:52:47.563Z"
   },
   {
    "duration": 6,
    "start_time": "2023-03-01T05:52:47.571Z"
   },
   {
    "duration": 26,
    "start_time": "2023-03-01T05:52:47.579Z"
   },
   {
    "duration": 4686,
    "start_time": "2023-03-01T05:52:47.607Z"
   },
   {
    "duration": 24,
    "start_time": "2023-03-01T05:52:52.295Z"
   },
   {
    "duration": 4772,
    "start_time": "2023-03-01T05:52:52.322Z"
   },
   {
    "duration": 20,
    "start_time": "2023-03-01T05:52:57.097Z"
   },
   {
    "duration": 4663,
    "start_time": "2023-03-01T05:52:57.120Z"
   },
   {
    "duration": 15,
    "start_time": "2023-03-01T05:53:01.785Z"
   },
   {
    "duration": 26,
    "start_time": "2023-03-01T05:53:01.804Z"
   },
   {
    "duration": 9,
    "start_time": "2023-03-01T05:53:01.832Z"
   },
   {
    "duration": 280,
    "start_time": "2023-03-01T05:53:01.843Z"
   },
   {
    "duration": 13,
    "start_time": "2023-03-01T05:53:02.206Z"
   },
   {
    "duration": 5,
    "start_time": "2023-03-01T05:53:02.306Z"
   },
   {
    "duration": 14,
    "start_time": "2023-03-01T05:53:02.314Z"
   },
   {
    "duration": 15,
    "start_time": "2023-03-01T05:53:02.330Z"
   },
   {
    "duration": 7,
    "start_time": "2023-03-01T05:53:02.347Z"
   },
   {
    "duration": 7,
    "start_time": "2023-03-01T05:53:02.357Z"
   },
   {
    "duration": 12,
    "start_time": "2023-03-01T05:53:02.366Z"
   },
   {
    "duration": 11,
    "start_time": "2023-03-01T05:53:02.381Z"
   },
   {
    "duration": 10,
    "start_time": "2023-03-01T05:53:02.405Z"
   },
   {
    "duration": 6,
    "start_time": "2023-03-01T05:53:02.417Z"
   },
   {
    "duration": 11,
    "start_time": "2023-03-01T05:53:02.425Z"
   },
   {
    "duration": 14,
    "start_time": "2023-03-01T05:53:02.438Z"
   },
   {
    "duration": 24,
    "start_time": "2023-03-01T05:53:02.454Z"
   },
   {
    "duration": 12,
    "start_time": "2023-03-01T05:53:02.480Z"
   },
   {
    "duration": 14,
    "start_time": "2023-03-01T05:53:02.493Z"
   },
   {
    "duration": 11,
    "start_time": "2023-03-01T05:53:02.509Z"
   },
   {
    "duration": 18,
    "start_time": "2023-03-01T05:53:02.521Z"
   },
   {
    "duration": 7,
    "start_time": "2023-03-01T05:53:02.540Z"
   },
   {
    "duration": 10,
    "start_time": "2023-03-01T05:53:02.549Z"
   },
   {
    "duration": 6,
    "start_time": "2023-03-01T05:53:02.560Z"
   },
   {
    "duration": 7,
    "start_time": "2023-03-01T05:53:02.568Z"
   },
   {
    "duration": 6,
    "start_time": "2023-03-01T05:53:02.577Z"
   },
   {
    "duration": 4547,
    "start_time": "2023-03-01T05:53:02.585Z"
   },
   {
    "duration": 5,
    "start_time": "2023-03-01T05:53:07.134Z"
   },
   {
    "duration": 10,
    "start_time": "2023-03-01T05:53:07.141Z"
   },
   {
    "duration": 18,
    "start_time": "2023-03-01T05:53:07.153Z"
   },
   {
    "duration": 1526,
    "start_time": "2023-03-01T06:07:11.199Z"
   },
   {
    "duration": 399,
    "start_time": "2023-03-01T06:07:12.727Z"
   },
   {
    "duration": 14,
    "start_time": "2023-03-01T06:07:13.128Z"
   },
   {
    "duration": 10,
    "start_time": "2023-03-01T06:07:13.144Z"
   },
   {
    "duration": 16,
    "start_time": "2023-03-01T06:07:13.156Z"
   },
   {
    "duration": 42,
    "start_time": "2023-03-01T06:07:13.175Z"
   },
   {
    "duration": 15,
    "start_time": "2023-03-01T06:07:13.220Z"
   },
   {
    "duration": 14,
    "start_time": "2023-03-01T06:07:13.237Z"
   },
   {
    "duration": 77,
    "start_time": "2023-03-01T06:07:13.253Z"
   },
   {
    "duration": 48,
    "start_time": "2023-03-01T06:07:13.332Z"
   },
   {
    "duration": 72,
    "start_time": "2023-03-01T06:07:13.382Z"
   },
   {
    "duration": 51,
    "start_time": "2023-03-01T06:07:13.455Z"
   },
   {
    "duration": 40,
    "start_time": "2023-03-01T06:07:13.510Z"
   },
   {
    "duration": 61,
    "start_time": "2023-03-01T06:07:13.552Z"
   },
   {
    "duration": 7,
    "start_time": "2023-03-01T06:07:13.620Z"
   },
   {
    "duration": 1435,
    "start_time": "2023-03-01T06:07:13.629Z"
   },
   {
    "duration": 15,
    "start_time": "2023-03-01T06:07:15.066Z"
   },
   {
    "duration": 5081,
    "start_time": "2023-03-01T06:07:15.083Z"
   },
   {
    "duration": 18,
    "start_time": "2023-03-01T06:07:20.166Z"
   },
   {
    "duration": 4987,
    "start_time": "2023-03-01T06:07:20.186Z"
   },
   {
    "duration": 15,
    "start_time": "2023-03-01T06:07:25.175Z"
   },
   {
    "duration": 4860,
    "start_time": "2023-03-01T06:07:25.191Z"
   },
   {
    "duration": 16,
    "start_time": "2023-03-01T06:07:30.053Z"
   },
   {
    "duration": 27,
    "start_time": "2023-03-01T06:07:30.071Z"
   },
   {
    "duration": 56,
    "start_time": "2023-03-01T06:07:30.100Z"
   },
   {
    "duration": 456,
    "start_time": "2023-03-01T06:07:30.157Z"
   },
   {
    "duration": 10,
    "start_time": "2023-03-01T06:07:30.618Z"
   },
   {
    "duration": 173,
    "start_time": "2023-03-01T06:07:30.633Z"
   },
   {
    "duration": 104,
    "start_time": "2023-03-01T06:07:30.809Z"
   },
   {
    "duration": 42,
    "start_time": "2023-03-01T06:07:30.915Z"
   },
   {
    "duration": 29,
    "start_time": "2023-03-01T06:07:30.959Z"
   },
   {
    "duration": 92,
    "start_time": "2023-03-01T06:07:30.990Z"
   },
   {
    "duration": 44,
    "start_time": "2023-03-01T06:07:31.085Z"
   },
   {
    "duration": 101,
    "start_time": "2023-03-01T06:07:31.131Z"
   },
   {
    "duration": 91,
    "start_time": "2023-03-01T06:07:31.234Z"
   },
   {
    "duration": 33,
    "start_time": "2023-03-01T06:07:31.327Z"
   },
   {
    "duration": 62,
    "start_time": "2023-03-01T06:07:31.364Z"
   },
   {
    "duration": 27,
    "start_time": "2023-03-01T06:07:31.429Z"
   },
   {
    "duration": 37,
    "start_time": "2023-03-01T06:07:31.459Z"
   },
   {
    "duration": 45,
    "start_time": "2023-03-01T06:07:31.498Z"
   },
   {
    "duration": 29,
    "start_time": "2023-03-01T06:07:31.545Z"
   },
   {
    "duration": 24,
    "start_time": "2023-03-01T06:07:31.576Z"
   },
   {
    "duration": 47,
    "start_time": "2023-03-01T06:07:31.602Z"
   },
   {
    "duration": 22,
    "start_time": "2023-03-01T06:07:31.651Z"
   },
   {
    "duration": 24,
    "start_time": "2023-03-01T06:07:31.676Z"
   },
   {
    "duration": 67,
    "start_time": "2023-03-01T06:07:31.703Z"
   },
   {
    "duration": 14,
    "start_time": "2023-03-01T06:07:31.773Z"
   },
   {
    "duration": 65,
    "start_time": "2023-03-01T06:07:31.789Z"
   },
   {
    "duration": 4869,
    "start_time": "2023-03-01T06:07:31.856Z"
   },
   {
    "duration": 4,
    "start_time": "2023-03-01T06:07:36.727Z"
   },
   {
    "duration": 11,
    "start_time": "2023-03-01T06:07:36.733Z"
   },
   {
    "duration": 13,
    "start_time": "2023-03-01T06:07:36.746Z"
   },
   {
    "duration": 1354,
    "start_time": "2023-03-01T07:31:08.957Z"
   },
   {
    "duration": 465,
    "start_time": "2023-03-01T07:31:10.315Z"
   },
   {
    "duration": 16,
    "start_time": "2023-03-01T07:31:10.783Z"
   },
   {
    "duration": 43,
    "start_time": "2023-03-01T07:31:10.800Z"
   },
   {
    "duration": 14,
    "start_time": "2023-03-01T07:31:10.845Z"
   },
   {
    "duration": 22,
    "start_time": "2023-03-01T07:31:10.861Z"
   },
   {
    "duration": 20,
    "start_time": "2023-03-01T07:31:10.885Z"
   },
   {
    "duration": 25,
    "start_time": "2023-03-01T07:31:10.912Z"
   },
   {
    "duration": 86,
    "start_time": "2023-03-01T07:31:10.939Z"
   },
   {
    "duration": 74,
    "start_time": "2023-03-01T07:31:11.030Z"
   },
   {
    "duration": 76,
    "start_time": "2023-03-01T07:31:11.106Z"
   },
   {
    "duration": 52,
    "start_time": "2023-03-01T07:31:11.184Z"
   },
   {
    "duration": 38,
    "start_time": "2023-03-01T07:31:11.238Z"
   },
   {
    "duration": 59,
    "start_time": "2023-03-01T07:31:11.278Z"
   },
   {
    "duration": 4,
    "start_time": "2023-03-01T07:31:11.339Z"
   },
   {
    "duration": 1216,
    "start_time": "2023-03-01T07:31:11.345Z"
   },
   {
    "duration": 13,
    "start_time": "2023-03-01T07:31:12.563Z"
   },
   {
    "duration": 5347,
    "start_time": "2023-03-01T07:31:12.578Z"
   },
   {
    "duration": 17,
    "start_time": "2023-03-01T07:31:17.927Z"
   },
   {
    "duration": 5534,
    "start_time": "2023-03-01T07:31:17.946Z"
   },
   {
    "duration": 39,
    "start_time": "2023-03-01T07:31:23.482Z"
   },
   {
    "duration": 5515,
    "start_time": "2023-03-01T07:31:23.527Z"
   },
   {
    "duration": 19,
    "start_time": "2023-03-01T07:31:29.044Z"
   },
   {
    "duration": 6,
    "start_time": "2023-03-01T07:31:29.065Z"
   },
   {
    "duration": 475,
    "start_time": "2023-03-01T07:31:29.073Z"
   },
   {
    "duration": 5,
    "start_time": "2023-03-01T07:31:29.552Z"
   },
   {
    "duration": 130,
    "start_time": "2023-03-01T07:31:29.605Z"
   },
   {
    "duration": 10,
    "start_time": "2023-03-01T07:31:29.741Z"
   },
   {
    "duration": 9,
    "start_time": "2023-03-01T07:31:29.754Z"
   },
   {
    "duration": 16,
    "start_time": "2023-03-01T07:31:29.765Z"
   },
   {
    "duration": 45,
    "start_time": "2023-03-01T07:31:29.784Z"
   },
   {
    "duration": 17,
    "start_time": "2023-03-01T07:31:29.832Z"
   },
   {
    "duration": 20,
    "start_time": "2023-03-01T07:31:29.852Z"
   },
   {
    "duration": 30,
    "start_time": "2023-03-01T07:31:29.874Z"
   },
   {
    "duration": 45,
    "start_time": "2023-03-01T07:31:29.910Z"
   },
   {
    "duration": 16,
    "start_time": "2023-03-01T07:31:29.957Z"
   },
   {
    "duration": 20,
    "start_time": "2023-03-01T07:31:29.975Z"
   },
   {
    "duration": 52,
    "start_time": "2023-03-01T07:31:29.997Z"
   },
   {
    "duration": 43,
    "start_time": "2023-03-01T07:31:30.051Z"
   },
   {
    "duration": 94,
    "start_time": "2023-03-01T07:31:30.096Z"
   },
   {
    "duration": 84,
    "start_time": "2023-03-01T07:31:30.192Z"
   },
   {
    "duration": 57,
    "start_time": "2023-03-01T07:31:30.279Z"
   },
   {
    "duration": 41,
    "start_time": "2023-03-01T07:31:30.339Z"
   },
   {
    "duration": 89,
    "start_time": "2023-03-01T07:31:30.382Z"
   },
   {
    "duration": 24,
    "start_time": "2023-03-01T07:31:30.474Z"
   },
   {
    "duration": 71,
    "start_time": "2023-03-01T07:31:30.501Z"
   },
   {
    "duration": 110,
    "start_time": "2023-03-01T07:31:30.574Z"
   },
   {
    "duration": 5704,
    "start_time": "2023-03-01T07:31:30.689Z"
   },
   {
    "duration": 15,
    "start_time": "2023-03-01T07:31:36.396Z"
   },
   {
    "duration": 17,
    "start_time": "2023-03-01T07:31:36.413Z"
   },
   {
    "duration": 17,
    "start_time": "2023-03-01T07:31:36.432Z"
   },
   {
    "duration": 1384,
    "start_time": "2023-03-01T07:32:52.371Z"
   },
   {
    "duration": 583,
    "start_time": "2023-03-01T07:32:53.757Z"
   },
   {
    "duration": 17,
    "start_time": "2023-03-01T07:32:54.343Z"
   },
   {
    "duration": 18,
    "start_time": "2023-03-01T07:32:54.362Z"
   },
   {
    "duration": 79,
    "start_time": "2023-03-01T07:32:54.382Z"
   },
   {
    "duration": 24,
    "start_time": "2023-03-01T07:32:54.463Z"
   },
   {
    "duration": 20,
    "start_time": "2023-03-01T07:32:54.489Z"
   },
   {
    "duration": 39,
    "start_time": "2023-03-01T07:32:54.511Z"
   },
   {
    "duration": 73,
    "start_time": "2023-03-01T07:32:54.552Z"
   },
   {
    "duration": 52,
    "start_time": "2023-03-01T07:32:54.629Z"
   },
   {
    "duration": 129,
    "start_time": "2023-03-01T07:32:54.682Z"
   },
   {
    "duration": 44,
    "start_time": "2023-03-01T07:32:54.815Z"
   },
   {
    "duration": 66,
    "start_time": "2023-03-01T07:32:54.861Z"
   },
   {
    "duration": 38,
    "start_time": "2023-03-01T07:32:54.929Z"
   },
   {
    "duration": 4,
    "start_time": "2023-03-01T07:32:54.969Z"
   },
   {
    "duration": 1217,
    "start_time": "2023-03-01T07:32:54.975Z"
   },
   {
    "duration": 26,
    "start_time": "2023-03-01T07:32:56.194Z"
   },
   {
    "duration": 5326,
    "start_time": "2023-03-01T07:32:56.225Z"
   },
   {
    "duration": 26,
    "start_time": "2023-03-01T07:33:01.554Z"
   },
   {
    "duration": 5703,
    "start_time": "2023-03-01T07:33:01.583Z"
   },
   {
    "duration": 40,
    "start_time": "2023-03-01T07:33:07.288Z"
   },
   {
    "duration": 6211,
    "start_time": "2023-03-01T07:33:07.330Z"
   },
   {
    "duration": 23,
    "start_time": "2023-03-01T07:33:13.543Z"
   },
   {
    "duration": 7,
    "start_time": "2023-03-01T07:33:13.568Z"
   },
   {
    "duration": 470,
    "start_time": "2023-03-01T07:33:13.578Z"
   },
   {
    "duration": 9,
    "start_time": "2023-03-01T07:33:14.052Z"
   },
   {
    "duration": 133,
    "start_time": "2023-03-01T07:33:14.107Z"
   },
   {
    "duration": 75,
    "start_time": "2023-03-01T07:33:14.246Z"
   },
   {
    "duration": 28,
    "start_time": "2023-03-01T07:33:14.323Z"
   },
   {
    "duration": 15,
    "start_time": "2023-03-01T07:33:14.355Z"
   },
   {
    "duration": 32,
    "start_time": "2023-03-01T07:33:14.372Z"
   },
   {
    "duration": 64,
    "start_time": "2023-03-01T07:33:14.407Z"
   },
   {
    "duration": 10,
    "start_time": "2023-03-01T07:33:14.473Z"
   },
   {
    "duration": 20,
    "start_time": "2023-03-01T07:33:14.485Z"
   },
   {
    "duration": 44,
    "start_time": "2023-03-01T07:33:14.506Z"
   },
   {
    "duration": 25,
    "start_time": "2023-03-01T07:33:14.553Z"
   },
   {
    "duration": 21,
    "start_time": "2023-03-01T07:33:14.581Z"
   },
   {
    "duration": 50,
    "start_time": "2023-03-01T07:33:14.606Z"
   },
   {
    "duration": 6,
    "start_time": "2023-03-01T07:33:14.658Z"
   },
   {
    "duration": 8,
    "start_time": "2023-03-01T07:33:14.666Z"
   },
   {
    "duration": 11,
    "start_time": "2023-03-01T07:33:14.676Z"
   },
   {
    "duration": 12,
    "start_time": "2023-03-01T07:33:14.690Z"
   },
   {
    "duration": 43,
    "start_time": "2023-03-01T07:33:14.704Z"
   },
   {
    "duration": 14,
    "start_time": "2023-03-01T07:33:14.749Z"
   },
   {
    "duration": 7,
    "start_time": "2023-03-01T07:33:14.765Z"
   },
   {
    "duration": 10,
    "start_time": "2023-03-01T07:33:14.774Z"
   },
   {
    "duration": 13,
    "start_time": "2023-03-01T07:33:14.786Z"
   },
   {
    "duration": 4990,
    "start_time": "2023-03-01T07:33:14.801Z"
   },
   {
    "duration": 13,
    "start_time": "2023-03-01T07:33:19.793Z"
   },
   {
    "duration": 14,
    "start_time": "2023-03-01T07:33:19.808Z"
   },
   {
    "duration": 10,
    "start_time": "2023-03-01T07:33:19.827Z"
   },
   {
    "duration": 1503,
    "start_time": "2023-03-01T07:33:42.861Z"
   },
   {
    "duration": 460,
    "start_time": "2023-03-01T07:33:44.367Z"
   },
   {
    "duration": 15,
    "start_time": "2023-03-01T07:33:44.829Z"
   },
   {
    "duration": 10,
    "start_time": "2023-03-01T07:33:44.847Z"
   },
   {
    "duration": 17,
    "start_time": "2023-03-01T07:33:44.859Z"
   },
   {
    "duration": 53,
    "start_time": "2023-03-01T07:33:44.878Z"
   },
   {
    "duration": 24,
    "start_time": "2023-03-01T07:33:44.934Z"
   },
   {
    "duration": 22,
    "start_time": "2023-03-01T07:33:44.961Z"
   },
   {
    "duration": 85,
    "start_time": "2023-03-01T07:33:44.986Z"
   },
   {
    "duration": 73,
    "start_time": "2023-03-01T07:33:45.077Z"
   },
   {
    "duration": 74,
    "start_time": "2023-03-01T07:33:45.151Z"
   },
   {
    "duration": 52,
    "start_time": "2023-03-01T07:33:45.227Z"
   },
   {
    "duration": 57,
    "start_time": "2023-03-01T07:33:45.281Z"
   },
   {
    "duration": 84,
    "start_time": "2023-03-01T07:33:45.340Z"
   },
   {
    "duration": 9,
    "start_time": "2023-03-01T07:33:45.430Z"
   },
   {
    "duration": 1222,
    "start_time": "2023-03-01T07:33:45.441Z"
   },
   {
    "duration": 18,
    "start_time": "2023-03-01T07:33:46.665Z"
   },
   {
    "duration": 5353,
    "start_time": "2023-03-01T07:33:46.687Z"
   },
   {
    "duration": 18,
    "start_time": "2023-03-01T07:33:52.041Z"
   },
   {
    "duration": 5249,
    "start_time": "2023-03-01T07:33:52.061Z"
   },
   {
    "duration": 20,
    "start_time": "2023-03-01T07:33:57.316Z"
   },
   {
    "duration": 5422,
    "start_time": "2023-03-01T07:33:57.339Z"
   },
   {
    "duration": 18,
    "start_time": "2023-03-01T07:34:02.763Z"
   },
   {
    "duration": 63,
    "start_time": "2023-03-01T07:34:02.783Z"
   },
   {
    "duration": 21,
    "start_time": "2023-03-01T07:34:02.850Z"
   },
   {
    "duration": 451,
    "start_time": "2023-03-01T07:34:02.875Z"
   },
   {
    "duration": 5,
    "start_time": "2023-03-01T07:34:03.328Z"
   },
   {
    "duration": 168,
    "start_time": "2023-03-01T07:34:03.341Z"
   },
   {
    "duration": 27,
    "start_time": "2023-03-01T07:34:03.510Z"
   },
   {
    "duration": 7,
    "start_time": "2023-03-01T07:34:03.539Z"
   },
   {
    "duration": 13,
    "start_time": "2023-03-01T07:34:03.547Z"
   },
   {
    "duration": 8,
    "start_time": "2023-03-01T07:34:03.562Z"
   },
   {
    "duration": 8,
    "start_time": "2023-03-01T07:34:03.572Z"
   },
   {
    "duration": 16,
    "start_time": "2023-03-01T07:34:03.583Z"
   },
   {
    "duration": 29,
    "start_time": "2023-03-01T07:34:03.601Z"
   },
   {
    "duration": 11,
    "start_time": "2023-03-01T07:34:03.631Z"
   },
   {
    "duration": 14,
    "start_time": "2023-03-01T07:34:03.644Z"
   },
   {
    "duration": 13,
    "start_time": "2023-03-01T07:34:03.660Z"
   },
   {
    "duration": 10,
    "start_time": "2023-03-01T07:34:03.675Z"
   },
   {
    "duration": 16,
    "start_time": "2023-03-01T07:34:03.688Z"
   },
   {
    "duration": 35,
    "start_time": "2023-03-01T07:34:03.706Z"
   },
   {
    "duration": 10,
    "start_time": "2023-03-01T07:34:03.743Z"
   },
   {
    "duration": 23,
    "start_time": "2023-03-01T07:34:03.755Z"
   },
   {
    "duration": 44,
    "start_time": "2023-03-01T07:34:03.780Z"
   },
   {
    "duration": 9,
    "start_time": "2023-03-01T07:34:03.827Z"
   },
   {
    "duration": 19,
    "start_time": "2023-03-01T07:34:03.838Z"
   },
   {
    "duration": 31,
    "start_time": "2023-03-01T07:34:03.859Z"
   },
   {
    "duration": 50,
    "start_time": "2023-03-01T07:34:03.892Z"
   },
   {
    "duration": 5172,
    "start_time": "2023-03-01T07:34:03.944Z"
   },
   {
    "duration": 6,
    "start_time": "2023-03-01T07:34:09.124Z"
   },
   {
    "duration": 17,
    "start_time": "2023-03-01T07:34:09.132Z"
   },
   {
    "duration": 13,
    "start_time": "2023-03-01T07:34:09.151Z"
   },
   {
    "duration": 8,
    "start_time": "2023-03-01T12:55:56.286Z"
   },
   {
    "duration": 46,
    "start_time": "2023-03-01T12:57:32.007Z"
   },
   {
    "duration": 1614,
    "start_time": "2023-03-01T12:57:56.405Z"
   },
   {
    "duration": 4,
    "start_time": "2023-03-01T12:57:58.021Z"
   },
   {
    "duration": 1522,
    "start_time": "2023-03-01T12:57:58.027Z"
   },
   {
    "duration": 14,
    "start_time": "2023-03-01T12:57:59.552Z"
   },
   {
    "duration": 23,
    "start_time": "2023-03-01T12:57:59.568Z"
   },
   {
    "duration": 38,
    "start_time": "2023-03-01T12:57:59.593Z"
   },
   {
    "duration": 18,
    "start_time": "2023-03-01T12:57:59.633Z"
   },
   {
    "duration": 13,
    "start_time": "2023-03-01T12:57:59.653Z"
   },
   {
    "duration": 13,
    "start_time": "2023-03-01T12:57:59.668Z"
   },
   {
    "duration": 65,
    "start_time": "2023-03-01T12:57:59.684Z"
   },
   {
    "duration": 41,
    "start_time": "2023-03-01T12:57:59.751Z"
   },
   {
    "duration": 55,
    "start_time": "2023-03-01T12:57:59.794Z"
   },
   {
    "duration": 36,
    "start_time": "2023-03-01T12:57:59.851Z"
   },
   {
    "duration": 33,
    "start_time": "2023-03-01T12:57:59.889Z"
   },
   {
    "duration": 53,
    "start_time": "2023-03-01T12:57:59.924Z"
   },
   {
    "duration": 5,
    "start_time": "2023-03-01T12:57:59.980Z"
   },
   {
    "duration": 1131,
    "start_time": "2023-03-01T12:57:59.987Z"
   },
   {
    "duration": 10,
    "start_time": "2023-03-01T12:58:01.120Z"
   },
   {
    "duration": 4707,
    "start_time": "2023-03-01T12:58:01.132Z"
   },
   {
    "duration": 19,
    "start_time": "2023-03-01T12:58:05.841Z"
   },
   {
    "duration": 4696,
    "start_time": "2023-03-01T12:58:05.861Z"
   },
   {
    "duration": 15,
    "start_time": "2023-03-01T12:58:10.559Z"
   },
   {
    "duration": 4649,
    "start_time": "2023-03-01T12:58:10.576Z"
   },
   {
    "duration": 17,
    "start_time": "2023-03-01T12:58:15.227Z"
   },
   {
    "duration": 5,
    "start_time": "2023-03-01T12:58:15.245Z"
   },
   {
    "duration": 304,
    "start_time": "2023-03-01T12:58:15.252Z"
   },
   {
    "duration": 90,
    "start_time": "2023-03-01T12:58:15.559Z"
   },
   {
    "duration": 4,
    "start_time": "2023-03-01T12:58:15.655Z"
   },
   {
    "duration": 11,
    "start_time": "2023-03-01T12:58:15.749Z"
   },
   {
    "duration": 7,
    "start_time": "2023-03-01T12:58:15.761Z"
   },
   {
    "duration": 10,
    "start_time": "2023-03-01T12:58:15.770Z"
   },
   {
    "duration": 6,
    "start_time": "2023-03-01T12:58:15.781Z"
   },
   {
    "duration": 6,
    "start_time": "2023-03-01T12:58:15.788Z"
   },
   {
    "duration": 5,
    "start_time": "2023-03-01T12:58:15.795Z"
   },
   {
    "duration": 8,
    "start_time": "2023-03-01T12:58:15.802Z"
   },
   {
    "duration": 6,
    "start_time": "2023-03-01T12:58:15.812Z"
   },
   {
    "duration": 33,
    "start_time": "2023-03-01T12:58:15.820Z"
   },
   {
    "duration": 5,
    "start_time": "2023-03-01T12:58:15.854Z"
   },
   {
    "duration": 5,
    "start_time": "2023-03-01T12:58:15.861Z"
   },
   {
    "duration": 5,
    "start_time": "2023-03-01T12:58:15.868Z"
   },
   {
    "duration": 7,
    "start_time": "2023-03-01T12:58:15.875Z"
   },
   {
    "duration": 7,
    "start_time": "2023-03-01T12:58:15.884Z"
   },
   {
    "duration": 8,
    "start_time": "2023-03-01T12:58:15.893Z"
   },
   {
    "duration": 7,
    "start_time": "2023-03-01T12:58:15.902Z"
   },
   {
    "duration": 6,
    "start_time": "2023-03-01T12:58:15.911Z"
   },
   {
    "duration": 30,
    "start_time": "2023-03-01T12:58:15.919Z"
   },
   {
    "duration": 66,
    "start_time": "2023-03-01T12:58:15.950Z"
   },
   {
    "duration": 13,
    "start_time": "2023-03-01T12:58:16.018Z"
   },
   {
    "duration": 4130,
    "start_time": "2023-03-01T12:58:16.032Z"
   },
   {
    "duration": 4,
    "start_time": "2023-03-01T12:58:20.164Z"
   },
   {
    "duration": 6,
    "start_time": "2023-03-01T12:58:20.170Z"
   },
   {
    "duration": 8,
    "start_time": "2023-03-01T12:58:20.178Z"
   },
   {
    "duration": 1427,
    "start_time": "2023-03-01T13:07:38.254Z"
   },
   {
    "duration": 4,
    "start_time": "2023-03-01T13:07:39.683Z"
   },
   {
    "duration": 386,
    "start_time": "2023-03-01T13:07:39.688Z"
   },
   {
    "duration": 14,
    "start_time": "2023-03-01T13:07:40.076Z"
   },
   {
    "duration": 17,
    "start_time": "2023-03-01T13:07:40.091Z"
   },
   {
    "duration": 17,
    "start_time": "2023-03-01T13:07:40.110Z"
   },
   {
    "duration": 27,
    "start_time": "2023-03-01T13:07:40.129Z"
   },
   {
    "duration": 14,
    "start_time": "2023-03-01T13:07:40.158Z"
   },
   {
    "duration": 33,
    "start_time": "2023-03-01T13:07:40.173Z"
   },
   {
    "duration": 49,
    "start_time": "2023-03-01T13:07:40.210Z"
   },
   {
    "duration": 42,
    "start_time": "2023-03-01T13:07:40.260Z"
   },
   {
    "duration": 63,
    "start_time": "2023-03-01T13:07:40.303Z"
   },
   {
    "duration": 37,
    "start_time": "2023-03-01T13:07:40.367Z"
   },
   {
    "duration": 61,
    "start_time": "2023-03-01T13:07:40.406Z"
   },
   {
    "duration": 38,
    "start_time": "2023-03-01T13:07:40.468Z"
   },
   {
    "duration": 5,
    "start_time": "2023-03-01T13:07:40.508Z"
   },
   {
    "duration": 1142,
    "start_time": "2023-03-01T13:07:40.515Z"
   },
   {
    "duration": 12,
    "start_time": "2023-03-01T13:07:41.659Z"
   },
   {
    "duration": 4598,
    "start_time": "2023-03-01T13:07:41.673Z"
   },
   {
    "duration": 19,
    "start_time": "2023-03-01T13:07:46.273Z"
   },
   {
    "duration": 4646,
    "start_time": "2023-03-01T13:07:46.295Z"
   },
   {
    "duration": 19,
    "start_time": "2023-03-01T13:07:50.942Z"
   },
   {
    "duration": 4606,
    "start_time": "2023-03-01T13:07:50.963Z"
   },
   {
    "duration": 18,
    "start_time": "2023-03-01T13:07:55.571Z"
   },
   {
    "duration": 4,
    "start_time": "2023-03-01T13:07:55.591Z"
   },
   {
    "duration": 353,
    "start_time": "2023-03-01T13:07:55.597Z"
   },
   {
    "duration": 7,
    "start_time": "2023-03-01T13:07:55.953Z"
   },
   {
    "duration": 6,
    "start_time": "2023-03-01T13:07:56.051Z"
   },
   {
    "duration": 17,
    "start_time": "2023-03-01T13:07:56.058Z"
   },
   {
    "duration": 12,
    "start_time": "2023-03-01T13:07:56.077Z"
   },
   {
    "duration": 24,
    "start_time": "2023-03-01T13:07:56.090Z"
   },
   {
    "duration": 6,
    "start_time": "2023-03-01T13:07:56.116Z"
   },
   {
    "duration": 6,
    "start_time": "2023-03-01T13:07:56.123Z"
   },
   {
    "duration": 4,
    "start_time": "2023-03-01T13:07:56.149Z"
   },
   {
    "duration": 10,
    "start_time": "2023-03-01T13:07:56.154Z"
   },
   {
    "duration": 6,
    "start_time": "2023-03-01T13:07:56.165Z"
   },
   {
    "duration": 5,
    "start_time": "2023-03-01T13:07:56.173Z"
   },
   {
    "duration": 4,
    "start_time": "2023-03-01T13:07:56.179Z"
   },
   {
    "duration": 8,
    "start_time": "2023-03-01T13:07:56.184Z"
   },
   {
    "duration": 6,
    "start_time": "2023-03-01T13:07:56.193Z"
   },
   {
    "duration": 5,
    "start_time": "2023-03-01T13:07:56.200Z"
   },
   {
    "duration": 7,
    "start_time": "2023-03-01T13:07:56.249Z"
   },
   {
    "duration": 7,
    "start_time": "2023-03-01T13:07:56.258Z"
   },
   {
    "duration": 6,
    "start_time": "2023-03-01T13:07:56.267Z"
   },
   {
    "duration": 6,
    "start_time": "2023-03-01T13:07:56.274Z"
   },
   {
    "duration": 4,
    "start_time": "2023-03-01T13:07:56.281Z"
   },
   {
    "duration": 5,
    "start_time": "2023-03-01T13:07:56.286Z"
   },
   {
    "duration": 8,
    "start_time": "2023-03-01T13:07:56.293Z"
   },
   {
    "duration": 4106,
    "start_time": "2023-03-01T13:07:56.302Z"
   },
   {
    "duration": 4,
    "start_time": "2023-03-01T13:08:00.410Z"
   },
   {
    "duration": 13,
    "start_time": "2023-03-01T13:08:00.416Z"
   },
   {
    "duration": 29,
    "start_time": "2023-03-01T13:08:00.431Z"
   },
   {
    "duration": 239,
    "start_time": "2023-03-01T13:09:08.075Z"
   },
   {
    "duration": 1984,
    "start_time": "2023-03-01T14:56:03.246Z"
   },
   {
    "duration": 4,
    "start_time": "2023-03-01T14:56:05.231Z"
   },
   {
    "duration": 1547,
    "start_time": "2023-03-01T14:56:05.236Z"
   },
   {
    "duration": 15,
    "start_time": "2023-03-01T14:56:06.787Z"
   },
   {
    "duration": 20,
    "start_time": "2023-03-01T14:56:06.804Z"
   },
   {
    "duration": 15,
    "start_time": "2023-03-01T14:56:06.826Z"
   },
   {
    "duration": 23,
    "start_time": "2023-03-01T14:56:06.843Z"
   },
   {
    "duration": 16,
    "start_time": "2023-03-01T14:56:06.868Z"
   },
   {
    "duration": 28,
    "start_time": "2023-03-01T14:56:06.887Z"
   },
   {
    "duration": 45,
    "start_time": "2023-03-01T14:56:06.918Z"
   },
   {
    "duration": 59,
    "start_time": "2023-03-01T14:56:06.964Z"
   },
   {
    "duration": 44,
    "start_time": "2023-03-01T14:56:07.025Z"
   },
   {
    "duration": 54,
    "start_time": "2023-03-01T14:56:07.070Z"
   },
   {
    "duration": 37,
    "start_time": "2023-03-01T14:56:07.126Z"
   },
   {
    "duration": 51,
    "start_time": "2023-03-01T14:56:07.165Z"
   },
   {
    "duration": 4,
    "start_time": "2023-03-01T14:56:07.218Z"
   },
   {
    "duration": 1077,
    "start_time": "2023-03-01T14:56:07.224Z"
   },
   {
    "duration": 12,
    "start_time": "2023-03-01T14:56:08.303Z"
   },
   {
    "duration": 4436,
    "start_time": "2023-03-01T14:56:08.317Z"
   },
   {
    "duration": 15,
    "start_time": "2023-03-01T14:56:12.755Z"
   },
   {
    "duration": 4456,
    "start_time": "2023-03-01T14:56:12.772Z"
   },
   {
    "duration": 15,
    "start_time": "2023-03-01T14:56:17.229Z"
   },
   {
    "duration": 4339,
    "start_time": "2023-03-01T14:56:17.245Z"
   },
   {
    "duration": 15,
    "start_time": "2023-03-01T14:56:21.585Z"
   },
   {
    "duration": 308,
    "start_time": "2023-03-01T14:56:21.601Z"
   },
   {
    "duration": 4,
    "start_time": "2023-03-01T14:56:21.911Z"
   },
   {
    "duration": 392,
    "start_time": "2023-03-01T14:56:21.916Z"
   },
   {
    "duration": 93,
    "start_time": "2023-03-01T14:56:22.313Z"
   },
   {
    "duration": 101,
    "start_time": "2023-03-01T14:56:22.409Z"
   },
   {
    "duration": 12,
    "start_time": "2023-03-01T14:56:22.512Z"
   },
   {
    "duration": 6,
    "start_time": "2023-03-01T14:56:22.526Z"
   },
   {
    "duration": 6,
    "start_time": "2023-03-01T14:56:22.533Z"
   },
   {
    "duration": 6,
    "start_time": "2023-03-01T14:56:22.540Z"
   },
   {
    "duration": 6,
    "start_time": "2023-03-01T14:56:22.547Z"
   },
   {
    "duration": 9,
    "start_time": "2023-03-01T14:56:22.555Z"
   },
   {
    "duration": 19,
    "start_time": "2023-03-01T14:56:22.565Z"
   },
   {
    "duration": 6,
    "start_time": "2023-03-01T14:56:22.585Z"
   },
   {
    "duration": 5,
    "start_time": "2023-03-01T14:56:22.604Z"
   },
   {
    "duration": 8,
    "start_time": "2023-03-01T14:56:22.611Z"
   },
   {
    "duration": 9,
    "start_time": "2023-03-01T14:56:22.621Z"
   },
   {
    "duration": 5,
    "start_time": "2023-03-01T14:56:22.631Z"
   },
   {
    "duration": 8,
    "start_time": "2023-03-01T14:56:22.638Z"
   },
   {
    "duration": 11,
    "start_time": "2023-03-01T14:56:22.648Z"
   },
   {
    "duration": 13,
    "start_time": "2023-03-01T14:56:22.660Z"
   },
   {
    "duration": 7,
    "start_time": "2023-03-01T14:56:22.674Z"
   },
   {
    "duration": 5,
    "start_time": "2023-03-01T14:56:22.682Z"
   },
   {
    "duration": 8,
    "start_time": "2023-03-01T14:56:22.689Z"
   },
   {
    "duration": 8,
    "start_time": "2023-03-01T14:56:22.699Z"
   },
   {
    "duration": 10,
    "start_time": "2023-03-01T14:56:22.709Z"
   },
   {
    "duration": 3943,
    "start_time": "2023-03-01T14:56:22.720Z"
   },
   {
    "duration": 4,
    "start_time": "2023-03-01T14:56:26.664Z"
   },
   {
    "duration": 21,
    "start_time": "2023-03-01T14:56:26.670Z"
   },
   {
    "duration": 27,
    "start_time": "2023-03-01T14:56:26.692Z"
   }
  ],
  "kernelspec": {
   "display_name": "Python 3 (ipykernel)",
   "language": "python",
   "name": "python3"
  },
  "language_info": {
   "codemirror_mode": {
    "name": "ipython",
    "version": 3
   },
   "file_extension": ".py",
   "mimetype": "text/x-python",
   "name": "python",
   "nbconvert_exporter": "python",
   "pygments_lexer": "ipython3",
   "version": "3.9.13"
  },
  "toc": {
   "base_numbering": 1,
   "nav_menu": {},
   "number_sections": true,
   "sideBar": true,
   "skip_h1_title": true,
   "title_cell": "Table of Contents",
   "title_sidebar": "Contents",
   "toc_cell": false,
   "toc_position": {
    "height": "calc(100% - 180px)",
    "left": "10px",
    "top": "150px",
    "width": "269.188px"
   },
   "toc_section_display": true,
   "toc_window_display": true
  }
 },
 "nbformat": 4,
 "nbformat_minor": 2
}
