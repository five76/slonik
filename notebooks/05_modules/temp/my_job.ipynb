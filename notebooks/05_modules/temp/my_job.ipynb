{
 "cells": [
  {
   "cell_type": "code",
   "execution_count": 1,
   "id": "5fbbac0c",
   "metadata": {},
   "outputs": [],
   "source": [
    "import csv\n",
    "import os\n",
    "import mybike\n"
   ]
  },
  {
   "cell_type": "code",
   "execution_count": 9,
   "id": "c366b5b7",
   "metadata": {},
   "outputs": [
    {
     "name": "stdout",
     "output_type": "stream",
     "text": [
      "Файл не существует\n"
     ]
    }
   ],
   "source": [
    "df = []\n",
    "file_name = 'bike_sales.csv'\n",
    "if os.path.exists(file_name) and os.path.isfile(file_name):\n",
    "    with open(file_name, encoding='utf-8') as f:\n",
    "        reader = csv.reader(f)\n",
    "        next(reader)\n",
    "        for row in reader:\n",
    "            df.append(row)\n",
    "else:\n",
    "    print('Файл не существует')"
   ]
  },
  {
   "cell_type": "code",
   "execution_count": 3,
   "id": "54c9c08f",
   "metadata": {},
   "outputs": [
    {
     "name": "stdout",
     "output_type": "stream",
     "text": [
      "['Philadelphia', 'Los Angeles', 'San Antonio', 'Houston', 'New York', 'Chicago', 'Phoenix']\n"
     ]
    }
   ],
   "source": [
    "my_city = mybike.define_city_sales(df[:])\n",
    "print(my_city)"
   ]
  },
  {
   "cell_type": "code",
   "execution_count": 4,
   "id": "1620bdce",
   "metadata": {},
   "outputs": [
    {
     "name": "stdout",
     "output_type": "stream",
     "text": [
      "110059479.44000015\n"
     ]
    }
   ],
   "source": [
    "print(mybike.calculate_sum_city('San Antonio',df[:]))"
   ]
  },
  {
   "cell_type": "code",
   "execution_count": 5,
   "id": "eef8d75f",
   "metadata": {},
   "outputs": [
    {
     "name": "stdout",
     "output_type": "stream",
     "text": [
      "111765829.45000073\n",
      "110340851.07999961\n",
      "110059479.44000015\n",
      "110427042.38999961\n",
      "113592473.94000022\n",
      "110388139.03999996\n",
      "111860419.61000007\n"
     ]
    }
   ],
   "source": [
    "for c in my_city:\n",
    "    print(mybike.calculate_sum_city(c,df[:]))"
   ]
  },
  {
   "cell_type": "code",
   "execution_count": 9,
   "id": "97e95dcb",
   "metadata": {},
   "outputs": [
    {
     "name": "stdout",
     "output_type": "stream",
     "text": [
      "['BMX', 'Cruiser', 'Electric Bike', 'Folding Bike', 'Hybrid Bike', 'Mountain Bike', 'Road Bike']\n"
     ]
    }
   ],
   "source": [
    "print(sorted(mybike.define_bike_model(df[:])))"
   ]
  },
  {
   "cell_type": "code",
   "execution_count": null,
   "id": "da38faad",
   "metadata": {},
   "outputs": [],
   "source": []
  },
  {
   "cell_type": "code",
   "execution_count": null,
   "id": "551ad1be",
   "metadata": {},
   "outputs": [],
   "source": []
  }
 ],
 "metadata": {
  "kernelspec": {
   "display_name": "Python 3 (ipykernel)",
   "language": "python",
   "name": "python3"
  },
  "language_info": {
   "codemirror_mode": {
    "name": "ipython",
    "version": 3
   },
   "file_extension": ".py",
   "mimetype": "text/x-python",
   "name": "python",
   "nbconvert_exporter": "python",
   "pygments_lexer": "ipython3",
   "version": "3.11.5"
  },
  "toc": {
   "base_numbering": 1,
   "nav_menu": {},
   "number_sections": true,
   "sideBar": true,
   "skip_h1_title": false,
   "title_cell": "Table of Contents",
   "title_sidebar": "Contents",
   "toc_cell": false,
   "toc_position": {},
   "toc_section_display": true,
   "toc_window_display": false
  }
 },
 "nbformat": 4,
 "nbformat_minor": 5
}
