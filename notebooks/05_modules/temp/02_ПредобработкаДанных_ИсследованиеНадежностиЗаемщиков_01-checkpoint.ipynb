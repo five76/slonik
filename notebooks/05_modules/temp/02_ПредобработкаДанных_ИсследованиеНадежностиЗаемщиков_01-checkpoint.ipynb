{
 "cells": [
  {
   "cell_type": "markdown",
   "id": "c81daeeb",
   "metadata": {
    "deletable": false,
    "editable": false,
    "id": "c81daeeb"
   },
   "source": [
    "# Исследование надежности заемщиков"
   ]
  },
  {
   "cell_type": "markdown",
   "id": "-G3EJWzf62s6",
   "metadata": {
    "deletable": false,
    "editable": false,
    "id": "-G3EJWzf62s6"
   },
   "source": [
    "Это первая часть проекта, она будет проверена автоматически. Вторую часть проверит ревьюер. "
   ]
  },
  {
   "cell_type": "markdown",
   "id": "744d7639",
   "metadata": {
    "deletable": false,
    "editable": false,
    "id": "744d7639"
   },
   "source": [
    "## Откройте таблицу и изучите общую информацию о данных"
   ]
  },
  {
   "cell_type": "markdown",
   "id": "e7a14c31",
   "metadata": {
    "deletable": false,
    "editable": false,
    "id": "e7a14c31",
    "tags": [
     "start_task"
    ]
   },
   "source": [
    "**Задание 1. Импортируйте библиотеку pandas. Считайте данные из csv-файла в датафрейм и сохраните в переменную `data`. Путь к файлу:**\n",
    "\n",
    "`/datasets/data.csv`"
   ]
  },
  {
   "cell_type": "code",
   "execution_count": 1,
   "id": "7bcf75c9",
   "metadata": {
    "id": "7bcf75c9"
   },
   "outputs": [],
   "source": [
    "# импортируйте библиотеку pandas\n",
    "import pandas as pd"
   ]
  },
  {
   "cell_type": "code",
   "execution_count": 2,
   "id": "4d240ee2",
   "metadata": {
    "id": "4d240ee2"
   },
   "outputs": [],
   "source": [
    "# прочитайте csv-файл\n",
    "data = pd.read_csv('/datasets/data.csv')"
   ]
  },
  {
   "cell_type": "markdown",
   "id": "b8038fe3",
   "metadata": {
    "deletable": false,
    "editable": false,
    "id": "b8038fe3",
    "tags": [
     "start_task"
    ]
   },
   "source": [
    "**Задание 2. Выведите первые 20 строчек датафрейма `data` на экран.**"
   ]
  },
  {
   "cell_type": "code",
   "execution_count": 3,
   "id": "2a7cab99",
   "metadata": {
    "id": "2a7cab99"
   },
   "outputs": [
    {
     "data": {
      "text/html": [
       "<div>\n",
       "<style scoped>\n",
       "    .dataframe tbody tr th:only-of-type {\n",
       "        vertical-align: middle;\n",
       "    }\n",
       "\n",
       "    .dataframe tbody tr th {\n",
       "        vertical-align: top;\n",
       "    }\n",
       "\n",
       "    .dataframe thead th {\n",
       "        text-align: right;\n",
       "    }\n",
       "</style>\n",
       "<table border=\"1\" class=\"dataframe\">\n",
       "  <thead>\n",
       "    <tr style=\"text-align: right;\">\n",
       "      <th></th>\n",
       "      <th>children</th>\n",
       "      <th>days_employed</th>\n",
       "      <th>dob_years</th>\n",
       "      <th>education</th>\n",
       "      <th>education_id</th>\n",
       "      <th>family_status</th>\n",
       "      <th>family_status_id</th>\n",
       "      <th>gender</th>\n",
       "      <th>income_type</th>\n",
       "      <th>debt</th>\n",
       "      <th>total_income</th>\n",
       "      <th>purpose</th>\n",
       "    </tr>\n",
       "  </thead>\n",
       "  <tbody>\n",
       "    <tr>\n",
       "      <th>0</th>\n",
       "      <td>1</td>\n",
       "      <td>-8437.673028</td>\n",
       "      <td>42</td>\n",
       "      <td>высшее</td>\n",
       "      <td>0</td>\n",
       "      <td>женат / замужем</td>\n",
       "      <td>0</td>\n",
       "      <td>F</td>\n",
       "      <td>сотрудник</td>\n",
       "      <td>0</td>\n",
       "      <td>253875.639453</td>\n",
       "      <td>покупка жилья</td>\n",
       "    </tr>\n",
       "    <tr>\n",
       "      <th>1</th>\n",
       "      <td>1</td>\n",
       "      <td>-4024.803754</td>\n",
       "      <td>36</td>\n",
       "      <td>среднее</td>\n",
       "      <td>1</td>\n",
       "      <td>женат / замужем</td>\n",
       "      <td>0</td>\n",
       "      <td>F</td>\n",
       "      <td>сотрудник</td>\n",
       "      <td>0</td>\n",
       "      <td>112080.014102</td>\n",
       "      <td>приобретение автомобиля</td>\n",
       "    </tr>\n",
       "    <tr>\n",
       "      <th>2</th>\n",
       "      <td>0</td>\n",
       "      <td>-5623.422610</td>\n",
       "      <td>33</td>\n",
       "      <td>Среднее</td>\n",
       "      <td>1</td>\n",
       "      <td>женат / замужем</td>\n",
       "      <td>0</td>\n",
       "      <td>M</td>\n",
       "      <td>сотрудник</td>\n",
       "      <td>0</td>\n",
       "      <td>145885.952297</td>\n",
       "      <td>покупка жилья</td>\n",
       "    </tr>\n",
       "    <tr>\n",
       "      <th>3</th>\n",
       "      <td>3</td>\n",
       "      <td>-4124.747207</td>\n",
       "      <td>32</td>\n",
       "      <td>среднее</td>\n",
       "      <td>1</td>\n",
       "      <td>женат / замужем</td>\n",
       "      <td>0</td>\n",
       "      <td>M</td>\n",
       "      <td>сотрудник</td>\n",
       "      <td>0</td>\n",
       "      <td>267628.550329</td>\n",
       "      <td>дополнительное образование</td>\n",
       "    </tr>\n",
       "    <tr>\n",
       "      <th>4</th>\n",
       "      <td>0</td>\n",
       "      <td>340266.072047</td>\n",
       "      <td>53</td>\n",
       "      <td>среднее</td>\n",
       "      <td>1</td>\n",
       "      <td>гражданский брак</td>\n",
       "      <td>1</td>\n",
       "      <td>F</td>\n",
       "      <td>пенсионер</td>\n",
       "      <td>0</td>\n",
       "      <td>158616.077870</td>\n",
       "      <td>сыграть свадьбу</td>\n",
       "    </tr>\n",
       "    <tr>\n",
       "      <th>5</th>\n",
       "      <td>0</td>\n",
       "      <td>-926.185831</td>\n",
       "      <td>27</td>\n",
       "      <td>высшее</td>\n",
       "      <td>0</td>\n",
       "      <td>гражданский брак</td>\n",
       "      <td>1</td>\n",
       "      <td>M</td>\n",
       "      <td>компаньон</td>\n",
       "      <td>0</td>\n",
       "      <td>255763.565419</td>\n",
       "      <td>покупка жилья</td>\n",
       "    </tr>\n",
       "    <tr>\n",
       "      <th>6</th>\n",
       "      <td>0</td>\n",
       "      <td>-2879.202052</td>\n",
       "      <td>43</td>\n",
       "      <td>высшее</td>\n",
       "      <td>0</td>\n",
       "      <td>женат / замужем</td>\n",
       "      <td>0</td>\n",
       "      <td>F</td>\n",
       "      <td>компаньон</td>\n",
       "      <td>0</td>\n",
       "      <td>240525.971920</td>\n",
       "      <td>операции с жильем</td>\n",
       "    </tr>\n",
       "    <tr>\n",
       "      <th>7</th>\n",
       "      <td>0</td>\n",
       "      <td>-152.779569</td>\n",
       "      <td>50</td>\n",
       "      <td>СРЕДНЕЕ</td>\n",
       "      <td>1</td>\n",
       "      <td>женат / замужем</td>\n",
       "      <td>0</td>\n",
       "      <td>M</td>\n",
       "      <td>сотрудник</td>\n",
       "      <td>0</td>\n",
       "      <td>135823.934197</td>\n",
       "      <td>образование</td>\n",
       "    </tr>\n",
       "    <tr>\n",
       "      <th>8</th>\n",
       "      <td>2</td>\n",
       "      <td>-6929.865299</td>\n",
       "      <td>35</td>\n",
       "      <td>ВЫСШЕЕ</td>\n",
       "      <td>0</td>\n",
       "      <td>гражданский брак</td>\n",
       "      <td>1</td>\n",
       "      <td>F</td>\n",
       "      <td>сотрудник</td>\n",
       "      <td>0</td>\n",
       "      <td>95856.832424</td>\n",
       "      <td>на проведение свадьбы</td>\n",
       "    </tr>\n",
       "    <tr>\n",
       "      <th>9</th>\n",
       "      <td>0</td>\n",
       "      <td>-2188.756445</td>\n",
       "      <td>41</td>\n",
       "      <td>среднее</td>\n",
       "      <td>1</td>\n",
       "      <td>женат / замужем</td>\n",
       "      <td>0</td>\n",
       "      <td>M</td>\n",
       "      <td>сотрудник</td>\n",
       "      <td>0</td>\n",
       "      <td>144425.938277</td>\n",
       "      <td>покупка жилья для семьи</td>\n",
       "    </tr>\n",
       "    <tr>\n",
       "      <th>10</th>\n",
       "      <td>2</td>\n",
       "      <td>-4171.483647</td>\n",
       "      <td>36</td>\n",
       "      <td>высшее</td>\n",
       "      <td>0</td>\n",
       "      <td>женат / замужем</td>\n",
       "      <td>0</td>\n",
       "      <td>M</td>\n",
       "      <td>компаньон</td>\n",
       "      <td>0</td>\n",
       "      <td>113943.491460</td>\n",
       "      <td>покупка недвижимости</td>\n",
       "    </tr>\n",
       "    <tr>\n",
       "      <th>11</th>\n",
       "      <td>0</td>\n",
       "      <td>-792.701887</td>\n",
       "      <td>40</td>\n",
       "      <td>среднее</td>\n",
       "      <td>1</td>\n",
       "      <td>женат / замужем</td>\n",
       "      <td>0</td>\n",
       "      <td>F</td>\n",
       "      <td>сотрудник</td>\n",
       "      <td>0</td>\n",
       "      <td>77069.234271</td>\n",
       "      <td>покупка коммерческой недвижимости</td>\n",
       "    </tr>\n",
       "    <tr>\n",
       "      <th>12</th>\n",
       "      <td>0</td>\n",
       "      <td>NaN</td>\n",
       "      <td>65</td>\n",
       "      <td>среднее</td>\n",
       "      <td>1</td>\n",
       "      <td>гражданский брак</td>\n",
       "      <td>1</td>\n",
       "      <td>M</td>\n",
       "      <td>пенсионер</td>\n",
       "      <td>0</td>\n",
       "      <td>NaN</td>\n",
       "      <td>сыграть свадьбу</td>\n",
       "    </tr>\n",
       "    <tr>\n",
       "      <th>13</th>\n",
       "      <td>0</td>\n",
       "      <td>-1846.641941</td>\n",
       "      <td>54</td>\n",
       "      <td>неоконченное высшее</td>\n",
       "      <td>2</td>\n",
       "      <td>женат / замужем</td>\n",
       "      <td>0</td>\n",
       "      <td>F</td>\n",
       "      <td>сотрудник</td>\n",
       "      <td>0</td>\n",
       "      <td>130458.228857</td>\n",
       "      <td>приобретение автомобиля</td>\n",
       "    </tr>\n",
       "    <tr>\n",
       "      <th>14</th>\n",
       "      <td>0</td>\n",
       "      <td>-1844.956182</td>\n",
       "      <td>56</td>\n",
       "      <td>высшее</td>\n",
       "      <td>0</td>\n",
       "      <td>гражданский брак</td>\n",
       "      <td>1</td>\n",
       "      <td>F</td>\n",
       "      <td>компаньон</td>\n",
       "      <td>1</td>\n",
       "      <td>165127.911772</td>\n",
       "      <td>покупка жилой недвижимости</td>\n",
       "    </tr>\n",
       "    <tr>\n",
       "      <th>15</th>\n",
       "      <td>1</td>\n",
       "      <td>-972.364419</td>\n",
       "      <td>26</td>\n",
       "      <td>среднее</td>\n",
       "      <td>1</td>\n",
       "      <td>женат / замужем</td>\n",
       "      <td>0</td>\n",
       "      <td>F</td>\n",
       "      <td>сотрудник</td>\n",
       "      <td>0</td>\n",
       "      <td>116820.904450</td>\n",
       "      <td>строительство собственной недвижимости</td>\n",
       "    </tr>\n",
       "    <tr>\n",
       "      <th>16</th>\n",
       "      <td>0</td>\n",
       "      <td>-1719.934226</td>\n",
       "      <td>35</td>\n",
       "      <td>среднее</td>\n",
       "      <td>1</td>\n",
       "      <td>женат / замужем</td>\n",
       "      <td>0</td>\n",
       "      <td>F</td>\n",
       "      <td>сотрудник</td>\n",
       "      <td>0</td>\n",
       "      <td>289202.704229</td>\n",
       "      <td>недвижимость</td>\n",
       "    </tr>\n",
       "    <tr>\n",
       "      <th>17</th>\n",
       "      <td>0</td>\n",
       "      <td>-2369.999720</td>\n",
       "      <td>33</td>\n",
       "      <td>высшее</td>\n",
       "      <td>0</td>\n",
       "      <td>гражданский брак</td>\n",
       "      <td>1</td>\n",
       "      <td>M</td>\n",
       "      <td>сотрудник</td>\n",
       "      <td>0</td>\n",
       "      <td>90410.586745</td>\n",
       "      <td>строительство недвижимости</td>\n",
       "    </tr>\n",
       "    <tr>\n",
       "      <th>18</th>\n",
       "      <td>0</td>\n",
       "      <td>400281.136913</td>\n",
       "      <td>53</td>\n",
       "      <td>среднее</td>\n",
       "      <td>1</td>\n",
       "      <td>вдовец / вдова</td>\n",
       "      <td>2</td>\n",
       "      <td>F</td>\n",
       "      <td>пенсионер</td>\n",
       "      <td>0</td>\n",
       "      <td>56823.777243</td>\n",
       "      <td>на покупку подержанного автомобиля</td>\n",
       "    </tr>\n",
       "    <tr>\n",
       "      <th>19</th>\n",
       "      <td>0</td>\n",
       "      <td>-10038.818549</td>\n",
       "      <td>48</td>\n",
       "      <td>СРЕДНЕЕ</td>\n",
       "      <td>1</td>\n",
       "      <td>в разводе</td>\n",
       "      <td>3</td>\n",
       "      <td>F</td>\n",
       "      <td>сотрудник</td>\n",
       "      <td>0</td>\n",
       "      <td>242831.107982</td>\n",
       "      <td>на покупку своего автомобиля</td>\n",
       "    </tr>\n",
       "  </tbody>\n",
       "</table>\n",
       "</div>"
      ],
      "text/plain": [
       "    children  days_employed  dob_years            education  education_id  \\\n",
       "0          1   -8437.673028         42               высшее             0   \n",
       "1          1   -4024.803754         36              среднее             1   \n",
       "2          0   -5623.422610         33              Среднее             1   \n",
       "3          3   -4124.747207         32              среднее             1   \n",
       "4          0  340266.072047         53              среднее             1   \n",
       "5          0    -926.185831         27               высшее             0   \n",
       "6          0   -2879.202052         43               высшее             0   \n",
       "7          0    -152.779569         50              СРЕДНЕЕ             1   \n",
       "8          2   -6929.865299         35               ВЫСШЕЕ             0   \n",
       "9          0   -2188.756445         41              среднее             1   \n",
       "10         2   -4171.483647         36               высшее             0   \n",
       "11         0    -792.701887         40              среднее             1   \n",
       "12         0            NaN         65              среднее             1   \n",
       "13         0   -1846.641941         54  неоконченное высшее             2   \n",
       "14         0   -1844.956182         56               высшее             0   \n",
       "15         1    -972.364419         26              среднее             1   \n",
       "16         0   -1719.934226         35              среднее             1   \n",
       "17         0   -2369.999720         33               высшее             0   \n",
       "18         0  400281.136913         53              среднее             1   \n",
       "19         0  -10038.818549         48              СРЕДНЕЕ             1   \n",
       "\n",
       "       family_status  family_status_id gender income_type  debt  \\\n",
       "0    женат / замужем                 0      F   сотрудник     0   \n",
       "1    женат / замужем                 0      F   сотрудник     0   \n",
       "2    женат / замужем                 0      M   сотрудник     0   \n",
       "3    женат / замужем                 0      M   сотрудник     0   \n",
       "4   гражданский брак                 1      F   пенсионер     0   \n",
       "5   гражданский брак                 1      M   компаньон     0   \n",
       "6    женат / замужем                 0      F   компаньон     0   \n",
       "7    женат / замужем                 0      M   сотрудник     0   \n",
       "8   гражданский брак                 1      F   сотрудник     0   \n",
       "9    женат / замужем                 0      M   сотрудник     0   \n",
       "10   женат / замужем                 0      M   компаньон     0   \n",
       "11   женат / замужем                 0      F   сотрудник     0   \n",
       "12  гражданский брак                 1      M   пенсионер     0   \n",
       "13   женат / замужем                 0      F   сотрудник     0   \n",
       "14  гражданский брак                 1      F   компаньон     1   \n",
       "15   женат / замужем                 0      F   сотрудник     0   \n",
       "16   женат / замужем                 0      F   сотрудник     0   \n",
       "17  гражданский брак                 1      M   сотрудник     0   \n",
       "18    вдовец / вдова                 2      F   пенсионер     0   \n",
       "19         в разводе                 3      F   сотрудник     0   \n",
       "\n",
       "     total_income                                 purpose  \n",
       "0   253875.639453                           покупка жилья  \n",
       "1   112080.014102                 приобретение автомобиля  \n",
       "2   145885.952297                           покупка жилья  \n",
       "3   267628.550329              дополнительное образование  \n",
       "4   158616.077870                         сыграть свадьбу  \n",
       "5   255763.565419                           покупка жилья  \n",
       "6   240525.971920                       операции с жильем  \n",
       "7   135823.934197                             образование  \n",
       "8    95856.832424                   на проведение свадьбы  \n",
       "9   144425.938277                 покупка жилья для семьи  \n",
       "10  113943.491460                    покупка недвижимости  \n",
       "11   77069.234271       покупка коммерческой недвижимости  \n",
       "12            NaN                         сыграть свадьбу  \n",
       "13  130458.228857                 приобретение автомобиля  \n",
       "14  165127.911772              покупка жилой недвижимости  \n",
       "15  116820.904450  строительство собственной недвижимости  \n",
       "16  289202.704229                            недвижимость  \n",
       "17   90410.586745              строительство недвижимости  \n",
       "18   56823.777243      на покупку подержанного автомобиля  \n",
       "19  242831.107982            на покупку своего автомобиля  "
      ]
     },
     "execution_count": 3,
     "metadata": {},
     "output_type": "execute_result"
    }
   ],
   "source": [
    "# ваш код здесь\n",
    "data.head(20)"
   ]
  },
  {
   "cell_type": "markdown",
   "id": "1c12e233",
   "metadata": {
    "deletable": false,
    "editable": false,
    "id": "1c12e233",
    "tags": [
     "start_task"
    ]
   },
   "source": [
    "**Задание 3. Выведите основную информацию о датафрейме с помощью метода `info()`.**"
   ]
  },
  {
   "cell_type": "code",
   "execution_count": 4,
   "id": "2b757bca",
   "metadata": {
    "id": "2b757bca"
   },
   "outputs": [
    {
     "name": "stdout",
     "output_type": "stream",
     "text": [
      "<class 'pandas.core.frame.DataFrame'>\n",
      "RangeIndex: 21525 entries, 0 to 21524\n",
      "Data columns (total 12 columns):\n",
      " #   Column            Non-Null Count  Dtype  \n",
      "---  ------            --------------  -----  \n",
      " 0   children          21525 non-null  int64  \n",
      " 1   days_employed     19351 non-null  float64\n",
      " 2   dob_years         21525 non-null  int64  \n",
      " 3   education         21525 non-null  object \n",
      " 4   education_id      21525 non-null  int64  \n",
      " 5   family_status     21525 non-null  object \n",
      " 6   family_status_id  21525 non-null  int64  \n",
      " 7   gender            21525 non-null  object \n",
      " 8   income_type       21525 non-null  object \n",
      " 9   debt              21525 non-null  int64  \n",
      " 10  total_income      19351 non-null  float64\n",
      " 11  purpose           21525 non-null  object \n",
      "dtypes: float64(2), int64(5), object(5)\n",
      "memory usage: 2.0+ MB\n"
     ]
    }
   ],
   "source": [
    "# ваш код здесь\n",
    "data.info()"
   ]
  },
  {
   "cell_type": "markdown",
   "id": "333ec665",
   "metadata": {
    "deletable": false,
    "editable": false,
    "id": "333ec665"
   },
   "source": [
    "## Предобработка данных"
   ]
  },
  {
   "cell_type": "markdown",
   "id": "02d92d53",
   "metadata": {
    "deletable": false,
    "editable": false,
    "id": "02d92d53"
   },
   "source": [
    "### Удаление пропусков"
   ]
  },
  {
   "cell_type": "markdown",
   "id": "cd84967c",
   "metadata": {
    "deletable": false,
    "editable": false,
    "id": "cd84967c",
    "tags": [
     "start_task"
    ]
   },
   "source": [
    "**Задание 4. Выведите количество пропущенных значений для каждого столбца. Используйте комбинацию двух методов.**"
   ]
  },
  {
   "cell_type": "code",
   "execution_count": 5,
   "id": "7f9b2309",
   "metadata": {
    "id": "7f9b2309"
   },
   "outputs": [
    {
     "data": {
      "text/plain": [
       "children               0\n",
       "days_employed       2174\n",
       "dob_years              0\n",
       "education              0\n",
       "education_id           0\n",
       "family_status          0\n",
       "family_status_id       0\n",
       "gender                 0\n",
       "income_type            0\n",
       "debt                   0\n",
       "total_income        2174\n",
       "purpose                0\n",
       "dtype: int64"
      ]
     },
     "execution_count": 5,
     "metadata": {},
     "output_type": "execute_result"
    }
   ],
   "source": [
    "# ваш код здесь\n",
    "data.isna().sum()"
   ]
  },
  {
   "cell_type": "markdown",
   "id": "db86e27b",
   "metadata": {
    "deletable": false,
    "editable": false,
    "id": "db86e27b",
    "tags": [
     "start_task"
    ]
   },
   "source": [
    "**Задание 5. В двух столбцах есть пропущенные значения. Один из них — `days_employed`. Пропуски в этом столбце вы обработаете на следующем этапе. Другой столбец с пропущенными значениями — `total_income` — хранит данные о доходах. На сумму дохода сильнее всего влияет тип занятости, поэтому заполнить пропуски в этом столбце нужно медианным значением по каждому типу из столбца `income_type`. Например, у человека с типом занятости `сотрудник` пропуск в столбце `total_income` должен быть заполнен медианным доходом среди всех записей с тем же типом.**"
   ]
  },
  {
   "cell_type": "code",
   "execution_count": 6,
   "id": "42006a93",
   "metadata": {
    "id": "42006a93"
   },
   "outputs": [],
   "source": [
    "# ваш код здесь\n",
    "type_income_list = data['income_type'].unique()\n",
    "for i in type_income_list:\n",
    "    rows = (data['income_type'] == i) & (data['total_income'].isna())\n",
    "    data.loc[rows,'total_income'] = data.loc[data['income_type'] == i, 'total_income'].median()\n"
   ]
  },
  {
   "cell_type": "markdown",
   "id": "89da5ece",
   "metadata": {
    "deletable": false,
    "editable": false,
    "id": "89da5ece"
   },
   "source": [
    "### Обработка аномальных значений"
   ]
  },
  {
   "cell_type": "markdown",
   "id": "57964554",
   "metadata": {
    "deletable": false,
    "editable": false,
    "id": "57964554",
    "tags": [
     "start_task"
    ]
   },
   "source": [
    "**Задание 6. В данных могут встречаться артефакты (аномалии) — значения, которые не отражают действительность и появились по какой-то ошибке. Таким артефактом будет отрицательное количество дней трудового стажа в столбце `days_employed`. Для реальных данных это нормально. Обработайте значения в этом столбце: замените все отрицательные значения положительными с помощью метода `abs()`.**"
   ]
  },
  {
   "cell_type": "code",
   "execution_count": 7,
   "id": "f6f055bf",
   "metadata": {
    "id": "f6f055bf"
   },
   "outputs": [],
   "source": [
    "# ваш код здесь\n",
    "data['days_employed'] = abs(data['days_employed'])"
   ]
  },
  {
   "cell_type": "markdown",
   "id": "6107dd2f",
   "metadata": {
    "deletable": false,
    "editable": false,
    "id": "6107dd2f",
    "tags": [
     "start_task"
    ]
   },
   "source": [
    "**Задание 7. Для каждого типа занятости выведите медианное значение трудового стажа `days_employed` в днях.**"
   ]
  },
  {
   "cell_type": "code",
   "execution_count": 8,
   "id": "85a5faf6",
   "metadata": {
    "id": "85a5faf6"
   },
   "outputs": [
    {
     "name": "stdout",
     "output_type": "stream",
     "text": [
      "income_type\n",
      "безработный        366413.652744\n",
      "в декрете            3296.759962\n",
      "госслужащий          2689.368353\n",
      "компаньон            1547.382223\n",
      "пенсионер          365213.306266\n",
      "предприниматель       520.848083\n",
      "сотрудник            1574.202821\n",
      "студент               578.751554\n",
      "Name: days_employed, dtype: float64\n"
     ]
    }
   ],
   "source": [
    "# ваш код здесь\n",
    "print(data.groupby('income_type')['days_employed'].median())"
   ]
  },
  {
   "cell_type": "markdown",
   "id": "38d1a030",
   "metadata": {
    "deletable": false,
    "editable": false,
    "id": "38d1a030"
   },
   "source": [
    "У двух типов (безработные и пенсионеры) получатся аномально большие значения. Исправить такие значения сложно, поэтому оставьте их как есть. Тем более этот столбец не понадобится вам для исследования."
   ]
  },
  {
   "cell_type": "markdown",
   "id": "d8a9f147",
   "metadata": {
    "deletable": false,
    "editable": false,
    "id": "d8a9f147",
    "tags": [
     "start_task"
    ]
   },
   "source": [
    "**Задание 8. Выведите перечень уникальных значений столбца `children`.**"
   ]
  },
  {
   "cell_type": "code",
   "execution_count": 9,
   "id": "ef5056eb",
   "metadata": {
    "id": "ef5056eb"
   },
   "outputs": [
    {
     "name": "stdout",
     "output_type": "stream",
     "text": [
      "[ 1  0  3  2 -1  4 20  5]\n"
     ]
    }
   ],
   "source": [
    "# ваш код здесь\n",
    "print(data['children'].unique())"
   ]
  },
  {
   "cell_type": "markdown",
   "id": "40b9ebf2",
   "metadata": {
    "deletable": false,
    "editable": false,
    "id": "40b9ebf2",
    "tags": [
     "start_task"
    ]
   },
   "source": [
    "**Задание 9. В столбце `children` есть два аномальных значения. Удалите строки, в которых встречаются такие аномальные значения из датафрейма `data`.**"
   ]
  },
  {
   "cell_type": "code",
   "execution_count": 10,
   "id": "3ff9801d",
   "metadata": {
    "id": "3ff9801d"
   },
   "outputs": [],
   "source": [
    "# ваш код здесь\n",
    "data = data.loc[(data['children'] != -1) & (data['children'] != 20)]"
   ]
  },
  {
   "cell_type": "markdown",
   "id": "bbc4d0ce",
   "metadata": {
    "deletable": false,
    "editable": false,
    "id": "bbc4d0ce",
    "tags": [
     "start_task"
    ]
   },
   "source": [
    "**Задание 10. Ещё раз выведите перечень уникальных значений столбца `children`, чтобы убедиться, что артефакты удалены.**"
   ]
  },
  {
   "cell_type": "code",
   "execution_count": 11,
   "id": "ad4fa8b7",
   "metadata": {
    "id": "ad4fa8b7"
   },
   "outputs": [
    {
     "name": "stdout",
     "output_type": "stream",
     "text": [
      "[1 0 3 2 4 5]\n"
     ]
    }
   ],
   "source": [
    "# ваш код здесь\n",
    "print(data['children'].unique())"
   ]
  },
  {
   "cell_type": "markdown",
   "id": "75440b63",
   "metadata": {
    "deletable": false,
    "editable": false,
    "id": "75440b63"
   },
   "source": [
    "### Удаление пропусков (продолжение)"
   ]
  },
  {
   "cell_type": "markdown",
   "id": "f4ea573f",
   "metadata": {
    "deletable": false,
    "editable": false,
    "id": "f4ea573f",
    "tags": [
     "start_task"
    ]
   },
   "source": [
    "**Задание 11. Заполните пропуски в столбце `days_employed` медианными значениями по каждому типу занятости `income_type`.**"
   ]
  },
  {
   "cell_type": "code",
   "execution_count": 12,
   "id": "af6b1a7e",
   "metadata": {
    "id": "af6b1a7e"
   },
   "outputs": [],
   "source": [
    "# ваш код здесь\n",
    "for i in type_income_list:\n",
    "    rows = (data['income_type'] == i) & (data['days_employed'].isna())\n",
    "    data.loc[rows,'days_employed'] = data.loc[data['income_type'] == i, 'days_employed'].median()"
   ]
  },
  {
   "cell_type": "markdown",
   "id": "2753f40d",
   "metadata": {
    "deletable": false,
    "editable": false,
    "id": "2753f40d",
    "tags": [
     "start_task"
    ]
   },
   "source": [
    "**Задание 12. Убедитесь, что все пропуски заполнены. Проверьте себя и ещё раз выведите количество пропущенных значений для каждого столбца с помощью двух методов.**"
   ]
  },
  {
   "cell_type": "code",
   "execution_count": 13,
   "id": "55f78bc2",
   "metadata": {
    "id": "55f78bc2"
   },
   "outputs": [
    {
     "data": {
      "text/plain": [
       "children            0\n",
       "days_employed       0\n",
       "dob_years           0\n",
       "education           0\n",
       "education_id        0\n",
       "family_status       0\n",
       "family_status_id    0\n",
       "gender              0\n",
       "income_type         0\n",
       "debt                0\n",
       "total_income        0\n",
       "purpose             0\n",
       "dtype: int64"
      ]
     },
     "execution_count": 13,
     "metadata": {},
     "output_type": "execute_result"
    }
   ],
   "source": [
    "# ваш код здесь\n",
    "data.isna().sum()"
   ]
  },
  {
   "cell_type": "markdown",
   "id": "ddc81e43",
   "metadata": {
    "deletable": false,
    "editable": false,
    "id": "ddc81e43"
   },
   "source": [
    "### Изменение типов данных"
   ]
  },
  {
   "cell_type": "markdown",
   "id": "42d19d24",
   "metadata": {
    "deletable": false,
    "editable": false,
    "id": "42d19d24",
    "tags": [
     "start_task"
    ]
   },
   "source": [
    "**Задание 13. Замените вещественный тип данных в столбце `total_income` на целочисленный с помощью метода `astype()`.**"
   ]
  },
  {
   "cell_type": "code",
   "execution_count": 14,
   "id": "920b65ad",
   "metadata": {
    "id": "920b65ad"
   },
   "outputs": [],
   "source": [
    "# ваш код здесь\n",
    "data['total_income'] = data['total_income'].astype('int')"
   ]
  },
  {
   "cell_type": "markdown",
   "id": "80c420ba",
   "metadata": {
    "deletable": false,
    "editable": false,
    "id": "80c420ba"
   },
   "source": [
    "### Обработка дубликатов"
   ]
  },
  {
   "cell_type": "markdown",
   "id": "dc587695",
   "metadata": {
    "deletable": false,
    "editable": false,
    "id": "dc587695",
    "tags": [
     "start_task"
    ]
   },
   "source": [
    "**Задание 14. Обработайте неявные дубликаты в столбце `education`. В этом столбце есть одни и те же значения, но записанные по-разному: с использованием заглавных и строчных букв. Приведите их к нижнему регистру.**"
   ]
  },
  {
   "cell_type": "code",
   "execution_count": 15,
   "id": "a9f8e2bf",
   "metadata": {
    "id": "a9f8e2bf"
   },
   "outputs": [],
   "source": [
    "# ваш код здесь\n",
    "data['education'] = data['education'].str.lower()"
   ]
  },
  {
   "cell_type": "markdown",
   "id": "9771a76c",
   "metadata": {
    "deletable": false,
    "editable": false,
    "id": "9771a76c",
    "tags": [
     "start_task"
    ]
   },
   "source": [
    "**Задание 15. Выведите на экран количество строк-дубликатов в данных. Если такие строки присутствуют, удалите их. Сбрасывать индексы после удаления строк дубликатов с помощью `reset_index(drop=True)` здесь не требуется.**"
   ]
  },
  {
   "cell_type": "code",
   "execution_count": 16,
   "id": "3ee445e4",
   "metadata": {
    "id": "3ee445e4"
   },
   "outputs": [
    {
     "data": {
      "text/plain": [
       "71"
      ]
     },
     "execution_count": 16,
     "metadata": {},
     "output_type": "execute_result"
    }
   ],
   "source": [
    "# посчитайте дубликаты\n",
    "data.duplicated().sum()"
   ]
  },
  {
   "cell_type": "code",
   "execution_count": 17,
   "id": "8575fe05",
   "metadata": {
    "id": "8575fe05"
   },
   "outputs": [],
   "source": [
    "# удалите дубликаты\n",
    "data = data.drop_duplicates()"
   ]
  },
  {
   "cell_type": "markdown",
   "id": "9904cf55",
   "metadata": {
    "deletable": false,
    "editable": false,
    "id": "9904cf55"
   },
   "source": [
    "### Категоризация данных"
   ]
  },
  {
   "cell_type": "markdown",
   "id": "72fcc8a2",
   "metadata": {
    "deletable": false,
    "editable": false,
    "id": "72fcc8a2",
    "tags": [
     "start_task"
    ]
   },
   "source": [
    "**Задание 16. На основании диапазонов, указанных ниже, создайте в датафрейме `data` столбец `total_income_category` с категориями:**\n",
    "\n",
    "- 0–30000 — `'E'`;\n",
    "- 30001–50000 — `'D'`;\n",
    "- 50001–200000 — `'C'`;\n",
    "- 200001–1000000 — `'B'`;\n",
    "- 1000001 и выше — `'A'`.\n",
    "\n",
    "\n",
    "**Например, кредитополучателю с доходом 25000 нужно назначить категорию `'E'`, а клиенту, получающему 235000, — `'B'`. Используйте собственную функцию с именем `categorize_income()` и метод `apply()`.**"
   ]
  },
  {
   "cell_type": "code",
   "execution_count": 18,
   "id": "e1771346",
   "metadata": {
    "id": "e1771346"
   },
   "outputs": [],
   "source": [
    "# создайте функцию categorize_income()\n",
    "\n",
    "def categorize_income(total_income):\n",
    "    if 0 <= total_income <= 30000:\n",
    "        return 'E'\n",
    "    elif 30001 <= total_income <= 50000:\n",
    "        \n",
    "        return 'D'\n",
    "    elif 50001 <= total_income <= 200000:\n",
    "        return 'C'\n",
    "    elif 200001 <= total_income <= 1000000:\n",
    "        return 'B'\n",
    "    else:\n",
    "        return 'A'"
   ]
  },
  {
   "cell_type": "code",
   "execution_count": 19,
   "id": "d5f3586d",
   "metadata": {
    "id": "d5f3586d"
   },
   "outputs": [],
   "source": [
    "# примените функцию методом apply()\n",
    "# отключение цепочки - начзнаяения за один шаг\n",
    "pd.options.mode.chained_assignment = None\n",
    "data['total_income_category'] = data['total_income'].apply(categorize_income)"
   ]
  },
  {
   "cell_type": "markdown",
   "id": "dde49b5c",
   "metadata": {
    "deletable": false,
    "editable": false,
    "id": "dde49b5c",
    "tags": [
     "start_task"
    ]
   },
   "source": [
    "**Задание 17. Выведите на экран перечень уникальных целей взятия кредита из столбца `purpose`.**"
   ]
  },
  {
   "cell_type": "code",
   "execution_count": 20,
   "id": "f67ce9b3",
   "metadata": {
    "id": "f67ce9b3"
   },
   "outputs": [
    {
     "name": "stdout",
     "output_type": "stream",
     "text": [
      "['покупка жилья' 'приобретение автомобиля' 'дополнительное образование'\n",
      " 'сыграть свадьбу' 'операции с жильем' 'образование'\n",
      " 'на проведение свадьбы' 'покупка жилья для семьи' 'покупка недвижимости'\n",
      " 'покупка коммерческой недвижимости' 'покупка жилой недвижимости'\n",
      " 'строительство собственной недвижимости' 'недвижимость'\n",
      " 'строительство недвижимости' 'на покупку подержанного автомобиля'\n",
      " 'на покупку своего автомобиля' 'операции с коммерческой недвижимостью'\n",
      " 'строительство жилой недвижимости' 'жилье'\n",
      " 'операции со своей недвижимостью' 'автомобили' 'заняться образованием'\n",
      " 'сделка с подержанным автомобилем' 'получение образования' 'автомобиль'\n",
      " 'свадьба' 'получение дополнительного образования' 'покупка своего жилья'\n",
      " 'операции с недвижимостью' 'получение высшего образования'\n",
      " 'свой автомобиль' 'сделка с автомобилем' 'профильное образование'\n",
      " 'высшее образование' 'покупка жилья для сдачи' 'на покупку автомобиля'\n",
      " 'ремонт жилью' 'заняться высшим образованием']\n"
     ]
    }
   ],
   "source": [
    "# ваш код здесь\n",
    "print(data['purpose'].unique())"
   ]
  },
  {
   "cell_type": "markdown",
   "id": "85d0aef0",
   "metadata": {
    "deletable": false,
    "editable": false,
    "id": "85d0aef0",
    "tags": [
     "start_task"
    ]
   },
   "source": [
    "**Задание 18. Создайте функцию, которая на основании данных из столбца `purpose` сформирует новый столбец `purpose_category`, в который войдут следующие категории:**\n",
    "\n",
    "- `'операции с автомобилем'`,\n",
    "- `'операции с недвижимостью'`,\n",
    "- `'проведение свадьбы'`,\n",
    "- `'получение образования'`.\n",
    "\n",
    "**Например, если в столбце `purpose` находится подстрока `'на покупку автомобиля'`, то в столбце `purpose_category` должна появиться строка `'операции с автомобилем'`.**\n",
    "\n",
    "**Используйте собственную функцию с именем `categorize_purpose()` и метод `apply()`. Изучите данные в столбце `purpose` и определите, какие подстроки помогут вам правильно определить категорию.**"
   ]
  },
  {
   "cell_type": "code",
   "execution_count": 21,
   "id": "e149fab4",
   "metadata": {
    "id": "e149fab4"
   },
   "outputs": [],
   "source": [
    "# создайте функцию categorize_purpose()\n",
    "def categorize_purpose(purpose):\n",
    "    if 'авто' in purpose:\n",
    "        return 'операции с автомобилем'\n",
    "    elif 'недв' in purpose or 'жиль' in purpose:\n",
    "        return 'операции с недвижимостью'\n",
    "    elif 'свадь' in purpose:\n",
    "        return 'проведение свадьбы'\n",
    "    elif 'образ' in purpose:\n",
    "        return 'получение образования'"
   ]
  },
  {
   "cell_type": "code",
   "execution_count": 22,
   "id": "bf36e69b",
   "metadata": {
    "id": "bf36e69b"
   },
   "outputs": [],
   "source": [
    "# примените функцию методом apply()\n",
    "data['purpose_category'] = data['purpose'].apply(categorize_purpose)"
   ]
  },
  {
   "cell_type": "code",
   "execution_count": null,
   "id": "72d6bf5b",
   "metadata": {},
   "outputs": [],
   "source": []
  }
 ],
 "metadata": {
  "ExecuteTimeLog": [
   {
    "duration": 437,
    "start_time": "2022-11-19T03:18:09.100Z"
   },
   {
    "duration": 315,
    "start_time": "2022-11-19T03:18:42.681Z"
   },
   {
    "duration": 21,
    "start_time": "2022-11-19T03:19:00.201Z"
   },
   {
    "duration": 15,
    "start_time": "2022-11-19T03:20:57.488Z"
   },
   {
    "duration": 10,
    "start_time": "2022-11-19T03:22:09.325Z"
   },
   {
    "duration": 62,
    "start_time": "2022-11-19T03:26:02.605Z"
   },
   {
    "duration": 4,
    "start_time": "2022-11-19T03:26:26.235Z"
   },
   {
    "duration": 5,
    "start_time": "2022-11-19T03:27:10.804Z"
   },
   {
    "duration": 9,
    "start_time": "2022-11-19T03:30:57.650Z"
   },
   {
    "duration": 15,
    "start_time": "2022-11-19T03:32:12.795Z"
   },
   {
    "duration": 11,
    "start_time": "2022-11-19T03:32:32.858Z"
   },
   {
    "duration": 10,
    "start_time": "2022-11-19T03:33:10.172Z"
   },
   {
    "duration": 11,
    "start_time": "2022-11-19T03:34:08.789Z"
   },
   {
    "duration": 5,
    "start_time": "2022-11-19T03:34:24.964Z"
   },
   {
    "duration": 12,
    "start_time": "2022-11-19T03:34:32.797Z"
   },
   {
    "duration": 10,
    "start_time": "2022-11-19T03:35:46.767Z"
   },
   {
    "duration": 10,
    "start_time": "2022-11-19T03:36:17.063Z"
   },
   {
    "duration": 9,
    "start_time": "2022-11-19T03:36:23.808Z"
   },
   {
    "duration": 8,
    "start_time": "2022-11-19T03:37:13.784Z"
   },
   {
    "duration": 9,
    "start_time": "2022-11-19T03:38:40.898Z"
   },
   {
    "duration": 15,
    "start_time": "2022-11-19T03:41:25.285Z"
   },
   {
    "duration": 8,
    "start_time": "2022-11-19T03:41:39.359Z"
   },
   {
    "duration": 17,
    "start_time": "2022-11-19T07:52:30.874Z"
   },
   {
    "duration": 16,
    "start_time": "2022-11-19T07:53:28.629Z"
   },
   {
    "duration": 2,
    "start_time": "2022-11-19T07:53:43.077Z"
   },
   {
    "duration": 81,
    "start_time": "2022-11-19T07:53:44.788Z"
   },
   {
    "duration": 15,
    "start_time": "2022-11-19T07:53:46.806Z"
   },
   {
    "duration": 14,
    "start_time": "2022-11-19T07:53:49.982Z"
   },
   {
    "duration": 13,
    "start_time": "2022-11-19T07:53:52.316Z"
   },
   {
    "duration": 18,
    "start_time": "2022-11-19T07:53:58.529Z"
   },
   {
    "duration": 8,
    "start_time": "2022-11-19T07:55:00.127Z"
   },
   {
    "duration": 25,
    "start_time": "2022-11-19T07:55:11.167Z"
   },
   {
    "duration": 6,
    "start_time": "2022-11-19T07:56:29.394Z"
   },
   {
    "duration": 8,
    "start_time": "2022-11-19T07:56:40.976Z"
   },
   {
    "duration": 8,
    "start_time": "2022-11-19T07:57:03.881Z"
   },
   {
    "duration": 8,
    "start_time": "2022-11-19T07:57:43.490Z"
   },
   {
    "duration": 8,
    "start_time": "2022-11-19T07:57:55.955Z"
   },
   {
    "duration": 8,
    "start_time": "2022-11-19T07:58:17.171Z"
   },
   {
    "duration": 5,
    "start_time": "2022-11-19T07:58:40.596Z"
   },
   {
    "duration": 5,
    "start_time": "2022-11-19T07:58:47.355Z"
   },
   {
    "duration": 14,
    "start_time": "2022-11-19T08:00:47.672Z"
   },
   {
    "duration": 12,
    "start_time": "2022-11-19T08:00:54.582Z"
   },
   {
    "duration": 15,
    "start_time": "2022-11-19T08:02:08.744Z"
   },
   {
    "duration": 13,
    "start_time": "2022-11-19T08:06:05.286Z"
   },
   {
    "duration": 14,
    "start_time": "2022-11-19T08:06:14.942Z"
   },
   {
    "duration": 21,
    "start_time": "2022-11-19T08:06:26.431Z"
   },
   {
    "duration": 10,
    "start_time": "2022-11-19T08:07:36.599Z"
   },
   {
    "duration": 22,
    "start_time": "2022-11-19T08:10:04.133Z"
   },
   {
    "duration": 13,
    "start_time": "2022-11-19T08:11:30.156Z"
   },
   {
    "duration": 12,
    "start_time": "2022-11-19T08:12:11.189Z"
   },
   {
    "duration": 5,
    "start_time": "2022-11-19T08:12:18.045Z"
   },
   {
    "duration": 9,
    "start_time": "2022-11-19T08:13:23.574Z"
   },
   {
    "duration": 15,
    "start_time": "2022-11-19T08:13:45.423Z"
   },
   {
    "duration": 11,
    "start_time": "2022-11-19T08:32:50.350Z"
   },
   {
    "duration": 2,
    "start_time": "2022-11-19T08:33:15.726Z"
   },
   {
    "duration": 3,
    "start_time": "2022-11-19T08:33:28.846Z"
   },
   {
    "duration": 15,
    "start_time": "2022-11-19T08:35:18.456Z"
   },
   {
    "duration": 10,
    "start_time": "2022-11-19T08:36:19.425Z"
   },
   {
    "duration": 10,
    "start_time": "2022-11-19T08:36:26.904Z"
   },
   {
    "duration": 7,
    "start_time": "2022-11-19T08:36:38.393Z"
   },
   {
    "duration": 397,
    "start_time": "2022-11-19T08:39:49.093Z"
   },
   {
    "duration": 377,
    "start_time": "2022-11-19T08:40:14.173Z"
   },
   {
    "duration": 413,
    "start_time": "2022-11-19T08:41:38.776Z"
   },
   {
    "duration": 32,
    "start_time": "2022-11-19T08:44:08.689Z"
   },
   {
    "duration": 14,
    "start_time": "2022-11-19T08:44:43.411Z"
   },
   {
    "duration": 15,
    "start_time": "2022-11-19T08:45:00.947Z"
   },
   {
    "duration": 33,
    "start_time": "2022-11-19T08:45:36.819Z"
   },
   {
    "duration": 7,
    "start_time": "2022-11-19T08:47:06.525Z"
   },
   {
    "duration": 3,
    "start_time": "2022-11-19T08:47:25.534Z"
   },
   {
    "duration": 15,
    "start_time": "2022-11-19T08:47:45.470Z"
   },
   {
    "duration": 4,
    "start_time": "2022-11-19T08:48:07.455Z"
   },
   {
    "duration": 32,
    "start_time": "2022-11-19T08:48:53.536Z"
   },
   {
    "duration": 3,
    "start_time": "2022-11-19T08:48:58.119Z"
   },
   {
    "duration": 18,
    "start_time": "2022-11-19T09:07:36.941Z"
   },
   {
    "duration": 3,
    "start_time": "2022-11-19T09:08:09.702Z"
   },
   {
    "duration": 8,
    "start_time": "2022-11-19T09:09:13.759Z"
   },
   {
    "duration": 46,
    "start_time": "2022-11-19T09:09:36.919Z"
   },
   {
    "duration": 6,
    "start_time": "2022-11-19T09:09:46.864Z"
   },
   {
    "duration": 7,
    "start_time": "2022-11-19T09:10:07.288Z"
   },
   {
    "duration": 6,
    "start_time": "2022-11-19T09:11:29.722Z"
   },
   {
    "duration": 4,
    "start_time": "2022-11-19T09:13:21.308Z"
   },
   {
    "duration": 7,
    "start_time": "2022-11-19T09:21:37.357Z"
   },
   {
    "duration": 7,
    "start_time": "2022-11-19T09:22:14.504Z"
   },
   {
    "duration": 4,
    "start_time": "2022-11-19T09:22:28.815Z"
   },
   {
    "duration": 3,
    "start_time": "2022-11-19T09:23:04.431Z"
   },
   {
    "duration": 30,
    "start_time": "2022-11-19T09:26:51.068Z"
   },
   {
    "duration": 10,
    "start_time": "2022-11-19T09:27:16.828Z"
   },
   {
    "duration": 3,
    "start_time": "2022-11-19T09:30:32.056Z"
   },
   {
    "duration": 13,
    "start_time": "2022-11-19T09:30:57.289Z"
   },
   {
    "duration": 13,
    "start_time": "2022-11-19T09:31:14.009Z"
   },
   {
    "duration": 9,
    "start_time": "2022-11-19T09:33:13.988Z"
   },
   {
    "duration": 8,
    "start_time": "2022-11-19T09:33:43.268Z"
   },
   {
    "duration": 11,
    "start_time": "2022-11-19T09:34:39.853Z"
   },
   {
    "duration": 8,
    "start_time": "2022-11-19T09:35:43.678Z"
   },
   {
    "duration": 17,
    "start_time": "2022-11-19T09:35:52.687Z"
   },
   {
    "duration": 17,
    "start_time": "2022-11-19T09:36:06.391Z"
   },
   {
    "duration": 17,
    "start_time": "2022-11-19T09:36:30.255Z"
   },
   {
    "duration": 16,
    "start_time": "2022-11-19T09:36:41.269Z"
   },
   {
    "duration": 17,
    "start_time": "2022-11-19T09:37:00.120Z"
   },
   {
    "duration": 17,
    "start_time": "2022-11-19T09:37:17.800Z"
   },
   {
    "duration": 15,
    "start_time": "2022-11-19T09:38:59.500Z"
   },
   {
    "duration": 17,
    "start_time": "2022-11-19T09:40:36.708Z"
   },
   {
    "duration": 14,
    "start_time": "2022-11-19T09:40:58.821Z"
   },
   {
    "duration": 19,
    "start_time": "2022-11-19T09:41:15.847Z"
   },
   {
    "duration": 51,
    "start_time": "2022-11-19T09:50:54.362Z"
   },
   {
    "duration": 9,
    "start_time": "2022-11-19T09:51:13.131Z"
   },
   {
    "duration": 10,
    "start_time": "2022-11-19T09:53:59.788Z"
   },
   {
    "duration": 4,
    "start_time": "2022-11-19T09:55:29.439Z"
   },
   {
    "duration": 4,
    "start_time": "2022-11-19T09:56:08.720Z"
   },
   {
    "duration": 4,
    "start_time": "2022-11-19T09:57:08.505Z"
   },
   {
    "duration": 3,
    "start_time": "2022-11-19T09:57:28.962Z"
   },
   {
    "duration": 4,
    "start_time": "2022-11-19T09:57:54.186Z"
   },
   {
    "duration": 2426,
    "start_time": "2022-11-19T09:58:10.139Z"
   },
   {
    "duration": 4,
    "start_time": "2022-11-19T09:58:34.835Z"
   },
   {
    "duration": 2553,
    "start_time": "2022-11-19T09:59:59.492Z"
   },
   {
    "duration": 8,
    "start_time": "2022-11-19T10:01:17.679Z"
   },
   {
    "duration": 11,
    "start_time": "2022-11-19T10:02:24.160Z"
   },
   {
    "duration": 12,
    "start_time": "2022-11-19T10:04:54.586Z"
   },
   {
    "duration": 12,
    "start_time": "2022-11-19T10:05:28.668Z"
   },
   {
    "duration": 10,
    "start_time": "2022-11-19T10:05:55.075Z"
   },
   {
    "duration": 4,
    "start_time": "2022-11-19T10:07:40.455Z"
   },
   {
    "duration": 10,
    "start_time": "2022-11-19T10:10:18.473Z"
   },
   {
    "duration": 14,
    "start_time": "2022-11-19T10:10:30.768Z"
   },
   {
    "duration": 53,
    "start_time": "2022-11-19T10:13:52.955Z"
   },
   {
    "duration": 10,
    "start_time": "2022-11-19T10:14:00.902Z"
   },
   {
    "duration": 10,
    "start_time": "2022-11-19T10:16:34.032Z"
   },
   {
    "duration": 16,
    "start_time": "2022-11-19T10:17:45.471Z"
   },
   {
    "duration": 14,
    "start_time": "2022-11-19T10:18:06.875Z"
   },
   {
    "duration": 10,
    "start_time": "2022-11-19T10:19:59.316Z"
   },
   {
    "duration": 9,
    "start_time": "2022-11-19T10:20:45.357Z"
   },
   {
    "duration": 50,
    "start_time": "2022-11-19T10:21:23.453Z"
   },
   {
    "duration": 5,
    "start_time": "2022-11-19T10:21:28.895Z"
   },
   {
    "duration": 4,
    "start_time": "2022-11-19T12:08:23.493Z"
   },
   {
    "duration": 9,
    "start_time": "2022-11-19T12:08:25.621Z"
   },
   {
    "duration": 7,
    "start_time": "2022-11-19T12:08:31.878Z"
   },
   {
    "duration": 413,
    "start_time": "2022-11-19T12:08:44.003Z"
   },
   {
    "duration": 71,
    "start_time": "2022-11-19T12:08:44.417Z"
   },
   {
    "duration": 20,
    "start_time": "2022-11-19T12:08:44.489Z"
   },
   {
    "duration": 13,
    "start_time": "2022-11-19T12:08:44.511Z"
   },
   {
    "duration": 9,
    "start_time": "2022-11-19T12:08:44.525Z"
   },
   {
    "duration": 34,
    "start_time": "2022-11-19T12:08:44.536Z"
   },
   {
    "duration": 2,
    "start_time": "2022-11-19T12:08:44.572Z"
   },
   {
    "duration": 14,
    "start_time": "2022-11-19T12:08:44.576Z"
   },
   {
    "duration": 4,
    "start_time": "2022-11-19T12:08:44.593Z"
   },
   {
    "duration": 25,
    "start_time": "2022-11-19T12:08:44.599Z"
   },
   {
    "duration": 3,
    "start_time": "2022-11-19T12:08:44.625Z"
   },
   {
    "duration": 31,
    "start_time": "2022-11-19T12:08:44.630Z"
   },
   {
    "duration": 8,
    "start_time": "2022-11-19T12:08:44.662Z"
   },
   {
    "duration": 4,
    "start_time": "2022-11-19T12:08:44.671Z"
   },
   {
    "duration": 15,
    "start_time": "2022-11-19T12:08:44.677Z"
   },
   {
    "duration": 35,
    "start_time": "2022-11-19T12:08:44.693Z"
   },
   {
    "duration": 15,
    "start_time": "2022-11-19T12:08:44.729Z"
   },
   {
    "duration": 3,
    "start_time": "2022-11-19T12:08:44.745Z"
   },
   {
    "duration": 13,
    "start_time": "2022-11-19T12:08:44.749Z"
   },
   {
    "duration": 4,
    "start_time": "2022-11-19T12:08:44.763Z"
   },
   {
    "duration": 7,
    "start_time": "2022-11-19T12:08:44.768Z"
   },
   {
    "duration": 10,
    "start_time": "2022-11-19T12:08:44.777Z"
   },
   {
    "duration": 4,
    "start_time": "2022-11-19T12:11:56.999Z"
   },
   {
    "duration": 3,
    "start_time": "2022-11-19T12:12:22.191Z"
   },
   {
    "duration": 8,
    "start_time": "2022-11-19T12:12:58.535Z"
   },
   {
    "duration": 3,
    "start_time": "2022-11-19T12:16:04.149Z"
   },
   {
    "duration": 8,
    "start_time": "2022-11-19T12:16:05.714Z"
   },
   {
    "duration": 16,
    "start_time": "2022-11-19T12:16:19.756Z"
   },
   {
    "duration": 3,
    "start_time": "2022-11-19T12:17:38.420Z"
   },
   {
    "duration": 7,
    "start_time": "2022-11-19T12:17:42.317Z"
   },
   {
    "duration": 15,
    "start_time": "2022-11-19T12:17:46.113Z"
   },
   {
    "duration": 384,
    "start_time": "2022-11-19T12:18:09.724Z"
   },
   {
    "duration": 73,
    "start_time": "2022-11-19T12:18:10.109Z"
   },
   {
    "duration": 21,
    "start_time": "2022-11-19T12:18:10.184Z"
   },
   {
    "duration": 16,
    "start_time": "2022-11-19T12:18:10.207Z"
   },
   {
    "duration": 16,
    "start_time": "2022-11-19T12:18:10.226Z"
   },
   {
    "duration": 40,
    "start_time": "2022-11-19T12:18:10.244Z"
   },
   {
    "duration": 4,
    "start_time": "2022-11-19T12:18:10.285Z"
   },
   {
    "duration": 31,
    "start_time": "2022-11-19T12:18:10.290Z"
   },
   {
    "duration": 6,
    "start_time": "2022-11-19T12:18:10.323Z"
   },
   {
    "duration": 9,
    "start_time": "2022-11-19T12:18:10.331Z"
   },
   {
    "duration": 7,
    "start_time": "2022-11-19T12:18:10.342Z"
   },
   {
    "duration": 30,
    "start_time": "2022-11-19T12:18:10.350Z"
   },
   {
    "duration": 14,
    "start_time": "2022-11-19T12:18:10.381Z"
   },
   {
    "duration": 25,
    "start_time": "2022-11-19T12:18:10.397Z"
   },
   {
    "duration": 13,
    "start_time": "2022-11-19T12:18:10.423Z"
   },
   {
    "duration": 21,
    "start_time": "2022-11-19T12:18:10.438Z"
   },
   {
    "duration": 15,
    "start_time": "2022-11-19T12:18:10.461Z"
   },
   {
    "duration": 5,
    "start_time": "2022-11-19T12:18:10.477Z"
   },
   {
    "duration": 11,
    "start_time": "2022-11-19T12:18:10.484Z"
   },
   {
    "duration": 24,
    "start_time": "2022-11-19T12:18:10.497Z"
   },
   {
    "duration": 3,
    "start_time": "2022-11-19T12:18:10.523Z"
   },
   {
    "duration": 15,
    "start_time": "2022-11-19T12:18:10.528Z"
   }
  ],
  "colab": {
   "provenance": []
  },
  "kernelspec": {
   "display_name": "Python 3 (ipykernel)",
   "language": "python",
   "name": "python3"
  },
  "language_info": {
   "codemirror_mode": {
    "name": "ipython",
    "version": 3
   },
   "file_extension": ".py",
   "mimetype": "text/x-python",
   "name": "python",
   "nbconvert_exporter": "python",
   "pygments_lexer": "ipython3",
   "version": "3.10.9"
  },
  "toc": {
   "base_numbering": 1,
   "nav_menu": {},
   "number_sections": true,
   "sideBar": true,
   "skip_h1_title": true,
   "title_cell": "Table of Contents",
   "title_sidebar": "Contents",
   "toc_cell": false,
   "toc_position": {},
   "toc_section_display": true,
   "toc_window_display": false
  }
 },
 "nbformat": 4,
 "nbformat_minor": 5
}
