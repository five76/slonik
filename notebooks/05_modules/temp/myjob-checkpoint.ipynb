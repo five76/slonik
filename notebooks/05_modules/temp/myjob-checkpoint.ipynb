{
 "cells": [
  {
   "cell_type": "code",
   "execution_count": 1,
   "id": "1b4bbde1",
   "metadata": {},
   "outputs": [],
   "source": [
    "import csv\n",
    "import mybike"
   ]
  },
  {
   "cell_type": "code",
   "execution_count": 2,
   "id": "23e83ed0",
   "metadata": {},
   "outputs": [
    {
     "name": "stdout",
     "output_type": "stream",
     "text": [
      "[['1', '11-07-2022', '9390', 'Cruiser', '318.32', '1', 'Philadelphia', '589', 'Apple Pay', '70', 'Female'], ['2', '03-05-2024', '3374', 'Hybrid Bike', '3093.47', '4', 'Chicago', '390', 'Apple Pay', '37', 'Male'], ['3', '01-09-2022', '2689', 'Folding Bike', '4247.99', '3', 'San Antonio', '338', 'PayPal', '59', 'Female'], ['4', '28-09-2022', '3797', 'Mountain Bike', '1722.01', '3', 'San Antonio', '352', 'Apple Pay', '19', 'Male'], ['5', '05-01-2021', '1633', 'BMX', '3941.44', '3', 'Philadelphia', '580', 'PayPal', '67', 'Female'], ['6', '06-09-2021', '9663', 'Mountain Bike', '1778.12', '5', 'Chicago', '829', 'Google Pay', '42', 'Male'], ['7', '08-06-2020', '6049', 'Hybrid Bike', '1513.6', '4', 'Philadelphia', '916', 'Google Pay', '20', 'Male'], ['8', '22-08-2021', '5784', 'Road Bike', '3825.94', '1', 'Philadelphia', '291', 'Debit Card', '57', 'Male'], ['9', '04-10-2020', '9649', 'Road Bike', '614.94', '3', 'San Antonio', '906', 'Debit Card', '62', 'Male'], ['10', '22-03-2023', '3977', 'Electric Bike', '2707.4', '5', 'Los Angeles', '562', 'PayPal', '65', 'Male']]\n"
     ]
    }
   ],
   "source": [
    "df = []\n",
    "file_name = 'bike_sales.csv'\n",
    "with open(file_name, encoding='utf-8') as f:\n",
    "    reader = csv.reader(f)\n",
    "    next(reader)\n",
    "    for row in reader:\n",
    "        df.append(row)\n",
    "print(df[:10])"
   ]
  },
  {
   "cell_type": "code",
   "execution_count": 3,
   "id": "4ba471b8",
   "metadata": {},
   "outputs": [
    {
     "name": "stdout",
     "output_type": "stream",
     "text": [
      "['Houston', 'San Antonio', 'Chicago', 'Philadelphia', 'Phoenix', 'New York', 'Los Angeles']\n"
     ]
    }
   ],
   "source": [
    "my_city = mybike.define_city_sales(df[:])\n",
    "print(my_city)"
   ]
  },
  {
   "cell_type": "code",
   "execution_count": 4,
   "id": "08aeeff7",
   "metadata": {},
   "outputs": [
    {
     "name": "stdout",
     "output_type": "stream",
     "text": [
      "110427042.39\n"
     ]
    }
   ],
   "source": [
    "print(mybike.calculate_sum_city('Houston', df[:]))"
   ]
  },
  {
   "cell_type": "code",
   "execution_count": 5,
   "id": "173bcec0",
   "metadata": {},
   "outputs": [
    {
     "name": "stdout",
     "output_type": "stream",
     "text": [
      "110427042.39\n",
      "110059479.44\n",
      "110388139.04\n",
      "111765829.45\n",
      "111860419.61\n",
      "113592473.94\n",
      "110340851.08\n"
     ]
    }
   ],
   "source": [
    "for t in my_city:\n",
    "    print(mybike.calculate_sum_city(t, df[:]))"
   ]
  },
  {
   "cell_type": "code",
   "execution_count": 6,
   "id": "e4a31165",
   "metadata": {},
   "outputs": [],
   "source": [
    "def define_bike_sales(lst=[]):\n",
    "    return list(set(list(map(lambda x: x[3],lst))))"
   ]
  },
  {
   "cell_type": "code",
   "execution_count": 7,
   "id": "3237304d",
   "metadata": {},
   "outputs": [],
   "source": [
    "def calculate_count_bike(bike=None, lst=[]):\n",
    "    count = 0;\n",
    "    for el in lst:\n",
    "        if el[3] == bike:\n",
    "            count += 1\n",
    "    return count"
   ]
  },
  {
   "cell_type": "code",
   "execution_count": 8,
   "id": "633fda2d",
   "metadata": {},
   "outputs": [
    {
     "name": "stdout",
     "output_type": "stream",
     "text": [
      "14332\n"
     ]
    }
   ],
   "source": [
    "print(calculate_count_bike(bike='Cruiser', lst=df[:]))"
   ]
  },
  {
   "cell_type": "code",
   "execution_count": 9,
   "id": "b63993e8",
   "metadata": {},
   "outputs": [
    {
     "name": "stdout",
     "output_type": "stream",
     "text": [
      "['Folding Bike', 'Electric Bike', 'Cruiser', 'Road Bike', 'Mountain Bike', 'BMX', 'Hybrid Bike']\n"
     ]
    }
   ],
   "source": [
    "print(define_bike_sales(df[:]))"
   ]
  },
  {
   "cell_type": "code",
   "execution_count": 10,
   "id": "dc11ef99",
   "metadata": {},
   "outputs": [
    {
     "name": "stdout",
     "output_type": "stream",
     "text": [
      "Cruiser              43120\n",
      "Hybrid Bike          43089\n",
      "BMX                  43080\n",
      "Road Bike            43022\n",
      "Folding Bike         42872\n",
      "Mountain Bike        42279\n",
      "Electric Bike        42249\n"
     ]
    }
   ],
   "source": [
    "from pprint import pprint\n",
    "\n",
    "my_bike = mybike.define_bike_sales(df[:]) # Новая функция в модуле mybike.py\n",
    "# my_bike = list(set(list(map(lambda x: x[3], df[:]))))\n",
    "cnt_bike = []\n",
    "for mb in my_bike:\n",
    "    cnt_bike.append(str(mybike.calculate_cnt_bike(mb, df[:]))) # Новая функция в модуле mybike.py\n",
    "result = list(zip(my_bike, cnt_bike))\n",
    "result.sort(key = lambda x: x[1], reverse = True)\n",
    "\n",
    "for el in result:\n",
    "    print(f'{el[0]:20} {el[1]}')"
   ]
  },
  {
   "cell_type": "code",
   "execution_count": 12,
   "id": "79c6f0a0",
   "metadata": {},
   "outputs": [
    {
     "name": "stdout",
     "output_type": "stream",
     "text": [
      "{'Chicago': {'BMX': 6077,\n",
      "             'Cruiser': 5966,\n",
      "             'Electric Bike': 6259,\n",
      "             'Folding Bike': 5775,\n",
      "             'Hybrid Bike': 6318,\n",
      "             'Mountain Bike': 6120,\n",
      "             'Road Bike': 6099},\n",
      " 'Houston': {'BMX': 6032,\n",
      "             'Cruiser': 5987,\n",
      "             'Electric Bike': 6096,\n",
      "             'Folding Bike': 6226,\n",
      "             'Hybrid Bike': 6238,\n",
      "             'Mountain Bike': 5785,\n",
      "             'Road Bike': 6243},\n",
      " 'Los Angeles': {'BMX': 6206,\n",
      "                 'Cruiser': 6250,\n",
      "                 'Electric Bike': 5925,\n",
      "                 'Folding Bike': 6251,\n",
      "                 'Hybrid Bike': 5821,\n",
      "                 'Mountain Bike': 6090,\n",
      "                 'Road Bike': 5949},\n",
      " 'New York': {'BMX': 6269,\n",
      "              'Cruiser': 6359,\n",
      "              'Electric Bike': 5888,\n",
      "              'Folding Bike': 6113,\n",
      "              'Hybrid Bike': 6422,\n",
      "              'Mountain Bike': 6419,\n",
      "              'Road Bike': 6218},\n",
      " 'Philadelphia': {'BMX': 6253,\n",
      "                  'Cruiser': 6098,\n",
      "                  'Electric Bike': 6139,\n",
      "                  'Folding Bike': 6069,\n",
      "                  'Hybrid Bike': 5966,\n",
      "                  'Mountain Bike': 5986,\n",
      "                  'Road Bike': 6187},\n",
      " 'Phoenix': {'BMX': 6095,\n",
      "             'Cruiser': 6442,\n",
      "             'Electric Bike': 5894,\n",
      "             'Folding Bike': 6190,\n",
      "             'Hybrid Bike': 6214,\n",
      "             'Mountain Bike': 5859,\n",
      "             'Road Bike': 6207},\n",
      " 'San Antonio': {'BMX': 6148,\n",
      "                 'Cruiser': 6018,\n",
      "                 'Electric Bike': 6048,\n",
      "                 'Folding Bike': 6248,\n",
      "                 'Hybrid Bike': 6110,\n",
      "                 'Mountain Bike': 6020,\n",
      "                 'Road Bike': 6119}}\n"
     ]
    }
   ],
   "source": [
    "my_city = mybike.define_city_sales(df[:]) # Определили список городов\n",
    "dict_city = [] # Сюда будем сохранять словари велосипедов для конкретного города\n",
    "for city in my_city:\n",
    "    items = [] # Сюда будем сохранять выборку строк из csv для конкретного города\n",
    "    for item in df[:]:\n",
    "        if item[6] == city:\n",
    "            items.append(item)\n",
    "    dict_city.append(mybike.get_bike_dict(items))\n",
    "result = dict(zip(my_city, dict_city))\n",
    "pprint(result)"
   ]
  },
  {
   "cell_type": "code",
   "execution_count": null,
   "id": "08f67a33",
   "metadata": {},
   "outputs": [],
   "source": []
  },
  {
   "cell_type": "code",
   "execution_count": null,
   "id": "e9879f39",
   "metadata": {},
   "outputs": [],
   "source": []
  },
  {
   "cell_type": "code",
   "execution_count": null,
   "id": "be9c9ef6",
   "metadata": {},
   "outputs": [],
   "source": []
  }
 ],
 "metadata": {
  "kernelspec": {
   "display_name": "Python 3 (ipykernel)",
   "language": "python",
   "name": "python3"
  },
  "language_info": {
   "codemirror_mode": {
    "name": "ipython",
    "version": 3
   },
   "file_extension": ".py",
   "mimetype": "text/x-python",
   "name": "python",
   "nbconvert_exporter": "python",
   "pygments_lexer": "ipython3",
   "version": "3.11.5"
  }
 },
 "nbformat": 4,
 "nbformat_minor": 5
}
