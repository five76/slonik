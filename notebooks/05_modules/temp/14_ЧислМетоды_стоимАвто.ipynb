{
 "cells": [
  {
   "cell_type": "markdown",
   "metadata": {},
   "source": [
    "<font size=4> Добрый день, Дмитрий! Меня зовут Алан, будем обмениваться с тобой опытом для успешного прохождения задания! Если не против, предлагаю общаться на ты (иначе дай знать, и перейдем на «вы»). Свои рекомендации буду оформлять в виде комментариев в Markdown ячейках:<br><strong>\n",
    "    <li> <font color='red'> «❌ красный цвет» </font> – важно исправить или внести пояснения\n",
    "    <li> <font color='orange'> «⚠️желтый цвет» </font>  – учесть, но можно не исправлять \n",
    "    <li> <font color='green'> «✔️ зеленый цвет» </font> – все отлично, плюс альтернативные пути решения задачи\n",
    "    <li>   <font color='steelblue'>«синий цвет» </font> - просто текст комментария\n",
    "     </strong>\n",
    "<br> В скобках буду указывать версию комментария. Прошу при внесении правок мои комментарии не удалять, а свои писать в соседних ячейках и выделять удобным цветом. Так коммуникация будет проходить эффективнее 👍.<br>\n",
    "</font>"
   ]
  },
  {
   "cell_type": "markdown",
   "metadata": {},
   "source": [
    "# Определение стоимости автомобилей"
   ]
  },
  {
   "cell_type": "markdown",
   "metadata": {},
   "source": [
    "Сервис по продаже автомобилей с пробегом «Не бит, не крашен» разрабатывает приложение для привлечения новых клиентов. В нём можно быстро узнать рыночную стоимость своего автомобиля. В вашем распоряжении исторические данные: технические характеристики, комплектации и цены автомобилей. Вам нужно построить модель для определения стоимости. \n",
    "\n",
    "Заказчику важны:\n",
    "\n",
    "- качество предсказания;\n",
    "- скорость предсказания;\n",
    "- время обучения.\n",
    "\n",
    "Путь к файлу:\n",
    "/datasets/autos.csv\n",
    "\n",
    "Описание данных:\n",
    "\n",
    "Признаки:\n",
    "\n",
    "DateCrawled — дата скачивания анкеты из базы<br>\n",
    "VehicleType — тип автомобильного кузова<br>\n",
    "RegistrationYear — год регистрации автомобиля<br>\n",
    "Gearbox — тип коробки передач<br>\n",
    "Power — мощность (л. с.)<br>\n",
    "Model — модель автомобиля<br>\n",
    "Kilometer — пробег (км)<br>\n",
    "RegistrationMonth — месяц регистрации автомобиля<br>\n",
    "FuelType — тип топлива<br>\n",
    "Brand — марка автомобиля<br>\n",
    "NotRepaired — была машина в ремонте или нет<br>\n",
    "DateCreated — дата создания анкеты<br>\n",
    "NumberOfPictures — количество фотографий автомобиля<br>\n",
    "PostalCode — почтовый индекс владельца анкеты (пользователя)<br>\n",
    "LastSeen — дата последней активности пользователя<br>\n",
    "Целевой признак:<br>\n",
    "\n",
    "Price — цена (евро)<br>"
   ]
  },
  {
   "cell_type": "markdown",
   "metadata": {},
   "source": [
    "<div class='alert alert-success'> ✔️Хорошо, что есть описание, по прошествии времени оно поможет сориентироваться в работе и восстановить схему своих действий.\n",
    "\n",
    "\n",
    "\n",
    "</div>"
   ]
  },
  {
   "cell_type": "code",
   "execution_count": 1,
   "metadata": {},
   "outputs": [],
   "source": [
    "import pandas as pd\n",
    "import re\n",
    "import numpy as np\n",
    "import matplotlib.pyplot as plt\n",
    "import seaborn as sns\n",
    "from sklearn.model_selection import train_test_split, GridSearchCV, ShuffleSplit\n",
    "from sklearn.preprocessing import StandardScaler\n",
    "from sklearn.linear_model import LinearRegression, SGDRegressor\n",
    "from xgboost import XGBRegressor\n",
    "from sklearn.metrics import mean_squared_error, make_scorer\n",
    "from lightgbm import LGBMRegressor\n",
    "import warnings\n",
    "\n",
    "warnings.filterwarnings('ignore')"
   ]
  },
  {
   "cell_type": "markdown",
   "metadata": {},
   "source": [
    "## Подготовка данных"
   ]
  },
  {
   "cell_type": "markdown",
   "metadata": {},
   "source": [
    "### Чтение данных"
   ]
  },
  {
   "cell_type": "code",
   "execution_count": 2,
   "metadata": {},
   "outputs": [],
   "source": [
    "df = pd.read_csv('/datasets/autos.csv')"
   ]
  },
  {
   "cell_type": "code",
   "execution_count": 3,
   "metadata": {
    "scrolled": true
   },
   "outputs": [
    {
     "data": {
      "text/html": [
       "<div>\n",
       "<style scoped>\n",
       "    .dataframe tbody tr th:only-of-type {\n",
       "        vertical-align: middle;\n",
       "    }\n",
       "\n",
       "    .dataframe tbody tr th {\n",
       "        vertical-align: top;\n",
       "    }\n",
       "\n",
       "    .dataframe thead th {\n",
       "        text-align: right;\n",
       "    }\n",
       "</style>\n",
       "<table border=\"1\" class=\"dataframe\">\n",
       "  <thead>\n",
       "    <tr style=\"text-align: right;\">\n",
       "      <th></th>\n",
       "      <th>DateCrawled</th>\n",
       "      <th>Price</th>\n",
       "      <th>VehicleType</th>\n",
       "      <th>RegistrationYear</th>\n",
       "      <th>Gearbox</th>\n",
       "      <th>Power</th>\n",
       "      <th>Model</th>\n",
       "      <th>Kilometer</th>\n",
       "      <th>RegistrationMonth</th>\n",
       "      <th>FuelType</th>\n",
       "      <th>Brand</th>\n",
       "      <th>Repaired</th>\n",
       "      <th>DateCreated</th>\n",
       "      <th>NumberOfPictures</th>\n",
       "      <th>PostalCode</th>\n",
       "      <th>LastSeen</th>\n",
       "    </tr>\n",
       "  </thead>\n",
       "  <tbody>\n",
       "    <tr>\n",
       "      <th>0</th>\n",
       "      <td>2016-03-24 11:52:17</td>\n",
       "      <td>480</td>\n",
       "      <td>NaN</td>\n",
       "      <td>1993</td>\n",
       "      <td>manual</td>\n",
       "      <td>0</td>\n",
       "      <td>golf</td>\n",
       "      <td>150000</td>\n",
       "      <td>0</td>\n",
       "      <td>petrol</td>\n",
       "      <td>volkswagen</td>\n",
       "      <td>NaN</td>\n",
       "      <td>2016-03-24 00:00:00</td>\n",
       "      <td>0</td>\n",
       "      <td>70435</td>\n",
       "      <td>2016-04-07 03:16:57</td>\n",
       "    </tr>\n",
       "    <tr>\n",
       "      <th>1</th>\n",
       "      <td>2016-03-24 10:58:45</td>\n",
       "      <td>18300</td>\n",
       "      <td>coupe</td>\n",
       "      <td>2011</td>\n",
       "      <td>manual</td>\n",
       "      <td>190</td>\n",
       "      <td>NaN</td>\n",
       "      <td>125000</td>\n",
       "      <td>5</td>\n",
       "      <td>gasoline</td>\n",
       "      <td>audi</td>\n",
       "      <td>yes</td>\n",
       "      <td>2016-03-24 00:00:00</td>\n",
       "      <td>0</td>\n",
       "      <td>66954</td>\n",
       "      <td>2016-04-07 01:46:50</td>\n",
       "    </tr>\n",
       "    <tr>\n",
       "      <th>2</th>\n",
       "      <td>2016-03-14 12:52:21</td>\n",
       "      <td>9800</td>\n",
       "      <td>suv</td>\n",
       "      <td>2004</td>\n",
       "      <td>auto</td>\n",
       "      <td>163</td>\n",
       "      <td>grand</td>\n",
       "      <td>125000</td>\n",
       "      <td>8</td>\n",
       "      <td>gasoline</td>\n",
       "      <td>jeep</td>\n",
       "      <td>NaN</td>\n",
       "      <td>2016-03-14 00:00:00</td>\n",
       "      <td>0</td>\n",
       "      <td>90480</td>\n",
       "      <td>2016-04-05 12:47:46</td>\n",
       "    </tr>\n",
       "    <tr>\n",
       "      <th>3</th>\n",
       "      <td>2016-03-17 16:54:04</td>\n",
       "      <td>1500</td>\n",
       "      <td>small</td>\n",
       "      <td>2001</td>\n",
       "      <td>manual</td>\n",
       "      <td>75</td>\n",
       "      <td>golf</td>\n",
       "      <td>150000</td>\n",
       "      <td>6</td>\n",
       "      <td>petrol</td>\n",
       "      <td>volkswagen</td>\n",
       "      <td>no</td>\n",
       "      <td>2016-03-17 00:00:00</td>\n",
       "      <td>0</td>\n",
       "      <td>91074</td>\n",
       "      <td>2016-03-17 17:40:17</td>\n",
       "    </tr>\n",
       "    <tr>\n",
       "      <th>4</th>\n",
       "      <td>2016-03-31 17:25:20</td>\n",
       "      <td>3600</td>\n",
       "      <td>small</td>\n",
       "      <td>2008</td>\n",
       "      <td>manual</td>\n",
       "      <td>69</td>\n",
       "      <td>fabia</td>\n",
       "      <td>90000</td>\n",
       "      <td>7</td>\n",
       "      <td>gasoline</td>\n",
       "      <td>skoda</td>\n",
       "      <td>no</td>\n",
       "      <td>2016-03-31 00:00:00</td>\n",
       "      <td>0</td>\n",
       "      <td>60437</td>\n",
       "      <td>2016-04-06 10:17:21</td>\n",
       "    </tr>\n",
       "  </tbody>\n",
       "</table>\n",
       "</div>"
      ],
      "text/plain": [
       "           DateCrawled  Price VehicleType  RegistrationYear Gearbox  Power  \\\n",
       "0  2016-03-24 11:52:17    480         NaN              1993  manual      0   \n",
       "1  2016-03-24 10:58:45  18300       coupe              2011  manual    190   \n",
       "2  2016-03-14 12:52:21   9800         suv              2004    auto    163   \n",
       "3  2016-03-17 16:54:04   1500       small              2001  manual     75   \n",
       "4  2016-03-31 17:25:20   3600       small              2008  manual     69   \n",
       "\n",
       "   Model  Kilometer  RegistrationMonth  FuelType       Brand Repaired  \\\n",
       "0   golf     150000                  0    petrol  volkswagen      NaN   \n",
       "1    NaN     125000                  5  gasoline        audi      yes   \n",
       "2  grand     125000                  8  gasoline        jeep      NaN   \n",
       "3   golf     150000                  6    petrol  volkswagen       no   \n",
       "4  fabia      90000                  7  gasoline       skoda       no   \n",
       "\n",
       "           DateCreated  NumberOfPictures  PostalCode             LastSeen  \n",
       "0  2016-03-24 00:00:00                 0       70435  2016-04-07 03:16:57  \n",
       "1  2016-03-24 00:00:00                 0       66954  2016-04-07 01:46:50  \n",
       "2  2016-03-14 00:00:00                 0       90480  2016-04-05 12:47:46  \n",
       "3  2016-03-17 00:00:00                 0       91074  2016-03-17 17:40:17  \n",
       "4  2016-03-31 00:00:00                 0       60437  2016-04-06 10:17:21  "
      ]
     },
     "execution_count": 3,
     "metadata": {},
     "output_type": "execute_result"
    }
   ],
   "source": [
    "df.head()"
   ]
  },
  {
   "cell_type": "code",
   "execution_count": 4,
   "metadata": {},
   "outputs": [
    {
     "name": "stdout",
     "output_type": "stream",
     "text": [
      "<class 'pandas.core.frame.DataFrame'>\n",
      "RangeIndex: 354369 entries, 0 to 354368\n",
      "Data columns (total 16 columns):\n",
      " #   Column             Non-Null Count   Dtype \n",
      "---  ------             --------------   ----- \n",
      " 0   DateCrawled        354369 non-null  object\n",
      " 1   Price              354369 non-null  int64 \n",
      " 2   VehicleType        316879 non-null  object\n",
      " 3   RegistrationYear   354369 non-null  int64 \n",
      " 4   Gearbox            334536 non-null  object\n",
      " 5   Power              354369 non-null  int64 \n",
      " 6   Model              334664 non-null  object\n",
      " 7   Kilometer          354369 non-null  int64 \n",
      " 8   RegistrationMonth  354369 non-null  int64 \n",
      " 9   FuelType           321474 non-null  object\n",
      " 10  Brand              354369 non-null  object\n",
      " 11  Repaired           283215 non-null  object\n",
      " 12  DateCreated        354369 non-null  object\n",
      " 13  NumberOfPictures   354369 non-null  int64 \n",
      " 14  PostalCode         354369 non-null  int64 \n",
      " 15  LastSeen           354369 non-null  object\n",
      "dtypes: int64(7), object(9)\n",
      "memory usage: 43.3+ MB\n"
     ]
    }
   ],
   "source": [
    "df.info()"
   ]
  },
  {
   "cell_type": "markdown",
   "metadata": {},
   "source": [
    "Наименования столбцов не по канону, меняем на правильные"
   ]
  },
  {
   "cell_type": "code",
   "execution_count": 5,
   "metadata": {},
   "outputs": [],
   "source": [
    "df.columns = df.columns.map(lambda x: re.sub( '(?<!^)(?=[A-Z])', '_', x ).lower())"
   ]
  },
  {
   "cell_type": "code",
   "execution_count": 6,
   "metadata": {},
   "outputs": [
    {
     "name": "stdout",
     "output_type": "stream",
     "text": [
      "<class 'pandas.core.frame.DataFrame'>\n",
      "RangeIndex: 354369 entries, 0 to 354368\n",
      "Data columns (total 16 columns):\n",
      " #   Column              Non-Null Count   Dtype \n",
      "---  ------              --------------   ----- \n",
      " 0   date_crawled        354369 non-null  object\n",
      " 1   price               354369 non-null  int64 \n",
      " 2   vehicle_type        316879 non-null  object\n",
      " 3   registration_year   354369 non-null  int64 \n",
      " 4   gearbox             334536 non-null  object\n",
      " 5   power               354369 non-null  int64 \n",
      " 6   model               334664 non-null  object\n",
      " 7   kilometer           354369 non-null  int64 \n",
      " 8   registration_month  354369 non-null  int64 \n",
      " 9   fuel_type           321474 non-null  object\n",
      " 10  brand               354369 non-null  object\n",
      " 11  repaired            283215 non-null  object\n",
      " 12  date_created        354369 non-null  object\n",
      " 13  number_of_pictures  354369 non-null  int64 \n",
      " 14  postal_code         354369 non-null  int64 \n",
      " 15  last_seen           354369 non-null  object\n",
      "dtypes: int64(7), object(9)\n",
      "memory usage: 43.3+ MB\n"
     ]
    }
   ],
   "source": [
    "df.info()"
   ]
  },
  {
   "cell_type": "markdown",
   "metadata": {},
   "source": [
    "### Проверка на дубликаты"
   ]
  },
  {
   "cell_type": "code",
   "execution_count": 7,
   "metadata": {
    "scrolled": false
   },
   "outputs": [
    {
     "data": {
      "text/plain": [
       "4"
      ]
     },
     "execution_count": 7,
     "metadata": {},
     "output_type": "execute_result"
    }
   ],
   "source": [
    "df.duplicated().sum()"
   ]
  },
  {
   "cell_type": "code",
   "execution_count": 8,
   "metadata": {
    "scrolled": false
   },
   "outputs": [
    {
     "data": {
      "text/html": [
       "<div>\n",
       "<style scoped>\n",
       "    .dataframe tbody tr th:only-of-type {\n",
       "        vertical-align: middle;\n",
       "    }\n",
       "\n",
       "    .dataframe tbody tr th {\n",
       "        vertical-align: top;\n",
       "    }\n",
       "\n",
       "    .dataframe thead th {\n",
       "        text-align: right;\n",
       "    }\n",
       "</style>\n",
       "<table border=\"1\" class=\"dataframe\">\n",
       "  <thead>\n",
       "    <tr style=\"text-align: right;\">\n",
       "      <th></th>\n",
       "      <th>date_crawled</th>\n",
       "      <th>price</th>\n",
       "      <th>vehicle_type</th>\n",
       "      <th>registration_year</th>\n",
       "      <th>gearbox</th>\n",
       "      <th>power</th>\n",
       "      <th>model</th>\n",
       "      <th>kilometer</th>\n",
       "      <th>registration_month</th>\n",
       "      <th>fuel_type</th>\n",
       "      <th>brand</th>\n",
       "      <th>repaired</th>\n",
       "      <th>date_created</th>\n",
       "      <th>number_of_pictures</th>\n",
       "      <th>postal_code</th>\n",
       "      <th>last_seen</th>\n",
       "    </tr>\n",
       "  </thead>\n",
       "  <tbody>\n",
       "    <tr>\n",
       "      <th>171088</th>\n",
       "      <td>2016-03-08 18:42:48</td>\n",
       "      <td>1799</td>\n",
       "      <td>coupe</td>\n",
       "      <td>1999</td>\n",
       "      <td>auto</td>\n",
       "      <td>193</td>\n",
       "      <td>clk</td>\n",
       "      <td>20000</td>\n",
       "      <td>7</td>\n",
       "      <td>petrol</td>\n",
       "      <td>mercedes_benz</td>\n",
       "      <td>no</td>\n",
       "      <td>2016-03-08 00:00:00</td>\n",
       "      <td>0</td>\n",
       "      <td>89518</td>\n",
       "      <td>2016-03-09 09:46:57</td>\n",
       "    </tr>\n",
       "    <tr>\n",
       "      <th>231258</th>\n",
       "      <td>2016-03-28 00:56:10</td>\n",
       "      <td>1000</td>\n",
       "      <td>small</td>\n",
       "      <td>2002</td>\n",
       "      <td>manual</td>\n",
       "      <td>83</td>\n",
       "      <td>other</td>\n",
       "      <td>150000</td>\n",
       "      <td>1</td>\n",
       "      <td>petrol</td>\n",
       "      <td>suzuki</td>\n",
       "      <td>no</td>\n",
       "      <td>2016-03-28 00:00:00</td>\n",
       "      <td>0</td>\n",
       "      <td>66589</td>\n",
       "      <td>2016-03-28 08:46:21</td>\n",
       "    </tr>\n",
       "    <tr>\n",
       "      <th>258109</th>\n",
       "      <td>2016-04-03 09:01:15</td>\n",
       "      <td>4699</td>\n",
       "      <td>coupe</td>\n",
       "      <td>2003</td>\n",
       "      <td>auto</td>\n",
       "      <td>218</td>\n",
       "      <td>clk</td>\n",
       "      <td>125000</td>\n",
       "      <td>6</td>\n",
       "      <td>petrol</td>\n",
       "      <td>mercedes_benz</td>\n",
       "      <td>yes</td>\n",
       "      <td>2016-04-03 00:00:00</td>\n",
       "      <td>0</td>\n",
       "      <td>75196</td>\n",
       "      <td>2016-04-07 09:44:54</td>\n",
       "    </tr>\n",
       "    <tr>\n",
       "      <th>325651</th>\n",
       "      <td>2016-03-18 18:46:15</td>\n",
       "      <td>1999</td>\n",
       "      <td>wagon</td>\n",
       "      <td>2001</td>\n",
       "      <td>manual</td>\n",
       "      <td>131</td>\n",
       "      <td>passat</td>\n",
       "      <td>150000</td>\n",
       "      <td>7</td>\n",
       "      <td>gasoline</td>\n",
       "      <td>volkswagen</td>\n",
       "      <td>no</td>\n",
       "      <td>2016-03-18 00:00:00</td>\n",
       "      <td>0</td>\n",
       "      <td>36391</td>\n",
       "      <td>2016-03-18 18:46:15</td>\n",
       "    </tr>\n",
       "  </tbody>\n",
       "</table>\n",
       "</div>"
      ],
      "text/plain": [
       "               date_crawled  price vehicle_type  registration_year gearbox  \\\n",
       "171088  2016-03-08 18:42:48   1799        coupe               1999    auto   \n",
       "231258  2016-03-28 00:56:10   1000        small               2002  manual   \n",
       "258109  2016-04-03 09:01:15   4699        coupe               2003    auto   \n",
       "325651  2016-03-18 18:46:15   1999        wagon               2001  manual   \n",
       "\n",
       "        power   model  kilometer  registration_month fuel_type          brand  \\\n",
       "171088    193     clk      20000                   7    petrol  mercedes_benz   \n",
       "231258     83   other     150000                   1    petrol         suzuki   \n",
       "258109    218     clk     125000                   6    petrol  mercedes_benz   \n",
       "325651    131  passat     150000                   7  gasoline     volkswagen   \n",
       "\n",
       "       repaired         date_created  number_of_pictures  postal_code  \\\n",
       "171088       no  2016-03-08 00:00:00                   0        89518   \n",
       "231258       no  2016-03-28 00:00:00                   0        66589   \n",
       "258109      yes  2016-04-03 00:00:00                   0        75196   \n",
       "325651       no  2016-03-18 00:00:00                   0        36391   \n",
       "\n",
       "                  last_seen  \n",
       "171088  2016-03-09 09:46:57  \n",
       "231258  2016-03-28 08:46:21  \n",
       "258109  2016-04-07 09:44:54  \n",
       "325651  2016-03-18 18:46:15  "
      ]
     },
     "execution_count": 8,
     "metadata": {},
     "output_type": "execute_result"
    }
   ],
   "source": [
    "df[df.duplicated() == True]"
   ]
  },
  {
   "cell_type": "code",
   "execution_count": 9,
   "metadata": {},
   "outputs": [
    {
     "data": {
      "text/plain": [
       "(354369, 16)"
      ]
     },
     "execution_count": 9,
     "metadata": {},
     "output_type": "execute_result"
    }
   ],
   "source": [
    "df.shape"
   ]
  },
  {
   "cell_type": "markdown",
   "metadata": {},
   "source": [
    "#### Удаление дубликатов"
   ]
  },
  {
   "cell_type": "code",
   "execution_count": 10,
   "metadata": {},
   "outputs": [],
   "source": [
    "df = df.drop(df[df.duplicated() == True].index)"
   ]
  },
  {
   "cell_type": "code",
   "execution_count": 11,
   "metadata": {},
   "outputs": [
    {
     "data": {
      "text/plain": [
       "(354365, 16)"
      ]
     },
     "execution_count": 11,
     "metadata": {},
     "output_type": "execute_result"
    }
   ],
   "source": [
    "df.shape"
   ]
  },
  {
   "cell_type": "code",
   "execution_count": 12,
   "metadata": {},
   "outputs": [
    {
     "data": {
      "text/plain": [
       "0"
      ]
     },
     "execution_count": 12,
     "metadata": {},
     "output_type": "execute_result"
    }
   ],
   "source": [
    "df.duplicated().sum()"
   ]
  },
  {
   "cell_type": "markdown",
   "metadata": {},
   "source": [
    "<div class='alert alert-success'> ✔️ Хорошо, явные дубликаты удалили. Обрати внимание, что практика удаления дубликатов до фильтрации неинформативных колонок (например, DateCrawled и LastSeen) оставляет неявные дубли. Хотел подчеркнуть, что, возможно, следует дубликаты определять после удаления таких колонок, чтобы и явные, и неявные найти сразу.\n",
    "</div>"
   ]
  },
  {
   "cell_type": "code",
   "execution_count": null,
   "metadata": {},
   "outputs": [],
   "source": []
  },
  {
   "cell_type": "code",
   "execution_count": 13,
   "metadata": {},
   "outputs": [
    {
     "data": {
      "text/plain": [
       "date_crawled              0\n",
       "price                     0\n",
       "vehicle_type          37490\n",
       "registration_year         0\n",
       "gearbox               19833\n",
       "power                     0\n",
       "model                 19705\n",
       "kilometer                 0\n",
       "registration_month        0\n",
       "fuel_type             32895\n",
       "brand                     0\n",
       "repaired              71154\n",
       "date_created              0\n",
       "number_of_pictures        0\n",
       "postal_code               0\n",
       "last_seen                 0\n",
       "dtype: int64"
      ]
     },
     "execution_count": 13,
     "metadata": {},
     "output_type": "execute_result"
    }
   ],
   "source": [
    "df.isna().sum()"
   ]
  },
  {
   "cell_type": "code",
   "execution_count": 14,
   "metadata": {
    "scrolled": true
   },
   "outputs": [
    {
     "data": {
      "text/html": [
       "<div>\n",
       "<style scoped>\n",
       "    .dataframe tbody tr th:only-of-type {\n",
       "        vertical-align: middle;\n",
       "    }\n",
       "\n",
       "    .dataframe tbody tr th {\n",
       "        vertical-align: top;\n",
       "    }\n",
       "\n",
       "    .dataframe thead th {\n",
       "        text-align: right;\n",
       "    }\n",
       "</style>\n",
       "<table border=\"1\" class=\"dataframe\">\n",
       "  <thead>\n",
       "    <tr style=\"text-align: right;\">\n",
       "      <th></th>\n",
       "      <th>date_crawled</th>\n",
       "      <th>price</th>\n",
       "      <th>vehicle_type</th>\n",
       "      <th>registration_year</th>\n",
       "      <th>gearbox</th>\n",
       "      <th>power</th>\n",
       "      <th>model</th>\n",
       "      <th>kilometer</th>\n",
       "      <th>registration_month</th>\n",
       "      <th>fuel_type</th>\n",
       "      <th>brand</th>\n",
       "      <th>repaired</th>\n",
       "      <th>date_created</th>\n",
       "      <th>number_of_pictures</th>\n",
       "      <th>postal_code</th>\n",
       "      <th>last_seen</th>\n",
       "    </tr>\n",
       "  </thead>\n",
       "  <tbody>\n",
       "    <tr>\n",
       "      <th>622</th>\n",
       "      <td>2016-03-16 16:55:09</td>\n",
       "      <td>0</td>\n",
       "      <td>NaN</td>\n",
       "      <td>1111</td>\n",
       "      <td>NaN</td>\n",
       "      <td>0</td>\n",
       "      <td>NaN</td>\n",
       "      <td>5000</td>\n",
       "      <td>0</td>\n",
       "      <td>NaN</td>\n",
       "      <td>opel</td>\n",
       "      <td>NaN</td>\n",
       "      <td>2016-03-16 00:00:00</td>\n",
       "      <td>0</td>\n",
       "      <td>44628</td>\n",
       "      <td>2016-03-20 16:44:37</td>\n",
       "    </tr>\n",
       "    <tr>\n",
       "      <th>16062</th>\n",
       "      <td>2016-03-29 23:42:16</td>\n",
       "      <td>190</td>\n",
       "      <td>NaN</td>\n",
       "      <td>1000</td>\n",
       "      <td>NaN</td>\n",
       "      <td>0</td>\n",
       "      <td>mondeo</td>\n",
       "      <td>5000</td>\n",
       "      <td>0</td>\n",
       "      <td>NaN</td>\n",
       "      <td>ford</td>\n",
       "      <td>NaN</td>\n",
       "      <td>2016-03-29 00:00:00</td>\n",
       "      <td>0</td>\n",
       "      <td>47166</td>\n",
       "      <td>2016-04-06 10:44:58</td>\n",
       "    </tr>\n",
       "    <tr>\n",
       "      <th>18224</th>\n",
       "      <td>2016-03-09 17:49:44</td>\n",
       "      <td>7999</td>\n",
       "      <td>NaN</td>\n",
       "      <td>1500</td>\n",
       "      <td>manual</td>\n",
       "      <td>224</td>\n",
       "      <td>impreza</td>\n",
       "      <td>5000</td>\n",
       "      <td>3</td>\n",
       "      <td>NaN</td>\n",
       "      <td>subaru</td>\n",
       "      <td>NaN</td>\n",
       "      <td>2016-03-09 00:00:00</td>\n",
       "      <td>0</td>\n",
       "      <td>53577</td>\n",
       "      <td>2016-03-15 05:15:17</td>\n",
       "    </tr>\n",
       "    <tr>\n",
       "      <th>34332</th>\n",
       "      <td>2016-04-01 06:02:10</td>\n",
       "      <td>450</td>\n",
       "      <td>NaN</td>\n",
       "      <td>1800</td>\n",
       "      <td>NaN</td>\n",
       "      <td>1800</td>\n",
       "      <td>NaN</td>\n",
       "      <td>5000</td>\n",
       "      <td>2</td>\n",
       "      <td>NaN</td>\n",
       "      <td>mitsubishi</td>\n",
       "      <td>no</td>\n",
       "      <td>2016-04-01 00:00:00</td>\n",
       "      <td>0</td>\n",
       "      <td>63322</td>\n",
       "      <td>2016-04-01 09:42:30</td>\n",
       "    </tr>\n",
       "    <tr>\n",
       "      <th>38875</th>\n",
       "      <td>2016-03-19 23:54:40</td>\n",
       "      <td>1234</td>\n",
       "      <td>NaN</td>\n",
       "      <td>1234</td>\n",
       "      <td>NaN</td>\n",
       "      <td>26</td>\n",
       "      <td>NaN</td>\n",
       "      <td>5000</td>\n",
       "      <td>1</td>\n",
       "      <td>NaN</td>\n",
       "      <td>trabant</td>\n",
       "      <td>NaN</td>\n",
       "      <td>2016-03-19 00:00:00</td>\n",
       "      <td>0</td>\n",
       "      <td>38518</td>\n",
       "      <td>2016-04-06 03:15:22</td>\n",
       "    </tr>\n",
       "    <tr>\n",
       "      <th>...</th>\n",
       "      <td>...</td>\n",
       "      <td>...</td>\n",
       "      <td>...</td>\n",
       "      <td>...</td>\n",
       "      <td>...</td>\n",
       "      <td>...</td>\n",
       "      <td>...</td>\n",
       "      <td>...</td>\n",
       "      <td>...</td>\n",
       "      <td>...</td>\n",
       "      <td>...</td>\n",
       "      <td>...</td>\n",
       "      <td>...</td>\n",
       "      <td>...</td>\n",
       "      <td>...</td>\n",
       "      <td>...</td>\n",
       "    </tr>\n",
       "    <tr>\n",
       "      <th>323443</th>\n",
       "      <td>2016-03-26 20:58:27</td>\n",
       "      <td>30</td>\n",
       "      <td>NaN</td>\n",
       "      <td>1000</td>\n",
       "      <td>NaN</td>\n",
       "      <td>0</td>\n",
       "      <td>NaN</td>\n",
       "      <td>5000</td>\n",
       "      <td>0</td>\n",
       "      <td>NaN</td>\n",
       "      <td>audi</td>\n",
       "      <td>NaN</td>\n",
       "      <td>2016-03-26 00:00:00</td>\n",
       "      <td>0</td>\n",
       "      <td>37574</td>\n",
       "      <td>2016-04-06 12:17:27</td>\n",
       "    </tr>\n",
       "    <tr>\n",
       "      <th>325739</th>\n",
       "      <td>2016-03-30 11:36:35</td>\n",
       "      <td>400</td>\n",
       "      <td>NaN</td>\n",
       "      <td>1000</td>\n",
       "      <td>NaN</td>\n",
       "      <td>0</td>\n",
       "      <td>NaN</td>\n",
       "      <td>5000</td>\n",
       "      <td>0</td>\n",
       "      <td>NaN</td>\n",
       "      <td>mercedes_benz</td>\n",
       "      <td>NaN</td>\n",
       "      <td>2016-03-30 00:00:00</td>\n",
       "      <td>0</td>\n",
       "      <td>8060</td>\n",
       "      <td>2016-04-01 06:16:46</td>\n",
       "    </tr>\n",
       "    <tr>\n",
       "      <th>340759</th>\n",
       "      <td>2016-04-04 23:55:47</td>\n",
       "      <td>700</td>\n",
       "      <td>NaN</td>\n",
       "      <td>1600</td>\n",
       "      <td>manual</td>\n",
       "      <td>1600</td>\n",
       "      <td>a3</td>\n",
       "      <td>150000</td>\n",
       "      <td>4</td>\n",
       "      <td>petrol</td>\n",
       "      <td>audi</td>\n",
       "      <td>no</td>\n",
       "      <td>2016-04-04 00:00:00</td>\n",
       "      <td>0</td>\n",
       "      <td>86343</td>\n",
       "      <td>2016-04-05 06:44:07</td>\n",
       "    </tr>\n",
       "    <tr>\n",
       "      <th>348830</th>\n",
       "      <td>2016-03-22 00:38:15</td>\n",
       "      <td>1</td>\n",
       "      <td>NaN</td>\n",
       "      <td>1000</td>\n",
       "      <td>NaN</td>\n",
       "      <td>1000</td>\n",
       "      <td>NaN</td>\n",
       "      <td>150000</td>\n",
       "      <td>0</td>\n",
       "      <td>NaN</td>\n",
       "      <td>sonstige_autos</td>\n",
       "      <td>NaN</td>\n",
       "      <td>2016-03-21 00:00:00</td>\n",
       "      <td>0</td>\n",
       "      <td>41472</td>\n",
       "      <td>2016-04-05 14:18:01</td>\n",
       "    </tr>\n",
       "    <tr>\n",
       "      <th>351682</th>\n",
       "      <td>2016-03-12 00:57:39</td>\n",
       "      <td>11500</td>\n",
       "      <td>NaN</td>\n",
       "      <td>1800</td>\n",
       "      <td>NaN</td>\n",
       "      <td>16</td>\n",
       "      <td>other</td>\n",
       "      <td>5000</td>\n",
       "      <td>6</td>\n",
       "      <td>petrol</td>\n",
       "      <td>fiat</td>\n",
       "      <td>NaN</td>\n",
       "      <td>2016-03-11 00:00:00</td>\n",
       "      <td>0</td>\n",
       "      <td>16515</td>\n",
       "      <td>2016-04-05 19:47:27</td>\n",
       "    </tr>\n",
       "  </tbody>\n",
       "</table>\n",
       "<p>66 rows × 16 columns</p>\n",
       "</div>"
      ],
      "text/plain": [
       "               date_crawled  price vehicle_type  registration_year gearbox  \\\n",
       "622     2016-03-16 16:55:09      0          NaN               1111     NaN   \n",
       "16062   2016-03-29 23:42:16    190          NaN               1000     NaN   \n",
       "18224   2016-03-09 17:49:44   7999          NaN               1500  manual   \n",
       "34332   2016-04-01 06:02:10    450          NaN               1800     NaN   \n",
       "38875   2016-03-19 23:54:40   1234          NaN               1234     NaN   \n",
       "...                     ...    ...          ...                ...     ...   \n",
       "323443  2016-03-26 20:58:27     30          NaN               1000     NaN   \n",
       "325739  2016-03-30 11:36:35    400          NaN               1000     NaN   \n",
       "340759  2016-04-04 23:55:47    700          NaN               1600  manual   \n",
       "348830  2016-03-22 00:38:15      1          NaN               1000     NaN   \n",
       "351682  2016-03-12 00:57:39  11500          NaN               1800     NaN   \n",
       "\n",
       "        power    model  kilometer  registration_month fuel_type  \\\n",
       "622         0      NaN       5000                   0       NaN   \n",
       "16062       0   mondeo       5000                   0       NaN   \n",
       "18224     224  impreza       5000                   3       NaN   \n",
       "34332    1800      NaN       5000                   2       NaN   \n",
       "38875      26      NaN       5000                   1       NaN   \n",
       "...       ...      ...        ...                 ...       ...   \n",
       "323443      0      NaN       5000                   0       NaN   \n",
       "325739      0      NaN       5000                   0       NaN   \n",
       "340759   1600       a3     150000                   4    petrol   \n",
       "348830   1000      NaN     150000                   0       NaN   \n",
       "351682     16    other       5000                   6    petrol   \n",
       "\n",
       "                 brand repaired         date_created  number_of_pictures  \\\n",
       "622               opel      NaN  2016-03-16 00:00:00                   0   \n",
       "16062             ford      NaN  2016-03-29 00:00:00                   0   \n",
       "18224           subaru      NaN  2016-03-09 00:00:00                   0   \n",
       "34332       mitsubishi       no  2016-04-01 00:00:00                   0   \n",
       "38875          trabant      NaN  2016-03-19 00:00:00                   0   \n",
       "...                ...      ...                  ...                 ...   \n",
       "323443            audi      NaN  2016-03-26 00:00:00                   0   \n",
       "325739   mercedes_benz      NaN  2016-03-30 00:00:00                   0   \n",
       "340759            audi       no  2016-04-04 00:00:00                   0   \n",
       "348830  sonstige_autos      NaN  2016-03-21 00:00:00                   0   \n",
       "351682            fiat      NaN  2016-03-11 00:00:00                   0   \n",
       "\n",
       "        postal_code            last_seen  \n",
       "622           44628  2016-03-20 16:44:37  \n",
       "16062         47166  2016-04-06 10:44:58  \n",
       "18224         53577  2016-03-15 05:15:17  \n",
       "34332         63322  2016-04-01 09:42:30  \n",
       "38875         38518  2016-04-06 03:15:22  \n",
       "...             ...                  ...  \n",
       "323443        37574  2016-04-06 12:17:27  \n",
       "325739         8060  2016-04-01 06:16:46  \n",
       "340759        86343  2016-04-05 06:44:07  \n",
       "348830        41472  2016-04-05 14:18:01  \n",
       "351682        16515  2016-04-05 19:47:27  \n",
       "\n",
       "[66 rows x 16 columns]"
      ]
     },
     "execution_count": 14,
     "metadata": {},
     "output_type": "execute_result"
    }
   ],
   "source": [
    "df[df.registration_year<1910]"
   ]
  },
  {
   "cell_type": "code",
   "execution_count": null,
   "metadata": {},
   "outputs": [],
   "source": []
  },
  {
   "cell_type": "code",
   "execution_count": null,
   "metadata": {},
   "outputs": [],
   "source": []
  },
  {
   "cell_type": "code",
   "execution_count": null,
   "metadata": {},
   "outputs": [],
   "source": []
  },
  {
   "cell_type": "markdown",
   "metadata": {},
   "source": [
    "### Удаление неинформативных столбцов"
   ]
  },
  {
   "cell_type": "markdown",
   "metadata": {},
   "source": [
    "Нижеперечисленные столбцы не несут важной информации для создаваемых моделей, а напротив, могут только усложнить их обучение. По этой причине они подлежат удалению.<br>\n",
    "DateCrawled — дата скачивания анкеты из базы<br>\n",
    "DateCreated — дата создания анкеты<br>\n",
    "LastSeen — дата последней активности пользователя<br>\n",
    "PostalCode"
   ]
  },
  {
   "cell_type": "code",
   "execution_count": 15,
   "metadata": {},
   "outputs": [],
   "source": [
    "df = df.drop(['date_crawled','date_created','last_seen','postal_code'], axis=1)"
   ]
  },
  {
   "cell_type": "markdown",
   "metadata": {},
   "source": [
    "<div class='alert alert-success'> ✔️Да, эти колонки нам не пригодятся\n",
    "</div>"
   ]
  },
  {
   "cell_type": "code",
   "execution_count": 16,
   "metadata": {},
   "outputs": [
    {
     "name": "stdout",
     "output_type": "stream",
     "text": [
      "<class 'pandas.core.frame.DataFrame'>\n",
      "Int64Index: 354365 entries, 0 to 354368\n",
      "Data columns (total 12 columns):\n",
      " #   Column              Non-Null Count   Dtype \n",
      "---  ------              --------------   ----- \n",
      " 0   price               354365 non-null  int64 \n",
      " 1   vehicle_type        316875 non-null  object\n",
      " 2   registration_year   354365 non-null  int64 \n",
      " 3   gearbox             334532 non-null  object\n",
      " 4   power               354365 non-null  int64 \n",
      " 5   model               334660 non-null  object\n",
      " 6   kilometer           354365 non-null  int64 \n",
      " 7   registration_month  354365 non-null  int64 \n",
      " 8   fuel_type           321470 non-null  object\n",
      " 9   brand               354365 non-null  object\n",
      " 10  repaired            283211 non-null  object\n",
      " 11  number_of_pictures  354365 non-null  int64 \n",
      "dtypes: int64(6), object(6)\n",
      "memory usage: 35.1+ MB\n"
     ]
    }
   ],
   "source": [
    "df.info()"
   ]
  },
  {
   "cell_type": "code",
   "execution_count": null,
   "metadata": {},
   "outputs": [],
   "source": []
  },
  {
   "cell_type": "markdown",
   "metadata": {},
   "source": [
    "### Проверка значений"
   ]
  },
  {
   "cell_type": "code",
   "execution_count": 17,
   "metadata": {
    "scrolled": false
   },
   "outputs": [
    {
     "data": {
      "text/html": [
       "<div>\n",
       "<style scoped>\n",
       "    .dataframe tbody tr th:only-of-type {\n",
       "        vertical-align: middle;\n",
       "    }\n",
       "\n",
       "    .dataframe tbody tr th {\n",
       "        vertical-align: top;\n",
       "    }\n",
       "\n",
       "    .dataframe thead th {\n",
       "        text-align: right;\n",
       "    }\n",
       "</style>\n",
       "<table border=\"1\" class=\"dataframe\">\n",
       "  <thead>\n",
       "    <tr style=\"text-align: right;\">\n",
       "      <th></th>\n",
       "      <th>price</th>\n",
       "      <th>registration_year</th>\n",
       "      <th>power</th>\n",
       "      <th>kilometer</th>\n",
       "      <th>registration_month</th>\n",
       "      <th>number_of_pictures</th>\n",
       "    </tr>\n",
       "  </thead>\n",
       "  <tbody>\n",
       "    <tr>\n",
       "      <th>count</th>\n",
       "      <td>354365.000000</td>\n",
       "      <td>354365.000000</td>\n",
       "      <td>354365.000000</td>\n",
       "      <td>354365.000000</td>\n",
       "      <td>354365.000000</td>\n",
       "      <td>354365.0</td>\n",
       "    </tr>\n",
       "    <tr>\n",
       "      <th>mean</th>\n",
       "      <td>4416.679830</td>\n",
       "      <td>2004.234481</td>\n",
       "      <td>110.093816</td>\n",
       "      <td>128211.363989</td>\n",
       "      <td>5.714650</td>\n",
       "      <td>0.0</td>\n",
       "    </tr>\n",
       "    <tr>\n",
       "      <th>std</th>\n",
       "      <td>4514.176349</td>\n",
       "      <td>90.228466</td>\n",
       "      <td>189.851330</td>\n",
       "      <td>37905.083858</td>\n",
       "      <td>3.726432</td>\n",
       "      <td>0.0</td>\n",
       "    </tr>\n",
       "    <tr>\n",
       "      <th>min</th>\n",
       "      <td>0.000000</td>\n",
       "      <td>1000.000000</td>\n",
       "      <td>0.000000</td>\n",
       "      <td>5000.000000</td>\n",
       "      <td>0.000000</td>\n",
       "      <td>0.0</td>\n",
       "    </tr>\n",
       "    <tr>\n",
       "      <th>25%</th>\n",
       "      <td>1050.000000</td>\n",
       "      <td>1999.000000</td>\n",
       "      <td>69.000000</td>\n",
       "      <td>125000.000000</td>\n",
       "      <td>3.000000</td>\n",
       "      <td>0.0</td>\n",
       "    </tr>\n",
       "    <tr>\n",
       "      <th>50%</th>\n",
       "      <td>2700.000000</td>\n",
       "      <td>2003.000000</td>\n",
       "      <td>105.000000</td>\n",
       "      <td>150000.000000</td>\n",
       "      <td>6.000000</td>\n",
       "      <td>0.0</td>\n",
       "    </tr>\n",
       "    <tr>\n",
       "      <th>75%</th>\n",
       "      <td>6400.000000</td>\n",
       "      <td>2008.000000</td>\n",
       "      <td>143.000000</td>\n",
       "      <td>150000.000000</td>\n",
       "      <td>9.000000</td>\n",
       "      <td>0.0</td>\n",
       "    </tr>\n",
       "    <tr>\n",
       "      <th>max</th>\n",
       "      <td>20000.000000</td>\n",
       "      <td>9999.000000</td>\n",
       "      <td>20000.000000</td>\n",
       "      <td>150000.000000</td>\n",
       "      <td>12.000000</td>\n",
       "      <td>0.0</td>\n",
       "    </tr>\n",
       "  </tbody>\n",
       "</table>\n",
       "</div>"
      ],
      "text/plain": [
       "               price  registration_year          power      kilometer  \\\n",
       "count  354365.000000      354365.000000  354365.000000  354365.000000   \n",
       "mean     4416.679830        2004.234481     110.093816  128211.363989   \n",
       "std      4514.176349          90.228466     189.851330   37905.083858   \n",
       "min         0.000000        1000.000000       0.000000    5000.000000   \n",
       "25%      1050.000000        1999.000000      69.000000  125000.000000   \n",
       "50%      2700.000000        2003.000000     105.000000  150000.000000   \n",
       "75%      6400.000000        2008.000000     143.000000  150000.000000   \n",
       "max     20000.000000        9999.000000   20000.000000  150000.000000   \n",
       "\n",
       "       registration_month  number_of_pictures  \n",
       "count       354365.000000            354365.0  \n",
       "mean             5.714650                 0.0  \n",
       "std              3.726432                 0.0  \n",
       "min              0.000000                 0.0  \n",
       "25%              3.000000                 0.0  \n",
       "50%              6.000000                 0.0  \n",
       "75%              9.000000                 0.0  \n",
       "max             12.000000                 0.0  "
      ]
     },
     "execution_count": 17,
     "metadata": {},
     "output_type": "execute_result"
    }
   ],
   "source": [
    "df.describe()"
   ]
  },
  {
   "cell_type": "markdown",
   "metadata": {},
   "source": [
    "Столбец **number_of_pictures** содержит только нулевые значения, поэтому удалим его"
   ]
  },
  {
   "cell_type": "code",
   "execution_count": 18,
   "metadata": {},
   "outputs": [],
   "source": [
    "df = df.drop(['number_of_pictures'], axis=1)"
   ]
  },
  {
   "cell_type": "markdown",
   "metadata": {},
   "source": [
    "<div class='alert alert-success'> ✔️ Отличная заметка\n",
    "</div>"
   ]
  },
  {
   "cell_type": "markdown",
   "metadata": {},
   "source": [
    "**registration_year**"
   ]
  },
  {
   "cell_type": "markdown",
   "metadata": {},
   "source": [
    "**registration_year** содержит аномальные значения (от 0 до 9999)"
   ]
  },
  {
   "cell_type": "code",
   "execution_count": 19,
   "metadata": {},
   "outputs": [
    {
     "data": {
      "text/plain": [
       "array([1993, 2011, 2004, 2001, 2008, 1995, 1980, 2014, 1998, 2005, 1910,\n",
       "       2016, 2007, 2009, 2002, 2018, 1997, 1990, 2017, 1981, 2003, 1994,\n",
       "       1991, 1984, 2006, 1999, 2012, 2010, 2000, 1992, 2013, 1996, 1985,\n",
       "       1989, 2015, 1982, 1976, 1983, 1973, 1111, 1969, 1971, 1987, 1986,\n",
       "       1988, 1970, 1965, 1945, 1925, 1974, 1979, 1955, 1978, 1972, 1968,\n",
       "       1977, 1961, 1960, 1966, 1975, 1963, 1964, 5000, 1954, 1958, 1967,\n",
       "       1959, 9999, 1956, 3200, 1000, 1941, 8888, 1500, 2200, 4100, 1962,\n",
       "       1929, 1957, 1940, 3000, 2066, 1949, 2019, 1937, 1951, 1800, 1953,\n",
       "       1234, 8000, 5300, 9000, 2900, 6000, 5900, 5911, 1933, 1400, 1950,\n",
       "       4000, 1948, 1952, 1200, 8500, 1932, 1255, 3700, 3800, 4800, 1942,\n",
       "       7000, 1935, 1936, 6500, 1923, 2290, 2500, 1930, 1001, 9450, 1944,\n",
       "       1943, 1934, 1938, 1688, 2800, 1253, 1928, 1919, 5555, 5600, 1600,\n",
       "       2222, 1039, 9996, 1300, 8455, 1931, 1915, 4500, 1920, 1602, 7800,\n",
       "       9229, 1947, 1927, 7100, 8200, 1946, 7500, 3500])"
      ]
     },
     "execution_count": 19,
     "metadata": {},
     "output_type": "execute_result"
    }
   ],
   "source": [
    "df.registration_year.unique()"
   ]
  },
  {
   "cell_type": "code",
   "execution_count": 20,
   "metadata": {},
   "outputs": [
    {
     "data": {
      "text/plain": [
       "[1000,\n",
       " 1001,\n",
       " 1039,\n",
       " 1111,\n",
       " 1200,\n",
       " 1234,\n",
       " 1253,\n",
       " 1255,\n",
       " 1300,\n",
       " 1400,\n",
       " 1500,\n",
       " 1600,\n",
       " 1602,\n",
       " 1688,\n",
       " 1800,\n",
       " 1910,\n",
       " 1915,\n",
       " 1919,\n",
       " 1920,\n",
       " 1923,\n",
       " 1925,\n",
       " 1927,\n",
       " 1928,\n",
       " 1929,\n",
       " 1930,\n",
       " 1931,\n",
       " 1932,\n",
       " 1933,\n",
       " 1934,\n",
       " 1935,\n",
       " 1936,\n",
       " 1937,\n",
       " 1938,\n",
       " 1940,\n",
       " 1941,\n",
       " 1942,\n",
       " 1943,\n",
       " 1944,\n",
       " 1945,\n",
       " 1946,\n",
       " 1947,\n",
       " 1948,\n",
       " 1949,\n",
       " 1950,\n",
       " 1951,\n",
       " 1952,\n",
       " 1953,\n",
       " 1954,\n",
       " 1955,\n",
       " 1956,\n",
       " 1957,\n",
       " 1958,\n",
       " 1959,\n",
       " 1960,\n",
       " 1961,\n",
       " 1962,\n",
       " 1963,\n",
       " 1964,\n",
       " 1965,\n",
       " 1966,\n",
       " 1967,\n",
       " 1968,\n",
       " 1969,\n",
       " 1970,\n",
       " 1971,\n",
       " 1972,\n",
       " 1973,\n",
       " 1974,\n",
       " 1975,\n",
       " 1976,\n",
       " 1977,\n",
       " 1978,\n",
       " 1979,\n",
       " 1980,\n",
       " 1981,\n",
       " 1982,\n",
       " 1983,\n",
       " 1984,\n",
       " 1985,\n",
       " 1986,\n",
       " 1987,\n",
       " 1988,\n",
       " 1989,\n",
       " 1990,\n",
       " 1991,\n",
       " 1992,\n",
       " 1993,\n",
       " 1994,\n",
       " 1995,\n",
       " 1996,\n",
       " 1997,\n",
       " 1998,\n",
       " 1999,\n",
       " 2000,\n",
       " 2001,\n",
       " 2002,\n",
       " 2003,\n",
       " 2004,\n",
       " 2005,\n",
       " 2006,\n",
       " 2007,\n",
       " 2008,\n",
       " 2009,\n",
       " 2010,\n",
       " 2011,\n",
       " 2012,\n",
       " 2013,\n",
       " 2014,\n",
       " 2015,\n",
       " 2016,\n",
       " 2017,\n",
       " 2018,\n",
       " 2019,\n",
       " 2066,\n",
       " 2200,\n",
       " 2222,\n",
       " 2290,\n",
       " 2500,\n",
       " 2800,\n",
       " 2900,\n",
       " 3000,\n",
       " 3200,\n",
       " 3500,\n",
       " 3700,\n",
       " 3800,\n",
       " 4000,\n",
       " 4100,\n",
       " 4500,\n",
       " 4800,\n",
       " 5000,\n",
       " 5300,\n",
       " 5555,\n",
       " 5600,\n",
       " 5900,\n",
       " 5911,\n",
       " 6000,\n",
       " 6500,\n",
       " 7000,\n",
       " 7100,\n",
       " 7500,\n",
       " 7800,\n",
       " 8000,\n",
       " 8200,\n",
       " 8455,\n",
       " 8500,\n",
       " 8888,\n",
       " 9000,\n",
       " 9229,\n",
       " 9450,\n",
       " 9996,\n",
       " 9999]"
      ]
     },
     "execution_count": 20,
     "metadata": {},
     "output_type": "execute_result"
    }
   ],
   "source": [
    "sorted(df.registration_year.unique())"
   ]
  },
  {
   "cell_type": "markdown",
   "metadata": {},
   "source": [
    "Строки, со значениями ниже 1910 и выше 2019 удалим:"
   ]
  },
  {
   "cell_type": "code",
   "execution_count": 21,
   "metadata": {},
   "outputs": [
    {
     "data": {
      "text/plain": [
       "(354365, 11)"
      ]
     },
     "execution_count": 21,
     "metadata": {},
     "output_type": "execute_result"
    }
   ],
   "source": [
    "df.shape"
   ]
  },
  {
   "cell_type": "markdown",
   "metadata": {},
   "source": [
    "Подсчет количества строк, с аномальными годами регистрации"
   ]
  },
  {
   "cell_type": "code",
   "execution_count": 22,
   "metadata": {
    "scrolled": true
   },
   "outputs": [
    {
     "data": {
      "text/plain": [
       "171"
      ]
     },
     "execution_count": 22,
     "metadata": {},
     "output_type": "execute_result"
    }
   ],
   "source": [
    "abnormal_year = df[(df.registration_year<1910) | (df.registration_year>2019)].price.count()\n",
    "abnormal_year"
   ]
  },
  {
   "cell_type": "code",
   "execution_count": 23,
   "metadata": {},
   "outputs": [
    {
     "name": "stdout",
     "output_type": "stream",
     "text": [
      "Процент строк с аномальными значениями года регистрации  0.05%\n"
     ]
    }
   ],
   "source": [
    "print(f'Процент строк с аномальными значениями года регистрации  {abnormal_year/df.shape[0]:.2%}')"
   ]
  },
  {
   "cell_type": "markdown",
   "metadata": {},
   "source": [
    "Удаление значений"
   ]
  },
  {
   "cell_type": "code",
   "execution_count": 24,
   "metadata": {},
   "outputs": [],
   "source": [
    "df = df.drop(df[df.registration_year <1910].index)"
   ]
  },
  {
   "cell_type": "code",
   "execution_count": 25,
   "metadata": {},
   "outputs": [],
   "source": [
    "df = df.drop(df[df.registration_year >2019].index)"
   ]
  },
  {
   "cell_type": "code",
   "execution_count": 26,
   "metadata": {},
   "outputs": [
    {
     "data": {
      "text/plain": [
       "(354194, 11)"
      ]
     },
     "execution_count": 26,
     "metadata": {},
     "output_type": "execute_result"
    }
   ],
   "source": [
    "df.shape"
   ]
  },
  {
   "cell_type": "markdown",
   "metadata": {},
   "source": [
    "<div class='alert alert-warning'>⚠️ Хорошо, явно неправильные значения из года регистраци удалили. А как считаешь по дате скачивания можно что-то сказать о верхней границе года регистрации?</div>\n",
    "\n",
    "\n"
   ]
  },
  {
   "cell_type": "markdown",
   "metadata": {},
   "source": [
    "<div class=\"alert alert-block alert-info\"><b>Комментарий студента</b><br>\n",
    "    Год регистрации не превышает года в дате размещения анкеты. Может даже совпасть, но не обязательно\n",
    "</div>"
   ]
  },
  {
   "cell_type": "markdown",
   "metadata": {},
   "source": [
    "<div class='alert alert-success'> <strong>Ревьюер(2)</strong> <br>\n",
    "\n",
    "\n",
    "Точно, можешь фильтровать.\n",
    "</div>"
   ]
  },
  {
   "cell_type": "markdown",
   "metadata": {},
   "source": [
    "<div class='alert alert-danger'>❌(2)Давай заполнение пропусков переделаем. Price нельзя заполнять (нули фильтруй просто) и использовать значения при заполнении, так как можно создать искусственную зависимость между ценой и другими параметрами, что скажется на качестве итоговой оценки. Исходи их того, что target ты будешь знать только для части данных (тренировочных).<br>\n",
    "Обработку можешь сделать проще - заполни заглушками или модами, еще лучше модами по категории  <a href='https://dzen.ru/media/id/5ee6f73b7cadb75a66e4c7e3/zapolnenie-propuskov-kategorialnoi-modoi-6278da62f680416ea338bd9c'>как тут</a>. В целом, если идешь сложным путем, добавляй пояснения и понятные названия переменным, иначе читателю не ясно, что ты хочешь сделать.\n",
    "    \n",
    "    \n",
    "</div>"
   ]
  },
  {
   "cell_type": "markdown",
   "metadata": {},
   "source": [
    "### Заполнение пропусков"
   ]
  },
  {
   "cell_type": "code",
   "execution_count": 27,
   "metadata": {
    "scrolled": true
   },
   "outputs": [
    {
     "data": {
      "text/plain": [
       "price                     0\n",
       "vehicle_type          37319\n",
       "registration_year         0\n",
       "gearbox               19695\n",
       "power                     0\n",
       "model                 19630\n",
       "kilometer                 0\n",
       "registration_month        0\n",
       "fuel_type             32767\n",
       "brand                     0\n",
       "repaired              71007\n",
       "dtype: int64"
      ]
     },
     "execution_count": 27,
     "metadata": {},
     "output_type": "execute_result"
    }
   ],
   "source": [
    "df.isna().sum()"
   ]
  },
  {
   "cell_type": "markdown",
   "metadata": {},
   "source": [
    "Переведем нулевые значения в Nan"
   ]
  },
  {
   "cell_type": "code",
   "execution_count": 28,
   "metadata": {},
   "outputs": [],
   "source": [
    "df['power'] = df['power'].astype(float)"
   ]
  },
  {
   "cell_type": "code",
   "execution_count": 29,
   "metadata": {},
   "outputs": [],
   "source": [
    "df.loc[df[\"power\"] == 0 , \"power\"] = np.nan"
   ]
  },
  {
   "cell_type": "markdown",
   "metadata": {},
   "source": [
    "Удаление строк с пропусками в 5 столбцах"
   ]
  },
  {
   "cell_type": "code",
   "execution_count": 30,
   "metadata": {},
   "outputs": [],
   "source": [
    "df = df[~(df.vehicle_type.isna() & \n",
    "            df.gearbox.isna() & \n",
    "            df.power.isna() & \n",
    "            df.model.isna() &\n",
    "            df.fuel_type.isna())]"
   ]
  },
  {
   "cell_type": "markdown",
   "metadata": {},
   "source": [
    "#### repaired "
   ]
  },
  {
   "cell_type": "markdown",
   "metadata": {},
   "source": [
    "Будем предполагать, что неуказанные значения по ремонту означает, что ремонта не было"
   ]
  },
  {
   "cell_type": "code",
   "execution_count": 31,
   "metadata": {},
   "outputs": [],
   "source": [
    "df['repaired'] = df['repaired'].fillna('no')"
   ]
  },
  {
   "cell_type": "code",
   "execution_count": 32,
   "metadata": {},
   "outputs": [
    {
     "data": {
      "text/plain": [
       "repaired\n",
       "no     316105\n",
       "yes     36011\n",
       "Name: repaired, dtype: int64"
      ]
     },
     "execution_count": 32,
     "metadata": {},
     "output_type": "execute_result"
    }
   ],
   "source": [
    "df.groupby('repaired')['repaired'].count()"
   ]
  },
  {
   "cell_type": "markdown",
   "metadata": {},
   "source": [
    "#### **Fuel_type**"
   ]
  },
  {
   "cell_type": "markdown",
   "metadata": {},
   "source": [
    "Тип топлива заполним модой, исходя из известных **brand, vehicle_type','registration_year'**<br>\n",
    "Остатки заполним модой, исходя из известных **brand, 'registration_year'**<br>"
   ]
  },
  {
   "cell_type": "markdown",
   "metadata": {},
   "source": [
    "ПОлучаем таблицу с пропусками"
   ]
  },
  {
   "cell_type": "code",
   "execution_count": 33,
   "metadata": {},
   "outputs": [],
   "source": [
    "df1 = df[df['fuel_type'].isna()]"
   ]
  },
  {
   "cell_type": "code",
   "execution_count": 34,
   "metadata": {},
   "outputs": [
    {
     "data": {
      "text/html": [
       "<div>\n",
       "<style scoped>\n",
       "    .dataframe tbody tr th:only-of-type {\n",
       "        vertical-align: middle;\n",
       "    }\n",
       "\n",
       "    .dataframe tbody tr th {\n",
       "        vertical-align: top;\n",
       "    }\n",
       "\n",
       "    .dataframe thead th {\n",
       "        text-align: right;\n",
       "    }\n",
       "</style>\n",
       "<table border=\"1\" class=\"dataframe\">\n",
       "  <thead>\n",
       "    <tr style=\"text-align: right;\">\n",
       "      <th></th>\n",
       "      <th>price</th>\n",
       "      <th>vehicle_type</th>\n",
       "      <th>registration_year</th>\n",
       "      <th>gearbox</th>\n",
       "      <th>power</th>\n",
       "      <th>model</th>\n",
       "      <th>kilometer</th>\n",
       "      <th>registration_month</th>\n",
       "      <th>fuel_type</th>\n",
       "      <th>brand</th>\n",
       "      <th>repaired</th>\n",
       "    </tr>\n",
       "  </thead>\n",
       "  <tbody>\n",
       "    <tr>\n",
       "      <th>9</th>\n",
       "      <td>999</td>\n",
       "      <td>small</td>\n",
       "      <td>1998</td>\n",
       "      <td>manual</td>\n",
       "      <td>101.0</td>\n",
       "      <td>golf</td>\n",
       "      <td>150000</td>\n",
       "      <td>0</td>\n",
       "      <td>NaN</td>\n",
       "      <td>volkswagen</td>\n",
       "      <td>no</td>\n",
       "    </tr>\n",
       "    <tr>\n",
       "      <th>13</th>\n",
       "      <td>2500</td>\n",
       "      <td>wagon</td>\n",
       "      <td>2004</td>\n",
       "      <td>manual</td>\n",
       "      <td>131.0</td>\n",
       "      <td>passat</td>\n",
       "      <td>150000</td>\n",
       "      <td>2</td>\n",
       "      <td>NaN</td>\n",
       "      <td>volkswagen</td>\n",
       "      <td>no</td>\n",
       "    </tr>\n",
       "    <tr>\n",
       "      <th>26</th>\n",
       "      <td>5555</td>\n",
       "      <td>NaN</td>\n",
       "      <td>2017</td>\n",
       "      <td>manual</td>\n",
       "      <td>125.0</td>\n",
       "      <td>c4</td>\n",
       "      <td>125000</td>\n",
       "      <td>4</td>\n",
       "      <td>NaN</td>\n",
       "      <td>citroen</td>\n",
       "      <td>no</td>\n",
       "    </tr>\n",
       "    <tr>\n",
       "      <th>36</th>\n",
       "      <td>1600</td>\n",
       "      <td>other</td>\n",
       "      <td>1991</td>\n",
       "      <td>manual</td>\n",
       "      <td>75.0</td>\n",
       "      <td>kadett</td>\n",
       "      <td>70000</td>\n",
       "      <td>0</td>\n",
       "      <td>NaN</td>\n",
       "      <td>opel</td>\n",
       "      <td>no</td>\n",
       "    </tr>\n",
       "    <tr>\n",
       "      <th>41</th>\n",
       "      <td>7500</td>\n",
       "      <td>sedan</td>\n",
       "      <td>2002</td>\n",
       "      <td>auto</td>\n",
       "      <td>306.0</td>\n",
       "      <td>e_klasse</td>\n",
       "      <td>150000</td>\n",
       "      <td>4</td>\n",
       "      <td>NaN</td>\n",
       "      <td>mercedes_benz</td>\n",
       "      <td>no</td>\n",
       "    </tr>\n",
       "    <tr>\n",
       "      <th>...</th>\n",
       "      <td>...</td>\n",
       "      <td>...</td>\n",
       "      <td>...</td>\n",
       "      <td>...</td>\n",
       "      <td>...</td>\n",
       "      <td>...</td>\n",
       "      <td>...</td>\n",
       "      <td>...</td>\n",
       "      <td>...</td>\n",
       "      <td>...</td>\n",
       "      <td>...</td>\n",
       "    </tr>\n",
       "    <tr>\n",
       "      <th>354329</th>\n",
       "      <td>350</td>\n",
       "      <td>small</td>\n",
       "      <td>1996</td>\n",
       "      <td>NaN</td>\n",
       "      <td>65.0</td>\n",
       "      <td>punto</td>\n",
       "      <td>150000</td>\n",
       "      <td>0</td>\n",
       "      <td>NaN</td>\n",
       "      <td>fiat</td>\n",
       "      <td>no</td>\n",
       "    </tr>\n",
       "    <tr>\n",
       "      <th>354339</th>\n",
       "      <td>3850</td>\n",
       "      <td>convertible</td>\n",
       "      <td>2006</td>\n",
       "      <td>manual</td>\n",
       "      <td>108.0</td>\n",
       "      <td>2_reihe</td>\n",
       "      <td>125000</td>\n",
       "      <td>2</td>\n",
       "      <td>NaN</td>\n",
       "      <td>peugeot</td>\n",
       "      <td>no</td>\n",
       "    </tr>\n",
       "    <tr>\n",
       "      <th>354346</th>\n",
       "      <td>2600</td>\n",
       "      <td>NaN</td>\n",
       "      <td>2005</td>\n",
       "      <td>auto</td>\n",
       "      <td>NaN</td>\n",
       "      <td>c_klasse</td>\n",
       "      <td>150000</td>\n",
       "      <td>9</td>\n",
       "      <td>NaN</td>\n",
       "      <td>mercedes_benz</td>\n",
       "      <td>no</td>\n",
       "    </tr>\n",
       "    <tr>\n",
       "      <th>354351</th>\n",
       "      <td>1900</td>\n",
       "      <td>NaN</td>\n",
       "      <td>2000</td>\n",
       "      <td>manual</td>\n",
       "      <td>110.0</td>\n",
       "      <td>NaN</td>\n",
       "      <td>150000</td>\n",
       "      <td>7</td>\n",
       "      <td>NaN</td>\n",
       "      <td>volkswagen</td>\n",
       "      <td>no</td>\n",
       "    </tr>\n",
       "    <tr>\n",
       "      <th>354361</th>\n",
       "      <td>5250</td>\n",
       "      <td>NaN</td>\n",
       "      <td>2016</td>\n",
       "      <td>auto</td>\n",
       "      <td>150.0</td>\n",
       "      <td>159</td>\n",
       "      <td>150000</td>\n",
       "      <td>12</td>\n",
       "      <td>NaN</td>\n",
       "      <td>alfa_romeo</td>\n",
       "      <td>no</td>\n",
       "    </tr>\n",
       "  </tbody>\n",
       "</table>\n",
       "<p>30689 rows × 11 columns</p>\n",
       "</div>"
      ],
      "text/plain": [
       "        price vehicle_type  registration_year gearbox  power     model  \\\n",
       "9         999        small               1998  manual  101.0      golf   \n",
       "13       2500        wagon               2004  manual  131.0    passat   \n",
       "26       5555          NaN               2017  manual  125.0        c4   \n",
       "36       1600        other               1991  manual   75.0    kadett   \n",
       "41       7500        sedan               2002    auto  306.0  e_klasse   \n",
       "...       ...          ...                ...     ...    ...       ...   \n",
       "354329    350        small               1996     NaN   65.0     punto   \n",
       "354339   3850  convertible               2006  manual  108.0   2_reihe   \n",
       "354346   2600          NaN               2005    auto    NaN  c_klasse   \n",
       "354351   1900          NaN               2000  manual  110.0       NaN   \n",
       "354361   5250          NaN               2016    auto  150.0       159   \n",
       "\n",
       "        kilometer  registration_month fuel_type          brand repaired  \n",
       "9          150000                   0       NaN     volkswagen       no  \n",
       "13         150000                   2       NaN     volkswagen       no  \n",
       "26         125000                   4       NaN        citroen       no  \n",
       "36          70000                   0       NaN           opel       no  \n",
       "41         150000                   4       NaN  mercedes_benz       no  \n",
       "...           ...                 ...       ...            ...      ...  \n",
       "354329     150000                   0       NaN           fiat       no  \n",
       "354339     125000                   2       NaN        peugeot       no  \n",
       "354346     150000                   9       NaN  mercedes_benz       no  \n",
       "354351     150000                   7       NaN     volkswagen       no  \n",
       "354361     150000                  12       NaN     alfa_romeo       no  \n",
       "\n",
       "[30689 rows x 11 columns]"
      ]
     },
     "execution_count": 34,
     "metadata": {},
     "output_type": "execute_result"
    }
   ],
   "source": [
    "df1"
   ]
  },
  {
   "cell_type": "markdown",
   "metadata": {},
   "source": [
    "Группируем и считаем количество"
   ]
  },
  {
   "cell_type": "code",
   "execution_count": 35,
   "metadata": {},
   "outputs": [],
   "source": [
    "df11 = df.groupby(['brand','vehicle_type','registration_year','fuel_type']).size().reset_index()"
   ]
  },
  {
   "cell_type": "code",
   "execution_count": 36,
   "metadata": {},
   "outputs": [
    {
     "data": {
      "text/html": [
       "<div>\n",
       "<style scoped>\n",
       "    .dataframe tbody tr th:only-of-type {\n",
       "        vertical-align: middle;\n",
       "    }\n",
       "\n",
       "    .dataframe tbody tr th {\n",
       "        vertical-align: top;\n",
       "    }\n",
       "\n",
       "    .dataframe thead th {\n",
       "        text-align: right;\n",
       "    }\n",
       "</style>\n",
       "<table border=\"1\" class=\"dataframe\">\n",
       "  <thead>\n",
       "    <tr style=\"text-align: right;\">\n",
       "      <th></th>\n",
       "      <th>brand</th>\n",
       "      <th>vehicle_type</th>\n",
       "      <th>registration_year</th>\n",
       "      <th>fuel_type</th>\n",
       "      <th>0</th>\n",
       "    </tr>\n",
       "  </thead>\n",
       "  <tbody>\n",
       "    <tr>\n",
       "      <th>0</th>\n",
       "      <td>alfa_romeo</td>\n",
       "      <td>convertible</td>\n",
       "      <td>1965</td>\n",
       "      <td>petrol</td>\n",
       "      <td>1</td>\n",
       "    </tr>\n",
       "    <tr>\n",
       "      <th>1</th>\n",
       "      <td>alfa_romeo</td>\n",
       "      <td>convertible</td>\n",
       "      <td>1972</td>\n",
       "      <td>petrol</td>\n",
       "      <td>2</td>\n",
       "    </tr>\n",
       "    <tr>\n",
       "      <th>2</th>\n",
       "      <td>alfa_romeo</td>\n",
       "      <td>convertible</td>\n",
       "      <td>1974</td>\n",
       "      <td>petrol</td>\n",
       "      <td>1</td>\n",
       "    </tr>\n",
       "    <tr>\n",
       "      <th>3</th>\n",
       "      <td>alfa_romeo</td>\n",
       "      <td>convertible</td>\n",
       "      <td>1977</td>\n",
       "      <td>petrol</td>\n",
       "      <td>3</td>\n",
       "    </tr>\n",
       "    <tr>\n",
       "      <th>4</th>\n",
       "      <td>alfa_romeo</td>\n",
       "      <td>convertible</td>\n",
       "      <td>1979</td>\n",
       "      <td>petrol</td>\n",
       "      <td>3</td>\n",
       "    </tr>\n",
       "    <tr>\n",
       "      <th>...</th>\n",
       "      <td>...</td>\n",
       "      <td>...</td>\n",
       "      <td>...</td>\n",
       "      <td>...</td>\n",
       "      <td>...</td>\n",
       "    </tr>\n",
       "    <tr>\n",
       "      <th>11042</th>\n",
       "      <td>volvo</td>\n",
       "      <td>wagon</td>\n",
       "      <td>2012</td>\n",
       "      <td>gasoline</td>\n",
       "      <td>14</td>\n",
       "    </tr>\n",
       "    <tr>\n",
       "      <th>11043</th>\n",
       "      <td>volvo</td>\n",
       "      <td>wagon</td>\n",
       "      <td>2012</td>\n",
       "      <td>petrol</td>\n",
       "      <td>1</td>\n",
       "    </tr>\n",
       "    <tr>\n",
       "      <th>11044</th>\n",
       "      <td>volvo</td>\n",
       "      <td>wagon</td>\n",
       "      <td>2013</td>\n",
       "      <td>gasoline</td>\n",
       "      <td>7</td>\n",
       "    </tr>\n",
       "    <tr>\n",
       "      <th>11045</th>\n",
       "      <td>volvo</td>\n",
       "      <td>wagon</td>\n",
       "      <td>2013</td>\n",
       "      <td>petrol</td>\n",
       "      <td>3</td>\n",
       "    </tr>\n",
       "    <tr>\n",
       "      <th>11046</th>\n",
       "      <td>volvo</td>\n",
       "      <td>wagon</td>\n",
       "      <td>2014</td>\n",
       "      <td>gasoline</td>\n",
       "      <td>2</td>\n",
       "    </tr>\n",
       "  </tbody>\n",
       "</table>\n",
       "<p>11047 rows × 5 columns</p>\n",
       "</div>"
      ],
      "text/plain": [
       "            brand vehicle_type  registration_year fuel_type   0\n",
       "0      alfa_romeo  convertible               1965    petrol   1\n",
       "1      alfa_romeo  convertible               1972    petrol   2\n",
       "2      alfa_romeo  convertible               1974    petrol   1\n",
       "3      alfa_romeo  convertible               1977    petrol   3\n",
       "4      alfa_romeo  convertible               1979    petrol   3\n",
       "...           ...          ...                ...       ...  ..\n",
       "11042       volvo        wagon               2012  gasoline  14\n",
       "11043       volvo        wagon               2012    petrol   1\n",
       "11044       volvo        wagon               2013  gasoline   7\n",
       "11045       volvo        wagon               2013    petrol   3\n",
       "11046       volvo        wagon               2014  gasoline   2\n",
       "\n",
       "[11047 rows x 5 columns]"
      ]
     },
     "execution_count": 36,
     "metadata": {},
     "output_type": "execute_result"
    }
   ],
   "source": [
    "df11"
   ]
  },
  {
   "cell_type": "markdown",
   "metadata": {},
   "source": [
    "<div class='alert alert-danger'>❌(3)Здесь, как я писал, к price не надо обращаться. Считай, что для части датафрейма ты не знаешь эту колонку (валидационная и тестовая выборки). Для подсчета количества строк задавай size() после группировки, тогда не нужен будет столбец с агрегацией count.<br> Кроме того, чтобы \"оставить группу с максимальным количеством записей\" ниже keep last разве нужен?<br>\n",
    "    \n",
    "В целом логика заполнения хорошая, просто реализовано сложновато из-за того, что в функциях происходит внутренняя модификация датафрейма (внешняя зависимость), переменные с неговорящими названиями, работаешь на уровне ячеек, а не колонок и столбцов соответственно, код исполняется дольше. Я бы советовал переделать блок в стиле заполнения мощности, там у тебя все прекрасно получилось. Просто ты сам по прошествии времени не вспомнишь, что делал, если оставить так.\n",
    "\n",
    "</div>"
   ]
  },
  {
   "cell_type": "markdown",
   "metadata": {},
   "source": [
    "<div class=\"alert alert-block alert-info\"><b>Комментарий студента</b><br>\n",
    "    В стиле power работает только с числовыми значениями. Transform в данном случае не сработал с mode, а может я неправильно делал<br>\n",
    "    Хотел сделать заполнение модами не только по одной категории, а по группировке категорий, что более правильно на мой взгляд. Более дифференцированное заполнение \n",
    "</div>"
   ]
  },
  {
   "cell_type": "markdown",
   "metadata": {},
   "source": [
    "<div class='alert alert-success'> <strong>Ревьюер(4)</strong> <br>\n",
    "\n",
    "С модами тоже должно все работать <a href='https://teletype.in/@dt_analytic/uDTcdAjzrcg'>как здесь</a>\n",
    "\n",
    "</div>"
   ]
  },
  {
   "cell_type": "markdown",
   "metadata": {},
   "source": [
    "Сортируем по убыванию и оставляем группу с максимальным количеством записей и нужным видом топлива"
   ]
  },
  {
   "cell_type": "code",
   "execution_count": 37,
   "metadata": {},
   "outputs": [],
   "source": [
    "df11= df11.sort_values(0,ascending = False).drop_duplicates(['brand','vehicle_type','registration_year'])\n"
   ]
  },
  {
   "cell_type": "code",
   "execution_count": 38,
   "metadata": {},
   "outputs": [],
   "source": [
    "df11= df11.rename({0: 'count'}, axis='columns')"
   ]
  },
  {
   "cell_type": "code",
   "execution_count": 39,
   "metadata": {},
   "outputs": [
    {
     "data": {
      "text/html": [
       "<div>\n",
       "<style scoped>\n",
       "    .dataframe tbody tr th:only-of-type {\n",
       "        vertical-align: middle;\n",
       "    }\n",
       "\n",
       "    .dataframe tbody tr th {\n",
       "        vertical-align: top;\n",
       "    }\n",
       "\n",
       "    .dataframe thead th {\n",
       "        text-align: right;\n",
       "    }\n",
       "</style>\n",
       "<table border=\"1\" class=\"dataframe\">\n",
       "  <thead>\n",
       "    <tr style=\"text-align: right;\">\n",
       "      <th></th>\n",
       "      <th>brand</th>\n",
       "      <th>vehicle_type</th>\n",
       "      <th>registration_year</th>\n",
       "      <th>fuel_type</th>\n",
       "      <th>count</th>\n",
       "    </tr>\n",
       "  </thead>\n",
       "  <tbody>\n",
       "    <tr>\n",
       "      <th>10555</th>\n",
       "      <td>volkswagen</td>\n",
       "      <td>small</td>\n",
       "      <td>1999</td>\n",
       "      <td>petrol</td>\n",
       "      <td>1592</td>\n",
       "    </tr>\n",
       "    <tr>\n",
       "      <th>10427</th>\n",
       "      <td>volkswagen</td>\n",
       "      <td>sedan</td>\n",
       "      <td>1999</td>\n",
       "      <td>petrol</td>\n",
       "      <td>1470</td>\n",
       "    </tr>\n",
       "    <tr>\n",
       "      <th>10423</th>\n",
       "      <td>volkswagen</td>\n",
       "      <td>sedan</td>\n",
       "      <td>1998</td>\n",
       "      <td>petrol</td>\n",
       "      <td>1316</td>\n",
       "    </tr>\n",
       "    <tr>\n",
       "      <th>10544</th>\n",
       "      <td>volkswagen</td>\n",
       "      <td>small</td>\n",
       "      <td>1997</td>\n",
       "      <td>petrol</td>\n",
       "      <td>1215</td>\n",
       "    </tr>\n",
       "    <tr>\n",
       "      <th>10550</th>\n",
       "      <td>volkswagen</td>\n",
       "      <td>small</td>\n",
       "      <td>1998</td>\n",
       "      <td>petrol</td>\n",
       "      <td>1169</td>\n",
       "    </tr>\n",
       "    <tr>\n",
       "      <th>...</th>\n",
       "      <td>...</td>\n",
       "      <td>...</td>\n",
       "      <td>...</td>\n",
       "      <td>...</td>\n",
       "      <td>...</td>\n",
       "    </tr>\n",
       "    <tr>\n",
       "      <th>5656</th>\n",
       "      <td>mitsubishi</td>\n",
       "      <td>coupe</td>\n",
       "      <td>1988</td>\n",
       "      <td>petrol</td>\n",
       "      <td>1</td>\n",
       "    </tr>\n",
       "    <tr>\n",
       "      <th>5655</th>\n",
       "      <td>mitsubishi</td>\n",
       "      <td>coupe</td>\n",
       "      <td>1986</td>\n",
       "      <td>petrol</td>\n",
       "      <td>1</td>\n",
       "    </tr>\n",
       "    <tr>\n",
       "      <th>5654</th>\n",
       "      <td>mitsubishi</td>\n",
       "      <td>coupe</td>\n",
       "      <td>1983</td>\n",
       "      <td>petrol</td>\n",
       "      <td>1</td>\n",
       "    </tr>\n",
       "    <tr>\n",
       "      <th>5653</th>\n",
       "      <td>mitsubishi</td>\n",
       "      <td>coupe</td>\n",
       "      <td>1982</td>\n",
       "      <td>petrol</td>\n",
       "      <td>1</td>\n",
       "    </tr>\n",
       "    <tr>\n",
       "      <th>5523</th>\n",
       "      <td>mini</td>\n",
       "      <td>small</td>\n",
       "      <td>1967</td>\n",
       "      <td>petrol</td>\n",
       "      <td>1</td>\n",
       "    </tr>\n",
       "  </tbody>\n",
       "</table>\n",
       "<p>6661 rows × 5 columns</p>\n",
       "</div>"
      ],
      "text/plain": [
       "            brand vehicle_type  registration_year fuel_type  count\n",
       "10555  volkswagen        small               1999    petrol   1592\n",
       "10427  volkswagen        sedan               1999    petrol   1470\n",
       "10423  volkswagen        sedan               1998    petrol   1316\n",
       "10544  volkswagen        small               1997    petrol   1215\n",
       "10550  volkswagen        small               1998    petrol   1169\n",
       "...           ...          ...                ...       ...    ...\n",
       "5656   mitsubishi        coupe               1988    petrol      1\n",
       "5655   mitsubishi        coupe               1986    petrol      1\n",
       "5654   mitsubishi        coupe               1983    petrol      1\n",
       "5653   mitsubishi        coupe               1982    petrol      1\n",
       "5523         mini        small               1967    petrol      1\n",
       "\n",
       "[6661 rows x 5 columns]"
      ]
     },
     "execution_count": 39,
     "metadata": {},
     "output_type": "execute_result"
    }
   ],
   "source": [
    "df11"
   ]
  },
  {
   "cell_type": "markdown",
   "metadata": {},
   "source": [
    "Функция для заполнения пропуска в столбце Fuel_type"
   ]
  },
  {
   "cell_type": "code",
   "execution_count": 40,
   "metadata": {},
   "outputs": [],
   "source": [
    "def aaa(row):\n",
    "    \"\"\"\n",
    "    Заполнение Fuel_type\n",
    "    \"\"\"\n",
    "    df1.loc[((df1.brand == row[0]) & (df1.vehicle_type == row[1]) & (df1.registration_year == row[2]) ), 'fuel_type'] = row[3]"
   ]
  },
  {
   "cell_type": "code",
   "execution_count": 41,
   "metadata": {},
   "outputs": [],
   "source": [
    "def aaa1(row):\n",
    "    df1.loc[((df1.brand == row[0]) & (df1.registration_year == row[1]) ), 'fuel_type'] = row[2]"
   ]
  },
  {
   "cell_type": "markdown",
   "metadata": {},
   "source": [
    "Применение функции заполнения столбца для каждой строки в таблице с пропусками"
   ]
  },
  {
   "cell_type": "code",
   "execution_count": 42,
   "metadata": {
    "scrolled": true
   },
   "outputs": [
    {
     "name": "stdout",
     "output_type": "stream",
     "text": [
      "CPU times: user 28.2 s, sys: 49 ms, total: 28.3 s\n",
      "Wall time: 28.3 s\n"
     ]
    },
    {
     "data": {
      "text/plain": [
       "10555    None\n",
       "10427    None\n",
       "10423    None\n",
       "10544    None\n",
       "10550    None\n",
       "         ... \n",
       "5656     None\n",
       "5655     None\n",
       "5654     None\n",
       "5653     None\n",
       "5523     None\n",
       "Length: 6661, dtype: object"
      ]
     },
     "execution_count": 42,
     "metadata": {},
     "output_type": "execute_result"
    }
   ],
   "source": [
    "%%time\n",
    "df11.apply(aaa,axis=1)"
   ]
  },
  {
   "cell_type": "code",
   "execution_count": 43,
   "metadata": {},
   "outputs": [
    {
     "data": {
      "text/html": [
       "<div>\n",
       "<style scoped>\n",
       "    .dataframe tbody tr th:only-of-type {\n",
       "        vertical-align: middle;\n",
       "    }\n",
       "\n",
       "    .dataframe tbody tr th {\n",
       "        vertical-align: top;\n",
       "    }\n",
       "\n",
       "    .dataframe thead th {\n",
       "        text-align: right;\n",
       "    }\n",
       "</style>\n",
       "<table border=\"1\" class=\"dataframe\">\n",
       "  <thead>\n",
       "    <tr style=\"text-align: right;\">\n",
       "      <th></th>\n",
       "      <th>price</th>\n",
       "      <th>vehicle_type</th>\n",
       "      <th>registration_year</th>\n",
       "      <th>gearbox</th>\n",
       "      <th>power</th>\n",
       "      <th>model</th>\n",
       "      <th>kilometer</th>\n",
       "      <th>registration_month</th>\n",
       "      <th>fuel_type</th>\n",
       "      <th>brand</th>\n",
       "      <th>repaired</th>\n",
       "    </tr>\n",
       "  </thead>\n",
       "  <tbody>\n",
       "    <tr>\n",
       "      <th>9</th>\n",
       "      <td>999</td>\n",
       "      <td>small</td>\n",
       "      <td>1998</td>\n",
       "      <td>manual</td>\n",
       "      <td>101.0</td>\n",
       "      <td>golf</td>\n",
       "      <td>150000</td>\n",
       "      <td>0</td>\n",
       "      <td>petrol</td>\n",
       "      <td>volkswagen</td>\n",
       "      <td>no</td>\n",
       "    </tr>\n",
       "    <tr>\n",
       "      <th>13</th>\n",
       "      <td>2500</td>\n",
       "      <td>wagon</td>\n",
       "      <td>2004</td>\n",
       "      <td>manual</td>\n",
       "      <td>131.0</td>\n",
       "      <td>passat</td>\n",
       "      <td>150000</td>\n",
       "      <td>2</td>\n",
       "      <td>gasoline</td>\n",
       "      <td>volkswagen</td>\n",
       "      <td>no</td>\n",
       "    </tr>\n",
       "    <tr>\n",
       "      <th>26</th>\n",
       "      <td>5555</td>\n",
       "      <td>NaN</td>\n",
       "      <td>2017</td>\n",
       "      <td>manual</td>\n",
       "      <td>125.0</td>\n",
       "      <td>c4</td>\n",
       "      <td>125000</td>\n",
       "      <td>4</td>\n",
       "      <td>NaN</td>\n",
       "      <td>citroen</td>\n",
       "      <td>no</td>\n",
       "    </tr>\n",
       "    <tr>\n",
       "      <th>36</th>\n",
       "      <td>1600</td>\n",
       "      <td>other</td>\n",
       "      <td>1991</td>\n",
       "      <td>manual</td>\n",
       "      <td>75.0</td>\n",
       "      <td>kadett</td>\n",
       "      <td>70000</td>\n",
       "      <td>0</td>\n",
       "      <td>petrol</td>\n",
       "      <td>opel</td>\n",
       "      <td>no</td>\n",
       "    </tr>\n",
       "    <tr>\n",
       "      <th>41</th>\n",
       "      <td>7500</td>\n",
       "      <td>sedan</td>\n",
       "      <td>2002</td>\n",
       "      <td>auto</td>\n",
       "      <td>306.0</td>\n",
       "      <td>e_klasse</td>\n",
       "      <td>150000</td>\n",
       "      <td>4</td>\n",
       "      <td>petrol</td>\n",
       "      <td>mercedes_benz</td>\n",
       "      <td>no</td>\n",
       "    </tr>\n",
       "  </tbody>\n",
       "</table>\n",
       "</div>"
      ],
      "text/plain": [
       "    price vehicle_type  registration_year gearbox  power     model  kilometer  \\\n",
       "9     999        small               1998  manual  101.0      golf     150000   \n",
       "13   2500        wagon               2004  manual  131.0    passat     150000   \n",
       "26   5555          NaN               2017  manual  125.0        c4     125000   \n",
       "36   1600        other               1991  manual   75.0    kadett      70000   \n",
       "41   7500        sedan               2002    auto  306.0  e_klasse     150000   \n",
       "\n",
       "    registration_month fuel_type          brand repaired  \n",
       "9                    0    petrol     volkswagen       no  \n",
       "13                   2  gasoline     volkswagen       no  \n",
       "26                   4       NaN        citroen       no  \n",
       "36                   0    petrol           opel       no  \n",
       "41                   4    petrol  mercedes_benz       no  "
      ]
     },
     "execution_count": 43,
     "metadata": {},
     "output_type": "execute_result"
    }
   ],
   "source": [
    "df1.head()"
   ]
  },
  {
   "cell_type": "code",
   "execution_count": 44,
   "metadata": {},
   "outputs": [
    {
     "data": {
      "text/html": [
       "<div>\n",
       "<style scoped>\n",
       "    .dataframe tbody tr th:only-of-type {\n",
       "        vertical-align: middle;\n",
       "    }\n",
       "\n",
       "    .dataframe tbody tr th {\n",
       "        vertical-align: top;\n",
       "    }\n",
       "\n",
       "    .dataframe thead th {\n",
       "        text-align: right;\n",
       "    }\n",
       "</style>\n",
       "<table border=\"1\" class=\"dataframe\">\n",
       "  <thead>\n",
       "    <tr style=\"text-align: right;\">\n",
       "      <th></th>\n",
       "      <th>price</th>\n",
       "      <th>vehicle_type</th>\n",
       "      <th>registration_year</th>\n",
       "      <th>gearbox</th>\n",
       "      <th>power</th>\n",
       "      <th>model</th>\n",
       "      <th>kilometer</th>\n",
       "      <th>registration_month</th>\n",
       "      <th>fuel_type</th>\n",
       "      <th>brand</th>\n",
       "      <th>repaired</th>\n",
       "    </tr>\n",
       "  </thead>\n",
       "  <tbody>\n",
       "    <tr>\n",
       "      <th>0</th>\n",
       "      <td>480</td>\n",
       "      <td>NaN</td>\n",
       "      <td>1993</td>\n",
       "      <td>manual</td>\n",
       "      <td>NaN</td>\n",
       "      <td>golf</td>\n",
       "      <td>150000</td>\n",
       "      <td>0</td>\n",
       "      <td>petrol</td>\n",
       "      <td>volkswagen</td>\n",
       "      <td>no</td>\n",
       "    </tr>\n",
       "    <tr>\n",
       "      <th>1</th>\n",
       "      <td>18300</td>\n",
       "      <td>coupe</td>\n",
       "      <td>2011</td>\n",
       "      <td>manual</td>\n",
       "      <td>190.0</td>\n",
       "      <td>NaN</td>\n",
       "      <td>125000</td>\n",
       "      <td>5</td>\n",
       "      <td>gasoline</td>\n",
       "      <td>audi</td>\n",
       "      <td>yes</td>\n",
       "    </tr>\n",
       "    <tr>\n",
       "      <th>2</th>\n",
       "      <td>9800</td>\n",
       "      <td>suv</td>\n",
       "      <td>2004</td>\n",
       "      <td>auto</td>\n",
       "      <td>163.0</td>\n",
       "      <td>grand</td>\n",
       "      <td>125000</td>\n",
       "      <td>8</td>\n",
       "      <td>gasoline</td>\n",
       "      <td>jeep</td>\n",
       "      <td>no</td>\n",
       "    </tr>\n",
       "    <tr>\n",
       "      <th>3</th>\n",
       "      <td>1500</td>\n",
       "      <td>small</td>\n",
       "      <td>2001</td>\n",
       "      <td>manual</td>\n",
       "      <td>75.0</td>\n",
       "      <td>golf</td>\n",
       "      <td>150000</td>\n",
       "      <td>6</td>\n",
       "      <td>petrol</td>\n",
       "      <td>volkswagen</td>\n",
       "      <td>no</td>\n",
       "    </tr>\n",
       "    <tr>\n",
       "      <th>4</th>\n",
       "      <td>3600</td>\n",
       "      <td>small</td>\n",
       "      <td>2008</td>\n",
       "      <td>manual</td>\n",
       "      <td>69.0</td>\n",
       "      <td>fabia</td>\n",
       "      <td>90000</td>\n",
       "      <td>7</td>\n",
       "      <td>gasoline</td>\n",
       "      <td>skoda</td>\n",
       "      <td>no</td>\n",
       "    </tr>\n",
       "  </tbody>\n",
       "</table>\n",
       "</div>"
      ],
      "text/plain": [
       "   price vehicle_type  registration_year gearbox  power  model  kilometer  \\\n",
       "0    480          NaN               1993  manual    NaN   golf     150000   \n",
       "1  18300        coupe               2011  manual  190.0    NaN     125000   \n",
       "2   9800          suv               2004    auto  163.0  grand     125000   \n",
       "3   1500        small               2001  manual   75.0   golf     150000   \n",
       "4   3600        small               2008  manual   69.0  fabia      90000   \n",
       "\n",
       "   registration_month fuel_type       brand repaired  \n",
       "0                   0    petrol  volkswagen       no  \n",
       "1                   5  gasoline        audi      yes  \n",
       "2                   8  gasoline        jeep       no  \n",
       "3                   6    petrol  volkswagen       no  \n",
       "4                   7  gasoline       skoda       no  "
      ]
     },
     "execution_count": 44,
     "metadata": {},
     "output_type": "execute_result"
    }
   ],
   "source": [
    "df.head()"
   ]
  },
  {
   "cell_type": "markdown",
   "metadata": {},
   "source": [
    "Обновляем исходный датафрейм полученными значениями"
   ]
  },
  {
   "cell_type": "code",
   "execution_count": 45,
   "metadata": {},
   "outputs": [],
   "source": [
    "df.update(df1, join='left', overwrite=True, filter_func=None, errors='ignore')"
   ]
  },
  {
   "cell_type": "code",
   "execution_count": null,
   "metadata": {},
   "outputs": [],
   "source": []
  },
  {
   "cell_type": "code",
   "execution_count": 46,
   "metadata": {},
   "outputs": [],
   "source": [
    "df1 = df[df['fuel_type'].isna()]"
   ]
  },
  {
   "cell_type": "code",
   "execution_count": 47,
   "metadata": {},
   "outputs": [],
   "source": [
    "df12 = df.groupby(['brand','registration_year','fuel_type']).size().reset_index()"
   ]
  },
  {
   "cell_type": "code",
   "execution_count": 48,
   "metadata": {},
   "outputs": [],
   "source": [
    "df12= df12.sort_values(0,ascending = False).drop_duplicates(['brand','registration_year'])"
   ]
  },
  {
   "cell_type": "code",
   "execution_count": 49,
   "metadata": {},
   "outputs": [],
   "source": [
    "df12= df12.rename({0: 'count'}, axis='columns')"
   ]
  },
  {
   "cell_type": "code",
   "execution_count": 50,
   "metadata": {},
   "outputs": [
    {
     "data": {
      "text/html": [
       "<div>\n",
       "<style scoped>\n",
       "    .dataframe tbody tr th:only-of-type {\n",
       "        vertical-align: middle;\n",
       "    }\n",
       "\n",
       "    .dataframe tbody tr th {\n",
       "        vertical-align: top;\n",
       "    }\n",
       "\n",
       "    .dataframe thead th {\n",
       "        text-align: right;\n",
       "    }\n",
       "</style>\n",
       "<table border=\"1\" class=\"dataframe\">\n",
       "  <thead>\n",
       "    <tr style=\"text-align: right;\">\n",
       "      <th></th>\n",
       "      <th>brand</th>\n",
       "      <th>registration_year</th>\n",
       "      <th>fuel_type</th>\n",
       "      <th>count</th>\n",
       "    </tr>\n",
       "  </thead>\n",
       "  <tbody>\n",
       "    <tr>\n",
       "      <th>3632</th>\n",
       "      <td>volkswagen</td>\n",
       "      <td>1999.0</td>\n",
       "      <td>petrol</td>\n",
       "      <td>4230</td>\n",
       "    </tr>\n",
       "    <tr>\n",
       "      <th>3626</th>\n",
       "      <td>volkswagen</td>\n",
       "      <td>1998.0</td>\n",
       "      <td>petrol</td>\n",
       "      <td>3577</td>\n",
       "    </tr>\n",
       "    <tr>\n",
       "      <th>3620</th>\n",
       "      <td>volkswagen</td>\n",
       "      <td>1997.0</td>\n",
       "      <td>petrol</td>\n",
       "      <td>3054</td>\n",
       "    </tr>\n",
       "    <tr>\n",
       "      <th>3637</th>\n",
       "      <td>volkswagen</td>\n",
       "      <td>2000.0</td>\n",
       "      <td>petrol</td>\n",
       "      <td>3022</td>\n",
       "    </tr>\n",
       "    <tr>\n",
       "      <th>2310</th>\n",
       "      <td>opel</td>\n",
       "      <td>1999.0</td>\n",
       "      <td>petrol</td>\n",
       "      <td>3021</td>\n",
       "    </tr>\n",
       "    <tr>\n",
       "      <th>...</th>\n",
       "      <td>...</td>\n",
       "      <td>...</td>\n",
       "      <td>...</td>\n",
       "      <td>...</td>\n",
       "    </tr>\n",
       "    <tr>\n",
       "      <th>948</th>\n",
       "      <td>ford</td>\n",
       "      <td>1928.0</td>\n",
       "      <td>petrol</td>\n",
       "      <td>1</td>\n",
       "    </tr>\n",
       "    <tr>\n",
       "      <th>947</th>\n",
       "      <td>ford</td>\n",
       "      <td>1927.0</td>\n",
       "      <td>petrol</td>\n",
       "      <td>1</td>\n",
       "    </tr>\n",
       "    <tr>\n",
       "      <th>946</th>\n",
       "      <td>ford</td>\n",
       "      <td>1919.0</td>\n",
       "      <td>petrol</td>\n",
       "      <td>1</td>\n",
       "    </tr>\n",
       "    <tr>\n",
       "      <th>944</th>\n",
       "      <td>fiat</td>\n",
       "      <td>2019.0</td>\n",
       "      <td>petrol</td>\n",
       "      <td>1</td>\n",
       "    </tr>\n",
       "    <tr>\n",
       "      <th>0</th>\n",
       "      <td>alfa_romeo</td>\n",
       "      <td>1910.0</td>\n",
       "      <td>petrol</td>\n",
       "      <td>1</td>\n",
       "    </tr>\n",
       "  </tbody>\n",
       "</table>\n",
       "<p>1875 rows × 4 columns</p>\n",
       "</div>"
      ],
      "text/plain": [
       "           brand  registration_year fuel_type  count\n",
       "3632  volkswagen             1999.0    petrol   4230\n",
       "3626  volkswagen             1998.0    petrol   3577\n",
       "3620  volkswagen             1997.0    petrol   3054\n",
       "3637  volkswagen             2000.0    petrol   3022\n",
       "2310        opel             1999.0    petrol   3021\n",
       "...          ...                ...       ...    ...\n",
       "948         ford             1928.0    petrol      1\n",
       "947         ford             1927.0    petrol      1\n",
       "946         ford             1919.0    petrol      1\n",
       "944         fiat             2019.0    petrol      1\n",
       "0     alfa_romeo             1910.0    petrol      1\n",
       "\n",
       "[1875 rows x 4 columns]"
      ]
     },
     "execution_count": 50,
     "metadata": {},
     "output_type": "execute_result"
    }
   ],
   "source": [
    "df12"
   ]
  },
  {
   "cell_type": "code",
   "execution_count": 51,
   "metadata": {},
   "outputs": [
    {
     "name": "stdout",
     "output_type": "stream",
     "text": [
      "CPU times: user 3.19 s, sys: 8.1 ms, total: 3.2 s\n",
      "Wall time: 3.2 s\n"
     ]
    },
    {
     "data": {
      "text/plain": [
       "3632    None\n",
       "3626    None\n",
       "3620    None\n",
       "3637    None\n",
       "2310    None\n",
       "        ... \n",
       "948     None\n",
       "947     None\n",
       "946     None\n",
       "944     None\n",
       "0       None\n",
       "Length: 1875, dtype: object"
      ]
     },
     "execution_count": 51,
     "metadata": {},
     "output_type": "execute_result"
    }
   ],
   "source": [
    "%%time\n",
    "df12.apply(aaa1,axis=1)"
   ]
  },
  {
   "cell_type": "code",
   "execution_count": 52,
   "metadata": {},
   "outputs": [],
   "source": [
    "df.update(df1, join='left', overwrite=True, filter_func=None, errors='ignore')"
   ]
  },
  {
   "cell_type": "code",
   "execution_count": 53,
   "metadata": {},
   "outputs": [
    {
     "data": {
      "text/plain": [
       "price                     0\n",
       "vehicle_type          35241\n",
       "registration_year         0\n",
       "gearbox               17617\n",
       "power                 38020\n",
       "model                 17552\n",
       "kilometer                 0\n",
       "registration_month        0\n",
       "fuel_type                69\n",
       "brand                     0\n",
       "repaired                  0\n",
       "dtype: int64"
      ]
     },
     "execution_count": 53,
     "metadata": {},
     "output_type": "execute_result"
    }
   ],
   "source": [
    "df.isna().sum()"
   ]
  },
  {
   "cell_type": "code",
   "execution_count": null,
   "metadata": {},
   "outputs": [],
   "source": []
  },
  {
   "cell_type": "code",
   "execution_count": null,
   "metadata": {},
   "outputs": [],
   "source": []
  },
  {
   "cell_type": "code",
   "execution_count": null,
   "metadata": {},
   "outputs": [],
   "source": []
  },
  {
   "cell_type": "code",
   "execution_count": 54,
   "metadata": {},
   "outputs": [],
   "source": [
    "def plot_column(column,title,df=df):\n",
    "    \"\"\"\n",
    "    Построение графика boxplot для заданного столбца\n",
    "    \"\"\"\n",
    "    sns.boxplot(data=df[column]);\n",
    "    p25 = df[column].quantile(.25)\n",
    "    p75 = df[column].quantile(.75)\n",
    "    iqr = p75 - p25\n",
    "    plt.ylim(0,p75 + 1.75*iqr);\n",
    "    #plt.ylabel('Мощность (л.с.)');\n",
    "    plt.title(title);"
   ]
  },
  {
   "cell_type": "code",
   "execution_count": 55,
   "metadata": {},
   "outputs": [],
   "source": [
    "def abnormal_column(column,df=df,price='price'):\n",
    "    \"\"\"\n",
    "    Подсчет количества выбросов и квантилей 5%, 95%\n",
    "    \"\"\"\n",
    "    p05 = df[column].quantile(.05)\n",
    "    p95 = df[column].quantile(.95)\n",
    "    abnormal_value = df[(df[column]<p05) | (df[column]>p95)][price].count()\n",
    "    return abnormal_value,p05,p95"
   ]
  },
  {
   "cell_type": "markdown",
   "metadata": {},
   "source": [
    "#### **Восстановление vehicle_type**"
   ]
  },
  {
   "cell_type": "markdown",
   "metadata": {},
   "source": [
    "Заполняем наиболее часто встречающимися значениями, рассчитанными на основе группировки по **brand, model,registration_year**"
   ]
  },
  {
   "cell_type": "code",
   "execution_count": 56,
   "metadata": {},
   "outputs": [],
   "source": [
    "df1 = df[df['vehicle_type'].isna()]"
   ]
  },
  {
   "cell_type": "code",
   "execution_count": 57,
   "metadata": {},
   "outputs": [
    {
     "data": {
      "text/html": [
       "<div>\n",
       "<style scoped>\n",
       "    .dataframe tbody tr th:only-of-type {\n",
       "        vertical-align: middle;\n",
       "    }\n",
       "\n",
       "    .dataframe tbody tr th {\n",
       "        vertical-align: top;\n",
       "    }\n",
       "\n",
       "    .dataframe thead th {\n",
       "        text-align: right;\n",
       "    }\n",
       "</style>\n",
       "<table border=\"1\" class=\"dataframe\">\n",
       "  <thead>\n",
       "    <tr style=\"text-align: right;\">\n",
       "      <th></th>\n",
       "      <th>price</th>\n",
       "      <th>vehicle_type</th>\n",
       "      <th>registration_year</th>\n",
       "      <th>gearbox</th>\n",
       "      <th>power</th>\n",
       "      <th>model</th>\n",
       "      <th>kilometer</th>\n",
       "      <th>registration_month</th>\n",
       "      <th>fuel_type</th>\n",
       "      <th>brand</th>\n",
       "      <th>repaired</th>\n",
       "    </tr>\n",
       "  </thead>\n",
       "  <tbody>\n",
       "    <tr>\n",
       "      <th>0</th>\n",
       "      <td>480.0</td>\n",
       "      <td>NaN</td>\n",
       "      <td>1993.0</td>\n",
       "      <td>manual</td>\n",
       "      <td>NaN</td>\n",
       "      <td>golf</td>\n",
       "      <td>150000.0</td>\n",
       "      <td>0.0</td>\n",
       "      <td>petrol</td>\n",
       "      <td>volkswagen</td>\n",
       "      <td>no</td>\n",
       "    </tr>\n",
       "    <tr>\n",
       "      <th>16</th>\n",
       "      <td>300.0</td>\n",
       "      <td>NaN</td>\n",
       "      <td>2016.0</td>\n",
       "      <td>NaN</td>\n",
       "      <td>60.0</td>\n",
       "      <td>polo</td>\n",
       "      <td>150000.0</td>\n",
       "      <td>0.0</td>\n",
       "      <td>petrol</td>\n",
       "      <td>volkswagen</td>\n",
       "      <td>no</td>\n",
       "    </tr>\n",
       "    <tr>\n",
       "      <th>22</th>\n",
       "      <td>2900.0</td>\n",
       "      <td>NaN</td>\n",
       "      <td>2018.0</td>\n",
       "      <td>manual</td>\n",
       "      <td>90.0</td>\n",
       "      <td>meriva</td>\n",
       "      <td>150000.0</td>\n",
       "      <td>5.0</td>\n",
       "      <td>petrol</td>\n",
       "      <td>opel</td>\n",
       "      <td>no</td>\n",
       "    </tr>\n",
       "    <tr>\n",
       "      <th>26</th>\n",
       "      <td>5555.0</td>\n",
       "      <td>NaN</td>\n",
       "      <td>2017.0</td>\n",
       "      <td>manual</td>\n",
       "      <td>125.0</td>\n",
       "      <td>c4</td>\n",
       "      <td>125000.0</td>\n",
       "      <td>4.0</td>\n",
       "      <td>petrol</td>\n",
       "      <td>citroen</td>\n",
       "      <td>no</td>\n",
       "    </tr>\n",
       "    <tr>\n",
       "      <th>31</th>\n",
       "      <td>899.0</td>\n",
       "      <td>NaN</td>\n",
       "      <td>2016.0</td>\n",
       "      <td>manual</td>\n",
       "      <td>60.0</td>\n",
       "      <td>clio</td>\n",
       "      <td>150000.0</td>\n",
       "      <td>6.0</td>\n",
       "      <td>petrol</td>\n",
       "      <td>renault</td>\n",
       "      <td>no</td>\n",
       "    </tr>\n",
       "    <tr>\n",
       "      <th>...</th>\n",
       "      <td>...</td>\n",
       "      <td>...</td>\n",
       "      <td>...</td>\n",
       "      <td>...</td>\n",
       "      <td>...</td>\n",
       "      <td>...</td>\n",
       "      <td>...</td>\n",
       "      <td>...</td>\n",
       "      <td>...</td>\n",
       "      <td>...</td>\n",
       "      <td>...</td>\n",
       "    </tr>\n",
       "    <tr>\n",
       "      <th>354338</th>\n",
       "      <td>180.0</td>\n",
       "      <td>NaN</td>\n",
       "      <td>1995.0</td>\n",
       "      <td>NaN</td>\n",
       "      <td>NaN</td>\n",
       "      <td>NaN</td>\n",
       "      <td>125000.0</td>\n",
       "      <td>3.0</td>\n",
       "      <td>petrol</td>\n",
       "      <td>opel</td>\n",
       "      <td>no</td>\n",
       "    </tr>\n",
       "    <tr>\n",
       "      <th>354346</th>\n",
       "      <td>2600.0</td>\n",
       "      <td>NaN</td>\n",
       "      <td>2005.0</td>\n",
       "      <td>auto</td>\n",
       "      <td>NaN</td>\n",
       "      <td>c_klasse</td>\n",
       "      <td>150000.0</td>\n",
       "      <td>9.0</td>\n",
       "      <td>gasoline</td>\n",
       "      <td>mercedes_benz</td>\n",
       "      <td>no</td>\n",
       "    </tr>\n",
       "    <tr>\n",
       "      <th>354351</th>\n",
       "      <td>1900.0</td>\n",
       "      <td>NaN</td>\n",
       "      <td>2000.0</td>\n",
       "      <td>manual</td>\n",
       "      <td>110.0</td>\n",
       "      <td>NaN</td>\n",
       "      <td>150000.0</td>\n",
       "      <td>7.0</td>\n",
       "      <td>petrol</td>\n",
       "      <td>volkswagen</td>\n",
       "      <td>no</td>\n",
       "    </tr>\n",
       "    <tr>\n",
       "      <th>354361</th>\n",
       "      <td>5250.0</td>\n",
       "      <td>NaN</td>\n",
       "      <td>2016.0</td>\n",
       "      <td>auto</td>\n",
       "      <td>150.0</td>\n",
       "      <td>159</td>\n",
       "      <td>150000.0</td>\n",
       "      <td>12.0</td>\n",
       "      <td>petrol</td>\n",
       "      <td>alfa_romeo</td>\n",
       "      <td>no</td>\n",
       "    </tr>\n",
       "    <tr>\n",
       "      <th>354364</th>\n",
       "      <td>0.0</td>\n",
       "      <td>NaN</td>\n",
       "      <td>2005.0</td>\n",
       "      <td>manual</td>\n",
       "      <td>NaN</td>\n",
       "      <td>colt</td>\n",
       "      <td>150000.0</td>\n",
       "      <td>7.0</td>\n",
       "      <td>petrol</td>\n",
       "      <td>mitsubishi</td>\n",
       "      <td>yes</td>\n",
       "    </tr>\n",
       "  </tbody>\n",
       "</table>\n",
       "<p>35241 rows × 11 columns</p>\n",
       "</div>"
      ],
      "text/plain": [
       "         price vehicle_type  registration_year gearbox  power     model  \\\n",
       "0        480.0          NaN             1993.0  manual    NaN      golf   \n",
       "16       300.0          NaN             2016.0     NaN   60.0      polo   \n",
       "22      2900.0          NaN             2018.0  manual   90.0    meriva   \n",
       "26      5555.0          NaN             2017.0  manual  125.0        c4   \n",
       "31       899.0          NaN             2016.0  manual   60.0      clio   \n",
       "...        ...          ...                ...     ...    ...       ...   \n",
       "354338   180.0          NaN             1995.0     NaN    NaN       NaN   \n",
       "354346  2600.0          NaN             2005.0    auto    NaN  c_klasse   \n",
       "354351  1900.0          NaN             2000.0  manual  110.0       NaN   \n",
       "354361  5250.0          NaN             2016.0    auto  150.0       159   \n",
       "354364     0.0          NaN             2005.0  manual    NaN      colt   \n",
       "\n",
       "        kilometer  registration_month fuel_type          brand repaired  \n",
       "0        150000.0                 0.0    petrol     volkswagen       no  \n",
       "16       150000.0                 0.0    petrol     volkswagen       no  \n",
       "22       150000.0                 5.0    petrol           opel       no  \n",
       "26       125000.0                 4.0    petrol        citroen       no  \n",
       "31       150000.0                 6.0    petrol        renault       no  \n",
       "...           ...                 ...       ...            ...      ...  \n",
       "354338   125000.0                 3.0    petrol           opel       no  \n",
       "354346   150000.0                 9.0  gasoline  mercedes_benz       no  \n",
       "354351   150000.0                 7.0    petrol     volkswagen       no  \n",
       "354361   150000.0                12.0    petrol     alfa_romeo       no  \n",
       "354364   150000.0                 7.0    petrol     mitsubishi      yes  \n",
       "\n",
       "[35241 rows x 11 columns]"
      ]
     },
     "execution_count": 57,
     "metadata": {},
     "output_type": "execute_result"
    }
   ],
   "source": [
    "df1 "
   ]
  },
  {
   "cell_type": "code",
   "execution_count": 58,
   "metadata": {},
   "outputs": [],
   "source": [
    "df_vt = df.groupby(['brand','model','registration_year','vehicle_type']).size().reset_index()"
   ]
  },
  {
   "cell_type": "code",
   "execution_count": 59,
   "metadata": {},
   "outputs": [],
   "source": [
    "df_vt = df_vt.sort_values(0,ascending = False).drop_duplicates(['brand','model','registration_year'])"
   ]
  },
  {
   "cell_type": "code",
   "execution_count": 60,
   "metadata": {},
   "outputs": [],
   "source": [
    "df_vt= df_vt.rename({0: 'count'}, axis='columns')"
   ]
  },
  {
   "cell_type": "code",
   "execution_count": 61,
   "metadata": {
    "scrolled": true
   },
   "outputs": [
    {
     "data": {
      "text/html": [
       "<div>\n",
       "<style scoped>\n",
       "    .dataframe tbody tr th:only-of-type {\n",
       "        vertical-align: middle;\n",
       "    }\n",
       "\n",
       "    .dataframe tbody tr th {\n",
       "        vertical-align: top;\n",
       "    }\n",
       "\n",
       "    .dataframe thead th {\n",
       "        text-align: right;\n",
       "    }\n",
       "</style>\n",
       "<table border=\"1\" class=\"dataframe\">\n",
       "  <thead>\n",
       "    <tr style=\"text-align: right;\">\n",
       "      <th></th>\n",
       "      <th>brand</th>\n",
       "      <th>model</th>\n",
       "      <th>registration_year</th>\n",
       "      <th>vehicle_type</th>\n",
       "      <th>count</th>\n",
       "    </tr>\n",
       "  </thead>\n",
       "  <tbody>\n",
       "    <tr>\n",
       "      <th>12225</th>\n",
       "      <td>volkswagen</td>\n",
       "      <td>golf</td>\n",
       "      <td>1999.0</td>\n",
       "      <td>sedan</td>\n",
       "      <td>1223</td>\n",
       "    </tr>\n",
       "    <tr>\n",
       "      <th>12218</th>\n",
       "      <td>volkswagen</td>\n",
       "      <td>golf</td>\n",
       "      <td>1998.0</td>\n",
       "      <td>sedan</td>\n",
       "      <td>1181</td>\n",
       "    </tr>\n",
       "    <tr>\n",
       "      <th>8040</th>\n",
       "      <td>opel</td>\n",
       "      <td>corsa</td>\n",
       "      <td>1997.0</td>\n",
       "      <td>small</td>\n",
       "      <td>939</td>\n",
       "    </tr>\n",
       "    <tr>\n",
       "      <th>8052</th>\n",
       "      <td>opel</td>\n",
       "      <td>corsa</td>\n",
       "      <td>1999.0</td>\n",
       "      <td>small</td>\n",
       "      <td>924</td>\n",
       "    </tr>\n",
       "    <tr>\n",
       "      <th>8062</th>\n",
       "      <td>opel</td>\n",
       "      <td>corsa</td>\n",
       "      <td>2001.0</td>\n",
       "      <td>small</td>\n",
       "      <td>916</td>\n",
       "    </tr>\n",
       "    <tr>\n",
       "      <th>...</th>\n",
       "      <td>...</td>\n",
       "      <td>...</td>\n",
       "      <td>...</td>\n",
       "      <td>...</td>\n",
       "      <td>...</td>\n",
       "    </tr>\n",
       "    <tr>\n",
       "      <th>6840</th>\n",
       "      <td>mini</td>\n",
       "      <td>clubman</td>\n",
       "      <td>2015.0</td>\n",
       "      <td>wagon</td>\n",
       "      <td>1</td>\n",
       "    </tr>\n",
       "    <tr>\n",
       "      <th>6839</th>\n",
       "      <td>mini</td>\n",
       "      <td>clubman</td>\n",
       "      <td>2014.0</td>\n",
       "      <td>wagon</td>\n",
       "      <td>1</td>\n",
       "    </tr>\n",
       "    <tr>\n",
       "      <th>6816</th>\n",
       "      <td>mini</td>\n",
       "      <td>clubman</td>\n",
       "      <td>2002.0</td>\n",
       "      <td>coupe</td>\n",
       "      <td>1</td>\n",
       "    </tr>\n",
       "    <tr>\n",
       "      <th>6815</th>\n",
       "      <td>mercedes_benz</td>\n",
       "      <td>vito</td>\n",
       "      <td>2014.0</td>\n",
       "      <td>bus</td>\n",
       "      <td>1</td>\n",
       "    </tr>\n",
       "    <tr>\n",
       "      <th>6763</th>\n",
       "      <td>mercedes_benz</td>\n",
       "      <td>viano</td>\n",
       "      <td>2015.0</td>\n",
       "      <td>bus</td>\n",
       "      <td>1</td>\n",
       "    </tr>\n",
       "  </tbody>\n",
       "</table>\n",
       "<p>5924 rows × 5 columns</p>\n",
       "</div>"
      ],
      "text/plain": [
       "               brand    model  registration_year vehicle_type  count\n",
       "12225     volkswagen     golf             1999.0        sedan   1223\n",
       "12218     volkswagen     golf             1998.0        sedan   1181\n",
       "8040            opel    corsa             1997.0        small    939\n",
       "8052            opel    corsa             1999.0        small    924\n",
       "8062            opel    corsa             2001.0        small    916\n",
       "...              ...      ...                ...          ...    ...\n",
       "6840            mini  clubman             2015.0        wagon      1\n",
       "6839            mini  clubman             2014.0        wagon      1\n",
       "6816            mini  clubman             2002.0        coupe      1\n",
       "6815   mercedes_benz     vito             2014.0          bus      1\n",
       "6763   mercedes_benz    viano             2015.0          bus      1\n",
       "\n",
       "[5924 rows x 5 columns]"
      ]
     },
     "execution_count": 61,
     "metadata": {},
     "output_type": "execute_result"
    }
   ],
   "source": [
    "df_vt"
   ]
  },
  {
   "cell_type": "code",
   "execution_count": 62,
   "metadata": {},
   "outputs": [],
   "source": [
    "def fill_vt(row):\n",
    "    df1.loc[((df1.brand == row[0]) & (df1.model == row[1]) & (df1.registration_year == row[2]) ), 'vehicle_type'] = row[3]"
   ]
  },
  {
   "cell_type": "code",
   "execution_count": 63,
   "metadata": {},
   "outputs": [],
   "source": [
    "def fill_vt1(row):\n",
    "    df1.loc[((df1.brand == row[0]) & (df1.registration_year == row[1]) ), 'vehicle_type'] = row[2]"
   ]
  },
  {
   "cell_type": "code",
   "execution_count": 64,
   "metadata": {},
   "outputs": [
    {
     "name": "stdout",
     "output_type": "stream",
     "text": [
      "CPU times: user 29.4 s, sys: 48 ms, total: 29.4 s\n",
      "Wall time: 29.4 s\n"
     ]
    },
    {
     "data": {
      "text/plain": [
       "12225    None\n",
       "12218    None\n",
       "8040     None\n",
       "8052     None\n",
       "8062     None\n",
       "         ... \n",
       "6840     None\n",
       "6839     None\n",
       "6816     None\n",
       "6815     None\n",
       "6763     None\n",
       "Length: 5924, dtype: object"
      ]
     },
     "execution_count": 64,
     "metadata": {},
     "output_type": "execute_result"
    }
   ],
   "source": [
    "%%time\n",
    "df_vt.apply(fill_vt,axis=1)"
   ]
  },
  {
   "cell_type": "code",
   "execution_count": 65,
   "metadata": {},
   "outputs": [],
   "source": [
    "df.update(df1, join='left', overwrite=True, filter_func=None, errors='ignore')"
   ]
  },
  {
   "cell_type": "markdown",
   "metadata": {},
   "source": [
    "Восстановление по brand и registration_year"
   ]
  },
  {
   "cell_type": "code",
   "execution_count": 66,
   "metadata": {},
   "outputs": [],
   "source": [
    "df1 = df[df['vehicle_type'].isna()]"
   ]
  },
  {
   "cell_type": "code",
   "execution_count": 67,
   "metadata": {},
   "outputs": [],
   "source": [
    "df_vt = df.groupby(['brand','registration_year','vehicle_type']).size().reset_index()"
   ]
  },
  {
   "cell_type": "code",
   "execution_count": 68,
   "metadata": {},
   "outputs": [],
   "source": [
    "df_vt = df_vt.sort_values(0,ascending = False).drop_duplicates(['brand','registration_year'])"
   ]
  },
  {
   "cell_type": "code",
   "execution_count": 69,
   "metadata": {},
   "outputs": [],
   "source": [
    "df_vt= df_vt.rename({0: 'count'}, axis='columns')"
   ]
  },
  {
   "cell_type": "code",
   "execution_count": 70,
   "metadata": {},
   "outputs": [
    {
     "data": {
      "text/plain": [
       "6575    None\n",
       "6567    None\n",
       "6584    None\n",
       "567     None\n",
       "574     None\n",
       "        ... \n",
       "3873    None\n",
       "3876    None\n",
       "3877    None\n",
       "3880    None\n",
       "3885    None\n",
       "Length: 1804, dtype: object"
      ]
     },
     "execution_count": 70,
     "metadata": {},
     "output_type": "execute_result"
    }
   ],
   "source": [
    "df_vt.apply(fill_vt1,axis=1)"
   ]
  },
  {
   "cell_type": "code",
   "execution_count": 71,
   "metadata": {},
   "outputs": [],
   "source": [
    "df.update(df1, join='left', overwrite=True, filter_func=None, errors='ignore')"
   ]
  },
  {
   "cell_type": "code",
   "execution_count": null,
   "metadata": {},
   "outputs": [],
   "source": []
  },
  {
   "cell_type": "code",
   "execution_count": 72,
   "metadata": {},
   "outputs": [
    {
     "data": {
      "text/plain": [
       "price                     0\n",
       "vehicle_type           6021\n",
       "registration_year         0\n",
       "gearbox               17617\n",
       "power                 38020\n",
       "model                 17552\n",
       "kilometer                 0\n",
       "registration_month        0\n",
       "fuel_type                69\n",
       "brand                     0\n",
       "repaired                  0\n",
       "dtype: int64"
      ]
     },
     "execution_count": 72,
     "metadata": {},
     "output_type": "execute_result"
    }
   ],
   "source": [
    "df.isna().sum()"
   ]
  },
  {
   "cell_type": "code",
   "execution_count": 73,
   "metadata": {},
   "outputs": [],
   "source": [
    "dff = df.query('vehicle_type.isna() and gearbox.isna() and power.isna() and model.isna() and fuel_type.isna()')"
   ]
  },
  {
   "cell_type": "code",
   "execution_count": 74,
   "metadata": {},
   "outputs": [
    {
     "data": {
      "text/html": [
       "<div>\n",
       "<style scoped>\n",
       "    .dataframe tbody tr th:only-of-type {\n",
       "        vertical-align: middle;\n",
       "    }\n",
       "\n",
       "    .dataframe tbody tr th {\n",
       "        vertical-align: top;\n",
       "    }\n",
       "\n",
       "    .dataframe thead th {\n",
       "        text-align: right;\n",
       "    }\n",
       "</style>\n",
       "<table border=\"1\" class=\"dataframe\">\n",
       "  <thead>\n",
       "    <tr style=\"text-align: right;\">\n",
       "      <th></th>\n",
       "      <th>price</th>\n",
       "      <th>vehicle_type</th>\n",
       "      <th>registration_year</th>\n",
       "      <th>gearbox</th>\n",
       "      <th>power</th>\n",
       "      <th>model</th>\n",
       "      <th>kilometer</th>\n",
       "      <th>registration_month</th>\n",
       "      <th>fuel_type</th>\n",
       "      <th>brand</th>\n",
       "      <th>repaired</th>\n",
       "    </tr>\n",
       "  </thead>\n",
       "  <tbody>\n",
       "  </tbody>\n",
       "</table>\n",
       "</div>"
      ],
      "text/plain": [
       "Empty DataFrame\n",
       "Columns: [price, vehicle_type, registration_year, gearbox, power, model, kilometer, registration_month, fuel_type, brand, repaired]\n",
       "Index: []"
      ]
     },
     "execution_count": 74,
     "metadata": {},
     "output_type": "execute_result"
    }
   ],
   "source": [
    "dff"
   ]
  },
  {
   "cell_type": "markdown",
   "metadata": {},
   "source": [
    "#### model"
   ]
  },
  {
   "cell_type": "markdown",
   "metadata": {},
   "source": [
    "Заполняем наиболее часто встречающимися значениями, рассчитанными на основе группировки по brand, registration_year"
   ]
  },
  {
   "cell_type": "code",
   "execution_count": 75,
   "metadata": {},
   "outputs": [],
   "source": [
    "df1 = df[df['model'].isna()]"
   ]
  },
  {
   "cell_type": "code",
   "execution_count": 76,
   "metadata": {},
   "outputs": [
    {
     "data": {
      "text/html": [
       "<div>\n",
       "<style scoped>\n",
       "    .dataframe tbody tr th:only-of-type {\n",
       "        vertical-align: middle;\n",
       "    }\n",
       "\n",
       "    .dataframe tbody tr th {\n",
       "        vertical-align: top;\n",
       "    }\n",
       "\n",
       "    .dataframe thead th {\n",
       "        text-align: right;\n",
       "    }\n",
       "</style>\n",
       "<table border=\"1\" class=\"dataframe\">\n",
       "  <thead>\n",
       "    <tr style=\"text-align: right;\">\n",
       "      <th></th>\n",
       "      <th>price</th>\n",
       "      <th>vehicle_type</th>\n",
       "      <th>registration_year</th>\n",
       "      <th>gearbox</th>\n",
       "      <th>power</th>\n",
       "      <th>model</th>\n",
       "      <th>kilometer</th>\n",
       "      <th>registration_month</th>\n",
       "      <th>fuel_type</th>\n",
       "      <th>brand</th>\n",
       "      <th>repaired</th>\n",
       "    </tr>\n",
       "  </thead>\n",
       "  <tbody>\n",
       "    <tr>\n",
       "      <th>1</th>\n",
       "      <td>18300.0</td>\n",
       "      <td>coupe</td>\n",
       "      <td>2011.0</td>\n",
       "      <td>manual</td>\n",
       "      <td>190.0</td>\n",
       "      <td>NaN</td>\n",
       "      <td>125000.0</td>\n",
       "      <td>5.0</td>\n",
       "      <td>gasoline</td>\n",
       "      <td>audi</td>\n",
       "      <td>yes</td>\n",
       "    </tr>\n",
       "    <tr>\n",
       "      <th>59</th>\n",
       "      <td>1.0</td>\n",
       "      <td>suv</td>\n",
       "      <td>1994.0</td>\n",
       "      <td>manual</td>\n",
       "      <td>286.0</td>\n",
       "      <td>NaN</td>\n",
       "      <td>150000.0</td>\n",
       "      <td>11.0</td>\n",
       "      <td>gasoline</td>\n",
       "      <td>sonstige_autos</td>\n",
       "      <td>no</td>\n",
       "    </tr>\n",
       "    <tr>\n",
       "      <th>81</th>\n",
       "      <td>350.0</td>\n",
       "      <td>small</td>\n",
       "      <td>1997.0</td>\n",
       "      <td>manual</td>\n",
       "      <td>54.0</td>\n",
       "      <td>NaN</td>\n",
       "      <td>150000.0</td>\n",
       "      <td>3.0</td>\n",
       "      <td>petrol</td>\n",
       "      <td>fiat</td>\n",
       "      <td>yes</td>\n",
       "    </tr>\n",
       "    <tr>\n",
       "      <th>115</th>\n",
       "      <td>0.0</td>\n",
       "      <td>small</td>\n",
       "      <td>1999.0</td>\n",
       "      <td>NaN</td>\n",
       "      <td>NaN</td>\n",
       "      <td>NaN</td>\n",
       "      <td>5000.0</td>\n",
       "      <td>0.0</td>\n",
       "      <td>petrol</td>\n",
       "      <td>volkswagen</td>\n",
       "      <td>no</td>\n",
       "    </tr>\n",
       "    <tr>\n",
       "      <th>135</th>\n",
       "      <td>1450.0</td>\n",
       "      <td>sedan</td>\n",
       "      <td>1992.0</td>\n",
       "      <td>manual</td>\n",
       "      <td>136.0</td>\n",
       "      <td>NaN</td>\n",
       "      <td>150000.0</td>\n",
       "      <td>0.0</td>\n",
       "      <td>petrol</td>\n",
       "      <td>audi</td>\n",
       "      <td>no</td>\n",
       "    </tr>\n",
       "    <tr>\n",
       "      <th>...</th>\n",
       "      <td>...</td>\n",
       "      <td>...</td>\n",
       "      <td>...</td>\n",
       "      <td>...</td>\n",
       "      <td>...</td>\n",
       "      <td>...</td>\n",
       "      <td>...</td>\n",
       "      <td>...</td>\n",
       "      <td>...</td>\n",
       "      <td>...</td>\n",
       "      <td>...</td>\n",
       "    </tr>\n",
       "    <tr>\n",
       "      <th>354234</th>\n",
       "      <td>5000.0</td>\n",
       "      <td>sedan</td>\n",
       "      <td>2002.0</td>\n",
       "      <td>auto</td>\n",
       "      <td>170.0</td>\n",
       "      <td>NaN</td>\n",
       "      <td>150000.0</td>\n",
       "      <td>0.0</td>\n",
       "      <td>petrol</td>\n",
       "      <td>audi</td>\n",
       "      <td>no</td>\n",
       "    </tr>\n",
       "    <tr>\n",
       "      <th>354245</th>\n",
       "      <td>560.0</td>\n",
       "      <td>small</td>\n",
       "      <td>2001.0</td>\n",
       "      <td>auto</td>\n",
       "      <td>170.0</td>\n",
       "      <td>NaN</td>\n",
       "      <td>90000.0</td>\n",
       "      <td>0.0</td>\n",
       "      <td>petrol</td>\n",
       "      <td>fiat</td>\n",
       "      <td>yes</td>\n",
       "    </tr>\n",
       "    <tr>\n",
       "      <th>354321</th>\n",
       "      <td>9400.0</td>\n",
       "      <td>wagon</td>\n",
       "      <td>2007.0</td>\n",
       "      <td>manual</td>\n",
       "      <td>200.0</td>\n",
       "      <td>NaN</td>\n",
       "      <td>150000.0</td>\n",
       "      <td>4.0</td>\n",
       "      <td>gasoline</td>\n",
       "      <td>sonstige_autos</td>\n",
       "      <td>yes</td>\n",
       "    </tr>\n",
       "    <tr>\n",
       "      <th>354338</th>\n",
       "      <td>180.0</td>\n",
       "      <td>small</td>\n",
       "      <td>1995.0</td>\n",
       "      <td>NaN</td>\n",
       "      <td>NaN</td>\n",
       "      <td>NaN</td>\n",
       "      <td>125000.0</td>\n",
       "      <td>3.0</td>\n",
       "      <td>petrol</td>\n",
       "      <td>opel</td>\n",
       "      <td>no</td>\n",
       "    </tr>\n",
       "    <tr>\n",
       "      <th>354351</th>\n",
       "      <td>1900.0</td>\n",
       "      <td>small</td>\n",
       "      <td>2000.0</td>\n",
       "      <td>manual</td>\n",
       "      <td>110.0</td>\n",
       "      <td>NaN</td>\n",
       "      <td>150000.0</td>\n",
       "      <td>7.0</td>\n",
       "      <td>petrol</td>\n",
       "      <td>volkswagen</td>\n",
       "      <td>no</td>\n",
       "    </tr>\n",
       "  </tbody>\n",
       "</table>\n",
       "<p>17552 rows × 11 columns</p>\n",
       "</div>"
      ],
      "text/plain": [
       "          price vehicle_type  registration_year gearbox  power model  \\\n",
       "1       18300.0        coupe             2011.0  manual  190.0   NaN   \n",
       "59          1.0          suv             1994.0  manual  286.0   NaN   \n",
       "81        350.0        small             1997.0  manual   54.0   NaN   \n",
       "115         0.0        small             1999.0     NaN    NaN   NaN   \n",
       "135      1450.0        sedan             1992.0  manual  136.0   NaN   \n",
       "...         ...          ...                ...     ...    ...   ...   \n",
       "354234   5000.0        sedan             2002.0    auto  170.0   NaN   \n",
       "354245    560.0        small             2001.0    auto  170.0   NaN   \n",
       "354321   9400.0        wagon             2007.0  manual  200.0   NaN   \n",
       "354338    180.0        small             1995.0     NaN    NaN   NaN   \n",
       "354351   1900.0        small             2000.0  manual  110.0   NaN   \n",
       "\n",
       "        kilometer  registration_month fuel_type           brand repaired  \n",
       "1        125000.0                 5.0  gasoline            audi      yes  \n",
       "59       150000.0                11.0  gasoline  sonstige_autos       no  \n",
       "81       150000.0                 3.0    petrol            fiat      yes  \n",
       "115        5000.0                 0.0    petrol      volkswagen       no  \n",
       "135      150000.0                 0.0    petrol            audi       no  \n",
       "...           ...                 ...       ...             ...      ...  \n",
       "354234   150000.0                 0.0    petrol            audi       no  \n",
       "354245    90000.0                 0.0    petrol            fiat      yes  \n",
       "354321   150000.0                 4.0  gasoline  sonstige_autos      yes  \n",
       "354338   125000.0                 3.0    petrol            opel       no  \n",
       "354351   150000.0                 7.0    petrol      volkswagen       no  \n",
       "\n",
       "[17552 rows x 11 columns]"
      ]
     },
     "execution_count": 76,
     "metadata": {},
     "output_type": "execute_result"
    }
   ],
   "source": [
    "df1"
   ]
  },
  {
   "cell_type": "code",
   "execution_count": 77,
   "metadata": {},
   "outputs": [],
   "source": [
    "df_mod = df.groupby(['brand','registration_year','model']).size().reset_index()"
   ]
  },
  {
   "cell_type": "code",
   "execution_count": 78,
   "metadata": {},
   "outputs": [],
   "source": [
    "df_mod = df_mod.sort_values(0,ascending = False).drop_duplicates(['brand','registration_year'])"
   ]
  },
  {
   "cell_type": "code",
   "execution_count": 79,
   "metadata": {},
   "outputs": [],
   "source": [
    "df_mod= df_mod.rename({0: 'count'}, axis='columns')"
   ]
  },
  {
   "cell_type": "code",
   "execution_count": 80,
   "metadata": {},
   "outputs": [],
   "source": [
    "def fill_mod(row):\n",
    "    df1.loc[((df1.brand == row[0]) & (df1.registration_year == row[1])), 'model'] = row[2]"
   ]
  },
  {
   "cell_type": "code",
   "execution_count": 81,
   "metadata": {},
   "outputs": [
    {
     "name": "stdout",
     "output_type": "stream",
     "text": [
      "CPU times: user 3.05 s, sys: 8.02 ms, total: 3.06 s\n",
      "Wall time: 3.06 s\n"
     ]
    },
    {
     "data": {
      "text/plain": [
       "6241    None\n",
       "6230    None\n",
       "6254    None\n",
       "6195    None\n",
       "625     None\n",
       "        ... \n",
       "2904    None\n",
       "2905    None\n",
       "2906    None\n",
       "2907    None\n",
       "0       None\n",
       "Length: 1817, dtype: object"
      ]
     },
     "execution_count": 81,
     "metadata": {},
     "output_type": "execute_result"
    }
   ],
   "source": [
    "%%time\n",
    "df_mod.apply(fill_mod,axis=1)"
   ]
  },
  {
   "cell_type": "code",
   "execution_count": 82,
   "metadata": {},
   "outputs": [],
   "source": [
    "df.update(df1, join='left', overwrite=True, filter_func=None, errors='ignore')"
   ]
  },
  {
   "cell_type": "code",
   "execution_count": 83,
   "metadata": {},
   "outputs": [
    {
     "data": {
      "text/plain": [
       "price                     0\n",
       "vehicle_type           6021\n",
       "registration_year         0\n",
       "gearbox               17617\n",
       "power                 38020\n",
       "model                  2669\n",
       "kilometer                 0\n",
       "registration_month        0\n",
       "fuel_type                69\n",
       "brand                     0\n",
       "repaired                  0\n",
       "dtype: int64"
      ]
     },
     "execution_count": 83,
     "metadata": {},
     "output_type": "execute_result"
    }
   ],
   "source": [
    "df.isna().sum()"
   ]
  },
  {
   "cell_type": "markdown",
   "metadata": {},
   "source": [
    "#### gearbox"
   ]
  },
  {
   "cell_type": "markdown",
   "metadata": {},
   "source": [
    "Заполняем наиболее часто встречающимися значениями, рассчитанными на основе группировки по **'brand','registration_year','model'**"
   ]
  },
  {
   "cell_type": "code",
   "execution_count": 84,
   "metadata": {},
   "outputs": [],
   "source": [
    "df1 = df[df['gearbox'].isna()]"
   ]
  },
  {
   "cell_type": "code",
   "execution_count": 85,
   "metadata": {},
   "outputs": [],
   "source": [
    "df_gea = df.groupby(['brand','registration_year','model','gearbox']).size().reset_index()"
   ]
  },
  {
   "cell_type": "code",
   "execution_count": 86,
   "metadata": {},
   "outputs": [],
   "source": [
    "df_gea = df_gea.sort_values(0,ascending = False).drop_duplicates(['brand','registration_year','model'])"
   ]
  },
  {
   "cell_type": "code",
   "execution_count": 87,
   "metadata": {},
   "outputs": [],
   "source": [
    "df_gea= df_gea.rename({0: 'count'}, axis='columns')"
   ]
  },
  {
   "cell_type": "code",
   "execution_count": 88,
   "metadata": {},
   "outputs": [
    {
     "data": {
      "text/html": [
       "<div>\n",
       "<style scoped>\n",
       "    .dataframe tbody tr th:only-of-type {\n",
       "        vertical-align: middle;\n",
       "    }\n",
       "\n",
       "    .dataframe tbody tr th {\n",
       "        vertical-align: top;\n",
       "    }\n",
       "\n",
       "    .dataframe thead th {\n",
       "        text-align: right;\n",
       "    }\n",
       "</style>\n",
       "<table border=\"1\" class=\"dataframe\">\n",
       "  <thead>\n",
       "    <tr style=\"text-align: right;\">\n",
       "      <th></th>\n",
       "      <th>brand</th>\n",
       "      <th>registration_year</th>\n",
       "      <th>model</th>\n",
       "      <th>gearbox</th>\n",
       "      <th>count</th>\n",
       "    </tr>\n",
       "  </thead>\n",
       "  <tbody>\n",
       "    <tr>\n",
       "      <th>9077</th>\n",
       "      <td>volkswagen</td>\n",
       "      <td>1999.0</td>\n",
       "      <td>golf</td>\n",
       "      <td>manual</td>\n",
       "      <td>2081</td>\n",
       "    </tr>\n",
       "    <tr>\n",
       "      <th>9058</th>\n",
       "      <td>volkswagen</td>\n",
       "      <td>1998.0</td>\n",
       "      <td>golf</td>\n",
       "      <td>manual</td>\n",
       "      <td>1964</td>\n",
       "    </tr>\n",
       "    <tr>\n",
       "      <th>9098</th>\n",
       "      <td>volkswagen</td>\n",
       "      <td>2000.0</td>\n",
       "      <td>golf</td>\n",
       "      <td>manual</td>\n",
       "      <td>1727</td>\n",
       "    </tr>\n",
       "    <tr>\n",
       "      <th>9037</th>\n",
       "      <td>volkswagen</td>\n",
       "      <td>1997.0</td>\n",
       "      <td>golf</td>\n",
       "      <td>manual</td>\n",
       "      <td>1516</td>\n",
       "    </tr>\n",
       "    <tr>\n",
       "      <th>9003</th>\n",
       "      <td>volkswagen</td>\n",
       "      <td>1995.0</td>\n",
       "      <td>golf</td>\n",
       "      <td>manual</td>\n",
       "      <td>1388</td>\n",
       "    </tr>\n",
       "    <tr>\n",
       "      <th>...</th>\n",
       "      <td>...</td>\n",
       "      <td>...</td>\n",
       "      <td>...</td>\n",
       "      <td>...</td>\n",
       "      <td>...</td>\n",
       "    </tr>\n",
       "    <tr>\n",
       "      <th>8185</th>\n",
       "      <td>subaru</td>\n",
       "      <td>2018.0</td>\n",
       "      <td>other</td>\n",
       "      <td>manual</td>\n",
       "      <td>1</td>\n",
       "    </tr>\n",
       "    <tr>\n",
       "      <th>4101</th>\n",
       "      <td>mazda</td>\n",
       "      <td>1985.0</td>\n",
       "      <td>rx_reihe</td>\n",
       "      <td>manual</td>\n",
       "      <td>1</td>\n",
       "    </tr>\n",
       "    <tr>\n",
       "      <th>8182</th>\n",
       "      <td>subaru</td>\n",
       "      <td>2018.0</td>\n",
       "      <td>forester</td>\n",
       "      <td>manual</td>\n",
       "      <td>1</td>\n",
       "    </tr>\n",
       "    <tr>\n",
       "      <th>8183</th>\n",
       "      <td>subaru</td>\n",
       "      <td>2018.0</td>\n",
       "      <td>legacy</td>\n",
       "      <td>auto</td>\n",
       "      <td>1</td>\n",
       "    </tr>\n",
       "    <tr>\n",
       "      <th>0</th>\n",
       "      <td>alfa_romeo</td>\n",
       "      <td>1950.0</td>\n",
       "      <td>other</td>\n",
       "      <td>manual</td>\n",
       "      <td>1</td>\n",
       "    </tr>\n",
       "  </tbody>\n",
       "</table>\n",
       "<p>6536 rows × 5 columns</p>\n",
       "</div>"
      ],
      "text/plain": [
       "           brand  registration_year     model gearbox  count\n",
       "9077  volkswagen             1999.0      golf  manual   2081\n",
       "9058  volkswagen             1998.0      golf  manual   1964\n",
       "9098  volkswagen             2000.0      golf  manual   1727\n",
       "9037  volkswagen             1997.0      golf  manual   1516\n",
       "9003  volkswagen             1995.0      golf  manual   1388\n",
       "...          ...                ...       ...     ...    ...\n",
       "8185      subaru             2018.0     other  manual      1\n",
       "4101       mazda             1985.0  rx_reihe  manual      1\n",
       "8182      subaru             2018.0  forester  manual      1\n",
       "8183      subaru             2018.0    legacy    auto      1\n",
       "0     alfa_romeo             1950.0     other  manual      1\n",
       "\n",
       "[6536 rows x 5 columns]"
      ]
     },
     "execution_count": 88,
     "metadata": {},
     "output_type": "execute_result"
    }
   ],
   "source": [
    "df_gea"
   ]
  },
  {
   "cell_type": "code",
   "execution_count": 89,
   "metadata": {},
   "outputs": [],
   "source": [
    "def fill_gea(row):\n",
    "    df1.loc[((df1.brand == row[0]) & (df1.registration_year == row[1]) & (df1.model == row[2])), 'gearbox'] = row[3]"
   ]
  },
  {
   "cell_type": "code",
   "execution_count": 90,
   "metadata": {},
   "outputs": [
    {
     "name": "stdout",
     "output_type": "stream",
     "text": [
      "CPU times: user 19.6 s, sys: 19.9 ms, total: 19.6 s\n",
      "Wall time: 19.6 s\n"
     ]
    },
    {
     "data": {
      "text/plain": [
       "9077    None\n",
       "9058    None\n",
       "9098    None\n",
       "9037    None\n",
       "9003    None\n",
       "        ... \n",
       "8185    None\n",
       "4101    None\n",
       "8182    None\n",
       "8183    None\n",
       "0       None\n",
       "Length: 6536, dtype: object"
      ]
     },
     "execution_count": 90,
     "metadata": {},
     "output_type": "execute_result"
    }
   ],
   "source": [
    "%%time\n",
    "df_gea.apply(fill_gea,axis=1)"
   ]
  },
  {
   "cell_type": "code",
   "execution_count": 91,
   "metadata": {},
   "outputs": [],
   "source": [
    "df.update(df1, join='left', overwrite=True, filter_func=None, errors='ignore')"
   ]
  },
  {
   "cell_type": "code",
   "execution_count": 92,
   "metadata": {},
   "outputs": [
    {
     "data": {
      "text/plain": [
       "price                     0\n",
       "vehicle_type           6021\n",
       "registration_year         0\n",
       "gearbox                 638\n",
       "power                 38020\n",
       "model                  2669\n",
       "kilometer                 0\n",
       "registration_month        0\n",
       "fuel_type                69\n",
       "brand                     0\n",
       "repaired                  0\n",
       "dtype: int64"
      ]
     },
     "execution_count": 92,
     "metadata": {},
     "output_type": "execute_result"
    }
   ],
   "source": [
    "df.isna().sum()"
   ]
  },
  {
   "cell_type": "markdown",
   "metadata": {},
   "source": [
    "#### **Power** "
   ]
  },
  {
   "cell_type": "markdown",
   "metadata": {},
   "source": [
    "Восстановление power по **'brand','model','fuel_type','registration_year'**"
   ]
  },
  {
   "cell_type": "code",
   "execution_count": 93,
   "metadata": {},
   "outputs": [],
   "source": [
    "df['avg_power'] = df.groupby(['brand','model','fuel_type','registration_year'])['power'].transform('mean')"
   ]
  },
  {
   "cell_type": "code",
   "execution_count": 94,
   "metadata": {},
   "outputs": [],
   "source": [
    "df.loc[df['power'].isna(),'power'] = df['avg_power']"
   ]
  },
  {
   "cell_type": "code",
   "execution_count": 95,
   "metadata": {},
   "outputs": [],
   "source": [
    "df = df.drop('avg_power',axis=1)"
   ]
  },
  {
   "cell_type": "markdown",
   "metadata": {},
   "source": [
    "Восстановление power по 'brand','model','fuel_type'"
   ]
  },
  {
   "cell_type": "code",
   "execution_count": 96,
   "metadata": {},
   "outputs": [],
   "source": [
    "df['avg_power'] = df.groupby(['brand','model','fuel_type'])['power'].transform('mean')"
   ]
  },
  {
   "cell_type": "code",
   "execution_count": 97,
   "metadata": {},
   "outputs": [],
   "source": [
    "df.loc[df['power'].isna(),'power'] = df['avg_power']"
   ]
  },
  {
   "cell_type": "code",
   "execution_count": 98,
   "metadata": {},
   "outputs": [],
   "source": [
    "df = df.drop('avg_power',axis=1)"
   ]
  },
  {
   "cell_type": "markdown",
   "metadata": {},
   "source": [
    "Восстановление power по 'brand','model','fuel_type'"
   ]
  },
  {
   "cell_type": "code",
   "execution_count": 99,
   "metadata": {},
   "outputs": [],
   "source": [
    "df['avg_power'] = df.groupby(['brand','model','registration_year'])['power'].transform('mean')"
   ]
  },
  {
   "cell_type": "code",
   "execution_count": 100,
   "metadata": {},
   "outputs": [],
   "source": [
    "df.loc[df['power'].isna(),'power'] = df['avg_power']"
   ]
  },
  {
   "cell_type": "code",
   "execution_count": 101,
   "metadata": {},
   "outputs": [],
   "source": [
    "df = df.drop('avg_power',axis=1)"
   ]
  },
  {
   "cell_type": "code",
   "execution_count": 102,
   "metadata": {},
   "outputs": [
    {
     "data": {
      "text/plain": [
       "price                    0\n",
       "vehicle_type          6021\n",
       "registration_year        0\n",
       "gearbox                638\n",
       "power                  731\n",
       "model                 2669\n",
       "kilometer                0\n",
       "registration_month       0\n",
       "fuel_type               69\n",
       "brand                    0\n",
       "repaired                 0\n",
       "dtype: int64"
      ]
     },
     "execution_count": 102,
     "metadata": {},
     "output_type": "execute_result"
    }
   ],
   "source": [
    "df.isna().sum()"
   ]
  },
  {
   "cell_type": "code",
   "execution_count": 103,
   "metadata": {},
   "outputs": [],
   "source": [
    "ddf = df.copy()"
   ]
  },
  {
   "cell_type": "code",
   "execution_count": 104,
   "metadata": {},
   "outputs": [
    {
     "data": {
      "text/plain": [
       "352116"
      ]
     },
     "execution_count": 104,
     "metadata": {},
     "output_type": "execute_result"
    }
   ],
   "source": [
    "df.shape[0]"
   ]
  },
  {
   "cell_type": "code",
   "execution_count": 105,
   "metadata": {},
   "outputs": [],
   "source": [
    "df = df.dropna()"
   ]
  },
  {
   "cell_type": "code",
   "execution_count": 106,
   "metadata": {},
   "outputs": [
    {
     "data": {
      "text/plain": [
       "343284"
      ]
     },
     "execution_count": 106,
     "metadata": {},
     "output_type": "execute_result"
    }
   ],
   "source": [
    "df.shape[0]"
   ]
  },
  {
   "cell_type": "markdown",
   "metadata": {},
   "source": [
    "<div class='alert alert-warning'>⚠️Хорошо, что знаешь математические способы фильтрации выбросов. Но рекомендовал бы тебе дополнительно смотреть на значения для определения пределов. Например, у нас остались нулневые значения мощности и мы ограничили датасет недорогими авто. \n",
    "\n",
    "</div>"
   ]
  },
  {
   "cell_type": "markdown",
   "metadata": {},
   "source": [
    "**registration_year**"
   ]
  },
  {
   "cell_type": "code",
   "execution_count": 107,
   "metadata": {},
   "outputs": [],
   "source": [
    "a = df['registration_year'].value_counts();"
   ]
  },
  {
   "cell_type": "code",
   "execution_count": 108,
   "metadata": {},
   "outputs": [],
   "source": [
    "df1 = df['registration_year'].value_counts().rename_axis('year').reset_index(name='coun')"
   ]
  },
  {
   "cell_type": "code",
   "execution_count": 109,
   "metadata": {
    "scrolled": true
   },
   "outputs": [
    {
     "data": {
      "text/html": [
       "<div>\n",
       "<style scoped>\n",
       "    .dataframe tbody tr th:only-of-type {\n",
       "        vertical-align: middle;\n",
       "    }\n",
       "\n",
       "    .dataframe tbody tr th {\n",
       "        vertical-align: top;\n",
       "    }\n",
       "\n",
       "    .dataframe thead th {\n",
       "        text-align: right;\n",
       "    }\n",
       "</style>\n",
       "<table border=\"1\" class=\"dataframe\">\n",
       "  <thead>\n",
       "    <tr style=\"text-align: right;\">\n",
       "      <th></th>\n",
       "      <th>year</th>\n",
       "      <th>coun</th>\n",
       "    </tr>\n",
       "  </thead>\n",
       "  <tbody>\n",
       "    <tr>\n",
       "      <th>0</th>\n",
       "      <td>2000.0</td>\n",
       "      <td>23560</td>\n",
       "    </tr>\n",
       "    <tr>\n",
       "      <th>1</th>\n",
       "      <td>1999.0</td>\n",
       "      <td>22639</td>\n",
       "    </tr>\n",
       "    <tr>\n",
       "      <th>2</th>\n",
       "      <td>2005.0</td>\n",
       "      <td>21714</td>\n",
       "    </tr>\n",
       "    <tr>\n",
       "      <th>3</th>\n",
       "      <td>2001.0</td>\n",
       "      <td>20036</td>\n",
       "    </tr>\n",
       "    <tr>\n",
       "      <th>4</th>\n",
       "      <td>2006.0</td>\n",
       "      <td>19770</td>\n",
       "    </tr>\n",
       "    <tr>\n",
       "      <th>...</th>\n",
       "      <td>...</td>\n",
       "      <td>...</td>\n",
       "    </tr>\n",
       "    <tr>\n",
       "      <th>83</th>\n",
       "      <td>1947.0</td>\n",
       "      <td>1</td>\n",
       "    </tr>\n",
       "    <tr>\n",
       "      <th>84</th>\n",
       "      <td>1933.0</td>\n",
       "      <td>1</td>\n",
       "    </tr>\n",
       "    <tr>\n",
       "      <th>85</th>\n",
       "      <td>1919.0</td>\n",
       "      <td>1</td>\n",
       "    </tr>\n",
       "    <tr>\n",
       "      <th>86</th>\n",
       "      <td>1931.0</td>\n",
       "      <td>1</td>\n",
       "    </tr>\n",
       "    <tr>\n",
       "      <th>87</th>\n",
       "      <td>1936.0</td>\n",
       "      <td>1</td>\n",
       "    </tr>\n",
       "  </tbody>\n",
       "</table>\n",
       "<p>88 rows × 2 columns</p>\n",
       "</div>"
      ],
      "text/plain": [
       "      year   coun\n",
       "0   2000.0  23560\n",
       "1   1999.0  22639\n",
       "2   2005.0  21714\n",
       "3   2001.0  20036\n",
       "4   2006.0  19770\n",
       "..     ...    ...\n",
       "83  1947.0      1\n",
       "84  1933.0      1\n",
       "85  1919.0      1\n",
       "86  1931.0      1\n",
       "87  1936.0      1\n",
       "\n",
       "[88 rows x 2 columns]"
      ]
     },
     "execution_count": 109,
     "metadata": {},
     "output_type": "execute_result"
    }
   ],
   "source": [
    "df1"
   ]
  },
  {
   "cell_type": "code",
   "execution_count": 110,
   "metadata": {},
   "outputs": [
    {
     "data": {
      "text/plain": [
       "(88, 2)"
      ]
     },
     "execution_count": 110,
     "metadata": {},
     "output_type": "execute_result"
    }
   ],
   "source": [
    "df1.shape"
   ]
  },
  {
   "cell_type": "code",
   "execution_count": 111,
   "metadata": {
    "scrolled": true
   },
   "outputs": [
    {
     "data": {
      "image/png": "[encoded data removed]",
      "text/plain": [
       "<Figure size 1440x720 with 1 Axes>"
      ]
     },
     "metadata": {
      "needs_background": "light"
     },
     "output_type": "display_data"
    }
   ],
   "source": [
    "fig, ax = plt.subplots(figsize=(20, 10));\n",
    "sns.barplot(data=df1,x='year',y='coun');\n",
    "plt.xticks(rotation=90, ha='right');\n",
    "plt.title('Регистрация автомобилей по годам')\n",
    "plt.show()"
   ]
  },
  {
   "cell_type": "markdown",
   "metadata": {},
   "source": [
    "Из графика видно, что удалив, данные старше 1980 года, получим распределение, близкое к нормальному по признаку \"количество автомобилей, зарегистрированных в году\""
   ]
  },
  {
   "cell_type": "code",
   "execution_count": 112,
   "metadata": {},
   "outputs": [],
   "source": [
    "df1 = df1.drop(df1[df1.year<1980].index)"
   ]
  },
  {
   "cell_type": "code",
   "execution_count": 113,
   "metadata": {},
   "outputs": [
    {
     "data": {
      "text/plain": [
       "(39, 2)"
      ]
     },
     "execution_count": 113,
     "metadata": {},
     "output_type": "execute_result"
    }
   ],
   "source": [
    "df1.shape"
   ]
  },
  {
   "cell_type": "code",
   "execution_count": 114,
   "metadata": {},
   "outputs": [
    {
     "data": {
      "image/png": "[encoded data removed]",
      "text/plain": [
       "<Figure size 1440x720 with 1 Axes>"
      ]
     },
     "metadata": {
      "needs_background": "light"
     },
     "output_type": "display_data"
    }
   ],
   "source": [
    "fig, ax = plt.subplots(figsize=(20, 10));\n",
    "sns.barplot(data=df1,x='year',y='coun');\n",
    "plt.xticks(rotation=90, ha='right');\n",
    "plt.title('Регистрация автомобилей по годам')\n",
    "plt.show()"
   ]
  },
  {
   "cell_type": "markdown",
   "metadata": {},
   "source": [
    "Удалим эти сведения из исходного датафрейма"
   ]
  },
  {
   "cell_type": "code",
   "execution_count": 115,
   "metadata": {},
   "outputs": [],
   "source": [
    "df = df.drop(df[df.registration_year<1980].index)"
   ]
  },
  {
   "cell_type": "markdown",
   "metadata": {},
   "source": [
    "**registration_month**"
   ]
  },
  {
   "cell_type": "markdown",
   "metadata": {},
   "source": [
    "Большая часть автомобилей старше 5 лет. По этой причине рассматривать **месяц регистрации** автомобиля в качестве информативного не иммет смысла. Уберем этот столбец из датафрейма"
   ]
  },
  {
   "cell_type": "code",
   "execution_count": 116,
   "metadata": {},
   "outputs": [],
   "source": [
    "df = df.drop(['registration_month'], axis=1)"
   ]
  },
  {
   "cell_type": "code",
   "execution_count": 117,
   "metadata": {},
   "outputs": [
    {
     "name": "stdout",
     "output_type": "stream",
     "text": [
      "<class 'pandas.core.frame.DataFrame'>\n",
      "Int64Index: 340740 entries, 0 to 354368\n",
      "Data columns (total 10 columns):\n",
      " #   Column             Non-Null Count   Dtype  \n",
      "---  ------             --------------   -----  \n",
      " 0   price              340740 non-null  float64\n",
      " 1   vehicle_type       340740 non-null  object \n",
      " 2   registration_year  340740 non-null  float64\n",
      " 3   gearbox            340740 non-null  object \n",
      " 4   power              340740 non-null  float64\n",
      " 5   model              340740 non-null  object \n",
      " 6   kilometer          340740 non-null  float64\n",
      " 7   fuel_type          340740 non-null  object \n",
      " 8   brand              340740 non-null  object \n",
      " 9   repaired           340740 non-null  object \n",
      "dtypes: float64(4), object(6)\n",
      "memory usage: 28.6+ MB\n"
     ]
    }
   ],
   "source": [
    "df.info()"
   ]
  },
  {
   "cell_type": "code",
   "execution_count": 118,
   "metadata": {},
   "outputs": [
    {
     "data": {
      "text/html": [
       "<div>\n",
       "<style scoped>\n",
       "    .dataframe tbody tr th:only-of-type {\n",
       "        vertical-align: middle;\n",
       "    }\n",
       "\n",
       "    .dataframe tbody tr th {\n",
       "        vertical-align: top;\n",
       "    }\n",
       "\n",
       "    .dataframe thead th {\n",
       "        text-align: right;\n",
       "    }\n",
       "</style>\n",
       "<table border=\"1\" class=\"dataframe\">\n",
       "  <thead>\n",
       "    <tr style=\"text-align: right;\">\n",
       "      <th></th>\n",
       "      <th>price</th>\n",
       "      <th>vehicle_type</th>\n",
       "      <th>registration_year</th>\n",
       "      <th>gearbox</th>\n",
       "      <th>power</th>\n",
       "      <th>model</th>\n",
       "      <th>kilometer</th>\n",
       "      <th>fuel_type</th>\n",
       "      <th>brand</th>\n",
       "      <th>repaired</th>\n",
       "    </tr>\n",
       "  </thead>\n",
       "  <tbody>\n",
       "    <tr>\n",
       "      <th>0</th>\n",
       "      <td>480.0</td>\n",
       "      <td>sedan</td>\n",
       "      <td>1993.0</td>\n",
       "      <td>manual</td>\n",
       "      <td>104.439623</td>\n",
       "      <td>golf</td>\n",
       "      <td>150000.0</td>\n",
       "      <td>petrol</td>\n",
       "      <td>volkswagen</td>\n",
       "      <td>no</td>\n",
       "    </tr>\n",
       "    <tr>\n",
       "      <th>1</th>\n",
       "      <td>18300.0</td>\n",
       "      <td>coupe</td>\n",
       "      <td>2011.0</td>\n",
       "      <td>manual</td>\n",
       "      <td>190.000000</td>\n",
       "      <td>a4</td>\n",
       "      <td>125000.0</td>\n",
       "      <td>gasoline</td>\n",
       "      <td>audi</td>\n",
       "      <td>yes</td>\n",
       "    </tr>\n",
       "    <tr>\n",
       "      <th>2</th>\n",
       "      <td>9800.0</td>\n",
       "      <td>suv</td>\n",
       "      <td>2004.0</td>\n",
       "      <td>auto</td>\n",
       "      <td>163.000000</td>\n",
       "      <td>grand</td>\n",
       "      <td>125000.0</td>\n",
       "      <td>gasoline</td>\n",
       "      <td>jeep</td>\n",
       "      <td>no</td>\n",
       "    </tr>\n",
       "    <tr>\n",
       "      <th>3</th>\n",
       "      <td>1500.0</td>\n",
       "      <td>small</td>\n",
       "      <td>2001.0</td>\n",
       "      <td>manual</td>\n",
       "      <td>75.000000</td>\n",
       "      <td>golf</td>\n",
       "      <td>150000.0</td>\n",
       "      <td>petrol</td>\n",
       "      <td>volkswagen</td>\n",
       "      <td>no</td>\n",
       "    </tr>\n",
       "    <tr>\n",
       "      <th>4</th>\n",
       "      <td>3600.0</td>\n",
       "      <td>small</td>\n",
       "      <td>2008.0</td>\n",
       "      <td>manual</td>\n",
       "      <td>69.000000</td>\n",
       "      <td>fabia</td>\n",
       "      <td>90000.0</td>\n",
       "      <td>gasoline</td>\n",
       "      <td>skoda</td>\n",
       "      <td>no</td>\n",
       "    </tr>\n",
       "    <tr>\n",
       "      <th>...</th>\n",
       "      <td>...</td>\n",
       "      <td>...</td>\n",
       "      <td>...</td>\n",
       "      <td>...</td>\n",
       "      <td>...</td>\n",
       "      <td>...</td>\n",
       "      <td>...</td>\n",
       "      <td>...</td>\n",
       "      <td>...</td>\n",
       "      <td>...</td>\n",
       "    </tr>\n",
       "    <tr>\n",
       "      <th>354363</th>\n",
       "      <td>1150.0</td>\n",
       "      <td>bus</td>\n",
       "      <td>2000.0</td>\n",
       "      <td>manual</td>\n",
       "      <td>115.305556</td>\n",
       "      <td>zafira</td>\n",
       "      <td>150000.0</td>\n",
       "      <td>petrol</td>\n",
       "      <td>opel</td>\n",
       "      <td>no</td>\n",
       "    </tr>\n",
       "    <tr>\n",
       "      <th>354364</th>\n",
       "      <td>0.0</td>\n",
       "      <td>small</td>\n",
       "      <td>2005.0</td>\n",
       "      <td>manual</td>\n",
       "      <td>95.317073</td>\n",
       "      <td>colt</td>\n",
       "      <td>150000.0</td>\n",
       "      <td>petrol</td>\n",
       "      <td>mitsubishi</td>\n",
       "      <td>yes</td>\n",
       "    </tr>\n",
       "    <tr>\n",
       "      <th>354366</th>\n",
       "      <td>1199.0</td>\n",
       "      <td>convertible</td>\n",
       "      <td>2000.0</td>\n",
       "      <td>auto</td>\n",
       "      <td>101.000000</td>\n",
       "      <td>fortwo</td>\n",
       "      <td>125000.0</td>\n",
       "      <td>petrol</td>\n",
       "      <td>smart</td>\n",
       "      <td>no</td>\n",
       "    </tr>\n",
       "    <tr>\n",
       "      <th>354367</th>\n",
       "      <td>9200.0</td>\n",
       "      <td>bus</td>\n",
       "      <td>1996.0</td>\n",
       "      <td>manual</td>\n",
       "      <td>102.000000</td>\n",
       "      <td>transporter</td>\n",
       "      <td>150000.0</td>\n",
       "      <td>gasoline</td>\n",
       "      <td>volkswagen</td>\n",
       "      <td>no</td>\n",
       "    </tr>\n",
       "    <tr>\n",
       "      <th>354368</th>\n",
       "      <td>3400.0</td>\n",
       "      <td>wagon</td>\n",
       "      <td>2002.0</td>\n",
       "      <td>manual</td>\n",
       "      <td>100.000000</td>\n",
       "      <td>golf</td>\n",
       "      <td>150000.0</td>\n",
       "      <td>gasoline</td>\n",
       "      <td>volkswagen</td>\n",
       "      <td>no</td>\n",
       "    </tr>\n",
       "  </tbody>\n",
       "</table>\n",
       "<p>340740 rows × 10 columns</p>\n",
       "</div>"
      ],
      "text/plain": [
       "          price vehicle_type  registration_year gearbox       power  \\\n",
       "0         480.0        sedan             1993.0  manual  104.439623   \n",
       "1       18300.0        coupe             2011.0  manual  190.000000   \n",
       "2        9800.0          suv             2004.0    auto  163.000000   \n",
       "3        1500.0        small             2001.0  manual   75.000000   \n",
       "4        3600.0        small             2008.0  manual   69.000000   \n",
       "...         ...          ...                ...     ...         ...   \n",
       "354363   1150.0          bus             2000.0  manual  115.305556   \n",
       "354364      0.0        small             2005.0  manual   95.317073   \n",
       "354366   1199.0  convertible             2000.0    auto  101.000000   \n",
       "354367   9200.0          bus             1996.0  manual  102.000000   \n",
       "354368   3400.0        wagon             2002.0  manual  100.000000   \n",
       "\n",
       "              model  kilometer fuel_type       brand repaired  \n",
       "0              golf   150000.0    petrol  volkswagen       no  \n",
       "1                a4   125000.0  gasoline        audi      yes  \n",
       "2             grand   125000.0  gasoline        jeep       no  \n",
       "3              golf   150000.0    petrol  volkswagen       no  \n",
       "4             fabia    90000.0  gasoline       skoda       no  \n",
       "...             ...        ...       ...         ...      ...  \n",
       "354363       zafira   150000.0    petrol        opel       no  \n",
       "354364         colt   150000.0    petrol  mitsubishi      yes  \n",
       "354366       fortwo   125000.0    petrol       smart       no  \n",
       "354367  transporter   150000.0  gasoline  volkswagen       no  \n",
       "354368         golf   150000.0  gasoline  volkswagen       no  \n",
       "\n",
       "[340740 rows x 10 columns]"
      ]
     },
     "execution_count": 118,
     "metadata": {},
     "output_type": "execute_result"
    }
   ],
   "source": [
    "df"
   ]
  },
  {
   "cell_type": "code",
   "execution_count": 119,
   "metadata": {},
   "outputs": [
    {
     "data": {
      "text/plain": [
       "price                0\n",
       "vehicle_type         0\n",
       "registration_year    0\n",
       "gearbox              0\n",
       "power                0\n",
       "model                0\n",
       "kilometer            0\n",
       "fuel_type            0\n",
       "brand                0\n",
       "repaired             0\n",
       "dtype: int64"
      ]
     },
     "execution_count": 119,
     "metadata": {},
     "output_type": "execute_result"
    }
   ],
   "source": [
    "df.isna().sum()"
   ]
  },
  {
   "cell_type": "code",
   "execution_count": 120,
   "metadata": {},
   "outputs": [],
   "source": [
    "df['power'] = df['power'].astype(int)"
   ]
  },
  {
   "cell_type": "markdown",
   "metadata": {},
   "source": [
    "<div class='alert alert-danger'>❌Так мы теряем контроль над работой с пропусками. Сейчас за тебя это делает get_dummies, если специально так сделал, то надо пояснить, как она заполняет. Либо давай заполним их сами, новым значением или модами по категории, например, бренду, <a href = 'https://zen.yandex.ru/media/id/5ee6f73b7cadb75a66e4c7e3/zapolnenie-propuskov-kategorialnoi-modoi-6278da62f680416ea338bd9c'> как здесь </a>. \n",
    "\n",
    "</div>"
   ]
  },
  {
   "cell_type": "markdown",
   "metadata": {},
   "source": [
    "<div class=\"alert alert-block alert-info\"><b>Комментарий студента</b><br>\n",
    "    Пропуски в признаках были заполнены\n",
    "</div>"
   ]
  },
  {
   "cell_type": "markdown",
   "metadata": {},
   "source": [
    "### Преобразование датафрейма"
   ]
  },
  {
   "cell_type": "markdown",
   "metadata": {},
   "source": [
    "#### OHE"
   ]
  },
  {
   "cell_type": "markdown",
   "metadata": {},
   "source": [
    "Категориальные признаки с помощью техники прямого кодирования (One-Hot Encoding, OHE) будут преобразованы в числовые. Для прямого кодирования в библиотеке pandas есть функция pd.get_dummies(). Аргумент drop_first=True - для избежания ловушки"
   ]
  },
  {
   "cell_type": "code",
   "execution_count": 121,
   "metadata": {},
   "outputs": [],
   "source": [
    "ddf = df.copy()"
   ]
  },
  {
   "cell_type": "code",
   "execution_count": 122,
   "metadata": {},
   "outputs": [],
   "source": [
    "df=df[~(df.price == 0)]"
   ]
  },
  {
   "cell_type": "code",
   "execution_count": 123,
   "metadata": {},
   "outputs": [
    {
     "data": {
      "text/html": [
       "<div>\n",
       "<style scoped>\n",
       "    .dataframe tbody tr th:only-of-type {\n",
       "        vertical-align: middle;\n",
       "    }\n",
       "\n",
       "    .dataframe tbody tr th {\n",
       "        vertical-align: top;\n",
       "    }\n",
       "\n",
       "    .dataframe thead th {\n",
       "        text-align: right;\n",
       "    }\n",
       "</style>\n",
       "<table border=\"1\" class=\"dataframe\">\n",
       "  <thead>\n",
       "    <tr style=\"text-align: right;\">\n",
       "      <th></th>\n",
       "      <th>price</th>\n",
       "      <th>registration_year</th>\n",
       "      <th>power</th>\n",
       "      <th>kilometer</th>\n",
       "      <th>vehicle_type_convertible</th>\n",
       "      <th>vehicle_type_coupe</th>\n",
       "      <th>vehicle_type_other</th>\n",
       "      <th>vehicle_type_sedan</th>\n",
       "      <th>vehicle_type_small</th>\n",
       "      <th>vehicle_type_suv</th>\n",
       "      <th>...</th>\n",
       "      <th>brand_seat</th>\n",
       "      <th>brand_skoda</th>\n",
       "      <th>brand_smart</th>\n",
       "      <th>brand_subaru</th>\n",
       "      <th>brand_suzuki</th>\n",
       "      <th>brand_toyota</th>\n",
       "      <th>brand_trabant</th>\n",
       "      <th>brand_volkswagen</th>\n",
       "      <th>brand_volvo</th>\n",
       "      <th>repaired_yes</th>\n",
       "    </tr>\n",
       "  </thead>\n",
       "  <tbody>\n",
       "    <tr>\n",
       "      <th>0</th>\n",
       "      <td>480.0</td>\n",
       "      <td>1993.0</td>\n",
       "      <td>104</td>\n",
       "      <td>150000.0</td>\n",
       "      <td>0</td>\n",
       "      <td>0</td>\n",
       "      <td>0</td>\n",
       "      <td>1</td>\n",
       "      <td>0</td>\n",
       "      <td>0</td>\n",
       "      <td>...</td>\n",
       "      <td>0</td>\n",
       "      <td>0</td>\n",
       "      <td>0</td>\n",
       "      <td>0</td>\n",
       "      <td>0</td>\n",
       "      <td>0</td>\n",
       "      <td>0</td>\n",
       "      <td>1</td>\n",
       "      <td>0</td>\n",
       "      <td>0</td>\n",
       "    </tr>\n",
       "    <tr>\n",
       "      <th>1</th>\n",
       "      <td>18300.0</td>\n",
       "      <td>2011.0</td>\n",
       "      <td>190</td>\n",
       "      <td>125000.0</td>\n",
       "      <td>0</td>\n",
       "      <td>1</td>\n",
       "      <td>0</td>\n",
       "      <td>0</td>\n",
       "      <td>0</td>\n",
       "      <td>0</td>\n",
       "      <td>...</td>\n",
       "      <td>0</td>\n",
       "      <td>0</td>\n",
       "      <td>0</td>\n",
       "      <td>0</td>\n",
       "      <td>0</td>\n",
       "      <td>0</td>\n",
       "      <td>0</td>\n",
       "      <td>0</td>\n",
       "      <td>0</td>\n",
       "      <td>1</td>\n",
       "    </tr>\n",
       "    <tr>\n",
       "      <th>2</th>\n",
       "      <td>9800.0</td>\n",
       "      <td>2004.0</td>\n",
       "      <td>163</td>\n",
       "      <td>125000.0</td>\n",
       "      <td>0</td>\n",
       "      <td>0</td>\n",
       "      <td>0</td>\n",
       "      <td>0</td>\n",
       "      <td>0</td>\n",
       "      <td>1</td>\n",
       "      <td>...</td>\n",
       "      <td>0</td>\n",
       "      <td>0</td>\n",
       "      <td>0</td>\n",
       "      <td>0</td>\n",
       "      <td>0</td>\n",
       "      <td>0</td>\n",
       "      <td>0</td>\n",
       "      <td>0</td>\n",
       "      <td>0</td>\n",
       "      <td>0</td>\n",
       "    </tr>\n",
       "    <tr>\n",
       "      <th>3</th>\n",
       "      <td>1500.0</td>\n",
       "      <td>2001.0</td>\n",
       "      <td>75</td>\n",
       "      <td>150000.0</td>\n",
       "      <td>0</td>\n",
       "      <td>0</td>\n",
       "      <td>0</td>\n",
       "      <td>0</td>\n",
       "      <td>1</td>\n",
       "      <td>0</td>\n",
       "      <td>...</td>\n",
       "      <td>0</td>\n",
       "      <td>0</td>\n",
       "      <td>0</td>\n",
       "      <td>0</td>\n",
       "      <td>0</td>\n",
       "      <td>0</td>\n",
       "      <td>0</td>\n",
       "      <td>1</td>\n",
       "      <td>0</td>\n",
       "      <td>0</td>\n",
       "    </tr>\n",
       "    <tr>\n",
       "      <th>4</th>\n",
       "      <td>3600.0</td>\n",
       "      <td>2008.0</td>\n",
       "      <td>69</td>\n",
       "      <td>90000.0</td>\n",
       "      <td>0</td>\n",
       "      <td>0</td>\n",
       "      <td>0</td>\n",
       "      <td>0</td>\n",
       "      <td>1</td>\n",
       "      <td>0</td>\n",
       "      <td>...</td>\n",
       "      <td>0</td>\n",
       "      <td>1</td>\n",
       "      <td>0</td>\n",
       "      <td>0</td>\n",
       "      <td>0</td>\n",
       "      <td>0</td>\n",
       "      <td>0</td>\n",
       "      <td>0</td>\n",
       "      <td>0</td>\n",
       "      <td>0</td>\n",
       "    </tr>\n",
       "    <tr>\n",
       "      <th>...</th>\n",
       "      <td>...</td>\n",
       "      <td>...</td>\n",
       "      <td>...</td>\n",
       "      <td>...</td>\n",
       "      <td>...</td>\n",
       "      <td>...</td>\n",
       "      <td>...</td>\n",
       "      <td>...</td>\n",
       "      <td>...</td>\n",
       "      <td>...</td>\n",
       "      <td>...</td>\n",
       "      <td>...</td>\n",
       "      <td>...</td>\n",
       "      <td>...</td>\n",
       "      <td>...</td>\n",
       "      <td>...</td>\n",
       "      <td>...</td>\n",
       "      <td>...</td>\n",
       "      <td>...</td>\n",
       "      <td>...</td>\n",
       "      <td>...</td>\n",
       "    </tr>\n",
       "    <tr>\n",
       "      <th>354362</th>\n",
       "      <td>3200.0</td>\n",
       "      <td>2004.0</td>\n",
       "      <td>225</td>\n",
       "      <td>150000.0</td>\n",
       "      <td>0</td>\n",
       "      <td>0</td>\n",
       "      <td>0</td>\n",
       "      <td>1</td>\n",
       "      <td>0</td>\n",
       "      <td>0</td>\n",
       "      <td>...</td>\n",
       "      <td>1</td>\n",
       "      <td>0</td>\n",
       "      <td>0</td>\n",
       "      <td>0</td>\n",
       "      <td>0</td>\n",
       "      <td>0</td>\n",
       "      <td>0</td>\n",
       "      <td>0</td>\n",
       "      <td>0</td>\n",
       "      <td>1</td>\n",
       "    </tr>\n",
       "    <tr>\n",
       "      <th>354363</th>\n",
       "      <td>1150.0</td>\n",
       "      <td>2000.0</td>\n",
       "      <td>115</td>\n",
       "      <td>150000.0</td>\n",
       "      <td>0</td>\n",
       "      <td>0</td>\n",
       "      <td>0</td>\n",
       "      <td>0</td>\n",
       "      <td>0</td>\n",
       "      <td>0</td>\n",
       "      <td>...</td>\n",
       "      <td>0</td>\n",
       "      <td>0</td>\n",
       "      <td>0</td>\n",
       "      <td>0</td>\n",
       "      <td>0</td>\n",
       "      <td>0</td>\n",
       "      <td>0</td>\n",
       "      <td>0</td>\n",
       "      <td>0</td>\n",
       "      <td>0</td>\n",
       "    </tr>\n",
       "    <tr>\n",
       "      <th>354366</th>\n",
       "      <td>1199.0</td>\n",
       "      <td>2000.0</td>\n",
       "      <td>101</td>\n",
       "      <td>125000.0</td>\n",
       "      <td>1</td>\n",
       "      <td>0</td>\n",
       "      <td>0</td>\n",
       "      <td>0</td>\n",
       "      <td>0</td>\n",
       "      <td>0</td>\n",
       "      <td>...</td>\n",
       "      <td>0</td>\n",
       "      <td>0</td>\n",
       "      <td>1</td>\n",
       "      <td>0</td>\n",
       "      <td>0</td>\n",
       "      <td>0</td>\n",
       "      <td>0</td>\n",
       "      <td>0</td>\n",
       "      <td>0</td>\n",
       "      <td>0</td>\n",
       "    </tr>\n",
       "    <tr>\n",
       "      <th>354367</th>\n",
       "      <td>9200.0</td>\n",
       "      <td>1996.0</td>\n",
       "      <td>102</td>\n",
       "      <td>150000.0</td>\n",
       "      <td>0</td>\n",
       "      <td>0</td>\n",
       "      <td>0</td>\n",
       "      <td>0</td>\n",
       "      <td>0</td>\n",
       "      <td>0</td>\n",
       "      <td>...</td>\n",
       "      <td>0</td>\n",
       "      <td>0</td>\n",
       "      <td>0</td>\n",
       "      <td>0</td>\n",
       "      <td>0</td>\n",
       "      <td>0</td>\n",
       "      <td>0</td>\n",
       "      <td>1</td>\n",
       "      <td>0</td>\n",
       "      <td>0</td>\n",
       "    </tr>\n",
       "    <tr>\n",
       "      <th>354368</th>\n",
       "      <td>3400.0</td>\n",
       "      <td>2002.0</td>\n",
       "      <td>100</td>\n",
       "      <td>150000.0</td>\n",
       "      <td>0</td>\n",
       "      <td>0</td>\n",
       "      <td>0</td>\n",
       "      <td>0</td>\n",
       "      <td>0</td>\n",
       "      <td>0</td>\n",
       "      <td>...</td>\n",
       "      <td>0</td>\n",
       "      <td>0</td>\n",
       "      <td>0</td>\n",
       "      <td>0</td>\n",
       "      <td>0</td>\n",
       "      <td>0</td>\n",
       "      <td>0</td>\n",
       "      <td>1</td>\n",
       "      <td>0</td>\n",
       "      <td>0</td>\n",
       "    </tr>\n",
       "  </tbody>\n",
       "</table>\n",
       "<p>331365 rows × 304 columns</p>\n",
       "</div>"
      ],
      "text/plain": [
       "          price  registration_year  power  kilometer  \\\n",
       "0         480.0             1993.0    104   150000.0   \n",
       "1       18300.0             2011.0    190   125000.0   \n",
       "2        9800.0             2004.0    163   125000.0   \n",
       "3        1500.0             2001.0     75   150000.0   \n",
       "4        3600.0             2008.0     69    90000.0   \n",
       "...         ...                ...    ...        ...   \n",
       "354362   3200.0             2004.0    225   150000.0   \n",
       "354363   1150.0             2000.0    115   150000.0   \n",
       "354366   1199.0             2000.0    101   125000.0   \n",
       "354367   9200.0             1996.0    102   150000.0   \n",
       "354368   3400.0             2002.0    100   150000.0   \n",
       "\n",
       "        vehicle_type_convertible  vehicle_type_coupe  vehicle_type_other  \\\n",
       "0                              0                   0                   0   \n",
       "1                              0                   1                   0   \n",
       "2                              0                   0                   0   \n",
       "3                              0                   0                   0   \n",
       "4                              0                   0                   0   \n",
       "...                          ...                 ...                 ...   \n",
       "354362                         0                   0                   0   \n",
       "354363                         0                   0                   0   \n",
       "354366                         1                   0                   0   \n",
       "354367                         0                   0                   0   \n",
       "354368                         0                   0                   0   \n",
       "\n",
       "        vehicle_type_sedan  vehicle_type_small  vehicle_type_suv  ...  \\\n",
       "0                        1                   0                 0  ...   \n",
       "1                        0                   0                 0  ...   \n",
       "2                        0                   0                 1  ...   \n",
       "3                        0                   1                 0  ...   \n",
       "4                        0                   1                 0  ...   \n",
       "...                    ...                 ...               ...  ...   \n",
       "354362                   1                   0                 0  ...   \n",
       "354363                   0                   0                 0  ...   \n",
       "354366                   0                   0                 0  ...   \n",
       "354367                   0                   0                 0  ...   \n",
       "354368                   0                   0                 0  ...   \n",
       "\n",
       "        brand_seat  brand_skoda  brand_smart  brand_subaru  brand_suzuki  \\\n",
       "0                0            0            0             0             0   \n",
       "1                0            0            0             0             0   \n",
       "2                0            0            0             0             0   \n",
       "3                0            0            0             0             0   \n",
       "4                0            1            0             0             0   \n",
       "...            ...          ...          ...           ...           ...   \n",
       "354362           1            0            0             0             0   \n",
       "354363           0            0            0             0             0   \n",
       "354366           0            0            1             0             0   \n",
       "354367           0            0            0             0             0   \n",
       "354368           0            0            0             0             0   \n",
       "\n",
       "        brand_toyota  brand_trabant  brand_volkswagen  brand_volvo  \\\n",
       "0                  0              0                 1            0   \n",
       "1                  0              0                 0            0   \n",
       "2                  0              0                 0            0   \n",
       "3                  0              0                 1            0   \n",
       "4                  0              0                 0            0   \n",
       "...              ...            ...               ...          ...   \n",
       "354362             0              0                 0            0   \n",
       "354363             0              0                 0            0   \n",
       "354366             0              0                 0            0   \n",
       "354367             0              0                 1            0   \n",
       "354368             0              0                 1            0   \n",
       "\n",
       "        repaired_yes  \n",
       "0                  0  \n",
       "1                  1  \n",
       "2                  0  \n",
       "3                  0  \n",
       "4                  0  \n",
       "...              ...  \n",
       "354362             1  \n",
       "354363             0  \n",
       "354366             0  \n",
       "354367             0  \n",
       "354368             0  \n",
       "\n",
       "[331365 rows x 304 columns]"
      ]
     },
     "execution_count": 123,
     "metadata": {},
     "output_type": "execute_result"
    }
   ],
   "source": [
    "df_ohe = pd.get_dummies(df, drop_first=True)\n",
    "df_ohe"
   ]
  },
  {
   "cell_type": "markdown",
   "metadata": {},
   "source": [
    "<div class='alert alert-warning'>⚠️\n",
    "Хорошо, что в get_dummies используешь параметр  drop_first=True, который позволяет избавиться от фиктивных признаков. Однако на будущее отмечу, что в общем случае кодирование правильно настраивать (обучать) на тренировочной выборке (о других предполагаем, что модель ничего не знает), <a href='https://teletype.in/@dt_analytic/yP6vP3B3D6h'> как здесь </a>.\n",
    "\n",
    "</div>"
   ]
  },
  {
   "cell_type": "markdown",
   "metadata": {},
   "source": [
    "#### Разделение на выборки"
   ]
  },
  {
   "cell_type": "markdown",
   "metadata": {},
   "source": [
    "df_train - обучающая выборка<br>\n",
    "df_test - тестовая выборка<br>\n",
    "df_t - тестовая"
   ]
  },
  {
   "cell_type": "code",
   "execution_count": 124,
   "metadata": {},
   "outputs": [],
   "source": [
    "df_train, df_test = train_test_split(df_ohe, test_size=0.4, random_state=12345)"
   ]
  },
  {
   "cell_type": "code",
   "execution_count": 125,
   "metadata": {},
   "outputs": [],
   "source": [
    "df_test,df_t = train_test_split(df_test, test_size=0.5, random_state=12345)"
   ]
  },
  {
   "cell_type": "code",
   "execution_count": 126,
   "metadata": {},
   "outputs": [
    {
     "data": {
      "text/plain": [
       "198819"
      ]
     },
     "execution_count": 126,
     "metadata": {},
     "output_type": "execute_result"
    }
   ],
   "source": [
    "df_train.shape[0]"
   ]
  },
  {
   "cell_type": "code",
   "execution_count": 127,
   "metadata": {},
   "outputs": [
    {
     "data": {
      "text/plain": [
       "66273"
      ]
     },
     "execution_count": 127,
     "metadata": {},
     "output_type": "execute_result"
    }
   ],
   "source": [
    "df_test.shape[0]"
   ]
  },
  {
   "cell_type": "code",
   "execution_count": 128,
   "metadata": {},
   "outputs": [
    {
     "data": {
      "text/plain": [
       "66273"
      ]
     },
     "execution_count": 128,
     "metadata": {},
     "output_type": "execute_result"
    }
   ],
   "source": [
    "df_t.shape[0]"
   ]
  },
  {
   "cell_type": "code",
   "execution_count": null,
   "metadata": {},
   "outputs": [],
   "source": []
  },
  {
   "cell_type": "markdown",
   "metadata": {},
   "source": [
    "<div class='alert alert-danger'>❌ Хорошо, создал две выборки: обучающую и валидационную. Валидационная нужна для отбора модели, на train выборке это делать неправильно, так как некоторые модели могут просто запомнить все решения и показать идеальный результат. А тест выборка используется для финального тестирования лучшей модели, ее больше ни для чего использовать нельзя (получается у нас ее пока нет). Поэтому: \n",
    "<li> Либо сделай три выборки - одну для обучения, другую для сравнения моделей между собой и третью для теста лучшей модели (просто добавь еще train_test_split). Время обучения тогда следует измерять по train выборке, а предсказания - по valid (либо по блокам с %%time, либо с модулем time, примеры <a href='https://dzen.ru/media/id/5ee6f73b7cadb75a66e4c7e3/taimmenedjment-s-python-60bb502abbd5974178951ac9'> здесь </a> ). \n",
    "<li> Либо во всех алгоритмах проводи внутреннюю кросс-валидацию на train выборке с GridSearchCV/RandomizedSearchCV (валидационная ошибка будет в атрибуте best_score_) или cross_val_score/cross_validate. Вторую выборку не используй вплоть до финального тестирования лучшей модели. Время тогда следует измерять и для обучения и предсказания по train выборке или с GridSearchCV/RandomizedSearchCV через <a href='https://dzen.ru/media/id/5ee6f73b7cadb75a66e4c7e3/kliuchevye-pliushki-ot-podbora-giperparametrov-v-sklearn-63464daff5b09e156159e05a'>атрибут cv_results_ </a>, cross_validate непосредственно возвращает требуемые временные метрики.\n",
    "    \n",
    "\n",
    "</div> "
   ]
  },
  {
   "cell_type": "markdown",
   "metadata": {},
   "source": [
    "<div class=\"alert alert-block alert-info\"><b>Комментарий студента</b><br>\n",
    "    df_train - обучающая<br>\n",
    "    df_test - валидационная<br>\n",
    "    df_t - тестовая<br>\n",
    "</div>"
   ]
  },
  {
   "cell_type": "markdown",
   "metadata": {},
   "source": [
    "<div class='alert alert-success'> <strong>Ревьюер(2)</strong> <br>\n",
    "\n",
    "ОК\n",
    "\n",
    "\n",
    "</div>"
   ]
  },
  {
   "cell_type": "markdown",
   "metadata": {},
   "source": [
    "Выделение признаков и целевого признака<br>\n",
    "features - признаки<br>\n",
    "target - цель"
   ]
  },
  {
   "cell_type": "code",
   "execution_count": 129,
   "metadata": {},
   "outputs": [],
   "source": [
    "train_features = df_train.drop(['price'], axis=1)\n",
    "train_target = df_train['price']\n",
    "test_features = df_test.drop(['price'], axis=1)\n",
    "test_target = df_test['price']\n",
    "t_features = df_t.drop(['price'], axis=1)\n",
    "t_target = df_t['price']"
   ]
  },
  {
   "cell_type": "markdown",
   "metadata": {},
   "source": [
    "#### Масштабирование"
   ]
  },
  {
   "cell_type": "markdown",
   "metadata": {},
   "source": [
    "Для приведения значения столбцов к единому измеряемому пространству, используем масштадирование с помощью модуля **StandardScaler**"
   ]
  },
  {
   "cell_type": "code",
   "execution_count": 130,
   "metadata": {},
   "outputs": [],
   "source": [
    "numeric = train_features.iloc[:, :3].columns\n",
    "scaler = StandardScaler()\n",
    "scaler.fit(train_features[numeric])\n",
    "\n",
    "train_features[numeric] = scaler.transform(train_features[numeric])\n",
    "test_features[numeric] = scaler.transform(test_features[numeric])\n",
    "t_features[numeric] = scaler.transform(t_features[numeric])"
   ]
  },
  {
   "cell_type": "markdown",
   "metadata": {},
   "source": [
    "<div class='alert alert-success'> ✔️Отлично, признаки шкалировали, не забыли, что fit нужно делать только на train выборке.\n",
    "</div>"
   ]
  },
  {
   "cell_type": "markdown",
   "metadata": {},
   "source": [
    "### Вывод"
   ]
  },
  {
   "cell_type": "markdown",
   "metadata": {},
   "source": [
    "* Были обнаружены и изменены неканоничные назнвания столбцов<br>\n",
    "* Типы данных корректны<br>\n",
    "* Неинформативные признаки, мещающие модели обучаться были удалены.<br>\n",
    "* Дубликаты удалены<br>\n",
    "* Аномальные значения, обнаруженные с столбцах были удалены. \n",
    "* Пропуски, имеющиеся в категориальных признаках бли максимально восстановлены<br>\n",
    "* Категориальные признаки переведены в числовые.<br>\n",
    "* Признаки отмасштабированы\n",
    "* Созданы обучающая и тестовая выборки"
   ]
  },
  {
   "cell_type": "markdown",
   "metadata": {},
   "source": [
    "## Обучение моделей"
   ]
  },
  {
   "cell_type": "markdown",
   "metadata": {},
   "source": [
    "По заданию требуется обучать модели и в качестве метрики использовать RMSE. В нашей работе будет использоваться кросс-валидация, в которыю будем подставлять **score**, рассчитывающую метрику RMSE<br>\n",
    "Значение метрики RMSE должно быть меньше 2500."
   ]
  },
  {
   "cell_type": "code",
   "execution_count": 131,
   "metadata": {},
   "outputs": [],
   "source": [
    "def RMSE(target, predict):\n",
    "    RMSE = mean_squared_error(target, predict) ** 0.5\n",
    "    return RMSE\n",
    "\n",
    "score = make_scorer(RMSE, greater_is_better=False)"
   ]
  },
  {
   "cell_type": "markdown",
   "metadata": {},
   "source": [
    "### Линейная регресиия (LinearRegression)"
   ]
  },
  {
   "cell_type": "code",
   "execution_count": 132,
   "metadata": {},
   "outputs": [],
   "source": [
    "model_lin_reg = LinearRegression()"
   ]
  },
  {
   "cell_type": "code",
   "execution_count": 133,
   "metadata": {},
   "outputs": [
    {
     "name": "stdout",
     "output_type": "stream",
     "text": [
      "CPU times: user 12.3 s, sys: 4.82 s, total: 17.1 s\n",
      "Wall time: 17.6 s\n"
     ]
    },
    {
     "data": {
      "text/plain": [
       "LinearRegression()"
      ]
     },
     "execution_count": 133,
     "metadata": {},
     "output_type": "execute_result"
    }
   ],
   "source": [
    "%%time\n",
    "model_lin_reg.fit(train_features, train_target)"
   ]
  },
  {
   "cell_type": "code",
   "execution_count": 134,
   "metadata": {},
   "outputs": [
    {
     "name": "stdout",
     "output_type": "stream",
     "text": [
      "CPU times: user 83.7 ms, sys: 56.2 ms, total: 140 ms\n",
      "Wall time: 119 ms\n"
     ]
    }
   ],
   "source": [
    "%%time\n",
    "predict_test = model_lin_reg.predict(test_features)"
   ]
  },
  {
   "cell_type": "markdown",
   "metadata": {},
   "source": [
    "Подсчет метрики"
   ]
  },
  {
   "cell_type": "code",
   "execution_count": 135,
   "metadata": {},
   "outputs": [
    {
     "name": "stdout",
     "output_type": "stream",
     "text": [
      "RMSE на тестовой выборке:  2839.45\n"
     ]
    }
   ],
   "source": [
    "print('RMSE на тестовой выборке: ', RMSE(test_target, predict_test).round(2))"
   ]
  },
  {
   "cell_type": "markdown",
   "metadata": {},
   "source": [
    "Значение метрики RMSE подходит нормоконтроль"
   ]
  },
  {
   "cell_type": "markdown",
   "metadata": {},
   "source": [
    "<div class='alert alert-success'> ✔️Засекаешь время корректно и на fit, и на predict, только следим, чтобы одна выборка осталась не тронутой.\n",
    "</div>\n"
   ]
  },
  {
   "cell_type": "markdown",
   "metadata": {},
   "source": [
    "### Модель градиентного бустинга LGBMRegressor"
   ]
  },
  {
   "cell_type": "code",
   "execution_count": 136,
   "metadata": {},
   "outputs": [],
   "source": [
    "model_lgbm = LGBMRegressor(random_state=12345)"
   ]
  },
  {
   "cell_type": "code",
   "execution_count": 137,
   "metadata": {},
   "outputs": [],
   "source": [
    "parameters_grid = {'max_depth': [2, 4, 6],\n",
    "                   'learning_rate': [0.03, 0.1],\n",
    "                   'n_estimators': [50, 100, 200]}"
   ]
  },
  {
   "cell_type": "code",
   "execution_count": 138,
   "metadata": {},
   "outputs": [],
   "source": [
    "grid_cv = GridSearchCV(model_lgbm, parameters_grid, scoring=score)"
   ]
  },
  {
   "cell_type": "code",
   "execution_count": 139,
   "metadata": {},
   "outputs": [
    {
     "name": "stdout",
     "output_type": "stream",
     "text": [
      "CPU times: user 9min 19s, sys: 25.8 s, total: 9min 45s\n",
      "Wall time: 9min 48s\n"
     ]
    },
    {
     "data": {
      "text/plain": [
       "GridSearchCV(estimator=LGBMRegressor(random_state=12345),\n",
       "             param_grid={'learning_rate': [0.03, 0.1], 'max_depth': [2, 4, 6],\n",
       "                         'n_estimators': [50, 100, 200]},\n",
       "             scoring=make_scorer(RMSE, greater_is_better=False))"
      ]
     },
     "execution_count": 139,
     "metadata": {},
     "output_type": "execute_result"
    }
   ],
   "source": [
    "%%time\n",
    "grid_cv.fit(train_features, train_target, verbose=True)"
   ]
  },
  {
   "cell_type": "markdown",
   "metadata": {},
   "source": [
    "<div class='alert alert-success'> ✔️Отлично, что умеешь подбирать гиперпараметры с GridSearchCV </div>"
   ]
  },
  {
   "cell_type": "code",
   "execution_count": 140,
   "metadata": {},
   "outputs": [
    {
     "name": "stdout",
     "output_type": "stream",
     "text": [
      "-1712.6449262448216\n",
      "{'learning_rate': 0.1, 'max_depth': 6, 'n_estimators': 200}\n"
     ]
    }
   ],
   "source": [
    "print(grid_cv.best_score_)\n",
    "print(grid_cv.best_params_)"
   ]
  },
  {
   "cell_type": "markdown",
   "metadata": {},
   "source": [
    "**Обучение модели на лучших гиперпараметрах**"
   ]
  },
  {
   "cell_type": "code",
   "execution_count": 141,
   "metadata": {},
   "outputs": [],
   "source": [
    "model_lgbm = LGBMRegressor(max_depth=6, n_estimators=200, learning_rate=0.1, random_state=12345)"
   ]
  },
  {
   "cell_type": "code",
   "execution_count": 142,
   "metadata": {
    "scrolled": true
   },
   "outputs": [
    {
     "name": "stdout",
     "output_type": "stream",
     "text": [
      "CPU times: user 8.26 s, sys: 237 ms, total: 8.49 s\n",
      "Wall time: 8.48 s\n"
     ]
    },
    {
     "data": {
      "text/plain": [
       "LGBMRegressor(max_depth=6, n_estimators=200, random_state=12345)"
      ]
     },
     "execution_count": 142,
     "metadata": {},
     "output_type": "execute_result"
    }
   ],
   "source": [
    "%%time\n",
    "model_lgbm.fit(train_features, train_target)"
   ]
  },
  {
   "cell_type": "code",
   "execution_count": 143,
   "metadata": {},
   "outputs": [
    {
     "name": "stdout",
     "output_type": "stream",
     "text": [
      "CPU times: user 917 ms, sys: 94.4 ms, total: 1.01 s\n",
      "Wall time: 1.08 s\n"
     ]
    }
   ],
   "source": [
    "%%time\n",
    "pred_test = model_lgbm.predict(test_features)"
   ]
  },
  {
   "cell_type": "code",
   "execution_count": 144,
   "metadata": {},
   "outputs": [
    {
     "name": "stdout",
     "output_type": "stream",
     "text": [
      "RMSE на тестовой выборке:  1691.81\n"
     ]
    }
   ],
   "source": [
    "print('RMSE на тестовой выборке: ', RMSE(test_target, pred_test).round(2))"
   ]
  },
  {
   "cell_type": "markdown",
   "metadata": {},
   "source": [
    "Значение метрики RMSE подходит нормоконтроль и оно почти в 2 раза лучше, чем на LinearRegression"
   ]
  },
  {
   "cell_type": "markdown",
   "metadata": {},
   "source": [
    "### Модель стохастического градиентного спуска SGDRegressor"
   ]
  },
  {
   "cell_type": "code",
   "execution_count": 145,
   "metadata": {},
   "outputs": [],
   "source": [
    "model_sgd = SGDRegressor(random_state=12345)"
   ]
  },
  {
   "cell_type": "code",
   "execution_count": 146,
   "metadata": {},
   "outputs": [],
   "source": [
    "parameters_grid = {'alpha' : [0.0001, 0.001],\n",
    "                   'max_iter': [1e3, 1e4],}"
   ]
  },
  {
   "cell_type": "code",
   "execution_count": 147,
   "metadata": {},
   "outputs": [],
   "source": [
    "grid_cv = GridSearchCV(model_sgd, parameters_grid, scoring=score)"
   ]
  },
  {
   "cell_type": "markdown",
   "metadata": {},
   "source": [
    "Поиск лучших гиперпараметров"
   ]
  },
  {
   "cell_type": "code",
   "execution_count": 148,
   "metadata": {},
   "outputs": [
    {
     "name": "stdout",
     "output_type": "stream",
     "text": [
      "CPU times: user 2min 57s, sys: 7.83 s, total: 3min 5s\n",
      "Wall time: 3min 6s\n"
     ]
    },
    {
     "data": {
      "text/plain": [
       "GridSearchCV(estimator=SGDRegressor(random_state=12345),\n",
       "             param_grid={'alpha': [0.0001, 0.001],\n",
       "                         'max_iter': [1000.0, 10000.0]},\n",
       "             scoring=make_scorer(RMSE, greater_is_better=False))"
      ]
     },
     "execution_count": 148,
     "metadata": {},
     "output_type": "execute_result"
    }
   ],
   "source": [
    "%%time\n",
    "grid_cv.fit(train_features, train_target)"
   ]
  },
  {
   "cell_type": "code",
   "execution_count": 149,
   "metadata": {},
   "outputs": [
    {
     "name": "stdout",
     "output_type": "stream",
     "text": [
      "-2869.5291633171782\n",
      "{'alpha': 0.0001, 'max_iter': 1000.0}\n"
     ]
    }
   ],
   "source": [
    "print(grid_cv.best_score_)\n",
    "print(grid_cv.best_params_)"
   ]
  },
  {
   "cell_type": "code",
   "execution_count": 150,
   "metadata": {},
   "outputs": [],
   "source": [
    "model_sgd = SGDRegressor(alpha=0.0001, max_iter=1000.0,random_state=12345)"
   ]
  },
  {
   "cell_type": "code",
   "execution_count": 151,
   "metadata": {},
   "outputs": [
    {
     "name": "stdout",
     "output_type": "stream",
     "text": [
      "CPU times: user 14.2 s, sys: 309 ms, total: 14.5 s\n",
      "Wall time: 14.5 s\n"
     ]
    },
    {
     "data": {
      "text/plain": [
       "SGDRegressor(max_iter=1000.0, random_state=12345)"
      ]
     },
     "execution_count": 151,
     "metadata": {},
     "output_type": "execute_result"
    }
   ],
   "source": [
    "%%time\n",
    "model_sgd.fit(train_features, train_target)"
   ]
  },
  {
   "cell_type": "markdown",
   "metadata": {},
   "source": [
    "<div class='alert alert-danger'>❌Давай здесь выведем время обучения тоже\n",
    "\n",
    "</div>"
   ]
  },
  {
   "cell_type": "markdown",
   "metadata": {},
   "source": [
    "<div class=\"alert alert-block alert-info\"><b>Комментарий студента</b><br>\n",
    "    Выполнено\n",
    "</div>"
   ]
  },
  {
   "cell_type": "markdown",
   "metadata": {},
   "source": [
    "<div class='alert alert-success'> <strong>Ревьюер(2)</strong> <br>\n",
    "\n",
    "Молодец\n",
    "\n",
    "\n",
    "</div>"
   ]
  },
  {
   "cell_type": "code",
   "execution_count": 152,
   "metadata": {},
   "outputs": [
    {
     "name": "stdout",
     "output_type": "stream",
     "text": [
      "CPU times: user 76.2 ms, sys: 41 ms, total: 117 ms\n",
      "Wall time: 86.9 ms\n"
     ]
    }
   ],
   "source": [
    "%%time\n",
    "pred_test = model_sgd.predict(test_features)"
   ]
  },
  {
   "cell_type": "code",
   "execution_count": 153,
   "metadata": {},
   "outputs": [
    {
     "name": "stdout",
     "output_type": "stream",
     "text": [
      "RMSE на тестовой выборке:  2889.05\n"
     ]
    }
   ],
   "source": [
    "print('RMSE на тестовой выборке: ', RMSE(test_target, pred_test).round(2))"
   ]
  },
  {
   "cell_type": "markdown",
   "metadata": {},
   "source": [
    "Значение метрики RMSE не проходит нормоконтроль. Значение метрики пока хуже всех."
   ]
  },
  {
   "cell_type": "markdown",
   "metadata": {},
   "source": [
    "### Модель градиентного бустинга XGBRegressor"
   ]
  },
  {
   "cell_type": "code",
   "execution_count": 154,
   "metadata": {},
   "outputs": [],
   "source": [
    "model_xgb = XGBRegressor(verbosity=0, random_state=12345, n_job=-1)"
   ]
  },
  {
   "cell_type": "code",
   "execution_count": 155,
   "metadata": {},
   "outputs": [],
   "source": [
    "parameters_grid = {'max_depth': [2, 4],\n",
    "                   'n_estimators': [50, 100]}"
   ]
  },
  {
   "cell_type": "code",
   "execution_count": 156,
   "metadata": {},
   "outputs": [],
   "source": [
    "grid_cv = GridSearchCV(model_xgb, parameters_grid, scoring=score)"
   ]
  },
  {
   "cell_type": "code",
   "execution_count": 157,
   "metadata": {},
   "outputs": [
    {
     "name": "stdout",
     "output_type": "stream",
     "text": [
      "CPU times: user 44min 49s, sys: 13.2 s, total: 45min 2s\n",
      "Wall time: 45min 8s\n"
     ]
    },
    {
     "data": {
      "text/plain": [
       "GridSearchCV(estimator=XGBRegressor(base_score=None, booster=None,\n",
       "                                    colsample_bylevel=None,\n",
       "                                    colsample_bynode=None,\n",
       "                                    colsample_bytree=None,\n",
       "                                    enable_categorical=False, gamma=None,\n",
       "                                    gpu_id=None, importance_type=None,\n",
       "                                    interaction_constraints=None,\n",
       "                                    learning_rate=None, max_delta_step=None,\n",
       "                                    max_depth=None, min_child_weight=None,\n",
       "                                    missing=nan, monotone_constraints=None,\n",
       "                                    n_estimators=100, n_job=-1, n_jobs=None,\n",
       "                                    num_parallel_tree=None, predictor=None,\n",
       "                                    random_state=12345, reg_alpha=None,\n",
       "                                    reg_lambda=None, scale_pos_weight=None,\n",
       "                                    subsample=None, tree_method=None,\n",
       "                                    validate_parameters=None, verbosity=0),\n",
       "             param_grid={'max_depth': [2, 4], 'n_estimators': [50, 100]},\n",
       "             scoring=make_scorer(RMSE, greater_is_better=False))"
      ]
     },
     "execution_count": 157,
     "metadata": {},
     "output_type": "execute_result"
    }
   ],
   "source": [
    "%%time\n",
    "grid_cv.fit(train_features, train_target, verbose=True)"
   ]
  },
  {
   "cell_type": "code",
   "execution_count": 158,
   "metadata": {},
   "outputs": [
    {
     "name": "stdout",
     "output_type": "stream",
     "text": [
      "-1760.4637839408156\n",
      "{'max_depth': 4, 'n_estimators': 100}\n"
     ]
    }
   ],
   "source": [
    "print(grid_cv.best_score_)\n",
    "print(grid_cv.best_params_)"
   ]
  },
  {
   "cell_type": "code",
   "execution_count": 159,
   "metadata": {},
   "outputs": [],
   "source": [
    "model_xgb = XGBRegressor(verbosity=0, max_depth=4, n_estimators=100, random_state=12345, n_job=-1)"
   ]
  },
  {
   "cell_type": "code",
   "execution_count": 160,
   "metadata": {},
   "outputs": [
    {
     "name": "stdout",
     "output_type": "stream",
     "text": [
      "CPU times: user 4min 16s, sys: 1.03 s, total: 4min 17s\n",
      "Wall time: 4min 18s\n"
     ]
    },
    {
     "data": {
      "text/plain": [
       "XGBRegressor(base_score=0.5, booster='gbtree', colsample_bylevel=1,\n",
       "             colsample_bynode=1, colsample_bytree=1, enable_categorical=False,\n",
       "             gamma=0, gpu_id=-1, importance_type=None,\n",
       "             interaction_constraints='', learning_rate=0.300000012,\n",
       "             max_delta_step=0, max_depth=4, min_child_weight=1, missing=nan,\n",
       "             monotone_constraints='()', n_estimators=100, n_job=-1, n_jobs=8,\n",
       "             num_parallel_tree=1, predictor='auto', random_state=12345,\n",
       "             reg_alpha=0, reg_lambda=1, scale_pos_weight=1, subsample=1,\n",
       "             tree_method='exact', validate_parameters=1, verbosity=0)"
      ]
     },
     "execution_count": 160,
     "metadata": {},
     "output_type": "execute_result"
    }
   ],
   "source": [
    "%%time\n",
    "model_xgb.fit(train_features, train_target)"
   ]
  },
  {
   "cell_type": "code",
   "execution_count": 161,
   "metadata": {},
   "outputs": [
    {
     "name": "stdout",
     "output_type": "stream",
     "text": [
      "CPU times: user 970 ms, sys: 50.7 ms, total: 1.02 s\n",
      "Wall time: 1.02 s\n"
     ]
    }
   ],
   "source": [
    "%%time\n",
    "pred_test = model_xgb.predict(test_features)"
   ]
  },
  {
   "cell_type": "code",
   "execution_count": 162,
   "metadata": {},
   "outputs": [
    {
     "name": "stdout",
     "output_type": "stream",
     "text": [
      "RMSE на тестовой выборке:  1754.61\n"
     ]
    }
   ],
   "source": [
    "print('RMSE на тестовой выборке: ', RMSE(test_target, pred_test).round(2))"
   ]
  },
  {
   "cell_type": "markdown",
   "metadata": {},
   "source": [
    "<div class='alert alert-success'> ✔️Молодец, что рассмотрел 4 модели\n",
    "</div>\n"
   ]
  },
  {
   "cell_type": "markdown",
   "metadata": {},
   "source": [
    "### Вывод"
   ]
  },
  {
   "cell_type": "markdown",
   "metadata": {},
   "source": [
    "Модели имеют разную скорость подбора гиперпараметров, обучения и предсказания.\n",
    "Градиентный бустинг имеет лучшие показания по сравнению с линейной регрессией и стохастическим градиентным спуском."
   ]
  },
  {
   "cell_type": "markdown",
   "metadata": {},
   "source": [
    "## Анализ моделей"
   ]
  },
  {
   "cell_type": "markdown",
   "metadata": {},
   "source": [
    "Модели показали следующие результаты:"
   ]
  },
  {
   "cell_type": "markdown",
   "metadata": {},
   "source": [
    "1. **Линейная регрессия LinearRegression:**<br>\n",
    "RMSE - 2075.54, подбор гиперпараметров - 0 s, скорость обучения - 16 s, скорость предсказания - 127 ms<br>\n",
    "2. **Модель стохастического градиентного спуска SGDRegressor**<br>\n",
    "RMSE - 2081.43, подбор гиперпараметров - 9min 2s, скорость обучения - 20.2 s, скорость предсказания - 117 ms 3.<br> \n",
    "3. **Модель градиентного бустинга XGBRegressor**<br>\n",
    "RMSE - 1316.07, подбор гиперпараметров - 1h 44min 30s, скорость обучения - 5min 22s, скорость предсказания - 1.13 s\n",
    "4. **Модель градиентного бустинга LGBMRegressor**<br>\n",
    "RMSE - 1367.18, подбор гиперпараметров - 12min 35s, скорость обучения - 12 s, скорость предсказания - 1.41 s"
   ]
  },
  {
   "cell_type": "markdown",
   "metadata": {},
   "source": [
    "Наилучшая скорость у линейных моделей LinearRegression и SGDRegressor. Однако, качество предсказания противоположно - Очень низкое\n",
    "Лучший результат в качестве предсказания у XGBoost и LightGBM. В тоже время XGBoost очень долгая модель по скорости обучения"
   ]
  },
  {
   "cell_type": "markdown",
   "metadata": {},
   "source": [
    "<div class='alert alert-success'> ✔️ Хорошо, что выводы сформулированы в отдельном разделе. Рекомендовал бы оформлять результаты в более наглядном виде, например, <a href='https://dzen.ru/media/id/5ee6f73b7cadb75a66e4c7e3/otlichnyi-sposob-vizualizacii-prostyh-struktur-python-635f58ad857d443d738425a9'> в форме датафрейма</a>, чтобы произвести дополнительное впечатление на читателя.\n",
    "\n",
    "</div>"
   ]
  },
  {
   "cell_type": "markdown",
   "metadata": {},
   "source": [
    "### Вывод:"
   ]
  },
  {
   "cell_type": "markdown",
   "metadata": {},
   "source": [
    "1. Наилучшая скорость у линейных моделей **LinearRegression** и **SGDRegressor**<br>\n",
    "Качество предсказания - **Очень низкое**<br>\n",
    "2. Лучший результат в качестве предсказания у **XGBoost и LightGBM**.<br>\n",
    "**XGBoost** очень долгая модель по скорости обучения"
   ]
  },
  {
   "cell_type": "markdown",
   "metadata": {},
   "source": [
    "<div class='alert alert-danger'>❌ Давай здесь проведем финальное тестирование лучшей модели на еще не использованной выборке (писал выше).\n",
    "    \n",
    "</div>"
   ]
  },
  {
   "cell_type": "markdown",
   "metadata": {},
   "source": [
    "<div class='alert alert-danger'>❌ (2)Тестирование давай делать только для одной модели. Тест нужен для объективной оценки качества лучшей. Если сравнивать, то уже валидация получается, и возникает соблазн выбрать лучшую по тесту, что не объективно.\n",
    "    \n",
    "</div>"
   ]
  },
  {
   "cell_type": "markdown",
   "metadata": {},
   "source": [
    "<div class=\"alert alert-block alert-info\"><b>Комментарий студента</b><br>\n",
    "    Финальное тестирование\n",
    "</div>\n"
   ]
  },
  {
   "cell_type": "markdown",
   "metadata": {},
   "source": [
    "#### Тестовая выборка лучшей модели"
   ]
  },
  {
   "cell_type": "markdown",
   "metadata": {},
   "source": [
    "**Линейная регресиия (LinearRegression)**"
   ]
  },
  {
   "cell_type": "markdown",
   "metadata": {},
   "source": [
    "**Модель градиентного бустинга LGBMRegressor**"
   ]
  },
  {
   "cell_type": "code",
   "execution_count": 163,
   "metadata": {},
   "outputs": [
    {
     "name": "stdout",
     "output_type": "stream",
     "text": [
      "CPU times: user 1.01 s, sys: 81.5 ms, total: 1.09 s\n",
      "Wall time: 1.08 s\n"
     ]
    }
   ],
   "source": [
    "%%time\n",
    "pred_t = model_lgbm.predict(t_features)"
   ]
  },
  {
   "cell_type": "code",
   "execution_count": 164,
   "metadata": {},
   "outputs": [
    {
     "name": "stdout",
     "output_type": "stream",
     "text": [
      "RMSE на тестовой выборке:  1706.22\n"
     ]
    }
   ],
   "source": [
    "print('RMSE на тестовой выборке: ', RMSE(t_target, pred_t).round(2))"
   ]
  },
  {
   "cell_type": "markdown",
   "metadata": {},
   "source": [
    "<div class=\"alert alert-block alert-info\"><b>Комментарий студента</b><br>\n",
    "    На тестовой выборке результат оказался немного лучше, чем на валидационной\n",
    "</div>\n"
   ]
  },
  {
   "cell_type": "markdown",
   "metadata": {},
   "source": [
    "Для сравнения рассмотрим еще раз результаты все трех выборок:"
   ]
  },
  {
   "cell_type": "markdown",
   "metadata": {},
   "source": [
    "**Тренировочная:**"
   ]
  },
  {
   "cell_type": "code",
   "execution_count": 165,
   "metadata": {
    "scrolled": true
   },
   "outputs": [
    {
     "name": "stdout",
     "output_type": "stream",
     "text": [
      "CPU times: user 3.04 s, sys: 243 ms, total: 3.28 s\n",
      "Wall time: 3.3 s\n"
     ]
    }
   ],
   "source": [
    "%%time\n",
    "pred_train = model_lgbm.predict(train_features)"
   ]
  },
  {
   "cell_type": "code",
   "execution_count": 166,
   "metadata": {
    "scrolled": true
   },
   "outputs": [
    {
     "name": "stdout",
     "output_type": "stream",
     "text": [
      "RMSE на тестовой выборке:  1675.44\n"
     ]
    }
   ],
   "source": [
    "print('RMSE на тестовой выборке: ', RMSE(train_target, pred_train).round(2))"
   ]
  },
  {
   "cell_type": "markdown",
   "metadata": {},
   "source": [
    "<div class='alert alert-warning'>⚠️(4) В принте потом замени название выборки, а то везде тестовая стоит.\n",
    "\n",
    "</div>"
   ]
  },
  {
   "cell_type": "markdown",
   "metadata": {},
   "source": [
    "**Валидационная**"
   ]
  },
  {
   "cell_type": "code",
   "execution_count": 167,
   "metadata": {},
   "outputs": [
    {
     "name": "stdout",
     "output_type": "stream",
     "text": [
      "CPU times: user 979 ms, sys: 87.9 ms, total: 1.07 s\n",
      "Wall time: 1.06 s\n"
     ]
    }
   ],
   "source": [
    "%%time\n",
    "pred_valid = model_lgbm.predict(test_features)"
   ]
  },
  {
   "cell_type": "code",
   "execution_count": 168,
   "metadata": {},
   "outputs": [
    {
     "name": "stdout",
     "output_type": "stream",
     "text": [
      "RMSE на тестовой выборке:  1691.81\n"
     ]
    }
   ],
   "source": [
    "print('RMSE на тестовой выборке: ', RMSE(test_target, pred_valid).round(2))"
   ]
  },
  {
   "cell_type": "markdown",
   "metadata": {},
   "source": [
    "**Тестовая**"
   ]
  },
  {
   "cell_type": "code",
   "execution_count": 169,
   "metadata": {},
   "outputs": [
    {
     "name": "stdout",
     "output_type": "stream",
     "text": [
      "CPU times: user 968 ms, sys: 81.2 ms, total: 1.05 s\n",
      "Wall time: 1.07 s\n"
     ]
    }
   ],
   "source": [
    "%%time\n",
    "pred_t = model_lgbm.predict(t_features)"
   ]
  },
  {
   "cell_type": "code",
   "execution_count": 170,
   "metadata": {},
   "outputs": [
    {
     "name": "stdout",
     "output_type": "stream",
     "text": [
      "RMSE на тестовой выборке:  1706.22\n"
     ]
    }
   ],
   "source": [
    "print('RMSE на тестовой выборке: ', RMSE(t_target, pred_t).round(2))"
   ]
  },
  {
   "cell_type": "markdown",
   "metadata": {},
   "source": [
    "<div class=\"alert alert-block alert-info\"><b>Комментарий студента</b><br>\n",
    "    Модель является устойчивой. Недообучения или переобучения не наблюдается. \n",
    "</div>"
   ]
  },
  {
   "cell_type": "markdown",
   "metadata": {},
   "source": [
    "<div class=\"alert alert-block alert-info\"><b>ВОПРОС</b><br>\n",
    "    А какой минимальный RMSE был достигнут кем-либо в этой работе?\n",
    "</div>\n"
   ]
  },
  {
   "cell_type": "markdown",
   "metadata": {},
   "source": [
    "<div class='alert alert-success'> <strong>Ревьюер(3)</strong> <br>\n",
    "\n",
    "Тут сложно сказать, я не вел подсчет. RMSE сильно зависит от фильтрации датасета (некоторые срезают больше дорогие авто, некоторые меньше, тут rmse и начинает бегать) В принципе у тебя в области оптимальных значений. \n",
    "\n",
    "\n",
    "</div>"
   ]
  },
  {
   "cell_type": "markdown",
   "metadata": {},
   "source": [
    "### Итоговый вывод"
   ]
  },
  {
   "cell_type": "markdown",
   "metadata": {},
   "source": [
    "Данные загружены и обработаны, удалены дубликаты и аномальные значения. ИСключены из датафрейма категориальные данные, не имеющие полезной информации для обучения моделей. Данные разделены на выборки и отмасштабированы."
   ]
  },
  {
   "cell_type": "markdown",
   "metadata": {},
   "source": [
    "Проведено обучение нескольких моделей"
   ]
  },
  {
   "cell_type": "markdown",
   "metadata": {},
   "source": [
    "На основании выполненной работы можно заключить, что **LGBMRegressor** показывает лучшие показатели метрик и скорости обучения и лучше всего справляется с поставленной задачей. Рекомендовано к использованию."
   ]
  },
  {
   "cell_type": "markdown",
   "metadata": {},
   "source": [
    "**XGBoost** отличное качество, но очень долгое обучение модели и невозможность работы с категориальными данными."
   ]
  },
  {
   "cell_type": "markdown",
   "metadata": {},
   "source": [
    "<div class='alert alert-info'>🏁 Отличная работа! Исследовал и предобработал признаки, рассмотрел 4 модели, сделал подбор гиперпараметров, строил красивые визуализации, хорошо структурировал проект. Осталось:\n",
    "    \n",
    "- дать комментарий по пропускам\n",
    "- разобраться с выборками на основе чего скорректировать измерение времени и валидационную ошибку\n",
    "- сделать тестирование лучшей модели\n",
    "- дать обратную связь для выделенных ячеек (где требуется).\n",
    "\n",
    "\n",
    "\n",
    "\n",
    "</div>"
   ]
  },
  {
   "cell_type": "markdown",
   "metadata": {},
   "source": [
    "<div class='alert alert-info'>🏁(2) Часть изменений исправлена, осталось:\n",
    "    \n",
    "- изменить обработку пропусков\n",
    "- сделать тестирование только лучшей модели\n",
    "\n",
    "\n",
    "\n",
    "\n",
    "</div>"
   ]
  },
  {
   "cell_type": "markdown",
   "metadata": {},
   "source": [
    "<div class='alert alert-info'>🏁(3)Молодец, давай попробуем улучшить заполнение пропусков (см. комментарий, где заполнение Fuel_type)\n",
    "\n",
    "\n",
    "\n",
    "</div>"
   ]
  },
  {
   "cell_type": "markdown",
   "metadata": {},
   "source": [
    "<div class='alert alert-info'>🏁(4)Молодец, рекомендую еще посмотреть как с категориальном модой работать для оптимизации заполнения пропусков (коммент есть в Fuel_type блоке). На этом все, желаю легкой учебы и новых побед!\n",
    "\n",
    "\n",
    "\n",
    "</div>"
   ]
  },
  {
   "cell_type": "markdown",
   "metadata": {},
   "source": [
    "## Чек-лист проверки"
   ]
  },
  {
   "cell_type": "markdown",
   "metadata": {},
   "source": [
    "Поставьте 'x' в выполненных пунктах. Далее нажмите Shift+Enter."
   ]
  },
  {
   "cell_type": "markdown",
   "metadata": {},
   "source": [
    "- [x]  Jupyter Notebook открыт\n",
    "- [x]  Весь код выполняется без ошибок\n",
    "- [x]  Ячейки с кодом расположены в порядке исполнения\n",
    "- [x]  Выполнена загрузка и подготовка данных\n",
    "- [x]  Выполнено обучение моделей\n",
    "- [x]  Есть анализ скорости работы и качества моделей"
   ]
  }
 ],
 "metadata": {
  "ExecuteTimeLog": [
   {
    "duration": 1544,
    "start_time": "2023-04-11T09:06:21.914Z"
   },
   {
    "duration": 1167,
    "start_time": "2023-04-11T09:06:43.079Z"
   },
   {
    "duration": 18,
    "start_time": "2023-04-11T09:06:53.925Z"
   },
   {
    "duration": 152,
    "start_time": "2023-04-11T09:07:11.201Z"
   },
   {
    "duration": 4,
    "start_time": "2023-04-11T09:12:46.661Z"
   },
   {
    "duration": 111,
    "start_time": "2023-04-11T09:21:11.861Z"
   },
   {
    "duration": 8,
    "start_time": "2023-04-11T09:21:17.152Z"
   },
   {
    "duration": 4,
    "start_time": "2023-04-11T09:21:20.680Z"
   },
   {
    "duration": 14,
    "start_time": "2023-04-11T09:21:57.825Z"
   },
   {
    "duration": 10,
    "start_time": "2023-04-11T09:25:10.853Z"
   },
   {
    "duration": 4,
    "start_time": "2023-04-11T09:26:43.754Z"
   },
   {
    "duration": 10,
    "start_time": "2023-04-11T09:26:47.361Z"
   },
   {
    "duration": 3,
    "start_time": "2023-04-11T09:26:55.663Z"
   },
   {
    "duration": 9,
    "start_time": "2023-04-11T09:27:06.985Z"
   },
   {
    "duration": 130,
    "start_time": "2023-04-11T09:27:14.956Z"
   },
   {
    "duration": 887,
    "start_time": "2023-04-11T09:33:52.364Z"
   },
   {
    "duration": 15,
    "start_time": "2023-04-11T09:33:53.253Z"
   },
   {
    "duration": 128,
    "start_time": "2023-04-11T09:33:56.271Z"
   },
   {
    "duration": 3,
    "start_time": "2023-04-11T09:34:00.146Z"
   },
   {
    "duration": 124,
    "start_time": "2023-04-11T09:34:00.723Z"
   },
   {
    "duration": 8,
    "start_time": "2023-04-11T09:34:55.275Z"
   },
   {
    "duration": 10,
    "start_time": "2023-04-11T09:35:02.315Z"
   },
   {
    "duration": 129,
    "start_time": "2023-04-11T09:35:09.315Z"
   },
   {
    "duration": 127,
    "start_time": "2023-04-11T09:35:13.250Z"
   },
   {
    "duration": 128,
    "start_time": "2023-04-11T09:35:16.577Z"
   },
   {
    "duration": 6,
    "start_time": "2023-04-11T11:00:50.607Z"
   },
   {
    "duration": 6,
    "start_time": "2023-04-11T11:01:00.108Z"
   },
   {
    "duration": 5,
    "start_time": "2023-04-11T11:01:24.833Z"
   },
   {
    "duration": 11,
    "start_time": "2023-04-11T11:01:31.310Z"
   },
   {
    "duration": 10,
    "start_time": "2023-04-11T11:01:34.296Z"
   },
   {
    "duration": 6,
    "start_time": "2023-04-11T11:01:37.581Z"
   },
   {
    "duration": 5,
    "start_time": "2023-04-11T11:01:48.231Z"
   },
   {
    "duration": 3,
    "start_time": "2023-04-11T11:01:53.172Z"
   },
   {
    "duration": 5,
    "start_time": "2023-04-11T11:01:56.801Z"
   },
   {
    "duration": 3,
    "start_time": "2023-04-11T11:01:57.302Z"
   },
   {
    "duration": 4,
    "start_time": "2023-04-11T11:01:59.045Z"
   },
   {
    "duration": 8,
    "start_time": "2023-04-11T11:02:03.208Z"
   },
   {
    "duration": 5,
    "start_time": "2023-04-11T11:02:11.513Z"
   },
   {
    "duration": 4,
    "start_time": "2023-04-11T11:02:14.595Z"
   },
   {
    "duration": 3,
    "start_time": "2023-04-11T11:02:21.748Z"
   },
   {
    "duration": 4,
    "start_time": "2023-04-11T11:02:30.602Z"
   },
   {
    "duration": 5,
    "start_time": "2023-04-11T11:02:34.412Z"
   },
   {
    "duration": 4,
    "start_time": "2023-04-11T11:02:38.702Z"
   },
   {
    "duration": 2,
    "start_time": "2023-04-11T11:02:46.170Z"
   },
   {
    "duration": 3,
    "start_time": "2023-04-11T11:02:51.151Z"
   },
   {
    "duration": 3,
    "start_time": "2023-04-11T11:02:53.239Z"
   },
   {
    "duration": 2,
    "start_time": "2023-04-11T11:03:00.343Z"
   },
   {
    "duration": 5,
    "start_time": "2023-04-11T11:03:01.019Z"
   },
   {
    "duration": 6,
    "start_time": "2023-04-11T11:03:48.478Z"
   },
   {
    "duration": 72,
    "start_time": "2023-04-11T11:04:53.063Z"
   },
   {
    "duration": 103,
    "start_time": "2023-04-11T11:04:56.824Z"
   },
   {
    "duration": 485,
    "start_time": "2023-04-11T11:05:11.175Z"
   },
   {
    "duration": 9,
    "start_time": "2023-04-11T11:05:18.020Z"
   },
   {
    "duration": 461,
    "start_time": "2023-04-11T11:05:21.479Z"
   },
   {
    "duration": 1208,
    "start_time": "2023-04-11T11:06:23.813Z"
   },
   {
    "duration": 503,
    "start_time": "2023-04-11T11:06:33.840Z"
   },
   {
    "duration": 505,
    "start_time": "2023-04-11T11:07:17.272Z"
   },
   {
    "duration": 514,
    "start_time": "2023-04-11T11:07:23.578Z"
   },
   {
    "duration": 517,
    "start_time": "2023-04-11T11:07:29.516Z"
   },
   {
    "duration": 78,
    "start_time": "2023-04-11T11:07:51.941Z"
   },
   {
    "duration": 10,
    "start_time": "2023-04-11T11:07:59.481Z"
   },
   {
    "duration": 73,
    "start_time": "2023-04-11T11:08:15.798Z"
   },
   {
    "duration": 76,
    "start_time": "2023-04-11T11:08:32.008Z"
   },
   {
    "duration": 83,
    "start_time": "2023-04-11T11:08:38.196Z"
   },
   {
    "duration": 9,
    "start_time": "2023-04-11T11:09:11.200Z"
   },
   {
    "duration": 10,
    "start_time": "2023-04-11T11:09:19.578Z"
   },
   {
    "duration": 8,
    "start_time": "2023-04-11T11:09:48.908Z"
   },
   {
    "duration": 13,
    "start_time": "2023-04-11T11:09:59.275Z"
   },
   {
    "duration": 10,
    "start_time": "2023-04-11T11:10:36.671Z"
   },
   {
    "duration": 10,
    "start_time": "2023-04-11T11:11:11.745Z"
   },
   {
    "duration": 10,
    "start_time": "2023-04-11T11:11:46.395Z"
   },
   {
    "duration": 10,
    "start_time": "2023-04-11T11:11:50.561Z"
   },
   {
    "duration": 9,
    "start_time": "2023-04-11T11:11:57.536Z"
   },
   {
    "duration": 9,
    "start_time": "2023-04-11T11:12:12.952Z"
   },
   {
    "duration": 4,
    "start_time": "2023-04-11T11:12:16.321Z"
   },
   {
    "duration": 4,
    "start_time": "2023-04-11T11:12:25.653Z"
   },
   {
    "duration": 847,
    "start_time": "2023-04-11T11:12:26.712Z"
   },
   {
    "duration": 13,
    "start_time": "2023-04-11T11:12:27.561Z"
   },
   {
    "duration": 139,
    "start_time": "2023-04-11T11:12:29.496Z"
   },
   {
    "duration": 3,
    "start_time": "2023-04-11T11:12:31.210Z"
   },
   {
    "duration": 137,
    "start_time": "2023-04-11T11:12:31.874Z"
   },
   {
    "duration": 514,
    "start_time": "2023-04-11T11:12:34.462Z"
   },
   {
    "duration": 23,
    "start_time": "2023-04-11T11:12:38.492Z"
   },
   {
    "duration": 491,
    "start_time": "2023-04-11T11:12:54.118Z"
   },
   {
    "duration": 508,
    "start_time": "2023-04-11T11:13:00.215Z"
   },
   {
    "duration": 558,
    "start_time": "2023-04-11T11:13:08.624Z"
   },
   {
    "duration": 540,
    "start_time": "2023-04-11T11:13:22.297Z"
   },
   {
    "duration": 595,
    "start_time": "2023-04-11T11:13:34.054Z"
   },
   {
    "duration": 138,
    "start_time": "2023-04-11T11:13:45.773Z"
   },
   {
    "duration": 7,
    "start_time": "2023-04-11T11:13:50.419Z"
   },
   {
    "duration": 493,
    "start_time": "2023-04-11T11:13:55.105Z"
   },
   {
    "duration": 558,
    "start_time": "2023-04-11T11:14:03.695Z"
   },
   {
    "duration": 135,
    "start_time": "2023-04-11T11:14:06.532Z"
   },
   {
    "duration": 494,
    "start_time": "2023-04-11T11:14:08.149Z"
   },
   {
    "duration": 3,
    "start_time": "2023-04-11T11:14:21.864Z"
   },
   {
    "duration": 834,
    "start_time": "2023-04-11T11:14:21.869Z"
   },
   {
    "duration": 18,
    "start_time": "2023-04-11T11:14:22.705Z"
   },
   {
    "duration": 140,
    "start_time": "2023-04-11T11:14:22.724Z"
   },
   {
    "duration": 3,
    "start_time": "2023-04-11T11:14:22.866Z"
   },
   {
    "duration": 140,
    "start_time": "2023-04-11T11:14:22.871Z"
   },
   {
    "duration": 478,
    "start_time": "2023-04-11T11:14:23.013Z"
   },
   {
    "duration": 468,
    "start_time": "2023-04-11T11:14:41.395Z"
   },
   {
    "duration": 495,
    "start_time": "2023-04-11T11:15:06.475Z"
   },
   {
    "duration": 9,
    "start_time": "2023-04-11T11:15:20.885Z"
   },
   {
    "duration": 4,
    "start_time": "2023-04-11T11:15:24.351Z"
   },
   {
    "duration": 4,
    "start_time": "2023-04-11T11:16:10.164Z"
   },
   {
    "duration": 838,
    "start_time": "2023-04-11T11:16:10.170Z"
   },
   {
    "duration": 14,
    "start_time": "2023-04-11T11:16:11.012Z"
   },
   {
    "duration": 174,
    "start_time": "2023-04-11T11:16:11.028Z"
   },
   {
    "duration": 7,
    "start_time": "2023-04-11T11:16:11.204Z"
   },
   {
    "duration": 144,
    "start_time": "2023-04-11T11:16:11.213Z"
   },
   {
    "duration": 439,
    "start_time": "2023-04-11T11:16:11.359Z"
   },
   {
    "duration": 454,
    "start_time": "2023-04-11T11:16:11.800Z"
   },
   {
    "duration": 4,
    "start_time": "2023-04-11T11:16:12.257Z"
   },
   {
    "duration": 446,
    "start_time": "2023-04-11T11:16:20.611Z"
   },
   {
    "duration": 4,
    "start_time": "2023-04-11T11:16:25.181Z"
   },
   {
    "duration": 439,
    "start_time": "2023-04-11T11:16:32.526Z"
   },
   {
    "duration": 42,
    "start_time": "2023-04-12T04:53:07.548Z"
   },
   {
    "duration": 1331,
    "start_time": "2023-04-12T04:53:19.987Z"
   },
   {
    "duration": 974,
    "start_time": "2023-04-12T04:53:21.320Z"
   },
   {
    "duration": 15,
    "start_time": "2023-04-12T04:53:22.295Z"
   },
   {
    "duration": 117,
    "start_time": "2023-04-12T04:53:22.312Z"
   },
   {
    "duration": 7,
    "start_time": "2023-04-12T04:53:22.431Z"
   },
   {
    "duration": 119,
    "start_time": "2023-04-12T04:53:22.440Z"
   },
   {
    "duration": 416,
    "start_time": "2023-04-12T04:53:22.560Z"
   },
   {
    "duration": 408,
    "start_time": "2023-04-12T04:53:22.978Z"
   },
   {
    "duration": 3,
    "start_time": "2023-04-12T04:53:23.388Z"
   },
   {
    "duration": 461,
    "start_time": "2023-04-12T04:53:23.393Z"
   },
   {
    "duration": 3,
    "start_time": "2023-04-12T04:53:23.856Z"
   },
   {
    "duration": 415,
    "start_time": "2023-04-12T04:53:23.860Z"
   },
   {
    "duration": 93,
    "start_time": "2023-04-12T04:53:24.277Z"
   },
   {
    "duration": 92,
    "start_time": "2023-04-12T04:53:24.371Z"
   },
   {
    "duration": 5,
    "start_time": "2023-04-12T04:53:24.464Z"
   },
   {
    "duration": 2,
    "start_time": "2023-04-12T04:54:53.120Z"
   },
   {
    "duration": 93,
    "start_time": "2023-04-12T04:57:50.236Z"
   },
   {
    "duration": 11,
    "start_time": "2023-04-12T04:58:06.666Z"
   },
   {
    "duration": 1132,
    "start_time": "2023-04-12T04:58:10.894Z"
   },
   {
    "duration": 76,
    "start_time": "2023-04-12T04:58:34.994Z"
   },
   {
    "duration": 271,
    "start_time": "2023-04-12T04:58:44.268Z"
   },
   {
    "duration": 272,
    "start_time": "2023-04-12T04:58:52.493Z"
   },
   {
    "duration": 30,
    "start_time": "2023-04-12T04:59:19.497Z"
   },
   {
    "duration": 12,
    "start_time": "2023-04-12T05:02:30.602Z"
   },
   {
    "duration": 3,
    "start_time": "2023-04-12T05:03:13.352Z"
   },
   {
    "duration": 681,
    "start_time": "2023-04-12T05:03:13.357Z"
   },
   {
    "duration": 12,
    "start_time": "2023-04-12T05:03:14.039Z"
   },
   {
    "duration": 106,
    "start_time": "2023-04-12T05:03:14.052Z"
   },
   {
    "duration": 21,
    "start_time": "2023-04-12T05:03:14.160Z"
   },
   {
    "duration": 100,
    "start_time": "2023-04-12T05:03:14.183Z"
   },
   {
    "duration": 351,
    "start_time": "2023-04-12T05:03:14.284Z"
   },
   {
    "duration": 376,
    "start_time": "2023-04-12T05:03:14.637Z"
   },
   {
    "duration": 4,
    "start_time": "2023-04-12T05:03:15.016Z"
   },
   {
    "duration": 400,
    "start_time": "2023-04-12T05:03:15.021Z"
   },
   {
    "duration": 3,
    "start_time": "2023-04-12T05:03:15.423Z"
   },
   {
    "duration": 377,
    "start_time": "2023-04-12T05:03:15.427Z"
   },
   {
    "duration": 96,
    "start_time": "2023-04-12T05:03:15.805Z"
   },
   {
    "duration": 23,
    "start_time": "2023-04-12T05:03:18.489Z"
   },
   {
    "duration": 65,
    "start_time": "2023-04-12T05:03:35.122Z"
   },
   {
    "duration": 79,
    "start_time": "2023-04-12T05:03:49.558Z"
   },
   {
    "duration": 19,
    "start_time": "2023-04-12T05:04:59.007Z"
   },
   {
    "duration": 7,
    "start_time": "2023-04-12T05:06:25.935Z"
   },
   {
    "duration": 8,
    "start_time": "2023-04-12T05:06:46.506Z"
   },
   {
    "duration": 8,
    "start_time": "2023-04-12T05:06:51.093Z"
   },
   {
    "duration": 5,
    "start_time": "2023-04-12T05:07:01.246Z"
   },
   {
    "duration": 7,
    "start_time": "2023-04-12T05:07:11.778Z"
   },
   {
    "duration": 9,
    "start_time": "2023-04-12T05:28:57.562Z"
   },
   {
    "duration": 4,
    "start_time": "2023-04-12T05:29:00.373Z"
   },
   {
    "duration": 36,
    "start_time": "2023-04-12T05:29:28.391Z"
   },
   {
    "duration": 39,
    "start_time": "2023-04-12T05:29:38.977Z"
   },
   {
    "duration": 3,
    "start_time": "2023-04-12T05:29:44.528Z"
   },
   {
    "duration": 9,
    "start_time": "2023-04-12T05:30:19.081Z"
   },
   {
    "duration": 41,
    "start_time": "2023-04-12T05:30:26.104Z"
   },
   {
    "duration": 10,
    "start_time": "2023-04-12T05:30:52.558Z"
   },
   {
    "duration": 10,
    "start_time": "2023-04-12T05:31:01.319Z"
   },
   {
    "duration": 35,
    "start_time": "2023-04-12T05:31:22.265Z"
   },
   {
    "duration": 53,
    "start_time": "2023-04-12T05:31:32.070Z"
   },
   {
    "duration": 90,
    "start_time": "2023-04-12T05:31:35.006Z"
   },
   {
    "duration": 27,
    "start_time": "2023-04-12T05:33:00.082Z"
   },
   {
    "duration": 32,
    "start_time": "2023-04-12T05:33:05.262Z"
   },
   {
    "duration": 82,
    "start_time": "2023-04-12T05:33:20.463Z"
   },
   {
    "duration": 25,
    "start_time": "2023-04-12T05:33:23.662Z"
   },
   {
    "duration": 6,
    "start_time": "2023-04-12T05:33:32.349Z"
   },
   {
    "duration": 3,
    "start_time": "2023-04-12T05:33:39.960Z"
   },
   {
    "duration": 683,
    "start_time": "2023-04-12T05:33:39.966Z"
   },
   {
    "duration": 11,
    "start_time": "2023-04-12T05:33:40.651Z"
   },
   {
    "duration": 106,
    "start_time": "2023-04-12T05:33:40.663Z"
   },
   {
    "duration": 3,
    "start_time": "2023-04-12T05:33:40.771Z"
   },
   {
    "duration": 111,
    "start_time": "2023-04-12T05:33:40.775Z"
   },
   {
    "duration": 353,
    "start_time": "2023-04-12T05:33:40.888Z"
   },
   {
    "duration": 367,
    "start_time": "2023-04-12T05:33:41.243Z"
   },
   {
    "duration": 4,
    "start_time": "2023-04-12T05:33:41.612Z"
   },
   {
    "duration": 401,
    "start_time": "2023-04-12T05:33:41.617Z"
   },
   {
    "duration": 4,
    "start_time": "2023-04-12T05:33:42.020Z"
   },
   {
    "duration": 390,
    "start_time": "2023-04-12T05:33:42.025Z"
   },
   {
    "duration": 138,
    "start_time": "2023-04-12T05:33:42.417Z"
   },
   {
    "duration": 26,
    "start_time": "2023-04-12T05:33:42.557Z"
   },
   {
    "duration": 93,
    "start_time": "2023-04-12T05:33:42.585Z"
   },
   {
    "duration": 83,
    "start_time": "2023-04-12T05:33:42.680Z"
   },
   {
    "duration": 16,
    "start_time": "2023-04-12T05:33:42.765Z"
   },
   {
    "duration": 5,
    "start_time": "2023-04-12T05:33:42.783Z"
   },
   {
    "duration": 6,
    "start_time": "2023-04-12T05:33:42.790Z"
   },
   {
    "duration": 3,
    "start_time": "2023-04-12T05:33:42.798Z"
   },
   {
    "duration": 7,
    "start_time": "2023-04-12T05:33:42.802Z"
   },
   {
    "duration": 3,
    "start_time": "2023-04-12T05:34:30.079Z"
   },
   {
    "duration": 3,
    "start_time": "2023-04-12T05:34:36.004Z"
   },
   {
    "duration": 6,
    "start_time": "2023-04-12T05:35:34.179Z"
   },
   {
    "duration": 4,
    "start_time": "2023-04-12T05:35:40.979Z"
   },
   {
    "duration": 3,
    "start_time": "2023-04-12T05:37:09.570Z"
   },
   {
    "duration": 4,
    "start_time": "2023-04-12T05:37:44.757Z"
   },
   {
    "duration": 3,
    "start_time": "2023-04-12T05:37:53.732Z"
   },
   {
    "duration": 72,
    "start_time": "2023-04-12T05:41:21.240Z"
   },
   {
    "duration": 69,
    "start_time": "2023-04-12T05:41:59.733Z"
   },
   {
    "duration": 2405,
    "start_time": "2023-04-12T05:42:10.091Z"
   },
   {
    "duration": 4,
    "start_time": "2023-04-12T05:43:07.323Z"
   },
   {
    "duration": 640,
    "start_time": "2023-04-12T05:43:07.329Z"
   },
   {
    "duration": 12,
    "start_time": "2023-04-12T05:43:07.971Z"
   },
   {
    "duration": 112,
    "start_time": "2023-04-12T05:43:07.985Z"
   },
   {
    "duration": 3,
    "start_time": "2023-04-12T05:43:08.100Z"
   },
   {
    "duration": 118,
    "start_time": "2023-04-12T05:43:08.104Z"
   },
   {
    "duration": 337,
    "start_time": "2023-04-12T05:43:08.224Z"
   },
   {
    "duration": 350,
    "start_time": "2023-04-12T05:43:08.563Z"
   },
   {
    "duration": 4,
    "start_time": "2023-04-12T05:43:08.915Z"
   },
   {
    "duration": 381,
    "start_time": "2023-04-12T05:43:08.920Z"
   },
   {
    "duration": 4,
    "start_time": "2023-04-12T05:43:09.303Z"
   },
   {
    "duration": 364,
    "start_time": "2023-04-12T05:43:09.308Z"
   },
   {
    "duration": 116,
    "start_time": "2023-04-12T05:43:09.673Z"
   },
   {
    "duration": 24,
    "start_time": "2023-04-12T05:43:09.791Z"
   },
   {
    "duration": 78,
    "start_time": "2023-04-12T05:43:09.817Z"
   },
   {
    "duration": 102,
    "start_time": "2023-04-12T05:43:09.897Z"
   },
   {
    "duration": 19,
    "start_time": "2023-04-12T05:43:10.001Z"
   },
   {
    "duration": 16,
    "start_time": "2023-04-12T05:43:10.022Z"
   },
   {
    "duration": 8,
    "start_time": "2023-04-12T05:43:10.040Z"
   },
   {
    "duration": 5,
    "start_time": "2023-04-12T05:43:10.049Z"
   },
   {
    "duration": 12,
    "start_time": "2023-04-12T05:43:10.056Z"
   },
   {
    "duration": 10,
    "start_time": "2023-04-12T05:43:10.070Z"
   },
   {
    "duration": 57,
    "start_time": "2023-04-12T05:43:10.082Z"
   },
   {
    "duration": 37,
    "start_time": "2023-04-12T05:43:10.141Z"
   },
   {
    "duration": 5,
    "start_time": "2023-04-12T05:43:10.179Z"
   },
   {
    "duration": 71,
    "start_time": "2023-04-12T05:43:13.270Z"
   },
   {
    "duration": 2564,
    "start_time": "2023-04-12T05:44:32.359Z"
   },
   {
    "duration": 10,
    "start_time": "2023-04-12T05:45:04.577Z"
   },
   {
    "duration": 12,
    "start_time": "2023-04-12T05:45:20.161Z"
   },
   {
    "duration": 9,
    "start_time": "2023-04-12T05:47:53.224Z"
   },
   {
    "duration": 202,
    "start_time": "2023-04-12T05:48:12.367Z"
   },
   {
    "duration": 480,
    "start_time": "2023-04-12T05:55:50.066Z"
   },
   {
    "duration": 93,
    "start_time": "2023-04-12T05:56:09.196Z"
   },
   {
    "duration": 121,
    "start_time": "2023-04-12T05:56:12.379Z"
   },
   {
    "duration": 106,
    "start_time": "2023-04-12T05:56:16.094Z"
   },
   {
    "duration": 219,
    "start_time": "2023-04-12T05:59:34.992Z"
   },
   {
    "duration": 229,
    "start_time": "2023-04-12T05:59:40.925Z"
   },
   {
    "duration": 216,
    "start_time": "2023-04-12T06:00:45.364Z"
   },
   {
    "duration": 225,
    "start_time": "2023-04-12T06:00:58.744Z"
   },
   {
    "duration": 223,
    "start_time": "2023-04-12T06:01:07.277Z"
   },
   {
    "duration": 185,
    "start_time": "2023-04-12T06:01:18.093Z"
   },
   {
    "duration": 95,
    "start_time": "2023-04-12T06:01:32.283Z"
   },
   {
    "duration": 111,
    "start_time": "2023-04-12T06:02:30.911Z"
   },
   {
    "duration": 93,
    "start_time": "2023-04-12T06:02:48.256Z"
   },
   {
    "duration": 92,
    "start_time": "2023-04-12T06:02:53.560Z"
   },
   {
    "duration": 93,
    "start_time": "2023-04-12T06:03:03.302Z"
   },
   {
    "duration": 311,
    "start_time": "2023-04-12T06:03:22.490Z"
   },
   {
    "duration": 3,
    "start_time": "2023-04-12T06:05:17.357Z"
   },
   {
    "duration": 644,
    "start_time": "2023-04-12T06:05:17.362Z"
   },
   {
    "duration": 13,
    "start_time": "2023-04-12T06:05:18.008Z"
   },
   {
    "duration": 106,
    "start_time": "2023-04-12T06:05:18.022Z"
   },
   {
    "duration": 3,
    "start_time": "2023-04-12T06:05:18.136Z"
   },
   {
    "duration": 99,
    "start_time": "2023-04-12T06:05:18.140Z"
   },
   {
    "duration": 333,
    "start_time": "2023-04-12T06:05:18.240Z"
   },
   {
    "duration": 350,
    "start_time": "2023-04-12T06:05:18.575Z"
   },
   {
    "duration": 11,
    "start_time": "2023-04-12T06:05:18.927Z"
   },
   {
    "duration": 375,
    "start_time": "2023-04-12T06:05:18.940Z"
   },
   {
    "duration": 3,
    "start_time": "2023-04-12T06:05:19.317Z"
   },
   {
    "duration": 370,
    "start_time": "2023-04-12T06:05:19.321Z"
   },
   {
    "duration": 96,
    "start_time": "2023-04-12T06:05:19.692Z"
   },
   {
    "duration": 35,
    "start_time": "2023-04-12T06:05:19.789Z"
   },
   {
    "duration": 68,
    "start_time": "2023-04-12T06:05:19.826Z"
   },
   {
    "duration": 76,
    "start_time": "2023-04-12T06:05:19.895Z"
   },
   {
    "duration": 17,
    "start_time": "2023-04-12T06:05:19.972Z"
   },
   {
    "duration": 12,
    "start_time": "2023-04-12T06:05:19.990Z"
   },
   {
    "duration": 52,
    "start_time": "2023-04-12T06:05:20.004Z"
   },
   {
    "duration": 4,
    "start_time": "2023-04-12T06:05:20.058Z"
   },
   {
    "duration": 13,
    "start_time": "2023-04-12T06:05:20.064Z"
   },
   {
    "duration": 30,
    "start_time": "2023-04-12T06:05:20.079Z"
   },
   {
    "duration": 38,
    "start_time": "2023-04-12T06:05:20.111Z"
   },
   {
    "duration": 35,
    "start_time": "2023-04-12T06:05:20.151Z"
   },
   {
    "duration": 4,
    "start_time": "2023-04-12T06:05:20.188Z"
   },
   {
    "duration": 111,
    "start_time": "2023-04-12T06:05:20.194Z"
   },
   {
    "duration": 118,
    "start_time": "2023-04-12T06:06:22.931Z"
   },
   {
    "duration": 103,
    "start_time": "2023-04-12T06:06:32.015Z"
   },
   {
    "duration": 94,
    "start_time": "2023-04-12T06:06:57.101Z"
   },
   {
    "duration": 8,
    "start_time": "2023-04-12T06:07:08.605Z"
   },
   {
    "duration": 105,
    "start_time": "2023-04-12T06:07:35.386Z"
   },
   {
    "duration": 105,
    "start_time": "2023-04-12T06:07:51.293Z"
   },
   {
    "duration": 8,
    "start_time": "2023-04-12T06:08:26.587Z"
   },
   {
    "duration": 7,
    "start_time": "2023-04-12T06:09:00.232Z"
   },
   {
    "duration": 9,
    "start_time": "2023-04-12T06:09:09.111Z"
   },
   {
    "duration": 8,
    "start_time": "2023-04-12T06:09:20.966Z"
   },
   {
    "duration": 17,
    "start_time": "2023-04-12T06:11:10.069Z"
   },
   {
    "duration": 104,
    "start_time": "2023-04-12T06:11:20.658Z"
   },
   {
    "duration": 108,
    "start_time": "2023-04-12T06:11:28.205Z"
   },
   {
    "duration": 136,
    "start_time": "2023-04-12T06:11:39.605Z"
   },
   {
    "duration": 162,
    "start_time": "2023-04-12T06:11:46.707Z"
   },
   {
    "duration": 3,
    "start_time": "2023-04-12T06:16:42.732Z"
   },
   {
    "duration": 81,
    "start_time": "2023-04-12T06:17:15.773Z"
   },
   {
    "duration": 12,
    "start_time": "2023-04-12T06:17:20.626Z"
   },
   {
    "duration": 68,
    "start_time": "2023-04-12T06:17:36.508Z"
   },
   {
    "duration": 3,
    "start_time": "2023-04-12T06:17:40.179Z"
   },
   {
    "duration": 110,
    "start_time": "2023-04-12T06:17:41.802Z"
   },
   {
    "duration": 4,
    "start_time": "2023-04-12T06:19:04.482Z"
   },
   {
    "duration": 101,
    "start_time": "2023-04-12T06:19:05.582Z"
   },
   {
    "duration": 4,
    "start_time": "2023-04-12T06:19:34.829Z"
   },
   {
    "duration": 101,
    "start_time": "2023-04-12T06:19:36.707Z"
   },
   {
    "duration": 3,
    "start_time": "2023-04-12T06:31:02.566Z"
   },
   {
    "duration": 105,
    "start_time": "2023-04-12T06:31:03.697Z"
   },
   {
    "duration": 4,
    "start_time": "2023-04-12T06:31:17.271Z"
   },
   {
    "duration": 106,
    "start_time": "2023-04-12T06:31:19.715Z"
   },
   {
    "duration": 3,
    "start_time": "2023-04-12T06:31:34.805Z"
   },
   {
    "duration": 154,
    "start_time": "2023-04-12T06:31:35.938Z"
   },
   {
    "duration": 4,
    "start_time": "2023-04-12T06:31:39.749Z"
   },
   {
    "duration": 109,
    "start_time": "2023-04-12T06:31:40.523Z"
   },
   {
    "duration": 150,
    "start_time": "2023-04-12T06:32:26.307Z"
   },
   {
    "duration": 4,
    "start_time": "2023-04-12T06:33:01.867Z"
   },
   {
    "duration": 134,
    "start_time": "2023-04-12T06:33:02.630Z"
   },
   {
    "duration": 144,
    "start_time": "2023-04-12T06:33:03.477Z"
   },
   {
    "duration": 4,
    "start_time": "2023-04-12T06:33:27.287Z"
   },
   {
    "duration": 97,
    "start_time": "2023-04-12T06:33:27.933Z"
   },
   {
    "duration": 114,
    "start_time": "2023-04-12T06:33:28.266Z"
   },
   {
    "duration": 9,
    "start_time": "2023-04-12T06:35:10.090Z"
   },
   {
    "duration": 17,
    "start_time": "2023-04-12T06:35:32.405Z"
   },
   {
    "duration": 20,
    "start_time": "2023-04-12T06:35:41.253Z"
   },
   {
    "duration": 3,
    "start_time": "2023-04-12T06:36:37.943Z"
   },
   {
    "duration": 3,
    "start_time": "2023-04-12T06:38:45.639Z"
   },
   {
    "duration": 18,
    "start_time": "2023-04-12T06:39:07.137Z"
   },
   {
    "duration": 4,
    "start_time": "2023-04-12T06:39:13.563Z"
   },
   {
    "duration": 19,
    "start_time": "2023-04-12T06:39:28.769Z"
   },
   {
    "duration": 3,
    "start_time": "2023-04-12T06:40:10.842Z"
   },
   {
    "duration": 3,
    "start_time": "2023-04-12T06:43:08.535Z"
   },
   {
    "duration": 18,
    "start_time": "2023-04-12T06:43:26.605Z"
   },
   {
    "duration": 3,
    "start_time": "2023-04-12T06:43:37.123Z"
   },
   {
    "duration": 34,
    "start_time": "2023-04-12T06:43:38.542Z"
   },
   {
    "duration": 39,
    "start_time": "2023-04-12T06:43:47.853Z"
   },
   {
    "duration": 4,
    "start_time": "2023-04-12T06:43:59.866Z"
   },
   {
    "duration": 19,
    "start_time": "2023-04-12T06:44:16.417Z"
   },
   {
    "duration": 3,
    "start_time": "2023-04-12T06:44:25.007Z"
   },
   {
    "duration": 42,
    "start_time": "2023-04-12T06:45:20.258Z"
   },
   {
    "duration": 4,
    "start_time": "2023-04-12T06:45:26.457Z"
   },
   {
    "duration": 3,
    "start_time": "2023-04-12T06:48:54.248Z"
   },
   {
    "duration": 3,
    "start_time": "2023-04-12T06:48:54.670Z"
   },
   {
    "duration": 69,
    "start_time": "2023-04-12T06:49:15.397Z"
   },
   {
    "duration": 119,
    "start_time": "2023-04-12T07:56:02.689Z"
   },
   {
    "duration": 6,
    "start_time": "2023-04-12T07:56:18.249Z"
   },
   {
    "duration": 11,
    "start_time": "2023-04-12T07:57:01.075Z"
   },
   {
    "duration": 77,
    "start_time": "2023-04-12T07:58:33.169Z"
   },
   {
    "duration": 9,
    "start_time": "2023-04-12T07:58:37.786Z"
   },
   {
    "duration": 8,
    "start_time": "2023-04-12T07:58:42.405Z"
   },
   {
    "duration": 10,
    "start_time": "2023-04-12T07:58:56.710Z"
   },
   {
    "duration": 11,
    "start_time": "2023-04-12T07:59:24.377Z"
   },
   {
    "duration": 12,
    "start_time": "2023-04-12T07:59:27.205Z"
   },
   {
    "duration": 8,
    "start_time": "2023-04-12T07:59:42.735Z"
   },
   {
    "duration": 8,
    "start_time": "2023-04-12T07:59:57.109Z"
   },
   {
    "duration": 5,
    "start_time": "2023-04-12T08:00:30.971Z"
   },
   {
    "duration": 5,
    "start_time": "2023-04-12T08:00:35.594Z"
   },
   {
    "duration": 114,
    "start_time": "2023-04-12T08:00:44.479Z"
   },
   {
    "duration": 204,
    "start_time": "2023-04-12T08:02:27.311Z"
   },
   {
    "duration": 183,
    "start_time": "2023-04-12T08:02:37.906Z"
   },
   {
    "duration": 12,
    "start_time": "2023-04-12T08:02:47.561Z"
   },
   {
    "duration": 7,
    "start_time": "2023-04-12T08:03:25.544Z"
   },
   {
    "duration": 8,
    "start_time": "2023-04-12T08:03:27.167Z"
   },
   {
    "duration": 7,
    "start_time": "2023-04-12T08:03:59.365Z"
   },
   {
    "duration": 9,
    "start_time": "2023-04-12T08:04:01.834Z"
   },
   {
    "duration": 176,
    "start_time": "2023-04-12T08:04:13.056Z"
   },
   {
    "duration": 245,
    "start_time": "2023-04-12T08:04:54.312Z"
   },
   {
    "duration": 10,
    "start_time": "2023-04-12T08:05:58.935Z"
   },
   {
    "duration": 120,
    "start_time": "2023-04-12T08:06:07.527Z"
   },
   {
    "duration": 8,
    "start_time": "2023-04-12T08:06:23.924Z"
   },
   {
    "duration": 155,
    "start_time": "2023-04-12T08:06:33.784Z"
   },
   {
    "duration": 12,
    "start_time": "2023-04-12T08:08:12.230Z"
   },
   {
    "duration": 11,
    "start_time": "2023-04-12T08:08:34.811Z"
   },
   {
    "duration": 5,
    "start_time": "2023-04-12T08:08:37.106Z"
   },
   {
    "duration": 8,
    "start_time": "2023-04-12T08:08:37.483Z"
   },
   {
    "duration": 12,
    "start_time": "2023-04-12T08:08:38.312Z"
   },
   {
    "duration": 6,
    "start_time": "2023-04-12T08:09:18.348Z"
   },
   {
    "duration": 10,
    "start_time": "2023-04-12T08:09:18.766Z"
   },
   {
    "duration": 13,
    "start_time": "2023-04-12T08:09:23.027Z"
   },
   {
    "duration": 1138,
    "start_time": "2023-04-12T08:09:44.966Z"
   },
   {
    "duration": 1163,
    "start_time": "2023-04-12T08:09:49.375Z"
   },
   {
    "duration": 120,
    "start_time": "2023-04-12T08:10:52.860Z"
   },
   {
    "duration": 3,
    "start_time": "2023-04-12T08:12:05.691Z"
   },
   {
    "duration": 4,
    "start_time": "2023-04-12T08:12:06.110Z"
   },
   {
    "duration": 96,
    "start_time": "2023-04-12T08:12:06.910Z"
   },
   {
    "duration": 88,
    "start_time": "2023-04-12T08:12:37.386Z"
   },
   {
    "duration": 1488,
    "start_time": "2023-04-12T08:33:11.711Z"
   },
   {
    "duration": 91,
    "start_time": "2023-04-12T08:33:13.200Z"
   },
   {
    "duration": 1216,
    "start_time": "2023-04-12T08:33:20.204Z"
   },
   {
    "duration": 87,
    "start_time": "2023-04-12T08:33:21.677Z"
   },
   {
    "duration": 1185,
    "start_time": "2023-04-12T08:33:35.655Z"
   },
   {
    "duration": 1306,
    "start_time": "2023-04-12T08:33:55.659Z"
   },
   {
    "duration": 1244,
    "start_time": "2023-04-12T08:34:10.543Z"
   },
   {
    "duration": 1234,
    "start_time": "2023-04-12T08:35:20.453Z"
   },
   {
    "duration": 1509,
    "start_time": "2023-04-12T08:35:28.076Z"
   },
   {
    "duration": 1211,
    "start_time": "2023-04-12T08:36:55.912Z"
   },
   {
    "duration": 1254,
    "start_time": "2023-04-12T08:37:05.104Z"
   },
   {
    "duration": 4,
    "start_time": "2023-04-12T08:38:48.847Z"
   },
   {
    "duration": 16,
    "start_time": "2023-04-12T08:39:16.243Z"
   },
   {
    "duration": 73,
    "start_time": "2023-04-12T08:40:51.463Z"
   },
   {
    "duration": 10,
    "start_time": "2023-04-12T08:40:54.879Z"
   },
   {
    "duration": 74,
    "start_time": "2023-04-12T08:41:01.607Z"
   },
   {
    "duration": 3,
    "start_time": "2023-04-12T08:41:27.461Z"
   },
   {
    "duration": 8,
    "start_time": "2023-04-12T08:41:40.931Z"
   },
   {
    "duration": 4,
    "start_time": "2023-04-12T08:42:24.598Z"
   },
   {
    "duration": 4,
    "start_time": "2023-04-12T08:42:30.073Z"
   },
   {
    "duration": 3,
    "start_time": "2023-04-12T08:43:51.185Z"
   },
   {
    "duration": 10,
    "start_time": "2023-04-12T08:44:27.354Z"
   },
   {
    "duration": 12,
    "start_time": "2023-04-12T08:44:35.837Z"
   },
   {
    "duration": 3,
    "start_time": "2023-04-12T08:44:50.833Z"
   },
   {
    "duration": 554,
    "start_time": "2023-04-12T08:44:51.816Z"
   },
   {
    "duration": 4,
    "start_time": "2023-04-12T08:46:11.382Z"
   },
   {
    "duration": 449,
    "start_time": "2023-04-12T08:46:11.827Z"
   },
   {
    "duration": 4,
    "start_time": "2023-04-12T08:47:19.956Z"
   },
   {
    "duration": 666,
    "start_time": "2023-04-12T08:47:19.963Z"
   },
   {
    "duration": 14,
    "start_time": "2023-04-12T08:47:20.631Z"
   },
   {
    "duration": 116,
    "start_time": "2023-04-12T08:47:20.646Z"
   },
   {
    "duration": 3,
    "start_time": "2023-04-12T08:47:20.764Z"
   },
   {
    "duration": 106,
    "start_time": "2023-04-12T08:47:20.768Z"
   },
   {
    "duration": 375,
    "start_time": "2023-04-12T08:47:20.876Z"
   },
   {
    "duration": 365,
    "start_time": "2023-04-12T08:47:21.253Z"
   },
   {
    "duration": 4,
    "start_time": "2023-04-12T08:47:21.619Z"
   },
   {
    "duration": 400,
    "start_time": "2023-04-12T08:47:21.624Z"
   },
   {
    "duration": 4,
    "start_time": "2023-04-12T08:47:22.026Z"
   },
   {
    "duration": 396,
    "start_time": "2023-04-12T08:47:22.036Z"
   },
   {
    "duration": 124,
    "start_time": "2023-04-12T08:47:22.434Z"
   },
   {
    "duration": 26,
    "start_time": "2023-04-12T08:47:22.559Z"
   },
   {
    "duration": 93,
    "start_time": "2023-04-12T08:47:22.587Z"
   },
   {
    "duration": 72,
    "start_time": "2023-04-12T08:47:22.682Z"
   },
   {
    "duration": 21,
    "start_time": "2023-04-12T08:47:22.756Z"
   },
   {
    "duration": 7,
    "start_time": "2023-04-12T08:47:22.779Z"
   },
   {
    "duration": 16,
    "start_time": "2023-04-12T08:47:22.787Z"
   },
   {
    "duration": 3,
    "start_time": "2023-04-12T08:47:22.805Z"
   },
   {
    "duration": 14,
    "start_time": "2023-04-12T08:47:22.810Z"
   },
   {
    "duration": 4,
    "start_time": "2023-04-12T08:47:22.835Z"
   },
   {
    "duration": 72,
    "start_time": "2023-04-12T08:47:22.840Z"
   },
   {
    "duration": 35,
    "start_time": "2023-04-12T08:47:22.914Z"
   },
   {
    "duration": 5,
    "start_time": "2023-04-12T08:47:22.951Z"
   },
   {
    "duration": 12,
    "start_time": "2023-04-12T08:47:22.957Z"
   },
   {
    "duration": 10,
    "start_time": "2023-04-12T08:47:22.970Z"
   },
   {
    "duration": 123,
    "start_time": "2023-04-12T08:47:22.981Z"
   },
   {
    "duration": 122,
    "start_time": "2023-04-12T08:47:23.107Z"
   },
   {
    "duration": 20,
    "start_time": "2023-04-12T08:47:23.230Z"
   },
   {
    "duration": 3,
    "start_time": "2023-04-12T08:47:23.252Z"
   },
   {
    "duration": 50,
    "start_time": "2023-04-12T08:47:23.256Z"
   },
   {
    "duration": 33,
    "start_time": "2023-04-12T08:47:23.308Z"
   },
   {
    "duration": 3,
    "start_time": "2023-04-12T08:47:23.343Z"
   },
   {
    "duration": 28,
    "start_time": "2023-04-12T08:47:23.348Z"
   },
   {
    "duration": 3,
    "start_time": "2023-04-12T08:47:23.378Z"
   },
   {
    "duration": 54,
    "start_time": "2023-04-12T08:47:23.382Z"
   },
   {
    "duration": 3,
    "start_time": "2023-04-12T08:47:23.438Z"
   },
   {
    "duration": 29,
    "start_time": "2023-04-12T08:47:23.442Z"
   },
   {
    "duration": 27,
    "start_time": "2023-04-12T08:47:23.472Z"
   },
   {
    "duration": 15,
    "start_time": "2023-04-12T08:47:23.501Z"
   },
   {
    "duration": 113,
    "start_time": "2023-04-12T08:47:23.517Z"
   },
   {
    "duration": 6,
    "start_time": "2023-04-12T08:47:23.635Z"
   },
   {
    "duration": 11,
    "start_time": "2023-04-12T08:47:23.642Z"
   },
   {
    "duration": 10,
    "start_time": "2023-04-12T08:47:23.654Z"
   },
   {
    "duration": 19,
    "start_time": "2023-04-12T08:47:23.666Z"
   },
   {
    "duration": 18,
    "start_time": "2023-04-12T08:47:23.687Z"
   },
   {
    "duration": 16,
    "start_time": "2023-04-12T08:52:00.645Z"
   },
   {
    "duration": 57,
    "start_time": "2023-04-12T08:52:09.300Z"
   },
   {
    "duration": 4,
    "start_time": "2023-04-12T08:54:43.358Z"
   },
   {
    "duration": 639,
    "start_time": "2023-04-12T08:54:43.363Z"
   },
   {
    "duration": 12,
    "start_time": "2023-04-12T08:54:44.004Z"
   },
   {
    "duration": 111,
    "start_time": "2023-04-12T08:54:44.017Z"
   },
   {
    "duration": 4,
    "start_time": "2023-04-12T08:54:44.135Z"
   },
   {
    "duration": 145,
    "start_time": "2023-04-12T08:54:44.140Z"
   },
   {
    "duration": 333,
    "start_time": "2023-04-12T08:54:44.287Z"
   },
   {
    "duration": 362,
    "start_time": "2023-04-12T08:54:44.621Z"
   },
   {
    "duration": 4,
    "start_time": "2023-04-12T08:54:44.984Z"
   },
   {
    "duration": 409,
    "start_time": "2023-04-12T08:54:44.989Z"
   },
   {
    "duration": 3,
    "start_time": "2023-04-12T08:54:45.401Z"
   },
   {
    "duration": 373,
    "start_time": "2023-04-12T08:54:45.406Z"
   },
   {
    "duration": 104,
    "start_time": "2023-04-12T08:54:45.781Z"
   },
   {
    "duration": 45,
    "start_time": "2023-04-12T08:54:45.887Z"
   },
   {
    "duration": 71,
    "start_time": "2023-04-12T08:54:45.934Z"
   },
   {
    "duration": 77,
    "start_time": "2023-04-12T08:54:46.006Z"
   },
   {
    "duration": 17,
    "start_time": "2023-04-12T08:54:46.084Z"
   },
   {
    "duration": 20,
    "start_time": "2023-04-12T08:54:46.103Z"
   },
   {
    "duration": 12,
    "start_time": "2023-04-12T08:54:46.124Z"
   },
   {
    "duration": 4,
    "start_time": "2023-04-12T08:54:46.138Z"
   },
   {
    "duration": 8,
    "start_time": "2023-04-12T08:54:46.143Z"
   },
   {
    "duration": 8,
    "start_time": "2023-04-12T08:54:46.152Z"
   },
   {
    "duration": 37,
    "start_time": "2023-04-12T08:54:46.161Z"
   },
   {
    "duration": 40,
    "start_time": "2023-04-12T08:54:46.200Z"
   },
   {
    "duration": 4,
    "start_time": "2023-04-12T08:54:46.241Z"
   },
   {
    "duration": 13,
    "start_time": "2023-04-12T08:54:46.246Z"
   },
   {
    "duration": 20,
    "start_time": "2023-04-12T08:54:46.260Z"
   },
   {
    "duration": 118,
    "start_time": "2023-04-12T08:54:46.282Z"
   },
   {
    "duration": 125,
    "start_time": "2023-04-12T08:54:46.403Z"
   },
   {
    "duration": 22,
    "start_time": "2023-04-12T08:54:46.529Z"
   },
   {
    "duration": 3,
    "start_time": "2023-04-12T08:54:46.553Z"
   },
   {
    "duration": 39,
    "start_time": "2023-04-12T08:54:46.558Z"
   },
   {
    "duration": 51,
    "start_time": "2023-04-12T08:54:46.598Z"
   },
   {
    "duration": 4,
    "start_time": "2023-04-12T08:54:46.651Z"
   },
   {
    "duration": 22,
    "start_time": "2023-04-12T08:54:46.657Z"
   },
   {
    "duration": 4,
    "start_time": "2023-04-12T08:54:46.680Z"
   },
   {
    "duration": 62,
    "start_time": "2023-04-12T08:54:46.685Z"
   },
   {
    "duration": 3,
    "start_time": "2023-04-12T08:54:46.749Z"
   },
   {
    "duration": 9,
    "start_time": "2023-04-12T08:54:46.754Z"
   },
   {
    "duration": 10,
    "start_time": "2023-04-12T08:54:46.764Z"
   },
   {
    "duration": 5,
    "start_time": "2023-04-12T08:54:46.775Z"
   },
   {
    "duration": 6,
    "start_time": "2023-04-12T08:54:46.781Z"
   },
   {
    "duration": 8,
    "start_time": "2023-04-12T08:54:46.789Z"
   },
   {
    "duration": 4,
    "start_time": "2023-04-12T08:54:46.798Z"
   },
   {
    "duration": 5,
    "start_time": "2023-04-12T08:55:13.793Z"
   },
   {
    "duration": 5,
    "start_time": "2023-04-12T08:56:00.495Z"
   },
   {
    "duration": 5,
    "start_time": "2023-04-12T08:56:10.080Z"
   },
   {
    "duration": 6,
    "start_time": "2023-04-12T08:56:23.649Z"
   },
   {
    "duration": 104,
    "start_time": "2023-04-12T08:58:37.915Z"
   },
   {
    "duration": 86,
    "start_time": "2023-04-12T08:58:58.510Z"
   },
   {
    "duration": 1354,
    "start_time": "2023-04-12T09:00:03.684Z"
   },
   {
    "duration": 1635,
    "start_time": "2023-04-12T09:00:30.388Z"
   },
   {
    "duration": 86,
    "start_time": "2023-04-12T09:02:32.997Z"
   },
   {
    "duration": 4,
    "start_time": "2023-04-12T09:03:12.175Z"
   },
   {
    "duration": 4,
    "start_time": "2023-04-12T09:03:12.583Z"
   },
   {
    "duration": 466,
    "start_time": "2023-04-12T09:03:12.944Z"
   },
   {
    "duration": 32,
    "start_time": "2023-04-12T09:04:06.164Z"
   },
   {
    "duration": 4,
    "start_time": "2023-04-12T09:04:32.449Z"
   },
   {
    "duration": 651,
    "start_time": "2023-04-12T09:04:32.455Z"
   },
   {
    "duration": 13,
    "start_time": "2023-04-12T09:04:33.108Z"
   },
   {
    "duration": 108,
    "start_time": "2023-04-12T09:04:33.122Z"
   },
   {
    "duration": 3,
    "start_time": "2023-04-12T09:04:33.235Z"
   },
   {
    "duration": 105,
    "start_time": "2023-04-12T09:04:33.240Z"
   },
   {
    "duration": 359,
    "start_time": "2023-04-12T09:04:33.347Z"
   },
   {
    "duration": 359,
    "start_time": "2023-04-12T09:04:33.708Z"
   },
   {
    "duration": 3,
    "start_time": "2023-04-12T09:04:34.069Z"
   },
   {
    "duration": 406,
    "start_time": "2023-04-12T09:04:34.073Z"
   },
   {
    "duration": 4,
    "start_time": "2023-04-12T09:04:34.481Z"
   },
   {
    "duration": 364,
    "start_time": "2023-04-12T09:04:34.487Z"
   },
   {
    "duration": 102,
    "start_time": "2023-04-12T09:04:34.852Z"
   },
   {
    "duration": 29,
    "start_time": "2023-04-12T09:04:34.956Z"
   },
   {
    "duration": 82,
    "start_time": "2023-04-12T09:04:34.987Z"
   },
   {
    "duration": 82,
    "start_time": "2023-04-12T09:04:35.071Z"
   },
   {
    "duration": 16,
    "start_time": "2023-04-12T09:04:35.155Z"
   },
   {
    "duration": 6,
    "start_time": "2023-04-12T09:04:35.173Z"
   },
   {
    "duration": 19,
    "start_time": "2023-04-12T09:04:35.180Z"
   },
   {
    "duration": 3,
    "start_time": "2023-04-12T09:04:35.200Z"
   },
   {
    "duration": 7,
    "start_time": "2023-04-12T09:04:35.205Z"
   },
   {
    "duration": 25,
    "start_time": "2023-04-12T09:04:35.213Z"
   },
   {
    "duration": 38,
    "start_time": "2023-04-12T09:04:35.239Z"
   },
   {
    "duration": 38,
    "start_time": "2023-04-12T09:04:35.278Z"
   },
   {
    "duration": 17,
    "start_time": "2023-04-12T09:04:35.318Z"
   },
   {
    "duration": 13,
    "start_time": "2023-04-12T09:04:35.337Z"
   },
   {
    "duration": 21,
    "start_time": "2023-04-12T09:04:35.351Z"
   },
   {
    "duration": 117,
    "start_time": "2023-04-12T09:04:35.373Z"
   },
   {
    "duration": 129,
    "start_time": "2023-04-12T09:04:35.491Z"
   },
   {
    "duration": 33,
    "start_time": "2023-04-12T09:04:35.621Z"
   },
   {
    "duration": 6,
    "start_time": "2023-04-12T09:04:35.657Z"
   },
   {
    "duration": 38,
    "start_time": "2023-04-12T09:04:35.666Z"
   },
   {
    "duration": 53,
    "start_time": "2023-04-12T09:04:35.706Z"
   },
   {
    "duration": 4,
    "start_time": "2023-04-12T09:04:35.761Z"
   },
   {
    "duration": 30,
    "start_time": "2023-04-12T09:04:35.766Z"
   },
   {
    "duration": 3,
    "start_time": "2023-04-12T09:04:35.798Z"
   },
   {
    "duration": 53,
    "start_time": "2023-04-12T09:04:35.802Z"
   },
   {
    "duration": 4,
    "start_time": "2023-04-12T09:04:35.856Z"
   },
   {
    "duration": 15,
    "start_time": "2023-04-12T09:04:35.861Z"
   },
   {
    "duration": 16,
    "start_time": "2023-04-12T09:04:35.877Z"
   },
   {
    "duration": 36,
    "start_time": "2023-04-12T09:04:35.896Z"
   },
   {
    "duration": 24,
    "start_time": "2023-04-12T09:04:35.934Z"
   },
   {
    "duration": 1232,
    "start_time": "2023-04-12T09:04:35.959Z"
   },
   {
    "duration": 5,
    "start_time": "2023-04-12T09:04:37.192Z"
   },
   {
    "duration": 11,
    "start_time": "2023-04-12T09:04:37.198Z"
   },
   {
    "duration": 5,
    "start_time": "2023-04-12T09:04:41.990Z"
   },
   {
    "duration": 3,
    "start_time": "2023-04-12T09:04:42.010Z"
   },
   {
    "duration": 532,
    "start_time": "2023-04-12T09:04:42.553Z"
   },
   {
    "duration": 32,
    "start_time": "2023-04-12T09:04:46.747Z"
   },
   {
    "duration": 17,
    "start_time": "2023-04-12T09:08:28.654Z"
   },
   {
    "duration": 12,
    "start_time": "2023-04-12T09:08:47.984Z"
   },
   {
    "duration": 58,
    "start_time": "2023-04-12T09:08:48.693Z"
   },
   {
    "duration": 16,
    "start_time": "2023-04-12T09:08:49.215Z"
   },
   {
    "duration": 57,
    "start_time": "2023-04-12T09:09:34.986Z"
   },
   {
    "duration": 70,
    "start_time": "2023-04-12T09:12:54.886Z"
   },
   {
    "duration": 91,
    "start_time": "2023-04-12T09:13:29.895Z"
   },
   {
    "duration": 572,
    "start_time": "2023-04-12T09:15:40.002Z"
   },
   {
    "duration": 25,
    "start_time": "2023-04-12T09:16:10.974Z"
   },
   {
    "duration": 378,
    "start_time": "2023-04-12T09:22:18.548Z"
   },
   {
    "duration": 13,
    "start_time": "2023-04-12T09:22:50.207Z"
   },
   {
    "duration": 135,
    "start_time": "2023-04-12T09:23:06.494Z"
   },
   {
    "duration": 128,
    "start_time": "2023-04-12T09:25:18.053Z"
   },
   {
    "duration": 132,
    "start_time": "2023-04-12T09:27:19.217Z"
   },
   {
    "duration": 5,
    "start_time": "2023-04-12T10:17:12.049Z"
   },
   {
    "duration": 3,
    "start_time": "2023-04-12T10:19:17.241Z"
   },
   {
    "duration": 4,
    "start_time": "2023-04-12T10:20:15.676Z"
   },
   {
    "duration": 20,
    "start_time": "2023-04-12T10:21:34.472Z"
   },
   {
    "duration": 2,
    "start_time": "2023-04-12T10:22:06.965Z"
   },
   {
    "duration": 121,
    "start_time": "2023-04-12T10:22:59.571Z"
   },
   {
    "duration": 15736,
    "start_time": "2023-04-12T10:23:09.509Z"
   },
   {
    "duration": 102,
    "start_time": "2023-04-12T10:23:41.170Z"
   },
   {
    "duration": 77,
    "start_time": "2023-04-12T10:24:07.497Z"
   },
   {
    "duration": 5,
    "start_time": "2023-04-12T10:24:14.952Z"
   },
   {
    "duration": 153,
    "start_time": "2023-04-12T10:24:44.284Z"
   },
   {
    "duration": 4,
    "start_time": "2023-04-12T10:24:49.136Z"
   },
   {
    "duration": 89,
    "start_time": "2023-04-12T10:49:40.085Z"
   },
   {
    "duration": 12,
    "start_time": "2023-04-12T10:52:51.637Z"
   },
   {
    "duration": 27,
    "start_time": "2023-04-12T10:52:56.902Z"
   },
   {
    "duration": 2,
    "start_time": "2023-04-12T10:53:00.969Z"
   },
   {
    "duration": 3,
    "start_time": "2023-04-12T10:53:15.557Z"
   },
   {
    "duration": 11,
    "start_time": "2023-04-12T10:53:38.382Z"
   },
   {
    "duration": 3,
    "start_time": "2023-04-12T10:53:50.905Z"
   },
   {
    "duration": 5013877,
    "start_time": "2023-04-12T10:54:11.672Z"
   },
   {
    "duration": 1602,
    "start_time": "2023-04-13T03:36:10.201Z"
   },
   {
    "duration": 1020,
    "start_time": "2023-04-13T03:36:11.805Z"
   },
   {
    "duration": 17,
    "start_time": "2023-04-13T03:36:12.827Z"
   },
   {
    "duration": 117,
    "start_time": "2023-04-13T03:36:12.846Z"
   },
   {
    "duration": 3,
    "start_time": "2023-04-13T03:36:12.964Z"
   },
   {
    "duration": 129,
    "start_time": "2023-04-13T03:36:12.969Z"
   },
   {
    "duration": 424,
    "start_time": "2023-04-13T03:36:13.099Z"
   },
   {
    "duration": 414,
    "start_time": "2023-04-13T03:36:13.525Z"
   },
   {
    "duration": 3,
    "start_time": "2023-04-13T03:36:13.941Z"
   },
   {
    "duration": 448,
    "start_time": "2023-04-13T03:36:13.946Z"
   },
   {
    "duration": 3,
    "start_time": "2023-04-13T03:36:14.396Z"
   },
   {
    "duration": 406,
    "start_time": "2023-04-13T03:36:14.401Z"
   },
   {
    "duration": 120,
    "start_time": "2023-04-13T03:36:14.809Z"
   },
   {
    "duration": 36,
    "start_time": "2023-04-13T03:36:14.931Z"
   },
   {
    "duration": 90,
    "start_time": "2023-04-13T03:36:14.969Z"
   },
   {
    "duration": 91,
    "start_time": "2023-04-13T03:36:15.061Z"
   },
   {
    "duration": 26,
    "start_time": "2023-04-13T03:36:15.154Z"
   },
   {
    "duration": 7,
    "start_time": "2023-04-13T03:36:15.182Z"
   },
   {
    "duration": 27,
    "start_time": "2023-04-13T03:36:15.191Z"
   },
   {
    "duration": 4,
    "start_time": "2023-04-13T03:36:15.220Z"
   },
   {
    "duration": 10,
    "start_time": "2023-04-13T03:36:15.226Z"
   },
   {
    "duration": 3,
    "start_time": "2023-04-13T03:36:15.238Z"
   },
   {
    "duration": 56,
    "start_time": "2023-04-13T03:36:15.243Z"
   },
   {
    "duration": 34,
    "start_time": "2023-04-13T03:36:15.317Z"
   },
   {
    "duration": 3,
    "start_time": "2023-04-13T03:36:15.353Z"
   },
   {
    "duration": 5,
    "start_time": "2023-04-13T03:36:15.357Z"
   },
   {
    "duration": 5,
    "start_time": "2023-04-13T03:36:15.363Z"
   },
   {
    "duration": 150,
    "start_time": "2023-04-13T03:36:15.372Z"
   },
   {
    "duration": 139,
    "start_time": "2023-04-13T03:36:15.523Z"
   },
   {
    "duration": 18,
    "start_time": "2023-04-13T03:36:15.664Z"
   },
   {
    "duration": 3,
    "start_time": "2023-04-13T03:36:15.684Z"
   },
   {
    "duration": 53,
    "start_time": "2023-04-13T03:36:15.688Z"
   },
   {
    "duration": 39,
    "start_time": "2023-04-13T03:36:15.743Z"
   },
   {
    "duration": 3,
    "start_time": "2023-04-13T03:36:15.784Z"
   },
   {
    "duration": 35,
    "start_time": "2023-04-13T03:36:15.788Z"
   },
   {
    "duration": 3,
    "start_time": "2023-04-13T03:36:15.824Z"
   },
   {
    "duration": 49,
    "start_time": "2023-04-13T03:36:15.828Z"
   },
   {
    "duration": 3,
    "start_time": "2023-04-13T03:36:15.879Z"
   },
   {
    "duration": 7,
    "start_time": "2023-04-13T03:36:15.884Z"
   },
   {
    "duration": 27,
    "start_time": "2023-04-13T03:36:15.892Z"
   },
   {
    "duration": 10,
    "start_time": "2023-04-13T03:36:15.921Z"
   },
   {
    "duration": 3,
    "start_time": "2023-04-13T03:36:15.932Z"
   },
   {
    "duration": 1383,
    "start_time": "2023-04-13T03:36:15.936Z"
   },
   {
    "duration": 5,
    "start_time": "2023-04-13T03:36:17.322Z"
   },
   {
    "duration": 9,
    "start_time": "2023-04-13T03:36:17.328Z"
   },
   {
    "duration": 518,
    "start_time": "2023-04-13T03:36:17.339Z"
   },
   {
    "duration": 33,
    "start_time": "2023-04-13T03:36:17.858Z"
   },
   {
    "duration": 27,
    "start_time": "2023-04-13T03:36:17.894Z"
   },
   {
    "duration": 68,
    "start_time": "2023-04-13T03:36:17.923Z"
   },
   {
    "duration": 30,
    "start_time": "2023-04-13T03:36:17.993Z"
   },
   {
    "duration": 71,
    "start_time": "2023-04-13T03:36:18.025Z"
   },
   {
    "duration": 475,
    "start_time": "2023-04-13T03:36:18.097Z"
   },
   {
    "duration": 263,
    "start_time": "2023-04-13T03:36:18.573Z"
   },
   {
    "duration": 82,
    "start_time": "2023-04-13T03:36:18.838Z"
   },
   {
    "duration": 130,
    "start_time": "2023-04-13T03:36:18.922Z"
   },
   {
    "duration": 2,
    "start_time": "2023-04-13T03:36:19.054Z"
   },
   {
    "duration": 5,
    "start_time": "2023-04-13T03:36:19.058Z"
   },
   {
    "duration": 16554,
    "start_time": "2023-04-13T03:36:19.064Z"
   },
   {
    "duration": 130,
    "start_time": "2023-04-13T03:36:35.619Z"
   },
   {
    "duration": 68,
    "start_time": "2023-04-13T03:36:35.751Z"
   },
   {
    "duration": 97,
    "start_time": "2023-04-13T03:36:35.821Z"
   },
   {
    "duration": 19,
    "start_time": "2023-04-13T03:36:35.920Z"
   },
   {
    "duration": 22,
    "start_time": "2023-04-13T03:36:35.941Z"
   },
   {
    "duration": 2028,
    "start_time": "2023-04-13T03:48:39.048Z"
   },
   {
    "duration": 10382,
    "start_time": "2023-04-13T03:48:44.135Z"
   },
   {
    "duration": 4,
    "start_time": "2023-04-13T03:49:06.659Z"
   },
   {
    "duration": 3,
    "start_time": "2023-04-13T03:49:15.100Z"
   },
   {
    "duration": 3,
    "start_time": "2023-04-13T03:49:15.918Z"
   },
   {
    "duration": 732441,
    "start_time": "2023-04-13T03:49:16.986Z"
   },
   {
    "duration": 3,
    "start_time": "2023-04-13T04:02:34.403Z"
   },
   {
    "duration": 3,
    "start_time": "2023-04-13T04:03:46.856Z"
   },
   {
    "duration": 11930,
    "start_time": "2023-04-13T04:04:07.989Z"
   },
   {
    "duration": 1411,
    "start_time": "2023-04-13T04:05:24.819Z"
   },
   {
    "duration": 4,
    "start_time": "2023-04-13T04:05:49.664Z"
   },
   {
    "duration": 75,
    "start_time": "2023-04-13T04:06:31.568Z"
   },
   {
    "duration": 4,
    "start_time": "2023-04-13T04:07:43.546Z"
   },
   {
    "duration": 3,
    "start_time": "2023-04-13T04:08:19.149Z"
   },
   {
    "duration": 4,
    "start_time": "2023-04-13T04:08:31.888Z"
   },
   {
    "duration": 3,
    "start_time": "2023-04-13T04:09:09.466Z"
   },
   {
    "duration": 13,
    "start_time": "2023-04-13T04:09:35.402Z"
   },
   {
    "duration": 3,
    "start_time": "2023-04-13T04:09:46.267Z"
   },
   {
    "duration": 542375,
    "start_time": "2023-04-13T04:09:59.402Z"
   },
   {
    "duration": 3,
    "start_time": "2023-04-13T04:25:07.483Z"
   },
   {
    "duration": 80,
    "start_time": "2023-04-13T04:25:59.063Z"
   },
   {
    "duration": 3,
    "start_time": "2023-04-13T04:26:20.190Z"
   },
   {
    "duration": 50037,
    "start_time": "2023-04-13T04:26:51.099Z"
   },
   {
    "duration": 76,
    "start_time": "2023-04-13T04:27:54.546Z"
   },
   {
    "duration": 120,
    "start_time": "2023-04-13T04:28:04.501Z"
   },
   {
    "duration": 5,
    "start_time": "2023-04-13T04:28:16.094Z"
   },
   {
    "duration": 70,
    "start_time": "2023-04-13T04:29:33.927Z"
   },
   {
    "duration": 359,
    "start_time": "2023-04-13T04:30:30.232Z"
   },
   {
    "duration": 3,
    "start_time": "2023-04-13T04:30:56.507Z"
   },
   {
    "duration": 2,
    "start_time": "2023-04-13T04:31:31.247Z"
   },
   {
    "duration": 4,
    "start_time": "2023-04-13T06:53:10.053Z"
   },
   {
    "duration": 2,
    "start_time": "2023-04-13T06:53:20.949Z"
   },
   {
    "duration": 6,
    "start_time": "2023-04-13T06:53:25.940Z"
   },
   {
    "duration": 3,
    "start_time": "2023-04-13T06:53:34.860Z"
   },
   {
    "duration": 3,
    "start_time": "2023-04-13T06:53:35.848Z"
   },
   {
    "duration": 4,
    "start_time": "2023-04-13T06:53:37.369Z"
   },
   {
    "duration": 3,
    "start_time": "2023-04-13T06:53:47.270Z"
   },
   {
    "duration": 5,
    "start_time": "2023-04-13T06:53:48.325Z"
   },
   {
    "duration": 4251923,
    "start_time": "2023-04-13T06:53:49.020Z"
   },
   {
    "duration": 3,
    "start_time": "2023-04-13T08:07:40.788Z"
   },
   {
    "duration": 2,
    "start_time": "2023-04-13T08:08:59.777Z"
   },
   {
    "duration": 296430,
    "start_time": "2023-04-13T08:09:28.648Z"
   },
   {
    "duration": 1117,
    "start_time": "2023-04-13T09:00:18.429Z"
   },
   {
    "duration": 4,
    "start_time": "2023-04-13T09:00:30.872Z"
   },
   {
    "duration": 1104,
    "start_time": "2023-04-13T10:29:25.038Z"
   },
   {
    "duration": 348069,
    "start_time": "2023-04-13T10:29:40.812Z"
   },
   {
    "duration": 2,
    "start_time": "2023-04-13T10:35:38.095Z"
   },
   {
    "duration": 1214,
    "start_time": "2023-04-13T10:43:01.404Z"
   },
   {
    "duration": 1579,
    "start_time": "2023-04-13T12:55:55.833Z"
   },
   {
    "duration": 1076,
    "start_time": "2023-04-13T12:55:57.414Z"
   },
   {
    "duration": 17,
    "start_time": "2023-04-13T12:55:58.492Z"
   },
   {
    "duration": 115,
    "start_time": "2023-04-13T12:55:58.511Z"
   },
   {
    "duration": 3,
    "start_time": "2023-04-13T12:55:58.628Z"
   },
   {
    "duration": 132,
    "start_time": "2023-04-13T12:55:58.636Z"
   },
   {
    "duration": 449,
    "start_time": "2023-04-13T12:55:58.770Z"
   },
   {
    "duration": 406,
    "start_time": "2023-04-13T12:55:59.221Z"
   },
   {
    "duration": 8,
    "start_time": "2023-04-13T12:55:59.629Z"
   },
   {
    "duration": 433,
    "start_time": "2023-04-13T12:55:59.640Z"
   },
   {
    "duration": 3,
    "start_time": "2023-04-13T12:56:00.074Z"
   },
   {
    "duration": 407,
    "start_time": "2023-04-13T12:56:00.079Z"
   },
   {
    "duration": 97,
    "start_time": "2023-04-13T12:56:00.487Z"
   },
   {
    "duration": 63,
    "start_time": "2023-04-13T12:56:00.586Z"
   },
   {
    "duration": 98,
    "start_time": "2023-04-13T12:56:00.651Z"
   },
   {
    "duration": 117,
    "start_time": "2023-04-13T12:56:00.751Z"
   },
   {
    "duration": 18,
    "start_time": "2023-04-13T12:56:00.870Z"
   },
   {
    "duration": 43,
    "start_time": "2023-04-13T12:56:00.890Z"
   },
   {
    "duration": 40,
    "start_time": "2023-04-13T12:56:00.935Z"
   },
   {
    "duration": 36,
    "start_time": "2023-04-13T12:56:00.977Z"
   },
   {
    "duration": 30,
    "start_time": "2023-04-13T12:56:01.015Z"
   },
   {
    "duration": 50,
    "start_time": "2023-04-13T12:56:01.046Z"
   },
   {
    "duration": 114,
    "start_time": "2023-04-13T12:56:01.097Z"
   },
   {
    "duration": 41,
    "start_time": "2023-04-13T12:56:01.213Z"
   },
   {
    "duration": 3,
    "start_time": "2023-04-13T12:56:01.256Z"
   },
   {
    "duration": 29,
    "start_time": "2023-04-13T12:56:01.260Z"
   },
   {
    "duration": 32,
    "start_time": "2023-04-13T12:56:01.290Z"
   },
   {
    "duration": 150,
    "start_time": "2023-04-13T12:56:01.326Z"
   },
   {
    "duration": 118,
    "start_time": "2023-04-13T12:56:01.477Z"
   },
   {
    "duration": 18,
    "start_time": "2023-04-13T12:56:01.597Z"
   },
   {
    "duration": 12,
    "start_time": "2023-04-13T12:56:01.617Z"
   },
   {
    "duration": 66,
    "start_time": "2023-04-13T12:56:01.636Z"
   },
   {
    "duration": 37,
    "start_time": "2023-04-13T12:56:01.704Z"
   },
   {
    "duration": 5,
    "start_time": "2023-04-13T12:56:01.743Z"
   },
   {
    "duration": 33,
    "start_time": "2023-04-13T12:56:01.753Z"
   },
   {
    "duration": 14,
    "start_time": "2023-04-13T12:56:01.787Z"
   },
   {
    "duration": 64,
    "start_time": "2023-04-13T12:56:01.802Z"
   },
   {
    "duration": 4,
    "start_time": "2023-04-13T12:56:01.867Z"
   },
   {
    "duration": 38,
    "start_time": "2023-04-13T12:56:01.872Z"
   },
   {
    "duration": 36,
    "start_time": "2023-04-13T12:56:01.911Z"
   },
   {
    "duration": 18,
    "start_time": "2023-04-13T12:56:01.948Z"
   },
   {
    "duration": 37,
    "start_time": "2023-04-13T12:56:01.968Z"
   },
   {
    "duration": 1376,
    "start_time": "2023-04-13T12:56:02.006Z"
   },
   {
    "duration": 4,
    "start_time": "2023-04-13T12:56:03.384Z"
   },
   {
    "duration": 12,
    "start_time": "2023-04-13T12:56:03.389Z"
   },
   {
    "duration": 471,
    "start_time": "2023-04-13T12:56:03.402Z"
   },
   {
    "duration": 43,
    "start_time": "2023-04-13T12:56:03.875Z"
   },
   {
    "duration": 25,
    "start_time": "2023-04-13T12:56:03.920Z"
   },
   {
    "duration": 57,
    "start_time": "2023-04-13T12:56:03.946Z"
   },
   {
    "duration": 18,
    "start_time": "2023-04-13T12:56:04.005Z"
   },
   {
    "duration": 58,
    "start_time": "2023-04-13T12:56:04.035Z"
   },
   {
    "duration": 601,
    "start_time": "2023-04-13T12:56:04.095Z"
   },
   {
    "duration": 356,
    "start_time": "2023-04-13T12:56:04.697Z"
   },
   {
    "duration": 104,
    "start_time": "2023-04-13T12:56:05.055Z"
   },
   {
    "duration": 131,
    "start_time": "2023-04-13T12:56:05.161Z"
   },
   {
    "duration": 3,
    "start_time": "2023-04-13T12:56:05.294Z"
   },
   {
    "duration": 23,
    "start_time": "2023-04-13T12:56:05.298Z"
   },
   {
    "duration": 16724,
    "start_time": "2023-04-13T12:56:05.322Z"
   },
   {
    "duration": 293,
    "start_time": "2023-04-13T12:56:22.047Z"
   },
   {
    "duration": 5,
    "start_time": "2023-04-13T12:56:22.342Z"
   },
   {
    "duration": 94,
    "start_time": "2023-04-13T12:56:22.348Z"
   },
   {
    "duration": 12,
    "start_time": "2023-04-13T12:56:22.445Z"
   },
   {
    "duration": 15,
    "start_time": "2023-04-13T12:56:22.458Z"
   },
   {
    "duration": 588765,
    "start_time": "2023-04-13T12:56:22.475Z"
   },
   {
    "duration": 4,
    "start_time": "2023-04-13T13:06:11.241Z"
   },
   {
    "duration": 36,
    "start_time": "2023-04-13T13:06:11.246Z"
   },
   {
    "duration": 7757,
    "start_time": "2023-04-13T13:06:11.284Z"
   },
   {
    "duration": 1211,
    "start_time": "2023-04-13T13:06:19.042Z"
   },
   {
    "duration": 5,
    "start_time": "2023-04-13T13:06:20.254Z"
   },
   {
    "duration": 15,
    "start_time": "2023-04-13T13:06:20.260Z"
   },
   {
    "duration": 23,
    "start_time": "2023-04-13T13:06:20.276Z"
   },
   {
    "duration": 9,
    "start_time": "2023-04-13T13:06:20.300Z"
   },
   {
    "duration": 483647,
    "start_time": "2023-04-13T13:06:20.310Z"
   },
   {
    "duration": 3,
    "start_time": "2023-04-13T13:14:23.959Z"
   },
   {
    "duration": 8,
    "start_time": "2023-04-13T13:14:23.963Z"
   },
   {
    "duration": 45088,
    "start_time": "2023-04-13T13:14:23.973Z"
   },
   {
    "duration": 175,
    "start_time": "2023-04-13T13:15:09.062Z"
   },
   {
    "duration": 5,
    "start_time": "2023-04-13T13:15:09.240Z"
   },
   {
    "duration": 100,
    "start_time": "2023-04-13T13:15:09.246Z"
   },
   {
    "duration": 4,
    "start_time": "2023-04-13T13:15:09.347Z"
   },
   {
    "duration": 8,
    "start_time": "2023-04-13T13:15:09.353Z"
   },
   {
    "duration": 2841230,
    "start_time": "2023-04-13T13:15:09.366Z"
   },
   {
    "duration": 3,
    "start_time": "2023-04-13T14:02:30.597Z"
   },
   {
    "duration": 50,
    "start_time": "2023-04-13T14:02:30.602Z"
   },
   {
    "duration": 268133,
    "start_time": "2023-04-13T14:02:30.654Z"
   },
   {
    "duration": 1162,
    "start_time": "2023-04-13T14:06:58.789Z"
   },
   {
    "duration": 5,
    "start_time": "2023-04-13T14:06:59.952Z"
   },
   {
    "duration": 1446,
    "start_time": "2023-04-13T14:18:47.282Z"
   },
   {
    "duration": 731,
    "start_time": "2023-04-13T14:18:48.730Z"
   },
   {
    "duration": 15,
    "start_time": "2023-04-13T14:18:49.463Z"
   },
   {
    "duration": 107,
    "start_time": "2023-04-13T14:18:49.480Z"
   },
   {
    "duration": 3,
    "start_time": "2023-04-13T14:18:49.589Z"
   },
   {
    "duration": 107,
    "start_time": "2023-04-13T14:18:49.594Z"
   },
   {
    "duration": 424,
    "start_time": "2023-04-13T14:18:49.702Z"
   },
   {
    "duration": 418,
    "start_time": "2023-04-13T14:18:50.128Z"
   },
   {
    "duration": 3,
    "start_time": "2023-04-13T14:18:50.548Z"
   },
   {
    "duration": 445,
    "start_time": "2023-04-13T14:18:50.553Z"
   },
   {
    "duration": 4,
    "start_time": "2023-04-13T14:18:50.999Z"
   },
   {
    "duration": 433,
    "start_time": "2023-04-13T14:18:51.004Z"
   },
   {
    "duration": 100,
    "start_time": "2023-04-13T14:18:51.438Z"
   },
   {
    "duration": 35,
    "start_time": "2023-04-13T14:18:51.540Z"
   },
   {
    "duration": 83,
    "start_time": "2023-04-13T14:18:51.578Z"
   },
   {
    "duration": 76,
    "start_time": "2023-04-13T14:18:51.662Z"
   },
   {
    "duration": 26,
    "start_time": "2023-04-13T14:18:51.739Z"
   },
   {
    "duration": 19,
    "start_time": "2023-04-13T14:18:51.766Z"
   },
   {
    "duration": 7,
    "start_time": "2023-04-13T14:18:51.787Z"
   },
   {
    "duration": 5,
    "start_time": "2023-04-13T14:18:51.796Z"
   },
   {
    "duration": 16,
    "start_time": "2023-04-13T14:18:51.802Z"
   },
   {
    "duration": 19,
    "start_time": "2023-04-13T14:18:51.819Z"
   },
   {
    "duration": 78,
    "start_time": "2023-04-13T14:18:51.839Z"
   },
   {
    "duration": 39,
    "start_time": "2023-04-13T14:18:51.919Z"
   },
   {
    "duration": 3,
    "start_time": "2023-04-13T14:18:51.960Z"
   },
   {
    "duration": 27,
    "start_time": "2023-04-13T14:18:51.965Z"
   },
   {
    "duration": 20,
    "start_time": "2023-04-13T14:18:51.994Z"
   },
   {
    "duration": 131,
    "start_time": "2023-04-13T14:18:52.019Z"
   },
   {
    "duration": 153,
    "start_time": "2023-04-13T14:18:52.152Z"
   },
   {
    "duration": 20,
    "start_time": "2023-04-13T14:18:52.306Z"
   },
   {
    "duration": 4,
    "start_time": "2023-04-13T14:18:52.337Z"
   },
   {
    "duration": 59,
    "start_time": "2023-04-13T14:18:52.343Z"
   },
   {
    "duration": 44,
    "start_time": "2023-04-13T14:18:52.404Z"
   },
   {
    "duration": 4,
    "start_time": "2023-04-13T14:18:52.450Z"
   },
   {
    "duration": 28,
    "start_time": "2023-04-13T14:18:52.455Z"
   },
   {
    "duration": 3,
    "start_time": "2023-04-13T14:18:52.484Z"
   },
   {
    "duration": 61,
    "start_time": "2023-04-13T14:18:52.489Z"
   },
   {
    "duration": 3,
    "start_time": "2023-04-13T14:18:52.552Z"
   },
   {
    "duration": 10,
    "start_time": "2023-04-13T14:18:52.557Z"
   },
   {
    "duration": 24,
    "start_time": "2023-04-13T14:18:52.568Z"
   },
   {
    "duration": 21,
    "start_time": "2023-04-13T14:18:52.593Z"
   },
   {
    "duration": 19,
    "start_time": "2023-04-13T14:18:52.615Z"
   },
   {
    "duration": 1364,
    "start_time": "2023-04-13T14:18:52.636Z"
   },
   {
    "duration": 5,
    "start_time": "2023-04-13T14:18:54.002Z"
   },
   {
    "duration": 6,
    "start_time": "2023-04-13T14:18:54.009Z"
   },
   {
    "duration": 543,
    "start_time": "2023-04-13T14:18:54.017Z"
   },
   {
    "duration": 37,
    "start_time": "2023-04-13T14:18:54.562Z"
   },
   {
    "duration": 15,
    "start_time": "2023-04-13T14:18:54.601Z"
   },
   {
    "duration": 78,
    "start_time": "2023-04-13T14:18:54.618Z"
   },
   {
    "duration": 15,
    "start_time": "2023-04-13T14:18:54.697Z"
   },
   {
    "duration": 68,
    "start_time": "2023-04-13T14:18:54.714Z"
   },
   {
    "duration": 685,
    "start_time": "2023-04-13T14:18:54.783Z"
   },
   {
    "duration": 359,
    "start_time": "2023-04-13T14:18:55.469Z"
   },
   {
    "duration": 115,
    "start_time": "2023-04-13T14:18:55.830Z"
   },
   {
    "duration": 127,
    "start_time": "2023-04-13T14:18:55.947Z"
   },
   {
    "duration": 3,
    "start_time": "2023-04-13T14:18:56.076Z"
   },
   {
    "duration": 8,
    "start_time": "2023-04-13T14:18:56.080Z"
   },
   {
    "duration": 20348,
    "start_time": "2023-04-13T14:18:56.090Z"
   },
   {
    "duration": 197,
    "start_time": "2023-04-13T14:19:16.440Z"
   },
   {
    "duration": 5,
    "start_time": "2023-04-13T14:19:16.639Z"
   },
   {
    "duration": 93,
    "start_time": "2023-04-13T14:19:16.645Z"
   },
   {
    "duration": 6,
    "start_time": "2023-04-13T14:19:16.740Z"
   },
   {
    "duration": 4,
    "start_time": "2023-04-13T14:19:16.748Z"
   },
   {
    "duration": 894086,
    "start_time": "2023-04-13T14:19:16.753Z"
   },
   {
    "duration": 2,
    "start_time": "2023-04-13T14:34:10.841Z"
   },
   {
    "duration": 5,
    "start_time": "2023-04-13T14:34:10.845Z"
   },
   {
    "duration": 13989,
    "start_time": "2023-04-13T14:34:10.852Z"
   },
   {
    "duration": 1307,
    "start_time": "2023-04-13T14:34:24.842Z"
   },
   {
    "duration": 4,
    "start_time": "2023-04-13T14:34:26.151Z"
   },
   {
    "duration": 12,
    "start_time": "2023-04-13T14:34:26.156Z"
   },
   {
    "duration": 4,
    "start_time": "2023-04-13T14:34:26.169Z"
   },
   {
    "duration": 9,
    "start_time": "2023-04-13T14:34:26.174Z"
   },
   {
    "duration": 485297,
    "start_time": "2023-04-13T14:34:26.184Z"
   },
   {
    "duration": 3,
    "start_time": "2023-04-13T14:42:31.483Z"
   },
   {
    "duration": 34,
    "start_time": "2023-04-13T14:42:31.488Z"
   },
   {
    "duration": 44658,
    "start_time": "2023-04-13T14:42:31.524Z"
   },
   {
    "duration": 157,
    "start_time": "2023-04-13T14:43:16.184Z"
   },
   {
    "duration": 94,
    "start_time": "2023-04-13T14:43:16.343Z"
   },
   {
    "duration": 12,
    "start_time": "2023-04-13T14:43:16.438Z"
   },
   {
    "duration": 30,
    "start_time": "2023-04-13T14:43:16.451Z"
   },
   {
    "duration": 22,
    "start_time": "2023-04-13T14:43:16.483Z"
   },
   {
    "duration": 8329723,
    "start_time": "2023-04-13T14:43:16.509Z"
   },
   {
    "duration": 0,
    "start_time": "2023-04-13T17:02:06.234Z"
   },
   {
    "duration": 0,
    "start_time": "2023-04-13T17:02:06.235Z"
   },
   {
    "duration": 0,
    "start_time": "2023-04-13T17:02:06.236Z"
   },
   {
    "duration": 0,
    "start_time": "2023-04-13T17:02:06.238Z"
   },
   {
    "duration": 0,
    "start_time": "2023-04-13T17:02:06.240Z"
   },
   {
    "duration": 2,
    "start_time": "2023-04-13T17:02:20.775Z"
   },
   {
    "duration": 3,
    "start_time": "2023-04-13T17:02:22.216Z"
   },
   {
    "duration": 15518,
    "start_time": "2023-04-13T17:02:23.034Z"
   },
   {
    "duration": 1516,
    "start_time": "2023-04-13T17:02:55.496Z"
   },
   {
    "duration": 869,
    "start_time": "2023-04-13T17:02:57.014Z"
   },
   {
    "duration": 16,
    "start_time": "2023-04-13T17:02:57.885Z"
   },
   {
    "duration": 135,
    "start_time": "2023-04-13T17:02:57.903Z"
   },
   {
    "duration": 5,
    "start_time": "2023-04-13T17:02:58.042Z"
   },
   {
    "duration": 122,
    "start_time": "2023-04-13T17:02:58.049Z"
   },
   {
    "duration": 479,
    "start_time": "2023-04-13T17:02:58.172Z"
   },
   {
    "duration": 455,
    "start_time": "2023-04-13T17:02:58.653Z"
   },
   {
    "duration": 4,
    "start_time": "2023-04-13T17:02:59.110Z"
   },
   {
    "duration": 502,
    "start_time": "2023-04-13T17:02:59.116Z"
   },
   {
    "duration": 3,
    "start_time": "2023-04-13T17:02:59.620Z"
   },
   {
    "duration": 464,
    "start_time": "2023-04-13T17:02:59.625Z"
   },
   {
    "duration": 105,
    "start_time": "2023-04-13T17:03:00.091Z"
   },
   {
    "duration": 55,
    "start_time": "2023-04-13T17:03:00.197Z"
   },
   {
    "duration": 71,
    "start_time": "2023-04-13T17:03:00.254Z"
   },
   {
    "duration": 94,
    "start_time": "2023-04-13T17:03:00.327Z"
   },
   {
    "duration": 28,
    "start_time": "2023-04-13T17:03:00.422Z"
   },
   {
    "duration": 15,
    "start_time": "2023-04-13T17:03:00.452Z"
   },
   {
    "duration": 50,
    "start_time": "2023-04-13T17:03:00.469Z"
   },
   {
    "duration": 47,
    "start_time": "2023-04-13T17:03:00.521Z"
   },
   {
    "duration": 38,
    "start_time": "2023-04-13T17:03:00.570Z"
   },
   {
    "duration": 43,
    "start_time": "2023-04-13T17:03:00.609Z"
   },
   {
    "duration": 92,
    "start_time": "2023-04-13T17:03:00.654Z"
   },
   {
    "duration": 41,
    "start_time": "2023-04-13T17:03:00.748Z"
   },
   {
    "duration": 3,
    "start_time": "2023-04-13T17:03:00.792Z"
   },
   {
    "duration": 55,
    "start_time": "2023-04-13T17:03:00.796Z"
   },
   {
    "duration": 35,
    "start_time": "2023-04-13T17:03:00.853Z"
   },
   {
    "duration": 190,
    "start_time": "2023-04-13T17:03:00.892Z"
   },
   {
    "duration": 136,
    "start_time": "2023-04-13T17:03:01.083Z"
   },
   {
    "duration": 29,
    "start_time": "2023-04-13T17:03:01.220Z"
   },
   {
    "duration": 16,
    "start_time": "2023-04-13T17:03:01.250Z"
   },
   {
    "duration": 53,
    "start_time": "2023-04-13T17:03:01.268Z"
   },
   {
    "duration": 66,
    "start_time": "2023-04-13T17:03:01.323Z"
   },
   {
    "duration": 9,
    "start_time": "2023-04-13T17:03:01.391Z"
   },
   {
    "duration": 62,
    "start_time": "2023-04-13T17:03:01.402Z"
   },
   {
    "duration": 42,
    "start_time": "2023-04-13T17:03:01.466Z"
   },
   {
    "duration": 96,
    "start_time": "2023-04-13T17:03:01.510Z"
   },
   {
    "duration": 3,
    "start_time": "2023-04-13T17:03:01.608Z"
   },
   {
    "duration": 42,
    "start_time": "2023-04-13T17:03:01.613Z"
   },
   {
    "duration": 20,
    "start_time": "2023-04-13T17:03:01.657Z"
   },
   {
    "duration": 12,
    "start_time": "2023-04-13T17:03:01.679Z"
   },
   {
    "duration": 27,
    "start_time": "2023-04-13T17:03:01.693Z"
   },
   {
    "duration": 1502,
    "start_time": "2023-04-13T17:03:01.722Z"
   },
   {
    "duration": 5,
    "start_time": "2023-04-13T17:03:03.226Z"
   },
   {
    "duration": 17,
    "start_time": "2023-04-13T17:03:03.236Z"
   },
   {
    "duration": 496,
    "start_time": "2023-04-13T17:03:03.254Z"
   },
   {
    "duration": 37,
    "start_time": "2023-04-13T17:03:03.752Z"
   },
   {
    "duration": 15,
    "start_time": "2023-04-13T17:03:03.791Z"
   },
   {
    "duration": 70,
    "start_time": "2023-04-13T17:03:03.808Z"
   },
   {
    "duration": 15,
    "start_time": "2023-04-13T17:03:03.879Z"
   },
   {
    "duration": 70,
    "start_time": "2023-04-13T17:03:03.896Z"
   },
   {
    "duration": 626,
    "start_time": "2023-04-13T17:03:03.968Z"
   },
   {
    "duration": 383,
    "start_time": "2023-04-13T17:03:04.596Z"
   },
   {
    "duration": 108,
    "start_time": "2023-04-13T17:03:04.981Z"
   },
   {
    "duration": 136,
    "start_time": "2023-04-13T17:03:05.091Z"
   },
   {
    "duration": 3,
    "start_time": "2023-04-13T17:03:05.228Z"
   },
   {
    "duration": 24,
    "start_time": "2023-04-13T17:03:05.232Z"
   },
   {
    "duration": 28983,
    "start_time": "2023-04-13T17:03:05.258Z"
   },
   {
    "duration": 198,
    "start_time": "2023-04-13T17:03:34.243Z"
   },
   {
    "duration": 13,
    "start_time": "2023-04-13T17:03:34.443Z"
   },
   {
    "duration": 86,
    "start_time": "2023-04-13T17:03:34.460Z"
   },
   {
    "duration": 10,
    "start_time": "2023-04-13T17:03:34.551Z"
   },
   {
    "duration": 11,
    "start_time": "2023-04-13T17:03:34.563Z"
   },
   {
    "duration": 2586883,
    "start_time": "2023-04-13T17:03:34.576Z"
   },
   {
    "duration": 2,
    "start_time": "2023-04-13T17:46:41.461Z"
   },
   {
    "duration": 85,
    "start_time": "2023-04-13T17:46:41.465Z"
   },
   {
    "duration": 59399,
    "start_time": "2023-04-13T17:46:41.552Z"
   },
   {
    "duration": 1201,
    "start_time": "2023-04-13T17:47:40.955Z"
   },
   {
    "duration": 3,
    "start_time": "2023-04-13T17:47:42.158Z"
   },
   {
    "duration": 4,
    "start_time": "2023-04-13T17:47:42.163Z"
   },
   {
    "duration": 7,
    "start_time": "2023-04-13T17:47:42.168Z"
   },
   {
    "duration": 7,
    "start_time": "2023-04-13T17:47:42.176Z"
   },
   {
    "duration": 493610,
    "start_time": "2023-04-13T17:47:42.185Z"
   },
   {
    "duration": 3,
    "start_time": "2023-04-13T17:55:55.797Z"
   },
   {
    "duration": 4,
    "start_time": "2023-04-13T17:55:55.802Z"
   },
   {
    "duration": 46221,
    "start_time": "2023-04-13T17:55:55.807Z"
   },
   {
    "duration": 120,
    "start_time": "2023-04-13T17:56:42.030Z"
   },
   {
    "duration": 94,
    "start_time": "2023-04-13T17:56:42.152Z"
   },
   {
    "duration": 8,
    "start_time": "2023-04-13T17:56:42.252Z"
   },
   {
    "duration": 73,
    "start_time": "2023-04-13T17:56:42.264Z"
   },
   {
    "duration": 20,
    "start_time": "2023-04-13T17:56:42.339Z"
   },
   {
    "duration": 2763049,
    "start_time": "2023-04-13T17:56:42.363Z"
   },
   {
    "duration": 4,
    "start_time": "2023-04-13T18:42:45.413Z"
   },
   {
    "duration": 33,
    "start_time": "2023-04-13T18:42:45.418Z"
   },
   {
    "duration": 255407,
    "start_time": "2023-04-13T18:42:45.453Z"
   },
   {
    "duration": 1101,
    "start_time": "2023-04-13T18:47:00.862Z"
   },
   {
    "duration": 4,
    "start_time": "2023-04-13T18:47:01.964Z"
   },
   {
    "duration": 2142,
    "start_time": "2023-04-15T03:36:26.967Z"
   },
   {
    "duration": 2733,
    "start_time": "2023-04-15T03:36:29.467Z"
   },
   {
    "duration": 15,
    "start_time": "2023-04-15T03:36:32.202Z"
   },
   {
    "duration": 134,
    "start_time": "2023-04-15T03:36:32.218Z"
   },
   {
    "duration": 3,
    "start_time": "2023-04-15T03:36:52.267Z"
   },
   {
    "duration": 106,
    "start_time": "2023-04-15T03:36:52.747Z"
   },
   {
    "duration": 383,
    "start_time": "2023-04-15T03:36:56.107Z"
   },
   {
    "duration": 396,
    "start_time": "2023-04-15T03:36:57.027Z"
   },
   {
    "duration": 3,
    "start_time": "2023-04-15T03:36:59.227Z"
   },
   {
    "duration": 429,
    "start_time": "2023-04-15T03:36:59.946Z"
   },
   {
    "duration": 3,
    "start_time": "2023-04-15T03:37:01.300Z"
   },
   {
    "duration": 386,
    "start_time": "2023-04-15T03:37:01.527Z"
   },
   {
    "duration": 97,
    "start_time": "2023-04-15T03:37:13.186Z"
   },
   {
    "duration": 33,
    "start_time": "2023-04-15T03:37:21.127Z"
   },
   {
    "duration": 75,
    "start_time": "2023-04-15T03:37:34.147Z"
   },
   {
    "duration": 77,
    "start_time": "2023-04-15T03:37:36.107Z"
   },
   {
    "duration": 25,
    "start_time": "2023-04-15T03:37:38.904Z"
   },
   {
    "duration": 7,
    "start_time": "2023-04-15T03:37:57.327Z"
   },
   {
    "duration": 3,
    "start_time": "2023-04-15T03:37:59.225Z"
   },
   {
    "duration": 45,
    "start_time": "2023-04-15T03:38:01.305Z"
   },
   {
    "duration": 32,
    "start_time": "2023-04-15T03:38:01.407Z"
   },
   {
    "duration": 3,
    "start_time": "2023-04-15T03:38:04.587Z"
   },
   {
    "duration": 4,
    "start_time": "2023-04-15T03:38:57.166Z"
   },
   {
    "duration": 3,
    "start_time": "2023-04-15T03:39:08.825Z"
   },
   {
    "duration": 115,
    "start_time": "2023-04-15T03:39:09.807Z"
   },
   {
    "duration": 117,
    "start_time": "2023-04-15T03:39:12.646Z"
   },
   {
    "duration": 18,
    "start_time": "2023-04-15T03:39:20.107Z"
   },
   {
    "duration": 3,
    "start_time": "2023-04-15T03:39:23.287Z"
   },
   {
    "duration": 4,
    "start_time": "2023-04-15T03:39:32.766Z"
   },
   {
    "duration": 35,
    "start_time": "2023-04-15T03:39:36.807Z"
   },
   {
    "duration": 38,
    "start_time": "2023-04-15T03:39:37.366Z"
   },
   {
    "duration": 3,
    "start_time": "2023-04-15T03:39:37.967Z"
   },
   {
    "duration": 19,
    "start_time": "2023-04-15T03:39:42.587Z"
   },
   {
    "duration": 3,
    "start_time": "2023-04-15T03:39:46.265Z"
   },
   {
    "duration": 44,
    "start_time": "2023-04-15T03:39:48.506Z"
   },
   {
    "duration": 3,
    "start_time": "2023-04-15T03:39:48.687Z"
   },
   {
    "duration": 57,
    "start_time": "2023-04-15T03:39:56.184Z"
   },
   {
    "duration": 59,
    "start_time": "2023-04-15T03:41:31.259Z"
   },
   {
    "duration": 104,
    "start_time": "2023-04-15T03:42:20.186Z"
   },
   {
    "duration": 5,
    "start_time": "2023-04-15T03:42:28.665Z"
   },
   {
    "duration": 6,
    "start_time": "2023-04-15T03:42:29.006Z"
   },
   {
    "duration": 8,
    "start_time": "2023-04-15T03:42:29.386Z"
   },
   {
    "duration": 3,
    "start_time": "2023-04-15T03:42:29.947Z"
   },
   {
    "duration": 1238,
    "start_time": "2023-04-15T03:42:30.766Z"
   },
   {
    "duration": 4,
    "start_time": "2023-04-15T03:42:32.466Z"
   },
   {
    "duration": 4,
    "start_time": "2023-04-15T03:42:33.806Z"
   },
   {
    "duration": 29,
    "start_time": "2023-04-15T03:42:37.886Z"
   },
   {
    "duration": 16,
    "start_time": "2023-04-15T03:42:51.866Z"
   },
   {
    "duration": 60,
    "start_time": "2023-04-15T03:42:58.200Z"
   },
   {
    "duration": 15,
    "start_time": "2023-04-15T03:43:02.346Z"
   },
   {
    "duration": 59,
    "start_time": "2023-04-15T03:43:02.664Z"
   },
   {
    "duration": 454,
    "start_time": "2023-04-15T03:44:02.426Z"
   },
   {
    "duration": 434,
    "start_time": "2023-04-15T03:49:49.801Z"
   },
   {
    "duration": 243,
    "start_time": "2023-04-15T03:50:12.823Z"
   },
   {
    "duration": 77,
    "start_time": "2023-04-15T03:51:23.223Z"
   },
   {
    "duration": 22,
    "start_time": "2023-04-15T03:51:32.786Z"
   },
   {
    "duration": 120,
    "start_time": "2023-04-15T03:51:44.983Z"
   },
   {
    "duration": 22,
    "start_time": "2023-04-15T03:52:02.457Z"
   },
   {
    "duration": 2,
    "start_time": "2023-04-15T03:52:08.146Z"
   },
   {
    "duration": 44,
    "start_time": "2023-04-16T06:42:42.825Z"
   },
   {
    "duration": 1620,
    "start_time": "2023-04-16T06:42:55.583Z"
   },
   {
    "duration": 2819,
    "start_time": "2023-04-16T06:42:57.206Z"
   },
   {
    "duration": 18,
    "start_time": "2023-04-16T06:43:00.026Z"
   },
   {
    "duration": 141,
    "start_time": "2023-04-16T06:43:00.045Z"
   },
   {
    "duration": 3,
    "start_time": "2023-04-16T06:43:00.188Z"
   },
   {
    "duration": 192,
    "start_time": "2023-04-16T06:43:00.193Z"
   },
   {
    "duration": 517,
    "start_time": "2023-04-16T06:43:00.387Z"
   },
   {
    "duration": 427,
    "start_time": "2023-04-16T06:43:04.038Z"
   },
   {
    "duration": 474,
    "start_time": "2023-04-16T06:43:04.470Z"
   },
   {
    "duration": 4,
    "start_time": "2023-04-16T06:43:04.946Z"
   },
   {
    "duration": 510,
    "start_time": "2023-04-16T06:43:06.935Z"
   },
   {
    "duration": 4,
    "start_time": "2023-04-16T06:43:08.934Z"
   },
   {
    "duration": 514,
    "start_time": "2023-04-16T06:43:09.383Z"
   },
   {
    "duration": 119,
    "start_time": "2023-04-16T06:43:17.711Z"
   },
   {
    "duration": 73,
    "start_time": "2023-04-16T06:43:18.568Z"
   },
   {
    "duration": 26,
    "start_time": "2023-04-16T06:44:06.592Z"
   },
   {
    "duration": 64,
    "start_time": "2023-04-16T06:45:50.171Z"
   },
   {
    "duration": 48,
    "start_time": "2023-04-16T06:47:56.006Z"
   },
   {
    "duration": 44,
    "start_time": "2023-04-16T06:48:25.301Z"
   },
   {
    "duration": 43,
    "start_time": "2023-04-16T06:48:57.591Z"
   },
   {
    "duration": 53,
    "start_time": "2023-04-16T06:49:26.934Z"
   },
   {
    "duration": 4,
    "start_time": "2023-04-16T06:52:59.434Z"
   },
   {
    "duration": 883,
    "start_time": "2023-04-16T06:52:59.441Z"
   },
   {
    "duration": 14,
    "start_time": "2023-04-16T06:53:00.326Z"
   },
   {
    "duration": 346,
    "start_time": "2023-04-16T06:53:00.341Z"
   },
   {
    "duration": 3,
    "start_time": "2023-04-16T06:53:00.690Z"
   },
   {
    "duration": 310,
    "start_time": "2023-04-16T06:53:00.695Z"
   },
   {
    "duration": 479,
    "start_time": "2023-04-16T06:53:01.007Z"
   },
   {
    "duration": 467,
    "start_time": "2023-04-16T06:53:01.488Z"
   },
   {
    "duration": 4,
    "start_time": "2023-04-16T06:53:01.957Z"
   },
   {
    "duration": 502,
    "start_time": "2023-04-16T06:53:01.963Z"
   },
   {
    "duration": 4,
    "start_time": "2023-04-16T06:53:02.468Z"
   },
   {
    "duration": 475,
    "start_time": "2023-04-16T06:53:02.473Z"
   },
   {
    "duration": 127,
    "start_time": "2023-04-16T06:53:02.951Z"
   },
   {
    "duration": 53,
    "start_time": "2023-04-16T06:53:03.079Z"
   },
   {
    "duration": 36,
    "start_time": "2023-04-16T06:53:03.134Z"
   },
   {
    "duration": 121,
    "start_time": "2023-04-16T06:53:03.172Z"
   },
   {
    "duration": 123,
    "start_time": "2023-04-16T06:53:03.296Z"
   },
   {
    "duration": 141,
    "start_time": "2023-04-16T06:53:03.421Z"
   },
   {
    "duration": 13,
    "start_time": "2023-04-16T06:53:03.564Z"
   },
   {
    "duration": 27,
    "start_time": "2023-04-16T06:53:03.579Z"
   },
   {
    "duration": 22,
    "start_time": "2023-04-16T06:53:03.608Z"
   },
   {
    "duration": 40,
    "start_time": "2023-04-16T06:53:03.631Z"
   },
   {
    "duration": 15,
    "start_time": "2023-04-16T06:53:03.672Z"
   },
   {
    "duration": 71,
    "start_time": "2023-04-16T06:53:03.689Z"
   },
   {
    "duration": 45,
    "start_time": "2023-04-16T06:53:03.762Z"
   },
   {
    "duration": 4,
    "start_time": "2023-04-16T06:53:03.809Z"
   },
   {
    "duration": 22,
    "start_time": "2023-04-16T06:53:03.815Z"
   },
   {
    "duration": 28,
    "start_time": "2023-04-16T06:53:03.839Z"
   },
   {
    "duration": 103,
    "start_time": "2023-04-16T06:53:03.869Z"
   },
   {
    "duration": 5,
    "start_time": "2023-04-16T06:54:13.912Z"
   },
   {
    "duration": 886,
    "start_time": "2023-04-16T06:54:13.920Z"
   },
   {
    "duration": 26,
    "start_time": "2023-04-16T06:54:14.808Z"
   },
   {
    "duration": 215,
    "start_time": "2023-04-16T06:54:14.840Z"
   },
   {
    "duration": 21,
    "start_time": "2023-04-16T06:54:15.057Z"
   },
   {
    "duration": 160,
    "start_time": "2023-04-16T06:54:15.080Z"
   },
   {
    "duration": 402,
    "start_time": "2023-04-16T06:54:15.241Z"
   },
   {
    "duration": 429,
    "start_time": "2023-04-16T06:54:15.645Z"
   },
   {
    "duration": 7,
    "start_time": "2023-04-16T06:54:16.076Z"
   },
   {
    "duration": 463,
    "start_time": "2023-04-16T06:54:16.087Z"
   },
   {
    "duration": 3,
    "start_time": "2023-04-16T06:54:16.553Z"
   },
   {
    "duration": 468,
    "start_time": "2023-04-16T06:54:16.557Z"
   },
   {
    "duration": 134,
    "start_time": "2023-04-16T06:54:17.027Z"
   },
   {
    "duration": 44,
    "start_time": "2023-04-16T06:54:17.163Z"
   },
   {
    "duration": 23,
    "start_time": "2023-04-16T06:54:17.209Z"
   },
   {
    "duration": 101,
    "start_time": "2023-04-16T06:54:17.234Z"
   },
   {
    "duration": 92,
    "start_time": "2023-04-16T06:54:17.336Z"
   },
   {
    "duration": 18,
    "start_time": "2023-04-16T06:54:17.430Z"
   },
   {
    "duration": 5,
    "start_time": "2023-04-16T06:54:17.450Z"
   },
   {
    "duration": 30,
    "start_time": "2023-04-16T06:54:17.457Z"
   },
   {
    "duration": 22,
    "start_time": "2023-04-16T06:54:17.489Z"
   },
   {
    "duration": 14,
    "start_time": "2023-04-16T06:54:17.513Z"
   },
   {
    "duration": 3,
    "start_time": "2023-04-16T06:54:17.528Z"
   },
   {
    "duration": 36,
    "start_time": "2023-04-16T06:54:17.533Z"
   },
   {
    "duration": 50,
    "start_time": "2023-04-16T06:54:17.571Z"
   },
   {
    "duration": 3,
    "start_time": "2023-04-16T06:54:17.623Z"
   },
   {
    "duration": 11,
    "start_time": "2023-04-16T06:54:17.628Z"
   },
   {
    "duration": 10,
    "start_time": "2023-04-16T06:54:17.640Z"
   },
   {
    "duration": 52,
    "start_time": "2023-04-16T06:54:17.653Z"
   },
   {
    "duration": 7,
    "start_time": "2023-04-16T06:57:13.450Z"
   },
   {
    "duration": 19,
    "start_time": "2023-04-16T06:57:33.986Z"
   },
   {
    "duration": 11,
    "start_time": "2023-04-16T07:00:58.113Z"
   },
   {
    "duration": 52,
    "start_time": "2023-04-16T07:01:10.798Z"
   },
   {
    "duration": 11,
    "start_time": "2023-04-16T07:05:19.569Z"
   },
   {
    "duration": 82,
    "start_time": "2023-04-16T07:05:26.081Z"
   },
   {
    "duration": 85,
    "start_time": "2023-04-16T07:05:34.002Z"
   },
   {
    "duration": 72,
    "start_time": "2023-04-16T07:07:23.404Z"
   },
   {
    "duration": 1010,
    "start_time": "2023-04-16T07:07:56.845Z"
   },
   {
    "duration": 12,
    "start_time": "2023-04-16T07:08:29.722Z"
   },
   {
    "duration": 14,
    "start_time": "2023-04-16T07:08:41.047Z"
   },
   {
    "duration": 4,
    "start_time": "2023-04-16T07:10:36.136Z"
   },
   {
    "duration": 15,
    "start_time": "2023-04-16T07:10:48.216Z"
   },
   {
    "duration": 13,
    "start_time": "2023-04-16T07:11:57.954Z"
   },
   {
    "duration": 14,
    "start_time": "2023-04-16T07:13:16.276Z"
   },
   {
    "duration": 13,
    "start_time": "2023-04-16T07:13:38.652Z"
   },
   {
    "duration": 11,
    "start_time": "2023-04-16T07:15:28.070Z"
   },
   {
    "duration": 10,
    "start_time": "2023-04-16T07:16:42.559Z"
   },
   {
    "duration": 12,
    "start_time": "2023-04-16T07:17:38.792Z"
   },
   {
    "duration": 12,
    "start_time": "2023-04-16T07:22:52.951Z"
   },
   {
    "duration": 10,
    "start_time": "2023-04-16T07:24:00.005Z"
   },
   {
    "duration": 4,
    "start_time": "2023-04-16T07:24:10.323Z"
   },
   {
    "duration": 770,
    "start_time": "2023-04-16T07:24:10.329Z"
   },
   {
    "duration": 14,
    "start_time": "2023-04-16T07:24:11.101Z"
   },
   {
    "duration": 149,
    "start_time": "2023-04-16T07:24:11.116Z"
   },
   {
    "duration": 4,
    "start_time": "2023-04-16T07:24:11.268Z"
   },
   {
    "duration": 153,
    "start_time": "2023-04-16T07:24:11.274Z"
   },
   {
    "duration": 429,
    "start_time": "2023-04-16T07:24:11.429Z"
   },
   {
    "duration": 437,
    "start_time": "2023-04-16T07:24:11.860Z"
   },
   {
    "duration": 3,
    "start_time": "2023-04-16T07:24:12.299Z"
   },
   {
    "duration": 472,
    "start_time": "2023-04-16T07:24:12.304Z"
   },
   {
    "duration": 6,
    "start_time": "2023-04-16T07:24:12.778Z"
   },
   {
    "duration": 460,
    "start_time": "2023-04-16T07:24:12.785Z"
   },
   {
    "duration": 137,
    "start_time": "2023-04-16T07:24:13.247Z"
   },
   {
    "duration": 23,
    "start_time": "2023-04-16T07:24:13.385Z"
   },
   {
    "duration": 35,
    "start_time": "2023-04-16T07:24:13.410Z"
   },
   {
    "duration": 101,
    "start_time": "2023-04-16T07:24:13.447Z"
   },
   {
    "duration": 95,
    "start_time": "2023-04-16T07:24:13.550Z"
   },
   {
    "duration": 18,
    "start_time": "2023-04-16T07:24:13.647Z"
   },
   {
    "duration": 6,
    "start_time": "2023-04-16T07:24:13.684Z"
   },
   {
    "duration": 8,
    "start_time": "2023-04-16T07:24:13.692Z"
   },
   {
    "duration": 3,
    "start_time": "2023-04-16T07:24:13.702Z"
   },
   {
    "duration": 12,
    "start_time": "2023-04-16T07:24:13.707Z"
   },
   {
    "duration": 10,
    "start_time": "2023-04-16T07:24:13.721Z"
   },
   {
    "duration": 74,
    "start_time": "2023-04-16T07:24:13.733Z"
   },
   {
    "duration": 38,
    "start_time": "2023-04-16T07:24:13.809Z"
   },
   {
    "duration": 4,
    "start_time": "2023-04-16T07:24:13.849Z"
   },
   {
    "duration": 6,
    "start_time": "2023-04-16T07:24:13.855Z"
   },
   {
    "duration": 3,
    "start_time": "2023-04-16T07:24:13.884Z"
   },
   {
    "duration": 37,
    "start_time": "2023-04-16T07:24:13.890Z"
   },
   {
    "duration": 8,
    "start_time": "2023-04-16T07:24:19.814Z"
   },
   {
    "duration": 41,
    "start_time": "2023-04-16T07:24:32.455Z"
   },
   {
    "duration": 15,
    "start_time": "2023-04-16T07:35:37.158Z"
   },
   {
    "duration": 4,
    "start_time": "2023-04-16T07:35:47.976Z"
   },
   {
    "duration": 788,
    "start_time": "2023-04-16T07:35:47.982Z"
   },
   {
    "duration": 18,
    "start_time": "2023-04-16T07:35:48.772Z"
   },
   {
    "duration": 151,
    "start_time": "2023-04-16T07:35:48.792Z"
   },
   {
    "duration": 24,
    "start_time": "2023-04-16T07:35:48.945Z"
   },
   {
    "duration": 158,
    "start_time": "2023-04-16T07:35:48.971Z"
   },
   {
    "duration": 433,
    "start_time": "2023-04-16T07:35:49.131Z"
   },
   {
    "duration": 420,
    "start_time": "2023-04-16T07:35:49.566Z"
   },
   {
    "duration": 3,
    "start_time": "2023-04-16T07:35:49.988Z"
   },
   {
    "duration": 451,
    "start_time": "2023-04-16T07:35:49.993Z"
   },
   {
    "duration": 4,
    "start_time": "2023-04-16T07:35:50.446Z"
   },
   {
    "duration": 461,
    "start_time": "2023-04-16T07:35:50.451Z"
   },
   {
    "duration": 135,
    "start_time": "2023-04-16T07:35:50.914Z"
   },
   {
    "duration": 51,
    "start_time": "2023-04-16T07:35:51.051Z"
   },
   {
    "duration": 36,
    "start_time": "2023-04-16T07:35:51.105Z"
   },
   {
    "duration": 97,
    "start_time": "2023-04-16T07:35:51.143Z"
   },
   {
    "duration": 81,
    "start_time": "2023-04-16T07:35:51.242Z"
   },
   {
    "duration": 18,
    "start_time": "2023-04-16T07:35:51.325Z"
   },
   {
    "duration": 20,
    "start_time": "2023-04-16T07:35:51.345Z"
   },
   {
    "duration": 40,
    "start_time": "2023-04-16T07:35:51.367Z"
   },
   {
    "duration": 35,
    "start_time": "2023-04-16T07:35:51.409Z"
   },
   {
    "duration": 31,
    "start_time": "2023-04-16T07:35:51.446Z"
   },
   {
    "duration": 34,
    "start_time": "2023-04-16T07:35:51.479Z"
   },
   {
    "duration": 61,
    "start_time": "2023-04-16T07:35:51.515Z"
   },
   {
    "duration": 41,
    "start_time": "2023-04-16T07:35:51.578Z"
   },
   {
    "duration": 5,
    "start_time": "2023-04-16T07:35:51.620Z"
   },
   {
    "duration": 35,
    "start_time": "2023-04-16T07:35:51.626Z"
   },
   {
    "duration": 27,
    "start_time": "2023-04-16T07:35:51.663Z"
   },
   {
    "duration": 53,
    "start_time": "2023-04-16T07:35:51.694Z"
   },
   {
    "duration": 28,
    "start_time": "2023-04-16T07:35:51.749Z"
   },
   {
    "duration": 29,
    "start_time": "2023-04-16T07:35:51.779Z"
   },
   {
    "duration": 15,
    "start_time": "2023-04-16T07:36:01.830Z"
   },
   {
    "duration": 46,
    "start_time": "2023-04-16T07:36:14.053Z"
   },
   {
    "duration": 14,
    "start_time": "2023-04-16T07:42:00.524Z"
   },
   {
    "duration": 78,
    "start_time": "2023-04-16T07:42:22.973Z"
   },
   {
    "duration": 4,
    "start_time": "2023-04-16T07:50:24.650Z"
   },
   {
    "duration": 828,
    "start_time": "2023-04-16T07:50:24.656Z"
   },
   {
    "duration": 13,
    "start_time": "2023-04-16T07:50:25.485Z"
   },
   {
    "duration": 142,
    "start_time": "2023-04-16T07:50:25.500Z"
   },
   {
    "duration": 4,
    "start_time": "2023-04-16T07:50:25.645Z"
   },
   {
    "duration": 172,
    "start_time": "2023-04-16T07:50:25.651Z"
   },
   {
    "duration": 395,
    "start_time": "2023-04-16T07:50:25.825Z"
   },
   {
    "duration": 399,
    "start_time": "2023-04-16T07:50:26.222Z"
   },
   {
    "duration": 5,
    "start_time": "2023-04-16T07:50:26.623Z"
   },
   {
    "duration": 462,
    "start_time": "2023-04-16T07:50:26.630Z"
   },
   {
    "duration": 5,
    "start_time": "2023-04-16T07:50:27.096Z"
   },
   {
    "duration": 445,
    "start_time": "2023-04-16T07:50:27.102Z"
   },
   {
    "duration": 143,
    "start_time": "2023-04-16T07:50:27.549Z"
   },
   {
    "duration": 35,
    "start_time": "2023-04-16T07:50:27.694Z"
   },
   {
    "duration": 29,
    "start_time": "2023-04-16T07:50:27.730Z"
   },
   {
    "duration": 95,
    "start_time": "2023-04-16T07:50:27.761Z"
   },
   {
    "duration": 82,
    "start_time": "2023-04-16T07:50:27.857Z"
   },
   {
    "duration": 24,
    "start_time": "2023-04-16T07:50:27.941Z"
   },
   {
    "duration": 20,
    "start_time": "2023-04-16T07:50:27.968Z"
   },
   {
    "duration": 22,
    "start_time": "2023-04-16T07:50:27.989Z"
   },
   {
    "duration": 23,
    "start_time": "2023-04-16T07:50:28.013Z"
   },
   {
    "duration": 38,
    "start_time": "2023-04-16T07:50:28.038Z"
   },
   {
    "duration": 19,
    "start_time": "2023-04-16T07:50:28.078Z"
   },
   {
    "duration": 83,
    "start_time": "2023-04-16T07:50:28.099Z"
   },
   {
    "duration": 37,
    "start_time": "2023-04-16T07:50:28.184Z"
   },
   {
    "duration": 6,
    "start_time": "2023-04-16T07:50:28.223Z"
   },
   {
    "duration": 26,
    "start_time": "2023-04-16T07:50:28.230Z"
   },
   {
    "duration": 30,
    "start_time": "2023-04-16T07:50:28.258Z"
   },
   {
    "duration": 25,
    "start_time": "2023-04-16T07:50:28.292Z"
   },
   {
    "duration": 27,
    "start_time": "2023-04-16T07:50:28.318Z"
   },
   {
    "duration": 93,
    "start_time": "2023-04-16T07:50:28.347Z"
   },
   {
    "duration": 145,
    "start_time": "2023-04-16T07:50:28.441Z"
   },
   {
    "duration": 139,
    "start_time": "2023-04-16T07:50:28.588Z"
   },
   {
    "duration": 22,
    "start_time": "2023-04-16T07:50:28.728Z"
   },
   {
    "duration": 15,
    "start_time": "2023-04-16T07:50:28.752Z"
   },
   {
    "duration": 54,
    "start_time": "2023-04-16T07:50:28.768Z"
   },
   {
    "duration": 35,
    "start_time": "2023-04-16T07:50:28.824Z"
   },
   {
    "duration": 4,
    "start_time": "2023-04-16T07:50:28.860Z"
   },
   {
    "duration": 41,
    "start_time": "2023-04-16T07:50:28.866Z"
   },
   {
    "duration": 13,
    "start_time": "2023-04-16T07:50:28.909Z"
   },
   {
    "duration": 64,
    "start_time": "2023-04-16T07:50:28.924Z"
   },
   {
    "duration": 4,
    "start_time": "2023-04-16T07:50:28.989Z"
   },
   {
    "duration": 50,
    "start_time": "2023-04-16T07:50:28.995Z"
   },
   {
    "duration": 4,
    "start_time": "2023-04-16T07:51:17.782Z"
   },
   {
    "duration": 4,
    "start_time": "2023-04-16T07:51:25.821Z"
   },
   {
    "duration": 787,
    "start_time": "2023-04-16T07:51:25.828Z"
   },
   {
    "duration": 12,
    "start_time": "2023-04-16T07:51:26.617Z"
   },
   {
    "duration": 129,
    "start_time": "2023-04-16T07:51:26.631Z"
   },
   {
    "duration": 7,
    "start_time": "2023-04-16T07:51:26.762Z"
   },
   {
    "duration": 136,
    "start_time": "2023-04-16T07:51:26.770Z"
   },
   {
    "duration": 376,
    "start_time": "2023-04-16T07:51:26.908Z"
   },
   {
    "duration": 396,
    "start_time": "2023-04-16T07:51:27.285Z"
   },
   {
    "duration": 73,
    "start_time": "2023-04-16T07:51:27.684Z"
   },
   {
    "duration": 428,
    "start_time": "2023-04-16T07:51:27.759Z"
   },
   {
    "duration": 4,
    "start_time": "2023-04-16T07:51:28.189Z"
   },
   {
    "duration": 433,
    "start_time": "2023-04-16T07:51:28.194Z"
   },
   {
    "duration": 126,
    "start_time": "2023-04-16T07:51:28.629Z"
   },
   {
    "duration": 35,
    "start_time": "2023-04-16T07:51:28.757Z"
   },
   {
    "duration": 24,
    "start_time": "2023-04-16T07:51:28.794Z"
   },
   {
    "duration": 96,
    "start_time": "2023-04-16T07:51:28.820Z"
   },
   {
    "duration": 80,
    "start_time": "2023-04-16T07:51:28.918Z"
   },
   {
    "duration": 17,
    "start_time": "2023-04-16T07:51:28.999Z"
   },
   {
    "duration": 13,
    "start_time": "2023-04-16T07:51:29.017Z"
   },
   {
    "duration": 13,
    "start_time": "2023-04-16T07:51:29.031Z"
   },
   {
    "duration": 20,
    "start_time": "2023-04-16T07:51:29.045Z"
   },
   {
    "duration": 34,
    "start_time": "2023-04-16T07:51:29.067Z"
   },
   {
    "duration": 24,
    "start_time": "2023-04-16T07:51:29.102Z"
   },
   {
    "duration": 53,
    "start_time": "2023-04-16T07:51:29.129Z"
   },
   {
    "duration": 33,
    "start_time": "2023-04-16T07:51:29.183Z"
   },
   {
    "duration": 4,
    "start_time": "2023-04-16T07:51:29.218Z"
   },
   {
    "duration": 25,
    "start_time": "2023-04-16T07:51:29.223Z"
   },
   {
    "duration": 43,
    "start_time": "2023-04-16T07:51:29.250Z"
   },
   {
    "duration": 36,
    "start_time": "2023-04-16T07:51:29.294Z"
   },
   {
    "duration": 17,
    "start_time": "2023-04-16T07:51:29.332Z"
   },
   {
    "duration": 81,
    "start_time": "2023-04-16T07:51:29.351Z"
   },
   {
    "duration": 115,
    "start_time": "2023-04-16T07:51:29.434Z"
   },
   {
    "duration": 134,
    "start_time": "2023-04-16T07:51:29.551Z"
   },
   {
    "duration": 20,
    "start_time": "2023-04-16T07:51:29.686Z"
   },
   {
    "duration": 4,
    "start_time": "2023-04-16T07:51:29.708Z"
   },
   {
    "duration": 24,
    "start_time": "2023-04-16T07:51:29.713Z"
   },
   {
    "duration": 77,
    "start_time": "2023-04-16T07:52:58.320Z"
   },
   {
    "duration": 1538,
    "start_time": "2023-04-16T07:59:35.271Z"
   },
   {
    "duration": 14,
    "start_time": "2023-04-16T07:59:46.408Z"
   },
   {
    "duration": 20,
    "start_time": "2023-04-16T08:01:10.554Z"
   },
   {
    "duration": 18,
    "start_time": "2023-04-16T08:01:44.106Z"
   },
   {
    "duration": 6,
    "start_time": "2023-04-16T08:01:57.011Z"
   },
   {
    "duration": 32,
    "start_time": "2023-04-16T08:02:10.491Z"
   },
   {
    "duration": 37,
    "start_time": "2023-04-16T08:02:25.074Z"
   },
   {
    "duration": 36,
    "start_time": "2023-04-16T08:02:57.125Z"
   },
   {
    "duration": 22,
    "start_time": "2023-04-16T08:03:03.980Z"
   },
   {
    "duration": 10,
    "start_time": "2023-04-16T08:03:13.740Z"
   },
   {
    "duration": 66,
    "start_time": "2023-04-16T08:03:40.493Z"
   },
   {
    "duration": 49,
    "start_time": "2023-04-16T08:03:49.078Z"
   },
   {
    "duration": 22,
    "start_time": "2023-04-16T08:04:12.813Z"
   },
   {
    "duration": 12,
    "start_time": "2023-04-16T08:04:28.254Z"
   },
   {
    "duration": 35,
    "start_time": "2023-04-16T08:05:59.488Z"
   },
   {
    "duration": 25,
    "start_time": "2023-04-16T08:06:40.712Z"
   },
   {
    "duration": 51,
    "start_time": "2023-04-16T08:06:50.041Z"
   },
   {
    "duration": 33,
    "start_time": "2023-04-16T08:08:32.258Z"
   },
   {
    "duration": 18,
    "start_time": "2023-04-16T08:08:33.580Z"
   },
   {
    "duration": 13,
    "start_time": "2023-04-16T08:09:12.070Z"
   },
   {
    "duration": 12,
    "start_time": "2023-04-16T08:10:17.173Z"
   },
   {
    "duration": 12,
    "start_time": "2023-04-16T08:11:02.893Z"
   },
   {
    "duration": 25,
    "start_time": "2023-04-16T08:11:26.030Z"
   },
   {
    "duration": 10,
    "start_time": "2023-04-16T08:34:26.472Z"
   },
   {
    "duration": 12,
    "start_time": "2023-04-16T08:34:41.275Z"
   },
   {
    "duration": 480,
    "start_time": "2023-04-16T08:34:51.545Z"
   },
   {
    "duration": 137,
    "start_time": "2023-04-16T08:36:10.579Z"
   },
   {
    "duration": 76,
    "start_time": "2023-04-16T08:36:54.212Z"
   },
   {
    "duration": 4,
    "start_time": "2023-04-16T08:37:07.281Z"
   },
   {
    "duration": 818,
    "start_time": "2023-04-16T08:37:07.287Z"
   },
   {
    "duration": 13,
    "start_time": "2023-04-16T08:37:08.107Z"
   },
   {
    "duration": 180,
    "start_time": "2023-04-16T08:37:08.122Z"
   },
   {
    "duration": 3,
    "start_time": "2023-04-16T08:37:08.304Z"
   },
   {
    "duration": 161,
    "start_time": "2023-04-16T08:37:08.309Z"
   },
   {
    "duration": 399,
    "start_time": "2023-04-16T08:37:08.472Z"
   },
   {
    "duration": 412,
    "start_time": "2023-04-16T08:37:08.872Z"
   },
   {
    "duration": 4,
    "start_time": "2023-04-16T08:37:09.285Z"
   },
   {
    "duration": 473,
    "start_time": "2023-04-16T08:37:09.291Z"
   },
   {
    "duration": 4,
    "start_time": "2023-04-16T08:37:09.768Z"
   },
   {
    "duration": 506,
    "start_time": "2023-04-16T08:37:09.783Z"
   },
   {
    "duration": 138,
    "start_time": "2023-04-16T08:37:10.291Z"
   },
   {
    "duration": 22,
    "start_time": "2023-04-16T08:37:10.431Z"
   },
   {
    "duration": 45,
    "start_time": "2023-04-16T08:37:10.455Z"
   },
   {
    "duration": 116,
    "start_time": "2023-04-16T08:37:10.501Z"
   },
   {
    "duration": 87,
    "start_time": "2023-04-16T08:37:10.619Z"
   },
   {
    "duration": 20,
    "start_time": "2023-04-16T08:37:10.708Z"
   },
   {
    "duration": 9,
    "start_time": "2023-04-16T08:37:10.729Z"
   },
   {
    "duration": 8,
    "start_time": "2023-04-16T08:37:10.740Z"
   },
   {
    "duration": 35,
    "start_time": "2023-04-16T08:37:10.750Z"
   },
   {
    "duration": 11,
    "start_time": "2023-04-16T08:37:10.786Z"
   },
   {
    "duration": 11,
    "start_time": "2023-04-16T08:37:10.799Z"
   },
   {
    "duration": 38,
    "start_time": "2023-04-16T08:37:10.812Z"
   },
   {
    "duration": 50,
    "start_time": "2023-04-16T08:37:10.852Z"
   },
   {
    "duration": 4,
    "start_time": "2023-04-16T08:37:10.904Z"
   },
   {
    "duration": 31,
    "start_time": "2023-04-16T08:37:10.911Z"
   },
   {
    "duration": 11,
    "start_time": "2023-04-16T08:37:10.944Z"
   },
   {
    "duration": 12,
    "start_time": "2023-04-16T08:37:10.959Z"
   },
   {
    "duration": 26,
    "start_time": "2023-04-16T08:37:10.973Z"
   },
   {
    "duration": 96,
    "start_time": "2023-04-16T08:37:11.001Z"
   },
   {
    "duration": 137,
    "start_time": "2023-04-16T08:37:11.099Z"
   },
   {
    "duration": 150,
    "start_time": "2023-04-16T08:37:11.237Z"
   },
   {
    "duration": 23,
    "start_time": "2023-04-16T08:37:11.389Z"
   },
   {
    "duration": 8,
    "start_time": "2023-04-16T08:37:11.413Z"
   },
   {
    "duration": 17,
    "start_time": "2023-04-16T08:37:11.422Z"
   },
   {
    "duration": 52,
    "start_time": "2023-04-16T08:37:11.441Z"
   },
   {
    "duration": 40,
    "start_time": "2023-04-16T08:37:11.495Z"
   },
   {
    "duration": 5,
    "start_time": "2023-04-16T08:37:11.537Z"
   },
   {
    "duration": 44,
    "start_time": "2023-04-16T08:37:11.543Z"
   },
   {
    "duration": 4,
    "start_time": "2023-04-16T08:37:11.588Z"
   },
   {
    "duration": 59,
    "start_time": "2023-04-16T08:37:11.594Z"
   },
   {
    "duration": 5,
    "start_time": "2023-04-16T08:37:11.654Z"
   },
   {
    "duration": 40,
    "start_time": "2023-04-16T08:37:11.661Z"
   },
   {
    "duration": 29,
    "start_time": "2023-04-16T08:37:11.703Z"
   },
   {
    "duration": 18,
    "start_time": "2023-04-16T08:37:11.734Z"
   },
   {
    "duration": 3,
    "start_time": "2023-04-16T08:37:11.753Z"
   },
   {
    "duration": 39,
    "start_time": "2023-04-16T08:37:11.757Z"
   },
   {
    "duration": 0,
    "start_time": "2023-04-16T08:37:11.798Z"
   },
   {
    "duration": 0,
    "start_time": "2023-04-16T08:37:11.799Z"
   },
   {
    "duration": 0,
    "start_time": "2023-04-16T08:37:11.800Z"
   },
   {
    "duration": 0,
    "start_time": "2023-04-16T08:37:11.801Z"
   },
   {
    "duration": 0,
    "start_time": "2023-04-16T08:37:11.802Z"
   },
   {
    "duration": 0,
    "start_time": "2023-04-16T08:37:11.803Z"
   },
   {
    "duration": 0,
    "start_time": "2023-04-16T08:37:11.805Z"
   },
   {
    "duration": 0,
    "start_time": "2023-04-16T08:37:11.806Z"
   },
   {
    "duration": 0,
    "start_time": "2023-04-16T08:37:11.807Z"
   },
   {
    "duration": 0,
    "start_time": "2023-04-16T08:37:11.808Z"
   },
   {
    "duration": 0,
    "start_time": "2023-04-16T08:37:11.810Z"
   },
   {
    "duration": 0,
    "start_time": "2023-04-16T08:37:11.811Z"
   },
   {
    "duration": 0,
    "start_time": "2023-04-16T08:37:11.812Z"
   },
   {
    "duration": 69,
    "start_time": "2023-04-16T08:37:22.308Z"
   },
   {
    "duration": 24,
    "start_time": "2023-04-16T08:49:57.466Z"
   },
   {
    "duration": 81,
    "start_time": "2023-04-16T08:51:17.276Z"
   },
   {
    "duration": 84,
    "start_time": "2023-04-16T08:52:01.988Z"
   },
   {
    "duration": 63,
    "start_time": "2023-04-16T08:52:11.557Z"
   },
   {
    "duration": 14,
    "start_time": "2023-04-16T08:52:36.253Z"
   },
   {
    "duration": 15,
    "start_time": "2023-04-16T08:52:58.157Z"
   },
   {
    "duration": 10,
    "start_time": "2023-04-16T08:53:09.454Z"
   },
   {
    "duration": 10,
    "start_time": "2023-04-16T08:53:28.502Z"
   },
   {
    "duration": 11,
    "start_time": "2023-04-16T08:53:34.710Z"
   },
   {
    "duration": 9,
    "start_time": "2023-04-16T08:53:41.006Z"
   },
   {
    "duration": 12,
    "start_time": "2023-04-16T08:55:00.529Z"
   },
   {
    "duration": 10,
    "start_time": "2023-04-16T08:55:07.663Z"
   },
   {
    "duration": 27,
    "start_time": "2023-04-16T08:55:19.479Z"
   },
   {
    "duration": 10,
    "start_time": "2023-04-16T08:55:37.129Z"
   },
   {
    "duration": 9,
    "start_time": "2023-04-16T08:55:41.968Z"
   },
   {
    "duration": 10,
    "start_time": "2023-04-16T08:56:19.546Z"
   },
   {
    "duration": 10,
    "start_time": "2023-04-16T08:57:32.284Z"
   },
   {
    "duration": 10,
    "start_time": "2023-04-16T08:57:39.211Z"
   },
   {
    "duration": 37,
    "start_time": "2023-04-16T08:58:28.387Z"
   },
   {
    "duration": 87,
    "start_time": "2023-04-16T08:58:40.382Z"
   },
   {
    "duration": 90,
    "start_time": "2023-04-16T08:59:02.652Z"
   },
   {
    "duration": 327,
    "start_time": "2023-04-16T09:00:24.758Z"
   },
   {
    "duration": 257,
    "start_time": "2023-04-16T09:00:57.886Z"
   },
   {
    "duration": 305,
    "start_time": "2023-04-16T09:01:13.560Z"
   },
   {
    "duration": 13,
    "start_time": "2023-04-16T09:02:15.536Z"
   },
   {
    "duration": 12,
    "start_time": "2023-04-16T09:02:28.808Z"
   },
   {
    "duration": 83,
    "start_time": "2023-04-16T09:02:37.929Z"
   },
   {
    "duration": 99,
    "start_time": "2023-04-16T09:02:49.797Z"
   },
   {
    "duration": 3873,
    "start_time": "2023-04-16T09:03:02.353Z"
   },
   {
    "duration": 12,
    "start_time": "2023-04-16T09:17:10.234Z"
   },
   {
    "duration": 55,
    "start_time": "2023-04-16T09:17:21.874Z"
   },
   {
    "duration": 92,
    "start_time": "2023-04-16T09:18:16.435Z"
   },
   {
    "duration": 89,
    "start_time": "2023-04-16T09:18:45.279Z"
   },
   {
    "duration": 15,
    "start_time": "2023-04-16T09:21:57.801Z"
   },
   {
    "duration": 86,
    "start_time": "2023-04-16T09:22:11.774Z"
   },
   {
    "duration": 59,
    "start_time": "2023-04-16T09:22:27.615Z"
   },
   {
    "duration": 83,
    "start_time": "2023-04-16T09:23:17.544Z"
   },
   {
    "duration": 70,
    "start_time": "2023-04-16T09:23:36.367Z"
   },
   {
    "duration": 60,
    "start_time": "2023-04-16T09:23:44.512Z"
   },
   {
    "duration": 52,
    "start_time": "2023-04-16T09:23:50.408Z"
   },
   {
    "duration": 66,
    "start_time": "2023-04-16T09:23:56.847Z"
   },
   {
    "duration": 62,
    "start_time": "2023-04-16T09:24:25.041Z"
   },
   {
    "duration": 10,
    "start_time": "2023-04-16T09:24:57.946Z"
   },
   {
    "duration": 4,
    "start_time": "2023-04-16T09:26:04.219Z"
   },
   {
    "duration": 17,
    "start_time": "2023-04-16T09:26:10.930Z"
   },
   {
    "duration": 10,
    "start_time": "2023-04-16T09:26:25.050Z"
   },
   {
    "duration": 10,
    "start_time": "2023-04-16T09:27:25.205Z"
   },
   {
    "duration": 4,
    "start_time": "2023-04-16T09:31:32.761Z"
   },
   {
    "duration": 51,
    "start_time": "2023-04-16T09:31:37.699Z"
   },
   {
    "duration": 1288,
    "start_time": "2023-04-16T09:32:11.065Z"
   },
   {
    "duration": 11,
    "start_time": "2023-04-16T09:32:44.377Z"
   },
   {
    "duration": 1100,
    "start_time": "2023-04-16T09:41:09.972Z"
   },
   {
    "duration": 16,
    "start_time": "2023-04-16T09:42:06.044Z"
   },
   {
    "duration": 23,
    "start_time": "2023-04-16T09:42:16.893Z"
   },
   {
    "duration": 57,
    "start_time": "2023-04-16T09:42:23.515Z"
   },
   {
    "duration": 13,
    "start_time": "2023-04-16T09:42:24.645Z"
   },
   {
    "duration": 8,
    "start_time": "2023-04-16T09:42:34.219Z"
   },
   {
    "duration": 13,
    "start_time": "2023-04-16T09:47:08.441Z"
   },
   {
    "duration": 6,
    "start_time": "2023-04-16T09:47:39.370Z"
   },
   {
    "duration": 6,
    "start_time": "2023-04-16T09:47:46.714Z"
   },
   {
    "duration": 16,
    "start_time": "2023-04-16T09:48:09.388Z"
   },
   {
    "duration": 14,
    "start_time": "2023-04-16T09:50:32.166Z"
   },
   {
    "duration": 14,
    "start_time": "2023-04-16T09:50:45.742Z"
   },
   {
    "duration": 77,
    "start_time": "2023-04-16T09:56:42.365Z"
   },
   {
    "duration": 12,
    "start_time": "2023-04-16T09:56:43.604Z"
   },
   {
    "duration": 15,
    "start_time": "2023-04-16T09:57:16.690Z"
   },
   {
    "duration": 91,
    "start_time": "2023-04-16T10:02:57.076Z"
   },
   {
    "duration": 26,
    "start_time": "2023-04-16T10:02:57.675Z"
   },
   {
    "duration": 25,
    "start_time": "2023-04-16T10:03:07.941Z"
   },
   {
    "duration": 66,
    "start_time": "2023-04-16T10:08:05.800Z"
   },
   {
    "duration": 11,
    "start_time": "2023-04-16T10:08:25.738Z"
   },
   {
    "duration": 102,
    "start_time": "2023-04-16T10:08:43.799Z"
   },
   {
    "duration": 99,
    "start_time": "2023-04-16T10:09:12.244Z"
   },
   {
    "duration": 5,
    "start_time": "2023-04-16T10:09:17.223Z"
   },
   {
    "duration": 828,
    "start_time": "2023-04-16T10:09:17.230Z"
   },
   {
    "duration": 14,
    "start_time": "2023-04-16T10:09:18.060Z"
   },
   {
    "duration": 181,
    "start_time": "2023-04-16T10:09:18.083Z"
   },
   {
    "duration": 3,
    "start_time": "2023-04-16T10:09:18.266Z"
   },
   {
    "duration": 155,
    "start_time": "2023-04-16T10:09:18.271Z"
   },
   {
    "duration": 441,
    "start_time": "2023-04-16T10:09:18.427Z"
   },
   {
    "duration": 455,
    "start_time": "2023-04-16T10:09:18.870Z"
   },
   {
    "duration": 5,
    "start_time": "2023-04-16T10:09:19.328Z"
   },
   {
    "duration": 523,
    "start_time": "2023-04-16T10:09:19.334Z"
   },
   {
    "duration": 5,
    "start_time": "2023-04-16T10:09:19.860Z"
   },
   {
    "duration": 476,
    "start_time": "2023-04-16T10:09:19.867Z"
   },
   {
    "duration": 157,
    "start_time": "2023-04-16T10:09:20.345Z"
   },
   {
    "duration": 44,
    "start_time": "2023-04-16T10:09:20.504Z"
   },
   {
    "duration": 50,
    "start_time": "2023-04-16T10:09:20.550Z"
   },
   {
    "duration": 136,
    "start_time": "2023-04-16T10:09:20.603Z"
   },
   {
    "duration": 88,
    "start_time": "2023-04-16T10:09:20.741Z"
   },
   {
    "duration": 19,
    "start_time": "2023-04-16T10:09:20.830Z"
   },
   {
    "duration": 22,
    "start_time": "2023-04-16T10:09:20.851Z"
   },
   {
    "duration": 42,
    "start_time": "2023-04-16T10:09:20.875Z"
   },
   {
    "duration": 6,
    "start_time": "2023-04-16T10:09:20.919Z"
   },
   {
    "duration": 23,
    "start_time": "2023-04-16T10:09:20.927Z"
   },
   {
    "duration": 21,
    "start_time": "2023-04-16T10:09:20.952Z"
   },
   {
    "duration": 61,
    "start_time": "2023-04-16T10:09:20.977Z"
   },
   {
    "duration": 37,
    "start_time": "2023-04-16T10:09:21.041Z"
   },
   {
    "duration": 13,
    "start_time": "2023-04-16T10:09:21.081Z"
   },
   {
    "duration": 113,
    "start_time": "2023-04-16T10:09:21.105Z"
   },
   {
    "duration": 101,
    "start_time": "2023-04-16T10:09:21.220Z"
   },
   {
    "duration": 20,
    "start_time": "2023-04-16T10:09:25.108Z"
   },
   {
    "duration": 108,
    "start_time": "2023-04-16T10:09:41.131Z"
   },
   {
    "duration": 14,
    "start_time": "2023-04-16T10:09:42.202Z"
   },
   {
    "duration": 101,
    "start_time": "2023-04-16T10:09:53.348Z"
   },
   {
    "duration": 14,
    "start_time": "2023-04-16T10:09:54.123Z"
   },
   {
    "duration": 118,
    "start_time": "2023-04-16T10:10:00.115Z"
   },
   {
    "duration": 19,
    "start_time": "2023-04-16T10:10:00.492Z"
   },
   {
    "duration": 60,
    "start_time": "2023-04-16T10:15:38.745Z"
   },
   {
    "duration": 8,
    "start_time": "2023-04-16T10:15:49.390Z"
   },
   {
    "duration": 14,
    "start_time": "2023-04-16T10:16:42.682Z"
   },
   {
    "duration": 10,
    "start_time": "2023-04-16T10:16:48.331Z"
   },
   {
    "duration": 3,
    "start_time": "2023-04-16T10:16:58.234Z"
   },
   {
    "duration": 16,
    "start_time": "2023-04-16T10:16:58.692Z"
   },
   {
    "duration": 4,
    "start_time": "2023-04-16T10:17:16.644Z"
   },
   {
    "duration": 10,
    "start_time": "2023-04-16T10:18:19.949Z"
   },
   {
    "duration": 1326,
    "start_time": "2023-04-16T10:18:24.701Z"
   },
   {
    "duration": 2,
    "start_time": "2023-04-16T10:19:23.602Z"
   },
   {
    "duration": 2859,
    "start_time": "2023-04-16T10:19:24.262Z"
   },
   {
    "duration": 5,
    "start_time": "2023-04-16T10:23:10.810Z"
   },
   {
    "duration": 5,
    "start_time": "2023-04-16T10:23:17.642Z"
   },
   {
    "duration": 44,
    "start_time": "2023-04-16T10:23:41.232Z"
   },
   {
    "duration": 6,
    "start_time": "2023-04-16T10:23:51.642Z"
   },
   {
    "duration": 2,
    "start_time": "2023-04-16T10:24:20.321Z"
   },
   {
    "duration": 4,
    "start_time": "2023-04-16T10:25:22.926Z"
   },
   {
    "duration": 6,
    "start_time": "2023-04-16T10:25:47.446Z"
   },
   {
    "duration": 6,
    "start_time": "2023-04-16T10:26:33.899Z"
   },
   {
    "duration": 4,
    "start_time": "2023-04-16T10:26:57.255Z"
   },
   {
    "duration": 4,
    "start_time": "2023-04-16T10:27:26.982Z"
   },
   {
    "duration": 461090,
    "start_time": "2023-04-16T10:27:43.102Z"
   },
   {
    "duration": 4,
    "start_time": "2023-04-16T10:36:46.717Z"
   },
   {
    "duration": 6,
    "start_time": "2023-04-16T10:36:58.688Z"
   },
   {
    "duration": 765,
    "start_time": "2023-04-16T10:36:58.698Z"
   },
   {
    "duration": 25,
    "start_time": "2023-04-16T10:36:59.465Z"
   },
   {
    "duration": 146,
    "start_time": "2023-04-16T10:36:59.497Z"
   },
   {
    "duration": 3,
    "start_time": "2023-04-16T10:36:59.646Z"
   },
   {
    "duration": 162,
    "start_time": "2023-04-16T10:36:59.651Z"
   },
   {
    "duration": 483,
    "start_time": "2023-04-16T10:36:59.815Z"
   },
   {
    "duration": 495,
    "start_time": "2023-04-16T10:37:00.302Z"
   },
   {
    "duration": 13,
    "start_time": "2023-04-16T10:37:00.798Z"
   },
   {
    "duration": 504,
    "start_time": "2023-04-16T10:37:00.813Z"
   },
   {
    "duration": 6,
    "start_time": "2023-04-16T10:37:01.319Z"
   },
   {
    "duration": 476,
    "start_time": "2023-04-16T10:37:01.326Z"
   },
   {
    "duration": 133,
    "start_time": "2023-04-16T10:37:01.804Z"
   },
   {
    "duration": 28,
    "start_time": "2023-04-16T10:37:01.939Z"
   },
   {
    "duration": 51,
    "start_time": "2023-04-16T10:37:01.969Z"
   },
   {
    "duration": 99,
    "start_time": "2023-04-16T10:37:02.022Z"
   },
   {
    "duration": 99,
    "start_time": "2023-04-16T10:37:02.123Z"
   },
   {
    "duration": 20,
    "start_time": "2023-04-16T10:37:02.223Z"
   },
   {
    "duration": 7,
    "start_time": "2023-04-16T10:37:02.245Z"
   },
   {
    "duration": 55,
    "start_time": "2023-04-16T10:37:02.254Z"
   },
   {
    "duration": 5,
    "start_time": "2023-04-16T10:37:02.311Z"
   },
   {
    "duration": 16,
    "start_time": "2023-04-16T10:37:02.317Z"
   },
   {
    "duration": 14,
    "start_time": "2023-04-16T10:37:02.335Z"
   },
   {
    "duration": 51,
    "start_time": "2023-04-16T10:37:02.350Z"
   },
   {
    "duration": 36,
    "start_time": "2023-04-16T10:37:02.403Z"
   },
   {
    "duration": 4,
    "start_time": "2023-04-16T10:37:02.441Z"
   },
   {
    "duration": 109,
    "start_time": "2023-04-16T10:37:02.446Z"
   },
   {
    "duration": 82,
    "start_time": "2023-04-16T10:37:02.559Z"
   },
   {
    "duration": 0,
    "start_time": "2023-04-16T10:37:02.643Z"
   },
   {
    "duration": 0,
    "start_time": "2023-04-16T10:37:02.644Z"
   },
   {
    "duration": 0,
    "start_time": "2023-04-16T10:37:02.645Z"
   },
   {
    "duration": 3,
    "start_time": "2023-04-16T10:37:20.842Z"
   },
   {
    "duration": 108,
    "start_time": "2023-04-16T10:37:21.554Z"
   },
   {
    "duration": 13,
    "start_time": "2023-04-16T10:37:22.316Z"
   },
   {
    "duration": 7,
    "start_time": "2023-04-16T10:37:27.983Z"
   },
   {
    "duration": 44410,
    "start_time": "2023-04-16T10:37:29.122Z"
   },
   {
    "duration": 4,
    "start_time": "2023-04-16T10:38:17.027Z"
   },
   {
    "duration": 3,
    "start_time": "2023-04-16T10:38:37.835Z"
   },
   {
    "duration": 8,
    "start_time": "2023-04-16T10:38:44.255Z"
   },
   {
    "duration": 543,
    "start_time": "2023-04-16T10:38:53.599Z"
   },
   {
    "duration": 2,
    "start_time": "2023-04-16T10:39:06.628Z"
   },
   {
    "duration": 10,
    "start_time": "2023-04-16T10:39:12.103Z"
   },
   {
    "duration": 84,
    "start_time": "2023-04-16T10:39:19.235Z"
   },
   {
    "duration": 12,
    "start_time": "2023-04-16T10:39:19.715Z"
   },
   {
    "duration": 3,
    "start_time": "2023-04-16T10:39:32.905Z"
   },
   {
    "duration": 14,
    "start_time": "2023-04-16T10:39:37.453Z"
   },
   {
    "duration": 5644,
    "start_time": "2023-04-16T10:39:42.102Z"
   },
   {
    "duration": 3,
    "start_time": "2023-04-16T10:40:11.902Z"
   },
   {
    "duration": 15,
    "start_time": "2023-04-16T10:40:12.348Z"
   },
   {
    "duration": 5787,
    "start_time": "2023-04-16T10:40:19.013Z"
   },
   {
    "duration": 92,
    "start_time": "2023-04-16T10:40:46.437Z"
   },
   {
    "duration": 3,
    "start_time": "2023-04-16T10:41:20.102Z"
   },
   {
    "duration": 12,
    "start_time": "2023-04-16T10:41:27.710Z"
   },
   {
    "duration": 5761,
    "start_time": "2023-04-16T10:41:30.143Z"
   },
   {
    "duration": 82,
    "start_time": "2023-04-16T10:41:38.896Z"
   },
   {
    "duration": 7,
    "start_time": "2023-04-16T10:42:40.083Z"
   },
   {
    "duration": 825,
    "start_time": "2023-04-16T10:42:40.092Z"
   },
   {
    "duration": 12,
    "start_time": "2023-04-16T10:42:40.919Z"
   },
   {
    "duration": 140,
    "start_time": "2023-04-16T10:42:40.933Z"
   },
   {
    "duration": 12,
    "start_time": "2023-04-16T10:42:41.075Z"
   },
   {
    "duration": 152,
    "start_time": "2023-04-16T10:42:41.092Z"
   },
   {
    "duration": 440,
    "start_time": "2023-04-16T10:42:41.246Z"
   },
   {
    "duration": 470,
    "start_time": "2023-04-16T10:42:41.688Z"
   },
   {
    "duration": 4,
    "start_time": "2023-04-16T10:42:42.159Z"
   },
   {
    "duration": 505,
    "start_time": "2023-04-16T10:42:42.165Z"
   },
   {
    "duration": 14,
    "start_time": "2023-04-16T10:42:42.672Z"
   },
   {
    "duration": 459,
    "start_time": "2023-04-16T10:42:42.688Z"
   },
   {
    "duration": 150,
    "start_time": "2023-04-16T10:42:43.148Z"
   },
   {
    "duration": 30,
    "start_time": "2023-04-16T10:42:43.302Z"
   },
   {
    "duration": 32,
    "start_time": "2023-04-16T10:42:43.334Z"
   },
   {
    "duration": 110,
    "start_time": "2023-04-16T10:42:43.368Z"
   },
   {
    "duration": 73,
    "start_time": "2023-04-16T10:42:43.486Z"
   },
   {
    "duration": 33,
    "start_time": "2023-04-16T10:42:43.561Z"
   },
   {
    "duration": 8,
    "start_time": "2023-04-16T10:42:43.596Z"
   },
   {
    "duration": 16,
    "start_time": "2023-04-16T10:42:43.606Z"
   },
   {
    "duration": 6,
    "start_time": "2023-04-16T10:42:43.623Z"
   },
   {
    "duration": 18,
    "start_time": "2023-04-16T10:42:43.630Z"
   },
   {
    "duration": 9,
    "start_time": "2023-04-16T10:42:43.650Z"
   },
   {
    "duration": 43,
    "start_time": "2023-04-16T10:42:43.661Z"
   },
   {
    "duration": 40,
    "start_time": "2023-04-16T10:42:43.705Z"
   },
   {
    "duration": 4,
    "start_time": "2023-04-16T10:42:43.747Z"
   },
   {
    "duration": 119,
    "start_time": "2023-04-16T10:42:43.752Z"
   },
   {
    "duration": 12,
    "start_time": "2023-04-16T10:42:43.873Z"
   },
   {
    "duration": 93,
    "start_time": "2023-04-16T10:42:43.886Z"
   },
   {
    "duration": 19,
    "start_time": "2023-04-16T10:42:43.981Z"
   },
   {
    "duration": 7,
    "start_time": "2023-04-16T10:42:44.001Z"
   },
   {
    "duration": 15,
    "start_time": "2023-04-16T10:42:44.009Z"
   },
   {
    "duration": 9,
    "start_time": "2023-04-16T10:42:44.025Z"
   },
   {
    "duration": 51815,
    "start_time": "2023-04-16T10:42:44.036Z"
   },
   {
    "duration": 95,
    "start_time": "2023-04-16T10:43:35.853Z"
   },
   {
    "duration": 100,
    "start_time": "2023-04-16T10:57:11.115Z"
   },
   {
    "duration": 4,
    "start_time": "2023-04-16T10:58:44.911Z"
   },
   {
    "duration": 4,
    "start_time": "2023-04-16T10:59:21.814Z"
   },
   {
    "duration": 30,
    "start_time": "2023-04-16T11:11:34.137Z"
   },
   {
    "duration": 18,
    "start_time": "2023-04-16T11:11:48.793Z"
   },
   {
    "duration": 2,
    "start_time": "2023-04-16T11:12:10.537Z"
   },
   {
    "duration": 94,
    "start_time": "2023-04-16T11:12:11.300Z"
   },
   {
    "duration": 13,
    "start_time": "2023-04-16T11:12:12.256Z"
   },
   {
    "duration": 3,
    "start_time": "2023-04-16T11:12:14.931Z"
   },
   {
    "duration": 3,
    "start_time": "2023-04-16T11:12:23.801Z"
   },
   {
    "duration": 6,
    "start_time": "2023-04-16T11:12:24.908Z"
   },
   {
    "duration": 3,
    "start_time": "2023-04-16T11:12:25.215Z"
   },
   {
    "duration": 51740,
    "start_time": "2023-04-16T11:12:26.006Z"
   },
   {
    "duration": 23,
    "start_time": "2023-04-16T11:14:07.354Z"
   },
   {
    "duration": 20,
    "start_time": "2023-04-16T11:14:07.891Z"
   },
   {
    "duration": 157,
    "start_time": "2023-04-16T11:21:00.339Z"
   },
   {
    "duration": 97,
    "start_time": "2023-04-16T11:21:12.035Z"
   },
   {
    "duration": 24,
    "start_time": "2023-04-16T11:21:54.413Z"
   },
   {
    "duration": 97,
    "start_time": "2023-04-16T11:22:01.706Z"
   },
   {
    "duration": 11,
    "start_time": "2023-04-16T11:22:02.443Z"
   },
   {
    "duration": 4,
    "start_time": "2023-04-16T11:22:06.316Z"
   },
   {
    "duration": 52717,
    "start_time": "2023-04-16T11:22:16.405Z"
   },
   {
    "duration": 56,
    "start_time": "2023-04-16T11:23:34.917Z"
   },
   {
    "duration": 3,
    "start_time": "2023-04-16T11:23:58.002Z"
   },
   {
    "duration": 3,
    "start_time": "2023-04-16T11:23:59.422Z"
   },
   {
    "duration": 3,
    "start_time": "2023-04-16T11:24:01.202Z"
   },
   {
    "duration": 4,
    "start_time": "2023-04-16T11:24:36.039Z"
   },
   {
    "duration": 2,
    "start_time": "2023-04-16T11:24:36.919Z"
   },
   {
    "duration": 2,
    "start_time": "2023-04-16T11:24:37.246Z"
   },
   {
    "duration": 2788,
    "start_time": "2023-04-16T11:24:37.847Z"
   },
   {
    "duration": 132,
    "start_time": "2023-04-16T11:24:43.302Z"
   },
   {
    "duration": 147,
    "start_time": "2023-04-16T11:24:44.791Z"
   },
   {
    "duration": 204,
    "start_time": "2023-04-16T11:25:07.695Z"
   },
   {
    "duration": 119,
    "start_time": "2023-04-16T11:25:08.752Z"
   },
   {
    "duration": 30,
    "start_time": "2023-04-16T11:25:22.989Z"
   },
   {
    "duration": 39,
    "start_time": "2023-04-16T11:25:32.056Z"
   },
   {
    "duration": 23,
    "start_time": "2023-04-16T11:25:32.604Z"
   },
   {
    "duration": 4,
    "start_time": "2023-04-16T11:26:07.129Z"
   },
   {
    "duration": 21,
    "start_time": "2023-04-16T11:26:13.912Z"
   },
   {
    "duration": 4,
    "start_time": "2023-04-16T11:26:31.210Z"
   },
   {
    "duration": 4,
    "start_time": "2023-04-16T11:26:31.798Z"
   },
   {
    "duration": 3,
    "start_time": "2023-04-16T11:26:32.109Z"
   },
   {
    "duration": 3081,
    "start_time": "2023-04-16T11:26:32.849Z"
   },
   {
    "duration": 191,
    "start_time": "2023-04-16T11:26:37.310Z"
   },
   {
    "duration": 176,
    "start_time": "2023-04-16T11:26:38.183Z"
   },
   {
    "duration": 5,
    "start_time": "2023-04-16T11:27:09.153Z"
   },
   {
    "duration": 893,
    "start_time": "2023-04-16T11:27:09.161Z"
   },
   {
    "duration": 32,
    "start_time": "2023-04-16T11:27:10.056Z"
   },
   {
    "duration": 153,
    "start_time": "2023-04-16T11:27:10.100Z"
   },
   {
    "duration": 9,
    "start_time": "2023-04-16T11:27:10.256Z"
   },
   {
    "duration": 192,
    "start_time": "2023-04-16T11:27:10.267Z"
   },
   {
    "duration": 518,
    "start_time": "2023-04-16T11:27:10.461Z"
   },
   {
    "duration": 447,
    "start_time": "2023-04-16T11:27:10.982Z"
   },
   {
    "duration": 4,
    "start_time": "2023-04-16T11:27:11.431Z"
   },
   {
    "duration": 499,
    "start_time": "2023-04-16T11:27:11.437Z"
   },
   {
    "duration": 4,
    "start_time": "2023-04-16T11:27:11.940Z"
   },
   {
    "duration": 478,
    "start_time": "2023-04-16T11:27:11.946Z"
   },
   {
    "duration": 148,
    "start_time": "2023-04-16T11:27:12.427Z"
   },
   {
    "duration": 35,
    "start_time": "2023-04-16T11:27:12.584Z"
   },
   {
    "duration": 31,
    "start_time": "2023-04-16T11:27:12.621Z"
   },
   {
    "duration": 115,
    "start_time": "2023-04-16T11:27:12.654Z"
   },
   {
    "duration": 87,
    "start_time": "2023-04-16T11:27:12.771Z"
   },
   {
    "duration": 27,
    "start_time": "2023-04-16T11:27:12.859Z"
   },
   {
    "duration": 8,
    "start_time": "2023-04-16T11:27:12.889Z"
   },
   {
    "duration": 14,
    "start_time": "2023-04-16T11:27:12.905Z"
   },
   {
    "duration": 11,
    "start_time": "2023-04-16T11:27:12.921Z"
   },
   {
    "duration": 11,
    "start_time": "2023-04-16T11:27:12.934Z"
   },
   {
    "duration": 3,
    "start_time": "2023-04-16T11:27:12.947Z"
   },
   {
    "duration": 55,
    "start_time": "2023-04-16T11:27:12.952Z"
   },
   {
    "duration": 54,
    "start_time": "2023-04-16T11:27:13.009Z"
   },
   {
    "duration": 28,
    "start_time": "2023-04-16T11:27:13.065Z"
   },
   {
    "duration": 174,
    "start_time": "2023-04-16T11:27:13.097Z"
   },
   {
    "duration": 31,
    "start_time": "2023-04-16T11:27:20.982Z"
   },
   {
    "duration": 22,
    "start_time": "2023-04-16T11:27:23.010Z"
   },
   {
    "duration": 5,
    "start_time": "2023-04-16T11:27:26.691Z"
   },
   {
    "duration": 130,
    "start_time": "2023-04-16T11:27:27.378Z"
   },
   {
    "duration": 14,
    "start_time": "2023-04-16T11:27:28.546Z"
   },
   {
    "duration": 4,
    "start_time": "2023-04-16T11:27:32.278Z"
   },
   {
    "duration": 3,
    "start_time": "2023-04-16T11:27:32.945Z"
   },
   {
    "duration": 2,
    "start_time": "2023-04-16T11:27:33.338Z"
   },
   {
    "duration": 5302,
    "start_time": "2023-04-16T11:27:34.155Z"
   },
   {
    "duration": 152,
    "start_time": "2023-04-16T11:27:42.111Z"
   },
   {
    "duration": 90,
    "start_time": "2023-04-16T11:27:43.606Z"
   },
   {
    "duration": 4,
    "start_time": "2023-04-16T11:28:55.278Z"
   },
   {
    "duration": 889,
    "start_time": "2023-04-16T11:28:55.286Z"
   },
   {
    "duration": 33,
    "start_time": "2023-04-16T11:28:56.178Z"
   },
   {
    "duration": 202,
    "start_time": "2023-04-16T11:28:56.213Z"
   },
   {
    "duration": 3,
    "start_time": "2023-04-16T11:28:56.417Z"
   },
   {
    "duration": 152,
    "start_time": "2023-04-16T11:28:56.422Z"
   },
   {
    "duration": 414,
    "start_time": "2023-04-16T11:28:56.576Z"
   },
   {
    "duration": 418,
    "start_time": "2023-04-16T11:28:56.992Z"
   },
   {
    "duration": 5,
    "start_time": "2023-04-16T11:28:57.412Z"
   },
   {
    "duration": 482,
    "start_time": "2023-04-16T11:28:57.419Z"
   },
   {
    "duration": 5,
    "start_time": "2023-04-16T11:28:57.909Z"
   },
   {
    "duration": 437,
    "start_time": "2023-04-16T11:28:57.916Z"
   },
   {
    "duration": 157,
    "start_time": "2023-04-16T11:28:58.355Z"
   },
   {
    "duration": 25,
    "start_time": "2023-04-16T11:28:58.514Z"
   },
   {
    "duration": 48,
    "start_time": "2023-04-16T11:28:58.541Z"
   },
   {
    "duration": 97,
    "start_time": "2023-04-16T11:28:58.596Z"
   },
   {
    "duration": 69,
    "start_time": "2023-04-16T11:28:58.697Z"
   },
   {
    "duration": 33,
    "start_time": "2023-04-16T11:28:58.769Z"
   },
   {
    "duration": 16,
    "start_time": "2023-04-16T11:28:58.804Z"
   },
   {
    "duration": 13,
    "start_time": "2023-04-16T11:28:58.822Z"
   },
   {
    "duration": 14,
    "start_time": "2023-04-16T11:28:58.837Z"
   },
   {
    "duration": 10,
    "start_time": "2023-04-16T11:28:58.852Z"
   },
   {
    "duration": 9,
    "start_time": "2023-04-16T11:28:58.863Z"
   },
   {
    "duration": 39,
    "start_time": "2023-04-16T11:28:58.873Z"
   },
   {
    "duration": 44,
    "start_time": "2023-04-16T11:28:58.914Z"
   },
   {
    "duration": 5,
    "start_time": "2023-04-16T11:28:58.960Z"
   },
   {
    "duration": 133,
    "start_time": "2023-04-16T11:28:58.985Z"
   },
   {
    "duration": 24,
    "start_time": "2023-04-16T11:29:06.900Z"
   },
   {
    "duration": 20,
    "start_time": "2023-04-16T11:29:07.289Z"
   },
   {
    "duration": 93,
    "start_time": "2023-04-16T11:29:12.188Z"
   },
   {
    "duration": 3,
    "start_time": "2023-04-16T11:29:17.131Z"
   },
   {
    "duration": 16,
    "start_time": "2023-04-16T11:29:17.556Z"
   },
   {
    "duration": 4,
    "start_time": "2023-04-16T11:29:21.243Z"
   },
   {
    "duration": 3,
    "start_time": "2023-04-16T11:29:23.518Z"
   },
   {
    "duration": 96,
    "start_time": "2023-04-16T11:29:32.125Z"
   },
   {
    "duration": 3,
    "start_time": "2023-04-16T11:29:56.935Z"
   },
   {
    "duration": 2,
    "start_time": "2023-04-16T11:29:57.801Z"
   },
   {
    "duration": 3,
    "start_time": "2023-04-16T11:29:58.148Z"
   },
   {
    "duration": 78,
    "start_time": "2023-04-16T11:29:58.933Z"
   },
   {
    "duration": 4,
    "start_time": "2023-04-16T11:30:10.610Z"
   },
   {
    "duration": 4,
    "start_time": "2023-04-16T11:30:11.140Z"
   },
   {
    "duration": 8,
    "start_time": "2023-04-16T11:30:13.882Z"
   },
   {
    "duration": 68176,
    "start_time": "2023-04-16T11:30:14.510Z"
   },
   {
    "duration": 160,
    "start_time": "2023-04-16T11:31:27.255Z"
   },
   {
    "duration": 79,
    "start_time": "2023-04-16T11:31:28.203Z"
   },
   {
    "duration": 7,
    "start_time": "2023-04-16T11:32:15.151Z"
   },
   {
    "duration": 30,
    "start_time": "2023-04-16T11:32:24.224Z"
   },
   {
    "duration": 32,
    "start_time": "2023-04-16T11:32:24.719Z"
   },
   {
    "duration": 198,
    "start_time": "2023-04-16T11:39:17.047Z"
   },
   {
    "duration": 3,
    "start_time": "2023-04-16T11:39:17.911Z"
   },
   {
    "duration": 16,
    "start_time": "2023-04-16T11:39:18.505Z"
   },
   {
    "duration": 122,
    "start_time": "2023-04-16T11:39:44.066Z"
   },
   {
    "duration": 3,
    "start_time": "2023-04-16T11:39:44.519Z"
   },
   {
    "duration": 20,
    "start_time": "2023-04-16T11:39:44.953Z"
   },
   {
    "duration": 118,
    "start_time": "2023-04-16T11:40:26.404Z"
   },
   {
    "duration": 3,
    "start_time": "2023-04-16T11:40:26.905Z"
   },
   {
    "duration": 20,
    "start_time": "2023-04-16T11:40:27.300Z"
   },
   {
    "duration": 105,
    "start_time": "2023-04-16T11:41:31.283Z"
   },
   {
    "duration": 3,
    "start_time": "2023-04-16T11:41:31.696Z"
   },
   {
    "duration": 15,
    "start_time": "2023-04-16T11:41:32.113Z"
   },
   {
    "duration": 164,
    "start_time": "2023-04-16T11:42:30.635Z"
   },
   {
    "duration": 3,
    "start_time": "2023-04-16T11:42:31.050Z"
   },
   {
    "duration": 18,
    "start_time": "2023-04-16T11:42:31.508Z"
   },
   {
    "duration": 61,
    "start_time": "2023-04-16T11:43:10.960Z"
   },
   {
    "duration": 4,
    "start_time": "2023-04-16T11:43:15.636Z"
   },
   {
    "duration": 3,
    "start_time": "2023-04-16T11:43:59.637Z"
   },
   {
    "duration": 13641,
    "start_time": "2023-04-16T11:44:04.109Z"
   },
   {
    "duration": 4,
    "start_time": "2023-04-16T11:44:25.205Z"
   },
   {
    "duration": 6,
    "start_time": "2023-04-16T11:44:25.790Z"
   },
   {
    "duration": 410,
    "start_time": "2023-04-16T11:44:26.886Z"
   },
   {
    "duration": 10,
    "start_time": "2023-04-16T11:45:15.399Z"
   },
   {
    "duration": 5,
    "start_time": "2023-04-16T11:45:16.208Z"
   },
   {
    "duration": 3,
    "start_time": "2023-04-16T11:45:16.837Z"
   },
   {
    "duration": 3,
    "start_time": "2023-04-16T11:45:17.238Z"
   },
   {
    "duration": 300,
    "start_time": "2023-04-16T11:45:17.902Z"
   },
   {
    "duration": 24,
    "start_time": "2023-04-16T11:46:00.403Z"
   },
   {
    "duration": 34,
    "start_time": "2023-04-16T11:46:00.799Z"
   },
   {
    "duration": 164,
    "start_time": "2023-04-16T11:46:04.446Z"
   },
   {
    "duration": 8,
    "start_time": "2023-04-16T11:46:04.802Z"
   },
   {
    "duration": 16,
    "start_time": "2023-04-16T11:46:05.098Z"
   },
   {
    "duration": 3,
    "start_time": "2023-04-16T11:46:07.942Z"
   },
   {
    "duration": 4,
    "start_time": "2023-04-16T11:46:08.307Z"
   },
   {
    "duration": 8,
    "start_time": "2023-04-16T11:46:09.082Z"
   },
   {
    "duration": 3,
    "start_time": "2023-04-16T11:46:09.447Z"
   },
   {
    "duration": 29340,
    "start_time": "2023-04-16T11:46:10.109Z"
   },
   {
    "duration": 186,
    "start_time": "2023-04-16T11:46:44.703Z"
   },
   {
    "duration": 108,
    "start_time": "2023-04-16T11:46:45.305Z"
   },
   {
    "duration": 7,
    "start_time": "2023-04-16T11:48:11.104Z"
   },
   {
    "duration": 7,
    "start_time": "2023-04-16T11:48:36.042Z"
   },
   {
    "duration": 9,
    "start_time": "2023-04-16T11:49:08.712Z"
   },
   {
    "duration": 21,
    "start_time": "2023-04-16T11:49:20.251Z"
   },
   {
    "duration": 131,
    "start_time": "2023-04-16T11:51:04.811Z"
   },
   {
    "duration": 13,
    "start_time": "2023-04-16T11:51:13.958Z"
   },
   {
    "duration": 173,
    "start_time": "2023-04-16T11:51:55.762Z"
   },
   {
    "duration": 19,
    "start_time": "2023-04-16T11:51:56.579Z"
   },
   {
    "duration": 167,
    "start_time": "2023-04-16T11:53:17.501Z"
   },
   {
    "duration": 18,
    "start_time": "2023-04-16T11:53:18.208Z"
   },
   {
    "duration": 112,
    "start_time": "2023-04-16T11:59:40.591Z"
   },
   {
    "duration": 17,
    "start_time": "2023-04-16T11:59:46.734Z"
   },
   {
    "duration": 128,
    "start_time": "2023-04-16T12:00:24.511Z"
   },
   {
    "duration": 16,
    "start_time": "2023-04-16T12:00:25.102Z"
   },
   {
    "duration": 18,
    "start_time": "2023-04-16T12:00:25.936Z"
   },
   {
    "duration": 19,
    "start_time": "2023-04-16T12:00:26.943Z"
   },
   {
    "duration": 104,
    "start_time": "2023-04-16T12:03:09.582Z"
   },
   {
    "duration": 13,
    "start_time": "2023-04-16T12:03:10.146Z"
   },
   {
    "duration": 9,
    "start_time": "2023-04-16T12:03:17.851Z"
   },
   {
    "duration": 23,
    "start_time": "2023-04-16T12:03:18.539Z"
   },
   {
    "duration": 130,
    "start_time": "2023-04-16T12:04:40.509Z"
   },
   {
    "duration": 16,
    "start_time": "2023-04-16T12:04:43.600Z"
   },
   {
    "duration": 15,
    "start_time": "2023-04-16T12:05:05.244Z"
   },
   {
    "duration": 16,
    "start_time": "2023-04-16T12:05:05.844Z"
   },
   {
    "duration": 4,
    "start_time": "2023-04-16T12:06:27.432Z"
   },
   {
    "duration": 21,
    "start_time": "2023-04-16T12:06:34.874Z"
   },
   {
    "duration": 23,
    "start_time": "2023-04-16T12:07:40.305Z"
   },
   {
    "duration": 28,
    "start_time": "2023-04-16T12:07:46.517Z"
   },
   {
    "duration": 13,
    "start_time": "2023-04-16T12:07:47.109Z"
   },
   {
    "duration": 42,
    "start_time": "2023-04-16T12:07:47.579Z"
   },
   {
    "duration": 28,
    "start_time": "2023-04-16T12:07:58.111Z"
   },
   {
    "duration": 5,
    "start_time": "2023-04-16T12:07:58.609Z"
   },
   {
    "duration": 20,
    "start_time": "2023-04-16T12:07:59.009Z"
   },
   {
    "duration": 24,
    "start_time": "2023-04-16T12:08:29.453Z"
   },
   {
    "duration": 10,
    "start_time": "2023-04-16T12:08:29.840Z"
   },
   {
    "duration": 20,
    "start_time": "2023-04-16T12:08:30.425Z"
   },
   {
    "duration": 102,
    "start_time": "2023-04-16T12:11:04.940Z"
   },
   {
    "duration": 5,
    "start_time": "2023-04-16T12:11:16.609Z"
   },
   {
    "duration": 11,
    "start_time": "2023-04-16T12:11:47.909Z"
   },
   {
    "duration": 9719,
    "start_time": "2023-04-16T12:11:49.825Z"
   },
   {
    "duration": 9,
    "start_time": "2023-04-16T12:12:06.778Z"
   },
   {
    "duration": 6,
    "start_time": "2023-04-16T12:12:07.209Z"
   },
   {
    "duration": 13,
    "start_time": "2023-04-16T12:12:07.574Z"
   },
   {
    "duration": 49,
    "start_time": "2023-04-16T12:12:08.082Z"
   },
   {
    "duration": 157,
    "start_time": "2023-04-16T12:12:11.111Z"
   },
   {
    "duration": 14,
    "start_time": "2023-04-16T12:12:11.541Z"
   },
   {
    "duration": 17,
    "start_time": "2023-04-16T12:12:14.364Z"
   },
   {
    "duration": 5,
    "start_time": "2023-04-16T12:12:14.836Z"
   },
   {
    "duration": 21,
    "start_time": "2023-04-16T12:12:15.315Z"
   },
   {
    "duration": 4,
    "start_time": "2023-04-16T12:12:18.211Z"
   },
   {
    "duration": 449678,
    "start_time": "2023-04-16T12:12:29.410Z"
   },
   {
    "duration": 167,
    "start_time": "2023-04-16T12:25:27.549Z"
   },
   {
    "duration": 91,
    "start_time": "2023-04-16T12:25:41.244Z"
   },
   {
    "duration": 24,
    "start_time": "2023-04-16T12:28:47.497Z"
   },
   {
    "duration": 11,
    "start_time": "2023-04-16T12:31:16.811Z"
   },
   {
    "duration": 23,
    "start_time": "2023-04-16T12:31:29.111Z"
   },
   {
    "duration": 23,
    "start_time": "2023-04-16T12:35:03.700Z"
   },
   {
    "duration": 130,
    "start_time": "2023-04-16T12:35:33.178Z"
   },
   {
    "duration": 25,
    "start_time": "2023-04-16T12:35:40.950Z"
   },
   {
    "duration": 157,
    "start_time": "2023-04-16T12:36:14.502Z"
   },
   {
    "duration": 25,
    "start_time": "2023-04-16T12:36:15.146Z"
   },
   {
    "duration": 7,
    "start_time": "2023-04-16T12:37:14.241Z"
   },
   {
    "duration": 16,
    "start_time": "2023-04-16T12:37:39.903Z"
   },
   {
    "duration": 12,
    "start_time": "2023-04-16T12:38:02.018Z"
   },
   {
    "duration": 13,
    "start_time": "2023-04-16T12:38:02.774Z"
   },
   {
    "duration": 129,
    "start_time": "2023-04-16T12:38:25.303Z"
   },
   {
    "duration": 7,
    "start_time": "2023-04-16T12:38:32.018Z"
   },
   {
    "duration": 10,
    "start_time": "2023-04-16T12:38:32.615Z"
   },
   {
    "duration": 122,
    "start_time": "2023-04-16T12:38:41.746Z"
   },
   {
    "duration": 32,
    "start_time": "2023-04-16T12:39:10.606Z"
   },
   {
    "duration": 4,
    "start_time": "2023-04-16T12:39:14.233Z"
   },
   {
    "duration": 11,
    "start_time": "2023-04-16T12:39:14.510Z"
   },
   {
    "duration": 103,
    "start_time": "2023-04-16T12:39:48.814Z"
   },
   {
    "duration": 8,
    "start_time": "2023-04-16T12:40:15.474Z"
   },
   {
    "duration": 8,
    "start_time": "2023-04-16T12:40:26.237Z"
   },
   {
    "duration": 35,
    "start_time": "2023-04-16T12:40:26.620Z"
   },
   {
    "duration": 186,
    "start_time": "2023-04-16T12:40:31.101Z"
   },
   {
    "duration": 30,
    "start_time": "2023-04-16T12:40:32.083Z"
   },
   {
    "duration": 86,
    "start_time": "2023-04-16T12:44:06.137Z"
   },
   {
    "duration": 30,
    "start_time": "2023-04-16T12:46:16.478Z"
   },
   {
    "duration": 146,
    "start_time": "2023-04-16T12:46:17.704Z"
   },
   {
    "duration": 27,
    "start_time": "2023-04-16T12:46:21.810Z"
   },
   {
    "duration": 124,
    "start_time": "2023-04-16T12:46:23.748Z"
   },
   {
    "duration": 14,
    "start_time": "2023-04-16T12:47:56.149Z"
   },
   {
    "duration": 9,
    "start_time": "2023-04-16T12:48:35.239Z"
   },
   {
    "duration": 25,
    "start_time": "2023-04-16T12:48:41.899Z"
   },
   {
    "duration": 103,
    "start_time": "2023-04-16T12:48:57.094Z"
   },
   {
    "duration": 11,
    "start_time": "2023-04-16T12:50:15.499Z"
   },
   {
    "duration": 405,
    "start_time": "2023-04-16T12:50:28.697Z"
   },
   {
    "duration": 57,
    "start_time": "2023-04-16T12:50:36.978Z"
   },
   {
    "duration": 37,
    "start_time": "2023-04-16T12:51:24.115Z"
   },
   {
    "duration": 96,
    "start_time": "2023-04-16T12:52:33.799Z"
   },
   {
    "duration": 15,
    "start_time": "2023-04-16T12:52:46.243Z"
   },
   {
    "duration": 93,
    "start_time": "2023-04-16T12:52:55.138Z"
   },
   {
    "duration": 29,
    "start_time": "2023-04-16T12:53:07.178Z"
   },
   {
    "duration": 12,
    "start_time": "2023-04-16T12:55:02.942Z"
   },
   {
    "duration": 23,
    "start_time": "2023-04-16T12:59:31.110Z"
   },
   {
    "duration": 42,
    "start_time": "2023-04-16T12:59:41.867Z"
   },
   {
    "duration": 21,
    "start_time": "2023-04-16T13:04:09.433Z"
   },
   {
    "duration": 111,
    "start_time": "2023-04-16T13:04:22.714Z"
   },
   {
    "duration": 117,
    "start_time": "2023-04-16T13:04:32.109Z"
   },
   {
    "duration": 23,
    "start_time": "2023-04-16T13:05:20.833Z"
   },
   {
    "duration": 24,
    "start_time": "2023-04-16T13:05:21.433Z"
   },
   {
    "duration": 41,
    "start_time": "2023-04-16T13:05:53.137Z"
   },
   {
    "duration": 112,
    "start_time": "2023-04-16T13:06:18.005Z"
   },
   {
    "duration": 13,
    "start_time": "2023-04-16T13:09:22.454Z"
   },
   {
    "duration": 4,
    "start_time": "2023-04-16T13:10:59.055Z"
   },
   {
    "duration": 139,
    "start_time": "2023-04-16T13:11:58.198Z"
   },
   {
    "duration": 13,
    "start_time": "2023-04-16T13:11:58.697Z"
   },
   {
    "duration": 4,
    "start_time": "2023-04-16T13:12:27.122Z"
   },
   {
    "duration": 5,
    "start_time": "2023-04-16T13:12:54.921Z"
   },
   {
    "duration": 65999,
    "start_time": "2023-04-16T13:13:15.138Z"
   },
   {
    "duration": 144,
    "start_time": "2023-04-16T13:14:50.347Z"
   },
   {
    "duration": 76,
    "start_time": "2023-04-16T13:15:03.005Z"
   },
   {
    "duration": 101,
    "start_time": "2023-04-16T13:15:52.197Z"
   },
   {
    "duration": 3,
    "start_time": "2023-04-16T13:16:11.900Z"
   },
   {
    "duration": 134,
    "start_time": "2023-04-16T13:16:25.499Z"
   },
   {
    "duration": 3,
    "start_time": "2023-04-16T13:16:31.178Z"
   },
   {
    "duration": 4,
    "start_time": "2023-04-16T13:17:18.454Z"
   },
   {
    "duration": 5,
    "start_time": "2023-04-16T13:17:20.222Z"
   },
   {
    "duration": 12,
    "start_time": "2023-04-16T13:17:37.328Z"
   },
   {
    "duration": 148,
    "start_time": "2023-04-16T13:17:51.498Z"
   },
   {
    "duration": 152,
    "start_time": "2023-04-16T13:18:35.603Z"
   },
   {
    "duration": 160,
    "start_time": "2023-04-16T13:18:48.693Z"
   },
   {
    "duration": 82,
    "start_time": "2023-04-16T13:18:49.421Z"
   },
   {
    "duration": 5,
    "start_time": "2023-04-16T13:19:06.912Z"
   },
   {
    "duration": 5,
    "start_time": "2023-04-16T13:19:33.156Z"
   },
   {
    "duration": 26,
    "start_time": "2023-04-16T13:40:35.035Z"
   },
   {
    "duration": 30,
    "start_time": "2023-04-16T13:40:39.749Z"
   },
   {
    "duration": 63,
    "start_time": "2023-04-16T13:41:58.162Z"
   },
   {
    "duration": 37,
    "start_time": "2023-04-16T13:41:59.474Z"
   },
   {
    "duration": 41,
    "start_time": "2023-04-16T13:42:21.725Z"
   },
   {
    "duration": 23,
    "start_time": "2023-04-16T13:42:22.906Z"
   },
   {
    "duration": 70,
    "start_time": "2023-04-16T13:42:58.923Z"
   },
   {
    "duration": 27,
    "start_time": "2023-04-16T13:43:04.675Z"
   },
   {
    "duration": 77,
    "start_time": "2023-04-16T13:43:38.550Z"
   },
   {
    "duration": 22,
    "start_time": "2023-04-16T13:43:39.548Z"
   },
   {
    "duration": 113,
    "start_time": "2023-04-16T13:46:10.522Z"
   },
   {
    "duration": 17,
    "start_time": "2023-04-16T13:46:23.815Z"
   },
   {
    "duration": 56,
    "start_time": "2023-04-16T13:46:41.715Z"
   },
   {
    "duration": 12,
    "start_time": "2023-04-16T13:46:51.264Z"
   },
   {
    "duration": 300,
    "start_time": "2023-04-16T13:47:04.744Z"
   },
   {
    "duration": 10,
    "start_time": "2023-04-16T13:49:05.407Z"
   },
   {
    "duration": 60,
    "start_time": "2023-04-16T13:49:15.076Z"
   },
   {
    "duration": 231,
    "start_time": "2023-04-16T13:53:37.565Z"
   },
   {
    "duration": 218,
    "start_time": "2023-04-16T13:54:17.247Z"
   },
   {
    "duration": 122,
    "start_time": "2023-04-16T13:54:35.717Z"
   },
   {
    "duration": 90,
    "start_time": "2023-04-16T13:55:11.112Z"
   },
   {
    "duration": 31,
    "start_time": "2023-04-16T13:56:09.174Z"
   },
   {
    "duration": 16,
    "start_time": "2023-04-16T13:57:20.064Z"
   },
   {
    "duration": 6,
    "start_time": "2023-04-16T13:57:24.514Z"
   },
   {
    "duration": 1038,
    "start_time": "2023-04-16T13:57:24.522Z"
   },
   {
    "duration": 21,
    "start_time": "2023-04-16T13:57:25.562Z"
   },
   {
    "duration": 185,
    "start_time": "2023-04-16T13:57:25.585Z"
   },
   {
    "duration": 4,
    "start_time": "2023-04-16T13:57:25.773Z"
   },
   {
    "duration": 215,
    "start_time": "2023-04-16T13:57:25.785Z"
   },
   {
    "duration": 455,
    "start_time": "2023-04-16T13:57:26.006Z"
   },
   {
    "duration": 476,
    "start_time": "2023-04-16T13:57:26.463Z"
   },
   {
    "duration": 5,
    "start_time": "2023-04-16T13:57:26.941Z"
   },
   {
    "duration": 504,
    "start_time": "2023-04-16T13:57:26.948Z"
   },
   {
    "duration": 5,
    "start_time": "2023-04-16T13:57:27.454Z"
   },
   {
    "duration": 493,
    "start_time": "2023-04-16T13:57:27.461Z"
   },
   {
    "duration": 181,
    "start_time": "2023-04-16T13:57:27.956Z"
   },
   {
    "duration": 46,
    "start_time": "2023-04-16T13:57:28.140Z"
   },
   {
    "duration": 46,
    "start_time": "2023-04-16T13:57:28.188Z"
   },
   {
    "duration": 113,
    "start_time": "2023-04-16T13:57:28.236Z"
   },
   {
    "duration": 95,
    "start_time": "2023-04-16T13:57:28.351Z"
   },
   {
    "duration": 45,
    "start_time": "2023-04-16T13:57:28.448Z"
   },
   {
    "duration": 11,
    "start_time": "2023-04-16T13:57:28.503Z"
   },
   {
    "duration": 27,
    "start_time": "2023-04-16T13:57:28.515Z"
   },
   {
    "duration": 19,
    "start_time": "2023-04-16T13:57:28.543Z"
   },
   {
    "duration": 32,
    "start_time": "2023-04-16T13:57:28.564Z"
   },
   {
    "duration": 15,
    "start_time": "2023-04-16T13:57:28.598Z"
   },
   {
    "duration": 51,
    "start_time": "2023-04-16T13:57:28.615Z"
   },
   {
    "duration": 49,
    "start_time": "2023-04-16T13:57:28.668Z"
   },
   {
    "duration": 5,
    "start_time": "2023-04-16T13:57:28.719Z"
   },
   {
    "duration": 124,
    "start_time": "2023-04-16T13:57:28.726Z"
   },
   {
    "duration": 34,
    "start_time": "2023-04-16T13:57:28.852Z"
   },
   {
    "duration": 21,
    "start_time": "2023-04-16T13:57:28.893Z"
   },
   {
    "duration": 158,
    "start_time": "2023-04-16T13:57:28.916Z"
   },
   {
    "duration": 27,
    "start_time": "2023-04-16T13:57:29.077Z"
   },
   {
    "duration": 27,
    "start_time": "2023-04-16T13:57:29.108Z"
   },
   {
    "duration": 13,
    "start_time": "2023-04-16T13:57:29.139Z"
   },
   {
    "duration": 55108,
    "start_time": "2023-04-16T13:57:29.154Z"
   },
   {
    "duration": 191,
    "start_time": "2023-04-16T13:58:24.264Z"
   },
   {
    "duration": 154,
    "start_time": "2023-04-16T13:58:24.461Z"
   },
   {
    "duration": 158,
    "start_time": "2023-04-16T13:58:24.617Z"
   },
   {
    "duration": 5,
    "start_time": "2023-04-16T13:58:24.788Z"
   },
   {
    "duration": 10,
    "start_time": "2023-04-16T13:58:24.795Z"
   },
   {
    "duration": 15,
    "start_time": "2023-04-16T13:58:24.812Z"
   },
   {
    "duration": 10,
    "start_time": "2023-04-16T13:58:24.832Z"
   },
   {
    "duration": 18,
    "start_time": "2023-04-16T13:58:24.844Z"
   },
   {
    "duration": 38,
    "start_time": "2023-04-16T13:58:24.865Z"
   },
   {
    "duration": 181,
    "start_time": "2023-04-16T13:58:24.906Z"
   },
   {
    "duration": 26,
    "start_time": "2023-04-16T13:58:25.089Z"
   },
   {
    "duration": 27,
    "start_time": "2023-04-16T13:58:25.118Z"
   },
   {
    "duration": 7,
    "start_time": "2023-04-16T13:58:25.147Z"
   },
   {
    "duration": 25,
    "start_time": "2023-04-16T13:58:25.156Z"
   },
   {
    "duration": 31,
    "start_time": "2023-04-16T13:58:25.186Z"
   },
   {
    "duration": 423065,
    "start_time": "2023-04-16T13:58:25.219Z"
   },
   {
    "duration": 160,
    "start_time": "2023-04-16T14:05:28.286Z"
   },
   {
    "duration": 109,
    "start_time": "2023-04-16T14:05:28.448Z"
   },
   {
    "duration": 35,
    "start_time": "2023-04-16T14:05:28.558Z"
   },
   {
    "duration": 20,
    "start_time": "2023-04-16T14:05:28.599Z"
   },
   {
    "duration": 38,
    "start_time": "2023-04-16T14:05:28.621Z"
   },
   {
    "duration": 39,
    "start_time": "2023-04-16T14:05:28.661Z"
   },
   {
    "duration": 148,
    "start_time": "2023-04-16T14:05:28.702Z"
   },
   {
    "duration": 35,
    "start_time": "2023-04-16T14:05:28.852Z"
   },
   {
    "duration": 106,
    "start_time": "2023-04-16T14:05:28.891Z"
   },
   {
    "duration": 16,
    "start_time": "2023-04-16T14:05:28.998Z"
   },
   {
    "duration": 23,
    "start_time": "2023-04-16T14:05:29.015Z"
   },
   {
    "duration": 23,
    "start_time": "2023-04-16T14:05:29.040Z"
   },
   {
    "duration": 24,
    "start_time": "2023-04-16T14:05:29.084Z"
   },
   {
    "duration": 110,
    "start_time": "2023-04-16T14:05:29.110Z"
   },
   {
    "duration": 21,
    "start_time": "2023-04-16T14:05:29.222Z"
   },
   {
    "duration": 45,
    "start_time": "2023-04-16T14:05:29.245Z"
   },
   {
    "duration": 134,
    "start_time": "2023-04-16T14:05:29.294Z"
   },
   {
    "duration": 40,
    "start_time": "2023-04-16T14:05:29.430Z"
   },
   {
    "duration": 14,
    "start_time": "2023-04-16T14:05:29.472Z"
   },
   {
    "duration": 71533,
    "start_time": "2023-04-16T14:05:29.490Z"
   },
   {
    "duration": 176,
    "start_time": "2023-04-16T14:06:41.025Z"
   },
   {
    "duration": 107,
    "start_time": "2023-04-16T14:06:41.203Z"
   },
   {
    "duration": 91,
    "start_time": "2023-04-16T14:06:41.312Z"
   },
   {
    "duration": 26,
    "start_time": "2023-04-16T14:06:41.405Z"
   },
   {
    "duration": 29,
    "start_time": "2023-04-16T14:06:41.433Z"
   },
   {
    "duration": 12,
    "start_time": "2023-04-16T14:07:18.552Z"
   },
   {
    "duration": 480,
    "start_time": "2023-04-16T14:09:35.331Z"
   },
   {
    "duration": 96,
    "start_time": "2023-04-16T14:10:21.822Z"
   },
   {
    "duration": 100,
    "start_time": "2023-04-16T14:10:25.829Z"
   },
   {
    "duration": 18,
    "start_time": "2023-04-16T14:10:48.846Z"
   },
   {
    "duration": 123,
    "start_time": "2023-04-16T14:10:49.469Z"
   },
   {
    "duration": 129,
    "start_time": "2023-04-16T14:11:26.972Z"
   },
   {
    "duration": 188,
    "start_time": "2023-04-16T14:11:37.651Z"
   },
   {
    "duration": 97,
    "start_time": "2023-04-16T14:11:46.527Z"
   },
   {
    "duration": 33,
    "start_time": "2023-04-16T14:12:59.809Z"
   },
   {
    "duration": 16,
    "start_time": "2023-04-16T14:13:13.481Z"
   },
   {
    "duration": 13,
    "start_time": "2023-04-16T14:13:46.443Z"
   },
   {
    "duration": 10,
    "start_time": "2023-04-16T14:15:58.760Z"
   },
   {
    "duration": 24,
    "start_time": "2023-04-16T14:16:21.146Z"
   },
   {
    "duration": 106,
    "start_time": "2023-04-16T14:16:42.135Z"
   },
   {
    "duration": 11,
    "start_time": "2023-04-16T14:16:51.673Z"
   },
   {
    "duration": 112,
    "start_time": "2023-04-16T14:16:59.847Z"
   },
   {
    "duration": 102,
    "start_time": "2023-04-16T14:17:27.838Z"
   },
   {
    "duration": 97,
    "start_time": "2023-04-16T14:17:28.618Z"
   },
   {
    "duration": 100,
    "start_time": "2023-04-16T14:24:58.154Z"
   },
   {
    "duration": 19,
    "start_time": "2023-04-16T14:24:59.214Z"
   },
   {
    "duration": 19,
    "start_time": "2023-04-16T14:25:00.129Z"
   },
   {
    "duration": 28,
    "start_time": "2023-04-16T14:25:18.210Z"
   },
   {
    "duration": 146,
    "start_time": "2023-04-16T14:25:30.076Z"
   },
   {
    "duration": 58,
    "start_time": "2023-04-16T14:27:40.968Z"
   },
   {
    "duration": 118,
    "start_time": "2023-04-16T14:35:18.424Z"
   },
   {
    "duration": 91,
    "start_time": "2023-04-16T14:35:25.339Z"
   },
   {
    "duration": 50,
    "start_time": "2023-04-16T14:43:55.626Z"
   },
   {
    "duration": 45,
    "start_time": "2023-04-16T14:44:16.563Z"
   },
   {
    "duration": 69,
    "start_time": "2023-04-16T14:44:46.433Z"
   },
   {
    "duration": 34,
    "start_time": "2023-04-16T14:47:17.566Z"
   },
   {
    "duration": 70,
    "start_time": "2023-04-16T14:47:18.211Z"
   },
   {
    "duration": 48,
    "start_time": "2023-04-16T14:47:18.906Z"
   },
   {
    "duration": 8,
    "start_time": "2023-04-16T14:47:25.059Z"
   },
   {
    "duration": 24074,
    "start_time": "2023-04-16T14:47:25.847Z"
   },
   {
    "duration": 183,
    "start_time": "2023-04-16T14:48:10.080Z"
   },
   {
    "duration": 117,
    "start_time": "2023-04-16T14:48:23.151Z"
   },
   {
    "duration": 32,
    "start_time": "2023-04-16T14:48:54.715Z"
   },
   {
    "duration": 26,
    "start_time": "2023-04-16T14:48:59.982Z"
   },
   {
    "duration": 20,
    "start_time": "2023-04-16T14:49:07.862Z"
   },
   {
    "duration": 37,
    "start_time": "2023-04-16T14:49:08.460Z"
   },
   {
    "duration": 4,
    "start_time": "2023-04-16T14:49:26.923Z"
   },
   {
    "duration": 871,
    "start_time": "2023-04-16T14:49:26.929Z"
   },
   {
    "duration": 18,
    "start_time": "2023-04-16T14:49:27.805Z"
   },
   {
    "duration": 158,
    "start_time": "2023-04-16T14:49:27.825Z"
   },
   {
    "duration": 4,
    "start_time": "2023-04-16T14:49:27.985Z"
   },
   {
    "duration": 186,
    "start_time": "2023-04-16T14:49:27.990Z"
   },
   {
    "duration": 462,
    "start_time": "2023-04-16T14:49:28.186Z"
   },
   {
    "duration": 459,
    "start_time": "2023-04-16T14:49:28.650Z"
   },
   {
    "duration": 4,
    "start_time": "2023-04-16T14:49:29.111Z"
   },
   {
    "duration": 588,
    "start_time": "2023-04-16T14:49:29.117Z"
   },
   {
    "duration": 5,
    "start_time": "2023-04-16T14:49:29.707Z"
   },
   {
    "duration": 510,
    "start_time": "2023-04-16T14:49:29.713Z"
   },
   {
    "duration": 149,
    "start_time": "2023-04-16T14:49:30.227Z"
   },
   {
    "duration": 62,
    "start_time": "2023-04-16T14:49:30.377Z"
   },
   {
    "duration": 32,
    "start_time": "2023-04-16T14:49:30.441Z"
   },
   {
    "duration": 149,
    "start_time": "2023-04-16T14:49:30.475Z"
   },
   {
    "duration": 138,
    "start_time": "2023-04-16T14:49:30.626Z"
   },
   {
    "duration": 26,
    "start_time": "2023-04-16T14:49:30.767Z"
   },
   {
    "duration": 52,
    "start_time": "2023-04-16T14:49:30.795Z"
   },
   {
    "duration": 75,
    "start_time": "2023-04-16T14:49:30.849Z"
   },
   {
    "duration": 26,
    "start_time": "2023-04-16T14:49:30.927Z"
   },
   {
    "duration": 34,
    "start_time": "2023-04-16T14:49:30.955Z"
   },
   {
    "duration": 53,
    "start_time": "2023-04-16T14:49:30.991Z"
   },
   {
    "duration": 83,
    "start_time": "2023-04-16T14:49:31.046Z"
   },
   {
    "duration": 68,
    "start_time": "2023-04-16T14:49:31.132Z"
   },
   {
    "duration": 5,
    "start_time": "2023-04-16T14:49:31.202Z"
   },
   {
    "duration": 158,
    "start_time": "2023-04-16T14:49:31.210Z"
   },
   {
    "duration": 42,
    "start_time": "2023-04-16T14:49:31.370Z"
   },
   {
    "duration": 38,
    "start_time": "2023-04-16T14:49:31.414Z"
   },
   {
    "duration": 174,
    "start_time": "2023-04-16T14:49:31.454Z"
   },
   {
    "duration": 22,
    "start_time": "2023-04-16T14:49:31.631Z"
   },
   {
    "duration": 13,
    "start_time": "2023-04-16T14:49:31.655Z"
   },
   {
    "duration": 57673,
    "start_time": "2023-04-16T14:49:31.670Z"
   },
   {
    "duration": 173,
    "start_time": "2023-04-16T14:50:29.345Z"
   },
   {
    "duration": 145,
    "start_time": "2023-04-16T14:50:29.521Z"
   },
   {
    "duration": 124,
    "start_time": "2023-04-16T14:50:29.668Z"
   },
   {
    "duration": 51,
    "start_time": "2023-04-16T14:50:29.799Z"
   },
   {
    "duration": 18,
    "start_time": "2023-04-16T14:50:29.852Z"
   },
   {
    "duration": 48,
    "start_time": "2023-04-16T14:50:29.872Z"
   },
   {
    "duration": 15,
    "start_time": "2023-04-16T14:50:29.922Z"
   },
   {
    "duration": 145,
    "start_time": "2023-04-16T14:50:29.939Z"
   },
   {
    "duration": 141,
    "start_time": "2023-04-16T14:50:30.086Z"
   },
   {
    "duration": 22,
    "start_time": "2023-04-16T14:50:30.229Z"
   },
   {
    "duration": 51,
    "start_time": "2023-04-16T14:50:30.253Z"
   },
   {
    "duration": 121,
    "start_time": "2023-04-16T14:50:30.306Z"
   },
   {
    "duration": 8,
    "start_time": "2023-04-16T14:50:30.429Z"
   },
   {
    "duration": 101,
    "start_time": "2023-04-16T14:50:30.440Z"
   },
   {
    "duration": 169,
    "start_time": "2023-04-16T14:50:30.543Z"
   },
   {
    "duration": 18,
    "start_time": "2023-04-16T14:50:30.716Z"
   },
   {
    "duration": 91,
    "start_time": "2023-04-16T14:50:30.736Z"
   },
   {
    "duration": 42,
    "start_time": "2023-04-16T14:50:30.830Z"
   },
   {
    "duration": 180,
    "start_time": "2023-04-16T14:50:30.875Z"
   },
   {
    "duration": 51,
    "start_time": "2023-04-16T14:50:31.057Z"
   },
   {
    "duration": 140,
    "start_time": "2023-04-16T14:50:31.110Z"
   },
   {
    "duration": 8,
    "start_time": "2023-04-16T14:50:31.251Z"
   },
   {
    "duration": 44,
    "start_time": "2023-04-16T14:50:31.261Z"
   },
   {
    "duration": 51,
    "start_time": "2023-04-16T14:50:31.309Z"
   },
   {
    "duration": 45,
    "start_time": "2023-04-16T14:50:31.362Z"
   },
   {
    "duration": 111,
    "start_time": "2023-04-16T14:50:31.408Z"
   },
   {
    "duration": 25,
    "start_time": "2023-04-16T14:50:31.521Z"
   },
   {
    "duration": 48,
    "start_time": "2023-04-16T14:50:31.548Z"
   },
   {
    "duration": 142,
    "start_time": "2023-04-16T14:50:31.602Z"
   },
   {
    "duration": 17,
    "start_time": "2023-04-16T14:50:31.746Z"
   },
   {
    "duration": 7,
    "start_time": "2023-04-16T14:50:31.765Z"
   },
   {
    "duration": 78122,
    "start_time": "2023-04-16T14:50:31.774Z"
   },
   {
    "duration": 174,
    "start_time": "2023-04-16T14:51:49.897Z"
   },
   {
    "duration": 97,
    "start_time": "2023-04-16T14:51:50.073Z"
   },
   {
    "duration": 72,
    "start_time": "2023-04-16T14:51:50.187Z"
   },
   {
    "duration": 37,
    "start_time": "2023-04-16T14:51:50.261Z"
   },
   {
    "duration": 27,
    "start_time": "2023-04-16T14:51:50.300Z"
   },
   {
    "duration": 32,
    "start_time": "2023-04-16T14:51:50.329Z"
   },
   {
    "duration": 126,
    "start_time": "2023-04-16T14:51:50.364Z"
   },
   {
    "duration": 5,
    "start_time": "2023-04-16T14:51:50.495Z"
   },
   {
    "duration": 18741,
    "start_time": "2023-04-16T14:51:50.502Z"
   },
   {
    "duration": 204,
    "start_time": "2023-04-16T14:52:09.245Z"
   },
   {
    "duration": 122,
    "start_time": "2023-04-16T14:52:09.451Z"
   },
   {
    "duration": 31,
    "start_time": "2023-04-16T14:52:09.575Z"
   },
   {
    "duration": 126,
    "start_time": "2023-04-16T14:52:09.611Z"
   },
   {
    "duration": 164,
    "start_time": "2023-04-16T14:52:09.740Z"
   },
   {
    "duration": 91,
    "start_time": "2023-04-16T14:52:09.907Z"
   },
   {
    "duration": 123,
    "start_time": "2023-04-16T14:52:10.000Z"
   },
   {
    "duration": 18,
    "start_time": "2023-04-16T14:53:15.724Z"
   },
   {
    "duration": 7,
    "start_time": "2023-04-16T14:58:36.268Z"
   },
   {
    "duration": 19,
    "start_time": "2023-04-16T14:58:43.866Z"
   },
   {
    "duration": 4,
    "start_time": "2023-04-16T14:59:01.731Z"
   },
   {
    "duration": 21,
    "start_time": "2023-04-16T14:59:02.370Z"
   },
   {
    "duration": 10,
    "start_time": "2023-04-16T15:00:31.523Z"
   },
   {
    "duration": 15,
    "start_time": "2023-04-16T15:00:32.451Z"
   },
   {
    "duration": 25,
    "start_time": "2023-04-16T15:02:04.508Z"
   },
   {
    "duration": 34,
    "start_time": "2023-04-16T15:02:05.124Z"
   },
   {
    "duration": 97,
    "start_time": "2023-04-16T15:02:07.826Z"
   },
   {
    "duration": 10,
    "start_time": "2023-04-16T15:02:08.413Z"
   },
   {
    "duration": 17,
    "start_time": "2023-04-16T15:02:09.209Z"
   },
   {
    "duration": 19,
    "start_time": "2023-04-16T15:02:45.614Z"
   },
   {
    "duration": 42,
    "start_time": "2023-04-16T15:02:45.977Z"
   },
   {
    "duration": 66,
    "start_time": "2023-04-16T15:02:46.714Z"
   },
   {
    "duration": 7,
    "start_time": "2023-04-16T15:02:48.547Z"
   },
   {
    "duration": 14,
    "start_time": "2023-04-16T15:02:49.111Z"
   },
   {
    "duration": 7,
    "start_time": "2023-04-16T15:03:03.411Z"
   },
   {
    "duration": 4990,
    "start_time": "2023-04-16T15:03:04.461Z"
   },
   {
    "duration": 167,
    "start_time": "2023-04-16T15:03:12.002Z"
   },
   {
    "duration": 109,
    "start_time": "2023-04-16T15:03:12.843Z"
   },
   {
    "duration": 21,
    "start_time": "2023-04-16T15:04:26.851Z"
   },
   {
    "duration": 23,
    "start_time": "2023-04-16T15:04:27.214Z"
   },
   {
    "duration": 71,
    "start_time": "2023-04-16T15:04:27.810Z"
   },
   {
    "duration": 11,
    "start_time": "2023-04-16T15:04:28.313Z"
   },
   {
    "duration": 19,
    "start_time": "2023-04-16T15:04:30.620Z"
   },
   {
    "duration": 3,
    "start_time": "2023-04-16T15:04:31.277Z"
   },
   {
    "duration": 4246,
    "start_time": "2023-04-16T15:04:32.324Z"
   },
   {
    "duration": 168,
    "start_time": "2023-04-16T15:04:39.843Z"
   },
   {
    "duration": 110,
    "start_time": "2023-04-16T15:04:40.939Z"
   },
   {
    "duration": 4,
    "start_time": "2023-04-16T15:09:23.007Z"
   },
   {
    "duration": 11,
    "start_time": "2023-04-16T15:09:26.014Z"
   },
   {
    "duration": 9,
    "start_time": "2023-04-16T15:09:39.387Z"
   },
   {
    "duration": 987,
    "start_time": "2023-04-16T15:09:39.403Z"
   },
   {
    "duration": 32,
    "start_time": "2023-04-16T15:09:40.393Z"
   },
   {
    "duration": 185,
    "start_time": "2023-04-16T15:09:40.433Z"
   },
   {
    "duration": 4,
    "start_time": "2023-04-16T15:09:40.620Z"
   },
   {
    "duration": 175,
    "start_time": "2023-04-16T15:09:40.626Z"
   },
   {
    "duration": 462,
    "start_time": "2023-04-16T15:09:40.813Z"
   },
   {
    "duration": 495,
    "start_time": "2023-04-16T15:09:41.276Z"
   },
   {
    "duration": 29,
    "start_time": "2023-04-16T15:09:41.772Z"
   },
   {
    "duration": 553,
    "start_time": "2023-04-16T15:09:41.805Z"
   },
   {
    "duration": 5,
    "start_time": "2023-04-16T15:09:42.361Z"
   },
   {
    "duration": 566,
    "start_time": "2023-04-16T15:09:42.368Z"
   },
   {
    "duration": 187,
    "start_time": "2023-04-16T15:09:42.936Z"
   },
   {
    "duration": 34,
    "start_time": "2023-04-16T15:09:43.125Z"
   },
   {
    "duration": 51,
    "start_time": "2023-04-16T15:09:43.163Z"
   },
   {
    "duration": 117,
    "start_time": "2023-04-16T15:09:43.219Z"
   },
   {
    "duration": 97,
    "start_time": "2023-04-16T15:09:43.338Z"
   },
   {
    "duration": 20,
    "start_time": "2023-04-16T15:09:43.436Z"
   },
   {
    "duration": 8,
    "start_time": "2023-04-16T15:09:43.458Z"
   },
   {
    "duration": 53,
    "start_time": "2023-04-16T15:09:43.468Z"
   },
   {
    "duration": 24,
    "start_time": "2023-04-16T15:09:43.523Z"
   },
   {
    "duration": 12,
    "start_time": "2023-04-16T15:09:43.549Z"
   },
   {
    "duration": 5,
    "start_time": "2023-04-16T15:09:43.562Z"
   },
   {
    "duration": 57,
    "start_time": "2023-04-16T15:09:43.569Z"
   },
   {
    "duration": 37,
    "start_time": "2023-04-16T15:09:43.628Z"
   },
   {
    "duration": 3,
    "start_time": "2023-04-16T15:09:43.667Z"
   },
   {
    "duration": 108,
    "start_time": "2023-04-16T15:09:43.691Z"
   },
   {
    "duration": 32,
    "start_time": "2023-04-16T15:09:43.805Z"
   },
   {
    "duration": 34,
    "start_time": "2023-04-16T15:09:43.839Z"
   },
   {
    "duration": 121,
    "start_time": "2023-04-16T15:09:43.875Z"
   },
   {
    "duration": 19,
    "start_time": "2023-04-16T15:09:43.998Z"
   },
   {
    "duration": 9,
    "start_time": "2023-04-16T15:09:44.022Z"
   },
   {
    "duration": 8,
    "start_time": "2023-04-16T15:09:44.034Z"
   },
   {
    "duration": 55917,
    "start_time": "2023-04-16T15:09:44.043Z"
   },
   {
    "duration": 195,
    "start_time": "2023-04-16T15:10:39.962Z"
   },
   {
    "duration": 102,
    "start_time": "2023-04-16T15:10:40.159Z"
   },
   {
    "duration": 111,
    "start_time": "2023-04-16T15:10:40.263Z"
   },
   {
    "duration": 5,
    "start_time": "2023-04-16T15:12:29.901Z"
   },
   {
    "duration": 921,
    "start_time": "2023-04-16T15:12:29.914Z"
   },
   {
    "duration": 19,
    "start_time": "2023-04-16T15:12:30.838Z"
   },
   {
    "duration": 310,
    "start_time": "2023-04-16T15:12:30.859Z"
   },
   {
    "duration": 174,
    "start_time": "2023-04-16T15:12:31.172Z"
   },
   {
    "duration": 147,
    "start_time": "2023-04-16T15:12:31.349Z"
   },
   {
    "duration": 444,
    "start_time": "2023-04-16T15:12:31.501Z"
   },
   {
    "duration": 482,
    "start_time": "2023-04-16T15:12:31.947Z"
   },
   {
    "duration": 4,
    "start_time": "2023-04-16T15:12:32.432Z"
   },
   {
    "duration": 491,
    "start_time": "2023-04-16T15:12:32.438Z"
   },
   {
    "duration": 6,
    "start_time": "2023-04-16T15:12:32.932Z"
   },
   {
    "duration": 499,
    "start_time": "2023-04-16T15:12:32.940Z"
   },
   {
    "duration": 188,
    "start_time": "2023-04-16T15:12:33.441Z"
   },
   {
    "duration": 32,
    "start_time": "2023-04-16T15:12:33.631Z"
   },
   {
    "duration": 36,
    "start_time": "2023-04-16T15:12:33.666Z"
   },
   {
    "duration": 126,
    "start_time": "2023-04-16T15:12:33.704Z"
   },
   {
    "duration": 157,
    "start_time": "2023-04-16T15:12:33.832Z"
   },
   {
    "duration": 52,
    "start_time": "2023-04-16T15:12:33.992Z"
   },
   {
    "duration": 9,
    "start_time": "2023-04-16T15:12:34.046Z"
   },
   {
    "duration": 39,
    "start_time": "2023-04-16T15:12:34.056Z"
   },
   {
    "duration": 24,
    "start_time": "2023-04-16T15:12:34.097Z"
   },
   {
    "duration": 14,
    "start_time": "2023-04-16T15:12:34.123Z"
   },
   {
    "duration": 16,
    "start_time": "2023-04-16T15:12:34.139Z"
   },
   {
    "duration": 47,
    "start_time": "2023-04-16T15:12:34.157Z"
   },
   {
    "duration": 41,
    "start_time": "2023-04-16T15:12:34.206Z"
   },
   {
    "duration": 5,
    "start_time": "2023-04-16T15:12:34.249Z"
   },
   {
    "duration": 117,
    "start_time": "2023-04-16T15:12:34.256Z"
   },
   {
    "duration": 33,
    "start_time": "2023-04-16T15:12:34.384Z"
   },
   {
    "duration": 18,
    "start_time": "2023-04-16T15:12:34.418Z"
   },
   {
    "duration": 135,
    "start_time": "2023-04-16T15:12:34.438Z"
   },
   {
    "duration": 21,
    "start_time": "2023-04-16T15:12:34.575Z"
   },
   {
    "duration": 30,
    "start_time": "2023-04-16T15:12:34.601Z"
   },
   {
    "duration": 3,
    "start_time": "2023-04-16T15:12:51.513Z"
   },
   {
    "duration": 4,
    "start_time": "2023-04-16T15:12:52.106Z"
   },
   {
    "duration": 35360,
    "start_time": "2023-04-16T15:12:53.049Z"
   },
   {
    "duration": 217,
    "start_time": "2023-04-16T15:13:30.413Z"
   },
   {
    "duration": 150,
    "start_time": "2023-04-16T15:13:31.250Z"
   },
   {
    "duration": 6,
    "start_time": "2023-04-16T15:14:03.985Z"
   },
   {
    "duration": 6,
    "start_time": "2023-04-16T15:14:04.504Z"
   },
   {
    "duration": 7,
    "start_time": "2023-04-16T15:14:08.896Z"
   },
   {
    "duration": 11,
    "start_time": "2023-04-16T15:14:09.305Z"
   },
   {
    "duration": 148,
    "start_time": "2023-04-16T15:14:10.796Z"
   },
   {
    "duration": 135,
    "start_time": "2023-04-16T15:14:12.553Z"
   },
   {
    "duration": 21,
    "start_time": "2023-04-16T15:14:13.009Z"
   },
   {
    "duration": 32,
    "start_time": "2023-04-16T15:14:13.438Z"
   },
   {
    "duration": 149,
    "start_time": "2023-04-16T15:14:14.242Z"
   },
   {
    "duration": 14,
    "start_time": "2023-04-16T15:14:14.685Z"
   },
   {
    "duration": 29,
    "start_time": "2023-04-16T15:14:15.229Z"
   },
   {
    "duration": 160,
    "start_time": "2023-04-16T15:14:17.729Z"
   },
   {
    "duration": 8,
    "start_time": "2023-04-16T15:14:19.425Z"
   },
   {
    "duration": 30,
    "start_time": "2023-04-16T15:14:19.916Z"
   },
   {
    "duration": 26,
    "start_time": "2023-04-16T15:14:20.523Z"
   },
   {
    "duration": 172,
    "start_time": "2023-04-16T15:14:21.945Z"
   },
   {
    "duration": 33,
    "start_time": "2023-04-16T15:14:22.412Z"
   },
   {
    "duration": 95,
    "start_time": "2023-04-16T15:14:23.115Z"
   },
   {
    "duration": 7,
    "start_time": "2023-04-16T15:14:26.451Z"
   },
   {
    "duration": 27,
    "start_time": "2023-04-16T15:14:26.915Z"
   },
   {
    "duration": 29,
    "start_time": "2023-04-16T15:14:27.317Z"
   },
   {
    "duration": 26,
    "start_time": "2023-04-16T15:14:31.824Z"
   },
   {
    "duration": 156,
    "start_time": "2023-04-16T15:14:32.507Z"
   },
   {
    "duration": 129,
    "start_time": "2023-04-16T15:17:05.440Z"
   },
   {
    "duration": 11,
    "start_time": "2023-04-16T15:17:05.998Z"
   },
   {
    "duration": 22,
    "start_time": "2023-04-16T15:17:33.011Z"
   },
   {
    "duration": 118,
    "start_time": "2023-04-16T15:17:39.725Z"
   },
   {
    "duration": 21,
    "start_time": "2023-04-16T15:17:40.228Z"
   },
   {
    "duration": 125,
    "start_time": "2023-04-16T15:17:53.824Z"
   },
   {
    "duration": 9,
    "start_time": "2023-04-16T15:17:54.447Z"
   },
   {
    "duration": 19,
    "start_time": "2023-04-16T15:17:55.111Z"
   },
   {
    "duration": 4,
    "start_time": "2023-04-16T15:18:41.032Z"
   },
   {
    "duration": 136,
    "start_time": "2023-04-16T15:18:51.218Z"
   },
   {
    "duration": 21,
    "start_time": "2023-04-16T15:18:51.682Z"
   },
   {
    "duration": 54,
    "start_time": "2023-04-16T15:18:52.281Z"
   },
   {
    "duration": 36,
    "start_time": "2023-04-16T15:19:40.618Z"
   },
   {
    "duration": 119,
    "start_time": "2023-04-16T15:19:41.221Z"
   },
   {
    "duration": 9,
    "start_time": "2023-04-16T15:19:41.729Z"
   },
   {
    "duration": 19,
    "start_time": "2023-04-16T15:19:42.440Z"
   },
   {
    "duration": 5271,
    "start_time": "2023-04-16T15:19:45.521Z"
   },
   {
    "duration": 179,
    "start_time": "2023-04-16T15:20:11.616Z"
   },
   {
    "duration": 182,
    "start_time": "2023-04-16T15:20:24.978Z"
   },
   {
    "duration": 14,
    "start_time": "2023-04-16T15:22:12.978Z"
   },
   {
    "duration": 121,
    "start_time": "2023-04-16T15:24:12.426Z"
   },
   {
    "duration": 33,
    "start_time": "2023-04-16T15:24:29.894Z"
   },
   {
    "duration": 28,
    "start_time": "2023-04-16T15:24:50.942Z"
   },
   {
    "duration": 38,
    "start_time": "2023-04-16T15:24:59.217Z"
   },
   {
    "duration": 130,
    "start_time": "2023-04-16T15:24:59.710Z"
   },
   {
    "duration": 11,
    "start_time": "2023-04-16T15:25:00.166Z"
   },
   {
    "duration": 57,
    "start_time": "2023-04-16T15:25:00.991Z"
   },
   {
    "duration": 5,
    "start_time": "2023-04-16T15:25:16.327Z"
   },
   {
    "duration": 6651,
    "start_time": "2023-04-16T15:25:22.578Z"
   },
   {
    "duration": 197,
    "start_time": "2023-04-16T15:25:38.981Z"
   },
   {
    "duration": 129,
    "start_time": "2023-04-16T15:25:41.125Z"
   },
   {
    "duration": 46,
    "start_time": "2023-04-16T15:26:12.277Z"
   },
   {
    "duration": 34,
    "start_time": "2023-04-16T15:26:12.719Z"
   },
   {
    "duration": 88,
    "start_time": "2023-04-16T15:26:16.100Z"
   },
   {
    "duration": 14,
    "start_time": "2023-04-16T15:26:16.513Z"
   },
   {
    "duration": 20,
    "start_time": "2023-04-16T15:26:17.277Z"
   },
   {
    "duration": 10,
    "start_time": "2023-04-16T15:26:20.812Z"
   },
   {
    "duration": 4340,
    "start_time": "2023-04-16T15:26:21.277Z"
   },
   {
    "duration": 234,
    "start_time": "2023-04-16T15:26:26.639Z"
   },
   {
    "duration": 189,
    "start_time": "2023-04-16T15:26:27.220Z"
   },
   {
    "duration": 34,
    "start_time": "2023-04-16T15:55:40.126Z"
   },
   {
    "duration": 115,
    "start_time": "2023-04-16T15:55:40.651Z"
   },
   {
    "duration": 125,
    "start_time": "2023-04-16T15:55:56.812Z"
   },
   {
    "duration": 14,
    "start_time": "2023-04-16T15:56:06.043Z"
   },
   {
    "duration": 21,
    "start_time": "2023-04-16T15:56:18.312Z"
   },
   {
    "duration": 5,
    "start_time": "2023-04-16T15:58:11.559Z"
   },
   {
    "duration": 23434,
    "start_time": "2023-04-16T15:58:35.008Z"
   },
   {
    "duration": 165,
    "start_time": "2023-04-16T15:59:16.241Z"
   },
   {
    "duration": 141,
    "start_time": "2023-04-16T15:59:30.961Z"
   },
   {
    "duration": 85,
    "start_time": "2023-04-16T16:01:19.226Z"
   },
   {
    "duration": 26,
    "start_time": "2023-04-16T16:01:19.726Z"
   },
   {
    "duration": 35,
    "start_time": "2023-04-16T16:01:20.218Z"
   },
   {
    "duration": 159,
    "start_time": "2023-04-16T16:01:20.756Z"
   },
   {
    "duration": 61,
    "start_time": "2023-04-16T16:05:35.422Z"
   },
   {
    "duration": 5,
    "start_time": "2023-04-16T16:07:58.772Z"
   },
   {
    "duration": 1198,
    "start_time": "2023-04-16T16:07:58.819Z"
   },
   {
    "duration": 19,
    "start_time": "2023-04-16T16:08:00.027Z"
   },
   {
    "duration": 282,
    "start_time": "2023-04-16T16:08:00.049Z"
   },
   {
    "duration": 20,
    "start_time": "2023-04-16T16:08:00.333Z"
   },
   {
    "duration": 244,
    "start_time": "2023-04-16T16:08:00.356Z"
   },
   {
    "duration": 676,
    "start_time": "2023-04-16T16:08:00.604Z"
   },
   {
    "duration": 505,
    "start_time": "2023-04-16T16:08:01.286Z"
   },
   {
    "duration": 16,
    "start_time": "2023-04-16T16:08:01.793Z"
   },
   {
    "duration": 624,
    "start_time": "2023-04-16T16:08:01.811Z"
   },
   {
    "duration": 9,
    "start_time": "2023-04-16T16:08:02.439Z"
   },
   {
    "duration": 624,
    "start_time": "2023-04-16T16:08:02.450Z"
   },
   {
    "duration": 209,
    "start_time": "2023-04-16T16:08:03.076Z"
   },
   {
    "duration": 60,
    "start_time": "2023-04-16T16:08:03.287Z"
   },
   {
    "duration": 36,
    "start_time": "2023-04-16T16:08:03.352Z"
   },
   {
    "duration": 143,
    "start_time": "2023-04-16T16:08:03.390Z"
   },
   {
    "duration": 108,
    "start_time": "2023-04-16T16:08:03.535Z"
   },
   {
    "duration": 23,
    "start_time": "2023-04-16T16:08:03.645Z"
   },
   {
    "duration": 23,
    "start_time": "2023-04-16T16:08:03.670Z"
   },
   {
    "duration": 49,
    "start_time": "2023-04-16T16:08:03.695Z"
   },
   {
    "duration": 34,
    "start_time": "2023-04-16T16:08:03.746Z"
   },
   {
    "duration": 51,
    "start_time": "2023-04-16T16:08:03.782Z"
   },
   {
    "duration": 25,
    "start_time": "2023-04-16T16:08:03.835Z"
   },
   {
    "duration": 70,
    "start_time": "2023-04-16T16:08:03.862Z"
   },
   {
    "duration": 52,
    "start_time": "2023-04-16T16:08:03.935Z"
   },
   {
    "duration": 10,
    "start_time": "2023-04-16T16:08:03.988Z"
   },
   {
    "duration": 177,
    "start_time": "2023-04-16T16:08:04.000Z"
   },
   {
    "duration": 53,
    "start_time": "2023-04-16T16:08:04.179Z"
   },
   {
    "duration": 15,
    "start_time": "2023-04-16T16:08:04.234Z"
   },
   {
    "duration": 72,
    "start_time": "2023-04-16T16:08:04.252Z"
   },
   {
    "duration": 0,
    "start_time": "2023-04-16T16:08:04.329Z"
   },
   {
    "duration": 0,
    "start_time": "2023-04-16T16:08:04.330Z"
   },
   {
    "duration": 0,
    "start_time": "2023-04-16T16:08:04.332Z"
   },
   {
    "duration": 0,
    "start_time": "2023-04-16T16:08:04.333Z"
   },
   {
    "duration": 0,
    "start_time": "2023-04-16T16:08:04.335Z"
   },
   {
    "duration": 0,
    "start_time": "2023-04-16T16:08:04.336Z"
   },
   {
    "duration": 0,
    "start_time": "2023-04-16T16:08:04.337Z"
   },
   {
    "duration": 0,
    "start_time": "2023-04-16T16:08:04.339Z"
   },
   {
    "duration": 0,
    "start_time": "2023-04-16T16:08:04.341Z"
   },
   {
    "duration": 0,
    "start_time": "2023-04-16T16:08:04.343Z"
   },
   {
    "duration": 0,
    "start_time": "2023-04-16T16:08:04.345Z"
   },
   {
    "duration": 0,
    "start_time": "2023-04-16T16:08:04.346Z"
   },
   {
    "duration": 0,
    "start_time": "2023-04-16T16:08:04.347Z"
   },
   {
    "duration": 0,
    "start_time": "2023-04-16T16:08:04.348Z"
   },
   {
    "duration": 0,
    "start_time": "2023-04-16T16:08:04.350Z"
   },
   {
    "duration": 0,
    "start_time": "2023-04-16T16:08:04.351Z"
   },
   {
    "duration": 0,
    "start_time": "2023-04-16T16:08:04.352Z"
   },
   {
    "duration": 0,
    "start_time": "2023-04-16T16:08:04.354Z"
   },
   {
    "duration": 0,
    "start_time": "2023-04-16T16:08:04.355Z"
   },
   {
    "duration": 0,
    "start_time": "2023-04-16T16:08:04.356Z"
   },
   {
    "duration": 0,
    "start_time": "2023-04-16T16:08:04.357Z"
   },
   {
    "duration": 0,
    "start_time": "2023-04-16T16:08:04.359Z"
   },
   {
    "duration": 0,
    "start_time": "2023-04-16T16:08:04.360Z"
   },
   {
    "duration": 0,
    "start_time": "2023-04-16T16:08:04.361Z"
   },
   {
    "duration": 0,
    "start_time": "2023-04-16T16:08:04.363Z"
   },
   {
    "duration": 0,
    "start_time": "2023-04-16T16:08:04.364Z"
   },
   {
    "duration": 0,
    "start_time": "2023-04-16T16:08:04.365Z"
   },
   {
    "duration": 0,
    "start_time": "2023-04-16T16:08:04.366Z"
   },
   {
    "duration": 0,
    "start_time": "2023-04-16T16:08:04.368Z"
   },
   {
    "duration": 0,
    "start_time": "2023-04-16T16:08:04.369Z"
   },
   {
    "duration": 0,
    "start_time": "2023-04-16T16:08:04.370Z"
   },
   {
    "duration": 0,
    "start_time": "2023-04-16T16:08:04.384Z"
   },
   {
    "duration": 0,
    "start_time": "2023-04-16T16:08:04.385Z"
   },
   {
    "duration": 0,
    "start_time": "2023-04-16T16:08:04.387Z"
   },
   {
    "duration": 0,
    "start_time": "2023-04-16T16:08:04.388Z"
   },
   {
    "duration": 0,
    "start_time": "2023-04-16T16:08:04.390Z"
   },
   {
    "duration": 0,
    "start_time": "2023-04-16T16:08:04.391Z"
   },
   {
    "duration": 0,
    "start_time": "2023-04-16T16:08:04.392Z"
   },
   {
    "duration": 0,
    "start_time": "2023-04-16T16:08:04.394Z"
   },
   {
    "duration": 0,
    "start_time": "2023-04-16T16:08:04.395Z"
   },
   {
    "duration": 0,
    "start_time": "2023-04-16T16:08:04.397Z"
   },
   {
    "duration": 0,
    "start_time": "2023-04-16T16:08:04.398Z"
   },
   {
    "duration": 0,
    "start_time": "2023-04-16T16:08:04.400Z"
   },
   {
    "duration": 0,
    "start_time": "2023-04-16T16:08:04.401Z"
   },
   {
    "duration": 0,
    "start_time": "2023-04-16T16:08:04.403Z"
   },
   {
    "duration": 0,
    "start_time": "2023-04-16T16:08:04.404Z"
   },
   {
    "duration": 0,
    "start_time": "2023-04-16T16:08:04.405Z"
   },
   {
    "duration": 0,
    "start_time": "2023-04-16T16:08:04.407Z"
   },
   {
    "duration": 0,
    "start_time": "2023-04-16T16:08:04.408Z"
   },
   {
    "duration": 0,
    "start_time": "2023-04-16T16:08:04.409Z"
   },
   {
    "duration": 0,
    "start_time": "2023-04-16T16:08:04.410Z"
   },
   {
    "duration": 0,
    "start_time": "2023-04-16T16:08:04.411Z"
   },
   {
    "duration": 1,
    "start_time": "2023-04-16T16:08:04.412Z"
   },
   {
    "duration": 0,
    "start_time": "2023-04-16T16:08:04.414Z"
   },
   {
    "duration": 0,
    "start_time": "2023-04-16T16:08:04.415Z"
   },
   {
    "duration": 0,
    "start_time": "2023-04-16T16:08:04.416Z"
   },
   {
    "duration": 0,
    "start_time": "2023-04-16T16:08:04.417Z"
   },
   {
    "duration": 0,
    "start_time": "2023-04-16T16:08:04.418Z"
   },
   {
    "duration": 0,
    "start_time": "2023-04-16T16:08:04.419Z"
   },
   {
    "duration": 0,
    "start_time": "2023-04-16T16:08:04.420Z"
   },
   {
    "duration": 0,
    "start_time": "2023-04-16T16:08:04.421Z"
   },
   {
    "duration": 0,
    "start_time": "2023-04-16T16:08:04.423Z"
   },
   {
    "duration": 0,
    "start_time": "2023-04-16T16:08:04.424Z"
   },
   {
    "duration": 0,
    "start_time": "2023-04-16T16:08:04.426Z"
   },
   {
    "duration": 0,
    "start_time": "2023-04-16T16:08:04.427Z"
   },
   {
    "duration": 0,
    "start_time": "2023-04-16T16:08:04.428Z"
   },
   {
    "duration": 0,
    "start_time": "2023-04-16T16:08:04.430Z"
   },
   {
    "duration": 0,
    "start_time": "2023-04-16T16:08:04.431Z"
   },
   {
    "duration": 0,
    "start_time": "2023-04-16T16:08:04.432Z"
   },
   {
    "duration": 0,
    "start_time": "2023-04-16T16:08:04.434Z"
   },
   {
    "duration": 0,
    "start_time": "2023-04-16T16:08:04.482Z"
   },
   {
    "duration": 0,
    "start_time": "2023-04-16T16:08:04.484Z"
   },
   {
    "duration": 0,
    "start_time": "2023-04-16T16:08:04.487Z"
   },
   {
    "duration": 0,
    "start_time": "2023-04-16T16:08:04.488Z"
   },
   {
    "duration": 0,
    "start_time": "2023-04-16T16:08:04.491Z"
   },
   {
    "duration": 0,
    "start_time": "2023-04-16T16:08:04.492Z"
   },
   {
    "duration": 0,
    "start_time": "2023-04-16T16:08:04.493Z"
   },
   {
    "duration": 0,
    "start_time": "2023-04-16T16:08:04.496Z"
   },
   {
    "duration": 5,
    "start_time": "2023-04-16T16:08:29.612Z"
   },
   {
    "duration": 1155,
    "start_time": "2023-04-16T16:08:29.620Z"
   },
   {
    "duration": 29,
    "start_time": "2023-04-16T16:08:30.777Z"
   },
   {
    "duration": 246,
    "start_time": "2023-04-16T16:08:30.809Z"
   },
   {
    "duration": 21,
    "start_time": "2023-04-16T16:08:31.058Z"
   },
   {
    "duration": 276,
    "start_time": "2023-04-16T16:08:31.081Z"
   },
   {
    "duration": 580,
    "start_time": "2023-04-16T16:08:31.359Z"
   },
   {
    "duration": 677,
    "start_time": "2023-04-16T16:08:31.941Z"
   },
   {
    "duration": 5,
    "start_time": "2023-04-16T16:08:32.622Z"
   },
   {
    "duration": 687,
    "start_time": "2023-04-16T16:08:32.629Z"
   },
   {
    "duration": 5,
    "start_time": "2023-04-16T16:08:33.318Z"
   },
   {
    "duration": 557,
    "start_time": "2023-04-16T16:08:33.325Z"
   },
   {
    "duration": 230,
    "start_time": "2023-04-16T16:08:33.884Z"
   },
   {
    "duration": 67,
    "start_time": "2023-04-16T16:08:34.125Z"
   },
   {
    "duration": 67,
    "start_time": "2023-04-16T16:08:34.194Z"
   },
   {
    "duration": 153,
    "start_time": "2023-04-16T16:08:34.264Z"
   },
   {
    "duration": 111,
    "start_time": "2023-04-16T16:08:34.421Z"
   },
   {
    "duration": 23,
    "start_time": "2023-04-16T16:08:34.535Z"
   },
   {
    "duration": 32,
    "start_time": "2023-04-16T16:08:34.560Z"
   },
   {
    "duration": 36,
    "start_time": "2023-04-16T16:08:34.598Z"
   },
   {
    "duration": 7,
    "start_time": "2023-04-16T16:08:34.637Z"
   },
   {
    "duration": 29,
    "start_time": "2023-04-16T16:08:34.647Z"
   },
   {
    "duration": 47,
    "start_time": "2023-04-16T16:08:34.678Z"
   },
   {
    "duration": 71,
    "start_time": "2023-04-16T16:08:34.727Z"
   },
   {
    "duration": 41,
    "start_time": "2023-04-16T16:08:34.800Z"
   },
   {
    "duration": 6,
    "start_time": "2023-04-16T16:08:34.843Z"
   },
   {
    "duration": 219,
    "start_time": "2023-04-16T16:08:34.851Z"
   },
   {
    "duration": 63,
    "start_time": "2023-04-16T16:08:35.072Z"
   },
   {
    "duration": 45,
    "start_time": "2023-04-16T16:08:35.137Z"
   },
   {
    "duration": 185,
    "start_time": "2023-04-16T16:08:35.184Z"
   },
   {
    "duration": 33,
    "start_time": "2023-04-16T16:08:35.371Z"
   },
   {
    "duration": 36,
    "start_time": "2023-04-16T16:08:35.414Z"
   },
   {
    "duration": 132,
    "start_time": "2023-04-16T16:08:35.453Z"
   },
   {
    "duration": 33,
    "start_time": "2023-04-16T16:08:35.590Z"
   },
   {
    "duration": 22,
    "start_time": "2023-04-16T16:08:35.626Z"
   },
   {
    "duration": 12,
    "start_time": "2023-04-16T16:08:35.650Z"
   },
   {
    "duration": 14,
    "start_time": "2023-04-16T16:08:35.664Z"
   },
   {
    "duration": 37209,
    "start_time": "2023-04-16T16:08:35.681Z"
   },
   {
    "duration": 215,
    "start_time": "2023-04-16T16:09:12.892Z"
   },
   {
    "duration": 39,
    "start_time": "2023-04-16T16:09:13.109Z"
   },
   {
    "duration": 99,
    "start_time": "2023-04-16T16:09:13.157Z"
   },
   {
    "duration": 9,
    "start_time": "2023-04-16T16:09:13.258Z"
   },
   {
    "duration": 60,
    "start_time": "2023-04-16T16:09:13.269Z"
   },
   {
    "duration": 5144,
    "start_time": "2023-04-16T16:09:13.332Z"
   },
   {
    "duration": 207,
    "start_time": "2023-04-16T16:09:18.478Z"
   },
   {
    "duration": 127,
    "start_time": "2023-04-16T16:09:18.691Z"
   },
   {
    "duration": 6,
    "start_time": "2023-04-16T16:09:18.821Z"
   },
   {
    "duration": 22,
    "start_time": "2023-04-16T16:09:18.828Z"
   },
   {
    "duration": 72,
    "start_time": "2023-04-16T16:09:18.851Z"
   },
   {
    "duration": 51,
    "start_time": "2023-04-16T16:09:18.925Z"
   },
   {
    "duration": 83,
    "start_time": "2023-04-16T16:09:18.978Z"
   },
   {
    "duration": 200,
    "start_time": "2023-04-16T16:09:19.064Z"
   },
   {
    "duration": 47,
    "start_time": "2023-04-16T16:09:19.267Z"
   },
   {
    "duration": 176,
    "start_time": "2023-04-16T16:09:19.316Z"
   },
   {
    "duration": 19,
    "start_time": "2023-04-16T16:09:19.495Z"
   },
   {
    "duration": 40,
    "start_time": "2023-04-16T16:09:19.516Z"
   },
   {
    "duration": 32,
    "start_time": "2023-04-16T16:09:19.560Z"
   },
   {
    "duration": 45,
    "start_time": "2023-04-16T16:09:19.594Z"
   },
   {
    "duration": 121,
    "start_time": "2023-04-16T16:09:19.641Z"
   },
   {
    "duration": 24,
    "start_time": "2023-04-16T16:09:19.764Z"
   },
   {
    "duration": 48,
    "start_time": "2023-04-16T16:09:19.792Z"
   },
   {
    "duration": 160,
    "start_time": "2023-04-16T16:09:19.841Z"
   },
   {
    "duration": 17,
    "start_time": "2023-04-16T16:09:20.004Z"
   },
   {
    "duration": 52,
    "start_time": "2023-04-16T16:09:20.028Z"
   },
   {
    "duration": 49,
    "start_time": "2023-04-16T16:09:20.082Z"
   },
   {
    "duration": 15,
    "start_time": "2023-04-16T16:09:20.133Z"
   },
   {
    "duration": 39361,
    "start_time": "2023-04-16T16:09:20.150Z"
   },
   {
    "duration": 150,
    "start_time": "2023-04-16T16:09:59.513Z"
   },
   {
    "duration": 29,
    "start_time": "2023-04-16T16:09:59.665Z"
   },
   {
    "duration": 106,
    "start_time": "2023-04-16T16:09:59.696Z"
   },
   {
    "duration": 15,
    "start_time": "2023-04-16T16:09:59.815Z"
   },
   {
    "duration": 4682,
    "start_time": "2023-04-16T16:09:59.836Z"
   },
   {
    "duration": 184,
    "start_time": "2023-04-16T16:10:04.520Z"
   },
   {
    "duration": 134,
    "start_time": "2023-04-16T16:10:04.707Z"
   },
   {
    "duration": 110,
    "start_time": "2023-04-16T16:10:04.844Z"
   },
   {
    "duration": 36,
    "start_time": "2023-04-16T16:10:04.956Z"
   },
   {
    "duration": 84,
    "start_time": "2023-04-16T16:10:04.994Z"
   },
   {
    "duration": 31,
    "start_time": "2023-04-16T16:10:05.080Z"
   },
   {
    "duration": 135,
    "start_time": "2023-04-16T16:10:05.113Z"
   },
   {
    "duration": 9,
    "start_time": "2023-04-16T16:10:05.251Z"
   },
   {
    "duration": 84,
    "start_time": "2023-04-16T16:10:05.263Z"
   },
   {
    "duration": 32,
    "start_time": "2023-04-16T16:10:05.349Z"
   },
   {
    "duration": 4536,
    "start_time": "2023-04-16T16:10:05.386Z"
   },
   {
    "duration": 192,
    "start_time": "2023-04-16T16:10:09.924Z"
   },
   {
    "duration": 144,
    "start_time": "2023-04-16T16:10:10.119Z"
   },
   {
    "duration": 53,
    "start_time": "2023-04-16T16:10:10.265Z"
   },
   {
    "duration": 175,
    "start_time": "2023-04-16T16:10:10.320Z"
   },
   {
    "duration": 13,
    "start_time": "2023-04-16T16:10:10.497Z"
   },
   {
    "duration": 49,
    "start_time": "2023-04-16T16:10:10.511Z"
   },
   {
    "duration": 51,
    "start_time": "2023-04-16T16:10:10.562Z"
   },
   {
    "duration": 27491,
    "start_time": "2023-04-16T16:10:10.615Z"
   },
   {
    "duration": 151,
    "start_time": "2023-04-16T16:10:38.110Z"
   },
   {
    "duration": 131,
    "start_time": "2023-04-16T16:10:38.262Z"
   },
   {
    "duration": 8,
    "start_time": "2023-04-16T16:10:38.395Z"
   },
   {
    "duration": 25,
    "start_time": "2023-04-16T16:10:38.412Z"
   },
   {
    "duration": 133,
    "start_time": "2023-04-16T16:10:38.439Z"
   },
   {
    "duration": 117,
    "start_time": "2023-04-16T16:10:38.573Z"
   },
   {
    "duration": 21,
    "start_time": "2023-04-16T16:10:38.692Z"
   },
   {
    "duration": 46,
    "start_time": "2023-04-16T16:10:38.715Z"
   },
   {
    "duration": 101,
    "start_time": "2023-04-16T16:10:38.763Z"
   },
   {
    "duration": 8,
    "start_time": "2023-04-16T16:10:38.866Z"
   },
   {
    "duration": 30,
    "start_time": "2023-04-16T16:10:38.890Z"
   },
   {
    "duration": 121,
    "start_time": "2023-04-16T16:10:38.923Z"
   },
   {
    "duration": 9,
    "start_time": "2023-04-16T16:10:39.046Z"
   },
   {
    "duration": 49,
    "start_time": "2023-04-16T16:10:39.056Z"
   },
   {
    "duration": 142,
    "start_time": "2023-04-16T16:10:39.107Z"
   },
   {
    "duration": 17,
    "start_time": "2023-04-16T16:10:39.251Z"
   },
   {
    "duration": 10,
    "start_time": "2023-04-16T16:10:59.694Z"
   },
   {
    "duration": 180,
    "start_time": "2023-04-16T16:11:12.918Z"
   },
   {
    "duration": 146,
    "start_time": "2023-04-16T16:13:51.159Z"
   },
   {
    "duration": 5,
    "start_time": "2023-04-16T16:14:00.239Z"
   },
   {
    "duration": 7,
    "start_time": "2023-04-16T16:14:20.902Z"
   },
   {
    "duration": 50,
    "start_time": "2023-04-16T16:16:45.721Z"
   },
   {
    "duration": 13,
    "start_time": "2023-04-16T16:17:54.616Z"
   },
   {
    "duration": 12,
    "start_time": "2023-04-16T16:17:55.419Z"
   },
   {
    "duration": 14,
    "start_time": "2023-04-16T16:17:55.959Z"
   },
   {
    "duration": 5,
    "start_time": "2023-04-16T16:18:01.032Z"
   },
   {
    "duration": 1728,
    "start_time": "2023-04-16T16:18:01.712Z"
   },
   {
    "duration": 7,
    "start_time": "2023-04-16T16:18:23.110Z"
   },
   {
    "duration": 10,
    "start_time": "2023-04-16T16:18:24.117Z"
   },
   {
    "duration": 1029,
    "start_time": "2023-04-16T16:18:27.309Z"
   },
   {
    "duration": 64,
    "start_time": "2023-04-16T16:18:32.309Z"
   },
   {
    "duration": 23,
    "start_time": "2023-04-16T16:18:40.726Z"
   },
   {
    "duration": 144,
    "start_time": "2023-04-16T16:18:41.504Z"
   },
   {
    "duration": 42,
    "start_time": "2023-04-16T16:18:47.110Z"
   },
   {
    "duration": 151,
    "start_time": "2023-04-16T16:18:51.428Z"
   },
   {
    "duration": 1292,
    "start_time": "2023-04-16T16:19:09.940Z"
   },
   {
    "duration": 798,
    "start_time": "2023-04-16T16:20:16.546Z"
   },
   {
    "duration": 57,
    "start_time": "2023-04-16T16:22:37.535Z"
   },
   {
    "duration": 128,
    "start_time": "2023-04-16T16:23:55.601Z"
   },
   {
    "duration": 105,
    "start_time": "2023-04-16T16:24:06.312Z"
   },
   {
    "duration": 235,
    "start_time": "2023-04-16T16:24:09.018Z"
   },
   {
    "duration": 166,
    "start_time": "2023-04-16T16:24:30.100Z"
   },
   {
    "duration": 4,
    "start_time": "2023-04-16T16:24:35.451Z"
   },
   {
    "duration": 3,
    "start_time": "2023-04-16T16:24:39.001Z"
   },
   {
    "duration": 129,
    "start_time": "2023-04-16T16:24:55.008Z"
   },
   {
    "duration": 8,
    "start_time": "2023-04-16T16:24:58.858Z"
   },
   {
    "duration": 8,
    "start_time": "2023-04-16T16:25:24.556Z"
   },
   {
    "duration": 198,
    "start_time": "2023-04-16T16:25:55.110Z"
   },
   {
    "duration": 48,
    "start_time": "2023-04-16T16:26:18.507Z"
   },
   {
    "duration": 2147,
    "start_time": "2023-04-16T16:26:34.275Z"
   },
   {
    "duration": 3249,
    "start_time": "2023-04-16T16:26:36.425Z"
   },
   {
    "duration": 33,
    "start_time": "2023-04-16T16:26:39.677Z"
   },
   {
    "duration": 187,
    "start_time": "2023-04-16T16:26:39.712Z"
   },
   {
    "duration": 14,
    "start_time": "2023-04-16T16:26:39.908Z"
   },
   {
    "duration": 226,
    "start_time": "2023-04-16T16:26:39.925Z"
   },
   {
    "duration": 599,
    "start_time": "2023-04-16T16:26:40.153Z"
   },
   {
    "duration": 520,
    "start_time": "2023-04-16T16:26:40.753Z"
   },
   {
    "duration": 15,
    "start_time": "2023-04-16T16:26:41.275Z"
   },
   {
    "duration": 594,
    "start_time": "2023-04-16T16:26:41.292Z"
   },
   {
    "duration": 14,
    "start_time": "2023-04-16T16:26:41.887Z"
   },
   {
    "duration": 514,
    "start_time": "2023-04-16T16:26:41.903Z"
   },
   {
    "duration": 137,
    "start_time": "2023-04-16T16:26:42.418Z"
   },
   {
    "duration": 42,
    "start_time": "2023-04-16T16:26:42.559Z"
   },
   {
    "duration": 40,
    "start_time": "2023-04-16T16:26:42.604Z"
   },
   {
    "duration": 111,
    "start_time": "2023-04-16T16:26:42.645Z"
   },
   {
    "duration": 111,
    "start_time": "2023-04-16T16:26:42.758Z"
   },
   {
    "duration": 27,
    "start_time": "2023-04-16T16:26:42.871Z"
   },
   {
    "duration": 33,
    "start_time": "2023-04-16T16:26:42.900Z"
   },
   {
    "duration": 11,
    "start_time": "2023-04-16T16:26:42.935Z"
   },
   {
    "duration": 11,
    "start_time": "2023-04-16T16:26:42.947Z"
   },
   {
    "duration": 6,
    "start_time": "2023-04-16T16:26:42.960Z"
   },
   {
    "duration": 7,
    "start_time": "2023-04-16T16:26:42.968Z"
   },
   {
    "duration": 63,
    "start_time": "2023-04-16T16:26:42.976Z"
   },
   {
    "duration": 50,
    "start_time": "2023-04-16T16:26:43.041Z"
   },
   {
    "duration": 4,
    "start_time": "2023-04-16T16:26:43.095Z"
   },
   {
    "duration": 104,
    "start_time": "2023-04-16T16:26:43.101Z"
   },
   {
    "duration": 18,
    "start_time": "2023-04-16T16:26:43.206Z"
   },
   {
    "duration": 13,
    "start_time": "2023-04-16T16:26:43.227Z"
   },
   {
    "duration": 130,
    "start_time": "2023-04-16T16:26:43.244Z"
   },
   {
    "duration": 37,
    "start_time": "2023-04-16T16:26:43.376Z"
   },
   {
    "duration": 27,
    "start_time": "2023-04-16T16:26:43.415Z"
   },
   {
    "duration": 123,
    "start_time": "2023-04-16T16:26:43.444Z"
   },
   {
    "duration": 15,
    "start_time": "2023-04-16T16:26:43.569Z"
   },
   {
    "duration": 15,
    "start_time": "2023-04-16T16:26:43.593Z"
   },
   {
    "duration": 3,
    "start_time": "2023-04-16T16:26:43.610Z"
   },
   {
    "duration": 6,
    "start_time": "2023-04-16T16:26:43.614Z"
   },
   {
    "duration": 30900,
    "start_time": "2023-04-16T16:26:43.622Z"
   },
   {
    "duration": 274,
    "start_time": "2023-04-16T16:27:14.524Z"
   },
   {
    "duration": 43,
    "start_time": "2023-04-16T16:27:14.799Z"
   },
   {
    "duration": 116,
    "start_time": "2023-04-16T16:27:14.849Z"
   },
   {
    "duration": 7,
    "start_time": "2023-04-16T16:27:14.968Z"
   },
   {
    "duration": 48,
    "start_time": "2023-04-16T16:27:14.987Z"
   },
   {
    "duration": 3316,
    "start_time": "2023-04-16T16:27:15.038Z"
   },
   {
    "duration": 148,
    "start_time": "2023-04-16T16:27:18.355Z"
   },
   {
    "duration": 99,
    "start_time": "2023-04-16T16:27:18.505Z"
   },
   {
    "duration": 5,
    "start_time": "2023-04-16T16:27:18.606Z"
   },
   {
    "duration": 29,
    "start_time": "2023-04-16T16:27:18.612Z"
   },
   {
    "duration": 37,
    "start_time": "2023-04-16T16:27:18.643Z"
   },
   {
    "duration": 60,
    "start_time": "2023-04-16T16:27:18.681Z"
   },
   {
    "duration": 56,
    "start_time": "2023-04-16T16:27:18.743Z"
   },
   {
    "duration": 146,
    "start_time": "2023-04-16T16:27:18.802Z"
   },
   {
    "duration": 24,
    "start_time": "2023-04-16T16:27:18.950Z"
   },
   {
    "duration": 107,
    "start_time": "2023-04-16T16:27:18.987Z"
   },
   {
    "duration": 17,
    "start_time": "2023-04-16T16:27:19.096Z"
   },
   {
    "duration": 35,
    "start_time": "2023-04-16T16:27:19.115Z"
   },
   {
    "duration": 22,
    "start_time": "2023-04-16T16:27:19.151Z"
   },
   {
    "duration": 57,
    "start_time": "2023-04-16T16:27:19.174Z"
   },
   {
    "duration": 91,
    "start_time": "2023-04-16T16:27:19.233Z"
   },
   {
    "duration": 20,
    "start_time": "2023-04-16T16:27:19.326Z"
   },
   {
    "duration": 33,
    "start_time": "2023-04-16T16:27:19.347Z"
   },
   {
    "duration": 157,
    "start_time": "2023-04-16T16:27:19.385Z"
   },
   {
    "duration": 14,
    "start_time": "2023-04-16T16:27:19.544Z"
   },
   {
    "duration": 29,
    "start_time": "2023-04-16T16:27:19.560Z"
   },
   {
    "duration": 45,
    "start_time": "2023-04-16T16:27:19.591Z"
   },
   {
    "duration": 20,
    "start_time": "2023-04-16T16:27:19.637Z"
   },
   {
    "duration": 32251,
    "start_time": "2023-04-16T16:27:19.659Z"
   },
   {
    "duration": 160,
    "start_time": "2023-04-16T16:27:51.912Z"
   },
   {
    "duration": 38,
    "start_time": "2023-04-16T16:27:52.074Z"
   },
   {
    "duration": 89,
    "start_time": "2023-04-16T16:27:52.113Z"
   },
   {
    "duration": 7,
    "start_time": "2023-04-16T16:27:52.203Z"
   },
   {
    "duration": 3607,
    "start_time": "2023-04-16T16:27:52.211Z"
   },
   {
    "duration": 142,
    "start_time": "2023-04-16T16:27:55.820Z"
   },
   {
    "duration": 100,
    "start_time": "2023-04-16T16:27:55.964Z"
   },
   {
    "duration": 82,
    "start_time": "2023-04-16T16:27:56.066Z"
   },
   {
    "duration": 30,
    "start_time": "2023-04-16T16:27:56.150Z"
   },
   {
    "duration": 45,
    "start_time": "2023-04-16T16:27:56.182Z"
   },
   {
    "duration": 26,
    "start_time": "2023-04-16T16:27:56.229Z"
   },
   {
    "duration": 98,
    "start_time": "2023-04-16T16:27:56.257Z"
   },
   {
    "duration": 8,
    "start_time": "2023-04-16T16:27:56.357Z"
   },
   {
    "duration": 31,
    "start_time": "2023-04-16T16:27:56.367Z"
   },
   {
    "duration": 4,
    "start_time": "2023-04-16T16:27:56.403Z"
   },
   {
    "duration": 3399,
    "start_time": "2023-04-16T16:27:56.409Z"
   },
   {
    "duration": 156,
    "start_time": "2023-04-16T16:27:59.810Z"
   },
   {
    "duration": 107,
    "start_time": "2023-04-16T16:27:59.968Z"
   },
   {
    "duration": 37,
    "start_time": "2023-04-16T16:28:00.076Z"
   },
   {
    "duration": 115,
    "start_time": "2023-04-16T16:28:00.115Z"
   },
   {
    "duration": 9,
    "start_time": "2023-04-16T16:28:00.232Z"
   },
   {
    "duration": 42,
    "start_time": "2023-04-16T16:28:00.243Z"
   },
   {
    "duration": 26,
    "start_time": "2023-04-16T16:28:00.302Z"
   },
   {
    "duration": 21035,
    "start_time": "2023-04-16T16:28:00.330Z"
   },
   {
    "duration": 149,
    "start_time": "2023-04-16T16:28:21.367Z"
   },
   {
    "duration": 110,
    "start_time": "2023-04-16T16:28:21.518Z"
   },
   {
    "duration": 7,
    "start_time": "2023-04-16T16:28:21.630Z"
   },
   {
    "duration": 13,
    "start_time": "2023-04-16T16:28:21.639Z"
   },
   {
    "duration": 106,
    "start_time": "2023-04-16T16:28:21.654Z"
   },
   {
    "duration": 129,
    "start_time": "2023-04-16T16:28:21.762Z"
   },
   {
    "duration": 19,
    "start_time": "2023-04-16T16:28:21.893Z"
   },
   {
    "duration": 31,
    "start_time": "2023-04-16T16:28:21.914Z"
   },
   {
    "duration": 112,
    "start_time": "2023-04-16T16:28:21.947Z"
   },
   {
    "duration": 6,
    "start_time": "2023-04-16T16:28:22.061Z"
   },
   {
    "duration": 39,
    "start_time": "2023-04-16T16:28:22.069Z"
   },
   {
    "duration": 84,
    "start_time": "2023-04-16T16:28:22.110Z"
   },
   {
    "duration": 8,
    "start_time": "2023-04-16T16:28:22.196Z"
   },
   {
    "duration": 63,
    "start_time": "2023-04-16T16:28:22.206Z"
   },
   {
    "duration": 98,
    "start_time": "2023-04-16T16:28:22.271Z"
   },
   {
    "duration": 26,
    "start_time": "2023-04-16T16:28:22.372Z"
   },
   {
    "duration": 5,
    "start_time": "2023-04-16T16:28:22.400Z"
   },
   {
    "duration": 118,
    "start_time": "2023-04-16T16:28:22.406Z"
   },
   {
    "duration": 4,
    "start_time": "2023-04-16T16:28:22.526Z"
   },
   {
    "duration": 12,
    "start_time": "2023-04-16T16:28:22.532Z"
   },
   {
    "duration": 43,
    "start_time": "2023-04-16T16:28:22.546Z"
   },
   {
    "duration": 22,
    "start_time": "2023-04-16T16:28:22.595Z"
   },
   {
    "duration": 8,
    "start_time": "2023-04-16T16:28:22.619Z"
   },
   {
    "duration": 15,
    "start_time": "2023-04-16T16:28:22.629Z"
   },
   {
    "duration": 1519,
    "start_time": "2023-04-16T16:28:22.645Z"
   },
   {
    "duration": 5,
    "start_time": "2023-04-16T16:28:24.165Z"
   },
   {
    "duration": 25,
    "start_time": "2023-04-16T16:28:24.185Z"
   },
   {
    "duration": 460,
    "start_time": "2023-04-16T16:28:24.211Z"
   },
   {
    "duration": 55,
    "start_time": "2023-04-16T16:28:24.672Z"
   },
   {
    "duration": 19,
    "start_time": "2023-04-16T16:28:24.729Z"
   },
   {
    "duration": 162,
    "start_time": "2023-04-16T16:28:24.761Z"
   },
   {
    "duration": 29,
    "start_time": "2023-04-16T16:28:24.926Z"
   },
   {
    "duration": 126,
    "start_time": "2023-04-16T16:28:24.956Z"
   },
   {
    "duration": 903,
    "start_time": "2023-04-16T16:28:25.084Z"
   },
   {
    "duration": 413,
    "start_time": "2023-04-16T16:28:25.992Z"
   },
   {
    "duration": 104,
    "start_time": "2023-04-16T16:28:26.407Z"
   },
   {
    "duration": 128,
    "start_time": "2023-04-16T16:28:26.513Z"
   },
   {
    "duration": 172,
    "start_time": "2023-04-16T16:28:26.643Z"
   },
   {
    "duration": 3,
    "start_time": "2023-04-16T16:28:26.817Z"
   },
   {
    "duration": 23,
    "start_time": "2023-04-16T16:28:26.821Z"
   },
   {
    "duration": 50773,
    "start_time": "2023-04-16T16:28:26.846Z"
   },
   {
    "duration": 195,
    "start_time": "2023-04-16T16:29:17.621Z"
   },
   {
    "duration": 7,
    "start_time": "2023-04-16T16:29:17.884Z"
   },
   {
    "duration": 119,
    "start_time": "2023-04-16T16:29:17.893Z"
   },
   {
    "duration": 17,
    "start_time": "2023-04-16T16:29:18.014Z"
   },
   {
    "duration": 24,
    "start_time": "2023-04-16T16:29:18.033Z"
   },
   {
    "duration": 17125944,
    "start_time": "2023-04-16T16:29:18.059Z"
   },
   {
    "duration": 5,
    "start_time": "2023-04-16T21:14:44.004Z"
   },
   {
    "duration": 11,
    "start_time": "2023-04-16T21:14:44.011Z"
   },
   {
    "duration": 691580,
    "start_time": "2023-04-16T21:14:44.024Z"
   },
   {
    "duration": 1091,
    "start_time": "2023-04-16T21:26:15.608Z"
   },
   {
    "duration": 5,
    "start_time": "2023-04-16T21:26:16.704Z"
   },
   {
    "duration": 23,
    "start_time": "2023-04-16T21:26:16.711Z"
   },
   {
    "duration": 17,
    "start_time": "2023-04-16T21:26:16.736Z"
   },
   {
    "duration": 10,
    "start_time": "2023-04-16T21:26:16.755Z"
   },
   {
    "duration": 114437,
    "start_time": "2023-04-16T21:26:16.767Z"
   },
   {
    "duration": 4,
    "start_time": "2023-04-16T21:28:11.206Z"
   },
   {
    "duration": 23,
    "start_time": "2023-04-16T21:28:11.213Z"
   },
   {
    "duration": 9593,
    "start_time": "2023-04-16T21:28:11.238Z"
   },
   {
    "duration": 154,
    "start_time": "2023-04-16T21:28:20.832Z"
   },
   {
    "duration": 6,
    "start_time": "2023-04-16T21:28:20.991Z"
   },
   {
    "duration": 119,
    "start_time": "2023-04-16T21:28:21.001Z"
   },
   {
    "duration": 14,
    "start_time": "2023-04-16T21:28:21.122Z"
   },
   {
    "duration": 22,
    "start_time": "2023-04-16T21:28:21.137Z"
   },
   {
    "duration": 2971115,
    "start_time": "2023-04-16T21:28:21.161Z"
   },
   {
    "duration": 8,
    "start_time": "2023-04-16T22:17:52.278Z"
   },
   {
    "duration": 20,
    "start_time": "2023-04-16T22:17:52.296Z"
   },
   {
    "duration": 275014,
    "start_time": "2023-04-16T22:17:52.318Z"
   },
   {
    "duration": 956,
    "start_time": "2023-04-16T22:22:27.334Z"
   },
   {
    "duration": 6,
    "start_time": "2023-04-16T22:22:28.294Z"
   },
   {
    "duration": 860,
    "start_time": "2023-04-17T02:13:09.824Z"
   },
   {
    "duration": 5,
    "start_time": "2023-04-17T02:13:31.960Z"
   },
   {
    "duration": 80,
    "start_time": "2023-04-17T02:15:06.827Z"
   },
   {
    "duration": 143,
    "start_time": "2023-04-17T02:15:19.339Z"
   },
   {
    "duration": 5,
    "start_time": "2023-04-17T02:15:27.555Z"
   },
   {
    "duration": 132,
    "start_time": "2023-04-17T02:17:34.853Z"
   },
   {
    "duration": 5,
    "start_time": "2023-04-17T02:17:35.725Z"
   },
   {
    "duration": 794,
    "start_time": "2023-04-17T02:17:37.292Z"
   },
   {
    "duration": 105,
    "start_time": "2023-04-17T02:17:38.235Z"
   },
   {
    "duration": 5,
    "start_time": "2023-04-17T02:17:49.374Z"
   },
   {
    "duration": 89,
    "start_time": "2023-04-17T02:17:59.100Z"
   },
   {
    "duration": 5,
    "start_time": "2023-04-17T02:18:00.157Z"
   },
   {
    "duration": 857,
    "start_time": "2023-04-17T02:19:13.656Z"
   },
   {
    "duration": 4,
    "start_time": "2023-04-17T02:19:31.695Z"
   },
   {
    "duration": 145,
    "start_time": "2023-04-17T02:19:59.440Z"
   },
   {
    "duration": 5,
    "start_time": "2023-04-17T02:20:00.144Z"
   },
   {
    "duration": 857,
    "start_time": "2023-04-17T02:20:01.742Z"
   },
   {
    "duration": 5,
    "start_time": "2023-04-17T02:20:02.601Z"
   },
   {
    "duration": 163,
    "start_time": "2023-04-17T02:22:24.327Z"
   },
   {
    "duration": 187,
    "start_time": "2023-04-17T02:22:39.498Z"
   },
   {
    "duration": 5,
    "start_time": "2023-04-17T02:22:40.283Z"
   },
   {
    "duration": 4,
    "start_time": "2023-04-17T02:24:04.989Z"
   },
   {
    "duration": 4,
    "start_time": "2023-04-17T02:24:20.405Z"
   },
   {
    "duration": 5,
    "start_time": "2023-04-17T02:24:28.397Z"
   },
   {
    "duration": 317,
    "start_time": "2023-04-17T02:24:57.205Z"
   },
   {
    "duration": 86,
    "start_time": "2023-04-17T02:24:57.773Z"
   },
   {
    "duration": 4,
    "start_time": "2023-04-17T02:24:58.350Z"
   },
   {
    "duration": 3,
    "start_time": "2023-04-17T02:24:58.870Z"
   },
   {
    "duration": 5,
    "start_time": "2023-04-17T02:24:59.406Z"
   },
   {
    "duration": 110,
    "start_time": "2023-04-17T02:25:03.462Z"
   },
   {
    "duration": 145,
    "start_time": "2023-04-17T02:25:07.398Z"
   },
   {
    "duration": 3,
    "start_time": "2023-04-17T02:25:25.958Z"
   },
   {
    "duration": 2,
    "start_time": "2023-04-17T02:25:27.398Z"
   },
   {
    "duration": 21799,
    "start_time": "2023-04-17T02:25:28.086Z"
   },
   {
    "duration": 2,
    "start_time": "2023-04-17T02:29:25.330Z"
   },
   {
    "duration": 189,
    "start_time": "2023-04-17T02:29:42.396Z"
   },
   {
    "duration": 6,
    "start_time": "2023-04-17T02:29:44.762Z"
   },
   {
    "duration": 115,
    "start_time": "2023-04-17T02:30:12.275Z"
   },
   {
    "duration": 914,
    "start_time": "2023-04-17T02:30:19.675Z"
   },
   {
    "duration": 10,
    "start_time": "2023-04-17T02:34:31.737Z"
   },
   {
    "duration": 1781,
    "start_time": "2023-04-17T03:52:23.236Z"
   },
   {
    "duration": 997,
    "start_time": "2023-04-17T03:52:25.019Z"
   },
   {
    "duration": 15,
    "start_time": "2023-04-17T03:52:26.018Z"
   },
   {
    "duration": 102,
    "start_time": "2023-04-17T03:52:26.036Z"
   },
   {
    "duration": 4,
    "start_time": "2023-04-17T03:52:26.139Z"
   },
   {
    "duration": 102,
    "start_time": "2023-04-17T03:52:26.144Z"
   },
   {
    "duration": 434,
    "start_time": "2023-04-17T03:52:26.248Z"
   },
   {
    "duration": 430,
    "start_time": "2023-04-17T03:52:26.683Z"
   },
   {
    "duration": 4,
    "start_time": "2023-04-17T03:52:27.114Z"
   },
   {
    "duration": 460,
    "start_time": "2023-04-17T03:52:27.120Z"
   },
   {
    "duration": 4,
    "start_time": "2023-04-17T03:52:27.582Z"
   },
   {
    "duration": 449,
    "start_time": "2023-04-17T03:52:27.587Z"
   },
   {
    "duration": 93,
    "start_time": "2023-04-17T03:52:28.038Z"
   },
   {
    "duration": 28,
    "start_time": "2023-04-17T03:52:28.133Z"
   },
   {
    "duration": 38,
    "start_time": "2023-04-17T03:52:28.163Z"
   },
   {
    "duration": 78,
    "start_time": "2023-04-17T03:52:28.203Z"
   },
   {
    "duration": 82,
    "start_time": "2023-04-17T03:52:28.283Z"
   },
   {
    "duration": 27,
    "start_time": "2023-04-17T03:52:28.367Z"
   },
   {
    "duration": 7,
    "start_time": "2023-04-17T03:52:28.395Z"
   },
   {
    "duration": 8,
    "start_time": "2023-04-17T03:52:28.404Z"
   },
   {
    "duration": 3,
    "start_time": "2023-04-17T03:52:28.414Z"
   },
   {
    "duration": 38,
    "start_time": "2023-04-17T03:52:28.418Z"
   },
   {
    "duration": 3,
    "start_time": "2023-04-17T03:52:28.458Z"
   },
   {
    "duration": 50,
    "start_time": "2023-04-17T03:52:28.462Z"
   },
   {
    "duration": 56,
    "start_time": "2023-04-17T03:52:28.514Z"
   },
   {
    "duration": 3,
    "start_time": "2023-04-17T03:52:28.572Z"
   },
   {
    "duration": 64,
    "start_time": "2023-04-17T03:52:28.577Z"
   },
   {
    "duration": 11,
    "start_time": "2023-04-17T03:52:28.656Z"
   },
   {
    "duration": 9,
    "start_time": "2023-04-17T03:52:28.669Z"
   },
   {
    "duration": 81,
    "start_time": "2023-04-17T03:52:28.679Z"
   },
   {
    "duration": 20,
    "start_time": "2023-04-17T03:52:28.761Z"
   },
   {
    "duration": 24,
    "start_time": "2023-04-17T03:52:28.783Z"
   },
   {
    "duration": 99,
    "start_time": "2023-04-17T03:52:28.809Z"
   },
   {
    "duration": 7,
    "start_time": "2023-04-17T03:52:28.910Z"
   },
   {
    "duration": 17,
    "start_time": "2023-04-17T03:52:28.918Z"
   },
   {
    "duration": 6,
    "start_time": "2023-04-17T03:52:28.937Z"
   },
   {
    "duration": 19,
    "start_time": "2023-04-17T03:52:28.944Z"
   },
   {
    "duration": 24308,
    "start_time": "2023-04-17T03:52:28.964Z"
   },
   {
    "duration": 128,
    "start_time": "2023-04-17T03:52:53.274Z"
   },
   {
    "duration": 31,
    "start_time": "2023-04-17T03:52:53.403Z"
   },
   {
    "duration": 67,
    "start_time": "2023-04-17T03:52:53.435Z"
   },
   {
    "duration": 6,
    "start_time": "2023-04-17T03:52:53.503Z"
   },
   {
    "duration": 10,
    "start_time": "2023-04-17T03:52:53.511Z"
   },
   {
    "duration": 2842,
    "start_time": "2023-04-17T03:52:53.523Z"
   },
   {
    "duration": 132,
    "start_time": "2023-04-17T03:52:56.367Z"
   },
   {
    "duration": 68,
    "start_time": "2023-04-17T03:52:56.501Z"
   },
   {
    "duration": 3,
    "start_time": "2023-04-17T03:52:56.571Z"
   },
   {
    "duration": 4,
    "start_time": "2023-04-17T03:52:56.576Z"
   },
   {
    "duration": 8,
    "start_time": "2023-04-17T03:52:56.582Z"
   },
   {
    "duration": 23,
    "start_time": "2023-04-17T03:52:56.592Z"
   },
   {
    "duration": 46,
    "start_time": "2023-04-17T03:52:56.617Z"
   },
   {
    "duration": 121,
    "start_time": "2023-04-17T03:52:56.665Z"
   },
   {
    "duration": 23,
    "start_time": "2023-04-17T03:52:56.788Z"
   },
   {
    "duration": 80,
    "start_time": "2023-04-17T03:52:56.813Z"
   },
   {
    "duration": 19,
    "start_time": "2023-04-17T03:52:56.894Z"
   },
   {
    "duration": 45,
    "start_time": "2023-04-17T03:52:56.914Z"
   },
   {
    "duration": 25,
    "start_time": "2023-04-17T03:52:56.961Z"
   },
   {
    "duration": 29,
    "start_time": "2023-04-17T03:52:56.988Z"
   },
   {
    "duration": 93,
    "start_time": "2023-04-17T03:52:57.019Z"
   },
   {
    "duration": 20,
    "start_time": "2023-04-17T03:52:57.113Z"
   },
   {
    "duration": 33,
    "start_time": "2023-04-17T03:52:57.135Z"
   },
   {
    "duration": 120,
    "start_time": "2023-04-17T03:52:57.170Z"
   },
   {
    "duration": 10,
    "start_time": "2023-04-17T03:52:57.291Z"
   },
   {
    "duration": 13,
    "start_time": "2023-04-17T03:52:57.303Z"
   },
   {
    "duration": 3,
    "start_time": "2023-04-17T03:52:57.318Z"
   },
   {
    "duration": 5,
    "start_time": "2023-04-17T03:52:57.323Z"
   },
   {
    "duration": 25155,
    "start_time": "2023-04-17T03:52:57.355Z"
   },
   {
    "duration": 129,
    "start_time": "2023-04-17T03:53:22.512Z"
   },
   {
    "duration": 20,
    "start_time": "2023-04-17T03:53:22.643Z"
   },
   {
    "duration": 59,
    "start_time": "2023-04-17T03:53:22.665Z"
   },
   {
    "duration": 6,
    "start_time": "2023-04-17T03:53:22.725Z"
   },
   {
    "duration": 2841,
    "start_time": "2023-04-17T03:53:22.733Z"
   },
   {
    "duration": 121,
    "start_time": "2023-04-17T03:53:25.576Z"
   },
   {
    "duration": 64,
    "start_time": "2023-04-17T03:53:25.699Z"
   },
   {
    "duration": 47,
    "start_time": "2023-04-17T03:53:25.764Z"
   },
   {
    "duration": 13,
    "start_time": "2023-04-17T03:53:25.813Z"
   },
   {
    "duration": 37,
    "start_time": "2023-04-17T03:53:25.827Z"
   },
   {
    "duration": 21,
    "start_time": "2023-04-17T03:53:25.865Z"
   },
   {
    "duration": 76,
    "start_time": "2023-04-17T03:53:25.888Z"
   },
   {
    "duration": 8,
    "start_time": "2023-04-17T03:53:25.965Z"
   },
   {
    "duration": 13,
    "start_time": "2023-04-17T03:53:25.974Z"
   },
   {
    "duration": 7,
    "start_time": "2023-04-17T03:53:25.996Z"
   },
   {
    "duration": 2690,
    "start_time": "2023-04-17T03:53:26.005Z"
   },
   {
    "duration": 124,
    "start_time": "2023-04-17T03:53:28.697Z"
   },
   {
    "duration": 69,
    "start_time": "2023-04-17T03:53:28.822Z"
   },
   {
    "duration": 18,
    "start_time": "2023-04-17T03:53:28.893Z"
   },
   {
    "duration": 92,
    "start_time": "2023-04-17T03:53:28.912Z"
   },
   {
    "duration": 7,
    "start_time": "2023-04-17T03:53:29.006Z"
   },
   {
    "duration": 13,
    "start_time": "2023-04-17T03:53:29.014Z"
   },
   {
    "duration": 3,
    "start_time": "2023-04-17T03:53:29.028Z"
   },
   {
    "duration": 17445,
    "start_time": "2023-04-17T03:53:29.033Z"
   },
   {
    "duration": 134,
    "start_time": "2023-04-17T03:53:46.479Z"
   },
   {
    "duration": 71,
    "start_time": "2023-04-17T03:53:46.614Z"
   },
   {
    "duration": 6,
    "start_time": "2023-04-17T03:53:46.686Z"
   },
   {
    "duration": 7,
    "start_time": "2023-04-17T03:53:46.694Z"
   },
   {
    "duration": 84,
    "start_time": "2023-04-17T03:53:46.702Z"
   },
   {
    "duration": 89,
    "start_time": "2023-04-17T03:53:46.788Z"
   },
   {
    "duration": 17,
    "start_time": "2023-04-17T03:53:46.879Z"
   },
   {
    "duration": 30,
    "start_time": "2023-04-17T03:53:46.898Z"
   },
   {
    "duration": 90,
    "start_time": "2023-04-17T03:53:46.930Z"
   },
   {
    "duration": 6,
    "start_time": "2023-04-17T03:53:47.022Z"
   },
   {
    "duration": 43,
    "start_time": "2023-04-17T03:53:47.029Z"
   },
   {
    "duration": 60,
    "start_time": "2023-04-17T03:53:47.074Z"
   },
   {
    "duration": 25,
    "start_time": "2023-04-17T03:53:47.135Z"
   },
   {
    "duration": 28,
    "start_time": "2023-04-17T03:53:47.162Z"
   },
   {
    "duration": 77,
    "start_time": "2023-04-17T03:53:47.191Z"
   },
   {
    "duration": 12,
    "start_time": "2023-04-17T03:53:47.270Z"
   },
   {
    "duration": 8,
    "start_time": "2023-04-17T03:53:47.284Z"
   },
   {
    "duration": 108,
    "start_time": "2023-04-17T03:53:47.293Z"
   },
   {
    "duration": 4,
    "start_time": "2023-04-17T03:53:47.403Z"
   },
   {
    "duration": 4,
    "start_time": "2023-04-17T03:53:47.409Z"
   },
   {
    "duration": 9,
    "start_time": "2023-04-17T03:53:47.415Z"
   },
   {
    "duration": 33,
    "start_time": "2023-04-17T03:53:47.425Z"
   },
   {
    "duration": 9,
    "start_time": "2023-04-17T03:53:47.460Z"
   },
   {
    "duration": 7,
    "start_time": "2023-04-17T03:53:47.470Z"
   },
   {
    "duration": 1384,
    "start_time": "2023-04-17T03:53:47.478Z"
   },
   {
    "duration": 4,
    "start_time": "2023-04-17T03:53:48.863Z"
   },
   {
    "duration": 35,
    "start_time": "2023-04-17T03:53:48.869Z"
   },
   {
    "duration": 380,
    "start_time": "2023-04-17T03:53:48.905Z"
   },
   {
    "duration": 49,
    "start_time": "2023-04-17T03:53:49.287Z"
   },
   {
    "duration": 28,
    "start_time": "2023-04-17T03:53:49.338Z"
   },
   {
    "duration": 65,
    "start_time": "2023-04-17T03:53:49.368Z"
   },
   {
    "duration": 38,
    "start_time": "2023-04-17T03:53:49.436Z"
   },
   {
    "duration": 59,
    "start_time": "2023-04-17T03:53:49.475Z"
   },
   {
    "duration": 20,
    "start_time": "2023-04-17T03:53:49.536Z"
   },
   {
    "duration": 931,
    "start_time": "2023-04-17T03:53:49.558Z"
   },
   {
    "duration": 390,
    "start_time": "2023-04-17T03:53:50.490Z"
   },
   {
    "duration": 104,
    "start_time": "2023-04-17T03:53:50.882Z"
   },
   {
    "duration": 3,
    "start_time": "2023-04-17T03:53:50.988Z"
   },
   {
    "duration": 11,
    "start_time": "2023-04-17T03:53:50.993Z"
   },
   {
    "duration": 11,
    "start_time": "2023-04-17T03:53:51.006Z"
   },
   {
    "duration": 114,
    "start_time": "2023-04-17T03:53:51.019Z"
   },
   {
    "duration": 157,
    "start_time": "2023-04-17T03:53:51.134Z"
   },
   {
    "duration": 3,
    "start_time": "2023-04-17T03:53:51.293Z"
   },
   {
    "duration": 13,
    "start_time": "2023-04-17T03:53:51.298Z"
   },
   {
    "duration": 21749,
    "start_time": "2023-04-17T03:53:51.312Z"
   },
   {
    "duration": 194,
    "start_time": "2023-04-17T03:54:13.063Z"
   },
   {
    "duration": 5,
    "start_time": "2023-04-17T03:54:13.259Z"
   },
   {
    "duration": 91,
    "start_time": "2023-04-17T03:54:13.266Z"
   },
   {
    "duration": 4,
    "start_time": "2023-04-17T03:54:13.359Z"
   },
   {
    "duration": 5,
    "start_time": "2023-04-17T03:54:13.365Z"
   },
   {
    "duration": 7075191,
    "start_time": "2023-04-17T03:54:13.371Z"
   },
   {
    "duration": 3,
    "start_time": "2023-04-17T05:52:08.564Z"
   },
   {
    "duration": 3,
    "start_time": "2023-04-17T05:52:08.569Z"
   },
   {
    "duration": 8393,
    "start_time": "2023-04-17T05:52:08.574Z"
   },
   {
    "duration": 916,
    "start_time": "2023-04-17T05:52:17.055Z"
   },
   {
    "duration": 5,
    "start_time": "2023-04-17T05:52:17.973Z"
   },
   {
    "duration": 5,
    "start_time": "2023-04-17T05:52:17.980Z"
   },
   {
    "duration": 5,
    "start_time": "2023-04-17T05:52:17.987Z"
   },
   {
    "duration": 4,
    "start_time": "2023-04-17T05:52:17.994Z"
   },
   {
    "duration": 106300,
    "start_time": "2023-04-17T05:52:17.999Z"
   },
   {
    "duration": 4,
    "start_time": "2023-04-17T05:54:04.300Z"
   },
   {
    "duration": 23,
    "start_time": "2023-04-17T05:54:04.305Z"
   },
   {
    "duration": 8762,
    "start_time": "2023-04-17T05:54:04.330Z"
   },
   {
    "duration": 86,
    "start_time": "2023-04-17T05:54:13.093Z"
   },
   {
    "duration": 77,
    "start_time": "2023-04-17T05:54:13.181Z"
   },
   {
    "duration": 98,
    "start_time": "2023-04-17T05:54:13.259Z"
   },
   {
    "duration": 9,
    "start_time": "2023-04-17T05:54:13.359Z"
   },
   {
    "duration": 9,
    "start_time": "2023-04-17T05:54:13.369Z"
   },
   {
    "duration": 2414289,
    "start_time": "2023-04-17T05:54:13.379Z"
   },
   {
    "duration": 4,
    "start_time": "2023-04-17T06:34:27.670Z"
   },
   {
    "duration": 5,
    "start_time": "2023-04-17T06:34:27.676Z"
   },
   {
    "duration": 247279,
    "start_time": "2023-04-17T06:34:27.682Z"
   },
   {
    "duration": 823,
    "start_time": "2023-04-17T06:38:34.963Z"
   },
   {
    "duration": 5,
    "start_time": "2023-04-17T06:38:35.788Z"
   },
   {
    "duration": 172,
    "start_time": "2023-04-17T06:38:35.794Z"
   },
   {
    "duration": 88,
    "start_time": "2023-04-17T06:38:35.971Z"
   },
   {
    "duration": 999,
    "start_time": "2023-04-17T06:38:36.061Z"
   },
   {
    "duration": 4,
    "start_time": "2023-04-17T06:38:37.062Z"
   },
   {
    "duration": 107,
    "start_time": "2023-04-17T06:38:37.067Z"
   },
   {
    "duration": 6,
    "start_time": "2023-04-17T06:38:37.256Z"
   },
   {
    "duration": 998,
    "start_time": "2023-04-17T06:38:37.263Z"
   },
   {
    "duration": 5,
    "start_time": "2023-04-17T06:38:38.262Z"
   },
   {
    "duration": 943,
    "start_time": "2023-04-17T07:50:37.645Z"
   },
   {
    "duration": 6,
    "start_time": "2023-04-17T07:50:40.120Z"
   },
   {
    "duration": 2634,
    "start_time": "2023-04-17T12:55:54.484Z"
   },
   {
    "duration": 2810,
    "start_time": "2023-04-17T12:55:57.120Z"
   },
   {
    "duration": 16,
    "start_time": "2023-04-17T12:55:59.931Z"
   },
   {
    "duration": 115,
    "start_time": "2023-04-17T12:55:59.949Z"
   },
   {
    "duration": 3,
    "start_time": "2023-04-17T12:56:00.066Z"
   },
   {
    "duration": 125,
    "start_time": "2023-04-17T12:56:00.071Z"
   },
   {
    "duration": 399,
    "start_time": "2023-04-17T12:56:00.198Z"
   },
   {
    "duration": 406,
    "start_time": "2023-04-17T12:56:00.599Z"
   },
   {
    "duration": 3,
    "start_time": "2023-04-17T12:56:01.007Z"
   },
   {
    "duration": 455,
    "start_time": "2023-04-17T12:56:01.018Z"
   },
   {
    "duration": 3,
    "start_time": "2023-04-17T12:56:01.474Z"
   },
   {
    "duration": 440,
    "start_time": "2023-04-17T12:56:01.478Z"
   },
   {
    "duration": 115,
    "start_time": "2023-04-17T12:56:01.920Z"
   },
   {
    "duration": 32,
    "start_time": "2023-04-17T12:56:02.037Z"
   },
   {
    "duration": 42,
    "start_time": "2023-04-17T12:56:02.071Z"
   },
   {
    "duration": 80,
    "start_time": "2023-04-17T12:56:02.115Z"
   },
   {
    "duration": 81,
    "start_time": "2023-04-17T12:56:02.197Z"
   },
   {
    "duration": 23,
    "start_time": "2023-04-17T12:56:02.280Z"
   },
   {
    "duration": 52,
    "start_time": "2023-04-17T12:56:02.305Z"
   },
   {
    "duration": 28,
    "start_time": "2023-04-17T12:56:02.358Z"
   },
   {
    "duration": 14,
    "start_time": "2023-04-17T12:56:02.388Z"
   },
   {
    "duration": 16,
    "start_time": "2023-04-17T12:56:02.403Z"
   },
   {
    "duration": 13,
    "start_time": "2023-04-17T12:56:02.420Z"
   },
   {
    "duration": 63,
    "start_time": "2023-04-17T12:56:02.434Z"
   },
   {
    "duration": 33,
    "start_time": "2023-04-17T12:56:02.498Z"
   },
   {
    "duration": 3,
    "start_time": "2023-04-17T12:56:02.532Z"
   },
   {
    "duration": 82,
    "start_time": "2023-04-17T12:56:02.537Z"
   },
   {
    "duration": 8,
    "start_time": "2023-04-17T12:56:02.621Z"
   },
   {
    "duration": 7,
    "start_time": "2023-04-17T12:56:02.630Z"
   },
   {
    "duration": 78,
    "start_time": "2023-04-17T12:56:02.639Z"
   },
   {
    "duration": 18,
    "start_time": "2023-04-17T12:56:02.719Z"
   },
   {
    "duration": 33,
    "start_time": "2023-04-17T12:56:02.738Z"
   },
   {
    "duration": 92,
    "start_time": "2023-04-17T12:56:02.773Z"
   },
   {
    "duration": 90,
    "start_time": "2023-04-17T12:56:08.637Z"
   },
   {
    "duration": 8,
    "start_time": "2023-04-17T12:56:20.734Z"
   },
   {
    "duration": 12,
    "start_time": "2023-04-17T12:56:21.251Z"
   },
   {
    "duration": 3,
    "start_time": "2023-04-17T12:56:26.126Z"
   },
   {
    "duration": 2,
    "start_time": "2023-04-17T12:56:26.512Z"
   },
   {
    "duration": 3,
    "start_time": "2023-04-17T12:56:42.018Z"
   },
   {
    "duration": 2,
    "start_time": "2023-04-17T12:56:42.730Z"
   },
   {
    "duration": 72514,
    "start_time": "2023-04-17T12:56:43.259Z"
   },
   {
    "duration": 31001,
    "start_time": "2023-04-17T12:58:11.004Z"
   },
   {
    "duration": 3,
    "start_time": "2023-04-17T12:58:50.910Z"
   },
   {
    "duration": 4,
    "start_time": "2023-04-17T12:58:51.624Z"
   },
   {
    "duration": 26384,
    "start_time": "2023-04-17T12:58:52.094Z"
   },
   {
    "duration": 12,
    "start_time": "2023-04-17T12:59:31.739Z"
   },
   {
    "duration": 11,
    "start_time": "2023-04-17T13:03:53.978Z"
   },
   {
    "duration": 11,
    "start_time": "2023-04-17T13:05:13.534Z"
   },
   {
    "duration": 3,
    "start_time": "2023-04-17T13:05:30.244Z"
   },
   {
    "duration": 815,
    "start_time": "2023-04-17T13:05:30.249Z"
   },
   {
    "duration": 12,
    "start_time": "2023-04-17T13:05:31.066Z"
   },
   {
    "duration": 143,
    "start_time": "2023-04-17T13:05:31.080Z"
   },
   {
    "duration": 28,
    "start_time": "2023-04-17T13:05:31.226Z"
   },
   {
    "duration": 160,
    "start_time": "2023-04-17T13:05:31.255Z"
   },
   {
    "duration": 391,
    "start_time": "2023-04-17T13:05:31.416Z"
   },
   {
    "duration": 350,
    "start_time": "2023-04-17T13:05:31.808Z"
   },
   {
    "duration": 4,
    "start_time": "2023-04-17T13:05:32.159Z"
   },
   {
    "duration": 385,
    "start_time": "2023-04-17T13:05:32.164Z"
   },
   {
    "duration": 4,
    "start_time": "2023-04-17T13:05:32.551Z"
   },
   {
    "duration": 365,
    "start_time": "2023-04-17T13:05:32.556Z"
   },
   {
    "duration": 107,
    "start_time": "2023-04-17T13:05:32.923Z"
   },
   {
    "duration": 26,
    "start_time": "2023-04-17T13:05:33.031Z"
   },
   {
    "duration": 33,
    "start_time": "2023-04-17T13:05:33.058Z"
   },
   {
    "duration": 85,
    "start_time": "2023-04-17T13:05:33.092Z"
   },
   {
    "duration": 83,
    "start_time": "2023-04-17T13:05:33.178Z"
   },
   {
    "duration": 18,
    "start_time": "2023-04-17T13:05:33.263Z"
   },
   {
    "duration": 13,
    "start_time": "2023-04-17T13:05:33.282Z"
   },
   {
    "duration": 7,
    "start_time": "2023-04-17T13:05:33.297Z"
   },
   {
    "duration": 14,
    "start_time": "2023-04-17T13:05:33.305Z"
   },
   {
    "duration": 9,
    "start_time": "2023-04-17T13:05:33.320Z"
   },
   {
    "duration": 8,
    "start_time": "2023-04-17T13:05:33.330Z"
   },
   {
    "duration": 44,
    "start_time": "2023-04-17T13:05:33.339Z"
   },
   {
    "duration": 41,
    "start_time": "2023-04-17T13:05:33.384Z"
   },
   {
    "duration": 4,
    "start_time": "2023-04-17T13:05:33.426Z"
   },
   {
    "duration": 70,
    "start_time": "2023-04-17T13:05:33.431Z"
   },
   {
    "duration": 18,
    "start_time": "2023-04-17T13:05:33.502Z"
   },
   {
    "duration": 7,
    "start_time": "2023-04-17T13:05:33.524Z"
   },
   {
    "duration": 84,
    "start_time": "2023-04-17T13:05:33.533Z"
   },
   {
    "duration": 18,
    "start_time": "2023-04-17T13:05:33.619Z"
   },
   {
    "duration": 20,
    "start_time": "2023-04-17T13:05:33.638Z"
   },
   {
    "duration": 100,
    "start_time": "2023-04-17T13:05:33.659Z"
   },
   {
    "duration": 8,
    "start_time": "2023-04-17T13:05:33.760Z"
   },
   {
    "duration": 11,
    "start_time": "2023-04-17T13:05:33.769Z"
   },
   {
    "duration": 3,
    "start_time": "2023-04-17T13:05:33.781Z"
   },
   {
    "duration": 11,
    "start_time": "2023-04-17T13:05:33.785Z"
   },
   {
    "duration": 26542,
    "start_time": "2023-04-17T13:05:33.798Z"
   },
   {
    "duration": 140,
    "start_time": "2023-04-17T14:16:52.075Z"
   },
   {
    "duration": 46,
    "start_time": "2023-04-17T14:17:00.749Z"
   },
   {
    "duration": 84,
    "start_time": "2023-04-17T14:21:31.543Z"
   },
   {
    "duration": 1868,
    "start_time": "2023-04-17T14:23:25.086Z"
   },
   {
    "duration": 3528,
    "start_time": "2023-04-17T14:23:26.955Z"
   },
   {
    "duration": 16,
    "start_time": "2023-04-17T14:23:30.485Z"
   },
   {
    "duration": 132,
    "start_time": "2023-04-17T14:23:30.503Z"
   },
   {
    "duration": 53,
    "start_time": "2023-04-17T14:23:30.637Z"
   },
   {
    "duration": 210,
    "start_time": "2023-04-17T14:23:30.692Z"
   },
   {
    "duration": 587,
    "start_time": "2023-04-17T14:23:30.904Z"
   },
   {
    "duration": 513,
    "start_time": "2023-04-17T14:23:31.493Z"
   },
   {
    "duration": 4,
    "start_time": "2023-04-17T14:23:32.008Z"
   },
   {
    "duration": 631,
    "start_time": "2023-04-17T14:23:32.015Z"
   },
   {
    "duration": 18,
    "start_time": "2023-04-17T14:23:32.649Z"
   },
   {
    "duration": 551,
    "start_time": "2023-04-17T14:23:32.669Z"
   },
   {
    "duration": 147,
    "start_time": "2023-04-17T14:23:33.222Z"
   },
   {
    "duration": 37,
    "start_time": "2023-04-17T14:23:33.371Z"
   },
   {
    "duration": 59,
    "start_time": "2023-04-17T14:23:33.411Z"
   },
   {
    "duration": 90,
    "start_time": "2023-04-17T14:23:33.478Z"
   },
   {
    "duration": 101,
    "start_time": "2023-04-17T14:23:33.574Z"
   },
   {
    "duration": 35,
    "start_time": "2023-04-17T14:23:33.677Z"
   },
   {
    "duration": 21,
    "start_time": "2023-04-17T14:23:33.714Z"
   },
   {
    "duration": 25,
    "start_time": "2023-04-17T14:23:33.737Z"
   },
   {
    "duration": 11,
    "start_time": "2023-04-17T14:23:33.763Z"
   },
   {
    "duration": 16,
    "start_time": "2023-04-17T14:23:33.775Z"
   },
   {
    "duration": 6,
    "start_time": "2023-04-17T14:23:33.793Z"
   },
   {
    "duration": 59,
    "start_time": "2023-04-17T14:23:33.801Z"
   },
   {
    "duration": 43,
    "start_time": "2023-04-17T14:23:33.865Z"
   },
   {
    "duration": 4,
    "start_time": "2023-04-17T14:23:33.910Z"
   },
   {
    "duration": 110,
    "start_time": "2023-04-17T14:23:33.916Z"
   },
   {
    "duration": 7,
    "start_time": "2023-04-17T14:23:34.030Z"
   },
   {
    "duration": 26,
    "start_time": "2023-04-17T14:23:34.039Z"
   },
   {
    "duration": 67,
    "start_time": "2023-04-17T14:23:34.073Z"
   },
   {
    "duration": 30,
    "start_time": "2023-04-17T14:23:34.142Z"
   },
   {
    "duration": 24,
    "start_time": "2023-04-17T14:23:34.174Z"
   },
   {
    "duration": 136,
    "start_time": "2023-04-17T14:23:34.200Z"
   },
   {
    "duration": 9,
    "start_time": "2023-04-17T14:23:34.337Z"
   },
   {
    "duration": 26,
    "start_time": "2023-04-17T14:23:34.348Z"
   },
   {
    "duration": 19,
    "start_time": "2023-04-17T14:23:34.375Z"
   },
   {
    "duration": 23,
    "start_time": "2023-04-17T14:23:34.396Z"
   },
   {
    "duration": 80,
    "start_time": "2023-04-17T14:23:34.421Z"
   },
   {
    "duration": 0,
    "start_time": "2023-04-17T14:23:34.505Z"
   },
   {
    "duration": 0,
    "start_time": "2023-04-17T14:23:34.506Z"
   },
   {
    "duration": 0,
    "start_time": "2023-04-17T14:23:34.508Z"
   },
   {
    "duration": 0,
    "start_time": "2023-04-17T14:23:34.509Z"
   },
   {
    "duration": 0,
    "start_time": "2023-04-17T14:23:34.510Z"
   },
   {
    "duration": 0,
    "start_time": "2023-04-17T14:23:34.511Z"
   },
   {
    "duration": 0,
    "start_time": "2023-04-17T14:23:34.512Z"
   },
   {
    "duration": 0,
    "start_time": "2023-04-17T14:23:34.513Z"
   },
   {
    "duration": 0,
    "start_time": "2023-04-17T14:23:34.514Z"
   },
   {
    "duration": 0,
    "start_time": "2023-04-17T14:23:34.516Z"
   },
   {
    "duration": 0,
    "start_time": "2023-04-17T14:23:34.517Z"
   },
   {
    "duration": 0,
    "start_time": "2023-04-17T14:23:34.518Z"
   },
   {
    "duration": 0,
    "start_time": "2023-04-17T14:23:34.519Z"
   },
   {
    "duration": 0,
    "start_time": "2023-04-17T14:23:34.520Z"
   },
   {
    "duration": 0,
    "start_time": "2023-04-17T14:23:34.521Z"
   },
   {
    "duration": 0,
    "start_time": "2023-04-17T14:23:34.523Z"
   },
   {
    "duration": 0,
    "start_time": "2023-04-17T14:23:34.524Z"
   },
   {
    "duration": 0,
    "start_time": "2023-04-17T14:23:34.525Z"
   },
   {
    "duration": 0,
    "start_time": "2023-04-17T14:23:34.526Z"
   },
   {
    "duration": 0,
    "start_time": "2023-04-17T14:23:34.528Z"
   },
   {
    "duration": 0,
    "start_time": "2023-04-17T14:23:34.529Z"
   },
   {
    "duration": 0,
    "start_time": "2023-04-17T14:23:34.531Z"
   },
   {
    "duration": 0,
    "start_time": "2023-04-17T14:23:34.532Z"
   },
   {
    "duration": 0,
    "start_time": "2023-04-17T14:23:34.534Z"
   },
   {
    "duration": 0,
    "start_time": "2023-04-17T14:23:34.535Z"
   },
   {
    "duration": 0,
    "start_time": "2023-04-17T14:23:34.536Z"
   },
   {
    "duration": 1,
    "start_time": "2023-04-17T14:23:34.537Z"
   },
   {
    "duration": 0,
    "start_time": "2023-04-17T14:23:34.539Z"
   },
   {
    "duration": 0,
    "start_time": "2023-04-17T14:23:34.540Z"
   },
   {
    "duration": 0,
    "start_time": "2023-04-17T14:23:34.567Z"
   },
   {
    "duration": 0,
    "start_time": "2023-04-17T14:23:34.568Z"
   },
   {
    "duration": 0,
    "start_time": "2023-04-17T14:23:34.568Z"
   },
   {
    "duration": 0,
    "start_time": "2023-04-17T14:23:34.571Z"
   },
   {
    "duration": 0,
    "start_time": "2023-04-17T14:23:34.573Z"
   },
   {
    "duration": 0,
    "start_time": "2023-04-17T14:23:34.574Z"
   },
   {
    "duration": 0,
    "start_time": "2023-04-17T14:23:34.576Z"
   },
   {
    "duration": 0,
    "start_time": "2023-04-17T14:23:34.577Z"
   },
   {
    "duration": 0,
    "start_time": "2023-04-17T14:23:34.578Z"
   },
   {
    "duration": 0,
    "start_time": "2023-04-17T14:23:34.580Z"
   },
   {
    "duration": 0,
    "start_time": "2023-04-17T14:23:34.581Z"
   },
   {
    "duration": 0,
    "start_time": "2023-04-17T14:23:34.583Z"
   },
   {
    "duration": 0,
    "start_time": "2023-04-17T14:23:34.584Z"
   },
   {
    "duration": 0,
    "start_time": "2023-04-17T14:23:34.586Z"
   },
   {
    "duration": 0,
    "start_time": "2023-04-17T14:23:34.588Z"
   },
   {
    "duration": 0,
    "start_time": "2023-04-17T14:23:34.590Z"
   },
   {
    "duration": 0,
    "start_time": "2023-04-17T14:23:34.591Z"
   },
   {
    "duration": 0,
    "start_time": "2023-04-17T14:23:34.592Z"
   },
   {
    "duration": 0,
    "start_time": "2023-04-17T14:23:34.594Z"
   },
   {
    "duration": 0,
    "start_time": "2023-04-17T14:23:34.595Z"
   },
   {
    "duration": 0,
    "start_time": "2023-04-17T14:23:34.597Z"
   },
   {
    "duration": 0,
    "start_time": "2023-04-17T14:23:34.598Z"
   },
   {
    "duration": 0,
    "start_time": "2023-04-17T14:23:34.600Z"
   },
   {
    "duration": 0,
    "start_time": "2023-04-17T14:23:34.601Z"
   },
   {
    "duration": 0,
    "start_time": "2023-04-17T14:23:34.657Z"
   },
   {
    "duration": 0,
    "start_time": "2023-04-17T14:23:34.657Z"
   },
   {
    "duration": 0,
    "start_time": "2023-04-17T14:23:34.658Z"
   },
   {
    "duration": 0,
    "start_time": "2023-04-17T14:23:34.658Z"
   },
   {
    "duration": 0,
    "start_time": "2023-04-17T14:23:34.659Z"
   },
   {
    "duration": 0,
    "start_time": "2023-04-17T14:23:34.660Z"
   },
   {
    "duration": 0,
    "start_time": "2023-04-17T14:23:34.668Z"
   },
   {
    "duration": 0,
    "start_time": "2023-04-17T14:23:34.669Z"
   },
   {
    "duration": 0,
    "start_time": "2023-04-17T14:23:34.670Z"
   },
   {
    "duration": 0,
    "start_time": "2023-04-17T14:23:34.671Z"
   },
   {
    "duration": 0,
    "start_time": "2023-04-17T14:23:34.671Z"
   },
   {
    "duration": 0,
    "start_time": "2023-04-17T14:23:34.672Z"
   },
   {
    "duration": 0,
    "start_time": "2023-04-17T14:23:34.676Z"
   },
   {
    "duration": 0,
    "start_time": "2023-04-17T14:23:34.678Z"
   },
   {
    "duration": 0,
    "start_time": "2023-04-17T14:23:34.679Z"
   },
   {
    "duration": 0,
    "start_time": "2023-04-17T14:23:34.681Z"
   },
   {
    "duration": 0,
    "start_time": "2023-04-17T14:23:34.682Z"
   },
   {
    "duration": 0,
    "start_time": "2023-04-17T14:23:34.684Z"
   },
   {
    "duration": 0,
    "start_time": "2023-04-17T14:23:34.685Z"
   },
   {
    "duration": 0,
    "start_time": "2023-04-17T14:23:34.686Z"
   },
   {
    "duration": 0,
    "start_time": "2023-04-17T14:23:34.688Z"
   },
   {
    "duration": 0,
    "start_time": "2023-04-17T14:23:34.689Z"
   },
   {
    "duration": 0,
    "start_time": "2023-04-17T14:23:34.691Z"
   },
   {
    "duration": 0,
    "start_time": "2023-04-17T14:23:34.692Z"
   },
   {
    "duration": 0,
    "start_time": "2023-04-17T14:23:34.693Z"
   },
   {
    "duration": 0,
    "start_time": "2023-04-17T14:23:34.695Z"
   },
   {
    "duration": 0,
    "start_time": "2023-04-17T14:23:34.696Z"
   },
   {
    "duration": 0,
    "start_time": "2023-04-17T14:23:34.697Z"
   },
   {
    "duration": 0,
    "start_time": "2023-04-17T14:23:34.699Z"
   },
   {
    "duration": 0,
    "start_time": "2023-04-17T14:23:34.700Z"
   },
   {
    "duration": 0,
    "start_time": "2023-04-17T14:23:34.702Z"
   },
   {
    "duration": 0,
    "start_time": "2023-04-17T14:23:34.757Z"
   },
   {
    "duration": 0,
    "start_time": "2023-04-17T14:23:34.758Z"
   },
   {
    "duration": 0,
    "start_time": "2023-04-17T14:23:34.759Z"
   },
   {
    "duration": 0,
    "start_time": "2023-04-17T14:23:34.760Z"
   },
   {
    "duration": 0,
    "start_time": "2023-04-17T14:23:34.760Z"
   },
   {
    "duration": 0,
    "start_time": "2023-04-17T14:23:34.761Z"
   },
   {
    "duration": 0,
    "start_time": "2023-04-17T14:23:34.762Z"
   },
   {
    "duration": 0,
    "start_time": "2023-04-17T14:23:34.766Z"
   },
   {
    "duration": 0,
    "start_time": "2023-04-17T14:23:34.766Z"
   },
   {
    "duration": 0,
    "start_time": "2023-04-17T14:23:34.767Z"
   },
   {
    "duration": 0,
    "start_time": "2023-04-17T14:23:34.767Z"
   },
   {
    "duration": 0,
    "start_time": "2023-04-17T14:23:34.768Z"
   },
   {
    "duration": 0,
    "start_time": "2023-04-17T14:23:34.769Z"
   },
   {
    "duration": 0,
    "start_time": "2023-04-17T14:23:34.770Z"
   },
   {
    "duration": 0,
    "start_time": "2023-04-17T14:23:34.771Z"
   },
   {
    "duration": 0,
    "start_time": "2023-04-17T14:23:34.772Z"
   },
   {
    "duration": 0,
    "start_time": "2023-04-17T14:23:34.773Z"
   },
   {
    "duration": 0,
    "start_time": "2023-04-17T14:23:34.774Z"
   },
   {
    "duration": 0,
    "start_time": "2023-04-17T14:23:34.775Z"
   },
   {
    "duration": 0,
    "start_time": "2023-04-17T14:23:34.777Z"
   },
   {
    "duration": 0,
    "start_time": "2023-04-17T14:23:34.778Z"
   },
   {
    "duration": 0,
    "start_time": "2023-04-17T14:23:34.779Z"
   },
   {
    "duration": 0,
    "start_time": "2023-04-17T14:23:34.781Z"
   },
   {
    "duration": 0,
    "start_time": "2023-04-17T14:23:34.782Z"
   },
   {
    "duration": 0,
    "start_time": "2023-04-17T14:23:34.783Z"
   },
   {
    "duration": 0,
    "start_time": "2023-04-17T14:23:34.785Z"
   },
   {
    "duration": 0,
    "start_time": "2023-04-17T14:23:34.786Z"
   },
   {
    "duration": 0,
    "start_time": "2023-04-17T14:23:34.787Z"
   },
   {
    "duration": 0,
    "start_time": "2023-04-17T14:23:34.789Z"
   },
   {
    "duration": 0,
    "start_time": "2023-04-17T14:23:34.790Z"
   },
   {
    "duration": 0,
    "start_time": "2023-04-17T14:23:34.791Z"
   },
   {
    "duration": 0,
    "start_time": "2023-04-17T14:23:34.792Z"
   },
   {
    "duration": 0,
    "start_time": "2023-04-17T14:23:34.793Z"
   },
   {
    "duration": 0,
    "start_time": "2023-04-17T14:23:34.794Z"
   },
   {
    "duration": 0,
    "start_time": "2023-04-17T14:23:34.795Z"
   },
   {
    "duration": 0,
    "start_time": "2023-04-17T14:23:34.796Z"
   },
   {
    "duration": 0,
    "start_time": "2023-04-17T14:23:34.797Z"
   },
   {
    "duration": 0,
    "start_time": "2023-04-17T14:23:34.798Z"
   },
   {
    "duration": 0,
    "start_time": "2023-04-17T14:23:34.855Z"
   },
   {
    "duration": 0,
    "start_time": "2023-04-17T14:23:34.857Z"
   },
   {
    "duration": 1670,
    "start_time": "2023-04-17T14:24:04.541Z"
   },
   {
    "duration": 860,
    "start_time": "2023-04-17T14:24:06.213Z"
   },
   {
    "duration": 17,
    "start_time": "2023-04-17T14:24:07.075Z"
   },
   {
    "duration": 120,
    "start_time": "2023-04-17T14:24:07.094Z"
   },
   {
    "duration": 9,
    "start_time": "2023-04-17T14:24:07.216Z"
   },
   {
    "duration": 115,
    "start_time": "2023-04-17T14:24:07.227Z"
   },
   {
    "duration": 474,
    "start_time": "2023-04-17T14:24:07.344Z"
   },
   {
    "duration": 480,
    "start_time": "2023-04-17T14:24:07.819Z"
   },
   {
    "duration": 4,
    "start_time": "2023-04-17T14:24:08.300Z"
   },
   {
    "duration": 531,
    "start_time": "2023-04-17T14:24:08.307Z"
   },
   {
    "duration": 4,
    "start_time": "2023-04-17T14:24:08.840Z"
   },
   {
    "duration": 473,
    "start_time": "2023-04-17T14:24:08.845Z"
   },
   {
    "duration": 129,
    "start_time": "2023-04-17T14:24:09.319Z"
   },
   {
    "duration": 31,
    "start_time": "2023-04-17T14:24:09.450Z"
   },
   {
    "duration": 70,
    "start_time": "2023-04-17T14:24:09.483Z"
   },
   {
    "duration": 77,
    "start_time": "2023-04-17T14:24:09.555Z"
   },
   {
    "duration": 92,
    "start_time": "2023-04-17T14:24:09.634Z"
   },
   {
    "duration": 37,
    "start_time": "2023-04-17T14:24:09.728Z"
   },
   {
    "duration": 10,
    "start_time": "2023-04-17T14:24:09.767Z"
   },
   {
    "duration": 17,
    "start_time": "2023-04-17T14:24:09.778Z"
   },
   {
    "duration": 4,
    "start_time": "2023-04-17T14:24:09.796Z"
   },
   {
    "duration": 11,
    "start_time": "2023-04-17T14:24:09.801Z"
   },
   {
    "duration": 4,
    "start_time": "2023-04-17T14:24:09.813Z"
   },
   {
    "duration": 67,
    "start_time": "2023-04-17T14:24:09.818Z"
   },
   {
    "duration": 41,
    "start_time": "2023-04-17T14:24:09.887Z"
   },
   {
    "duration": 5,
    "start_time": "2023-04-17T14:24:09.929Z"
   },
   {
    "duration": 95,
    "start_time": "2023-04-17T14:24:09.935Z"
   },
   {
    "duration": 8,
    "start_time": "2023-04-17T14:24:10.036Z"
   },
   {
    "duration": 23,
    "start_time": "2023-04-17T14:24:10.045Z"
   },
   {
    "duration": 75,
    "start_time": "2023-04-17T14:24:10.071Z"
   },
   {
    "duration": 29,
    "start_time": "2023-04-17T14:24:10.148Z"
   },
   {
    "duration": 33,
    "start_time": "2023-04-17T14:24:10.178Z"
   },
   {
    "duration": 109,
    "start_time": "2023-04-17T14:24:10.213Z"
   },
   {
    "duration": 9,
    "start_time": "2023-04-17T14:24:10.324Z"
   },
   {
    "duration": 29,
    "start_time": "2023-04-17T14:24:10.334Z"
   },
   {
    "duration": 6,
    "start_time": "2023-04-17T14:24:10.365Z"
   },
   {
    "duration": 7,
    "start_time": "2023-04-17T14:24:10.373Z"
   },
   {
    "duration": 26516,
    "start_time": "2023-04-17T14:24:10.382Z"
   },
   {
    "duration": 11,
    "start_time": "2023-04-17T14:24:36.900Z"
   },
   {
    "duration": 17,
    "start_time": "2023-04-17T14:24:36.913Z"
   },
   {
    "duration": 157,
    "start_time": "2023-04-17T14:24:36.933Z"
   },
   {
    "duration": 25,
    "start_time": "2023-04-17T14:24:37.092Z"
   },
   {
    "duration": 82,
    "start_time": "2023-04-17T14:24:37.119Z"
   },
   {
    "duration": 12,
    "start_time": "2023-04-17T14:24:37.204Z"
   },
   {
    "duration": 13,
    "start_time": "2023-04-17T14:24:37.218Z"
   },
   {
    "duration": 3052,
    "start_time": "2023-04-17T14:24:37.233Z"
   },
   {
    "duration": 154,
    "start_time": "2023-04-17T14:24:40.287Z"
   },
   {
    "duration": 85,
    "start_time": "2023-04-17T14:24:40.443Z"
   },
   {
    "duration": 4,
    "start_time": "2023-04-17T14:24:40.529Z"
   },
   {
    "duration": 11,
    "start_time": "2023-04-17T14:24:40.535Z"
   },
   {
    "duration": 28,
    "start_time": "2023-04-17T14:24:40.559Z"
   },
   {
    "duration": 26,
    "start_time": "2023-04-17T14:24:40.589Z"
   },
   {
    "duration": 120,
    "start_time": "2023-04-17T14:24:40.617Z"
   },
   {
    "duration": 17,
    "start_time": "2023-04-17T14:24:40.739Z"
   },
   {
    "duration": 17,
    "start_time": "2023-04-17T14:24:40.764Z"
   },
   {
    "duration": 9,
    "start_time": "2023-04-17T14:24:40.782Z"
   },
   {
    "duration": 8,
    "start_time": "2023-04-17T14:24:40.793Z"
   },
   {
    "duration": 29168,
    "start_time": "2023-04-17T14:24:40.803Z"
   },
   {
    "duration": 139,
    "start_time": "2023-04-17T14:25:09.973Z"
   },
   {
    "duration": 18,
    "start_time": "2023-04-17T14:25:10.114Z"
   },
   {
    "duration": 80,
    "start_time": "2023-04-17T14:25:10.134Z"
   },
   {
    "duration": 6,
    "start_time": "2023-04-17T14:25:10.216Z"
   },
   {
    "duration": 3106,
    "start_time": "2023-04-17T14:25:10.224Z"
   },
   {
    "duration": 165,
    "start_time": "2023-04-17T14:25:13.332Z"
   },
   {
    "duration": 77,
    "start_time": "2023-04-17T14:25:13.498Z"
   },
   {
    "duration": 51,
    "start_time": "2023-04-17T14:25:13.576Z"
   },
   {
    "duration": 7,
    "start_time": "2023-04-17T14:25:13.629Z"
   },
   {
    "duration": 45,
    "start_time": "2023-04-17T14:25:13.637Z"
   },
   {
    "duration": 27,
    "start_time": "2023-04-17T14:25:13.683Z"
   },
   {
    "duration": 81,
    "start_time": "2023-04-17T14:25:13.712Z"
   },
   {
    "duration": 6,
    "start_time": "2023-04-17T14:25:13.795Z"
   },
   {
    "duration": 12,
    "start_time": "2023-04-17T14:25:13.802Z"
   },
   {
    "duration": 3,
    "start_time": "2023-04-17T14:25:13.815Z"
   },
   {
    "duration": 3184,
    "start_time": "2023-04-17T14:25:13.820Z"
   },
   {
    "duration": 137,
    "start_time": "2023-04-17T14:25:17.005Z"
   },
   {
    "duration": 75,
    "start_time": "2023-04-17T14:25:17.143Z"
   },
   {
    "duration": 19,
    "start_time": "2023-04-17T14:25:17.220Z"
   },
   {
    "duration": 127,
    "start_time": "2023-04-17T14:25:17.240Z"
   },
   {
    "duration": 10,
    "start_time": "2023-04-17T14:25:17.370Z"
   },
   {
    "duration": 13,
    "start_time": "2023-04-17T14:25:17.382Z"
   },
   {
    "duration": 4,
    "start_time": "2023-04-17T14:25:17.397Z"
   },
   {
    "duration": 18546,
    "start_time": "2023-04-17T14:25:17.407Z"
   },
   {
    "duration": 141,
    "start_time": "2023-04-17T14:25:35.956Z"
   },
   {
    "duration": 73,
    "start_time": "2023-04-17T14:25:36.098Z"
   },
   {
    "duration": 94,
    "start_time": "2023-04-17T14:25:36.172Z"
   },
   {
    "duration": 16,
    "start_time": "2023-04-17T14:25:36.268Z"
   },
   {
    "duration": 31,
    "start_time": "2023-04-17T14:25:36.286Z"
   },
   {
    "duration": 107,
    "start_time": "2023-04-17T14:25:36.319Z"
   },
   {
    "duration": 7,
    "start_time": "2023-04-17T14:25:36.428Z"
   },
   {
    "duration": 47,
    "start_time": "2023-04-17T14:25:36.437Z"
   },
   {
    "duration": 71,
    "start_time": "2023-04-17T14:25:36.487Z"
   },
   {
    "duration": 7,
    "start_time": "2023-04-17T14:25:36.560Z"
   },
   {
    "duration": 34,
    "start_time": "2023-04-17T14:25:36.569Z"
   },
   {
    "duration": 91,
    "start_time": "2023-04-17T14:25:36.604Z"
   },
   {
    "duration": 13,
    "start_time": "2023-04-17T14:25:36.697Z"
   },
   {
    "duration": 4,
    "start_time": "2023-04-17T14:25:36.712Z"
   },
   {
    "duration": 126,
    "start_time": "2023-04-17T14:25:36.717Z"
   },
   {
    "duration": 11,
    "start_time": "2023-04-17T14:25:36.845Z"
   },
   {
    "duration": 5,
    "start_time": "2023-04-17T14:25:36.858Z"
   },
   {
    "duration": 13,
    "start_time": "2023-04-17T14:25:36.865Z"
   },
   {
    "duration": 12,
    "start_time": "2023-04-17T14:25:36.881Z"
   },
   {
    "duration": 13,
    "start_time": "2023-04-17T14:25:36.895Z"
   },
   {
    "duration": 5,
    "start_time": "2023-04-17T14:25:36.911Z"
   },
   {
    "duration": 1622,
    "start_time": "2023-04-17T14:25:36.918Z"
   },
   {
    "duration": 4,
    "start_time": "2023-04-17T14:25:38.542Z"
   },
   {
    "duration": 10,
    "start_time": "2023-04-17T14:25:38.548Z"
   },
   {
    "duration": 470,
    "start_time": "2023-04-17T14:25:38.560Z"
   },
   {
    "duration": 49,
    "start_time": "2023-04-17T14:25:39.032Z"
   },
   {
    "duration": 17,
    "start_time": "2023-04-17T14:25:39.083Z"
   },
   {
    "duration": 76,
    "start_time": "2023-04-17T14:25:39.102Z"
   },
   {
    "duration": 24,
    "start_time": "2023-04-17T14:25:39.179Z"
   },
   {
    "duration": 75,
    "start_time": "2023-04-17T14:25:39.205Z"
   },
   {
    "duration": 11,
    "start_time": "2023-04-17T14:25:39.282Z"
   },
   {
    "duration": 978,
    "start_time": "2023-04-17T14:25:39.295Z"
   },
   {
    "duration": 359,
    "start_time": "2023-04-17T14:25:40.274Z"
   },
   {
    "duration": 97,
    "start_time": "2023-04-17T14:25:40.635Z"
   },
   {
    "duration": 4,
    "start_time": "2023-04-17T14:25:40.734Z"
   },
   {
    "duration": 17,
    "start_time": "2023-04-17T14:25:40.740Z"
   },
   {
    "duration": 13,
    "start_time": "2023-04-17T14:25:40.759Z"
   },
   {
    "duration": 116,
    "start_time": "2023-04-17T14:25:40.774Z"
   },
   {
    "duration": 171,
    "start_time": "2023-04-17T14:25:40.892Z"
   },
   {
    "duration": 4,
    "start_time": "2023-04-17T14:25:41.065Z"
   },
   {
    "duration": 4,
    "start_time": "2023-04-17T14:25:41.071Z"
   },
   {
    "duration": 18487,
    "start_time": "2023-04-17T14:25:41.077Z"
   },
   {
    "duration": 195,
    "start_time": "2023-04-17T14:25:59.565Z"
   },
   {
    "duration": 93,
    "start_time": "2023-04-17T14:25:59.762Z"
   },
   {
    "duration": 4,
    "start_time": "2023-04-17T14:25:59.857Z"
   },
   {
    "duration": 9,
    "start_time": "2023-04-17T14:25:59.863Z"
   },
   {
    "duration": 4,
    "start_time": "2023-04-17T14:25:59.874Z"
   },
   {
    "duration": 199263,
    "start_time": "2023-04-17T14:25:59.880Z"
   },
   {
    "duration": 11,
    "start_time": "2023-04-17T14:29:19.145Z"
   },
   {
    "duration": 0,
    "start_time": "2023-04-17T14:29:19.157Z"
   },
   {
    "duration": 0,
    "start_time": "2023-04-17T14:29:19.158Z"
   },
   {
    "duration": 0,
    "start_time": "2023-04-17T14:29:19.160Z"
   },
   {
    "duration": 0,
    "start_time": "2023-04-17T14:29:19.161Z"
   },
   {
    "duration": 0,
    "start_time": "2023-04-17T14:29:19.162Z"
   },
   {
    "duration": 0,
    "start_time": "2023-04-17T14:29:19.163Z"
   },
   {
    "duration": 0,
    "start_time": "2023-04-17T14:29:19.163Z"
   },
   {
    "duration": 0,
    "start_time": "2023-04-17T14:29:19.165Z"
   },
   {
    "duration": 0,
    "start_time": "2023-04-17T14:29:19.166Z"
   },
   {
    "duration": 0,
    "start_time": "2023-04-17T14:29:19.167Z"
   },
   {
    "duration": 0,
    "start_time": "2023-04-17T14:29:19.168Z"
   },
   {
    "duration": 0,
    "start_time": "2023-04-17T14:29:19.169Z"
   },
   {
    "duration": 0,
    "start_time": "2023-04-17T14:29:19.170Z"
   },
   {
    "duration": 0,
    "start_time": "2023-04-17T14:29:19.171Z"
   },
   {
    "duration": 0,
    "start_time": "2023-04-17T14:29:19.172Z"
   },
   {
    "duration": 0,
    "start_time": "2023-04-17T14:29:19.173Z"
   },
   {
    "duration": 0,
    "start_time": "2023-04-17T14:29:19.174Z"
   },
   {
    "duration": 0,
    "start_time": "2023-04-17T14:29:19.175Z"
   },
   {
    "duration": 0,
    "start_time": "2023-04-17T14:29:19.176Z"
   },
   {
    "duration": 0,
    "start_time": "2023-04-17T14:29:19.178Z"
   },
   {
    "duration": 0,
    "start_time": "2023-04-17T14:29:19.178Z"
   },
   {
    "duration": 0,
    "start_time": "2023-04-17T14:29:19.179Z"
   },
   {
    "duration": 0,
    "start_time": "2023-04-17T14:29:19.181Z"
   },
   {
    "duration": 0,
    "start_time": "2023-04-17T14:29:19.182Z"
   },
   {
    "duration": 0,
    "start_time": "2023-04-17T14:29:19.182Z"
   },
   {
    "duration": 0,
    "start_time": "2023-04-17T14:29:19.184Z"
   },
   {
    "duration": 0,
    "start_time": "2023-04-17T14:29:19.185Z"
   },
   {
    "duration": 0,
    "start_time": "2023-04-17T14:29:19.186Z"
   },
   {
    "duration": 0,
    "start_time": "2023-04-17T14:29:19.187Z"
   },
   {
    "duration": 0,
    "start_time": "2023-04-17T14:29:19.188Z"
   },
   {
    "duration": 53,
    "start_time": "2023-04-17T14:29:23.317Z"
   },
   {
    "duration": 4,
    "start_time": "2023-04-17T14:33:17.494Z"
   },
   {
    "duration": 883,
    "start_time": "2023-04-17T14:33:17.501Z"
   },
   {
    "duration": 15,
    "start_time": "2023-04-17T14:33:18.387Z"
   },
   {
    "duration": 153,
    "start_time": "2023-04-17T14:33:18.403Z"
   },
   {
    "duration": 6,
    "start_time": "2023-04-17T14:33:18.559Z"
   },
   {
    "duration": 137,
    "start_time": "2023-04-17T14:33:18.567Z"
   },
   {
    "duration": 485,
    "start_time": "2023-04-17T14:33:18.706Z"
   },
   {
    "duration": 456,
    "start_time": "2023-04-17T14:33:19.193Z"
   },
   {
    "duration": 9,
    "start_time": "2023-04-17T14:33:19.651Z"
   },
   {
    "duration": 500,
    "start_time": "2023-04-17T14:33:19.663Z"
   },
   {
    "duration": 8,
    "start_time": "2023-04-17T14:33:20.166Z"
   },
   {
    "duration": 514,
    "start_time": "2023-04-17T14:33:20.176Z"
   },
   {
    "duration": 121,
    "start_time": "2023-04-17T14:33:20.691Z"
   },
   {
    "duration": 42,
    "start_time": "2023-04-17T14:33:20.814Z"
   },
   {
    "duration": 43,
    "start_time": "2023-04-17T14:33:20.859Z"
   },
   {
    "duration": 96,
    "start_time": "2023-04-17T14:33:20.905Z"
   },
   {
    "duration": 99,
    "start_time": "2023-04-17T14:33:21.003Z"
   },
   {
    "duration": 19,
    "start_time": "2023-04-17T14:33:21.103Z"
   },
   {
    "duration": 7,
    "start_time": "2023-04-17T14:33:21.124Z"
   },
   {
    "duration": 28,
    "start_time": "2023-04-17T14:33:21.132Z"
   },
   {
    "duration": 50,
    "start_time": "2023-04-17T14:33:21.164Z"
   },
   {
    "duration": 45,
    "start_time": "2023-04-17T14:33:21.216Z"
   },
   {
    "duration": 15,
    "start_time": "2023-04-17T14:33:21.263Z"
   },
   {
    "duration": 51,
    "start_time": "2023-04-17T14:33:21.280Z"
   },
   {
    "duration": 53,
    "start_time": "2023-04-17T14:33:21.332Z"
   },
   {
    "duration": 7,
    "start_time": "2023-04-17T14:33:21.388Z"
   },
   {
    "duration": 97,
    "start_time": "2023-04-17T14:33:21.397Z"
   },
   {
    "duration": 7,
    "start_time": "2023-04-17T14:33:21.496Z"
   },
   {
    "duration": 19,
    "start_time": "2023-04-17T14:33:21.505Z"
   },
   {
    "duration": 82,
    "start_time": "2023-04-17T14:33:21.526Z"
   },
   {
    "duration": 8,
    "start_time": "2023-04-17T14:33:21.610Z"
   },
   {
    "duration": 9,
    "start_time": "2023-04-17T14:33:27.736Z"
   },
   {
    "duration": 29,
    "start_time": "2023-04-17T14:33:32.176Z"
   },
   {
    "duration": 18,
    "start_time": "2023-04-17T14:33:48.329Z"
   },
   {
    "duration": 19,
    "start_time": "2023-04-17T14:33:54.425Z"
   },
   {
    "duration": 21,
    "start_time": "2023-04-17T14:33:55.297Z"
   },
   {
    "duration": 14,
    "start_time": "2023-04-17T14:34:52.073Z"
   },
   {
    "duration": 163,
    "start_time": "2023-04-17T14:34:59.731Z"
   },
   {
    "duration": 40,
    "start_time": "2023-04-17T14:35:25.004Z"
   },
   {
    "duration": 1612,
    "start_time": "2023-04-17T14:36:39.303Z"
   },
   {
    "duration": 31,
    "start_time": "2023-04-17T14:41:30.685Z"
   },
   {
    "duration": 7,
    "start_time": "2023-04-17T14:42:28.581Z"
   },
   {
    "duration": 999,
    "start_time": "2023-04-17T14:42:28.597Z"
   },
   {
    "duration": 15,
    "start_time": "2023-04-17T14:42:29.598Z"
   },
   {
    "duration": 137,
    "start_time": "2023-04-17T14:42:29.615Z"
   },
   {
    "duration": 6,
    "start_time": "2023-04-17T14:42:29.754Z"
   },
   {
    "duration": 134,
    "start_time": "2023-04-17T14:42:29.763Z"
   },
   {
    "duration": 539,
    "start_time": "2023-04-17T14:42:29.898Z"
   },
   {
    "duration": 539,
    "start_time": "2023-04-17T14:42:30.438Z"
   },
   {
    "duration": 8,
    "start_time": "2023-04-17T14:42:30.979Z"
   },
   {
    "duration": 524,
    "start_time": "2023-04-17T14:42:30.990Z"
   },
   {
    "duration": 4,
    "start_time": "2023-04-17T14:42:31.515Z"
   },
   {
    "duration": 509,
    "start_time": "2023-04-17T14:42:31.521Z"
   },
   {
    "duration": 150,
    "start_time": "2023-04-17T14:42:32.031Z"
   },
   {
    "duration": 49,
    "start_time": "2023-04-17T14:42:32.184Z"
   },
   {
    "duration": 48,
    "start_time": "2023-04-17T14:42:32.236Z"
   },
   {
    "duration": 104,
    "start_time": "2023-04-17T14:42:32.286Z"
   },
   {
    "duration": 105,
    "start_time": "2023-04-17T14:42:32.392Z"
   },
   {
    "duration": 18,
    "start_time": "2023-04-17T14:42:32.499Z"
   },
   {
    "duration": 8,
    "start_time": "2023-04-17T14:42:32.520Z"
   },
   {
    "duration": 33,
    "start_time": "2023-04-17T14:42:32.531Z"
   },
   {
    "duration": 11,
    "start_time": "2023-04-17T14:42:32.567Z"
   },
   {
    "duration": 13,
    "start_time": "2023-04-17T14:42:32.580Z"
   },
   {
    "duration": 8,
    "start_time": "2023-04-17T14:42:32.595Z"
   },
   {
    "duration": 56,
    "start_time": "2023-04-17T14:42:32.605Z"
   },
   {
    "duration": 45,
    "start_time": "2023-04-17T14:42:32.664Z"
   },
   {
    "duration": 4,
    "start_time": "2023-04-17T14:42:32.711Z"
   },
   {
    "duration": 102,
    "start_time": "2023-04-17T14:42:32.717Z"
   },
   {
    "duration": 28,
    "start_time": "2023-04-17T14:42:32.821Z"
   },
   {
    "duration": 30,
    "start_time": "2023-04-17T14:42:32.851Z"
   },
   {
    "duration": 79,
    "start_time": "2023-04-17T14:42:32.883Z"
   },
   {
    "duration": 28,
    "start_time": "2023-04-17T14:42:32.966Z"
   },
   {
    "duration": 42,
    "start_time": "2023-04-17T14:42:32.996Z"
   },
   {
    "duration": 36,
    "start_time": "2023-04-17T14:42:33.040Z"
   },
   {
    "duration": 29,
    "start_time": "2023-04-17T14:42:33.078Z"
   },
   {
    "duration": 113,
    "start_time": "2023-04-17T14:42:33.109Z"
   },
   {
    "duration": 11,
    "start_time": "2023-04-17T14:42:33.224Z"
   },
   {
    "duration": 25,
    "start_time": "2023-04-17T14:42:33.237Z"
   },
   {
    "duration": 9,
    "start_time": "2023-04-17T14:42:33.264Z"
   },
   {
    "duration": 4,
    "start_time": "2023-04-17T14:42:33.277Z"
   },
   {
    "duration": 31613,
    "start_time": "2023-04-17T14:42:33.282Z"
   },
   {
    "duration": 17,
    "start_time": "2023-04-17T14:43:04.897Z"
   },
   {
    "duration": 39,
    "start_time": "2023-04-17T14:43:04.923Z"
   },
   {
    "duration": 171,
    "start_time": "2023-04-17T14:43:04.967Z"
   },
   {
    "duration": 37,
    "start_time": "2023-04-17T14:43:05.141Z"
   },
   {
    "duration": 62,
    "start_time": "2023-04-17T14:43:05.180Z"
   },
   {
    "duration": 17,
    "start_time": "2023-04-17T14:43:05.243Z"
   },
   {
    "duration": 29,
    "start_time": "2023-04-17T14:43:05.261Z"
   },
   {
    "duration": 3413,
    "start_time": "2023-04-17T14:43:05.293Z"
   },
   {
    "duration": 149,
    "start_time": "2023-04-17T14:43:08.707Z"
   },
   {
    "duration": 80,
    "start_time": "2023-04-17T14:43:08.859Z"
   },
   {
    "duration": 16,
    "start_time": "2023-04-17T14:43:08.942Z"
   },
   {
    "duration": 11,
    "start_time": "2023-04-17T14:43:08.961Z"
   },
   {
    "duration": 21,
    "start_time": "2023-04-17T14:43:08.974Z"
   },
   {
    "duration": 34,
    "start_time": "2023-04-17T14:43:08.997Z"
   },
   {
    "duration": 125,
    "start_time": "2023-04-17T14:43:09.058Z"
   },
   {
    "duration": 11,
    "start_time": "2023-04-17T14:43:09.185Z"
   },
   {
    "duration": 16,
    "start_time": "2023-04-17T14:43:09.198Z"
   },
   {
    "duration": 5,
    "start_time": "2023-04-17T14:43:09.215Z"
   },
   {
    "duration": 8,
    "start_time": "2023-04-17T14:43:09.222Z"
   },
   {
    "duration": 31004,
    "start_time": "2023-04-17T14:43:09.232Z"
   },
   {
    "duration": 189,
    "start_time": "2023-04-17T14:43:40.239Z"
   },
   {
    "duration": 28,
    "start_time": "2023-04-17T14:43:40.430Z"
   },
   {
    "duration": 75,
    "start_time": "2023-04-17T14:43:40.461Z"
   },
   {
    "duration": 19,
    "start_time": "2023-04-17T14:43:40.538Z"
   },
   {
    "duration": 4057,
    "start_time": "2023-04-17T14:43:40.560Z"
   },
   {
    "duration": 149,
    "start_time": "2023-04-17T14:43:44.619Z"
   },
   {
    "duration": 86,
    "start_time": "2023-04-17T14:43:44.771Z"
   },
   {
    "duration": 62,
    "start_time": "2023-04-17T14:43:44.860Z"
   },
   {
    "duration": 9,
    "start_time": "2023-04-17T14:43:44.924Z"
   },
   {
    "duration": 44,
    "start_time": "2023-04-17T14:43:44.934Z"
   },
   {
    "duration": 29,
    "start_time": "2023-04-17T14:43:44.980Z"
   },
   {
    "duration": 102,
    "start_time": "2023-04-17T14:43:45.012Z"
   },
   {
    "duration": 9,
    "start_time": "2023-04-17T14:43:45.116Z"
   },
   {
    "duration": 18,
    "start_time": "2023-04-17T14:43:45.127Z"
   },
   {
    "duration": 10,
    "start_time": "2023-04-17T14:43:45.146Z"
   },
   {
    "duration": 3373,
    "start_time": "2023-04-17T14:43:45.159Z"
   },
   {
    "duration": 160,
    "start_time": "2023-04-17T14:43:48.534Z"
   },
   {
    "duration": 100,
    "start_time": "2023-04-17T14:43:48.695Z"
   },
   {
    "duration": 17,
    "start_time": "2023-04-17T14:43:48.797Z"
   },
   {
    "duration": 116,
    "start_time": "2023-04-17T14:43:48.816Z"
   },
   {
    "duration": 11,
    "start_time": "2023-04-17T14:43:48.934Z"
   },
   {
    "duration": 29,
    "start_time": "2023-04-17T14:43:48.947Z"
   },
   {
    "duration": 7,
    "start_time": "2023-04-17T14:43:48.979Z"
   },
   {
    "duration": 20978,
    "start_time": "2023-04-17T14:43:48.988Z"
   },
   {
    "duration": 150,
    "start_time": "2023-04-17T14:44:09.970Z"
   },
   {
    "duration": 97,
    "start_time": "2023-04-17T14:44:10.122Z"
   },
   {
    "duration": 109,
    "start_time": "2023-04-17T14:44:10.220Z"
   },
   {
    "duration": 16,
    "start_time": "2023-04-17T14:44:10.331Z"
   },
   {
    "duration": 30,
    "start_time": "2023-04-17T14:44:10.355Z"
   },
   {
    "duration": 108,
    "start_time": "2023-04-17T14:44:10.387Z"
   },
   {
    "duration": 7,
    "start_time": "2023-04-17T14:44:10.496Z"
   },
   {
    "duration": 38,
    "start_time": "2023-04-17T14:44:10.505Z"
   },
   {
    "duration": 78,
    "start_time": "2023-04-17T14:44:10.545Z"
   },
   {
    "duration": 6,
    "start_time": "2023-04-17T14:44:10.625Z"
   },
   {
    "duration": 49,
    "start_time": "2023-04-17T14:44:10.632Z"
   },
   {
    "duration": 63,
    "start_time": "2023-04-17T14:44:10.683Z"
   },
   {
    "duration": 20,
    "start_time": "2023-04-17T14:44:10.756Z"
   },
   {
    "duration": 5,
    "start_time": "2023-04-17T14:44:10.781Z"
   },
   {
    "duration": 123,
    "start_time": "2023-04-17T14:44:10.788Z"
   },
   {
    "duration": 4,
    "start_time": "2023-04-17T14:44:10.913Z"
   },
   {
    "duration": 8,
    "start_time": "2023-04-17T14:44:10.918Z"
   },
   {
    "duration": 10,
    "start_time": "2023-04-17T14:44:10.928Z"
   },
   {
    "duration": 30,
    "start_time": "2023-04-17T14:44:10.939Z"
   },
   {
    "duration": 19,
    "start_time": "2023-04-17T14:44:10.972Z"
   },
   {
    "duration": 8,
    "start_time": "2023-04-17T14:44:10.992Z"
   },
   {
    "duration": 1589,
    "start_time": "2023-04-17T14:44:11.002Z"
   },
   {
    "duration": 4,
    "start_time": "2023-04-17T14:44:12.593Z"
   },
   {
    "duration": 6,
    "start_time": "2023-04-17T14:44:12.598Z"
   },
   {
    "duration": 458,
    "start_time": "2023-04-17T14:44:12.606Z"
   },
   {
    "duration": 43,
    "start_time": "2023-04-17T14:44:13.066Z"
   },
   {
    "duration": 17,
    "start_time": "2023-04-17T14:44:13.111Z"
   },
   {
    "duration": 89,
    "start_time": "2023-04-17T14:44:13.130Z"
   },
   {
    "duration": 20,
    "start_time": "2023-04-17T14:44:13.221Z"
   },
   {
    "duration": 72,
    "start_time": "2023-04-17T14:44:13.257Z"
   },
   {
    "duration": 7,
    "start_time": "2023-04-17T14:44:13.330Z"
   },
   {
    "duration": 37,
    "start_time": "2023-04-17T14:46:45.856Z"
   },
   {
    "duration": 28,
    "start_time": "2023-04-17T14:47:02.938Z"
   },
   {
    "duration": 23,
    "start_time": "2023-04-17T14:47:30.994Z"
   },
   {
    "duration": 14,
    "start_time": "2023-04-17T14:47:42.634Z"
   },
   {
    "duration": 23,
    "start_time": "2023-04-17T14:47:53.899Z"
   },
   {
    "duration": 28,
    "start_time": "2023-04-17T14:48:01.245Z"
   },
   {
    "duration": 1206,
    "start_time": "2023-04-17T14:48:56.428Z"
   },
   {
    "duration": 4,
    "start_time": "2023-04-17T14:49:40.097Z"
   },
   {
    "duration": 1092,
    "start_time": "2023-04-17T14:49:40.105Z"
   },
   {
    "duration": 15,
    "start_time": "2023-04-17T14:49:41.200Z"
   },
   {
    "duration": 294,
    "start_time": "2023-04-17T14:49:41.218Z"
   },
   {
    "duration": 4,
    "start_time": "2023-04-17T14:49:41.514Z"
   },
   {
    "duration": 180,
    "start_time": "2023-04-17T14:49:41.520Z"
   },
   {
    "duration": 509,
    "start_time": "2023-04-17T14:49:41.702Z"
   },
   {
    "duration": 517,
    "start_time": "2023-04-17T14:49:42.213Z"
   },
   {
    "duration": 3,
    "start_time": "2023-04-17T14:49:42.732Z"
   },
   {
    "duration": 553,
    "start_time": "2023-04-17T14:49:42.737Z"
   },
   {
    "duration": 6,
    "start_time": "2023-04-17T14:49:43.293Z"
   },
   {
    "duration": 551,
    "start_time": "2023-04-17T14:49:43.301Z"
   },
   {
    "duration": 158,
    "start_time": "2023-04-17T14:49:43.857Z"
   },
   {
    "duration": 22,
    "start_time": "2023-04-17T14:49:44.017Z"
   },
   {
    "duration": 52,
    "start_time": "2023-04-17T14:49:44.040Z"
   },
   {
    "duration": 103,
    "start_time": "2023-04-17T14:49:44.094Z"
   },
   {
    "duration": 110,
    "start_time": "2023-04-17T14:49:44.199Z"
   },
   {
    "duration": 20,
    "start_time": "2023-04-17T14:49:44.311Z"
   },
   {
    "duration": 6,
    "start_time": "2023-04-17T14:49:44.332Z"
   },
   {
    "duration": 23,
    "start_time": "2023-04-17T14:49:44.340Z"
   },
   {
    "duration": 6,
    "start_time": "2023-04-17T14:49:44.365Z"
   },
   {
    "duration": 10,
    "start_time": "2023-04-17T14:49:44.373Z"
   },
   {
    "duration": 4,
    "start_time": "2023-04-17T14:49:44.386Z"
   },
   {
    "duration": 368,
    "start_time": "2023-04-17T14:49:44.392Z"
   },
   {
    "duration": 0,
    "start_time": "2023-04-17T14:49:44.765Z"
   },
   {
    "duration": 0,
    "start_time": "2023-04-17T14:49:44.768Z"
   },
   {
    "duration": 0,
    "start_time": "2023-04-17T14:49:44.769Z"
   },
   {
    "duration": 0,
    "start_time": "2023-04-17T14:49:44.770Z"
   },
   {
    "duration": 0,
    "start_time": "2023-04-17T14:49:44.772Z"
   },
   {
    "duration": 0,
    "start_time": "2023-04-17T14:49:44.773Z"
   },
   {
    "duration": 0,
    "start_time": "2023-04-17T14:49:44.774Z"
   },
   {
    "duration": 0,
    "start_time": "2023-04-17T14:49:44.776Z"
   },
   {
    "duration": 0,
    "start_time": "2023-04-17T14:49:44.777Z"
   },
   {
    "duration": 0,
    "start_time": "2023-04-17T14:49:44.779Z"
   },
   {
    "duration": 0,
    "start_time": "2023-04-17T14:49:44.781Z"
   },
   {
    "duration": 0,
    "start_time": "2023-04-17T14:49:44.782Z"
   },
   {
    "duration": 0,
    "start_time": "2023-04-17T14:49:44.784Z"
   },
   {
    "duration": 0,
    "start_time": "2023-04-17T14:49:44.785Z"
   },
   {
    "duration": 0,
    "start_time": "2023-04-17T14:49:44.787Z"
   },
   {
    "duration": 0,
    "start_time": "2023-04-17T14:49:44.788Z"
   },
   {
    "duration": 0,
    "start_time": "2023-04-17T14:49:44.789Z"
   },
   {
    "duration": 0,
    "start_time": "2023-04-17T14:49:44.790Z"
   },
   {
    "duration": 0,
    "start_time": "2023-04-17T14:49:44.791Z"
   },
   {
    "duration": 0,
    "start_time": "2023-04-17T14:49:44.793Z"
   },
   {
    "duration": 0,
    "start_time": "2023-04-17T14:49:44.794Z"
   },
   {
    "duration": 0,
    "start_time": "2023-04-17T14:49:44.795Z"
   },
   {
    "duration": 0,
    "start_time": "2023-04-17T14:49:44.798Z"
   },
   {
    "duration": 0,
    "start_time": "2023-04-17T14:49:44.799Z"
   },
   {
    "duration": 0,
    "start_time": "2023-04-17T14:49:44.800Z"
   },
   {
    "duration": 0,
    "start_time": "2023-04-17T14:49:44.801Z"
   },
   {
    "duration": 0,
    "start_time": "2023-04-17T14:49:44.803Z"
   },
   {
    "duration": 0,
    "start_time": "2023-04-17T14:49:44.857Z"
   },
   {
    "duration": 0,
    "start_time": "2023-04-17T14:49:44.858Z"
   },
   {
    "duration": 0,
    "start_time": "2023-04-17T14:49:44.859Z"
   },
   {
    "duration": 0,
    "start_time": "2023-04-17T14:49:44.860Z"
   },
   {
    "duration": 0,
    "start_time": "2023-04-17T14:49:44.860Z"
   },
   {
    "duration": 0,
    "start_time": "2023-04-17T14:49:44.861Z"
   },
   {
    "duration": 0,
    "start_time": "2023-04-17T14:49:44.864Z"
   },
   {
    "duration": 0,
    "start_time": "2023-04-17T14:49:44.865Z"
   },
   {
    "duration": 0,
    "start_time": "2023-04-17T14:49:44.866Z"
   },
   {
    "duration": 0,
    "start_time": "2023-04-17T14:49:44.867Z"
   },
   {
    "duration": 0,
    "start_time": "2023-04-17T14:49:44.873Z"
   },
   {
    "duration": 0,
    "start_time": "2023-04-17T14:49:44.875Z"
   },
   {
    "duration": 0,
    "start_time": "2023-04-17T14:49:44.876Z"
   },
   {
    "duration": 0,
    "start_time": "2023-04-17T14:49:44.877Z"
   },
   {
    "duration": 0,
    "start_time": "2023-04-17T14:49:44.880Z"
   },
   {
    "duration": 0,
    "start_time": "2023-04-17T14:49:44.882Z"
   },
   {
    "duration": 0,
    "start_time": "2023-04-17T14:49:44.884Z"
   },
   {
    "duration": 1,
    "start_time": "2023-04-17T14:49:44.885Z"
   },
   {
    "duration": 0,
    "start_time": "2023-04-17T14:49:44.886Z"
   },
   {
    "duration": 0,
    "start_time": "2023-04-17T14:49:44.888Z"
   },
   {
    "duration": 0,
    "start_time": "2023-04-17T14:49:44.889Z"
   },
   {
    "duration": 0,
    "start_time": "2023-04-17T14:49:44.890Z"
   },
   {
    "duration": 0,
    "start_time": "2023-04-17T14:49:44.892Z"
   },
   {
    "duration": 0,
    "start_time": "2023-04-17T14:49:44.893Z"
   },
   {
    "duration": 0,
    "start_time": "2023-04-17T14:49:44.894Z"
   },
   {
    "duration": 0,
    "start_time": "2023-04-17T14:49:44.895Z"
   },
   {
    "duration": 0,
    "start_time": "2023-04-17T14:49:44.896Z"
   },
   {
    "duration": 0,
    "start_time": "2023-04-17T14:49:44.956Z"
   },
   {
    "duration": 0,
    "start_time": "2023-04-17T14:49:44.957Z"
   },
   {
    "duration": 0,
    "start_time": "2023-04-17T14:49:44.962Z"
   },
   {
    "duration": 0,
    "start_time": "2023-04-17T14:49:44.963Z"
   },
   {
    "duration": 0,
    "start_time": "2023-04-17T14:49:44.965Z"
   },
   {
    "duration": 0,
    "start_time": "2023-04-17T14:49:44.967Z"
   },
   {
    "duration": 0,
    "start_time": "2023-04-17T14:49:44.968Z"
   },
   {
    "duration": 0,
    "start_time": "2023-04-17T14:49:44.969Z"
   },
   {
    "duration": 0,
    "start_time": "2023-04-17T14:49:44.970Z"
   },
   {
    "duration": 0,
    "start_time": "2023-04-17T14:49:44.972Z"
   },
   {
    "duration": 0,
    "start_time": "2023-04-17T14:49:44.973Z"
   },
   {
    "duration": 0,
    "start_time": "2023-04-17T14:49:44.974Z"
   },
   {
    "duration": 0,
    "start_time": "2023-04-17T14:49:44.976Z"
   },
   {
    "duration": 0,
    "start_time": "2023-04-17T14:49:44.976Z"
   },
   {
    "duration": 0,
    "start_time": "2023-04-17T14:49:44.977Z"
   },
   {
    "duration": 1,
    "start_time": "2023-04-17T14:49:44.978Z"
   },
   {
    "duration": 0,
    "start_time": "2023-04-17T14:49:44.985Z"
   },
   {
    "duration": 0,
    "start_time": "2023-04-17T14:49:44.987Z"
   },
   {
    "duration": 0,
    "start_time": "2023-04-17T14:49:44.988Z"
   },
   {
    "duration": 0,
    "start_time": "2023-04-17T14:49:44.990Z"
   },
   {
    "duration": 1,
    "start_time": "2023-04-17T14:49:44.991Z"
   },
   {
    "duration": 0,
    "start_time": "2023-04-17T14:49:44.993Z"
   },
   {
    "duration": 0,
    "start_time": "2023-04-17T14:49:44.994Z"
   },
   {
    "duration": 0,
    "start_time": "2023-04-17T14:49:44.995Z"
   },
   {
    "duration": 0,
    "start_time": "2023-04-17T14:49:44.996Z"
   },
   {
    "duration": 0,
    "start_time": "2023-04-17T14:49:44.997Z"
   },
   {
    "duration": 0,
    "start_time": "2023-04-17T14:49:44.998Z"
   },
   {
    "duration": 0,
    "start_time": "2023-04-17T14:49:44.999Z"
   },
   {
    "duration": 0,
    "start_time": "2023-04-17T14:49:45.056Z"
   },
   {
    "duration": 0,
    "start_time": "2023-04-17T14:49:45.057Z"
   },
   {
    "duration": 0,
    "start_time": "2023-04-17T14:49:45.059Z"
   },
   {
    "duration": 0,
    "start_time": "2023-04-17T14:49:45.061Z"
   },
   {
    "duration": 0,
    "start_time": "2023-04-17T14:49:45.062Z"
   },
   {
    "duration": 0,
    "start_time": "2023-04-17T14:49:45.063Z"
   },
   {
    "duration": 0,
    "start_time": "2023-04-17T14:49:45.063Z"
   },
   {
    "duration": 0,
    "start_time": "2023-04-17T14:49:45.064Z"
   },
   {
    "duration": 0,
    "start_time": "2023-04-17T14:49:45.066Z"
   },
   {
    "duration": 0,
    "start_time": "2023-04-17T14:49:45.067Z"
   },
   {
    "duration": 0,
    "start_time": "2023-04-17T14:49:45.068Z"
   },
   {
    "duration": 0,
    "start_time": "2023-04-17T14:49:45.069Z"
   },
   {
    "duration": 1771,
    "start_time": "2023-04-17T14:49:49.472Z"
   },
   {
    "duration": 997,
    "start_time": "2023-04-17T14:49:51.245Z"
   },
   {
    "duration": 25,
    "start_time": "2023-04-17T14:49:52.244Z"
   },
   {
    "duration": 152,
    "start_time": "2023-04-17T14:49:52.271Z"
   },
   {
    "duration": 29,
    "start_time": "2023-04-17T14:49:52.425Z"
   },
   {
    "duration": 145,
    "start_time": "2023-04-17T14:49:52.456Z"
   },
   {
    "duration": 585,
    "start_time": "2023-04-17T14:49:52.604Z"
   },
   {
    "duration": 590,
    "start_time": "2023-04-17T14:49:53.191Z"
   },
   {
    "duration": 6,
    "start_time": "2023-04-17T14:49:53.789Z"
   },
   {
    "duration": 604,
    "start_time": "2023-04-17T14:49:53.798Z"
   },
   {
    "duration": 3,
    "start_time": "2023-04-17T14:49:54.404Z"
   },
   {
    "duration": 658,
    "start_time": "2023-04-17T14:49:54.409Z"
   },
   {
    "duration": 127,
    "start_time": "2023-04-17T14:49:55.072Z"
   },
   {
    "duration": 25,
    "start_time": "2023-04-17T14:49:55.201Z"
   },
   {
    "duration": 70,
    "start_time": "2023-04-17T14:49:55.228Z"
   },
   {
    "duration": 99,
    "start_time": "2023-04-17T14:49:55.300Z"
   },
   {
    "duration": 108,
    "start_time": "2023-04-17T14:49:55.401Z"
   },
   {
    "duration": 29,
    "start_time": "2023-04-17T14:49:55.511Z"
   },
   {
    "duration": 150,
    "start_time": "2023-04-17T14:49:55.542Z"
   },
   {
    "duration": 8,
    "start_time": "2023-04-17T14:49:55.694Z"
   },
   {
    "duration": 4,
    "start_time": "2023-04-17T14:49:55.704Z"
   },
   {
    "duration": 9,
    "start_time": "2023-04-17T14:49:55.709Z"
   },
   {
    "duration": 4,
    "start_time": "2023-04-17T14:49:55.720Z"
   },
   {
    "duration": 83,
    "start_time": "2023-04-17T14:49:55.726Z"
   },
   {
    "duration": 64,
    "start_time": "2023-04-17T14:49:55.811Z"
   },
   {
    "duration": 5,
    "start_time": "2023-04-17T14:49:55.878Z"
   },
   {
    "duration": 85,
    "start_time": "2023-04-17T14:49:55.885Z"
   },
   {
    "duration": 8,
    "start_time": "2023-04-17T14:49:55.976Z"
   },
   {
    "duration": 10,
    "start_time": "2023-04-17T14:49:55.986Z"
   },
   {
    "duration": 101,
    "start_time": "2023-04-17T14:49:55.997Z"
   },
   {
    "duration": 19,
    "start_time": "2023-04-17T14:49:56.101Z"
   },
   {
    "duration": 66,
    "start_time": "2023-04-17T14:49:56.121Z"
   },
   {
    "duration": 29,
    "start_time": "2023-04-17T14:49:56.188Z"
   },
   {
    "duration": 20,
    "start_time": "2023-04-17T14:49:56.219Z"
   },
   {
    "duration": 135,
    "start_time": "2023-04-17T14:49:56.240Z"
   },
   {
    "duration": 8,
    "start_time": "2023-04-17T14:49:56.377Z"
   },
   {
    "duration": 15,
    "start_time": "2023-04-17T14:49:56.387Z"
   },
   {
    "duration": 5,
    "start_time": "2023-04-17T14:49:56.404Z"
   },
   {
    "duration": 5,
    "start_time": "2023-04-17T14:49:56.410Z"
   },
   {
    "duration": 29935,
    "start_time": "2023-04-17T14:49:56.417Z"
   },
   {
    "duration": 26,
    "start_time": "2023-04-17T14:50:26.353Z"
   },
   {
    "duration": 12,
    "start_time": "2023-04-17T14:50:26.382Z"
   },
   {
    "duration": 173,
    "start_time": "2023-04-17T14:50:26.395Z"
   },
   {
    "duration": 27,
    "start_time": "2023-04-17T14:50:26.578Z"
   },
   {
    "duration": 75,
    "start_time": "2023-04-17T14:50:26.607Z"
   },
   {
    "duration": 10,
    "start_time": "2023-04-17T14:50:26.684Z"
   },
   {
    "duration": 18,
    "start_time": "2023-04-17T14:50:26.698Z"
   },
   {
    "duration": 3524,
    "start_time": "2023-04-17T14:50:26.718Z"
   },
   {
    "duration": 166,
    "start_time": "2023-04-17T14:50:30.244Z"
   },
   {
    "duration": 91,
    "start_time": "2023-04-17T14:50:30.412Z"
   },
   {
    "duration": 5,
    "start_time": "2023-04-17T14:50:30.505Z"
   },
   {
    "duration": 109,
    "start_time": "2023-04-17T14:50:30.512Z"
   },
   {
    "duration": 102,
    "start_time": "2023-04-17T14:50:30.623Z"
   },
   {
    "duration": 68,
    "start_time": "2023-04-17T14:50:30.729Z"
   },
   {
    "duration": 193,
    "start_time": "2023-04-17T14:50:30.800Z"
   },
   {
    "duration": 14,
    "start_time": "2023-04-17T14:50:30.995Z"
   },
   {
    "duration": 73,
    "start_time": "2023-04-17T14:50:31.011Z"
   },
   {
    "duration": 64,
    "start_time": "2023-04-17T14:50:31.086Z"
   },
   {
    "duration": 62,
    "start_time": "2023-04-17T14:50:31.151Z"
   },
   {
    "duration": 33127,
    "start_time": "2023-04-17T14:50:31.214Z"
   },
   {
    "duration": 174,
    "start_time": "2023-04-17T14:51:04.343Z"
   },
   {
    "duration": 21,
    "start_time": "2023-04-17T14:51:04.519Z"
   },
   {
    "duration": 100,
    "start_time": "2023-04-17T14:51:04.542Z"
   },
   {
    "duration": 21,
    "start_time": "2023-04-17T14:51:04.644Z"
   },
   {
    "duration": 3749,
    "start_time": "2023-04-17T14:51:04.667Z"
   },
   {
    "duration": 144,
    "start_time": "2023-04-17T14:51:08.418Z"
   },
   {
    "duration": 71,
    "start_time": "2023-04-17T14:51:08.565Z"
   },
   {
    "duration": 89,
    "start_time": "2023-04-17T14:51:08.637Z"
   },
   {
    "duration": 8,
    "start_time": "2023-04-17T14:51:08.728Z"
   },
   {
    "duration": 42,
    "start_time": "2023-04-17T14:51:08.738Z"
   },
   {
    "duration": 34,
    "start_time": "2023-04-17T14:51:08.782Z"
   },
   {
    "duration": 103,
    "start_time": "2023-04-17T14:51:08.818Z"
   },
   {
    "duration": 7,
    "start_time": "2023-04-17T14:51:08.923Z"
   },
   {
    "duration": 39,
    "start_time": "2023-04-17T14:51:08.932Z"
   },
   {
    "duration": 9,
    "start_time": "2023-04-17T14:51:08.973Z"
   },
   {
    "duration": 3767,
    "start_time": "2023-04-17T14:51:08.985Z"
   },
   {
    "duration": 171,
    "start_time": "2023-04-17T14:51:12.754Z"
   },
   {
    "duration": 88,
    "start_time": "2023-04-17T14:51:12.927Z"
   },
   {
    "duration": 18,
    "start_time": "2023-04-17T14:51:13.017Z"
   },
   {
    "duration": 116,
    "start_time": "2023-04-17T14:51:13.037Z"
   },
   {
    "duration": 17,
    "start_time": "2023-04-17T14:51:13.158Z"
   },
   {
    "duration": 19,
    "start_time": "2023-04-17T14:51:13.191Z"
   },
   {
    "duration": 6,
    "start_time": "2023-04-17T14:51:13.212Z"
   },
   {
    "duration": 22770,
    "start_time": "2023-04-17T14:51:13.221Z"
   },
   {
    "duration": 173,
    "start_time": "2023-04-17T14:51:35.993Z"
   },
   {
    "duration": 89,
    "start_time": "2023-04-17T14:51:36.171Z"
   },
   {
    "duration": 105,
    "start_time": "2023-04-17T14:51:36.263Z"
   },
   {
    "duration": 23,
    "start_time": "2023-04-17T14:51:36.372Z"
   },
   {
    "duration": 26,
    "start_time": "2023-04-17T14:51:36.397Z"
   },
   {
    "duration": 117,
    "start_time": "2023-04-17T14:51:36.425Z"
   },
   {
    "duration": 18,
    "start_time": "2023-04-17T14:51:36.544Z"
   },
   {
    "duration": 46,
    "start_time": "2023-04-17T14:51:36.564Z"
   },
   {
    "duration": 101,
    "start_time": "2023-04-17T14:51:36.612Z"
   },
   {
    "duration": 7,
    "start_time": "2023-04-17T14:51:36.715Z"
   },
   {
    "duration": 37,
    "start_time": "2023-04-17T14:51:36.724Z"
   },
   {
    "duration": 81,
    "start_time": "2023-04-17T14:51:36.763Z"
   },
   {
    "duration": 14,
    "start_time": "2023-04-17T14:51:36.856Z"
   },
   {
    "duration": 14,
    "start_time": "2023-04-17T14:51:36.872Z"
   },
   {
    "duration": 147,
    "start_time": "2023-04-17T14:51:36.889Z"
   },
   {
    "duration": 4,
    "start_time": "2023-04-17T14:51:37.037Z"
   },
   {
    "duration": 17,
    "start_time": "2023-04-17T14:51:37.043Z"
   },
   {
    "duration": 21,
    "start_time": "2023-04-17T14:51:37.063Z"
   },
   {
    "duration": 11,
    "start_time": "2023-04-17T14:51:37.087Z"
   },
   {
    "duration": 15,
    "start_time": "2023-04-17T14:51:37.100Z"
   },
   {
    "duration": 5,
    "start_time": "2023-04-17T14:51:37.118Z"
   },
   {
    "duration": 1955,
    "start_time": "2023-04-17T14:51:37.125Z"
   },
   {
    "duration": 6,
    "start_time": "2023-04-17T14:51:39.082Z"
   },
   {
    "duration": 4,
    "start_time": "2023-04-17T14:51:39.091Z"
   },
   {
    "duration": 552,
    "start_time": "2023-04-17T14:51:39.097Z"
   },
   {
    "duration": 76,
    "start_time": "2023-04-17T14:51:39.651Z"
   },
   {
    "duration": 31,
    "start_time": "2023-04-17T14:51:39.729Z"
   },
   {
    "duration": 131,
    "start_time": "2023-04-17T14:51:39.763Z"
   },
   {
    "duration": 35,
    "start_time": "2023-04-17T14:51:39.896Z"
   },
   {
    "duration": 152,
    "start_time": "2023-04-17T14:51:39.934Z"
   },
   {
    "duration": 10,
    "start_time": "2023-04-17T14:51:40.088Z"
   },
   {
    "duration": 54,
    "start_time": "2023-04-17T14:51:40.101Z"
   },
   {
    "duration": 37,
    "start_time": "2023-04-17T14:51:40.168Z"
   },
   {
    "duration": 1194,
    "start_time": "2023-04-17T14:51:40.208Z"
   },
   {
    "duration": 493,
    "start_time": "2023-04-17T14:51:41.405Z"
   },
   {
    "duration": 130,
    "start_time": "2023-04-17T14:51:41.900Z"
   },
   {
    "duration": 5,
    "start_time": "2023-04-17T14:51:42.032Z"
   },
   {
    "duration": 11,
    "start_time": "2023-04-17T14:51:42.039Z"
   },
   {
    "duration": 17,
    "start_time": "2023-04-17T14:51:42.062Z"
   },
   {
    "duration": 129,
    "start_time": "2023-04-17T14:51:42.084Z"
   },
   {
    "duration": 210,
    "start_time": "2023-04-17T14:51:42.215Z"
   },
   {
    "duration": 4,
    "start_time": "2023-04-17T14:51:42.427Z"
   },
   {
    "duration": 30,
    "start_time": "2023-04-17T14:51:42.433Z"
   },
   {
    "duration": 92728,
    "start_time": "2023-04-17T14:51:42.465Z"
   },
   {
    "duration": 200,
    "start_time": "2023-04-17T14:53:15.256Z"
   },
   {
    "duration": 6,
    "start_time": "2023-04-17T14:53:15.459Z"
   },
   {
    "duration": 18,
    "start_time": "2023-04-17T14:53:15.468Z"
   },
   {
    "duration": 79,
    "start_time": "2023-04-17T14:53:15.490Z"
   },
   {
    "duration": 10,
    "start_time": "2023-04-17T14:53:15.572Z"
   },
   {
    "duration": 7874277,
    "start_time": "2023-04-17T14:53:15.585Z"
   },
   {
    "duration": 8,
    "start_time": "2023-04-17T17:04:29.868Z"
   },
   {
    "duration": 6,
    "start_time": "2023-04-17T17:04:29.881Z"
   },
   {
    "duration": 196877,
    "start_time": "2023-04-17T17:04:29.888Z"
   },
   {
    "duration": 904,
    "start_time": "2023-04-17T17:07:46.772Z"
   },
   {
    "duration": 8,
    "start_time": "2023-04-17T17:07:47.679Z"
   },
   {
    "duration": 6,
    "start_time": "2023-04-17T17:07:47.689Z"
   },
   {
    "duration": 6,
    "start_time": "2023-04-17T17:07:47.696Z"
   },
   {
    "duration": 5,
    "start_time": "2023-04-17T17:07:47.703Z"
   },
   {
    "duration": 154867,
    "start_time": "2023-04-17T17:07:47.709Z"
   },
   {
    "duration": 6,
    "start_time": "2023-04-17T17:10:22.578Z"
   },
   {
    "duration": 15,
    "start_time": "2023-04-17T17:10:22.586Z"
   },
   {
    "duration": 8432,
    "start_time": "2023-04-17T17:10:22.603Z"
   },
   {
    "duration": 132,
    "start_time": "2023-04-17T17:10:31.037Z"
   },
   {
    "duration": 84,
    "start_time": "2023-04-17T17:10:31.175Z"
   },
   {
    "duration": 41,
    "start_time": "2023-04-17T17:10:31.261Z"
   },
   {
    "duration": 57,
    "start_time": "2023-04-17T17:10:31.303Z"
   },
   {
    "duration": 32,
    "start_time": "2023-04-17T17:10:31.364Z"
   },
   {
    "duration": 2798566,
    "start_time": "2023-04-17T17:10:31.398Z"
   },
   {
    "duration": 9,
    "start_time": "2023-04-17T17:57:09.966Z"
   },
   {
    "duration": 5,
    "start_time": "2023-04-17T17:57:09.977Z"
   },
   {
    "duration": 259820,
    "start_time": "2023-04-17T17:57:09.983Z"
   },
   {
    "duration": 953,
    "start_time": "2023-04-17T18:01:29.805Z"
   },
   {
    "duration": 7,
    "start_time": "2023-04-17T18:01:30.761Z"
   },
   {
    "duration": 192,
    "start_time": "2023-04-17T18:01:30.770Z"
   },
   {
    "duration": 11,
    "start_time": "2023-04-17T18:01:30.964Z"
   },
   {
    "duration": 932,
    "start_time": "2023-04-17T18:01:31.055Z"
   },
   {
    "duration": 5,
    "start_time": "2023-04-17T18:01:31.989Z"
   },
   {
    "duration": 181,
    "start_time": "2023-04-17T18:01:31.996Z"
   },
   {
    "duration": 80,
    "start_time": "2023-04-17T18:01:32.180Z"
   },
   {
    "duration": 916,
    "start_time": "2023-04-17T18:01:32.273Z"
   },
   {
    "duration": 5,
    "start_time": "2023-04-17T18:01:33.190Z"
   },
   {
    "duration": 89,
    "start_time": "2023-04-18T02:12:36.751Z"
   },
   {
    "duration": 2596,
    "start_time": "2023-04-18T02:14:22.402Z"
   },
   {
    "duration": 2652,
    "start_time": "2023-04-18T02:15:03.515Z"
   },
   {
    "duration": 5,
    "start_time": "2023-04-18T02:15:06.906Z"
   },
   {
    "duration": 852,
    "start_time": "2023-04-18T02:17:20.405Z"
   },
   {
    "duration": 114,
    "start_time": "2023-04-18T02:17:43.023Z"
   },
   {
    "duration": 5,
    "start_time": "2023-04-18T02:17:48.278Z"
   },
   {
    "duration": 75,
    "start_time": "2023-04-18T02:18:24.975Z"
   },
   {
    "duration": 839,
    "start_time": "2023-04-18T02:18:49.640Z"
   },
   {
    "duration": 5,
    "start_time": "2023-04-18T02:19:00.198Z"
   },
   {
    "duration": 12,
    "start_time": "2023-04-18T02:21:53.900Z"
   },
   {
    "duration": 2301,
    "start_time": "2023-04-18T09:28:33.046Z"
   },
   {
    "duration": 3225,
    "start_time": "2023-04-18T09:28:35.349Z"
   },
   {
    "duration": 19,
    "start_time": "2023-04-18T09:28:38.576Z"
   },
   {
    "duration": 142,
    "start_time": "2023-04-18T09:28:38.596Z"
   },
   {
    "duration": 3,
    "start_time": "2023-04-18T09:28:38.740Z"
   },
   {
    "duration": 162,
    "start_time": "2023-04-18T09:28:38.745Z"
   },
   {
    "duration": 441,
    "start_time": "2023-04-18T09:28:38.909Z"
   },
   {
    "duration": 477,
    "start_time": "2023-04-18T09:28:39.352Z"
   },
   {
    "duration": 4,
    "start_time": "2023-04-18T09:28:39.831Z"
   },
   {
    "duration": 513,
    "start_time": "2023-04-18T09:28:39.837Z"
   },
   {
    "duration": 4,
    "start_time": "2023-04-18T09:28:40.351Z"
   },
   {
    "duration": 481,
    "start_time": "2023-04-18T09:28:40.363Z"
   },
   {
    "duration": 145,
    "start_time": "2023-04-18T09:28:40.846Z"
   },
   {
    "duration": 20,
    "start_time": "2023-04-18T09:28:40.993Z"
   },
   {
    "duration": 59,
    "start_time": "2023-04-18T09:28:41.014Z"
   },
   {
    "duration": 105,
    "start_time": "2023-04-18T09:28:41.075Z"
   },
   {
    "duration": 86,
    "start_time": "2023-04-18T09:28:41.184Z"
   },
   {
    "duration": 30,
    "start_time": "2023-04-18T09:28:41.271Z"
   },
   {
    "duration": 7,
    "start_time": "2023-04-18T09:28:41.303Z"
   },
   {
    "duration": 8,
    "start_time": "2023-04-18T09:28:41.311Z"
   },
   {
    "duration": 4,
    "start_time": "2023-04-18T09:28:41.320Z"
   },
   {
    "duration": 40,
    "start_time": "2023-04-18T09:28:41.325Z"
   },
   {
    "duration": 4,
    "start_time": "2023-04-18T09:28:41.367Z"
   },
   {
    "duration": 54,
    "start_time": "2023-04-18T09:28:41.374Z"
   },
   {
    "duration": 68,
    "start_time": "2023-04-18T09:28:41.430Z"
   },
   {
    "duration": 4,
    "start_time": "2023-04-18T09:28:41.499Z"
   },
   {
    "duration": 105,
    "start_time": "2023-04-18T09:28:41.504Z"
   },
   {
    "duration": 7,
    "start_time": "2023-04-18T09:28:41.612Z"
   },
   {
    "duration": 19,
    "start_time": "2023-04-18T09:28:41.620Z"
   },
   {
    "duration": 97,
    "start_time": "2023-04-18T09:28:41.641Z"
   },
   {
    "duration": 26,
    "start_time": "2023-04-18T09:28:41.740Z"
   },
   {
    "duration": 48,
    "start_time": "2023-04-18T09:28:41.768Z"
   },
   {
    "duration": 20,
    "start_time": "2023-04-18T09:28:41.817Z"
   },
   {
    "duration": 51,
    "start_time": "2023-04-18T09:28:41.839Z"
   },
   {
    "duration": 107,
    "start_time": "2023-04-18T09:28:41.892Z"
   },
   {
    "duration": 9,
    "start_time": "2023-04-18T09:28:42.001Z"
   },
   {
    "duration": 12,
    "start_time": "2023-04-18T09:28:42.011Z"
   },
   {
    "duration": 21,
    "start_time": "2023-04-18T09:28:42.024Z"
   },
   {
    "duration": 7,
    "start_time": "2023-04-18T09:28:42.047Z"
   },
   {
    "duration": 28002,
    "start_time": "2023-04-18T09:28:42.056Z"
   },
   {
    "duration": 19,
    "start_time": "2023-04-18T09:30:19.622Z"
   },
   {
    "duration": 89,
    "start_time": "2023-04-18T09:38:47.208Z"
   },
   {
    "duration": 8,
    "start_time": "2023-04-18T09:39:02.391Z"
   },
   {
    "duration": 109,
    "start_time": "2023-04-18T09:39:10.909Z"
   },
   {
    "duration": 16,
    "start_time": "2023-04-18T09:39:11.627Z"
   },
   {
    "duration": 92,
    "start_time": "2023-04-18T09:39:29.242Z"
   },
   {
    "duration": 19,
    "start_time": "2023-04-18T09:39:30.273Z"
   },
   {
    "duration": 154,
    "start_time": "2023-04-18T09:40:55.326Z"
   },
   {
    "duration": 18,
    "start_time": "2023-04-18T09:41:00.627Z"
   },
   {
    "duration": 90,
    "start_time": "2023-04-18T09:41:26.825Z"
   },
   {
    "duration": 9,
    "start_time": "2023-04-18T09:41:36.952Z"
   },
   {
    "duration": 10,
    "start_time": "2023-04-18T09:41:58.427Z"
   },
   {
    "duration": 7,
    "start_time": "2023-04-18T09:42:02.933Z"
   },
   {
    "duration": 102,
    "start_time": "2023-04-18T09:42:49.519Z"
   },
   {
    "duration": 114,
    "start_time": "2023-04-18T09:42:57.075Z"
   },
   {
    "duration": 2086,
    "start_time": "2023-04-18T10:27:12.416Z"
   },
   {
    "duration": 1279,
    "start_time": "2023-04-18T10:27:14.504Z"
   },
   {
    "duration": 18,
    "start_time": "2023-04-18T10:27:15.784Z"
   },
   {
    "duration": 176,
    "start_time": "2023-04-18T10:27:15.804Z"
   },
   {
    "duration": 4,
    "start_time": "2023-04-18T10:27:15.982Z"
   },
   {
    "duration": 237,
    "start_time": "2023-04-18T10:27:15.987Z"
   },
   {
    "duration": 571,
    "start_time": "2023-04-18T10:27:16.227Z"
   },
   {
    "duration": 596,
    "start_time": "2023-04-18T10:27:16.800Z"
   },
   {
    "duration": 5,
    "start_time": "2023-04-18T10:27:17.398Z"
   },
   {
    "duration": 641,
    "start_time": "2023-04-18T10:27:17.422Z"
   },
   {
    "duration": 3,
    "start_time": "2023-04-18T10:27:18.065Z"
   },
   {
    "duration": 587,
    "start_time": "2023-04-18T10:27:18.070Z"
   },
   {
    "duration": 164,
    "start_time": "2023-04-18T10:27:18.660Z"
   },
   {
    "duration": 50,
    "start_time": "2023-04-18T10:27:18.827Z"
   },
   {
    "duration": 48,
    "start_time": "2023-04-18T10:27:18.879Z"
   },
   {
    "duration": 114,
    "start_time": "2023-04-18T10:27:18.933Z"
   },
   {
    "duration": 104,
    "start_time": "2023-04-18T10:27:19.050Z"
   },
   {
    "duration": 27,
    "start_time": "2023-04-18T10:27:19.156Z"
   },
   {
    "duration": 7,
    "start_time": "2023-04-18T10:27:19.185Z"
   },
   {
    "duration": 37,
    "start_time": "2023-04-18T10:27:19.194Z"
   },
   {
    "duration": 33,
    "start_time": "2023-04-18T10:27:19.233Z"
   },
   {
    "duration": 20,
    "start_time": "2023-04-18T10:27:19.268Z"
   },
   {
    "duration": 47,
    "start_time": "2023-04-18T10:27:19.290Z"
   },
   {
    "duration": 69,
    "start_time": "2023-04-18T10:27:19.339Z"
   },
   {
    "duration": 57,
    "start_time": "2023-04-18T10:27:19.410Z"
   },
   {
    "duration": 4,
    "start_time": "2023-04-18T10:27:19.468Z"
   },
   {
    "duration": 128,
    "start_time": "2023-04-18T10:27:19.474Z"
   },
   {
    "duration": 14,
    "start_time": "2023-04-18T10:27:19.606Z"
   },
   {
    "duration": 33,
    "start_time": "2023-04-18T10:27:19.627Z"
   },
   {
    "duration": 93,
    "start_time": "2023-04-18T10:27:19.662Z"
   },
   {
    "duration": 23,
    "start_time": "2023-04-18T10:27:19.757Z"
   },
   {
    "duration": 72,
    "start_time": "2023-04-18T10:27:19.782Z"
   },
   {
    "duration": 22,
    "start_time": "2023-04-18T10:27:19.856Z"
   },
   {
    "duration": 45,
    "start_time": "2023-04-18T10:27:19.880Z"
   },
   {
    "duration": 135,
    "start_time": "2023-04-18T10:27:19.928Z"
   },
   {
    "duration": 117,
    "start_time": "2023-04-18T10:27:25.568Z"
   },
   {
    "duration": 14,
    "start_time": "2023-04-18T10:27:31.554Z"
   },
   {
    "duration": 137,
    "start_time": "2023-04-18T10:27:41.351Z"
   },
   {
    "duration": 17,
    "start_time": "2023-04-18T10:28:01.139Z"
   },
   {
    "duration": 10,
    "start_time": "2023-04-18T10:28:46.160Z"
   },
   {
    "duration": 13,
    "start_time": "2023-04-18T10:28:51.463Z"
   },
   {
    "duration": 4,
    "start_time": "2023-04-18T10:33:41.843Z"
   },
   {
    "duration": 1042,
    "start_time": "2023-04-18T10:33:41.849Z"
   },
   {
    "duration": 46,
    "start_time": "2023-04-18T10:33:42.894Z"
   },
   {
    "duration": 223,
    "start_time": "2023-04-18T10:33:42.949Z"
   },
   {
    "duration": 108,
    "start_time": "2023-04-18T10:33:43.175Z"
   },
   {
    "duration": 208,
    "start_time": "2023-04-18T10:33:43.285Z"
   },
   {
    "duration": 494,
    "start_time": "2023-04-18T10:33:43.494Z"
   },
   {
    "duration": 499,
    "start_time": "2023-04-18T10:33:43.990Z"
   },
   {
    "duration": 4,
    "start_time": "2023-04-18T10:33:44.491Z"
   },
   {
    "duration": 582,
    "start_time": "2023-04-18T10:33:44.497Z"
   },
   {
    "duration": 4,
    "start_time": "2023-04-18T10:33:45.082Z"
   },
   {
    "duration": 512,
    "start_time": "2023-04-18T10:33:45.087Z"
   },
   {
    "duration": 179,
    "start_time": "2023-04-18T10:33:45.601Z"
   },
   {
    "duration": 20,
    "start_time": "2023-04-18T10:33:45.782Z"
   },
   {
    "duration": 54,
    "start_time": "2023-04-18T10:33:45.804Z"
   },
   {
    "duration": 124,
    "start_time": "2023-04-18T10:33:45.861Z"
   },
   {
    "duration": 102,
    "start_time": "2023-04-18T10:33:45.987Z"
   },
   {
    "duration": 18,
    "start_time": "2023-04-18T10:33:46.091Z"
   },
   {
    "duration": 40,
    "start_time": "2023-04-18T10:33:46.112Z"
   },
   {
    "duration": 19,
    "start_time": "2023-04-18T10:33:46.154Z"
   },
   {
    "duration": 8,
    "start_time": "2023-04-18T10:33:46.175Z"
   },
   {
    "duration": 13,
    "start_time": "2023-04-18T10:33:46.184Z"
   },
   {
    "duration": 13,
    "start_time": "2023-04-18T10:33:46.199Z"
   },
   {
    "duration": 81,
    "start_time": "2023-04-18T10:33:46.214Z"
   },
   {
    "duration": 50,
    "start_time": "2023-04-18T10:33:46.297Z"
   },
   {
    "duration": 45,
    "start_time": "2023-04-18T10:33:46.350Z"
   },
   {
    "duration": 185,
    "start_time": "2023-04-18T10:33:46.397Z"
   },
   {
    "duration": 7,
    "start_time": "2023-04-18T10:33:46.584Z"
   },
   {
    "duration": 6,
    "start_time": "2023-04-18T10:33:46.596Z"
   },
   {
    "duration": 107,
    "start_time": "2023-04-18T10:33:46.604Z"
   },
   {
    "duration": 42,
    "start_time": "2023-04-18T10:33:46.713Z"
   },
   {
    "duration": 44,
    "start_time": "2023-04-18T10:33:46.761Z"
   },
   {
    "duration": 49,
    "start_time": "2023-04-18T10:33:46.807Z"
   },
   {
    "duration": 37,
    "start_time": "2023-04-18T10:33:46.858Z"
   },
   {
    "duration": 141,
    "start_time": "2023-04-18T10:33:46.897Z"
   },
   {
    "duration": 20,
    "start_time": "2023-04-18T10:33:47.055Z"
   },
   {
    "duration": 15,
    "start_time": "2023-04-18T10:33:47.077Z"
   },
   {
    "duration": 13,
    "start_time": "2023-04-18T10:33:47.094Z"
   },
   {
    "duration": 6,
    "start_time": "2023-04-18T10:33:47.109Z"
   },
   {
    "duration": 44,
    "start_time": "2023-04-18T10:33:47.116Z"
   },
   {
    "duration": 1218,
    "start_time": "2023-04-18T10:33:47.162Z"
   },
   {
    "duration": 11,
    "start_time": "2023-04-18T10:33:48.382Z"
   },
   {
    "duration": 16,
    "start_time": "2023-04-18T10:33:48.394Z"
   },
   {
    "duration": 196,
    "start_time": "2023-04-18T10:33:48.412Z"
   },
   {
    "duration": 39,
    "start_time": "2023-04-18T10:33:48.610Z"
   },
   {
    "duration": 98,
    "start_time": "2023-04-18T10:33:48.656Z"
   },
   {
    "duration": 7,
    "start_time": "2023-04-18T10:33:48.759Z"
   },
   {
    "duration": 14,
    "start_time": "2023-04-18T10:33:48.767Z"
   },
   {
    "duration": 1304,
    "start_time": "2023-04-18T10:33:48.784Z"
   },
   {
    "duration": 155,
    "start_time": "2023-04-18T10:33:50.090Z"
   },
   {
    "duration": 105,
    "start_time": "2023-04-18T10:33:50.246Z"
   },
   {
    "duration": 4,
    "start_time": "2023-04-18T10:33:50.353Z"
   },
   {
    "duration": 12,
    "start_time": "2023-04-18T10:33:50.358Z"
   },
   {
    "duration": 41,
    "start_time": "2023-04-18T10:33:50.372Z"
   },
   {
    "duration": 46,
    "start_time": "2023-04-18T10:33:50.415Z"
   },
   {
    "duration": 121,
    "start_time": "2023-04-18T10:33:50.463Z"
   },
   {
    "duration": 8,
    "start_time": "2023-04-18T10:33:50.586Z"
   },
   {
    "duration": 27,
    "start_time": "2023-04-18T10:33:50.595Z"
   },
   {
    "duration": 11,
    "start_time": "2023-04-18T10:33:50.636Z"
   },
   {
    "duration": 5,
    "start_time": "2023-04-18T10:33:50.648Z"
   },
   {
    "duration": 1053,
    "start_time": "2023-04-18T10:33:50.655Z"
   },
   {
    "duration": 163,
    "start_time": "2023-04-18T10:33:51.709Z"
   },
   {
    "duration": 22,
    "start_time": "2023-04-18T10:33:51.874Z"
   },
   {
    "duration": 103,
    "start_time": "2023-04-18T10:33:51.898Z"
   },
   {
    "duration": 7,
    "start_time": "2023-04-18T10:33:52.003Z"
   },
   {
    "duration": 1063,
    "start_time": "2023-04-18T10:33:52.012Z"
   },
   {
    "duration": 0,
    "start_time": "2023-04-18T10:33:53.077Z"
   },
   {
    "duration": 0,
    "start_time": "2023-04-18T10:33:53.079Z"
   },
   {
    "duration": 0,
    "start_time": "2023-04-18T10:33:53.080Z"
   },
   {
    "duration": 0,
    "start_time": "2023-04-18T10:33:53.081Z"
   },
   {
    "duration": 0,
    "start_time": "2023-04-18T10:33:53.082Z"
   },
   {
    "duration": 0,
    "start_time": "2023-04-18T10:33:53.082Z"
   },
   {
    "duration": 1,
    "start_time": "2023-04-18T10:33:53.083Z"
   },
   {
    "duration": 0,
    "start_time": "2023-04-18T10:33:53.085Z"
   },
   {
    "duration": 0,
    "start_time": "2023-04-18T10:33:53.085Z"
   },
   {
    "duration": 0,
    "start_time": "2023-04-18T10:33:53.086Z"
   },
   {
    "duration": 0,
    "start_time": "2023-04-18T10:33:53.087Z"
   },
   {
    "duration": 0,
    "start_time": "2023-04-18T10:33:53.088Z"
   },
   {
    "duration": 0,
    "start_time": "2023-04-18T10:33:53.089Z"
   },
   {
    "duration": 0,
    "start_time": "2023-04-18T10:33:53.090Z"
   },
   {
    "duration": 0,
    "start_time": "2023-04-18T10:33:53.091Z"
   },
   {
    "duration": 0,
    "start_time": "2023-04-18T10:33:53.092Z"
   },
   {
    "duration": 0,
    "start_time": "2023-04-18T10:33:53.093Z"
   },
   {
    "duration": 0,
    "start_time": "2023-04-18T10:33:53.094Z"
   },
   {
    "duration": 0,
    "start_time": "2023-04-18T10:33:53.095Z"
   },
   {
    "duration": 0,
    "start_time": "2023-04-18T10:33:53.096Z"
   },
   {
    "duration": 0,
    "start_time": "2023-04-18T10:33:53.097Z"
   },
   {
    "duration": 0,
    "start_time": "2023-04-18T10:33:53.099Z"
   },
   {
    "duration": 0,
    "start_time": "2023-04-18T10:33:53.100Z"
   },
   {
    "duration": 0,
    "start_time": "2023-04-18T10:33:53.100Z"
   },
   {
    "duration": 0,
    "start_time": "2023-04-18T10:33:53.101Z"
   },
   {
    "duration": 0,
    "start_time": "2023-04-18T10:33:53.102Z"
   },
   {
    "duration": 0,
    "start_time": "2023-04-18T10:33:53.103Z"
   },
   {
    "duration": 0,
    "start_time": "2023-04-18T10:33:53.105Z"
   },
   {
    "duration": 0,
    "start_time": "2023-04-18T10:33:53.106Z"
   },
   {
    "duration": 0,
    "start_time": "2023-04-18T10:33:53.107Z"
   },
   {
    "duration": 0,
    "start_time": "2023-04-18T10:33:53.108Z"
   },
   {
    "duration": 0,
    "start_time": "2023-04-18T10:33:53.108Z"
   },
   {
    "duration": 0,
    "start_time": "2023-04-18T10:33:53.109Z"
   },
   {
    "duration": 0,
    "start_time": "2023-04-18T10:33:53.111Z"
   },
   {
    "duration": 0,
    "start_time": "2023-04-18T10:33:53.111Z"
   },
   {
    "duration": 0,
    "start_time": "2023-04-18T10:33:53.113Z"
   },
   {
    "duration": 0,
    "start_time": "2023-04-18T10:33:53.120Z"
   },
   {
    "duration": 0,
    "start_time": "2023-04-18T10:33:53.121Z"
   },
   {
    "duration": 0,
    "start_time": "2023-04-18T10:33:53.121Z"
   },
   {
    "duration": 0,
    "start_time": "2023-04-18T10:33:53.122Z"
   },
   {
    "duration": 0,
    "start_time": "2023-04-18T10:33:53.126Z"
   },
   {
    "duration": 0,
    "start_time": "2023-04-18T10:33:53.129Z"
   },
   {
    "duration": 0,
    "start_time": "2023-04-18T10:33:53.134Z"
   },
   {
    "duration": 0,
    "start_time": "2023-04-18T10:33:53.136Z"
   },
   {
    "duration": 0,
    "start_time": "2023-04-18T10:33:53.137Z"
   },
   {
    "duration": 0,
    "start_time": "2023-04-18T10:33:53.138Z"
   },
   {
    "duration": 0,
    "start_time": "2023-04-18T10:33:53.139Z"
   },
   {
    "duration": 0,
    "start_time": "2023-04-18T10:33:53.141Z"
   },
   {
    "duration": 0,
    "start_time": "2023-04-18T10:33:53.142Z"
   },
   {
    "duration": 0,
    "start_time": "2023-04-18T10:33:53.143Z"
   },
   {
    "duration": 13,
    "start_time": "2023-04-18T10:34:36.054Z"
   },
   {
    "duration": 5,
    "start_time": "2023-04-18T10:34:39.040Z"
   },
   {
    "duration": 3,
    "start_time": "2023-04-18T10:34:39.480Z"
   },
   {
    "duration": 6,
    "start_time": "2023-04-18T10:37:52.544Z"
   },
   {
    "duration": 4,
    "start_time": "2023-04-18T10:37:53.112Z"
   },
   {
    "duration": 1065,
    "start_time": "2023-04-18T10:37:56.946Z"
   },
   {
    "duration": 6,
    "start_time": "2023-04-18T10:39:21.441Z"
   },
   {
    "duration": 15,
    "start_time": "2023-04-18T10:39:34.741Z"
   },
   {
    "duration": 6,
    "start_time": "2023-04-18T10:42:29.016Z"
   },
   {
    "duration": 939,
    "start_time": "2023-04-18T10:42:29.025Z"
   },
   {
    "duration": 12,
    "start_time": "2023-04-18T10:42:29.966Z"
   },
   {
    "duration": 176,
    "start_time": "2023-04-18T10:42:29.980Z"
   },
   {
    "duration": 26,
    "start_time": "2023-04-18T10:42:30.159Z"
   },
   {
    "duration": 190,
    "start_time": "2023-04-18T10:42:30.187Z"
   },
   {
    "duration": 578,
    "start_time": "2023-04-18T10:42:30.379Z"
   },
   {
    "duration": 493,
    "start_time": "2023-04-18T10:42:30.959Z"
   },
   {
    "duration": 4,
    "start_time": "2023-04-18T10:42:31.454Z"
   },
   {
    "duration": 585,
    "start_time": "2023-04-18T10:42:31.460Z"
   },
   {
    "duration": 4,
    "start_time": "2023-04-18T10:42:32.049Z"
   },
   {
    "duration": 531,
    "start_time": "2023-04-18T10:42:32.054Z"
   },
   {
    "duration": 180,
    "start_time": "2023-04-18T10:42:32.588Z"
   },
   {
    "duration": 60,
    "start_time": "2023-04-18T10:42:32.770Z"
   },
   {
    "duration": 42,
    "start_time": "2023-04-18T10:42:32.834Z"
   },
   {
    "duration": 129,
    "start_time": "2023-04-18T10:42:32.878Z"
   },
   {
    "duration": 88,
    "start_time": "2023-04-18T10:42:33.009Z"
   },
   {
    "duration": 40,
    "start_time": "2023-04-18T10:42:33.099Z"
   },
   {
    "duration": 7,
    "start_time": "2023-04-18T10:42:33.142Z"
   },
   {
    "duration": 9,
    "start_time": "2023-04-18T10:42:33.150Z"
   },
   {
    "duration": 14,
    "start_time": "2023-04-18T10:42:33.161Z"
   },
   {
    "duration": 10,
    "start_time": "2023-04-18T10:42:33.177Z"
   },
   {
    "duration": 9,
    "start_time": "2023-04-18T10:42:33.189Z"
   },
   {
    "duration": 58,
    "start_time": "2023-04-18T10:42:33.200Z"
   },
   {
    "duration": 43,
    "start_time": "2023-04-18T10:42:33.261Z"
   },
   {
    "duration": 4,
    "start_time": "2023-04-18T10:42:33.306Z"
   },
   {
    "duration": 122,
    "start_time": "2023-04-18T10:42:33.320Z"
   },
   {
    "duration": 7,
    "start_time": "2023-04-18T10:42:33.447Z"
   },
   {
    "duration": 13,
    "start_time": "2023-04-18T10:42:33.457Z"
   },
   {
    "duration": 90,
    "start_time": "2023-04-18T10:42:33.471Z"
   },
   {
    "duration": 22,
    "start_time": "2023-04-18T10:42:33.563Z"
   },
   {
    "duration": 61,
    "start_time": "2023-04-18T10:42:33.587Z"
   },
   {
    "duration": 23,
    "start_time": "2023-04-18T10:42:33.650Z"
   },
   {
    "duration": 31,
    "start_time": "2023-04-18T10:42:33.674Z"
   },
   {
    "duration": 138,
    "start_time": "2023-04-18T10:42:33.707Z"
   },
   {
    "duration": 14,
    "start_time": "2023-04-18T10:42:33.847Z"
   },
   {
    "duration": 8,
    "start_time": "2023-04-18T10:42:33.862Z"
   },
   {
    "duration": 9,
    "start_time": "2023-04-18T10:42:37.920Z"
   },
   {
    "duration": 14,
    "start_time": "2023-04-18T10:42:40.937Z"
   },
   {
    "duration": 4,
    "start_time": "2023-04-18T10:42:45.179Z"
   },
   {
    "duration": 16,
    "start_time": "2023-04-18T10:42:45.826Z"
   },
   {
    "duration": 35145,
    "start_time": "2023-04-18T10:42:50.144Z"
   },
   {
    "duration": 25,
    "start_time": "2023-04-18T10:43:27.012Z"
   },
   {
    "duration": 24,
    "start_time": "2023-04-18T10:43:48.211Z"
   },
   {
    "duration": 6,
    "start_time": "2023-04-18T10:45:57.527Z"
   },
   {
    "duration": 926,
    "start_time": "2023-04-18T10:45:57.535Z"
   },
   {
    "duration": 12,
    "start_time": "2023-04-18T10:45:58.463Z"
   },
   {
    "duration": 181,
    "start_time": "2023-04-18T10:45:58.477Z"
   },
   {
    "duration": 5,
    "start_time": "2023-04-18T10:45:58.660Z"
   },
   {
    "duration": 175,
    "start_time": "2023-04-18T10:45:58.667Z"
   },
   {
    "duration": 520,
    "start_time": "2023-04-18T10:45:58.845Z"
   },
   {
    "duration": 465,
    "start_time": "2023-04-18T10:45:59.366Z"
   },
   {
    "duration": 8,
    "start_time": "2023-04-18T10:45:59.840Z"
   },
   {
    "duration": 510,
    "start_time": "2023-04-18T10:45:59.849Z"
   },
   {
    "duration": 4,
    "start_time": "2023-04-18T10:46:00.360Z"
   },
   {
    "duration": 538,
    "start_time": "2023-04-18T10:46:00.365Z"
   },
   {
    "duration": 162,
    "start_time": "2023-04-18T10:46:00.905Z"
   },
   {
    "duration": 71,
    "start_time": "2023-04-18T10:46:01.069Z"
   },
   {
    "duration": 56,
    "start_time": "2023-04-18T10:46:01.146Z"
   },
   {
    "duration": 167,
    "start_time": "2023-04-18T10:46:01.204Z"
   },
   {
    "duration": 141,
    "start_time": "2023-04-18T10:46:01.372Z"
   },
   {
    "duration": 43,
    "start_time": "2023-04-18T10:46:01.514Z"
   },
   {
    "duration": 33,
    "start_time": "2023-04-18T10:46:01.559Z"
   },
   {
    "duration": 56,
    "start_time": "2023-04-18T10:46:01.593Z"
   },
   {
    "duration": 49,
    "start_time": "2023-04-18T10:46:01.651Z"
   },
   {
    "duration": 107,
    "start_time": "2023-04-18T10:46:01.702Z"
   },
   {
    "duration": 69,
    "start_time": "2023-04-18T10:46:01.811Z"
   },
   {
    "duration": 168,
    "start_time": "2023-04-18T10:46:01.885Z"
   },
   {
    "duration": 46,
    "start_time": "2023-04-18T10:46:02.056Z"
   },
   {
    "duration": 5,
    "start_time": "2023-04-18T10:46:02.104Z"
   },
   {
    "duration": 150,
    "start_time": "2023-04-18T10:46:02.118Z"
   },
   {
    "duration": 18,
    "start_time": "2023-04-18T10:46:02.270Z"
   },
   {
    "duration": 24,
    "start_time": "2023-04-18T10:46:02.290Z"
   },
   {
    "duration": 129,
    "start_time": "2023-04-18T10:46:02.316Z"
   },
   {
    "duration": 24,
    "start_time": "2023-04-18T10:46:02.449Z"
   },
   {
    "duration": 63,
    "start_time": "2023-04-18T10:46:02.475Z"
   },
   {
    "duration": 27,
    "start_time": "2023-04-18T10:46:02.544Z"
   },
   {
    "duration": 49,
    "start_time": "2023-04-18T10:46:02.573Z"
   },
   {
    "duration": 151,
    "start_time": "2023-04-18T10:46:02.628Z"
   },
   {
    "duration": 20,
    "start_time": "2023-04-18T10:46:02.781Z"
   },
   {
    "duration": 51,
    "start_time": "2023-04-18T10:46:02.803Z"
   },
   {
    "duration": 16,
    "start_time": "2023-04-18T10:46:02.856Z"
   },
   {
    "duration": 42,
    "start_time": "2023-04-18T10:46:02.873Z"
   },
   {
    "duration": 38,
    "start_time": "2023-04-18T10:46:02.919Z"
   },
   {
    "duration": 27,
    "start_time": "2023-04-18T10:46:02.959Z"
   },
   {
    "duration": 34150,
    "start_time": "2023-04-18T10:46:02.987Z"
   },
   {
    "duration": 13,
    "start_time": "2023-04-18T10:46:37.146Z"
   },
   {
    "duration": 37,
    "start_time": "2023-04-18T10:46:37.160Z"
   },
   {
    "duration": 183,
    "start_time": "2023-04-18T10:46:37.199Z"
   },
   {
    "duration": 41,
    "start_time": "2023-04-18T10:46:37.384Z"
   },
   {
    "duration": 76,
    "start_time": "2023-04-18T10:46:37.427Z"
   },
   {
    "duration": 15,
    "start_time": "2023-04-18T10:46:37.505Z"
   },
   {
    "duration": 22,
    "start_time": "2023-04-18T10:46:37.526Z"
   },
   {
    "duration": 22,
    "start_time": "2023-04-18T10:46:37.551Z"
   },
   {
    "duration": 3722,
    "start_time": "2023-04-18T10:46:37.575Z"
   },
   {
    "duration": 171,
    "start_time": "2023-04-18T10:46:41.299Z"
   },
   {
    "duration": 111,
    "start_time": "2023-04-18T10:46:41.472Z"
   },
   {
    "duration": 3,
    "start_time": "2023-04-18T10:46:41.585Z"
   },
   {
    "duration": 8,
    "start_time": "2023-04-18T10:46:41.590Z"
   },
   {
    "duration": 55,
    "start_time": "2023-04-18T10:46:41.599Z"
   },
   {
    "duration": 35,
    "start_time": "2023-04-18T10:46:41.656Z"
   },
   {
    "duration": 119,
    "start_time": "2023-04-18T10:46:41.693Z"
   },
   {
    "duration": 19,
    "start_time": "2023-04-18T10:46:41.814Z"
   },
   {
    "duration": 35,
    "start_time": "2023-04-18T10:46:41.835Z"
   },
   {
    "duration": 246,
    "start_time": "2023-04-18T10:46:41.873Z"
   },
   {
    "duration": 4,
    "start_time": "2023-04-18T10:47:17.950Z"
   },
   {
    "duration": 3,
    "start_time": "2023-04-18T10:47:18.444Z"
   },
   {
    "duration": 35332,
    "start_time": "2023-04-18T10:47:19.044Z"
   },
   {
    "duration": 156,
    "start_time": "2023-04-18T10:47:58.041Z"
   },
   {
    "duration": 22,
    "start_time": "2023-04-18T10:48:06.343Z"
   },
   {
    "duration": 89,
    "start_time": "2023-04-18T10:48:06.712Z"
   },
   {
    "duration": 7,
    "start_time": "2023-04-18T10:48:07.108Z"
   },
   {
    "duration": 4,
    "start_time": "2023-04-18T10:48:07.998Z"
   },
   {
    "duration": 4000,
    "start_time": "2023-04-18T10:48:09.541Z"
   },
   {
    "duration": 153,
    "start_time": "2023-04-18T10:48:16.646Z"
   },
   {
    "duration": 114,
    "start_time": "2023-04-18T10:48:18.441Z"
   },
   {
    "duration": 70,
    "start_time": "2023-04-18T10:48:22.939Z"
   },
   {
    "duration": 14,
    "start_time": "2023-04-18T10:48:23.412Z"
   },
   {
    "duration": 41,
    "start_time": "2023-04-18T10:49:11.218Z"
   },
   {
    "duration": 24,
    "start_time": "2023-04-18T10:49:11.643Z"
   },
   {
    "duration": 114,
    "start_time": "2023-04-18T10:49:12.016Z"
   },
   {
    "duration": 7,
    "start_time": "2023-04-18T10:49:13.060Z"
   },
   {
    "duration": 8,
    "start_time": "2023-04-18T10:49:15.114Z"
   },
   {
    "duration": 3,
    "start_time": "2023-04-18T10:49:15.772Z"
   },
   {
    "duration": 3938,
    "start_time": "2023-04-18T10:49:16.716Z"
   },
   {
    "duration": 151,
    "start_time": "2023-04-18T10:49:23.550Z"
   },
   {
    "duration": 118,
    "start_time": "2023-04-18T10:49:24.108Z"
   },
   {
    "duration": 28,
    "start_time": "2023-04-18T10:49:51.845Z"
   },
   {
    "duration": 111,
    "start_time": "2023-04-18T10:49:52.266Z"
   },
   {
    "duration": 11,
    "start_time": "2023-04-18T10:49:52.680Z"
   },
   {
    "duration": 5,
    "start_time": "2023-04-18T10:49:53.077Z"
   },
   {
    "duration": 31,
    "start_time": "2023-04-18T10:49:53.507Z"
   },
   {
    "duration": 11,
    "start_time": "2023-04-18T10:49:56.219Z"
   },
   {
    "duration": 23336,
    "start_time": "2023-04-18T10:49:56.744Z"
   },
   {
    "duration": 151,
    "start_time": "2023-04-18T10:50:22.227Z"
   },
   {
    "duration": 113,
    "start_time": "2023-04-18T10:50:22.756Z"
   },
   {
    "duration": 137,
    "start_time": "2023-04-18T10:50:33.132Z"
   },
   {
    "duration": 120,
    "start_time": "2023-04-18T10:50:35.140Z"
   },
   {
    "duration": 18,
    "start_time": "2023-04-18T10:50:35.582Z"
   },
   {
    "duration": 25,
    "start_time": "2023-04-18T10:50:36.044Z"
   },
   {
    "duration": 114,
    "start_time": "2023-04-18T10:50:36.879Z"
   },
   {
    "duration": 7,
    "start_time": "2023-04-18T10:50:37.243Z"
   },
   {
    "duration": 35,
    "start_time": "2023-04-18T10:50:37.514Z"
   },
   {
    "duration": 87,
    "start_time": "2023-04-18T10:50:38.116Z"
   },
   {
    "duration": 20,
    "start_time": "2023-04-18T10:50:38.414Z"
   },
   {
    "duration": 28,
    "start_time": "2023-04-18T10:50:38.644Z"
   },
   {
    "duration": 116,
    "start_time": "2023-04-18T10:50:38.929Z"
   },
   {
    "duration": 16,
    "start_time": "2023-04-18T10:50:41.728Z"
   },
   {
    "duration": 4,
    "start_time": "2023-04-18T10:50:46.512Z"
   },
   {
    "duration": 151,
    "start_time": "2023-04-18T10:50:47.436Z"
   },
   {
    "duration": 8,
    "start_time": "2023-04-18T10:50:48.219Z"
   },
   {
    "duration": 10,
    "start_time": "2023-04-18T10:50:55.679Z"
   },
   {
    "duration": 13,
    "start_time": "2023-04-18T10:50:56.057Z"
   },
   {
    "duration": 11,
    "start_time": "2023-04-18T10:50:56.445Z"
   },
   {
    "duration": 4,
    "start_time": "2023-04-18T10:50:56.865Z"
   },
   {
    "duration": 1755,
    "start_time": "2023-04-18T10:51:00.816Z"
   },
   {
    "duration": 5,
    "start_time": "2023-04-18T10:51:02.573Z"
   },
   {
    "duration": 4,
    "start_time": "2023-04-18T10:51:05.579Z"
   },
   {
    "duration": 503,
    "start_time": "2023-04-18T10:51:06.112Z"
   },
   {
    "duration": 59,
    "start_time": "2023-04-18T10:51:10.071Z"
   },
   {
    "duration": 18,
    "start_time": "2023-04-18T10:51:11.366Z"
   },
   {
    "duration": 112,
    "start_time": "2023-04-18T10:51:11.731Z"
   },
   {
    "duration": 23,
    "start_time": "2023-04-18T10:51:12.057Z"
   },
   {
    "duration": 102,
    "start_time": "2023-04-18T10:51:14.939Z"
   },
   {
    "duration": 7,
    "start_time": "2023-04-18T10:51:16.156Z"
   },
   {
    "duration": 21,
    "start_time": "2023-04-18T10:52:28.819Z"
   },
   {
    "duration": 32,
    "start_time": "2023-04-18T10:52:29.509Z"
   },
   {
    "duration": 961,
    "start_time": "2023-04-18T10:52:30.135Z"
   },
   {
    "duration": 449,
    "start_time": "2023-04-18T10:52:36.246Z"
   },
   {
    "duration": 136,
    "start_time": "2023-04-18T10:52:36.698Z"
   },
   {
    "duration": 8,
    "start_time": "2023-04-18T10:52:39.126Z"
   },
   {
    "duration": 5,
    "start_time": "2023-04-18T10:52:40.108Z"
   },
   {
    "duration": 14,
    "start_time": "2023-04-18T10:52:40.816Z"
   },
   {
    "duration": 1584,
    "start_time": "2023-04-18T12:08:02.874Z"
   },
   {
    "duration": 875,
    "start_time": "2023-04-18T12:08:04.460Z"
   },
   {
    "duration": 18,
    "start_time": "2023-04-18T12:08:05.337Z"
   },
   {
    "duration": 153,
    "start_time": "2023-04-18T12:08:05.357Z"
   },
   {
    "duration": 3,
    "start_time": "2023-04-18T12:08:05.517Z"
   },
   {
    "duration": 151,
    "start_time": "2023-04-18T12:08:05.522Z"
   },
   {
    "duration": 489,
    "start_time": "2023-04-18T12:08:05.675Z"
   },
   {
    "duration": 488,
    "start_time": "2023-04-18T12:08:06.166Z"
   },
   {
    "duration": 4,
    "start_time": "2023-04-18T12:08:06.656Z"
   },
   {
    "duration": 520,
    "start_time": "2023-04-18T12:08:06.662Z"
   },
   {
    "duration": 4,
    "start_time": "2023-04-18T12:08:07.183Z"
   },
   {
    "duration": 505,
    "start_time": "2023-04-18T12:08:07.189Z"
   },
   {
    "duration": 139,
    "start_time": "2023-04-18T12:08:07.696Z"
   },
   {
    "duration": 22,
    "start_time": "2023-04-18T12:08:07.837Z"
   },
   {
    "duration": 61,
    "start_time": "2023-04-18T12:08:07.862Z"
   },
   {
    "duration": 100,
    "start_time": "2023-04-18T12:08:07.924Z"
   },
   {
    "duration": 77,
    "start_time": "2023-04-18T12:08:08.026Z"
   },
   {
    "duration": 38,
    "start_time": "2023-04-18T12:08:08.105Z"
   },
   {
    "duration": 11,
    "start_time": "2023-04-18T12:08:08.145Z"
   },
   {
    "duration": 15,
    "start_time": "2023-04-18T12:08:08.157Z"
   },
   {
    "duration": 4,
    "start_time": "2023-04-18T12:08:08.174Z"
   },
   {
    "duration": 10,
    "start_time": "2023-04-18T12:08:08.179Z"
   },
   {
    "duration": 28,
    "start_time": "2023-04-18T12:08:08.191Z"
   },
   {
    "duration": 66,
    "start_time": "2023-04-18T12:08:08.221Z"
   },
   {
    "duration": 47,
    "start_time": "2023-04-18T12:08:08.289Z"
   },
   {
    "duration": 4,
    "start_time": "2023-04-18T12:08:08.338Z"
   },
   {
    "duration": 104,
    "start_time": "2023-04-18T12:08:08.344Z"
   },
   {
    "duration": 7,
    "start_time": "2023-04-18T12:08:08.452Z"
   },
   {
    "duration": 11,
    "start_time": "2023-04-18T12:08:08.461Z"
   },
   {
    "duration": 96,
    "start_time": "2023-04-18T12:08:08.474Z"
   },
   {
    "duration": 25,
    "start_time": "2023-04-18T12:08:08.572Z"
   },
   {
    "duration": 53,
    "start_time": "2023-04-18T12:08:08.598Z"
   },
   {
    "duration": 22,
    "start_time": "2023-04-18T12:08:08.653Z"
   },
   {
    "duration": 31,
    "start_time": "2023-04-18T12:08:08.676Z"
   },
   {
    "duration": 106,
    "start_time": "2023-04-18T12:08:08.709Z"
   },
   {
    "duration": 14,
    "start_time": "2023-04-18T12:08:08.817Z"
   },
   {
    "duration": 15,
    "start_time": "2023-04-18T12:08:08.833Z"
   },
   {
    "duration": 23,
    "start_time": "2023-04-18T12:08:08.850Z"
   },
   {
    "duration": 31,
    "start_time": "2023-04-18T12:08:08.875Z"
   },
   {
    "duration": 7,
    "start_time": "2023-04-18T12:08:08.908Z"
   },
   {
    "duration": 11,
    "start_time": "2023-04-18T12:08:08.917Z"
   },
   {
    "duration": 28325,
    "start_time": "2023-04-18T12:08:08.930Z"
   },
   {
    "duration": 11,
    "start_time": "2023-04-18T12:08:37.257Z"
   },
   {
    "duration": 30,
    "start_time": "2023-04-18T12:08:37.270Z"
   },
   {
    "duration": 174,
    "start_time": "2023-04-18T12:08:37.302Z"
   },
   {
    "duration": 28,
    "start_time": "2023-04-18T12:08:37.478Z"
   },
   {
    "duration": 70,
    "start_time": "2023-04-18T12:08:37.518Z"
   },
   {
    "duration": 7,
    "start_time": "2023-04-18T12:08:37.589Z"
   },
   {
    "duration": 39,
    "start_time": "2023-04-18T12:08:37.598Z"
   },
   {
    "duration": 51,
    "start_time": "2023-04-18T12:08:37.639Z"
   },
   {
    "duration": 3226,
    "start_time": "2023-04-18T12:08:37.692Z"
   },
   {
    "duration": 142,
    "start_time": "2023-04-18T12:08:40.920Z"
   },
   {
    "duration": 105,
    "start_time": "2023-04-18T12:08:41.064Z"
   },
   {
    "duration": 4,
    "start_time": "2023-04-18T12:08:41.171Z"
   },
   {
    "duration": 16,
    "start_time": "2023-04-18T12:08:41.177Z"
   },
   {
    "duration": 35,
    "start_time": "2023-04-18T12:08:41.194Z"
   },
   {
    "duration": 36,
    "start_time": "2023-04-18T12:08:41.230Z"
   },
   {
    "duration": 120,
    "start_time": "2023-04-18T12:08:41.267Z"
   },
   {
    "duration": 10,
    "start_time": "2023-04-18T12:08:41.389Z"
   },
   {
    "duration": 18,
    "start_time": "2023-04-18T12:08:41.401Z"
   },
   {
    "duration": 37,
    "start_time": "2023-04-18T12:08:41.421Z"
   },
   {
    "duration": 12,
    "start_time": "2023-04-18T12:08:41.460Z"
   },
   {
    "duration": 17,
    "start_time": "2023-04-18T12:08:41.473Z"
   },
   {
    "duration": 29426,
    "start_time": "2023-04-18T12:08:41.492Z"
   },
   {
    "duration": 156,
    "start_time": "2023-04-18T12:09:10.920Z"
   },
   {
    "duration": 23,
    "start_time": "2023-04-18T12:09:11.078Z"
   },
   {
    "duration": 80,
    "start_time": "2023-04-18T12:09:11.103Z"
   },
   {
    "duration": 7,
    "start_time": "2023-04-18T12:09:11.185Z"
   },
   {
    "duration": 22,
    "start_time": "2023-04-18T12:09:11.194Z"
   },
   {
    "duration": 3273,
    "start_time": "2023-04-18T12:09:11.218Z"
   },
   {
    "duration": 139,
    "start_time": "2023-04-18T12:09:14.493Z"
   },
   {
    "duration": 92,
    "start_time": "2023-04-18T12:09:14.634Z"
   },
   {
    "duration": 62,
    "start_time": "2023-04-18T12:09:14.728Z"
   },
   {
    "duration": 7,
    "start_time": "2023-04-18T12:09:14.792Z"
   },
   {
    "duration": 44,
    "start_time": "2023-04-18T12:09:14.802Z"
   },
   {
    "duration": 29,
    "start_time": "2023-04-18T12:09:14.848Z"
   },
   {
    "duration": 98,
    "start_time": "2023-04-18T12:09:14.878Z"
   },
   {
    "duration": 7,
    "start_time": "2023-04-18T12:09:14.978Z"
   },
   {
    "duration": 33,
    "start_time": "2023-04-18T12:09:14.987Z"
   },
   {
    "duration": 38,
    "start_time": "2023-04-18T12:09:15.022Z"
   },
   {
    "duration": 3077,
    "start_time": "2023-04-18T12:09:15.062Z"
   },
   {
    "duration": 137,
    "start_time": "2023-04-18T12:09:18.146Z"
   },
   {
    "duration": 90,
    "start_time": "2023-04-18T12:09:18.285Z"
   },
   {
    "duration": 21,
    "start_time": "2023-04-18T12:09:18.377Z"
   },
   {
    "duration": 109,
    "start_time": "2023-04-18T12:09:18.399Z"
   },
   {
    "duration": 10,
    "start_time": "2023-04-18T12:09:18.510Z"
   },
   {
    "duration": 4,
    "start_time": "2023-04-18T12:09:18.522Z"
   },
   {
    "duration": 20,
    "start_time": "2023-04-18T12:09:18.527Z"
   },
   {
    "duration": 17,
    "start_time": "2023-04-18T12:09:18.548Z"
   },
   {
    "duration": 19673,
    "start_time": "2023-04-18T12:09:18.567Z"
   },
   {
    "duration": 153,
    "start_time": "2023-04-18T12:09:38.242Z"
   },
   {
    "duration": 104,
    "start_time": "2023-04-18T12:09:38.397Z"
   },
   {
    "duration": 102,
    "start_time": "2023-04-18T12:09:38.503Z"
   },
   {
    "duration": 27,
    "start_time": "2023-04-18T12:09:38.607Z"
   },
   {
    "duration": 58,
    "start_time": "2023-04-18T12:09:38.636Z"
   },
   {
    "duration": 98,
    "start_time": "2023-04-18T12:09:38.696Z"
   },
   {
    "duration": 6,
    "start_time": "2023-04-18T12:09:38.796Z"
   },
   {
    "duration": 50,
    "start_time": "2023-04-18T12:09:38.804Z"
   },
   {
    "duration": 81,
    "start_time": "2023-04-18T12:09:38.856Z"
   },
   {
    "duration": 6,
    "start_time": "2023-04-18T12:09:38.939Z"
   },
   {
    "duration": 37,
    "start_time": "2023-04-18T12:09:38.947Z"
   },
   {
    "duration": 102,
    "start_time": "2023-04-18T12:09:38.986Z"
   },
   {
    "duration": 12,
    "start_time": "2023-04-18T12:09:39.090Z"
   },
   {
    "duration": 15,
    "start_time": "2023-04-18T12:09:39.104Z"
   },
   {
    "duration": 159,
    "start_time": "2023-04-18T12:09:39.120Z"
   },
   {
    "duration": 4,
    "start_time": "2023-04-18T12:09:39.281Z"
   },
   {
    "duration": 16,
    "start_time": "2023-04-18T12:09:39.286Z"
   },
   {
    "duration": 21,
    "start_time": "2023-04-18T12:09:39.303Z"
   },
   {
    "duration": 21,
    "start_time": "2023-04-18T12:09:39.326Z"
   },
   {
    "duration": 7,
    "start_time": "2023-04-18T12:09:39.349Z"
   },
   {
    "duration": 1497,
    "start_time": "2023-04-18T12:09:39.358Z"
   },
   {
    "duration": 4,
    "start_time": "2023-04-18T12:09:40.857Z"
   },
   {
    "duration": 9,
    "start_time": "2023-04-18T12:09:40.863Z"
   },
   {
    "duration": 437,
    "start_time": "2023-04-18T12:09:40.873Z"
   },
   {
    "duration": 54,
    "start_time": "2023-04-18T12:09:41.312Z"
   },
   {
    "duration": 18,
    "start_time": "2023-04-18T12:09:41.368Z"
   },
   {
    "duration": 106,
    "start_time": "2023-04-18T12:09:41.387Z"
   },
   {
    "duration": 31,
    "start_time": "2023-04-18T12:09:41.495Z"
   },
   {
    "duration": 99,
    "start_time": "2023-04-18T12:09:41.528Z"
   },
   {
    "duration": 7,
    "start_time": "2023-04-18T12:09:41.628Z"
   },
   {
    "duration": 20,
    "start_time": "2023-04-18T12:09:41.636Z"
   },
   {
    "duration": 21,
    "start_time": "2023-04-18T12:09:41.658Z"
   },
   {
    "duration": 837,
    "start_time": "2023-04-18T12:09:41.681Z"
   },
   {
    "duration": 397,
    "start_time": "2023-04-18T12:09:42.520Z"
   },
   {
    "duration": 121,
    "start_time": "2023-04-18T12:09:42.919Z"
   },
   {
    "duration": 4,
    "start_time": "2023-04-18T12:09:43.042Z"
   },
   {
    "duration": 8,
    "start_time": "2023-04-18T12:09:43.048Z"
   },
   {
    "duration": 16,
    "start_time": "2023-04-18T12:09:43.058Z"
   },
   {
    "duration": 118,
    "start_time": "2023-04-18T12:09:43.076Z"
   },
   {
    "duration": 181,
    "start_time": "2023-04-18T12:09:43.196Z"
   },
   {
    "duration": 4,
    "start_time": "2023-04-18T12:09:43.379Z"
   },
   {
    "duration": 12,
    "start_time": "2023-04-18T12:09:43.385Z"
   },
   {
    "duration": 17721,
    "start_time": "2023-04-18T12:09:43.399Z"
   },
   {
    "duration": 198,
    "start_time": "2023-04-18T12:10:01.121Z"
   },
   {
    "duration": 96,
    "start_time": "2023-04-18T12:10:01.322Z"
   },
   {
    "duration": 36,
    "start_time": "2023-04-18T12:10:01.420Z"
   },
   {
    "duration": 43,
    "start_time": "2023-04-18T12:10:01.458Z"
   },
   {
    "duration": 92,
    "start_time": "2023-04-18T12:10:01.503Z"
   },
   {
    "duration": 588523,
    "start_time": "2023-04-18T12:10:01.597Z"
   },
   {
    "duration": 3,
    "start_time": "2023-04-18T12:19:50.122Z"
   },
   {
    "duration": 14,
    "start_time": "2023-04-18T12:19:50.126Z"
   },
   {
    "duration": 8493,
    "start_time": "2023-04-18T12:19:50.141Z"
   },
   {
    "duration": 1086,
    "start_time": "2023-04-18T12:19:58.636Z"
   },
   {
    "duration": 4,
    "start_time": "2023-04-18T12:19:59.725Z"
   },
   {
    "duration": 20,
    "start_time": "2023-04-18T12:19:59.731Z"
   },
   {
    "duration": 19,
    "start_time": "2023-04-18T12:19:59.753Z"
   },
   {
    "duration": 60,
    "start_time": "2023-04-18T12:19:59.774Z"
   },
   {
    "duration": 186182,
    "start_time": "2023-04-18T12:19:59.836Z"
   },
   {
    "duration": 3,
    "start_time": "2023-04-18T12:23:06.019Z"
   },
   {
    "duration": 12,
    "start_time": "2023-04-18T12:23:06.024Z"
   },
   {
    "duration": 14512,
    "start_time": "2023-04-18T12:23:06.038Z"
   },
   {
    "duration": 91,
    "start_time": "2023-04-18T12:23:20.552Z"
   },
   {
    "duration": 6,
    "start_time": "2023-04-18T12:23:20.721Z"
   },
   {
    "duration": 41,
    "start_time": "2023-04-18T12:23:20.818Z"
   },
   {
    "duration": 63,
    "start_time": "2023-04-18T12:23:20.861Z"
   },
   {
    "duration": 66,
    "start_time": "2023-04-18T12:23:20.926Z"
   },
   {
    "duration": 2708655,
    "start_time": "2023-04-18T12:23:20.994Z"
   },
   {
    "duration": 4,
    "start_time": "2023-04-18T13:08:29.651Z"
   },
   {
    "duration": 41,
    "start_time": "2023-04-18T13:08:29.657Z"
   },
   {
    "duration": 258113,
    "start_time": "2023-04-18T13:08:29.700Z"
   },
   {
    "duration": 1030,
    "start_time": "2023-04-18T13:12:47.814Z"
   },
   {
    "duration": 5,
    "start_time": "2023-04-18T13:12:48.845Z"
   },
   {
    "duration": 1094,
    "start_time": "2023-04-18T13:12:48.852Z"
   },
   {
    "duration": 5,
    "start_time": "2023-04-18T13:12:49.948Z"
   },
   {
    "duration": 3307,
    "start_time": "2023-04-18T13:12:49.955Z"
   },
   {
    "duration": 5,
    "start_time": "2023-04-18T13:12:53.264Z"
   },
   {
    "duration": 1074,
    "start_time": "2023-04-18T13:12:53.271Z"
   },
   {
    "duration": 4,
    "start_time": "2023-04-18T13:12:54.346Z"
   },
   {
    "duration": 1082,
    "start_time": "2023-04-18T13:12:54.352Z"
   },
   {
    "duration": 6,
    "start_time": "2023-04-18T13:12:55.436Z"
   }
  ],
  "kernelspec": {
   "display_name": "Python 3 (ipykernel)",
   "language": "python",
   "name": "python3"
  },
  "language_info": {
   "codemirror_mode": {
    "name": "ipython",
    "version": 3
   },
   "file_extension": ".py",
   "mimetype": "text/x-python",
   "name": "python",
   "nbconvert_exporter": "python",
   "pygments_lexer": "ipython3",
   "version": "3.9.13"
  },
  "toc": {
   "base_numbering": 1,
   "nav_menu": {},
   "number_sections": true,
   "sideBar": true,
   "skip_h1_title": true,
   "title_cell": "Table of Contents",
   "title_sidebar": "Contents",
   "toc_cell": false,
   "toc_position": {
    "height": "calc(100% - 180px)",
    "left": "10px",
    "top": "150px",
    "width": "366.188px"
   },
   "toc_section_display": true,
   "toc_window_display": true
  }
 },
 "nbformat": 4,
 "nbformat_minor": 2
}
