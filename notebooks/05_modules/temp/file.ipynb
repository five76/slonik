{
 "cells": [
  {
   "cell_type": "markdown",
   "id": "55d5e219",
   "metadata": {},
   "source": [
    "<div class=\"alert alert-success\">\n",
    "\n",
    "    \n",
    "## Файлы\n",
    "\n",
    "Файл – именованная область постоянной памяти в компьютере. \n",
    "    \n",
    "Встроенная функция **open** создает объект файла, который обеспечивает связь с файлом, размещенным в компьютере. После вызова функции **open** можно выполнять операции чтения и записи во внешний файл, используя методы полученного объекта.\n",
    "    \n",
    "Они не являются ни числами, ни последовательностями или отображениями – для задач работы с файлами они предоставляют\n",
    "одни только методы. \n",
    "    \n",
    "Большинство методов файлов связаны с выполнением операций ввода-вывода во внешние файлы, ассоциированные с объектом, но\n",
    "существуют также методы, которые позволяют переходить на другую позицию в файле, выталкивать на диск буферы вывода и так далее.    \n",
    "    \n",
    "</div>"
   ]
  },
  {
   "cell_type": "markdown",
   "id": "d9d79b70",
   "metadata": {},
   "source": [
    " <div class=\"alert alert-danger\">\n",
    " Данные, получаемые из файла, всегда попадают в сценарий в виде строки, поэтому необходимо выполнять преобразование данных в другие типы объектов языка Python. Точно так же, при выполнении операции записи данных в файл, в отличие от инструкции print,\n",
    "интерпретатор Python не выполняет автоматическое преобразование объектов в строки – необходимо передавать методам уже сформированные строки. \n",
    "    </div>"
   ]
  },
  {
   "cell_type": "markdown",
   "id": "46a8349b",
   "metadata": {},
   "source": [
    "### Операции над файлами"
   ]
  },
  {
   "cell_type": "markdown",
   "id": "f77b1178",
   "metadata": {},
   "source": [
    "| Операция                        | Интерпретация                                            |\n",
    "|:---------------------------------|:----------------------------------------------------------|\n",
    "| output = open(r’C:\\spam’, ‘w’)  | Открывает файл для записи (‘w’ означает write – запись)  |\n",
    "|input = open(‘data’, ‘r’)        | Открывает файл для чтения (‘r’ означает read – чтение)|\n",
    "|input = open(‘data’)|Открывает файл для чтения (по-умолчанию)|\n",
    "|aString = input.read()|Чтение файла целиком в единственную строку|\n",
    "|aString = input.read(N)|Чтение файла целиком в единственную строку|\n",
    "|aString = input.readline()|Чтение следующей текстовой строки (включая символ конца строки) в строку|\n",
    "|aList = input.readlines()|Чтение файла целиком в список строк (включая символ конца строки)|\n",
    "|output.write(aString)|Запись строки символов (или байтов) в файл|\n",
    "|output.writelines(aList)|Запись всех строк из списка в файл|\n",
    "|output.close()|Закрытие файла вручную (выполняется пооко нчании работы с файлом)|\n",
    "|for line in open(‘data’): операции над line|Итерации по файлу, построчное чтение|\n",
    "|open(‘f.txt’, encoding=’utf-8’)|Файлы с текстом Юникода в Python 3.0 (строки типа str)|"
   ]
  },
  {
   "cell_type": "markdown",
   "id": "129b3b03",
   "metadata": {},
   "source": [
    "Оба аргумента функции **open** должны быть строками. Если путь к файлу не указан, предполагается, что он находится в текущем рабочем каталоге (то есть в каталоге, где был запущен сценарий)."
   ]
  },
  {
   "cell_type": "markdown",
   "id": "0a3b6300",
   "metadata": {},
   "source": [
    "### Режимы открытия файла"
   ]
  },
  {
   "cell_type": "markdown",
   "id": "2c5e0f84",
   "metadata": {},
   "source": [
    "| Операция                        | Интерпретация                                            |\n",
    "|:---------------------------------|:----------------------------------------------------------|\n",
    "| r  | Чтение из файла   |\n",
    "|t|Открыть как текстовый файл|\n",
    "|w|Запись в файл и создание файла, если его не существует|\n",
    "|x|Запись в файл и вызовы исключения, если файла не существует|\n",
    "|b|Открыть как двоичный файл|\n",
    "|a|Запись в файл путем добавления новых значений в конец|\n",
    "|+|Работа в режиме чтения и записи|"
   ]
  },
  {
   "cell_type": "markdown",
   "id": "fb1a2e53",
   "metadata": {},
   "source": [
    "### Примеры работы с файлами"
   ]
  },
  {
   "cell_type": "markdown",
   "id": "b010f44f",
   "metadata": {},
   "source": [
    "#### Запись в файл"
   ]
  },
  {
   "cell_type": "markdown",
   "id": "1007f220",
   "metadata": {},
   "source": [
    "*Записать в файл poem.txt строку*"
   ]
  },
  {
   "cell_type": "markdown",
   "id": "42436252",
   "metadata": {},
   "source": [
    "Для работы будет использоваться **менеджер контекста**.\n",
    "\n",
    "\n",
    "**Менеджер контекста** — это объект, который управляет контекстом в Python. Он выполняет предварительные и завершающие действия, чтобы войти и выйти из контекста. \n",
    "\n",
    "Контекстом в данном случае является работа с файлом, поэтому менеджер контекста открывает файл при входе в блок **with** и закрывает файл при выходе из блока."
   ]
  },
  {
   "cell_type": "code",
   "execution_count": 1,
   "id": "c2e0a05a",
   "metadata": {},
   "outputs": [],
   "source": [
    "with open('poem.txt', 'w', encoding='utf-8') as f:\n",
    "    data = 'Я помню чудное мгновение: \\n'\n",
    "    f.write(data)"
   ]
  },
  {
   "attachments": {
    "image.png": {
     "image/png": "[encoded data removed]"
    }
   },
   "cell_type": "markdown",
   "id": "d3cfbbb0",
   "metadata": {},
   "source": [
    "![image.png](attachment:image.png)"
   ]
  },
  {
   "cell_type": "code",
   "execution_count": 2,
   "id": "32e36fd3",
   "metadata": {},
   "outputs": [],
   "source": [
    "f = open('poem1.txt', 'w', encoding='utf-8')\n",
    "data = 'Я помню чудное мгновение: \\n'\n",
    "f.write(data)\n",
    "f.close()"
   ]
  },
  {
   "cell_type": "markdown",
   "id": "45704811",
   "metadata": {},
   "source": [
    "Комбинация символов **\\n** называется управляющий символ **Возврат каретки**, предписывающий перейти на новую строку. Если этого не сделать, то все будет выводится в одну строку"
   ]
  },
  {
   "cell_type": "markdown",
   "id": "2f8c285f",
   "metadata": {},
   "source": [
    "*продолжение*\n",
    "\n",
    "*Дописать в файл продолжение стихотворения:*\n",
    "\n",
    "Я помню чудное мгновенье:\n",
    "\n",
    "Передо мной явилась ты,\n",
    "\n",
    "Как мимолетное виденье,\n",
    "\n",
    "Как гений чистой красоты."
   ]
  },
  {
   "cell_type": "code",
   "execution_count": 3,
   "id": "d0e8b633",
   "metadata": {},
   "outputs": [],
   "source": [
    "poem_lst = ['Передо мной явилась ты,\\n', 'Как мимолетное виденье,\\n', 'Как гений чистой красоты.\\n']\n",
    "# Открытие файла в режиме дозаписи\n",
    "with open('poem.txt', 'a', encoding='utf-8') as f:\n",
    "    # Запись в конец файла всех строк из списка\n",
    "    f.writelines(poem_lst)"
   ]
  },
  {
   "attachments": {
    "image.png": {
     "image/png": "[encoded data removed]"
    }
   },
   "cell_type": "markdown",
   "id": "53a4a746",
   "metadata": {},
   "source": [
    "![image.png](attachment:image.png)"
   ]
  },
  {
   "cell_type": "markdown",
   "id": "b1245f49",
   "metadata": {},
   "source": [
    "#### Чтение из файла"
   ]
  },
  {
   "cell_type": "markdown",
   "id": "83d4449d",
   "metadata": {},
   "source": [
    "##### read()"
   ]
  },
  {
   "cell_type": "markdown",
   "id": "7311878f",
   "metadata": {},
   "source": [
    "Содержимое всего файла читается в одну строку."
   ]
  },
  {
   "cell_type": "code",
   "execution_count": 4,
   "id": "2501cff0",
   "metadata": {},
   "outputs": [
    {
     "name": "stdout",
     "output_type": "stream",
     "text": [
      "Я помню чудное мгновение: \n",
      "Передо мной явилась ты,\n",
      "Как мимолетное виденье,\n",
      "Как гений чистой красоты.\n",
      "\n"
     ]
    }
   ],
   "source": [
    "input1 = open('poem.txt', 'r', encoding='utf-8')\n",
    "#  Чтение файла в одну строку\n",
    "data = input1.read()\n",
    "print(data)\n",
    "input1.close()"
   ]
  },
  {
   "cell_type": "code",
   "execution_count": 5,
   "id": "144f0f06",
   "metadata": {},
   "outputs": [
    {
     "data": {
      "text/plain": [
       "'Я помню чудное мгновение: \\nПередо мной явилась ты,\\nКак мимолетное виденье,\\nКак гений чистой красоты.\\n'"
      ]
     },
     "execution_count": 5,
     "metadata": {},
     "output_type": "execute_result"
    }
   ],
   "source": [
    "data"
   ]
  },
  {
   "cell_type": "code",
   "execution_count": 6,
   "id": "50e481aa",
   "metadata": {
    "scrolled": false
   },
   "outputs": [
    {
     "name": "stdout",
     "output_type": "stream",
     "text": [
      "Я помню чудное мгновение: \n",
      "Передо мной явилась ты,\n",
      "Как мимолетное виденье,\n",
      "Как гений чистой красоты.\n",
      "\n"
     ]
    }
   ],
   "source": [
    "# Открытие файла в режиме чтения\n",
    "with open('poem.txt', 'r', encoding='utf-8') as f:\n",
    "    #  Чтение файла в одну строку\n",
    "    data = f.read()\n",
    "\n",
    "print(data)"
   ]
  },
  {
   "cell_type": "code",
   "execution_count": 7,
   "id": "e4cd3591",
   "metadata": {},
   "outputs": [
    {
     "data": {
      "text/plain": [
       "'Я помню чудное мгновение: \\nПередо мной явилась ты,\\nКак мимолетное виденье,\\nКак гений чистой красоты.\\n'"
      ]
     },
     "execution_count": 7,
     "metadata": {},
     "output_type": "execute_result"
    }
   ],
   "source": [
    "data"
   ]
  },
  {
   "cell_type": "markdown",
   "id": "8b6cf001",
   "metadata": {},
   "source": [
    "**Данная операция может быть накладной, если файл большого размера**"
   ]
  },
  {
   "cell_type": "markdown",
   "id": "85c1729f",
   "metadata": {},
   "source": [
    "##### readlines()"
   ]
  },
  {
   "cell_type": "markdown",
   "id": "bbec4568",
   "metadata": {},
   "source": [
    "Содержимое всего файла читается в **список**"
   ]
  },
  {
   "cell_type": "code",
   "execution_count": 8,
   "id": "45417cf6",
   "metadata": {},
   "outputs": [
    {
     "name": "stdout",
     "output_type": "stream",
     "text": [
      "['Я помню чудное мгновение: \\n', 'Передо мной явилась ты,\\n', 'Как мимолетное виденье,\\n', 'Как гений чистой красоты.\\n']\n"
     ]
    }
   ],
   "source": [
    "# Открытие файла в режиме чтения\n",
    "with open('poem.txt', 'r', encoding='utf-8') as f:\n",
    "    # Запись в конец файла всех строк из списка\n",
    "    lst_data = f.readlines()\n",
    "\n",
    "print(lst_data)"
   ]
  },
  {
   "cell_type": "code",
   "execution_count": 10,
   "id": "b1f6d864",
   "metadata": {},
   "outputs": [
    {
     "data": {
      "text/plain": [
       "['Я помню чудное мгновение: \\n',\n",
       " 'Передо мной явилась ты,\\n',\n",
       " 'Как мимолетное виденье,\\n',\n",
       " 'Как гений чистой красоты.\\n']"
      ]
     },
     "execution_count": 10,
     "metadata": {},
     "output_type": "execute_result"
    }
   ],
   "source": [
    "lst_data"
   ]
  },
  {
   "cell_type": "markdown",
   "id": "ac14814c",
   "metadata": {},
   "source": [
    "Таким образом сразу получается список для обработки"
   ]
  },
  {
   "cell_type": "code",
   "execution_count": 1,
   "id": "1b4ea624",
   "metadata": {},
   "outputs": [
    {
     "data": {
      "text/plain": [
       "{'Год основания': 'Красноя́рск',\n",
       " 'Население': 1628,\n",
       " 'Площадь': 1205473,\n",
       " 'Среднегодовая температура': 413}"
      ]
     },
     "execution_count": 1,
     "metadata": {},
     "output_type": "execute_result"
    }
   ],
   "source": [
    "dict([('Год основания', 'Красноя́рск'),\n",
    " ('Население', 1628),\n",
    " ('Площадь', 1205473),\n",
    " ('Среднегодовая температура', 413)])"
   ]
  },
  {
   "cell_type": "code",
   "execution_count": null,
   "id": "e629b101",
   "metadata": {},
   "outputs": [],
   "source": []
  },
  {
   "cell_type": "markdown",
   "id": "6f41a1e8",
   "metadata": {},
   "source": [
    "##### readline()"
   ]
  },
  {
   "cell_type": "code",
   "execution_count": 14,
   "id": "e262d50f",
   "metadata": {},
   "outputs": [
    {
     "name": "stdout",
     "output_type": "stream",
     "text": [
      "Я помню чудное мгновение: \n",
      "Передо мной явилась ты,\n",
      "Как мимолетное виденье,\n",
      "Как гений чистой красоты.\n"
     ]
    }
   ],
   "source": [
    "# Открытие файла в режиме чтения\n",
    "with open('poem.txt', 'r', encoding='utf-8') as f:\n",
    "    for line in f:\n",
    "        print(line[:-1])"
   ]
  },
  {
   "cell_type": "code",
   "execution_count": 15,
   "id": "13d992c7",
   "metadata": {},
   "outputs": [
    {
     "name": "stdout",
     "output_type": "stream",
     "text": [
      "Я помню чудное мгновение: \n",
      "Передо мной явилась ты,\n",
      "Как мимолетное виденье,\n",
      "Как гений чистой красоты.\n"
     ]
    }
   ],
   "source": [
    "# Открытие файла в режиме чтения\n",
    "with open('poem.txt', 'r', encoding='utf-8') as f:\n",
    "    for line in f:\n",
    "        print(line,end='')"
   ]
  },
  {
   "cell_type": "code",
   "execution_count": 17,
   "id": "0e6735db",
   "metadata": {},
   "outputs": [
    {
     "name": "stdout",
     "output_type": "stream",
     "text": [
      "Я помню чудное мгновение: \n",
      "Передо мной явилась ты,\n",
      "Как мимолетное виденье,\n",
      "Как гений чистой красоты.\n",
      "['Я помню чудное мгновение: ', 'Передо мной явилась ты,', 'Как мимолетное виденье,', 'Как гений чистой красоты.']\n"
     ]
    }
   ],
   "source": [
    "# Открытие файла в режиме чтения\n",
    "z = []\n",
    "with open('poem.txt', 'r', encoding='utf-8') as f:\n",
    "    for line in f:\n",
    "        z.append(line[:-1])\n",
    "        print(line[:-1])\n",
    "print(z)"
   ]
  },
  {
   "cell_type": "markdown",
   "id": "33d5ec34",
   "metadata": {},
   "source": [
    "Когда с файлом нужно работать построчно, лучше использовать такой вариант.\n",
    "\n",
    "В предыдущем выводе, между строками файла были лишние пустые строки, так как print добавляет ещё один перевод строки.\n",
    "\n",
    "Чтобы избавиться от этого, можно использовать метод **rstrip**:"
   ]
  },
  {
   "cell_type": "code",
   "execution_count": 22,
   "id": "86deb919",
   "metadata": {},
   "outputs": [
    {
     "name": "stdout",
     "output_type": "stream",
     "text": [
      "Я помню чудное мгновение:\n",
      "Передо мной явилась ты,\n",
      "Как мимолетное виденье,\n",
      "Как гений чистой красоты.\n"
     ]
    }
   ],
   "source": [
    "# Открытие файла в режиме чтения\n",
    "with open('poem.txt', 'r', encoding='utf-8') as f:\n",
    "    for line in f:\n",
    "        # Удалить \n",
    "        print(line.rstrip())"
   ]
  },
  {
   "cell_type": "markdown",
   "id": "d6723fda",
   "metadata": {},
   "source": [
    "###### Считать из файла данные сотрудников и напечатать фамилию и инициалы"
   ]
  },
  {
   "cell_type": "code",
   "execution_count": 30,
   "id": "0d4d3f74",
   "metadata": {
    "scrolled": true
   },
   "outputs": [
    {
     "name": "stdout",
     "output_type": "stream",
     "text": [
      "Глуховская Виталия Брониславовна\n",
      "Дубова Констанция Ерофеевна\n",
      "Зиновьева Тара Ефремовна\n",
      "Моисеева Лера Абрамовна\n",
      "Наумов Валентин Филатович\n",
      "Сазонов Потап Харламович\n",
      "Скоробогатов Антонин Феодосьевич\n",
      "Солопов Григорий Анатольевич\n",
      "Шатыренок Тит Антипович\n",
      "Шахмагонова Магдалена Феодосьевна\n",
      "Новиков Дмитрий Николаевич\n",
      "Виноградов Артём Васильеви\n",
      "\n",
      "Глуховская В.Б.\n",
      "Моисеева Л.А.\n",
      "Зиновьева Т.Е.\n",
      "Шахмагонова М.Ф.\n",
      "Новиков Д.Н.\n",
      "Шатыренок Т.А.\n",
      "Скоробогатов А.Ф.\n",
      "Наумов В.Ф.\n",
      "Солопов Г.А.\n",
      "Сазонов П.Х.\n",
      "Дубова К.Е.\n",
      "Виноградов А.В.\n"
     ]
    }
   ],
   "source": [
    "import random\n",
    "staff_lst = []\n",
    "with open('сотрудники.txt', 'r', encoding='utf-8') as f:\n",
    "    for line in f:\n",
    "        staff_lst.append(line[:-1])\n",
    "        print(line[:-1])\n",
    "print()\n",
    "\n",
    "random.shuffle(staff_lst)\n",
    "\n",
    "with open('сотр_сокр.txt','w',encoding='utf-8') as f1:\n",
    "    for st in staff_lst:\n",
    "        f,i,o = st.split()\n",
    "        print(f'{f} {i[0]}.{o[0]}.')\n",
    "        f1.write(f'{f} {i[0]}.{o[0]}.\\n')\n",
    "\n",
    "\n"
   ]
  },
  {
   "cell_type": "code",
   "execution_count": null,
   "id": "b57c9957",
   "metadata": {},
   "outputs": [],
   "source": []
  }
 ],
 "metadata": {
  "kernelspec": {
   "display_name": "Python 3 (ipykernel)",
   "language": "python",
   "name": "python3"
  },
  "language_info": {
   "codemirror_mode": {
    "name": "ipython",
    "version": 3
   },
   "file_extension": ".py",
   "mimetype": "text/x-python",
   "name": "python",
   "nbconvert_exporter": "python",
   "pygments_lexer": "ipython3",
   "version": "3.11.5"
  },
  "toc": {
   "base_numbering": 1,
   "nav_menu": {},
   "number_sections": true,
   "sideBar": true,
   "skip_h1_title": false,
   "title_cell": "Table of Contents",
   "title_sidebar": "Contents",
   "toc_cell": false,
   "toc_position": {},
   "toc_section_display": true,
   "toc_window_display": false
  }
 },
 "nbformat": 4,
 "nbformat_minor": 5
}
