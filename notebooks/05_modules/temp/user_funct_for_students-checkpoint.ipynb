{
 "cells": [
  {
   "cell_type": "markdown",
   "id": "38f16672",
   "metadata": {},
   "source": [
    "# Функции"
   ]
  },
  {
   "cell_type": "markdown",
   "id": "ea476843",
   "metadata": {},
   "source": [
    "Функция в программировании — это фрагмент кода, который можно неоднократно вызвать на исполнение из другого места программы по мере необходимости.\n",
    "\n",
    "Функции имеет имя и она принимает на вход один или несколько параметров. \n",
    "\n",
    "Также функции могут возвращать или не возвращать какие-либо значения.\n",
    "\n",
    "Функции бывают:\n",
    "\n",
    "- `встроенные <https://docs.python.org/3/library/functions.html>`__ — они доступны в Python по умолчанию;\n",
    "- вызываемые из импортируемых модулей (стандартная библиотека и сторонние модули);\n",
    "- пользовательские;\n",
    "\n",
    "**Параметры и аргументы**\n",
    "\n",
    "Запуск кода функции называется вызовом функции.\n",
    "\n",
    "**Параметры** — это переменные, которые определяются в момент создания функции и служат местом для данных, которые будут использованы в этой функции.\n",
    "\n",
    "**Аргументы** — это конкретные значения, которые передаются в функцию при её вызове.\n",
    "\n",
    "Если функция — это рецепт блюда, то параметры — это список ингредиентов, а аргументы — сами ингредиенты, которые добавляются по рецепту.\n",
    " \n",
    "Обычно при создании функции описываются параметры функции, которые определяют, какие аргументы функция может принимать. Код функции будет выполняться с учетом указанных аргументов\n",
    "\n",
    "**Для чего нужны функции?**\n",
    "\n",
    "Программисты пишут какой-нибудь кусок кода один раз, а потом используют его в других частях программы или новых программах.\n",
    "\n",
    "Например:\n",
    "\n",
    "Например, при работе в сетевом администрировании часто необходимо выполнять действия с конфигураационными файлами:\n",
    "\n",
    "- открытие файла;\n",
    "- удаление (или пропуск) пустых строк\n",
    "- удаление символов перевода строки в конце строк;\n",
    "- преобразование полученного результата в список;\n",
    "\n",
    "В анализе данных:\n",
    "\n",
    "- выполнять преобразование исходных данных;\n",
    "- выполнение расчетов над столбцами или строками;\n",
    "- представление данных в определенном формате;\n",
    "\n",
    "Конечно, можно копировать блоки в пределах скрипта или между ними. А если что-то поменяется алгоритм, а этот \"кусок кода\" размещен в 100 местах программы?\n",
    "\n",
    "При использовании функций изменения вносятся в одном месте и автоматически применяются везде. \n",
    "\n",
    "Но это очень неудобно, так как при внесении изменений в код нужно будет обновить его во всех файлах, в которые он скопирован."
   ]
  },
  {
   "cell_type": "code",
   "execution_count": 3,
   "id": "d019532e",
   "metadata": {},
   "outputs": [
    {
     "name": "stdout",
     "output_type": "stream",
     "text": [
      "ывпвап\n"
     ]
    }
   ],
   "source": [
    "print('ывпвап')"
   ]
  },
  {
   "cell_type": "markdown",
   "id": "d789271d",
   "metadata": {},
   "source": [
    "## Функции пользователя"
   ]
  },
  {
   "cell_type": "markdown",
   "id": "d2b5566f",
   "metadata": {},
   "source": [
    "### Создание функции"
   ]
  },
  {
   "attachments": {
    "image.png": {
     "image/png": "[encoded data removed]"
    }
   },
   "cell_type": "markdown",
   "id": "e671daf6",
   "metadata": {},
   "source": [
    "![image.png](attachment:image.png)\n",
    "   \n",
    "    "
   ]
  },
  {
   "cell_type": "markdown",
   "id": "baab4670",
   "metadata": {},
   "source": [
    "Фунцкция создается с помощью ключевого слова **def**.\n",
    "\n",
    "Сразу после def идет **имя функции**, а после него в круглых скобках должны находиться **параметры** для работы этой функции. Функция может не иметь параметров."
   ]
  },
  {
   "cell_type": "code",
   "execution_count": 6,
   "id": "daf9b462",
   "metadata": {},
   "outputs": [],
   "source": [
    "# Определение функции\n",
    "def say_hello():\n",
    "    print(\"Hello, World! My name is Dmitry\")"
   ]
  },
  {
   "cell_type": "code",
   "execution_count": 7,
   "id": "2e885046",
   "metadata": {},
   "outputs": [
    {
     "name": "stdout",
     "output_type": "stream",
     "text": [
      "Hello, World! My name is Dmitry\n"
     ]
    }
   ],
   "source": [
    "# Вызов функции\n",
    "say_hello()"
   ]
  },
  {
   "cell_type": "code",
   "execution_count": 8,
   "id": "664e4786",
   "metadata": {},
   "outputs": [],
   "source": [
    "# Определение функции\n",
    "def say_hello(name):\n",
    "    print(f'Hello, World! My name is {name}')\n",
    "    print('---------')"
   ]
  },
  {
   "cell_type": "code",
   "execution_count": 12,
   "id": "8661d46e",
   "metadata": {},
   "outputs": [
    {
     "name": "stdout",
     "output_type": "stream",
     "text": [
      "Hello, World! My name is Анна\n",
      "---------\n"
     ]
    }
   ],
   "source": [
    "say_hello('Анна')"
   ]
  },
  {
   "cell_type": "code",
   "execution_count": 13,
   "id": "0117f9eb",
   "metadata": {},
   "outputs": [
    {
     "name": "stdout",
     "output_type": "stream",
     "text": [
      "Hello, World! My name is Виталий\n",
      "---------\n"
     ]
    }
   ],
   "source": [
    "say_hello('Виталий')"
   ]
  },
  {
   "cell_type": "code",
   "execution_count": 14,
   "id": "94a03cc4",
   "metadata": {},
   "outputs": [
    {
     "name": "stdout",
     "output_type": "stream",
     "text": [
      "Hello, World! My name is Дмитрий\n",
      "---------\n",
      "Hello, World! My name is Виталий\n",
      "---------\n",
      "Hello, World! My name is Елена\n",
      "---------\n",
      "Hello, World! My name is Павел\n",
      "---------\n"
     ]
    }
   ],
   "source": [
    "# Вызов функции\n",
    "lst = ['Дмитрий', 'Виталий', 'Елена','Павел']\n",
    "for arg in lst:\n",
    "    say_hello(arg)"
   ]
  },
  {
   "cell_type": "markdown",
   "id": "62a42d5b",
   "metadata": {},
   "source": [
    "### Инструкция return "
   ]
  },
  {
   "cell_type": "markdown",
   "id": "4eb2930a",
   "metadata": {},
   "source": [
    "**return** используется в теле функции, если нужно вернуть какое-то значение. Если инструкции **return** нет, тогда по умолчанию функция будет возвращать объект **None**. Как в этом примере:"
   ]
  },
  {
   "cell_type": "code",
   "execution_count": 16,
   "id": "1a8db2f7",
   "metadata": {},
   "outputs": [],
   "source": [
    "# Определение функции\n",
    "def sum_numbers(a,b):\n",
    "    sum = a + b"
   ]
  },
  {
   "cell_type": "code",
   "execution_count": 17,
   "id": "369dd551",
   "metadata": {},
   "outputs": [
    {
     "name": "stdout",
     "output_type": "stream",
     "text": [
      "None\n"
     ]
    }
   ],
   "source": [
    "print(sum_numbers(1,2))"
   ]
  },
  {
   "cell_type": "raw",
   "id": "efb597a4",
   "metadata": {},
   "source": [
    "Добавление return"
   ]
  },
  {
   "cell_type": "code",
   "execution_count": 18,
   "id": "fa2a51e2",
   "metadata": {},
   "outputs": [],
   "source": [
    "# Определение функции\n",
    "def sum_numbers(a,b):\n",
    "    sum = a + b\n",
    "    return sum"
   ]
  },
  {
   "cell_type": "code",
   "execution_count": 19,
   "id": "9452b7ad",
   "metadata": {},
   "outputs": [
    {
     "name": "stdout",
     "output_type": "stream",
     "text": [
      "Сумма чисел равна -2\n"
     ]
    }
   ],
   "source": [
    "print(f'Сумма чисел равна {sum_numbers(5,-7)}')"
   ]
  },
  {
   "cell_type": "markdown",
   "id": "ce1a710e",
   "metadata": {},
   "source": [
    "<div class=\"alert alert-danger\">\n",
    "    \n",
    "ВАЖНО: Функция выполняется до первого **return**. \n",
    "\n",
    "Инструкции, описанные после **return**, не выполняются.\n",
    "</div>"
   ]
  },
  {
   "cell_type": "code",
   "execution_count": 20,
   "id": "2093fcfd",
   "metadata": {},
   "outputs": [],
   "source": [
    "# Определение функции\n",
    "def sum_numbers(a,b):\n",
    "    sum = a + b\n",
    "    return sum\n",
    "    print('Функция выполнена!!!\\n')"
   ]
  },
  {
   "cell_type": "code",
   "execution_count": 21,
   "id": "0c77d06e",
   "metadata": {},
   "outputs": [
    {
     "name": "stdout",
     "output_type": "stream",
     "text": [
      "Сумма чисел равна 3\n"
     ]
    }
   ],
   "source": [
    "print(f'Сумма чисел равна {sum_numbers(1,2)}')"
   ]
  },
  {
   "cell_type": "code",
   "execution_count": 22,
   "id": "32bfd4c7",
   "metadata": {},
   "outputs": [],
   "source": [
    "# Определение функции\n",
    "def sum_numbers(a,b):\n",
    "    #print('Функция выполнена!!!\\n')\n",
    "    return a + b"
   ]
  },
  {
   "cell_type": "code",
   "execution_count": 23,
   "id": "48f08690",
   "metadata": {},
   "outputs": [
    {
     "name": "stdout",
     "output_type": "stream",
     "text": [
      "Функция выполнена!!!\n",
      "\n",
      "Сумма чисел равна 3\n"
     ]
    }
   ],
   "source": [
    "print(f'Сумма чисел равна {sum_numbers(1,2)}')"
   ]
  },
  {
   "cell_type": "markdown",
   "id": "ece9455f",
   "metadata": {},
   "source": [
    "#### Возврат нескольких значений"
   ]
  },
  {
   "cell_type": "markdown",
   "id": "548af68c",
   "metadata": {},
   "source": [
    "Если после оператора **return** указать несколько значений, то они будут возвращены в точку вызова функции в виде кортежа:"
   ]
  },
  {
   "cell_type": "code",
   "execution_count": 30,
   "id": "b72a8ab7",
   "metadata": {},
   "outputs": [],
   "source": [
    "# Определение функции\n",
    "def sum_numbers(a,b):\n",
    "    summa = a + b\n",
    "    return a, b, summa"
   ]
  },
  {
   "cell_type": "code",
   "execution_count": 31,
   "id": "f91d039a",
   "metadata": {},
   "outputs": [
    {
     "name": "stdout",
     "output_type": "stream",
     "text": [
      "(15, 87, 102)\n"
     ]
    }
   ],
   "source": [
    "a = 15\n",
    "b = 87\n",
    "result = sum_numbers(a,b)\n",
    "print(result)"
   ]
  },
  {
   "cell_type": "code",
   "execution_count": 33,
   "id": "7e4f231e",
   "metadata": {},
   "outputs": [],
   "source": [
    "# Определение функции\n",
    "def sum_numbers(a,b):\n",
    "    summa = a + b\n",
    "    a += 1\n",
    "    b += 1\n",
    "    return a, b, summa"
   ]
  },
  {
   "cell_type": "code",
   "execution_count": 34,
   "id": "a1eef75e",
   "metadata": {},
   "outputs": [
    {
     "name": "stdout",
     "output_type": "stream",
     "text": [
      "(16, 88, 102)\n",
      "15 87\n"
     ]
    }
   ],
   "source": [
    "a = 15\n",
    "b = 87\n",
    "result = sum_numbers(a,b)\n",
    "print(result)\n",
    "print(a,b)"
   ]
  },
  {
   "cell_type": "code",
   "execution_count": 48,
   "id": "e97c0bb4",
   "metadata": {},
   "outputs": [],
   "source": [
    "a = 15\n",
    "b = 87"
   ]
  },
  {
   "cell_type": "code",
   "execution_count": 49,
   "id": "07530866",
   "metadata": {},
   "outputs": [],
   "source": [
    "# Определение функции\n",
    "def sum_numbers1(a,b):\n",
    "    summa = a + b\n",
    "    a += 1\n",
    "    b += 1\n",
    "    return a, b, summa"
   ]
  },
  {
   "cell_type": "code",
   "execution_count": 50,
   "id": "3af4a965",
   "metadata": {},
   "outputs": [
    {
     "name": "stdout",
     "output_type": "stream",
     "text": [
      "(16, 88, 102)\n",
      "15 87\n"
     ]
    }
   ],
   "source": [
    "result = sum_numbers1(a,b)\n",
    "print(result)\n",
    "print(a,b)"
   ]
  },
  {
   "cell_type": "markdown",
   "id": "1d147191",
   "metadata": {},
   "source": [
    "#### Високосный год"
   ]
  },
  {
   "cell_type": "markdown",
   "id": "de2ae231",
   "metadata": {},
   "source": [
    "Написать скрипт для определения \"високосности\" года. \n",
    "\n",
    "Год является високосным, если его значение кратно 4 и не кратно 100 или кратно 400"
   ]
  },
  {
   "cell_type": "code",
   "execution_count": 52,
   "id": "e1831812",
   "metadata": {},
   "outputs": [],
   "source": [
    "def is_leap_year(year):\n",
    "    if year % 4 == 0 and year % 100 != 0 or year % 400 == 0:\n",
    "        return True\n",
    "    else:\n",
    "        return False"
   ]
  },
  {
   "cell_type": "code",
   "execution_count": 54,
   "id": "94eb698d",
   "metadata": {},
   "outputs": [
    {
     "name": "stdout",
     "output_type": "stream",
     "text": [
      "Введите год: 2025\n",
      "2025 - не високосный год\n"
     ]
    }
   ],
   "source": [
    "# Ввод данных\n",
    "my_year = int(input('Введите год: '))\n",
    "\n",
    "# Функция вызывается и её результат проверяется if\n",
    "if is_leap_year(my_year):\n",
    "    print(f'{my_year} - високосный год')\n",
    "else:\n",
    "    print(f'{my_year} - не високосный год')\n"
   ]
  },
  {
   "cell_type": "markdown",
   "id": "ebc63316",
   "metadata": {},
   "source": [
    "После ввода номер года, он записывается в переменную **my_year**. Далее, эта переменная в качестве аргумента передается функции **is_leap_year** и там записывается в параметр **year**. Это значение проверяется в функции в операторе **if**. В зависимости от истинности этого условия в точку вызова программы возвращается результат. И на основании этого результата уже в основной функции печатается в консоль результат проверки."
   ]
  },
  {
   "cell_type": "markdown",
   "id": "d97d69fc",
   "metadata": {},
   "source": [
    "Более лаконичный вариант функции:"
   ]
  },
  {
   "cell_type": "code",
   "execution_count": 41,
   "id": "a04bd350",
   "metadata": {},
   "outputs": [],
   "source": [
    "def is_leap_year(year):\n",
    "    return (year % 4 == 0 and year % 100 != 0) or year % 400 == 0"
   ]
  },
  {
   "cell_type": "markdown",
   "id": "0d777501",
   "metadata": {},
   "source": [
    "### Документация (docstring)\n",
    "Первая строка в определении функции - это docstring, строка документации. Это комментарий, который используется как описание функции:"
   ]
  },
  {
   "cell_type": "code",
   "execution_count": 1,
   "id": "2034f229",
   "metadata": {},
   "outputs": [],
   "source": [
    "def is_leap_year(year):\n",
    "    \"\"\"\n",
    "    Функция определения високосности года\n",
    "    Вход: year - календарный год \n",
    "    Вывод: True или False\n",
    "    \"\"\"\n",
    "    return (year % 4 == 0 and year % 100 != 0) or year % 400 == 0"
   ]
  },
  {
   "cell_type": "code",
   "execution_count": 2,
   "id": "b11c6a22",
   "metadata": {},
   "outputs": [],
   "source": [
    "is_leap_year?"
   ]
  },
  {
   "attachments": {
    "image.png": {
     "image/png": "[encoded data removed]"
    }
   },
   "cell_type": "markdown",
   "id": "5bf5d604",
   "metadata": {},
   "source": [
    "![image.png](attachment:image.png)"
   ]
  },
  {
   "cell_type": "code",
   "execution_count": 3,
   "id": "21552cbb",
   "metadata": {},
   "outputs": [
    {
     "data": {
      "text/plain": [
       "'\\n    Функция определения високосности года\\n    Вход: year - календарный год \\n    Вывод: True или False\\n    '"
      ]
     },
     "execution_count": 3,
     "metadata": {},
     "output_type": "execute_result"
    }
   ],
   "source": [
    "is_leap_year.__doc__"
   ]
  },
  {
   "cell_type": "code",
   "execution_count": 11,
   "id": "7bdd4a34",
   "metadata": {},
   "outputs": [],
   "source": [
    "print?"
   ]
  },
  {
   "cell_type": "code",
   "execution_count": 9,
   "id": "8b4faa64",
   "metadata": {},
   "outputs": [
    {
     "name": "stdout",
     "output_type": "stream",
     "text": [
      "1 2 3 -7 -9\n"
     ]
    }
   ],
   "source": [
    "print(1,2,3,-7,-9)"
   ]
  },
  {
   "cell_type": "code",
   "execution_count": 10,
   "id": "48372328",
   "metadata": {},
   "outputs": [
    {
     "name": "stdout",
     "output_type": "stream",
     "text": [
      "1:2:3\n"
     ]
    }
   ],
   "source": [
    "print(1,2,3, sep=':')"
   ]
  },
  {
   "cell_type": "markdown",
   "id": "0dada935",
   "metadata": {},
   "source": [
    "Документация позволяет понять, как работает функция, если ее используют другие специалисты."
   ]
  },
  {
   "cell_type": "markdown",
   "id": "6341fb43",
   "metadata": {},
   "source": [
    "## Параметры функции"
   ]
  },
  {
   "cell_type": "markdown",
   "id": "f7dc9df2",
   "metadata": {},
   "source": [
    "Параметры функции бывают:\n",
    "- **Обязательные**;\n",
    "- **Необязательные** (опциональные, со значением по умолчанию)."
   ]
  },
  {
   "cell_type": "markdown",
   "id": "3a2c2c02",
   "metadata": {},
   "source": [
    "### Обязательные параметры\n",
    "\n",
    "Обязательные параметры определяют, какие аргументы нужно передать функции обязательно. При этом, количество аргументов при вызове функции должно быть **ровно** таким, сколько указано параметров функции."
   ]
  },
  {
   "cell_type": "code",
   "execution_count": 12,
   "id": "859dbca6",
   "metadata": {},
   "outputs": [],
   "source": [
    "def print_names(name1, name2):\n",
    "    print(name1)\n",
    "    print(name2)"
   ]
  },
  {
   "cell_type": "code",
   "execution_count": 13,
   "id": "3641495c",
   "metadata": {},
   "outputs": [
    {
     "name": "stdout",
     "output_type": "stream",
     "text": [
      "Михаил\n",
      "Валентина\n"
     ]
    }
   ],
   "source": [
    "print_names('Михаил','Валентина')"
   ]
  },
  {
   "cell_type": "code",
   "execution_count": 14,
   "id": "5ea12065",
   "metadata": {},
   "outputs": [
    {
     "ename": "TypeError",
     "evalue": "print_names() missing 1 required positional argument: 'name2'",
     "output_type": "error",
     "traceback": [
      "\u001b[1;31m---------------------------------------------------------------------------\u001b[0m",
      "\u001b[1;31mTypeError\u001b[0m                                 Traceback (most recent call last)",
      "Cell \u001b[1;32mIn[14], line 1\u001b[0m\n\u001b[1;32m----> 1\u001b[0m print_names(\u001b[38;5;124m'\u001b[39m\u001b[38;5;124mЗоя\u001b[39m\u001b[38;5;124m'\u001b[39m)\n",
      "\u001b[1;31mTypeError\u001b[0m: print_names() missing 1 required positional argument: 'name2'"
     ]
    }
   ],
   "source": [
    "print_names('Зоя')"
   ]
  },
  {
   "cell_type": "markdown",
   "id": "07f86d71",
   "metadata": {},
   "source": [
    "В данном случае фунция ожидает 2 аргумента, а ей передан один."
   ]
  },
  {
   "cell_type": "markdown",
   "id": "e3906b35",
   "metadata": {},
   "source": [
    "### Необязательные параметры (параметры со значением по умолчанию)\n",
    "\n",
    "Значение необязательного параметра указывается при определении функции и подставляется автоматически при ее вызове.\n",
    "\n",
    "Для необязательного параметра нет необходимости указывать значение аргумента при вызове функции."
   ]
  },
  {
   "cell_type": "code",
   "execution_count": 16,
   "id": "9ce0e338",
   "metadata": {},
   "outputs": [],
   "source": [
    "def check_passwd(username, password, min_length=8):\n",
    "    \"\"\"\n",
    "    Функция проверки пароля на соответствие требованиям, устанавливаемым к паролям\n",
    "    \"\"\"\n",
    "    if len(password) < min_length:\n",
    "        print('Пароль слишком короткий')\n",
    "        return False\n",
    "    elif username in password:\n",
    "        print('Пароль содержит имя пользователя')\n",
    "        return False\n",
    "    else:\n",
    "        print(f'Пароль для пользователя {username} прошел все проверки')\n",
    "        return True"
   ]
  },
  {
   "cell_type": "code",
   "execution_count": 17,
   "id": "d35cf19d",
   "metadata": {},
   "outputs": [
    {
     "name": "stdout",
     "output_type": "stream",
     "text": [
      "Пароль слишком короткий\n"
     ]
    },
    {
     "data": {
      "text/plain": [
       "False"
      ]
     },
     "execution_count": 17,
     "metadata": {},
     "output_type": "execute_result"
    }
   ],
   "source": [
    "# Вызов функции без указания min_lendth\n",
    "check_passwd('mike', '2345')"
   ]
  },
  {
   "cell_type": "markdown",
   "id": "41cf9bfc",
   "metadata": {},
   "source": [
    "При работе функции было подставлен значение **min_length**, равное 8, как в определении функции "
   ]
  },
  {
   "cell_type": "code",
   "execution_count": 18,
   "id": "1550aed4",
   "metadata": {},
   "outputs": [
    {
     "name": "stdout",
     "output_type": "stream",
     "text": [
      "Пароль для пользователя mike прошел все проверки\n"
     ]
    },
    {
     "data": {
      "text/plain": [
       "True"
      ]
     },
     "execution_count": 18,
     "metadata": {},
     "output_type": "execute_result"
    }
   ],
   "source": [
    "# Вызов функции с указанием min_lendth\n",
    "check_passwd('mike', '2345', 3)"
   ]
  },
  {
   "cell_type": "markdown",
   "id": "389ae127",
   "metadata": {},
   "source": [
    "При работе функции c таким набором параметров было подставлено значение min_length, равное 3."
   ]
  },
  {
   "cell_type": "markdown",
   "id": "6e083838",
   "metadata": {},
   "source": [
    "Значение по умолчанию оценивается и сохраняется только один раз при определении функции (не при вызове). Следовательно, если значение по умолчанию — это изменяемый объект, например, список или словарь, он будет меняться каждый раз при вызове функции. Чтобы избежать такого поведения, инициализацию нужно проводить внутри функции или использовать неизменяемый объект."
   ]
  },
  {
   "cell_type": "code",
   "execution_count": null,
   "id": "9f1bbd18",
   "metadata": {},
   "outputs": [],
   "source": []
  },
  {
   "cell_type": "markdown",
   "id": "506e463a",
   "metadata": {},
   "source": [
    "## Аргументы функции"
   ]
  },
  {
   "cell_type": "markdown",
   "id": "5c8ffdea",
   "metadata": {},
   "source": [
    "Аргументы функции бывают:\n",
    "- **Позиционные**  передаются в том же порядке, в котором они определены при создании функции. То есть, порядок передачи аргументов определяет, какое значение получит каждый аргумент;\n",
    "- **Ключевые** - передаются с указанием имени аргумента и его значения. Так как их имя указывается явно, то таком случае, аргументы могут быть указаны в любом порядке."
   ]
  },
  {
   "attachments": {
    "image-3.png": {
     "image/png": "[encoded data removed]"
    }
   },
   "cell_type": "markdown",
   "id": "8b3fcc2d",
   "metadata": {},
   "source": [
    "![image-3.png](attachment:image-3.png)"
   ]
  },
  {
   "cell_type": "markdown",
   "id": "ce3be6de",
   "metadata": {},
   "source": [
    "При вызове функции с испльзованием и позиционных и ключевых агрументов первыми передаются позиционные"
   ]
  },
  {
   "cell_type": "code",
   "execution_count": 20,
   "id": "e555b942",
   "metadata": {},
   "outputs": [
    {
     "name": "stdout",
     "output_type": "stream",
     "text": [
      "Пароль для пользователя mike прошел все проверки\n"
     ]
    },
    {
     "data": {
      "text/plain": [
       "True"
      ]
     },
     "execution_count": 20,
     "metadata": {},
     "output_type": "execute_result"
    }
   ],
   "source": [
    "# Вызов функции с указанием ключевого аргумента после позиционных\n",
    "check_passwd('mike', '2345', min_length=3)"
   ]
  },
  {
   "cell_type": "code",
   "execution_count": 22,
   "id": "fb7678ef",
   "metadata": {
    "scrolled": true
   },
   "outputs": [
    {
     "ename": "SyntaxError",
     "evalue": "positional argument follows keyword argument (276712302.py, line 2)",
     "output_type": "error",
     "traceback": [
      "\u001b[1;36m  Cell \u001b[1;32mIn[22], line 2\u001b[1;36m\u001b[0m\n\u001b[1;33m    check_passwd(min_length=3, 'mike', '2345')\u001b[0m\n\u001b[1;37m                                             ^\u001b[0m\n\u001b[1;31mSyntaxError\u001b[0m\u001b[1;31m:\u001b[0m positional argument follows keyword argument\n"
     ]
    }
   ],
   "source": [
    "# Вызов функции с указанием ключевого аргумента перед позиционными\n",
    "check_passwd(min_length=3, 'mike', '2345')"
   ]
  },
  {
   "cell_type": "code",
   "execution_count": 27,
   "id": "5802275d",
   "metadata": {},
   "outputs": [
    {
     "name": "stdout",
     "output_type": "stream",
     "text": [
      "Пароль для пользователя mike прошел все проверки\n"
     ]
    },
    {
     "data": {
      "text/plain": [
       "True"
      ]
     },
     "execution_count": 27,
     "metadata": {},
     "output_type": "execute_result"
    }
   ],
   "source": [
    "check_passwd('mike','234567',min_length=5)"
   ]
  },
  {
   "cell_type": "code",
   "execution_count": 28,
   "id": "bff5713c",
   "metadata": {},
   "outputs": [
    {
     "ename": "TypeError",
     "evalue": "check_passwd() missing 2 required positional arguments: 'username' and 'password'",
     "output_type": "error",
     "traceback": [
      "\u001b[1;31m---------------------------------------------------------------------------\u001b[0m",
      "\u001b[1;31mTypeError\u001b[0m                                 Traceback (most recent call last)",
      "Cell \u001b[1;32mIn[28], line 1\u001b[0m\n\u001b[1;32m----> 1\u001b[0m check_passwd(min_length\u001b[38;5;241m=\u001b[39m\u001b[38;5;241m5\u001b[39m)\n",
      "\u001b[1;31mTypeError\u001b[0m: check_passwd() missing 2 required positional arguments: 'username' and 'password'"
     ]
    }
   ],
   "source": [
    "check_passwd(min_length=5)"
   ]
  },
  {
   "cell_type": "markdown",
   "id": "263c70d9",
   "metadata": {},
   "source": [
    "### Позиционные аргументы"
   ]
  },
  {
   "cell_type": "markdown",
   "id": "ce3bbed5",
   "metadata": {},
   "source": [
    "Для данных параметров важна позиция, в которой они описаны в функции. Если параметр описан первым, то и при при вызове функции аргумент, переданный первым будет записан в него, второй - во второй и так далее. "
   ]
  },
  {
   "cell_type": "code",
   "execution_count": 29,
   "id": "f108427d",
   "metadata": {},
   "outputs": [],
   "source": [
    "def print_names(name1, name2):\n",
    "    print(name1)\n",
    "    print(name2)"
   ]
  },
  {
   "cell_type": "code",
   "execution_count": 30,
   "id": "9551dd11",
   "metadata": {},
   "outputs": [
    {
     "name": "stdout",
     "output_type": "stream",
     "text": [
      "Михаил\n",
      "Валентина\n"
     ]
    }
   ],
   "source": [
    "print_names('Михаил','Валентина')"
   ]
  },
  {
   "cell_type": "code",
   "execution_count": 31,
   "id": "62b0fddd",
   "metadata": {},
   "outputs": [
    {
     "name": "stdout",
     "output_type": "stream",
     "text": [
      "Валентина\n",
      "Михаил\n"
     ]
    }
   ],
   "source": [
    "print_names('Валентина','Михаил')"
   ]
  },
  {
   "cell_type": "markdown",
   "id": "dce33f53",
   "metadata": {},
   "source": [
    "<div class=\"alert alert-danger\"> \n",
    " \n",
    "**Количество аргументов должно совпадать с количеством параметров:**  \n",
    "    \n",
    "</dev>"
   ]
  },
  {
   "cell_type": "code",
   "execution_count": 32,
   "id": "665ebc75",
   "metadata": {
    "scrolled": true
   },
   "outputs": [
    {
     "ename": "TypeError",
     "evalue": "print_names() missing 1 required positional argument: 'name2'",
     "output_type": "error",
     "traceback": [
      "\u001b[1;31m---------------------------------------------------------------------------\u001b[0m",
      "\u001b[1;31mTypeError\u001b[0m                                 Traceback (most recent call last)",
      "Cell \u001b[1;32mIn[32], line 1\u001b[0m\n\u001b[1;32m----> 1\u001b[0m print_names(\u001b[38;5;124m'\u001b[39m\u001b[38;5;124mЗоя\u001b[39m\u001b[38;5;124m'\u001b[39m)\n",
      "\u001b[1;31mTypeError\u001b[0m: print_names() missing 1 required positional argument: 'name2'"
     ]
    }
   ],
   "source": [
    "print_names('Зоя')"
   ]
  },
  {
   "cell_type": "markdown",
   "id": "4fd2f36b",
   "metadata": {},
   "source": [
    "<div class=\"alert alert-danger\"> \n",
    " \n",
    "**Порядок важен, так как нарушается логика работы программного кода внутри функции**  \n",
    "    \n",
    "</dev>"
   ]
  },
  {
   "cell_type": "code",
   "execution_count": 33,
   "id": "c0b35f46",
   "metadata": {},
   "outputs": [],
   "source": [
    "def calculate_fraction(x, y):\n",
    "    return x/(1-y)"
   ]
  },
  {
   "cell_type": "code",
   "execution_count": 34,
   "id": "c7ac29db",
   "metadata": {},
   "outputs": [
    {
     "data": {
      "text/plain": [
       "-1.0"
      ]
     },
     "execution_count": 34,
     "metadata": {},
     "output_type": "execute_result"
    }
   ],
   "source": [
    "calculate_fraction(1,2)"
   ]
  },
  {
   "cell_type": "code",
   "execution_count": 36,
   "id": "1233a1a3",
   "metadata": {},
   "outputs": [
    {
     "ename": "ZeroDivisionError",
     "evalue": "division by zero",
     "output_type": "error",
     "traceback": [
      "\u001b[1;31m---------------------------------------------------------------------------\u001b[0m",
      "\u001b[1;31mZeroDivisionError\u001b[0m                         Traceback (most recent call last)",
      "Cell \u001b[1;32mIn[36], line 1\u001b[0m\n\u001b[1;32m----> 1\u001b[0m calculate_fraction(\u001b[38;5;241m2\u001b[39m,\u001b[38;5;241m1\u001b[39m)\n",
      "Cell \u001b[1;32mIn[33], line 2\u001b[0m, in \u001b[0;36mcalculate_fraction\u001b[1;34m(x, y)\u001b[0m\n\u001b[0;32m      1\u001b[0m \u001b[38;5;28;01mdef\u001b[39;00m \u001b[38;5;21mcalculate_fraction\u001b[39m(x, y):\n\u001b[1;32m----> 2\u001b[0m     \u001b[38;5;28;01mreturn\u001b[39;00m x\u001b[38;5;241m/\u001b[39m(\u001b[38;5;241m1\u001b[39m\u001b[38;5;241m-\u001b[39my)\n",
      "\u001b[1;31mZeroDivisionError\u001b[0m: division by zero"
     ]
    }
   ],
   "source": [
    "calculate_fraction(2,1)"
   ]
  },
  {
   "cell_type": "markdown",
   "id": "67799252",
   "metadata": {},
   "source": [
    "Во втором случае значение **1** записалось в переменную **y** и при подстановке в дробь олучился 0, а на 0 делить нельзя -> ошибка."
   ]
  },
  {
   "cell_type": "code",
   "execution_count": 37,
   "id": "24c018f9",
   "metadata": {},
   "outputs": [
    {
     "data": {
      "text/plain": [
       "-1.0"
      ]
     },
     "execution_count": 37,
     "metadata": {},
     "output_type": "execute_result"
    }
   ],
   "source": [
    "calculate_fraction(y=2, x=1)"
   ]
  },
  {
   "cell_type": "markdown",
   "id": "ffa4e090",
   "metadata": {},
   "source": [
    "#### Произвольное количество позиционных аргументов, *args"
   ]
  },
  {
   "cell_type": "markdown",
   "id": "7fc8bd81",
   "metadata": {},
   "source": [
    "В тех случаях, когда заранее неизвестно  количество аргументов передаваемых функцию, необходимо добавить символ * перед именем параметра в определении функции. Таким образом, функция получит набор аргументов и сможет соответствующим образом обращаться к элементам.\n",
    "\n",
    "Обычно данный параметр записывают <b>*args</b>\n",
    "\n",
    "<b>*args</b> - ожидает аргументы переменной длины (при каждом вызове могут быть разными)"
   ]
  },
  {
   "cell_type": "code",
   "execution_count": 38,
   "id": "8caac8a8",
   "metadata": {},
   "outputs": [],
   "source": [
    "print?"
   ]
  },
  {
   "cell_type": "code",
   "execution_count": null,
   "id": "7d505605",
   "metadata": {},
   "outputs": [],
   "source": []
  },
  {
   "cell_type": "code",
   "execution_count": null,
   "id": "2f5c2402",
   "metadata": {},
   "outputs": [],
   "source": []
  },
  {
   "cell_type": "code",
   "execution_count": 41,
   "id": "68494a8c",
   "metadata": {},
   "outputs": [],
   "source": [
    "def accept_patients(doctor, *args):\n",
    "    print(f'Список пациентов для доктора {doctor}:')\n",
    "    print('-' * 20)\n",
    "    for el in args:\n",
    "        print(el)\n",
    "\n"
   ]
  },
  {
   "cell_type": "code",
   "execution_count": 42,
   "id": "a9fc4be1",
   "metadata": {},
   "outputs": [
    {
     "name": "stdout",
     "output_type": "stream",
     "text": [
      "Список пациентов для доктора Пархоменко:\n",
      "--------------------\n",
      "Васильев\n",
      "Петрова\n",
      "Лопатин\n"
     ]
    }
   ],
   "source": [
    "accept_patients(\"Пархоменко\",\"Васильев\", \"Петрова\", \"Лопатин\")"
   ]
  },
  {
   "cell_type": "code",
   "execution_count": 44,
   "id": "4e529d9f",
   "metadata": {},
   "outputs": [
    {
     "name": "stdout",
     "output_type": "stream",
     "text": [
      "Список пациентов для доктора Николаев:\n",
      "--------------------\n",
      "Иванов\n",
      "Слепов\n",
      "Вакутагин\n",
      "Кошкин\n"
     ]
    }
   ],
   "source": [
    "accept_patients(\"Николаев\",\"Иванов\", \"Слепов\", \"Вакутагин\",\"Кошкин\")"
   ]
  },
  {
   "cell_type": "code",
   "execution_count": 45,
   "id": "a2f66c50",
   "metadata": {},
   "outputs": [
    {
     "ename": "TypeError",
     "evalue": "accept_patients() missing 1 required keyword-only argument: 'doctor'",
     "output_type": "error",
     "traceback": [
      "\u001b[1;31m---------------------------------------------------------------------------\u001b[0m",
      "\u001b[1;31mTypeError\u001b[0m                                 Traceback (most recent call last)",
      "Cell \u001b[1;32mIn[45], line 7\u001b[0m\n\u001b[0;32m      4\u001b[0m     \u001b[38;5;28;01mfor\u001b[39;00m el \u001b[38;5;129;01min\u001b[39;00m args:\n\u001b[0;32m      5\u001b[0m         \u001b[38;5;28mprint\u001b[39m(el)\n\u001b[1;32m----> 7\u001b[0m accept_patients(\u001b[38;5;124m\"\u001b[39m\u001b[38;5;124mПархоменко\u001b[39m\u001b[38;5;124m\"\u001b[39m,\u001b[38;5;124m\"\u001b[39m\u001b[38;5;124mВасильев\u001b[39m\u001b[38;5;124m\"\u001b[39m, \u001b[38;5;124m\"\u001b[39m\u001b[38;5;124mПетрова\u001b[39m\u001b[38;5;124m\"\u001b[39m, \u001b[38;5;124m\"\u001b[39m\u001b[38;5;124mЛопатин\u001b[39m\u001b[38;5;124m\"\u001b[39m)\n",
      "\u001b[1;31mTypeError\u001b[0m: accept_patients() missing 1 required keyword-only argument: 'doctor'"
     ]
    }
   ],
   "source": [
    "def accept_patients(*args,doctor):\n",
    "    print(f'Список пациентов для доктора {doctor}:')\n",
    "    print('-'*20)\n",
    "    for el in args:\n",
    "        print(el)\n",
    "\n",
    "accept_patients(\"Пархоменко\",\"Васильев\", \"Петрова\", \"Лопатин\")"
   ]
  },
  {
   "cell_type": "code",
   "execution_count": 46,
   "id": "819527c6",
   "metadata": {},
   "outputs": [
    {
     "name": "stdout",
     "output_type": "stream",
     "text": [
      "Список пациентов для доктора Лопатин:\n",
      "--------------------\n",
      "Пархоменко\n",
      "Васильев\n",
      "Петрова\n"
     ]
    }
   ],
   "source": [
    "accept_patients(\"Пархоменко\",\"Васильев\", \"Петрова\", doctor=\"Лопатин\")"
   ]
  },
  {
   "cell_type": "markdown",
   "id": "fbbc01cd",
   "metadata": {},
   "source": [
    "**Python обрабатывает позиционные аргументы следующим образом:**\n",
    "\n",
    "подставляет обычные позиционные аргументы слева направо, а затем помещает остальные позиционные аргументы в кортеж (*args)\n",
    "\n",
    "В приведенном примере все элементы были **захвачены** в args и на долю параметра doctor аргументов на хватило. Требуется явно указывать ключевой параметр doctor и передавать значения."
   ]
  },
  {
   "cell_type": "markdown",
   "id": "e89b0104",
   "metadata": {},
   "source": [
    "#### Передача только позиционных аргументов"
   ]
  },
  {
   "cell_type": "markdown",
   "id": "85d0909f",
   "metadata": {},
   "source": [
    "Если требуется передавать в функцию аргументы **ТОЛЬКО** как позиционные, то при определении функции после всех позиционных параметров требуется указать символ **слэш** **/**"
   ]
  },
  {
   "cell_type": "code",
   "execution_count": 47,
   "id": "89ef1f0c",
   "metadata": {},
   "outputs": [],
   "source": [
    "def calculate_fraction(x, y,/):\n",
    "    return x/(1-y)"
   ]
  },
  {
   "cell_type": "code",
   "execution_count": 56,
   "id": "6f6390cb",
   "metadata": {},
   "outputs": [],
   "source": [
    "calculate_fraction?"
   ]
  },
  {
   "cell_type": "code",
   "execution_count": 48,
   "id": "5e2e091e",
   "metadata": {},
   "outputs": [
    {
     "data": {
      "text/plain": [
       "-1.0"
      ]
     },
     "execution_count": 48,
     "metadata": {},
     "output_type": "execute_result"
    }
   ],
   "source": [
    "calculate_fraction(1,2)"
   ]
  },
  {
   "cell_type": "code",
   "execution_count": 52,
   "id": "7836884b",
   "metadata": {},
   "outputs": [
    {
     "ename": "TypeError",
     "evalue": "calculate_fraction() got some positional-only arguments passed as keyword arguments: 'y'",
     "output_type": "error",
     "traceback": [
      "\u001b[1;31m---------------------------------------------------------------------------\u001b[0m",
      "\u001b[1;31mTypeError\u001b[0m                                 Traceback (most recent call last)",
      "Cell \u001b[1;32mIn[52], line 1\u001b[0m\n\u001b[1;32m----> 1\u001b[0m calculate_fraction(\u001b[38;5;241m1\u001b[39m,y\u001b[38;5;241m=\u001b[39m\u001b[38;5;241m2\u001b[39m)\n",
      "\u001b[1;31mTypeError\u001b[0m: calculate_fraction() got some positional-only arguments passed as keyword arguments: 'y'"
     ]
    }
   ],
   "source": [
    "calculate_fraction(1,y=2)"
   ]
  },
  {
   "cell_type": "markdown",
   "id": "a5cbad91",
   "metadata": {},
   "source": [
    "Здесь ошибка возникла, потому что указано **y=2** (ключевой аргумент), а это запрещено в определении функции."
   ]
  },
  {
   "cell_type": "code",
   "execution_count": 55,
   "id": "ae9786b5",
   "metadata": {
    "scrolled": true
   },
   "outputs": [
    {
     "name": "stdout",
     "output_type": "stream",
     "text": [
      "1-2-3\n"
     ]
    }
   ],
   "source": [
    "print(1,2,3,sep='-')"
   ]
  },
  {
   "cell_type": "code",
   "execution_count": null,
   "id": "8d67942d",
   "metadata": {},
   "outputs": [],
   "source": []
  },
  {
   "cell_type": "markdown",
   "id": "1f8922a4",
   "metadata": {},
   "source": [
    "\n",
    "### Ключевые аргументы"
   ]
  },
  {
   "cell_type": "markdown",
   "id": "e1802073",
   "metadata": {},
   "source": [
    "- передаются с указанием имени аргумента\n",
    "\n",
    "- могут передаваться в любом порядке\n"
   ]
  },
  {
   "cell_type": "markdown",
   "id": "8fed9590",
   "metadata": {},
   "source": [
    "Если указать имена параметров для всех аргументов, то можно вызывать функцию, расположив аргументы в любом порядке:"
   ]
  },
  {
   "cell_type": "code",
   "execution_count": 57,
   "id": "e2c8cd79",
   "metadata": {},
   "outputs": [
    {
     "name": "stdout",
     "output_type": "stream",
     "text": [
      "Пароль для пользователя mike прошел все проверки\n"
     ]
    },
    {
     "data": {
      "text/plain": [
       "True"
      ]
     },
     "execution_count": 57,
     "metadata": {},
     "output_type": "execute_result"
    }
   ],
   "source": [
    "check_passwd(min_length=3, username='mike', password='2345')"
   ]
  },
  {
   "cell_type": "markdown",
   "id": "110c381b",
   "metadata": {},
   "source": [
    "В приведенном примере все аргументы были переданы, как в ключевые."
   ]
  },
  {
   "cell_type": "markdown",
   "id": "f4af83c3",
   "metadata": {},
   "source": [
    "#### Передача только ключевых аргументов"
   ]
  },
  {
   "cell_type": "markdown",
   "id": "e1cf6262",
   "metadata": {},
   "source": [
    "Если требуется передавать в функцию аргументы **ТОЛЬКО** как **КЮЧЕВЫЕ**, то при определении функции после **ПЕРЕД** этими параметрами требуется указать символ звездочка <b>*</b>"
   ]
  },
  {
   "cell_type": "code",
   "execution_count": 58,
   "id": "05033b85",
   "metadata": {},
   "outputs": [],
   "source": [
    "def calculate_fraction(*,x, y):\n",
    "    return x/(1-y)"
   ]
  },
  {
   "cell_type": "markdown",
   "id": "e927074f",
   "metadata": {},
   "source": [
    "Так вызвать уже нельзя"
   ]
  },
  {
   "cell_type": "code",
   "execution_count": 59,
   "id": "b5be3c63",
   "metadata": {
    "scrolled": true
   },
   "outputs": [
    {
     "ename": "TypeError",
     "evalue": "calculate_fraction() takes 0 positional arguments but 2 were given",
     "output_type": "error",
     "traceback": [
      "\u001b[1;31m---------------------------------------------------------------------------\u001b[0m",
      "\u001b[1;31mTypeError\u001b[0m                                 Traceback (most recent call last)",
      "Cell \u001b[1;32mIn[59], line 1\u001b[0m\n\u001b[1;32m----> 1\u001b[0m calculate_fraction(\u001b[38;5;241m1\u001b[39m,\u001b[38;5;241m2\u001b[39m)\n",
      "\u001b[1;31mTypeError\u001b[0m: calculate_fraction() takes 0 positional arguments but 2 were given"
     ]
    }
   ],
   "source": [
    "calculate_fraction(1,2)"
   ]
  },
  {
   "cell_type": "markdown",
   "id": "88767a0b",
   "metadata": {},
   "source": [
    "Можно только так:"
   ]
  },
  {
   "cell_type": "code",
   "execution_count": 61,
   "id": "cd10a2a5",
   "metadata": {},
   "outputs": [
    {
     "data": {
      "text/plain": [
       "-1.0"
      ]
     },
     "execution_count": 61,
     "metadata": {},
     "output_type": "execute_result"
    }
   ],
   "source": [
    "calculate_fraction(y=2,x=1)"
   ]
  },
  {
   "cell_type": "markdown",
   "id": "653d6f52",
   "metadata": {},
   "source": [
    "#### Произвольное количество аргументов-ключевых слов **kwargs"
   ]
  },
  {
   "cell_type": "markdown",
   "id": "a6eb5646",
   "metadata": {},
   "source": [
    "Как и в случае с позиционными аргументами можно определять произвольное количество аргументов-ключевых. Параметр, который принимает ключевые аргументы переменной длины, создается добавлением перед именем параметра двух звездочек. Имя параметра может быть любым, чаще всего, используют имя <b>**kwargs</b> (от keyword arguments)."
   ]
  },
  {
   "cell_type": "code",
   "execution_count": 63,
   "id": "3ffcf8b4",
   "metadata": {},
   "outputs": [],
   "source": [
    "def sum_arg(a, **kwargs):\n",
    "    print(a, kwargs)\n",
    "    return a + sum(kwargs.values())"
   ]
  },
  {
   "cell_type": "code",
   "execution_count": 66,
   "id": "be44c32f",
   "metadata": {},
   "outputs": [
    {
     "name": "stdout",
     "output_type": "stream",
     "text": [
      "10 {'b': 10, 'c': 20, 'd': 30}\n"
     ]
    },
    {
     "data": {
      "text/plain": [
       "70"
      ]
     },
     "execution_count": 66,
     "metadata": {},
     "output_type": "execute_result"
    }
   ],
   "source": [
    "sum_arg(a=10, b=10, c=20, d=30)"
   ]
  },
  {
   "cell_type": "code",
   "execution_count": 67,
   "id": "9ceb29aa",
   "metadata": {},
   "outputs": [
    {
     "name": "stdout",
     "output_type": "stream",
     "text": [
      "10 {'b': 10, 'c': 20, 'd': 30}\n"
     ]
    },
    {
     "data": {
      "text/plain": [
       "70"
      ]
     },
     "execution_count": 67,
     "metadata": {},
     "output_type": "execute_result"
    }
   ],
   "source": [
    "sum_arg(10, b=10, c=20, d=30)"
   ]
  },
  {
   "cell_type": "code",
   "execution_count": null,
   "id": "af26be3a",
   "metadata": {},
   "outputs": [],
   "source": []
  },
  {
   "cell_type": "markdown",
   "id": "874e62ff",
   "metadata": {},
   "source": [
    "Функция sum_arg создана с двумя параметрами:\n",
    "\n",
    "- параметр a (если передается как позиционный аргумент, должен идти первым, если передается как ключевой аргумент, то порядок не важен)\n",
    "\n",
    "- параметр <b>**kwargs</b> - ожидает ключевые аргументы переменной длины, куда попадут все остальные ключевые аргументы в виде словаря. Эти аргументы могут отсутствовать"
   ]
  },
  {
   "cell_type": "code",
   "execution_count": 70,
   "id": "d2b51d5a",
   "metadata": {},
   "outputs": [
    {
     "name": "stdout",
     "output_type": "stream",
     "text": [
      "10 {'b': 10, 'c': 20, 'd': 30, 'k': 12, 'e': -10}\n"
     ]
    },
    {
     "data": {
      "text/plain": [
       "72"
      ]
     },
     "execution_count": 70,
     "metadata": {},
     "output_type": "execute_result"
    }
   ],
   "source": [
    "sum_arg(b=10, c=20, d=30, k=12, e=-10, a=10)"
   ]
  },
  {
   "cell_type": "code",
   "execution_count": 72,
   "id": "307093f1",
   "metadata": {},
   "outputs": [
    {
     "name": "stdout",
     "output_type": "stream",
     "text": [
      "15 {'b': 45}\n"
     ]
    },
    {
     "data": {
      "text/plain": [
       "60"
      ]
     },
     "execution_count": 72,
     "metadata": {},
     "output_type": "execute_result"
    }
   ],
   "source": [
    "sum_arg(15,b=45)"
   ]
  },
  {
   "cell_type": "markdown",
   "id": "111c02ff",
   "metadata": {},
   "source": [
    "### Комбинация позиционных и ключевых элементов"
   ]
  },
  {
   "cell_type": "markdown",
   "id": "7d5358fd",
   "metadata": {},
   "source": [
    "Можно комбинировать два типа аргументов в одной и той же функции.\n",
    "\n",
    "Любой аргумент перед символом / предназначен только для позиционных аргументов, а любой аргумент после символа * - только для ключевых слов."
   ]
  },
  {
   "cell_type": "code",
   "execution_count": 73,
   "id": "fdb94a5b",
   "metadata": {},
   "outputs": [
    {
     "name": "stdout",
     "output_type": "stream",
     "text": [
      "13\n"
     ]
    }
   ],
   "source": [
    "def my_function(a, b, /, *, c=0, d=0):\n",
    "    print(a + b + c + d)\n",
    "\n",
    "my_function(5, 6,c=1,d=1)"
   ]
  },
  {
   "cell_type": "code",
   "execution_count": 74,
   "id": "e7686b03",
   "metadata": {},
   "outputs": [
    {
     "ename": "SyntaxError",
     "evalue": "positional argument follows keyword argument (986585347.py, line 1)",
     "output_type": "error",
     "traceback": [
      "\u001b[1;36m  Cell \u001b[1;32mIn[74], line 1\u001b[1;36m\u001b[0m\n\u001b[1;33m    my_function(5, c = 7, d = 8, 6)\u001b[0m\n\u001b[1;37m                                  ^\u001b[0m\n\u001b[1;31mSyntaxError\u001b[0m\u001b[1;31m:\u001b[0m positional argument follows keyword argument\n"
     ]
    }
   ],
   "source": [
    "my_function(5, c = 7, d = 8, 6)"
   ]
  },
  {
   "cell_type": "code",
   "execution_count": 76,
   "id": "ac17281c",
   "metadata": {},
   "outputs": [
    {
     "name": "stdout",
     "output_type": "stream",
     "text": [
      "26\n"
     ]
    }
   ],
   "source": [
    "my_function(5, 6, d = 7, c = 8)"
   ]
  },
  {
   "cell_type": "markdown",
   "id": "ec906f81",
   "metadata": {},
   "source": [
    "**Ошибка:** позиционный аргумент **6** записан после ключевых"
   ]
  },
  {
   "cell_type": "markdown",
   "id": "33dae499",
   "metadata": {},
   "source": [
    "## Анонимная функция: лямбда"
   ]
  },
  {
   "cell_type": "markdown",
   "id": "dcd4bb4a",
   "metadata": {},
   "source": [
    "Лямбда-функция — это короткая однострочная функция, которой не имеет имени. \n",
    "\n",
    "Лямбда-функция может принимать любое количество аргументов, но может содержать только одно выражение.\n",
    "\n",
    "Такие выражения содержат лишь одну инструкцию, поэтому, например, if, for и while использовать нельзя. \n",
    "\n",
    "Синтаксис:\n",
    "\n",
    "<b>lambda</b> <em>arguments<em> : <em>expression<em>"
   ]
  },
  {
   "cell_type": "code",
   "execution_count": 127,
   "id": "7c80749f",
   "metadata": {},
   "outputs": [
    {
     "name": "stdout",
     "output_type": "stream",
     "text": [
      "15\n"
     ]
    }
   ],
   "source": [
    "# Добавить значение 10 к аргументу и вернуть результат\n",
    "x = lambda a: a + 10\n",
    "print(x(5))"
   ]
  },
  {
   "cell_type": "code",
   "execution_count": 128,
   "id": "d3eea06d",
   "metadata": {},
   "outputs": [
    {
     "data": {
      "text/plain": [
       "20"
      ]
     },
     "execution_count": 128,
     "metadata": {},
     "output_type": "execute_result"
    }
   ],
   "source": [
    "x(10)"
   ]
  },
  {
   "cell_type": "code",
   "execution_count": 129,
   "id": "5cba5f6c",
   "metadata": {},
   "outputs": [],
   "source": [
    "def add_10(a):\n",
    "    return a + 10"
   ]
  },
  {
   "cell_type": "code",
   "execution_count": 130,
   "id": "058e77cd",
   "metadata": {},
   "outputs": [
    {
     "data": {
      "text/plain": [
       "133"
      ]
     },
     "execution_count": 130,
     "metadata": {},
     "output_type": "execute_result"
    }
   ],
   "source": [
    "add_10(123)"
   ]
  },
  {
   "cell_type": "markdown",
   "id": "6302bc58",
   "metadata": {},
   "source": [
    "Функция является объектом, поэтому можно ее присвоить какой-нибудь переменной. В данном случае x. При вызове x c аргументом 5 данное значение записывается в параметр a и будет срабатывать иструкция 5 + 10. Возвращен результат 15."
   ]
  },
  {
   "cell_type": "code",
   "execution_count": 131,
   "id": "a552db7c",
   "metadata": {},
   "outputs": [
    {
     "name": "stdout",
     "output_type": "stream",
     "text": [
      "30\n"
     ]
    }
   ],
   "source": [
    "# Перемножить аргументы a и b и вернуть результат\n",
    "\n",
    "x1 = lambda a, b : a * b\n",
    "print(x1(5,6))"
   ]
  },
  {
   "cell_type": "code",
   "execution_count": 132,
   "id": "96cf09c4",
   "metadata": {},
   "outputs": [],
   "source": [
    "def mul_num(x,y):\n",
    "    return x * y"
   ]
  },
  {
   "cell_type": "code",
   "execution_count": 133,
   "id": "01e20715",
   "metadata": {},
   "outputs": [
    {
     "name": "stdout",
     "output_type": "stream",
     "text": [
      "30\n"
     ]
    }
   ],
   "source": [
    "print(mul_num(5,6))"
   ]
  },
  {
   "cell_type": "code",
   "execution_count": null,
   "id": "53e1cd7d",
   "metadata": {},
   "outputs": [],
   "source": []
  },
  {
   "cell_type": "markdown",
   "id": "42285a7e",
   "metadata": {},
   "source": [
    "Создать lambda-функцию, возвращающую первый и последний символ строки "
   ]
  },
  {
   "cell_type": "code",
   "execution_count": 61,
   "id": "e8f84f1a",
   "metadata": {
    "scrolled": false
   },
   "outputs": [
    {
     "name": "stdout",
     "output_type": "stream",
     "text": [
      "Jr\n"
     ]
    }
   ],
   "source": [
    "f = lambda x: x[0] + x[-1]\n",
    "print(f('Jupyter'))"
   ]
  },
  {
   "cell_type": "code",
   "execution_count": 134,
   "id": "31a03de1",
   "metadata": {},
   "outputs": [
    {
     "name": "stdout",
     "output_type": "stream",
     "text": [
      "8\n"
     ]
    }
   ],
   "source": [
    "print(f([2,3,4,5,6]))"
   ]
  },
  {
   "cell_type": "code",
   "execution_count": 62,
   "id": "8d5c8759",
   "metadata": {},
   "outputs": [
    {
     "ename": "TypeError",
     "evalue": "unsupported operand type(s) for +: 'int' and 'str'",
     "output_type": "error",
     "traceback": [
      "\u001b[1;31m---------------------------------------------------------------------------\u001b[0m",
      "\u001b[1;31mTypeError\u001b[0m                                 Traceback (most recent call last)",
      "Cell \u001b[1;32mIn [62], line 1\u001b[0m\n\u001b[1;32m----> 1\u001b[0m \u001b[38;5;28mprint\u001b[39m(\u001b[43mf\u001b[49m\u001b[43m(\u001b[49m\u001b[43m[\u001b[49m\u001b[38;5;241;43m2\u001b[39;49m\u001b[43m,\u001b[49m\u001b[38;5;241;43m3\u001b[39;49m\u001b[43m,\u001b[49m\u001b[38;5;241;43m4\u001b[39;49m\u001b[43m,\u001b[49m\u001b[38;5;241;43m5\u001b[39;49m\u001b[43m,\u001b[49m\u001b[38;5;124;43m'\u001b[39;49m\u001b[38;5;124;43ma\u001b[39;49m\u001b[38;5;124;43m'\u001b[39;49m\u001b[43m]\u001b[49m\u001b[43m)\u001b[49m)\n",
      "Cell \u001b[1;32mIn [61], line 1\u001b[0m, in \u001b[0;36m<lambda>\u001b[1;34m(x)\u001b[0m\n\u001b[1;32m----> 1\u001b[0m f \u001b[38;5;241m=\u001b[39m \u001b[38;5;28;01mlambda\u001b[39;00m x: \u001b[43mx\u001b[49m\u001b[43m[\u001b[49m\u001b[38;5;241;43m0\u001b[39;49m\u001b[43m]\u001b[49m\u001b[43m \u001b[49m\u001b[38;5;241;43m+\u001b[39;49m\u001b[43m \u001b[49m\u001b[43mx\u001b[49m\u001b[43m[\u001b[49m\u001b[38;5;241;43m-\u001b[39;49m\u001b[38;5;241;43m1\u001b[39;49m\u001b[43m]\u001b[49m\n\u001b[0;32m      2\u001b[0m \u001b[38;5;28mprint\u001b[39m(f(\u001b[38;5;124m'\u001b[39m\u001b[38;5;124mJupyter\u001b[39m\u001b[38;5;124m'\u001b[39m))\n",
      "\u001b[1;31mTypeError\u001b[0m: unsupported operand type(s) for +: 'int' and 'str'"
     ]
    }
   ],
   "source": [
    "print(f([2,3,4,5,'a']))"
   ]
  },
  {
   "cell_type": "markdown",
   "id": "9c1f810e",
   "metadata": {},
   "source": [
    "## Примеры работы с функциями"
   ]
  },
  {
   "cell_type": "markdown",
   "id": "ddb00750",
   "metadata": {},
   "source": [
    "### Площадь треугольника"
   ]
  },
  {
   "cell_type": "markdown",
   "id": "0c4fa2aa",
   "metadata": {},
   "source": [
    "a) Создать скрипт для вычисления площади треугольника по трем сторонам"
   ]
  },
  {
   "cell_type": "markdown",
   "id": "5a3736c0",
   "metadata": {},
   "source": [
    "б) Создать скрипт, определяющий количество переданных аргументов и вычисляющий площадь треугольника по следующему принципу:\n",
    "\n",
    "3 аргумента - формула Герона\n",
    "2 аргумента - половина основания на высоту"
   ]
  },
  {
   "cell_type": "markdown",
   "id": "7e4cebcf",
   "metadata": {},
   "source": [
    "Площадь треугольника по известным 3 сторонам вычисляется по формуле Герона:"
   ]
  },
  {
   "attachments": {
    "image.png": {
     "image/png": "[encoded data removed]"
    }
   },
   "cell_type": "markdown",
   "id": "e4006b73",
   "metadata": {},
   "source": [
    "![image.png](attachment:image.png)"
   ]
  },
  {
   "cell_type": "markdown",
   "id": "4a6280e6",
   "metadata": {},
   "source": [
    "На вход функции подаются значения сторон a,b,c. Функция должна вернуть значение площади."
   ]
  },
  {
   "cell_type": "code",
   "execution_count": 83,
   "id": "d39abb36",
   "metadata": {},
   "outputs": [],
   "source": [
    "def calc_area_triangle(a,b,c):\n",
    "    if a + b > c and a + c > b and c + b > a:\n",
    "        p = (a + b + c) / 2\n",
    "        s = (p * (p - a) * (p - b) * (p - c)) ** (1 / 2)\n",
    "    else:\n",
    "        s = 0\n",
    "    return round(s, 2)"
   ]
  },
  {
   "cell_type": "code",
   "execution_count": 89,
   "id": "cacc6dd8",
   "metadata": {},
   "outputs": [
    {
     "name": "stdout",
     "output_type": "stream",
     "text": [
      "6.0\n"
     ]
    }
   ],
   "source": [
    "a = 3\n",
    "b = 4\n",
    "c = 5\n",
    "print(calc_area_triangle(a,b,c))"
   ]
  },
  {
   "cell_type": "code",
   "execution_count": 90,
   "id": "4bb0c9d8",
   "metadata": {},
   "outputs": [
    {
     "name": "stdout",
     "output_type": "stream",
     "text": [
      "Площадь равна 6.0\n"
     ]
    }
   ],
   "source": [
    "area_tr1 =  calc_area_triangle(a,b,c)\n",
    "if area_tr1:\n",
    "    print(f'Площадь равна {area_tr1}')\n",
    "else:\n",
    "    print(f'Треугольник не существует')"
   ]
  },
  {
   "cell_type": "code",
   "execution_count": 98,
   "id": "c7313b9e",
   "metadata": {},
   "outputs": [],
   "source": [
    "def calc_area_triangle2(*args):\n",
    "    \"\"\"\n",
    "    Вычисление площади треуголника\n",
    "    ...\n",
    "    \"\"\"\n",
    "    # Вычисление по трем сторонам\n",
    "    if len(args) == 3:\n",
    "        a, b, c = args\n",
    "        if a + b > c and a + c > b and c + b > a:\n",
    "            p = (a + b + c) / 2\n",
    "            s = (p * (p - a) * (p - b) * (p - c)) ** (1 / 2)\n",
    "        else:\n",
    "            print('Треугольника не существует')\n",
    "            s = 0\n",
    "        return round(s, 2)\n",
    "    \n",
    "    # Вычисление по основанию и высоте\n",
    "    elif len(args) == 2:\n",
    "        return round(1 / 2 * args[0] * args[1], 2)\n",
    "    \n",
    "    # Остальные варианты\n",
    "    else:\n",
    "        print('Неправильное количество аргументов')\n",
    "        return 0"
   ]
  },
  {
   "cell_type": "code",
   "execution_count": 104,
   "id": "c2848d73",
   "metadata": {},
   "outputs": [
    {
     "name": "stdout",
     "output_type": "stream",
     "text": [
      "Треугольника не существует\n"
     ]
    },
    {
     "data": {
      "text/plain": [
       "0"
      ]
     },
     "execution_count": 104,
     "metadata": {},
     "output_type": "execute_result"
    }
   ],
   "source": [
    "a = 3\n",
    "b = 4\n",
    "c = 5\n",
    "calc_area_triangle2(a,b,10)"
   ]
  },
  {
   "cell_type": "code",
   "execution_count": 100,
   "id": "cb26f60c",
   "metadata": {},
   "outputs": [
    {
     "data": {
      "text/plain": [
       "6.0"
      ]
     },
     "execution_count": 100,
     "metadata": {},
     "output_type": "execute_result"
    }
   ],
   "source": [
    "calc_area_triangle2(a,b)"
   ]
  },
  {
   "cell_type": "code",
   "execution_count": 101,
   "id": "ca485ebd",
   "metadata": {},
   "outputs": [
    {
     "data": {
      "text/plain": [
       "10.0"
      ]
     },
     "execution_count": 101,
     "metadata": {},
     "output_type": "execute_result"
    }
   ],
   "source": [
    "calc_area_triangle2(b,c)"
   ]
  },
  {
   "cell_type": "code",
   "execution_count": 102,
   "id": "69423af2",
   "metadata": {},
   "outputs": [
    {
     "name": "stdout",
     "output_type": "stream",
     "text": [
      "Неправильное количество аргументов\n"
     ]
    },
    {
     "data": {
      "text/plain": [
       "0"
      ]
     },
     "execution_count": 102,
     "metadata": {},
     "output_type": "execute_result"
    }
   ],
   "source": [
    "calc_area_triangle2(b)"
   ]
  },
  {
   "cell_type": "code",
   "execution_count": 103,
   "id": "f644d6ca",
   "metadata": {},
   "outputs": [
    {
     "name": "stdout",
     "output_type": "stream",
     "text": [
      "Неправильное количество аргументов\n"
     ]
    },
    {
     "data": {
      "text/plain": [
       "0"
      ]
     },
     "execution_count": 103,
     "metadata": {},
     "output_type": "execute_result"
    }
   ],
   "source": [
    "calc_area_triangle2(a,a,b,c)"
   ]
  },
  {
   "cell_type": "code",
   "execution_count": null,
   "id": "1e810608",
   "metadata": {},
   "outputs": [],
   "source": []
  },
  {
   "cell_type": "code",
   "execution_count": null,
   "id": "15c59e1a",
   "metadata": {},
   "outputs": [],
   "source": []
  },
  {
   "cell_type": "code",
   "execution_count": null,
   "id": "1c7347b4",
   "metadata": {},
   "outputs": [],
   "source": []
  },
  {
   "cell_type": "markdown",
   "id": "5605f638",
   "metadata": {},
   "source": [
    "### Сторона треугольника"
   ]
  },
  {
   "cell_type": "markdown",
   "id": "edae7dfb",
   "metadata": {},
   "source": [
    "Получить третью сторону прямоугольного треугольника из двух заданных сторон"
   ]
  },
  {
   "cell_type": "code",
   "execution_count": null,
   "id": "bc6381fa",
   "metadata": {},
   "outputs": [],
   "source": []
  },
  {
   "cell_type": "code",
   "execution_count": null,
   "id": "ba608ed5",
   "metadata": {},
   "outputs": [],
   "source": []
  },
  {
   "cell_type": "markdown",
   "id": "695bb692",
   "metadata": {},
   "source": [
    "### Уникальные числа"
   ]
  },
  {
   "cell_type": "markdown",
   "id": "dfe88d2f",
   "metadata": {},
   "source": [
    "Создать функцию, которая принимает последовательность чисел и определяет, отличаются ли они все друг от друга"
   ]
  },
  {
   "cell_type": "code",
   "execution_count": 119,
   "id": "2217872b",
   "metadata": {},
   "outputs": [],
   "source": [
    "def is_unique(*args):\n",
    "    for el in args:\n",
    "        print(el)\n",
    "    return len(set(args)) == len(args)   "
   ]
  },
  {
   "cell_type": "code",
   "execution_count": 120,
   "id": "b50a8996",
   "metadata": {},
   "outputs": [
    {
     "name": "stdout",
     "output_type": "stream",
     "text": [
      "1\n",
      "2\n",
      "3\n",
      "3\n",
      "2\n",
      "1\n",
      "False\n"
     ]
    }
   ],
   "source": [
    "print(is_unique(1,2,3,3,2,1))"
   ]
  },
  {
   "cell_type": "code",
   "execution_count": 121,
   "id": "76fd0178",
   "metadata": {},
   "outputs": [
    {
     "name": "stdout",
     "output_type": "stream",
     "text": [
      "1\n",
      "2\n",
      "3\n",
      "True\n"
     ]
    }
   ],
   "source": [
    "print(is_unique(1,2,3))"
   ]
  },
  {
   "cell_type": "code",
   "execution_count": 122,
   "id": "938e4d25",
   "metadata": {},
   "outputs": [],
   "source": [
    "a = [1,2,3,4,5,3,2]"
   ]
  },
  {
   "cell_type": "code",
   "execution_count": 123,
   "id": "fcf2f0b8",
   "metadata": {},
   "outputs": [
    {
     "name": "stdout",
     "output_type": "stream",
     "text": [
      "[1, 2, 3, 4, 5, 3, 2]\n"
     ]
    },
    {
     "ename": "TypeError",
     "evalue": "unhashable type: 'list'",
     "output_type": "error",
     "traceback": [
      "\u001b[1;31m---------------------------------------------------------------------------\u001b[0m",
      "\u001b[1;31mTypeError\u001b[0m                                 Traceback (most recent call last)",
      "Cell \u001b[1;32mIn[123], line 1\u001b[0m\n\u001b[1;32m----> 1\u001b[0m \u001b[38;5;28mprint\u001b[39m(is_unique(a))\n",
      "Cell \u001b[1;32mIn[119], line 4\u001b[0m, in \u001b[0;36mis_unique\u001b[1;34m(*args)\u001b[0m\n\u001b[0;32m      2\u001b[0m \u001b[38;5;28;01mfor\u001b[39;00m el \u001b[38;5;129;01min\u001b[39;00m args:\n\u001b[0;32m      3\u001b[0m     \u001b[38;5;28mprint\u001b[39m(el)\n\u001b[1;32m----> 4\u001b[0m \u001b[38;5;28;01mreturn\u001b[39;00m \u001b[38;5;28mlen\u001b[39m(\u001b[38;5;28mset\u001b[39m(args)) \u001b[38;5;241m==\u001b[39m \u001b[38;5;28mlen\u001b[39m(args)\n",
      "\u001b[1;31mTypeError\u001b[0m: unhashable type: 'list'"
     ]
    }
   ],
   "source": [
    "print(is_unique(a))"
   ]
  },
  {
   "cell_type": "code",
   "execution_count": 124,
   "id": "2a4c708a",
   "metadata": {},
   "outputs": [
    {
     "name": "stdout",
     "output_type": "stream",
     "text": [
      "(1, 2, 3, 4, 5, 3, 2)\n",
      "True\n"
     ]
    }
   ],
   "source": [
    "print(is_unique(tuple(a)))"
   ]
  },
  {
   "cell_type": "code",
   "execution_count": 125,
   "id": "d046347e",
   "metadata": {},
   "outputs": [
    {
     "name": "stdout",
     "output_type": "stream",
     "text": [
      "1 2 3 4 5 3 2\n"
     ]
    }
   ],
   "source": [
    "print(*a)"
   ]
  },
  {
   "cell_type": "code",
   "execution_count": 126,
   "id": "af938a27",
   "metadata": {},
   "outputs": [
    {
     "name": "stdout",
     "output_type": "stream",
     "text": [
      "1\n",
      "2\n",
      "3\n",
      "4\n",
      "5\n",
      "3\n",
      "2\n",
      "False\n"
     ]
    }
   ],
   "source": [
    "print(is_unique(*a))"
   ]
  },
  {
   "cell_type": "code",
   "execution_count": null,
   "id": "08541692",
   "metadata": {},
   "outputs": [],
   "source": []
  },
  {
   "cell_type": "code",
   "execution_count": null,
   "id": "29803a0a",
   "metadata": {},
   "outputs": [],
   "source": []
  },
  {
   "cell_type": "markdown",
   "id": "434d7aa6",
   "metadata": {},
   "source": [
    "### Площадь круга (lambda)"
   ]
  },
  {
   "cell_type": "markdown",
   "id": "0f1fb521",
   "metadata": {},
   "source": [
    "Найти площадь круга произвольного радиуса r"
   ]
  },
  {
   "cell_type": "code",
   "execution_count": 156,
   "id": "16b57da1",
   "metadata": {},
   "outputs": [],
   "source": [
    "import math\n",
    "import random\n"
   ]
  },
  {
   "cell_type": "code",
   "execution_count": 159,
   "id": "c5d684ed",
   "metadata": {},
   "outputs": [
    {
     "name": "stdout",
     "output_type": "stream",
     "text": [
      "6\n",
      "<function <lambda> at 0x00000252E8A48AE0>\n",
      "113.09733552923255\n"
     ]
    }
   ],
   "source": [
    "r = random.randint(1,10)\n",
    "print(r)\n",
    "ar_c = lambda r: math.pi * r * r\n",
    "print(ar_c)\n",
    "print(ar_c(r))"
   ]
  },
  {
   "cell_type": "code",
   "execution_count": 160,
   "id": "ff4ecdcd",
   "metadata": {},
   "outputs": [
    {
     "name": "stdout",
     "output_type": "stream",
     "text": [
      "[1, 2, 3, 4, 5, 6, 7, 8, 9, 10]\n",
      "3.141592653589793\n",
      "12.566370614359172\n",
      "28.274333882308138\n",
      "50.26548245743669\n",
      "78.53981633974483\n",
      "113.09733552923255\n",
      "153.93804002589985\n",
      "201.06192982974676\n",
      "254.46900494077323\n",
      "314.1592653589793\n"
     ]
    }
   ],
   "source": [
    "r_lst = list(range(1,11))\n",
    "print(r_lst)\n",
    "for r in r_lst:\n",
    "    print(ar_c(r))"
   ]
  },
  {
   "cell_type": "markdown",
   "id": "cb2dddf4",
   "metadata": {},
   "source": [
    "### ФИО"
   ]
  },
  {
   "cell_type": "markdown",
   "id": "c4e55f2c",
   "metadata": {},
   "source": [
    "В файле \"сотрудники.txt\" приведен спиок сотрудников отдела. Написать спкрипт, формирующий новый файл с фамилиями и инициалами сотрудников для сдачи теста по Технике безопасности."
   ]
  },
  {
   "cell_type": "code",
   "execution_count": 178,
   "id": "273be644",
   "metadata": {},
   "outputs": [],
   "source": [
    "def create_list(input_file,output_file, rnd = False):\n",
    "    import random\n",
    "    staff_lst = []\n",
    "    with open(input_file, 'r', encoding='utf-8') as f:\n",
    "        for line in f:\n",
    "            staff_lst.append(line[:-1])\n",
    "    if rnd:\n",
    "        random.shuffle(staff_lst)\n",
    "        \n",
    "    with open(output_file,'w',encoding='utf-8') as f1:\n",
    "        for st in staff_lst:\n",
    "            f,i,o = st.split()\n",
    "            f1.write(f'{f} {i[0]}.{o[0]}.\\n')\n"
   ]
  },
  {
   "cell_type": "code",
   "execution_count": 179,
   "id": "b411afc4",
   "metadata": {},
   "outputs": [],
   "source": [
    "create_list('сотрудники.txt','тб.txt')"
   ]
  },
  {
   "cell_type": "code",
   "execution_count": 180,
   "id": "e957a32c",
   "metadata": {},
   "outputs": [],
   "source": [
    "create_list('сотрудники.txt','нг.txt',rnd=True)"
   ]
  },
  {
   "cell_type": "code",
   "execution_count": null,
   "id": "5f72dc2e",
   "metadata": {},
   "outputs": [],
   "source": []
  },
  {
   "cell_type": "code",
   "execution_count": null,
   "id": "30b50c5b",
   "metadata": {},
   "outputs": [],
   "source": []
  },
  {
   "cell_type": "code",
   "execution_count": null,
   "id": "10fa545e",
   "metadata": {},
   "outputs": [],
   "source": []
  }
 ],
 "metadata": {
  "kernelspec": {
   "display_name": "Python 3 (ipykernel)",
   "language": "python",
   "name": "python3"
  },
  "language_info": {
   "codemirror_mode": {
    "name": "ipython",
    "version": 3
   },
   "file_extension": ".py",
   "mimetype": "text/x-python",
   "name": "python",
   "nbconvert_exporter": "python",
   "pygments_lexer": "ipython3",
   "version": "3.11.5"
  },
  "toc": {
   "base_numbering": 1,
   "nav_menu": {},
   "number_sections": true,
   "sideBar": true,
   "skip_h1_title": false,
   "title_cell": "Table of Contents",
   "title_sidebar": "Contents",
   "toc_cell": false,
   "toc_position": {},
   "toc_section_display": true,
   "toc_window_display": false
  }
 },
 "nbformat": 4,
 "nbformat_minor": 5
}
