{
 "cells": [
  {
   "cell_type": "code",
   "execution_count": 1,
   "id": "82244f5d",
   "metadata": {},
   "outputs": [
    {
     "name": "stdout",
     "output_type": "stream",
     "text": [
      "The Zen of Python, by Tim Peters\n",
      "\n",
      "Beautiful is better than ugly.\n",
      "Explicit is better than implicit.\n",
      "Simple is better than complex.\n",
      "Complex is better than complicated.\n",
      "Flat is better than nested.\n",
      "Sparse is better than dense.\n",
      "Readability counts.\n",
      "Special cases aren't special enough to break the rules.\n",
      "Although practicality beats purity.\n",
      "Errors should never pass silently.\n",
      "Unless explicitly silenced.\n",
      "In the face of ambiguity, refuse the temptation to guess.\n",
      "There should be one-- and preferably only one --obvious way to do it.\n",
      "Although that way may not be obvious at first unless you're Dutch.\n",
      "Now is better than never.\n",
      "Although never is often better than *right* now.\n",
      "If the implementation is hard to explain, it's a bad idea.\n",
      "If the implementation is easy to explain, it may be a good idea.\n",
      "Namespaces are one honking great idea -- let's do more of those!\n"
     ]
    }
   ],
   "source": [
    "import this"
   ]
  },
  {
   "cell_type": "markdown",
   "id": "ef412548",
   "metadata": {},
   "source": [
    "# Модуль OS"
   ]
  },
  {
   "cell_type": "code",
   "execution_count": 2,
   "id": "6f01dfab",
   "metadata": {},
   "outputs": [],
   "source": [
    "import os"
   ]
  },
  {
   "cell_type": "markdown",
   "id": "b114fcf3",
   "metadata": {},
   "source": [
    "### Получение информации об ОС"
   ]
  },
  {
   "cell_type": "markdown",
   "id": "065048b8",
   "metadata": {},
   "source": [
    "#### Название операционной системы"
   ]
  },
  {
   "cell_type": "code",
   "execution_count": 4,
   "id": "f263d57e",
   "metadata": {
    "scrolled": true
   },
   "outputs": [
    {
     "data": {
      "text/plain": [
       "'nt'"
      ]
     },
     "execution_count": 4,
     "metadata": {},
     "output_type": "execute_result"
    }
   ],
   "source": [
    "os.name"
   ]
  },
  {
   "cell_type": "markdown",
   "id": "1af49664",
   "metadata": {},
   "source": [
    "#### Переменная окружения"
   ]
  },
  {
   "cell_type": "markdown",
   "id": "c225e5ac",
   "metadata": {},
   "source": [
    "Возвращается словарь с переменными окружения, который выводится в консоль или строковую переменную. позволяющий узнать название системного диска, адрес домашней директории, имя системы и массу другой информации."
   ]
  },
  {
   "cell_type": "code",
   "execution_count": 31,
   "id": "4bb07dec",
   "metadata": {},
   "outputs": [
    {
     "data": {
      "text/plain": [
       "environ{'ALLUSERSPROFILE': 'C:\\\\ProgramData',\n",
       "        'APPDATA': 'C:\\\\Users\\\\Admin\\\\AppData\\\\Roaming',\n",
       "        'COMMONPROGRAMFILES': 'C:\\\\Program Files\\\\Common Files',\n",
       "        'COMMONPROGRAMFILES(X86)': 'C:\\\\Program Files (x86)\\\\Common Files',\n",
       "        'COMMONPROGRAMW6432': 'C:\\\\Program Files\\\\Common Files',\n",
       "        'COMPUTERNAME': 'DESKTOP-4A983UC',\n",
       "        'COMSPEC': 'C:\\\\WINDOWS\\\\system32\\\\cmd.exe',\n",
       "        'DRIVERDATA': 'C:\\\\Windows\\\\System32\\\\Drivers\\\\DriverData',\n",
       "        'FPS_BROWSER_APP_PROFILE_STRING': 'Internet Explorer',\n",
       "        'FPS_BROWSER_USER_PROFILE_STRING': 'Default',\n",
       "        'HOMEDRIVE': 'C:',\n",
       "        'HOMEPATH': '\\\\Users\\\\Admin',\n",
       "        'LOCALAPPDATA': 'C:\\\\Users\\\\Admin\\\\AppData\\\\Local',\n",
       "        'LOGONSERVER': '\\\\\\\\DESKTOP-4A983UC',\n",
       "        'NUMBER_OF_PROCESSORS': '8',\n",
       "        'ONEDRIVE': 'C:\\\\Users\\\\Admin\\\\OneDrive',\n",
       "        'OS': 'Windows_NT',\n",
       "        'PATH': 'C:\\\\WINDOWS\\\\system32;C:\\\\WINDOWS;C:\\\\WINDOWS\\\\System32\\\\Wbem;C:\\\\WINDOWS\\\\System32\\\\WindowsPowerShell\\\\v1.0\\\\;C:\\\\Users\\\\Admin\\\\AppData\\\\Local\\\\Programs\\\\Python\\\\Python38\\\\Scripts\\\\;C:\\\\Users\\\\Admin\\\\AppData\\\\Local\\\\Programs\\\\Python\\\\Python38\\\\;C:\\\\WINDOWS\\\\System32\\\\OpenSSH\\\\;C:\\\\Program Files\\\\Git\\\\cmd;C:\\\\Program Files\\\\dotnet\\\\;C:\\\\Program Files\\\\Microsoft SQL Server\\\\120\\\\Tools\\\\Binn\\\\;\"C:\\\\Python\\\\Anaconda3;C:\\\\Python\\\\Anaconda3\\\\Scripts; C:\\\\Python\\\\Anaconda3\\\\Library\\\\bin;\";C:\\\\Program Files\\\\geckodriver-v0.33.0-win64\\\\;C:\\\\Users\\\\Admin\\\\AppData\\\\Local\\\\Yandex\\\\YandexBrowser\\\\Application\\\\;C:\\\\msys64\\\\ucrt64\\\\bin;C:\\\\Users\\\\Admin\\\\AppData\\\\Local\\\\Programs\\\\Python\\\\Python311\\\\Scripts\\\\;C:\\\\Users\\\\Admin\\\\AppData\\\\Local\\\\Programs\\\\Python\\\\Python311\\\\;C:\\\\Users\\\\Admin\\\\AppData\\\\Local\\\\Programs\\\\Python\\\\Python38\\\\Scripts\\\\;C:\\\\Users\\\\Admin\\\\AppData\\\\Local\\\\Programs\\\\Python\\\\Python38\\\\;C:\\\\Users\\\\Admin\\\\AppData\\\\Local\\\\Microsoft\\\\WindowsApps;;C:\\\\Users\\\\Admin\\\\AppData\\\\Local\\\\Programs\\\\Microsoft VS Code\\\\bin;C:\\\\Program Files\\\\JetBrains\\\\PyCharm Community Edition 2023.2.2\\\\bin;',\n",
       "        'PATHEXT': '.COM;.EXE;.BAT;.CMD;.VBS;.VBE;.JS;.JSE;.WSF;.WSH;.MSC',\n",
       "        'PROCESSOR_ARCHITECTURE': 'AMD64',\n",
       "        'PROCESSOR_IDENTIFIER': 'Intel64 Family 6 Model 42 Stepping 7, GenuineIntel',\n",
       "        'PROCESSOR_LEVEL': '6',\n",
       "        'PROCESSOR_REVISION': '2a07',\n",
       "        'PROGRAMDATA': 'C:\\\\ProgramData',\n",
       "        'PROGRAMFILES': 'C:\\\\Program Files',\n",
       "        'PROGRAMFILES(X86)': 'C:\\\\Program Files (x86)',\n",
       "        'PROGRAMW6432': 'C:\\\\Program Files',\n",
       "        'PROMPT': '$P$G',\n",
       "        'PSMODULEPATH': 'C:\\\\Program Files\\\\WindowsPowerShell\\\\Modules;C:\\\\WINDOWS\\\\system32\\\\WindowsPowerShell\\\\v1.0\\\\Modules',\n",
       "        'PT8HOME': 'C:\\\\Program Files\\\\Cisco Packet Tracer 8.0.1',\n",
       "        'PUBLIC': 'C:\\\\Users\\\\Public',\n",
       "        'PYCHARM COMMUNITY EDITION': 'C:\\\\Program Files\\\\JetBrains\\\\PyCharm Community Edition 2023.2.2\\\\bin;',\n",
       "        'QT_DEVICE_PIXEL_RATIO': 'auto',\n",
       "        'SESSIONNAME': 'Console',\n",
       "        'SYSTEMDRIVE': 'C:',\n",
       "        'SYSTEMROOT': 'C:\\\\WINDOWS',\n",
       "        'TEMP': 'C:\\\\Users\\\\Admin\\\\AppData\\\\Local\\\\Temp',\n",
       "        'TMP': 'C:\\\\Users\\\\Admin\\\\AppData\\\\Local\\\\Temp',\n",
       "        'USERDOMAIN': 'DESKTOP-4A983UC',\n",
       "        'USERDOMAIN_ROAMINGPROFILE': 'DESKTOP-4A983UC',\n",
       "        'USERNAME': 'Admin',\n",
       "        'USERPROFILE': 'C:\\\\Users\\\\Admin',\n",
       "        'VBOX_MSI_INSTALL_PATH': 'C:\\\\Program Files\\\\Oracle\\\\VirtualBox\\\\',\n",
       "        'WINDIR': 'C:\\\\WINDOWS',\n",
       "        'PYDEVD_USE_FRAME_EVAL': 'NO',\n",
       "        'JPY_INTERRUPT_EVENT': '960',\n",
       "        'IPY_INTERRUPT_EVENT': '960',\n",
       "        'JPY_PARENT_PID': '2412',\n",
       "        'TERM': 'xterm-color',\n",
       "        'CLICOLOR': '1',\n",
       "        'FORCE_COLOR': '1',\n",
       "        'CLICOLOR_FORCE': '1',\n",
       "        'PAGER': 'cat',\n",
       "        'GIT_PAGER': 'cat',\n",
       "        'MPLBACKEND': 'module://matplotlib_inline.backend_inline'}"
      ]
     },
     "execution_count": 31,
     "metadata": {},
     "output_type": "execute_result"
    }
   ],
   "source": [
    "os.environ"
   ]
  },
  {
   "cell_type": "markdown",
   "id": "c2179acb",
   "metadata": {},
   "source": [
    "#### Получение значения переменной окружения"
   ]
  },
  {
   "cell_type": "markdown",
   "id": "a78150c0",
   "metadata": {},
   "source": [
    "Метод os.getenv() возвращает значение переменной окружения"
   ]
  },
  {
   "cell_type": "code",
   "execution_count": 32,
   "id": "f429b075",
   "metadata": {},
   "outputs": [
    {
     "data": {
      "text/plain": [
       "'C:\\\\WINDOWS\\\\system32;C:\\\\WINDOWS;C:\\\\WINDOWS\\\\System32\\\\Wbem;C:\\\\WINDOWS\\\\System32\\\\WindowsPowerShell\\\\v1.0\\\\;C:\\\\Users\\\\Admin\\\\AppData\\\\Local\\\\Programs\\\\Python\\\\Python38\\\\Scripts\\\\;C:\\\\Users\\\\Admin\\\\AppData\\\\Local\\\\Programs\\\\Python\\\\Python38\\\\;C:\\\\WINDOWS\\\\System32\\\\OpenSSH\\\\;C:\\\\Program Files\\\\Git\\\\cmd;C:\\\\Program Files\\\\dotnet\\\\;C:\\\\Program Files\\\\Microsoft SQL Server\\\\120\\\\Tools\\\\Binn\\\\;\"C:\\\\Python\\\\Anaconda3;C:\\\\Python\\\\Anaconda3\\\\Scripts; C:\\\\Python\\\\Anaconda3\\\\Library\\\\bin;\";C:\\\\Program Files\\\\geckodriver-v0.33.0-win64\\\\;C:\\\\Users\\\\Admin\\\\AppData\\\\Local\\\\Yandex\\\\YandexBrowser\\\\Application\\\\;C:\\\\msys64\\\\ucrt64\\\\bin;C:\\\\Users\\\\Admin\\\\AppData\\\\Local\\\\Programs\\\\Python\\\\Python311\\\\Scripts\\\\;C:\\\\Users\\\\Admin\\\\AppData\\\\Local\\\\Programs\\\\Python\\\\Python311\\\\;C:\\\\Users\\\\Admin\\\\AppData\\\\Local\\\\Programs\\\\Python\\\\Python38\\\\Scripts\\\\;C:\\\\Users\\\\Admin\\\\AppData\\\\Local\\\\Programs\\\\Python\\\\Python38\\\\;C:\\\\Users\\\\Admin\\\\AppData\\\\Local\\\\Microsoft\\\\WindowsApps;;C:\\\\Users\\\\Admin\\\\AppData\\\\Local\\\\Programs\\\\Microsoft VS Code\\\\bin;C:\\\\Program Files\\\\JetBrains\\\\PyCharm Community Edition 2023.2.2\\\\bin;'"
      ]
     },
     "execution_count": 32,
     "metadata": {},
     "output_type": "execute_result"
    }
   ],
   "source": [
    "os.getenv('PATH')"
   ]
  },
  {
   "cell_type": "markdown",
   "id": "d5c5db6f",
   "metadata": {},
   "source": [
    "### Работа с файловой структурой"
   ]
  },
  {
   "cell_type": "markdown",
   "id": "f47670b9",
   "metadata": {},
   "source": [
    "#### Текущая директория"
   ]
  },
  {
   "cell_type": "markdown",
   "id": "4ad7bd2a",
   "metadata": {},
   "source": [
    "Полное имя файла\n",
    "\n",
    "имя файла"
   ]
  },
  {
   "cell_type": "code",
   "execution_count": null,
   "id": "464e478b",
   "metadata": {},
   "outputs": [],
   "source": []
  },
  {
   "cell_type": "code",
   "execution_count": 7,
   "id": "dd14f128",
   "metadata": {},
   "outputs": [
    {
     "data": {
      "text/plain": [
       "'C:\\\\Users\\\\Admin\\\\python_files'"
      ]
     },
     "execution_count": 7,
     "metadata": {},
     "output_type": "execute_result"
    }
   ],
   "source": [
    "os.getcwd()"
   ]
  },
  {
   "cell_type": "markdown",
   "id": "6eb29a78",
   "metadata": {},
   "source": [
    "Записать текущий каталог в переменную **current_directory**"
   ]
  },
  {
   "cell_type": "code",
   "execution_count": 8,
   "id": "4acc41a0",
   "metadata": {},
   "outputs": [],
   "source": [
    "current_directory = os.getcwd()"
   ]
  },
  {
   "cell_type": "code",
   "execution_count": 9,
   "id": "7ac23518",
   "metadata": {},
   "outputs": [
    {
     "data": {
      "text/plain": [
       "'C:\\\\Users\\\\Admin\\\\python_files'"
      ]
     },
     "execution_count": 9,
     "metadata": {},
     "output_type": "execute_result"
    }
   ],
   "source": [
    "current_directory "
   ]
  },
  {
   "cell_type": "markdown",
   "id": "d6659aca",
   "metadata": {},
   "source": [
    "#### Смена текущей рабочей директории"
   ]
  },
  {
   "cell_type": "markdown",
   "id": "7918c4ce",
   "metadata": {},
   "source": [
    "При желании, рабочую директорию можно настроить по своему усмотрению, применив метод chdir. Для этого необходимо передать ему в качестве параметра абсолютный адрес к новому каталогу. Если указанного пути на самом деле не существует, программа будет завершена в аварийном режиме из-за выброшенного исключения."
   ]
  },
  {
   "cell_type": "code",
   "execution_count": 10,
   "id": "313711d7",
   "metadata": {},
   "outputs": [],
   "source": [
    "os.chdir('C:\\\\Windows\\\\System32') # r('C:\\Windows\\System32')"
   ]
  },
  {
   "cell_type": "code",
   "execution_count": 11,
   "id": "7f464a86",
   "metadata": {},
   "outputs": [
    {
     "data": {
      "text/plain": [
       "'C:\\\\Windows\\\\System32'"
      ]
     },
     "execution_count": 11,
     "metadata": {},
     "output_type": "execute_result"
    }
   ],
   "source": [
    "os.getcwd()"
   ]
  },
  {
   "cell_type": "code",
   "execution_count": 12,
   "id": "708938da",
   "metadata": {},
   "outputs": [],
   "source": [
    "os.chdir(current_directory)"
   ]
  },
  {
   "cell_type": "code",
   "execution_count": 13,
   "id": "fc307892",
   "metadata": {},
   "outputs": [
    {
     "data": {
      "text/plain": [
       "'C:\\\\Users\\\\Admin\\\\python_files'"
      ]
     },
     "execution_count": 13,
     "metadata": {},
     "output_type": "execute_result"
    }
   ],
   "source": [
    "os.getcwd()"
   ]
  },
  {
   "cell_type": "code",
   "execution_count": null,
   "id": "bffd21b9",
   "metadata": {},
   "outputs": [],
   "source": []
  },
  {
   "cell_type": "markdown",
   "id": "3132629b",
   "metadata": {},
   "source": [
    "### Модуль os.path\n",
    "Модуль **os.path** встроен в модуль os и позволяет работать с путями к файлам и папкам. Основные свойства и методы:"
   ]
  },
  {
   "cell_type": "markdown",
   "id": "f625f225",
   "metadata": {},
   "source": [
    "Основные свойства и методы:\n",
    "\n",
    "* os.path.sep — разделитель имен директорий в пути\n",
    "* os.path.abspath() — преобразует относительный путь в абсолютный\n",
    "* os.path.isabs() — возвращает True, если путь абсолютный\n",
    "* os.path.relpath(path, start) — возвращает относительный путь от start к path\n",
    "* os.path.basename() — возвращает имя файла (или директории)\n",
    "* os.path.dirname() — возвращает путь к файлу (или директории)\n",
    "* os.path.exists() — возвращает True, если файл (или директория) существует\n",
    "* os.path.isdir() — возвращает True, если это директория\n",
    "* os.path.isfile() — возвращает True, если это файл\n",
    "* os.path.getsize() — возвращает размер файла в байтах\n",
    "* os.path.join() — возвращает путь доступа, полученный конкатенацией аргументов\n",
    "* os.path.split() — возвращает кортеж (os.path.dirname(), os.path.basename())"
   ]
  },
  {
   "cell_type": "markdown",
   "id": "4888afdb",
   "metadata": {},
   "source": [
    "**Путь** используется для идентификации файла. Путь предоставляет необязательную последовательность названий директорий, в конце которой значится конечное имя файла, а также его расширение;\n",
    "\n",
    "**Расширение** названия файла предоставляет некоторую информацию о формате/содержимом файла. Модуль Pathlib может работать как с абсолютными, так и с относительными путями;\n",
    "\n",
    "**Относительный путь** является путем к файлу относительно другого файла или директории, обычно текущей;\n",
    "\n",
    "**Абсолютный путь** начинается с корневой директории и определяет полное дерево каталогов до текущего каталога;\n",
    "\n",
    "**Директория** представляет собой запись пути в файловой системе и включает название файла, время создания, размер, владельца и так далее.\n",
    "\n"
   ]
  },
  {
   "cell_type": "markdown",
   "id": "ab421fdf",
   "metadata": {},
   "source": [
    "#### Абсолютный путь"
   ]
  },
  {
   "cell_type": "code",
   "execution_count": 14,
   "id": "bada8de9",
   "metadata": {},
   "outputs": [
    {
     "data": {
      "text/plain": [
       "'C:\\\\Users\\\\Admin\\\\python_files'"
      ]
     },
     "execution_count": 14,
     "metadata": {},
     "output_type": "execute_result"
    }
   ],
   "source": [
    "os.path.abspath(current_directory) "
   ]
  },
  {
   "cell_type": "markdown",
   "id": "9766df76",
   "metadata": {},
   "source": [
    "#### Проверка существования пути"
   ]
  },
  {
   "cell_type": "markdown",
   "id": "93217162",
   "metadata": {},
   "source": [
    "Во избежание ошибок, которые могут возникнуть при попытке обработать несуществующий файл или директорию  следует предварительно проверять их наличие с помощью метода **exists**. \n",
    "\n",
    "**Синтаксис:**\n",
    "\n",
    "os.path.exists(\"путь_к_файлу\")\n",
    "\n",
    "Возвращает True/False в соответствии с наличием/отсутствием указанного объекта. В следующем примере идет проверка текстового файла test.txt из корневого каталога D, которая возвращает True."
   ]
  },
  {
   "cell_type": "code",
   "execution_count": 41,
   "id": "f3474d3f",
   "metadata": {},
   "outputs": [],
   "source": [
    "#os.chdir('C:\\\\Users\\\\Admin\\\\python_base\\\\notebooks\\\\05_modules')"
   ]
  },
  {
   "cell_type": "code",
   "execution_count": 16,
   "id": "4a7b63a4",
   "metadata": {},
   "outputs": [],
   "source": [
    "os.chdir(current_directory)"
   ]
  },
  {
   "cell_type": "code",
   "execution_count": 18,
   "id": "43453b02",
   "metadata": {},
   "outputs": [
    {
     "data": {
      "text/plain": [
       "(False,)"
      ]
     },
     "execution_count": 18,
     "metadata": {},
     "output_type": "execute_result"
    }
   ],
   "source": [
    "# Проверка существования каталога os_modules в текущем каталоге\n",
    "os.path.exists('os'),"
   ]
  },
  {
   "cell_type": "markdown",
   "id": "c2bf4755",
   "metadata": {},
   "source": [
    "#### Создание директорий"
   ]
  },
  {
   "cell_type": "markdown",
   "id": "3a423044",
   "metadata": {},
   "source": [
    "**os.mkdir()** - создание директории"
   ]
  },
  {
   "cell_type": "markdown",
   "id": "f92bdfa6",
   "metadata": {},
   "source": [
    "**os.makedirs()** - создание директории с созданием промежуточных директорий"
   ]
  },
  {
   "cell_type": "code",
   "execution_count": 19,
   "id": "9a7f8ddc",
   "metadata": {},
   "outputs": [],
   "source": [
    "# Установить в качестве текущецй диретории значение, записанное в current_directory \n",
    "os.chdir(current_directory )"
   ]
  },
  {
   "cell_type": "markdown",
   "id": "767b9e77",
   "metadata": {},
   "source": [
    "Создать новую диреторию в текущем каталоге"
   ]
  },
  {
   "cell_type": "code",
   "execution_count": 20,
   "id": "416f13a8",
   "metadata": {},
   "outputs": [],
   "source": [
    "os.mkdir(r\"os\")"
   ]
  },
  {
   "cell_type": "markdown",
   "id": "3a41fe09",
   "metadata": {},
   "source": [
    "Повторная попытка создания директории"
   ]
  },
  {
   "cell_type": "code",
   "execution_count": 21,
   "id": "b6799d87",
   "metadata": {
    "scrolled": false
   },
   "outputs": [
    {
     "ename": "FileExistsError",
     "evalue": "[WinError 183] Невозможно создать файл, так как он уже существует: 'os'",
     "output_type": "error",
     "traceback": [
      "\u001b[1;31m---------------------------------------------------------------------------\u001b[0m",
      "\u001b[1;31mFileExistsError\u001b[0m                           Traceback (most recent call last)",
      "Cell \u001b[1;32mIn[21], line 1\u001b[0m\n\u001b[1;32m----> 1\u001b[0m os\u001b[38;5;241m.\u001b[39mmkdir(\u001b[38;5;124mr\u001b[39m\u001b[38;5;124m\"\u001b[39m\u001b[38;5;124mos\u001b[39m\u001b[38;5;124m\"\u001b[39m)\n",
      "\u001b[1;31mFileExistsError\u001b[0m: [WinError 183] Невозможно создать файл, так как он уже существует: 'os'"
     ]
    }
   ],
   "source": [
    "os.mkdir(r\"os\")"
   ]
  },
  {
   "cell_type": "code",
   "execution_count": 22,
   "id": "c6a86eb3",
   "metadata": {},
   "outputs": [
    {
     "data": {
      "text/plain": [
       "True"
      ]
     },
     "execution_count": 22,
     "metadata": {},
     "output_type": "execute_result"
    }
   ],
   "source": [
    "os.path.exists('os')"
   ]
  },
  {
   "cell_type": "markdown",
   "id": "e60407a4",
   "metadata": {},
   "source": [
    "Такой каталог уже есть"
   ]
  },
  {
   "cell_type": "markdown",
   "id": "5b4f35bd",
   "metadata": {},
   "source": [
    "Создание каталога с предварительной проверкой:"
   ]
  },
  {
   "cell_type": "code",
   "execution_count": 24,
   "id": "52dfc309",
   "metadata": {},
   "outputs": [],
   "source": [
    "import os\n",
    "if not os.path.exists('os'):\n",
    "    os.mkdir(\"os\")\n",
    "else:\n",
    "    print('каталог существует')"
   ]
  },
  {
   "cell_type": "markdown",
   "id": "c6048cd0",
   "metadata": {},
   "source": [
    "#### Проверка объекта на соответстие типу объекта"
   ]
  },
  {
   "cell_type": "markdown",
   "id": "55386dd1",
   "metadata": {},
   "source": [
    "os.path.isdir() — возвращает True, если это директория\n",
    "\n",
    "os.path.isfile() — возвращает True, если это файл"
   ]
  },
  {
   "cell_type": "code",
   "execution_count": 25,
   "id": "17a990ad",
   "metadata": {
    "scrolled": true
   },
   "outputs": [
    {
     "data": {
      "text/plain": [
       "True"
      ]
     },
     "execution_count": 25,
     "metadata": {},
     "output_type": "execute_result"
    }
   ],
   "source": [
    "os.chdir(current_directory)\n",
    "os.path.isdir('os') "
   ]
  },
  {
   "cell_type": "code",
   "execution_count": 26,
   "id": "bef86cf6",
   "metadata": {},
   "outputs": [
    {
     "data": {
      "text/plain": [
       "False"
      ]
     },
     "execution_count": 26,
     "metadata": {},
     "output_type": "execute_result"
    }
   ],
   "source": [
    "os.chdir(current_directory)\n",
    "os.path.isfile('os') "
   ]
  },
  {
   "cell_type": "markdown",
   "id": "3fd9a4c2",
   "metadata": {},
   "source": [
    "#### Просмотр содержимого директорий"
   ]
  },
  {
   "cell_type": "code",
   "execution_count": 27,
   "id": "a30c1edd",
   "metadata": {},
   "outputs": [
    {
     "data": {
      "text/plain": [
       "['.ipynb_checkpoints',\n",
       " 'b.py',\n",
       " 'bike_sales.csv',\n",
       " 'main.py',\n",
       " 'modules.ipynb',\n",
       " 'mybike.py',\n",
       " 'myjob.ipynb',\n",
       " 'os',\n",
       " 'os_modules.ipynb',\n",
       " 'packages.ipynb',\n",
       " 'squares.py',\n",
       " '__pycache__']"
      ]
     },
     "execution_count": 27,
     "metadata": {},
     "output_type": "execute_result"
    }
   ],
   "source": [
    "os.listdir()"
   ]
  },
  {
   "cell_type": "markdown",
   "id": "0e06fa0d",
   "metadata": {},
   "source": [
    "Из приведенного списка видно, что директория **os** появилась"
   ]
  },
  {
   "cell_type": "markdown",
   "id": "42541813",
   "metadata": {},
   "source": [
    "##### Пример: В текущем каталоге создать структуру:"
   ]
  },
  {
   "attachments": {
    "image-2.png": {
     "image/png": "[encoded data removed]"
    }
   },
   "cell_type": "markdown",
   "id": "db50891f",
   "metadata": {},
   "source": [
    "![image-2.png](attachment:image-2.png)"
   ]
  },
  {
   "cell_type": "markdown",
   "id": "8f5d4aef",
   "metadata": {},
   "source": [
    "1. Так как в данном задании присутствуют вложенные каталоги, то будет использоваться метод **os.makedirs()**\n",
    "2. Наименования каталогов одинаковые, за исключение чсел в конце имени, поэтому используем цикл"
   ]
  },
  {
   "cell_type": "code",
   "execution_count": 29,
   "id": "9ce2fdf1",
   "metadata": {},
   "outputs": [
    {
     "data": {
      "text/plain": [
       "[]"
      ]
     },
     "execution_count": 29,
     "metadata": {},
     "output_type": "execute_result"
    }
   ],
   "source": [
    "os.listdir('os')"
   ]
  },
  {
   "cell_type": "code",
   "execution_count": 39,
   "id": "e826a139",
   "metadata": {},
   "outputs": [
    {
     "ename": "FileExistsError",
     "evalue": "[WinError 183] Невозможно создать файл, так как он уже существует: 'os\\\\subdir1\\\\subsubdir1'",
     "output_type": "error",
     "traceback": [
      "\u001b[1;31m---------------------------------------------------------------------------\u001b[0m",
      "\u001b[1;31mFileExistsError\u001b[0m                           Traceback (most recent call last)",
      "Cell \u001b[1;32mIn[39], line 3\u001b[0m\n\u001b[0;32m      1\u001b[0m \u001b[38;5;28;01mif\u001b[39;00m os\u001b[38;5;241m.\u001b[39mpath\u001b[38;5;241m.\u001b[39mexists(\u001b[38;5;124m'\u001b[39m\u001b[38;5;124mos\u001b[39m\u001b[38;5;124m'\u001b[39m):\n\u001b[0;32m      2\u001b[0m     \u001b[38;5;28;01mfor\u001b[39;00m dn \u001b[38;5;129;01min\u001b[39;00m \u001b[38;5;28mrange\u001b[39m(\u001b[38;5;241m1\u001b[39m,\u001b[38;5;241m13\u001b[39m):\n\u001b[1;32m----> 3\u001b[0m         os\u001b[38;5;241m.\u001b[39mmakedirs(\u001b[38;5;124mf\u001b[39m\u001b[38;5;124m\"\u001b[39m\u001b[38;5;124mos\u001b[39m\u001b[38;5;130;01m\\\\\u001b[39;00m\u001b[38;5;124msubdir\u001b[39m\u001b[38;5;132;01m{\u001b[39;00mdn\u001b[38;5;132;01m}\u001b[39;00m\u001b[38;5;130;01m\\\\\u001b[39;00m\u001b[38;5;124msubsubdir1\u001b[39m\u001b[38;5;124m\"\u001b[39m)\n\u001b[0;32m      4\u001b[0m \u001b[38;5;28;01melse\u001b[39;00m:\n\u001b[0;32m      5\u001b[0m     os\u001b[38;5;241m.\u001b[39mmkdir(\u001b[38;5;124m'\u001b[39m\u001b[38;5;124mos\u001b[39m\u001b[38;5;124m'\u001b[39m)\n",
      "File \u001b[1;32m<frozen os>:225\u001b[0m, in \u001b[0;36mmakedirs\u001b[1;34m(name, mode, exist_ok)\u001b[0m\n",
      "\u001b[1;31mFileExistsError\u001b[0m: [WinError 183] Невозможно создать файл, так как он уже существует: 'os\\\\subdir1\\\\subsubdir1'"
     ]
    }
   ],
   "source": [
    "if os.path.exists('os'):\n",
    "    for dn in range(1,13):\n",
    "        os.makedirs(f\"os\\\\subdir{dn}\\\\subsubdir1\")\n",
    "else:\n",
    "    os.mkdir('os')\n",
    "    for dn in range(1,13):\n",
    "        os.makedirs(f\"os\\\\subdir{dn}\\\\subsubdir1\")"
   ]
  },
  {
   "attachments": {
    "image-3.png": {
     "image/png": "[encoded data removed]"
    }
   },
   "cell_type": "markdown",
   "id": "caa75d23",
   "metadata": {},
   "source": [
    "![image-3.png](attachment:image-3.png)"
   ]
  },
  {
   "cell_type": "code",
   "execution_count": 40,
   "id": "5eb8873a",
   "metadata": {},
   "outputs": [
    {
     "data": {
      "text/plain": [
       "['subdir1',\n",
       " 'subdir10',\n",
       " 'subdir11',\n",
       " 'subdir12',\n",
       " 'subdir2',\n",
       " 'subdir3',\n",
       " 'subdir4',\n",
       " 'subdir5',\n",
       " 'subdir6',\n",
       " 'subdir7',\n",
       " 'subdir8',\n",
       " 'subdir9']"
      ]
     },
     "execution_count": 40,
     "metadata": {},
     "output_type": "execute_result"
    }
   ],
   "source": [
    "os.listdir('os')"
   ]
  },
  {
   "cell_type": "markdown",
   "id": "073be041",
   "metadata": {},
   "source": [
    "#### Просмотр содержимого каталога и всех вложенных каталогов os.walk()"
   ]
  },
  {
   "cell_type": "markdown",
   "id": "1f1629de",
   "metadata": {},
   "source": [
    "Метод os.listdir() позволяет просмотреть один каталог. "
   ]
  },
  {
   "cell_type": "markdown",
   "id": "636a17f6",
   "metadata": {},
   "source": [
    "Метод **os.walk()** возвращает объект-генератор. Из полученного объекта можно получить кортежи для каждого каталога в файловой иерархии. Каждый кортеж в коллекции содержит:\n",
    "\n",
    "- Абсолютный адрес очередного каталога (строка)\n",
    "- Имена подкаталогов текущего каталога (список)\n",
    "- Имена (без адреса) файлов данного каталога"
   ]
  },
  {
   "cell_type": "code",
   "execution_count": 41,
   "id": "948e15f6",
   "metadata": {},
   "outputs": [
    {
     "name": "stdout",
     "output_type": "stream",
     "text": [
      "('C:\\\\Users\\\\Admin\\\\python_files', ['.ipynb_checkpoints', 'os', '__pycache__'], ['b.py', 'bike_sales.csv', 'main.py', 'modules.ipynb', 'mybike.py', 'myjob.ipynb', 'os_modules.ipynb', 'packages.ipynb', 'squares.py'])\n",
      "('C:\\\\Users\\\\Admin\\\\python_files\\\\.ipynb_checkpoints', [], ['modules-checkpoint.ipynb', 'myjob-checkpoint.ipynb', 'os_modules-checkpoint.ipynb'])\n",
      "('C:\\\\Users\\\\Admin\\\\python_files\\\\os', ['subdir1', 'subdir10', 'subdir11', 'subdir12', 'subdir2', 'subdir3', 'subdir4', 'subdir5', 'subdir6', 'subdir7', 'subdir8', 'subdir9'], [])\n",
      "('C:\\\\Users\\\\Admin\\\\python_files\\\\os\\\\subdir1', ['subsubdir1'], [])\n",
      "('C:\\\\Users\\\\Admin\\\\python_files\\\\os\\\\subdir1\\\\subsubdir1', [], [])\n",
      "('C:\\\\Users\\\\Admin\\\\python_files\\\\os\\\\subdir10', ['subsubdir1'], [])\n",
      "('C:\\\\Users\\\\Admin\\\\python_files\\\\os\\\\subdir10\\\\subsubdir1', [], [])\n",
      "('C:\\\\Users\\\\Admin\\\\python_files\\\\os\\\\subdir11', ['subsubdir1'], [])\n",
      "('C:\\\\Users\\\\Admin\\\\python_files\\\\os\\\\subdir11\\\\subsubdir1', [], [])\n",
      "('C:\\\\Users\\\\Admin\\\\python_files\\\\os\\\\subdir12', ['subsubdir1'], [])\n",
      "('C:\\\\Users\\\\Admin\\\\python_files\\\\os\\\\subdir12\\\\subsubdir1', [], [])\n",
      "('C:\\\\Users\\\\Admin\\\\python_files\\\\os\\\\subdir2', ['subsubdir1'], [])\n",
      "('C:\\\\Users\\\\Admin\\\\python_files\\\\os\\\\subdir2\\\\subsubdir1', [], [])\n",
      "('C:\\\\Users\\\\Admin\\\\python_files\\\\os\\\\subdir3', ['subsubdir1'], [])\n",
      "('C:\\\\Users\\\\Admin\\\\python_files\\\\os\\\\subdir3\\\\subsubdir1', [], [])\n",
      "('C:\\\\Users\\\\Admin\\\\python_files\\\\os\\\\subdir4', ['subsubdir1'], [])\n",
      "('C:\\\\Users\\\\Admin\\\\python_files\\\\os\\\\subdir4\\\\subsubdir1', [], [])\n",
      "('C:\\\\Users\\\\Admin\\\\python_files\\\\os\\\\subdir5', ['subsubdir1'], [])\n",
      "('C:\\\\Users\\\\Admin\\\\python_files\\\\os\\\\subdir5\\\\subsubdir1', [], [])\n",
      "('C:\\\\Users\\\\Admin\\\\python_files\\\\os\\\\subdir6', ['subsubdir1'], [])\n",
      "('C:\\\\Users\\\\Admin\\\\python_files\\\\os\\\\subdir6\\\\subsubdir1', [], [])\n",
      "('C:\\\\Users\\\\Admin\\\\python_files\\\\os\\\\subdir7', ['subsubdir1'], [])\n",
      "('C:\\\\Users\\\\Admin\\\\python_files\\\\os\\\\subdir7\\\\subsubdir1', [], [])\n",
      "('C:\\\\Users\\\\Admin\\\\python_files\\\\os\\\\subdir8', ['subsubdir1'], [])\n",
      "('C:\\\\Users\\\\Admin\\\\python_files\\\\os\\\\subdir8\\\\subsubdir1', [], [])\n",
      "('C:\\\\Users\\\\Admin\\\\python_files\\\\os\\\\subdir9', ['subsubdir1'], [])\n",
      "('C:\\\\Users\\\\Admin\\\\python_files\\\\os\\\\subdir9\\\\subsubdir1', [], [])\n",
      "('C:\\\\Users\\\\Admin\\\\python_files\\\\__pycache__', [], ['b.cpython-311.pyc', 'mybike.cpython-311.pyc', 'squares.cpython-311.pyc'])\n"
     ]
    }
   ],
   "source": [
    "# получить генератор всей файловой структуры указанной директории\n",
    "tree = os.walk(current_directory)\n",
    "\n",
    "for item in tree:\n",
    "    print(item)"
   ]
  },
  {
   "cell_type": "markdown",
   "id": "cb84ed93",
   "metadata": {},
   "source": [
    "В приведенных кортежах:\n",
    "\n",
    "- 0 элемент - текущий каталог\n",
    "- 1 элемент - список покаталогов\n",
    "- 2 элемент - список файлов этого каталога"
   ]
  },
  {
   "cell_type": "markdown",
   "id": "e2774ad6",
   "metadata": {},
   "source": [
    "#### Переименование файла и каталога rename()"
   ]
  },
  {
   "cell_type": "markdown",
   "id": "822d82b6",
   "metadata": {},
   "source": [
    "**Синтаксис:**\n",
    "\n",
    "os.rename(r\"old_name\", r\"new_name\")\n",
    "\n",
    "Данная функция принимает два разных аргумента. Первый отвечает за путь к старому наименованию документа, в то время как второй отвечает за его новое название. В примере показано переименование директории old_name в new_name. \n",
    "\n",
    "Если по указанному пути нет каталога(файла), то будет сгенерировано исключение.\n",
    "\n"
   ]
  },
  {
   "cell_type": "markdown",
   "id": "254e4beb",
   "metadata": {},
   "source": [
    "##### Пример: Переименовать \"subdir1\" в \"январь\""
   ]
  },
  {
   "cell_type": "code",
   "execution_count": 42,
   "id": "68e2f32a",
   "metadata": {},
   "outputs": [],
   "source": [
    "if os.path.exists('os\\subdir1'):\n",
    "    os.rename(r'os\\subdir1',r'os\\январь' )\n",
    "else:\n",
    "    print('каталог существует')"
   ]
  },
  {
   "attachments": {
    "image.png": {
     "image/png": "[encoded data removed]"
    }
   },
   "cell_type": "markdown",
   "id": "c74d2dbd",
   "metadata": {},
   "source": [
    "![image.png](attachment:image.png)"
   ]
  },
  {
   "cell_type": "markdown",
   "id": "70c681f9",
   "metadata": {},
   "source": [
    "##### Пример: Переименовать все каталоги \"subdirX\" в название соответствующего месяца"
   ]
  },
  {
   "cell_type": "markdown",
   "id": "2c745993",
   "metadata": {},
   "source": [
    "Чтобы в Python быстро преобразовать число, представляющее номер месяца (от 1 до 12), в название этого месяца, используем модуль **calendar** и локализация при форматировании месяца:"
   ]
  },
  {
   "cell_type": "markdown",
   "id": "af4e19bd",
   "metadata": {},
   "source": [
    "Предварительная настройка языка"
   ]
  },
  {
   "cell_type": "code",
   "execution_count": 43,
   "id": "830e720e",
   "metadata": {},
   "outputs": [],
   "source": [
    "import calendar\n",
    "import locale"
   ]
  },
  {
   "cell_type": "code",
   "execution_count": 48,
   "id": "d0399543",
   "metadata": {},
   "outputs": [
    {
     "data": {
      "text/plain": [
       "'ru_RU'"
      ]
     },
     "execution_count": 48,
     "metadata": {},
     "output_type": "execute_result"
    }
   ],
   "source": [
    "locale.setlocale(locale.LC_TIME, 'ru_RU') "
   ]
  },
  {
   "cell_type": "code",
   "execution_count": 49,
   "id": "66584ef5",
   "metadata": {
    "scrolled": true
   },
   "outputs": [
    {
     "name": "stdout",
     "output_type": "stream",
     "text": [
      "Март\n"
     ]
    }
   ],
   "source": [
    "print(calendar.month_name[3])  # Результат: \"Март\""
   ]
  },
  {
   "cell_type": "code",
   "execution_count": 50,
   "id": "3436536f",
   "metadata": {},
   "outputs": [
    {
     "data": {
      "text/plain": [
       "'C:\\\\Users\\\\Admin\\\\python_files'"
      ]
     },
     "execution_count": 50,
     "metadata": {},
     "output_type": "execute_result"
    }
   ],
   "source": [
    "current_directory"
   ]
  },
  {
   "cell_type": "code",
   "execution_count": 51,
   "id": "b49172aa",
   "metadata": {},
   "outputs": [],
   "source": [
    "os.chdir(current_directory)\n",
    "# Перейти в каталог os_modules\n",
    "os.chdir('os')"
   ]
  },
  {
   "cell_type": "code",
   "execution_count": 52,
   "id": "ea37d0e0",
   "metadata": {},
   "outputs": [],
   "source": [
    "new_dir = os.getcwd()"
   ]
  },
  {
   "cell_type": "code",
   "execution_count": 54,
   "id": "4a56ad3b",
   "metadata": {
    "scrolled": true
   },
   "outputs": [
    {
     "data": {
      "text/plain": [
       "'C:\\\\Users\\\\Admin\\\\python_files\\\\os'"
      ]
     },
     "execution_count": 54,
     "metadata": {},
     "output_type": "execute_result"
    }
   ],
   "source": [
    "new_dir"
   ]
  },
  {
   "cell_type": "code",
   "execution_count": 55,
   "id": "edc40839",
   "metadata": {},
   "outputs": [
    {
     "data": {
      "text/plain": [
       "'os'"
      ]
     },
     "execution_count": 55,
     "metadata": {},
     "output_type": "execute_result"
    }
   ],
   "source": [
    "os.path.basename(new_dir)"
   ]
  },
  {
   "cell_type": "code",
   "execution_count": 56,
   "id": "25935ea7",
   "metadata": {},
   "outputs": [
    {
     "data": {
      "text/plain": [
       "['subdir10',\n",
       " 'subdir11',\n",
       " 'subdir12',\n",
       " 'subdir2',\n",
       " 'subdir3',\n",
       " 'subdir4',\n",
       " 'subdir5',\n",
       " 'subdir6',\n",
       " 'subdir7',\n",
       " 'subdir8',\n",
       " 'subdir9',\n",
       " 'январь']"
      ]
     },
     "execution_count": 56,
     "metadata": {},
     "output_type": "execute_result"
    }
   ],
   "source": [
    "os.listdir()"
   ]
  },
  {
   "cell_type": "code",
   "execution_count": 57,
   "id": "d51e2a9a",
   "metadata": {},
   "outputs": [],
   "source": [
    "for d in os.listdir():\n",
    "    # Если объект d НЕ ЯВЛЯЕТСЯ каталогом(директорией), \n",
    "    # то перейти к следующему объекту\n",
    "    if not os.path.isdir(d):\n",
    "        continue\n",
    "    # Получить базовое имя каталога\n",
    "    dir_name = os.path.basename(d)\n",
    "    # если в имени содержится subdir\n",
    "    if 'subdir' in dir_name:\n",
    "        # Получить номер месяца из имени каталога\n",
    "        month_digit = int(d[6:])\n",
    "        # Переиеновать каталог\n",
    "        os.rename(d,calendar.month_name[month_digit].lower())"
   ]
  },
  {
   "cell_type": "markdown",
   "id": "55255bfe",
   "metadata": {},
   "source": [
    "#### Удаление файлов и директорий"
   ]
  },
  {
   "cell_type": "markdown",
   "id": "f217d260",
   "metadata": {},
   "source": [
    "**os.remove(путь_к_файлу)** - удаление файла. В качестве аргумента используется абсолютный либо относительный путь к объекту."
   ]
  },
  {
   "cell_type": "markdown",
   "id": "b24507e9",
   "metadata": {},
   "source": [
    "**os.rmdir(путь_к_каталогу)** - удаление каталога"
   ]
  },
  {
   "cell_type": "markdown",
   "id": "a8ce65bd",
   "metadata": {},
   "source": [
    "**os.removedirs(путь_к_каталогу)** - удаление нескольких каталогов на диске, при условии, что все они вложены друг в друга. Таким образом, указав путь к конечной папке, можно легко удалить все родительские директории, но только если они в результате оказываются пустыми."
   ]
  },
  {
   "cell_type": "markdown",
   "id": "b5d80315",
   "metadata": {},
   "source": [
    "##### Пример: Удалить каталог os/январь/subsubdir1"
   ]
  },
  {
   "cell_type": "code",
   "execution_count": 59,
   "id": "e94d913e",
   "metadata": {},
   "outputs": [
    {
     "data": {
      "text/plain": [
       "'C:\\\\Users\\\\Admin\\\\python_files'"
      ]
     },
     "execution_count": 59,
     "metadata": {},
     "output_type": "execute_result"
    }
   ],
   "source": [
    "current_directory"
   ]
  },
  {
   "cell_type": "code",
   "execution_count": 60,
   "id": "1862d956",
   "metadata": {
    "scrolled": true
   },
   "outputs": [],
   "source": [
    "os.rmdir(current_directory + '\\\\os\\\\январь\\\\subsubdir1')"
   ]
  },
  {
   "cell_type": "markdown",
   "id": "644baae1",
   "metadata": {},
   "source": [
    "##### Пример: Сгенерировать несколько файлов .txt в каталоге os\\январь"
   ]
  },
  {
   "cell_type": "code",
   "execution_count": 61,
   "id": "89c2f52f",
   "metadata": {},
   "outputs": [],
   "source": [
    "import random\n",
    "import os\n",
    " \n",
    "def generate_random_name():\n",
    "    characters = 'abcdefghijklmnopqrstuvwxyzABCDEFGHIJKLMNOPQRSTUVWXYZ1234567890'\n",
    "    random_name = ''\n",
    "    for _ in range(10):\n",
    "        #  random.choice - случайный выбор из списка\n",
    "        random_name += random.choice(characters)\n",
    "    return random_name"
   ]
  },
  {
   "cell_type": "code",
   "execution_count": 62,
   "id": "69f56500",
   "metadata": {},
   "outputs": [],
   "source": [
    "path = os.path.join(current_directory,'os','январь')"
   ]
  },
  {
   "cell_type": "code",
   "execution_count": 63,
   "id": "866c3048",
   "metadata": {},
   "outputs": [
    {
     "data": {
      "text/plain": [
       "'C:\\\\Users\\\\Admin\\\\python_files\\\\os\\\\январь'"
      ]
     },
     "execution_count": 63,
     "metadata": {},
     "output_type": "execute_result"
    }
   ],
   "source": [
    "path"
   ]
  },
  {
   "cell_type": "code",
   "execution_count": 64,
   "id": "ea5ecfad",
   "metadata": {},
   "outputs": [],
   "source": [
    "import time\n",
    "for day in range(7):\n",
    "    file_name = generate_random_name()\n",
    "    with open(path + \"\\\\\" + file_name + '.txt','w',encoding='utf-8') as f:\n",
    "        f.write(f\"'it's' file {file_name}\")\n",
    "    "
   ]
  },
  {
   "cell_type": "code",
   "execution_count": 65,
   "id": "9e0e4767",
   "metadata": {},
   "outputs": [
    {
     "data": {
      "text/plain": [
       "['DrsgZJKgdw.txt',\n",
       " 'gMZ5mnIxAl.txt',\n",
       " 'ITvWwwxTXS.txt',\n",
       " 'JXgStp1i8w.txt',\n",
       " 'pOBDpFNyMm.txt',\n",
       " 'RuALwac4SV.txt',\n",
       " 'xzYsejmyGH.txt']"
      ]
     },
     "execution_count": 65,
     "metadata": {},
     "output_type": "execute_result"
    }
   ],
   "source": [
    "os.listdir(path)"
   ]
  },
  {
   "cell_type": "markdown",
   "id": "a080ba9f",
   "metadata": {},
   "source": [
    "## Модуль pathlib"
   ]
  },
  {
   "cell_type": "code",
   "execution_count": null,
   "id": "44ed8dc7",
   "metadata": {},
   "outputs": [],
   "source": []
  },
  {
   "cell_type": "markdown",
   "id": "dc23bad7",
   "metadata": {},
   "source": [
    "Модуль **pathlib** предлагает классы, представляющие пути файловой системы с семантикой, подходящей для различных операционных систем. Классы путей делятся между чистыми путями, которые обеспечивают чисто вычислительные операции без ввода-вывода и конкретными путями, которые наследуются от чистых путей, но также обеспечивают операции ввода-вывода."
   ]
  },
  {
   "cell_type": "markdown",
   "id": "1c23c0db",
   "metadata": {},
   "source": [
    "**Популярные методы и их предназначение:**\n",
    "\n",
    "- Path.cwd(): Возвращает путь объекта текущей рабочей директории;\n",
    "- Path.home(): Возвращает путь объекта домашней директории;\n",
    "- Path.stat(): Возвращает информацию о пути;\n",
    "- Path.chmod(): Меняет режим и уровень доступа файла;\n",
    "- Path.glob(pattern): Получение всех файлов которые соответствую паттерну, например *.jpg (все картинки) или *.mp3 (все песни);\n",
    "- Path.mkdir(): создает новую папку по данному пути;\n",
    "- Path.open(): Открывает файл, созданный в пути;\n",
    "- Path.rename(): Переименовывает файл или директорию указанной цели;\n",
    "- Path.rmdir(): Удаляет пустую директорию;\n",
    "- Path.unlink(): Удаляет файл или символическую ссылку."
   ]
  },
  {
   "cell_type": "code",
   "execution_count": 66,
   "id": "7c96b0c3",
   "metadata": {},
   "outputs": [],
   "source": [
    "os.chdir(current_directory)"
   ]
  },
  {
   "cell_type": "code",
   "execution_count": 67,
   "id": "048fff4f",
   "metadata": {},
   "outputs": [
    {
     "name": "stdout",
     "output_type": "stream",
     "text": [
      "C:\\Users\\Admin\\python_files\n"
     ]
    }
   ],
   "source": [
    "print(os.getcwd())"
   ]
  },
  {
   "cell_type": "markdown",
   "id": "aec9d0d6",
   "metadata": {},
   "source": [
    "#### Импорт основного класса"
   ]
  },
  {
   "cell_type": "code",
   "execution_count": 68,
   "id": "7b6c9bbb",
   "metadata": {},
   "outputs": [],
   "source": [
    "from pathlib import Path"
   ]
  },
  {
   "cell_type": "markdown",
   "id": "97fe7633",
   "metadata": {},
   "source": [
    "#### Текущий каталог"
   ]
  },
  {
   "cell_type": "code",
   "execution_count": 69,
   "id": "f7d63c5a",
   "metadata": {},
   "outputs": [
    {
     "name": "stdout",
     "output_type": "stream",
     "text": [
      "C:\\Users\\Admin\\python_files\n"
     ]
    }
   ],
   "source": [
    "current_dir = Path.cwd()\n",
    "print(current_dir)"
   ]
  },
  {
   "cell_type": "markdown",
   "id": "cf6fbcb6",
   "metadata": {},
   "source": [
    "#### Домашний каталог"
   ]
  },
  {
   "cell_type": "code",
   "execution_count": 70,
   "id": "ff3526d7",
   "metadata": {},
   "outputs": [
    {
     "name": "stdout",
     "output_type": "stream",
     "text": [
      "C:\\Users\\Admin\n"
     ]
    }
   ],
   "source": [
    "home_dir = Path.home()\n",
    "print(home_dir)"
   ]
  },
  {
   "cell_type": "markdown",
   "id": "fdfd799a",
   "metadata": {},
   "source": [
    "#### Указание пути"
   ]
  },
  {
   "cell_type": "code",
   "execution_count": 71,
   "id": "f3bd1a2b",
   "metadata": {},
   "outputs": [],
   "source": [
    "outpath = current_dir / 'os' / 'output.txt'"
   ]
  },
  {
   "cell_type": "code",
   "execution_count": 72,
   "id": "f1fafdb6",
   "metadata": {},
   "outputs": [
    {
     "name": "stdout",
     "output_type": "stream",
     "text": [
      "C:\\Users\\Admin\\python_files\\os\\output.txt\n"
     ]
    }
   ],
   "source": [
    "print(outpath)"
   ]
  },
  {
   "cell_type": "markdown",
   "id": "aebfbc89",
   "metadata": {},
   "source": [
    "Шаблон вложенности функций в модуле os.path заменяется классом Path модуля Pathlib, что представляет путь через объединение методов и атрибутов. Умная перегрузка оператора / делает код читабельным и простым в обращении.\n",
    "\n",
    "Объект Path создается вместо строкового представления пути. У этого объекта есть несколько удобных методов, что имеют значительное преимущество перед работой с необработанными строками, которые представляют пути."
   ]
  },
  {
   "cell_type": "code",
   "execution_count": 73,
   "id": "5bd31afb",
   "metadata": {},
   "outputs": [],
   "source": [
    "new_path = current_dir/'os'\n",
    "if not Path.exists(new_path/'path_dir'):\n",
    "    Path.mkdir(new_path/'path_dir')"
   ]
  },
  {
   "attachments": {
    "image.png": {
     "image/png": "[encoded data removed]"
    }
   },
   "cell_type": "markdown",
   "id": "60eef2f7",
   "metadata": {},
   "source": [
    "![image.png](attachment:image.png)"
   ]
  },
  {
   "cell_type": "markdown",
   "id": "5764742a",
   "metadata": {},
   "source": [
    "#### Рекурсивное получение имен файлов по шаблону из дерева каталогов Path.glob()"
   ]
  },
  {
   "cell_type": "markdown",
   "id": "fa942a8c",
   "metadata": {},
   "source": [
    "**Path.glob(pattern, \\*, case_sensitive=None, recurse_symlinks=False):**\n",
    "\n",
    "Метод Path.glob() возвращает список всех файлов любого типа, соответствующий заданному шаблону pattern, расположенных в каталоге, указанном в пути path."
   ]
  },
  {
   "cell_type": "markdown",
   "id": "99a7482c",
   "metadata": {},
   "source": [
    "**Path.rglob(pattern, \\*, case_sensitive=None, recurse_symlinks=False):**\n",
    "\n",
    "Метод Path.rglob() производит рекурсивный поиск файлов, соответствующих pattern:\n"
   ]
  },
  {
   "cell_type": "markdown",
   "id": "8ca4a344",
   "metadata": {},
   "source": [
    "Поиск всех файлов **.txt** в указанном каталоге"
   ]
  },
  {
   "cell_type": "code",
   "execution_count": 75,
   "id": "6043ab45",
   "metadata": {},
   "outputs": [
    {
     "data": {
      "text/plain": [
       "WindowsPath('C:/Users/Admin/python_files')"
      ]
     },
     "execution_count": 75,
     "metadata": {},
     "output_type": "execute_result"
    }
   ],
   "source": [
    "current_dir"
   ]
  },
  {
   "cell_type": "code",
   "execution_count": 76,
   "id": "51a14df3",
   "metadata": {},
   "outputs": [],
   "source": [
    "txt_files = Path(current_dir/'os'/'январь').glob('*.txt')"
   ]
  },
  {
   "cell_type": "code",
   "execution_count": 77,
   "id": "0ccfd32a",
   "metadata": {
    "scrolled": true
   },
   "outputs": [
    {
     "data": {
      "text/plain": [
       "[WindowsPath('C:/Users/Admin/python_files/os/январь/DrsgZJKgdw.txt'),\n",
       " WindowsPath('C:/Users/Admin/python_files/os/январь/gMZ5mnIxAl.txt'),\n",
       " WindowsPath('C:/Users/Admin/python_files/os/январь/ITvWwwxTXS.txt'),\n",
       " WindowsPath('C:/Users/Admin/python_files/os/январь/JXgStp1i8w.txt'),\n",
       " WindowsPath('C:/Users/Admin/python_files/os/январь/pOBDpFNyMm.txt'),\n",
       " WindowsPath('C:/Users/Admin/python_files/os/январь/RuALwac4SV.txt'),\n",
       " WindowsPath('C:/Users/Admin/python_files/os/январь/xzYsejmyGH.txt')]"
      ]
     },
     "execution_count": 77,
     "metadata": {},
     "output_type": "execute_result"
    }
   ],
   "source": [
    "list(txt_files)"
   ]
  },
  {
   "cell_type": "code",
   "execution_count": 82,
   "id": "a14fccb9",
   "metadata": {},
   "outputs": [
    {
     "data": {
      "text/plain": [
       "[WindowsPath('C:/Users/Admin/python_files/modules.ipynb'),\n",
       " WindowsPath('C:/Users/Admin/python_files/myjob.ipynb'),\n",
       " WindowsPath('C:/Users/Admin/python_files/os_modules.ipynb'),\n",
       " WindowsPath('C:/Users/Admin/python_files/packages.ipynb'),\n",
       " WindowsPath('C:/Users/Admin/python_files/.ipynb_checkpoints/modules-checkpoint.ipynb'),\n",
       " WindowsPath('C:/Users/Admin/python_files/.ipynb_checkpoints/myjob-checkpoint.ipynb'),\n",
       " WindowsPath('C:/Users/Admin/python_files/.ipynb_checkpoints/os_modules-checkpoint.ipynb')]"
      ]
     },
     "execution_count": 82,
     "metadata": {},
     "output_type": "execute_result"
    }
   ],
   "source": [
    "all_ipynb = Path(current_dir).rglob('*.ipynb')\n",
    "\n",
    "list(all_ipynb)"
   ]
  },
  {
   "cell_type": "markdown",
   "id": "8ae3f598",
   "metadata": {},
   "source": [
    "##### Пример:"
   ]
  },
  {
   "cell_type": "markdown",
   "id": "8dad7907",
   "metadata": {},
   "source": [
    " Отсортировать список файлов в каталоге **os\\январь** по времени создания и переименовать в формате: 01.txt, 02.txt, ..."
   ]
  },
  {
   "cell_type": "markdown",
   "id": "29f75ae7",
   "metadata": {},
   "source": [
    "1. Получить список путей"
   ]
  },
  {
   "cell_type": "code",
   "execution_count": 83,
   "id": "02f6a20b",
   "metadata": {},
   "outputs": [
    {
     "data": {
      "text/plain": [
       "WindowsPath('C:/Users/Admin/python_files')"
      ]
     },
     "execution_count": 83,
     "metadata": {},
     "output_type": "execute_result"
    }
   ],
   "source": [
    "current_dir"
   ]
  },
  {
   "cell_type": "code",
   "execution_count": 84,
   "id": "9460f9de",
   "metadata": {},
   "outputs": [
    {
     "name": "stdout",
     "output_type": "stream",
     "text": [
      "[WindowsPath('C:/Users/Admin/python_files/os/январь/DrsgZJKgdw.txt'), WindowsPath('C:/Users/Admin/python_files/os/январь/gMZ5mnIxAl.txt'), WindowsPath('C:/Users/Admin/python_files/os/январь/ITvWwwxTXS.txt'), WindowsPath('C:/Users/Admin/python_files/os/январь/JXgStp1i8w.txt'), WindowsPath('C:/Users/Admin/python_files/os/январь/pOBDpFNyMm.txt'), WindowsPath('C:/Users/Admin/python_files/os/январь/RuALwac4SV.txt'), WindowsPath('C:/Users/Admin/python_files/os/январь/xzYsejmyGH.txt')]\n"
     ]
    }
   ],
   "source": [
    "import os\n",
    "\n",
    "lst_paths = sorted(Path.glob(current_dir/'os'/'январь','*.txt'))\n",
    "print(lst_paths)"
   ]
  },
  {
   "cell_type": "code",
   "execution_count": 86,
   "id": "ac4b5771",
   "metadata": {},
   "outputs": [
    {
     "data": {
      "text/plain": [
       "[WindowsPath('C:/Users/Admin/python_files/os/январь/DrsgZJKgdw.txt'),\n",
       " WindowsPath('C:/Users/Admin/python_files/os/январь/gMZ5mnIxAl.txt'),\n",
       " WindowsPath('C:/Users/Admin/python_files/os/январь/ITvWwwxTXS.txt'),\n",
       " WindowsPath('C:/Users/Admin/python_files/os/январь/JXgStp1i8w.txt'),\n",
       " WindowsPath('C:/Users/Admin/python_files/os/январь/pOBDpFNyMm.txt'),\n",
       " WindowsPath('C:/Users/Admin/python_files/os/январь/RuALwac4SV.txt'),\n",
       " WindowsPath('C:/Users/Admin/python_files/os/январь/xzYsejmyGH.txt')]"
      ]
     },
     "execution_count": 86,
     "metadata": {},
     "output_type": "execute_result"
    }
   ],
   "source": [
    "lst_paths"
   ]
  },
  {
   "cell_type": "markdown",
   "id": "2bc31018",
   "metadata": {},
   "source": [
    "2. Отсортировать список по времени создания\n",
    "\n",
    "**os.path.getmtime(x)** - возвращает время последней модификации объекта по указанному пути. Метод возвращает плавающее значение, которое представляет количество секунд с момента начала времени (эпохи). Эпоха зависит от платформы: для Unix это 1 января 1970 года"
   ]
  },
  {
   "cell_type": "code",
   "execution_count": 87,
   "id": "02838c30",
   "metadata": {},
   "outputs": [],
   "source": [
    "lst_paths.sort(key = lambda x: os.path.getmtime(x))"
   ]
  },
  {
   "cell_type": "code",
   "execution_count": 88,
   "id": "8a18acdc",
   "metadata": {},
   "outputs": [],
   "source": [
    "lst_paths = list(map(str,lst_paths))"
   ]
  },
  {
   "cell_type": "code",
   "execution_count": 89,
   "id": "ae45a463",
   "metadata": {},
   "outputs": [
    {
     "data": {
      "text/plain": [
       "['C:\\\\Users\\\\Admin\\\\python_files\\\\os\\\\январь\\\\gMZ5mnIxAl.txt',\n",
       " 'C:\\\\Users\\\\Admin\\\\python_files\\\\os\\\\январь\\\\xzYsejmyGH.txt',\n",
       " 'C:\\\\Users\\\\Admin\\\\python_files\\\\os\\\\январь\\\\DrsgZJKgdw.txt',\n",
       " 'C:\\\\Users\\\\Admin\\\\python_files\\\\os\\\\январь\\\\pOBDpFNyMm.txt',\n",
       " 'C:\\\\Users\\\\Admin\\\\python_files\\\\os\\\\январь\\\\ITvWwwxTXS.txt',\n",
       " 'C:\\\\Users\\\\Admin\\\\python_files\\\\os\\\\январь\\\\JXgStp1i8w.txt',\n",
       " 'C:\\\\Users\\\\Admin\\\\python_files\\\\os\\\\январь\\\\RuALwac4SV.txt']"
      ]
     },
     "execution_count": 89,
     "metadata": {},
     "output_type": "execute_result"
    }
   ],
   "source": [
    "lst_paths"
   ]
  },
  {
   "cell_type": "code",
   "execution_count": 90,
   "id": "4fc1cf21",
   "metadata": {},
   "outputs": [],
   "source": [
    "files_dir = str(Path(lst_paths[0]).parent)"
   ]
  },
  {
   "cell_type": "code",
   "execution_count": 91,
   "id": "66c34794",
   "metadata": {},
   "outputs": [
    {
     "data": {
      "text/plain": [
       "'C:\\\\Users\\\\Admin\\\\python_files\\\\os\\\\январь'"
      ]
     },
     "execution_count": 91,
     "metadata": {},
     "output_type": "execute_result"
    }
   ],
   "source": [
    "files_dir "
   ]
  },
  {
   "cell_type": "code",
   "execution_count": 92,
   "id": "8daac23d",
   "metadata": {},
   "outputs": [],
   "source": [
    "for index in range(len(lst_paths)):\n",
    "    new_name = index + 1\n",
    "    if new_name < 10:\n",
    "            new_name = '0' + str(new_name)       \n",
    "    os.rename(lst_paths[index], files_dir  + '\\\\' + str(new_name) + '.txt')        "
   ]
  },
  {
   "cell_type": "code",
   "execution_count": 93,
   "id": "57e55dd8",
   "metadata": {},
   "outputs": [
    {
     "data": {
      "text/plain": [
       "['01.txt', '02.txt', '03.txt', '04.txt', '05.txt', '06.txt', '07.txt']"
      ]
     },
     "execution_count": 93,
     "metadata": {},
     "output_type": "execute_result"
    }
   ],
   "source": [
    "os.listdir(files_dir)"
   ]
  }
 ],
 "metadata": {
  "kernelspec": {
   "display_name": "Python 3 (ipykernel)",
   "language": "python",
   "name": "python3"
  },
  "language_info": {
   "codemirror_mode": {
    "name": "ipython",
    "version": 3
   },
   "file_extension": ".py",
   "mimetype": "text/x-python",
   "name": "python",
   "nbconvert_exporter": "python",
   "pygments_lexer": "ipython3",
   "version": "3.11.5"
  },
  "toc": {
   "base_numbering": 1,
   "nav_menu": {},
   "number_sections": true,
   "sideBar": true,
   "skip_h1_title": false,
   "title_cell": "Table of Contents",
   "title_sidebar": "Contents",
   "toc_cell": false,
   "toc_position": {},
   "toc_section_display": true,
   "toc_window_display": false
  }
 },
 "nbformat": 4,
 "nbformat_minor": 5
}
