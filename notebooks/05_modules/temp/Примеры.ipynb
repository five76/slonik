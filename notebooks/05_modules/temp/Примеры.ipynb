{
 "cells": [
  {
   "cell_type": "code",
   "execution_count": 4,
   "id": "c8f47ec8",
   "metadata": {},
   "outputs": [],
   "source": [
    "from decimal import Decimal\n",
    "import random"
   ]
  },
  {
   "cell_type": "code",
   "execution_count": null,
   "id": "27ffdb96",
   "metadata": {},
   "outputs": [],
   "source": []
  },
  {
   "cell_type": "code",
   "execution_count": null,
   "id": "ab01ca61",
   "metadata": {},
   "outputs": [],
   "source": []
  },
  {
   "cell_type": "markdown",
   "id": "37cfb17e",
   "metadata": {},
   "source": [
    "## random"
   ]
  },
  {
   "cell_type": "markdown",
   "id": "798defc9",
   "metadata": {},
   "source": [
    "Напиcать программу на Python для выбора случайного элемента из списка, множества, значения по словарю и файла из каталога. Использовать random.choice()"
   ]
  },
  {
   "cell_type": "code",
   "execution_count": 5,
   "id": "2b8643e5",
   "metadata": {},
   "outputs": [],
   "source": [
    "\n",
    "my_list = [3,5,6,8,3,5,6,7]"
   ]
  },
  {
   "cell_type": "code",
   "execution_count": 9,
   "id": "5d5267fe",
   "metadata": {},
   "outputs": [
    {
     "data": {
      "text/plain": [
       "5"
      ]
     },
     "execution_count": 9,
     "metadata": {},
     "output_type": "execute_result"
    }
   ],
   "source": [
    "random.choice(my_list)"
   ]
  },
  {
   "cell_type": "code",
   "execution_count": 11,
   "id": "7e08e8b8",
   "metadata": {},
   "outputs": [
    {
     "name": "stdout",
     "output_type": "stream",
     "text": [
      "[5, 8, 3, 6, 7, 3, 6, 3, 3, 6, 8, 6, 6, 5, 6, 3]\n"
     ]
    }
   ],
   "source": [
    "print(random.choices(my_list,k=len(my_list)*2))"
   ]
  },
  {
   "cell_type": "markdown",
   "id": "0e93fbe9",
   "metadata": {},
   "source": [
    "Напиcать программу на Python для создания списка случайных целых чисел и случайного выбора нескольких элементов из указанного списка. Использовать random.sample()"
   ]
  },
  {
   "cell_type": "code",
   "execution_count": 4,
   "id": "c47ca0c7",
   "metadata": {},
   "outputs": [],
   "source": [
    "my_list = [3,5,6,8,3,5,6,7]"
   ]
  },
  {
   "cell_type": "code",
   "execution_count": 14,
   "id": "ebbea241",
   "metadata": {},
   "outputs": [
    {
     "name": "stdout",
     "output_type": "stream",
     "text": [
      "[3, 3, 7, 6, 5, 6, 8, 5]\n"
     ]
    }
   ],
   "source": [
    "print(random.sample(my_list,k=len(my_list)))"
   ]
  },
  {
   "cell_type": "markdown",
   "id": "6e06b26d",
   "metadata": {},
   "source": [
    "Напиcать программу на Python для перетасовки элементов заданного списка. Использовать random.shuffle()"
   ]
  },
  {
   "cell_type": "code",
   "execution_count": 16,
   "id": "346f525c",
   "metadata": {},
   "outputs": [],
   "source": [
    "random.shuffle(my_list)"
   ]
  },
  {
   "cell_type": "code",
   "execution_count": 17,
   "id": "235e499f",
   "metadata": {},
   "outputs": [
    {
     "name": "stdout",
     "output_type": "stream",
     "text": [
      "[6, 8, 3, 5, 6, 7, 3, 5]\n"
     ]
    }
   ],
   "source": [
    "print(my_list)"
   ]
  },
  {
   "cell_type": "markdown",
   "id": "5c5c1308",
   "metadata": {},
   "source": [
    "## CSV"
   ]
  },
  {
   "cell_type": "markdown",
   "id": "0dab70e0",
   "metadata": {},
   "source": [
    "Напиcать программу на Python для чтения и отображения содержимого данного CSV-файла (‘bike_sales.csv’). Использовать csv.reader"
   ]
  },
  {
   "cell_type": "code",
   "execution_count": 1,
   "id": "47e51eb6",
   "metadata": {},
   "outputs": [],
   "source": [
    "import csv"
   ]
  },
  {
   "cell_type": "markdown",
   "id": "48921f33",
   "metadata": {},
   "source": [
    "Напиcать программу на Python, выводящую из CSV-файла списов городов (без дубликатов). Использовать csv.reader, next(obj)"
   ]
  },
  {
   "cell_type": "code",
   "execution_count": 9,
   "id": "9cd005f1",
   "metadata": {},
   "outputs": [],
   "source": [
    "df = []\n",
    "with open('bike_sales.csv',encoding='utf-8') as fp:    \n",
    "    reader = csv.reader(fp)\n",
    "    next(reader)\n",
    "    for row in reader:\n",
    "        df.append(row)\n",
    "    \n"
   ]
  },
  {
   "cell_type": "code",
   "execution_count": 29,
   "id": "e3ea9b9f",
   "metadata": {},
   "outputs": [],
   "source": [
    "def calculate_sum_city(city,lst=[]):\n",
    "    df = list(filter(lambda x: x[6] == city,lst))\n",
    "    sum = (0.0)\n",
    "    for row in df:\n",
    "        sum += float(row[4]) * int(row[5])\n",
    "    return sum"
   ]
  },
  {
   "cell_type": "code",
   "execution_count": 30,
   "id": "7b2d89ed",
   "metadata": {},
   "outputs": [
    {
     "data": {
      "text/plain": [
       "110427042.38999961"
      ]
     },
     "execution_count": 30,
     "metadata": {},
     "output_type": "execute_result"
    }
   ],
   "source": [
    "calculate_sum_city('Houston',df)"
   ]
  },
  {
   "cell_type": "code",
   "execution_count": 36,
   "id": "d5e06813",
   "metadata": {},
   "outputs": [
    {
     "name": "stdout",
     "output_type": "stream",
     "text": [
      "Houston          110427042.39\n",
      "New York         113592473.94\n",
      "San Antonio      110059479.44\n",
      "Phoenix          111860419.61\n",
      "Philadelphia     111765829.45\n",
      "Chicago          110388139.04\n",
      "Los Angeles      110340851.08\n"
     ]
    }
   ],
   "source": [
    "for el in my_city:\n",
    "    summa = calculate_sum_city(el,df)\n",
    "    print(\"{:<17}{:.2f}\".format(el,summa))\n",
    "    "
   ]
  },
  {
   "cell_type": "code",
   "execution_count": null,
   "id": "cb2eb622",
   "metadata": {},
   "outputs": [],
   "source": []
  },
  {
   "cell_type": "code",
   "execution_count": null,
   "id": "2f7842de",
   "metadata": {},
   "outputs": [],
   "source": []
  },
  {
   "cell_type": "code",
   "execution_count": null,
   "id": "ddb9bf08",
   "metadata": {},
   "outputs": [],
   "source": []
  },
  {
   "cell_type": "code",
   "execution_count": null,
   "id": "90297d89",
   "metadata": {},
   "outputs": [],
   "source": []
  }
 ],
 "metadata": {
  "kernelspec": {
   "display_name": "Python 3 (ipykernel)",
   "language": "python",
   "name": "python3"
  },
  "language_info": {
   "codemirror_mode": {
    "name": "ipython",
    "version": 3
   },
   "file_extension": ".py",
   "mimetype": "text/x-python",
   "name": "python",
   "nbconvert_exporter": "python",
   "pygments_lexer": "ipython3",
   "version": "3.9.13"
  },
  "toc": {
   "base_numbering": 1,
   "nav_menu": {},
   "number_sections": true,
   "sideBar": true,
   "skip_h1_title": false,
   "title_cell": "Table of Contents",
   "title_sidebar": "Contents",
   "toc_cell": false,
   "toc_position": {},
   "toc_section_display": true,
   "toc_window_display": false
  }
 },
 "nbformat": 4,
 "nbformat_minor": 5
}
