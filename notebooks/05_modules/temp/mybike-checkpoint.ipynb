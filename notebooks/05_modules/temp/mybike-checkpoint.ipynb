{
 "cells": [
  {
   "cell_type": "code",
   "execution_count": 12,
   "id": "67e28775",
   "metadata": {},
   "outputs": [],
   "source": [
    "import csv\n",
    "from pprint import pprint"
   ]
  },
  {
   "cell_type": "code",
   "execution_count": 16,
   "id": "27b45c6b",
   "metadata": {},
   "outputs": [],
   "source": [
    "df = []\n",
    "with open('bike_sales.csv', encoding='utf-8') as f:\n",
    "    reader = csv.reader(f)\n",
    "    next(reader)\n",
    "    for row in reader:\n",
    "        df.append(row)"
   ]
  },
  {
   "cell_type": "code",
   "execution_count": 15,
   "id": "29b9c662",
   "metadata": {},
   "outputs": [
    {
     "data": {
      "text/plain": [
       "100001"
      ]
     },
     "execution_count": 15,
     "metadata": {},
     "output_type": "execute_result"
    }
   ],
   "source": [
    "len(df)"
   ]
  },
  {
   "cell_type": "code",
   "execution_count": 28,
   "id": "e672b120",
   "metadata": {},
   "outputs": [],
   "source": [
    "def define_city_sales(lst=[]):\n",
    "    city_list = []\n",
    "    for el in lst:\n",
    "        city_list.append(el[6])\n",
    "    city_list = list(set(city_list))\n",
    "    return city_list"
   ]
  },
  {
   "cell_type": "code",
   "execution_count": 29,
   "id": "04453481",
   "metadata": {
    "scrolled": true
   },
   "outputs": [
    {
     "data": {
      "text/plain": [
       "['New York',\n",
       " 'Phoenix',\n",
       " 'San Antonio',\n",
       " 'Chicago',\n",
       " 'Los Angeles',\n",
       " 'Houston',\n",
       " 'Philadelphia']"
      ]
     },
     "execution_count": 29,
     "metadata": {},
     "output_type": "execute_result"
    }
   ],
   "source": [
    "define_city_sales(df[:])"
   ]
  },
  {
   "cell_type": "code",
   "execution_count": 36,
   "id": "71972367",
   "metadata": {},
   "outputs": [],
   "source": [
    "def calculate_sum_city(city=None, lst=[]):\n",
    "    money = 0\n",
    "    for el in lst:\n",
    "        if el[6] == city:\n",
    "            money += float(el[4]) * float(el[5])\n",
    "    return money"
   ]
  },
  {
   "cell_type": "code",
   "execution_count": 37,
   "id": "bdc4b978",
   "metadata": {},
   "outputs": [
    {
     "data": {
      "text/plain": [
       "113592473.94000022"
      ]
     },
     "execution_count": 37,
     "metadata": {},
     "output_type": "execute_result"
    }
   ],
   "source": [
    "calculate_sum_city('New York')"
   ]
  },
  {
   "cell_type": "code",
   "execution_count": 38,
   "id": "209a0606",
   "metadata": {},
   "outputs": [
    {
     "data": {
      "text/plain": [
       "111860419.61000007"
      ]
     },
     "execution_count": 38,
     "metadata": {},
     "output_type": "execute_result"
    }
   ],
   "source": [
    "calculate_sum_city('Phoenix')"
   ]
  },
  {
   "cell_type": "code",
   "execution_count": 39,
   "id": "7a1caba3",
   "metadata": {},
   "outputs": [
    {
     "name": "stdout",
     "output_type": "stream",
     "text": [
      "New York - 113592473.94000022\n",
      "Phoenix - 111860419.61000007\n",
      "San Antonio - 110059479.44000015\n",
      "Chicago - 110388139.03999996\n",
      "Los Angeles - 110340851.07999961\n",
      "Houston - 110427042.38999961\n",
      "Philadelphia - 111765829.45000073\n"
     ]
    }
   ],
   "source": [
    "for city in city_list:\n",
    "    print(f'{city} - {calculate_sum_city(city)}')"
   ]
  },
  {
   "cell_type": "code",
   "execution_count": 44,
   "id": "d8e34f71",
   "metadata": {},
   "outputs": [
    {
     "name": "stdout",
     "output_type": "stream",
     "text": [
      "New York          113592473.94\n",
      "Phoenix           111860419.61\n",
      "San Antonio       110059479.44\n",
      "Chicago           110388139.04\n",
      "Los Angeles       110340851.08\n",
      "Houston           110427042.39\n",
      "Philadelphia      111765829.45\n",
      "[['New York', 113592473.94000022], ['Phoenix', 111860419.61000007], ['San Antonio', 110059479.44000015], ['Chicago', 110388139.03999996], ['Los Angeles', 110340851.07999961], ['Houston', 110427042.38999961], ['Philadelphia', 111765829.45000073]]\n"
     ]
    }
   ],
   "source": [
    "lst_city_sum = []\n",
    "for city in city_list:\n",
    "    sum_city = calculate_sum_city(city)\n",
    "    print(\"{:<15}{:15.2f}\".format(city, sum_city))\n",
    "    lst_city_sum.append([city,sum_city])\n",
    "print(lst_city_sum)"
   ]
  },
  {
   "cell_type": "code",
   "execution_count": 46,
   "id": "ebdd8207",
   "metadata": {},
   "outputs": [],
   "source": [
    "my_list = sorted(lst_city_sum,key=lambda x: x[1],reverse=True)"
   ]
  },
  {
   "cell_type": "code",
   "execution_count": 47,
   "id": "29c9a231",
   "metadata": {},
   "outputs": [
    {
     "data": {
      "text/plain": [
       "[['New York', 113592473.94000022],\n",
       " ['Phoenix', 111860419.61000007],\n",
       " ['Philadelphia', 111765829.45000073],\n",
       " ['Houston', 110427042.38999961],\n",
       " ['Chicago', 110388139.03999996],\n",
       " ['Los Angeles', 110340851.07999961],\n",
       " ['San Antonio', 110059479.44000015]]"
      ]
     },
     "execution_count": 47,
     "metadata": {},
     "output_type": "execute_result"
    }
   ],
   "source": [
    "my_list"
   ]
  },
  {
   "cell_type": "code",
   "execution_count": 48,
   "id": "aa14fc91",
   "metadata": {},
   "outputs": [],
   "source": [
    "lst_city_sum.sort(key=lambda x: x[1],reverse=True)"
   ]
  },
  {
   "cell_type": "code",
   "execution_count": 49,
   "id": "74f87b25",
   "metadata": {},
   "outputs": [
    {
     "data": {
      "text/plain": [
       "[['New York', 113592473.94000022],\n",
       " ['Phoenix', 111860419.61000007],\n",
       " ['Philadelphia', 111765829.45000073],\n",
       " ['Houston', 110427042.38999961],\n",
       " ['Chicago', 110388139.03999996],\n",
       " ['Los Angeles', 110340851.07999961],\n",
       " ['San Antonio', 110059479.44000015]]"
      ]
     },
     "execution_count": 49,
     "metadata": {},
     "output_type": "execute_result"
    }
   ],
   "source": [
    "lst_city_sum"
   ]
  },
  {
   "cell_type": "code",
   "execution_count": null,
   "id": "182bd697",
   "metadata": {},
   "outputs": [],
   "source": []
  }
 ],
 "metadata": {
  "kernelspec": {
   "display_name": "Python 3 (ipykernel)",
   "language": "python",
   "name": "python3"
  },
  "language_info": {
   "codemirror_mode": {
    "name": "ipython",
    "version": 3
   },
   "file_extension": ".py",
   "mimetype": "text/x-python",
   "name": "python",
   "nbconvert_exporter": "python",
   "pygments_lexer": "ipython3",
   "version": "3.11.5"
  },
  "toc": {
   "base_numbering": 1,
   "nav_menu": {},
   "number_sections": true,
   "sideBar": true,
   "skip_h1_title": false,
   "title_cell": "Table of Contents",
   "title_sidebar": "Contents",
   "toc_cell": false,
   "toc_position": {},
   "toc_section_display": true,
   "toc_window_display": false
  }
 },
 "nbformat": 4,
 "nbformat_minor": 5
}
