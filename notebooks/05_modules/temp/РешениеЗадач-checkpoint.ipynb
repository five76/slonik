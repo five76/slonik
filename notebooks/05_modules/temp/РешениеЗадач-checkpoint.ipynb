{
 "cells": [
  {
   "cell_type": "markdown",
   "id": "2d1c56bc",
   "metadata": {},
   "source": [
    "## Количество букв разных регистров\n",
    "Напишите функцию Python, которая принимает строку и подсчитывает количество прописных и строчных букв.\n",
    "\n",
    "Вход: “The quick Brow Fox”\n",
    "\n",
    "Выход:\n",
    "\n",
    "Символов в ВЕРХНЕМ регистре : 3\n",
    "\n",
    "Символов в нижнем регистре : 12"
   ]
  },
  {
   "cell_type": "code",
   "execution_count": 14,
   "id": "30b2cd61",
   "metadata": {},
   "outputs": [],
   "source": [
    "def count_up_low(my_string):\n",
    "    up = low = 0\n",
    "    for el in my_string:\n",
    "        if el.isupper():\n",
    "            up += 1\n",
    "        elif el.islower():\n",
    "            low += 1\n",
    "        else:\n",
    "            pass\n",
    "    return (up, low)"
   ]
  },
  {
   "cell_type": "code",
   "execution_count": 15,
   "id": "62e8a127",
   "metadata": {},
   "outputs": [
    {
     "name": "stdout",
     "output_type": "stream",
     "text": [
      "(3, 12)\n"
     ]
    }
   ],
   "source": [
    "input_string = 'The quick Brow Fox'\n",
    "print(count_up_low(input_string))"
   ]
  },
  {
   "cell_type": "markdown",
   "id": "2981b5ce",
   "metadata": {},
   "source": [
    "## map"
   ]
  },
  {
   "cell_type": "markdown",
   "id": "a9712656",
   "metadata": {},
   "source": [
    "Напишите программу на Python, чтобы утроить все числа в заданном списке целых чисел. Используйте Python map"
   ]
  },
  {
   "cell_type": "code",
   "execution_count": 1,
   "id": "72caeed8",
   "metadata": {},
   "outputs": [
    {
     "name": "stdout",
     "output_type": "stream",
     "text": [
      "[97, 32, 67, 27, 43, 55, 57, 45, 27, 42]\n"
     ]
    }
   ],
   "source": [
    "from random import randint\n",
    "\n",
    "input_list = []\n",
    "\n",
    "for index in range(10):\n",
    "    input_list.append(randint(10,99))\n",
    "print(input_list)"
   ]
  },
  {
   "cell_type": "code",
   "execution_count": 2,
   "id": "f95a84dc",
   "metadata": {},
   "outputs": [
    {
     "data": {
      "text/plain": [
       "[291, 96, 201, 81, 129, 165, 171, 135, 81, 126]"
      ]
     },
     "execution_count": 2,
     "metadata": {},
     "output_type": "execute_result"
    }
   ],
   "source": [
    "list(map(lambda x: x * 3, input_list))"
   ]
  },
  {
   "cell_type": "code",
   "execution_count": null,
   "id": "e2de54bb",
   "metadata": {},
   "outputs": [],
   "source": []
  }
 ],
 "metadata": {
  "kernelspec": {
   "display_name": "Python 3 (ipykernel)",
   "language": "python",
   "name": "python3"
  },
  "language_info": {
   "codemirror_mode": {
    "name": "ipython",
    "version": 3
   },
   "file_extension": ".py",
   "mimetype": "text/x-python",
   "name": "python",
   "nbconvert_exporter": "python",
   "pygments_lexer": "ipython3",
   "version": "3.9.13"
  },
  "toc": {
   "base_numbering": 1,
   "nav_menu": {},
   "number_sections": true,
   "sideBar": true,
   "skip_h1_title": false,
   "title_cell": "Table of Contents",
   "title_sidebar": "Contents",
   "toc_cell": false,
   "toc_position": {},
   "toc_section_display": true,
   "toc_window_display": false
  }
 },
 "nbformat": 4,
 "nbformat_minor": 5
}
