{
 "cells": [
  {
   "cell_type": "markdown",
   "id": "f02e0a15",
   "metadata": {},
   "source": [
    "## Пакеты"
   ]
  },
  {
   "cell_type": "markdown",
   "id": "fd8c1f60",
   "metadata": {},
   "source": [
    "Помимо возможности импортировать имя модуля существует возможность импортировать **имена каталогов**. Каталог на языке Python называется **пакетом**, поэтому такая операция импортирования называется **импортированием пакетов**. \n",
    "\n",
    "Это немного усложненная особенность, но иерархическая структура, которую она создает, оказывается удобной для организации файлов в крупных системах и в большинстве случаев упрощает настройку пути поиска модулей. Паеты полезны при большом количестве созданных модулей, требующих систематизации.\n",
    "\n",
    "Каждый каталог в пути, указанном в инструкции импортирования пакета, должен содержать файл с именем **__ init __.py**. Данный файл предназначен для инициализации пакета. При его отсутствии каталог не распознается как пакет.\n",
    "\n",
    "Пакеты являются полезным инструментом, особенно в крупных программах: они делают операцию импортирования более информативной, выступают в роли организационного инструмента, упрощают поиск файлов модулей и способны разрешать возникающие неоднозначности."
   ]
  },
  {
   "cell_type": "markdown",
   "id": "e24dfce3",
   "metadata": {},
   "source": [
    "### Создание пакета"
   ]
  },
  {
   "cell_type": "markdown",
   "id": "bd72cc6c",
   "metadata": {},
   "source": [
    "1. Создать каталог с именем пакета.\n",
    "\n",
    "Название каталога будет являться именем пакета, поэтому требуется название, которое отражает его содержимое. Например, для работы с геометрическими фигурами можно создать каталог **geometry**\n",
    "\n",
    "2. Добавить файл **__ init __.py** в каталог. Этот файл является обязательным для корректного определения пакета Python. Файл может быть пустым или содержать инициализацию пакета.\n",
    "\n",
    "3. Добавить модули и функции в пакет. В каталоге пакета создать файлы .py с именами модулей и написать в них код. Например, для пакета geometry можно создать модуль squares.py с функциями для расчета площадей геометрических фигур.\n"
   ]
  },
  {
   "cell_type": "markdown",
   "id": "81ae4d87",
   "metadata": {},
   "source": [
    "### Использование пакета"
   ]
  },
  {
   "cell_type": "markdown",
   "id": "730e7771",
   "metadata": {},
   "source": [
    "Для использования пакета в проекте необходимо:\n",
    "\n",
    "1. Импортировать пакет. Используется инструкцию import для импорта пакета в свой код. \n",
    "\n",
    "Например:\n",
    "\n",
    "```python\n",
    "\n",
    "import geometry\n",
    "```\n",
    "\n",
    "2. Теперь можно обращаться к функциям и модулям из импортированого пакета. Например, чтобы использовать функцию triangle из модуля square пакета geometry, необходимо выполнить следующую команду:\n",
    "\n",
    "```python\n",
    "\n",
    "s = geometry.square.triangle(a,b,c)\n",
    "```\n",
    "\n",
    "Для упрощения использования модулей из пакета можно создать **псевдонимы**  для отдельных модулей:\n",
    "\n",
    "```python\n",
    "\n",
    "from geometry import square as sq\n",
    "...\n",
    "s = sq.triangle(a,b,c)\n",
    "```\n"
   ]
  },
  {
   "cell_type": "markdown",
   "id": "724a0e97",
   "metadata": {},
   "source": [
    "### Пример создания и использования пакета"
   ]
  },
  {
   "cell_type": "markdown",
   "id": "d02663c8",
   "metadata": {},
   "source": [
    "*Создать пакет **geometry** с модулями **squares** и **volumes**, для расчета площадей и объемов геометрических фигур*"
   ]
  },
  {
   "cell_type": "markdown",
   "id": "151b04ba",
   "metadata": {},
   "source": [
    "1. Создать каталог **geometry**"
   ]
  },
  {
   "cell_type": "markdown",
   "id": "8a2f41dd",
   "metadata": {},
   "source": [
    "2. Добавить файл **__ init __ .py** в каталог **geometry**"
   ]
  },
  {
   "cell_type": "markdown",
   "id": "af87f447",
   "metadata": {},
   "source": [
    "3. Создать файл **squares.py** в каталоге **geometry** и добавить следующий код:\n",
    "\n",
    "```python\n",
    "def circle(r):\n",
    "    return 3.14 * r * r    \n",
    "```"
   ]
  },
  {
   "cell_type": "markdown",
   "id": "134edfa7",
   "metadata": {},
   "source": [
    "4. Создать файл **volumes.py** в каталоге **geometry** и добавить следующий код:\n",
    "\n",
    "```python\n",
    "def ball(r):\n",
    "    return 4/3 * 3.14 * r * r * r   \n",
    "```\n"
   ]
  },
  {
   "cell_type": "code",
   "execution_count": 1,
   "id": "53f58e70",
   "metadata": {},
   "outputs": [],
   "source": [
    "from geometry import squares as sq\n",
    "from geometry import volumes as vol"
   ]
  },
  {
   "cell_type": "code",
   "execution_count": 3,
   "id": "8c82dcc7",
   "metadata": {},
   "outputs": [
    {
     "data": {
      "text/plain": [
       "6.0"
      ]
     },
     "execution_count": 3,
     "metadata": {},
     "output_type": "execute_result"
    }
   ],
   "source": [
    "sq.triangle(3,4,5)"
   ]
  },
  {
   "cell_type": "code",
   "execution_count": 2,
   "id": "7f4ba2db",
   "metadata": {
    "scrolled": true
   },
   "outputs": [
    {
     "data": {
      "text/plain": [
       "113.03999999999998"
      ]
     },
     "execution_count": 2,
     "metadata": {},
     "output_type": "execute_result"
    }
   ],
   "source": [
    "vol.ball(3)"
   ]
  },
  {
   "cell_type": "code",
   "execution_count": null,
   "id": "6b36f498",
   "metadata": {},
   "outputs": [],
   "source": []
  }
 ],
 "metadata": {
  "kernelspec": {
   "display_name": "Python 3 (ipykernel)",
   "language": "python",
   "name": "python3"
  },
  "language_info": {
   "codemirror_mode": {
    "name": "ipython",
    "version": 3
   },
   "file_extension": ".py",
   "mimetype": "text/x-python",
   "name": "python",
   "nbconvert_exporter": "python",
   "pygments_lexer": "ipython3",
   "version": "3.11.5"
  },
  "toc": {
   "base_numbering": 1,
   "nav_menu": {},
   "number_sections": true,
   "sideBar": true,
   "skip_h1_title": false,
   "title_cell": "Table of Contents",
   "title_sidebar": "Contents",
   "toc_cell": false,
   "toc_position": {},
   "toc_section_display": true,
   "toc_window_display": false
  }
 },
 "nbformat": 4,
 "nbformat_minor": 5
}
