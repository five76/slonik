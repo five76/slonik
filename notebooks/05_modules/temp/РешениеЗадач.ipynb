{
 "cells": [
  {
   "cell_type": "markdown",
   "id": "2d1c56bc",
   "metadata": {},
   "source": [
    "## Количество букв разных регистров\n",
    "Напишите функцию Python, которая принимает строку и подсчитывает количество прописных и строчных букв.\n",
    "\n",
    "Вход: “The quick Brow Fox”\n",
    "\n",
    "Выход:\n",
    "\n",
    "Символов в ВЕРХНЕМ регистре : 3\n",
    "\n",
    "Символов в нижнем регистре : 12"
   ]
  },
  {
   "cell_type": "code",
   "execution_count": 14,
   "id": "30b2cd61",
   "metadata": {},
   "outputs": [],
   "source": [
    "def count_up_low(my_string):\n",
    "    up = low = 0\n",
    "    for el in my_string:\n",
    "        if el.isupper():\n",
    "            up += 1\n",
    "        elif el.islower():\n",
    "            low += 1\n",
    "        else:\n",
    "            pass\n",
    "    return (up, low)"
   ]
  },
  {
   "cell_type": "code",
   "execution_count": 15,
   "id": "62e8a127",
   "metadata": {},
   "outputs": [
    {
     "name": "stdout",
     "output_type": "stream",
     "text": [
      "(3, 12)\n"
     ]
    }
   ],
   "source": [
    "input_string = 'The quick Brow Fox'\n",
    "print(count_up_low(input_string))"
   ]
  },
  {
   "cell_type": "markdown",
   "id": "2981b5ce",
   "metadata": {},
   "source": [
    "## map"
   ]
  },
  {
   "cell_type": "markdown",
   "id": "a9712656",
   "metadata": {},
   "source": [
    "1. Напишите программу на Python, чтобы утроить все числа в заданном списке целых чисел. Используйте Python map"
   ]
  },
  {
   "cell_type": "code",
   "execution_count": 1,
   "id": "72caeed8",
   "metadata": {},
   "outputs": [
    {
     "name": "stdout",
     "output_type": "stream",
     "text": [
      "[97, 32, 67, 27, 43, 55, 57, 45, 27, 42]\n"
     ]
    }
   ],
   "source": [
    "from random import randint\n",
    "\n",
    "input_list = []\n",
    "\n",
    "for index in range(10):\n",
    "    input_list.append(randint(10,99))\n",
    "print(input_list)"
   ]
  },
  {
   "cell_type": "code",
   "execution_count": 5,
   "id": "abb732a1",
   "metadata": {},
   "outputs": [],
   "source": [
    "def func1(x):\n",
    "    return x * 3"
   ]
  },
  {
   "cell_type": "code",
   "execution_count": 6,
   "id": "51af4ffe",
   "metadata": {},
   "outputs": [
    {
     "data": {
      "text/plain": [
       "[291, 96, 201, 81, 129, 165, 171, 135, 81, 126]"
      ]
     },
     "execution_count": 6,
     "metadata": {},
     "output_type": "execute_result"
    }
   ],
   "source": [
    "list(map(func1, input_list))"
   ]
  },
  {
   "cell_type": "code",
   "execution_count": 7,
   "id": "6d9b5de7",
   "metadata": {},
   "outputs": [
    {
     "data": {
      "text/plain": [
       "[291, 96, 201, 81, 129, 165, 171, 135, 81, 126]"
      ]
     },
     "execution_count": 7,
     "metadata": {},
     "output_type": "execute_result"
    }
   ],
   "source": [
    "list(map(lambda x: x * 3, input_list))"
   ]
  },
  {
   "cell_type": "markdown",
   "id": "ec8bdf2f",
   "metadata": {},
   "source": [
    "2. Напишите программу на Python для создания списка, состоящего из элементов, возведеных в степень своего индекса, используя Python map"
   ]
  },
  {
   "cell_type": "code",
   "execution_count": 19,
   "id": "58a2dfbd",
   "metadata": {},
   "outputs": [
    {
     "data": {
      "text/plain": [
       "[1,\n",
       " 96,\n",
       " 40401,\n",
       " 531441,\n",
       " 276922881,\n",
       " 122298103125,\n",
       " 25002110044521,\n",
       " 817215093984375,\n",
       " 1853020188851841,\n",
       " 8004512848309157376]"
      ]
     },
     "execution_count": 19,
     "metadata": {},
     "output_type": "execute_result"
    }
   ],
   "source": [
    "list(map(pow, [291, 96, 201, 81, 129, 165, 171, 135, 81, 126],[0, 1, 2, 3, 4, 5, 6, 7, 8, 9]))"
   ]
  },
  {
   "cell_type": "markdown",
   "id": "c2230a23",
   "metadata": {},
   "source": [
    "pow(291,0)\n",
    "\n",
    "pow(96,1)\n",
    "\n",
    "...\n",
    "\n",
    "pow(126,9)"
   ]
  },
  {
   "cell_type": "markdown",
   "id": "12ec4a50",
   "metadata": {},
   "source": [
    "Напишите программу на Python, которая создает список имен и использует функцию фильтра для извлечения имен, начинающихся с буквы Е."
   ]
  },
  {
   "cell_type": "code",
   "execution_count": 1,
   "id": "7a3e2eb7",
   "metadata": {},
   "outputs": [
    {
     "name": "stdout",
     "output_type": "stream",
     "text": [
      "['Глуховская Виталия Брониславовна\\n',\n",
      " 'Дубова Констанция Ерофеевна\\n',\n",
      " 'Зиновьева Тара Ефремовна\\n',\n",
      " 'Моисеева Лера Абрамовна\\n',\n",
      " 'Наумов Валентин Филатович\\n',\n",
      " 'Сазонов Потап Харламович\\n',\n",
      " 'Скоробогатов Антонин Феодосьевич\\n',\n",
      " 'Солопов Григорий Анатольевич\\n',\n",
      " 'Шатыренок Тит Антипович\\n',\n",
      " 'Шахмагонова Магдалена Феодосьевна\\n']\n"
     ]
    }
   ],
   "source": [
    "from pprint import pprint\n",
    "with open('C:\\\\Users\\Admin\\\\Documents\\\\сотрудники.txt','r',encoding='utf-8') as f:\n",
    "    empl_lst = f.readlines()\n",
    "pprint(empl_lst)"
   ]
  },
  {
   "cell_type": "markdown",
   "id": "81046e3d",
   "metadata": {},
   "source": [
    "Извлечь строки, начинающиеся с \"С\""
   ]
  },
  {
   "cell_type": "code",
   "execution_count": 2,
   "id": "21a35635",
   "metadata": {},
   "outputs": [
    {
     "data": {
      "text/plain": [
       "['Сазонов Потап Харламович\\n',\n",
       " 'Скоробогатов Антонин Феодосьевич\\n',\n",
       " 'Солопов Григорий Анатольевич\\n']"
      ]
     },
     "execution_count": 2,
     "metadata": {},
     "output_type": "execute_result"
    }
   ],
   "source": [
    "list(filter(lambda x: x[0] == 'С',empl_lst))"
   ]
  },
  {
   "cell_type": "code",
   "execution_count": 37,
   "id": "8b5ccf0e",
   "metadata": {},
   "outputs": [
    {
     "data": {
      "text/plain": [
       "[25, 33, 29]"
      ]
     },
     "execution_count": 37,
     "metadata": {},
     "output_type": "execute_result"
    }
   ],
   "source": [
    "list(map(len,filter(lambda x: x[0] == 'С',empl_lst)))"
   ]
  },
  {
   "cell_type": "code",
   "execution_count": 40,
   "id": "cb8e1c50",
   "metadata": {},
   "outputs": [
    {
     "data": {
      "text/plain": [
       "87"
      ]
     },
     "execution_count": 40,
     "metadata": {},
     "output_type": "execute_result"
    }
   ],
   "source": [
    "from functools import reduce\n",
    "reduce(lambda x,y: x + y ,map(len,filter(lambda x: x[0] == 'С',empl_lst)))"
   ]
  },
  {
   "cell_type": "code",
   "execution_count": null,
   "id": "805bb52b",
   "metadata": {},
   "outputs": [],
   "source": []
  }
 ],
 "metadata": {
  "kernelspec": {
   "display_name": "Python 3 (ipykernel)",
   "language": "python",
   "name": "python3"
  },
  "language_info": {
   "codemirror_mode": {
    "name": "ipython",
    "version": 3
   },
   "file_extension": ".py",
   "mimetype": "text/x-python",
   "name": "python",
   "nbconvert_exporter": "python",
   "pygments_lexer": "ipython3",
   "version": "3.11.5"
  },
  "toc": {
   "base_numbering": 1,
   "nav_menu": {},
   "number_sections": true,
   "sideBar": true,
   "skip_h1_title": false,
   "title_cell": "Table of Contents",
   "title_sidebar": "Contents",
   "toc_cell": false,
   "toc_position": {},
   "toc_section_display": true,
   "toc_window_display": false
  }
 },
 "nbformat": 4,
 "nbformat_minor": 5
}
