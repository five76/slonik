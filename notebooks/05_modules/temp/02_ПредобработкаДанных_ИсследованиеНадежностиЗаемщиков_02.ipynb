{
 "cells": [
  {
   "cell_type": "markdown",
   "id": "879994d9",
   "metadata": {},
   "source": [
    "<div style=\"border:solid Chocolate 2px; padding: 40px\">\n",
    "\n",
    "<b>Привет!👋</b>\n",
    "\n",
    "Меня зовут Огурлиев Анзор, я буду ревьюером твоего проекта. Сразу хочу предложить тебе общаться на \"ты\", если тебе это неудобно, скажи мне об этом. Нам предстоит пройти с тобой через тернистый и от того интересный путь анализа данных! Можешь не переживать, я всегда помогу тебе, если у тебя возникнут вопросы)\n",
    "\n",
    "По ходу твоей работы я буду оставлять свои комментарии, по выполненным тобой шагам. Попрошу тебя не удалять их, так мне будет проще отслеживать твой прогресс в случае повторной проверки. \n",
    "    \n",
    "Очень важно вести диалог и обсуждать те пункты, которые у тебя могли не получиться, поэтому, ты можешь оставлять свои комментарии, и мы обязательно во всем разберемся! Самое главное - выделяй свои комментарии удобным для тебя способом (цвет, рамка), но так, чтобы они отчетлитво отличались от моих комментариев. Так мы ни в чем не запутаемся)\n",
    "\n",
    "Свои комментарии я буду выделять так: <font color='green'>зеленый</font>, <font color='gold'>желтый</font> и <font color='red'>красный</font> цвет, например:\n",
    "\n",
    "<br/>\n",
    "\n",
    "<div class=\"alert alert-success\">\n",
    "<h2> Комментарий ревьюера V1<a class=\"tocSkip\"> </h2>\n",
    "\n",
    "<b>Все отлично!👍:</b> Этот комментарий я буду оставлять, если твое решение оптимально для данного шага.\n",
    "</div>\n",
    "\n",
    "<br/>\n",
    "\n",
    "<div class=\"alert alert-warning\">\n",
    "    <h2> Комментарий ревьюера V1<a class=\"tocSkip\"> </h2>\n",
    "    \n",
    "<b>Некоторые замечания и рекомендации💡:</b> Это не означает, что ты совершил ошибку. Такими комментариями я буду отмечать места, где ты справился с задачей, но её можно решить ещё лучше. Также в таких комментариях я буду оставлять для тебя другие советы.\n",
    "</div>\n",
    "\n",
    "\n",
    "<br/>\n",
    "<div class=\"alert alert-block alert-danger\">\n",
    "<h2> Комментарий ревьюера V1<a class=\"tocSkip\"></h2>\n",
    "\n",
    "    \n",
    "<b>На доработку🤔:</b>\n",
    "Если решение, которое ты применил на определенном шаге, требует значительных изменений, то я буду оставлять такой комментарий. Тебе нужно будет подумать еще раз как правильным образом решить данный этап. Если ревью содержит такие комментарии, то я не смогу принять проект с первого раза.\n",
    "</div>\n",
    "    \n",
    "P.S. В оглавлении комментария ты увидишь `V1` (`V1`, `V2`, `V3`) - это версия моего комментария, которая понадобится нам с тобой, чтобы не запутаться, если потребуется оставить тебе комментарии после первой проверки."
   ]
  },
  {
   "cell_type": "markdown",
   "id": "f1c1f2f8",
   "metadata": {
    "deletable": false,
    "editable": false,
    "id": "c81daeeb"
   },
   "source": [
    "# Исследование надежности заемщиков\n"
   ]
  },
  {
   "cell_type": "markdown",
   "id": "160a6618",
   "metadata": {
    "deletable": false,
    "editable": false,
    "id": "827c20bf"
   },
   "source": [
    "Во второй части проекта вы выполните шаги 3 и 4. Их вручную проверит ревьюер.\n",
    "Чтобы вам не пришлось писать код заново для шагов 1 и 2, мы добавили авторские решения в ячейки с кодом. \n",
    "\n"
   ]
  },
  {
   "cell_type": "markdown",
   "id": "3eae3a3a",
   "metadata": {
    "deletable": false,
    "editable": false,
    "id": "744d7639"
   },
   "source": [
    "## Откройте таблицу и изучите общую информацию о данных"
   ]
  },
  {
   "cell_type": "markdown",
   "id": "b1c0a59d",
   "metadata": {
    "deletable": false,
    "editable": false,
    "id": "e7a14c31"
   },
   "source": [
    "**Задание 1. Импортируйте библиотеку pandas. Считайте данные из csv-файла в датафрейм и сохраните в переменную `data`. Путь к файлу:**\n",
    "\n",
    "`/datasets/data.csv`"
   ]
  },
  {
   "cell_type": "code",
   "execution_count": 1,
   "id": "360a7b63",
   "metadata": {
    "deletable": false,
    "id": "7bcf75c9"
   },
   "outputs": [],
   "source": [
    "import pandas as pd\n",
    "\n",
    "try:\n",
    "    data = pd.read_csv('/datasets/data.csv')\n",
    "except:\n",
    "    data = pd.read_csv('https://code.s3.yandex.net/datasets/data.csv')"
   ]
  },
  {
   "cell_type": "markdown",
   "id": "8158b7b2",
   "metadata": {
    "deletable": false,
    "editable": false,
    "id": "b8038fe3"
   },
   "source": [
    "**Задание 2. Выведите первые 20 строчек датафрейма `data` на экран.**"
   ]
  },
  {
   "cell_type": "code",
   "execution_count": 2,
   "id": "6a0938d4",
   "metadata": {
    "deletable": false,
    "id": "2a7cab99",
    "outputId": "1a8f3ef2-d323-4ec2-ddf7-89670b5944c4"
   },
   "outputs": [
    {
     "data": {
      "text/html": [
       "<div>\n",
       "<style scoped>\n",
       "    .dataframe tbody tr th:only-of-type {\n",
       "        vertical-align: middle;\n",
       "    }\n",
       "\n",
       "    .dataframe tbody tr th {\n",
       "        vertical-align: top;\n",
       "    }\n",
       "\n",
       "    .dataframe thead th {\n",
       "        text-align: right;\n",
       "    }\n",
       "</style>\n",
       "<table border=\"1\" class=\"dataframe\">\n",
       "  <thead>\n",
       "    <tr style=\"text-align: right;\">\n",
       "      <th></th>\n",
       "      <th>children</th>\n",
       "      <th>days_employed</th>\n",
       "      <th>dob_years</th>\n",
       "      <th>education</th>\n",
       "      <th>education_id</th>\n",
       "      <th>family_status</th>\n",
       "      <th>family_status_id</th>\n",
       "      <th>gender</th>\n",
       "      <th>income_type</th>\n",
       "      <th>debt</th>\n",
       "      <th>total_income</th>\n",
       "      <th>purpose</th>\n",
       "    </tr>\n",
       "  </thead>\n",
       "  <tbody>\n",
       "    <tr>\n",
       "      <th>0</th>\n",
       "      <td>1</td>\n",
       "      <td>-8437.673028</td>\n",
       "      <td>42</td>\n",
       "      <td>высшее</td>\n",
       "      <td>0</td>\n",
       "      <td>женат / замужем</td>\n",
       "      <td>0</td>\n",
       "      <td>F</td>\n",
       "      <td>сотрудник</td>\n",
       "      <td>0</td>\n",
       "      <td>253875.639453</td>\n",
       "      <td>покупка жилья</td>\n",
       "    </tr>\n",
       "    <tr>\n",
       "      <th>1</th>\n",
       "      <td>1</td>\n",
       "      <td>-4024.803754</td>\n",
       "      <td>36</td>\n",
       "      <td>среднее</td>\n",
       "      <td>1</td>\n",
       "      <td>женат / замужем</td>\n",
       "      <td>0</td>\n",
       "      <td>F</td>\n",
       "      <td>сотрудник</td>\n",
       "      <td>0</td>\n",
       "      <td>112080.014102</td>\n",
       "      <td>приобретение автомобиля</td>\n",
       "    </tr>\n",
       "    <tr>\n",
       "      <th>2</th>\n",
       "      <td>0</td>\n",
       "      <td>-5623.422610</td>\n",
       "      <td>33</td>\n",
       "      <td>Среднее</td>\n",
       "      <td>1</td>\n",
       "      <td>женат / замужем</td>\n",
       "      <td>0</td>\n",
       "      <td>M</td>\n",
       "      <td>сотрудник</td>\n",
       "      <td>0</td>\n",
       "      <td>145885.952297</td>\n",
       "      <td>покупка жилья</td>\n",
       "    </tr>\n",
       "    <tr>\n",
       "      <th>3</th>\n",
       "      <td>3</td>\n",
       "      <td>-4124.747207</td>\n",
       "      <td>32</td>\n",
       "      <td>среднее</td>\n",
       "      <td>1</td>\n",
       "      <td>женат / замужем</td>\n",
       "      <td>0</td>\n",
       "      <td>M</td>\n",
       "      <td>сотрудник</td>\n",
       "      <td>0</td>\n",
       "      <td>267628.550329</td>\n",
       "      <td>дополнительное образование</td>\n",
       "    </tr>\n",
       "    <tr>\n",
       "      <th>4</th>\n",
       "      <td>0</td>\n",
       "      <td>340266.072047</td>\n",
       "      <td>53</td>\n",
       "      <td>среднее</td>\n",
       "      <td>1</td>\n",
       "      <td>гражданский брак</td>\n",
       "      <td>1</td>\n",
       "      <td>F</td>\n",
       "      <td>пенсионер</td>\n",
       "      <td>0</td>\n",
       "      <td>158616.077870</td>\n",
       "      <td>сыграть свадьбу</td>\n",
       "    </tr>\n",
       "    <tr>\n",
       "      <th>5</th>\n",
       "      <td>0</td>\n",
       "      <td>-926.185831</td>\n",
       "      <td>27</td>\n",
       "      <td>высшее</td>\n",
       "      <td>0</td>\n",
       "      <td>гражданский брак</td>\n",
       "      <td>1</td>\n",
       "      <td>M</td>\n",
       "      <td>компаньон</td>\n",
       "      <td>0</td>\n",
       "      <td>255763.565419</td>\n",
       "      <td>покупка жилья</td>\n",
       "    </tr>\n",
       "    <tr>\n",
       "      <th>6</th>\n",
       "      <td>0</td>\n",
       "      <td>-2879.202052</td>\n",
       "      <td>43</td>\n",
       "      <td>высшее</td>\n",
       "      <td>0</td>\n",
       "      <td>женат / замужем</td>\n",
       "      <td>0</td>\n",
       "      <td>F</td>\n",
       "      <td>компаньон</td>\n",
       "      <td>0</td>\n",
       "      <td>240525.971920</td>\n",
       "      <td>операции с жильем</td>\n",
       "    </tr>\n",
       "    <tr>\n",
       "      <th>7</th>\n",
       "      <td>0</td>\n",
       "      <td>-152.779569</td>\n",
       "      <td>50</td>\n",
       "      <td>СРЕДНЕЕ</td>\n",
       "      <td>1</td>\n",
       "      <td>женат / замужем</td>\n",
       "      <td>0</td>\n",
       "      <td>M</td>\n",
       "      <td>сотрудник</td>\n",
       "      <td>0</td>\n",
       "      <td>135823.934197</td>\n",
       "      <td>образование</td>\n",
       "    </tr>\n",
       "    <tr>\n",
       "      <th>8</th>\n",
       "      <td>2</td>\n",
       "      <td>-6929.865299</td>\n",
       "      <td>35</td>\n",
       "      <td>ВЫСШЕЕ</td>\n",
       "      <td>0</td>\n",
       "      <td>гражданский брак</td>\n",
       "      <td>1</td>\n",
       "      <td>F</td>\n",
       "      <td>сотрудник</td>\n",
       "      <td>0</td>\n",
       "      <td>95856.832424</td>\n",
       "      <td>на проведение свадьбы</td>\n",
       "    </tr>\n",
       "    <tr>\n",
       "      <th>9</th>\n",
       "      <td>0</td>\n",
       "      <td>-2188.756445</td>\n",
       "      <td>41</td>\n",
       "      <td>среднее</td>\n",
       "      <td>1</td>\n",
       "      <td>женат / замужем</td>\n",
       "      <td>0</td>\n",
       "      <td>M</td>\n",
       "      <td>сотрудник</td>\n",
       "      <td>0</td>\n",
       "      <td>144425.938277</td>\n",
       "      <td>покупка жилья для семьи</td>\n",
       "    </tr>\n",
       "    <tr>\n",
       "      <th>10</th>\n",
       "      <td>2</td>\n",
       "      <td>-4171.483647</td>\n",
       "      <td>36</td>\n",
       "      <td>высшее</td>\n",
       "      <td>0</td>\n",
       "      <td>женат / замужем</td>\n",
       "      <td>0</td>\n",
       "      <td>M</td>\n",
       "      <td>компаньон</td>\n",
       "      <td>0</td>\n",
       "      <td>113943.491460</td>\n",
       "      <td>покупка недвижимости</td>\n",
       "    </tr>\n",
       "    <tr>\n",
       "      <th>11</th>\n",
       "      <td>0</td>\n",
       "      <td>-792.701887</td>\n",
       "      <td>40</td>\n",
       "      <td>среднее</td>\n",
       "      <td>1</td>\n",
       "      <td>женат / замужем</td>\n",
       "      <td>0</td>\n",
       "      <td>F</td>\n",
       "      <td>сотрудник</td>\n",
       "      <td>0</td>\n",
       "      <td>77069.234271</td>\n",
       "      <td>покупка коммерческой недвижимости</td>\n",
       "    </tr>\n",
       "    <tr>\n",
       "      <th>12</th>\n",
       "      <td>0</td>\n",
       "      <td>NaN</td>\n",
       "      <td>65</td>\n",
       "      <td>среднее</td>\n",
       "      <td>1</td>\n",
       "      <td>гражданский брак</td>\n",
       "      <td>1</td>\n",
       "      <td>M</td>\n",
       "      <td>пенсионер</td>\n",
       "      <td>0</td>\n",
       "      <td>NaN</td>\n",
       "      <td>сыграть свадьбу</td>\n",
       "    </tr>\n",
       "    <tr>\n",
       "      <th>13</th>\n",
       "      <td>0</td>\n",
       "      <td>-1846.641941</td>\n",
       "      <td>54</td>\n",
       "      <td>неоконченное высшее</td>\n",
       "      <td>2</td>\n",
       "      <td>женат / замужем</td>\n",
       "      <td>0</td>\n",
       "      <td>F</td>\n",
       "      <td>сотрудник</td>\n",
       "      <td>0</td>\n",
       "      <td>130458.228857</td>\n",
       "      <td>приобретение автомобиля</td>\n",
       "    </tr>\n",
       "    <tr>\n",
       "      <th>14</th>\n",
       "      <td>0</td>\n",
       "      <td>-1844.956182</td>\n",
       "      <td>56</td>\n",
       "      <td>высшее</td>\n",
       "      <td>0</td>\n",
       "      <td>гражданский брак</td>\n",
       "      <td>1</td>\n",
       "      <td>F</td>\n",
       "      <td>компаньон</td>\n",
       "      <td>1</td>\n",
       "      <td>165127.911772</td>\n",
       "      <td>покупка жилой недвижимости</td>\n",
       "    </tr>\n",
       "    <tr>\n",
       "      <th>15</th>\n",
       "      <td>1</td>\n",
       "      <td>-972.364419</td>\n",
       "      <td>26</td>\n",
       "      <td>среднее</td>\n",
       "      <td>1</td>\n",
       "      <td>женат / замужем</td>\n",
       "      <td>0</td>\n",
       "      <td>F</td>\n",
       "      <td>сотрудник</td>\n",
       "      <td>0</td>\n",
       "      <td>116820.904450</td>\n",
       "      <td>строительство собственной недвижимости</td>\n",
       "    </tr>\n",
       "    <tr>\n",
       "      <th>16</th>\n",
       "      <td>0</td>\n",
       "      <td>-1719.934226</td>\n",
       "      <td>35</td>\n",
       "      <td>среднее</td>\n",
       "      <td>1</td>\n",
       "      <td>женат / замужем</td>\n",
       "      <td>0</td>\n",
       "      <td>F</td>\n",
       "      <td>сотрудник</td>\n",
       "      <td>0</td>\n",
       "      <td>289202.704229</td>\n",
       "      <td>недвижимость</td>\n",
       "    </tr>\n",
       "    <tr>\n",
       "      <th>17</th>\n",
       "      <td>0</td>\n",
       "      <td>-2369.999720</td>\n",
       "      <td>33</td>\n",
       "      <td>высшее</td>\n",
       "      <td>0</td>\n",
       "      <td>гражданский брак</td>\n",
       "      <td>1</td>\n",
       "      <td>M</td>\n",
       "      <td>сотрудник</td>\n",
       "      <td>0</td>\n",
       "      <td>90410.586745</td>\n",
       "      <td>строительство недвижимости</td>\n",
       "    </tr>\n",
       "    <tr>\n",
       "      <th>18</th>\n",
       "      <td>0</td>\n",
       "      <td>400281.136913</td>\n",
       "      <td>53</td>\n",
       "      <td>среднее</td>\n",
       "      <td>1</td>\n",
       "      <td>вдовец / вдова</td>\n",
       "      <td>2</td>\n",
       "      <td>F</td>\n",
       "      <td>пенсионер</td>\n",
       "      <td>0</td>\n",
       "      <td>56823.777243</td>\n",
       "      <td>на покупку подержанного автомобиля</td>\n",
       "    </tr>\n",
       "    <tr>\n",
       "      <th>19</th>\n",
       "      <td>0</td>\n",
       "      <td>-10038.818549</td>\n",
       "      <td>48</td>\n",
       "      <td>СРЕДНЕЕ</td>\n",
       "      <td>1</td>\n",
       "      <td>в разводе</td>\n",
       "      <td>3</td>\n",
       "      <td>F</td>\n",
       "      <td>сотрудник</td>\n",
       "      <td>0</td>\n",
       "      <td>242831.107982</td>\n",
       "      <td>на покупку своего автомобиля</td>\n",
       "    </tr>\n",
       "  </tbody>\n",
       "</table>\n",
       "</div>"
      ],
      "text/plain": [
       "    children  days_employed  dob_years            education  education_id  \\\n",
       "0          1   -8437.673028         42               высшее             0   \n",
       "1          1   -4024.803754         36              среднее             1   \n",
       "2          0   -5623.422610         33              Среднее             1   \n",
       "3          3   -4124.747207         32              среднее             1   \n",
       "4          0  340266.072047         53              среднее             1   \n",
       "5          0    -926.185831         27               высшее             0   \n",
       "6          0   -2879.202052         43               высшее             0   \n",
       "7          0    -152.779569         50              СРЕДНЕЕ             1   \n",
       "8          2   -6929.865299         35               ВЫСШЕЕ             0   \n",
       "9          0   -2188.756445         41              среднее             1   \n",
       "10         2   -4171.483647         36               высшее             0   \n",
       "11         0    -792.701887         40              среднее             1   \n",
       "12         0            NaN         65              среднее             1   \n",
       "13         0   -1846.641941         54  неоконченное высшее             2   \n",
       "14         0   -1844.956182         56               высшее             0   \n",
       "15         1    -972.364419         26              среднее             1   \n",
       "16         0   -1719.934226         35              среднее             1   \n",
       "17         0   -2369.999720         33               высшее             0   \n",
       "18         0  400281.136913         53              среднее             1   \n",
       "19         0  -10038.818549         48              СРЕДНЕЕ             1   \n",
       "\n",
       "       family_status  family_status_id gender income_type  debt  \\\n",
       "0    женат / замужем                 0      F   сотрудник     0   \n",
       "1    женат / замужем                 0      F   сотрудник     0   \n",
       "2    женат / замужем                 0      M   сотрудник     0   \n",
       "3    женат / замужем                 0      M   сотрудник     0   \n",
       "4   гражданский брак                 1      F   пенсионер     0   \n",
       "5   гражданский брак                 1      M   компаньон     0   \n",
       "6    женат / замужем                 0      F   компаньон     0   \n",
       "7    женат / замужем                 0      M   сотрудник     0   \n",
       "8   гражданский брак                 1      F   сотрудник     0   \n",
       "9    женат / замужем                 0      M   сотрудник     0   \n",
       "10   женат / замужем                 0      M   компаньон     0   \n",
       "11   женат / замужем                 0      F   сотрудник     0   \n",
       "12  гражданский брак                 1      M   пенсионер     0   \n",
       "13   женат / замужем                 0      F   сотрудник     0   \n",
       "14  гражданский брак                 1      F   компаньон     1   \n",
       "15   женат / замужем                 0      F   сотрудник     0   \n",
       "16   женат / замужем                 0      F   сотрудник     0   \n",
       "17  гражданский брак                 1      M   сотрудник     0   \n",
       "18    вдовец / вдова                 2      F   пенсионер     0   \n",
       "19         в разводе                 3      F   сотрудник     0   \n",
       "\n",
       "     total_income                                 purpose  \n",
       "0   253875.639453                           покупка жилья  \n",
       "1   112080.014102                 приобретение автомобиля  \n",
       "2   145885.952297                           покупка жилья  \n",
       "3   267628.550329              дополнительное образование  \n",
       "4   158616.077870                         сыграть свадьбу  \n",
       "5   255763.565419                           покупка жилья  \n",
       "6   240525.971920                       операции с жильем  \n",
       "7   135823.934197                             образование  \n",
       "8    95856.832424                   на проведение свадьбы  \n",
       "9   144425.938277                 покупка жилья для семьи  \n",
       "10  113943.491460                    покупка недвижимости  \n",
       "11   77069.234271       покупка коммерческой недвижимости  \n",
       "12            NaN                         сыграть свадьбу  \n",
       "13  130458.228857                 приобретение автомобиля  \n",
       "14  165127.911772              покупка жилой недвижимости  \n",
       "15  116820.904450  строительство собственной недвижимости  \n",
       "16  289202.704229                            недвижимость  \n",
       "17   90410.586745              строительство недвижимости  \n",
       "18   56823.777243      на покупку подержанного автомобиля  \n",
       "19  242831.107982            на покупку своего автомобиля  "
      ]
     },
     "execution_count": 2,
     "metadata": {},
     "output_type": "execute_result"
    }
   ],
   "source": [
    "data.head(20)"
   ]
  },
  {
   "cell_type": "markdown",
   "id": "c46e59d2",
   "metadata": {
    "deletable": false,
    "editable": false,
    "id": "1c12e233"
   },
   "source": [
    "**Задание 3. Выведите основную информацию о датафрейме с помощью метода `info()`.**"
   ]
  },
  {
   "cell_type": "code",
   "execution_count": 3,
   "id": "d44644b9",
   "metadata": {
    "deletable": false,
    "id": "2b757bca",
    "outputId": "15376089-8dad-46c9-b520-c05248d43158"
   },
   "outputs": [
    {
     "name": "stdout",
     "output_type": "stream",
     "text": [
      "<class 'pandas.core.frame.DataFrame'>\n",
      "RangeIndex: 21525 entries, 0 to 21524\n",
      "Data columns (total 12 columns):\n",
      " #   Column            Non-Null Count  Dtype  \n",
      "---  ------            --------------  -----  \n",
      " 0   children          21525 non-null  int64  \n",
      " 1   days_employed     19351 non-null  float64\n",
      " 2   dob_years         21525 non-null  int64  \n",
      " 3   education         21525 non-null  object \n",
      " 4   education_id      21525 non-null  int64  \n",
      " 5   family_status     21525 non-null  object \n",
      " 6   family_status_id  21525 non-null  int64  \n",
      " 7   gender            21525 non-null  object \n",
      " 8   income_type       21525 non-null  object \n",
      " 9   debt              21525 non-null  int64  \n",
      " 10  total_income      19351 non-null  float64\n",
      " 11  purpose           21525 non-null  object \n",
      "dtypes: float64(2), int64(5), object(5)\n",
      "memory usage: 2.0+ MB\n"
     ]
    }
   ],
   "source": [
    "data.info()"
   ]
  },
  {
   "cell_type": "markdown",
   "id": "0ea97902",
   "metadata": {
    "deletable": false,
    "editable": false,
    "id": "333ec665"
   },
   "source": [
    "## Предобработка данных"
   ]
  },
  {
   "cell_type": "markdown",
   "id": "4407cf5f",
   "metadata": {
    "deletable": false,
    "editable": false,
    "id": "02d92d53"
   },
   "source": [
    "### Удаление пропусков"
   ]
  },
  {
   "cell_type": "markdown",
   "id": "541d7c7f",
   "metadata": {
    "deletable": false,
    "editable": false,
    "id": "cd84967c"
   },
   "source": [
    "**Задание 4. Выведите количество пропущенных значений для каждого столбца. Используйте комбинацию двух методов.**"
   ]
  },
  {
   "cell_type": "code",
   "execution_count": 4,
   "id": "002988cd",
   "metadata": {
    "deletable": false,
    "id": "7f9b2309",
    "outputId": "81f4d817-781c-465c-ed15-91ce4446810d"
   },
   "outputs": [
    {
     "data": {
      "text/plain": [
       "children               0\n",
       "days_employed       2174\n",
       "dob_years              0\n",
       "education              0\n",
       "education_id           0\n",
       "family_status          0\n",
       "family_status_id       0\n",
       "gender                 0\n",
       "income_type            0\n",
       "debt                   0\n",
       "total_income        2174\n",
       "purpose                0\n",
       "dtype: int64"
      ]
     },
     "execution_count": 4,
     "metadata": {},
     "output_type": "execute_result"
    }
   ],
   "source": [
    "data.isna().sum()"
   ]
  },
  {
   "cell_type": "code",
   "execution_count": 5,
   "id": "3c354dd5",
   "metadata": {},
   "outputs": [],
   "source": [
    "data_null = data[::]"
   ]
  },
  {
   "cell_type": "markdown",
   "id": "e63acad6",
   "metadata": {
    "deletable": false,
    "editable": false,
    "id": "db86e27b"
   },
   "source": [
    "**Задание 5. В двух столбцах есть пропущенные значения. Один из них — `days_employed`. Пропуски в этом столбце вы обработаете на следующем этапе. Другой столбец с пропущенными значениями — `total_income` — хранит данные о доходах. На сумму дохода сильнее всего влияет тип занятости, поэтому заполнить пропуски в этом столбце нужно медианным значением по каждому типу из столбца `income_type`. Например, у человека с типом занятости `сотрудник` пропуск в столбце `total_income` должен быть заполнен медианным доходом среди всех записей с тем же типом.**"
   ]
  },
  {
   "cell_type": "code",
   "execution_count": 6,
   "id": "98722e39",
   "metadata": {
    "deletable": false,
    "id": "42006a93"
   },
   "outputs": [],
   "source": [
    "for t in data['income_type'].unique():\n",
    "    data.loc[(data['income_type'] == t) & (data['total_income'].isna()), 'total_income'] = \\\n",
    "    data.loc[(data['income_type'] == t), 'total_income'].median()"
   ]
  },
  {
   "cell_type": "markdown",
   "id": "5180a58e",
   "metadata": {
    "deletable": false,
    "editable": false,
    "id": "89da5ece"
   },
   "source": [
    "### Обработка аномальных значений"
   ]
  },
  {
   "cell_type": "markdown",
   "id": "c85a045e",
   "metadata": {
    "deletable": false,
    "editable": false,
    "id": "57964554"
   },
   "source": [
    "**Задание 6. В данных могут встречаться артефакты (аномалии) — значения, которые не отражают действительность и появились по какой-то ошибке. таким артефактом будет отрицательное количество дней трудового стажа в столбце `days_employed`. Для реальных данных это нормально. Обработайте значения в этом столбце: замените все отрицательные значения положительными с помощью метода `abs()`.**"
   ]
  },
  {
   "cell_type": "code",
   "execution_count": 7,
   "id": "f475aad5",
   "metadata": {
    "deletable": false,
    "id": "f6f055bf"
   },
   "outputs": [],
   "source": [
    "data['days_employed'] = data['days_employed'].abs()"
   ]
  },
  {
   "cell_type": "markdown",
   "id": "fc4ffe3c",
   "metadata": {
    "deletable": false,
    "editable": false,
    "id": "6107dd2f"
   },
   "source": [
    "**Задание 7. Для каждого типа занятости выведите медианное значение трудового стажа `days_employed` в днях.**"
   ]
  },
  {
   "cell_type": "code",
   "execution_count": 8,
   "id": "aa72a2c4",
   "metadata": {
    "deletable": false,
    "id": "85a5faf6",
    "outputId": "801ef80e-522b-4668-f34e-565af7432bcf"
   },
   "outputs": [
    {
     "data": {
      "text/plain": [
       "income_type\n",
       "безработный        366413.652744\n",
       "в декрете            3296.759962\n",
       "госслужащий          2689.368353\n",
       "компаньон            1547.382223\n",
       "пенсионер          365213.306266\n",
       "предприниматель       520.848083\n",
       "сотрудник            1574.202821\n",
       "студент               578.751554\n",
       "Name: days_employed, dtype: float64"
      ]
     },
     "execution_count": 8,
     "metadata": {},
     "output_type": "execute_result"
    }
   ],
   "source": [
    "data.groupby('income_type')['days_employed'].agg('median')"
   ]
  },
  {
   "cell_type": "markdown",
   "id": "adf5a657",
   "metadata": {
    "deletable": false,
    "editable": false,
    "id": "38d1a030"
   },
   "source": [
    "У двух типов (безработные и пенсионеры) получатся аномально большие значения. Исправить такие значения сложно, поэтому оставьте их как есть. Тем более этот столбец не понадобится вам для исследования."
   ]
  },
  {
   "cell_type": "markdown",
   "id": "18cc22fe",
   "metadata": {
    "deletable": false,
    "editable": false,
    "id": "d8a9f147"
   },
   "source": [
    "**Задание 8. Выведите перечень уникальных значений столбца `children`.**"
   ]
  },
  {
   "cell_type": "code",
   "execution_count": 9,
   "id": "b6fb11dd",
   "metadata": {
    "deletable": false,
    "id": "ef5056eb",
    "outputId": "6975b15c-7f95-4697-d16d-a0c79b657b03"
   },
   "outputs": [
    {
     "data": {
      "text/plain": [
       "array([ 1,  0,  3,  2, -1,  4, 20,  5])"
      ]
     },
     "execution_count": 9,
     "metadata": {},
     "output_type": "execute_result"
    }
   ],
   "source": [
    "data['children'].unique()"
   ]
  },
  {
   "cell_type": "markdown",
   "id": "409fc493",
   "metadata": {
    "deletable": false,
    "editable": false,
    "id": "40b9ebf2"
   },
   "source": [
    "**Задание 9. В столбце `children` есть два аномальных значения. Удалите строки, в которых встречаются такие аномальные значения из датафрейма `data`.**"
   ]
  },
  {
   "cell_type": "code",
   "execution_count": 10,
   "id": "4c291bb8",
   "metadata": {
    "deletable": false,
    "id": "3ff9801d"
   },
   "outputs": [],
   "source": [
    "data = data[(data['children'] != -1) & (data['children'] != 20)]"
   ]
  },
  {
   "cell_type": "markdown",
   "id": "83338632",
   "metadata": {
    "deletable": false,
    "editable": false,
    "id": "bbc4d0ce"
   },
   "source": [
    "**Задание 10. Ещё раз выведите перечень уникальных значений столбца `children`, чтобы убедиться, что артефакты удалены.**"
   ]
  },
  {
   "cell_type": "code",
   "execution_count": 11,
   "id": "05328d75",
   "metadata": {
    "deletable": false,
    "id": "ad4fa8b7",
    "outputId": "b2097101-d49d-44d9-901b-32a65c9463d1"
   },
   "outputs": [
    {
     "data": {
      "text/plain": [
       "array([1, 0, 3, 2, 4, 5])"
      ]
     },
     "execution_count": 11,
     "metadata": {},
     "output_type": "execute_result"
    }
   ],
   "source": [
    "data['children'].unique()"
   ]
  },
  {
   "cell_type": "markdown",
   "id": "11411dc2",
   "metadata": {
    "deletable": false,
    "editable": false,
    "id": "75440b63"
   },
   "source": [
    "### Удаление пропусков (продолжение)"
   ]
  },
  {
   "cell_type": "markdown",
   "id": "4ca37a15",
   "metadata": {
    "deletable": false,
    "editable": false,
    "id": "f4ea573f"
   },
   "source": [
    "**Задание 11. Заполните пропуски в столбце `days_employed` медианными значениями по каждого типа занятости `income_type`.**"
   ]
  },
  {
   "cell_type": "code",
   "execution_count": 12,
   "id": "2aa7e36a",
   "metadata": {
    "deletable": false,
    "id": "af6b1a7e"
   },
   "outputs": [],
   "source": [
    "for t in data['income_type'].unique():\n",
    "    data.loc[(data['income_type'] == t) & (data['days_employed'].isna()), 'days_employed'] = \\\n",
    "    data.loc[(data['income_type'] == t), 'days_employed'].median()"
   ]
  },
  {
   "cell_type": "markdown",
   "id": "abc9dc9b",
   "metadata": {
    "deletable": false,
    "editable": false,
    "id": "2753f40d"
   },
   "source": [
    "**Задание 12. Убедитесь, что все пропуски заполнены. Проверьте себя и ещё раз выведите количество пропущенных значений для каждого столбца с помощью двух методов.**"
   ]
  },
  {
   "cell_type": "code",
   "execution_count": 13,
   "id": "fcd66429",
   "metadata": {
    "deletable": false,
    "id": "55f78bc2",
    "outputId": "8da1e4e1-358e-4e87-98c9-f261bce0a7b2"
   },
   "outputs": [
    {
     "data": {
      "text/plain": [
       "children            0\n",
       "days_employed       0\n",
       "dob_years           0\n",
       "education           0\n",
       "education_id        0\n",
       "family_status       0\n",
       "family_status_id    0\n",
       "gender              0\n",
       "income_type         0\n",
       "debt                0\n",
       "total_income        0\n",
       "purpose             0\n",
       "dtype: int64"
      ]
     },
     "execution_count": 13,
     "metadata": {},
     "output_type": "execute_result"
    }
   ],
   "source": [
    "data.isna().sum()"
   ]
  },
  {
   "cell_type": "markdown",
   "id": "a602b640",
   "metadata": {
    "deletable": false,
    "editable": false,
    "id": "ddc81e43"
   },
   "source": [
    "### Изменение типов данных"
   ]
  },
  {
   "cell_type": "markdown",
   "id": "fc488d71",
   "metadata": {
    "deletable": false,
    "editable": false,
    "id": "42d19d24"
   },
   "source": [
    "**Задание 13. Замените вещественный тип данных в столбце `total_income` на целочисленный с помощью метода `astype()`.**"
   ]
  },
  {
   "cell_type": "code",
   "execution_count": 14,
   "id": "a7643b08",
   "metadata": {
    "deletable": false,
    "id": "920b65ad"
   },
   "outputs": [],
   "source": [
    "data['total_income'] = data['total_income'].astype(int)"
   ]
  },
  {
   "cell_type": "markdown",
   "id": "ba58f47a",
   "metadata": {
    "deletable": false,
    "editable": false,
    "id": "80c420ba"
   },
   "source": [
    "### Обработка дубликатов"
   ]
  },
  {
   "cell_type": "markdown",
   "id": "3c457a39",
   "metadata": {
    "deletable": false,
    "editable": false
   },
   "source": [
    "**Задание 14. Обработайте неявные дубликаты в столбце `education`. В этом столбце есть одни и те же значения, но записанные по-разному: с использованием заглавных и строчных букв. Приведите их к нижнему регистру. Проверьте остальные столбцы.**"
   ]
  },
  {
   "cell_type": "code",
   "execution_count": 15,
   "id": "480c0f1b",
   "metadata": {
    "deletable": false
   },
   "outputs": [],
   "source": [
    "data['education'] = data['education'].str.lower()"
   ]
  },
  {
   "cell_type": "markdown",
   "id": "8606b30a",
   "metadata": {
    "deletable": false,
    "editable": false,
    "id": "dc587695"
   },
   "source": [
    "**Задание 15. Выведите на экран количество строк-дубликатов в данных. Если такие строки присутствуют, удалите их.**"
   ]
  },
  {
   "cell_type": "code",
   "execution_count": 16,
   "id": "236c13fa",
   "metadata": {
    "deletable": false,
    "id": "3ee445e4",
    "outputId": "9684deba-1934-42d1-99e1-cda61740f822"
   },
   "outputs": [
    {
     "data": {
      "text/plain": [
       "71"
      ]
     },
     "execution_count": 16,
     "metadata": {},
     "output_type": "execute_result"
    }
   ],
   "source": [
    "data.duplicated().sum()"
   ]
  },
  {
   "cell_type": "code",
   "execution_count": 17,
   "id": "af6692f3",
   "metadata": {
    "deletable": false,
    "id": "8575fe05"
   },
   "outputs": [],
   "source": [
    "data = data.drop_duplicates()"
   ]
  },
  {
   "cell_type": "markdown",
   "id": "a4531fb4",
   "metadata": {
    "deletable": false,
    "editable": false,
    "id": "9904cf55"
   },
   "source": [
    "### Категоризация данных"
   ]
  },
  {
   "cell_type": "markdown",
   "id": "43ff8ba9",
   "metadata": {
    "deletable": false,
    "editable": false,
    "id": "72fcc8a2"
   },
   "source": [
    "**Задание 16. На основании диапазонов, указанных ниже, создайте в датафрейме `data` столбец `total_income_category` с категориями:**\n",
    "\n",
    "- 0–30000 — `'E'`;\n",
    "- 30001–50000 — `'D'`;\n",
    "- 50001–200000 — `'C'`;\n",
    "- 200001–1000000 — `'B'`;\n",
    "- 1000001 и выше — `'A'`.\n",
    "\n",
    "\n",
    "**Например, кредитополучателю с доходом 25000 нужно назначить категорию `'E'`, а клиенту, получающему 235000, — `'B'`. Используйте собственную функцию с именем `categorize_income()` и метод `apply()`.**"
   ]
  },
  {
   "cell_type": "code",
   "execution_count": 18,
   "id": "7e6f989e",
   "metadata": {
    "deletable": false,
    "id": "e1771346"
   },
   "outputs": [],
   "source": [
    "def categorize_income(income):\n",
    "    try:\n",
    "        if 0 <= income <= 30000:\n",
    "            return 'E'\n",
    "        elif 30001 <= income <= 50000:\n",
    "            return 'D'\n",
    "        elif 50001 <= income <= 200000:\n",
    "            return 'C'\n",
    "        elif 200001 <= income <= 1000000:\n",
    "            return 'B'\n",
    "        elif income >= 1000001:\n",
    "            return 'A'\n",
    "    except:\n",
    "        pass"
   ]
  },
  {
   "cell_type": "code",
   "execution_count": 19,
   "id": "20f627aa",
   "metadata": {
    "deletable": false,
    "id": "d5f3586d"
   },
   "outputs": [],
   "source": [
    "data['total_income_category'] = data['total_income'].apply(categorize_income)"
   ]
  },
  {
   "cell_type": "markdown",
   "id": "c955cd62",
   "metadata": {
    "deletable": false,
    "editable": false,
    "id": "dde49b5c"
   },
   "source": [
    "**Задание 17. Выведите на экран перечень уникальных целей взятия кредита из столбца `purpose`.**"
   ]
  },
  {
   "cell_type": "code",
   "execution_count": 20,
   "id": "3d62ea1c",
   "metadata": {
    "deletable": false,
    "id": "f67ce9b3",
    "outputId": "673c12d9-7d7e-4ae0-9812-c622c89dd244"
   },
   "outputs": [
    {
     "data": {
      "text/plain": [
       "array(['покупка жилья', 'приобретение автомобиля',\n",
       "       'дополнительное образование', 'сыграть свадьбу',\n",
       "       'операции с жильем', 'образование', 'на проведение свадьбы',\n",
       "       'покупка жилья для семьи', 'покупка недвижимости',\n",
       "       'покупка коммерческой недвижимости', 'покупка жилой недвижимости',\n",
       "       'строительство собственной недвижимости', 'недвижимость',\n",
       "       'строительство недвижимости', 'на покупку подержанного автомобиля',\n",
       "       'на покупку своего автомобиля',\n",
       "       'операции с коммерческой недвижимостью',\n",
       "       'строительство жилой недвижимости', 'жилье',\n",
       "       'операции со своей недвижимостью', 'автомобили',\n",
       "       'заняться образованием', 'сделка с подержанным автомобилем',\n",
       "       'получение образования', 'автомобиль', 'свадьба',\n",
       "       'получение дополнительного образования', 'покупка своего жилья',\n",
       "       'операции с недвижимостью', 'получение высшего образования',\n",
       "       'свой автомобиль', 'сделка с автомобилем',\n",
       "       'профильное образование', 'высшее образование',\n",
       "       'покупка жилья для сдачи', 'на покупку автомобиля', 'ремонт жилью',\n",
       "       'заняться высшим образованием'], dtype=object)"
      ]
     },
     "execution_count": 20,
     "metadata": {},
     "output_type": "execute_result"
    }
   ],
   "source": [
    "data['purpose'].unique()"
   ]
  },
  {
   "cell_type": "markdown",
   "id": "0e5829c2",
   "metadata": {
    "deletable": false,
    "editable": false,
    "id": "85d0aef0"
   },
   "source": [
    "**Задание 18. Создайте функцию, которая на основании данных из столбца `purpose` сформирует новый столбец `purpose_category`, в который войдут следующие категории:**\n",
    "\n",
    "- `'операции с автомобилем'`,\n",
    "- `'операции с недвижимостью'`,\n",
    "- `'проведение свадьбы'`,\n",
    "- `'получение образования'`.\n",
    "\n",
    "**Например, если в столбце `purpose` находится подстрока `'на покупку автомобиля'`, то в столбце `purpose_category` должна появиться строка `'операции с автомобилем'`.**\n",
    "\n",
    "**Используйте собственную функцию с именем `categorize_purpose()` и метод `apply()`. Изучите данные в столбце `purpose` и определите, какие подстроки помогут вам правильно определить категорию.**"
   ]
  },
  {
   "cell_type": "code",
   "execution_count": 21,
   "id": "ce783493",
   "metadata": {
    "deletable": false,
    "id": "e149fab4"
   },
   "outputs": [],
   "source": [
    "def categorize_purpose(row):\n",
    "    try:\n",
    "        if 'автом' in row:\n",
    "            return 'операции с автомобилем'\n",
    "        elif 'жил' in row or 'недвиж' in row:\n",
    "            return 'операции с недвижимостью'\n",
    "        elif 'свад' in row:\n",
    "            return 'проведение свадьбы'\n",
    "        elif 'образов' in row:\n",
    "            return 'получение образования'\n",
    "    except:\n",
    "        return 'нет категории'"
   ]
  },
  {
   "cell_type": "code",
   "execution_count": 22,
   "id": "d5049cd8",
   "metadata": {
    "deletable": false,
    "id": "bf36e69b"
   },
   "outputs": [],
   "source": [
    "data['purpose_category'] = data['purpose'].apply(categorize_purpose)"
   ]
  },
  {
   "cell_type": "markdown",
   "id": "bd5a34d2",
   "metadata": {
    "deletable": false,
    "editable": false,
    "id": "09b242bf"
   },
   "source": [
    "### Шаг 3. Исследуйте данные и ответьте на вопросы"
   ]
  },
  {
   "cell_type": "markdown",
   "id": "a7a1a192",
   "metadata": {
    "deletable": false,
    "editable": false,
    "id": "c5d66278"
   },
   "source": [
    "#### 3.1 Есть ли зависимость между количеством детей и возвратом кредита в срок?"
   ]
  },
  {
   "cell_type": "markdown",
   "id": "ecdfb35c",
   "metadata": {
    "deletable": false,
    "id": "2cacfc4a"
   },
   "source": [
    "Для ответа на поставленный вопрос необходимо подсчитать долю тех заемщиков, у которых были задолженности по возврату кредита (значение 1 в столбце debt) по отношению к общему количеству кредитов, выданных клиентам категории \"количество детей\".\n",
    "Это можно увидеть в сводной таблице. В этой таблице группировка будет по столбцу *children*, столбец из которого будем брать данные для группировки *debt*, а подсчет количества значений будет осуществляться из копии столбца *debt*."
   ]
  },
  {
   "cell_type": "code",
   "execution_count": 23,
   "id": "2723ccbe",
   "metadata": {},
   "outputs": [],
   "source": [
    "import math\n",
    "def pirs_chupr(df,lst):  \n",
    "    '''\n",
    "    функция для расчета коэффициентов взаимной сопряженности Пирсона и Чупрунова\n",
    "    Используются для определения тесноты связи, когда качественные признаки состоят более, чем из двух групп\n",
    "    Параметры функции:\n",
    "    df - сводная таблица, содержащая сгруппированные данные для расчета\n",
    "    lst - список уникальных значений, являющихся заголовками столбцов в сводной таблице    \n",
    "    Основано на материале \"Практикум по теории статистики\" Учебное пособие под ред. Р.А. Шмоловой\n",
    "    '''\n",
    "    #print(lst)\n",
    "    #Разбор сводной таблицы на список списков\n",
    "    d = []\n",
    "    for i in range(len(lst)):\n",
    "        temp = []\n",
    "        temp.append(df[lst[i]][0])\n",
    "        temp.append(df[lst[i]][1])\n",
    "        temp.append(df[lst[i]].sum())\n",
    "        d.append(temp)\n",
    "    col_itog = []\n",
    "    #print(d)\n",
    "    #Расчет коэффиентов\n",
    "    k = len(d[0])\n",
    "    #print(k)\n",
    "    for i in range(k-1):\n",
    "        s = 0\n",
    "        for j in range(len(d)):\n",
    "            s+=d[j][i]\n",
    "        col_itog.append(s)\n",
    "    \n",
    "    sum_divis = []\n",
    "    for j in range(k-1):\n",
    "        su = 0\n",
    "        \n",
    "        for i in range(len(d)):\n",
    "            su += (d[i][j]**2)/d[i][2]\n",
    "        sum_divis.append(su/col_itog[j])   \n",
    "    #print(col_itog)\n",
    "    #print(sum_divis)\n",
    "    #Коэффициент Пирсона\n",
    "    kp = sum(sum_divis) - 1\n",
    "    #Коэффициент Чупрунова\n",
    "    kch = math.sqrt(kp/((len(d) - 1)))\n",
    "    return(kp, kch)"
   ]
  },
  {
   "cell_type": "markdown",
   "id": "518d46ae",
   "metadata": {},
   "source": [
    "<div class=\"alert alert-warning\">\n",
    "<h2> Комментарий ревьюера V1<a class=\"tocSkip\"> </h2>\n",
    "    \n",
    "<b>Некоторые замечания и рекомендации💡:</b> Подскажи, пожалуйста, ты сам составил данную функцию или нашел её в интернете?"
   ]
  },
  {
   "cell_type": "markdown",
   "id": "6582eb90",
   "metadata": {},
   "source": [
    "<div class=\"alert alert-info\">\n",
    "<h2> Ответ <a class=\"tocSkip\"> </h2>\n",
    "    \n",
    "Функция написана самостоятельно\n"
   ]
  },
  {
   "cell_type": "code",
   "execution_count": 24,
   "id": "9e858431",
   "metadata": {},
   "outputs": [],
   "source": [
    "#получаем копию столбца debt.\n",
    "data['debt1'] = data['debt']\n",
    "#формирование сводной таблицы\n",
    "data_pivot = data.pivot_table(index=['children'], columns='debt', values='debt1', aggfunc='count')"
   ]
  },
  {
   "cell_type": "code",
   "execution_count": 25,
   "id": "301f7441",
   "metadata": {},
   "outputs": [
    {
     "data": {
      "text/html": [
       "<div>\n",
       "<style scoped>\n",
       "    .dataframe tbody tr th:only-of-type {\n",
       "        vertical-align: middle;\n",
       "    }\n",
       "\n",
       "    .dataframe tbody tr th {\n",
       "        vertical-align: top;\n",
       "    }\n",
       "\n",
       "    .dataframe thead th {\n",
       "        text-align: right;\n",
       "    }\n",
       "</style>\n",
       "<table border=\"1\" class=\"dataframe\">\n",
       "  <thead>\n",
       "    <tr style=\"text-align: right;\">\n",
       "      <th>debt</th>\n",
       "      <th>0</th>\n",
       "      <th>1</th>\n",
       "      <th>perc_debt</th>\n",
       "    </tr>\n",
       "    <tr>\n",
       "      <th>children</th>\n",
       "      <th></th>\n",
       "      <th></th>\n",
       "      <th></th>\n",
       "    </tr>\n",
       "  </thead>\n",
       "  <tbody>\n",
       "    <tr>\n",
       "      <th>5</th>\n",
       "      <td>9.0</td>\n",
       "      <td>0.0</td>\n",
       "      <td>0.000000</td>\n",
       "    </tr>\n",
       "    <tr>\n",
       "      <th>0</th>\n",
       "      <td>13028.0</td>\n",
       "      <td>1063.0</td>\n",
       "      <td>0.075438</td>\n",
       "    </tr>\n",
       "    <tr>\n",
       "      <th>3</th>\n",
       "      <td>303.0</td>\n",
       "      <td>27.0</td>\n",
       "      <td>0.081818</td>\n",
       "    </tr>\n",
       "    <tr>\n",
       "      <th>1</th>\n",
       "      <td>4364.0</td>\n",
       "      <td>444.0</td>\n",
       "      <td>0.092346</td>\n",
       "    </tr>\n",
       "    <tr>\n",
       "      <th>2</th>\n",
       "      <td>1858.0</td>\n",
       "      <td>194.0</td>\n",
       "      <td>0.094542</td>\n",
       "    </tr>\n",
       "    <tr>\n",
       "      <th>4</th>\n",
       "      <td>37.0</td>\n",
       "      <td>4.0</td>\n",
       "      <td>0.097561</td>\n",
       "    </tr>\n",
       "  </tbody>\n",
       "</table>\n",
       "</div>"
      ],
      "text/plain": [
       "debt            0       1  perc_debt\n",
       "children                            \n",
       "5             9.0     0.0   0.000000\n",
       "0         13028.0  1063.0   0.075438\n",
       "3           303.0    27.0   0.081818\n",
       "1          4364.0   444.0   0.092346\n",
       "2          1858.0   194.0   0.094542\n",
       "4            37.0     4.0   0.097561"
      ]
     },
     "execution_count": 25,
     "metadata": {},
     "output_type": "execute_result"
    }
   ],
   "source": [
    "#расчет доли имевщих проблемы с выплатой кредита к общему числу заемщиков категории \"количество детей\"\n",
    "#0 - кол-во заемщиков без проблем возврата, 1 - кол-во заемщиков с долгами, perc_debt - доля должников\n",
    "data_pivot['perc_debt'] = data_pivot[1]/(data_pivot[0]+data_pivot[1])\n",
    "data_pivot = data_pivot.fillna(0)\n",
    "data_pivot.sort_values(by='perc_debt')"
   ]
  },
  {
   "cell_type": "markdown",
   "id": "75ec8614",
   "metadata": {},
   "source": [
    "<div class=\"alert alert-success\">\n",
    "<h2> Комментарий ревьюера V1<a class=\"tocSkip\"> </h2>\n",
    "\n",
    "<b>Все отлично!👍:</b> Правильно построил сводную таблицу, молодец!\n",
    "</div>"
   ]
  },
  {
   "cell_type": "markdown",
   "id": "c4e949ed",
   "metadata": {
    "deletable": false,
    "id": "3a6b99ec"
   },
   "source": [
    "**Вывод:** \n",
    "Из сводной таблицы видно, что доля должников колеблется в пределах 2% независимо от количества детей. Кроме случая с количеством 5 детей. Но в данном случае количество заемщиков слишком мало, чтобы опираться в суждениях на это.\n",
    "Если для кредитной организации 2% - это достаточный показатель, то тогда зависимость прослеживается, но в общем случае,  **зависимости между количеством детей и возвратом кредита в срок НЕТ**\n",
    "\n",
    "Значения коэффициентов очень далеки от 1, поэтому связь практически отсутствует \n"
   ]
  },
  {
   "cell_type": "markdown",
   "id": "cf712e9d",
   "metadata": {},
   "source": [
    "<div class=\"alert alert-block alert-danger\">\n",
    "<h2> Комментарий ревьюера V1<a class=\"tocSkip\"></h2>\n",
    "\n",
    "    \n",
    "<b>На доработку🤔:</b>\n",
    "Прежде хотел бы услышать от тебя почему ты используешь данный коэффициент для выявления силы зависимости. Можно ли этот коэффициент сопряженности использовать в данном случае, подходят ли наши признаки для этого? Также нужно помнить, что никак не обработаны выбросы. \n",
    "    \n",
    "Разница в несколько процентов может быть значимой для нашего исследования, также нужно учитывать количество клиентов в разных группах. Можно ли учитывать все группы для анализа? \n",
    "</div>"
   ]
  },
  {
   "cell_type": "markdown",
   "id": "c196cd50",
   "metadata": {},
   "source": [
    "<div class=\"alert alert-info\">\n",
    "<h2> Ответ <a class=\"tocSkip\"> </h2>\n",
    "    \n",
    "Коэффициент Пирсона-Чупрова был взят по причине отсутствия критерия для сравнения от заказчика. Не было понятно, какая разница между долями должников является существенной чтобы делать вывод о зависимости. Кроме того, эти коэффициенты используются для выявления тесноты связи между атрибутивными признаками. Теперь понятно, что несколько процентов - это существенно, а \"несколько\" - это 2 и более."
   ]
  },
  {
   "cell_type": "markdown",
   "id": "b280c74a",
   "metadata": {},
   "source": [
    "<div class=\"alert alert-success\">\n",
    "<h2> Комментарий ревьюера V2<a class=\"tocSkip\"> </h2>\n",
    "\n",
    "<b>Все отлично!👍:</b> На самом деле на реальной работе мало когда заказчик придет с строгими критериями. Тебе дадут общую задачу, а критерии с помощью которых ты будешь проводить анализ уже на твое усмотрение. Заказчик же не знает какие методы используются для определенных данных.\n",
    "</div>"
   ]
  },
  {
   "cell_type": "markdown",
   "id": "43dac83a",
   "metadata": {},
   "source": [
    "Из сводной таблицы видно, что данные о заемах \"многодетных\" семей (3, 4 и 5 детей) можно отбросить и не использовать в анализе по причине их незначительного количества, а соответственно слабого влияния на итоговый результат.\n",
    "Тогда из оставшихся строк можно заключить, что на возврат кредита в срок оказывает влияние *не количество*, а *наличие* детей. Разница в доле невозврата в семьях с одним и двумя детьми около 0.2%. Даже если рассмотреть отброшенные результаты с 3 детьми, то разница составит чуть более 1%. "
   ]
  },
  {
   "cell_type": "markdown",
   "id": "774aeadd",
   "metadata": {},
   "source": [
    "**Вывод  (новый):**\n",
    "**Количество детей** на возврат кредита в срок **не влияет**. Влияет их наличие"
   ]
  },
  {
   "cell_type": "markdown",
   "id": "eab4f428",
   "metadata": {},
   "source": [
    "<div class=\"alert alert-success\">\n",
    "<h2> Комментарий ревьюера V2<a class=\"tocSkip\"> </h2>\n",
    "\n",
    "<b>Все отлично!👍:</b> Именно так, все правильно.\n",
    "</div>"
   ]
  },
  {
   "cell_type": "markdown",
   "id": "f546962e",
   "metadata": {
    "deletable": false,
    "editable": false,
    "id": "97be82ca"
   },
   "source": [
    "#### 3.2 Есть ли зависимость между семейным положением и возвратом кредита в срок?"
   ]
  },
  {
   "cell_type": "code",
   "execution_count": 26,
   "id": "9618ee11",
   "metadata": {
    "deletable": false,
    "id": "dc3f7ee8"
   },
   "outputs": [],
   "source": [
    "# Ваш код будет здесь. Вы можете создавать новые ячейки.\n",
    "#получаем копию столбца debt.\n",
    "data['debt1'] = data['debt']\n",
    "#формирование сводной таблицы\n",
    "data_pivot = data.pivot_table(index=['family_status'], columns='debt', values='debt1', aggfunc='count')\n",
    "#расчет доли имевщих проблемы с выплатой кредита к общему числу заемщиков категории \"количество детей\"\n",
    "data_pivot['perc_debt'] = data_pivot[1]/(data_pivot[0]+data_pivot[1])\n",
    "data_pivot = data_pivot.fillna(0)\n",
    "\n",
    "#data_pivot = data.pivot_table(index=['debt'], columns='children', values='debt1', aggfunc='count')"
   ]
  },
  {
   "cell_type": "code",
   "execution_count": 27,
   "id": "fe7ac35b",
   "metadata": {},
   "outputs": [
    {
     "data": {
      "text/html": [
       "<div>\n",
       "<style scoped>\n",
       "    .dataframe tbody tr th:only-of-type {\n",
       "        vertical-align: middle;\n",
       "    }\n",
       "\n",
       "    .dataframe tbody tr th {\n",
       "        vertical-align: top;\n",
       "    }\n",
       "\n",
       "    .dataframe thead th {\n",
       "        text-align: right;\n",
       "    }\n",
       "</style>\n",
       "<table border=\"1\" class=\"dataframe\">\n",
       "  <thead>\n",
       "    <tr style=\"text-align: right;\">\n",
       "      <th>debt</th>\n",
       "      <th>0</th>\n",
       "      <th>1</th>\n",
       "      <th>perc_debt</th>\n",
       "    </tr>\n",
       "    <tr>\n",
       "      <th>family_status</th>\n",
       "      <th></th>\n",
       "      <th></th>\n",
       "      <th></th>\n",
       "    </tr>\n",
       "  </thead>\n",
       "  <tbody>\n",
       "    <tr>\n",
       "      <th>вдовец / вдова</th>\n",
       "      <td>888</td>\n",
       "      <td>63</td>\n",
       "      <td>0.066246</td>\n",
       "    </tr>\n",
       "    <tr>\n",
       "      <th>в разводе</th>\n",
       "      <td>1105</td>\n",
       "      <td>84</td>\n",
       "      <td>0.070648</td>\n",
       "    </tr>\n",
       "    <tr>\n",
       "      <th>женат / замужем</th>\n",
       "      <td>11334</td>\n",
       "      <td>927</td>\n",
       "      <td>0.075606</td>\n",
       "    </tr>\n",
       "    <tr>\n",
       "      <th>гражданский брак</th>\n",
       "      <td>3749</td>\n",
       "      <td>385</td>\n",
       "      <td>0.093130</td>\n",
       "    </tr>\n",
       "    <tr>\n",
       "      <th>Не женат / не замужем</th>\n",
       "      <td>2523</td>\n",
       "      <td>273</td>\n",
       "      <td>0.097639</td>\n",
       "    </tr>\n",
       "  </tbody>\n",
       "</table>\n",
       "</div>"
      ],
      "text/plain": [
       "debt                       0    1  perc_debt\n",
       "family_status                               \n",
       "вдовец / вдова           888   63   0.066246\n",
       "в разводе               1105   84   0.070648\n",
       "женат / замужем        11334  927   0.075606\n",
       "гражданский брак        3749  385   0.093130\n",
       "Не женат / не замужем   2523  273   0.097639"
      ]
     },
     "execution_count": 27,
     "metadata": {},
     "output_type": "execute_result"
    }
   ],
   "source": [
    "data_pivot.sort_values(by='perc_debt')"
   ]
  },
  {
   "cell_type": "markdown",
   "id": "60150a6a",
   "metadata": {},
   "source": [
    "<div class=\"alert alert-success\">\n",
    "<h2> Комментарий ревьюера V1<a class=\"tocSkip\"> </h2>\n",
    "\n",
    "<b>Все отлично!👍:</b> Видно, что ты хорошо справляешься с методами построения сводных таблиц, так держать!\n",
    "</div>"
   ]
  },
  {
   "cell_type": "markdown",
   "id": "d4e3c494",
   "metadata": {
    "deletable": false,
    "id": "1cef7837"
   },
   "source": [
    "**Вывод (старый и неправильный):** \n",
    "\n",
    "Зависимости между семейным положением и возвратом кредита в срок НЕТ"
   ]
  },
  {
   "cell_type": "markdown",
   "id": "d73208fb",
   "metadata": {},
   "source": [
    "<div class=\"alert alert-block alert-danger\">\n",
    "<h2> Комментарий ревьюера V1<a class=\"tocSkip\"></h2>\n",
    "\n",
    "    \n",
    "<b>На доработку🤔:</b>\n",
    "Зависимость от данного признака есть. Попробуй выявить зависимость из сводной таблицы. В данном случае коэффициенты корреляции не отражают истинные взаимосвязи. Коэффициент показывает, что признаки в какой-то степени зависят друг от друга, но строгой зависимости коэффициент не отражает. Также стоит помнить, что корреляция может быть нелинейной или может присутствовать скрытое влияние от третей переменной.\n",
    "</div>"
   ]
  },
  {
   "cell_type": "markdown",
   "id": "58fba6bd",
   "metadata": {},
   "source": [
    "<div class=\"alert alert-info\">\n",
    "<h2> Доработка <a class=\"tocSkip\"> </h2>\n"
   ]
  },
  {
   "cell_type": "markdown",
   "id": "63747103",
   "metadata": {},
   "source": [
    "**Вывод (новый)** \n",
    "\n",
    "Если сделать предположение, что заемщики, состоящие в гражданском браке, ранее не были в официальном браке, то на основании данных из сводной таблицы можно заключить, что опыт ОФИЦИАЛЬНОЙ семейной жизни добавляет отвественности. Таким образом, **зависимость** между семейным положением и возвратом кредита в срок **имеется**. "
   ]
  },
  {
   "cell_type": "markdown",
   "id": "7376eee7",
   "metadata": {},
   "source": [
    "<div class=\"alert alert-success\">\n",
    "<h2> Комментарий ревьюера V2<a class=\"tocSkip\"> </h2>\n",
    "\n",
    "<b>Все отлично!👍:</b> Абсолютно верно, клиенты, побывавшие в браке, реже допускают просрочки.\n",
    "</div>"
   ]
  },
  {
   "cell_type": "markdown",
   "id": "2b08d00c",
   "metadata": {
    "deletable": false,
    "editable": false,
    "id": "1e8b2fca"
   },
   "source": [
    "#### 3.3 Есть ли зависимость между уровнем дохода и возвратом кредита в срок?"
   ]
  },
  {
   "cell_type": "code",
   "execution_count": 28,
   "id": "5b5e30a4",
   "metadata": {
    "deletable": false,
    "id": "cd7e3720"
   },
   "outputs": [],
   "source": [
    "# Ваш код будет здесь. Вы можете создавать новые ячейки.\n",
    "# Ваш код будет здесь. Вы можете создавать новые ячейки.\n",
    "#получаем копию столбца debt.\n",
    "data['debt1'] = data['debt']\n",
    "#формирование сводной таблицы\n",
    "data_pivot = data.pivot_table(index=['total_income_category'], columns='debt', values='debt1', aggfunc='count')\n",
    "#расчет доли имевщих проблемы с выплатой кредита к общему числу заемщиков категории \"количество детей\"\n",
    "data_pivot['perc_debt'] = data_pivot[1]/(data_pivot[0]+data_pivot[1])\n",
    "data_pivot = data_pivot.fillna(0)"
   ]
  },
  {
   "cell_type": "code",
   "execution_count": 29,
   "id": "2b8854c0",
   "metadata": {},
   "outputs": [
    {
     "data": {
      "text/html": [
       "<div>\n",
       "<style scoped>\n",
       "    .dataframe tbody tr th:only-of-type {\n",
       "        vertical-align: middle;\n",
       "    }\n",
       "\n",
       "    .dataframe tbody tr th {\n",
       "        vertical-align: top;\n",
       "    }\n",
       "\n",
       "    .dataframe thead th {\n",
       "        text-align: right;\n",
       "    }\n",
       "</style>\n",
       "<table border=\"1\" class=\"dataframe\">\n",
       "  <thead>\n",
       "    <tr style=\"text-align: right;\">\n",
       "      <th>debt</th>\n",
       "      <th>0</th>\n",
       "      <th>1</th>\n",
       "      <th>perc_debt</th>\n",
       "    </tr>\n",
       "    <tr>\n",
       "      <th>total_income_category</th>\n",
       "      <th></th>\n",
       "      <th></th>\n",
       "      <th></th>\n",
       "    </tr>\n",
       "  </thead>\n",
       "  <tbody>\n",
       "    <tr>\n",
       "      <th>D</th>\n",
       "      <td>328</td>\n",
       "      <td>21</td>\n",
       "      <td>0.060172</td>\n",
       "    </tr>\n",
       "    <tr>\n",
       "      <th>B</th>\n",
       "      <td>4660</td>\n",
       "      <td>354</td>\n",
       "      <td>0.070602</td>\n",
       "    </tr>\n",
       "    <tr>\n",
       "      <th>A</th>\n",
       "      <td>23</td>\n",
       "      <td>2</td>\n",
       "      <td>0.080000</td>\n",
       "    </tr>\n",
       "    <tr>\n",
       "      <th>C</th>\n",
       "      <td>14568</td>\n",
       "      <td>1353</td>\n",
       "      <td>0.084982</td>\n",
       "    </tr>\n",
       "    <tr>\n",
       "      <th>E</th>\n",
       "      <td>20</td>\n",
       "      <td>2</td>\n",
       "      <td>0.090909</td>\n",
       "    </tr>\n",
       "  </tbody>\n",
       "</table>\n",
       "</div>"
      ],
      "text/plain": [
       "debt                       0     1  perc_debt\n",
       "total_income_category                        \n",
       "D                        328    21   0.060172\n",
       "B                       4660   354   0.070602\n",
       "A                         23     2   0.080000\n",
       "C                      14568  1353   0.084982\n",
       "E                         20     2   0.090909"
      ]
     },
     "execution_count": 29,
     "metadata": {},
     "output_type": "execute_result"
    }
   ],
   "source": [
    "data_pivot.sort_values(by='perc_debt')"
   ]
  },
  {
   "cell_type": "markdown",
   "id": "b395c198",
   "metadata": {
    "deletable": false,
    "id": "e8593def"
   },
   "source": [
    "**Вывод (старый и неправильный):** Данные в столбце **perc_debt** сводной таблицы свидетельствуют о том, что среди всех категорий благосостояния процент неплательщиков примерно одинаков. Коэффициенты Пирсона и Чупрунова подтверждают, что **зависимости между уровнем дохода и возвратом кредита в срок НЕТ**"
   ]
  },
  {
   "cell_type": "markdown",
   "id": "e44d8486",
   "metadata": {},
   "source": [
    "<div class=\"alert alert-block alert-danger\">\n",
    "<h2> Комментарий ревьюера V1<a class=\"tocSkip\"></h2>\n",
    "\n",
    "    \n",
    "<b>На доработку🤔:</b>\n",
    "Нужно выявлять зависимость по сводной таблице. Коэффициент корреляции не дает ответа на поставленный вопрос.    \n",
    "\n",
    "Обрати внимание на распределение клиентов по группам. Можно ли учитывать все группы при выявлении зависимости?\n",
    "    \n",
    "Подсказка: зависимость нужно определять только по 2 группам с достаточным количеством клиентов.\n",
    "</div>"
   ]
  },
  {
   "cell_type": "markdown",
   "id": "ffa9c60e",
   "metadata": {},
   "source": [
    "<div class=\"alert alert-info\">\n",
    "<h2> Доработка <a class=\"tocSkip\"> </h2>"
   ]
  },
  {
   "cell_type": "markdown",
   "id": "8b2a634c",
   "metadata": {},
   "source": [
    "Данные, приведенные в сводной таблице свидетельствуют о том, что анализ можно проводить только по двум группам данных из пяти, что вряд ли может привести к правильным умозаключениям. Тем не менее, даже эти две группы показывают, что разница между долями невозврата составляет лишь 1,5%. "
   ]
  },
  {
   "cell_type": "markdown",
   "id": "4673b2e6",
   "metadata": {},
   "source": [
    "**Вывод (новый)** \n",
    "**Зависимость** между уровнем дохода и возвратом кредита в срок если и есть, то **слабая**"
   ]
  },
  {
   "cell_type": "markdown",
   "id": "c2905e10",
   "metadata": {},
   "source": [
    "<div class=\"alert alert-success\">\n",
    "<h2> Комментарий ревьюера V2<a class=\"tocSkip\"> </h2>\n",
    "\n",
    "<b>Все отлично!👍:</b> Эти две группы составляют 98% от всей выборки, это значит, что они описывают полностью тенденции от дохода. Если бы мы рассматривали 50% всех данных, то да, можно сомневаться, что выявленные зависимости будут аналогичными для других клиентов.\n",
    "</div>"
   ]
  },
  {
   "cell_type": "markdown",
   "id": "bee1f4e4",
   "metadata": {
    "deletable": false,
    "editable": false,
    "id": "99ecbd1f"
   },
   "source": [
    "#### 3.4 Как разные цели кредита влияют на его возврат в срок?"
   ]
  },
  {
   "cell_type": "code",
   "execution_count": 30,
   "id": "388332c7",
   "metadata": {
    "deletable": false,
    "id": "2b687290"
   },
   "outputs": [],
   "source": [
    "#получаем копию столбца debt.\n",
    "data['debt1'] = data['debt']\n",
    "#формирование сводной таблицы\n",
    "data_pivot = data.pivot_table(index=['purpose_category'], columns='debt', values='debt1', aggfunc='count')\n",
    "#расчет доли имевщих проблемы с выплатой кредита к общему числу заемщиков категории \"количество детей\"\n",
    "data_pivot['perc_debt'] = data_pivot[1]/(data_pivot[0]+data_pivot[1])\n",
    "data_pivot = data_pivot.fillna(0)"
   ]
  },
  {
   "cell_type": "code",
   "execution_count": 31,
   "id": "67662d27",
   "metadata": {},
   "outputs": [
    {
     "data": {
      "text/html": [
       "<div>\n",
       "<style scoped>\n",
       "    .dataframe tbody tr th:only-of-type {\n",
       "        vertical-align: middle;\n",
       "    }\n",
       "\n",
       "    .dataframe tbody tr th {\n",
       "        vertical-align: top;\n",
       "    }\n",
       "\n",
       "    .dataframe thead th {\n",
       "        text-align: right;\n",
       "    }\n",
       "</style>\n",
       "<table border=\"1\" class=\"dataframe\">\n",
       "  <thead>\n",
       "    <tr style=\"text-align: right;\">\n",
       "      <th>debt</th>\n",
       "      <th>0</th>\n",
       "      <th>1</th>\n",
       "      <th>perc_debt</th>\n",
       "    </tr>\n",
       "    <tr>\n",
       "      <th>purpose_category</th>\n",
       "      <th></th>\n",
       "      <th></th>\n",
       "      <th></th>\n",
       "    </tr>\n",
       "  </thead>\n",
       "  <tbody>\n",
       "    <tr>\n",
       "      <th>операции с недвижимостью</th>\n",
       "      <td>9971</td>\n",
       "      <td>780</td>\n",
       "      <td>0.072551</td>\n",
       "    </tr>\n",
       "    <tr>\n",
       "      <th>проведение свадьбы</th>\n",
       "      <td>2130</td>\n",
       "      <td>183</td>\n",
       "      <td>0.079118</td>\n",
       "    </tr>\n",
       "    <tr>\n",
       "      <th>получение образования</th>\n",
       "      <td>3619</td>\n",
       "      <td>369</td>\n",
       "      <td>0.092528</td>\n",
       "    </tr>\n",
       "    <tr>\n",
       "      <th>операции с автомобилем</th>\n",
       "      <td>3879</td>\n",
       "      <td>400</td>\n",
       "      <td>0.093480</td>\n",
       "    </tr>\n",
       "  </tbody>\n",
       "</table>\n",
       "</div>"
      ],
      "text/plain": [
       "debt                         0    1  perc_debt\n",
       "purpose_category                              \n",
       "операции с недвижимостью  9971  780   0.072551\n",
       "проведение свадьбы        2130  183   0.079118\n",
       "получение образования     3619  369   0.092528\n",
       "операции с автомобилем    3879  400   0.093480"
      ]
     },
     "execution_count": 31,
     "metadata": {},
     "output_type": "execute_result"
    }
   ],
   "source": [
    "data_pivot.sort_values(by='perc_debt')"
   ]
  },
  {
   "cell_type": "markdown",
   "id": "904b0b02",
   "metadata": {
    "deletable": false,
    "id": "b4bb2ce6"
   },
   "source": [
    "**Вывод: (старый и неправильный)** \n",
    "\n",
    "Данные в столбце **perc_debt** сводной таблицы свидетельствуют о том, что на какие бы цели люди не брали кредит, доля тех, кто никуда не торопится практически одинакова. Коэффициенты Пирсона и Чупрунова подтверждают, что **цели кредита НИКАК не влияют на возврат его в срок**"
   ]
  },
  {
   "cell_type": "markdown",
   "id": "ba4bd9fb",
   "metadata": {},
   "source": [
    "<div class=\"alert alert-block alert-danger\">\n",
    "<h2> Комментарий ревьюера V1<a class=\"tocSkip\"></h2>\n",
    "\n",
    "    \n",
    "<b>На доработку🤔:</b>\n",
    "Аналогичный комментарий, коэффициенты корреляции не дают ответ на поставленный вопрос, попробуй выявить зависимость по сводной таблице.\n",
    "</div>"
   ]
  },
  {
   "cell_type": "markdown",
   "id": "3590e9d4",
   "metadata": {},
   "source": [
    "<div class=\"alert alert-info\">\n",
    "<h2> Доработка <a class=\"tocSkip\"> </h2>"
   ]
  },
  {
   "cell_type": "markdown",
   "id": "f8f89fa2",
   "metadata": {},
   "source": [
    "Процент невозврата кредита в срок у заемщиков, проводящих операции с недвижимостью ниже, чем у тех, кто связал свою жизнь в данный момент с автомобилем или получением образования. Возвожно, это связано с более низким процентом по ипотеке или более суровыми требованиями к данному виду кредитования. Возврат по свадьбам тоже более активный, видимо, суммы поменьше."
   ]
  },
  {
   "cell_type": "markdown",
   "id": "92deea07",
   "metadata": {},
   "source": [
    "**Вывод (новый)**\n",
    "\n",
    "Цели кредита **влияют** на его возврат в срок."
   ]
  },
  {
   "cell_type": "markdown",
   "id": "35666c74",
   "metadata": {},
   "source": [
    "<div class=\"alert alert-success\">\n",
    "<h2> Комментарий ревьюера V2<a class=\"tocSkip\"> </h2>\n",
    "\n",
    "<b>Все отлично!👍:</b> Все правильно указал, продолжай в том же духе!\n",
    "</div>"
   ]
  },
  {
   "cell_type": "markdown",
   "id": "7d8d5ad9",
   "metadata": {
    "deletable": false,
    "editable": false,
    "id": "09c3ac4c"
   },
   "source": [
    "#### 3.5 Приведите возможные причины появления пропусков в исходных данных."
   ]
  },
  {
   "cell_type": "markdown",
   "id": "363971ca",
   "metadata": {},
   "source": [
    "В связи с тем, что данные пропущены только столбцах **days_employed** и **total_income** и количество пропущенных в столбцах точно совпадает, то есть гипотеза, что пропуск данных связан с машинной обработкой этих данных после введения.\n",
    "Для этого можно, например, найти долю отсутствующих данных в разрезе какого-либо столбца с категориальными данными и если она будет примерно одинаковой у всех, то вряд ли это делали специально в **ручном** режиме.\n",
    "Так как с пропусками боролись, основываясь на группировке по типу занятости, то рассчитаем долю отсутствующих данных в разрезе типа занятости"
   ]
  },
  {
   "cell_type": "code",
   "execution_count": 32,
   "id": "ae7a66ce",
   "metadata": {},
   "outputs": [],
   "source": [
    "col = 'income_type'"
   ]
  },
  {
   "cell_type": "code",
   "execution_count": 33,
   "id": "f83a1c7f",
   "metadata": {},
   "outputs": [],
   "source": [
    "income_type_unique = data_null[col].unique()"
   ]
  },
  {
   "cell_type": "code",
   "execution_count": 34,
   "id": "d3b5d3b9",
   "metadata": {},
   "outputs": [
    {
     "name": "stdout",
     "output_type": "stream",
     "text": [
      "Доля отсутствующих данных в разрезе типа занятости\n",
      "сотрудник - 0.10\n",
      "пенсионер - 0.11\n",
      "компаньон - 0.10\n",
      "госслужащий - 0.10\n",
      "безработный - 0.00\n",
      "предприниматель - 0.50\n",
      "студент - 0.00\n",
      "в декрете - 0.00\n",
      "----------------------------\n",
      "Общее количество заемщиков в разрезе типа занятости\n",
      "сотрудник 11119\n",
      "пенсионер 3856\n",
      "компаньон 5085\n",
      "госслужащий 1459\n",
      "безработный 2\n",
      "предприниматель 2\n",
      "студент 1\n",
      "в декрете 1\n"
     ]
    }
   ],
   "source": [
    "print('Доля отсутствующих данных в разрезе типа занятости')\n",
    "for i in income_type_unique:\n",
    "    a = data_null.loc[data_null[col] == i,'days_employed'].isna().sum()/data_null.loc[data_null[col] == i,'children'].isna().count()\n",
    "    print(f'{i} - {a:.2f}')\n",
    "print('----------------------------')\n",
    "print('Общее количество заемщиков в разрезе типа занятости')\n",
    "for i in income_type_unique:\n",
    "    print(i , data_null.loc[data_null[col] == i,'children'].isna().count())"
   ]
  },
  {
   "cell_type": "markdown",
   "id": "266ecc3c",
   "metadata": {},
   "source": [
    "Из расчета видно, что доля отсутствующих данных в разрезе типа занятости практически одинакова во всех категориях работников, чья численность является значимой. Это массовая ошибка. Вряд ли банк выдал заем при отсутствии введенных данных в этих столбцах. Значит они были и пропали. Маловероятно, что служащие сидели и удаляли данные клавишей Delete. Отрицательные значения в **days_employed** косвенно подтверждают ошибку в формулах для расчета. \n",
    "Доля в 10% свидельствует о том, что ошибку вовремя заметили и предотвратили потерю всех данных."
   ]
  },
  {
   "cell_type": "markdown",
   "id": "accd8d38",
   "metadata": {
    "deletable": false,
    "id": "9da2ceda"
   },
   "source": [
    "*Ответ:* Причиной появления пропусков в исходных данных является некорректная машинная обработка"
   ]
  },
  {
   "cell_type": "markdown",
   "id": "896a17ce",
   "metadata": {},
   "source": [
    "<div class=\"alert alert-success\">\n",
    "<h2> Комментарий ревьюера V1<a class=\"tocSkip\"> </h2>\n",
    "\n",
    "<b>Все отлично!👍:</b> Все правильно, молодец!\n",
    "</div>"
   ]
  },
  {
   "cell_type": "markdown",
   "id": "e3fc1a5f",
   "metadata": {
    "deletable": false,
    "editable": false,
    "id": "7b0487d6"
   },
   "source": [
    "#### 3.6 Объясните, почему заполнить пропуски медианным значением — лучшее решение для количественных переменных."
   ]
  },
  {
   "cell_type": "markdown",
   "id": "9958ce76",
   "metadata": {
    "deletable": false,
    "id": "7ecf2b8e"
   },
   "source": [
    "*Ответ:* Медианное значение является лучшим решением для заполнения отсуствующих значений количественных переменных по причине того, что они находятся посередине выборки и являются истиным средним значением, в то время как среднее значение может иметь большие отклонения."
   ]
  },
  {
   "cell_type": "markdown",
   "id": "c50a823d",
   "metadata": {},
   "source": [
    "<div class=\"alert alert-success\">\n",
    "<h2> Комментарий ревьюера V1<a class=\"tocSkip\"> </h2>\n",
    "\n",
    "<b>Все отлично!👍:</b> Абсолютно верно.\n",
    "</div>"
   ]
  },
  {
   "cell_type": "markdown",
   "id": "12f018e1",
   "metadata": {
    "deletable": false,
    "editable": false,
    "id": "6db5255a"
   },
   "source": [
    "### Шаг 4: общий вывод."
   ]
  },
  {
   "cell_type": "markdown",
   "id": "9fab9acd",
   "metadata": {
    "deletable": false,
    "id": "bad65432"
   },
   "source": [
    "В результате исследования не было обнаружено связей между указанными категориями и возвратом кредита в срок. Единственная категория, расчеты по которой могут быть подвергнуты сомнению это \"уровнень дохода\", по причине отсутствия реальных исходных данных в объеме около 10% в столбце **total_income**, на основе которых и создавалась эта категория. \n",
    "**Рекомендация** необходимо провести исследование на основе совокупности факторов."
   ]
  },
  {
   "cell_type": "markdown",
   "id": "a5af2725",
   "metadata": {},
   "source": [
    "<div class=\"alert alert-warning\">\n",
    "<h2> Комментарий ревьюера V1<a class=\"tocSkip\"> </h2>\n",
    "    \n",
    "<b>Некоторые замечания и рекомендации💡:</b> В итоговом выводе нужно достаточно подробно написать основные пункты выявленных зависимостей. Стоит доработать вывод с учетом моих комментариев по ходу работы."
   ]
  },
  {
   "cell_type": "markdown",
   "id": "78a05ee6",
   "metadata": {},
   "source": [
    "<div class=\"alert alert-info\">\n",
    "<h2> Доработка <a class=\"tocSkip\"> </h2>"
   ]
  },
  {
   "cell_type": "markdown",
   "id": "104c454c",
   "metadata": {},
   "source": [
    "**Шаг 4: общий вывод**\n",
    "\n",
    "В ходе исследования были проведены расчеты для выявления зависимости возврата кредита в срок от нескольких показателей:\n",
    "- от количества детей\n",
    "- от семейного положения заемщиков\n",
    "- от уровня дохода\n",
    "- от целей кредита\n",
    "\n",
    "Проведенное исследование показало, что:\n",
    "\n",
    "1. Многодетные семьи (3 ребенка и более) берут не так много кредитов, чтобы их показатели можно было использовать в анализе ситуации. Из оставшихся категорий распределение следующее:\n",
    "| кол-во детей   | Доля должников|\n",
    "| ------------- |:-------------:|\n",
    "| 0             | 7.5% |\n",
    "| 1             | 9.2% |\n",
    "| 2 | 9.5%      |\n",
    "\n",
    "Поэтому именно количество детей не влияет на возврат кредита в срок, а вот их наличие - влияет\n",
    "\n",
    "----\n",
    "\n",
    "2. При выявлении зависимости возврата кредита в срок от семейного положения оказалось, что заемщики, имеющие отношение к официальному браку, более ответственно относятся к возврату кредита. То есть зависимость есть\n",
    "| Сем. полож   | Доля должников| Брак|\n",
    "| ------------- |:-------------:|----|\n",
    "| вдовец / вдова | 6.6% |+\n",
    "| в разводе      | 7.1% |+\n",
    "| женат / замужем | 7.5% |+\n",
    "|гражданский брак|9.3%|-\n",
    "|не женат/не замужем|9.8%|-\n",
    "\n",
    "----\n",
    "\n",
    "3. Выявлена зависимость возврата кредита в срок от дохода заемщиков. Но, по причине того, что из пяти категорий для анализа подходит только две и разница между долями должников составила всего 1.5%, судить о тесной зависимости сложно.\n",
    "| Доход   | Доля должников|\n",
    "| ------------- |:-------------:|\n",
    "| 200001–1000000| 7% |\n",
    "| 50001–200000 | 8.5% |\n",
    "\n",
    "----\n",
    "\n",
    "4. Выявлена связь между сроком возврата и целью кредита. Граждане, берущие кредиты на недвижимость, погашают их более дисциплинировано, чем, например, те, кто решил обзавестись автомобилем. \n",
    "| Доход   | Доля должников|\n",
    "| ------------- |:-------------:|\n",
    "|операции с недвижимостью|7.2%|\n",
    "|проведение свадьбы|7.9%|\n",
    "|получение образования|9.2%|\n",
    "|операции с автомобилем|9.3%|\t\n",
    "\n",
    "___\n",
    "\n",
    "В двух исследованиях из четырех пришлось отбрасывать группы для анализа, так как в них было мало данных. Поэтому, скорее всего, необходимо менять критерии для группировки или по другому формулировать задачу ислледования.\n",
    "Также было замечено, что во всех исследованиях результаты (доля недобросовестных заещиков) расположены около значения 8%. Минимальный - 6.6%, максимальный 9.6%. Это дает основание предполагать, что существуют дополнительные факторы, оказывающие влияние на конечный результат.\n",
    "\n",
    "**Рекомендация** необходимо провести исследование на основе совокупности факторов."
   ]
  },
  {
   "cell_type": "markdown",
   "id": "d786067c",
   "metadata": {},
   "source": [
    "<div class=\"alert alert-success\">\n",
    "<h2> Комментарий ревьюера V2<a class=\"tocSkip\"> </h2>\n",
    "\n",
    "<b>Все отлично!👍:</b> Отличный вывод, все четко, понятно и структурировано. Вывод в полной мере отражает существующие зависимости, и по нему можно принимать дальнейшие решения. Молодец, что оставляешь свои рекомендации.\n",
    "</div>"
   ]
  },
  {
   "cell_type": "markdown",
   "id": "7cfeaee2",
   "metadata": {},
   "source": [
    "<div style=\"border:solid Chocolate 2px; padding: 40px\">\n",
    "\n",
    "**Общий вывод по проекту**\n",
    "\n",
    "Спасибо за твой проект! Я уверен, что ты приложил все усилия, чтобы сделать этот проект. Это видно по твоей работе, а сформулированные выводы отражают, насколько успешно ты осваиваешь материал. \n",
    "\n",
    "**Отмечу отдельные положительные моменты проекта🙂**:\n",
    " \n",
    "* Ты полностью следовал всем этапам выполнения задания и справился почти со всем. Хорошая работа!\n",
    "* Отдельно выделю некоторые выводы, которые ты смог сформулировать абсолютно точно!\n",
    "* У тебя опрятный и читаемый код. Возможно это звучит банально, однако при работе с чужим кодом это крайне важно)\n",
    "\n",
    "\n",
    "**На что стоит обратить внимание🤓**:\n",
    "    \n",
    "* Важно доработать итоговый вывод.\n",
    "* Попробуй заново выявить зависимости в каждом пункте.\n",
    "* Остальные рекомендации ты найдешь в моих комментариях!\n",
    "\n",
    "\n",
    "**Желаю удачи и жду твой проект на повторное ревью!**😉"
   ]
  },
  {
   "cell_type": "markdown",
   "id": "cf859dc9",
   "metadata": {},
   "source": [
    "<div style=\"border:solid Chocolate 2px; padding: 40px\">\n",
    "\n",
    "Ты отлично справился с данной работой! Видно, как ты успешно осваиваешь материал, применяешь полученные знания на практике. Мне было очень приятно проверять твою работу, надеюсь, мои комментарии и советы были для тебя полезными.\n",
    "\n",
    "**Желаю удачи в последующем обучении и исследованиях!**😉"
   ]
  },
  {
   "cell_type": "code",
   "execution_count": null,
   "id": "f3c5aa0e",
   "metadata": {},
   "outputs": [],
   "source": []
  }
 ],
 "metadata": {
  "ExecuteTimeLog": [
   {
    "duration": 505,
    "start_time": "2022-11-19T12:25:22.186Z"
   },
   {
    "duration": 20,
    "start_time": "2022-11-19T12:25:22.693Z"
   },
   {
    "duration": 14,
    "start_time": "2022-11-19T12:25:22.715Z"
   },
   {
    "duration": 9,
    "start_time": "2022-11-19T12:25:22.730Z"
   },
   {
    "duration": 32,
    "start_time": "2022-11-19T12:25:22.740Z"
   },
   {
    "duration": 4,
    "start_time": "2022-11-19T12:25:22.774Z"
   },
   {
    "duration": 14,
    "start_time": "2022-11-19T12:25:22.780Z"
   },
   {
    "duration": 11,
    "start_time": "2022-11-19T12:25:22.796Z"
   },
   {
    "duration": 19,
    "start_time": "2022-11-19T12:25:22.808Z"
   },
   {
    "duration": 5,
    "start_time": "2022-11-19T12:25:22.829Z"
   },
   {
    "duration": 42,
    "start_time": "2022-11-19T12:25:22.835Z"
   },
   {
    "duration": 10,
    "start_time": "2022-11-19T12:25:22.879Z"
   },
   {
    "duration": 4,
    "start_time": "2022-11-19T12:25:22.890Z"
   },
   {
    "duration": 35,
    "start_time": "2022-11-19T12:25:22.896Z"
   },
   {
    "duration": 23,
    "start_time": "2022-11-19T12:25:22.933Z"
   },
   {
    "duration": 16,
    "start_time": "2022-11-19T12:25:22.957Z"
   },
   {
    "duration": 4,
    "start_time": "2022-11-19T12:25:22.974Z"
   },
   {
    "duration": 13,
    "start_time": "2022-11-19T12:25:22.979Z"
   },
   {
    "duration": 28,
    "start_time": "2022-11-19T12:25:22.994Z"
   },
   {
    "duration": 6,
    "start_time": "2022-11-19T12:25:23.023Z"
   },
   {
    "duration": 12,
    "start_time": "2022-11-19T12:25:23.030Z"
   },
   {
    "duration": 4,
    "start_time": "2022-11-19T12:25:23.043Z"
   },
   {
    "duration": 5,
    "start_time": "2022-11-19T12:25:23.049Z"
   },
   {
    "duration": 4,
    "start_time": "2022-11-19T12:25:23.055Z"
   },
   {
    "duration": 5,
    "start_time": "2022-11-19T12:25:23.060Z"
   },
   {
    "duration": 16,
    "start_time": "2022-11-19T12:25:53.094Z"
   },
   {
    "duration": 709,
    "start_time": "2022-11-19T12:32:35.523Z"
   },
   {
    "duration": 4,
    "start_time": "2022-11-19T12:32:45.927Z"
   },
   {
    "duration": 692,
    "start_time": "2022-11-19T12:32:53.882Z"
   },
   {
    "duration": 661,
    "start_time": "2022-11-19T12:33:36.256Z"
   },
   {
    "duration": 4,
    "start_time": "2022-11-19T12:34:15.432Z"
   },
   {
    "duration": 696,
    "start_time": "2022-11-19T12:34:37.170Z"
   },
   {
    "duration": 2,
    "start_time": "2022-11-19T12:34:45.184Z"
   },
   {
    "duration": 468,
    "start_time": "2022-11-19T12:34:59.400Z"
   },
   {
    "duration": 716,
    "start_time": "2022-11-19T12:36:07.436Z"
   },
   {
    "duration": 4,
    "start_time": "2022-11-19T12:37:41.683Z"
   },
   {
    "duration": 6,
    "start_time": "2022-11-19T12:37:52.956Z"
   },
   {
    "duration": 6,
    "start_time": "2022-11-19T12:38:26.501Z"
   },
   {
    "duration": 3,
    "start_time": "2022-11-19T12:39:39.686Z"
   },
   {
    "duration": 6,
    "start_time": "2022-11-19T12:39:50.922Z"
   },
   {
    "duration": 21,
    "start_time": "2022-11-19T12:40:43.127Z"
   },
   {
    "duration": 15,
    "start_time": "2022-11-19T12:40:56.136Z"
   },
   {
    "duration": 14,
    "start_time": "2022-11-19T12:41:07.440Z"
   },
   {
    "duration": 6,
    "start_time": "2022-11-19T12:41:20.857Z"
   },
   {
    "duration": 7,
    "start_time": "2022-11-19T12:44:15.419Z"
   },
   {
    "duration": 11,
    "start_time": "2022-11-19T12:45:54.638Z"
   },
   {
    "duration": 12,
    "start_time": "2022-11-19T12:53:45.807Z"
   },
   {
    "duration": 17,
    "start_time": "2022-11-19T12:54:03.135Z"
   },
   {
    "duration": 6,
    "start_time": "2022-11-19T12:54:44.128Z"
   },
   {
    "duration": 12,
    "start_time": "2022-11-19T12:56:50.178Z"
   },
   {
    "duration": 4,
    "start_time": "2022-11-19T13:05:47.037Z"
   },
   {
    "duration": 7,
    "start_time": "2022-11-19T13:06:06.237Z"
   },
   {
    "duration": 7,
    "start_time": "2022-11-19T13:06:24.315Z"
   },
   {
    "duration": 9,
    "start_time": "2022-11-19T13:07:29.830Z"
   },
   {
    "duration": 9,
    "start_time": "2022-11-19T13:07:35.943Z"
   },
   {
    "duration": 9,
    "start_time": "2022-11-19T13:08:13.930Z"
   },
   {
    "duration": 9,
    "start_time": "2022-11-19T13:08:39.220Z"
   },
   {
    "duration": 11,
    "start_time": "2022-11-19T17:20:34.855Z"
   },
   {
    "duration": 10,
    "start_time": "2022-11-19T17:20:41.263Z"
   },
   {
    "duration": 11,
    "start_time": "2022-11-19T17:20:50.879Z"
   },
   {
    "duration": 6,
    "start_time": "2022-11-19T17:21:15.673Z"
   },
   {
    "duration": 9,
    "start_time": "2022-11-19T17:21:21.663Z"
   },
   {
    "duration": 9,
    "start_time": "2022-11-19T17:22:02.489Z"
   },
   {
    "duration": 4,
    "start_time": "2022-11-19T17:26:27.606Z"
   },
   {
    "duration": 6,
    "start_time": "2022-11-19T17:26:42.982Z"
   },
   {
    "duration": 471,
    "start_time": "2022-11-19T17:30:25.485Z"
   },
   {
    "duration": 22,
    "start_time": "2022-11-19T17:30:25.958Z"
   },
   {
    "duration": 15,
    "start_time": "2022-11-19T17:30:25.982Z"
   },
   {
    "duration": 23,
    "start_time": "2022-11-19T17:30:25.999Z"
   },
   {
    "duration": 31,
    "start_time": "2022-11-19T17:30:26.024Z"
   },
   {
    "duration": 3,
    "start_time": "2022-11-19T17:30:26.056Z"
   },
   {
    "duration": 11,
    "start_time": "2022-11-19T17:30:26.060Z"
   },
   {
    "duration": 4,
    "start_time": "2022-11-19T17:30:26.073Z"
   },
   {
    "duration": 10,
    "start_time": "2022-11-19T17:30:26.078Z"
   },
   {
    "duration": 4,
    "start_time": "2022-11-19T17:30:26.090Z"
   },
   {
    "duration": 35,
    "start_time": "2022-11-19T17:30:26.121Z"
   },
   {
    "duration": 11,
    "start_time": "2022-11-19T17:30:26.157Z"
   },
   {
    "duration": 5,
    "start_time": "2022-11-19T17:30:26.169Z"
   },
   {
    "duration": 12,
    "start_time": "2022-11-19T17:30:26.175Z"
   },
   {
    "duration": 44,
    "start_time": "2022-11-19T17:30:26.189Z"
   },
   {
    "duration": 16,
    "start_time": "2022-11-19T17:30:26.234Z"
   },
   {
    "duration": 3,
    "start_time": "2022-11-19T17:30:26.252Z"
   },
   {
    "duration": 13,
    "start_time": "2022-11-19T17:30:26.256Z"
   },
   {
    "duration": 8,
    "start_time": "2022-11-19T17:30:26.270Z"
   },
   {
    "duration": 3,
    "start_time": "2022-11-19T17:30:26.280Z"
   },
   {
    "duration": 12,
    "start_time": "2022-11-19T17:30:26.284Z"
   },
   {
    "duration": 25,
    "start_time": "2022-11-19T17:30:26.297Z"
   },
   {
    "duration": 17,
    "start_time": "2022-11-19T17:30:26.324Z"
   },
   {
    "duration": 10,
    "start_time": "2022-11-19T17:30:26.343Z"
   },
   {
    "duration": 5,
    "start_time": "2022-11-19T17:30:26.354Z"
   },
   {
    "duration": 5,
    "start_time": "2022-11-19T17:30:26.360Z"
   },
   {
    "duration": 7,
    "start_time": "2022-11-19T17:30:26.367Z"
   },
   {
    "duration": 9,
    "start_time": "2022-11-19T17:31:30.092Z"
   },
   {
    "duration": 7,
    "start_time": "2022-11-19T17:32:12.022Z"
   },
   {
    "duration": 64,
    "start_time": "2022-11-19T17:34:43.639Z"
   },
   {
    "duration": 18,
    "start_time": "2022-11-19T17:35:01.024Z"
   },
   {
    "duration": 14,
    "start_time": "2022-11-19T17:35:54.177Z"
   },
   {
    "duration": 11,
    "start_time": "2022-11-19T17:40:45.158Z"
   },
   {
    "duration": 720,
    "start_time": "2022-11-19T17:41:02.655Z"
   },
   {
    "duration": 12,
    "start_time": "2022-11-19T17:41:11.478Z"
   },
   {
    "duration": 8,
    "start_time": "2022-11-19T17:44:51.083Z"
   },
   {
    "duration": 11,
    "start_time": "2022-11-19T17:46:17.476Z"
   },
   {
    "duration": 10,
    "start_time": "2022-11-19T17:47:23.478Z"
   },
   {
    "duration": 12,
    "start_time": "2022-11-19T17:47:37.607Z"
   },
   {
    "duration": 12,
    "start_time": "2022-11-19T18:01:40.359Z"
   },
   {
    "duration": 770,
    "start_time": "2022-11-19T18:06:01.115Z"
   },
   {
    "duration": 939,
    "start_time": "2022-11-19T18:06:44.643Z"
   },
   {
    "duration": 9,
    "start_time": "2022-11-19T18:07:33.716Z"
   },
   {
    "duration": 3,
    "start_time": "2022-11-19T18:07:44.533Z"
   },
   {
    "duration": 10,
    "start_time": "2022-11-19T18:08:11.589Z"
   },
   {
    "duration": 2386,
    "start_time": "2022-11-19T18:08:57.197Z"
   },
   {
    "duration": 784,
    "start_time": "2022-11-19T18:09:37.634Z"
   },
   {
    "duration": 13,
    "start_time": "2022-11-19T18:13:55.188Z"
   },
   {
    "duration": 18,
    "start_time": "2022-11-19T18:14:11.821Z"
   },
   {
    "duration": 13,
    "start_time": "2022-11-19T18:15:12.758Z"
   },
   {
    "duration": 15,
    "start_time": "2022-11-19T18:16:21.862Z"
   },
   {
    "duration": 7,
    "start_time": "2022-11-19T18:18:03.849Z"
   },
   {
    "duration": 16,
    "start_time": "2022-11-19T18:18:30.769Z"
   },
   {
    "duration": 27,
    "start_time": "2022-11-19T18:18:51.785Z"
   },
   {
    "duration": 550,
    "start_time": "2022-11-19T18:21:19.660Z"
   },
   {
    "duration": 519,
    "start_time": "2022-11-19T18:23:03.160Z"
   },
   {
    "duration": 11,
    "start_time": "2022-11-19T18:24:05.320Z"
   },
   {
    "duration": 15,
    "start_time": "2022-11-19T18:25:00.880Z"
   },
   {
    "duration": 15,
    "start_time": "2022-11-19T18:25:19.498Z"
   },
   {
    "duration": 476,
    "start_time": "2022-11-19T18:25:51.674Z"
   },
   {
    "duration": 493,
    "start_time": "2022-11-19T18:26:11.651Z"
   },
   {
    "duration": 11,
    "start_time": "2022-11-19T18:26:22.779Z"
   },
   {
    "duration": 10,
    "start_time": "2022-11-19T18:27:00.332Z"
   },
   {
    "duration": 719,
    "start_time": "2022-11-20T10:07:27.911Z"
   },
   {
    "duration": 22,
    "start_time": "2022-11-20T10:07:28.632Z"
   },
   {
    "duration": 14,
    "start_time": "2022-11-20T10:07:28.655Z"
   },
   {
    "duration": 18,
    "start_time": "2022-11-20T10:07:28.671Z"
   },
   {
    "duration": 43,
    "start_time": "2022-11-20T10:07:28.691Z"
   },
   {
    "duration": 3,
    "start_time": "2022-11-20T10:07:28.736Z"
   },
   {
    "duration": 11,
    "start_time": "2022-11-20T10:07:28.740Z"
   },
   {
    "duration": 9,
    "start_time": "2022-11-20T10:07:28.752Z"
   },
   {
    "duration": 8,
    "start_time": "2022-11-20T10:07:28.762Z"
   },
   {
    "duration": 18,
    "start_time": "2022-11-20T10:07:28.773Z"
   },
   {
    "duration": 34,
    "start_time": "2022-11-20T10:07:28.793Z"
   },
   {
    "duration": 9,
    "start_time": "2022-11-20T10:07:28.828Z"
   },
   {
    "duration": 4,
    "start_time": "2022-11-20T10:07:28.838Z"
   },
   {
    "duration": 13,
    "start_time": "2022-11-20T10:07:28.843Z"
   },
   {
    "duration": 30,
    "start_time": "2022-11-20T10:07:28.857Z"
   },
   {
    "duration": 18,
    "start_time": "2022-11-20T10:07:28.889Z"
   },
   {
    "duration": 4,
    "start_time": "2022-11-20T10:07:28.908Z"
   },
   {
    "duration": 11,
    "start_time": "2022-11-20T10:07:28.914Z"
   },
   {
    "duration": 6,
    "start_time": "2022-11-20T10:07:28.926Z"
   },
   {
    "duration": 4,
    "start_time": "2022-11-20T10:07:28.934Z"
   },
   {
    "duration": 17,
    "start_time": "2022-11-20T10:07:28.939Z"
   },
   {
    "duration": 21,
    "start_time": "2022-11-20T10:07:28.979Z"
   },
   {
    "duration": 9,
    "start_time": "2022-11-20T10:07:29.002Z"
   },
   {
    "duration": 4,
    "start_time": "2022-11-20T10:07:29.013Z"
   },
   {
    "duration": 5,
    "start_time": "2022-11-20T10:07:29.018Z"
   },
   {
    "duration": 6,
    "start_time": "2022-11-20T10:07:29.024Z"
   },
   {
    "duration": 9,
    "start_time": "2022-11-20T10:15:57.192Z"
   },
   {
    "duration": 12,
    "start_time": "2022-11-20T10:16:17.334Z"
   },
   {
    "duration": 9,
    "start_time": "2022-11-20T10:16:18.838Z"
   },
   {
    "duration": 70,
    "start_time": "2022-11-20T10:17:37.521Z"
   },
   {
    "duration": 10,
    "start_time": "2022-11-20T10:17:43.599Z"
   },
   {
    "duration": 17,
    "start_time": "2022-11-20T10:32:40.894Z"
   },
   {
    "duration": 9,
    "start_time": "2022-11-20T10:32:48.337Z"
   },
   {
    "duration": 7,
    "start_time": "2022-11-20T10:34:33.139Z"
   },
   {
    "duration": 15,
    "start_time": "2022-11-20T10:34:36.931Z"
   },
   {
    "duration": 7,
    "start_time": "2022-11-20T10:34:40.003Z"
   },
   {
    "duration": 15,
    "start_time": "2022-11-20T10:35:27.903Z"
   },
   {
    "duration": 7,
    "start_time": "2022-11-20T10:35:31.245Z"
   },
   {
    "duration": 15,
    "start_time": "2022-11-20T10:38:06.441Z"
   },
   {
    "duration": 14,
    "start_time": "2022-11-20T10:38:48.841Z"
   },
   {
    "duration": 7,
    "start_time": "2022-11-20T10:38:51.137Z"
   },
   {
    "duration": 15,
    "start_time": "2022-11-20T10:51:34.194Z"
   },
   {
    "duration": 9,
    "start_time": "2022-11-20T10:51:40.858Z"
   },
   {
    "duration": 13,
    "start_time": "2022-11-20T10:58:37.603Z"
   },
   {
    "duration": 7,
    "start_time": "2022-11-20T10:58:39.707Z"
   },
   {
    "duration": 10,
    "start_time": "2022-11-20T10:59:22.994Z"
   },
   {
    "duration": 8,
    "start_time": "2022-11-20T10:59:28.124Z"
   },
   {
    "duration": 13,
    "start_time": "2022-11-20T11:00:09.899Z"
   },
   {
    "duration": 7,
    "start_time": "2022-11-20T11:00:15.142Z"
   },
   {
    "duration": 17,
    "start_time": "2022-11-20T11:01:13.046Z"
   },
   {
    "duration": 8,
    "start_time": "2022-11-20T11:01:15.758Z"
   },
   {
    "duration": 13,
    "start_time": "2022-11-20T11:02:01.959Z"
   },
   {
    "duration": 11,
    "start_time": "2022-11-20T11:02:03.801Z"
   },
   {
    "duration": 20,
    "start_time": "2022-11-20T11:03:56.297Z"
   },
   {
    "duration": 12,
    "start_time": "2022-11-20T11:03:58.577Z"
   },
   {
    "duration": 16,
    "start_time": "2022-11-20T11:05:33.115Z"
   },
   {
    "duration": 9,
    "start_time": "2022-11-20T11:05:35.132Z"
   },
   {
    "duration": 16,
    "start_time": "2022-11-20T11:06:39.997Z"
   },
   {
    "duration": 9,
    "start_time": "2022-11-20T11:06:41.296Z"
   },
   {
    "duration": 15,
    "start_time": "2022-11-20T12:04:21.904Z"
   },
   {
    "duration": 12,
    "start_time": "2022-11-20T12:04:41.560Z"
   },
   {
    "duration": 11,
    "start_time": "2022-11-20T12:04:55.696Z"
   },
   {
    "duration": 6,
    "start_time": "2022-11-20T12:08:02.315Z"
   },
   {
    "duration": 3,
    "start_time": "2022-11-20T12:08:07.507Z"
   },
   {
    "duration": 12,
    "start_time": "2022-11-20T12:08:09.738Z"
   },
   {
    "duration": 10,
    "start_time": "2022-11-20T12:08:10.810Z"
   },
   {
    "duration": 4,
    "start_time": "2022-11-20T12:08:11.909Z"
   },
   {
    "duration": 3,
    "start_time": "2022-11-20T12:09:20.372Z"
   },
   {
    "duration": 13,
    "start_time": "2022-11-20T12:09:21.388Z"
   },
   {
    "duration": 10,
    "start_time": "2022-11-20T12:09:22.156Z"
   },
   {
    "duration": 73,
    "start_time": "2022-11-20T12:09:23.012Z"
   },
   {
    "duration": 3,
    "start_time": "2022-11-20T12:10:37.126Z"
   },
   {
    "duration": 12,
    "start_time": "2022-11-20T12:10:38.086Z"
   },
   {
    "duration": 10,
    "start_time": "2022-11-20T12:10:38.798Z"
   },
   {
    "duration": 4,
    "start_time": "2022-11-20T12:10:40.637Z"
   },
   {
    "duration": 9,
    "start_time": "2022-11-20T12:11:03.047Z"
   },
   {
    "duration": 3,
    "start_time": "2022-11-20T12:11:55.143Z"
   },
   {
    "duration": 3,
    "start_time": "2022-11-20T12:11:59.343Z"
   },
   {
    "duration": 13,
    "start_time": "2022-11-20T12:12:04.112Z"
   },
   {
    "duration": 9,
    "start_time": "2022-11-20T12:12:05.135Z"
   },
   {
    "duration": 6,
    "start_time": "2022-11-20T12:12:06.032Z"
   },
   {
    "duration": 2,
    "start_time": "2022-11-20T12:12:32.161Z"
   },
   {
    "duration": 7,
    "start_time": "2022-11-20T12:12:34.456Z"
   },
   {
    "duration": 54,
    "start_time": "2022-11-20T12:13:26.226Z"
   },
   {
    "duration": 3,
    "start_time": "2022-11-20T12:13:35.674Z"
   },
   {
    "duration": 12,
    "start_time": "2022-11-20T12:13:37.777Z"
   },
   {
    "duration": 11,
    "start_time": "2022-11-20T12:13:38.529Z"
   },
   {
    "duration": 13,
    "start_time": "2022-11-20T12:13:39.290Z"
   },
   {
    "duration": 3,
    "start_time": "2022-11-20T12:14:16.122Z"
   },
   {
    "duration": 12,
    "start_time": "2022-11-20T12:14:21.043Z"
   },
   {
    "duration": 3,
    "start_time": "2022-11-20T12:14:29.530Z"
   },
   {
    "duration": 8,
    "start_time": "2022-11-20T12:14:31.570Z"
   },
   {
    "duration": 14,
    "start_time": "2022-11-20T12:14:32.619Z"
   },
   {
    "duration": 3,
    "start_time": "2022-11-20T12:15:04.411Z"
   },
   {
    "duration": 11,
    "start_time": "2022-11-20T12:15:05.443Z"
   },
   {
    "duration": 10,
    "start_time": "2022-11-20T12:15:06.091Z"
   },
   {
    "duration": 12,
    "start_time": "2022-11-20T12:15:06.852Z"
   },
   {
    "duration": 2,
    "start_time": "2022-11-20T12:15:36.061Z"
   },
   {
    "duration": 3,
    "start_time": "2022-11-20T12:15:40.284Z"
   },
   {
    "duration": 8,
    "start_time": "2022-11-20T12:15:45.203Z"
   },
   {
    "duration": 3,
    "start_time": "2022-11-20T12:16:34.262Z"
   },
   {
    "duration": 11,
    "start_time": "2022-11-20T12:16:36.575Z"
   },
   {
    "duration": 3,
    "start_time": "2022-11-20T12:17:08.455Z"
   },
   {
    "duration": 14,
    "start_time": "2022-11-20T12:17:10.294Z"
   },
   {
    "duration": 3,
    "start_time": "2022-11-20T12:18:01.151Z"
   },
   {
    "duration": 5,
    "start_time": "2022-11-20T12:18:05.752Z"
   },
   {
    "duration": 3,
    "start_time": "2022-11-20T12:18:35.984Z"
   },
   {
    "duration": 5,
    "start_time": "2022-11-20T12:18:38.423Z"
   },
   {
    "duration": 43,
    "start_time": "2022-11-20T12:19:43.274Z"
   },
   {
    "duration": 3,
    "start_time": "2022-11-20T12:19:51.033Z"
   },
   {
    "duration": 4,
    "start_time": "2022-11-20T12:19:53.145Z"
   },
   {
    "duration": 3,
    "start_time": "2022-11-20T12:20:39.394Z"
   },
   {
    "duration": 4,
    "start_time": "2022-11-20T12:20:41.986Z"
   },
   {
    "duration": 3,
    "start_time": "2022-11-20T12:22:16.921Z"
   },
   {
    "duration": 9,
    "start_time": "2022-11-20T12:22:20.677Z"
   },
   {
    "duration": 9,
    "start_time": "2022-11-20T12:23:10.205Z"
   },
   {
    "duration": 3,
    "start_time": "2022-11-20T12:23:39.918Z"
   },
   {
    "duration": 10,
    "start_time": "2022-11-20T12:24:04.488Z"
   },
   {
    "duration": 2,
    "start_time": "2022-11-20T12:24:23.920Z"
   },
   {
    "duration": 11,
    "start_time": "2022-11-20T12:24:27.206Z"
   },
   {
    "duration": 14,
    "start_time": "2022-11-20T12:24:44.030Z"
   },
   {
    "duration": 9,
    "start_time": "2022-11-20T12:24:49.447Z"
   },
   {
    "duration": 10,
    "start_time": "2022-11-20T12:24:54.127Z"
   },
   {
    "duration": 13,
    "start_time": "2022-11-20T12:30:40.927Z"
   },
   {
    "duration": 13,
    "start_time": "2022-11-20T12:30:49.321Z"
   },
   {
    "duration": 9,
    "start_time": "2022-11-20T12:30:53.950Z"
   },
   {
    "duration": 3,
    "start_time": "2022-11-20T12:32:07.121Z"
   },
   {
    "duration": 8,
    "start_time": "2022-11-20T12:32:12.152Z"
   },
   {
    "duration": 3,
    "start_time": "2022-11-20T12:32:47.378Z"
   },
   {
    "duration": 7,
    "start_time": "2022-11-20T12:32:50.305Z"
   },
   {
    "duration": 78,
    "start_time": "2022-11-20T12:34:18.563Z"
   },
   {
    "duration": 594,
    "start_time": "2022-11-20T12:34:24.481Z"
   },
   {
    "duration": 556,
    "start_time": "2022-11-20T12:34:30.108Z"
   },
   {
    "duration": 725,
    "start_time": "2022-11-20T12:34:46.564Z"
   },
   {
    "duration": 536,
    "start_time": "2022-11-20T12:35:08.309Z"
   },
   {
    "duration": 646,
    "start_time": "2022-11-20T12:35:17.101Z"
   },
   {
    "duration": 3,
    "start_time": "2022-11-20T12:35:33.837Z"
   },
   {
    "duration": 4,
    "start_time": "2022-11-20T12:35:43.285Z"
   },
   {
    "duration": 6,
    "start_time": "2022-11-20T12:35:49.925Z"
   },
   {
    "duration": 7,
    "start_time": "2022-11-20T12:36:02.333Z"
   },
   {
    "duration": 6,
    "start_time": "2022-11-20T12:36:09.646Z"
   },
   {
    "duration": 585,
    "start_time": "2022-11-20T12:36:18.846Z"
   },
   {
    "duration": 519,
    "start_time": "2022-11-20T12:36:28.046Z"
   },
   {
    "duration": 9,
    "start_time": "2022-11-20T12:39:30.354Z"
   },
   {
    "duration": 4,
    "start_time": "2022-11-20T12:39:56.946Z"
   },
   {
    "duration": 9,
    "start_time": "2022-11-20T12:39:59.713Z"
   },
   {
    "duration": 4,
    "start_time": "2022-11-20T12:40:02.297Z"
   },
   {
    "duration": 3,
    "start_time": "2022-11-20T12:40:45.907Z"
   },
   {
    "duration": 9,
    "start_time": "2022-11-20T12:40:48.666Z"
   },
   {
    "duration": 3,
    "start_time": "2022-11-20T12:41:23.955Z"
   },
   {
    "duration": 6,
    "start_time": "2022-11-20T12:41:26.203Z"
   },
   {
    "duration": 4,
    "start_time": "2022-11-20T12:45:24.729Z"
   },
   {
    "duration": 10,
    "start_time": "2022-11-20T12:45:28.072Z"
   },
   {
    "duration": 5,
    "start_time": "2022-11-20T12:45:44.851Z"
   },
   {
    "duration": 9,
    "start_time": "2022-11-20T12:45:47.008Z"
   },
   {
    "duration": 4,
    "start_time": "2022-11-20T12:46:13.641Z"
   },
   {
    "duration": 4,
    "start_time": "2022-11-20T12:46:17.073Z"
   },
   {
    "duration": 3,
    "start_time": "2022-11-20T12:47:18.611Z"
   },
   {
    "duration": 3,
    "start_time": "2022-11-20T12:47:21.245Z"
   },
   {
    "duration": 3,
    "start_time": "2022-11-20T12:47:36.755Z"
   },
   {
    "duration": 4,
    "start_time": "2022-11-20T12:47:39.050Z"
   },
   {
    "duration": 46,
    "start_time": "2022-11-20T12:55:34.077Z"
   },
   {
    "duration": 4,
    "start_time": "2022-11-20T12:55:40.589Z"
   },
   {
    "duration": 9,
    "start_time": "2022-11-20T12:55:45.172Z"
   },
   {
    "duration": 4,
    "start_time": "2022-11-20T12:56:48.685Z"
   },
   {
    "duration": 9,
    "start_time": "2022-11-20T12:56:50.845Z"
   },
   {
    "duration": 4,
    "start_time": "2022-11-20T12:57:28.726Z"
   },
   {
    "duration": 10,
    "start_time": "2022-11-20T12:57:31.430Z"
   },
   {
    "duration": 5,
    "start_time": "2022-11-20T12:58:08.991Z"
   },
   {
    "duration": 10,
    "start_time": "2022-11-20T12:58:11.511Z"
   },
   {
    "duration": 4,
    "start_time": "2022-11-20T12:58:54.520Z"
   },
   {
    "duration": 9,
    "start_time": "2022-11-20T12:58:57.624Z"
   },
   {
    "duration": 4,
    "start_time": "2022-11-20T12:59:33.001Z"
   },
   {
    "duration": 4,
    "start_time": "2022-11-20T12:59:37.393Z"
   },
   {
    "duration": 4,
    "start_time": "2022-11-20T12:59:54.117Z"
   },
   {
    "duration": 4,
    "start_time": "2022-11-20T12:59:56.401Z"
   },
   {
    "duration": 3,
    "start_time": "2022-11-20T13:00:50.658Z"
   },
   {
    "duration": 15,
    "start_time": "2022-11-20T13:00:54.881Z"
   },
   {
    "duration": 10,
    "start_time": "2022-11-20T13:00:57.082Z"
   },
   {
    "duration": 9,
    "start_time": "2022-11-20T13:00:58.074Z"
   },
   {
    "duration": 15,
    "start_time": "2022-11-20T13:01:09.692Z"
   },
   {
    "duration": 4,
    "start_time": "2022-11-20T13:01:11.866Z"
   },
   {
    "duration": 5,
    "start_time": "2022-11-20T13:20:41.794Z"
   },
   {
    "duration": 14,
    "start_time": "2022-11-20T13:20:44.859Z"
   },
   {
    "duration": 72,
    "start_time": "2022-11-20T13:21:00.274Z"
   },
   {
    "duration": 49,
    "start_time": "2022-11-20T13:21:10.307Z"
   },
   {
    "duration": 8,
    "start_time": "2022-11-20T13:21:16.540Z"
   },
   {
    "duration": 10,
    "start_time": "2022-11-20T13:21:20.099Z"
   },
   {
    "duration": 7,
    "start_time": "2022-11-20T13:21:48.388Z"
   },
   {
    "duration": 11,
    "start_time": "2022-11-20T13:21:51.210Z"
   },
   {
    "duration": 7,
    "start_time": "2022-11-20T13:22:57.037Z"
   },
   {
    "duration": 5,
    "start_time": "2022-11-20T13:22:59.594Z"
   },
   {
    "duration": 4,
    "start_time": "2022-11-20T13:23:03.391Z"
   },
   {
    "duration": 5,
    "start_time": "2022-11-20T13:24:58.585Z"
   },
   {
    "duration": 4,
    "start_time": "2022-11-20T13:25:04.574Z"
   },
   {
    "duration": 5,
    "start_time": "2022-11-20T13:26:10.889Z"
   },
   {
    "duration": 10,
    "start_time": "2022-11-20T13:26:14.497Z"
   },
   {
    "duration": 5,
    "start_time": "2022-11-20T13:26:37.209Z"
   },
   {
    "duration": 11,
    "start_time": "2022-11-20T13:26:40.489Z"
   },
   {
    "duration": 5,
    "start_time": "2022-11-20T13:27:21.732Z"
   },
   {
    "duration": 6,
    "start_time": "2022-11-20T13:27:25.042Z"
   },
   {
    "duration": 5,
    "start_time": "2022-11-20T13:27:53.434Z"
   },
   {
    "duration": 5,
    "start_time": "2022-11-20T13:27:57.641Z"
   },
   {
    "duration": 6,
    "start_time": "2022-11-20T13:28:22.786Z"
   },
   {
    "duration": 6,
    "start_time": "2022-11-20T13:28:25.275Z"
   },
   {
    "duration": 4,
    "start_time": "2022-11-20T13:28:30.722Z"
   },
   {
    "duration": 54,
    "start_time": "2022-11-20T13:31:08.878Z"
   },
   {
    "duration": 46,
    "start_time": "2022-11-20T13:31:13.902Z"
   },
   {
    "duration": 47,
    "start_time": "2022-11-20T13:31:18.073Z"
   },
   {
    "duration": 7,
    "start_time": "2022-11-20T13:31:27.823Z"
   },
   {
    "duration": 10,
    "start_time": "2022-11-20T13:31:31.274Z"
   },
   {
    "duration": 5,
    "start_time": "2022-11-20T13:31:54.945Z"
   },
   {
    "duration": 6,
    "start_time": "2022-11-20T13:32:02.039Z"
   },
   {
    "duration": 5,
    "start_time": "2022-11-20T13:32:05.686Z"
   },
   {
    "duration": 9,
    "start_time": "2022-11-20T13:36:13.236Z"
   },
   {
    "duration": 17,
    "start_time": "2022-11-20T13:36:23.893Z"
   },
   {
    "duration": 12,
    "start_time": "2022-11-20T13:36:27.093Z"
   },
   {
    "duration": 10,
    "start_time": "2022-11-20T13:36:28.271Z"
   },
   {
    "duration": 16,
    "start_time": "2022-11-20T13:36:55.613Z"
   },
   {
    "duration": 10,
    "start_time": "2022-11-20T13:36:56.516Z"
   },
   {
    "duration": 6,
    "start_time": "2022-11-20T13:37:41.838Z"
   },
   {
    "duration": 56,
    "start_time": "2022-11-20T13:41:35.235Z"
   },
   {
    "duration": 6,
    "start_time": "2022-11-20T13:41:55.093Z"
   },
   {
    "duration": 6,
    "start_time": "2022-11-20T13:42:07.787Z"
   },
   {
    "duration": 11,
    "start_time": "2022-11-20T13:42:17.228Z"
   },
   {
    "duration": 8,
    "start_time": "2022-11-20T13:42:18.307Z"
   },
   {
    "duration": 14,
    "start_time": "2022-11-20T13:42:20.882Z"
   },
   {
    "duration": 5,
    "start_time": "2022-11-20T13:42:22.473Z"
   },
   {
    "duration": 7,
    "start_time": "2022-11-20T13:42:54.941Z"
   },
   {
    "duration": 4,
    "start_time": "2022-11-20T13:42:59.892Z"
   },
   {
    "duration": 5,
    "start_time": "2022-11-20T14:26:58.202Z"
   },
   {
    "duration": 12,
    "start_time": "2022-11-20T14:27:01.023Z"
   },
   {
    "duration": 10,
    "start_time": "2022-11-20T14:27:02.287Z"
   },
   {
    "duration": 2,
    "start_time": "2022-11-20T14:32:12.367Z"
   },
   {
    "duration": 17,
    "start_time": "2022-11-20T14:33:39.192Z"
   },
   {
    "duration": 6,
    "start_time": "2022-11-20T14:34:48.546Z"
   },
   {
    "duration": 5,
    "start_time": "2022-11-20T14:37:42.398Z"
   },
   {
    "duration": 8,
    "start_time": "2022-11-20T14:37:50.127Z"
   },
   {
    "duration": 4,
    "start_time": "2022-11-20T14:38:05.765Z"
   },
   {
    "duration": 8,
    "start_time": "2022-11-20T14:38:35.097Z"
   },
   {
    "duration": 11,
    "start_time": "2022-11-20T14:38:36.309Z"
   },
   {
    "duration": 11,
    "start_time": "2022-11-20T14:38:37.150Z"
   },
   {
    "duration": 18,
    "start_time": "2022-11-20T14:38:39.062Z"
   },
   {
    "duration": 5,
    "start_time": "2022-11-20T14:38:43.045Z"
   },
   {
    "duration": 17,
    "start_time": "2022-11-20T14:40:49.395Z"
   },
   {
    "duration": 6,
    "start_time": "2022-11-20T14:40:51.759Z"
   },
   {
    "duration": 12,
    "start_time": "2022-11-20T14:43:58.051Z"
   },
   {
    "duration": 6,
    "start_time": "2022-11-20T14:44:02.853Z"
   },
   {
    "duration": 11,
    "start_time": "2022-11-20T14:44:03.908Z"
   },
   {
    "duration": 13,
    "start_time": "2022-11-20T14:44:04.989Z"
   },
   {
    "duration": 18,
    "start_time": "2022-11-20T14:44:37.644Z"
   },
   {
    "duration": 5,
    "start_time": "2022-11-20T14:44:39.108Z"
   },
   {
    "duration": 14,
    "start_time": "2022-11-20T14:45:24.215Z"
   },
   {
    "duration": 9,
    "start_time": "2022-11-20T14:45:25.709Z"
   },
   {
    "duration": 7,
    "start_time": "2022-11-20T14:45:29.317Z"
   },
   {
    "duration": 13,
    "start_time": "2022-11-20T14:45:48.710Z"
   },
   {
    "duration": 8,
    "start_time": "2022-11-20T14:45:49.741Z"
   },
   {
    "duration": 8,
    "start_time": "2022-11-20T14:46:30.215Z"
   },
   {
    "duration": 15,
    "start_time": "2022-11-20T14:48:46.180Z"
   },
   {
    "duration": 8,
    "start_time": "2022-11-20T14:48:47.161Z"
   },
   {
    "duration": 15,
    "start_time": "2022-11-20T14:49:43.563Z"
   },
   {
    "duration": 6,
    "start_time": "2022-11-20T14:50:05.172Z"
   },
   {
    "duration": 7,
    "start_time": "2022-11-20T14:50:31.412Z"
   },
   {
    "duration": 7,
    "start_time": "2022-11-20T14:50:41.556Z"
   },
   {
    "duration": 19,
    "start_time": "2022-11-20T14:51:22.628Z"
   },
   {
    "duration": 17,
    "start_time": "2022-11-20T14:51:36.470Z"
   },
   {
    "duration": 777,
    "start_time": "2022-11-20T14:52:05.549Z"
   },
   {
    "duration": 778,
    "start_time": "2022-11-20T14:52:06.741Z"
   },
   {
    "duration": 16,
    "start_time": "2022-11-20T14:52:29.486Z"
   },
   {
    "duration": 665,
    "start_time": "2022-11-20T14:52:40.237Z"
   },
   {
    "duration": 16,
    "start_time": "2022-11-20T14:52:59.486Z"
   },
   {
    "duration": 7,
    "start_time": "2022-11-20T14:53:12.184Z"
   },
   {
    "duration": 6,
    "start_time": "2022-11-20T14:53:28.871Z"
   },
   {
    "duration": 20,
    "start_time": "2022-11-20T14:55:44.658Z"
   },
   {
    "duration": 6,
    "start_time": "2022-11-20T14:56:14.410Z"
   },
   {
    "duration": 9,
    "start_time": "2022-11-20T14:57:32.860Z"
   },
   {
    "duration": 15,
    "start_time": "2022-11-20T14:57:45.732Z"
   },
   {
    "duration": 9,
    "start_time": "2022-11-20T14:57:46.963Z"
   },
   {
    "duration": 15,
    "start_time": "2022-11-20T14:57:59.235Z"
   },
   {
    "duration": 8,
    "start_time": "2022-11-20T14:58:00.243Z"
   },
   {
    "duration": 17,
    "start_time": "2022-11-20T14:58:01.564Z"
   },
   {
    "duration": 5,
    "start_time": "2022-11-20T14:58:03.220Z"
   },
   {
    "duration": 17,
    "start_time": "2022-11-20T15:08:26.465Z"
   },
   {
    "duration": 13,
    "start_time": "2022-11-20T15:08:27.753Z"
   },
   {
    "duration": 8,
    "start_time": "2022-11-20T15:08:30.184Z"
   },
   {
    "duration": 18,
    "start_time": "2022-11-20T15:09:32.410Z"
   },
   {
    "duration": 19,
    "start_time": "2022-11-20T15:09:52.930Z"
   },
   {
    "duration": 6,
    "start_time": "2022-11-20T15:10:26.051Z"
   },
   {
    "duration": 18,
    "start_time": "2022-11-20T15:10:30.453Z"
   },
   {
    "duration": 7,
    "start_time": "2022-11-20T15:10:31.850Z"
   },
   {
    "duration": 467,
    "start_time": "2022-11-20T15:14:01.977Z"
   },
   {
    "duration": 22,
    "start_time": "2022-11-20T15:14:02.445Z"
   },
   {
    "duration": 14,
    "start_time": "2022-11-20T15:14:02.469Z"
   },
   {
    "duration": 11,
    "start_time": "2022-11-20T15:14:02.485Z"
   },
   {
    "duration": 34,
    "start_time": "2022-11-20T15:14:02.498Z"
   },
   {
    "duration": 3,
    "start_time": "2022-11-20T15:14:02.534Z"
   },
   {
    "duration": 40,
    "start_time": "2022-11-20T15:14:02.539Z"
   },
   {
    "duration": 34,
    "start_time": "2022-11-20T15:14:02.580Z"
   },
   {
    "duration": 33,
    "start_time": "2022-11-20T15:14:02.615Z"
   },
   {
    "duration": 13,
    "start_time": "2022-11-20T15:14:02.652Z"
   },
   {
    "duration": 49,
    "start_time": "2022-11-20T15:14:02.667Z"
   },
   {
    "duration": 10,
    "start_time": "2022-11-20T15:14:02.718Z"
   },
   {
    "duration": 10,
    "start_time": "2022-11-20T15:14:02.729Z"
   },
   {
    "duration": 13,
    "start_time": "2022-11-20T15:14:02.741Z"
   },
   {
    "duration": 24,
    "start_time": "2022-11-20T15:14:02.756Z"
   },
   {
    "duration": 17,
    "start_time": "2022-11-20T15:14:02.782Z"
   },
   {
    "duration": 4,
    "start_time": "2022-11-20T15:14:02.800Z"
   },
   {
    "duration": 16,
    "start_time": "2022-11-20T15:14:02.805Z"
   },
   {
    "duration": 16,
    "start_time": "2022-11-20T15:14:02.822Z"
   },
   {
    "duration": 4,
    "start_time": "2022-11-20T15:14:02.840Z"
   },
   {
    "duration": 11,
    "start_time": "2022-11-20T15:14:02.845Z"
   },
   {
    "duration": 20,
    "start_time": "2022-11-20T15:14:02.857Z"
   },
   {
    "duration": 21,
    "start_time": "2022-11-20T15:14:02.878Z"
   },
   {
    "duration": 10,
    "start_time": "2022-11-20T15:14:02.901Z"
   },
   {
    "duration": 21,
    "start_time": "2022-11-20T15:14:02.913Z"
   },
   {
    "duration": 5,
    "start_time": "2022-11-20T15:14:02.935Z"
   },
   {
    "duration": 39,
    "start_time": "2022-11-20T15:14:02.941Z"
   },
   {
    "duration": 8,
    "start_time": "2022-11-20T15:14:02.982Z"
   },
   {
    "duration": 22,
    "start_time": "2022-11-20T15:14:02.991Z"
   },
   {
    "duration": 5,
    "start_time": "2022-11-20T15:14:03.015Z"
   },
   {
    "duration": 14,
    "start_time": "2022-11-20T15:14:03.021Z"
   },
   {
    "duration": 7,
    "start_time": "2022-11-20T15:14:03.036Z"
   },
   {
    "duration": 40,
    "start_time": "2022-11-20T15:14:03.045Z"
   },
   {
    "duration": 5,
    "start_time": "2022-11-20T15:14:03.087Z"
   },
   {
    "duration": 18,
    "start_time": "2022-11-20T15:14:03.093Z"
   },
   {
    "duration": 8,
    "start_time": "2022-11-20T15:14:03.113Z"
   },
   {
    "duration": 21,
    "start_time": "2022-11-20T15:14:03.122Z"
   },
   {
    "duration": 6,
    "start_time": "2022-11-20T15:14:03.144Z"
   },
   {
    "duration": 17,
    "start_time": "2022-11-20T15:17:00.553Z"
   },
   {
    "duration": 5,
    "start_time": "2022-11-20T15:19:40.470Z"
   },
   {
    "duration": 18,
    "start_time": "2022-11-20T15:20:17.771Z"
   },
   {
    "duration": 10,
    "start_time": "2022-11-20T15:20:47.669Z"
   },
   {
    "duration": 67,
    "start_time": "2022-11-20T15:21:07.851Z"
   },
   {
    "duration": 15,
    "start_time": "2022-11-20T15:21:12.895Z"
   },
   {
    "duration": 14,
    "start_time": "2022-11-20T15:21:19.167Z"
   },
   {
    "duration": 10,
    "start_time": "2022-11-20T15:21:23.269Z"
   },
   {
    "duration": 10,
    "start_time": "2022-11-20T15:21:30.204Z"
   },
   {
    "duration": 949,
    "start_time": "2022-11-20T15:23:12.415Z"
   },
   {
    "duration": 672,
    "start_time": "2022-11-20T15:23:13.543Z"
   },
   {
    "duration": 9,
    "start_time": "2022-11-20T15:23:21.520Z"
   },
   {
    "duration": 11,
    "start_time": "2022-11-20T15:23:31.575Z"
   },
   {
    "duration": 11,
    "start_time": "2022-11-20T15:23:38.376Z"
   },
   {
    "duration": 3,
    "start_time": "2022-11-20T15:25:45.026Z"
   },
   {
    "duration": 14,
    "start_time": "2022-11-20T15:58:48.519Z"
   },
   {
    "duration": 3,
    "start_time": "2022-11-20T15:58:59.840Z"
   },
   {
    "duration": 13,
    "start_time": "2022-11-20T15:59:22.328Z"
   },
   {
    "duration": 9,
    "start_time": "2022-11-20T16:00:55.218Z"
   },
   {
    "duration": 44,
    "start_time": "2022-11-20T16:01:18.066Z"
   },
   {
    "duration": 7,
    "start_time": "2022-11-20T16:01:26.722Z"
   },
   {
    "duration": 6,
    "start_time": "2022-11-20T16:01:34.690Z"
   },
   {
    "duration": 9,
    "start_time": "2022-11-20T16:02:18.214Z"
   },
   {
    "duration": 9,
    "start_time": "2022-11-20T16:02:38.989Z"
   },
   {
    "duration": 7,
    "start_time": "2022-11-20T16:03:00.941Z"
   },
   {
    "duration": 4,
    "start_time": "2022-11-20T16:04:20.134Z"
   },
   {
    "duration": 4,
    "start_time": "2022-11-20T16:04:36.662Z"
   },
   {
    "duration": 16,
    "start_time": "2022-11-20T16:05:09.863Z"
   },
   {
    "duration": 26,
    "start_time": "2022-11-20T16:05:32.279Z"
   },
   {
    "duration": 13,
    "start_time": "2022-11-20T16:08:31.203Z"
   },
   {
    "duration": 4,
    "start_time": "2022-11-20T16:09:36.037Z"
   },
   {
    "duration": 4,
    "start_time": "2022-11-20T16:10:09.897Z"
   },
   {
    "duration": 4,
    "start_time": "2022-11-20T16:10:10.972Z"
   },
   {
    "duration": 12,
    "start_time": "2022-11-20T16:10:12.044Z"
   },
   {
    "duration": 4,
    "start_time": "2022-11-20T16:10:32.365Z"
   },
   {
    "duration": 4,
    "start_time": "2022-11-20T16:10:33.445Z"
   },
   {
    "duration": 33,
    "start_time": "2022-11-20T16:10:34.444Z"
   },
   {
    "duration": 9,
    "start_time": "2022-11-20T16:12:09.503Z"
   },
   {
    "duration": 4,
    "start_time": "2022-11-20T16:12:14.239Z"
   },
   {
    "duration": 2,
    "start_time": "2022-11-20T16:12:57.992Z"
   },
   {
    "duration": 3,
    "start_time": "2022-11-20T16:12:58.871Z"
   },
   {
    "duration": 3,
    "start_time": "2022-11-20T16:12:59.624Z"
   },
   {
    "duration": 13,
    "start_time": "2022-11-20T16:13:00.473Z"
   },
   {
    "duration": 2,
    "start_time": "2022-11-20T16:13:34.186Z"
   },
   {
    "duration": 3,
    "start_time": "2022-11-20T16:13:37.001Z"
   },
   {
    "duration": 4,
    "start_time": "2022-11-20T16:13:37.935Z"
   },
   {
    "duration": 32,
    "start_time": "2022-11-20T16:13:39.063Z"
   },
   {
    "duration": 2,
    "start_time": "2022-11-20T16:15:07.708Z"
   },
   {
    "duration": 6,
    "start_time": "2022-11-20T16:15:08.490Z"
   },
   {
    "duration": 5,
    "start_time": "2022-11-20T16:15:09.147Z"
   },
   {
    "duration": 14,
    "start_time": "2022-11-20T16:15:10.691Z"
   },
   {
    "duration": 2,
    "start_time": "2022-11-20T16:15:47.652Z"
   },
   {
    "duration": 3,
    "start_time": "2022-11-20T16:15:48.484Z"
   },
   {
    "duration": 3,
    "start_time": "2022-11-20T16:15:49.251Z"
   },
   {
    "duration": 10,
    "start_time": "2022-11-20T16:15:50.522Z"
   },
   {
    "duration": 3,
    "start_time": "2022-11-20T16:16:27.068Z"
   },
   {
    "duration": 4,
    "start_time": "2022-11-20T16:16:28.260Z"
   },
   {
    "duration": 3,
    "start_time": "2022-11-20T16:16:29.028Z"
   },
   {
    "duration": 19,
    "start_time": "2022-11-20T16:16:29.940Z"
   },
   {
    "duration": 3,
    "start_time": "2022-11-20T16:17:07.444Z"
   },
   {
    "duration": 5,
    "start_time": "2022-11-20T16:17:08.996Z"
   },
   {
    "duration": 3,
    "start_time": "2022-11-20T16:17:09.877Z"
   },
   {
    "duration": 75,
    "start_time": "2022-11-20T16:17:11.476Z"
   },
   {
    "duration": 3,
    "start_time": "2022-11-20T16:19:39.377Z"
   },
   {
    "duration": 4,
    "start_time": "2022-11-20T16:19:40.296Z"
   },
   {
    "duration": 4,
    "start_time": "2022-11-20T16:19:41.144Z"
   },
   {
    "duration": 18,
    "start_time": "2022-11-20T16:19:44.377Z"
   },
   {
    "duration": 31,
    "start_time": "2022-11-20T16:22:02.828Z"
   },
   {
    "duration": 18,
    "start_time": "2022-11-20T16:22:44.199Z"
   },
   {
    "duration": 3,
    "start_time": "2022-11-20T16:22:47.492Z"
   },
   {
    "duration": 4,
    "start_time": "2022-11-20T16:22:48.244Z"
   },
   {
    "duration": 4,
    "start_time": "2022-11-20T16:22:49.004Z"
   },
   {
    "duration": 19,
    "start_time": "2022-11-20T16:22:49.798Z"
   },
   {
    "duration": 41,
    "start_time": "2022-11-20T16:23:09.613Z"
   },
   {
    "duration": 34,
    "start_time": "2022-11-20T16:23:25.965Z"
   },
   {
    "duration": 4,
    "start_time": "2022-11-20T16:39:14.739Z"
   },
   {
    "duration": 50,
    "start_time": "2022-11-20T16:45:11.055Z"
   },
   {
    "duration": 4,
    "start_time": "2022-11-20T16:47:00.206Z"
   },
   {
    "duration": 42,
    "start_time": "2022-11-20T16:47:10.141Z"
   },
   {
    "duration": 54,
    "start_time": "2022-11-20T16:47:55.183Z"
   },
   {
    "duration": 43,
    "start_time": "2022-11-20T16:48:28.479Z"
   },
   {
    "duration": 47,
    "start_time": "2022-11-20T16:49:36.376Z"
   },
   {
    "duration": 33,
    "start_time": "2022-11-20T16:50:09.529Z"
   },
   {
    "duration": 51,
    "start_time": "2022-11-20T16:50:19.136Z"
   },
   {
    "duration": 40,
    "start_time": "2022-11-20T16:50:32.442Z"
   },
   {
    "duration": 627,
    "start_time": "2022-11-20T18:28:16.016Z"
   },
   {
    "duration": 39,
    "start_time": "2022-11-20T18:28:16.646Z"
   },
   {
    "duration": 24,
    "start_time": "2022-11-20T18:28:16.687Z"
   },
   {
    "duration": 18,
    "start_time": "2022-11-20T18:28:16.713Z"
   },
   {
    "duration": 4,
    "start_time": "2022-11-20T18:28:16.733Z"
   },
   {
    "duration": 83,
    "start_time": "2022-11-20T18:28:16.739Z"
   },
   {
    "duration": 5,
    "start_time": "2022-11-20T18:28:16.824Z"
   },
   {
    "duration": 14,
    "start_time": "2022-11-20T18:28:16.831Z"
   },
   {
    "duration": 5,
    "start_time": "2022-11-20T18:28:16.847Z"
   },
   {
    "duration": 11,
    "start_time": "2022-11-20T18:28:16.878Z"
   },
   {
    "duration": 10,
    "start_time": "2022-11-20T18:28:16.891Z"
   },
   {
    "duration": 72,
    "start_time": "2022-11-20T18:28:16.904Z"
   },
   {
    "duration": 16,
    "start_time": "2022-11-20T18:28:16.978Z"
   },
   {
    "duration": 15,
    "start_time": "2022-11-20T18:28:16.996Z"
   },
   {
    "duration": 19,
    "start_time": "2022-11-20T18:28:17.013Z"
   },
   {
    "duration": 37,
    "start_time": "2022-11-20T18:28:17.034Z"
   },
   {
    "duration": 26,
    "start_time": "2022-11-20T18:28:17.073Z"
   },
   {
    "duration": 8,
    "start_time": "2022-11-20T18:28:17.101Z"
   },
   {
    "duration": 42,
    "start_time": "2022-11-20T18:28:17.111Z"
   },
   {
    "duration": 20,
    "start_time": "2022-11-20T18:28:17.155Z"
   },
   {
    "duration": 11,
    "start_time": "2022-11-20T18:28:17.181Z"
   },
   {
    "duration": 45,
    "start_time": "2022-11-20T18:28:17.195Z"
   },
   {
    "duration": 39,
    "start_time": "2022-11-20T18:28:17.244Z"
   },
   {
    "duration": 49,
    "start_time": "2022-11-20T18:28:17.285Z"
   },
   {
    "duration": 26,
    "start_time": "2022-11-20T18:28:17.336Z"
   },
   {
    "duration": 63,
    "start_time": "2022-11-20T18:28:17.364Z"
   },
   {
    "duration": 12,
    "start_time": "2022-11-20T18:28:17.430Z"
   },
   {
    "duration": 24,
    "start_time": "2022-11-20T18:28:17.446Z"
   },
   {
    "duration": 38,
    "start_time": "2022-11-20T18:28:17.472Z"
   },
   {
    "duration": 41,
    "start_time": "2022-11-20T18:28:17.512Z"
   },
   {
    "duration": 32,
    "start_time": "2022-11-20T18:28:17.555Z"
   },
   {
    "duration": 40,
    "start_time": "2022-11-20T18:28:17.590Z"
   },
   {
    "duration": 19,
    "start_time": "2022-11-20T18:28:17.632Z"
   },
   {
    "duration": 48,
    "start_time": "2022-11-20T18:28:17.653Z"
   },
   {
    "duration": 16,
    "start_time": "2022-11-20T18:28:17.703Z"
   },
   {
    "duration": 59,
    "start_time": "2022-11-20T18:28:17.721Z"
   },
   {
    "duration": 26,
    "start_time": "2022-11-20T18:28:17.782Z"
   },
   {
    "duration": 29,
    "start_time": "2022-11-20T18:28:17.810Z"
   },
   {
    "duration": 12,
    "start_time": "2022-11-20T18:28:17.842Z"
   },
   {
    "duration": 36,
    "start_time": "2022-11-20T18:28:17.856Z"
   },
   {
    "duration": 19,
    "start_time": "2022-11-20T18:28:17.894Z"
   },
   {
    "duration": 77,
    "start_time": "2022-11-20T18:28:17.915Z"
   },
   {
    "duration": 32,
    "start_time": "2022-11-20T18:28:45.399Z"
   },
   {
    "duration": 643,
    "start_time": "2022-11-20T18:31:59.704Z"
   },
   {
    "duration": 34,
    "start_time": "2022-11-20T18:32:00.352Z"
   },
   {
    "duration": 22,
    "start_time": "2022-11-20T18:32:00.388Z"
   },
   {
    "duration": 31,
    "start_time": "2022-11-20T18:32:00.413Z"
   },
   {
    "duration": 34,
    "start_time": "2022-11-20T18:32:00.446Z"
   },
   {
    "duration": 82,
    "start_time": "2022-11-20T18:32:00.482Z"
   },
   {
    "duration": 5,
    "start_time": "2022-11-20T18:32:00.566Z"
   },
   {
    "duration": 57,
    "start_time": "2022-11-20T18:32:00.572Z"
   },
   {
    "duration": 27,
    "start_time": "2022-11-20T18:32:00.631Z"
   },
   {
    "duration": 31,
    "start_time": "2022-11-20T18:32:00.664Z"
   },
   {
    "duration": 18,
    "start_time": "2022-11-20T18:32:00.697Z"
   },
   {
    "duration": 64,
    "start_time": "2022-11-20T18:32:00.717Z"
   },
   {
    "duration": 16,
    "start_time": "2022-11-20T18:32:00.783Z"
   },
   {
    "duration": 10,
    "start_time": "2022-11-20T18:32:00.801Z"
   },
   {
    "duration": 37,
    "start_time": "2022-11-20T18:32:00.814Z"
   },
   {
    "duration": 42,
    "start_time": "2022-11-20T18:32:00.854Z"
   },
   {
    "duration": 26,
    "start_time": "2022-11-20T18:32:00.898Z"
   },
   {
    "duration": 5,
    "start_time": "2022-11-20T18:32:00.926Z"
   },
   {
    "duration": 30,
    "start_time": "2022-11-20T18:32:00.933Z"
   },
   {
    "duration": 40,
    "start_time": "2022-11-20T18:32:00.966Z"
   },
   {
    "duration": 5,
    "start_time": "2022-11-20T18:32:01.010Z"
   },
   {
    "duration": 23,
    "start_time": "2022-11-20T18:32:01.017Z"
   },
   {
    "duration": 18,
    "start_time": "2022-11-20T18:32:01.042Z"
   },
   {
    "duration": 42,
    "start_time": "2022-11-20T18:32:01.062Z"
   },
   {
    "duration": 18,
    "start_time": "2022-11-20T18:32:01.106Z"
   },
   {
    "duration": 49,
    "start_time": "2022-11-20T18:32:01.126Z"
   },
   {
    "duration": 19,
    "start_time": "2022-11-20T18:32:01.177Z"
   },
   {
    "duration": 31,
    "start_time": "2022-11-20T18:32:01.201Z"
   },
   {
    "duration": 10,
    "start_time": "2022-11-20T18:32:01.234Z"
   },
   {
    "duration": 49,
    "start_time": "2022-11-20T18:32:01.246Z"
   },
   {
    "duration": 45,
    "start_time": "2022-11-20T18:32:01.297Z"
   },
   {
    "duration": 30,
    "start_time": "2022-11-20T18:32:01.344Z"
   },
   {
    "duration": 21,
    "start_time": "2022-11-20T18:32:01.376Z"
   },
   {
    "duration": 38,
    "start_time": "2022-11-20T18:32:01.399Z"
   },
   {
    "duration": 32,
    "start_time": "2022-11-20T18:32:01.440Z"
   },
   {
    "duration": 60,
    "start_time": "2022-11-20T18:32:01.474Z"
   },
   {
    "duration": 11,
    "start_time": "2022-11-20T18:32:01.538Z"
   },
   {
    "duration": 38,
    "start_time": "2022-11-20T18:32:01.551Z"
   },
   {
    "duration": 17,
    "start_time": "2022-11-20T18:32:01.591Z"
   },
   {
    "duration": 20,
    "start_time": "2022-11-20T18:32:01.610Z"
   },
   {
    "duration": 27,
    "start_time": "2022-11-20T18:32:01.632Z"
   },
   {
    "duration": 87,
    "start_time": "2022-11-20T18:32:01.661Z"
   },
   {
    "duration": 87,
    "start_time": "2022-11-20T19:24:23.744Z"
   },
   {
    "duration": 89,
    "start_time": "2022-11-21T11:01:56.977Z"
   },
   {
    "duration": 85,
    "start_time": "2022-11-21T13:15:11.190Z"
   },
   {
    "duration": 551,
    "start_time": "2022-11-21T14:24:05.619Z"
   },
   {
    "duration": 24,
    "start_time": "2022-11-21T14:24:06.172Z"
   },
   {
    "duration": 220,
    "start_time": "2022-11-21T14:24:06.197Z"
   },
   {
    "duration": 31,
    "start_time": "2022-11-21T14:24:06.419Z"
   },
   {
    "duration": 15,
    "start_time": "2022-11-21T14:24:06.451Z"
   },
   {
    "duration": 67,
    "start_time": "2022-11-21T14:24:06.468Z"
   },
   {
    "duration": 5,
    "start_time": "2022-11-21T14:24:06.536Z"
   },
   {
    "duration": 20,
    "start_time": "2022-11-21T14:24:06.542Z"
   },
   {
    "duration": 17,
    "start_time": "2022-11-21T14:24:06.564Z"
   },
   {
    "duration": 19,
    "start_time": "2022-11-21T14:24:06.585Z"
   },
   {
    "duration": 29,
    "start_time": "2022-11-21T14:24:06.605Z"
   },
   {
    "duration": 49,
    "start_time": "2022-11-21T14:24:06.636Z"
   },
   {
    "duration": 10,
    "start_time": "2022-11-21T14:24:06.687Z"
   },
   {
    "duration": 163,
    "start_time": "2022-11-21T14:24:06.699Z"
   },
   {
    "duration": 216,
    "start_time": "2022-11-21T14:24:06.864Z"
   },
   {
    "duration": 36,
    "start_time": "2022-11-21T14:24:07.082Z"
   },
   {
    "duration": 30,
    "start_time": "2022-11-21T14:24:07.119Z"
   },
   {
    "duration": 21,
    "start_time": "2022-11-21T14:24:07.151Z"
   },
   {
    "duration": 24,
    "start_time": "2022-11-21T14:24:07.174Z"
   },
   {
    "duration": 37,
    "start_time": "2022-11-21T14:24:07.199Z"
   },
   {
    "duration": 20,
    "start_time": "2022-11-21T14:24:07.238Z"
   },
   {
    "duration": 32,
    "start_time": "2022-11-21T14:24:07.260Z"
   },
   {
    "duration": 41,
    "start_time": "2022-11-21T14:24:07.294Z"
   },
   {
    "duration": 35,
    "start_time": "2022-11-21T14:24:07.337Z"
   },
   {
    "duration": 18,
    "start_time": "2022-11-21T14:24:07.374Z"
   },
   {
    "duration": 37,
    "start_time": "2022-11-21T14:24:07.394Z"
   },
   {
    "duration": 15,
    "start_time": "2022-11-21T14:24:07.433Z"
   },
   {
    "duration": 29,
    "start_time": "2022-11-21T14:24:07.451Z"
   },
   {
    "duration": 32,
    "start_time": "2022-11-21T14:24:07.481Z"
   },
   {
    "duration": 46,
    "start_time": "2022-11-21T14:24:07.515Z"
   },
   {
    "duration": 13,
    "start_time": "2022-11-21T14:24:07.563Z"
   },
   {
    "duration": 17,
    "start_time": "2022-11-21T14:24:07.577Z"
   },
   {
    "duration": 16,
    "start_time": "2022-11-21T14:24:07.596Z"
   },
   {
    "duration": 69,
    "start_time": "2022-11-21T14:24:07.613Z"
   },
   {
    "duration": 56,
    "start_time": "2022-11-22T05:43:57.885Z"
   }
  ],
  "colab": {
   "name": "dpp_template_part2.ipynb",
   "provenance": []
  },
  "kernelspec": {
   "display_name": "Python 3 (ipykernel)",
   "language": "python",
   "name": "python3"
  },
  "language_info": {
   "codemirror_mode": {
    "name": "ipython",
    "version": 3
   },
   "file_extension": ".py",
   "mimetype": "text/x-python",
   "name": "python",
   "nbconvert_exporter": "python",
   "pygments_lexer": "ipython3",
   "version": "3.10.9"
  },
  "toc": {
   "base_numbering": 1,
   "nav_menu": {},
   "number_sections": true,
   "sideBar": true,
   "skip_h1_title": true,
   "title_cell": "Table of Contents",
   "title_sidebar": "Contents",
   "toc_cell": false,
   "toc_position": {},
   "toc_section_display": true,
   "toc_window_display": false
  }
 },
 "nbformat": 4,
 "nbformat_minor": 5
}
