{
 "cells": [
  {
   "cell_type": "markdown",
   "metadata": {},
   "source": [
    "<div class=\"alert alert-info\">\n",
    "<font size=\"5\"><b>Комментарий ревьюера</b></font>\n",
    "\n",
    "Привет Дмитрий! Меня зовут Марат, и я буду твоим ревьюером. Спешу сообщить что все ключевые этапы в работе выполнены,  с задачей тебе удалось справиться. По поводу обращения - в IT сфере принято общаться на «ты» :) Но, если привычней на «вы», дай знать. Как ревьюера моя задача помочь тебе в развитии, дав хорошие советы. Я внимательно посмотрю твой код, ознакомлюсь с твоими выводами и оставлю комментарии. Где то могу предложить небольшие исправление в коде, но ненавязчиво. Где потребуются уточнения, я оставлю много наводящих вопросов. Они помогут тебя с поиском верного решения.\n",
    "\n",
    "Все мои комментарии размечены по цветам, для лучшего восприятия. \n",
    "    \n",
    "<div class=\"alert alert-success\">Зеленым цветом и словом «Успех» отмечены особо удачные и элегантные решения, которыми ты можешь гордиться. </div>\n",
    "        \n",
    "<div class=\"alert alert-warning\">Желтым и значком словом «Совет», помечены решения у которых есть альтернативные решения, более оптимальные. Ты можешь найти их сразу и доработать проект, или отложить это на потом, для будущих проектах. Проект будет принят и без их доработки. </div>\n",
    "        \n",
    "<div class=\"alert alert-danger\"> Красным цветом и значком словом «Ошибка» помечу твои решения, на которые стоит обратить внимание прежде всего. После их доработки проект будет принят. </div>\n",
    "        \n",
    "Залог успеха - работа сообща, взаимное уважение и работа в диалоге. Поэтому, помечай свои ответные комментарии на мои реплики заметным цветом или курсивом, так мне будет легче их отслеживать. Пожалуйста, не изменяй и не удаляй мои комментарии. Все это поможет выполнить повторную проверку быстрей.\n",
    "\n",
    "</div>"
   ]
  },
  {
   "cell_type": "markdown",
   "metadata": {},
   "source": [
    "# Рекомендация тарифов"
   ]
  },
  {
   "cell_type": "markdown",
   "metadata": {},
   "source": [
    "В вашем распоряжении данные о поведении клиентов, которые уже перешли на эти тарифы (из проекта курса «Статистический анализ данных»). Нужно построить модель для задачи классификации, которая выберет подходящий тариф. Предобработка данных не понадобится — вы её уже сделали.\n",
    "\n",
    "Постройте модель с максимально большим значением *accuracy*. Чтобы сдать проект успешно, нужно довести долю правильных ответов по крайней мере до 0.75. Проверьте *accuracy* на тестовой выборке самостоятельно."
   ]
  },
  {
   "cell_type": "markdown",
   "metadata": {},
   "source": [
    "<div class=\"alert alert-success\">\n",
    "<font size=\"5\"><b>Комментарий ревьюера</b></font>\n",
    "\n",
    "Успех:\n",
    "\n",
    "\n",
    "Вступление в работу очень важно, так человек, который смотрит твой проект (и на работе в том числе) будет сразу введен в курс дела.\n",
    "\n",
    "\n",
    "\n",
    "\n",
    "\n",
    "</div>"
   ]
  },
  {
   "cell_type": "markdown",
   "metadata": {},
   "source": [
    "## Откройте и изучите файл"
   ]
  },
  {
   "cell_type": "code",
   "execution_count": 1,
   "metadata": {},
   "outputs": [],
   "source": [
    "import pandas as pd\n",
    "from sklearn.tree import DecisionTreeClassifier\n",
    "from sklearn.ensemble import RandomForestClassifier\n",
    "from sklearn.linear_model import LogisticRegression\n",
    "from sklearn.metrics import accuracy_score\n",
    "from sklearn.model_selection import train_test_split\n",
    "import seaborn as sns\n",
    "import matplotlib.pyplot as plt \n",
    "from tqdm import tqdm"
   ]
  },
  {
   "cell_type": "markdown",
   "metadata": {},
   "source": [
    "<div class=\"alert alert-success\">\n",
    "<font size=\"5\"><b>Комментарий ревьюера</b></font>\n",
    "\n",
    "Успех:\n",
    "\n",
    "Собираем все импорты в верхней части, чтобы легче было ориентироваться и добавлять новые по необходимости. \n",
    "\n",
    "\n",
    "<div class=\"alert alert-warning\">\n",
    "\n",
    "Совет:     \n",
    "    \n",
    "    \n",
    "\n",
    "\n",
    "- кстати есть рекомендации PEP-8 при написании кода, в том числе и для импортов. Если интересно можешь почитать [тут](https://pythonworld.ru/osnovy/pep-8-rukovodstvo-po-napisaniyu-koda-na-python.html), в будущем пригодится )  \n",
    "\n",
    "\n",
    "\n",
    "<div>"
   ]
  },
  {
   "cell_type": "code",
   "execution_count": 2,
   "metadata": {},
   "outputs": [],
   "source": [
    "df = pd.read_csv('/datasets/users_behavior.csv')"
   ]
  },
  {
   "cell_type": "code",
   "execution_count": 3,
   "metadata": {
    "scrolled": true
   },
   "outputs": [
    {
     "data": {
      "text/html": [
       "<div>\n",
       "<style scoped>\n",
       "    .dataframe tbody tr th:only-of-type {\n",
       "        vertical-align: middle;\n",
       "    }\n",
       "\n",
       "    .dataframe tbody tr th {\n",
       "        vertical-align: top;\n",
       "    }\n",
       "\n",
       "    .dataframe thead th {\n",
       "        text-align: right;\n",
       "    }\n",
       "</style>\n",
       "<table border=\"1\" class=\"dataframe\">\n",
       "  <thead>\n",
       "    <tr style=\"text-align: right;\">\n",
       "      <th></th>\n",
       "      <th>calls</th>\n",
       "      <th>minutes</th>\n",
       "      <th>messages</th>\n",
       "      <th>mb_used</th>\n",
       "      <th>is_ultra</th>\n",
       "    </tr>\n",
       "  </thead>\n",
       "  <tbody>\n",
       "    <tr>\n",
       "      <th>0</th>\n",
       "      <td>40.0</td>\n",
       "      <td>311.90</td>\n",
       "      <td>83.0</td>\n",
       "      <td>19915.42</td>\n",
       "      <td>0</td>\n",
       "    </tr>\n",
       "    <tr>\n",
       "      <th>1</th>\n",
       "      <td>85.0</td>\n",
       "      <td>516.75</td>\n",
       "      <td>56.0</td>\n",
       "      <td>22696.96</td>\n",
       "      <td>0</td>\n",
       "    </tr>\n",
       "    <tr>\n",
       "      <th>2</th>\n",
       "      <td>77.0</td>\n",
       "      <td>467.66</td>\n",
       "      <td>86.0</td>\n",
       "      <td>21060.45</td>\n",
       "      <td>0</td>\n",
       "    </tr>\n",
       "    <tr>\n",
       "      <th>3</th>\n",
       "      <td>106.0</td>\n",
       "      <td>745.53</td>\n",
       "      <td>81.0</td>\n",
       "      <td>8437.39</td>\n",
       "      <td>1</td>\n",
       "    </tr>\n",
       "    <tr>\n",
       "      <th>4</th>\n",
       "      <td>66.0</td>\n",
       "      <td>418.74</td>\n",
       "      <td>1.0</td>\n",
       "      <td>14502.75</td>\n",
       "      <td>0</td>\n",
       "    </tr>\n",
       "  </tbody>\n",
       "</table>\n",
       "</div>"
      ],
      "text/plain": [
       "   calls  minutes  messages   mb_used  is_ultra\n",
       "0   40.0   311.90      83.0  19915.42         0\n",
       "1   85.0   516.75      56.0  22696.96         0\n",
       "2   77.0   467.66      86.0  21060.45         0\n",
       "3  106.0   745.53      81.0   8437.39         1\n",
       "4   66.0   418.74       1.0  14502.75         0"
      ]
     },
     "execution_count": 3,
     "metadata": {},
     "output_type": "execute_result"
    }
   ],
   "source": [
    "df.head()"
   ]
  },
  {
   "cell_type": "code",
   "execution_count": 4,
   "metadata": {},
   "outputs": [
    {
     "name": "stdout",
     "output_type": "stream",
     "text": [
      "<class 'pandas.core.frame.DataFrame'>\n",
      "RangeIndex: 3214 entries, 0 to 3213\n",
      "Data columns (total 5 columns):\n",
      " #   Column    Non-Null Count  Dtype  \n",
      "---  ------    --------------  -----  \n",
      " 0   calls     3214 non-null   float64\n",
      " 1   minutes   3214 non-null   float64\n",
      " 2   messages  3214 non-null   float64\n",
      " 3   mb_used   3214 non-null   float64\n",
      " 4   is_ultra  3214 non-null   int64  \n",
      "dtypes: float64(4), int64(1)\n",
      "memory usage: 125.7 KB\n"
     ]
    }
   ],
   "source": [
    "df.info()"
   ]
  },
  {
   "cell_type": "markdown",
   "metadata": {},
   "source": [
    "**Описание данных**"
   ]
  },
  {
   "cell_type": "markdown",
   "metadata": {},
   "source": [
    "    • сalls — количество звонков,\n",
    "    • minutes — суммарная длительность звонков в минутах,\n",
    "    • messages — количество sms-сообщений,\n",
    "    • mb_used — израсходованный интернет-трафик в Мб,\n",
    "    • is_ultra — каким тарифом пользовался в течение месяца («Ультра» — 1, «Смарт» — 0)."
   ]
  },
  {
   "cell_type": "code",
   "execution_count": 5,
   "metadata": {},
   "outputs": [
    {
     "data": {
      "text/html": [
       "<div>\n",
       "<style scoped>\n",
       "    .dataframe tbody tr th:only-of-type {\n",
       "        vertical-align: middle;\n",
       "    }\n",
       "\n",
       "    .dataframe tbody tr th {\n",
       "        vertical-align: top;\n",
       "    }\n",
       "\n",
       "    .dataframe thead th {\n",
       "        text-align: right;\n",
       "    }\n",
       "</style>\n",
       "<table border=\"1\" class=\"dataframe\">\n",
       "  <thead>\n",
       "    <tr style=\"text-align: right;\">\n",
       "      <th></th>\n",
       "      <th>calls</th>\n",
       "      <th>minutes</th>\n",
       "      <th>messages</th>\n",
       "      <th>mb_used</th>\n",
       "      <th>is_ultra</th>\n",
       "    </tr>\n",
       "  </thead>\n",
       "  <tbody>\n",
       "    <tr>\n",
       "      <th>count</th>\n",
       "      <td>3214.000000</td>\n",
       "      <td>3214.000000</td>\n",
       "      <td>3214.000000</td>\n",
       "      <td>3214.000000</td>\n",
       "      <td>3214.000000</td>\n",
       "    </tr>\n",
       "    <tr>\n",
       "      <th>mean</th>\n",
       "      <td>63.038892</td>\n",
       "      <td>438.208787</td>\n",
       "      <td>38.281269</td>\n",
       "      <td>17207.673836</td>\n",
       "      <td>0.306472</td>\n",
       "    </tr>\n",
       "    <tr>\n",
       "      <th>std</th>\n",
       "      <td>33.236368</td>\n",
       "      <td>234.569872</td>\n",
       "      <td>36.148326</td>\n",
       "      <td>7570.968246</td>\n",
       "      <td>0.461100</td>\n",
       "    </tr>\n",
       "    <tr>\n",
       "      <th>min</th>\n",
       "      <td>0.000000</td>\n",
       "      <td>0.000000</td>\n",
       "      <td>0.000000</td>\n",
       "      <td>0.000000</td>\n",
       "      <td>0.000000</td>\n",
       "    </tr>\n",
       "    <tr>\n",
       "      <th>25%</th>\n",
       "      <td>40.000000</td>\n",
       "      <td>274.575000</td>\n",
       "      <td>9.000000</td>\n",
       "      <td>12491.902500</td>\n",
       "      <td>0.000000</td>\n",
       "    </tr>\n",
       "    <tr>\n",
       "      <th>50%</th>\n",
       "      <td>62.000000</td>\n",
       "      <td>430.600000</td>\n",
       "      <td>30.000000</td>\n",
       "      <td>16943.235000</td>\n",
       "      <td>0.000000</td>\n",
       "    </tr>\n",
       "    <tr>\n",
       "      <th>75%</th>\n",
       "      <td>82.000000</td>\n",
       "      <td>571.927500</td>\n",
       "      <td>57.000000</td>\n",
       "      <td>21424.700000</td>\n",
       "      <td>1.000000</td>\n",
       "    </tr>\n",
       "    <tr>\n",
       "      <th>max</th>\n",
       "      <td>244.000000</td>\n",
       "      <td>1632.060000</td>\n",
       "      <td>224.000000</td>\n",
       "      <td>49745.730000</td>\n",
       "      <td>1.000000</td>\n",
       "    </tr>\n",
       "  </tbody>\n",
       "</table>\n",
       "</div>"
      ],
      "text/plain": [
       "             calls      minutes     messages       mb_used     is_ultra\n",
       "count  3214.000000  3214.000000  3214.000000   3214.000000  3214.000000\n",
       "mean     63.038892   438.208787    38.281269  17207.673836     0.306472\n",
       "std      33.236368   234.569872    36.148326   7570.968246     0.461100\n",
       "min       0.000000     0.000000     0.000000      0.000000     0.000000\n",
       "25%      40.000000   274.575000     9.000000  12491.902500     0.000000\n",
       "50%      62.000000   430.600000    30.000000  16943.235000     0.000000\n",
       "75%      82.000000   571.927500    57.000000  21424.700000     1.000000\n",
       "max     244.000000  1632.060000   224.000000  49745.730000     1.000000"
      ]
     },
     "execution_count": 5,
     "metadata": {},
     "output_type": "execute_result"
    }
   ],
   "source": [
    "df.describe()"
   ]
  },
  {
   "cell_type": "markdown",
   "metadata": {},
   "source": [
    "В данных подозрительно больших, отрицательных значений не присутствует."
   ]
  },
  {
   "cell_type": "code",
   "execution_count": 6,
   "metadata": {
    "scrolled": false
   },
   "outputs": [
    {
     "data": {
      "text/plain": [
       "is_ultra\n",
       "0    2229\n",
       "1     985\n",
       "Name: is_ultra, dtype: int64"
      ]
     },
     "execution_count": 6,
     "metadata": {},
     "output_type": "execute_result"
    }
   ],
   "source": [
    "df.groupby('is_ultra')['is_ultra'].count()"
   ]
  },
  {
   "cell_type": "code",
   "execution_count": 7,
   "metadata": {},
   "outputs": [
    {
     "data": {
      "text/plain": [
       "2.2629441624365483"
      ]
     },
     "execution_count": 7,
     "metadata": {},
     "output_type": "execute_result"
    }
   ],
   "source": [
    "2229/985"
   ]
  },
  {
   "cell_type": "markdown",
   "metadata": {},
   "source": [
    "Тарифов только два, как и указано в задании. Данные несбалансированы. Тарифом \"Ультра\" пользуются в 2.3 раза больше. "
   ]
  },
  {
   "cell_type": "markdown",
   "metadata": {},
   "source": [
    "Пропуски отсутствуют, подозрительных данных нет, тарифы только те,что указаны, типы данных соответствуют исходным данным. Предобработка была выполнена. Можно приступать к исследованиям."
   ]
  },
  {
   "cell_type": "markdown",
   "metadata": {},
   "source": [
    "<div class=\"alert alert-success\">\n",
    "<font size=\"5\"><b>Комментарий ревьюера</b></font>\n",
    "\n",
    "Успех:\n",
    "\n",
    "👍 Данные изучены.\n",
    "\n",
    "И проверить целевой признак на сбалансированность хороший ход, это по сути решение бонусное задание сразу.  \n",
    "\n",
    "    \n",
    "\n",
    "<div class=\"alert alert-warning\">\n",
    "\n",
    "\n",
    "\n",
    "Совет: \n",
    "\n",
    "\n",
    "\n",
    "\n",
    "\n",
    "- Можно посмотреть корреляцию признаков. Знаешь что такое мультиколлинеарность, какие два типа проблем возникает, для каких моделей и какие варианты решения?\n",
    "\n",
    "\n",
    "\n",
    "\n",
    "</div>\n"
   ]
  },
  {
   "cell_type": "markdown",
   "metadata": {},
   "source": [
    "<div class=\"alert alert-info\">\n",
    "<font size=\"5\"><b>Доработка</b></font>"
   ]
  },
  {
   "cell_type": "markdown",
   "metadata": {},
   "source": [
    "Мультиколлинеарность — это явление, при котором одна из входных переменных статистической модели (например, множественной линейной регрессии) линейно зависит от других входных переменных, т.е. между ними наблюдается сильная корреляция. В этой ситуации оценки коэффициентов (параметров) модели могут случайно и значительно изменяться даже при небольших изменениях в исходных данных, т.е. решение становится неустойчивым."
   ]
  },
  {
   "cell_type": "markdown",
   "metadata": {},
   "source": [
    "**Полная коллинеарность** — имеет место, если между входными переменными присутствует функциональная зависимость. Проблема полной коллинеарности может быть решена только путём соответствующей организации формирования выборки и отбора переменных.<br>\n",
    "**Мультиколлениарность**— возникает когда зависимость между входными переменными не функциональная, а статистическая, т.е. имеет место сильная корреляция. Приводит к неустойчивости оценок, которая выражается в увеличении статистической неопределенности и росту идисперсии. На практике, это приводит к тому что оценки могут сильно изменяться даже при незначительных изменениях в исходных данных."
   ]
  },
  {
   "cell_type": "markdown",
   "metadata": {},
   "source": [
    "<div class=\"alert alert-success\">\n",
    "<font size=\"5\"><b>Комментарий ревьюераV2</b></font>\n",
    "\n",
    "Успех:\n",
    "\n",
    "👍    \n",
    "    \n",
    "Добавлю:\n",
    "\n",
    "Первый момент: мультиколлиниарность проблема линейных моделей - могут переобучаться.... теоретически. Но в логистической, и в линейной регрессиях реализована регуляризация, которая решает проблему мультиколлиниарности признаков. \"Деревянные\" модели (RF, DT) устойчивы к мультиколлинеарности, а кластеризация тоже почти не зависит от линейных зависимостей. Получается, избавляться от мультиколлинеарности чтобы не переобучаться не обязательно )) \n",
    "    \n",
    "    \n",
    "Второй момент: интерпретируемость линейной модели (мы по коеффициентам судим как признаки влияют на таргет), тут  мультиколлинеарность надо убирать.\n"
   ]
  },
  {
   "cell_type": "code",
   "execution_count": 8,
   "metadata": {
    "scrolled": true
   },
   "outputs": [
    {
     "name": "stdout",
     "output_type": "stream",
     "text": [
      "             calls   minutes  messages   mb_used  is_ultra\n",
      "calls     1.000000  0.982083  0.177385  0.286442  0.207122\n",
      "minutes   0.982083  1.000000  0.173110  0.280967  0.206955\n",
      "messages  0.177385  0.173110  1.000000  0.195721  0.203830\n",
      "mb_used   0.286442  0.280967  0.195721  1.000000  0.198568\n",
      "is_ultra  0.207122  0.206955  0.203830  0.198568  1.000000\n"
     ]
    }
   ],
   "source": [
    "print(df.corr()) "
   ]
  },
  {
   "cell_type": "code",
   "execution_count": 9,
   "metadata": {},
   "outputs": [
    {
     "data": {
      "image/png": "[encoded data removed]",
      "text/plain": [
       "<Figure size 432x288 with 2 Axes>"
      ]
     },
     "metadata": {
      "needs_background": "light"
     },
     "output_type": "display_data"
    }
   ],
   "source": [
    "df_plot = sns.heatmap(df.corr(), cmap=\"YlGnBu\", annot=True)  \n",
    "    \n",
    "# displaying the heatmap  \n",
    "plt.show()\n"
   ]
  },
  {
   "cell_type": "markdown",
   "metadata": {},
   "source": [
    "Из тепловой карты видно, что минуты и звонки имеют сильную зависимость. Удалим один из столбцов, например звонки"
   ]
  },
  {
   "cell_type": "code",
   "execution_count": 10,
   "metadata": {},
   "outputs": [],
   "source": [
    "df = df.drop(['calls'],axis=1)"
   ]
  },
  {
   "cell_type": "code",
   "execution_count": 11,
   "metadata": {},
   "outputs": [
    {
     "data": {
      "image/png": "[encoded data removed]",
      "text/plain": [
       "<Figure size 432x288 with 2 Axes>"
      ]
     },
     "metadata": {
      "needs_background": "light"
     },
     "output_type": "display_data"
    }
   ],
   "source": [
    "df_plot = sns.heatmap(df.corr(), cmap=\"YlGnBu\", annot=True)  \n",
    "    \n",
    "# displaying the heatmap  \n",
    "plt.show()"
   ]
  },
  {
   "cell_type": "markdown",
   "metadata": {},
   "source": [
    "## Разбейте данные на выборки"
   ]
  },
  {
   "cell_type": "markdown",
   "metadata": {},
   "source": [
    "### Получаем набор признаков и целевой набор"
   ]
  },
  {
   "cell_type": "markdown",
   "metadata": {},
   "source": [
    "<div class=\"alert alert-info\">\n",
    "<font size=\"5\"><b>Доработка</b></font>\n",
    "    \n",
    "    Добавление **stratify**"
   ]
  },
  {
   "cell_type": "markdown",
   "metadata": {},
   "source": [
    "<div class=\"alert alert-success\">\n",
    "<font size=\"5\"><b>Комментарий ревьюераV2</b></font>\n",
    "\n",
    "\n",
    "\n",
    "Успех 👍:\n",
    "\n",
    "\n",
    "\n",
    "👍\n",
    "\n",
    "\n",
    "\n",
    "\n",
    "</div>\n"
   ]
  },
  {
   "cell_type": "code",
   "execution_count": 12,
   "metadata": {},
   "outputs": [],
   "source": [
    "features = df.drop(['is_ultra'],axis=1)"
   ]
  },
  {
   "cell_type": "code",
   "execution_count": 13,
   "metadata": {},
   "outputs": [],
   "source": [
    "target = df['is_ultra']"
   ]
  },
  {
   "cell_type": "markdown",
   "metadata": {},
   "source": [
    "Делим данные на три группы **обучающая**, **валидационная**, **тестовая** в пропорции 3:1:1 (60%:20%:20%)"
   ]
  },
  {
   "cell_type": "code",
   "execution_count": 14,
   "metadata": {},
   "outputs": [],
   "source": [
    "features_train,features_valid,target_train, target_valid = train_test_split(\\\n",
    "                                                                            features, \\\n",
    "                                                                            target, \\\n",
    "                                                                            test_size = 0.4, \\\n",
    "                                                                            random_state = 777,\n",
    "                                                                           stratify = target)"
   ]
  },
  {
   "cell_type": "markdown",
   "metadata": {},
   "source": [
    "Проверка размеров выборок"
   ]
  },
  {
   "cell_type": "code",
   "execution_count": 15,
   "metadata": {},
   "outputs": [
    {
     "data": {
      "text/plain": [
       "(1928, 3)"
      ]
     },
     "execution_count": 15,
     "metadata": {},
     "output_type": "execute_result"
    }
   ],
   "source": [
    "features_train.shape"
   ]
  },
  {
   "cell_type": "code",
   "execution_count": 16,
   "metadata": {},
   "outputs": [
    {
     "data": {
      "text/plain": [
       "(1286, 3)"
      ]
     },
     "execution_count": 16,
     "metadata": {},
     "output_type": "execute_result"
    }
   ],
   "source": [
    "features_valid.shape"
   ]
  },
  {
   "cell_type": "markdown",
   "metadata": {},
   "source": [
    "Деление валидационной выборки на валидационную и тестовую"
   ]
  },
  {
   "cell_type": "code",
   "execution_count": 17,
   "metadata": {},
   "outputs": [],
   "source": [
    "features_valid,features_test,target_valid, target_test = train_test_split(\\\n",
    "                                                                            features_valid, \\\n",
    "                                                                            target_valid, \\\n",
    "                                                                            test_size = 0.5, \\\n",
    "                                                                            random_state = 777)"
   ]
  },
  {
   "cell_type": "code",
   "execution_count": 18,
   "metadata": {},
   "outputs": [
    {
     "data": {
      "text/plain": [
       "(643, 3)"
      ]
     },
     "execution_count": 18,
     "metadata": {},
     "output_type": "execute_result"
    }
   ],
   "source": [
    "features_valid.shape"
   ]
  },
  {
   "cell_type": "code",
   "execution_count": 19,
   "metadata": {},
   "outputs": [
    {
     "data": {
      "text/plain": [
       "(643, 3)"
      ]
     },
     "execution_count": 19,
     "metadata": {},
     "output_type": "execute_result"
    }
   ],
   "source": [
    "features_test.shape"
   ]
  },
  {
   "cell_type": "code",
   "execution_count": 20,
   "metadata": {},
   "outputs": [
    {
     "data": {
      "text/plain": [
       "(643,)"
      ]
     },
     "execution_count": 20,
     "metadata": {},
     "output_type": "execute_result"
    }
   ],
   "source": [
    "target_valid.shape"
   ]
  },
  {
   "cell_type": "code",
   "execution_count": 21,
   "metadata": {},
   "outputs": [
    {
     "data": {
      "text/plain": [
       "(643,)"
      ]
     },
     "execution_count": 21,
     "metadata": {},
     "output_type": "execute_result"
    }
   ],
   "source": [
    "target_test.shape"
   ]
  },
  {
   "cell_type": "markdown",
   "metadata": {},
   "source": [
    "**Вывод:** Выборки получены, количество данных проверено"
   ]
  },
  {
   "cell_type": "markdown",
   "metadata": {},
   "source": [
    "<div class=\"alert alert-success\">\n",
    "<font size=\"5\"><b>Комментарий ревьюера</b></font>\n",
    "\n",
    "Успех:\n",
    "\n",
    "Все правильно!\n",
    "\n",
    "Здорово что проконтролировано разбиение (можно с помощью .shape,  можно .len)\n",
    "\n",
    "\n",
    "\n",
    "<div class=\"alert alert-warning\">\n",
    "\n",
    "\n",
    "\n",
    "Совет: \n",
    "\n",
    "\n",
    "- Обрати внимание на аргумент stratify, он позволит сохранить изначальное распределение таргетов во всех новых датасетах.  Существующий дисбаланс никуда не денется, но в каждом датасете он будет одинаковым. [Почитать](https://pythonru.com/baza-znanij/sklearn-train-test-split) можно тут\n"
   ]
  },
  {
   "cell_type": "markdown",
   "metadata": {},
   "source": [
    "## Исследуйте модели"
   ]
  },
  {
   "cell_type": "markdown",
   "metadata": {},
   "source": [
    "Наше исследование подходит под решение задачи бинарной классификации, поскольку категорий всего две (два тарифа)"
   ]
  },
  {
   "cell_type": "markdown",
   "metadata": {},
   "source": [
    "Создадим модели с помощью разных алгоритмов классификации"
   ]
  },
  {
   "cell_type": "markdown",
   "metadata": {},
   "source": [
    "### Построение модели с помощью DicisionTreeClassifier"
   ]
  },
  {
   "cell_type": "code",
   "execution_count": 22,
   "metadata": {},
   "outputs": [],
   "source": [
    "best_model_dtc = None"
   ]
  },
  {
   "cell_type": "code",
   "execution_count": 23,
   "metadata": {},
   "outputs": [],
   "source": [
    "best_result = 0"
   ]
  },
  {
   "cell_type": "code",
   "execution_count": 24,
   "metadata": {},
   "outputs": [],
   "source": [
    "best_depth = 0"
   ]
  },
  {
   "cell_type": "markdown",
   "metadata": {},
   "source": [
    "**Создание и обучение модели**"
   ]
  },
  {
   "cell_type": "markdown",
   "metadata": {},
   "source": [
    "Будем создавать и обучать модель с разными значениями гиперпараметра **max_depth**"
   ]
  },
  {
   "cell_type": "code",
   "execution_count": 25,
   "metadata": {},
   "outputs": [
    {
     "name": "stdout",
     "output_type": "stream",
     "text": [
      "1 0.7480559875583204\n",
      "2 0.7869362363919129\n",
      "3 0.8009331259720062\n",
      "4 0.8040435458786936\n",
      "5 0.8055987558320373\n",
      "\n",
      "Accuracy  лучшей модели 0.806\n",
      "Max_depth  лучшей модели 5\n"
     ]
    }
   ],
   "source": [
    "for depth in range(1,6):\n",
    "    \n",
    "    #создание пустой модели\n",
    "    model = DecisionTreeClassifier(random_state = 777, max_depth=depth)\n",
    "    \n",
    "    #обучение модели\n",
    "    model.fit(features_train,target_train)\n",
    "    \n",
    "    #проверка модели на валидационной выборке\n",
    "    predictions_valid = model.predict(features_valid)\n",
    "    result = accuracy_score(target_valid,predictions_valid)\n",
    "   \n",
    "    print(depth, result )\n",
    "    if result > best_result:\n",
    "        best_model_dtc = model\n",
    "        best_result = result\n",
    "        best_depth = depth\n",
    "print(f'\\nAccuracy  лучшей модели {best_result:.3f}')\n",
    "print('Max_depth  лучшей модели', best_depth)"
   ]
  },
  {
   "cell_type": "markdown",
   "metadata": {},
   "source": [
    "Метрика качества лучшей модели на валидационной выборке алгоритма  **DicisionTreeClassifier** равна **0.784** при глубине **max_depth=4**"
   ]
  },
  {
   "cell_type": "markdown",
   "metadata": {},
   "source": [
    "<div class=\"alert alert-success\">\n",
    "<font size=\"5\"><b>Комментарий ревьюера</b></font>\n",
    "\n",
    "Успех:\n",
    " \n",
    "Работа выполнена в соответствии с критериями: \n",
    "\n",
    "\n",
    "\n",
    " - модель обучена на обучающем наборе\n",
    " - получена оценка качества на валидационном наборе\n",
    " - перебор гиперпараметров осуществляется в цикле\n",
    "\n",
    "\n",
    "\n",
    "\n",
    "<div class=\"alert alert-warning\">\n",
    "\n",
    "\n",
    "Совет: \n",
    "\n",
    "\n",
    "\n",
    "\n",
    "- Можно добавить график, хорошо оформленный график украсит проект. Тут на графике можно посмотреть как при изменении гиперпараметров меняется точность на train и validation датасете (для этого собираем наши метрики на валидации и train в списки, а затем по ним обычный plt.plot()) Такой способ используют чтобы лучше отследить переобучение, но для этого стоит взять пернебор по max_depth поглубже\n",
    "\n",
    "\n",
    "\n",
    "- tree_plot можно построить, с max_depth равной 3 или 4 (глубже уже будет громоздко) - глянуть как DT сплиты делает, будет понимание как модель принимает решения: какие признаки  использует, на каких значениях делает разбиение вправо - влево \n",
    "\n",
    "\n",
    "\n",
    "\n",
    "</div>\n",
    "\n"
   ]
  },
  {
   "cell_type": "markdown",
   "metadata": {},
   "source": [
    "### Построение модели с помощью  RandomForestClassifier"
   ]
  },
  {
   "cell_type": "markdown",
   "metadata": {},
   "source": [
    "Будем создавать и обучать модель с разными значениями гиперпараметров **max_depth**, **n_estimators**"
   ]
  },
  {
   "cell_type": "code",
   "execution_count": 26,
   "metadata": {},
   "outputs": [],
   "source": [
    "best_model_r = None\n",
    "best_result_r = 0\n",
    "best_depth_r = 0\n",
    "best_est_r = 0"
   ]
  },
  {
   "cell_type": "markdown",
   "metadata": {},
   "source": [
    "<div class=\"alert alert-info\">\n",
    "<font size=\"5\"><b>Доработка</b></font><br><br>\n",
    "    Добавление <b>tqdm</b>\n",
    " \n",
    "</div>"
   ]
  },
  {
   "cell_type": "code",
   "execution_count": 27,
   "metadata": {},
   "outputs": [
    {
     "name": "stderr",
     "output_type": "stream",
     "text": [
      "100%|██████████| 7/7 [01:30<00:00, 12.88s/it]\n"
     ]
    }
   ],
   "source": [
    "for est in tqdm(range(100,701,100)):\n",
    "    for depth in range(1,15):\n",
    "        model = RandomForestClassifier(random_state = 777, \n",
    "                                       max_depth=depth,\n",
    "                                       n_estimators=est,\n",
    "                                       min_samples_leaf=2,\n",
    "                                      max_features = 'sqrt')\n",
    "        model.fit(features_train,target_train)\n",
    "        predictions_valid = model.predict(features_valid)\n",
    "        result = accuracy_score(target_valid,predictions_valid)    \n",
    "        predictions_test = model.predict(features_test)\n",
    "        if result > best_result_r:\n",
    "            best_model_r = model\n",
    "            best_result_r = result\n",
    "            best_depth_r = depth\n",
    "            best_est_r = est"
   ]
  },
  {
   "cell_type": "code",
   "execution_count": 28,
   "metadata": {
    "scrolled": true
   },
   "outputs": [
    {
     "name": "stdout",
     "output_type": "stream",
     "text": [
      "Accuracy  лучшей модели 0.8180404354587869\n",
      "Max_depth  лучшей модели 13\n",
      "Кол-во деревьев лучшей модели 200\n"
     ]
    }
   ],
   "source": [
    "print('Accuracy  лучшей модели', best_result_r)\n",
    "print('Max_depth  лучшей модели', best_depth_r)\n",
    "print('Кол-во деревьев лучшей модели', best_est_r)"
   ]
  },
  {
   "cell_type": "markdown",
   "metadata": {},
   "source": [
    "Метрика качества лучшей модели на валидационной выборке алгоритма  **RandomForestClassifier** равна **0.813** при глубине **max_depth=13** и количестве деревьев **n_estimators=200**"
   ]
  },
  {
   "cell_type": "markdown",
   "metadata": {},
   "source": [
    "\n",
    "\n",
    "\n",
    "<div class=\"alert alert-success\">\n",
    "<font size=\"5\"><b>Комментарий ревьюера</b></font>\n",
    "\n",
    "Успех:\n",
    "    \n",
    "По большему числу гиперпараметров перебор -   тем лучше метрика. Случайный лес мощная модель и по-нему действительно стоит поперебирать несколько гиперпораметров. Здорово   \n",
    "\n",
    "\n",
    "\n",
    "\n",
    "<div class=\"alert alert-warning\">\n",
    "\n",
    "\n",
    "Совет: \n",
    "\n",
    "\n",
    "\n",
    "\n",
    "- Когда что то долго крутиться, можно использовать  %%time - ставишь на самый вверх ячейки с кодом, время выполнения которого хочешь замерить, может не знаешь.  Быстрее не станет, но все будут видеть стоит ли ждать не отходя от ПК или можно сходить чаек поставить )) \n",
    "    \n",
    "    Или tqdm, это ещё лучше, потому что он показывает интерактивно, на каком этапе расчетов мы находимся\n",
    "\n",
    "    \n",
    "    from tqdm import tqdm\n",
    "\n",
    "\n",
    "    for n_estimators in tqdm(range(3,58)):\n",
    "\n",
    "        ..........\n",
    "\n",
    "    \n",
    "И будет красиво )   \n",
    " \n"
   ]
  },
  {
   "cell_type": "markdown",
   "metadata": {},
   "source": [
    "### Построение модели с помощью LogisticRegression"
   ]
  },
  {
   "cell_type": "code",
   "execution_count": 29,
   "metadata": {},
   "outputs": [],
   "source": [
    "best_model_l = None\n",
    "best_result_l = 0\n",
    "best_iter = 0"
   ]
  },
  {
   "cell_type": "code",
   "execution_count": 30,
   "metadata": {},
   "outputs": [],
   "source": [
    "for i in range(1000,2000,100):\n",
    "    model = LogisticRegression(random_state=777, solver='lbfgs', max_iter=i)\n",
    "    model.fit(features_train,target_train)\n",
    "    predictions_valid = model.predict(features_valid)\n",
    "    result = accuracy_score(target_valid,predictions_valid)    \n",
    "    predictions_test = model.predict(features_test)\n",
    "    #result_test = accuracy_score(target_test,predictions_test)\n",
    "    #print(i,result,  result_test )\n",
    "    if result > best_result_l:\n",
    "        best_model_l = model\n",
    "        best_result_l = result\n",
    "        best_iter = i"
   ]
  },
  {
   "cell_type": "code",
   "execution_count": 31,
   "metadata": {},
   "outputs": [
    {
     "name": "stdout",
     "output_type": "stream",
     "text": [
      "Accuracy  лучшей модели 0.7573872472783826\n",
      "Max_iter  лучшей модели 1000\n"
     ]
    }
   ],
   "source": [
    "print('Accuracy  лучшей модели', best_result_l)\n",
    "print('Max_iter  лучшей модели', best_iter)"
   ]
  },
  {
   "cell_type": "markdown",
   "metadata": {},
   "source": [
    "Метрика качества лучшей модели на валидационной выборке алгоритма LogisticRegression равна **0.73** при количестве итераций = 1000"
   ]
  },
  {
   "cell_type": "markdown",
   "metadata": {},
   "source": [
    "Вывод: Две модели показали на валидационной выборке результат больше 0.75. Это модели алгоритма **DicisionTreeClassifier** и **RandomForestClassifier**. Возьмем эти модели для проверки на тестовой выборке"
   ]
  },
  {
   "cell_type": "markdown",
   "metadata": {},
   "source": [
    "<div class=\"alert alert-warning\">\n",
    "<font size=\"5\"><b>Комментарий ревьюера</b></font>\n",
    "\n",
    "Совет: \n",
    "\n",
    "Дмитрий, на самом деле DT вообще не используют, это слабая модель, а RF одна из лучших в классическом ML. Почему у тебя так получилось?! Значит просто не \"дожата\" RF, можно было подольше поучиться, использовать перебор по большему числу гиперпараметров.  \n",
    "\n",
    "\n",
    "\n",
    "Если есть желание можешь ответить на вопросики ))    \n",
    "\n",
    "\n",
    "\n",
    "- Как назвать ситуацию, когда на валидации при увеличении глубины дерева (модель DT), метрика качества стала снижаться? Как по твоему в это же время вела себя эта же метрика на train?\n",
    "\n",
    "\n",
    "- Насколько знаю вы еще под капот моделям не заглядывали, но может знаешь почему обычно RF показывает более высокие результаты из выбранных?\n",
    "\n",
    "\n",
    "- Мы решаем задачу классификации (а еще есть задача регрессии), а в названии модели с помощью которой мы решаем задачу \"классификации\" (Логистическая регрессия) есть слово \"регрессия\".  Нет ли тут парадокса? )\n",
    "    \n",
    "\n",
    "- Почему логистическая регрессия показывать на много более худшие результаты?  \n",
    "\n",
    "\n",
    "</div>\n",
    "\n",
    "\n",
    "\n"
   ]
  },
  {
   "cell_type": "markdown",
   "metadata": {},
   "source": [
    "<div class=\"alert alert-info\">\n",
    "<font size=\"5\"><b>Ответы</b></font><br><br>\n",
    "- Переобучение<br>\n",
    "- Результаты RF выше, потому что не одно дерево решений, а лес, то есть их много. Случайность выбора, то есть рассматривается очень много данных в разных сочетаниях, поэтому качество выше<br>\n",
    "- Логистическая регрессия работает только с двоичными результатами, то есть по сути - это задача бинарной классификации<br>\n",
    "- Логистическая регрессия показывает результаты ниже, потому что она может моделировать только прямые линейные зависимости, в то время как часто возникает необходимость создания модели других типов отношений между данными. <br>\n",
    "</div>"
   ]
  },
  {
   "cell_type": "markdown",
   "metadata": {},
   "source": [
    "<div class=\"alert alert-success\">\n",
    "<font size=\"5\"><b>Комментарий ревьюераV2</b></font>\n",
    "\n",
    "\n",
    "Успех:\n",
    "\n",
    "\n",
    "Дополню чуть\n",
    "\n",
    "1. Верно, переобучение. На train точность растет вплоть до 100%. \n",
    "    \n",
    "    \n",
    "2. Да, в RF обучается несколько деревьев, а решение принимается путем голосования. Каждое дерево в RF учится на своем датасете (используется техника бутстрап), таким образом достигается \"независимость\" этих самых деревьев, в итоге ошибка разброса снижается.\n",
    "\n",
    "    \n",
    "3. \"Регрессия\", потому что внутри нее скалярное произведение (как и в линейной регрессии), дающее на выходе вещественное число (от + бесконечности до - бесконечности), на это число вешают сигмойду, логарифм и получают значение от 0 до 1 (вероятность класса).   \n",
    "    \n",
    "    \n",
    "4. Верно. Логистическая регрессия плоха (и хороша с другой стороны) тем что это линейный классификатор: обьекты на классы разделяем гиперплоскостью (прямой если на плоскости), а в данном датасете видимо более сложные, нелинейные связи между признаками и таргетом.   А RF с DT с этим справляются. На других данных  LR могла оказаться лучше, например потому что RF не может экстраполировать. \n",
    "\n",
    "\n",
    "</div>"
   ]
  },
  {
   "cell_type": "markdown",
   "metadata": {},
   "source": [
    "## Проверьте модель на тестовой выборке"
   ]
  },
  {
   "cell_type": "markdown",
   "metadata": {},
   "source": [
    "### Проверка модели DicisionTreeClassifier"
   ]
  },
  {
   "cell_type": "code",
   "execution_count": 32,
   "metadata": {},
   "outputs": [
    {
     "name": "stdout",
     "output_type": "stream",
     "text": [
      "0.7853810264385692\n"
     ]
    }
   ],
   "source": [
    "predictions_test = best_model_dtc.predict(features_test) \n",
    "result_test = accuracy_score(target_test,predictions_test)\n",
    "print(result_test)"
   ]
  },
  {
   "cell_type": "markdown",
   "metadata": {},
   "source": [
    "### Проверка модели  RandomForestClassifier"
   ]
  },
  {
   "cell_type": "code",
   "execution_count": 33,
   "metadata": {},
   "outputs": [
    {
     "name": "stdout",
     "output_type": "stream",
     "text": [
      "0.7962674961119751\n"
     ]
    }
   ],
   "source": [
    "predictions_test = best_model_r.predict(features_test) \n",
    "result_test = accuracy_score(target_test,predictions_test)\n",
    "print(result_test)"
   ]
  },
  {
   "cell_type": "markdown",
   "metadata": {},
   "source": [
    "Вывод: Модель, построенная с помощью алгоритма **RandomForestClassifier** показывает большую точность и на тестовом наборе данных. Таким образом, можно использовать для работы эту модель"
   ]
  },
  {
   "cell_type": "markdown",
   "metadata": {},
   "source": [
    "\n",
    "<div class=\"alert alert-success\">\n",
    "<font size=\"5\"><b>Комментарий ревьюера</b></font>\n",
    "\n",
    "Успех:\n",
    "\n",
    "\n",
    "- Все верно, логика моделирования не нарушена, тут тестируем только лучшую модель (или парочку, если метрики были близки) отобранную на валидации. \n",
    "\n",
    "\n",
    "<div class=\"alert alert-warning\">\n",
    "\n",
    "Вопросики и совет:\n",
    "\n",
    "\n",
    "\n",
    "\n",
    "- Как попробовать улучшить результат, не мучаясь с кодом?! Смотри - мы сформировали train выборку на которой обучаем модель, а валидационную используем для поиска лучших значений гиперпараметров. Оке, нашли их. Так почему бы теперь модель с выбранными гиперпараметрами не обучить на тренировочной + валидационной выборке (только не нужно делать новые сплиты, используй pd.concat(), к примеру)?! Чем больше данных, тем лучше модель может обучиться. И эту дообученную модель проверим на тесте. Гаранитий что станет лучше нет, но ML это постоянные эксперименты.  \n",
    "    \n",
    "    \n",
    "- А можешь предложить как нам использовать полученный результат в бизнесе? Как нам на этих прогнозах сделать деньги? \n",
    "\n",
    "\n",
    "\n",
    "\n",
    "- Дмитрий, в качестве бонуса можешь вывести еще несколько метрик своей модели - precision, recall, F1 и confussion matrix) Все есть в sklearn)\n",
    "\n",
    "\n"
   ]
  },
  {
   "cell_type": "markdown",
   "metadata": {},
   "source": [
    "<div class=\"alert alert-info\">\n",
    "<font size=\"5\"><b>Доработка</b></font><br><br>\n",
    "    Соедиение обучающего и валидационного наборов\n",
    " \n",
    "</div>"
   ]
  },
  {
   "cell_type": "code",
   "execution_count": 34,
   "metadata": {},
   "outputs": [],
   "source": [
    "x = pd.concat([features_train,features_valid])"
   ]
  },
  {
   "cell_type": "code",
   "execution_count": 35,
   "metadata": {},
   "outputs": [],
   "source": [
    "y = pd.concat([target_train,target_valid])"
   ]
  },
  {
   "cell_type": "code",
   "execution_count": 36,
   "metadata": {
    "scrolled": true
   },
   "outputs": [
    {
     "data": {
      "text/plain": [
       "RandomForestClassifier(max_depth=13, max_features='sqrt', min_samples_leaf=2,\n",
       "                       n_estimators=200, random_state=777)"
      ]
     },
     "execution_count": 36,
     "metadata": {},
     "output_type": "execute_result"
    }
   ],
   "source": [
    "model = RandomForestClassifier(random_state = 777, \n",
    "                                       max_depth=best_depth_r,\n",
    "                                       n_estimators=best_est_r,\n",
    "                                       min_samples_leaf=2,\n",
    "                                      max_features = 'sqrt')\n",
    "model.fit(x,y)\n",
    "        "
   ]
  },
  {
   "cell_type": "code",
   "execution_count": 37,
   "metadata": {},
   "outputs": [
    {
     "name": "stdout",
     "output_type": "stream",
     "text": [
      "0.8055987558320373\n"
     ]
    }
   ],
   "source": [
    "predictions_test = model.predict(features_test) \n",
    "result_test = accuracy_score(target_test,predictions_test)\n",
    "print(result_test)"
   ]
  },
  {
   "cell_type": "markdown",
   "metadata": {},
   "source": [
    "**Вывод:** Переобучение лучшей модели (с лкчшим набором гиперпараметров)на  объединенном наборе показал небольшое, но улучшение доли правильных ответов"
   ]
  },
  {
   "cell_type": "code",
   "execution_count": 38,
   "metadata": {},
   "outputs": [],
   "source": [
    "from sklearn import metrics\n",
    "from sklearn.metrics import confusion_matrix"
   ]
  },
  {
   "cell_type": "markdown",
   "metadata": {},
   "source": [
    "**Точность**"
   ]
  },
  {
   "cell_type": "code",
   "execution_count": 39,
   "metadata": {},
   "outputs": [
    {
     "data": {
      "text/plain": [
       "0.7430555555555556"
      ]
     },
     "execution_count": 39,
     "metadata": {},
     "output_type": "execute_result"
    }
   ],
   "source": [
    "metrics.precision_score(target_test,predictions_test)"
   ]
  },
  {
   "cell_type": "markdown",
   "metadata": {},
   "source": [
    "**Полнота**"
   ]
  },
  {
   "cell_type": "code",
   "execution_count": 40,
   "metadata": {
    "scrolled": false
   },
   "outputs": [
    {
     "data": {
      "text/plain": [
       "0.5487179487179488"
      ]
     },
     "execution_count": 40,
     "metadata": {},
     "output_type": "execute_result"
    }
   ],
   "source": [
    "metrics.recall_score(target_test,predictions_test)"
   ]
  },
  {
   "cell_type": "markdown",
   "metadata": {},
   "source": [
    "**f1 - мера**"
   ]
  },
  {
   "cell_type": "code",
   "execution_count": 41,
   "metadata": {},
   "outputs": [
    {
     "data": {
      "text/plain": [
       "0.6312684365781711"
      ]
     },
     "execution_count": 41,
     "metadata": {},
     "output_type": "execute_result"
    }
   ],
   "source": [
    "metrics.f1_score(target_test,predictions_test,average='binary')"
   ]
  },
  {
   "cell_type": "code",
   "execution_count": 42,
   "metadata": {},
   "outputs": [],
   "source": [
    "tn, fp, fn, tp = confusion_matrix(target_test,predictions_test).ravel()"
   ]
  },
  {
   "cell_type": "code",
   "execution_count": 43,
   "metadata": {},
   "outputs": [
    {
     "name": "stdout",
     "output_type": "stream",
     "text": [
      "411 37 88 107\n"
     ]
    }
   ],
   "source": [
    "print(tn, fp, fn, tp)"
   ]
  },
  {
   "cell_type": "markdown",
   "metadata": {},
   "source": [
    "Несмотря на улучшение показателей, точность, полнота и f1 находятся далеко от идеальных результатов. Возможно, требуется более тщательная работа с исходными данными."
   ]
  },
  {
   "cell_type": "markdown",
   "metadata": {},
   "source": [
    "\n",
    "\n",
    "\n",
    "<div class=\"alert alert-success\">\n",
    "<font size=\"5\"><b>Комментарий ревьюераV2</b></font>\n",
    "\n",
    "Успех:\n",
    "\n",
    "Все ок. \n",
    "\n",
    "\n",
    "О том как можно поднять метрику F1, об этом следующий проект, там с помощью борьбы с дисбалансом будем как раз поднимать эту метрику\n",
    "    \n",
    "    \n",
    "    \n",
    "<div class=\"alert alert-warning\">\n",
    "\n",
    "\n",
    "\n",
    "Совет: \n",
    "\n",
    "- рекомендую вывести вокруг цифры какой то обьясняющий текст, лучше с помощью [f-stings](https://python-scripts.com/f-strings) , тут [свеженькое](https://habr.com/ru/company/wunderfund/blog/674866/) \n",
    "    \n",
    "    \n",
    "- [вот](https://scikit-learn.org/stable/modules/generated/sklearn.metrics.ConfusionMatrixDisplay.html) как покрасивей можно было  confusion_matrix вывести\n",
    "    \n",
    "\n",
    "    \n",
    "    \n",
    "</div>"
   ]
  },
  {
   "cell_type": "markdown",
   "metadata": {},
   "source": [
    "Используя прогнозы можно абонентам, использующим старые тарифы, предлагать тарифы, которые им больше подходят \"смарт\" или \"ультра\". В 74 случаях из 100 переход на тариф ультра будет предложен правильно."
   ]
  },
  {
   "cell_type": "markdown",
   "metadata": {},
   "source": [
    "<div class=\"alert alert-success\">\n",
    "<font size=\"5\"><b>Комментарий ревьюераV2</b></font>\n",
    "\n",
    "Успех:\n",
    "    \n",
    "Довольный клиент это к деньгам ) Я вижу практическое применение прогнозов модели еще и таким образом. Допустим какой-то тариф более выгоден компании, тогда мы можем предложить перейти на него клиентам, но не всем, а тем, кому данный тариф подходит (на основе прогноза модели). Таким образом мы сэкономим время и деньги, ведь просто предлагать переходить всем это лишние траты (не говоря о клиентах, которые уходят, если слишком назойливо им что-то предлагать, что для них явно не подходит). \n"
   ]
  },
  {
   "cell_type": "markdown",
   "metadata": {},
   "source": [
    "## (бонус) Проверьте модели на адекватность"
   ]
  },
  {
   "cell_type": "markdown",
   "metadata": {},
   "source": [
    "Для проверки адекватности модели будет использоваться классификатор модуля **sklearn** **DummyClassifier**\n",
    "Это фиктивный классификатор, который классифицирует данные, используя только простые правила. Поведение классификатора полностью не зависит от обучающих данных, поскольку тенденции в обучающих данных полностью игнорируются и вместо этого использует одну из стратегий для прогнозирования метки класса.\n",
    "Так как наш набор данных несбалансирован, то ожидается, что классификатор, с помощью которого мы построили модель будет лучше работать с данным набором данных."
   ]
  },
  {
   "cell_type": "code",
   "execution_count": 44,
   "metadata": {
    "scrolled": false
   },
   "outputs": [
    {
     "data": {
      "text/plain": [
       "0.6967340590979783"
      ]
     },
     "execution_count": 44,
     "metadata": {},
     "output_type": "execute_result"
    }
   ],
   "source": [
    "from sklearn.dummy import DummyClassifier\n",
    "dummy  = DummyClassifier(strategy='most_frequent', random_state=777)\n",
    "dummy.fit(features_train, target_train)\n",
    "dummy_pred = dummy.predict(features_valid)\n",
    "accuracy_score(target_test, dummy_pred)"
   ]
  },
  {
   "cell_type": "markdown",
   "metadata": {},
   "source": [
    "<div class=\"alert alert-success\">\n",
    "<font size=\"5\"><b>Комментарий ревьюера</b></font>\n",
    "\n",
    "Успех:\n",
    "\n",
    "Все верно. \n",
    "\n",
    "👍 что используешь специальную обертку для проверки на адекватность\n"
   ]
  },
  {
   "cell_type": "markdown",
   "metadata": {},
   "source": [
    "**Вывод:** В ходе выполнения проекта были рассмотрены различные модели  для решения задачи бинарной классификации на несбалансированном наборе данных.<br>\n",
    "Для алгоритма **DicisionTreeClassifier** были созданы модели с разными значениями гиперпараметра **max_depth**. Минимальное значение 1, максимальное - 5.<br>\n",
    "Метрика качества лучшей модели на валидационной выборке алгоритма **DicisionTreeClassifier** равна **0.784** при глубине **max_depth=3**<br>\n",
    "Для алгоритма **RandomForestClassifier** были созданы модели с разными значениями гиперпараметра **max_depth** и **n_estimators**. max_depth - минимальное значение 1, максимальное - 5, n_estimators - минимальное значение 10, максимальное - 50, с шагом 10<br>\n",
    "Метрика качества лучшей модели на валидационной выборке алгоритма  **RandomForestClassifier** равна **0.802** при глубине **max_depth=5** и количестве деревьев **n_estimators=40**<br>\n",
    "Для алгоритма **LogisticRegression** было рассмотрено различное количество итераций.\n",
    "Метрика качества лучшей модели на валидационной выборке алгоритма **LogisticRegression** равна **0.73** при количестве итераций = 1000<br>\n",
    "Для проверки тестовых наборов были взяты модели от **DicisionTreeClassifier**  и **RandomForestClassifier**<br>\n",
    "**Результаты тестовой проверки:**<br>\n",
    "\n",
    "| Алгоритм | Accuracy |\n",
    "| -------- | -------- | \n",
    "| DicisionTreeClassifier | 0.758 |\n",
    "| RandomForestClassifier | 0.777 |\n",
    "\n",
    "В обоих случаях была достигнута требуемая **accuracy**, значением более 0.75, но лучший результат показала модель, обученная по алгоритму **RandomForestClassifier**<br>\n",
    "Дополнительная проверка с помощью алгоритма DummyClassifier, показала, что аналитический алгоритм **RandomForestClassifier** показал результат выше, чем фиктивный классификатор, а это ознаает, что модель жизнеспособна."
   ]
  },
  {
   "cell_type": "markdown",
   "metadata": {},
   "source": [
    "## Чек-лист готовности проекта"
   ]
  },
  {
   "cell_type": "markdown",
   "metadata": {},
   "source": [
    "\n",
    "<div class=\"alert alert-info\">\n",
    "<font size=\"5\"><b>Комментарий ревьюера</b></font>\n",
    "\n",
    "\n",
    "\n",
    "\n",
    "Дмитрий, у тебя старательно выполненная работа, все четко, осмысленно. Выводы присутствуют, с комментированием кода тоже никаких проблем нет, твоих объяснений достаточно для понимания коллегами хода твоих мыслей. \n",
    "\n",
    "\n",
    "\n",
    "Я оставил небольшие советы и вопросики (если есть время и желание можешь воспользоваться/ответить): \n",
    "\n",
    "\n",
    "\n",
    "\n",
    "\n",
    "- использовать stratify\n",
    "- добавить график метрики    \n",
    "- как можно улучшить результаты \n",
    "\n",
    "\n",
    "\n",
    "\n",
    "Посылаю на вторую итерацию, чтобы ответить на вопросы если они появятся\n",
    "\n",
    "\n",
    "\n",
    "\n",
    "\n",
    "</div>"
   ]
  },
  {
   "cell_type": "markdown",
   "metadata": {},
   "source": [
    "\n",
    "<div class=\"alert alert-info\">\n",
    "<font size=\"5\"><b>Комментарий ревьюераV2</b></font>\n",
    "\n",
    "Спасибо за работу!    \n",
    "\n",
    "    \n",
    "Желтые советы использованы, на  вопросы есть ответы  (это все было по желанию), значит стремишься развиваться, а желание и интерес это главное. Надеюсь мои советы и вопросики были полезны и в копилочку знаний упало что то новое, а проект стал лучше, и симпатичней.\n",
    "\n",
    "\n",
    "\n",
    "Отличная работа Дмитрий. Желаю успехов в дальнейшей учебе!\n",
    "\n"
   ]
  },
  {
   "cell_type": "markdown",
   "metadata": {},
   "source": [
    "Поставьте 'x' в выполненных пунктах. Далее нажмите Shift+Enter."
   ]
  },
  {
   "cell_type": "markdown",
   "metadata": {},
   "source": [
    "- [x] Jupyter Notebook открыт\n",
    "- [x] Весь код исполняется без ошибок\n",
    "- [x] Ячейки с кодом расположены в порядке исполнения\n",
    "- [x] Выполнено задание 1: данные загружены и изучены\n",
    "- [x] Выполнено задание 2: данные разбиты на три выборки\n",
    "- [x] Выполнено задание 3: проведено исследование моделей\n",
    "    - [x] Рассмотрено больше одной модели\n",
    "    - [x] Рассмотрено хотя бы 3 значения гипепараметров для какой-нибудь модели\n",
    "    - [x] Написаны выводы по результатам исследования\n",
    "- [x] Выполнено задание 3: Проведено тестирование\n",
    "- [x] Удалось достичь accuracy не меньше 0.75\n"
   ]
  }
 ],
 "metadata": {
  "ExecuteTimeLog": [
   {
    "duration": 378,
    "start_time": "2023-01-23T09:45:50.668Z"
   },
   {
    "duration": 134,
    "start_time": "2023-01-23T09:46:19.415Z"
   },
   {
    "duration": 19,
    "start_time": "2023-01-23T09:46:31.318Z"
   },
   {
    "duration": 12,
    "start_time": "2023-01-23T09:47:23.637Z"
   },
   {
    "duration": 815,
    "start_time": "2023-01-23T09:56:34.257Z"
   },
   {
    "duration": 11,
    "start_time": "2023-01-23T09:56:55.930Z"
   },
   {
    "duration": 4,
    "start_time": "2023-01-23T09:56:58.413Z"
   },
   {
    "duration": 31,
    "start_time": "2023-01-23T09:57:00.220Z"
   },
   {
    "duration": 12,
    "start_time": "2023-01-23T09:57:00.629Z"
   },
   {
    "duration": 14,
    "start_time": "2023-01-23T09:57:01.211Z"
   },
   {
    "duration": 19,
    "start_time": "2023-01-23T10:11:50.821Z"
   },
   {
    "duration": 4,
    "start_time": "2023-01-23T10:12:01.755Z"
   },
   {
    "duration": 3,
    "start_time": "2023-01-23T10:12:34.995Z"
   },
   {
    "duration": 4,
    "start_time": "2023-01-23T10:12:47.168Z"
   },
   {
    "duration": 11,
    "start_time": "2023-01-23T10:17:59.948Z"
   },
   {
    "duration": 6,
    "start_time": "2023-01-23T10:18:10.757Z"
   },
   {
    "duration": 8,
    "start_time": "2023-01-23T10:18:31.558Z"
   },
   {
    "duration": 4,
    "start_time": "2023-01-23T10:18:46.274Z"
   },
   {
    "duration": 5,
    "start_time": "2023-01-23T10:18:53.390Z"
   },
   {
    "duration": 4,
    "start_time": "2023-01-23T10:19:08.964Z"
   },
   {
    "duration": 5,
    "start_time": "2023-01-23T10:19:29.365Z"
   },
   {
    "duration": 50,
    "start_time": "2023-01-23T10:19:43.569Z"
   },
   {
    "duration": 66,
    "start_time": "2023-01-23T10:20:36.480Z"
   },
   {
    "duration": 9,
    "start_time": "2023-01-23T10:21:38.513Z"
   },
   {
    "duration": 4,
    "start_time": "2023-01-23T10:21:45.366Z"
   },
   {
    "duration": 4,
    "start_time": "2023-01-23T10:21:55.471Z"
   },
   {
    "duration": 4,
    "start_time": "2023-01-23T10:22:28.767Z"
   },
   {
    "duration": 4,
    "start_time": "2023-01-23T10:22:40.108Z"
   },
   {
    "duration": 68,
    "start_time": "2023-01-23T11:23:32.156Z"
   },
   {
    "duration": 2,
    "start_time": "2023-01-23T11:27:02.099Z"
   },
   {
    "duration": 8,
    "start_time": "2023-01-24T03:29:10.672Z"
   },
   {
    "duration": 1422,
    "start_time": "2023-01-24T03:52:17.220Z"
   },
   {
    "duration": 68,
    "start_time": "2023-01-24T03:52:18.645Z"
   },
   {
    "duration": 33,
    "start_time": "2023-01-24T03:52:18.718Z"
   },
   {
    "duration": 19,
    "start_time": "2023-01-24T03:52:18.754Z"
   },
   {
    "duration": 7,
    "start_time": "2023-01-24T03:52:18.776Z"
   },
   {
    "duration": 9,
    "start_time": "2023-01-24T03:52:18.785Z"
   },
   {
    "duration": 67,
    "start_time": "2023-01-24T03:52:18.796Z"
   },
   {
    "duration": 24,
    "start_time": "2023-01-24T03:52:18.865Z"
   },
   {
    "duration": 71,
    "start_time": "2023-01-24T03:52:18.891Z"
   },
   {
    "duration": 22,
    "start_time": "2023-01-24T03:52:18.965Z"
   },
   {
    "duration": 53,
    "start_time": "2023-01-24T03:52:18.989Z"
   },
   {
    "duration": 14,
    "start_time": "2023-01-24T03:52:19.044Z"
   },
   {
    "duration": 15,
    "start_time": "2023-01-24T03:52:19.060Z"
   },
   {
    "duration": 12,
    "start_time": "2023-01-24T03:52:19.077Z"
   },
   {
    "duration": 52,
    "start_time": "2023-01-24T03:52:19.091Z"
   },
   {
    "duration": 24,
    "start_time": "2023-01-24T03:52:19.148Z"
   },
   {
    "duration": 167,
    "start_time": "2023-01-24T03:53:15.559Z"
   },
   {
    "duration": 13,
    "start_time": "2023-01-24T04:02:52.699Z"
   },
   {
    "duration": 4,
    "start_time": "2023-01-24T04:03:26.855Z"
   },
   {
    "duration": 21,
    "start_time": "2023-01-24T04:03:48.689Z"
   },
   {
    "duration": 15,
    "start_time": "2023-01-24T04:04:29.535Z"
   },
   {
    "duration": 5,
    "start_time": "2023-01-24T04:04:34.899Z"
   },
   {
    "duration": 1471,
    "start_time": "2023-01-24T04:04:44.413Z"
   },
   {
    "duration": 31,
    "start_time": "2023-01-24T04:04:45.888Z"
   },
   {
    "duration": 26,
    "start_time": "2023-01-24T04:04:45.922Z"
   },
   {
    "duration": 19,
    "start_time": "2023-01-24T04:04:45.951Z"
   },
   {
    "duration": 22,
    "start_time": "2023-01-24T04:04:45.972Z"
   },
   {
    "duration": 31,
    "start_time": "2023-01-24T04:04:45.996Z"
   },
   {
    "duration": 19,
    "start_time": "2023-01-24T04:04:46.030Z"
   },
   {
    "duration": 18,
    "start_time": "2023-01-24T04:04:46.052Z"
   },
   {
    "duration": 19,
    "start_time": "2023-01-24T04:04:46.073Z"
   },
   {
    "duration": 42,
    "start_time": "2023-01-24T04:04:46.095Z"
   },
   {
    "duration": 11,
    "start_time": "2023-01-24T04:04:46.140Z"
   },
   {
    "duration": 27,
    "start_time": "2023-01-24T04:04:46.153Z"
   },
   {
    "duration": 31,
    "start_time": "2023-01-24T04:04:46.182Z"
   },
   {
    "duration": 36,
    "start_time": "2023-01-24T04:04:46.216Z"
   },
   {
    "duration": 37,
    "start_time": "2023-01-24T04:04:46.255Z"
   },
   {
    "duration": 21,
    "start_time": "2023-01-24T04:04:46.295Z"
   },
   {
    "duration": 86,
    "start_time": "2023-01-24T04:04:46.318Z"
   },
   {
    "duration": 187,
    "start_time": "2023-01-24T04:07:32.580Z"
   },
   {
    "duration": 3,
    "start_time": "2023-01-24T04:07:38.351Z"
   },
   {
    "duration": 40,
    "start_time": "2023-01-24T04:07:39.408Z"
   },
   {
    "duration": 3,
    "start_time": "2023-01-24T04:08:35.345Z"
   },
   {
    "duration": 3,
    "start_time": "2023-01-24T04:08:35.724Z"
   },
   {
    "duration": 3,
    "start_time": "2023-01-24T04:08:36.107Z"
   },
   {
    "duration": 35,
    "start_time": "2023-01-24T04:08:36.530Z"
   },
   {
    "duration": 81,
    "start_time": "2023-01-24T04:09:20.021Z"
   },
   {
    "duration": 16,
    "start_time": "2023-01-24T04:13:09.920Z"
   },
   {
    "duration": 12,
    "start_time": "2023-01-24T04:13:25.708Z"
   },
   {
    "duration": 13,
    "start_time": "2023-01-24T04:13:30.332Z"
   },
   {
    "duration": 24,
    "start_time": "2023-01-24T04:13:36.263Z"
   },
   {
    "duration": 18,
    "start_time": "2023-01-24T04:13:42.255Z"
   },
   {
    "duration": 19,
    "start_time": "2023-01-24T04:13:48.154Z"
   },
   {
    "duration": 50,
    "start_time": "2023-01-24T04:16:18.650Z"
   },
   {
    "duration": 68,
    "start_time": "2023-01-24T04:16:36.073Z"
   },
   {
    "duration": 20,
    "start_time": "2023-01-24T04:21:57.510Z"
   },
   {
    "duration": 1532,
    "start_time": "2023-01-24T04:22:11.352Z"
   },
   {
    "duration": 4,
    "start_time": "2023-01-24T04:22:18.011Z"
   },
   {
    "duration": 4487,
    "start_time": "2023-01-24T04:24:31.564Z"
   },
   {
    "duration": 2661,
    "start_time": "2023-01-24T04:25:19.379Z"
   },
   {
    "duration": 3,
    "start_time": "2023-01-24T04:47:36.210Z"
   },
   {
    "duration": 3,
    "start_time": "2023-01-24T04:48:16.472Z"
   },
   {
    "duration": 2124,
    "start_time": "2023-01-24T04:48:17.413Z"
   },
   {
    "duration": 4,
    "start_time": "2023-01-24T04:48:25.777Z"
   },
   {
    "duration": 12,
    "start_time": "2023-01-24T04:49:58.195Z"
   },
   {
    "duration": 3,
    "start_time": "2023-01-24T04:50:06.876Z"
   },
   {
    "duration": 2139,
    "start_time": "2023-01-24T04:50:07.476Z"
   },
   {
    "duration": 5,
    "start_time": "2023-01-24T04:50:13.929Z"
   },
   {
    "duration": 3,
    "start_time": "2023-01-24T04:56:30.906Z"
   },
   {
    "duration": 2079,
    "start_time": "2023-01-24T04:56:31.108Z"
   },
   {
    "duration": 5010,
    "start_time": "2023-01-24T04:57:28.562Z"
   },
   {
    "duration": 5,
    "start_time": "2023-01-24T04:58:21.465Z"
   },
   {
    "duration": 2163,
    "start_time": "2023-01-24T04:59:40.523Z"
   },
   {
    "duration": 4,
    "start_time": "2023-01-24T04:59:47.662Z"
   },
   {
    "duration": 6,
    "start_time": "2023-01-24T04:59:51.395Z"
   },
   {
    "duration": 3,
    "start_time": "2023-01-24T05:00:02.657Z"
   },
   {
    "duration": 2709,
    "start_time": "2023-01-24T05:00:03.588Z"
   },
   {
    "duration": 5,
    "start_time": "2023-01-24T05:00:09.569Z"
   },
   {
    "duration": 74,
    "start_time": "2023-01-24T05:02:09.975Z"
   },
   {
    "duration": 3,
    "start_time": "2023-01-24T05:06:16.148Z"
   },
   {
    "duration": 348,
    "start_time": "2023-01-24T05:06:17.416Z"
   },
   {
    "duration": 5,
    "start_time": "2023-01-24T05:06:26.096Z"
   },
   {
    "duration": 7,
    "start_time": "2023-01-24T05:06:35.742Z"
   },
   {
    "duration": 4,
    "start_time": "2023-01-24T05:06:53.040Z"
   },
   {
    "duration": 324,
    "start_time": "2023-01-24T05:06:53.711Z"
   },
   {
    "duration": 7,
    "start_time": "2023-01-24T05:06:56.240Z"
   },
   {
    "duration": 48,
    "start_time": "2023-01-25T15:11:17.044Z"
   },
   {
    "duration": 91,
    "start_time": "2023-01-25T15:16:38.395Z"
   },
   {
    "duration": 8,
    "start_time": "2023-01-25T15:18:46.535Z"
   },
   {
    "duration": 1186,
    "start_time": "2023-01-25T15:18:51.433Z"
   },
   {
    "duration": 133,
    "start_time": "2023-01-25T15:18:52.621Z"
   },
   {
    "duration": 308,
    "start_time": "2023-01-25T15:18:52.755Z"
   },
   {
    "duration": 11,
    "start_time": "2023-01-25T15:18:53.065Z"
   },
   {
    "duration": 6,
    "start_time": "2023-01-25T15:18:53.478Z"
   },
   {
    "duration": 68,
    "start_time": "2023-01-25T15:19:23.495Z"
   },
   {
    "duration": 4,
    "start_time": "2023-01-25T15:19:32.518Z"
   },
   {
    "duration": 60,
    "start_time": "2023-01-25T15:21:13.572Z"
   },
   {
    "duration": 55,
    "start_time": "2023-01-25T15:21:19.545Z"
   },
   {
    "duration": 8,
    "start_time": "2023-01-25T15:21:24.987Z"
   },
   {
    "duration": 8,
    "start_time": "2023-01-25T15:22:23.763Z"
   },
   {
    "duration": 23,
    "start_time": "2023-01-25T15:22:34.017Z"
   },
   {
    "duration": 47,
    "start_time": "2023-01-25T15:26:25.919Z"
   },
   {
    "duration": 2,
    "start_time": "2023-01-25T15:26:30.447Z"
   },
   {
    "duration": 3,
    "start_time": "2023-01-25T15:26:40.248Z"
   },
   {
    "duration": 13,
    "start_time": "2023-01-25T15:28:45.089Z"
   },
   {
    "duration": 7,
    "start_time": "2023-01-25T15:28:54.955Z"
   },
   {
    "duration": 3,
    "start_time": "2023-01-25T15:28:59.273Z"
   },
   {
    "duration": 2,
    "start_time": "2023-01-25T15:28:59.657Z"
   },
   {
    "duration": 5,
    "start_time": "2023-01-25T15:29:00.134Z"
   },
   {
    "duration": 4,
    "start_time": "2023-01-25T15:29:00.832Z"
   },
   {
    "duration": 4,
    "start_time": "2023-01-25T15:29:01.145Z"
   },
   {
    "duration": 5,
    "start_time": "2023-01-25T15:29:01.673Z"
   },
   {
    "duration": 4,
    "start_time": "2023-01-25T15:29:02.237Z"
   },
   {
    "duration": 3,
    "start_time": "2023-01-25T15:29:02.682Z"
   },
   {
    "duration": 4,
    "start_time": "2023-01-25T15:29:03.489Z"
   },
   {
    "duration": 4,
    "start_time": "2023-01-25T15:29:03.738Z"
   },
   {
    "duration": 3,
    "start_time": "2023-01-25T15:29:05.761Z"
   },
   {
    "duration": 3,
    "start_time": "2023-01-25T15:29:06.113Z"
   },
   {
    "duration": 3,
    "start_time": "2023-01-25T15:29:06.441Z"
   },
   {
    "duration": 14,
    "start_time": "2023-01-25T15:29:08.266Z"
   },
   {
    "duration": 16,
    "start_time": "2023-01-25T15:29:24.834Z"
   },
   {
    "duration": 33,
    "start_time": "2023-01-25T15:29:33.410Z"
   },
   {
    "duration": 33,
    "start_time": "2023-01-25T15:30:29.034Z"
   },
   {
    "duration": 31,
    "start_time": "2023-01-25T15:33:20.567Z"
   },
   {
    "duration": 2,
    "start_time": "2023-01-25T15:35:47.345Z"
   },
   {
    "duration": 1664,
    "start_time": "2023-01-25T15:35:48.540Z"
   },
   {
    "duration": 4,
    "start_time": "2023-01-25T15:35:50.905Z"
   },
   {
    "duration": 29,
    "start_time": "2023-01-25T15:36:19.346Z"
   },
   {
    "duration": 28,
    "start_time": "2023-01-25T15:36:22.146Z"
   },
   {
    "duration": 3,
    "start_time": "2023-01-25T15:36:24.227Z"
   },
   {
    "duration": 1732,
    "start_time": "2023-01-25T15:36:24.841Z"
   },
   {
    "duration": 4,
    "start_time": "2023-01-25T15:36:26.575Z"
   },
   {
    "duration": 67,
    "start_time": "2023-01-25T15:37:44.780Z"
   },
   {
    "duration": 3,
    "start_time": "2023-01-25T15:39:19.391Z"
   },
   {
    "duration": 3,
    "start_time": "2023-01-25T15:39:19.733Z"
   },
   {
    "duration": 3,
    "start_time": "2023-01-25T15:39:20.101Z"
   },
   {
    "duration": 32,
    "start_time": "2023-01-25T15:39:21.439Z"
   },
   {
    "duration": 31,
    "start_time": "2023-01-25T15:39:27.399Z"
   },
   {
    "duration": 3,
    "start_time": "2023-01-25T15:39:33.544Z"
   },
   {
    "duration": 1772,
    "start_time": "2023-01-25T15:39:33.998Z"
   },
   {
    "duration": 4,
    "start_time": "2023-01-25T15:39:35.773Z"
   },
   {
    "duration": 3,
    "start_time": "2023-01-25T15:42:34.865Z"
   },
   {
    "duration": 185,
    "start_time": "2023-01-25T15:42:35.425Z"
   },
   {
    "duration": 3,
    "start_time": "2023-01-25T15:42:36.250Z"
   },
   {
    "duration": 175,
    "start_time": "2023-01-25T15:42:45.034Z"
   },
   {
    "duration": 4,
    "start_time": "2023-01-25T15:42:46.001Z"
   },
   {
    "duration": 176,
    "start_time": "2023-01-25T15:48:48.976Z"
   },
   {
    "duration": 4,
    "start_time": "2023-01-25T15:48:50.505Z"
   },
   {
    "duration": 3,
    "start_time": "2023-01-25T15:48:53.305Z"
   },
   {
    "duration": 204,
    "start_time": "2023-01-25T15:48:53.704Z"
   },
   {
    "duration": 3,
    "start_time": "2023-01-25T15:48:54.080Z"
   },
   {
    "duration": 352,
    "start_time": "2023-01-25T15:49:01.344Z"
   },
   {
    "duration": 4,
    "start_time": "2023-01-25T15:49:01.808Z"
   },
   {
    "duration": 6,
    "start_time": "2023-01-25T15:53:24.967Z"
   },
   {
    "duration": 7,
    "start_time": "2023-01-25T15:53:56.334Z"
   },
   {
    "duration": 5,
    "start_time": "2023-01-25T15:55:58.936Z"
   },
   {
    "duration": 1083,
    "start_time": "2023-01-25T15:56:38.051Z"
   },
   {
    "duration": 28,
    "start_time": "2023-01-25T15:56:39.136Z"
   },
   {
    "duration": 15,
    "start_time": "2023-01-25T15:56:39.165Z"
   },
   {
    "duration": 14,
    "start_time": "2023-01-25T15:56:39.181Z"
   },
   {
    "duration": 20,
    "start_time": "2023-01-25T15:56:39.198Z"
   },
   {
    "duration": 5,
    "start_time": "2023-01-25T15:56:39.219Z"
   },
   {
    "duration": 7,
    "start_time": "2023-01-25T15:56:39.226Z"
   },
   {
    "duration": 4,
    "start_time": "2023-01-25T15:56:39.235Z"
   },
   {
    "duration": 15,
    "start_time": "2023-01-25T15:56:39.240Z"
   },
   {
    "duration": 3,
    "start_time": "2023-01-25T15:56:39.267Z"
   },
   {
    "duration": 4,
    "start_time": "2023-01-25T15:56:39.272Z"
   },
   {
    "duration": 7,
    "start_time": "2023-01-25T15:56:39.277Z"
   },
   {
    "duration": 5,
    "start_time": "2023-01-25T15:56:39.286Z"
   },
   {
    "duration": 7,
    "start_time": "2023-01-25T15:56:39.294Z"
   },
   {
    "duration": 16,
    "start_time": "2023-01-25T15:56:39.302Z"
   },
   {
    "duration": 5,
    "start_time": "2023-01-25T15:56:39.320Z"
   },
   {
    "duration": 4,
    "start_time": "2023-01-25T15:56:39.326Z"
   },
   {
    "duration": 5,
    "start_time": "2023-01-25T15:56:39.332Z"
   },
   {
    "duration": 5,
    "start_time": "2023-01-25T15:56:39.338Z"
   },
   {
    "duration": 47,
    "start_time": "2023-01-25T15:56:39.345Z"
   },
   {
    "duration": 3,
    "start_time": "2023-01-25T15:56:39.393Z"
   },
   {
    "duration": 1521,
    "start_time": "2023-01-25T15:56:39.397Z"
   },
   {
    "duration": 3,
    "start_time": "2023-01-25T15:56:40.920Z"
   },
   {
    "duration": 5,
    "start_time": "2023-01-25T15:56:40.925Z"
   },
   {
    "duration": 519,
    "start_time": "2023-01-25T15:56:40.931Z"
   },
   {
    "duration": 3,
    "start_time": "2023-01-25T15:56:41.451Z"
   },
   {
    "duration": 7,
    "start_time": "2023-01-25T15:56:41.466Z"
   },
   {
    "duration": 15,
    "start_time": "2023-01-25T15:56:41.475Z"
   },
   {
    "duration": 303,
    "start_time": "2023-01-25T15:57:43.443Z"
   },
   {
    "duration": 4,
    "start_time": "2023-01-25T15:57:44.099Z"
   },
   {
    "duration": 257,
    "start_time": "2023-01-25T15:57:47.442Z"
   },
   {
    "duration": 4,
    "start_time": "2023-01-25T15:57:47.842Z"
   },
   {
    "duration": 2,
    "start_time": "2023-01-25T15:57:50.164Z"
   },
   {
    "duration": 243,
    "start_time": "2023-01-25T15:57:50.618Z"
   },
   {
    "duration": 3,
    "start_time": "2023-01-25T15:57:51.059Z"
   },
   {
    "duration": 6,
    "start_time": "2023-01-25T16:20:12.491Z"
   },
   {
    "duration": 101,
    "start_time": "2023-01-25T16:20:52.611Z"
   },
   {
    "duration": 8,
    "start_time": "2023-01-25T16:21:28.858Z"
   },
   {
    "duration": 6,
    "start_time": "2023-01-25T16:26:34.473Z"
   },
   {
    "duration": 2,
    "start_time": "2023-01-25T16:36:14.150Z"
   },
   {
    "duration": 6,
    "start_time": "2023-01-25T16:36:25.135Z"
   },
   {
    "duration": 5,
    "start_time": "2023-01-25T16:37:26.959Z"
   },
   {
    "duration": 5,
    "start_time": "2023-01-25T16:38:09.400Z"
   },
   {
    "duration": 27,
    "start_time": "2023-01-25T16:44:31.286Z"
   },
   {
    "duration": 3,
    "start_time": "2023-01-25T16:44:47.680Z"
   },
   {
    "duration": 28,
    "start_time": "2023-01-25T16:44:48.484Z"
   },
   {
    "duration": 9,
    "start_time": "2023-01-25T16:44:48.811Z"
   },
   {
    "duration": 10,
    "start_time": "2023-01-25T16:44:49.115Z"
   },
   {
    "duration": 22,
    "start_time": "2023-01-25T16:44:49.895Z"
   },
   {
    "duration": 5,
    "start_time": "2023-01-25T16:44:51.603Z"
   },
   {
    "duration": 3,
    "start_time": "2023-01-25T16:44:52.355Z"
   },
   {
    "duration": 1096,
    "start_time": "2023-01-25T16:48:21.966Z"
   },
   {
    "duration": 29,
    "start_time": "2023-01-25T16:48:23.064Z"
   },
   {
    "duration": 14,
    "start_time": "2023-01-25T16:48:23.094Z"
   },
   {
    "duration": 10,
    "start_time": "2023-01-25T16:48:23.110Z"
   },
   {
    "duration": 23,
    "start_time": "2023-01-25T16:48:23.122Z"
   },
   {
    "duration": 6,
    "start_time": "2023-01-25T16:48:23.146Z"
   },
   {
    "duration": 15,
    "start_time": "2023-01-25T16:48:23.153Z"
   },
   {
    "duration": 5,
    "start_time": "2023-01-25T16:48:23.170Z"
   },
   {
    "duration": 5,
    "start_time": "2023-01-25T16:48:23.177Z"
   },
   {
    "duration": 7,
    "start_time": "2023-01-25T16:48:23.185Z"
   },
   {
    "duration": 7,
    "start_time": "2023-01-25T16:48:23.194Z"
   },
   {
    "duration": 8,
    "start_time": "2023-01-25T16:48:23.202Z"
   },
   {
    "duration": 8,
    "start_time": "2023-01-25T16:48:23.211Z"
   },
   {
    "duration": 9,
    "start_time": "2023-01-25T16:48:23.221Z"
   },
   {
    "duration": 5,
    "start_time": "2023-01-25T16:48:23.231Z"
   },
   {
    "duration": 5,
    "start_time": "2023-01-25T16:48:23.238Z"
   },
   {
    "duration": 25,
    "start_time": "2023-01-25T16:48:23.244Z"
   },
   {
    "duration": 6,
    "start_time": "2023-01-25T16:48:23.271Z"
   },
   {
    "duration": 4,
    "start_time": "2023-01-25T16:48:23.278Z"
   },
   {
    "duration": 7,
    "start_time": "2023-01-25T16:48:23.284Z"
   },
   {
    "duration": 37,
    "start_time": "2023-01-25T16:48:23.292Z"
   },
   {
    "duration": 3,
    "start_time": "2023-01-25T16:48:23.330Z"
   },
   {
    "duration": 1759,
    "start_time": "2023-01-25T16:48:23.335Z"
   },
   {
    "duration": 4,
    "start_time": "2023-01-25T16:48:25.098Z"
   },
   {
    "duration": 7,
    "start_time": "2023-01-25T16:48:25.104Z"
   },
   {
    "duration": 285,
    "start_time": "2023-01-25T16:48:25.113Z"
   },
   {
    "duration": 3,
    "start_time": "2023-01-25T16:48:25.400Z"
   },
   {
    "duration": 7,
    "start_time": "2023-01-25T16:48:25.405Z"
   },
   {
    "duration": 13,
    "start_time": "2023-01-25T16:48:25.413Z"
   },
   {
    "duration": 6,
    "start_time": "2023-01-25T16:48:25.428Z"
   },
   {
    "duration": 32,
    "start_time": "2023-01-25T16:48:25.436Z"
   },
   {
    "duration": 6,
    "start_time": "2023-01-25T16:48:25.470Z"
   },
   {
    "duration": 7,
    "start_time": "2023-01-25T16:50:13.779Z"
   },
   {
    "duration": 9,
    "start_time": "2023-01-25T16:50:14.859Z"
   },
   {
    "duration": 5,
    "start_time": "2023-01-25T16:50:15.531Z"
   },
   {
    "duration": 48,
    "start_time": "2023-01-26T04:05:30.790Z"
   },
   {
    "duration": 1159,
    "start_time": "2023-01-26T04:05:35.356Z"
   },
   {
    "duration": 131,
    "start_time": "2023-01-26T04:05:36.517Z"
   },
   {
    "duration": 17,
    "start_time": "2023-01-26T04:05:36.650Z"
   },
   {
    "duration": 13,
    "start_time": "2023-01-26T04:05:36.669Z"
   },
   {
    "duration": 30,
    "start_time": "2023-01-26T04:05:36.684Z"
   },
   {
    "duration": 9,
    "start_time": "2023-01-26T04:05:36.716Z"
   },
   {
    "duration": 27,
    "start_time": "2023-01-26T04:05:36.727Z"
   },
   {
    "duration": 16,
    "start_time": "2023-01-26T04:05:36.756Z"
   },
   {
    "duration": 20,
    "start_time": "2023-01-26T04:05:36.773Z"
   },
   {
    "duration": 33,
    "start_time": "2023-01-26T04:05:36.797Z"
   },
   {
    "duration": 28,
    "start_time": "2023-01-26T04:05:36.833Z"
   },
   {
    "duration": 11,
    "start_time": "2023-01-26T04:05:36.864Z"
   },
   {
    "duration": 11,
    "start_time": "2023-01-26T04:05:36.876Z"
   },
   {
    "duration": 14,
    "start_time": "2023-01-26T04:05:36.889Z"
   },
   {
    "duration": 20,
    "start_time": "2023-01-26T04:05:36.904Z"
   },
   {
    "duration": 11,
    "start_time": "2023-01-26T04:05:36.925Z"
   },
   {
    "duration": 19,
    "start_time": "2023-01-26T04:05:36.938Z"
   },
   {
    "duration": 9,
    "start_time": "2023-01-26T04:05:36.959Z"
   },
   {
    "duration": 15,
    "start_time": "2023-01-26T04:05:36.969Z"
   },
   {
    "duration": 10,
    "start_time": "2023-01-26T04:05:36.986Z"
   },
   {
    "duration": 42,
    "start_time": "2023-01-26T04:05:36.998Z"
   },
   {
    "duration": 5,
    "start_time": "2023-01-26T04:05:37.041Z"
   },
   {
    "duration": 1615,
    "start_time": "2023-01-26T04:05:37.047Z"
   },
   {
    "duration": 4,
    "start_time": "2023-01-26T04:05:38.664Z"
   },
   {
    "duration": 28,
    "start_time": "2023-01-26T04:05:38.669Z"
   },
   {
    "duration": 263,
    "start_time": "2023-01-26T04:05:38.698Z"
   },
   {
    "duration": 6,
    "start_time": "2023-01-26T04:05:38.962Z"
   },
   {
    "duration": 15,
    "start_time": "2023-01-26T04:05:38.970Z"
   },
   {
    "duration": 116,
    "start_time": "2023-01-26T04:05:38.987Z"
   },
   {
    "duration": 0,
    "start_time": "2023-01-26T04:05:39.105Z"
   },
   {
    "duration": 0,
    "start_time": "2023-01-26T04:05:39.106Z"
   },
   {
    "duration": 0,
    "start_time": "2023-01-26T04:05:39.108Z"
   },
   {
    "duration": 18,
    "start_time": "2023-01-26T04:05:58.040Z"
   },
   {
    "duration": 6,
    "start_time": "2023-01-26T04:06:00.436Z"
   },
   {
    "duration": 18,
    "start_time": "2023-01-26T04:06:01.488Z"
   },
   {
    "duration": 13,
    "start_time": "2023-01-26T04:06:18.290Z"
   },
   {
    "duration": 6,
    "start_time": "2023-01-26T04:06:21.851Z"
   },
   {
    "duration": 5,
    "start_time": "2023-01-26T04:06:33.537Z"
   },
   {
    "duration": 6,
    "start_time": "2023-01-26T04:07:00.714Z"
   },
   {
    "duration": 5,
    "start_time": "2023-01-26T04:21:11.253Z"
   },
   {
    "duration": 13,
    "start_time": "2023-01-26T04:21:12.766Z"
   },
   {
    "duration": 1091,
    "start_time": "2023-01-26T04:27:34.256Z"
   },
   {
    "duration": 30,
    "start_time": "2023-01-26T04:27:35.349Z"
   },
   {
    "duration": 15,
    "start_time": "2023-01-26T04:27:35.381Z"
   },
   {
    "duration": 9,
    "start_time": "2023-01-26T04:27:35.398Z"
   },
   {
    "duration": 20,
    "start_time": "2023-01-26T04:27:35.408Z"
   },
   {
    "duration": 5,
    "start_time": "2023-01-26T04:27:35.429Z"
   },
   {
    "duration": 5,
    "start_time": "2023-01-26T04:27:35.436Z"
   },
   {
    "duration": 5,
    "start_time": "2023-01-26T04:27:35.442Z"
   },
   {
    "duration": 2,
    "start_time": "2023-01-26T04:27:35.467Z"
   },
   {
    "duration": 6,
    "start_time": "2023-01-26T04:27:35.471Z"
   },
   {
    "duration": 4,
    "start_time": "2023-01-26T04:27:35.478Z"
   },
   {
    "duration": 7,
    "start_time": "2023-01-26T04:27:35.483Z"
   },
   {
    "duration": 11,
    "start_time": "2023-01-26T04:27:35.492Z"
   },
   {
    "duration": 6,
    "start_time": "2023-01-26T04:27:35.504Z"
   },
   {
    "duration": 7,
    "start_time": "2023-01-26T04:27:35.512Z"
   },
   {
    "duration": 5,
    "start_time": "2023-01-26T04:27:35.521Z"
   },
   {
    "duration": 8,
    "start_time": "2023-01-26T04:27:35.527Z"
   },
   {
    "duration": 7,
    "start_time": "2023-01-26T04:27:35.536Z"
   },
   {
    "duration": 3,
    "start_time": "2023-01-26T04:27:35.567Z"
   },
   {
    "duration": 5,
    "start_time": "2023-01-26T04:27:35.572Z"
   },
   {
    "duration": 32,
    "start_time": "2023-01-26T04:27:35.579Z"
   },
   {
    "duration": 3,
    "start_time": "2023-01-26T04:27:35.612Z"
   },
   {
    "duration": 1642,
    "start_time": "2023-01-26T04:27:35.616Z"
   },
   {
    "duration": 9,
    "start_time": "2023-01-26T04:27:37.259Z"
   },
   {
    "duration": 6,
    "start_time": "2023-01-26T04:27:37.269Z"
   },
   {
    "duration": 258,
    "start_time": "2023-01-26T04:27:37.277Z"
   },
   {
    "duration": 4,
    "start_time": "2023-01-26T04:27:37.536Z"
   },
   {
    "duration": 12,
    "start_time": "2023-01-26T04:27:37.542Z"
   },
   {
    "duration": 23,
    "start_time": "2023-01-26T04:27:37.555Z"
   },
   {
    "duration": 7,
    "start_time": "2023-01-26T04:27:37.579Z"
   },
   {
    "duration": 2093,
    "start_time": "2023-01-26T06:20:26.691Z"
   },
   {
    "duration": 67,
    "start_time": "2023-01-26T06:20:28.786Z"
   },
   {
    "duration": 17,
    "start_time": "2023-01-26T06:20:28.855Z"
   },
   {
    "duration": 12,
    "start_time": "2023-01-26T06:20:28.874Z"
   },
   {
    "duration": 31,
    "start_time": "2023-01-26T06:20:28.888Z"
   },
   {
    "duration": 7,
    "start_time": "2023-01-26T06:20:28.920Z"
   },
   {
    "duration": 9,
    "start_time": "2023-01-26T06:20:28.929Z"
   },
   {
    "duration": 7,
    "start_time": "2023-01-26T06:20:28.940Z"
   },
   {
    "duration": 15,
    "start_time": "2023-01-26T06:20:28.949Z"
   },
   {
    "duration": 16,
    "start_time": "2023-01-26T06:20:28.966Z"
   },
   {
    "duration": 9,
    "start_time": "2023-01-26T06:20:28.984Z"
   },
   {
    "duration": 11,
    "start_time": "2023-01-26T06:20:28.995Z"
   },
   {
    "duration": 11,
    "start_time": "2023-01-26T06:20:29.008Z"
   },
   {
    "duration": 6,
    "start_time": "2023-01-26T06:20:29.021Z"
   },
   {
    "duration": 9,
    "start_time": "2023-01-26T06:20:29.029Z"
   },
   {
    "duration": 13,
    "start_time": "2023-01-26T06:20:29.040Z"
   },
   {
    "duration": 6,
    "start_time": "2023-01-26T06:20:29.055Z"
   },
   {
    "duration": 7,
    "start_time": "2023-01-26T06:20:29.062Z"
   },
   {
    "duration": 5,
    "start_time": "2023-01-26T06:20:29.070Z"
   },
   {
    "duration": 6,
    "start_time": "2023-01-26T06:20:29.076Z"
   },
   {
    "duration": 34,
    "start_time": "2023-01-26T06:20:29.084Z"
   },
   {
    "duration": 3,
    "start_time": "2023-01-26T06:20:29.119Z"
   },
   {
    "duration": 1708,
    "start_time": "2023-01-26T06:20:29.123Z"
   },
   {
    "duration": 5,
    "start_time": "2023-01-26T06:20:30.833Z"
   },
   {
    "duration": 9,
    "start_time": "2023-01-26T06:20:30.840Z"
   },
   {
    "duration": 306,
    "start_time": "2023-01-26T06:20:30.851Z"
   },
   {
    "duration": 4,
    "start_time": "2023-01-26T06:20:31.159Z"
   },
   {
    "duration": 31,
    "start_time": "2023-01-26T06:20:31.165Z"
   },
   {
    "duration": 27,
    "start_time": "2023-01-26T06:20:31.198Z"
   },
   {
    "duration": 21,
    "start_time": "2023-01-26T06:20:31.227Z"
   },
   {
    "duration": 1538,
    "start_time": "2023-01-29T11:37:40.933Z"
   },
   {
    "duration": 60,
    "start_time": "2023-01-29T11:37:42.473Z"
   },
   {
    "duration": 16,
    "start_time": "2023-01-29T11:37:42.534Z"
   },
   {
    "duration": 12,
    "start_time": "2023-01-29T11:37:42.552Z"
   },
   {
    "duration": 28,
    "start_time": "2023-01-29T11:37:43.550Z"
   },
   {
    "duration": 7,
    "start_time": "2023-01-29T11:37:44.492Z"
   },
   {
    "duration": 4,
    "start_time": "2023-01-29T11:37:44.933Z"
   },
   {
    "duration": 8,
    "start_time": "2023-01-29T11:37:47.284Z"
   },
   {
    "duration": 419,
    "start_time": "2023-01-29T11:51:32.532Z"
   },
   {
    "duration": 68,
    "start_time": "2023-01-29T12:02:15.432Z"
   },
   {
    "duration": 73,
    "start_time": "2023-01-29T12:03:20.666Z"
   },
   {
    "duration": 4,
    "start_time": "2023-01-29T12:04:10.027Z"
   },
   {
    "duration": 295,
    "start_time": "2023-01-29T12:04:18.746Z"
   },
   {
    "duration": 1471,
    "start_time": "2023-01-29T12:04:40.073Z"
   },
   {
    "duration": 26,
    "start_time": "2023-01-29T12:04:41.546Z"
   },
   {
    "duration": 16,
    "start_time": "2023-01-29T12:04:41.574Z"
   },
   {
    "duration": 24,
    "start_time": "2023-01-29T12:04:41.593Z"
   },
   {
    "duration": 26,
    "start_time": "2023-01-29T12:04:41.619Z"
   },
   {
    "duration": 8,
    "start_time": "2023-01-29T12:04:41.646Z"
   },
   {
    "duration": 6,
    "start_time": "2023-01-29T12:04:41.657Z"
   },
   {
    "duration": 11,
    "start_time": "2023-01-29T12:04:41.665Z"
   },
   {
    "duration": 408,
    "start_time": "2023-01-29T12:04:41.678Z"
   },
   {
    "duration": 4,
    "start_time": "2023-01-29T12:04:42.089Z"
   },
   {
    "duration": 340,
    "start_time": "2023-01-29T12:04:42.094Z"
   },
   {
    "duration": 5,
    "start_time": "2023-01-29T12:04:42.436Z"
   },
   {
    "duration": 4,
    "start_time": "2023-01-29T12:04:42.443Z"
   },
   {
    "duration": 8,
    "start_time": "2023-01-29T12:04:42.449Z"
   },
   {
    "duration": 7,
    "start_time": "2023-01-29T12:04:42.458Z"
   },
   {
    "duration": 6,
    "start_time": "2023-01-29T12:04:42.466Z"
   },
   {
    "duration": 29,
    "start_time": "2023-01-29T12:04:42.474Z"
   },
   {
    "duration": 5,
    "start_time": "2023-01-29T12:04:42.505Z"
   },
   {
    "duration": 9,
    "start_time": "2023-01-29T12:04:42.511Z"
   },
   {
    "duration": 7,
    "start_time": "2023-01-29T12:04:42.522Z"
   },
   {
    "duration": 8,
    "start_time": "2023-01-29T12:04:42.531Z"
   },
   {
    "duration": 4,
    "start_time": "2023-01-29T12:04:42.541Z"
   },
   {
    "duration": 8,
    "start_time": "2023-01-29T12:04:42.547Z"
   },
   {
    "duration": 7,
    "start_time": "2023-01-29T12:04:42.557Z"
   },
   {
    "duration": 48,
    "start_time": "2023-01-29T12:04:42.566Z"
   },
   {
    "duration": 3,
    "start_time": "2023-01-29T12:04:42.615Z"
   },
   {
    "duration": 1618,
    "start_time": "2023-01-29T12:04:42.619Z"
   },
   {
    "duration": 5,
    "start_time": "2023-01-29T12:04:44.241Z"
   },
   {
    "duration": 11,
    "start_time": "2023-01-29T12:04:44.248Z"
   },
   {
    "duration": 251,
    "start_time": "2023-01-29T12:04:44.262Z"
   },
   {
    "duration": 5,
    "start_time": "2023-01-29T12:04:44.515Z"
   },
   {
    "duration": 28,
    "start_time": "2023-01-29T12:04:44.522Z"
   },
   {
    "duration": 22,
    "start_time": "2023-01-29T12:04:44.553Z"
   },
   {
    "duration": 29,
    "start_time": "2023-01-29T12:04:44.577Z"
   },
   {
    "duration": 3,
    "start_time": "2023-01-29T12:05:48.237Z"
   },
   {
    "duration": 2,
    "start_time": "2023-01-29T12:05:48.725Z"
   },
   {
    "duration": 2,
    "start_time": "2023-01-29T12:05:49.173Z"
   },
   {
    "duration": 33,
    "start_time": "2023-01-29T12:05:51.564Z"
   },
   {
    "duration": 4,
    "start_time": "2023-01-29T12:06:33.007Z"
   },
   {
    "duration": 1523,
    "start_time": "2023-01-29T12:06:33.446Z"
   },
   {
    "duration": 4,
    "start_time": "2023-01-29T12:06:34.971Z"
   },
   {
    "duration": 10575,
    "start_time": "2023-01-29T12:06:51.093Z"
   },
   {
    "duration": 5,
    "start_time": "2023-01-29T12:07:02.654Z"
   },
   {
    "duration": 3,
    "start_time": "2023-01-29T12:07:26.886Z"
   },
   {
    "duration": 246,
    "start_time": "2023-01-29T12:07:27.294Z"
   },
   {
    "duration": 4,
    "start_time": "2023-01-29T12:07:27.830Z"
   },
   {
    "duration": 6,
    "start_time": "2023-01-29T12:07:36.454Z"
   },
   {
    "duration": 10,
    "start_time": "2023-01-29T12:07:37.591Z"
   },
   {
    "duration": 2,
    "start_time": "2023-01-29T12:07:58.271Z"
   },
   {
    "duration": 103484,
    "start_time": "2023-01-29T12:07:58.775Z"
   },
   {
    "duration": 4,
    "start_time": "2023-01-29T12:11:22.691Z"
   },
   {
    "duration": 6,
    "start_time": "2023-01-29T12:11:37.406Z"
   },
   {
    "duration": 29,
    "start_time": "2023-01-29T12:11:38.607Z"
   },
   {
    "duration": 23,
    "start_time": "2023-01-29T12:37:04.098Z"
   },
   {
    "duration": 74,
    "start_time": "2023-01-29T12:42:39.671Z"
   },
   {
    "duration": 6,
    "start_time": "2023-01-29T12:43:08.953Z"
   },
   {
    "duration": 110,
    "start_time": "2023-01-29T12:43:35.049Z"
   },
   {
    "duration": 6,
    "start_time": "2023-01-29T12:43:40.865Z"
   },
   {
    "duration": 5,
    "start_time": "2023-01-29T12:43:42.488Z"
   },
   {
    "duration": 4,
    "start_time": "2023-01-29T12:43:43.353Z"
   },
   {
    "duration": 15,
    "start_time": "2023-01-29T12:44:04.366Z"
   },
   {
    "duration": 18,
    "start_time": "2023-01-29T12:44:52.275Z"
   },
   {
    "duration": 7,
    "start_time": "2023-01-29T12:45:21.203Z"
   },
   {
    "duration": 5,
    "start_time": "2023-01-29T12:45:23.187Z"
   },
   {
    "duration": 4,
    "start_time": "2023-01-29T12:45:23.829Z"
   },
   {
    "duration": 5,
    "start_time": "2023-01-29T12:45:24.254Z"
   },
   {
    "duration": 3,
    "start_time": "2023-01-29T12:47:40.161Z"
   },
   {
    "duration": 28,
    "start_time": "2023-01-29T12:47:40.166Z"
   },
   {
    "duration": 9,
    "start_time": "2023-01-29T12:47:40.196Z"
   },
   {
    "duration": 12,
    "start_time": "2023-01-29T12:47:40.208Z"
   },
   {
    "duration": 22,
    "start_time": "2023-01-29T12:47:40.222Z"
   },
   {
    "duration": 6,
    "start_time": "2023-01-29T12:47:40.245Z"
   },
   {
    "duration": 8,
    "start_time": "2023-01-29T12:47:40.252Z"
   },
   {
    "duration": 18,
    "start_time": "2023-01-29T12:47:40.262Z"
   },
   {
    "duration": 380,
    "start_time": "2023-01-29T12:47:40.282Z"
   },
   {
    "duration": 4,
    "start_time": "2023-01-29T12:47:40.664Z"
   },
   {
    "duration": 349,
    "start_time": "2023-01-29T12:47:40.669Z"
   },
   {
    "duration": 4,
    "start_time": "2023-01-29T12:47:41.019Z"
   },
   {
    "duration": 7,
    "start_time": "2023-01-29T12:47:41.025Z"
   },
   {
    "duration": 10,
    "start_time": "2023-01-29T12:47:41.034Z"
   },
   {
    "duration": 4,
    "start_time": "2023-01-29T12:47:41.046Z"
   },
   {
    "duration": 11,
    "start_time": "2023-01-29T12:47:41.052Z"
   },
   {
    "duration": 7,
    "start_time": "2023-01-29T12:47:41.064Z"
   },
   {
    "duration": 7,
    "start_time": "2023-01-29T12:47:41.073Z"
   },
   {
    "duration": 22,
    "start_time": "2023-01-29T12:47:41.082Z"
   },
   {
    "duration": 4,
    "start_time": "2023-01-29T12:47:41.105Z"
   },
   {
    "duration": 11,
    "start_time": "2023-01-29T12:47:41.110Z"
   },
   {
    "duration": 3,
    "start_time": "2023-01-29T12:48:23.693Z"
   },
   {
    "duration": 3,
    "start_time": "2023-01-29T12:48:23.940Z"
   },
   {
    "duration": 3,
    "start_time": "2023-01-29T12:48:24.329Z"
   },
   {
    "duration": 33,
    "start_time": "2023-01-29T12:48:25.941Z"
   },
   {
    "duration": 4,
    "start_time": "2023-01-29T12:48:30.376Z"
   },
   {
    "duration": 72,
    "start_time": "2023-01-29T12:48:31.237Z"
   },
   {
    "duration": 3,
    "start_time": "2023-01-29T12:48:39.675Z"
   },
   {
    "duration": 26751,
    "start_time": "2023-01-29T12:48:40.062Z"
   },
   {
    "duration": 4,
    "start_time": "2023-01-29T12:49:16.287Z"
   },
   {
    "duration": 92,
    "start_time": "2023-01-29T12:50:29.814Z"
   },
   {
    "duration": 7,
    "start_time": "2023-01-29T12:53:27.485Z"
   },
   {
    "duration": 19,
    "start_time": "2023-01-29T12:53:28.755Z"
   },
   {
    "duration": 1387,
    "start_time": "2023-01-29T12:54:09.535Z"
   },
   {
    "duration": 26,
    "start_time": "2023-01-29T12:54:10.924Z"
   },
   {
    "duration": 15,
    "start_time": "2023-01-29T12:54:10.951Z"
   },
   {
    "duration": 13,
    "start_time": "2023-01-29T12:54:10.968Z"
   },
   {
    "duration": 35,
    "start_time": "2023-01-29T12:54:10.985Z"
   },
   {
    "duration": 6,
    "start_time": "2023-01-29T12:54:11.021Z"
   },
   {
    "duration": 8,
    "start_time": "2023-01-29T12:54:11.029Z"
   },
   {
    "duration": 13,
    "start_time": "2023-01-29T12:54:11.038Z"
   },
   {
    "duration": 425,
    "start_time": "2023-01-29T12:54:11.053Z"
   },
   {
    "duration": 4,
    "start_time": "2023-01-29T12:54:11.480Z"
   },
   {
    "duration": 350,
    "start_time": "2023-01-29T12:54:11.485Z"
   },
   {
    "duration": 5,
    "start_time": "2023-01-29T12:54:11.837Z"
   },
   {
    "duration": 12,
    "start_time": "2023-01-29T12:54:11.843Z"
   },
   {
    "duration": 17,
    "start_time": "2023-01-29T12:54:11.859Z"
   },
   {
    "duration": 7,
    "start_time": "2023-01-29T12:54:11.879Z"
   },
   {
    "duration": 16,
    "start_time": "2023-01-29T12:54:11.888Z"
   },
   {
    "duration": 12,
    "start_time": "2023-01-29T12:54:11.906Z"
   },
   {
    "duration": 6,
    "start_time": "2023-01-29T12:54:11.920Z"
   },
   {
    "duration": 11,
    "start_time": "2023-01-29T12:54:11.928Z"
   },
   {
    "duration": 6,
    "start_time": "2023-01-29T12:54:11.940Z"
   },
   {
    "duration": 8,
    "start_time": "2023-01-29T12:54:11.948Z"
   },
   {
    "duration": 5,
    "start_time": "2023-01-29T12:54:11.957Z"
   },
   {
    "duration": 6,
    "start_time": "2023-01-29T12:54:11.964Z"
   },
   {
    "duration": 8,
    "start_time": "2023-01-29T12:54:11.971Z"
   },
   {
    "duration": 50,
    "start_time": "2023-01-29T12:54:11.981Z"
   },
   {
    "duration": 3,
    "start_time": "2023-01-29T12:54:12.032Z"
   },
   {
    "duration": 27789,
    "start_time": "2023-01-29T12:54:12.036Z"
   },
   {
    "duration": 3,
    "start_time": "2023-01-29T12:54:39.827Z"
   },
   {
    "duration": 14,
    "start_time": "2023-01-29T12:54:39.832Z"
   },
   {
    "duration": 255,
    "start_time": "2023-01-29T12:54:39.848Z"
   },
   {
    "duration": 4,
    "start_time": "2023-01-29T12:54:40.104Z"
   },
   {
    "duration": 23,
    "start_time": "2023-01-29T12:54:40.109Z"
   },
   {
    "duration": 44,
    "start_time": "2023-01-29T12:54:40.133Z"
   },
   {
    "duration": 15,
    "start_time": "2023-01-29T12:54:40.179Z"
   },
   {
    "duration": 4,
    "start_time": "2023-01-29T12:55:36.062Z"
   },
   {
    "duration": 58,
    "start_time": "2023-01-29T12:55:36.068Z"
   },
   {
    "duration": 15,
    "start_time": "2023-01-29T12:55:36.128Z"
   },
   {
    "duration": 27,
    "start_time": "2023-01-29T12:55:36.145Z"
   },
   {
    "duration": 44,
    "start_time": "2023-01-29T12:55:36.174Z"
   },
   {
    "duration": 24,
    "start_time": "2023-01-29T12:55:36.221Z"
   },
   {
    "duration": 15,
    "start_time": "2023-01-29T12:55:36.247Z"
   },
   {
    "duration": 12,
    "start_time": "2023-01-29T12:55:36.264Z"
   },
   {
    "duration": 380,
    "start_time": "2023-01-29T12:55:36.279Z"
   },
   {
    "duration": 4,
    "start_time": "2023-01-29T12:55:36.662Z"
   },
   {
    "duration": 345,
    "start_time": "2023-01-29T12:55:36.668Z"
   },
   {
    "duration": 4,
    "start_time": "2023-01-29T12:55:37.015Z"
   },
   {
    "duration": 6,
    "start_time": "2023-01-29T12:55:37.021Z"
   },
   {
    "duration": 10,
    "start_time": "2023-01-29T12:55:37.029Z"
   },
   {
    "duration": 10,
    "start_time": "2023-01-29T12:55:37.041Z"
   },
   {
    "duration": 10,
    "start_time": "2023-01-29T12:55:37.053Z"
   },
   {
    "duration": 9,
    "start_time": "2023-01-29T12:55:37.065Z"
   },
   {
    "duration": 6,
    "start_time": "2023-01-29T12:55:37.076Z"
   },
   {
    "duration": 23,
    "start_time": "2023-01-29T12:55:37.083Z"
   },
   {
    "duration": 6,
    "start_time": "2023-01-29T12:55:37.108Z"
   },
   {
    "duration": 7,
    "start_time": "2023-01-29T12:55:37.115Z"
   },
   {
    "duration": 8,
    "start_time": "2023-01-29T12:55:37.123Z"
   },
   {
    "duration": 8,
    "start_time": "2023-01-29T12:55:37.132Z"
   },
   {
    "duration": 7,
    "start_time": "2023-01-29T12:55:37.142Z"
   },
   {
    "duration": 36,
    "start_time": "2023-01-29T12:55:37.151Z"
   },
   {
    "duration": 14,
    "start_time": "2023-01-29T12:55:37.189Z"
   },
   {
    "duration": 27200,
    "start_time": "2023-01-29T12:55:37.205Z"
   },
   {
    "duration": 4,
    "start_time": "2023-01-29T12:56:04.408Z"
   },
   {
    "duration": 11,
    "start_time": "2023-01-29T12:56:04.414Z"
   },
   {
    "duration": 250,
    "start_time": "2023-01-29T12:56:04.427Z"
   },
   {
    "duration": 3,
    "start_time": "2023-01-29T12:56:04.679Z"
   },
   {
    "duration": 9,
    "start_time": "2023-01-29T12:56:04.684Z"
   },
   {
    "duration": 12,
    "start_time": "2023-01-29T12:56:04.702Z"
   },
   {
    "duration": 122,
    "start_time": "2023-01-29T12:57:51.746Z"
   },
   {
    "duration": 7,
    "start_time": "2023-01-29T13:08:56.559Z"
   },
   {
    "duration": 11,
    "start_time": "2023-01-29T13:09:32.242Z"
   },
   {
    "duration": 6,
    "start_time": "2023-01-29T13:09:47.176Z"
   },
   {
    "duration": 12,
    "start_time": "2023-01-29T13:10:17.141Z"
   },
   {
    "duration": 6,
    "start_time": "2023-01-29T13:12:25.047Z"
   },
   {
    "duration": 15,
    "start_time": "2023-01-29T13:12:25.656Z"
   },
   {
    "duration": 11,
    "start_time": "2023-01-29T13:14:52.345Z"
   },
   {
    "duration": 9,
    "start_time": "2023-01-29T13:15:31.960Z"
   },
   {
    "duration": 18,
    "start_time": "2023-01-29T13:21:49.654Z"
   },
   {
    "duration": 17,
    "start_time": "2023-01-29T13:22:04.273Z"
   },
   {
    "duration": 265159,
    "start_time": "2023-01-29T13:22:32.248Z"
   },
   {
    "duration": 21,
    "start_time": "2023-01-29T13:26:57.409Z"
   },
   {
    "duration": 33,
    "start_time": "2023-01-29T13:26:57.432Z"
   },
   {
    "duration": 80,
    "start_time": "2023-01-29T13:30:35.533Z"
   },
   {
    "duration": 92,
    "start_time": "2023-01-29T13:31:17.489Z"
   },
   {
    "duration": 75,
    "start_time": "2023-01-29T13:31:28.528Z"
   },
   {
    "duration": 898,
    "start_time": "2023-01-29T13:32:00.362Z"
   },
   {
    "duration": 68,
    "start_time": "2023-01-29T13:33:15.829Z"
   },
   {
    "duration": 1261,
    "start_time": "2023-01-29T13:33:34.476Z"
   },
   {
    "duration": 89,
    "start_time": "2023-01-29T13:33:58.452Z"
   },
   {
    "duration": 72,
    "start_time": "2023-01-29T13:34:10.520Z"
   },
   {
    "duration": 93,
    "start_time": "2023-01-29T13:34:24.541Z"
   },
   {
    "duration": 1095,
    "start_time": "2023-01-29T13:34:31.158Z"
   },
   {
    "duration": 1109,
    "start_time": "2023-01-29T13:34:39.059Z"
   },
   {
    "duration": 1330,
    "start_time": "2023-01-29T13:36:11.087Z"
   },
   {
    "duration": 1773,
    "start_time": "2023-01-29T14:46:40.956Z"
   },
   {
    "duration": 73,
    "start_time": "2023-01-29T14:46:42.732Z"
   },
   {
    "duration": 16,
    "start_time": "2023-01-29T14:46:42.807Z"
   },
   {
    "duration": 13,
    "start_time": "2023-01-29T14:46:42.824Z"
   },
   {
    "duration": 35,
    "start_time": "2023-01-29T14:46:42.839Z"
   },
   {
    "duration": 6,
    "start_time": "2023-01-29T14:46:42.876Z"
   },
   {
    "duration": 9,
    "start_time": "2023-01-29T14:46:42.884Z"
   },
   {
    "duration": 16,
    "start_time": "2023-01-29T14:46:42.896Z"
   },
   {
    "duration": 467,
    "start_time": "2023-01-29T14:46:42.914Z"
   },
   {
    "duration": 4,
    "start_time": "2023-01-29T14:46:43.383Z"
   },
   {
    "duration": 315,
    "start_time": "2023-01-29T14:46:43.389Z"
   },
   {
    "duration": 7,
    "start_time": "2023-01-29T14:46:43.706Z"
   },
   {
    "duration": 23,
    "start_time": "2023-01-29T14:46:43.715Z"
   },
   {
    "duration": 13,
    "start_time": "2023-01-29T14:46:43.742Z"
   },
   {
    "duration": 22,
    "start_time": "2023-01-29T14:46:43.760Z"
   },
   {
    "duration": 7,
    "start_time": "2023-01-29T14:46:43.784Z"
   },
   {
    "duration": 28,
    "start_time": "2023-01-29T14:46:43.793Z"
   },
   {
    "duration": 12,
    "start_time": "2023-01-29T14:46:43.823Z"
   },
   {
    "duration": 8,
    "start_time": "2023-01-29T14:46:43.837Z"
   },
   {
    "duration": 10,
    "start_time": "2023-01-29T14:46:43.846Z"
   },
   {
    "duration": 29,
    "start_time": "2023-01-29T14:46:43.859Z"
   },
   {
    "duration": 8,
    "start_time": "2023-01-29T14:46:43.890Z"
   },
   {
    "duration": 6,
    "start_time": "2023-01-29T14:46:43.900Z"
   },
   {
    "duration": 16,
    "start_time": "2023-01-29T14:46:43.908Z"
   },
   {
    "duration": 38,
    "start_time": "2023-01-29T14:46:43.926Z"
   },
   {
    "duration": 8,
    "start_time": "2023-01-29T14:46:43.966Z"
   },
   {
    "duration": 25,
    "start_time": "2023-01-29T14:46:43.975Z"
   },
   {
    "duration": 10,
    "start_time": "2023-01-29T14:46:44.001Z"
   },
   {
    "duration": 16,
    "start_time": "2023-01-29T14:46:44.012Z"
   },
   {
    "duration": 43,
    "start_time": "2023-01-29T14:46:44.029Z"
   },
   {
    "duration": 284426,
    "start_time": "2023-01-29T14:46:44.074Z"
   },
   {
    "duration": 6,
    "start_time": "2023-01-29T14:51:28.503Z"
   },
   {
    "duration": 26,
    "start_time": "2023-01-29T14:51:28.511Z"
   },
   {
    "duration": 417,
    "start_time": "2023-01-29T14:51:28.539Z"
   },
   {
    "duration": 10,
    "start_time": "2023-01-29T14:51:28.958Z"
   },
   {
    "duration": 37,
    "start_time": "2023-01-29T14:51:28.971Z"
   },
   {
    "duration": 60,
    "start_time": "2023-01-29T14:51:29.010Z"
   },
   {
    "duration": 10,
    "start_time": "2023-01-29T14:51:29.071Z"
   },
   {
    "duration": 6,
    "start_time": "2023-01-29T14:52:59.079Z"
   },
   {
    "duration": 54,
    "start_time": "2023-01-29T14:53:00.446Z"
   },
   {
    "duration": 141,
    "start_time": "2023-01-29T14:54:06.982Z"
   },
   {
    "duration": 19,
    "start_time": "2023-01-29T14:54:38.392Z"
   },
   {
    "duration": 4,
    "start_time": "2023-01-29T14:55:32.881Z"
   },
   {
    "duration": 5,
    "start_time": "2023-01-29T14:55:59.713Z"
   },
   {
    "duration": 126,
    "start_time": "2023-01-29T14:58:30.154Z"
   },
   {
    "duration": 717,
    "start_time": "2023-01-29T14:58:39.806Z"
   },
   {
    "duration": 61,
    "start_time": "2023-01-29T14:58:41.181Z"
   },
   {
    "duration": 6,
    "start_time": "2023-01-29T14:59:16.371Z"
   },
   {
    "duration": 9,
    "start_time": "2023-01-29T14:59:19.774Z"
   },
   {
    "duration": 120,
    "start_time": "2023-01-29T16:00:45.544Z"
   },
   {
    "duration": 104,
    "start_time": "2023-01-29T16:03:15.080Z"
   },
   {
    "duration": 2,
    "start_time": "2023-01-29T16:32:40.105Z"
   },
   {
    "duration": 13,
    "start_time": "2023-01-29T16:32:40.888Z"
   },
   {
    "duration": 10,
    "start_time": "2023-01-29T16:33:05.425Z"
   },
   {
    "duration": 7,
    "start_time": "2023-01-29T16:33:35.942Z"
   },
   {
    "duration": 6,
    "start_time": "2023-01-29T16:40:01.838Z"
   },
   {
    "duration": 6,
    "start_time": "2023-01-29T16:41:04.646Z"
   },
   {
    "duration": 6,
    "start_time": "2023-01-29T16:41:05.842Z"
   },
   {
    "duration": 11,
    "start_time": "2023-01-29T16:41:22.779Z"
   },
   {
    "duration": 5,
    "start_time": "2023-01-29T16:41:24.079Z"
   },
   {
    "duration": 106,
    "start_time": "2023-01-29T16:42:48.446Z"
   },
   {
    "duration": 67,
    "start_time": "2023-01-29T16:45:14.399Z"
   },
   {
    "duration": 3,
    "start_time": "2023-01-29T16:45:16.269Z"
   },
   {
    "duration": 6,
    "start_time": "2023-01-29T16:45:16.800Z"
   },
   {
    "duration": 8,
    "start_time": "2023-01-29T16:45:17.744Z"
   },
   {
    "duration": 7,
    "start_time": "2023-01-29T16:45:19.024Z"
   },
   {
    "duration": 12,
    "start_time": "2023-01-29T16:56:14.179Z"
   },
   {
    "duration": 2,
    "start_time": "2023-01-29T16:56:19.026Z"
   },
   {
    "duration": 5,
    "start_time": "2023-01-29T16:56:19.914Z"
   },
   {
    "duration": 6,
    "start_time": "2023-01-29T16:56:20.634Z"
   },
   {
    "duration": 6,
    "start_time": "2023-01-29T16:56:21.394Z"
   },
   {
    "duration": 4,
    "start_time": "2023-01-29T16:56:21.871Z"
   },
   {
    "duration": 6,
    "start_time": "2023-01-29T16:56:40.324Z"
   },
   {
    "duration": 4,
    "start_time": "2023-01-29T16:56:54.579Z"
   },
   {
    "duration": 6,
    "start_time": "2023-01-29T17:11:28.074Z"
   },
   {
    "duration": 1502,
    "start_time": "2023-01-29T17:11:35.445Z"
   },
   {
    "duration": 40,
    "start_time": "2023-01-29T17:11:36.949Z"
   },
   {
    "duration": 13,
    "start_time": "2023-01-29T17:11:36.990Z"
   },
   {
    "duration": 10,
    "start_time": "2023-01-29T17:11:37.005Z"
   },
   {
    "duration": 24,
    "start_time": "2023-01-29T17:11:37.017Z"
   },
   {
    "duration": 6,
    "start_time": "2023-01-29T17:11:37.043Z"
   },
   {
    "duration": 31,
    "start_time": "2023-01-29T17:11:37.050Z"
   },
   {
    "duration": 10,
    "start_time": "2023-01-29T17:11:37.083Z"
   },
   {
    "duration": 366,
    "start_time": "2023-01-29T17:11:37.095Z"
   },
   {
    "duration": 6,
    "start_time": "2023-01-29T17:11:37.464Z"
   },
   {
    "duration": 314,
    "start_time": "2023-01-29T17:11:37.488Z"
   },
   {
    "duration": 9,
    "start_time": "2023-01-29T17:11:37.803Z"
   },
   {
    "duration": 18,
    "start_time": "2023-01-29T17:11:37.814Z"
   },
   {
    "duration": 10,
    "start_time": "2023-01-29T17:11:37.834Z"
   },
   {
    "duration": 18,
    "start_time": "2023-01-29T17:11:37.846Z"
   },
   {
    "duration": 25,
    "start_time": "2023-01-29T17:11:37.869Z"
   },
   {
    "duration": 20,
    "start_time": "2023-01-29T17:11:37.896Z"
   },
   {
    "duration": 6,
    "start_time": "2023-01-29T17:11:37.918Z"
   },
   {
    "duration": 8,
    "start_time": "2023-01-29T17:11:37.925Z"
   },
   {
    "duration": 8,
    "start_time": "2023-01-29T17:11:37.935Z"
   },
   {
    "duration": 28,
    "start_time": "2023-01-29T17:11:37.945Z"
   },
   {
    "duration": 22,
    "start_time": "2023-01-29T17:11:37.975Z"
   },
   {
    "duration": 12,
    "start_time": "2023-01-29T17:11:37.999Z"
   },
   {
    "duration": 10,
    "start_time": "2023-01-29T17:11:38.013Z"
   },
   {
    "duration": 68,
    "start_time": "2023-01-29T17:11:38.025Z"
   },
   {
    "duration": 3,
    "start_time": "2023-01-29T17:11:38.095Z"
   },
   {
    "duration": 278567,
    "start_time": "2023-01-29T17:11:38.100Z"
   },
   {
    "duration": 4,
    "start_time": "2023-01-29T17:16:16.672Z"
   },
   {
    "duration": 9,
    "start_time": "2023-01-29T17:16:16.684Z"
   },
   {
    "duration": 250,
    "start_time": "2023-01-29T17:16:16.694Z"
   },
   {
    "duration": 7,
    "start_time": "2023-01-29T17:16:16.946Z"
   },
   {
    "duration": 30,
    "start_time": "2023-01-29T17:16:16.958Z"
   },
   {
    "duration": 129,
    "start_time": "2023-01-29T17:16:16.990Z"
   },
   {
    "duration": 4,
    "start_time": "2023-01-29T17:16:17.120Z"
   },
   {
    "duration": 8,
    "start_time": "2023-01-29T17:16:17.125Z"
   },
   {
    "duration": 666,
    "start_time": "2023-01-29T17:16:17.135Z"
   },
   {
    "duration": 63,
    "start_time": "2023-01-29T17:16:17.803Z"
   },
   {
    "duration": 5,
    "start_time": "2023-01-29T17:16:17.867Z"
   },
   {
    "duration": 31,
    "start_time": "2023-01-29T17:16:17.876Z"
   },
   {
    "duration": 7,
    "start_time": "2023-01-29T17:16:17.909Z"
   },
   {
    "duration": 7,
    "start_time": "2023-01-29T17:16:17.918Z"
   },
   {
    "duration": 9,
    "start_time": "2023-01-29T17:16:17.927Z"
   },
   {
    "duration": 21,
    "start_time": "2023-01-29T17:16:17.939Z"
   },
   {
    "duration": 40,
    "start_time": "2023-01-29T17:16:17.962Z"
   },
   {
    "duration": 13,
    "start_time": "2023-01-29T17:16:18.003Z"
   },
   {
    "duration": 6,
    "start_time": "2023-01-29T17:23:14.967Z"
   },
   {
    "duration": 16,
    "start_time": "2023-01-29T17:26:41.107Z"
   },
   {
    "duration": 9,
    "start_time": "2023-01-29T17:26:51.484Z"
   },
   {
    "duration": 5,
    "start_time": "2023-01-29T17:27:10.676Z"
   },
   {
    "duration": 3,
    "start_time": "2023-01-29T17:27:39.292Z"
   },
   {
    "duration": 3,
    "start_time": "2023-01-29T17:27:40.621Z"
   },
   {
    "duration": 1929,
    "start_time": "2023-01-29T17:27:41.836Z"
   },
   {
    "duration": 138,
    "start_time": "2023-01-29T17:27:43.767Z"
   },
   {
    "duration": 3,
    "start_time": "2023-01-29T17:28:41.646Z"
   },
   {
    "duration": 4,
    "start_time": "2023-01-29T17:28:42.101Z"
   },
   {
    "duration": 1866,
    "start_time": "2023-01-29T17:28:42.918Z"
   },
   {
    "duration": 133,
    "start_time": "2023-01-29T17:28:44.785Z"
   },
   {
    "duration": 1929,
    "start_time": "2023-01-29T17:29:38.407Z"
   },
   {
    "duration": 139,
    "start_time": "2023-01-29T17:29:40.339Z"
   },
   {
    "duration": 328,
    "start_time": "2023-01-29T17:29:49.014Z"
   },
   {
    "duration": 1894,
    "start_time": "2023-01-29T17:29:55.663Z"
   },
   {
    "duration": 134,
    "start_time": "2023-01-29T17:29:57.559Z"
   },
   {
    "duration": 1858,
    "start_time": "2023-01-29T17:30:06.463Z"
   },
   {
    "duration": 136,
    "start_time": "2023-01-29T17:30:08.323Z"
   },
   {
    "duration": 4,
    "start_time": "2023-01-29T17:31:18.075Z"
   },
   {
    "duration": 1448,
    "start_time": "2023-01-29T17:31:31.334Z"
   },
   {
    "duration": 30,
    "start_time": "2023-01-29T17:31:32.784Z"
   },
   {
    "duration": 13,
    "start_time": "2023-01-29T17:31:32.815Z"
   },
   {
    "duration": 11,
    "start_time": "2023-01-29T17:31:32.829Z"
   },
   {
    "duration": 24,
    "start_time": "2023-01-29T17:31:32.841Z"
   },
   {
    "duration": 5,
    "start_time": "2023-01-29T17:31:32.867Z"
   },
   {
    "duration": 6,
    "start_time": "2023-01-29T17:31:32.873Z"
   },
   {
    "duration": 15,
    "start_time": "2023-01-29T17:31:32.880Z"
   },
   {
    "duration": 357,
    "start_time": "2023-01-29T17:31:32.896Z"
   },
   {
    "duration": 4,
    "start_time": "2023-01-29T17:31:33.255Z"
   },
   {
    "duration": 315,
    "start_time": "2023-01-29T17:31:33.260Z"
   },
   {
    "duration": 4,
    "start_time": "2023-01-29T17:31:33.576Z"
   },
   {
    "duration": 5,
    "start_time": "2023-01-29T17:31:33.582Z"
   },
   {
    "duration": 9,
    "start_time": "2023-01-29T17:31:33.589Z"
   },
   {
    "duration": 5,
    "start_time": "2023-01-29T17:31:33.599Z"
   },
   {
    "duration": 6,
    "start_time": "2023-01-29T17:31:33.605Z"
   },
   {
    "duration": 8,
    "start_time": "2023-01-29T17:31:33.612Z"
   },
   {
    "duration": 10,
    "start_time": "2023-01-29T17:31:33.622Z"
   },
   {
    "duration": 20,
    "start_time": "2023-01-29T17:31:33.634Z"
   },
   {
    "duration": 5,
    "start_time": "2023-01-29T17:31:33.656Z"
   },
   {
    "duration": 8,
    "start_time": "2023-01-29T17:31:33.663Z"
   },
   {
    "duration": 7,
    "start_time": "2023-01-29T17:31:33.672Z"
   },
   {
    "duration": 12,
    "start_time": "2023-01-29T17:31:33.681Z"
   },
   {
    "duration": 11,
    "start_time": "2023-01-29T17:31:33.694Z"
   },
   {
    "duration": 29,
    "start_time": "2023-01-29T17:31:33.706Z"
   },
   {
    "duration": 3,
    "start_time": "2023-01-29T17:31:33.737Z"
   },
   {
    "duration": 90187,
    "start_time": "2023-01-29T17:31:33.754Z"
   },
   {
    "duration": 4,
    "start_time": "2023-01-29T17:33:03.953Z"
   },
   {
    "duration": 12,
    "start_time": "2023-01-29T17:33:03.959Z"
   },
   {
    "duration": 257,
    "start_time": "2023-01-29T17:33:03.973Z"
   },
   {
    "duration": 3,
    "start_time": "2023-01-29T17:33:04.231Z"
   },
   {
    "duration": 31,
    "start_time": "2023-01-29T17:33:04.236Z"
   },
   {
    "duration": 47,
    "start_time": "2023-01-29T17:33:04.269Z"
   },
   {
    "duration": 3,
    "start_time": "2023-01-29T17:33:04.318Z"
   },
   {
    "duration": 19,
    "start_time": "2023-01-29T17:33:04.323Z"
   },
   {
    "duration": 624,
    "start_time": "2023-01-29T17:33:04.344Z"
   },
   {
    "duration": 43,
    "start_time": "2023-01-29T17:33:04.969Z"
   },
   {
    "duration": 2,
    "start_time": "2023-01-29T17:33:05.014Z"
   },
   {
    "duration": 58,
    "start_time": "2023-01-29T17:33:05.018Z"
   },
   {
    "duration": 26,
    "start_time": "2023-01-29T17:33:05.078Z"
   },
   {
    "duration": 25,
    "start_time": "2023-01-29T17:33:05.105Z"
   },
   {
    "duration": 56,
    "start_time": "2023-01-29T17:33:05.132Z"
   },
   {
    "duration": 20,
    "start_time": "2023-01-29T17:33:05.190Z"
   },
   {
    "duration": 27,
    "start_time": "2023-01-29T17:33:05.212Z"
   }
  ],
  "kernelspec": {
   "display_name": "Python 3 (ipykernel)",
   "language": "python",
   "name": "python3"
  },
  "language_info": {
   "codemirror_mode": {
    "name": "ipython",
    "version": 3
   },
   "file_extension": ".py",
   "mimetype": "text/x-python",
   "name": "python",
   "nbconvert_exporter": "python",
   "pygments_lexer": "ipython3",
   "version": "3.9.13"
  },
  "toc": {
   "base_numbering": 1,
   "nav_menu": {},
   "number_sections": true,
   "sideBar": true,
   "skip_h1_title": true,
   "title_cell": "Table of Contents",
   "title_sidebar": "Contents",
   "toc_cell": false,
   "toc_position": {},
   "toc_section_display": true,
   "toc_window_display": false
  }
 },
 "nbformat": 4,
 "nbformat_minor": 2
}
