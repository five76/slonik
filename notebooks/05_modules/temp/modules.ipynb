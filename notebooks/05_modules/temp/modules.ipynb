{
 "cells": [
  {
   "cell_type": "markdown",
   "id": "0387d71f",
   "metadata": {},
   "source": [
    "## Модули"
   ]
  },
  {
   "cell_type": "markdown",
   "id": "36174bfb",
   "metadata": {},
   "source": [
    "Модуль в языке Python – самой крупная организационной программной единицы, которая вмещает в себя программный код и данные, готовые для многократного использования. Модули в языке Python обычно соответствуют файлам программ (или расширениям, написанным на других языках программирования, таких как C, Java или C#). Каждый файл – это отдельный модуль, и модули могут импортировать другие модули для доступа к именам, которые в них определены. Файл имеет расширение **.py**\n",
    "\n",
    "Обработка модулей выполняется двумя инструкциями:\n",
    "\n",
    "- **import** позволяет клиентам (импортерам) получать модуль целиком.\n",
    "- **from** позволяет клиентам получать определенные имена из модуля.\n",
    "\n",
    "Модули обеспечивают простой способ организации компонентов в систему автономных пакетов переменных, известных как *пространства\n",
    "имен*. Все имена, определяемые на верхнем уровне модуля, становятся атрибутами объекта импортируемого модуля."
   ]
  },
  {
   "cell_type": "markdown",
   "id": "4ef70868",
   "metadata": {},
   "source": [
    "Назначение модулей:\n",
    "\n",
    "- **Повторное использование программного кода**\n",
    "\n",
    "Модули позволяют сохранять программный код в виде файлов. Программный код в файлах модулей хранится постоянно – его можно повторно загружать и запускать столько раз, сколько потребуется. Также это место, где определяются имена, известные как атрибуты, на которые могут ссылаться множество внешних клиентов.\n",
    "\n",
    "- **Разделение системы пространств имен**\n",
    "\n",
    "Модули позволяют изолировать имена в замкнутые пакеты, которые позволяют избежать конфликтов имен – вы никогда не увидите имя в другом файле, если не импортируете его. Фактически все, что находится в модуле, – выполняемый программный код и создаваемые объекты – всегда неявно включается в модули. \n",
    "\n",
    "- **Реализация служб или данных для совместного пользования**\n",
    "\n",
    "С функциональной точки зрения модули могут также использоваться для реализации компонентов, используемых системой, вследствие чего требуется только одна копия такого компонента. Например, если необходим глобальный объект, который используется более чем одной функцией или модулем, можно написать его в виде модуля, который затем может импортироваться множеством клиентов.\n"
   ]
  },
  {
   "cell_type": "markdown",
   "id": "8caae14c",
   "metadata": {},
   "source": [
    "Как правило, программа на языке Python состоит из множества текстовых файлов, содержащих инструкции. Программа организована как один главный файл, к которому могут подключаться дополнительные файлы, известные как модули.\n",
    "\n",
    "**Главный файл** (или сценарий) определяет, как будет двигаться основной поток выполнения программы, – это тот файл, который необходимо запустить, чтобы начать работу приложения. \n",
    "\n",
    "**Файлы модулей** – это библиотеки инструментальных средств, где содержатся компоненты, используемые главным файлом.\n",
    "\n",
    "Главный файл использует инструменты, определенные в файлах модулей, а модули используют инструменты, определенные в других модулях. Файлы модулей ничего не делают, если попытаться запустить их отдельно. Чтобы получить доступ к определенным в модуле инструментам необходимо **импортировать** этот модуль. "
   ]
  },
  {
   "attachments": {
    "image.png": {
     "image/png": "[encoded data removed]"
    }
   },
   "cell_type": "markdown",
   "id": "d62b1894",
   "metadata": {},
   "source": [
    "**Пример:**\n",
    "\n",
    "Структура программы состоит из трех файлов. a.py, b.py, c.py.\n",
    "![image.png](attachment:image.png)\n",
    "Файл a.py  - главный файл программы, является простым текстовым файлом, состоящим из инструкций, который при запуске выполняется от начала и до конца. \n",
    "\n",
    "Файлы b.py и c.py – это модули, они также являются простыми текстовыми файлами, содержащими инструкции, но они не запускаются как самостоятельные программы, импортируются другими файлами для использования их функциональности."
   ]
  },
  {
   "cell_type": "markdown",
   "id": "1e98681e",
   "metadata": {},
   "source": [
    "**Модуль b.py**"
   ]
  },
  {
   "cell_type": "code",
   "execution_count": 1,
   "id": "f2445ab5",
   "metadata": {},
   "outputs": [],
   "source": [
    "def spam(text):\n",
    "    print(text, 'spam')"
   ]
  },
  {
   "cell_type": "markdown",
   "id": "5eab1485",
   "metadata": {},
   "source": [
    "**Модуль a.py**"
   ]
  },
  {
   "cell_type": "code",
   "execution_count": 2,
   "id": "a4e310b4",
   "metadata": {},
   "outputs": [
    {
     "name": "stdout",
     "output_type": "stream",
     "text": [
      "gumby spam\n"
     ]
    }
   ],
   "source": [
    "import b\n",
    "b.spam('gumby')"
   ]
  },
  {
   "cell_type": "code",
   "execution_count": 1,
   "id": "a5e1caee",
   "metadata": {},
   "outputs": [],
   "source": [
    "import squares"
   ]
  },
  {
   "cell_type": "code",
   "execution_count": 2,
   "id": "1d15dfa5",
   "metadata": {},
   "outputs": [
    {
     "name": "stdout",
     "output_type": "stream",
     "text": [
      "6.0\n"
     ]
    }
   ],
   "source": [
    "print(squares.triangle(3,4,5))"
   ]
  },
  {
   "cell_type": "code",
   "execution_count": 3,
   "id": "46c1bf48",
   "metadata": {},
   "outputs": [
    {
     "name": "stdout",
     "output_type": "stream",
     "text": [
      "10.0\n"
     ]
    }
   ],
   "source": [
    "print(squares.triangle(4,5))"
   ]
  },
  {
   "cell_type": "code",
   "execution_count": 4,
   "id": "6ce67719",
   "metadata": {},
   "outputs": [
    {
     "name": "stdout",
     "output_type": "stream",
     "text": [
      "Некорректный ввод данных\n",
      "None\n"
     ]
    }
   ],
   "source": [
    "print(squares.triangle(3))"
   ]
  },
  {
   "cell_type": "code",
   "execution_count": 5,
   "id": "48c6b5e8",
   "metadata": {},
   "outputs": [
    {
     "name": "stdout",
     "output_type": "stream",
     "text": [
      "28.27\n"
     ]
    }
   ],
   "source": [
    "print(squares.circle(3))"
   ]
  },
  {
   "cell_type": "code",
   "execution_count": 6,
   "id": "61e16cb3",
   "metadata": {},
   "outputs": [
    {
     "name": "stdout",
     "output_type": "stream",
     "text": [
      "20\n"
     ]
    }
   ],
   "source": [
    "print(squares.rectangle(4,5))"
   ]
  },
  {
   "cell_type": "code",
   "execution_count": null,
   "id": "61a9e694",
   "metadata": {},
   "outputs": [],
   "source": []
  },
  {
   "cell_type": "code",
   "execution_count": 1,
   "id": "90dee2fe",
   "metadata": {},
   "outputs": [],
   "source": [
    "from squares import triangle \n",
    "from squares import circle"
   ]
  },
  {
   "cell_type": "code",
   "execution_count": 2,
   "id": "ef5bcaa7",
   "metadata": {},
   "outputs": [
    {
     "name": "stdout",
     "output_type": "stream",
     "text": [
      "6.0\n"
     ]
    }
   ],
   "source": [
    "print(triangle(3,4,5))"
   ]
  },
  {
   "cell_type": "code",
   "execution_count": 3,
   "id": "e1134d7e",
   "metadata": {},
   "outputs": [
    {
     "name": "stdout",
     "output_type": "stream",
     "text": [
      "28.27\n"
     ]
    }
   ],
   "source": [
    "print(circle(3))"
   ]
  },
  {
   "cell_type": "code",
   "execution_count": 4,
   "id": "e7f7f492",
   "metadata": {},
   "outputs": [
    {
     "ename": "NameError",
     "evalue": "name 'rectangle' is not defined",
     "output_type": "error",
     "traceback": [
      "\u001b[1;31m---------------------------------------------------------------------------\u001b[0m",
      "\u001b[1;31mNameError\u001b[0m                                 Traceback (most recent call last)",
      "Cell \u001b[1;32mIn[4], line 1\u001b[0m\n\u001b[1;32m----> 1\u001b[0m \u001b[38;5;28mprint\u001b[39m(rectangle(\u001b[38;5;241m4\u001b[39m,\u001b[38;5;241m5\u001b[39m))\n",
      "\u001b[1;31mNameError\u001b[0m: name 'rectangle' is not defined"
     ]
    }
   ],
   "source": [
    "print(rectangle(4,5))"
   ]
  },
  {
   "cell_type": "code",
   "execution_count": 5,
   "id": "d6267d9f",
   "metadata": {},
   "outputs": [
    {
     "ename": "NameError",
     "evalue": "name 'squares' is not defined",
     "output_type": "error",
     "traceback": [
      "\u001b[1;31m---------------------------------------------------------------------------\u001b[0m",
      "\u001b[1;31mNameError\u001b[0m                                 Traceback (most recent call last)",
      "Cell \u001b[1;32mIn[5], line 1\u001b[0m\n\u001b[1;32m----> 1\u001b[0m \u001b[38;5;28mprint\u001b[39m(squares\u001b[38;5;241m.\u001b[39mcircle(\u001b[38;5;241m3\u001b[39m))\n",
      "\u001b[1;31mNameError\u001b[0m: name 'squares' is not defined"
     ]
    }
   ],
   "source": [
    "print(squares.circle(3))"
   ]
  },
  {
   "cell_type": "code",
   "execution_count": 4,
   "id": "2734e51d",
   "metadata": {},
   "outputs": [],
   "source": [
    "from squares import triangle as tr\n",
    "from squares import circle as cir"
   ]
  },
  {
   "cell_type": "code",
   "execution_count": 5,
   "id": "46d2e66a",
   "metadata": {},
   "outputs": [
    {
     "name": "stdout",
     "output_type": "stream",
     "text": [
      "6.0\n"
     ]
    }
   ],
   "source": [
    "print(tr(3,4,5))"
   ]
  },
  {
   "cell_type": "code",
   "execution_count": 6,
   "id": "ac0115e0",
   "metadata": {},
   "outputs": [
    {
     "name": "stdout",
     "output_type": "stream",
     "text": [
      "28.27\n"
     ]
    }
   ],
   "source": [
    "print(cir(3))"
   ]
  },
  {
   "cell_type": "code",
   "execution_count": null,
   "id": "d1790b74",
   "metadata": {},
   "outputs": [],
   "source": []
  },
  {
   "cell_type": "code",
   "execution_count": 7,
   "id": "77fd4ffc",
   "metadata": {},
   "outputs": [
    {
     "name": "stdout",
     "output_type": "stream",
     "text": [
      "3 6 9\n",
      "0.0\n"
     ]
    }
   ],
   "source": [
    "a, b, c = list(map(int,input().split()))\n",
    "print(tr(a,b,c))"
   ]
  },
  {
   "cell_type": "code",
   "execution_count": 8,
   "id": "b9fb7267",
   "metadata": {},
   "outputs": [
    {
     "data": {
      "text/plain": [
       "254.47"
      ]
     },
     "execution_count": 8,
     "metadata": {},
     "output_type": "execute_result"
    }
   ],
   "source": [
    "cir(c)"
   ]
  },
  {
   "cell_type": "code",
   "execution_count": 9,
   "id": "41e1a7de",
   "metadata": {},
   "outputs": [],
   "source": [
    "import sys"
   ]
  },
  {
   "cell_type": "code",
   "execution_count": 10,
   "id": "5fa798f2",
   "metadata": {},
   "outputs": [
    {
     "data": {
      "text/plain": [
       "['C:\\\\Users\\\\Admin\\\\python_files',\n",
       " 'C:\\\\ProgramData\\\\anaconda3\\\\python311.zip',\n",
       " 'C:\\\\ProgramData\\\\anaconda3\\\\DLLs',\n",
       " 'C:\\\\ProgramData\\\\anaconda3\\\\Lib',\n",
       " 'C:\\\\ProgramData\\\\anaconda3',\n",
       " '',\n",
       " 'C:\\\\Users\\\\Admin\\\\AppData\\\\Roaming\\\\Python\\\\Python311\\\\site-packages',\n",
       " 'C:\\\\ProgramData\\\\anaconda3\\\\Lib\\\\site-packages',\n",
       " 'C:\\\\ProgramData\\\\anaconda3\\\\Lib\\\\site-packages\\\\win32',\n",
       " 'C:\\\\ProgramData\\\\anaconda3\\\\Lib\\\\site-packages\\\\win32\\\\lib',\n",
       " 'C:\\\\ProgramData\\\\anaconda3\\\\Lib\\\\site-packages\\\\Pythonwin']"
      ]
     },
     "execution_count": 10,
     "metadata": {},
     "output_type": "execute_result"
    }
   ],
   "source": [
    "sys.path"
   ]
  },
  {
   "cell_type": "code",
   "execution_count": null,
   "id": "8d82ae3c",
   "metadata": {},
   "outputs": [],
   "source": [
    "import"
   ]
  }
 ],
 "metadata": {
  "kernelspec": {
   "display_name": "Python 3 (ipykernel)",
   "language": "python",
   "name": "python3"
  },
  "language_info": {
   "codemirror_mode": {
    "name": "ipython",
    "version": 3
   },
   "file_extension": ".py",
   "mimetype": "text/x-python",
   "name": "python",
   "nbconvert_exporter": "python",
   "pygments_lexer": "ipython3",
   "version": "3.11.5"
  },
  "toc": {
   "base_numbering": 1,
   "nav_menu": {},
   "number_sections": true,
   "sideBar": true,
   "skip_h1_title": false,
   "title_cell": "Table of Contents",
   "title_sidebar": "Contents",
   "toc_cell": false,
   "toc_position": {},
   "toc_section_display": true,
   "toc_window_display": false
  }
 },
 "nbformat": 4,
 "nbformat_minor": 5
}
