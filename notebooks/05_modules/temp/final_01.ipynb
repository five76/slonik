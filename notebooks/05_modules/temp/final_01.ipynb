{
 "cells": [
  {
   "cell_type": "markdown",
   "id": "6f9b339c",
   "metadata": {},
   "source": [
    "# Проект \"Кто следущий?\""
   ]
  },
  {
   "cell_type": "markdown",
   "id": "2f3e2f2c",
   "metadata": {},
   "source": [
    "## Описание проекта\n",
    "\n",
    "Оператор связи «Ниединогоразрыва.ком» хочет научиться прогнозировать отток клиентов. Если выяснится, что пользователь планирует уйти, ему будут предложены промокоды и специальные условия. Команда оператора собрала персональные данные о некоторых клиентах, информацию об их тарифах и договорах.\n",
    "\n",
    "### Описание услуг\n",
    "\n",
    "Оператор предоставляет два основных типа услуг: \n",
    "\n",
    "1. Стационарную телефонную связь. Возможно подключение телефонного аппарата к нескольким линиям одновременно.\n",
    "2. Интернет. Подключение может быть двух типов: через телефонную линию (DSL*,* от англ. *digital subscriber line*, «цифровая абонентская линия») или оптоволоконный кабель (*Fiber optic*).  \n",
    "\n",
    "Также доступны такие услуги:\n",
    "\n",
    "- Интернет-безопасность: антивирус (*DeviceProtection*) и блокировка небезопасных сайтов (*OnlineSecurity*);\n",
    "- Выделенная линия технической поддержки (*TechSupport*);\n",
    "- Облачное хранилище файлов для резервного копирования данных (*OnlineBackup*);\n",
    "- Стриминговое телевидение (*StreamingTV*) и каталог фильмов (*StreamingMovies*).\n",
    "\n",
    "За услуги клиенты могут платить каждый месяц или заключить договор на 1–2 года. Доступны различные способы расчёта и возможность получения электронного чека.\n",
    "\n",
    "### Описание данных\n",
    "\n",
    "Данные состоят из файлов, полученных из разных источников:\n",
    "\n",
    "- `contract_new.csv` — информация о договоре;\n",
    "- `personal_new.csv` — персональные данные клиента;\n",
    "- `internet_new.csv` — информация об интернет-услугах;\n",
    "- `phone_new.csv` — информация об услугах телефонии.\n",
    "\n",
    "Во всех файлах столбец `customerID` содержит код клиента.\n",
    "\n",
    "Информация о договорах актуальна на 1 февраля 2020."
   ]
  },
  {
   "cell_type": "markdown",
   "id": "5151fef5",
   "metadata": {},
   "source": [
    "### Цель проекта\n",
    "\n",
    "Создать модель, позволяющую на основе данных, предоставленных провайдером выявлять клиентов, которые потенциально могут расторгнуть договор обслуживания."
   ]
  },
  {
   "cell_type": "code",
   "execution_count": 1,
   "id": "68367cb4",
   "metadata": {},
   "outputs": [
    {
     "name": "stdout",
     "output_type": "stream",
     "text": [
      "Requirement already satisfied: skimpy in c:\\users\\demo2023\\appdata\\local\\anaconda3\\lib\\site-packages (0.0.8)\n",
      "Requirement already satisfied: numpy<2.0.0,>=1.22.2 in c:\\users\\demo2023\\appdata\\local\\anaconda3\\lib\\site-packages (from skimpy) (1.23.5)\n",
      "Requirement already satisfied: click<9.0.0,>=8.1.3 in c:\\users\\demo2023\\appdata\\local\\anaconda3\\lib\\site-packages (from skimpy) (8.1.3)\n",
      "Requirement already satisfied: pandas<2.0.0,>=1.3.2 in c:\\users\\demo2023\\appdata\\local\\anaconda3\\lib\\site-packages (from skimpy) (1.5.3)\n",
      "Requirement already satisfied: Pygments<3.0.0,>=2.10.0 in c:\\users\\demo2023\\appdata\\local\\anaconda3\\lib\\site-packages (from skimpy) (2.11.2)\n",
      "Requirement already satisfied: rich<13.0,>=10.9 in c:\\users\\demo2023\\appdata\\local\\anaconda3\\lib\\site-packages (from skimpy) (12.6.0)\n",
      "Requirement already satisfied: ipykernel<7.0.0,>=6.7.0 in c:\\users\\demo2023\\appdata\\local\\anaconda3\\lib\\site-packages (from skimpy) (6.19.2)\n",
      "Requirement already satisfied: typeguard<3.0.0,>=2.12.1 in c:\\users\\demo2023\\appdata\\local\\anaconda3\\lib\\site-packages (from skimpy) (2.13.3)\n",
      "Requirement already satisfied: jupyter<2.0.0,>=1.0.0 in c:\\users\\demo2023\\appdata\\local\\anaconda3\\lib\\site-packages (from skimpy) (1.0.0)\n",
      "Requirement already satisfied: colorama in c:\\users\\demo2023\\appdata\\local\\anaconda3\\lib\\site-packages (from click<9.0.0,>=8.1.3->skimpy) (0.4.6)\n",
      "Requirement already satisfied: nest-asyncio in c:\\users\\demo2023\\appdata\\local\\anaconda3\\lib\\site-packages (from ipykernel<7.0.0,>=6.7.0->skimpy) (1.5.6)\n",
      "Requirement already satisfied: debugpy>=1.0 in c:\\users\\demo2023\\appdata\\local\\anaconda3\\lib\\site-packages (from ipykernel<7.0.0,>=6.7.0->skimpy) (1.5.1)\n",
      "Requirement already satisfied: traitlets>=5.4.0 in c:\\users\\demo2023\\appdata\\local\\anaconda3\\lib\\site-packages (from ipykernel<7.0.0,>=6.7.0->skimpy) (5.7.1)\n",
      "Requirement already satisfied: ipython>=7.23.1 in c:\\users\\demo2023\\appdata\\local\\anaconda3\\lib\\site-packages (from ipykernel<7.0.0,>=6.7.0->skimpy) (8.10.0)\n",
      "Requirement already satisfied: tornado>=6.1 in c:\\users\\demo2023\\appdata\\local\\anaconda3\\lib\\site-packages (from ipykernel<7.0.0,>=6.7.0->skimpy) (6.1)\n",
      "Requirement already satisfied: comm>=0.1.1 in c:\\users\\demo2023\\appdata\\local\\anaconda3\\lib\\site-packages (from ipykernel<7.0.0,>=6.7.0->skimpy) (0.1.2)\n",
      "Requirement already satisfied: jupyter-client>=6.1.12 in c:\\users\\demo2023\\appdata\\local\\anaconda3\\lib\\site-packages (from ipykernel<7.0.0,>=6.7.0->skimpy) (7.3.4)\n",
      "Requirement already satisfied: pyzmq>=17 in c:\\users\\demo2023\\appdata\\local\\anaconda3\\lib\\site-packages (from ipykernel<7.0.0,>=6.7.0->skimpy) (23.2.0)\n",
      "Requirement already satisfied: psutil in c:\\users\\demo2023\\appdata\\local\\anaconda3\\lib\\site-packages (from ipykernel<7.0.0,>=6.7.0->skimpy) (5.9.0)\n",
      "Requirement already satisfied: packaging in c:\\users\\demo2023\\appdata\\local\\anaconda3\\lib\\site-packages (from ipykernel<7.0.0,>=6.7.0->skimpy) (22.0)\n",
      "Requirement already satisfied: matplotlib-inline>=0.1 in c:\\users\\demo2023\\appdata\\local\\anaconda3\\lib\\site-packages (from ipykernel<7.0.0,>=6.7.0->skimpy) (0.1.6)\n",
      "Requirement already satisfied: nbconvert in c:\\users\\demo2023\\appdata\\local\\anaconda3\\lib\\site-packages (from jupyter<2.0.0,>=1.0.0->skimpy) (6.5.4)\n",
      "Requirement already satisfied: qtconsole in c:\\users\\demo2023\\appdata\\local\\anaconda3\\lib\\site-packages (from jupyter<2.0.0,>=1.0.0->skimpy) (5.4.0)\n",
      "Requirement already satisfied: ipywidgets in c:\\users\\demo2023\\appdata\\local\\anaconda3\\lib\\site-packages (from jupyter<2.0.0,>=1.0.0->skimpy) (7.6.5)\n",
      "Requirement already satisfied: jupyter-console in c:\\users\\demo2023\\appdata\\local\\anaconda3\\lib\\site-packages (from jupyter<2.0.0,>=1.0.0->skimpy) (6.6.2)\n",
      "Requirement already satisfied: notebook in c:\\users\\demo2023\\appdata\\local\\anaconda3\\lib\\site-packages (from jupyter<2.0.0,>=1.0.0->skimpy) (6.5.2)\n",
      "Requirement already satisfied: python-dateutil>=2.8.1 in c:\\users\\demo2023\\appdata\\local\\anaconda3\\lib\\site-packages (from pandas<2.0.0,>=1.3.2->skimpy) (2.8.2)\n",
      "Requirement already satisfied: pytz>=2020.1 in c:\\users\\demo2023\\appdata\\local\\anaconda3\\lib\\site-packages (from pandas<2.0.0,>=1.3.2->skimpy) (2022.7)\n",
      "Requirement already satisfied: commonmark<0.10.0,>=0.9.0 in c:\\users\\demo2023\\appdata\\local\\anaconda3\\lib\\site-packages (from rich<13.0,>=10.9->skimpy) (0.9.1)\n",
      "Requirement already satisfied: prompt-toolkit<3.1.0,>=3.0.30 in c:\\users\\demo2023\\appdata\\local\\anaconda3\\lib\\site-packages (from ipython>=7.23.1->ipykernel<7.0.0,>=6.7.0->skimpy) (3.0.36)\n",
      "Requirement already satisfied: jedi>=0.16 in c:\\users\\demo2023\\appdata\\local\\anaconda3\\lib\\site-packages (from ipython>=7.23.1->ipykernel<7.0.0,>=6.7.0->skimpy) (0.18.1)\n",
      "Requirement already satisfied: backcall in c:\\users\\demo2023\\appdata\\local\\anaconda3\\lib\\site-packages (from ipython>=7.23.1->ipykernel<7.0.0,>=6.7.0->skimpy) (0.2.0)\n",
      "Requirement already satisfied: stack-data in c:\\users\\demo2023\\appdata\\local\\anaconda3\\lib\\site-packages (from ipython>=7.23.1->ipykernel<7.0.0,>=6.7.0->skimpy) (0.2.0)\n",
      "Requirement already satisfied: decorator in c:\\users\\demo2023\\appdata\\local\\anaconda3\\lib\\site-packages (from ipython>=7.23.1->ipykernel<7.0.0,>=6.7.0->skimpy) (5.1.1)\n",
      "Requirement already satisfied: pickleshare in c:\\users\\demo2023\\appdata\\local\\anaconda3\\lib\\site-packages (from ipython>=7.23.1->ipykernel<7.0.0,>=6.7.0->skimpy) (0.7.5)\n",
      "Requirement already satisfied: entrypoints in c:\\users\\demo2023\\appdata\\local\\anaconda3\\lib\\site-packages (from jupyter-client>=6.1.12->ipykernel<7.0.0,>=6.7.0->skimpy) (0.4)\n",
      "Requirement already satisfied: jupyter-core>=4.9.2 in c:\\users\\demo2023\\appdata\\local\\anaconda3\\lib\\site-packages (from jupyter-client>=6.1.12->ipykernel<7.0.0,>=6.7.0->skimpy) (5.2.0)\n",
      "Requirement already satisfied: six>=1.5 in c:\\users\\demo2023\\appdata\\local\\anaconda3\\lib\\site-packages (from python-dateutil>=2.8.1->pandas<2.0.0,>=1.3.2->skimpy) (1.16.0)\n",
      "Requirement already satisfied: jupyterlab-widgets>=1.0.0 in c:\\users\\demo2023\\appdata\\local\\anaconda3\\lib\\site-packages (from ipywidgets->jupyter<2.0.0,>=1.0.0->skimpy) (1.0.0)\n",
      "Requirement already satisfied: ipython-genutils~=0.2.0 in c:\\users\\demo2023\\appdata\\local\\anaconda3\\lib\\site-packages (from ipywidgets->jupyter<2.0.0,>=1.0.0->skimpy) (0.2.0)\n",
      "Requirement already satisfied: widgetsnbextension~=3.5.0 in c:\\users\\demo2023\\appdata\\local\\anaconda3\\lib\\site-packages (from ipywidgets->jupyter<2.0.0,>=1.0.0->skimpy) (3.5.2)\n",
      "Requirement already satisfied: nbformat>=4.2.0 in c:\\users\\demo2023\\appdata\\local\\anaconda3\\lib\\site-packages (from ipywidgets->jupyter<2.0.0,>=1.0.0->skimpy) (5.7.0)\n",
      "Requirement already satisfied: tinycss2 in c:\\users\\demo2023\\appdata\\local\\anaconda3\\lib\\site-packages (from nbconvert->jupyter<2.0.0,>=1.0.0->skimpy) (1.2.1)\n",
      "Requirement already satisfied: jinja2>=3.0 in c:\\users\\demo2023\\appdata\\local\\anaconda3\\lib\\site-packages (from nbconvert->jupyter<2.0.0,>=1.0.0->skimpy) (3.1.2)\n",
      "Requirement already satisfied: pandocfilters>=1.4.1 in c:\\users\\demo2023\\appdata\\local\\anaconda3\\lib\\site-packages (from nbconvert->jupyter<2.0.0,>=1.0.0->skimpy) (1.5.0)\n",
      "Requirement already satisfied: lxml in c:\\users\\demo2023\\appdata\\local\\anaconda3\\lib\\site-packages (from nbconvert->jupyter<2.0.0,>=1.0.0->skimpy) (4.9.1)\n",
      "Requirement already satisfied: defusedxml in c:\\users\\demo2023\\appdata\\local\\anaconda3\\lib\\site-packages (from nbconvert->jupyter<2.0.0,>=1.0.0->skimpy) (0.7.1)\n",
      "Requirement already satisfied: nbclient>=0.5.0 in c:\\users\\demo2023\\appdata\\local\\anaconda3\\lib\\site-packages (from nbconvert->jupyter<2.0.0,>=1.0.0->skimpy) (0.5.13)\n",
      "Requirement already satisfied: mistune<2,>=0.8.1 in c:\\users\\demo2023\\appdata\\local\\anaconda3\\lib\\site-packages (from nbconvert->jupyter<2.0.0,>=1.0.0->skimpy) (0.8.4)\n",
      "Requirement already satisfied: jupyterlab-pygments in c:\\users\\demo2023\\appdata\\local\\anaconda3\\lib\\site-packages (from nbconvert->jupyter<2.0.0,>=1.0.0->skimpy) (0.1.2)\n",
      "Requirement already satisfied: bleach in c:\\users\\demo2023\\appdata\\local\\anaconda3\\lib\\site-packages (from nbconvert->jupyter<2.0.0,>=1.0.0->skimpy) (4.1.0)\n",
      "Requirement already satisfied: beautifulsoup4 in c:\\users\\demo2023\\appdata\\local\\anaconda3\\lib\\site-packages (from nbconvert->jupyter<2.0.0,>=1.0.0->skimpy) (4.11.1)\n",
      "Requirement already satisfied: MarkupSafe>=2.0 in c:\\users\\demo2023\\appdata\\local\\anaconda3\\lib\\site-packages (from nbconvert->jupyter<2.0.0,>=1.0.0->skimpy) (2.1.1)\n",
      "Requirement already satisfied: prometheus-client in c:\\users\\demo2023\\appdata\\local\\anaconda3\\lib\\site-packages (from notebook->jupyter<2.0.0,>=1.0.0->skimpy) (0.14.1)\n",
      "Requirement already satisfied: Send2Trash>=1.8.0 in c:\\users\\demo2023\\appdata\\local\\anaconda3\\lib\\site-packages (from notebook->jupyter<2.0.0,>=1.0.0->skimpy) (1.8.0)\n",
      "Requirement already satisfied: terminado>=0.8.3 in c:\\users\\demo2023\\appdata\\local\\anaconda3\\lib\\site-packages (from notebook->jupyter<2.0.0,>=1.0.0->skimpy) (0.17.1)\n",
      "Requirement already satisfied: nbclassic>=0.4.7 in c:\\users\\demo2023\\appdata\\local\\anaconda3\\lib\\site-packages (from notebook->jupyter<2.0.0,>=1.0.0->skimpy) (0.5.2)\n",
      "Requirement already satisfied: argon2-cffi in c:\\users\\demo2023\\appdata\\local\\anaconda3\\lib\\site-packages (from notebook->jupyter<2.0.0,>=1.0.0->skimpy) (21.3.0)\n",
      "Requirement already satisfied: qtpy>=2.0.1 in c:\\users\\demo2023\\appdata\\local\\anaconda3\\lib\\site-packages (from qtconsole->jupyter<2.0.0,>=1.0.0->skimpy) (2.2.0)\n",
      "Requirement already satisfied: parso<0.9.0,>=0.8.0 in c:\\users\\demo2023\\appdata\\local\\anaconda3\\lib\\site-packages (from jedi>=0.16->ipython>=7.23.1->ipykernel<7.0.0,>=6.7.0->skimpy) (0.8.3)\n",
      "Requirement already satisfied: pywin32>=1.0 in c:\\users\\demo2023\\appdata\\local\\anaconda3\\lib\\site-packages (from jupyter-core>=4.9.2->jupyter-client>=6.1.12->ipykernel<7.0.0,>=6.7.0->skimpy) (305.1)\n",
      "Requirement already satisfied: platformdirs>=2.5 in c:\\users\\demo2023\\appdata\\local\\anaconda3\\lib\\site-packages (from jupyter-core>=4.9.2->jupyter-client>=6.1.12->ipykernel<7.0.0,>=6.7.0->skimpy) (2.5.2)\n",
      "Requirement already satisfied: jupyter-server>=1.8 in c:\\users\\demo2023\\appdata\\local\\anaconda3\\lib\\site-packages (from nbclassic>=0.4.7->notebook->jupyter<2.0.0,>=1.0.0->skimpy) (1.23.4)\n",
      "Requirement already satisfied: notebook-shim>=0.1.0 in c:\\users\\demo2023\\appdata\\local\\anaconda3\\lib\\site-packages (from nbclassic>=0.4.7->notebook->jupyter<2.0.0,>=1.0.0->skimpy) (0.2.2)\n",
      "Requirement already satisfied: fastjsonschema in c:\\users\\demo2023\\appdata\\local\\anaconda3\\lib\\site-packages (from nbformat>=4.2.0->ipywidgets->jupyter<2.0.0,>=1.0.0->skimpy) (2.16.2)\n",
      "Requirement already satisfied: jsonschema>=2.6 in c:\\users\\demo2023\\appdata\\local\\anaconda3\\lib\\site-packages (from nbformat>=4.2.0->ipywidgets->jupyter<2.0.0,>=1.0.0->skimpy) (4.17.3)\n",
      "Requirement already satisfied: wcwidth in c:\\users\\demo2023\\appdata\\local\\anaconda3\\lib\\site-packages (from prompt-toolkit<3.1.0,>=3.0.30->ipython>=7.23.1->ipykernel<7.0.0,>=6.7.0->skimpy) (0.2.5)\n",
      "Requirement already satisfied: pywinpty>=1.1.0 in c:\\users\\demo2023\\appdata\\local\\anaconda3\\lib\\site-packages (from terminado>=0.8.3->notebook->jupyter<2.0.0,>=1.0.0->skimpy) (2.0.10)\n",
      "Requirement already satisfied: argon2-cffi-bindings in c:\\users\\demo2023\\appdata\\local\\anaconda3\\lib\\site-packages (from argon2-cffi->notebook->jupyter<2.0.0,>=1.0.0->skimpy) (21.2.0)\n",
      "Requirement already satisfied: soupsieve>1.2 in c:\\users\\demo2023\\appdata\\local\\anaconda3\\lib\\site-packages (from beautifulsoup4->nbconvert->jupyter<2.0.0,>=1.0.0->skimpy) (2.3.2.post1)\n",
      "Requirement already satisfied: webencodings in c:\\users\\demo2023\\appdata\\local\\anaconda3\\lib\\site-packages (from bleach->nbconvert->jupyter<2.0.0,>=1.0.0->skimpy) (0.5.1)\n",
      "Requirement already satisfied: pure-eval in c:\\users\\demo2023\\appdata\\local\\anaconda3\\lib\\site-packages (from stack-data->ipython>=7.23.1->ipykernel<7.0.0,>=6.7.0->skimpy) (0.2.2)\n",
      "Requirement already satisfied: executing in c:\\users\\demo2023\\appdata\\local\\anaconda3\\lib\\site-packages (from stack-data->ipython>=7.23.1->ipykernel<7.0.0,>=6.7.0->skimpy) (0.8.3)\n",
      "Requirement already satisfied: asttokens in c:\\users\\demo2023\\appdata\\local\\anaconda3\\lib\\site-packages (from stack-data->ipython>=7.23.1->ipykernel<7.0.0,>=6.7.0->skimpy) (2.0.5)\n",
      "Requirement already satisfied: pyrsistent!=0.17.0,!=0.17.1,!=0.17.2,>=0.14.0 in c:\\users\\demo2023\\appdata\\local\\anaconda3\\lib\\site-packages (from jsonschema>=2.6->nbformat>=4.2.0->ipywidgets->jupyter<2.0.0,>=1.0.0->skimpy) (0.18.0)\n",
      "Requirement already satisfied: attrs>=17.4.0 in c:\\users\\demo2023\\appdata\\local\\anaconda3\\lib\\site-packages (from jsonschema>=2.6->nbformat>=4.2.0->ipywidgets->jupyter<2.0.0,>=1.0.0->skimpy) (22.1.0)\n",
      "Requirement already satisfied: anyio<4,>=3.1.0 in c:\\users\\demo2023\\appdata\\local\\anaconda3\\lib\\site-packages (from jupyter-server>=1.8->nbclassic>=0.4.7->notebook->jupyter<2.0.0,>=1.0.0->skimpy) (3.5.0)\n",
      "Requirement already satisfied: websocket-client in c:\\users\\demo2023\\appdata\\local\\anaconda3\\lib\\site-packages (from jupyter-server>=1.8->nbclassic>=0.4.7->notebook->jupyter<2.0.0,>=1.0.0->skimpy) (0.58.0)\n",
      "Requirement already satisfied: cffi>=1.0.1 in c:\\users\\demo2023\\appdata\\local\\anaconda3\\lib\\site-packages (from argon2-cffi-bindings->argon2-cffi->notebook->jupyter<2.0.0,>=1.0.0->skimpy) (1.15.1)\n",
      "Requirement already satisfied: idna>=2.8 in c:\\users\\demo2023\\appdata\\local\\anaconda3\\lib\\site-packages (from anyio<4,>=3.1.0->jupyter-server>=1.8->nbclassic>=0.4.7->notebook->jupyter<2.0.0,>=1.0.0->skimpy) (3.4)\n",
      "Requirement already satisfied: sniffio>=1.1 in c:\\users\\demo2023\\appdata\\local\\anaconda3\\lib\\site-packages (from anyio<4,>=3.1.0->jupyter-server>=1.8->nbclassic>=0.4.7->notebook->jupyter<2.0.0,>=1.0.0->skimpy) (1.2.0)\n",
      "Requirement already satisfied: pycparser in c:\\users\\demo2023\\appdata\\local\\anaconda3\\lib\\site-packages (from cffi>=1.0.1->argon2-cffi-bindings->argon2-cffi->notebook->jupyter<2.0.0,>=1.0.0->skimpy) (2.21)\n",
      "Note: you may need to restart the kernel to use updated packages.\n"
     ]
    }
   ],
   "source": [
    "pip install skimpy"
   ]
  },
  {
   "cell_type": "code",
   "execution_count": null,
   "id": "29da57e2",
   "metadata": {},
   "outputs": [],
   "source": []
  },
  {
   "cell_type": "code",
   "execution_count": 2,
   "id": "ae1a71b1",
   "metadata": {},
   "outputs": [],
   "source": [
    "import re\n",
    "import pandas as pd\n",
    "import numpy as np\n",
    "import seaborn as sns\n",
    "import matplotlib.pyplot as plt\n",
    "from datetime import datetime, timedelta,date\n",
    "from scipy import stats as st\n",
    "from skimpy import clean_columns"
   ]
  },
  {
   "cell_type": "markdown",
   "id": "e380533b",
   "metadata": {},
   "source": [
    "## Загрузка и обзор данных"
   ]
  },
  {
   "cell_type": "markdown",
   "id": "0e7c9ed4",
   "metadata": {},
   "source": [
    "Данные будут загружены в следующие датафреймы:<br>\n",
    "\n",
    "**dc** - contract_new.csv — информация о договоре;<br>\n",
    "**dp** - personal_new.csv — персональные данные клиента;<br>\n",
    "**di** - internet_new.csv — информация об интернет-услугах;<br>\n",
    "**dph** - phone_new.csv — информация об услугах телефонии."
   ]
  },
  {
   "cell_type": "code",
   "execution_count": 3,
   "id": "f81a8b18",
   "metadata": {},
   "outputs": [],
   "source": [
    "try:    \n",
    "    dc = pd.read_csv('/datasets/contract_new.csv')\n",
    "    dp = pd.read_csv('/datasets/personal_new.csv')\n",
    "    di =  pd.read_csv('/datasets/internet_new.csv')\n",
    "    dph =  pd.read_csv('/datasets/phone_new.csv')\n",
    "except:\n",
    "    dc = pd.read_csv('https://code.s3.yandex.net/datasets/contract_new.csv')\n",
    "    dp = pd.read_csv('https://code.s3.yandex.net/datasets/personal_new.csv')\n",
    "    di =  pd.read_csv('https://code.s3.yandex.net/datasets/internet_new.csv')\n",
    "    dph =  pd.read_csv('https://code.s3.yandex.net/datasets/phone_new.csv')"
   ]
  },
  {
   "cell_type": "markdown",
   "id": "5e168636",
   "metadata": {},
   "source": [
    "#### Сбор информации о датафреймах"
   ]
  },
  {
   "cell_type": "code",
   "execution_count": 4,
   "id": "5a1e70e6",
   "metadata": {},
   "outputs": [
    {
     "name": "stdout",
     "output_type": "stream",
     "text": [
      "<class 'pandas.core.frame.DataFrame'>\n",
      "RangeIndex: 7043 entries, 0 to 7042\n",
      "Data columns (total 8 columns):\n",
      " #   Column            Non-Null Count  Dtype  \n",
      "---  ------            --------------  -----  \n",
      " 0   customerID        7043 non-null   object \n",
      " 1   BeginDate         7043 non-null   object \n",
      " 2   EndDate           7043 non-null   object \n",
      " 3   Type              7043 non-null   object \n",
      " 4   PaperlessBilling  7043 non-null   object \n",
      " 5   PaymentMethod     7043 non-null   object \n",
      " 6   MonthlyCharges    7043 non-null   float64\n",
      " 7   TotalCharges      7043 non-null   object \n",
      "dtypes: float64(1), object(7)\n",
      "memory usage: 440.3+ KB\n"
     ]
    }
   ],
   "source": [
    "dc.info()"
   ]
  },
  {
   "cell_type": "code",
   "execution_count": 5,
   "id": "15758d12",
   "metadata": {},
   "outputs": [
    {
     "name": "stdout",
     "output_type": "stream",
     "text": [
      "<class 'pandas.core.frame.DataFrame'>\n",
      "RangeIndex: 7043 entries, 0 to 7042\n",
      "Data columns (total 5 columns):\n",
      " #   Column         Non-Null Count  Dtype \n",
      "---  ------         --------------  ----- \n",
      " 0   customerID     7043 non-null   object\n",
      " 1   gender         7043 non-null   object\n",
      " 2   SeniorCitizen  7043 non-null   int64 \n",
      " 3   Partner        7043 non-null   object\n",
      " 4   Dependents     7043 non-null   object\n",
      "dtypes: int64(1), object(4)\n",
      "memory usage: 275.2+ KB\n"
     ]
    }
   ],
   "source": [
    "dp.info()"
   ]
  },
  {
   "cell_type": "code",
   "execution_count": 6,
   "id": "4d1d7d8a",
   "metadata": {},
   "outputs": [
    {
     "name": "stdout",
     "output_type": "stream",
     "text": [
      "<class 'pandas.core.frame.DataFrame'>\n",
      "RangeIndex: 5517 entries, 0 to 5516\n",
      "Data columns (total 8 columns):\n",
      " #   Column            Non-Null Count  Dtype \n",
      "---  ------            --------------  ----- \n",
      " 0   customerID        5517 non-null   object\n",
      " 1   InternetService   5517 non-null   object\n",
      " 2   OnlineSecurity    5517 non-null   object\n",
      " 3   OnlineBackup      5517 non-null   object\n",
      " 4   DeviceProtection  5517 non-null   object\n",
      " 5   TechSupport       5517 non-null   object\n",
      " 6   StreamingTV       5517 non-null   object\n",
      " 7   StreamingMovies   5517 non-null   object\n",
      "dtypes: object(8)\n",
      "memory usage: 344.9+ KB\n"
     ]
    }
   ],
   "source": [
    "di.info()"
   ]
  },
  {
   "cell_type": "code",
   "execution_count": 7,
   "id": "8f9a62ab",
   "metadata": {},
   "outputs": [
    {
     "name": "stdout",
     "output_type": "stream",
     "text": [
      "<class 'pandas.core.frame.DataFrame'>\n",
      "RangeIndex: 6361 entries, 0 to 6360\n",
      "Data columns (total 2 columns):\n",
      " #   Column         Non-Null Count  Dtype \n",
      "---  ------         --------------  ----- \n",
      " 0   customerID     6361 non-null   object\n",
      " 1   MultipleLines  6361 non-null   object\n",
      "dtypes: object(2)\n",
      "memory usage: 99.5+ KB\n"
     ]
    }
   ],
   "source": [
    "dph.info()"
   ]
  },
  {
   "cell_type": "code",
   "execution_count": 8,
   "id": "1185c7d1",
   "metadata": {},
   "outputs": [],
   "source": [
    "#example = \"ThisIsAGoodExample\"\n",
    "#print (re.sub( '(?<!^)(?=[A-Z])', '_', example ).lower())"
   ]
  },
  {
   "cell_type": "code",
   "execution_count": 9,
   "id": "2ec3e478",
   "metadata": {},
   "outputs": [],
   "source": [
    "#dc = clean_columns(dc)"
   ]
  },
  {
   "cell_type": "code",
   "execution_count": null,
   "id": "f327a208",
   "metadata": {},
   "outputs": [],
   "source": []
  },
  {
   "cell_type": "code",
   "execution_count": null,
   "id": "b27cfa75",
   "metadata": {},
   "outputs": [],
   "source": []
  },
  {
   "cell_type": "code",
   "execution_count": 10,
   "id": "489f0998",
   "metadata": {},
   "outputs": [
    {
     "data": {
      "text/html": [
       "<div>\n",
       "<style scoped>\n",
       "    .dataframe tbody tr th:only-of-type {\n",
       "        vertical-align: middle;\n",
       "    }\n",
       "\n",
       "    .dataframe tbody tr th {\n",
       "        vertical-align: top;\n",
       "    }\n",
       "\n",
       "    .dataframe thead th {\n",
       "        text-align: right;\n",
       "    }\n",
       "</style>\n",
       "<table border=\"1\" class=\"dataframe\">\n",
       "  <thead>\n",
       "    <tr style=\"text-align: right;\">\n",
       "      <th></th>\n",
       "      <th>customerID</th>\n",
       "      <th>BeginDate</th>\n",
       "      <th>EndDate</th>\n",
       "      <th>Type</th>\n",
       "      <th>PaperlessBilling</th>\n",
       "      <th>PaymentMethod</th>\n",
       "      <th>MonthlyCharges</th>\n",
       "      <th>TotalCharges</th>\n",
       "    </tr>\n",
       "  </thead>\n",
       "  <tbody>\n",
       "    <tr>\n",
       "      <th>0</th>\n",
       "      <td>7590-VHVEG</td>\n",
       "      <td>2020-01-01</td>\n",
       "      <td>No</td>\n",
       "      <td>Month-to-month</td>\n",
       "      <td>Yes</td>\n",
       "      <td>Electronic check</td>\n",
       "      <td>29.85</td>\n",
       "      <td>31.04</td>\n",
       "    </tr>\n",
       "    <tr>\n",
       "      <th>1</th>\n",
       "      <td>5575-GNVDE</td>\n",
       "      <td>2017-04-01</td>\n",
       "      <td>No</td>\n",
       "      <td>One year</td>\n",
       "      <td>No</td>\n",
       "      <td>Mailed check</td>\n",
       "      <td>56.95</td>\n",
       "      <td>2071.84</td>\n",
       "    </tr>\n",
       "    <tr>\n",
       "      <th>2</th>\n",
       "      <td>3668-QPYBK</td>\n",
       "      <td>2019-10-01</td>\n",
       "      <td>No</td>\n",
       "      <td>Month-to-month</td>\n",
       "      <td>Yes</td>\n",
       "      <td>Mailed check</td>\n",
       "      <td>53.85</td>\n",
       "      <td>226.17</td>\n",
       "    </tr>\n",
       "    <tr>\n",
       "      <th>3</th>\n",
       "      <td>7795-CFOCW</td>\n",
       "      <td>2016-05-01</td>\n",
       "      <td>No</td>\n",
       "      <td>One year</td>\n",
       "      <td>No</td>\n",
       "      <td>Bank transfer (automatic)</td>\n",
       "      <td>42.30</td>\n",
       "      <td>1960.6</td>\n",
       "    </tr>\n",
       "    <tr>\n",
       "      <th>4</th>\n",
       "      <td>9237-HQITU</td>\n",
       "      <td>2019-09-01</td>\n",
       "      <td>No</td>\n",
       "      <td>Month-to-month</td>\n",
       "      <td>Yes</td>\n",
       "      <td>Electronic check</td>\n",
       "      <td>70.70</td>\n",
       "      <td>353.5</td>\n",
       "    </tr>\n",
       "  </tbody>\n",
       "</table>\n",
       "</div>"
      ],
      "text/plain": [
       "   customerID   BeginDate EndDate            Type PaperlessBilling  \\\n",
       "0  7590-VHVEG  2020-01-01      No  Month-to-month              Yes   \n",
       "1  5575-GNVDE  2017-04-01      No        One year               No   \n",
       "2  3668-QPYBK  2019-10-01      No  Month-to-month              Yes   \n",
       "3  7795-CFOCW  2016-05-01      No        One year               No   \n",
       "4  9237-HQITU  2019-09-01      No  Month-to-month              Yes   \n",
       "\n",
       "               PaymentMethod  MonthlyCharges TotalCharges  \n",
       "0           Electronic check           29.85        31.04  \n",
       "1               Mailed check           56.95      2071.84  \n",
       "2               Mailed check           53.85       226.17  \n",
       "3  Bank transfer (automatic)           42.30       1960.6  \n",
       "4           Electronic check           70.70        353.5  "
      ]
     },
     "execution_count": 10,
     "metadata": {},
     "output_type": "execute_result"
    }
   ],
   "source": [
    "dc.head()"
   ]
  },
  {
   "cell_type": "code",
   "execution_count": 11,
   "id": "21f7267c",
   "metadata": {},
   "outputs": [
    {
     "data": {
      "text/html": [
       "<div>\n",
       "<style scoped>\n",
       "    .dataframe tbody tr th:only-of-type {\n",
       "        vertical-align: middle;\n",
       "    }\n",
       "\n",
       "    .dataframe tbody tr th {\n",
       "        vertical-align: top;\n",
       "    }\n",
       "\n",
       "    .dataframe thead th {\n",
       "        text-align: right;\n",
       "    }\n",
       "</style>\n",
       "<table border=\"1\" class=\"dataframe\">\n",
       "  <thead>\n",
       "    <tr style=\"text-align: right;\">\n",
       "      <th></th>\n",
       "      <th>customerID</th>\n",
       "      <th>gender</th>\n",
       "      <th>SeniorCitizen</th>\n",
       "      <th>Partner</th>\n",
       "      <th>Dependents</th>\n",
       "    </tr>\n",
       "  </thead>\n",
       "  <tbody>\n",
       "    <tr>\n",
       "      <th>0</th>\n",
       "      <td>7590-VHVEG</td>\n",
       "      <td>Female</td>\n",
       "      <td>0</td>\n",
       "      <td>Yes</td>\n",
       "      <td>No</td>\n",
       "    </tr>\n",
       "    <tr>\n",
       "      <th>1</th>\n",
       "      <td>5575-GNVDE</td>\n",
       "      <td>Male</td>\n",
       "      <td>0</td>\n",
       "      <td>No</td>\n",
       "      <td>No</td>\n",
       "    </tr>\n",
       "    <tr>\n",
       "      <th>2</th>\n",
       "      <td>3668-QPYBK</td>\n",
       "      <td>Male</td>\n",
       "      <td>0</td>\n",
       "      <td>No</td>\n",
       "      <td>No</td>\n",
       "    </tr>\n",
       "    <tr>\n",
       "      <th>3</th>\n",
       "      <td>7795-CFOCW</td>\n",
       "      <td>Male</td>\n",
       "      <td>0</td>\n",
       "      <td>No</td>\n",
       "      <td>No</td>\n",
       "    </tr>\n",
       "    <tr>\n",
       "      <th>4</th>\n",
       "      <td>9237-HQITU</td>\n",
       "      <td>Female</td>\n",
       "      <td>0</td>\n",
       "      <td>No</td>\n",
       "      <td>No</td>\n",
       "    </tr>\n",
       "  </tbody>\n",
       "</table>\n",
       "</div>"
      ],
      "text/plain": [
       "   customerID  gender  SeniorCitizen Partner Dependents\n",
       "0  7590-VHVEG  Female              0     Yes         No\n",
       "1  5575-GNVDE    Male              0      No         No\n",
       "2  3668-QPYBK    Male              0      No         No\n",
       "3  7795-CFOCW    Male              0      No         No\n",
       "4  9237-HQITU  Female              0      No         No"
      ]
     },
     "execution_count": 11,
     "metadata": {},
     "output_type": "execute_result"
    }
   ],
   "source": [
    "dp.head()"
   ]
  },
  {
   "cell_type": "code",
   "execution_count": 12,
   "id": "145e7020",
   "metadata": {},
   "outputs": [
    {
     "data": {
      "text/html": [
       "<div>\n",
       "<style scoped>\n",
       "    .dataframe tbody tr th:only-of-type {\n",
       "        vertical-align: middle;\n",
       "    }\n",
       "\n",
       "    .dataframe tbody tr th {\n",
       "        vertical-align: top;\n",
       "    }\n",
       "\n",
       "    .dataframe thead th {\n",
       "        text-align: right;\n",
       "    }\n",
       "</style>\n",
       "<table border=\"1\" class=\"dataframe\">\n",
       "  <thead>\n",
       "    <tr style=\"text-align: right;\">\n",
       "      <th></th>\n",
       "      <th>customerID</th>\n",
       "      <th>InternetService</th>\n",
       "      <th>OnlineSecurity</th>\n",
       "      <th>OnlineBackup</th>\n",
       "      <th>DeviceProtection</th>\n",
       "      <th>TechSupport</th>\n",
       "      <th>StreamingTV</th>\n",
       "      <th>StreamingMovies</th>\n",
       "    </tr>\n",
       "  </thead>\n",
       "  <tbody>\n",
       "    <tr>\n",
       "      <th>0</th>\n",
       "      <td>7590-VHVEG</td>\n",
       "      <td>DSL</td>\n",
       "      <td>No</td>\n",
       "      <td>Yes</td>\n",
       "      <td>No</td>\n",
       "      <td>No</td>\n",
       "      <td>No</td>\n",
       "      <td>No</td>\n",
       "    </tr>\n",
       "    <tr>\n",
       "      <th>1</th>\n",
       "      <td>5575-GNVDE</td>\n",
       "      <td>DSL</td>\n",
       "      <td>Yes</td>\n",
       "      <td>No</td>\n",
       "      <td>Yes</td>\n",
       "      <td>No</td>\n",
       "      <td>No</td>\n",
       "      <td>No</td>\n",
       "    </tr>\n",
       "    <tr>\n",
       "      <th>2</th>\n",
       "      <td>3668-QPYBK</td>\n",
       "      <td>DSL</td>\n",
       "      <td>Yes</td>\n",
       "      <td>Yes</td>\n",
       "      <td>No</td>\n",
       "      <td>No</td>\n",
       "      <td>No</td>\n",
       "      <td>No</td>\n",
       "    </tr>\n",
       "    <tr>\n",
       "      <th>3</th>\n",
       "      <td>7795-CFOCW</td>\n",
       "      <td>DSL</td>\n",
       "      <td>Yes</td>\n",
       "      <td>No</td>\n",
       "      <td>Yes</td>\n",
       "      <td>Yes</td>\n",
       "      <td>No</td>\n",
       "      <td>No</td>\n",
       "    </tr>\n",
       "    <tr>\n",
       "      <th>4</th>\n",
       "      <td>9237-HQITU</td>\n",
       "      <td>Fiber optic</td>\n",
       "      <td>No</td>\n",
       "      <td>No</td>\n",
       "      <td>No</td>\n",
       "      <td>No</td>\n",
       "      <td>No</td>\n",
       "      <td>No</td>\n",
       "    </tr>\n",
       "  </tbody>\n",
       "</table>\n",
       "</div>"
      ],
      "text/plain": [
       "   customerID InternetService OnlineSecurity OnlineBackup DeviceProtection  \\\n",
       "0  7590-VHVEG             DSL             No          Yes               No   \n",
       "1  5575-GNVDE             DSL            Yes           No              Yes   \n",
       "2  3668-QPYBK             DSL            Yes          Yes               No   \n",
       "3  7795-CFOCW             DSL            Yes           No              Yes   \n",
       "4  9237-HQITU     Fiber optic             No           No               No   \n",
       "\n",
       "  TechSupport StreamingTV StreamingMovies  \n",
       "0          No          No              No  \n",
       "1          No          No              No  \n",
       "2          No          No              No  \n",
       "3         Yes          No              No  \n",
       "4          No          No              No  "
      ]
     },
     "execution_count": 12,
     "metadata": {},
     "output_type": "execute_result"
    }
   ],
   "source": [
    "di.head()"
   ]
  },
  {
   "cell_type": "code",
   "execution_count": 13,
   "id": "b3acddbd",
   "metadata": {},
   "outputs": [
    {
     "data": {
      "text/html": [
       "<div>\n",
       "<style scoped>\n",
       "    .dataframe tbody tr th:only-of-type {\n",
       "        vertical-align: middle;\n",
       "    }\n",
       "\n",
       "    .dataframe tbody tr th {\n",
       "        vertical-align: top;\n",
       "    }\n",
       "\n",
       "    .dataframe thead th {\n",
       "        text-align: right;\n",
       "    }\n",
       "</style>\n",
       "<table border=\"1\" class=\"dataframe\">\n",
       "  <thead>\n",
       "    <tr style=\"text-align: right;\">\n",
       "      <th></th>\n",
       "      <th>customerID</th>\n",
       "      <th>MultipleLines</th>\n",
       "    </tr>\n",
       "  </thead>\n",
       "  <tbody>\n",
       "    <tr>\n",
       "      <th>0</th>\n",
       "      <td>5575-GNVDE</td>\n",
       "      <td>No</td>\n",
       "    </tr>\n",
       "    <tr>\n",
       "      <th>1</th>\n",
       "      <td>3668-QPYBK</td>\n",
       "      <td>No</td>\n",
       "    </tr>\n",
       "    <tr>\n",
       "      <th>2</th>\n",
       "      <td>9237-HQITU</td>\n",
       "      <td>No</td>\n",
       "    </tr>\n",
       "    <tr>\n",
       "      <th>3</th>\n",
       "      <td>9305-CDSKC</td>\n",
       "      <td>Yes</td>\n",
       "    </tr>\n",
       "    <tr>\n",
       "      <th>4</th>\n",
       "      <td>1452-KIOVK</td>\n",
       "      <td>Yes</td>\n",
       "    </tr>\n",
       "  </tbody>\n",
       "</table>\n",
       "</div>"
      ],
      "text/plain": [
       "   customerID MultipleLines\n",
       "0  5575-GNVDE            No\n",
       "1  3668-QPYBK            No\n",
       "2  9237-HQITU            No\n",
       "3  9305-CDSKC           Yes\n",
       "4  1452-KIOVK           Yes"
      ]
     },
     "execution_count": 13,
     "metadata": {},
     "output_type": "execute_result"
    }
   ],
   "source": [
    "dph.head()"
   ]
  },
  {
   "cell_type": "markdown",
   "id": "8ff946ed",
   "metadata": {},
   "source": [
    "#### Проверка на дубликаты"
   ]
  },
  {
   "cell_type": "markdown",
   "id": "d8b08e60",
   "metadata": {},
   "source": [
    "Во всех полях, кроме **customerID** сведения могут совпадать, поэтому проверке на дубликаты подвергается только **customerID**"
   ]
  },
  {
   "cell_type": "code",
   "execution_count": 14,
   "id": "daa9e6f2",
   "metadata": {},
   "outputs": [
    {
     "data": {
      "text/plain": [
       "0"
      ]
     },
     "execution_count": 14,
     "metadata": {},
     "output_type": "execute_result"
    }
   ],
   "source": [
    "dc.duplicated(['customerID']).sum()"
   ]
  },
  {
   "cell_type": "code",
   "execution_count": 15,
   "id": "c92c58e2",
   "metadata": {},
   "outputs": [
    {
     "data": {
      "text/plain": [
       "0"
      ]
     },
     "execution_count": 15,
     "metadata": {},
     "output_type": "execute_result"
    }
   ],
   "source": [
    "dp.duplicated(['customerID']).sum()"
   ]
  },
  {
   "cell_type": "code",
   "execution_count": 16,
   "id": "1057386e",
   "metadata": {},
   "outputs": [
    {
     "data": {
      "text/plain": [
       "0"
      ]
     },
     "execution_count": 16,
     "metadata": {},
     "output_type": "execute_result"
    }
   ],
   "source": [
    "di.duplicated(['customerID']).sum()"
   ]
  },
  {
   "cell_type": "code",
   "execution_count": 17,
   "id": "4220a13d",
   "metadata": {},
   "outputs": [
    {
     "data": {
      "text/plain": [
       "0"
      ]
     },
     "execution_count": 17,
     "metadata": {},
     "output_type": "execute_result"
    }
   ],
   "source": [
    "dph.duplicated(['customerID']).sum()"
   ]
  },
  {
   "cell_type": "markdown",
   "id": "ad93b886",
   "metadata": {},
   "source": [
    "Проверка поля TotalCharges"
   ]
  },
  {
   "cell_type": "code",
   "execution_count": 18,
   "id": "3877b15b",
   "metadata": {},
   "outputs": [
    {
     "data": {
      "text/html": [
       "<div>\n",
       "<style scoped>\n",
       "    .dataframe tbody tr th:only-of-type {\n",
       "        vertical-align: middle;\n",
       "    }\n",
       "\n",
       "    .dataframe tbody tr th {\n",
       "        vertical-align: top;\n",
       "    }\n",
       "\n",
       "    .dataframe thead th {\n",
       "        text-align: right;\n",
       "    }\n",
       "</style>\n",
       "<table border=\"1\" class=\"dataframe\">\n",
       "  <thead>\n",
       "    <tr style=\"text-align: right;\">\n",
       "      <th></th>\n",
       "      <th>customerID</th>\n",
       "      <th>BeginDate</th>\n",
       "      <th>EndDate</th>\n",
       "      <th>Type</th>\n",
       "      <th>PaperlessBilling</th>\n",
       "      <th>PaymentMethod</th>\n",
       "      <th>MonthlyCharges</th>\n",
       "      <th>TotalCharges</th>\n",
       "    </tr>\n",
       "  </thead>\n",
       "  <tbody>\n",
       "    <tr>\n",
       "      <th>488</th>\n",
       "      <td>4472-LVYGI</td>\n",
       "      <td>2020-02-01</td>\n",
       "      <td>No</td>\n",
       "      <td>Two year</td>\n",
       "      <td>Yes</td>\n",
       "      <td>Bank transfer (automatic)</td>\n",
       "      <td>52.55</td>\n",
       "      <td></td>\n",
       "    </tr>\n",
       "    <tr>\n",
       "      <th>753</th>\n",
       "      <td>3115-CZMZD</td>\n",
       "      <td>2020-02-01</td>\n",
       "      <td>No</td>\n",
       "      <td>Two year</td>\n",
       "      <td>No</td>\n",
       "      <td>Mailed check</td>\n",
       "      <td>20.25</td>\n",
       "      <td></td>\n",
       "    </tr>\n",
       "    <tr>\n",
       "      <th>936</th>\n",
       "      <td>5709-LVOEQ</td>\n",
       "      <td>2020-02-01</td>\n",
       "      <td>No</td>\n",
       "      <td>Two year</td>\n",
       "      <td>No</td>\n",
       "      <td>Mailed check</td>\n",
       "      <td>80.85</td>\n",
       "      <td></td>\n",
       "    </tr>\n",
       "    <tr>\n",
       "      <th>1082</th>\n",
       "      <td>4367-NUYAO</td>\n",
       "      <td>2020-02-01</td>\n",
       "      <td>No</td>\n",
       "      <td>Two year</td>\n",
       "      <td>No</td>\n",
       "      <td>Mailed check</td>\n",
       "      <td>25.75</td>\n",
       "      <td></td>\n",
       "    </tr>\n",
       "    <tr>\n",
       "      <th>1340</th>\n",
       "      <td>1371-DWPAZ</td>\n",
       "      <td>2020-02-01</td>\n",
       "      <td>No</td>\n",
       "      <td>Two year</td>\n",
       "      <td>No</td>\n",
       "      <td>Credit card (automatic)</td>\n",
       "      <td>56.05</td>\n",
       "      <td></td>\n",
       "    </tr>\n",
       "    <tr>\n",
       "      <th>3331</th>\n",
       "      <td>7644-OMVMY</td>\n",
       "      <td>2020-02-01</td>\n",
       "      <td>No</td>\n",
       "      <td>Two year</td>\n",
       "      <td>No</td>\n",
       "      <td>Mailed check</td>\n",
       "      <td>19.85</td>\n",
       "      <td></td>\n",
       "    </tr>\n",
       "    <tr>\n",
       "      <th>3826</th>\n",
       "      <td>3213-VVOLG</td>\n",
       "      <td>2020-02-01</td>\n",
       "      <td>No</td>\n",
       "      <td>Two year</td>\n",
       "      <td>No</td>\n",
       "      <td>Mailed check</td>\n",
       "      <td>25.35</td>\n",
       "      <td></td>\n",
       "    </tr>\n",
       "    <tr>\n",
       "      <th>4380</th>\n",
       "      <td>2520-SGTTA</td>\n",
       "      <td>2020-02-01</td>\n",
       "      <td>No</td>\n",
       "      <td>Two year</td>\n",
       "      <td>No</td>\n",
       "      <td>Mailed check</td>\n",
       "      <td>20.00</td>\n",
       "      <td></td>\n",
       "    </tr>\n",
       "    <tr>\n",
       "      <th>5218</th>\n",
       "      <td>2923-ARZLG</td>\n",
       "      <td>2020-02-01</td>\n",
       "      <td>No</td>\n",
       "      <td>One year</td>\n",
       "      <td>Yes</td>\n",
       "      <td>Mailed check</td>\n",
       "      <td>19.70</td>\n",
       "      <td></td>\n",
       "    </tr>\n",
       "    <tr>\n",
       "      <th>6670</th>\n",
       "      <td>4075-WKNIU</td>\n",
       "      <td>2020-02-01</td>\n",
       "      <td>No</td>\n",
       "      <td>Two year</td>\n",
       "      <td>No</td>\n",
       "      <td>Mailed check</td>\n",
       "      <td>73.35</td>\n",
       "      <td></td>\n",
       "    </tr>\n",
       "    <tr>\n",
       "      <th>6754</th>\n",
       "      <td>2775-SEFEE</td>\n",
       "      <td>2020-02-01</td>\n",
       "      <td>No</td>\n",
       "      <td>Two year</td>\n",
       "      <td>Yes</td>\n",
       "      <td>Bank transfer (automatic)</td>\n",
       "      <td>61.90</td>\n",
       "      <td></td>\n",
       "    </tr>\n",
       "  </tbody>\n",
       "</table>\n",
       "</div>"
      ],
      "text/plain": [
       "      customerID   BeginDate EndDate      Type PaperlessBilling  \\\n",
       "488   4472-LVYGI  2020-02-01      No  Two year              Yes   \n",
       "753   3115-CZMZD  2020-02-01      No  Two year               No   \n",
       "936   5709-LVOEQ  2020-02-01      No  Two year               No   \n",
       "1082  4367-NUYAO  2020-02-01      No  Two year               No   \n",
       "1340  1371-DWPAZ  2020-02-01      No  Two year               No   \n",
       "3331  7644-OMVMY  2020-02-01      No  Two year               No   \n",
       "3826  3213-VVOLG  2020-02-01      No  Two year               No   \n",
       "4380  2520-SGTTA  2020-02-01      No  Two year               No   \n",
       "5218  2923-ARZLG  2020-02-01      No  One year              Yes   \n",
       "6670  4075-WKNIU  2020-02-01      No  Two year               No   \n",
       "6754  2775-SEFEE  2020-02-01      No  Two year              Yes   \n",
       "\n",
       "                  PaymentMethod  MonthlyCharges TotalCharges  \n",
       "488   Bank transfer (automatic)           52.55               \n",
       "753                Mailed check           20.25               \n",
       "936                Mailed check           80.85               \n",
       "1082               Mailed check           25.75               \n",
       "1340    Credit card (automatic)           56.05               \n",
       "3331               Mailed check           19.85               \n",
       "3826               Mailed check           25.35               \n",
       "4380               Mailed check           20.00               \n",
       "5218               Mailed check           19.70               \n",
       "6670               Mailed check           73.35               \n",
       "6754  Bank transfer (automatic)           61.90               "
      ]
     },
     "execution_count": 18,
     "metadata": {},
     "output_type": "execute_result"
    }
   ],
   "source": [
    "dc[dc['TotalCharges'].str.contains(\" \")]"
   ]
  },
  {
   "cell_type": "markdown",
   "id": "46a2d661",
   "metadata": {},
   "source": [
    "Сведения отсутствуют в связи с отсуствием оплаты по договору, который был заключен в день предоставления данных заказчиком (01 февраля 2020 года). Эти данные можно удалить в связи с их ничтожным влиянием на общую картину"
   ]
  },
  {
   "cell_type": "markdown",
   "id": "6101c545",
   "metadata": {},
   "source": [
    "##### Вывод (обзор данных)"
   ]
  },
  {
   "cell_type": "markdown",
   "id": "8e9a93d8",
   "metadata": {},
   "source": [
    "Исходные датафреймы пропусков и дубликатов не имеют.<br>\n",
    "Таблицы dc и dp имеют одинаковое количество записей, поэтому, возможно, в них содержатся сведения об одних и тех же абонентах. Точнее можно будет сказать при объединении таблиц.<br>\n",
    "В таблице dc поле **BeginDate** требуется привести к типу **data**. **TotalCharges** необходимо привести к **float**, предварительно удалив строки, содержащие пробелы (договор только что заключен и не оплачен)<br>\n",
    "По всей видимости, данные экспортировались неправильно из какой-либо базы данных.<br>\n",
    "Наименования столбцов необходимо привести к нижнему регистру с нижним подчеркиванием.<br>\n",
    "\n",
    "\n",
    "В качестве целевого признака необходимо будет создать отдельный бинарный столбец на основе **EndDate**, в котором 1 - наличие договора о расторжении, 0 - в противном случае.<br>\n",
    "Необходимо создать поле c количеством дней, прошедших с момента заключения договора, до даты 1 февраля 2020. На его основе, в частности можно будет проверить аномальные сроки действия договоров<br>\n",
    "\n",
    "Для дальнейшего анализа данных и последущего моделирования необходимо будет исходные датафреймы объединять по **customerID**<br>\n",
    "\n",
    "После слияния и заполнения пропусков бинарные значения Yes и No заменить на 0, 1"
   ]
  },
  {
   "cell_type": "markdown",
   "id": "3b6d6503",
   "metadata": {},
   "source": [
    "### План работы"
   ]
  },
  {
   "cell_type": "markdown",
   "id": "435f64d8",
   "metadata": {},
   "source": [
    "1. Предобработка данных и конструирование новых признаков <br>\n",
    "\n",
    "Выполнить обработку имен столбцов, работа с типами данных, удаление дубликатов, создание новых столбцов, слияние таблиц (merge), заполнение образовавшихся пропусков"
   ]
  },
  {
   "cell_type": "markdown",
   "id": "08916cda",
   "metadata": {},
   "source": [
    "2. Исследовательский анализ данных (EDA)<br>\n",
    "\n",
    "Выявление закономерностей функционирования системы данных, которые, возможно, позволят выявить существенные признаки, потенциально оказывающих влияние на построение модели (построение \"портрета\" клиента, баланс классов, развитие структуры в динамике, построение визуализаций)"
   ]
  },
  {
   "cell_type": "markdown",
   "id": "c6b4c406",
   "metadata": {},
   "source": [
    "3. Исследование мультиколлинеарности<br>\n",
    "\n",
    "Выявление зависимости между признаками, коллинеарность признаков с целевым признаком<br>\n",
    "На основе этого отбираем признаки для модели (future selection), можно дополнитель но применить F-test\n",
    "\n"
   ]
  },
  {
   "cell_type": "markdown",
   "id": "ea34a679",
   "metadata": {},
   "source": [
    "4. Разделение данных на выборки<br>\n",
    "\n",
    "Так как будет использоваться GridSearch, то данные будут разбиты на **тренировочную** и **тестовую** выборки в отношении 3:1<br>\n",
    "Кодирование признаков (OHE)<br>\n",
    "Масштабирование признаков\n",
    "\n"
   ]
  },
  {
   "cell_type": "markdown",
   "id": "ff6f5469",
   "metadata": {},
   "source": [
    "5. Обучение моделей с подбором параметров \n",
    "\n",
    "LogisticRegression<br>\n",
    "RandomForestClassifier<br>\n",
    "\n",
    "для подбора параметра использовать GridSearchCV\n",
    "\n"
   ]
  },
  {
   "cell_type": "markdown",
   "id": "2299e58f",
   "metadata": {},
   "source": [
    "6. Выбор лучшей модели по кросс-валидационной выборке\n",
    "\n",
    "В качестве метрики используется ROC-AUC"
   ]
  },
  {
   "cell_type": "markdown",
   "id": "86198f17",
   "metadata": {},
   "source": [
    "7. Тестирование модели<br>\n",
    "\n",
    "Выполнить тестирование модели на тестовой выборке<br>\n",
    "проверить на адекватность (можно по ROC - кривой)\n",
    "\n"
   ]
  },
  {
   "cell_type": "markdown",
   "id": "4f7d8e56",
   "metadata": {},
   "source": [
    "8. Выявление важности признаков (future importance)\n",
    "\n",
    "Для дальнейшего отслеживания жизненного цикла модели<br>\n",
    "Для внесения изменения в существующую модель в части исключения маловажных признаков из модели"
   ]
  },
  {
   "cell_type": "markdown",
   "id": "12cef719",
   "metadata": {},
   "source": [
    "9. Оценка точности модели, построение матрицы ошибок"
   ]
  },
  {
   "cell_type": "markdown",
   "id": "3d8e6d8a",
   "metadata": {},
   "source": [
    "10. Создание отчета"
   ]
  },
  {
   "cell_type": "markdown",
   "id": "5b0694fe",
   "metadata": {},
   "source": [
    "### Вопросы к заказчику:"
   ]
  },
  {
   "cell_type": "markdown",
   "id": "d7c4e106",
   "metadata": {},
   "source": [
    "1. Имеется ли сведения о времени выхода абонента в сеть(если это интернет), длительности пребывания, средней скорости на канале \n",
    "(Возможно покинувший недоволен скоростью, а пользуется в часы пиковой нагрузки)<br>\n",
    "2. Какие скидки, улучшения и прочее провайдер в принципе может предложить клиентам (в зависимости от этого может изменяться анализ данных и сами предоставляемые данные)<br>\n",
    "3. Кто будет читать отчет и насколько детализировать полученные результаты, кто будет принимать управленческие решения (от этого могут зависеть представляемые выводы, визуализация, представление данных)<br>"
   ]
  },
  {
   "cell_type": "markdown",
   "id": "b9ab464e",
   "metadata": {},
   "source": [
    "## Предобработка данных"
   ]
  },
  {
   "cell_type": "markdown",
   "id": "9adbb5c5",
   "metadata": {},
   "source": [
    "### Преобразование имен столбцов"
   ]
  },
  {
   "cell_type": "markdown",
   "id": "a859e7ce",
   "metadata": {},
   "source": [
    "Использование модуля **skimpy**"
   ]
  },
  {
   "cell_type": "code",
   "execution_count": 19,
   "id": "dd416c41",
   "metadata": {},
   "outputs": [
    {
     "data": {
      "text/html": [
       "<pre style=\"white-space:pre;overflow-x:auto;line-height:normal;font-family:Menlo,'DejaVu Sans Mono',consolas,'Courier New',monospace\"><span style=\"color: #008080; text-decoration-color: #008080; font-weight: bold\">8</span> column names have been cleaned\n",
       "</pre>\n"
      ],
      "text/plain": [
       "\u001b[1;36m8\u001b[0m column names have been cleaned\n"
      ]
     },
     "metadata": {},
     "output_type": "display_data"
    }
   ],
   "source": [
    "dc = clean_columns(dc)"
   ]
  },
  {
   "cell_type": "code",
   "execution_count": 20,
   "id": "2a6baabd",
   "metadata": {},
   "outputs": [
    {
     "data": {
      "text/html": [
       "<pre style=\"white-space:pre;overflow-x:auto;line-height:normal;font-family:Menlo,'DejaVu Sans Mono',consolas,'Courier New',monospace\"><span style=\"color: #008080; text-decoration-color: #008080; font-weight: bold\">4</span> column names have been cleaned\n",
       "</pre>\n"
      ],
      "text/plain": [
       "\u001b[1;36m4\u001b[0m column names have been cleaned\n"
      ]
     },
     "metadata": {},
     "output_type": "display_data"
    }
   ],
   "source": [
    "dp = clean_columns(dp)"
   ]
  },
  {
   "cell_type": "code",
   "execution_count": 21,
   "id": "f9300af1",
   "metadata": {},
   "outputs": [
    {
     "data": {
      "text/html": [
       "<pre style=\"white-space:pre;overflow-x:auto;line-height:normal;font-family:Menlo,'DejaVu Sans Mono',consolas,'Courier New',monospace\"><span style=\"color: #008080; text-decoration-color: #008080; font-weight: bold\">8</span> column names have been cleaned\n",
       "</pre>\n"
      ],
      "text/plain": [
       "\u001b[1;36m8\u001b[0m column names have been cleaned\n"
      ]
     },
     "metadata": {},
     "output_type": "display_data"
    }
   ],
   "source": [
    "di = clean_columns(di)"
   ]
  },
  {
   "cell_type": "code",
   "execution_count": 22,
   "id": "7b1228a1",
   "metadata": {},
   "outputs": [
    {
     "data": {
      "text/html": [
       "<pre style=\"white-space:pre;overflow-x:auto;line-height:normal;font-family:Menlo,'DejaVu Sans Mono',consolas,'Courier New',monospace\"><span style=\"color: #008080; text-decoration-color: #008080; font-weight: bold\">2</span> column names have been cleaned\n",
       "</pre>\n"
      ],
      "text/plain": [
       "\u001b[1;36m2\u001b[0m column names have been cleaned\n"
      ]
     },
     "metadata": {},
     "output_type": "display_data"
    }
   ],
   "source": [
    "dph = clean_columns(dph)"
   ]
  },
  {
   "cell_type": "code",
   "execution_count": 23,
   "id": "eb7cda0d",
   "metadata": {},
   "outputs": [
    {
     "data": {
      "text/plain": [
       "['customer_id',\n",
       " 'begin_date',\n",
       " 'end_date',\n",
       " 'type',\n",
       " 'paperless_billing',\n",
       " 'payment_method',\n",
       " 'monthly_charges',\n",
       " 'total_charges']"
      ]
     },
     "execution_count": 23,
     "metadata": {},
     "output_type": "execute_result"
    }
   ],
   "source": [
    "dc.columns.tolist()"
   ]
  },
  {
   "cell_type": "code",
   "execution_count": 24,
   "id": "5d5f8ed5",
   "metadata": {},
   "outputs": [
    {
     "data": {
      "text/plain": [
       "['customer_id', 'gender', 'senior_citizen', 'partner', 'dependents']"
      ]
     },
     "execution_count": 24,
     "metadata": {},
     "output_type": "execute_result"
    }
   ],
   "source": [
    "dp.columns.tolist()"
   ]
  },
  {
   "cell_type": "code",
   "execution_count": 25,
   "id": "d88bb8c8",
   "metadata": {},
   "outputs": [
    {
     "data": {
      "text/plain": [
       "['customer_id',\n",
       " 'internet_service',\n",
       " 'online_security',\n",
       " 'online_backup',\n",
       " 'device_protection',\n",
       " 'tech_support',\n",
       " 'streaming_tv',\n",
       " 'streaming_movies']"
      ]
     },
     "execution_count": 25,
     "metadata": {},
     "output_type": "execute_result"
    }
   ],
   "source": [
    "di.columns.tolist()"
   ]
  },
  {
   "cell_type": "code",
   "execution_count": 26,
   "id": "e8ea7ab1",
   "metadata": {},
   "outputs": [
    {
     "data": {
      "text/plain": [
       "['customer_id', 'multiple_lines']"
      ]
     },
     "execution_count": 26,
     "metadata": {},
     "output_type": "execute_result"
    }
   ],
   "source": [
    "dph.columns.tolist()"
   ]
  },
  {
   "cell_type": "markdown",
   "id": "d6b20b56",
   "metadata": {},
   "source": [
    "### Создание новых данных"
   ]
  },
  {
   "cell_type": "markdown",
   "id": "143dec7f",
   "metadata": {},
   "source": [
    "Создание целевого столбца"
   ]
  },
  {
   "cell_type": "code",
   "execution_count": 27,
   "id": "f432c3d4",
   "metadata": {},
   "outputs": [],
   "source": [
    "dc['target'] = 0"
   ]
  },
  {
   "cell_type": "markdown",
   "id": "005a5921",
   "metadata": {},
   "source": [
    "Если в поле **end_date** находится значение, отличное от **No**, то в поле *target* устанавливается **1**"
   ]
  },
  {
   "cell_type": "code",
   "execution_count": 28,
   "id": "d50ffcc8",
   "metadata": {},
   "outputs": [],
   "source": [
    "dc.loc[dc['end_date']!='No','target'] = 1"
   ]
  },
  {
   "cell_type": "markdown",
   "id": "f2b7b852",
   "metadata": {},
   "source": [
    "Преобразование типов"
   ]
  },
  {
   "cell_type": "code",
   "execution_count": 29,
   "id": "9c45e5ae",
   "metadata": {},
   "outputs": [],
   "source": [
    "dc['begin_date'] = pd.to_datetime(dc['begin_date'])"
   ]
  },
  {
   "cell_type": "code",
   "execution_count": 30,
   "id": "50931b39",
   "metadata": {},
   "outputs": [
    {
     "data": {
      "text/plain": [
       "dtype('<M8[ns]')"
      ]
     },
     "execution_count": 30,
     "metadata": {},
     "output_type": "execute_result"
    }
   ],
   "source": [
    "dc['begin_date'].dtype"
   ]
  },
  {
   "cell_type": "code",
   "execution_count": 31,
   "id": "35c6c036",
   "metadata": {},
   "outputs": [
    {
     "data": {
      "text/plain": [
       "7043"
      ]
     },
     "execution_count": 31,
     "metadata": {},
     "output_type": "execute_result"
    }
   ],
   "source": [
    "dc.shape[0]"
   ]
  },
  {
   "cell_type": "code",
   "execution_count": 32,
   "id": "59db5b4f",
   "metadata": {},
   "outputs": [],
   "source": [
    "#df = df.loc[df['STP'] != 1005092]\n",
    "dc = dc.loc[~dc['total_charges'].str.contains(\" \")]"
   ]
  },
  {
   "cell_type": "code",
   "execution_count": 33,
   "id": "a00ebb34",
   "metadata": {},
   "outputs": [
    {
     "data": {
      "text/plain": [
       "7032"
      ]
     },
     "execution_count": 33,
     "metadata": {},
     "output_type": "execute_result"
    }
   ],
   "source": [
    "dc.shape[0]"
   ]
  },
  {
   "cell_type": "code",
   "execution_count": 34,
   "id": "67f5f2cf",
   "metadata": {},
   "outputs": [],
   "source": [
    "dc['total_charges'] = dc['total_charges'].astype(float)"
   ]
  },
  {
   "cell_type": "code",
   "execution_count": 35,
   "id": "dcbbedda",
   "metadata": {},
   "outputs": [
    {
     "data": {
      "text/plain": [
       "dtype('float64')"
      ]
     },
     "execution_count": 35,
     "metadata": {},
     "output_type": "execute_result"
    }
   ],
   "source": [
    "dc['total_charges'].dtype"
   ]
  },
  {
   "cell_type": "markdown",
   "id": "d543bdbb",
   "metadata": {},
   "source": [
    "**Расчет дней действия договора (contract_lifetime)**"
   ]
  },
  {
   "cell_type": "code",
   "execution_count": 36,
   "id": "e9316c9c",
   "metadata": {},
   "outputs": [],
   "source": [
    "def calc_days_between_date(row):\n",
    "    '''\n",
    "    Модуль для вычисления количества дней между двумя датами\n",
    "    '''\n",
    "    \n",
    "    someday = date(2020,2,1)\n",
    "    if row['end_date'] == 'No':\n",
    "        return (someday - row['begin_date'].date()).days\n",
    "    else:\n",
    "        return (datetime.strptime(row['end_date'], '%Y-%m-%d').date() - row['begin_date'].date()).days\n"
   ]
  },
  {
   "cell_type": "code",
   "execution_count": 37,
   "id": "073a93b5",
   "metadata": {},
   "outputs": [],
   "source": [
    "dc['contract_lifetime'] = dc.apply(calc_days_between_date, axis=1)"
   ]
  },
  {
   "cell_type": "code",
   "execution_count": 49,
   "id": "b5351c5e",
   "metadata": {},
   "outputs": [
    {
     "data": {
      "text/html": [
       "<div>\n",
       "<style scoped>\n",
       "    .dataframe tbody tr th:only-of-type {\n",
       "        vertical-align: middle;\n",
       "    }\n",
       "\n",
       "    .dataframe tbody tr th {\n",
       "        vertical-align: top;\n",
       "    }\n",
       "\n",
       "    .dataframe thead th {\n",
       "        text-align: right;\n",
       "    }\n",
       "</style>\n",
       "<table border=\"1\" class=\"dataframe\">\n",
       "  <thead>\n",
       "    <tr style=\"text-align: right;\">\n",
       "      <th></th>\n",
       "      <th>customer_id</th>\n",
       "      <th>begin_date</th>\n",
       "      <th>end_date</th>\n",
       "      <th>type</th>\n",
       "      <th>paperless_billing</th>\n",
       "      <th>payment_method</th>\n",
       "      <th>monthly_charges</th>\n",
       "      <th>total_charges</th>\n",
       "      <th>target</th>\n",
       "      <th>contract_lifetime</th>\n",
       "    </tr>\n",
       "  </thead>\n",
       "  <tbody>\n",
       "    <tr>\n",
       "      <th>0</th>\n",
       "      <td>7590-VHVEG</td>\n",
       "      <td>2020-01-01</td>\n",
       "      <td>No</td>\n",
       "      <td>Month-to-month</td>\n",
       "      <td>Yes</td>\n",
       "      <td>Electronic check</td>\n",
       "      <td>29.85</td>\n",
       "      <td>31.04</td>\n",
       "      <td>0</td>\n",
       "      <td>31</td>\n",
       "    </tr>\n",
       "    <tr>\n",
       "      <th>1</th>\n",
       "      <td>5575-GNVDE</td>\n",
       "      <td>2017-04-01</td>\n",
       "      <td>No</td>\n",
       "      <td>One year</td>\n",
       "      <td>No</td>\n",
       "      <td>Mailed check</td>\n",
       "      <td>56.95</td>\n",
       "      <td>2071.84</td>\n",
       "      <td>0</td>\n",
       "      <td>1036</td>\n",
       "    </tr>\n",
       "    <tr>\n",
       "      <th>2</th>\n",
       "      <td>3668-QPYBK</td>\n",
       "      <td>2019-10-01</td>\n",
       "      <td>No</td>\n",
       "      <td>Month-to-month</td>\n",
       "      <td>Yes</td>\n",
       "      <td>Mailed check</td>\n",
       "      <td>53.85</td>\n",
       "      <td>226.17</td>\n",
       "      <td>0</td>\n",
       "      <td>123</td>\n",
       "    </tr>\n",
       "    <tr>\n",
       "      <th>3</th>\n",
       "      <td>7795-CFOCW</td>\n",
       "      <td>2016-05-01</td>\n",
       "      <td>No</td>\n",
       "      <td>One year</td>\n",
       "      <td>No</td>\n",
       "      <td>Bank transfer (automatic)</td>\n",
       "      <td>42.30</td>\n",
       "      <td>1960.60</td>\n",
       "      <td>0</td>\n",
       "      <td>1371</td>\n",
       "    </tr>\n",
       "    <tr>\n",
       "      <th>4</th>\n",
       "      <td>9237-HQITU</td>\n",
       "      <td>2019-09-01</td>\n",
       "      <td>No</td>\n",
       "      <td>Month-to-month</td>\n",
       "      <td>Yes</td>\n",
       "      <td>Electronic check</td>\n",
       "      <td>70.70</td>\n",
       "      <td>353.50</td>\n",
       "      <td>0</td>\n",
       "      <td>153</td>\n",
       "    </tr>\n",
       "    <tr>\n",
       "      <th>5</th>\n",
       "      <td>9305-CDSKC</td>\n",
       "      <td>2019-03-01</td>\n",
       "      <td>No</td>\n",
       "      <td>Month-to-month</td>\n",
       "      <td>Yes</td>\n",
       "      <td>Electronic check</td>\n",
       "      <td>99.65</td>\n",
       "      <td>1150.96</td>\n",
       "      <td>0</td>\n",
       "      <td>337</td>\n",
       "    </tr>\n",
       "    <tr>\n",
       "      <th>6</th>\n",
       "      <td>1452-KIOVK</td>\n",
       "      <td>2018-04-01</td>\n",
       "      <td>No</td>\n",
       "      <td>Month-to-month</td>\n",
       "      <td>Yes</td>\n",
       "      <td>Credit card (automatic)</td>\n",
       "      <td>89.10</td>\n",
       "      <td>2058.21</td>\n",
       "      <td>0</td>\n",
       "      <td>671</td>\n",
       "    </tr>\n",
       "    <tr>\n",
       "      <th>7</th>\n",
       "      <td>6713-OKOMC</td>\n",
       "      <td>2019-04-01</td>\n",
       "      <td>No</td>\n",
       "      <td>Month-to-month</td>\n",
       "      <td>No</td>\n",
       "      <td>Mailed check</td>\n",
       "      <td>29.75</td>\n",
       "      <td>300.48</td>\n",
       "      <td>0</td>\n",
       "      <td>306</td>\n",
       "    </tr>\n",
       "    <tr>\n",
       "      <th>8</th>\n",
       "      <td>7892-POOKP</td>\n",
       "      <td>2017-07-01</td>\n",
       "      <td>No</td>\n",
       "      <td>Month-to-month</td>\n",
       "      <td>Yes</td>\n",
       "      <td>Electronic check</td>\n",
       "      <td>104.80</td>\n",
       "      <td>3573.68</td>\n",
       "      <td>0</td>\n",
       "      <td>945</td>\n",
       "    </tr>\n",
       "    <tr>\n",
       "      <th>9</th>\n",
       "      <td>6388-TABGU</td>\n",
       "      <td>2014-12-01</td>\n",
       "      <td>2017-05-01</td>\n",
       "      <td>One year</td>\n",
       "      <td>No</td>\n",
       "      <td>Bank transfer (automatic)</td>\n",
       "      <td>56.15</td>\n",
       "      <td>1628.35</td>\n",
       "      <td>1</td>\n",
       "      <td>882</td>\n",
       "    </tr>\n",
       "    <tr>\n",
       "      <th>10</th>\n",
       "      <td>9763-GRSKD</td>\n",
       "      <td>2019-01-01</td>\n",
       "      <td>No</td>\n",
       "      <td>Month-to-month</td>\n",
       "      <td>Yes</td>\n",
       "      <td>Mailed check</td>\n",
       "      <td>49.95</td>\n",
       "      <td>649.35</td>\n",
       "      <td>0</td>\n",
       "      <td>396</td>\n",
       "    </tr>\n",
       "    <tr>\n",
       "      <th>11</th>\n",
       "      <td>7469-LKBCI</td>\n",
       "      <td>2018-10-01</td>\n",
       "      <td>No</td>\n",
       "      <td>Two year</td>\n",
       "      <td>No</td>\n",
       "      <td>Credit card (automatic)</td>\n",
       "      <td>18.95</td>\n",
       "      <td>312.30</td>\n",
       "      <td>0</td>\n",
       "      <td>488</td>\n",
       "    </tr>\n",
       "    <tr>\n",
       "      <th>12</th>\n",
       "      <td>8091-TTVAX</td>\n",
       "      <td>2015-04-01</td>\n",
       "      <td>No</td>\n",
       "      <td>One year</td>\n",
       "      <td>No</td>\n",
       "      <td>Credit card (automatic)</td>\n",
       "      <td>100.35</td>\n",
       "      <td>6111.31</td>\n",
       "      <td>0</td>\n",
       "      <td>1767</td>\n",
       "    </tr>\n",
       "    <tr>\n",
       "      <th>13</th>\n",
       "      <td>0280-XJGEX</td>\n",
       "      <td>2015-09-01</td>\n",
       "      <td>No</td>\n",
       "      <td>Month-to-month</td>\n",
       "      <td>Yes</td>\n",
       "      <td>Bank transfer (automatic)</td>\n",
       "      <td>103.70</td>\n",
       "      <td>5496.10</td>\n",
       "      <td>0</td>\n",
       "      <td>1614</td>\n",
       "    </tr>\n",
       "    <tr>\n",
       "      <th>14</th>\n",
       "      <td>5129-JLPIS</td>\n",
       "      <td>2018-01-01</td>\n",
       "      <td>No</td>\n",
       "      <td>Month-to-month</td>\n",
       "      <td>Yes</td>\n",
       "      <td>Electronic check</td>\n",
       "      <td>105.50</td>\n",
       "      <td>2637.50</td>\n",
       "      <td>0</td>\n",
       "      <td>761</td>\n",
       "    </tr>\n",
       "    <tr>\n",
       "      <th>15</th>\n",
       "      <td>3655-SNQYZ</td>\n",
       "      <td>2014-05-01</td>\n",
       "      <td>2016-03-01</td>\n",
       "      <td>Two year</td>\n",
       "      <td>No</td>\n",
       "      <td>Credit card (automatic)</td>\n",
       "      <td>113.25</td>\n",
       "      <td>2491.50</td>\n",
       "      <td>1</td>\n",
       "      <td>670</td>\n",
       "    </tr>\n",
       "    <tr>\n",
       "      <th>16</th>\n",
       "      <td>8191-XWSZG</td>\n",
       "      <td>2015-10-01</td>\n",
       "      <td>No</td>\n",
       "      <td>One year</td>\n",
       "      <td>No</td>\n",
       "      <td>Mailed check</td>\n",
       "      <td>20.65</td>\n",
       "      <td>1106.01</td>\n",
       "      <td>0</td>\n",
       "      <td>1584</td>\n",
       "    </tr>\n",
       "    <tr>\n",
       "      <th>17</th>\n",
       "      <td>9959-WOFKT</td>\n",
       "      <td>2014-03-01</td>\n",
       "      <td>No</td>\n",
       "      <td>Two year</td>\n",
       "      <td>No</td>\n",
       "      <td>Bank transfer (automatic)</td>\n",
       "      <td>106.70</td>\n",
       "      <td>8257.51</td>\n",
       "      <td>0</td>\n",
       "      <td>2163</td>\n",
       "    </tr>\n",
       "    <tr>\n",
       "      <th>18</th>\n",
       "      <td>4190-MFLUW</td>\n",
       "      <td>2019-01-01</td>\n",
       "      <td>No</td>\n",
       "      <td>Month-to-month</td>\n",
       "      <td>No</td>\n",
       "      <td>Credit card (automatic)</td>\n",
       "      <td>55.20</td>\n",
       "      <td>789.36</td>\n",
       "      <td>0</td>\n",
       "      <td>396</td>\n",
       "    </tr>\n",
       "    <tr>\n",
       "      <th>19</th>\n",
       "      <td>4183-MYFRB</td>\n",
       "      <td>2018-05-01</td>\n",
       "      <td>No</td>\n",
       "      <td>Month-to-month</td>\n",
       "      <td>Yes</td>\n",
       "      <td>Electronic check</td>\n",
       "      <td>90.05</td>\n",
       "      <td>1891.05</td>\n",
       "      <td>0</td>\n",
       "      <td>641</td>\n",
       "    </tr>\n",
       "  </tbody>\n",
       "</table>\n",
       "</div>"
      ],
      "text/plain": [
       "   customer_id begin_date    end_date            type paperless_billing  \\\n",
       "0   7590-VHVEG 2020-01-01          No  Month-to-month               Yes   \n",
       "1   5575-GNVDE 2017-04-01          No        One year                No   \n",
       "2   3668-QPYBK 2019-10-01          No  Month-to-month               Yes   \n",
       "3   7795-CFOCW 2016-05-01          No        One year                No   \n",
       "4   9237-HQITU 2019-09-01          No  Month-to-month               Yes   \n",
       "5   9305-CDSKC 2019-03-01          No  Month-to-month               Yes   \n",
       "6   1452-KIOVK 2018-04-01          No  Month-to-month               Yes   \n",
       "7   6713-OKOMC 2019-04-01          No  Month-to-month                No   \n",
       "8   7892-POOKP 2017-07-01          No  Month-to-month               Yes   \n",
       "9   6388-TABGU 2014-12-01  2017-05-01        One year                No   \n",
       "10  9763-GRSKD 2019-01-01          No  Month-to-month               Yes   \n",
       "11  7469-LKBCI 2018-10-01          No        Two year                No   \n",
       "12  8091-TTVAX 2015-04-01          No        One year                No   \n",
       "13  0280-XJGEX 2015-09-01          No  Month-to-month               Yes   \n",
       "14  5129-JLPIS 2018-01-01          No  Month-to-month               Yes   \n",
       "15  3655-SNQYZ 2014-05-01  2016-03-01        Two year                No   \n",
       "16  8191-XWSZG 2015-10-01          No        One year                No   \n",
       "17  9959-WOFKT 2014-03-01          No        Two year                No   \n",
       "18  4190-MFLUW 2019-01-01          No  Month-to-month                No   \n",
       "19  4183-MYFRB 2018-05-01          No  Month-to-month               Yes   \n",
       "\n",
       "               payment_method  monthly_charges  total_charges  target  \\\n",
       "0            Electronic check            29.85          31.04       0   \n",
       "1                Mailed check            56.95        2071.84       0   \n",
       "2                Mailed check            53.85         226.17       0   \n",
       "3   Bank transfer (automatic)            42.30        1960.60       0   \n",
       "4            Electronic check            70.70         353.50       0   \n",
       "5            Electronic check            99.65        1150.96       0   \n",
       "6     Credit card (automatic)            89.10        2058.21       0   \n",
       "7                Mailed check            29.75         300.48       0   \n",
       "8            Electronic check           104.80        3573.68       0   \n",
       "9   Bank transfer (automatic)            56.15        1628.35       1   \n",
       "10               Mailed check            49.95         649.35       0   \n",
       "11    Credit card (automatic)            18.95         312.30       0   \n",
       "12    Credit card (automatic)           100.35        6111.31       0   \n",
       "13  Bank transfer (automatic)           103.70        5496.10       0   \n",
       "14           Electronic check           105.50        2637.50       0   \n",
       "15    Credit card (automatic)           113.25        2491.50       1   \n",
       "16               Mailed check            20.65        1106.01       0   \n",
       "17  Bank transfer (automatic)           106.70        8257.51       0   \n",
       "18    Credit card (automatic)            55.20         789.36       0   \n",
       "19           Electronic check            90.05        1891.05       0   \n",
       "\n",
       "    contract_lifetime  \n",
       "0                  31  \n",
       "1                1036  \n",
       "2                 123  \n",
       "3                1371  \n",
       "4                 153  \n",
       "5                 337  \n",
       "6                 671  \n",
       "7                 306  \n",
       "8                 945  \n",
       "9                 882  \n",
       "10                396  \n",
       "11                488  \n",
       "12               1767  \n",
       "13               1614  \n",
       "14                761  \n",
       "15                670  \n",
       "16               1584  \n",
       "17               2163  \n",
       "18                396  \n",
       "19                641  "
      ]
     },
     "execution_count": 49,
     "metadata": {},
     "output_type": "execute_result"
    }
   ],
   "source": [
    "dc.head(20)"
   ]
  },
  {
   "cell_type": "code",
   "execution_count": 51,
   "id": "9148bc7e",
   "metadata": {},
   "outputs": [],
   "source": [
    "dc['paperless_billing'] =  pd.to_numeric(dc['paperless_billing'], errors='coerce')"
   ]
  },
  {
   "cell_type": "code",
   "execution_count": 52,
   "id": "8df8a5f3",
   "metadata": {},
   "outputs": [
    {
     "data": {
      "text/html": [
       "<div>\n",
       "<style scoped>\n",
       "    .dataframe tbody tr th:only-of-type {\n",
       "        vertical-align: middle;\n",
       "    }\n",
       "\n",
       "    .dataframe tbody tr th {\n",
       "        vertical-align: top;\n",
       "    }\n",
       "\n",
       "    .dataframe thead th {\n",
       "        text-align: right;\n",
       "    }\n",
       "</style>\n",
       "<table border=\"1\" class=\"dataframe\">\n",
       "  <thead>\n",
       "    <tr style=\"text-align: right;\">\n",
       "      <th></th>\n",
       "      <th>customer_id</th>\n",
       "      <th>begin_date</th>\n",
       "      <th>end_date</th>\n",
       "      <th>type</th>\n",
       "      <th>paperless_billing</th>\n",
       "      <th>payment_method</th>\n",
       "      <th>monthly_charges</th>\n",
       "      <th>total_charges</th>\n",
       "      <th>target</th>\n",
       "      <th>contract_lifetime</th>\n",
       "    </tr>\n",
       "  </thead>\n",
       "  <tbody>\n",
       "    <tr>\n",
       "      <th>0</th>\n",
       "      <td>7590-VHVEG</td>\n",
       "      <td>2020-01-01</td>\n",
       "      <td>No</td>\n",
       "      <td>Month-to-month</td>\n",
       "      <td>NaN</td>\n",
       "      <td>Electronic check</td>\n",
       "      <td>29.85</td>\n",
       "      <td>31.04</td>\n",
       "      <td>0</td>\n",
       "      <td>31</td>\n",
       "    </tr>\n",
       "    <tr>\n",
       "      <th>1</th>\n",
       "      <td>5575-GNVDE</td>\n",
       "      <td>2017-04-01</td>\n",
       "      <td>No</td>\n",
       "      <td>One year</td>\n",
       "      <td>NaN</td>\n",
       "      <td>Mailed check</td>\n",
       "      <td>56.95</td>\n",
       "      <td>2071.84</td>\n",
       "      <td>0</td>\n",
       "      <td>1036</td>\n",
       "    </tr>\n",
       "    <tr>\n",
       "      <th>2</th>\n",
       "      <td>3668-QPYBK</td>\n",
       "      <td>2019-10-01</td>\n",
       "      <td>No</td>\n",
       "      <td>Month-to-month</td>\n",
       "      <td>NaN</td>\n",
       "      <td>Mailed check</td>\n",
       "      <td>53.85</td>\n",
       "      <td>226.17</td>\n",
       "      <td>0</td>\n",
       "      <td>123</td>\n",
       "    </tr>\n",
       "    <tr>\n",
       "      <th>3</th>\n",
       "      <td>7795-CFOCW</td>\n",
       "      <td>2016-05-01</td>\n",
       "      <td>No</td>\n",
       "      <td>One year</td>\n",
       "      <td>NaN</td>\n",
       "      <td>Bank transfer (automatic)</td>\n",
       "      <td>42.30</td>\n",
       "      <td>1960.60</td>\n",
       "      <td>0</td>\n",
       "      <td>1371</td>\n",
       "    </tr>\n",
       "    <tr>\n",
       "      <th>4</th>\n",
       "      <td>9237-HQITU</td>\n",
       "      <td>2019-09-01</td>\n",
       "      <td>No</td>\n",
       "      <td>Month-to-month</td>\n",
       "      <td>NaN</td>\n",
       "      <td>Electronic check</td>\n",
       "      <td>70.70</td>\n",
       "      <td>353.50</td>\n",
       "      <td>0</td>\n",
       "      <td>153</td>\n",
       "    </tr>\n",
       "    <tr>\n",
       "      <th>5</th>\n",
       "      <td>9305-CDSKC</td>\n",
       "      <td>2019-03-01</td>\n",
       "      <td>No</td>\n",
       "      <td>Month-to-month</td>\n",
       "      <td>NaN</td>\n",
       "      <td>Electronic check</td>\n",
       "      <td>99.65</td>\n",
       "      <td>1150.96</td>\n",
       "      <td>0</td>\n",
       "      <td>337</td>\n",
       "    </tr>\n",
       "    <tr>\n",
       "      <th>6</th>\n",
       "      <td>1452-KIOVK</td>\n",
       "      <td>2018-04-01</td>\n",
       "      <td>No</td>\n",
       "      <td>Month-to-month</td>\n",
       "      <td>NaN</td>\n",
       "      <td>Credit card (automatic)</td>\n",
       "      <td>89.10</td>\n",
       "      <td>2058.21</td>\n",
       "      <td>0</td>\n",
       "      <td>671</td>\n",
       "    </tr>\n",
       "    <tr>\n",
       "      <th>7</th>\n",
       "      <td>6713-OKOMC</td>\n",
       "      <td>2019-04-01</td>\n",
       "      <td>No</td>\n",
       "      <td>Month-to-month</td>\n",
       "      <td>NaN</td>\n",
       "      <td>Mailed check</td>\n",
       "      <td>29.75</td>\n",
       "      <td>300.48</td>\n",
       "      <td>0</td>\n",
       "      <td>306</td>\n",
       "    </tr>\n",
       "    <tr>\n",
       "      <th>8</th>\n",
       "      <td>7892-POOKP</td>\n",
       "      <td>2017-07-01</td>\n",
       "      <td>No</td>\n",
       "      <td>Month-to-month</td>\n",
       "      <td>NaN</td>\n",
       "      <td>Electronic check</td>\n",
       "      <td>104.80</td>\n",
       "      <td>3573.68</td>\n",
       "      <td>0</td>\n",
       "      <td>945</td>\n",
       "    </tr>\n",
       "    <tr>\n",
       "      <th>9</th>\n",
       "      <td>6388-TABGU</td>\n",
       "      <td>2014-12-01</td>\n",
       "      <td>2017-05-01</td>\n",
       "      <td>One year</td>\n",
       "      <td>NaN</td>\n",
       "      <td>Bank transfer (automatic)</td>\n",
       "      <td>56.15</td>\n",
       "      <td>1628.35</td>\n",
       "      <td>1</td>\n",
       "      <td>882</td>\n",
       "    </tr>\n",
       "    <tr>\n",
       "      <th>10</th>\n",
       "      <td>9763-GRSKD</td>\n",
       "      <td>2019-01-01</td>\n",
       "      <td>No</td>\n",
       "      <td>Month-to-month</td>\n",
       "      <td>NaN</td>\n",
       "      <td>Mailed check</td>\n",
       "      <td>49.95</td>\n",
       "      <td>649.35</td>\n",
       "      <td>0</td>\n",
       "      <td>396</td>\n",
       "    </tr>\n",
       "    <tr>\n",
       "      <th>11</th>\n",
       "      <td>7469-LKBCI</td>\n",
       "      <td>2018-10-01</td>\n",
       "      <td>No</td>\n",
       "      <td>Two year</td>\n",
       "      <td>NaN</td>\n",
       "      <td>Credit card (automatic)</td>\n",
       "      <td>18.95</td>\n",
       "      <td>312.30</td>\n",
       "      <td>0</td>\n",
       "      <td>488</td>\n",
       "    </tr>\n",
       "    <tr>\n",
       "      <th>12</th>\n",
       "      <td>8091-TTVAX</td>\n",
       "      <td>2015-04-01</td>\n",
       "      <td>No</td>\n",
       "      <td>One year</td>\n",
       "      <td>NaN</td>\n",
       "      <td>Credit card (automatic)</td>\n",
       "      <td>100.35</td>\n",
       "      <td>6111.31</td>\n",
       "      <td>0</td>\n",
       "      <td>1767</td>\n",
       "    </tr>\n",
       "    <tr>\n",
       "      <th>13</th>\n",
       "      <td>0280-XJGEX</td>\n",
       "      <td>2015-09-01</td>\n",
       "      <td>No</td>\n",
       "      <td>Month-to-month</td>\n",
       "      <td>NaN</td>\n",
       "      <td>Bank transfer (automatic)</td>\n",
       "      <td>103.70</td>\n",
       "      <td>5496.10</td>\n",
       "      <td>0</td>\n",
       "      <td>1614</td>\n",
       "    </tr>\n",
       "    <tr>\n",
       "      <th>14</th>\n",
       "      <td>5129-JLPIS</td>\n",
       "      <td>2018-01-01</td>\n",
       "      <td>No</td>\n",
       "      <td>Month-to-month</td>\n",
       "      <td>NaN</td>\n",
       "      <td>Electronic check</td>\n",
       "      <td>105.50</td>\n",
       "      <td>2637.50</td>\n",
       "      <td>0</td>\n",
       "      <td>761</td>\n",
       "    </tr>\n",
       "    <tr>\n",
       "      <th>15</th>\n",
       "      <td>3655-SNQYZ</td>\n",
       "      <td>2014-05-01</td>\n",
       "      <td>2016-03-01</td>\n",
       "      <td>Two year</td>\n",
       "      <td>NaN</td>\n",
       "      <td>Credit card (automatic)</td>\n",
       "      <td>113.25</td>\n",
       "      <td>2491.50</td>\n",
       "      <td>1</td>\n",
       "      <td>670</td>\n",
       "    </tr>\n",
       "    <tr>\n",
       "      <th>16</th>\n",
       "      <td>8191-XWSZG</td>\n",
       "      <td>2015-10-01</td>\n",
       "      <td>No</td>\n",
       "      <td>One year</td>\n",
       "      <td>NaN</td>\n",
       "      <td>Mailed check</td>\n",
       "      <td>20.65</td>\n",
       "      <td>1106.01</td>\n",
       "      <td>0</td>\n",
       "      <td>1584</td>\n",
       "    </tr>\n",
       "    <tr>\n",
       "      <th>17</th>\n",
       "      <td>9959-WOFKT</td>\n",
       "      <td>2014-03-01</td>\n",
       "      <td>No</td>\n",
       "      <td>Two year</td>\n",
       "      <td>NaN</td>\n",
       "      <td>Bank transfer (automatic)</td>\n",
       "      <td>106.70</td>\n",
       "      <td>8257.51</td>\n",
       "      <td>0</td>\n",
       "      <td>2163</td>\n",
       "    </tr>\n",
       "    <tr>\n",
       "      <th>18</th>\n",
       "      <td>4190-MFLUW</td>\n",
       "      <td>2019-01-01</td>\n",
       "      <td>No</td>\n",
       "      <td>Month-to-month</td>\n",
       "      <td>NaN</td>\n",
       "      <td>Credit card (automatic)</td>\n",
       "      <td>55.20</td>\n",
       "      <td>789.36</td>\n",
       "      <td>0</td>\n",
       "      <td>396</td>\n",
       "    </tr>\n",
       "    <tr>\n",
       "      <th>19</th>\n",
       "      <td>4183-MYFRB</td>\n",
       "      <td>2018-05-01</td>\n",
       "      <td>No</td>\n",
       "      <td>Month-to-month</td>\n",
       "      <td>NaN</td>\n",
       "      <td>Electronic check</td>\n",
       "      <td>90.05</td>\n",
       "      <td>1891.05</td>\n",
       "      <td>0</td>\n",
       "      <td>641</td>\n",
       "    </tr>\n",
       "  </tbody>\n",
       "</table>\n",
       "</div>"
      ],
      "text/plain": [
       "   customer_id begin_date    end_date            type  paperless_billing  \\\n",
       "0   7590-VHVEG 2020-01-01          No  Month-to-month                NaN   \n",
       "1   5575-GNVDE 2017-04-01          No        One year                NaN   \n",
       "2   3668-QPYBK 2019-10-01          No  Month-to-month                NaN   \n",
       "3   7795-CFOCW 2016-05-01          No        One year                NaN   \n",
       "4   9237-HQITU 2019-09-01          No  Month-to-month                NaN   \n",
       "5   9305-CDSKC 2019-03-01          No  Month-to-month                NaN   \n",
       "6   1452-KIOVK 2018-04-01          No  Month-to-month                NaN   \n",
       "7   6713-OKOMC 2019-04-01          No  Month-to-month                NaN   \n",
       "8   7892-POOKP 2017-07-01          No  Month-to-month                NaN   \n",
       "9   6388-TABGU 2014-12-01  2017-05-01        One year                NaN   \n",
       "10  9763-GRSKD 2019-01-01          No  Month-to-month                NaN   \n",
       "11  7469-LKBCI 2018-10-01          No        Two year                NaN   \n",
       "12  8091-TTVAX 2015-04-01          No        One year                NaN   \n",
       "13  0280-XJGEX 2015-09-01          No  Month-to-month                NaN   \n",
       "14  5129-JLPIS 2018-01-01          No  Month-to-month                NaN   \n",
       "15  3655-SNQYZ 2014-05-01  2016-03-01        Two year                NaN   \n",
       "16  8191-XWSZG 2015-10-01          No        One year                NaN   \n",
       "17  9959-WOFKT 2014-03-01          No        Two year                NaN   \n",
       "18  4190-MFLUW 2019-01-01          No  Month-to-month                NaN   \n",
       "19  4183-MYFRB 2018-05-01          No  Month-to-month                NaN   \n",
       "\n",
       "               payment_method  monthly_charges  total_charges  target  \\\n",
       "0            Electronic check            29.85          31.04       0   \n",
       "1                Mailed check            56.95        2071.84       0   \n",
       "2                Mailed check            53.85         226.17       0   \n",
       "3   Bank transfer (automatic)            42.30        1960.60       0   \n",
       "4            Electronic check            70.70         353.50       0   \n",
       "5            Electronic check            99.65        1150.96       0   \n",
       "6     Credit card (automatic)            89.10        2058.21       0   \n",
       "7                Mailed check            29.75         300.48       0   \n",
       "8            Electronic check           104.80        3573.68       0   \n",
       "9   Bank transfer (automatic)            56.15        1628.35       1   \n",
       "10               Mailed check            49.95         649.35       0   \n",
       "11    Credit card (automatic)            18.95         312.30       0   \n",
       "12    Credit card (automatic)           100.35        6111.31       0   \n",
       "13  Bank transfer (automatic)           103.70        5496.10       0   \n",
       "14           Electronic check           105.50        2637.50       0   \n",
       "15    Credit card (automatic)           113.25        2491.50       1   \n",
       "16               Mailed check            20.65        1106.01       0   \n",
       "17  Bank transfer (automatic)           106.70        8257.51       0   \n",
       "18    Credit card (automatic)            55.20         789.36       0   \n",
       "19           Electronic check            90.05        1891.05       0   \n",
       "\n",
       "    contract_lifetime  \n",
       "0                  31  \n",
       "1                1036  \n",
       "2                 123  \n",
       "3                1371  \n",
       "4                 153  \n",
       "5                 337  \n",
       "6                 671  \n",
       "7                 306  \n",
       "8                 945  \n",
       "9                 882  \n",
       "10                396  \n",
       "11                488  \n",
       "12               1767  \n",
       "13               1614  \n",
       "14                761  \n",
       "15                670  \n",
       "16               1584  \n",
       "17               2163  \n",
       "18                396  \n",
       "19                641  "
      ]
     },
     "execution_count": 52,
     "metadata": {},
     "output_type": "execute_result"
    }
   ],
   "source": [
    "dc.head(20)"
   ]
  },
  {
   "cell_type": "markdown",
   "id": "106a2349",
   "metadata": {},
   "source": [
    "Числовые значения присутствуют только в dc, поэтому описание данных извлекается из нее"
   ]
  },
  {
   "cell_type": "code",
   "execution_count": 39,
   "id": "52600f02",
   "metadata": {
    "scrolled": true
   },
   "outputs": [
    {
     "data": {
      "text/html": [
       "<div>\n",
       "<style scoped>\n",
       "    .dataframe tbody tr th:only-of-type {\n",
       "        vertical-align: middle;\n",
       "    }\n",
       "\n",
       "    .dataframe tbody tr th {\n",
       "        vertical-align: top;\n",
       "    }\n",
       "\n",
       "    .dataframe thead th {\n",
       "        text-align: right;\n",
       "    }\n",
       "</style>\n",
       "<table border=\"1\" class=\"dataframe\">\n",
       "  <thead>\n",
       "    <tr style=\"text-align: right;\">\n",
       "      <th></th>\n",
       "      <th>monthly_charges</th>\n",
       "      <th>total_charges</th>\n",
       "      <th>target</th>\n",
       "      <th>contract_lifetime</th>\n",
       "    </tr>\n",
       "  </thead>\n",
       "  <tbody>\n",
       "    <tr>\n",
       "      <th>count</th>\n",
       "      <td>7032.000000</td>\n",
       "      <td>7032.000000</td>\n",
       "      <td>7032.000000</td>\n",
       "      <td>7032.000000</td>\n",
       "    </tr>\n",
       "    <tr>\n",
       "      <th>mean</th>\n",
       "      <td>64.798208</td>\n",
       "      <td>2118.621822</td>\n",
       "      <td>0.156570</td>\n",
       "      <td>899.961320</td>\n",
       "    </tr>\n",
       "    <tr>\n",
       "      <th>std</th>\n",
       "      <td>30.085974</td>\n",
       "      <td>2112.736199</td>\n",
       "      <td>0.363421</td>\n",
       "      <td>682.738777</td>\n",
       "    </tr>\n",
       "    <tr>\n",
       "      <th>min</th>\n",
       "      <td>18.250000</td>\n",
       "      <td>19.050000</td>\n",
       "      <td>0.000000</td>\n",
       "      <td>28.000000</td>\n",
       "    </tr>\n",
       "    <tr>\n",
       "      <th>25%</th>\n",
       "      <td>35.587500</td>\n",
       "      <td>439.745000</td>\n",
       "      <td>0.000000</td>\n",
       "      <td>276.000000</td>\n",
       "    </tr>\n",
       "    <tr>\n",
       "      <th>50%</th>\n",
       "      <td>70.350000</td>\n",
       "      <td>1345.275000</td>\n",
       "      <td>0.000000</td>\n",
       "      <td>761.000000</td>\n",
       "    </tr>\n",
       "    <tr>\n",
       "      <th>75%</th>\n",
       "      <td>89.862500</td>\n",
       "      <td>3239.317500</td>\n",
       "      <td>0.000000</td>\n",
       "      <td>1461.000000</td>\n",
       "    </tr>\n",
       "    <tr>\n",
       "      <th>max</th>\n",
       "      <td>118.750000</td>\n",
       "      <td>9221.380000</td>\n",
       "      <td>1.000000</td>\n",
       "      <td>2314.000000</td>\n",
       "    </tr>\n",
       "  </tbody>\n",
       "</table>\n",
       "</div>"
      ],
      "text/plain": [
       "       monthly_charges  total_charges       target  contract_lifetime\n",
       "count      7032.000000    7032.000000  7032.000000        7032.000000\n",
       "mean         64.798208    2118.621822     0.156570         899.961320\n",
       "std          30.085974    2112.736199     0.363421         682.738777\n",
       "min          18.250000      19.050000     0.000000          28.000000\n",
       "25%          35.587500     439.745000     0.000000         276.000000\n",
       "50%          70.350000    1345.275000     0.000000         761.000000\n",
       "75%          89.862500    3239.317500     0.000000        1461.000000\n",
       "max         118.750000    9221.380000     1.000000        2314.000000"
      ]
     },
     "execution_count": 39,
     "metadata": {},
     "output_type": "execute_result"
    }
   ],
   "source": [
    "dc.describe()"
   ]
  },
  {
   "cell_type": "markdown",
   "id": "816ce985",
   "metadata": {},
   "source": [
    "Аномальных значений в описании данных не наблюдается"
   ]
  },
  {
   "cell_type": "markdown",
   "id": "3c09d184",
   "metadata": {},
   "source": [
    "### Объединение таблиц"
   ]
  },
  {
   "cell_type": "code",
   "execution_count": 40,
   "id": "adb4bd4c",
   "metadata": {},
   "outputs": [],
   "source": [
    "df_01 = pd.merge(dp, dc, how='inner') "
   ]
  },
  {
   "cell_type": "code",
   "execution_count": 41,
   "id": "ae52abf1",
   "metadata": {},
   "outputs": [],
   "source": [
    "df_02 = pd.merge(df_01,di,how='left')"
   ]
  },
  {
   "cell_type": "code",
   "execution_count": 42,
   "id": "d3a2cd8b",
   "metadata": {},
   "outputs": [],
   "source": [
    "df = pd.merge(df_02,dph,how='left')"
   ]
  },
  {
   "cell_type": "code",
   "execution_count": 43,
   "id": "574854b5",
   "metadata": {},
   "outputs": [
    {
     "name": "stdout",
     "output_type": "stream",
     "text": [
      "<class 'pandas.core.frame.DataFrame'>\n",
      "Int64Index: 7032 entries, 0 to 7031\n",
      "Data columns (total 22 columns):\n",
      " #   Column             Non-Null Count  Dtype         \n",
      "---  ------             --------------  -----         \n",
      " 0   customer_id        7032 non-null   object        \n",
      " 1   gender             7032 non-null   object        \n",
      " 2   senior_citizen     7032 non-null   int64         \n",
      " 3   partner            7032 non-null   object        \n",
      " 4   dependents         7032 non-null   object        \n",
      " 5   begin_date         7032 non-null   datetime64[ns]\n",
      " 6   end_date           7032 non-null   object        \n",
      " 7   type               7032 non-null   object        \n",
      " 8   paperless_billing  7032 non-null   object        \n",
      " 9   payment_method     7032 non-null   object        \n",
      " 10  monthly_charges    7032 non-null   float64       \n",
      " 11  total_charges      7032 non-null   float64       \n",
      " 12  target             7032 non-null   int64         \n",
      " 13  contract_lifetime  7032 non-null   int64         \n",
      " 14  internet_service   5512 non-null   object        \n",
      " 15  online_security    5512 non-null   object        \n",
      " 16  online_backup      5512 non-null   object        \n",
      " 17  device_protection  5512 non-null   object        \n",
      " 18  tech_support       5512 non-null   object        \n",
      " 19  streaming_tv       5512 non-null   object        \n",
      " 20  streaming_movies   5512 non-null   object        \n",
      " 21  multiple_lines     6352 non-null   object        \n",
      "dtypes: datetime64[ns](1), float64(2), int64(3), object(16)\n",
      "memory usage: 1.2+ MB\n"
     ]
    }
   ],
   "source": [
    "df.info()"
   ]
  },
  {
   "cell_type": "code",
   "execution_count": 44,
   "id": "ec232e19",
   "metadata": {},
   "outputs": [
    {
     "data": {
      "text/html": [
       "<div>\n",
       "<style scoped>\n",
       "    .dataframe tbody tr th:only-of-type {\n",
       "        vertical-align: middle;\n",
       "    }\n",
       "\n",
       "    .dataframe tbody tr th {\n",
       "        vertical-align: top;\n",
       "    }\n",
       "\n",
       "    .dataframe thead th {\n",
       "        text-align: right;\n",
       "    }\n",
       "</style>\n",
       "<table border=\"1\" class=\"dataframe\">\n",
       "  <thead>\n",
       "    <tr style=\"text-align: right;\">\n",
       "      <th></th>\n",
       "      <th>customer_id</th>\n",
       "      <th>gender</th>\n",
       "      <th>senior_citizen</th>\n",
       "      <th>partner</th>\n",
       "      <th>dependents</th>\n",
       "      <th>begin_date</th>\n",
       "      <th>end_date</th>\n",
       "      <th>type</th>\n",
       "      <th>paperless_billing</th>\n",
       "      <th>payment_method</th>\n",
       "      <th>...</th>\n",
       "      <th>target</th>\n",
       "      <th>contract_lifetime</th>\n",
       "      <th>internet_service</th>\n",
       "      <th>online_security</th>\n",
       "      <th>online_backup</th>\n",
       "      <th>device_protection</th>\n",
       "      <th>tech_support</th>\n",
       "      <th>streaming_tv</th>\n",
       "      <th>streaming_movies</th>\n",
       "      <th>multiple_lines</th>\n",
       "    </tr>\n",
       "  </thead>\n",
       "  <tbody>\n",
       "    <tr>\n",
       "      <th>0</th>\n",
       "      <td>7590-VHVEG</td>\n",
       "      <td>Female</td>\n",
       "      <td>0</td>\n",
       "      <td>Yes</td>\n",
       "      <td>No</td>\n",
       "      <td>2020-01-01</td>\n",
       "      <td>No</td>\n",
       "      <td>Month-to-month</td>\n",
       "      <td>Yes</td>\n",
       "      <td>Electronic check</td>\n",
       "      <td>...</td>\n",
       "      <td>0</td>\n",
       "      <td>31</td>\n",
       "      <td>DSL</td>\n",
       "      <td>No</td>\n",
       "      <td>Yes</td>\n",
       "      <td>No</td>\n",
       "      <td>No</td>\n",
       "      <td>No</td>\n",
       "      <td>No</td>\n",
       "      <td>NaN</td>\n",
       "    </tr>\n",
       "    <tr>\n",
       "      <th>1</th>\n",
       "      <td>5575-GNVDE</td>\n",
       "      <td>Male</td>\n",
       "      <td>0</td>\n",
       "      <td>No</td>\n",
       "      <td>No</td>\n",
       "      <td>2017-04-01</td>\n",
       "      <td>No</td>\n",
       "      <td>One year</td>\n",
       "      <td>No</td>\n",
       "      <td>Mailed check</td>\n",
       "      <td>...</td>\n",
       "      <td>0</td>\n",
       "      <td>1036</td>\n",
       "      <td>DSL</td>\n",
       "      <td>Yes</td>\n",
       "      <td>No</td>\n",
       "      <td>Yes</td>\n",
       "      <td>No</td>\n",
       "      <td>No</td>\n",
       "      <td>No</td>\n",
       "      <td>No</td>\n",
       "    </tr>\n",
       "    <tr>\n",
       "      <th>2</th>\n",
       "      <td>3668-QPYBK</td>\n",
       "      <td>Male</td>\n",
       "      <td>0</td>\n",
       "      <td>No</td>\n",
       "      <td>No</td>\n",
       "      <td>2019-10-01</td>\n",
       "      <td>No</td>\n",
       "      <td>Month-to-month</td>\n",
       "      <td>Yes</td>\n",
       "      <td>Mailed check</td>\n",
       "      <td>...</td>\n",
       "      <td>0</td>\n",
       "      <td>123</td>\n",
       "      <td>DSL</td>\n",
       "      <td>Yes</td>\n",
       "      <td>Yes</td>\n",
       "      <td>No</td>\n",
       "      <td>No</td>\n",
       "      <td>No</td>\n",
       "      <td>No</td>\n",
       "      <td>No</td>\n",
       "    </tr>\n",
       "    <tr>\n",
       "      <th>3</th>\n",
       "      <td>7795-CFOCW</td>\n",
       "      <td>Male</td>\n",
       "      <td>0</td>\n",
       "      <td>No</td>\n",
       "      <td>No</td>\n",
       "      <td>2016-05-01</td>\n",
       "      <td>No</td>\n",
       "      <td>One year</td>\n",
       "      <td>No</td>\n",
       "      <td>Bank transfer (automatic)</td>\n",
       "      <td>...</td>\n",
       "      <td>0</td>\n",
       "      <td>1371</td>\n",
       "      <td>DSL</td>\n",
       "      <td>Yes</td>\n",
       "      <td>No</td>\n",
       "      <td>Yes</td>\n",
       "      <td>Yes</td>\n",
       "      <td>No</td>\n",
       "      <td>No</td>\n",
       "      <td>NaN</td>\n",
       "    </tr>\n",
       "    <tr>\n",
       "      <th>4</th>\n",
       "      <td>9237-HQITU</td>\n",
       "      <td>Female</td>\n",
       "      <td>0</td>\n",
       "      <td>No</td>\n",
       "      <td>No</td>\n",
       "      <td>2019-09-01</td>\n",
       "      <td>No</td>\n",
       "      <td>Month-to-month</td>\n",
       "      <td>Yes</td>\n",
       "      <td>Electronic check</td>\n",
       "      <td>...</td>\n",
       "      <td>0</td>\n",
       "      <td>153</td>\n",
       "      <td>Fiber optic</td>\n",
       "      <td>No</td>\n",
       "      <td>No</td>\n",
       "      <td>No</td>\n",
       "      <td>No</td>\n",
       "      <td>No</td>\n",
       "      <td>No</td>\n",
       "      <td>No</td>\n",
       "    </tr>\n",
       "  </tbody>\n",
       "</table>\n",
       "<p>5 rows × 22 columns</p>\n",
       "</div>"
      ],
      "text/plain": [
       "  customer_id  gender  senior_citizen partner dependents begin_date end_date  \\\n",
       "0  7590-VHVEG  Female               0     Yes         No 2020-01-01       No   \n",
       "1  5575-GNVDE    Male               0      No         No 2017-04-01       No   \n",
       "2  3668-QPYBK    Male               0      No         No 2019-10-01       No   \n",
       "3  7795-CFOCW    Male               0      No         No 2016-05-01       No   \n",
       "4  9237-HQITU  Female               0      No         No 2019-09-01       No   \n",
       "\n",
       "             type paperless_billing             payment_method  ...  target  \\\n",
       "0  Month-to-month               Yes           Electronic check  ...       0   \n",
       "1        One year                No               Mailed check  ...       0   \n",
       "2  Month-to-month               Yes               Mailed check  ...       0   \n",
       "3        One year                No  Bank transfer (automatic)  ...       0   \n",
       "4  Month-to-month               Yes           Electronic check  ...       0   \n",
       "\n",
       "   contract_lifetime  internet_service  online_security online_backup  \\\n",
       "0                 31               DSL               No           Yes   \n",
       "1               1036               DSL              Yes            No   \n",
       "2                123               DSL              Yes           Yes   \n",
       "3               1371               DSL              Yes            No   \n",
       "4                153       Fiber optic               No            No   \n",
       "\n",
       "  device_protection tech_support streaming_tv streaming_movies multiple_lines  \n",
       "0                No           No           No               No            NaN  \n",
       "1               Yes           No           No               No             No  \n",
       "2                No           No           No               No             No  \n",
       "3               Yes          Yes           No               No            NaN  \n",
       "4                No           No           No               No             No  \n",
       "\n",
       "[5 rows x 22 columns]"
      ]
     },
     "execution_count": 44,
     "metadata": {},
     "output_type": "execute_result"
    }
   ],
   "source": [
    "df.head()"
   ]
  },
  {
   "cell_type": "code",
   "execution_count": 45,
   "id": "de7bcede",
   "metadata": {},
   "outputs": [
    {
     "data": {
      "text/plain": [
       "0"
      ]
     },
     "execution_count": 45,
     "metadata": {},
     "output_type": "execute_result"
    }
   ],
   "source": [
    "df.duplicated(['customer_id']).sum()"
   ]
  },
  {
   "cell_type": "code",
   "execution_count": 46,
   "id": "0f7be8b1",
   "metadata": {},
   "outputs": [
    {
     "data": {
      "text/plain": [
       "customer_id             0\n",
       "gender                  0\n",
       "senior_citizen          0\n",
       "partner                 0\n",
       "dependents              0\n",
       "begin_date              0\n",
       "end_date                0\n",
       "type                    0\n",
       "paperless_billing       0\n",
       "payment_method          0\n",
       "monthly_charges         0\n",
       "total_charges           0\n",
       "target                  0\n",
       "contract_lifetime       0\n",
       "internet_service     1520\n",
       "online_security      1520\n",
       "online_backup        1520\n",
       "device_protection    1520\n",
       "tech_support         1520\n",
       "streaming_tv         1520\n",
       "streaming_movies     1520\n",
       "multiple_lines        680\n",
       "dtype: int64"
      ]
     },
     "execution_count": 46,
     "metadata": {},
     "output_type": "execute_result"
    }
   ],
   "source": [
    "df.isna().sum()"
   ]
  },
  {
   "cell_type": "markdown",
   "id": "5e6dac8f",
   "metadata": {},
   "source": [
    "https://www.dmitrymakarov.ru/intro/classification-15/#13-otvety-na-voprosy\n",
    "https://www.dmitrymakarov.ru/data-analysis/encoding-10/?ysclid=lj6wbcv31t42869573#9-onehotencoding\n",
    "Фильтрация\n",
    "https://proglib.io/p/postroenie-i-otbor-priznakov-chast-2-feature-selection-2021-09-25?ysclid=lj6pp5ljeq210206572\n"
   ]
  }
 ],
 "metadata": {
  "kernelspec": {
   "display_name": "Python 3 (ipykernel)",
   "language": "python",
   "name": "python3"
  },
  "language_info": {
   "codemirror_mode": {
    "name": "ipython",
    "version": 3
   },
   "file_extension": ".py",
   "mimetype": "text/x-python",
   "name": "python",
   "nbconvert_exporter": "python",
   "pygments_lexer": "ipython3",
   "version": "3.10.9"
  }
 },
 "nbformat": 4,
 "nbformat_minor": 5
}
